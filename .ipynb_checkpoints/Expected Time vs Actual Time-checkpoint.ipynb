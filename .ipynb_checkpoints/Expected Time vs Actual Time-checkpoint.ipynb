{
 "cells": [
  {
   "cell_type": "code",
   "execution_count": 20,
   "metadata": {},
   "outputs": [
    {
     "data": {
      "text/html": [
       "\n",
       "    <div class=\"bk-root\">\n",
       "        <a href=\"http://bokeh.pydata.org\" target=\"_blank\" class=\"bk-logo bk-logo-small bk-logo-notebook\"></a>\n",
       "        <span id=\"cadabff3-199c-431e-a390-237b0eb3b92a\">Loading BokehJS ...</span>\n",
       "    </div>"
      ]
     },
     "metadata": {},
     "output_type": "display_data"
    },
    {
     "data": {
      "application/javascript": [
       "\n",
       "(function(global) {\n",
       "  function now() {\n",
       "    return new Date();\n",
       "  }\n",
       "\n",
       "  var force = true;\n",
       "\n",
       "  if (typeof (window._bokeh_onload_callbacks) === \"undefined\" || force === true) {\n",
       "    window._bokeh_onload_callbacks = [];\n",
       "    window._bokeh_is_loading = undefined;\n",
       "  }\n",
       "\n",
       "\n",
       "  \n",
       "  if (typeof (window._bokeh_timeout) === \"undefined\" || force === true) {\n",
       "    window._bokeh_timeout = Date.now() + 5000;\n",
       "    window._bokeh_failed_load = false;\n",
       "  }\n",
       "\n",
       "  var NB_LOAD_WARNING = {'data': {'text/html':\n",
       "     \"<div style='background-color: #fdd'>\\n\"+\n",
       "     \"<p>\\n\"+\n",
       "     \"BokehJS does not appear to have successfully loaded. If loading BokehJS from CDN, this \\n\"+\n",
       "     \"may be due to a slow or bad network connection. Possible fixes:\\n\"+\n",
       "     \"</p>\\n\"+\n",
       "     \"<ul>\\n\"+\n",
       "     \"<li>re-rerun `output_notebook()` to attempt to load from CDN again, or</li>\\n\"+\n",
       "     \"<li>use INLINE resources instead, as so:</li>\\n\"+\n",
       "     \"</ul>\\n\"+\n",
       "     \"<code>\\n\"+\n",
       "     \"from bokeh.resources import INLINE\\n\"+\n",
       "     \"output_notebook(resources=INLINE)\\n\"+\n",
       "     \"</code>\\n\"+\n",
       "     \"</div>\"}};\n",
       "\n",
       "  function display_loaded() {\n",
       "    if (window.Bokeh !== undefined) {\n",
       "      var el = document.getElementById(\"cadabff3-199c-431e-a390-237b0eb3b92a\");\n",
       "      el.textContent = \"BokehJS \" + Bokeh.version + \" successfully loaded.\";\n",
       "    } else if (Date.now() < window._bokeh_timeout) {\n",
       "      setTimeout(display_loaded, 100)\n",
       "    }\n",
       "  }\n",
       "\n",
       "  function run_callbacks() {\n",
       "    try {\n",
       "      window._bokeh_onload_callbacks.forEach(function(callback) { callback() });\n",
       "    }\n",
       "    finally {\n",
       "      delete window._bokeh_onload_callbacks\n",
       "    }\n",
       "    console.info(\"Bokeh: all callbacks have finished\");\n",
       "  }\n",
       "\n",
       "  function load_libs(js_urls, callback) {\n",
       "    window._bokeh_onload_callbacks.push(callback);\n",
       "    if (window._bokeh_is_loading > 0) {\n",
       "      console.log(\"Bokeh: BokehJS is being loaded, scheduling callback at\", now());\n",
       "      return null;\n",
       "    }\n",
       "    if (js_urls == null || js_urls.length === 0) {\n",
       "      run_callbacks();\n",
       "      return null;\n",
       "    }\n",
       "    console.log(\"Bokeh: BokehJS not loaded, scheduling load and callback at\", now());\n",
       "    window._bokeh_is_loading = js_urls.length;\n",
       "    for (var i = 0; i < js_urls.length; i++) {\n",
       "      var url = js_urls[i];\n",
       "      var s = document.createElement('script');\n",
       "      s.src = url;\n",
       "      s.async = false;\n",
       "      s.onreadystatechange = s.onload = function() {\n",
       "        window._bokeh_is_loading--;\n",
       "        if (window._bokeh_is_loading === 0) {\n",
       "          console.log(\"Bokeh: all BokehJS libraries loaded\");\n",
       "          run_callbacks()\n",
       "        }\n",
       "      };\n",
       "      s.onerror = function() {\n",
       "        console.warn(\"failed to load library \" + url);\n",
       "      };\n",
       "      console.log(\"Bokeh: injecting script tag for BokehJS library: \", url);\n",
       "      document.getElementsByTagName(\"head\")[0].appendChild(s);\n",
       "    }\n",
       "  };var element = document.getElementById(\"cadabff3-199c-431e-a390-237b0eb3b92a\");\n",
       "  if (element == null) {\n",
       "    console.log(\"Bokeh: ERROR: autoload.js configured with elementid 'cadabff3-199c-431e-a390-237b0eb3b92a' but no matching script tag was found. \")\n",
       "    return false;\n",
       "  }\n",
       "\n",
       "  var js_urls = [\"https://cdn.pydata.org/bokeh/release/bokeh-0.12.6.min.js\", \"https://cdn.pydata.org/bokeh/release/bokeh-widgets-0.12.6.min.js\"];\n",
       "\n",
       "  var inline_js = [\n",
       "    function(Bokeh) {\n",
       "      Bokeh.set_log_level(\"info\");\n",
       "    },\n",
       "    \n",
       "    function(Bokeh) {\n",
       "      \n",
       "    },\n",
       "    \n",
       "    function(Bokeh) {\n",
       "      \n",
       "      document.getElementById(\"cadabff3-199c-431e-a390-237b0eb3b92a\").textContent = \"BokehJS is loading...\";\n",
       "    },\n",
       "    function(Bokeh) {\n",
       "      console.log(\"Bokeh: injecting CSS: https://cdn.pydata.org/bokeh/release/bokeh-0.12.6.min.css\");\n",
       "      Bokeh.embed.inject_css(\"https://cdn.pydata.org/bokeh/release/bokeh-0.12.6.min.css\");\n",
       "      console.log(\"Bokeh: injecting CSS: https://cdn.pydata.org/bokeh/release/bokeh-widgets-0.12.6.min.css\");\n",
       "      Bokeh.embed.inject_css(\"https://cdn.pydata.org/bokeh/release/bokeh-widgets-0.12.6.min.css\");\n",
       "    }\n",
       "  ];\n",
       "\n",
       "  function run_inline_js() {\n",
       "    \n",
       "    if ((window.Bokeh !== undefined) || (force === true)) {\n",
       "      for (var i = 0; i < inline_js.length; i++) {\n",
       "        inline_js[i](window.Bokeh);\n",
       "      }if (force === true) {\n",
       "        display_loaded();\n",
       "      }} else if (Date.now() < window._bokeh_timeout) {\n",
       "      setTimeout(run_inline_js, 100);\n",
       "    } else if (!window._bokeh_failed_load) {\n",
       "      console.log(\"Bokeh: BokehJS failed to load within specified timeout.\");\n",
       "      window._bokeh_failed_load = true;\n",
       "    } else if (force !== true) {\n",
       "      var cell = $(document.getElementById(\"cadabff3-199c-431e-a390-237b0eb3b92a\")).parents('.cell').data().cell;\n",
       "      cell.output_area.append_execute_result(NB_LOAD_WARNING)\n",
       "    }\n",
       "\n",
       "  }\n",
       "\n",
       "  if (window._bokeh_is_loading === 0) {\n",
       "    console.log(\"Bokeh: BokehJS loaded, going straight to plotting\");\n",
       "    run_inline_js();\n",
       "  } else {\n",
       "    load_libs(js_urls, function() {\n",
       "      console.log(\"Bokeh: BokehJS plotting callback run at\", now());\n",
       "      run_inline_js();\n",
       "    });\n",
       "  }\n",
       "}(this));"
      ]
     },
     "metadata": {},
     "output_type": "display_data"
    }
   ],
   "source": [
    "import datetime\n",
    "import numpy as np\n",
    "import pandas as pd\n",
    "import matplotlib.pyplot as plt\n",
    "import seaborn as sns\n",
    "from bokeh.plotting import figure, output_file, show, ColumnDataSource\n",
    "from bokeh.io import output_notebook\n",
    "from bokeh.models import Title, HoverTool, Legend, LinearColorMapper, ColorBar, BasicTicker, Range1d, Label, Div\n",
    "from bokeh.layouts import row, column, gridplot\n",
    "output_notebook()\n",
    "%matplotlib inline"
   ]
  },
  {
   "cell_type": "markdown",
   "metadata": {},
   "source": [
    "# Expected Time vs. Actual Time\n",
    "\n",
    "In this notebook we will respond the question on how to measure and to report the expected time vs. actual time differences. In particular, we will propose an indicator that is clear and simple enought to capture the differences between these two measures."
   ]
  },
  {
   "cell_type": "code",
   "execution_count": 2,
   "metadata": {},
   "outputs": [],
   "source": [
    "pick_drop = pd.read_pickle('data/pick_drop_data')\n",
    "booking_data = pd.read_pickle('data/bookings_data')"
   ]
  },
  {
   "cell_type": "code",
   "execution_count": 3,
   "metadata": {},
   "outputs": [
    {
     "data": {
      "text/plain": [
       "2110"
      ]
     },
     "execution_count": 3,
     "metadata": {},
     "output_type": "execute_result"
    }
   ],
   "source": [
    "pick_drop[\"actual_time_utc_berlin\"].notnull().sum()"
   ]
  },
  {
   "cell_type": "code",
   "execution_count": 4,
   "metadata": {},
   "outputs": [
    {
     "data": {
      "text/plain": [
       "1098"
      ]
     },
     "execution_count": 4,
     "metadata": {},
     "output_type": "execute_result"
    }
   ],
   "source": [
    "((pick_drop[\"actual_time_utc_berlin\"].notnull()) &  (pick_drop[\"type\"] == \"pickup\")).sum()"
   ]
  },
  {
   "cell_type": "code",
   "execution_count": 5,
   "metadata": {},
   "outputs": [
    {
     "data": {
      "text/plain": [
       "1012"
      ]
     },
     "execution_count": 5,
     "metadata": {},
     "output_type": "execute_result"
    }
   ],
   "source": [
    "((pick_drop[\"actual_time_utc_berlin\"].notnull()) &  (pick_drop[\"type\"] == \"dropoff\")).sum()"
   ]
  },
  {
   "cell_type": "markdown",
   "metadata": {},
   "source": [
    "Checking our data, we notice that there are a total of 2110 observations in our `pick_drop` data set that have an actual time of pick up. Note that this can be further divided in pick ups and drops offs. \n",
    "\n",
    "A first thing we notice here is that there are more pick ups than closed services. In our exploratory analysis we saw that we had 1014 closed pick up services and 1012 closed drop off services. What could explain this difference?\n",
    "\n",
    "In what follows, we show that the difference is related to the cases when the driver itself has cancelled the service. To prove this, we get first the cases of the `pick_drop` data set where there exist a pick up, an actual time and the service was cancelled. We compare the `booking_id` with that of the `booking_data` for the cases where the driver decided to cancel the service. We notice that there are no differences at all, meaning that the cancel pick ups with actual time corresponds to cases where driver cancelled the service."
   ]
  },
  {
   "cell_type": "code",
   "execution_count": 6,
   "metadata": {},
   "outputs": [
    {
     "data": {
      "text/plain": [
       "set()"
      ]
     },
     "execution_count": 6,
     "metadata": {},
     "output_type": "execute_result"
    }
   ],
   "source": [
    "bookings_pick_up_canceled = pick_drop[pick_drop[\"actual_time_utc_berlin\"].notnull() &  \n",
    "                                      (pick_drop[\"type\"] == \"pickup\") & \n",
    "                                      (pick_drop[\"status\"] == \"cancelled\")]\n",
    "bookings_driver_cancelled = booking_data[booking_data['cancelled_by'] == 'driver']\n",
    "set(bookings_pick_up_canceled['booking_id']).difference(set(bookings_driver_cancelled['booking_id']))"
   ]
  },
  {
   "cell_type": "markdown",
   "metadata": {},
   "source": [
    "### Should cancelled pick ups be part of the analysis?\n",
    "\n",
    "While this might be a point for discussion, we think that cancelled pick ups should not be part of the expected time vs. actual time analysis. We believe that the cancelled pick ups by the driver might have other motivations (user was never in the place, user forgot to cancel service, etc) than waiting. \n",
    "\n",
    "In this sense, the actual vs. expected time analysis wants to deal with how the difference affect the service experience. If there was no service to the user to begin with and no waiting time, it is difficult to see how this has affected the quality of the service. We decide, therefore, to exclude these points from our analysis."
   ]
  },
  {
   "cell_type": "code",
   "execution_count": 7,
   "metadata": {},
   "outputs": [],
   "source": [
    "exp_act_time = pick_drop[(pick_drop[\"actual_time_utc_berlin\"].notnull()) \n",
    "          & ~(pick_drop[\"status\"] == \"cancelled\")].reset_index()"
   ]
  },
  {
   "cell_type": "code",
   "execution_count": 8,
   "metadata": {},
   "outputs": [],
   "source": [
    "#Findin differences\n",
    "def diff(row,t1,t2):\n",
    "    \"\"\"\n",
    "    t1: Timestamp object.\n",
    "    t2: Timestamp oject.\n",
    "    \"\"\"\n",
    "    d = row[t1]-row[t2]\n",
    "    diff_seconds = d.total_seconds()\n",
    "    return diff_seconds"
   ]
  },
  {
   "cell_type": "code",
   "execution_count": 9,
   "metadata": {},
   "outputs": [],
   "source": [
    "exp_act_time.loc[:,\"time_diff\"] = exp_act_time.apply(diff, t1='actual_time_utc_berlin', t2='estimated_time_utc_berlin', axis=1)"
   ]
  },
  {
   "cell_type": "code",
   "execution_count": 10,
   "metadata": {},
   "outputs": [],
   "source": [
    "def print_stats(df, column):\n",
    "    total_hours_diff = df[column].sum() / (60*60)\n",
    "    avg_total_hours_diff = df[column].sum() / len(exp_act_time)\n",
    "    sd_total_hours_diff = df[column].std()\n",
    "    print(\"Total difference (hours): {:.3f}\".format(total_hours_diff))\n",
    "    print(\"Average (seconds): {:.3f}\".format(avg_total_hours_diff))\n",
    "    print(\"Standard deviation (seconds): {:.3f}\".format(sd_total_hours_diff))\n",
    "\n"
   ]
  },
  {
   "cell_type": "code",
   "execution_count": 11,
   "metadata": {},
   "outputs": [
    {
     "name": "stdout",
     "output_type": "stream",
     "text": [
      "Total difference (hours): 31.382\n",
      "Average (seconds): 55.762\n",
      "Standard deviation (seconds): 254.066\n"
     ]
    }
   ],
   "source": [
    "print_stats(exp_act_time,\"time_diff\")"
   ]
  },
  {
   "cell_type": "code",
   "execution_count": 12,
   "metadata": {
    "collapsed": true
   },
   "outputs": [],
   "source": [
    "#Passing time difference to minutes\n",
    "exp_act_time[\"time_diff_min\"] = exp_act_time[\"time_diff\"]/60"
   ]
  },
  {
   "cell_type": "code",
   "execution_count": 13,
   "metadata": {},
   "outputs": [
    {
     "data": {
      "image/png": "[encoded data removed]",
      "text/plain": [
       "<matplotlib.figure.Figure at 0x10c7cf978>"
      ]
     },
     "metadata": {},
     "output_type": "display_data"
    }
   ],
   "source": [
    "fig, ax = plt.subplots(figsize=(10,5))\n",
    "sns.distplot(exp_act_time[\"time_diff_min\"], kde=False, ax=ax)\n",
    "ax.set_xlabel(\"Time difference\")\n",
    "ax.set_ylabel(\"Counts minutes\")\n",
    "ax.set_title(\"Distribution of difference \\n Actual Time Expected Time (minutes)\")\n",
    "ax.axvline(0, color=\"#44999E\", linestyle='--');"
   ]
  },
  {
   "cell_type": "markdown",
   "metadata": {},
   "source": [
    "Looking at the distribution of total seconds difference between actual time and expected time, we see that this has a somewhat of a bell shape. Note, however, that the distribution tends to be shifted towards the positive values. This explains why the total sum is positive (31 hours difference in total approx). \n",
    "\n",
    "As an additional, there are some outliers worth mentioning. For example, the case with the highest difference between both values is almost an hour: 58 minutes, 53 seconds.\n",
    "\n",
    "The average difference between both measures is not bad. In total we have that approximately there is a 55 second differences. However, the standard deviation tells us that this distribution is quite spread. Therefore, it is important to understand well the cases when there is a mismatch between actual and expected time."
   ]
  },
  {
   "cell_type": "code",
   "execution_count": 14,
   "metadata": {
    "collapsed": true
   },
   "outputs": [],
   "source": [
    "def get_thresholds_groups(df, column):\n",
    "    df[\"time_thresholds\"] = pd.cut(df[column], [-100,-7,-3,0,3,7,100])\n",
    "    #Check that cut do not generate empty cells (so every observation is within a category)\n",
    "    if df[\"time_thresholds\"].isnull().sum() == 0:\n",
    "        group_threshold = df.groupby(\"time_thresholds\")['booking_id'].aggregate(lambda x: len(x) / len(df)).reset_index()\n",
    "        group_threshold = group_threshold.rename(columns={\"booking_id\": \"pct\"})\n",
    "        colors = [\"#E43216\", \"#E4E02C\", \"#459E0F\"]\n",
    "        colors.extend(colors[::-1])\n",
    "        group_threshold[\"colors\"] = colors\n",
    "        return group_threshold\n",
    "\n",
    "def get_region_threshold_groups(df, column):\n",
    "    colors_dict = {\"#E43216\":\"red\", \"#E4E02C\":\"yellow\", \"#459E0F\":\"green\"}\n",
    "    region_group = df.groupby(column).agg({'pct': np.sum}).reset_index()\n",
    "    region_group[\"thresholds\"] = region_group[\"colors\"].map(lambda x: colors_dict[x])\n",
    "    region_group[\"thresholds\"] = pd.Categorical(region_group[\"thresholds\"], [\"green\", \"yellow\", \"red\"])\n",
    "    #Getting extra index for easier plotting \n",
    "    region_group = region_group.sort_values(by=\"thresholds\").reset_index()\n",
    "    region_group[\"thresholds\"] = region_group[\"thresholds\"].astype(object)\n",
    "    return region_group"
   ]
  },
  {
   "cell_type": "code",
   "execution_count": 77,
   "metadata": {
    "collapsed": true
   },
   "outputs": [],
   "source": [
    "def plot_horizontal_time_thresholds(df, plot_w, plot_h, pct_column, colors_column, title):\n",
    "    \n",
    "    p = figure(plot_width=plot_w, plot_height=plot_h)\n",
    "\n",
    "    #Cases where actual time less than expected time\n",
    "    perct_neg_acc = 0\n",
    "    for i in list(range(0,3))[::-1]:\n",
    "        p.hbar(y=1, height=0.3, left=-df[pct_column][i] + perct_neg_acc,\n",
    "           right=perct_neg_acc, color=df[colors_column][i] )\n",
    "        p.line(x=[perct_neg_acc, perct_neg_acc], y=[0.5, 1.5], line_width=2, color=\"#AAB2A5\", line_dash=\"dashed\")\n",
    "        perct_neg_acc -= df[pct_column][i]\n",
    "    \n",
    "    #Cases where expected time less than actual time    \n",
    "    perc_pos_acc = 0\n",
    "    for i in list(range(3,6)):\n",
    "        p.hbar(y=1, height=0.3, left=perc_pos_acc,\n",
    "           right = df[pct_column][i] + perc_pos_acc, color=df[colors_column][i])\n",
    "        p.line(x=[perc_pos_acc, perc_pos_acc], y=[0.5, 1.5], line_width=2, color=\"#AAB2A5\", line_dash=\"dashed\")\n",
    "        perc_pos_acc += df[pct_column][i]\n",
    "        \n",
    "    p.y_range = Range1d(0, 2)\n",
    "    p.add_layout(Title(text=title, align=\"center\", text_font_size=\"10pt\"), \n",
    "             \"above\")\n",
    "    p.xgrid.grid_line_color = None\n",
    "    p.ygrid.grid_line_color = None\n",
    "    p.yaxis.visible = False\n",
    "    return p"
   ]
  },
  {
   "cell_type": "code",
   "execution_count": 78,
   "metadata": {
    "collapsed": true
   },
   "outputs": [],
   "source": [
    "def plot_total_pct_thresholds(df, plot_w, plot_h, index_col,  pct_column, color_column, title):\n",
    "\n",
    "    source = ColumnDataSource(df)    \n",
    "    hover = HoverTool(tooltips=[\n",
    "        (\"pct\", \"@\"+ pct_column +\"{(0.00%)}\")\n",
    "    ])\n",
    "\n",
    "    total_perc = figure(plot_width=plot_w, plot_height=plot_h, tools=[hover])\n",
    "    total_perc.add_layout(Title(text=title, align=\"center\", text_font_size=\"10pt\"), \n",
    "             \"above\")\n",
    "\n",
    "    total_perc.vbar(x=index_col, top=pct_column, color=color_column, source= source, width=0.6)\n",
    "    \n",
    "    return total_perc"
   ]
  },
  {
   "cell_type": "code",
   "execution_count": 79,
   "metadata": {},
   "outputs": [],
   "source": [
    "group_threshold = get_thresholds_groups(exp_act_time, \"time_diff_min\")\n",
    "region_group = get_region_threshold_groups(group_threshold, \"colors\")"
   ]
  },
  {
   "cell_type": "code",
   "execution_count": 80,
   "metadata": {},
   "outputs": [
    {
     "data": {
      "text/html": [
       "\n",
       "\n",
       "    <div class=\"bk-root\">\n",
       "        <div class=\"bk-plotdiv\" id=\"b9428355-7866-4c7f-b84f-db7518b1693d\"></div>\n",
       "    </div>\n",
       "<script type=\"text/javascript\">\n",
       "  \n",
       "  (function(global) {\n",
       "    function now() {\n",
       "      return new Date();\n",
       "    }\n",
       "  \n",
       "    var force = false;\n",
       "  \n",
       "    if (typeof (window._bokeh_onload_callbacks) === \"undefined\" || force === true) {\n",
       "      window._bokeh_onload_callbacks = [];\n",
       "      window._bokeh_is_loading = undefined;\n",
       "    }\n",
       "  \n",
       "  \n",
       "    \n",
       "    if (typeof (window._bokeh_timeout) === \"undefined\" || force === true) {\n",
       "      window._bokeh_timeout = Date.now() + 0;\n",
       "      window._bokeh_failed_load = false;\n",
       "    }\n",
       "  \n",
       "    var NB_LOAD_WARNING = {'data': {'text/html':\n",
       "       \"<div style='background-color: #fdd'>\\n\"+\n",
       "       \"<p>\\n\"+\n",
       "       \"BokehJS does not appear to have successfully loaded. If loading BokehJS from CDN, this \\n\"+\n",
       "       \"may be due to a slow or bad network connection. Possible fixes:\\n\"+\n",
       "       \"</p>\\n\"+\n",
       "       \"<ul>\\n\"+\n",
       "       \"<li>re-rerun `output_notebook()` to attempt to load from CDN again, or</li>\\n\"+\n",
       "       \"<li>use INLINE resources instead, as so:</li>\\n\"+\n",
       "       \"</ul>\\n\"+\n",
       "       \"<code>\\n\"+\n",
       "       \"from bokeh.resources import INLINE\\n\"+\n",
       "       \"output_notebook(resources=INLINE)\\n\"+\n",
       "       \"</code>\\n\"+\n",
       "       \"</div>\"}};\n",
       "  \n",
       "    function display_loaded() {\n",
       "      if (window.Bokeh !== undefined) {\n",
       "        var el = document.getElementById(\"b9428355-7866-4c7f-b84f-db7518b1693d\");\n",
       "        el.textContent = \"BokehJS \" + Bokeh.version + \" successfully loaded.\";\n",
       "      } else if (Date.now() < window._bokeh_timeout) {\n",
       "        setTimeout(display_loaded, 100)\n",
       "      }\n",
       "    }\n",
       "  \n",
       "    function run_callbacks() {\n",
       "      try {\n",
       "        window._bokeh_onload_callbacks.forEach(function(callback) { callback() });\n",
       "      }\n",
       "      finally {\n",
       "        delete window._bokeh_onload_callbacks\n",
       "      }\n",
       "      console.info(\"Bokeh: all callbacks have finished\");\n",
       "    }\n",
       "  \n",
       "    function load_libs(js_urls, callback) {\n",
       "      window._bokeh_onload_callbacks.push(callback);\n",
       "      if (window._bokeh_is_loading > 0) {\n",
       "        console.log(\"Bokeh: BokehJS is being loaded, scheduling callback at\", now());\n",
       "        return null;\n",
       "      }\n",
       "      if (js_urls == null || js_urls.length === 0) {\n",
       "        run_callbacks();\n",
       "        return null;\n",
       "      }\n",
       "      console.log(\"Bokeh: BokehJS not loaded, scheduling load and callback at\", now());\n",
       "      window._bokeh_is_loading = js_urls.length;\n",
       "      for (var i = 0; i < js_urls.length; i++) {\n",
       "        var url = js_urls[i];\n",
       "        var s = document.createElement('script');\n",
       "        s.src = url;\n",
       "        s.async = false;\n",
       "        s.onreadystatechange = s.onload = function() {\n",
       "          window._bokeh_is_loading--;\n",
       "          if (window._bokeh_is_loading === 0) {\n",
       "            console.log(\"Bokeh: all BokehJS libraries loaded\");\n",
       "            run_callbacks()\n",
       "          }\n",
       "        };\n",
       "        s.onerror = function() {\n",
       "          console.warn(\"failed to load library \" + url);\n",
       "        };\n",
       "        console.log(\"Bokeh: injecting script tag for BokehJS library: \", url);\n",
       "        document.getElementsByTagName(\"head\")[0].appendChild(s);\n",
       "      }\n",
       "    };var element = document.getElementById(\"b9428355-7866-4c7f-b84f-db7518b1693d\");\n",
       "    if (element == null) {\n",
       "      console.log(\"Bokeh: ERROR: autoload.js configured with elementid 'b9428355-7866-4c7f-b84f-db7518b1693d' but no matching script tag was found. \")\n",
       "      return false;\n",
       "    }\n",
       "  \n",
       "    var js_urls = [];\n",
       "  \n",
       "    var inline_js = [\n",
       "      function(Bokeh) {\n",
       "        (function() {\n",
       "          var fn = function() {\n",
       "            var docs_json = {\"4aea2bac-c454-4451-bfa2-459ef72dbe1f\":{\"roots\":{\"references\":[{\"attributes\":{\"line_color\":{\"value\":\"#AAB2A5\"},\"line_dash\":[6],\"line_width\":{\"value\":2},\"x\":{\"field\":\"x\"},\"y\":{\"field\":\"y\"}},\"id\":\"e6145f7e-34fb-4003-9189-bd46bb507ae7\",\"type\":\"Line\"},{\"attributes\":{},\"id\":\"5dd5a7be-98b1-4677-8e14-b205ede8eb0d\",\"type\":\"LinearScale\"},{\"attributes\":{\"callback\":null},\"id\":\"2689502a-e04a-40eb-b805-b5a2d12732ed\",\"type\":\"DataRange1d\"},{\"attributes\":{},\"id\":\"0b8c91a7-744d-487e-9c7f-9dee103ead4b\",\"type\":\"LinearScale\"},{\"attributes\":{\"align\":\"center\",\"plot\":{\"id\":\"a0277a9d-9955-4eeb-9691-4c423d155969\",\"subtype\":\"Figure\",\"type\":\"Plot\"},\"text\":\"Total percentage within thresholds\"},\"id\":\"6cc5814a-636c-48ad-8196-7bbc7370b354\",\"type\":\"Title\"},{\"attributes\":{\"data_source\":{\"id\":\"bc2d8b34-9507-4219-aebc-c9321631cfbe\",\"type\":\"ColumnDataSource\"},\"glyph\":{\"id\":\"7ad68d52-9491-4a1a-b086-9ac4e75a1d61\",\"type\":\"HBar\"},\"hover_glyph\":null,\"muted_glyph\":null,\"nonselection_glyph\":{\"id\":\"15420bed-ca59-426a-ae63-3e515c28b8c7\",\"type\":\"HBar\"},\"selection_glyph\":null},\"id\":\"af9beca3-19a7-4cb3-a858-0232156a136d\",\"type\":\"GlyphRenderer\"},{\"attributes\":{\"overlay\":{\"id\":\"cbd2767b-fff7-423d-b631-6f60275cf4cc\",\"type\":\"BoxAnnotation\"},\"plot\":{\"id\":\"9e890229-37b1-4340-b9c1-4638756feed7\",\"subtype\":\"Figure\",\"type\":\"Plot\"}},\"id\":\"11804e93-d4f5-4db3-bddd-adb8d6cb02fe\",\"type\":\"BoxZoomTool\"},{\"attributes\":{\"data_source\":{\"id\":\"158523ce-ecf7-48e2-817e-a455accfa5e4\",\"type\":\"ColumnDataSource\"},\"glyph\":{\"id\":\"c2edff2a-9f80-4f3d-90a0-b90c59bc2567\",\"type\":\"HBar\"},\"hover_glyph\":null,\"muted_glyph\":null,\"nonselection_glyph\":{\"id\":\"017b45dc-bfd6-43c6-a747-b41363fc25d0\",\"type\":\"HBar\"},\"selection_glyph\":null},\"id\":\"67bd96dd-412b-4deb-9701-5c80e310cf6d\",\"type\":\"GlyphRenderer\"},{\"attributes\":{\"line_color\":{\"value\":\"#AAB2A5\"},\"line_dash\":[6],\"line_width\":{\"value\":2},\"x\":{\"field\":\"x\"},\"y\":{\"field\":\"y\"}},\"id\":\"6672679c-6107-401c-b234-3dbb80db4b9b\",\"type\":\"Line\"},{\"attributes\":{\"align\":\"center\",\"plot\":{\"id\":\"9e890229-37b1-4340-b9c1-4638756feed7\",\"subtype\":\"Figure\",\"type\":\"Plot\"},\"text\":\"Rush/delays within time thresholds\"},\"id\":\"b1081655-1e5c-4d7c-a358-cb6cb004636b\",\"type\":\"Title\"},{\"attributes\":{\"fill_color\":{\"value\":\"#459E0F\"},\"height\":{\"value\":0.3},\"line_color\":{\"value\":\"#459E0F\"},\"right\":{\"value\":0.3884501480750247},\"y\":{\"value\":1}},\"id\":\"7ad68d52-9491-4a1a-b086-9ac4e75a1d61\",\"type\":\"HBar\"},{\"attributes\":{\"plot\":{\"id\":\"9e890229-37b1-4340-b9c1-4638756feed7\",\"subtype\":\"Figure\",\"type\":\"Plot\"}},\"id\":\"b374581e-d632-4765-b978-16946917b9e6\",\"type\":\"PanTool\"},{\"attributes\":{\"plot\":{\"id\":\"9e890229-37b1-4340-b9c1-4638756feed7\",\"subtype\":\"Figure\",\"type\":\"Plot\"}},\"id\":\"a3efa903-2c6d-462b-8ef5-e3c4f74da9c1\",\"type\":\"ResetTool\"},{\"attributes\":{\"children\":[{\"id\":\"162072b8-a70c-4dc5-a1a7-eae12bff3a9c\",\"type\":\"Div\"}]},\"id\":\"f29bffae-843f-416d-bff3-91d934733300\",\"type\":\"WidgetBox\"},{\"attributes\":{\"children\":[{\"id\":\"9e890229-37b1-4340-b9c1-4638756feed7\",\"subtype\":\"Figure\",\"type\":\"Plot\"},{\"id\":\"a0277a9d-9955-4eeb-9691-4c423d155969\",\"subtype\":\"Figure\",\"type\":\"Plot\"}]},\"id\":\"a7673a75-2811-442f-9ff9-cae597716079\",\"type\":\"Row\"},{\"attributes\":{\"plot\":{\"id\":\"a0277a9d-9955-4eeb-9691-4c423d155969\",\"subtype\":\"Figure\",\"type\":\"Plot\"},\"ticker\":{\"id\":\"fd971946-1f74-4c97-9a51-6df4a5d18b2e\",\"type\":\"BasicTicker\"}},\"id\":\"a5257165-978d-47e9-aef2-3a6873debdfa\",\"type\":\"Grid\"},{\"attributes\":{\"callback\":null},\"id\":\"60299e17-2f0f-444f-84a8-1c62b3f1c6e9\",\"type\":\"DataRange1d\"},{\"attributes\":{\"fill_color\":{\"value\":\"#E4E02C\"},\"height\":{\"value\":0.3},\"left\":{\"value\":0.3884501480750247},\"line_color\":{\"value\":\"#E4E02C\"},\"right\":{\"value\":0.510365251727542},\"y\":{\"value\":1}},\"id\":\"5b1af50d-7f53-4d84-9180-e532a78be3b8\",\"type\":\"HBar\"},{\"attributes\":{\"data_source\":{\"id\":\"c3181d27-7221-47e0-adeb-bfd652a9c207\",\"type\":\"ColumnDataSource\"},\"glyph\":{\"id\":\"5b1af50d-7f53-4d84-9180-e532a78be3b8\",\"type\":\"HBar\"},\"hover_glyph\":null,\"muted_glyph\":null,\"nonselection_glyph\":{\"id\":\"86fa1c88-4935-435a-96d6-77af28ddb0ef\",\"type\":\"HBar\"},\"selection_glyph\":null},\"id\":\"eee6f376-9cf6-4a4a-8b8c-d4ec186844de\",\"type\":\"GlyphRenderer\"},{\"attributes\":{\"children\":[{\"id\":\"f29bffae-843f-416d-bff3-91d934733300\",\"type\":\"WidgetBox\"},{\"id\":\"a7673a75-2811-442f-9ff9-cae597716079\",\"type\":\"Row\"}]},\"id\":\"058d9356-a96f-4475-849e-d27b0ded26b9\",\"type\":\"Column\"},{\"attributes\":{},\"id\":\"8c6c200c-4b91-4969-bca7-0aee3b73dd0c\",\"type\":\"BasicTicker\"},{\"attributes\":{\"line_alpha\":{\"value\":0.1},\"line_color\":{\"value\":\"#1f77b4\"},\"line_dash\":[6],\"line_width\":{\"value\":2},\"x\":{\"field\":\"x\"},\"y\":{\"field\":\"y\"}},\"id\":\"50cac0ca-9767-4792-bb6f-ae8437cf6619\",\"type\":\"Line\"},{\"attributes\":{\"formatter\":{\"id\":\"97e96757-5380-4e73-982e-dad08f81b77a\",\"type\":\"BasicTickFormatter\"},\"plot\":{\"id\":\"9e890229-37b1-4340-b9c1-4638756feed7\",\"subtype\":\"Figure\",\"type\":\"Plot\"},\"ticker\":{\"id\":\"8c6c200c-4b91-4969-bca7-0aee3b73dd0c\",\"type\":\"BasicTicker\"},\"visible\":false},\"id\":\"101b0c8a-baf5-4b06-ba6b-242b236404a8\",\"type\":\"LinearAxis\"},{\"attributes\":{\"fill_alpha\":{\"value\":0.1},\"fill_color\":{\"value\":\"#1f77b4\"},\"line_alpha\":{\"value\":0.1},\"line_color\":{\"value\":\"#1f77b4\"},\"top\":{\"field\":\"pct\"},\"width\":{\"value\":0.6},\"x\":{\"field\":\"index\"}},\"id\":\"685e0404-904e-47f0-9250-e3e53761d8e3\",\"type\":\"VBar\"},{\"attributes\":{\"data_source\":{\"id\":\"e7474ac7-4d88-40a7-875a-3f6027f17493\",\"type\":\"ColumnDataSource\"},\"glyph\":{\"id\":\"a9827241-bc8b-4a5f-b605-153a829af901\",\"type\":\"HBar\"},\"hover_glyph\":null,\"muted_glyph\":null,\"nonselection_glyph\":{\"id\":\"f60f975c-8ba6-478f-b515-6cf485e055cf\",\"type\":\"HBar\"},\"selection_glyph\":null},\"id\":\"ec84a212-323f-4930-bea7-18c7dc82464e\",\"type\":\"GlyphRenderer\"},{\"attributes\":{\"data_source\":{\"id\":\"34c0e72b-2ecb-457f-8bec-32fe7d879e30\",\"type\":\"ColumnDataSource\"},\"glyph\":{\"id\":\"823ecdd8-c8da-421e-bbab-b42c43221bd0\",\"type\":\"Line\"},\"hover_glyph\":null,\"muted_glyph\":null,\"nonselection_glyph\":{\"id\":\"9c6ef20b-d866-4d5c-91ab-7289e829a3e0\",\"type\":\"Line\"},\"selection_glyph\":null},\"id\":\"7c24cbcf-75d5-4b08-aa97-3329fc128ae0\",\"type\":\"GlyphRenderer\"},{\"attributes\":{\"callback\":null,\"data\":{}},\"id\":\"c3181d27-7221-47e0-adeb-bfd652a9c207\",\"type\":\"ColumnDataSource\"},{\"attributes\":{\"callback\":null},\"id\":\"df9cb395-ac94-40e6-a6a7-36fe2e44ebda\",\"type\":\"DataRange1d\"},{\"attributes\":{\"active_drag\":\"auto\",\"active_inspect\":\"auto\",\"active_scroll\":\"auto\",\"active_tap\":\"auto\",\"tools\":[{\"id\":\"4fefc2dd-dcbe-40b9-bb94-2f0b0e27f9f8\",\"type\":\"HoverTool\"}]},\"id\":\"91068dbe-2d4b-4760-b829-876e95143ad6\",\"type\":\"Toolbar\"},{\"attributes\":{},\"id\":\"7b6c8b47-a231-47d6-837c-b163bb8aaace\",\"type\":\"LinearScale\"},{\"attributes\":{\"callback\":null,\"plot\":{\"id\":\"a0277a9d-9955-4eeb-9691-4c423d155969\",\"subtype\":\"Figure\",\"type\":\"Plot\"},\"tooltips\":[[\"pct\",\"@pct{(0.00%)}\"]]},\"id\":\"4fefc2dd-dcbe-40b9-bb94-2f0b0e27f9f8\",\"type\":\"HoverTool\"},{\"attributes\":{\"fill_alpha\":{\"value\":0.1},\"fill_color\":{\"value\":\"#1f77b4\"},\"height\":{\"value\":0.3},\"left\":{\"value\":0.510365251727542},\"line_alpha\":{\"value\":0.1},\"line_color\":{\"value\":\"#1f77b4\"},\"right\":{\"value\":0.5621915103652517},\"y\":{\"value\":1}},\"id\":\"79125ca2-3e13-4272-9c5b-19706418d8ae\",\"type\":\"HBar\"},{\"attributes\":{},\"id\":\"72c587b6-d2dd-42ad-89f6-4c4d32e29b58\",\"type\":\"BasicTickFormatter\"},{\"attributes\":{\"callback\":null,\"data\":{}},\"id\":\"8a15bb11-0b14-4cdc-9668-c0915bd6b5a9\",\"type\":\"ColumnDataSource\"},{\"attributes\":{\"data_source\":{\"id\":\"8a15bb11-0b14-4cdc-9668-c0915bd6b5a9\",\"type\":\"ColumnDataSource\"},\"glyph\":{\"id\":\"983559c6-1e58-46da-949c-89ea7e9d6cf6\",\"type\":\"HBar\"},\"hover_glyph\":null,\"muted_glyph\":null,\"nonselection_glyph\":{\"id\":\"9578b9bc-1e80-49c9-a899-c24768b4bda8\",\"type\":\"HBar\"},\"selection_glyph\":null},\"id\":\"1afd2cf6-3314-4afa-b9c4-db3f8ac5f64a\",\"type\":\"GlyphRenderer\"},{\"attributes\":{\"callback\":null,\"column_names\":[\"x\",\"y\"],\"data\":{\"x\":[0,0],\"y\":[0.5,1.5]}},\"id\":\"34c0e72b-2ecb-457f-8bec-32fe7d879e30\",\"type\":\"ColumnDataSource\"},{\"attributes\":{\"fill_alpha\":{\"value\":0.1},\"fill_color\":{\"value\":\"#1f77b4\"},\"height\":{\"value\":0.3},\"left\":{\"value\":0.3884501480750247},\"line_alpha\":{\"value\":0.1},\"line_color\":{\"value\":\"#1f77b4\"},\"right\":{\"value\":0.510365251727542},\"y\":{\"value\":1}},\"id\":\"86fa1c88-4935-435a-96d6-77af28ddb0ef\",\"type\":\"HBar\"},{\"attributes\":{},\"id\":\"6b32a4bc-2cec-47fa-8691-5f5685e9b42e\",\"type\":\"LinearScale\"},{\"attributes\":{},\"id\":\"04318ece-c6c2-47a1-ba49-d5ab1e58baa0\",\"type\":\"ToolEvents\"},{\"attributes\":{\"data_source\":{\"id\":\"271775bb-7b22-4696-bd5a-cc8581c70f7a\",\"type\":\"ColumnDataSource\"},\"glyph\":{\"id\":\"6805059b-8f76-4b70-8674-3aec1d6c5bcc\",\"type\":\"VBar\"},\"hover_glyph\":null,\"muted_glyph\":null,\"nonselection_glyph\":{\"id\":\"685e0404-904e-47f0-9250-e3e53761d8e3\",\"type\":\"VBar\"},\"selection_glyph\":null},\"id\":\"0abfc7b4-7436-4e41-b468-2ed3173edbb4\",\"type\":\"GlyphRenderer\"},{\"attributes\":{\"fill_color\":{\"value\":\"#E4E02C\"},\"height\":{\"value\":0.3},\"left\":{\"value\":-0.430898321816387},\"line_color\":{\"value\":\"#E4E02C\"},\"right\":{\"value\":-0.3677196446199408},\"y\":{\"value\":1}},\"id\":\"983559c6-1e58-46da-949c-89ea7e9d6cf6\",\"type\":\"HBar\"},{\"attributes\":{\"line_color\":{\"value\":\"#AAB2A5\"},\"line_dash\":[6],\"line_width\":{\"value\":2},\"x\":{\"field\":\"x\"},\"y\":{\"field\":\"y\"}},\"id\":\"823ecdd8-c8da-421e-bbab-b42c43221bd0\",\"type\":\"Line\"},{\"attributes\":{\"bottom_units\":\"screen\",\"fill_alpha\":{\"value\":0.5},\"fill_color\":{\"value\":\"lightgrey\"},\"left_units\":\"screen\",\"level\":\"overlay\",\"line_alpha\":{\"value\":1.0},\"line_color\":{\"value\":\"black\"},\"line_dash\":[4,4],\"line_width\":{\"value\":2},\"plot\":null,\"render_mode\":\"css\",\"right_units\":\"screen\",\"top_units\":\"screen\"},\"id\":\"cbd2767b-fff7-423d-b631-6f60275cf4cc\",\"type\":\"BoxAnnotation\"},{\"attributes\":{\"callback\":null,\"data\":{}},\"id\":\"bc2d8b34-9507-4219-aebc-c9321631cfbe\",\"type\":\"ColumnDataSource\"},{\"attributes\":{\"callback\":null,\"column_names\":[\"x\",\"y\"],\"data\":{\"x\":[0.3884501480750247,0.3884501480750247],\"y\":[0.5,1.5]}},\"id\":\"64a5e44a-f349-40a0-a6c9-303f3c12ce33\",\"type\":\"ColumnDataSource\"},{\"attributes\":{\"data_source\":{\"id\":\"979e6ed9-b636-4924-90f5-7c10d6105912\",\"type\":\"ColumnDataSource\"},\"glyph\":{\"id\":\"5b0389bf-e677-402e-a6be-17a9a80fcfa2\",\"type\":\"Line\"},\"hover_glyph\":null,\"muted_glyph\":null,\"nonselection_glyph\":{\"id\":\"fc825e16-9f99-474f-a9cc-874dcdf74b09\",\"type\":\"Line\"},\"selection_glyph\":null},\"id\":\"395abc97-fc2d-4c82-be91-d8f7b1bf8de9\",\"type\":\"GlyphRenderer\"},{\"attributes\":{},\"id\":\"d6dde45a-6f3b-4d07-bdce-131f88451bad\",\"type\":\"BasicTickFormatter\"},{\"attributes\":{\"fill_alpha\":{\"value\":0.1},\"fill_color\":{\"value\":\"#1f77b4\"},\"height\":{\"value\":0.3},\"line_alpha\":{\"value\":0.1},\"line_color\":{\"value\":\"#1f77b4\"},\"right\":{\"value\":0.3884501480750247},\"y\":{\"value\":1}},\"id\":\"15420bed-ca59-426a-ae63-3e515c28b8c7\",\"type\":\"HBar\"},{\"attributes\":{\"formatter\":{\"id\":\"d6dde45a-6f3b-4d07-bdce-131f88451bad\",\"type\":\"BasicTickFormatter\"},\"plot\":{\"id\":\"a0277a9d-9955-4eeb-9691-4c423d155969\",\"subtype\":\"Figure\",\"type\":\"Plot\"},\"ticker\":{\"id\":\"fd971946-1f74-4c97-9a51-6df4a5d18b2e\",\"type\":\"BasicTicker\"}},\"id\":\"c880ce2b-6d6c-4cb6-9254-a1098b05552e\",\"type\":\"LinearAxis\"},{\"attributes\":{\"fill_alpha\":{\"value\":0.1},\"fill_color\":{\"value\":\"#1f77b4\"},\"height\":{\"value\":0.3},\"left\":{\"value\":-0.430898321816387},\"line_alpha\":{\"value\":0.1},\"line_color\":{\"value\":\"#1f77b4\"},\"right\":{\"value\":-0.3677196446199408},\"y\":{\"value\":1}},\"id\":\"9578b9bc-1e80-49c9-a899-c24768b4bda8\",\"type\":\"HBar\"},{\"attributes\":{\"dimension\":1,\"grid_line_color\":{\"value\":null},\"plot\":{\"id\":\"9e890229-37b1-4340-b9c1-4638756feed7\",\"subtype\":\"Figure\",\"type\":\"Plot\"},\"ticker\":{\"id\":\"8c6c200c-4b91-4969-bca7-0aee3b73dd0c\",\"type\":\"BasicTicker\"}},\"id\":\"2cea199a-52a9-4a1d-b4e2-f04412236704\",\"type\":\"Grid\"},{\"attributes\":{},\"id\":\"97e96757-5380-4e73-982e-dad08f81b77a\",\"type\":\"BasicTickFormatter\"},{\"attributes\":{\"line_color\":{\"value\":\"#AAB2A5\"},\"line_dash\":[6],\"line_width\":{\"value\":2},\"x\":{\"field\":\"x\"},\"y\":{\"field\":\"y\"}},\"id\":\"ced49d7a-6ebe-4130-94c3-e6a7547cf537\",\"type\":\"Line\"},{\"attributes\":{\"fill_alpha\":{\"value\":0.1},\"fill_color\":{\"value\":\"#1f77b4\"},\"height\":{\"value\":0.3},\"left\":{\"value\":-0.4378084896347483},\"line_alpha\":{\"value\":0.1},\"line_color\":{\"value\":\"#1f77b4\"},\"right\":{\"value\":-0.430898321816387},\"y\":{\"value\":1}},\"id\":\"017b45dc-bfd6-43c6-a747-b41363fc25d0\",\"type\":\"HBar\"},{\"attributes\":{\"plot\":{\"id\":\"9e890229-37b1-4340-b9c1-4638756feed7\",\"subtype\":\"Figure\",\"type\":\"Plot\"}},\"id\":\"d48013ae-6425-41fe-9fe5-2510dd84fc81\",\"type\":\"WheelZoomTool\"},{\"attributes\":{\"plot\":null,\"text\":\"\"},\"id\":\"0c37d814-7a8a-4b0f-ace0-7f17b05d48fe\",\"type\":\"Title\"},{\"attributes\":{\"callback\":null,\"end\":2},\"id\":\"1cdcb97a-57cd-4eec-9e5a-944750daa45c\",\"type\":\"Range1d\"},{\"attributes\":{\"callback\":null,\"column_names\":[\"x\",\"y\"],\"data\":{\"x\":[0,0],\"y\":[0.5,1.5]}},\"id\":\"ecc3b2ea-4ba5-4f6e-a9a8-cec340c933ef\",\"type\":\"ColumnDataSource\"},{\"attributes\":{},\"id\":\"0ff23400-ad1f-462e-82bf-637c191723ff\",\"type\":\"ToolEvents\"},{\"attributes\":{},\"id\":\"fd971946-1f74-4c97-9a51-6df4a5d18b2e\",\"type\":\"BasicTicker\"},{\"attributes\":{\"callback\":null,\"column_names\":[\"x\",\"y\"],\"data\":{\"x\":[0.510365251727542,0.510365251727542],\"y\":[0.5,1.5]}},\"id\":\"988314b9-f43a-4053-923a-f3553dd62ad7\",\"type\":\"ColumnDataSource\"},{\"attributes\":{\"callback\":null,\"data\":{}},\"id\":\"158523ce-ecf7-48e2-817e-a455accfa5e4\",\"type\":\"ColumnDataSource\"},{\"attributes\":{\"line_alpha\":{\"value\":0.1},\"line_color\":{\"value\":\"#1f77b4\"},\"line_dash\":[6],\"line_width\":{\"value\":2},\"x\":{\"field\":\"x\"},\"y\":{\"field\":\"y\"}},\"id\":\"30caae1a-d471-47de-aaed-5b9e143c3a95\",\"type\":\"Line\"},{\"attributes\":{\"callback\":null,\"data\":{}},\"id\":\"b6f309d7-0f00-46b0-b944-0894547e2818\",\"type\":\"ColumnDataSource\"},{\"attributes\":{\"plot\":null,\"text\":\"\"},\"id\":\"c3108e51-c920-45dc-a84e-45c6e42c1edd\",\"type\":\"Title\"},{\"attributes\":{\"line_alpha\":{\"value\":0.1},\"line_color\":{\"value\":\"#1f77b4\"},\"line_dash\":[6],\"line_width\":{\"value\":2},\"x\":{\"field\":\"x\"},\"y\":{\"field\":\"y\"}},\"id\":\"fc825e16-9f99-474f-a9cc-874dcdf74b09\",\"type\":\"Line\"},{\"attributes\":{\"fill_color\":{\"value\":\"#E43216\"},\"height\":{\"value\":0.3},\"left\":{\"value\":-0.4378084896347483},\"line_color\":{\"value\":\"#E43216\"},\"right\":{\"value\":-0.430898321816387},\"y\":{\"value\":1}},\"id\":\"c2edff2a-9f80-4f3d-90a0-b90c59bc2567\",\"type\":\"HBar\"},{\"attributes\":{\"callback\":null,\"column_names\":[\"x\",\"y\"],\"data\":{\"x\":[-0.3677196446199408,-0.3677196446199408],\"y\":[0.5,1.5]}},\"id\":\"df0c1040-3ec6-4a15-9f6e-c0c1974df2d4\",\"type\":\"ColumnDataSource\"},{\"attributes\":{\"data_source\":{\"id\":\"64a5e44a-f349-40a0-a6c9-303f3c12ce33\",\"type\":\"ColumnDataSource\"},\"glyph\":{\"id\":\"ced49d7a-6ebe-4130-94c3-e6a7547cf537\",\"type\":\"Line\"},\"hover_glyph\":null,\"muted_glyph\":null,\"nonselection_glyph\":{\"id\":\"50cac0ca-9767-4792-bb6f-ae8437cf6619\",\"type\":\"Line\"},\"selection_glyph\":null},\"id\":\"cdf33f7d-5a41-4021-b820-da604f05df4f\",\"type\":\"GlyphRenderer\"},{\"attributes\":{\"line_color\":{\"value\":\"#AAB2A5\"},\"line_dash\":[6],\"line_width\":{\"value\":2},\"x\":{\"field\":\"x\"},\"y\":{\"field\":\"y\"}},\"id\":\"b53334f8-4982-471e-bd2f-65cd24f14a9b\",\"type\":\"Line\"},{\"attributes\":{\"active_drag\":\"auto\",\"active_inspect\":\"auto\",\"active_scroll\":\"auto\",\"active_tap\":\"auto\",\"tools\":[{\"id\":\"b374581e-d632-4765-b978-16946917b9e6\",\"type\":\"PanTool\"},{\"id\":\"d48013ae-6425-41fe-9fe5-2510dd84fc81\",\"type\":\"WheelZoomTool\"},{\"id\":\"11804e93-d4f5-4db3-bddd-adb8d6cb02fe\",\"type\":\"BoxZoomTool\"},{\"id\":\"805a3be7-5be1-48b2-82ed-27e0a21540e6\",\"type\":\"SaveTool\"},{\"id\":\"a3efa903-2c6d-462b-8ef5-e3c4f74da9c1\",\"type\":\"ResetTool\"},{\"id\":\"f60a84da-a805-454f-abef-0d6e45dd3498\",\"type\":\"HelpTool\"}]},\"id\":\"fc77a0f0-245a-441f-861f-c1e577c5c984\",\"type\":\"Toolbar\"},{\"attributes\":{\"fill_color\":{\"value\":\"#459E0F\"},\"height\":{\"value\":0.3},\"left\":{\"value\":-0.3677196446199408},\"line_color\":{\"value\":\"#459E0F\"},\"right\":{\"value\":0},\"y\":{\"value\":1}},\"id\":\"a9827241-bc8b-4a5f-b605-153a829af901\",\"type\":\"HBar\"},{\"attributes\":{\"callback\":null,\"column_names\":[\"x\",\"y\"],\"data\":{\"x\":[-0.430898321816387,-0.430898321816387],\"y\":[0.5,1.5]}},\"id\":\"979e6ed9-b636-4924-90f5-7c10d6105912\",\"type\":\"ColumnDataSource\"},{\"attributes\":{\"plot\":{\"id\":\"9e890229-37b1-4340-b9c1-4638756feed7\",\"subtype\":\"Figure\",\"type\":\"Plot\"}},\"id\":\"f60a84da-a805-454f-abef-0d6e45dd3498\",\"type\":\"HelpTool\"},{\"attributes\":{\"data_source\":{\"id\":\"df0c1040-3ec6-4a15-9f6e-c0c1974df2d4\",\"type\":\"ColumnDataSource\"},\"glyph\":{\"id\":\"6672679c-6107-401c-b234-3dbb80db4b9b\",\"type\":\"Line\"},\"hover_glyph\":null,\"muted_glyph\":null,\"nonselection_glyph\":{\"id\":\"b1b207f3-ad4a-4e99-b6d9-7b003240e2b5\",\"type\":\"Line\"},\"selection_glyph\":null},\"id\":\"038ebe1b-b71e-4e2d-a772-e4b17a043224\",\"type\":\"GlyphRenderer\"},{\"attributes\":{\"line_color\":{\"value\":\"#AAB2A5\"},\"line_dash\":[6],\"line_width\":{\"value\":2},\"x\":{\"field\":\"x\"},\"y\":{\"field\":\"y\"}},\"id\":\"5b0389bf-e677-402e-a6be-17a9a80fcfa2\",\"type\":\"Line\"},{\"attributes\":{\"data_source\":{\"id\":\"988314b9-f43a-4053-923a-f3553dd62ad7\",\"type\":\"ColumnDataSource\"},\"glyph\":{\"id\":\"b53334f8-4982-471e-bd2f-65cd24f14a9b\",\"type\":\"Line\"},\"hover_glyph\":null,\"muted_glyph\":null,\"nonselection_glyph\":{\"id\":\"a8d6474f-2f2f-4eaf-9fc0-1d69380bfa37\",\"type\":\"Line\"},\"selection_glyph\":null},\"id\":\"379de840-9b64-4f7c-bab8-d886773d283a\",\"type\":\"GlyphRenderer\"},{\"attributes\":{},\"id\":\"0e87d220-74e9-4941-b685-7994927c481a\",\"type\":\"BasicTicker\"},{\"attributes\":{\"callback\":null,\"column_names\":[\"index\",\"pct\",\"colors\",\"thresholds\"],\"data\":{\"colors\":[\"#459E0F\",\"#E4E02C\",\"#E43216\"],\"index\":[0,1,2],\"pct\":{\"__ndarray__\":\"oCI7/ooy6D+hOrgrJ7HHP4jrbG2zEq4/\",\"dtype\":\"float64\",\"shape\":[3]},\"thresholds\":[\"green\",\"yellow\",\"red\"]}},\"id\":\"271775bb-7b22-4696-bd5a-cc8581c70f7a\",\"type\":\"ColumnDataSource\"},{\"attributes\":{\"fill_color\":{\"field\":\"colors\"},\"line_color\":{\"field\":\"colors\"},\"top\":{\"field\":\"pct\"},\"width\":{\"value\":0.6},\"x\":{\"field\":\"index\"}},\"id\":\"6805059b-8f76-4b70-8674-3aec1d6c5bcc\",\"type\":\"VBar\"},{\"attributes\":{\"line_alpha\":{\"value\":0.1},\"line_color\":{\"value\":\"#1f77b4\"},\"line_dash\":[6],\"line_width\":{\"value\":2},\"x\":{\"field\":\"x\"},\"y\":{\"field\":\"y\"}},\"id\":\"b1b207f3-ad4a-4e99-b6d9-7b003240e2b5\",\"type\":\"Line\"},{\"attributes\":{\"text\":\"<h1 style='margin-left:200px;margin-right:-400px;margin-bottom:18px;font-size:20px;                color:#7D7575'> Time thresholds for pick ups and drop offs </h1>\"},\"id\":\"162072b8-a70c-4dc5-a1a7-eae12bff3a9c\",\"type\":\"Div\"},{\"attributes\":{\"line_alpha\":{\"value\":0.1},\"line_color\":{\"value\":\"#1f77b4\"},\"line_dash\":[6],\"line_width\":{\"value\":2},\"x\":{\"field\":\"x\"},\"y\":{\"field\":\"y\"}},\"id\":\"9c6ef20b-d866-4d5c-91ab-7289e829a3e0\",\"type\":\"Line\"},{\"attributes\":{\"plot\":{\"id\":\"9e890229-37b1-4340-b9c1-4638756feed7\",\"subtype\":\"Figure\",\"type\":\"Plot\"}},\"id\":\"805a3be7-5be1-48b2-82ed-27e0a21540e6\",\"type\":\"SaveTool\"},{\"attributes\":{\"line_alpha\":{\"value\":0.1},\"line_color\":{\"value\":\"#1f77b4\"},\"line_dash\":[6],\"line_width\":{\"value\":2},\"x\":{\"field\":\"x\"},\"y\":{\"field\":\"y\"}},\"id\":\"a8d6474f-2f2f-4eaf-9fc0-1d69380bfa37\",\"type\":\"Line\"},{\"attributes\":{},\"id\":\"3fb310cf-60f6-4b77-9c1c-dfbb6d71662b\",\"type\":\"BasicTicker\"},{\"attributes\":{\"data_source\":{\"id\":\"b6f309d7-0f00-46b0-b944-0894547e2818\",\"type\":\"ColumnDataSource\"},\"glyph\":{\"id\":\"441d9de6-b944-43da-a82a-530aa24b64ef\",\"type\":\"HBar\"},\"hover_glyph\":null,\"muted_glyph\":null,\"nonselection_glyph\":{\"id\":\"79125ca2-3e13-4272-9c5b-19706418d8ae\",\"type\":\"HBar\"},\"selection_glyph\":null},\"id\":\"6d59999e-12d2-4b13-be62-0ac490e5dfc6\",\"type\":\"GlyphRenderer\"},{\"attributes\":{\"formatter\":{\"id\":\"72c587b6-d2dd-42ad-89f6-4c4d32e29b58\",\"type\":\"BasicTickFormatter\"},\"plot\":{\"id\":\"a0277a9d-9955-4eeb-9691-4c423d155969\",\"subtype\":\"Figure\",\"type\":\"Plot\"},\"ticker\":{\"id\":\"3fb310cf-60f6-4b77-9c1c-dfbb6d71662b\",\"type\":\"BasicTicker\"}},\"id\":\"49a3ba41-20d2-467f-aa21-45c39a8d499e\",\"type\":\"LinearAxis\"},{\"attributes\":{},\"id\":\"93802fa6-e523-4349-a1c9-6bc4b2d54a4a\",\"type\":\"BasicTickFormatter\"},{\"attributes\":{\"above\":[{\"id\":\"b1081655-1e5c-4d7c-a358-cb6cb004636b\",\"type\":\"Title\"}],\"below\":[{\"id\":\"dc6ab33e-3a06-441d-93b7-f85b0a8e768f\",\"type\":\"LinearAxis\"}],\"left\":[{\"id\":\"101b0c8a-baf5-4b06-ba6b-242b236404a8\",\"type\":\"LinearAxis\"}],\"plot_height\":400,\"plot_width\":400,\"renderers\":[{\"id\":\"dc6ab33e-3a06-441d-93b7-f85b0a8e768f\",\"type\":\"LinearAxis\"},{\"id\":\"7b28cbec-e792-4923-930d-444e8d63166a\",\"type\":\"Grid\"},{\"id\":\"101b0c8a-baf5-4b06-ba6b-242b236404a8\",\"type\":\"LinearAxis\"},{\"id\":\"2cea199a-52a9-4a1d-b4e2-f04412236704\",\"type\":\"Grid\"},{\"id\":\"cbd2767b-fff7-423d-b631-6f60275cf4cc\",\"type\":\"BoxAnnotation\"},{\"id\":\"ec84a212-323f-4930-bea7-18c7dc82464e\",\"type\":\"GlyphRenderer\"},{\"id\":\"7e9c7808-2ed0-4d2d-a3dc-c18908a1eb89\",\"type\":\"GlyphRenderer\"},{\"id\":\"1afd2cf6-3314-4afa-b9c4-db3f8ac5f64a\",\"type\":\"GlyphRenderer\"},{\"id\":\"038ebe1b-b71e-4e2d-a772-e4b17a043224\",\"type\":\"GlyphRenderer\"},{\"id\":\"67bd96dd-412b-4deb-9701-5c80e310cf6d\",\"type\":\"GlyphRenderer\"},{\"id\":\"395abc97-fc2d-4c82-be91-d8f7b1bf8de9\",\"type\":\"GlyphRenderer\"},{\"id\":\"af9beca3-19a7-4cb3-a858-0232156a136d\",\"type\":\"GlyphRenderer\"},{\"id\":\"7c24cbcf-75d5-4b08-aa97-3329fc128ae0\",\"type\":\"GlyphRenderer\"},{\"id\":\"eee6f376-9cf6-4a4a-8b8c-d4ec186844de\",\"type\":\"GlyphRenderer\"},{\"id\":\"cdf33f7d-5a41-4021-b820-da604f05df4f\",\"type\":\"GlyphRenderer\"},{\"id\":\"6d59999e-12d2-4b13-be62-0ac490e5dfc6\",\"type\":\"GlyphRenderer\"},{\"id\":\"379de840-9b64-4f7c-bab8-d886773d283a\",\"type\":\"GlyphRenderer\"},{\"id\":\"b1081655-1e5c-4d7c-a358-cb6cb004636b\",\"type\":\"Title\"}],\"title\":{\"id\":\"0c37d814-7a8a-4b0f-ace0-7f17b05d48fe\",\"type\":\"Title\"},\"tool_events\":{\"id\":\"0ff23400-ad1f-462e-82bf-637c191723ff\",\"type\":\"ToolEvents\"},\"toolbar\":{\"id\":\"fc77a0f0-245a-441f-861f-c1e577c5c984\",\"type\":\"Toolbar\"},\"x_range\":{\"id\":\"df9cb395-ac94-40e6-a6a7-36fe2e44ebda\",\"type\":\"DataRange1d\"},\"x_scale\":{\"id\":\"7b6c8b47-a231-47d6-837c-b163bb8aaace\",\"type\":\"LinearScale\"},\"y_range\":{\"id\":\"1cdcb97a-57cd-4eec-9e5a-944750daa45c\",\"type\":\"Range1d\"},\"y_scale\":{\"id\":\"5dd5a7be-98b1-4677-8e14-b205ede8eb0d\",\"type\":\"LinearScale\"}},\"id\":\"9e890229-37b1-4340-b9c1-4638756feed7\",\"subtype\":\"Figure\",\"type\":\"Plot\"},{\"attributes\":{\"dimension\":1,\"plot\":{\"id\":\"a0277a9d-9955-4eeb-9691-4c423d155969\",\"subtype\":\"Figure\",\"type\":\"Plot\"},\"ticker\":{\"id\":\"3fb310cf-60f6-4b77-9c1c-dfbb6d71662b\",\"type\":\"BasicTicker\"}},\"id\":\"1fe2d7f6-46b0-47c6-a426-979161163053\",\"type\":\"Grid\"},{\"attributes\":{\"above\":[{\"id\":\"6cc5814a-636c-48ad-8196-7bbc7370b354\",\"type\":\"Title\"}],\"below\":[{\"id\":\"c880ce2b-6d6c-4cb6-9254-a1098b05552e\",\"type\":\"LinearAxis\"}],\"left\":[{\"id\":\"49a3ba41-20d2-467f-aa21-45c39a8d499e\",\"type\":\"LinearAxis\"}],\"plot_height\":400,\"plot_width\":400,\"renderers\":[{\"id\":\"c880ce2b-6d6c-4cb6-9254-a1098b05552e\",\"type\":\"LinearAxis\"},{\"id\":\"a5257165-978d-47e9-aef2-3a6873debdfa\",\"type\":\"Grid\"},{\"id\":\"49a3ba41-20d2-467f-aa21-45c39a8d499e\",\"type\":\"LinearAxis\"},{\"id\":\"1fe2d7f6-46b0-47c6-a426-979161163053\",\"type\":\"Grid\"},{\"id\":\"6cc5814a-636c-48ad-8196-7bbc7370b354\",\"type\":\"Title\"},{\"id\":\"0abfc7b4-7436-4e41-b468-2ed3173edbb4\",\"type\":\"GlyphRenderer\"}],\"title\":{\"id\":\"c3108e51-c920-45dc-a84e-45c6e42c1edd\",\"type\":\"Title\"},\"tool_events\":{\"id\":\"04318ece-c6c2-47a1-ba49-d5ab1e58baa0\",\"type\":\"ToolEvents\"},\"toolbar\":{\"id\":\"91068dbe-2d4b-4760-b829-876e95143ad6\",\"type\":\"Toolbar\"},\"x_range\":{\"id\":\"2689502a-e04a-40eb-b805-b5a2d12732ed\",\"type\":\"DataRange1d\"},\"x_scale\":{\"id\":\"0b8c91a7-744d-487e-9c7f-9dee103ead4b\",\"type\":\"LinearScale\"},\"y_range\":{\"id\":\"60299e17-2f0f-444f-84a8-1c62b3f1c6e9\",\"type\":\"DataRange1d\"},\"y_scale\":{\"id\":\"6b32a4bc-2cec-47fa-8691-5f5685e9b42e\",\"type\":\"LinearScale\"}},\"id\":\"a0277a9d-9955-4eeb-9691-4c423d155969\",\"subtype\":\"Figure\",\"type\":\"Plot\"},{\"attributes\":{\"formatter\":{\"id\":\"93802fa6-e523-4349-a1c9-6bc4b2d54a4a\",\"type\":\"BasicTickFormatter\"},\"plot\":{\"id\":\"9e890229-37b1-4340-b9c1-4638756feed7\",\"subtype\":\"Figure\",\"type\":\"Plot\"},\"ticker\":{\"id\":\"0e87d220-74e9-4941-b685-7994927c481a\",\"type\":\"BasicTicker\"}},\"id\":\"dc6ab33e-3a06-441d-93b7-f85b0a8e768f\",\"type\":\"LinearAxis\"},{\"attributes\":{\"callback\":null,\"data\":{}},\"id\":\"e7474ac7-4d88-40a7-875a-3f6027f17493\",\"type\":\"ColumnDataSource\"},{\"attributes\":{\"data_source\":{\"id\":\"ecc3b2ea-4ba5-4f6e-a9a8-cec340c933ef\",\"type\":\"ColumnDataSource\"},\"glyph\":{\"id\":\"e6145f7e-34fb-4003-9189-bd46bb507ae7\",\"type\":\"Line\"},\"hover_glyph\":null,\"muted_glyph\":null,\"nonselection_glyph\":{\"id\":\"30caae1a-d471-47de-aaed-5b9e143c3a95\",\"type\":\"Line\"},\"selection_glyph\":null},\"id\":\"7e9c7808-2ed0-4d2d-a3dc-c18908a1eb89\",\"type\":\"GlyphRenderer\"},{\"attributes\":{\"fill_alpha\":{\"value\":0.1},\"fill_color\":{\"value\":\"#1f77b4\"},\"height\":{\"value\":0.3},\"left\":{\"value\":-0.3677196446199408},\"line_alpha\":{\"value\":0.1},\"line_color\":{\"value\":\"#1f77b4\"},\"right\":{\"value\":0},\"y\":{\"value\":1}},\"id\":\"f60f975c-8ba6-478f-b515-6cf485e055cf\",\"type\":\"HBar\"},{\"attributes\":{\"grid_line_color\":{\"value\":null},\"plot\":{\"id\":\"9e890229-37b1-4340-b9c1-4638756feed7\",\"subtype\":\"Figure\",\"type\":\"Plot\"},\"ticker\":{\"id\":\"0e87d220-74e9-4941-b685-7994927c481a\",\"type\":\"BasicTicker\"}},\"id\":\"7b28cbec-e792-4923-930d-444e8d63166a\",\"type\":\"Grid\"},{\"attributes\":{\"fill_color\":{\"value\":\"#E43216\"},\"height\":{\"value\":0.3},\"left\":{\"value\":0.510365251727542},\"line_color\":{\"value\":\"#E43216\"},\"right\":{\"value\":0.5621915103652517},\"y\":{\"value\":1}},\"id\":\"441d9de6-b944-43da-a82a-530aa24b64ef\",\"type\":\"HBar\"}],\"root_ids\":[\"058d9356-a96f-4475-849e-d27b0ded26b9\"]},\"title\":\"Bokeh Application\",\"version\":\"0.12.6\"}};\n",
       "            var render_items = [{\"docid\":\"4aea2bac-c454-4451-bfa2-459ef72dbe1f\",\"elementid\":\"b9428355-7866-4c7f-b84f-db7518b1693d\",\"modelid\":\"058d9356-a96f-4475-849e-d27b0ded26b9\"}];\n",
       "            \n",
       "            Bokeh.embed.embed_items(docs_json, render_items);\n",
       "          };\n",
       "          if (document.readyState != \"loading\") fn();\n",
       "          else document.addEventListener(\"DOMContentLoaded\", fn);\n",
       "        })();\n",
       "      },\n",
       "      function(Bokeh) {\n",
       "      }\n",
       "    ];\n",
       "  \n",
       "    function run_inline_js() {\n",
       "      \n",
       "      if ((window.Bokeh !== undefined) || (force === true)) {\n",
       "        for (var i = 0; i < inline_js.length; i++) {\n",
       "          inline_js[i](window.Bokeh);\n",
       "        }if (force === true) {\n",
       "          display_loaded();\n",
       "        }} else if (Date.now() < window._bokeh_timeout) {\n",
       "        setTimeout(run_inline_js, 100);\n",
       "      } else if (!window._bokeh_failed_load) {\n",
       "        console.log(\"Bokeh: BokehJS failed to load within specified timeout.\");\n",
       "        window._bokeh_failed_load = true;\n",
       "      } else if (force !== true) {\n",
       "        var cell = $(document.getElementById(\"b9428355-7866-4c7f-b84f-db7518b1693d\")).parents('.cell').data().cell;\n",
       "        cell.output_area.append_execute_result(NB_LOAD_WARNING)\n",
       "      }\n",
       "  \n",
       "    }\n",
       "  \n",
       "    if (window._bokeh_is_loading === 0) {\n",
       "      console.log(\"Bokeh: BokehJS loaded, going straight to plotting\");\n",
       "      run_inline_js();\n",
       "    } else {\n",
       "      load_libs(js_urls, function() {\n",
       "        console.log(\"Bokeh: BokehJS plotting callback run at\", now());\n",
       "        run_inline_js();\n",
       "      });\n",
       "    }\n",
       "  }(this));\n",
       "</script>"
      ]
     },
     "metadata": {},
     "output_type": "display_data"
    }
   ],
   "source": [
    "time_threshold = plot_horizontal_time_thresholds(group_threshold, 400, 400, 'pct', 'colors', \"Rush/delays within time thresholds\")\n",
    "within_thresholds = plot_total_pct_thresholds(region_group, 400, 400, \"index\", \"pct\", \"colors\", \"Total percentage within thresholds\")\n",
    "show(column(Div(text=\"<h1 style='margin-left:200px;margin-right:-400px;margin-bottom:18px;font-size:20px;\\\n",
    "                color:#7D7575'> Time thresholds for pick ups and drop offs </h1>\"), row(time_threshold, within_thresholds)))"
   ]
  },
  {
   "cell_type": "markdown",
   "metadata": {},
   "source": [
    "### Differences in pick ups / drop offs\n",
    "\n",
    "Here we analyze the differences between pick ups and drop off. Evidently, there is a difference between actual time when we talk about pick ups and drop offs. Particularly, if the difference is significance for pick up it might be that the service will never be provided (e.g. could lead to cancellations).\n",
    "\n",
    "To enter in this level of analysis we will calculate the differences for pick ups and drop offs respectively.\n"
   ]
  },
  {
   "cell_type": "code",
   "execution_count": 55,
   "metadata": {},
   "outputs": [],
   "source": [
    "exp_act_time_pick_up = exp_act_time[exp_act_time[\"type\"]==\"pickup\"].reset_index()\n",
    "exp_act_time_drop_off = exp_act_time[exp_act_time[\"type\"]==\"dropoff\"].reset_index()"
   ]
  },
  {
   "cell_type": "code",
   "execution_count": 56,
   "metadata": {},
   "outputs": [
    {
     "data": {
      "image/png": "[encoded data removed]",
      "text/plain": [
       "<matplotlib.figure.Figure at 0x1104497b8>"
      ]
     },
     "metadata": {},
     "output_type": "display_data"
    }
   ],
   "source": [
    "fig, ax = plt.subplots(2, figsize=(10,7))\n",
    "sns.distplot(exp_act_time_pick_up[\"time_diff_min\"], kde=False, ax=ax[0])\n",
    "sns.distplot(exp_act_time_drop_off[\"time_diff_min\"], kde=False, ax=ax[1])\n",
    "ax[0].set_title(\"Distribution of difference - pick ups \\n Actual Time Expected Time (minutes)\")\n",
    "ax[1].set_title(\"Distribution of difference - drop off \\n Actual Time Expected Time (minutes)\")\n",
    "for ax in ax.flatten():\n",
    "    ax.set_ylabel(\"Counts minutes\")\n",
    "    ax.set_ylabel(\"Counts minutes\")\n",
    "    ax.set_xlabel(\"Time difference\")\n",
    "    ax.axvline(0, color=\"#44999E\", linestyle='--')\n",
    "fig.tight_layout() "
   ]
  },
  {
   "cell_type": "code",
   "execution_count": 57,
   "metadata": {},
   "outputs": [
    {
     "name": "stdout",
     "output_type": "stream",
     "text": [
      "Statistics for Pick ups\n",
      "Total difference (hours): 18.453\n",
      "Average (seconds): 32.789\n",
      "Standard deviation (seconds): 208.060\n"
     ]
    }
   ],
   "source": [
    "print(\"Statistics for Pick ups\")\n",
    "print_stats(exp_act_time_pick_up,\"time_diff\")"
   ]
  },
  {
   "cell_type": "code",
   "execution_count": 58,
   "metadata": {},
   "outputs": [
    {
     "name": "stdout",
     "output_type": "stream",
     "text": [
      "Statistics for Drop offs\n",
      "Total difference (hours): 12.929\n",
      "Average (seconds): 22.973\n",
      "Standard deviation (seconds): 292.788\n"
     ]
    }
   ],
   "source": [
    "print(\"Statistics for Drop offs\")\n",
    "print_stats(exp_act_time_drop_off,\"time_diff\")"
   ]
  },
  {
   "cell_type": "markdown",
   "metadata": {},
   "source": [
    "Checking the distributions, we can see that the differences between actual and expected time for pick ups are more spread than that of drop off time. Also, while drop off tend to be more centered at 0, the pick up is more shifted towards positive values.\n",
    "\n",
    "These differences are also clear when we see at the statistics: the differences in averages for both distribution is almost 10 seconds. The standard deviation for the drop off is a bit higher, presumably this could be due to the higher number of extreme values in this distribution."
   ]
  },
  {
   "cell_type": "code",
   "execution_count": 59,
   "metadata": {},
   "outputs": [],
   "source": [
    "threshold_pick_up =  get_thresholds_groups(exp_act_time_pick_up, \"time_diff_min\")\n",
    "within_thresh_pick_up = get_region_threshold_groups(threshold_pick_up, \"colors\")\n",
    "threshold_drop_off = get_thresholds_groups(exp_act_time_drop_off, \"time_diff_min\")\n",
    "within_thresh_drop_off = get_region_threshold_groups(threshold_drop_off, \"colors\")"
   ]
  },
  {
   "cell_type": "code",
   "execution_count": 82,
   "metadata": {},
   "outputs": [
    {
     "data": {
      "text/html": [
       "\n",
       "\n",
       "    <div class=\"bk-root\">\n",
       "        <div class=\"bk-plotdiv\" id=\"d934ae10-9779-49cf-ac75-78fe443e453a\"></div>\n",
       "    </div>\n",
       "<script type=\"text/javascript\">\n",
       "  \n",
       "  (function(global) {\n",
       "    function now() {\n",
       "      return new Date();\n",
       "    }\n",
       "  \n",
       "    var force = false;\n",
       "  \n",
       "    if (typeof (window._bokeh_onload_callbacks) === \"undefined\" || force === true) {\n",
       "      window._bokeh_onload_callbacks = [];\n",
       "      window._bokeh_is_loading = undefined;\n",
       "    }\n",
       "  \n",
       "  \n",
       "    \n",
       "    if (typeof (window._bokeh_timeout) === \"undefined\" || force === true) {\n",
       "      window._bokeh_timeout = Date.now() + 0;\n",
       "      window._bokeh_failed_load = false;\n",
       "    }\n",
       "  \n",
       "    var NB_LOAD_WARNING = {'data': {'text/html':\n",
       "       \"<div style='background-color: #fdd'>\\n\"+\n",
       "       \"<p>\\n\"+\n",
       "       \"BokehJS does not appear to have successfully loaded. If loading BokehJS from CDN, this \\n\"+\n",
       "       \"may be due to a slow or bad network connection. Possible fixes:\\n\"+\n",
       "       \"</p>\\n\"+\n",
       "       \"<ul>\\n\"+\n",
       "       \"<li>re-rerun `output_notebook()` to attempt to load from CDN again, or</li>\\n\"+\n",
       "       \"<li>use INLINE resources instead, as so:</li>\\n\"+\n",
       "       \"</ul>\\n\"+\n",
       "       \"<code>\\n\"+\n",
       "       \"from bokeh.resources import INLINE\\n\"+\n",
       "       \"output_notebook(resources=INLINE)\\n\"+\n",
       "       \"</code>\\n\"+\n",
       "       \"</div>\"}};\n",
       "  \n",
       "    function display_loaded() {\n",
       "      if (window.Bokeh !== undefined) {\n",
       "        var el = document.getElementById(\"d934ae10-9779-49cf-ac75-78fe443e453a\");\n",
       "        el.textContent = \"BokehJS \" + Bokeh.version + \" successfully loaded.\";\n",
       "      } else if (Date.now() < window._bokeh_timeout) {\n",
       "        setTimeout(display_loaded, 100)\n",
       "      }\n",
       "    }\n",
       "  \n",
       "    function run_callbacks() {\n",
       "      try {\n",
       "        window._bokeh_onload_callbacks.forEach(function(callback) { callback() });\n",
       "      }\n",
       "      finally {\n",
       "        delete window._bokeh_onload_callbacks\n",
       "      }\n",
       "      console.info(\"Bokeh: all callbacks have finished\");\n",
       "    }\n",
       "  \n",
       "    function load_libs(js_urls, callback) {\n",
       "      window._bokeh_onload_callbacks.push(callback);\n",
       "      if (window._bokeh_is_loading > 0) {\n",
       "        console.log(\"Bokeh: BokehJS is being loaded, scheduling callback at\", now());\n",
       "        return null;\n",
       "      }\n",
       "      if (js_urls == null || js_urls.length === 0) {\n",
       "        run_callbacks();\n",
       "        return null;\n",
       "      }\n",
       "      console.log(\"Bokeh: BokehJS not loaded, scheduling load and callback at\", now());\n",
       "      window._bokeh_is_loading = js_urls.length;\n",
       "      for (var i = 0; i < js_urls.length; i++) {\n",
       "        var url = js_urls[i];\n",
       "        var s = document.createElement('script');\n",
       "        s.src = url;\n",
       "        s.async = false;\n",
       "        s.onreadystatechange = s.onload = function() {\n",
       "          window._bokeh_is_loading--;\n",
       "          if (window._bokeh_is_loading === 0) {\n",
       "            console.log(\"Bokeh: all BokehJS libraries loaded\");\n",
       "            run_callbacks()\n",
       "          }\n",
       "        };\n",
       "        s.onerror = function() {\n",
       "          console.warn(\"failed to load library \" + url);\n",
       "        };\n",
       "        console.log(\"Bokeh: injecting script tag for BokehJS library: \", url);\n",
       "        document.getElementsByTagName(\"head\")[0].appendChild(s);\n",
       "      }\n",
       "    };var element = document.getElementById(\"d934ae10-9779-49cf-ac75-78fe443e453a\");\n",
       "    if (element == null) {\n",
       "      console.log(\"Bokeh: ERROR: autoload.js configured with elementid 'd934ae10-9779-49cf-ac75-78fe443e453a' but no matching script tag was found. \")\n",
       "      return false;\n",
       "    }\n",
       "  \n",
       "    var js_urls = [];\n",
       "  \n",
       "    var inline_js = [\n",
       "      function(Bokeh) {\n",
       "        (function() {\n",
       "          var fn = function() {\n",
       "            var docs_json = {\"06377122-ce83-4d35-bc76-eb3bf5db9cf8\":{\"roots\":{\"references\":[{\"attributes\":{\"callback\":null,\"column_names\":[\"x\",\"y\"],\"data\":{\"x\":[0,0],\"y\":[0.5,1.5]}},\"id\":\"0025cfee-59d8-439e-ad81-b5aaf2af9798\",\"type\":\"ColumnDataSource\"},{\"attributes\":{},\"id\":\"b74d9a9e-aa15-4f15-8b55-32a17758fa92\",\"type\":\"BasicTicker\"},{\"attributes\":{\"overlay\":{\"id\":\"7883fbad-3bd2-4643-bc52-f8cc457c1d9a\",\"type\":\"BoxAnnotation\"},\"plot\":{\"id\":\"2f755c79-4305-4870-a173-f8c9667262b8\",\"subtype\":\"Figure\",\"type\":\"Plot\"}},\"id\":\"fc979069-c716-451c-aaec-aa5b41fa45c4\",\"type\":\"BoxZoomTool\"},{\"attributes\":{\"data_source\":{\"id\":\"fe27a635-1067-4782-ab53-9a2d36026442\",\"type\":\"ColumnDataSource\"},\"glyph\":{\"id\":\"59e60d35-16c3-49ef-a175-3aaf1664b3dc\",\"type\":\"HBar\"},\"hover_glyph\":null,\"muted_glyph\":null,\"nonselection_glyph\":{\"id\":\"ee85f45d-b994-41e0-bf7c-b58168b4da63\",\"type\":\"HBar\"},\"selection_glyph\":null},\"id\":\"714146bc-6a20-42e9-9277-13534ca8c7ab\",\"type\":\"GlyphRenderer\"},{\"attributes\":{\"fill_alpha\":{\"value\":0.1},\"fill_color\":{\"value\":\"#1f77b4\"},\"height\":{\"value\":0.3},\"left\":{\"value\":-0.3865877712031558},\"line_alpha\":{\"value\":0.1},\"line_color\":{\"value\":\"#1f77b4\"},\"right\":{\"value\":-0.3264299802761341},\"y\":{\"value\":1}},\"id\":\"f65e02d8-cde9-422c-bdfb-81fb04dee097\",\"type\":\"HBar\"},{\"attributes\":{\"fill_color\":{\"value\":\"#459E0F\"},\"height\":{\"value\":0.3},\"left\":{\"value\":-0.3264299802761341},\"line_color\":{\"value\":\"#459E0F\"},\"right\":{\"value\":0},\"y\":{\"value\":1}},\"id\":\"fbfc23a9-0029-4c11-9edd-edb13a4846c6\",\"type\":\"HBar\"},{\"attributes\":{},\"id\":\"5d1f1530-a0db-4b01-951a-1855625638c6\",\"type\":\"BasicTickFormatter\"},{\"attributes\":{\"fill_alpha\":{\"value\":0.1},\"fill_color\":{\"value\":\"#1f77b4\"},\"height\":{\"value\":0.3},\"left\":{\"value\":0.41913214990138065},\"line_alpha\":{\"value\":0.1},\"line_color\":{\"value\":\"#1f77b4\"},\"right\":{\"value\":0.5641025641025641},\"y\":{\"value\":1}},\"id\":\"29e36456-5f03-46bf-b19a-29e760198c41\",\"type\":\"HBar\"},{\"attributes\":{\"grid_line_color\":{\"value\":null},\"plot\":{\"id\":\"2f755c79-4305-4870-a173-f8c9667262b8\",\"subtype\":\"Figure\",\"type\":\"Plot\"},\"ticker\":{\"id\":\"b0608826-5147-4f6f-b2de-49c477fec622\",\"type\":\"BasicTicker\"}},\"id\":\"0b8cb873-a2a3-4fce-b96e-6bcbf82faeb6\",\"type\":\"Grid\"},{\"attributes\":{},\"id\":\"2220fa4b-0e2e-4d5f-8884-6a7b9eb48e2d\",\"type\":\"BasicTickFormatter\"},{\"attributes\":{\"callback\":null,\"data\":{}},\"id\":\"dec7fa37-05e2-4c9b-8fc6-cfde5f7217e4\",\"type\":\"ColumnDataSource\"},{\"attributes\":{\"fill_color\":{\"value\":\"#E43216\"},\"height\":{\"value\":0.3},\"left\":{\"value\":-0.388560157790927},\"line_color\":{\"value\":\"#E43216\"},\"right\":{\"value\":-0.3865877712031558},\"y\":{\"value\":1}},\"id\":\"96939064-a337-4983-9333-ff4d1d98767d\",\"type\":\"HBar\"},{\"attributes\":{\"line_alpha\":{\"value\":0.1},\"line_color\":{\"value\":\"#1f77b4\"},\"line_dash\":[6],\"line_width\":{\"value\":2},\"x\":{\"field\":\"x\"},\"y\":{\"field\":\"y\"}},\"id\":\"ef515f0f-511a-4df7-ba7d-4ad88dbd4297\",\"type\":\"Line\"},{\"attributes\":{\"callback\":null},\"id\":\"b25bdbe3-6d99-4c1a-94f9-8a8f01d634a9\",\"type\":\"DataRange1d\"},{\"attributes\":{\"formatter\":{\"id\":\"7ab34aaf-e0f1-4d9c-95f9-44f9eaa53fc2\",\"type\":\"BasicTickFormatter\"},\"plot\":{\"id\":\"b3b52e22-9f7f-4395-af2f-c2896360c5b5\",\"subtype\":\"Figure\",\"type\":\"Plot\"},\"ticker\":{\"id\":\"1d8e336d-f4f8-4122-9704-e38cc2bbd3b9\",\"type\":\"BasicTicker\"}},\"id\":\"be36f694-47e4-48d7-a6b1-d4af7f378d6d\",\"type\":\"LinearAxis\"},{\"attributes\":{\"fill_alpha\":{\"value\":0.1},\"fill_color\":{\"value\":\"#1f77b4\"},\"height\":{\"value\":0.3},\"left\":{\"value\":0.5641025641025641},\"line_alpha\":{\"value\":0.1},\"line_color\":{\"value\":\"#1f77b4\"},\"right\":{\"value\":0.611439842209073},\"y\":{\"value\":1}},\"id\":\"39129a03-463c-4abe-a31a-b15b7b5608e2\",\"type\":\"HBar\"},{\"attributes\":{\"data_source\":{\"id\":\"5860e754-bd52-4dea-9eff-1ccc4012f733\",\"type\":\"ColumnDataSource\"},\"glyph\":{\"id\":\"8d3976de-fe91-44bf-8b27-8400f0e1051e\",\"type\":\"Line\"},\"hover_glyph\":null,\"muted_glyph\":null,\"nonselection_glyph\":{\"id\":\"f2c0c82c-c2e6-4cc8-bf88-c2d30f5fc847\",\"type\":\"Line\"},\"selection_glyph\":null},\"id\":\"7faf9f94-3463-4f54-9d2f-41e1f50dfa95\",\"type\":\"GlyphRenderer\"},{\"attributes\":{\"fill_alpha\":{\"value\":0.1},\"fill_color\":{\"value\":\"#1f77b4\"},\"height\":{\"value\":0.3},\"left\":{\"value\":-0.4090909090909091},\"line_alpha\":{\"value\":0.1},\"line_color\":{\"value\":\"#1f77b4\"},\"right\":{\"value\":0},\"y\":{\"value\":1}},\"id\":\"4d08e4bd-2786-4904-b5c4-65b96ad1e3bb\",\"type\":\"HBar\"},{\"attributes\":{\"dimension\":1,\"plot\":{\"id\":\"30850002-55d5-4cf5-9601-2fbc580eb970\",\"subtype\":\"Figure\",\"type\":\"Plot\"},\"ticker\":{\"id\":\"bd7dc20d-cbbf-41b3-91c7-67035ebe7cea\",\"type\":\"BasicTicker\"}},\"id\":\"5974f1c9-c657-4203-aba6-49067e656824\",\"type\":\"Grid\"},{\"attributes\":{},\"id\":\"b0608826-5147-4f6f-b2de-49c477fec622\",\"type\":\"BasicTicker\"},{\"attributes\":{\"line_alpha\":{\"value\":0.1},\"line_color\":{\"value\":\"#1f77b4\"},\"line_dash\":[6],\"line_width\":{\"value\":2},\"x\":{\"field\":\"x\"},\"y\":{\"field\":\"y\"}},\"id\":\"ba8f9852-efa1-4dc7-bad9-8b96f1a37a0b\",\"type\":\"Line\"},{\"attributes\":{\"data_source\":{\"id\":\"e5f24f70-7644-46da-a538-82c2142e66e5\",\"type\":\"ColumnDataSource\"},\"glyph\":{\"id\":\"05669eca-bc4a-479b-b998-efb206e00c2f\",\"type\":\"VBar\"},\"hover_glyph\":null,\"muted_glyph\":null,\"nonselection_glyph\":{\"id\":\"8ef44f08-8f98-4c67-a53f-16dad8470222\",\"type\":\"VBar\"},\"selection_glyph\":null},\"id\":\"ee165908-68c6-4979-8259-3e35cc8a2d89\",\"type\":\"GlyphRenderer\"},{\"attributes\":{\"line_color\":{\"value\":\"#AAB2A5\"},\"line_dash\":[6],\"line_width\":{\"value\":2},\"x\":{\"field\":\"x\"},\"y\":{\"field\":\"y\"}},\"id\":\"935a2dd1-fe79-4dec-aaba-e4b797585456\",\"type\":\"Line\"},{\"attributes\":{\"data_source\":{\"id\":\"c7255bda-d85b-4d63-b007-f430f28004ef\",\"type\":\"ColumnDataSource\"},\"glyph\":{\"id\":\"d5a9de45-26c6-449b-9051-0139c5acd0aa\",\"type\":\"Line\"},\"hover_glyph\":null,\"muted_glyph\":null,\"nonselection_glyph\":{\"id\":\"66f65247-7457-455f-b93d-298be4e7184f\",\"type\":\"Line\"},\"selection_glyph\":null},\"id\":\"c7a27962-0e58-4476-91c9-9d08e8c32aa8\",\"type\":\"GlyphRenderer\"},{\"attributes\":{\"above\":[{\"id\":\"ca274f64-cb25-4e94-b54a-26fe92ea69d0\",\"type\":\"Title\"}],\"below\":[{\"id\":\"582b26c5-b90d-464e-991c-32f42568051d\",\"type\":\"LinearAxis\"}],\"left\":[{\"id\":\"023880d7-7159-41fe-8ed6-a69ea0fceaac\",\"type\":\"LinearAxis\"}],\"plot_height\":300,\"plot_width\":400,\"renderers\":[{\"id\":\"582b26c5-b90d-464e-991c-32f42568051d\",\"type\":\"LinearAxis\"},{\"id\":\"7ab36cc0-06eb-4afc-b4ed-a00c16fa0a40\",\"type\":\"Grid\"},{\"id\":\"023880d7-7159-41fe-8ed6-a69ea0fceaac\",\"type\":\"LinearAxis\"},{\"id\":\"f63b021c-bc84-40a3-9815-1cbb74a3ee7b\",\"type\":\"Grid\"},{\"id\":\"6a36c1a4-ebeb-4221-9168-cc52b0352003\",\"type\":\"BoxAnnotation\"},{\"id\":\"849f0473-724e-454b-92b2-2c5ed8717e27\",\"type\":\"GlyphRenderer\"},{\"id\":\"c7a27962-0e58-4476-91c9-9d08e8c32aa8\",\"type\":\"GlyphRenderer\"},{\"id\":\"e50d865a-d3ef-4cd1-ac99-0f9b72072f60\",\"type\":\"GlyphRenderer\"},{\"id\":\"33b9463f-461d-4689-8e3e-09c65068cecc\",\"type\":\"GlyphRenderer\"},{\"id\":\"714146bc-6a20-42e9-9277-13534ca8c7ab\",\"type\":\"GlyphRenderer\"},{\"id\":\"8a296a9e-fd29-4789-a632-4aa4007200a3\",\"type\":\"GlyphRenderer\"},{\"id\":\"f8fcb8e8-c6af-479d-ad84-d9f3d9a0af5b\",\"type\":\"GlyphRenderer\"},{\"id\":\"d3b336d3-d2aa-45d3-a63d-cc11e3793b33\",\"type\":\"GlyphRenderer\"},{\"id\":\"9bbe757b-4ee6-445f-ba88-fac24bc80e95\",\"type\":\"GlyphRenderer\"},{\"id\":\"9dfd7146-695b-4400-a158-d239ea77a730\",\"type\":\"GlyphRenderer\"},{\"id\":\"1910ace1-5264-4bfb-9d7b-e42a43f7f3da\",\"type\":\"GlyphRenderer\"},{\"id\":\"ba9d5eee-e0ca-4b0a-8e76-760e97a34648\",\"type\":\"GlyphRenderer\"},{\"id\":\"ca274f64-cb25-4e94-b54a-26fe92ea69d0\",\"type\":\"Title\"}],\"title\":{\"id\":\"5ea002cc-4569-42b6-ad5a-918a11fa566d\",\"type\":\"Title\"},\"tool_events\":{\"id\":\"5069fa52-555a-4e6f-ad87-c320ce8331b5\",\"type\":\"ToolEvents\"},\"toolbar\":{\"id\":\"de4084ac-993a-4af9-839d-3f94e6116d5b\",\"type\":\"Toolbar\"},\"x_range\":{\"id\":\"28b868f1-10ff-4d99-84fe-e0758a81a58c\",\"type\":\"DataRange1d\"},\"x_scale\":{\"id\":\"353358a5-1f98-4186-9b9a-ace1f408ee1b\",\"type\":\"LinearScale\"},\"y_range\":{\"id\":\"41351ed5-d3a3-4561-b13e-e61b970f9f51\",\"type\":\"Range1d\"},\"y_scale\":{\"id\":\"5cf7f0df-bd9b-48c2-bfd1-2c9922029671\",\"type\":\"LinearScale\"}},\"id\":\"4fbf11e9-3eaf-4664-af57-ba7bff923ff3\",\"subtype\":\"Figure\",\"type\":\"Plot\"},{\"attributes\":{\"line_alpha\":{\"value\":0.1},\"line_color\":{\"value\":\"#1f77b4\"},\"line_dash\":[6],\"line_width\":{\"value\":2},\"x\":{\"field\":\"x\"},\"y\":{\"field\":\"y\"}},\"id\":\"e24c64ae-0b10-4abe-835f-7e43603b8650\",\"type\":\"Line\"},{\"attributes\":{\"callback\":null},\"id\":\"07d32cff-28d5-4f14-a08a-a6879aa71ed9\",\"type\":\"DataRange1d\"},{\"attributes\":{\"data_source\":{\"id\":\"fd48a469-58e9-410c-a842-bb4ee2725444\",\"type\":\"ColumnDataSource\"},\"glyph\":{\"id\":\"4ff4d5bc-cfdf-4502-a473-e261fbf8624b\",\"type\":\"Line\"},\"hover_glyph\":null,\"muted_glyph\":null,\"nonselection_glyph\":{\"id\":\"7482e19c-ae42-4d81-bb93-c97db8b4db95\",\"type\":\"Line\"},\"selection_glyph\":null},\"id\":\"576962cf-1756-4d36-b01f-8a6e8bf036be\",\"type\":\"GlyphRenderer\"},{\"attributes\":{\"fill_alpha\":{\"value\":0.1},\"fill_color\":{\"value\":\"#1f77b4\"},\"height\":{\"value\":0.3},\"line_alpha\":{\"value\":0.1},\"line_color\":{\"value\":\"#1f77b4\"},\"right\":{\"value\":0.41913214990138065},\"y\":{\"value\":1}},\"id\":\"51c43f51-524d-4fd9-941d-2d6ae3582110\",\"type\":\"HBar\"},{\"attributes\":{\"children\":[{\"id\":\"2f755c79-4305-4870-a173-f8c9667262b8\",\"subtype\":\"Figure\",\"type\":\"Plot\"},{\"id\":\"b3b52e22-9f7f-4395-af2f-c2896360c5b5\",\"subtype\":\"Figure\",\"type\":\"Plot\"}]},\"id\":\"93bb92ca-c88a-4643-b316-e9f701edea3a\",\"type\":\"Row\"},{\"attributes\":{\"fill_alpha\":{\"value\":0.1},\"fill_color\":{\"value\":\"#1f77b4\"},\"height\":{\"value\":0.3},\"left\":{\"value\":-0.47529644268774707},\"line_alpha\":{\"value\":0.1},\"line_color\":{\"value\":\"#1f77b4\"},\"right\":{\"value\":-0.4090909090909091},\"y\":{\"value\":1}},\"id\":\"0644249a-2506-499f-bd95-140cc10a10d2\",\"type\":\"HBar\"},{\"attributes\":{\"callback\":null,\"data\":{}},\"id\":\"ad5ce6fb-b018-474b-976e-2e1f05b5cb26\",\"type\":\"ColumnDataSource\"},{\"attributes\":{\"callback\":null,\"column_names\":[\"x\",\"y\"],\"data\":{\"x\":[-0.47529644268774707,-0.47529644268774707],\"y\":[0.5,1.5]}},\"id\":\"f84041ca-ad2a-4952-acff-f86ad8ad141f\",\"type\":\"ColumnDataSource\"},{\"attributes\":{\"plot\":null,\"text\":\"\"},\"id\":\"5ea002cc-4569-42b6-ad5a-918a11fa566d\",\"type\":\"Title\"},{\"attributes\":{\"data_source\":{\"id\":\"35447d6c-82cf-4c55-a63c-0fa1f40fb40f\",\"type\":\"ColumnDataSource\"},\"glyph\":{\"id\":\"130c89dd-e6a4-426c-be50-5605b4b022c7\",\"type\":\"Line\"},\"hover_glyph\":null,\"muted_glyph\":null,\"nonselection_glyph\":{\"id\":\"66d520f7-c27b-43cc-93d2-3376a6f83df8\",\"type\":\"Line\"},\"selection_glyph\":null},\"id\":\"9dfd7146-695b-4400-a158-d239ea77a730\",\"type\":\"GlyphRenderer\"},{\"attributes\":{\"line_color\":{\"value\":\"#AAB2A5\"},\"line_dash\":[6],\"line_width\":{\"value\":2},\"x\":{\"field\":\"x\"},\"y\":{\"field\":\"y\"}},\"id\":\"130c89dd-e6a4-426c-be50-5605b4b022c7\",\"type\":\"Line\"},{\"attributes\":{\"data_source\":{\"id\":\"24420e84-b968-4438-a2a5-1f78896b2831\",\"type\":\"ColumnDataSource\"},\"glyph\":{\"id\":\"0fab864a-ef46-489d-8f8d-fb01cf01699a\",\"type\":\"Line\"},\"hover_glyph\":null,\"muted_glyph\":null,\"nonselection_glyph\":{\"id\":\"ef515f0f-511a-4df7-ba7d-4ad88dbd4297\",\"type\":\"Line\"},\"selection_glyph\":null},\"id\":\"d3b336d3-d2aa-45d3-a63d-cc11e3793b33\",\"type\":\"GlyphRenderer\"},{\"attributes\":{\"plot\":{\"id\":\"30850002-55d5-4cf5-9601-2fbc580eb970\",\"subtype\":\"Figure\",\"type\":\"Plot\"},\"ticker\":{\"id\":\"abd05b4d-ed94-45c1-93cf-ff8eec5ef5c2\",\"type\":\"BasicTicker\"}},\"id\":\"a4f73a86-ca70-412e-af6f-242f80f5e4bc\",\"type\":\"Grid\"},{\"attributes\":{\"formatter\":{\"id\":\"a71d25a7-19b9-42a0-b314-d267207f0a77\",\"type\":\"BasicTickFormatter\"},\"plot\":{\"id\":\"4fbf11e9-3eaf-4664-af57-ba7bff923ff3\",\"subtype\":\"Figure\",\"type\":\"Plot\"},\"ticker\":{\"id\":\"6168f75b-2b45-4fca-a01d-4e78bd542fb9\",\"type\":\"BasicTicker\"},\"visible\":false},\"id\":\"023880d7-7159-41fe-8ed6-a69ea0fceaac\",\"type\":\"LinearAxis\"},{\"attributes\":{\"callback\":null,\"data\":{}},\"id\":\"a51f2237-3d50-4c0c-b2d4-79ddc0917a55\",\"type\":\"ColumnDataSource\"},{\"attributes\":{\"text\":\"<h1 style='margin-left:200px;margin-right:-400px;margin-bottom:18px;font-size:20px;                color:#7D7575'> Time thresholds for pick ups / drop offs </h1>\"},\"id\":\"550f31f6-0439-4546-9d8c-d87c98ecc24a\",\"type\":\"Div\"},{\"attributes\":{\"fill_color\":{\"field\":\"colors\"},\"line_color\":{\"field\":\"colors\"},\"top\":{\"field\":\"pct\"},\"width\":{\"value\":0.6},\"x\":{\"field\":\"index\"}},\"id\":\"c961dc5a-9623-4fa8-86e7-7d20a4f4397d\",\"type\":\"VBar\"},{\"attributes\":{},\"id\":\"c0776c95-dda2-4468-9826-b4b8bcedefde\",\"type\":\"BasicTickFormatter\"},{\"attributes\":{\"data_source\":{\"id\":\"9e7b6a11-e759-4615-8764-dee6497a557e\",\"type\":\"ColumnDataSource\"},\"glyph\":{\"id\":\"a7c24003-cb4b-4193-830f-7fb29a032066\",\"type\":\"HBar\"},\"hover_glyph\":null,\"muted_glyph\":null,\"nonselection_glyph\":{\"id\":\"51c43f51-524d-4fd9-941d-2d6ae3582110\",\"type\":\"HBar\"},\"selection_glyph\":null},\"id\":\"025c3324-6acc-47e4-9374-e91e7b274f10\",\"type\":\"GlyphRenderer\"},{\"attributes\":{\"fill_color\":{\"value\":\"#E4E02C\"},\"height\":{\"value\":0.3},\"left\":{\"value\":0.3577075098814229},\"line_color\":{\"value\":\"#E4E02C\"},\"right\":{\"value\":0.45652173913043476},\"y\":{\"value\":1}},\"id\":\"12446318-4048-470b-840d-81e26b6ada36\",\"type\":\"HBar\"},{\"attributes\":{\"callback\":null,\"data\":{}},\"id\":\"f120d1fa-50d2-4c2c-845a-72a73edc2965\",\"type\":\"ColumnDataSource\"},{\"attributes\":{\"fill_alpha\":{\"value\":0.1},\"fill_color\":{\"value\":\"#1f77b4\"},\"height\":{\"value\":0.3},\"line_alpha\":{\"value\":0.1},\"line_color\":{\"value\":\"#1f77b4\"},\"right\":{\"value\":0.3577075098814229},\"y\":{\"value\":1}},\"id\":\"6bf743a9-aa4e-4fa3-85a9-cda629f4aac7\",\"type\":\"HBar\"},{\"attributes\":{\"callback\":null,\"end\":2},\"id\":\"3acf4da8-0785-4d21-9f0f-2d03b8dc4846\",\"type\":\"Range1d\"},{\"attributes\":{\"fill_color\":{\"value\":\"#459E0F\"},\"height\":{\"value\":0.3},\"left\":{\"value\":-0.4090909090909091},\"line_color\":{\"value\":\"#459E0F\"},\"right\":{\"value\":0},\"y\":{\"value\":1}},\"id\":\"d006a5b4-f064-4cb4-81ee-dc07bea2424e\",\"type\":\"HBar\"},{\"attributes\":{},\"id\":\"9b031d6e-7cb5-45e4-98e9-083294496b25\",\"type\":\"LinearScale\"},{\"attributes\":{\"above\":[{\"id\":\"ed6e236a-8361-4a62-b932-e5f36d73025f\",\"type\":\"Title\"}],\"below\":[{\"id\":\"38ac3a30-6646-4471-a070-ffa8914daa3d\",\"type\":\"LinearAxis\"}],\"left\":[{\"id\":\"a7aea880-0b82-4569-8182-d99dcb3843a1\",\"type\":\"LinearAxis\"}],\"plot_height\":300,\"plot_width\":400,\"renderers\":[{\"id\":\"38ac3a30-6646-4471-a070-ffa8914daa3d\",\"type\":\"LinearAxis\"},{\"id\":\"a4f73a86-ca70-412e-af6f-242f80f5e4bc\",\"type\":\"Grid\"},{\"id\":\"a7aea880-0b82-4569-8182-d99dcb3843a1\",\"type\":\"LinearAxis\"},{\"id\":\"5974f1c9-c657-4203-aba6-49067e656824\",\"type\":\"Grid\"},{\"id\":\"ed6e236a-8361-4a62-b932-e5f36d73025f\",\"type\":\"Title\"},{\"id\":\"4f8f5e8b-6fdc-451c-a594-407d17c181b7\",\"type\":\"GlyphRenderer\"}],\"title\":{\"id\":\"7e13e3b5-5132-464f-a1d4-5fd4f04cf729\",\"type\":\"Title\"},\"tool_events\":{\"id\":\"d1d1f39e-57ec-43dd-96b5-640b12a64806\",\"type\":\"ToolEvents\"},\"toolbar\":{\"id\":\"ced87fe0-8504-40b4-8d91-a6912798bf85\",\"type\":\"Toolbar\"},\"x_range\":{\"id\":\"027dbe5c-4573-45ec-8859-14aba928ad76\",\"type\":\"DataRange1d\"},\"x_scale\":{\"id\":\"9b031d6e-7cb5-45e4-98e9-083294496b25\",\"type\":\"LinearScale\"},\"y_range\":{\"id\":\"b214cd22-4be1-4608-8330-37381d49ef9b\",\"type\":\"DataRange1d\"},\"y_scale\":{\"id\":\"5eb418c9-ebd3-4057-8eab-4a7ecf5012c4\",\"type\":\"LinearScale\"}},\"id\":\"30850002-55d5-4cf5-9601-2fbc580eb970\",\"subtype\":\"Figure\",\"type\":\"Plot\"},{\"attributes\":{\"fill_color\":{\"value\":\"#E43216\"},\"height\":{\"value\":0.3},\"left\":{\"value\":0.45652173913043476},\"line_color\":{\"value\":\"#E43216\"},\"right\":{\"value\":0.5128458498023715},\"y\":{\"value\":1}},\"id\":\"fa446b6c-5684-4717-b098-11c7f2b4972e\",\"type\":\"HBar\"},{\"attributes\":{\"callback\":null,\"column_names\":[\"index\",\"pct\",\"colors\",\"thresholds\"],\"data\":{\"colors\":[\"#459E0F\",\"#E4E02C\",\"#E43216\"],\"index\":[0,1,2],\"pct\":{\"__ndarray__\":\"4vPHHKXb5z8apEEapEHKP3wxesodP6k/\",\"dtype\":\"float64\",\"shape\":[3]},\"thresholds\":[\"green\",\"yellow\",\"red\"]}},\"id\":\"e5f24f70-7644-46da-a538-82c2142e66e5\",\"type\":\"ColumnDataSource\"},{\"attributes\":{\"data_source\":{\"id\":\"a51f2237-3d50-4c0c-b2d4-79ddc0917a55\",\"type\":\"ColumnDataSource\"},\"glyph\":{\"id\":\"12446318-4048-470b-840d-81e26b6ada36\",\"type\":\"HBar\"},\"hover_glyph\":null,\"muted_glyph\":null,\"nonselection_glyph\":{\"id\":\"e65bd640-76f4-4b34-8247-2d8c0e88d350\",\"type\":\"HBar\"},\"selection_glyph\":null},\"id\":\"9bbe757b-4ee6-445f-ba88-fac24bc80e95\",\"type\":\"GlyphRenderer\"},{\"attributes\":{\"fill_alpha\":{\"value\":0.1},\"fill_color\":{\"value\":\"#1f77b4\"},\"height\":{\"value\":0.3},\"left\":{\"value\":0.3577075098814229},\"line_alpha\":{\"value\":0.1},\"line_color\":{\"value\":\"#1f77b4\"},\"right\":{\"value\":0.45652173913043476},\"y\":{\"value\":1}},\"id\":\"e65bd640-76f4-4b34-8247-2d8c0e88d350\",\"type\":\"HBar\"},{\"attributes\":{},\"id\":\"ea6ba52c-ae90-4768-b23b-5764a64af209\",\"type\":\"BasicTicker\"},{\"attributes\":{\"callback\":null,\"end\":2},\"id\":\"41351ed5-d3a3-4561-b13e-e61b970f9f51\",\"type\":\"Range1d\"},{\"attributes\":{\"line_color\":{\"value\":\"#AAB2A5\"},\"line_dash\":[6],\"line_width\":{\"value\":2},\"x\":{\"field\":\"x\"},\"y\":{\"field\":\"y\"}},\"id\":\"93439c93-f6c3-43cd-af8c-d6d0cfed25c1\",\"type\":\"Line\"},{\"attributes\":{\"callback\":null,\"column_names\":[\"x\",\"y\"],\"data\":{\"x\":[-0.3865877712031558,-0.3865877712031558],\"y\":[0.5,1.5]}},\"id\":\"fd48a469-58e9-410c-a842-bb4ee2725444\",\"type\":\"ColumnDataSource\"},{\"attributes\":{},\"id\":\"11bd9e62-10ad-41e1-a289-23ea6d9f00aa\",\"type\":\"LinearScale\"},{\"attributes\":{},\"id\":\"9e8b1a07-afeb-48ba-99fd-17c384a9ecae\",\"type\":\"LinearScale\"},{\"attributes\":{\"line_alpha\":{\"value\":0.1},\"line_color\":{\"value\":\"#1f77b4\"},\"line_dash\":[6],\"line_width\":{\"value\":2},\"x\":{\"field\":\"x\"},\"y\":{\"field\":\"y\"}},\"id\":\"7ed80e51-46af-4ef9-8cac-074f2b1d0ac9\",\"type\":\"Line\"},{\"attributes\":{\"data_source\":{\"id\":\"5cbdfaf1-2788-48b0-895d-264b3e895a55\",\"type\":\"ColumnDataSource\"},\"glyph\":{\"id\":\"96939064-a337-4983-9333-ff4d1d98767d\",\"type\":\"HBar\"},\"hover_glyph\":null,\"muted_glyph\":null,\"nonselection_glyph\":{\"id\":\"ebc12738-e445-4d5b-b532-ee4fd83b71eb\",\"type\":\"HBar\"},\"selection_glyph\":null},\"id\":\"d6a75e33-f92c-446a-81aa-52291104d793\",\"type\":\"GlyphRenderer\"},{\"attributes\":{\"children\":[{\"id\":\"4fbf11e9-3eaf-4664-af57-ba7bff923ff3\",\"subtype\":\"Figure\",\"type\":\"Plot\"},{\"id\":\"30850002-55d5-4cf5-9601-2fbc580eb970\",\"subtype\":\"Figure\",\"type\":\"Plot\"}]},\"id\":\"cb3796bb-c235-4740-bdd1-42151e309e7f\",\"type\":\"Row\"},{\"attributes\":{\"line_color\":{\"value\":\"#AAB2A5\"},\"line_dash\":[6],\"line_width\":{\"value\":2},\"x\":{\"field\":\"x\"},\"y\":{\"field\":\"y\"}},\"id\":\"f74fb3f4-25b6-4c0f-8d12-1252a1822531\",\"type\":\"Line\"},{\"attributes\":{},\"id\":\"bd7dc20d-cbbf-41b3-91c7-67035ebe7cea\",\"type\":\"BasicTicker\"},{\"attributes\":{\"plot\":null,\"text\":\"\"},\"id\":\"7e13e3b5-5132-464f-a1d4-5fd4f04cf729\",\"type\":\"Title\"},{\"attributes\":{\"overlay\":{\"id\":\"6a36c1a4-ebeb-4221-9168-cc52b0352003\",\"type\":\"BoxAnnotation\"},\"plot\":{\"id\":\"4fbf11e9-3eaf-4664-af57-ba7bff923ff3\",\"subtype\":\"Figure\",\"type\":\"Plot\"}},\"id\":\"7425d025-854c-46b6-b9b4-8df5cbb98949\",\"type\":\"BoxZoomTool\"},{\"attributes\":{\"callback\":null,\"data\":{}},\"id\":\"ca2fbd11-f43c-4a25-83fd-58230a87ab0c\",\"type\":\"ColumnDataSource\"},{\"attributes\":{\"fill_alpha\":{\"value\":0.1},\"fill_color\":{\"value\":\"#1f77b4\"},\"height\":{\"value\":0.3},\"left\":{\"value\":-0.388560157790927},\"line_alpha\":{\"value\":0.1},\"line_color\":{\"value\":\"#1f77b4\"},\"right\":{\"value\":-0.3865877712031558},\"y\":{\"value\":1}},\"id\":\"ebc12738-e445-4d5b-b532-ee4fd83b71eb\",\"type\":\"HBar\"},{\"attributes\":{},\"id\":\"5cf7f0df-bd9b-48c2-bfd1-2c9922029671\",\"type\":\"LinearScale\"},{\"attributes\":{},\"id\":\"1d8e336d-f4f8-4122-9704-e38cc2bbd3b9\",\"type\":\"BasicTicker\"},{\"attributes\":{\"callback\":null,\"column_names\":[\"x\",\"y\"],\"data\":{\"x\":[0,0],\"y\":[0.5,1.5]}},\"id\":\"c7255bda-d85b-4d63-b007-f430f28004ef\",\"type\":\"ColumnDataSource\"},{\"attributes\":{\"callback\":null,\"plot\":{\"id\":\"30850002-55d5-4cf5-9601-2fbc580eb970\",\"subtype\":\"Figure\",\"type\":\"Plot\"},\"tooltips\":[[\"pct\",\"@pct{(0.00%)}\"]]},\"id\":\"fd113df6-3dc5-4547-8b8e-fe9ba00f8aa4\",\"type\":\"HoverTool\"},{\"attributes\":{\"data_source\":{\"id\":\"323381a5-2b98-4747-a72a-54d3f3f69779\",\"type\":\"ColumnDataSource\"},\"glyph\":{\"id\":\"b345648c-89d3-4419-953c-bd235e610615\",\"type\":\"HBar\"},\"hover_glyph\":null,\"muted_glyph\":null,\"nonselection_glyph\":{\"id\":\"f65e02d8-cde9-422c-bdfb-81fb04dee097\",\"type\":\"HBar\"},\"selection_glyph\":null},\"id\":\"ff2ef9c4-1878-4348-b9ba-5e51c12ae6cc\",\"type\":\"GlyphRenderer\"},{\"attributes\":{\"active_drag\":\"auto\",\"active_inspect\":\"auto\",\"active_scroll\":\"auto\",\"active_tap\":\"auto\",\"tools\":[{\"id\":\"62a2a5b1-d6d4-42f4-a7a8-0d607fc34ab8\",\"type\":\"PanTool\"},{\"id\":\"5d719082-5595-4562-b848-d4ffc2c937e2\",\"type\":\"WheelZoomTool\"},{\"id\":\"7425d025-854c-46b6-b9b4-8df5cbb98949\",\"type\":\"BoxZoomTool\"},{\"id\":\"6ecdb757-597f-4173-8ca2-da79af0a5dcc\",\"type\":\"SaveTool\"},{\"id\":\"ccf86498-786b-4b7e-8a36-a428b519eab1\",\"type\":\"ResetTool\"},{\"id\":\"678a19ce-97ef-453f-af08-02570068a5e6\",\"type\":\"HelpTool\"}]},\"id\":\"de4084ac-993a-4af9-839d-3f94e6116d5b\",\"type\":\"Toolbar\"},{\"attributes\":{\"align\":\"center\",\"plot\":{\"id\":\"30850002-55d5-4cf5-9601-2fbc580eb970\",\"subtype\":\"Figure\",\"type\":\"Plot\"},\"text\":\"Total percentage within thresholds drop off\"},\"id\":\"ed6e236a-8361-4a62-b932-e5f36d73025f\",\"type\":\"Title\"},{\"attributes\":{\"formatter\":{\"id\":\"5d1f1530-a0db-4b01-951a-1855625638c6\",\"type\":\"BasicTickFormatter\"},\"plot\":{\"id\":\"2f755c79-4305-4870-a173-f8c9667262b8\",\"subtype\":\"Figure\",\"type\":\"Plot\"},\"ticker\":{\"id\":\"02193589-da71-4273-a2ea-bd9236291817\",\"type\":\"BasicTicker\"},\"visible\":false},\"id\":\"66e8ac9f-fb18-4032-b4c7-dcb31d168f00\",\"type\":\"LinearAxis\"},{\"attributes\":{\"plot\":{\"id\":\"4fbf11e9-3eaf-4664-af57-ba7bff923ff3\",\"subtype\":\"Figure\",\"type\":\"Plot\"}},\"id\":\"5d719082-5595-4562-b848-d4ffc2c937e2\",\"type\":\"WheelZoomTool\"},{\"attributes\":{\"dimension\":1,\"grid_line_color\":{\"value\":null},\"plot\":{\"id\":\"2f755c79-4305-4870-a173-f8c9667262b8\",\"subtype\":\"Figure\",\"type\":\"Plot\"},\"ticker\":{\"id\":\"02193589-da71-4273-a2ea-bd9236291817\",\"type\":\"BasicTicker\"}},\"id\":\"4421f427-7213-436f-b516-fb8fed985b55\",\"type\":\"Grid\"},{\"attributes\":{},\"id\":\"52d122cb-9da3-4011-af71-42d8ec6daaad\",\"type\":\"BasicTickFormatter\"},{\"attributes\":{\"align\":\"center\",\"plot\":{\"id\":\"4fbf11e9-3eaf-4664-af57-ba7bff923ff3\",\"subtype\":\"Figure\",\"type\":\"Plot\"},\"text\":\"Rush/delays within time thresholds drop off\"},\"id\":\"ca274f64-cb25-4e94-b54a-26fe92ea69d0\",\"type\":\"Title\"},{\"attributes\":{},\"id\":\"52cd1cd7-3546-40e0-95bc-4d2fa06d8360\",\"type\":\"BasicTickFormatter\"},{\"attributes\":{\"callback\":null},\"id\":\"b214cd22-4be1-4608-8330-37381d49ef9b\",\"type\":\"DataRange1d\"},{\"attributes\":{\"data_source\":{\"id\":\"ad5ce6fb-b018-474b-976e-2e1f05b5cb26\",\"type\":\"ColumnDataSource\"},\"glyph\":{\"id\":\"07e8dd30-be4e-4c92-a6d3-c10e40d1855c\",\"type\":\"HBar\"},\"hover_glyph\":null,\"muted_glyph\":null,\"nonselection_glyph\":{\"id\":\"0644249a-2506-499f-bd95-140cc10a10d2\",\"type\":\"HBar\"},\"selection_glyph\":null},\"id\":\"e50d865a-d3ef-4cd1-ac99-0f9b72072f60\",\"type\":\"GlyphRenderer\"},{\"attributes\":{\"line_alpha\":{\"value\":0.1},\"line_color\":{\"value\":\"#1f77b4\"},\"line_dash\":[6],\"line_width\":{\"value\":2},\"x\":{\"field\":\"x\"},\"y\":{\"field\":\"y\"}},\"id\":\"0cea5098-63dd-40be-abe2-dde875027c64\",\"type\":\"Line\"},{\"attributes\":{\"active_drag\":\"auto\",\"active_inspect\":\"auto\",\"active_scroll\":\"auto\",\"active_tap\":\"auto\",\"tools\":[{\"id\":\"82fe30af-c614-43bf-bbf5-286ee0905236\",\"type\":\"HoverTool\"}]},\"id\":\"4218009f-3617-45df-94f9-7ec69d059925\",\"type\":\"Toolbar\"},{\"attributes\":{\"dimension\":1,\"grid_line_color\":{\"value\":null},\"plot\":{\"id\":\"4fbf11e9-3eaf-4664-af57-ba7bff923ff3\",\"subtype\":\"Figure\",\"type\":\"Plot\"},\"ticker\":{\"id\":\"6168f75b-2b45-4fca-a01d-4e78bd542fb9\",\"type\":\"BasicTicker\"}},\"id\":\"f63b021c-bc84-40a3-9815-1cbb74a3ee7b\",\"type\":\"Grid\"},{\"attributes\":{\"formatter\":{\"id\":\"52cd1cd7-3546-40e0-95bc-4d2fa06d8360\",\"type\":\"BasicTickFormatter\"},\"plot\":{\"id\":\"30850002-55d5-4cf5-9601-2fbc580eb970\",\"subtype\":\"Figure\",\"type\":\"Plot\"},\"ticker\":{\"id\":\"abd05b4d-ed94-45c1-93cf-ff8eec5ef5c2\",\"type\":\"BasicTicker\"}},\"id\":\"38ac3a30-6646-4471-a070-ffa8914daa3d\",\"type\":\"LinearAxis\"},{\"attributes\":{\"callback\":null,\"column_names\":[\"index\",\"pct\",\"colors\",\"thresholds\"],\"data\":{\"colors\":[\"#459E0F\",\"#E4E02C\",\"#E43216\"],\"index\":[0,1,2],\"pct\":{\"__ndarray__\":\"oIqD1pyJ6D/G7E4aXh/FP3TRRRdddLE/\",\"dtype\":\"float64\",\"shape\":[3]},\"thresholds\":[\"green\",\"yellow\",\"red\"]}},\"id\":\"8b062a47-6b99-4450-8335-1acc5ca53cd2\",\"type\":\"ColumnDataSource\"},{\"attributes\":{\"callback\":null,\"column_names\":[\"x\",\"y\"],\"data\":{\"x\":[-0.3264299802761341,-0.3264299802761341],\"y\":[0.5,1.5]}},\"id\":\"58718009-a20e-47fd-95ee-640f56b7231c\",\"type\":\"ColumnDataSource\"},{\"attributes\":{\"data_source\":{\"id\":\"dec7fa37-05e2-4c9b-8fc6-cfde5f7217e4\",\"type\":\"ColumnDataSource\"},\"glyph\":{\"id\":\"c06f9f17-4bce-4924-b326-99c845bb9ffd\",\"type\":\"HBar\"},\"hover_glyph\":null,\"muted_glyph\":null,\"nonselection_glyph\":{\"id\":\"39129a03-463c-4abe-a31a-b15b7b5608e2\",\"type\":\"HBar\"},\"selection_glyph\":null},\"id\":\"4dd53964-6f1e-4b8a-babf-2c317abe2931\",\"type\":\"GlyphRenderer\"},{\"attributes\":{},\"id\":\"6168f75b-2b45-4fca-a01d-4e78bd542fb9\",\"type\":\"BasicTicker\"},{\"attributes\":{},\"id\":\"02193589-da71-4273-a2ea-bd9236291817\",\"type\":\"BasicTicker\"},{\"attributes\":{\"line_color\":{\"value\":\"#AAB2A5\"},\"line_dash\":[6],\"line_width\":{\"value\":2},\"x\":{\"field\":\"x\"},\"y\":{\"field\":\"y\"}},\"id\":\"8d3976de-fe91-44bf-8b27-8400f0e1051e\",\"type\":\"Line\"},{\"attributes\":{\"active_drag\":\"auto\",\"active_inspect\":\"auto\",\"active_scroll\":\"auto\",\"active_tap\":\"auto\",\"tools\":[{\"id\":\"d53187a2-f60e-4d92-a7c9-07bfbae344ca\",\"type\":\"PanTool\"},{\"id\":\"885493ec-9bdb-4166-a3ea-0f2125c3b3bb\",\"type\":\"WheelZoomTool\"},{\"id\":\"fc979069-c716-451c-aaec-aa5b41fa45c4\",\"type\":\"BoxZoomTool\"},{\"id\":\"d048d53c-9e46-45da-9f42-183343b7be85\",\"type\":\"SaveTool\"},{\"id\":\"27315428-15f1-49b2-a312-ab3feceffc62\",\"type\":\"ResetTool\"},{\"id\":\"cb8bc035-421d-4f21-90d0-7f5b8a7ca189\",\"type\":\"HelpTool\"}]},\"id\":\"1818a218-b158-407e-bb5e-2d87112ccec8\",\"type\":\"Toolbar\"},{\"attributes\":{\"data_source\":{\"id\":\"f120d1fa-50d2-4c2c-845a-72a73edc2965\",\"type\":\"ColumnDataSource\"},\"glyph\":{\"id\":\"fa446b6c-5684-4717-b098-11c7f2b4972e\",\"type\":\"HBar\"},\"hover_glyph\":null,\"muted_glyph\":null,\"nonselection_glyph\":{\"id\":\"b6e0ca1e-4c06-4a3e-8860-927004baddd8\",\"type\":\"HBar\"},\"selection_glyph\":null},\"id\":\"1910ace1-5264-4bfb-9d7b-e42a43f7f3da\",\"type\":\"GlyphRenderer\"},{\"attributes\":{\"plot\":{\"id\":\"2f755c79-4305-4870-a173-f8c9667262b8\",\"subtype\":\"Figure\",\"type\":\"Plot\"}},\"id\":\"27315428-15f1-49b2-a312-ab3feceffc62\",\"type\":\"ResetTool\"},{\"attributes\":{\"fill_color\":{\"value\":\"#E43216\"},\"height\":{\"value\":0.3},\"left\":{\"value\":-0.4871541501976285},\"line_color\":{\"value\":\"#E43216\"},\"right\":{\"value\":-0.47529644268774707},\"y\":{\"value\":1}},\"id\":\"59e60d35-16c3-49ef-a175-3aaf1664b3dc\",\"type\":\"HBar\"},{\"attributes\":{\"callback\":null,\"plot\":{\"id\":\"b3b52e22-9f7f-4395-af2f-c2896360c5b5\",\"subtype\":\"Figure\",\"type\":\"Plot\"},\"tooltips\":[[\"pct\",\"@pct{(0.00%)}\"]]},\"id\":\"82fe30af-c614-43bf-bbf5-286ee0905236\",\"type\":\"HoverTool\"},{\"attributes\":{\"align\":\"center\",\"plot\":{\"id\":\"b3b52e22-9f7f-4395-af2f-c2896360c5b5\",\"subtype\":\"Figure\",\"type\":\"Plot\"},\"text\":\"Total percentage within thresholds pick up\"},\"id\":\"ffdeb1f7-30df-472d-8516-bb7d32362372\",\"type\":\"Title\"},{\"attributes\":{\"data_source\":{\"id\":\"90edb817-7c41-4fec-a703-1e7f047fe4d1\",\"type\":\"ColumnDataSource\"},\"glyph\":{\"id\":\"19d353bf-accb-4337-bf9f-4f71d0525f3d\",\"type\":\"Line\"},\"hover_glyph\":null,\"muted_glyph\":null,\"nonselection_glyph\":{\"id\":\"e24c64ae-0b10-4abe-835f-7e43603b8650\",\"type\":\"Line\"},\"selection_glyph\":null},\"id\":\"ba9d5eee-e0ca-4b0a-8e76-760e97a34648\",\"type\":\"GlyphRenderer\"},{\"attributes\":{\"callback\":null,\"column_names\":[\"x\",\"y\"],\"data\":{\"x\":[0.41913214990138065,0.41913214990138065],\"y\":[0.5,1.5]}},\"id\":\"5860e754-bd52-4dea-9eff-1ccc4012f733\",\"type\":\"ColumnDataSource\"},{\"attributes\":{\"plot\":{\"id\":\"2f755c79-4305-4870-a173-f8c9667262b8\",\"subtype\":\"Figure\",\"type\":\"Plot\"}},\"id\":\"d048d53c-9e46-45da-9f42-183343b7be85\",\"type\":\"SaveTool\"},{\"attributes\":{\"grid_line_color\":{\"value\":null},\"plot\":{\"id\":\"4fbf11e9-3eaf-4664-af57-ba7bff923ff3\",\"subtype\":\"Figure\",\"type\":\"Plot\"},\"ticker\":{\"id\":\"ea6ba52c-ae90-4768-b23b-5764a64af209\",\"type\":\"BasicTicker\"}},\"id\":\"7ab36cc0-06eb-4afc-b4ed-a00c16fa0a40\",\"type\":\"Grid\"},{\"attributes\":{\"formatter\":{\"id\":\"b6fd25b8-1c06-43c0-a324-97d2d0aeaf24\",\"type\":\"BasicTickFormatter\"},\"plot\":{\"id\":\"4fbf11e9-3eaf-4664-af57-ba7bff923ff3\",\"subtype\":\"Figure\",\"type\":\"Plot\"},\"ticker\":{\"id\":\"ea6ba52c-ae90-4768-b23b-5764a64af209\",\"type\":\"BasicTicker\"}},\"id\":\"582b26c5-b90d-464e-991c-32f42568051d\",\"type\":\"LinearAxis\"},{\"attributes\":{},\"id\":\"64db22cf-447c-4ccd-a28a-d3e33e74620e\",\"type\":\"LinearScale\"},{\"attributes\":{\"callback\":null,\"data\":{}},\"id\":\"5cbdfaf1-2788-48b0-895d-264b3e895a55\",\"type\":\"ColumnDataSource\"},{\"attributes\":{\"formatter\":{\"id\":\"2220fa4b-0e2e-4d5f-8884-6a7b9eb48e2d\",\"type\":\"BasicTickFormatter\"},\"plot\":{\"id\":\"30850002-55d5-4cf5-9601-2fbc580eb970\",\"subtype\":\"Figure\",\"type\":\"Plot\"},\"ticker\":{\"id\":\"bd7dc20d-cbbf-41b3-91c7-67035ebe7cea\",\"type\":\"BasicTicker\"}},\"id\":\"a7aea880-0b82-4569-8182-d99dcb3843a1\",\"type\":\"LinearAxis\"},{\"attributes\":{\"fill_color\":{\"value\":\"#E4E02C\"},\"height\":{\"value\":0.3},\"left\":{\"value\":-0.3865877712031558},\"line_color\":{\"value\":\"#E4E02C\"},\"right\":{\"value\":-0.3264299802761341},\"y\":{\"value\":1}},\"id\":\"b345648c-89d3-4419-953c-bd235e610615\",\"type\":\"HBar\"},{\"attributes\":{\"plot\":{\"id\":\"2f755c79-4305-4870-a173-f8c9667262b8\",\"subtype\":\"Figure\",\"type\":\"Plot\"}},\"id\":\"cb8bc035-421d-4f21-90d0-7f5b8a7ca189\",\"type\":\"HelpTool\"},{\"attributes\":{},\"id\":\"abd05b4d-ed94-45c1-93cf-ff8eec5ef5c2\",\"type\":\"BasicTicker\"},{\"attributes\":{},\"id\":\"5069fa52-555a-4e6f-ad87-c320ce8331b5\",\"type\":\"ToolEvents\"},{\"attributes\":{\"plot\":{\"id\":\"4fbf11e9-3eaf-4664-af57-ba7bff923ff3\",\"subtype\":\"Figure\",\"type\":\"Plot\"}},\"id\":\"678a19ce-97ef-453f-af08-02570068a5e6\",\"type\":\"HelpTool\"},{\"attributes\":{\"fill_color\":{\"value\":\"#E4E02C\"},\"height\":{\"value\":0.3},\"left\":{\"value\":0.41913214990138065},\"line_color\":{\"value\":\"#E4E02C\"},\"right\":{\"value\":0.5641025641025641},\"y\":{\"value\":1}},\"id\":\"f276a66a-fefe-4937-999e-a3daec11a22c\",\"type\":\"HBar\"},{\"attributes\":{\"fill_alpha\":{\"value\":0.1},\"fill_color\":{\"value\":\"#1f77b4\"},\"line_alpha\":{\"value\":0.1},\"line_color\":{\"value\":\"#1f77b4\"},\"top\":{\"field\":\"pct\"},\"width\":{\"value\":0.6},\"x\":{\"field\":\"index\"}},\"id\":\"4ace0e9e-9a73-4258-92d7-940ab2ee2bd6\",\"type\":\"VBar\"},{\"attributes\":{\"fill_color\":{\"value\":\"#459E0F\"},\"height\":{\"value\":0.3},\"line_color\":{\"value\":\"#459E0F\"},\"right\":{\"value\":0.41913214990138065},\"y\":{\"value\":1}},\"id\":\"a7c24003-cb4b-4193-830f-7fb29a032066\",\"type\":\"HBar\"},{\"attributes\":{\"data_source\":{\"id\":\"f84041ca-ad2a-4952-acff-f86ad8ad141f\",\"type\":\"ColumnDataSource\"},\"glyph\":{\"id\":\"935a2dd1-fe79-4dec-aaba-e4b797585456\",\"type\":\"Line\"},\"hover_glyph\":null,\"muted_glyph\":null,\"nonselection_glyph\":{\"id\":\"91db9b6b-98c2-4f07-846f-b814ddb63b22\",\"type\":\"Line\"},\"selection_glyph\":null},\"id\":\"8a296a9e-fd29-4789-a632-4aa4007200a3\",\"type\":\"GlyphRenderer\"},{\"attributes\":{\"plot\":{\"id\":\"4fbf11e9-3eaf-4664-af57-ba7bff923ff3\",\"subtype\":\"Figure\",\"type\":\"Plot\"}},\"id\":\"62a2a5b1-d6d4-42f4-a7a8-0d607fc34ab8\",\"type\":\"PanTool\"},{\"attributes\":{\"fill_alpha\":{\"value\":0.1},\"fill_color\":{\"value\":\"#1f77b4\"},\"height\":{\"value\":0.3},\"left\":{\"value\":-0.3264299802761341},\"line_alpha\":{\"value\":0.1},\"line_color\":{\"value\":\"#1f77b4\"},\"right\":{\"value\":0},\"y\":{\"value\":1}},\"id\":\"eeda0d19-5293-4e1e-97b3-11ac159b2ec8\",\"type\":\"HBar\"},{\"attributes\":{\"fill_color\":{\"value\":\"#E4E02C\"},\"height\":{\"value\":0.3},\"left\":{\"value\":-0.47529644268774707},\"line_color\":{\"value\":\"#E4E02C\"},\"right\":{\"value\":-0.4090909090909091},\"y\":{\"value\":1}},\"id\":\"07e8dd30-be4e-4c92-a6d3-c10e40d1855c\",\"type\":\"HBar\"},{\"attributes\":{\"fill_color\":{\"field\":\"colors\"},\"line_color\":{\"field\":\"colors\"},\"top\":{\"field\":\"pct\"},\"width\":{\"value\":0.6},\"x\":{\"field\":\"index\"}},\"id\":\"05669eca-bc4a-479b-b998-efb206e00c2f\",\"type\":\"VBar\"},{\"attributes\":{},\"id\":\"b6fd25b8-1c06-43c0-a324-97d2d0aeaf24\",\"type\":\"BasicTickFormatter\"},{\"attributes\":{},\"id\":\"353358a5-1f98-4186-9b9a-ace1f408ee1b\",\"type\":\"LinearScale\"},{\"attributes\":{\"data_source\":{\"id\":\"b9932325-3980-42f2-b8c6-667182211456\",\"type\":\"ColumnDataSource\"},\"glyph\":{\"id\":\"fbfc23a9-0029-4c11-9edd-edb13a4846c6\",\"type\":\"HBar\"},\"hover_glyph\":null,\"muted_glyph\":null,\"nonselection_glyph\":{\"id\":\"eeda0d19-5293-4e1e-97b3-11ac159b2ec8\",\"type\":\"HBar\"},\"selection_glyph\":null},\"id\":\"786a26fc-775e-4901-ae66-fdb210a5a71d\",\"type\":\"GlyphRenderer\"},{\"attributes\":{},\"id\":\"c512cc1f-b168-41d1-b82d-25ce1ab9905a\",\"type\":\"ToolEvents\"},{\"attributes\":{\"bottom_units\":\"screen\",\"fill_alpha\":{\"value\":0.5},\"fill_color\":{\"value\":\"lightgrey\"},\"left_units\":\"screen\",\"level\":\"overlay\",\"line_alpha\":{\"value\":1.0},\"line_color\":{\"value\":\"black\"},\"line_dash\":[4,4],\"line_width\":{\"value\":2},\"plot\":null,\"render_mode\":\"css\",\"right_units\":\"screen\",\"top_units\":\"screen\"},\"id\":\"6a36c1a4-ebeb-4221-9168-cc52b0352003\",\"type\":\"BoxAnnotation\"},{\"attributes\":{\"dimension\":1,\"plot\":{\"id\":\"b3b52e22-9f7f-4395-af2f-c2896360c5b5\",\"subtype\":\"Figure\",\"type\":\"Plot\"},\"ticker\":{\"id\":\"b74d9a9e-aa15-4f15-8b55-32a17758fa92\",\"type\":\"BasicTicker\"}},\"id\":\"926bde97-6909-4c1f-8652-53ac157a1163\",\"type\":\"Grid\"},{\"attributes\":{\"line_color\":{\"value\":\"#AAB2A5\"},\"line_dash\":[6],\"line_width\":{\"value\":2},\"x\":{\"field\":\"x\"},\"y\":{\"field\":\"y\"}},\"id\":\"a25c012e-988f-4c8a-a357-608acf2a5ec1\",\"type\":\"Line\"},{\"attributes\":{},\"id\":\"9e6da8fe-51e9-452f-9768-ae276def8c1f\",\"type\":\"ToolEvents\"},{\"attributes\":{\"line_alpha\":{\"value\":0.1},\"line_color\":{\"value\":\"#1f77b4\"},\"line_dash\":[6],\"line_width\":{\"value\":2},\"x\":{\"field\":\"x\"},\"y\":{\"field\":\"y\"}},\"id\":\"66f65247-7457-455f-b93d-298be4e7184f\",\"type\":\"Line\"},{\"attributes\":{\"data_source\":{\"id\":\"0025cfee-59d8-439e-ad81-b5aaf2af9798\",\"type\":\"ColumnDataSource\"},\"glyph\":{\"id\":\"93439c93-f6c3-43cd-af8c-d6d0cfed25c1\",\"type\":\"Line\"},\"hover_glyph\":null,\"muted_glyph\":null,\"nonselection_glyph\":{\"id\":\"ba8f9852-efa1-4dc7-bad9-8b96f1a37a0b\",\"type\":\"Line\"},\"selection_glyph\":null},\"id\":\"6f724aaf-fa90-4014-b3b5-4bcaa34c84d7\",\"type\":\"GlyphRenderer\"},{\"attributes\":{\"callback\":null,\"data\":{}},\"id\":\"323381a5-2b98-4747-a72a-54d3f3f69779\",\"type\":\"ColumnDataSource\"},{\"attributes\":{\"formatter\":{\"id\":\"c0776c95-dda2-4468-9826-b4b8bcedefde\",\"type\":\"BasicTickFormatter\"},\"plot\":{\"id\":\"b3b52e22-9f7f-4395-af2f-c2896360c5b5\",\"subtype\":\"Figure\",\"type\":\"Plot\"},\"ticker\":{\"id\":\"b74d9a9e-aa15-4f15-8b55-32a17758fa92\",\"type\":\"BasicTicker\"}},\"id\":\"28b98cf0-6f68-4429-8960-907031cfff1d\",\"type\":\"LinearAxis\"},{\"attributes\":{\"fill_alpha\":{\"value\":0.1},\"fill_color\":{\"value\":\"#1f77b4\"},\"height\":{\"value\":0.3},\"left\":{\"value\":0.45652173913043476},\"line_alpha\":{\"value\":0.1},\"line_color\":{\"value\":\"#1f77b4\"},\"right\":{\"value\":0.5128458498023715},\"y\":{\"value\":1}},\"id\":\"b6e0ca1e-4c06-4a3e-8860-927004baddd8\",\"type\":\"HBar\"},{\"attributes\":{\"above\":[{\"id\":\"ffdeb1f7-30df-472d-8516-bb7d32362372\",\"type\":\"Title\"}],\"below\":[{\"id\":\"be36f694-47e4-48d7-a6b1-d4af7f378d6d\",\"type\":\"LinearAxis\"}],\"left\":[{\"id\":\"28b98cf0-6f68-4429-8960-907031cfff1d\",\"type\":\"LinearAxis\"}],\"plot_height\":300,\"plot_width\":400,\"renderers\":[{\"id\":\"be36f694-47e4-48d7-a6b1-d4af7f378d6d\",\"type\":\"LinearAxis\"},{\"id\":\"bfb97eec-d062-4da5-bb14-3bf6e0bead41\",\"type\":\"Grid\"},{\"id\":\"28b98cf0-6f68-4429-8960-907031cfff1d\",\"type\":\"LinearAxis\"},{\"id\":\"926bde97-6909-4c1f-8652-53ac157a1163\",\"type\":\"Grid\"},{\"id\":\"ffdeb1f7-30df-472d-8516-bb7d32362372\",\"type\":\"Title\"},{\"id\":\"ee165908-68c6-4979-8259-3e35cc8a2d89\",\"type\":\"GlyphRenderer\"}],\"title\":{\"id\":\"11546cc7-7953-4131-959a-77b0840de7ce\",\"type\":\"Title\"},\"tool_events\":{\"id\":\"c512cc1f-b168-41d1-b82d-25ce1ab9905a\",\"type\":\"ToolEvents\"},\"toolbar\":{\"id\":\"4218009f-3617-45df-94f9-7ec69d059925\",\"type\":\"Toolbar\"},\"x_range\":{\"id\":\"b25bdbe3-6d99-4c1a-94f9-8a8f01d634a9\",\"type\":\"DataRange1d\"},\"x_scale\":{\"id\":\"9e8b1a07-afeb-48ba-99fd-17c384a9ecae\",\"type\":\"LinearScale\"},\"y_range\":{\"id\":\"07d32cff-28d5-4f14-a08a-a6879aa71ed9\",\"type\":\"DataRange1d\"},\"y_scale\":{\"id\":\"795ff9ca-3321-4163-92ef-0a17a6b0de87\",\"type\":\"LinearScale\"}},\"id\":\"b3b52e22-9f7f-4395-af2f-c2896360c5b5\",\"subtype\":\"Figure\",\"type\":\"Plot\"},{\"attributes\":{},\"id\":\"a71d25a7-19b9-42a0-b314-d267207f0a77\",\"type\":\"BasicTickFormatter\"},{\"attributes\":{\"plot\":{\"id\":\"4fbf11e9-3eaf-4664-af57-ba7bff923ff3\",\"subtype\":\"Figure\",\"type\":\"Plot\"}},\"id\":\"ccf86498-786b-4b7e-8a36-a428b519eab1\",\"type\":\"ResetTool\"},{\"attributes\":{\"line_color\":{\"value\":\"#AAB2A5\"},\"line_dash\":[6],\"line_width\":{\"value\":2},\"x\":{\"field\":\"x\"},\"y\":{\"field\":\"y\"}},\"id\":\"0ce2a40d-98c4-4d73-b32d-3bd28435d1e5\",\"type\":\"Line\"},{\"attributes\":{\"line_color\":{\"value\":\"#AAB2A5\"},\"line_dash\":[6],\"line_width\":{\"value\":2},\"x\":{\"field\":\"x\"},\"y\":{\"field\":\"y\"}},\"id\":\"3f114ba8-6a89-4586-ae19-5c05f880fd38\",\"type\":\"Line\"},{\"attributes\":{\"callback\":null,\"data\":{}},\"id\":\"55ab3650-e9bd-445c-aa09-9d7215cbcc3b\",\"type\":\"ColumnDataSource\"},{\"attributes\":{\"line_color\":{\"value\":\"#AAB2A5\"},\"line_dash\":[6],\"line_width\":{\"value\":2},\"x\":{\"field\":\"x\"},\"y\":{\"field\":\"y\"}},\"id\":\"19d353bf-accb-4337-bf9f-4f71d0525f3d\",\"type\":\"Line\"},{\"attributes\":{\"data_source\":{\"id\":\"ca2fbd11-f43c-4a25-83fd-58230a87ab0c\",\"type\":\"ColumnDataSource\"},\"glyph\":{\"id\":\"d006a5b4-f064-4cb4-81ee-dc07bea2424e\",\"type\":\"HBar\"},\"hover_glyph\":null,\"muted_glyph\":null,\"nonselection_glyph\":{\"id\":\"4d08e4bd-2786-4904-b5c4-65b96ad1e3bb\",\"type\":\"HBar\"},\"selection_glyph\":null},\"id\":\"849f0473-724e-454b-92b2-2c5ed8717e27\",\"type\":\"GlyphRenderer\"},{\"attributes\":{\"line_alpha\":{\"value\":0.1},\"line_color\":{\"value\":\"#1f77b4\"},\"line_dash\":[6],\"line_width\":{\"value\":2},\"x\":{\"field\":\"x\"},\"y\":{\"field\":\"y\"}},\"id\":\"f2c0c82c-c2e6-4cc8-bf88-c2d30f5fc847\",\"type\":\"Line\"},{\"attributes\":{\"active_drag\":\"auto\",\"active_inspect\":\"auto\",\"active_scroll\":\"auto\",\"active_tap\":\"auto\",\"tools\":[{\"id\":\"fd113df6-3dc5-4547-8b8e-fe9ba00f8aa4\",\"type\":\"HoverTool\"}]},\"id\":\"ced87fe0-8504-40b4-8d91-a6912798bf85\",\"type\":\"Toolbar\"},{\"attributes\":{\"data_source\":{\"id\":\"e503c680-b545-493c-8214-f04b67563a72\",\"type\":\"ColumnDataSource\"},\"glyph\":{\"id\":\"0ce2a40d-98c4-4d73-b32d-3bd28435d1e5\",\"type\":\"Line\"},\"hover_glyph\":null,\"muted_glyph\":null,\"nonselection_glyph\":{\"id\":\"7ed80e51-46af-4ef9-8cac-074f2b1d0ac9\",\"type\":\"Line\"},\"selection_glyph\":null},\"id\":\"599a099d-82dd-4772-8429-0a54cea7ddd7\",\"type\":\"GlyphRenderer\"},{\"attributes\":{\"line_alpha\":{\"value\":0.1},\"line_color\":{\"value\":\"#1f77b4\"},\"line_dash\":[6],\"line_width\":{\"value\":2},\"x\":{\"field\":\"x\"},\"y\":{\"field\":\"y\"}},\"id\":\"91db9b6b-98c2-4f07-846f-b814ddb63b22\",\"type\":\"Line\"},{\"attributes\":{\"callback\":null,\"column_names\":[\"x\",\"y\"],\"data\":{\"x\":[0.45652173913043476,0.45652173913043476],\"y\":[0.5,1.5]}},\"id\":\"90edb817-7c41-4fec-a703-1e7f047fe4d1\",\"type\":\"ColumnDataSource\"},{\"attributes\":{\"fill_alpha\":{\"value\":0.1},\"fill_color\":{\"value\":\"#1f77b4\"},\"height\":{\"value\":0.3},\"left\":{\"value\":-0.4871541501976285},\"line_alpha\":{\"value\":0.1},\"line_color\":{\"value\":\"#1f77b4\"},\"right\":{\"value\":-0.47529644268774707},\"y\":{\"value\":1}},\"id\":\"ee85f45d-b994-41e0-bf7c-b58168b4da63\",\"type\":\"HBar\"},{\"attributes\":{\"callback\":null,\"column_names\":[\"x\",\"y\"],\"data\":{\"x\":[0.3577075098814229,0.3577075098814229],\"y\":[0.5,1.5]}},\"id\":\"35447d6c-82cf-4c55-a63c-0fa1f40fb40f\",\"type\":\"ColumnDataSource\"},{\"attributes\":{\"fill_color\":{\"value\":\"#459E0F\"},\"height\":{\"value\":0.3},\"line_color\":{\"value\":\"#459E0F\"},\"right\":{\"value\":0.3577075098814229},\"y\":{\"value\":1}},\"id\":\"2294dd55-83ed-47ae-b751-e14e3993c338\",\"type\":\"HBar\"},{\"attributes\":{\"callback\":null},\"id\":\"28b868f1-10ff-4d99-84fe-e0758a81a58c\",\"type\":\"DataRange1d\"},{\"attributes\":{},\"id\":\"d1d1f39e-57ec-43dd-96b5-640b12a64806\",\"type\":\"ToolEvents\"},{\"attributes\":{\"plot\":{\"id\":\"4fbf11e9-3eaf-4664-af57-ba7bff923ff3\",\"subtype\":\"Figure\",\"type\":\"Plot\"}},\"id\":\"6ecdb757-597f-4173-8ca2-da79af0a5dcc\",\"type\":\"SaveTool\"},{\"attributes\":{\"callback\":null,\"data\":{}},\"id\":\"b9932325-3980-42f2-b8c6-667182211456\",\"type\":\"ColumnDataSource\"},{\"attributes\":{\"fill_color\":{\"value\":\"#E43216\"},\"height\":{\"value\":0.3},\"left\":{\"value\":0.5641025641025641},\"line_color\":{\"value\":\"#E43216\"},\"right\":{\"value\":0.611439842209073},\"y\":{\"value\":1}},\"id\":\"c06f9f17-4bce-4924-b326-99c845bb9ffd\",\"type\":\"HBar\"},{\"attributes\":{\"above\":[{\"id\":\"d47196e2-011d-4e2f-9558-487d024a4dfb\",\"type\":\"Title\"}],\"below\":[{\"id\":\"9971d7a7-ad7f-4e0a-879a-04910cebaec8\",\"type\":\"LinearAxis\"}],\"left\":[{\"id\":\"66e8ac9f-fb18-4032-b4c7-dcb31d168f00\",\"type\":\"LinearAxis\"}],\"plot_height\":300,\"plot_width\":400,\"renderers\":[{\"id\":\"9971d7a7-ad7f-4e0a-879a-04910cebaec8\",\"type\":\"LinearAxis\"},{\"id\":\"0b8cb873-a2a3-4fce-b96e-6bcbf82faeb6\",\"type\":\"Grid\"},{\"id\":\"66e8ac9f-fb18-4032-b4c7-dcb31d168f00\",\"type\":\"LinearAxis\"},{\"id\":\"4421f427-7213-436f-b516-fb8fed985b55\",\"type\":\"Grid\"},{\"id\":\"7883fbad-3bd2-4643-bc52-f8cc457c1d9a\",\"type\":\"BoxAnnotation\"},{\"id\":\"786a26fc-775e-4901-ae66-fdb210a5a71d\",\"type\":\"GlyphRenderer\"},{\"id\":\"e3a2ac72-933e-466f-90e0-c086fde89b32\",\"type\":\"GlyphRenderer\"},{\"id\":\"ff2ef9c4-1878-4348-b9ba-5e51c12ae6cc\",\"type\":\"GlyphRenderer\"},{\"id\":\"846a5d40-5fd2-4fb9-a11e-05e47cfd11df\",\"type\":\"GlyphRenderer\"},{\"id\":\"d6a75e33-f92c-446a-81aa-52291104d793\",\"type\":\"GlyphRenderer\"},{\"id\":\"576962cf-1756-4d36-b01f-8a6e8bf036be\",\"type\":\"GlyphRenderer\"},{\"id\":\"025c3324-6acc-47e4-9374-e91e7b274f10\",\"type\":\"GlyphRenderer\"},{\"id\":\"6f724aaf-fa90-4014-b3b5-4bcaa34c84d7\",\"type\":\"GlyphRenderer\"},{\"id\":\"2a1ea556-9bae-4e15-b262-bf577c8f6a55\",\"type\":\"GlyphRenderer\"},{\"id\":\"7faf9f94-3463-4f54-9d2f-41e1f50dfa95\",\"type\":\"GlyphRenderer\"},{\"id\":\"4dd53964-6f1e-4b8a-babf-2c317abe2931\",\"type\":\"GlyphRenderer\"},{\"id\":\"599a099d-82dd-4772-8429-0a54cea7ddd7\",\"type\":\"GlyphRenderer\"},{\"id\":\"d47196e2-011d-4e2f-9558-487d024a4dfb\",\"type\":\"Title\"}],\"title\":{\"id\":\"cf0d45cc-12a5-4e32-83b1-d785b646abfe\",\"type\":\"Title\"},\"tool_events\":{\"id\":\"9e6da8fe-51e9-452f-9768-ae276def8c1f\",\"type\":\"ToolEvents\"},\"toolbar\":{\"id\":\"1818a218-b158-407e-bb5e-2d87112ccec8\",\"type\":\"Toolbar\"},\"x_range\":{\"id\":\"28b868f1-10ff-4d99-84fe-e0758a81a58c\",\"type\":\"DataRange1d\"},\"x_scale\":{\"id\":\"11bd9e62-10ad-41e1-a289-23ea6d9f00aa\",\"type\":\"LinearScale\"},\"y_range\":{\"id\":\"3acf4da8-0785-4d21-9f0f-2d03b8dc4846\",\"type\":\"Range1d\"},\"y_scale\":{\"id\":\"64db22cf-447c-4ccd-a28a-d3e33e74620e\",\"type\":\"LinearScale\"}},\"id\":\"2f755c79-4305-4870-a173-f8c9667262b8\",\"subtype\":\"Figure\",\"type\":\"Plot\"},{\"attributes\":{\"line_color\":{\"value\":\"#AAB2A5\"},\"line_dash\":[6],\"line_width\":{\"value\":2},\"x\":{\"field\":\"x\"},\"y\":{\"field\":\"y\"}},\"id\":\"4ff4d5bc-cfdf-4502-a473-e261fbf8624b\",\"type\":\"Line\"},{\"attributes\":{\"callback\":null,\"data\":{}},\"id\":\"07713b9a-5fee-4d3a-b863-1316c354ed3e\",\"type\":\"ColumnDataSource\"},{\"attributes\":{},\"id\":\"5eb418c9-ebd3-4057-8eab-4a7ecf5012c4\",\"type\":\"LinearScale\"},{\"attributes\":{},\"id\":\"7ab34aaf-e0f1-4d9c-95f9-44f9eaa53fc2\",\"type\":\"BasicTickFormatter\"},{\"attributes\":{\"plot\":{\"id\":\"2f755c79-4305-4870-a173-f8c9667262b8\",\"subtype\":\"Figure\",\"type\":\"Plot\"}},\"id\":\"885493ec-9bdb-4166-a3ea-0f2125c3b3bb\",\"type\":\"WheelZoomTool\"},{\"attributes\":{\"callback\":null,\"column_names\":[\"x\",\"y\"],\"data\":{\"x\":[0,0],\"y\":[0.5,1.5]}},\"id\":\"3d91d50f-ec3d-4cbd-a72a-105a9ed8a643\",\"type\":\"ColumnDataSource\"},{\"attributes\":{\"data_source\":{\"id\":\"07713b9a-5fee-4d3a-b863-1316c354ed3e\",\"type\":\"ColumnDataSource\"},\"glyph\":{\"id\":\"f276a66a-fefe-4937-999e-a3daec11a22c\",\"type\":\"HBar\"},\"hover_glyph\":null,\"muted_glyph\":null,\"nonselection_glyph\":{\"id\":\"29e36456-5f03-46bf-b19a-29e760198c41\",\"type\":\"HBar\"},\"selection_glyph\":null},\"id\":\"2a1ea556-9bae-4e15-b262-bf577c8f6a55\",\"type\":\"GlyphRenderer\"},{\"attributes\":{\"data_source\":{\"id\":\"58718009-a20e-47fd-95ee-640f56b7231c\",\"type\":\"ColumnDataSource\"},\"glyph\":{\"id\":\"f74fb3f4-25b6-4c0f-8d12-1252a1822531\",\"type\":\"Line\"},\"hover_glyph\":null,\"muted_glyph\":null,\"nonselection_glyph\":{\"id\":\"0cea5098-63dd-40be-abe2-dde875027c64\",\"type\":\"Line\"},\"selection_glyph\":null},\"id\":\"846a5d40-5fd2-4fb9-a11e-05e47cfd11df\",\"type\":\"GlyphRenderer\"},{\"attributes\":{\"children\":[{\"id\":\"c2b79732-a7aa-4e29-9ff0-c5613edacd2a\",\"type\":\"WidgetBox\"},{\"id\":\"de45bfbc-d0df-4148-b741-c075bbceb189\",\"type\":\"Column\"}]},\"id\":\"772297c0-a9f0-44a3-b31a-e60197764c22\",\"type\":\"Column\"},{\"attributes\":{\"plot\":{\"id\":\"2f755c79-4305-4870-a173-f8c9667262b8\",\"subtype\":\"Figure\",\"type\":\"Plot\"}},\"id\":\"d53187a2-f60e-4d92-a7c9-07bfbae344ca\",\"type\":\"PanTool\"},{\"attributes\":{\"children\":[{\"id\":\"550f31f6-0439-4546-9d8c-d87c98ecc24a\",\"type\":\"Div\"}]},\"id\":\"c2b79732-a7aa-4e29-9ff0-c5613edacd2a\",\"type\":\"WidgetBox\"},{\"attributes\":{\"fill_alpha\":{\"value\":0.1},\"fill_color\":{\"value\":\"#1f77b4\"},\"line_alpha\":{\"value\":0.1},\"line_color\":{\"value\":\"#1f77b4\"},\"top\":{\"field\":\"pct\"},\"width\":{\"value\":0.6},\"x\":{\"field\":\"index\"}},\"id\":\"8ef44f08-8f98-4c67-a53f-16dad8470222\",\"type\":\"VBar\"},{\"attributes\":{\"plot\":{\"id\":\"b3b52e22-9f7f-4395-af2f-c2896360c5b5\",\"subtype\":\"Figure\",\"type\":\"Plot\"},\"ticker\":{\"id\":\"1d8e336d-f4f8-4122-9704-e38cc2bbd3b9\",\"type\":\"BasicTicker\"}},\"id\":\"bfb97eec-d062-4da5-bb14-3bf6e0bead41\",\"type\":\"Grid\"},{\"attributes\":{},\"id\":\"795ff9ca-3321-4163-92ef-0a17a6b0de87\",\"type\":\"LinearScale\"},{\"attributes\":{\"callback\":null},\"id\":\"027dbe5c-4573-45ec-8859-14aba928ad76\",\"type\":\"DataRange1d\"},{\"attributes\":{\"callback\":null,\"data\":{}},\"id\":\"9e7b6a11-e759-4615-8764-dee6497a557e\",\"type\":\"ColumnDataSource\"},{\"attributes\":{\"plot\":null,\"text\":\"\"},\"id\":\"cf0d45cc-12a5-4e32-83b1-d785b646abfe\",\"type\":\"Title\"},{\"attributes\":{\"align\":\"center\",\"plot\":{\"id\":\"2f755c79-4305-4870-a173-f8c9667262b8\",\"subtype\":\"Figure\",\"type\":\"Plot\"},\"text\":\"Rush/delays within time thresholds pick up\"},\"id\":\"d47196e2-011d-4e2f-9558-487d024a4dfb\",\"type\":\"Title\"},{\"attributes\":{\"data_source\":{\"id\":\"3d91d50f-ec3d-4cbd-a72a-105a9ed8a643\",\"type\":\"ColumnDataSource\"},\"glyph\":{\"id\":\"3f114ba8-6a89-4586-ae19-5c05f880fd38\",\"type\":\"Line\"},\"hover_glyph\":null,\"muted_glyph\":null,\"nonselection_glyph\":{\"id\":\"9d9d2e92-d1b8-41d7-bc95-bf951b2a4159\",\"type\":\"Line\"},\"selection_glyph\":null},\"id\":\"e3a2ac72-933e-466f-90e0-c086fde89b32\",\"type\":\"GlyphRenderer\"},{\"attributes\":{\"data_source\":{\"id\":\"8b062a47-6b99-4450-8335-1acc5ca53cd2\",\"type\":\"ColumnDataSource\"},\"glyph\":{\"id\":\"c961dc5a-9623-4fa8-86e7-7d20a4f4397d\",\"type\":\"VBar\"},\"hover_glyph\":null,\"muted_glyph\":null,\"nonselection_glyph\":{\"id\":\"4ace0e9e-9a73-4258-92d7-940ab2ee2bd6\",\"type\":\"VBar\"},\"selection_glyph\":null},\"id\":\"4f8f5e8b-6fdc-451c-a594-407d17c181b7\",\"type\":\"GlyphRenderer\"},{\"attributes\":{\"data_source\":{\"id\":\"55ab3650-e9bd-445c-aa09-9d7215cbcc3b\",\"type\":\"ColumnDataSource\"},\"glyph\":{\"id\":\"2294dd55-83ed-47ae-b751-e14e3993c338\",\"type\":\"HBar\"},\"hover_glyph\":null,\"muted_glyph\":null,\"nonselection_glyph\":{\"id\":\"6bf743a9-aa4e-4fa3-85a9-cda629f4aac7\",\"type\":\"HBar\"},\"selection_glyph\":null},\"id\":\"f8fcb8e8-c6af-479d-ad84-d9f3d9a0af5b\",\"type\":\"GlyphRenderer\"},{\"attributes\":{\"callback\":null,\"column_names\":[\"x\",\"y\"],\"data\":{\"x\":[-0.4090909090909091,-0.4090909090909091],\"y\":[0.5,1.5]}},\"id\":\"4a2feb45-8eea-499e-aa5e-4d728a57afb0\",\"type\":\"ColumnDataSource\"},{\"attributes\":{\"line_color\":{\"value\":\"#AAB2A5\"},\"line_dash\":[6],\"line_width\":{\"value\":2},\"x\":{\"field\":\"x\"},\"y\":{\"field\":\"y\"}},\"id\":\"d5a9de45-26c6-449b-9051-0139c5acd0aa\",\"type\":\"Line\"},{\"attributes\":{\"callback\":null,\"data\":{}},\"id\":\"fe27a635-1067-4782-ab53-9a2d36026442\",\"type\":\"ColumnDataSource\"},{\"attributes\":{\"bottom_units\":\"screen\",\"fill_alpha\":{\"value\":0.5},\"fill_color\":{\"value\":\"lightgrey\"},\"left_units\":\"screen\",\"level\":\"overlay\",\"line_alpha\":{\"value\":1.0},\"line_color\":{\"value\":\"black\"},\"line_dash\":[4,4],\"line_width\":{\"value\":2},\"plot\":null,\"render_mode\":\"css\",\"right_units\":\"screen\",\"top_units\":\"screen\"},\"id\":\"7883fbad-3bd2-4643-bc52-f8cc457c1d9a\",\"type\":\"BoxAnnotation\"},{\"attributes\":{\"line_alpha\":{\"value\":0.1},\"line_color\":{\"value\":\"#1f77b4\"},\"line_dash\":[6],\"line_width\":{\"value\":2},\"x\":{\"field\":\"x\"},\"y\":{\"field\":\"y\"}},\"id\":\"9d9d2e92-d1b8-41d7-bc95-bf951b2a4159\",\"type\":\"Line\"},{\"attributes\":{\"line_alpha\":{\"value\":0.1},\"line_color\":{\"value\":\"#1f77b4\"},\"line_dash\":[6],\"line_width\":{\"value\":2},\"x\":{\"field\":\"x\"},\"y\":{\"field\":\"y\"}},\"id\":\"7482e19c-ae42-4d81-bb93-c97db8b4db95\",\"type\":\"Line\"},{\"attributes\":{\"callback\":null,\"column_names\":[\"x\",\"y\"],\"data\":{\"x\":[0,0],\"y\":[0.5,1.5]}},\"id\":\"24420e84-b968-4438-a2a5-1f78896b2831\",\"type\":\"ColumnDataSource\"},{\"attributes\":{\"data_source\":{\"id\":\"4a2feb45-8eea-499e-aa5e-4d728a57afb0\",\"type\":\"ColumnDataSource\"},\"glyph\":{\"id\":\"a25c012e-988f-4c8a-a357-608acf2a5ec1\",\"type\":\"Line\"},\"hover_glyph\":null,\"muted_glyph\":null,\"nonselection_glyph\":{\"id\":\"5310ab61-91be-4c7c-a29d-87b1d1b963d1\",\"type\":\"Line\"},\"selection_glyph\":null},\"id\":\"33b9463f-461d-4689-8e3e-09c65068cecc\",\"type\":\"GlyphRenderer\"},{\"attributes\":{\"line_alpha\":{\"value\":0.1},\"line_color\":{\"value\":\"#1f77b4\"},\"line_dash\":[6],\"line_width\":{\"value\":2},\"x\":{\"field\":\"x\"},\"y\":{\"field\":\"y\"}},\"id\":\"5310ab61-91be-4c7c-a29d-87b1d1b963d1\",\"type\":\"Line\"},{\"attributes\":{\"children\":[{\"id\":\"93bb92ca-c88a-4643-b316-e9f701edea3a\",\"type\":\"Row\"},{\"id\":\"cb3796bb-c235-4740-bdd1-42151e309e7f\",\"type\":\"Row\"}]},\"id\":\"de45bfbc-d0df-4148-b741-c075bbceb189\",\"type\":\"Column\"},{\"attributes\":{\"formatter\":{\"id\":\"52d122cb-9da3-4011-af71-42d8ec6daaad\",\"type\":\"BasicTickFormatter\"},\"plot\":{\"id\":\"2f755c79-4305-4870-a173-f8c9667262b8\",\"subtype\":\"Figure\",\"type\":\"Plot\"},\"ticker\":{\"id\":\"b0608826-5147-4f6f-b2de-49c477fec622\",\"type\":\"BasicTicker\"}},\"id\":\"9971d7a7-ad7f-4e0a-879a-04910cebaec8\",\"type\":\"LinearAxis\"},{\"attributes\":{\"line_alpha\":{\"value\":0.1},\"line_color\":{\"value\":\"#1f77b4\"},\"line_dash\":[6],\"line_width\":{\"value\":2},\"x\":{\"field\":\"x\"},\"y\":{\"field\":\"y\"}},\"id\":\"66d520f7-c27b-43cc-93d2-3376a6f83df8\",\"type\":\"Line\"},{\"attributes\":{\"callback\":null,\"column_names\":[\"x\",\"y\"],\"data\":{\"x\":[0.5641025641025641,0.5641025641025641],\"y\":[0.5,1.5]}},\"id\":\"e503c680-b545-493c-8214-f04b67563a72\",\"type\":\"ColumnDataSource\"},{\"attributes\":{\"plot\":null,\"text\":\"\"},\"id\":\"11546cc7-7953-4131-959a-77b0840de7ce\",\"type\":\"Title\"},{\"attributes\":{\"line_color\":{\"value\":\"#AAB2A5\"},\"line_dash\":[6],\"line_width\":{\"value\":2},\"x\":{\"field\":\"x\"},\"y\":{\"field\":\"y\"}},\"id\":\"0fab864a-ef46-489d-8f8d-fb01cf01699a\",\"type\":\"Line\"}],\"root_ids\":[\"772297c0-a9f0-44a3-b31a-e60197764c22\"]},\"title\":\"Bokeh Application\",\"version\":\"0.12.6\"}};\n",
       "            var render_items = [{\"docid\":\"06377122-ce83-4d35-bc76-eb3bf5db9cf8\",\"elementid\":\"d934ae10-9779-49cf-ac75-78fe443e453a\",\"modelid\":\"772297c0-a9f0-44a3-b31a-e60197764c22\"}];\n",
       "            \n",
       "            Bokeh.embed.embed_items(docs_json, render_items);\n",
       "          };\n",
       "          if (document.readyState != \"loading\") fn();\n",
       "          else document.addEventListener(\"DOMContentLoaded\", fn);\n",
       "        })();\n",
       "      },\n",
       "      function(Bokeh) {\n",
       "      }\n",
       "    ];\n",
       "  \n",
       "    function run_inline_js() {\n",
       "      \n",
       "      if ((window.Bokeh !== undefined) || (force === true)) {\n",
       "        for (var i = 0; i < inline_js.length; i++) {\n",
       "          inline_js[i](window.Bokeh);\n",
       "        }if (force === true) {\n",
       "          display_loaded();\n",
       "        }} else if (Date.now() < window._bokeh_timeout) {\n",
       "        setTimeout(run_inline_js, 100);\n",
       "      } else if (!window._bokeh_failed_load) {\n",
       "        console.log(\"Bokeh: BokehJS failed to load within specified timeout.\");\n",
       "        window._bokeh_failed_load = true;\n",
       "      } else if (force !== true) {\n",
       "        var cell = $(document.getElementById(\"d934ae10-9779-49cf-ac75-78fe443e453a\")).parents('.cell').data().cell;\n",
       "        cell.output_area.append_execute_result(NB_LOAD_WARNING)\n",
       "      }\n",
       "  \n",
       "    }\n",
       "  \n",
       "    if (window._bokeh_is_loading === 0) {\n",
       "      console.log(\"Bokeh: BokehJS loaded, going straight to plotting\");\n",
       "      run_inline_js();\n",
       "    } else {\n",
       "      load_libs(js_urls, function() {\n",
       "        console.log(\"Bokeh: BokehJS plotting callback run at\", now());\n",
       "        run_inline_js();\n",
       "      });\n",
       "    }\n",
       "  }(this));\n",
       "</script>"
      ]
     },
     "metadata": {},
     "output_type": "display_data"
    }
   ],
   "source": [
    "#Using plotting functions\n",
    "time_threshold_pick_up_plot = plot_horizontal_time_thresholds(threshold_pick_up, 400, 300, 'pct', 'colors', \n",
    "                                                 \"Rush/delays within time thresholds pick up\")\n",
    "within_thresholds_pick_up_plot = plot_total_pct_thresholds(within_thresh_pick_up, 400, 300, \"index\", \"pct\", \"colors\", \n",
    "                                              \"Total percentage within thresholds pick up\")\n",
    "time_threshold_drop_off_plot = plot_horizontal_time_thresholds(threshold_drop_off, 400, 300, 'pct', 'colors', \n",
    "                                                 \"Rush/delays within time thresholds drop off\")\n",
    "time_threshold_drop_off_plot.x_range = time_threshold_pick_up_plot.x_range\n",
    "within_thresholds_drop_off_plot = plot_total_pct_thresholds(within_thresh_drop_off, 400, 300, \"index\", \"pct\", \"colors\", \n",
    "                                              \"Total percentage within thresholds drop off\")\n",
    "threshold_pick_up_plots = row(time_threshold_pick_up_plot, within_thresholds_pick_up_plot)\n",
    "threshold_drop_off_plots = row(time_threshold_drop_off_plot, within_thresholds_drop_off_plot)\n",
    "\n",
    "show(column(Div(text=\"<h1 style='margin-left:200px;margin-right:-400px;margin-bottom:18px;font-size:20px;\\\n",
    "                color:#7D7575'> Time thresholds for pick ups / drop offs </h1>\"),\n",
    "            column(threshold_pick_up_plots, threshold_drop_off_plots)))\n"
   ]
  },
  {
   "cell_type": "markdown",
   "metadata": {},
   "source": [
    "As observed in the previous plots, "
   ]
  }
 ],
 "metadata": {
  "kernelspec": {
   "display_name": "Python 3",
   "language": "python",
   "name": "python3"
  },
  "language_info": {
   "codemirror_mode": {
    "name": "ipython",
    "version": 3
   },
   "file_extension": ".py",
   "mimetype": "text/x-python",
   "name": "python",
   "nbconvert_exporter": "python",
   "pygments_lexer": "ipython3",
   "version": "3.5.4"
  }
 },
 "nbformat": 4,
 "nbformat_minor": 2
}
