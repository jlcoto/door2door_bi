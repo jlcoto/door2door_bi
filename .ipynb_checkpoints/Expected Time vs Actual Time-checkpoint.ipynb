{
 "cells": [
  {
   "cell_type": "code",
   "execution_count": 328,
   "metadata": {},
   "outputs": [
    {
     "data": {
      "text/html": [
       "\n",
       "    <div class=\"bk-root\">\n",
       "        <a href=\"http://bokeh.pydata.org\" target=\"_blank\" class=\"bk-logo bk-logo-small bk-logo-notebook\"></a>\n",
       "        <span id=\"398efa45-8591-4f80-a601-4cff09504937\">Loading BokehJS ...</span>\n",
       "    </div>"
      ]
     },
     "metadata": {},
     "output_type": "display_data"
    },
    {
     "data": {
      "application/javascript": [
       "\n",
       "(function(global) {\n",
       "  function now() {\n",
       "    return new Date();\n",
       "  }\n",
       "\n",
       "  var force = true;\n",
       "\n",
       "  if (typeof (window._bokeh_onload_callbacks) === \"undefined\" || force === true) {\n",
       "    window._bokeh_onload_callbacks = [];\n",
       "    window._bokeh_is_loading = undefined;\n",
       "  }\n",
       "\n",
       "\n",
       "  \n",
       "  if (typeof (window._bokeh_timeout) === \"undefined\" || force === true) {\n",
       "    window._bokeh_timeout = Date.now() + 5000;\n",
       "    window._bokeh_failed_load = false;\n",
       "  }\n",
       "\n",
       "  var NB_LOAD_WARNING = {'data': {'text/html':\n",
       "     \"<div style='background-color: #fdd'>\\n\"+\n",
       "     \"<p>\\n\"+\n",
       "     \"BokehJS does not appear to have successfully loaded. If loading BokehJS from CDN, this \\n\"+\n",
       "     \"may be due to a slow or bad network connection. Possible fixes:\\n\"+\n",
       "     \"</p>\\n\"+\n",
       "     \"<ul>\\n\"+\n",
       "     \"<li>re-rerun `output_notebook()` to attempt to load from CDN again, or</li>\\n\"+\n",
       "     \"<li>use INLINE resources instead, as so:</li>\\n\"+\n",
       "     \"</ul>\\n\"+\n",
       "     \"<code>\\n\"+\n",
       "     \"from bokeh.resources import INLINE\\n\"+\n",
       "     \"output_notebook(resources=INLINE)\\n\"+\n",
       "     \"</code>\\n\"+\n",
       "     \"</div>\"}};\n",
       "\n",
       "  function display_loaded() {\n",
       "    if (window.Bokeh !== undefined) {\n",
       "      var el = document.getElementById(\"398efa45-8591-4f80-a601-4cff09504937\");\n",
       "      el.textContent = \"BokehJS \" + Bokeh.version + \" successfully loaded.\";\n",
       "    } else if (Date.now() < window._bokeh_timeout) {\n",
       "      setTimeout(display_loaded, 100)\n",
       "    }\n",
       "  }\n",
       "\n",
       "  function run_callbacks() {\n",
       "    try {\n",
       "      window._bokeh_onload_callbacks.forEach(function(callback) { callback() });\n",
       "    }\n",
       "    finally {\n",
       "      delete window._bokeh_onload_callbacks\n",
       "    }\n",
       "    console.info(\"Bokeh: all callbacks have finished\");\n",
       "  }\n",
       "\n",
       "  function load_libs(js_urls, callback) {\n",
       "    window._bokeh_onload_callbacks.push(callback);\n",
       "    if (window._bokeh_is_loading > 0) {\n",
       "      console.log(\"Bokeh: BokehJS is being loaded, scheduling callback at\", now());\n",
       "      return null;\n",
       "    }\n",
       "    if (js_urls == null || js_urls.length === 0) {\n",
       "      run_callbacks();\n",
       "      return null;\n",
       "    }\n",
       "    console.log(\"Bokeh: BokehJS not loaded, scheduling load and callback at\", now());\n",
       "    window._bokeh_is_loading = js_urls.length;\n",
       "    for (var i = 0; i < js_urls.length; i++) {\n",
       "      var url = js_urls[i];\n",
       "      var s = document.createElement('script');\n",
       "      s.src = url;\n",
       "      s.async = false;\n",
       "      s.onreadystatechange = s.onload = function() {\n",
       "        window._bokeh_is_loading--;\n",
       "        if (window._bokeh_is_loading === 0) {\n",
       "          console.log(\"Bokeh: all BokehJS libraries loaded\");\n",
       "          run_callbacks()\n",
       "        }\n",
       "      };\n",
       "      s.onerror = function() {\n",
       "        console.warn(\"failed to load library \" + url);\n",
       "      };\n",
       "      console.log(\"Bokeh: injecting script tag for BokehJS library: \", url);\n",
       "      document.getElementsByTagName(\"head\")[0].appendChild(s);\n",
       "    }\n",
       "  };var element = document.getElementById(\"398efa45-8591-4f80-a601-4cff09504937\");\n",
       "  if (element == null) {\n",
       "    console.log(\"Bokeh: ERROR: autoload.js configured with elementid '398efa45-8591-4f80-a601-4cff09504937' but no matching script tag was found. \")\n",
       "    return false;\n",
       "  }\n",
       "\n",
       "  var js_urls = [\"https://cdn.pydata.org/bokeh/release/bokeh-0.12.6.min.js\", \"https://cdn.pydata.org/bokeh/release/bokeh-widgets-0.12.6.min.js\"];\n",
       "\n",
       "  var inline_js = [\n",
       "    function(Bokeh) {\n",
       "      Bokeh.set_log_level(\"info\");\n",
       "    },\n",
       "    \n",
       "    function(Bokeh) {\n",
       "      \n",
       "    },\n",
       "    \n",
       "    function(Bokeh) {\n",
       "      \n",
       "      document.getElementById(\"398efa45-8591-4f80-a601-4cff09504937\").textContent = \"BokehJS is loading...\";\n",
       "    },\n",
       "    function(Bokeh) {\n",
       "      console.log(\"Bokeh: injecting CSS: https://cdn.pydata.org/bokeh/release/bokeh-0.12.6.min.css\");\n",
       "      Bokeh.embed.inject_css(\"https://cdn.pydata.org/bokeh/release/bokeh-0.12.6.min.css\");\n",
       "      console.log(\"Bokeh: injecting CSS: https://cdn.pydata.org/bokeh/release/bokeh-widgets-0.12.6.min.css\");\n",
       "      Bokeh.embed.inject_css(\"https://cdn.pydata.org/bokeh/release/bokeh-widgets-0.12.6.min.css\");\n",
       "    }\n",
       "  ];\n",
       "\n",
       "  function run_inline_js() {\n",
       "    \n",
       "    if ((window.Bokeh !== undefined) || (force === true)) {\n",
       "      for (var i = 0; i < inline_js.length; i++) {\n",
       "        inline_js[i](window.Bokeh);\n",
       "      }if (force === true) {\n",
       "        display_loaded();\n",
       "      }} else if (Date.now() < window._bokeh_timeout) {\n",
       "      setTimeout(run_inline_js, 100);\n",
       "    } else if (!window._bokeh_failed_load) {\n",
       "      console.log(\"Bokeh: BokehJS failed to load within specified timeout.\");\n",
       "      window._bokeh_failed_load = true;\n",
       "    } else if (force !== true) {\n",
       "      var cell = $(document.getElementById(\"398efa45-8591-4f80-a601-4cff09504937\")).parents('.cell').data().cell;\n",
       "      cell.output_area.append_execute_result(NB_LOAD_WARNING)\n",
       "    }\n",
       "\n",
       "  }\n",
       "\n",
       "  if (window._bokeh_is_loading === 0) {\n",
       "    console.log(\"Bokeh: BokehJS loaded, going straight to plotting\");\n",
       "    run_inline_js();\n",
       "  } else {\n",
       "    load_libs(js_urls, function() {\n",
       "      console.log(\"Bokeh: BokehJS plotting callback run at\", now());\n",
       "      run_inline_js();\n",
       "    });\n",
       "  }\n",
       "}(this));"
      ]
     },
     "metadata": {},
     "output_type": "display_data"
    }
   ],
   "source": [
    "import datetime\n",
    "import numpy as np\n",
    "import pandas as pd\n",
    "import matplotlib.pyplot as plt\n",
    "import seaborn as sns\n",
    "from bokeh.plotting import figure, output_file, show, ColumnDataSource\n",
    "from bokeh.io import output_notebook\n",
    "from bokeh.models import Title, HoverTool, Legend, LinearColorMapper, ColorBar, BasicTicker, Range1d, Label, Div\n",
    "from bokeh.layouts import row, column, gridplot\n",
    "from math import pi\n",
    "output_notebook()\n",
    "%matplotlib inline"
   ]
  },
  {
   "cell_type": "markdown",
   "metadata": {},
   "source": [
    "# Expected Time vs. Actual Time\n",
    "\n",
    "In this notebook we will respond the question on how to measure and to report the expected time vs. actual time differences. In particular, we will propose an indicator that is clear and simple enought to capture the differences between these two measures."
   ]
  },
  {
   "cell_type": "code",
   "execution_count": 119,
   "metadata": {},
   "outputs": [],
   "source": [
    "pick_drop = pd.read_pickle('data/pick_drop_data')\n",
    "booking_data = pd.read_pickle('data/bookings_data')"
   ]
  },
  {
   "cell_type": "code",
   "execution_count": 120,
   "metadata": {},
   "outputs": [
    {
     "data": {
      "text/plain": [
       "2110"
      ]
     },
     "execution_count": 120,
     "metadata": {},
     "output_type": "execute_result"
    }
   ],
   "source": [
    "pick_drop[\"actual_time_utc_berlin\"].notnull().sum()"
   ]
  },
  {
   "cell_type": "code",
   "execution_count": 121,
   "metadata": {},
   "outputs": [
    {
     "data": {
      "text/plain": [
       "1098"
      ]
     },
     "execution_count": 121,
     "metadata": {},
     "output_type": "execute_result"
    }
   ],
   "source": [
    "((pick_drop[\"actual_time_utc_berlin\"].notnull()) &  (pick_drop[\"type\"] == \"pickup\")).sum()"
   ]
  },
  {
   "cell_type": "code",
   "execution_count": 122,
   "metadata": {},
   "outputs": [
    {
     "data": {
      "text/plain": [
       "1012"
      ]
     },
     "execution_count": 122,
     "metadata": {},
     "output_type": "execute_result"
    }
   ],
   "source": [
    "((pick_drop[\"actual_time_utc_berlin\"].notnull()) &  (pick_drop[\"type\"] == \"dropoff\")).sum()"
   ]
  },
  {
   "cell_type": "markdown",
   "metadata": {},
   "source": [
    "Checking our data, we notice that there are a total of 2110 observations in our `pick_drop` data set that have an actual time of pick up. Note that this can be further divided in pick ups and drops offs. \n",
    "\n",
    "A first thing we notice here is that there are more pick ups than closed services. In our exploratory analysis we saw that we had 1014 closed pick up services and 1012 closed drop off services. What could explain this difference?\n",
    "\n",
    "In what follows, we show that the difference is related to the cases when the driver itself has cancelled the service. To prove this, we get first the cases of the `pick_drop` data set where there exist a pick up, an actual time and the service was cancelled. We compare the `booking_id` with that of the `booking_data` for the cases where the driver decided to cancel the service. We notice that there are no differences at all, meaning that the cancel pick ups with actual time corresponds to cases where driver cancelled the service."
   ]
  },
  {
   "cell_type": "code",
   "execution_count": 123,
   "metadata": {},
   "outputs": [
    {
     "data": {
      "text/plain": [
       "set()"
      ]
     },
     "execution_count": 123,
     "metadata": {},
     "output_type": "execute_result"
    }
   ],
   "source": [
    "bookings_pick_up_canceled = pick_drop[pick_drop[\"actual_time_utc_berlin\"].notnull() &  \n",
    "                                      (pick_drop[\"type\"] == \"pickup\") & \n",
    "                                      (pick_drop[\"status\"] == \"cancelled\")]\n",
    "bookings_driver_cancelled = booking_data[booking_data['cancelled_by'] == 'driver']\n",
    "set(bookings_pick_up_canceled['booking_id']).difference(set(bookings_driver_cancelled['booking_id']))"
   ]
  },
  {
   "cell_type": "markdown",
   "metadata": {},
   "source": [
    "### Should cancelled pick ups be part of the analysis?\n",
    "\n",
    "While this might be a point for discussion, we think that cancelled pick ups should not be part of the expected time vs. actual time analysis. We believe that the cancelled pick ups by the driver might have other motivations (user was never in the place, user forgot to cancel service, etc) than waiting. \n",
    "\n",
    "In this sense, the actual vs. expected time analysis wants to deal with how the difference affect the service experience. If there was no service to the user to begin with and no waiting time, it is difficult to see how this has affected the quality of the service. We decide, therefore, to exclude these points from our analysis."
   ]
  },
  {
   "cell_type": "code",
   "execution_count": 124,
   "metadata": {},
   "outputs": [],
   "source": [
    "exp_act_time = pick_drop[(pick_drop[\"actual_time_utc_berlin\"].notnull()) \n",
    "          & ~(pick_drop[\"status\"] == \"cancelled\")].reset_index()"
   ]
  },
  {
   "cell_type": "code",
   "execution_count": 125,
   "metadata": {},
   "outputs": [],
   "source": [
    "#Findin differences\n",
    "def diff(row,t1,t2):\n",
    "    \"\"\"\n",
    "    t1: Timestamp object.\n",
    "    t2: Timestamp oject.\n",
    "    \"\"\"\n",
    "    d = row[t1]-row[t2]\n",
    "    diff_seconds = d.total_seconds()\n",
    "    return diff_seconds"
   ]
  },
  {
   "cell_type": "code",
   "execution_count": 126,
   "metadata": {},
   "outputs": [],
   "source": [
    "exp_act_time.loc[:,\"time_diff\"] = exp_act_time.apply(diff, t1='actual_time_utc_berlin', t2='estimated_time_utc_berlin', axis=1)"
   ]
  },
  {
   "cell_type": "code",
   "execution_count": 127,
   "metadata": {},
   "outputs": [],
   "source": [
    "def print_stats(df, column):\n",
    "    total_hours_diff = df[column].sum() / (60*60)\n",
    "    avg_total_hours_diff = df[column].sum() / len(exp_act_time)\n",
    "    sd_total_hours_diff = df[column].std()\n",
    "    print(\"Total difference (hours): {:.3f}\".format(total_hours_diff))\n",
    "    print(\"Average (seconds): {:.3f}\".format(avg_total_hours_diff))\n",
    "    print(\"Standard deviation (seconds): {:.3f}\".format(sd_total_hours_diff))\n",
    "\n"
   ]
  },
  {
   "cell_type": "code",
   "execution_count": 128,
   "metadata": {},
   "outputs": [
    {
     "name": "stdout",
     "output_type": "stream",
     "text": [
      "Total difference (hours): 31.382\n",
      "Average (seconds): 55.762\n",
      "Standard deviation (seconds): 254.066\n"
     ]
    }
   ],
   "source": [
    "print_stats(exp_act_time,\"time_diff\")"
   ]
  },
  {
   "cell_type": "code",
   "execution_count": 129,
   "metadata": {
    "collapsed": true
   },
   "outputs": [],
   "source": [
    "#Passing time difference to minutes\n",
    "exp_act_time[\"time_diff_min\"] = exp_act_time[\"time_diff\"]/60"
   ]
  },
  {
   "cell_type": "code",
   "execution_count": 130,
   "metadata": {},
   "outputs": [
    {
     "data": {
      "image/png": "[encoded data removed]",
      "text/plain": [
       "<matplotlib.figure.Figure at 0x10a072a58>"
      ]
     },
     "metadata": {},
     "output_type": "display_data"
    }
   ],
   "source": [
    "#Plotting distribution of expected vs. actual difference\n",
    "fig, ax = plt.subplots(figsize=(10,5))\n",
    "sns.distplot(exp_act_time[\"time_diff_min\"], kde=False, ax=ax)\n",
    "ax.set_xlabel(\"Time difference\")\n",
    "ax.set_ylabel(\"Counts minutes\")\n",
    "ax.set_title(\"Distribution of difference \\n Actual Time Expected Time (minutes)\")\n",
    "ax.axvline(0, color=\"#44999E\", linestyle='--');"
   ]
  },
  {
   "cell_type": "markdown",
   "metadata": {},
   "source": [
    "Looking at the distribution of total seconds difference between actual time and expected time, we see that this has a somewhat of a bell shape. Note, however, that the distribution tends to be shifted towards the positive values. This explains why the total sum is positive (31 hours difference in total approx). \n",
    "\n",
    "As an additional, there are some outliers worth mentioning. For example, the case with the highest difference between both values is almost an hour: 58 minutes, 53 seconds.\n",
    "\n",
    "The average difference between both measures is not bad. In total we have that approximately there is a 55 second differences. However, the standard deviation tells us that this distribution is quite spread. Therefore, it is important to understand well the cases when there is a mismatch between actual and expected time."
   ]
  },
  {
   "cell_type": "code",
   "execution_count": 131,
   "metadata": {
    "collapsed": true
   },
   "outputs": [],
   "source": [
    "def get_thresholds_groups(df, column):\n",
    "    df[\"time_thresholds\"] = pd.cut(df[column], [-100,-7,-3,0,3,7,100])\n",
    "    #Check that cut do not generate empty cells (so every observation is within a category)\n",
    "    if df[\"time_thresholds\"].isnull().sum() == 0:\n",
    "        group_threshold = df.groupby(\"time_thresholds\")['booking_id'].aggregate(lambda x: len(x) / len(df)).reset_index()\n",
    "        group_threshold = group_threshold.rename(columns={\"booking_id\": \"pct\"})\n",
    "        colors = [\"#E43216\", \"#E4E02C\", \"#459E0F\"]\n",
    "        colors.extend(colors[::-1])\n",
    "        group_threshold[\"colors\"] = colors\n",
    "        return group_threshold\n",
    "\n",
    "def get_region_threshold_groups(df, column):\n",
    "    colors_dict = {\"#E43216\":\"red\", \"#E4E02C\":\"yellow\", \"#459E0F\":\"green\"}\n",
    "    region_group = df.groupby(column).agg({'pct': np.sum}).reset_index()\n",
    "    region_group[\"thresholds\"] = region_group[\"colors\"].map(lambda x: colors_dict[x])\n",
    "    region_group[\"thresholds\"] = pd.Categorical(region_group[\"thresholds\"], [\"green\", \"yellow\", \"red\"])\n",
    "    #Getting extra index for easier plotting \n",
    "    region_group = region_group.sort_values(by=\"thresholds\").reset_index()\n",
    "    region_group[\"thresholds\"] = region_group[\"thresholds\"].astype(object)\n",
    "    return region_group"
   ]
  },
  {
   "cell_type": "code",
   "execution_count": 132,
   "metadata": {
    "collapsed": true
   },
   "outputs": [],
   "source": [
    "def plot_horizontal_time_thresholds(df, plot_w, plot_h, pct_column, colors_column, title):\n",
    "    \n",
    "    p = figure(plot_width=plot_w, plot_height=plot_h)\n",
    "\n",
    "    #Cases where actual time less than expected time\n",
    "    perct_neg_acc = 0\n",
    "    for i in list(range(0,3))[::-1]:\n",
    "        p.hbar(y=1, height=0.3, left=-df[pct_column][i] + perct_neg_acc,\n",
    "           right=perct_neg_acc, color=df[colors_column][i] )\n",
    "        p.line(x=[perct_neg_acc, perct_neg_acc], y=[0.5, 1.5], line_width=2, color=\"#AAB2A5\", line_dash=\"dashed\")\n",
    "        perct_neg_acc -= df[pct_column][i]\n",
    "    \n",
    "    #Cases where expected time less than actual time    \n",
    "    perc_pos_acc = 0\n",
    "    for i in list(range(3,6)):\n",
    "        p.hbar(y=1, height=0.3, left=perc_pos_acc,\n",
    "           right = df[pct_column][i] + perc_pos_acc, color=df[colors_column][i])\n",
    "        p.line(x=[perc_pos_acc, perc_pos_acc], y=[0.5, 1.5], line_width=2, color=\"#AAB2A5\", line_dash=\"dashed\")\n",
    "        perc_pos_acc += df[pct_column][i]\n",
    "        \n",
    "    p.y_range = Range1d(0, 2)\n",
    "    p.add_layout(Title(text=title, align=\"center\", text_font_size=\"10pt\"), \n",
    "             \"above\")\n",
    "    p.xgrid.grid_line_color = None\n",
    "    p.ygrid.grid_line_color = None\n",
    "    p.yaxis.visible = False\n",
    "    return p"
   ]
  },
  {
   "cell_type": "code",
   "execution_count": 133,
   "metadata": {
    "collapsed": true
   },
   "outputs": [],
   "source": [
    "def plot_total_pct_thresholds(df, plot_w, plot_h, index_col,  pct_column, color_column, title):\n",
    "\n",
    "    source = ColumnDataSource(df)    \n",
    "    hover = HoverTool(tooltips=[\n",
    "        (\"pct\", \"@\"+ pct_column +\"{(0.00%)}\")\n",
    "    ])\n",
    "\n",
    "    total_perc = figure(plot_width=plot_w, plot_height=plot_h, tools=[hover])\n",
    "    total_perc.add_layout(Title(text=title, align=\"center\", text_font_size=\"10pt\"), \n",
    "             \"above\")\n",
    "\n",
    "    total_perc.vbar(x=index_col, top=pct_column, color=color_column, source= source, width=0.6)\n",
    "    \n",
    "    return total_perc"
   ]
  },
  {
   "cell_type": "code",
   "execution_count": 134,
   "metadata": {},
   "outputs": [],
   "source": [
    "group_threshold = get_thresholds_groups(exp_act_time, \"time_diff_min\")\n",
    "region_group = get_region_threshold_groups(group_threshold, \"colors\")"
   ]
  },
  {
   "cell_type": "code",
   "execution_count": 135,
   "metadata": {},
   "outputs": [
    {
     "data": {
      "text/html": [
       "\n",
       "\n",
       "    <div class=\"bk-root\">\n",
       "        <div class=\"bk-plotdiv\" id=\"c211baaa-3b0e-4a56-8520-6c5f749054e8\"></div>\n",
       "    </div>\n",
       "<script type=\"text/javascript\">\n",
       "  \n",
       "  (function(global) {\n",
       "    function now() {\n",
       "      return new Date();\n",
       "    }\n",
       "  \n",
       "    var force = false;\n",
       "  \n",
       "    if (typeof (window._bokeh_onload_callbacks) === \"undefined\" || force === true) {\n",
       "      window._bokeh_onload_callbacks = [];\n",
       "      window._bokeh_is_loading = undefined;\n",
       "    }\n",
       "  \n",
       "  \n",
       "    \n",
       "    if (typeof (window._bokeh_timeout) === \"undefined\" || force === true) {\n",
       "      window._bokeh_timeout = Date.now() + 0;\n",
       "      window._bokeh_failed_load = false;\n",
       "    }\n",
       "  \n",
       "    var NB_LOAD_WARNING = {'data': {'text/html':\n",
       "       \"<div style='background-color: #fdd'>\\n\"+\n",
       "       \"<p>\\n\"+\n",
       "       \"BokehJS does not appear to have successfully loaded. If loading BokehJS from CDN, this \\n\"+\n",
       "       \"may be due to a slow or bad network connection. Possible fixes:\\n\"+\n",
       "       \"</p>\\n\"+\n",
       "       \"<ul>\\n\"+\n",
       "       \"<li>re-rerun `output_notebook()` to attempt to load from CDN again, or</li>\\n\"+\n",
       "       \"<li>use INLINE resources instead, as so:</li>\\n\"+\n",
       "       \"</ul>\\n\"+\n",
       "       \"<code>\\n\"+\n",
       "       \"from bokeh.resources import INLINE\\n\"+\n",
       "       \"output_notebook(resources=INLINE)\\n\"+\n",
       "       \"</code>\\n\"+\n",
       "       \"</div>\"}};\n",
       "  \n",
       "    function display_loaded() {\n",
       "      if (window.Bokeh !== undefined) {\n",
       "        var el = document.getElementById(\"c211baaa-3b0e-4a56-8520-6c5f749054e8\");\n",
       "        el.textContent = \"BokehJS \" + Bokeh.version + \" successfully loaded.\";\n",
       "      } else if (Date.now() < window._bokeh_timeout) {\n",
       "        setTimeout(display_loaded, 100)\n",
       "      }\n",
       "    }\n",
       "  \n",
       "    function run_callbacks() {\n",
       "      try {\n",
       "        window._bokeh_onload_callbacks.forEach(function(callback) { callback() });\n",
       "      }\n",
       "      finally {\n",
       "        delete window._bokeh_onload_callbacks\n",
       "      }\n",
       "      console.info(\"Bokeh: all callbacks have finished\");\n",
       "    }\n",
       "  \n",
       "    function load_libs(js_urls, callback) {\n",
       "      window._bokeh_onload_callbacks.push(callback);\n",
       "      if (window._bokeh_is_loading > 0) {\n",
       "        console.log(\"Bokeh: BokehJS is being loaded, scheduling callback at\", now());\n",
       "        return null;\n",
       "      }\n",
       "      if (js_urls == null || js_urls.length === 0) {\n",
       "        run_callbacks();\n",
       "        return null;\n",
       "      }\n",
       "      console.log(\"Bokeh: BokehJS not loaded, scheduling load and callback at\", now());\n",
       "      window._bokeh_is_loading = js_urls.length;\n",
       "      for (var i = 0; i < js_urls.length; i++) {\n",
       "        var url = js_urls[i];\n",
       "        var s = document.createElement('script');\n",
       "        s.src = url;\n",
       "        s.async = false;\n",
       "        s.onreadystatechange = s.onload = function() {\n",
       "          window._bokeh_is_loading--;\n",
       "          if (window._bokeh_is_loading === 0) {\n",
       "            console.log(\"Bokeh: all BokehJS libraries loaded\");\n",
       "            run_callbacks()\n",
       "          }\n",
       "        };\n",
       "        s.onerror = function() {\n",
       "          console.warn(\"failed to load library \" + url);\n",
       "        };\n",
       "        console.log(\"Bokeh: injecting script tag for BokehJS library: \", url);\n",
       "        document.getElementsByTagName(\"head\")[0].appendChild(s);\n",
       "      }\n",
       "    };var element = document.getElementById(\"c211baaa-3b0e-4a56-8520-6c5f749054e8\");\n",
       "    if (element == null) {\n",
       "      console.log(\"Bokeh: ERROR: autoload.js configured with elementid 'c211baaa-3b0e-4a56-8520-6c5f749054e8' but no matching script tag was found. \")\n",
       "      return false;\n",
       "    }\n",
       "  \n",
       "    var js_urls = [];\n",
       "  \n",
       "    var inline_js = [\n",
       "      function(Bokeh) {\n",
       "        (function() {\n",
       "          var fn = function() {\n",
       "            var docs_json = {\"45fe0cba-5667-4fa3-a5a0-bf72bd75a242\":{\"roots\":{\"references\":[{\"attributes\":{\"fill_color\":{\"value\":\"#E43216\"},\"height\":{\"value\":0.3},\"left\":{\"value\":-0.4378084896347483},\"line_color\":{\"value\":\"#E43216\"},\"right\":{\"value\":-0.430898321816387},\"y\":{\"value\":1}},\"id\":\"313858e2-8e4c-4f73-97ff-3961175ae557\",\"type\":\"HBar\"},{\"attributes\":{\"above\":[{\"id\":\"50512ae4-e449-45bb-af0b-06333c5df576\",\"type\":\"Title\"}],\"below\":[{\"id\":\"b312a73e-3be3-4616-910c-13e73a531abd\",\"type\":\"LinearAxis\"}],\"left\":[{\"id\":\"b24db793-d69b-4ad3-b870-cd7f0f3591bd\",\"type\":\"LinearAxis\"}],\"plot_height\":400,\"plot_width\":400,\"renderers\":[{\"id\":\"b312a73e-3be3-4616-910c-13e73a531abd\",\"type\":\"LinearAxis\"},{\"id\":\"78bf976f-4eac-44a5-ad89-6a2ade8fd590\",\"type\":\"Grid\"},{\"id\":\"b24db793-d69b-4ad3-b870-cd7f0f3591bd\",\"type\":\"LinearAxis\"},{\"id\":\"d6b32aab-029f-4cf3-8c6f-f723c1f48b4b\",\"type\":\"Grid\"},{\"id\":\"50512ae4-e449-45bb-af0b-06333c5df576\",\"type\":\"Title\"},{\"id\":\"d063bff7-ee05-4a43-81e6-c57fa353d6bf\",\"type\":\"GlyphRenderer\"}],\"title\":{\"id\":\"55e7a8c7-bd32-4898-baea-008eefec54fb\",\"type\":\"Title\"},\"tool_events\":{\"id\":\"2fc8eb70-6233-4f88-a1fc-c31f0ea4a5dc\",\"type\":\"ToolEvents\"},\"toolbar\":{\"id\":\"32da01f9-be45-40dd-b8c6-70457e77ad4b\",\"type\":\"Toolbar\"},\"x_range\":{\"id\":\"bffeff14-83fd-413f-a7ae-ec06449d4695\",\"type\":\"DataRange1d\"},\"x_scale\":{\"id\":\"2ac75e39-da15-4343-be09-73b265aac6dc\",\"type\":\"LinearScale\"},\"y_range\":{\"id\":\"9de80c69-9058-4730-b64b-be6d459935a4\",\"type\":\"DataRange1d\"},\"y_scale\":{\"id\":\"f1e23cbb-93e5-442d-b628-8ac3fa12e522\",\"type\":\"LinearScale\"}},\"id\":\"10d4113c-4c58-491a-bb8a-bab0ed2332ae\",\"subtype\":\"Figure\",\"type\":\"Plot\"},{\"attributes\":{\"callback\":null,\"column_names\":[\"x\",\"y\"],\"data\":{\"x\":[0,0],\"y\":[0.5,1.5]}},\"id\":\"034dc7ab-47a2-4ad0-8e99-7628fd1a0fec\",\"type\":\"ColumnDataSource\"},{\"attributes\":{\"formatter\":{\"id\":\"006bea33-d842-4d49-9f8c-6891714497de\",\"type\":\"BasicTickFormatter\"},\"plot\":{\"id\":\"14cc4db6-8106-43f6-873e-1a858613fefe\",\"subtype\":\"Figure\",\"type\":\"Plot\"},\"ticker\":{\"id\":\"9d92d931-85cd-4181-8599-8228bd0524f8\",\"type\":\"BasicTicker\"}},\"id\":\"01cb966d-3904-46ce-9c51-eb4a369d17f8\",\"type\":\"LinearAxis\"},{\"attributes\":{\"callback\":null,\"column_names\":[\"x\",\"y\"],\"data\":{\"x\":[0.3884501480750247,0.3884501480750247],\"y\":[0.5,1.5]}},\"id\":\"aa684239-a4a8-4fd1-96d3-ea9a2ea792d0\",\"type\":\"ColumnDataSource\"},{\"attributes\":{\"plot\":{\"id\":\"14cc4db6-8106-43f6-873e-1a858613fefe\",\"subtype\":\"Figure\",\"type\":\"Plot\"}},\"id\":\"e2ce9c17-eb3c-47fa-9638-98087c36007e\",\"type\":\"HelpTool\"},{\"attributes\":{\"data_source\":{\"id\":\"397aed64-a8ae-4362-a66d-bec802ad617f\",\"type\":\"ColumnDataSource\"},\"glyph\":{\"id\":\"63e83185-8996-40fb-87c0-4dd4822f215d\",\"type\":\"Line\"},\"hover_glyph\":null,\"muted_glyph\":null,\"nonselection_glyph\":{\"id\":\"f6e86778-a4e4-4cff-bfde-a71ea1c967c0\",\"type\":\"Line\"},\"selection_glyph\":null},\"id\":\"5fce6518-c84b-4375-8a13-f3c11e398157\",\"type\":\"GlyphRenderer\"},{\"attributes\":{\"plot\":null,\"text\":\"\"},\"id\":\"55e7a8c7-bd32-4898-baea-008eefec54fb\",\"type\":\"Title\"},{\"attributes\":{\"callback\":null},\"id\":\"c62dbbbb-733c-4f37-920c-141b532fdbed\",\"type\":\"DataRange1d\"},{\"attributes\":{},\"id\":\"9cda4f73-7aa5-41fd-ac11-14053135fa5d\",\"type\":\"BasicTickFormatter\"},{\"attributes\":{\"line_color\":{\"value\":\"#AAB2A5\"},\"line_dash\":[6],\"line_width\":{\"value\":2},\"x\":{\"field\":\"x\"},\"y\":{\"field\":\"y\"}},\"id\":\"f195ff23-7475-43a6-982b-1bc18479f901\",\"type\":\"Line\"},{\"attributes\":{\"data_source\":{\"id\":\"0c925c7d-da7e-494d-a200-e369992327ba\",\"type\":\"ColumnDataSource\"},\"glyph\":{\"id\":\"f195ff23-7475-43a6-982b-1bc18479f901\",\"type\":\"Line\"},\"hover_glyph\":null,\"muted_glyph\":null,\"nonselection_glyph\":{\"id\":\"ff7125f1-a036-4396-a013-bda1d531ed70\",\"type\":\"Line\"},\"selection_glyph\":null},\"id\":\"a0ab265c-f3d8-44e5-a589-22761317b993\",\"type\":\"GlyphRenderer\"},{\"attributes\":{},\"id\":\"5aac8d41-42aa-4066-b9c4-b31415f94585\",\"type\":\"BasicTicker\"},{\"attributes\":{\"fill_alpha\":{\"value\":0.1},\"fill_color\":{\"value\":\"#1f77b4\"},\"height\":{\"value\":0.3},\"left\":{\"value\":0.510365251727542},\"line_alpha\":{\"value\":0.1},\"line_color\":{\"value\":\"#1f77b4\"},\"right\":{\"value\":0.5621915103652517},\"y\":{\"value\":1}},\"id\":\"67188014-c761-4533-9e8f-9766333f13b6\",\"type\":\"HBar\"},{\"attributes\":{\"fill_color\":{\"value\":\"#E4E02C\"},\"height\":{\"value\":0.3},\"left\":{\"value\":-0.430898321816387},\"line_color\":{\"value\":\"#E4E02C\"},\"right\":{\"value\":-0.3677196446199408},\"y\":{\"value\":1}},\"id\":\"ea546153-ff69-4467-a5d6-db4e98e64f09\",\"type\":\"HBar\"},{\"attributes\":{\"formatter\":{\"id\":\"bf87ca30-6958-42ec-b82d-d1987ba35d5b\",\"type\":\"BasicTickFormatter\"},\"plot\":{\"id\":\"10d4113c-4c58-491a-bb8a-bab0ed2332ae\",\"subtype\":\"Figure\",\"type\":\"Plot\"},\"ticker\":{\"id\":\"a4cecd2f-00a1-4a36-bae5-405a629c6d7c\",\"type\":\"BasicTicker\"}},\"id\":\"b312a73e-3be3-4616-910c-13e73a531abd\",\"type\":\"LinearAxis\"},{\"attributes\":{},\"id\":\"9d92d931-85cd-4181-8599-8228bd0524f8\",\"type\":\"BasicTicker\"},{\"attributes\":{},\"id\":\"096c4d81-d1ca-4dc2-9b51-2965b1e4624d\",\"type\":\"BasicTickFormatter\"},{\"attributes\":{\"callback\":null,\"plot\":{\"id\":\"10d4113c-4c58-491a-bb8a-bab0ed2332ae\",\"subtype\":\"Figure\",\"type\":\"Plot\"},\"tooltips\":[[\"pct\",\"@pct{(0.00%)}\"]]},\"id\":\"c80df197-83a2-4637-b3d1-6cec8679abb9\",\"type\":\"HoverTool\"},{\"attributes\":{\"line_color\":{\"value\":\"#AAB2A5\"},\"line_dash\":[6],\"line_width\":{\"value\":2},\"x\":{\"field\":\"x\"},\"y\":{\"field\":\"y\"}},\"id\":\"63e83185-8996-40fb-87c0-4dd4822f215d\",\"type\":\"Line\"},{\"attributes\":{\"line_color\":{\"value\":\"#AAB2A5\"},\"line_dash\":[6],\"line_width\":{\"value\":2},\"x\":{\"field\":\"x\"},\"y\":{\"field\":\"y\"}},\"id\":\"f92d8647-1642-449c-bb22-664520233797\",\"type\":\"Line\"},{\"attributes\":{\"line_alpha\":{\"value\":0.1},\"line_color\":{\"value\":\"#1f77b4\"},\"line_dash\":[6],\"line_width\":{\"value\":2},\"x\":{\"field\":\"x\"},\"y\":{\"field\":\"y\"}},\"id\":\"d955bb2b-c6c1-41e4-a19d-cdbd74364b19\",\"type\":\"Line\"},{\"attributes\":{},\"id\":\"006bea33-d842-4d49-9f8c-6891714497de\",\"type\":\"BasicTickFormatter\"},{\"attributes\":{},\"id\":\"7ab36171-ba99-493c-85ec-cbccceee1c71\",\"type\":\"LinearScale\"},{\"attributes\":{\"line_alpha\":{\"value\":0.1},\"line_color\":{\"value\":\"#1f77b4\"},\"line_dash\":[6],\"line_width\":{\"value\":2},\"x\":{\"field\":\"x\"},\"y\":{\"field\":\"y\"}},\"id\":\"76d382fb-bc09-46b6-ac5b-c80e95f6a039\",\"type\":\"Line\"},{\"attributes\":{\"plot\":{\"id\":\"14cc4db6-8106-43f6-873e-1a858613fefe\",\"subtype\":\"Figure\",\"type\":\"Plot\"}},\"id\":\"63833e12-5364-41d6-9c6a-664dd4511afa\",\"type\":\"PanTool\"},{\"attributes\":{\"formatter\":{\"id\":\"096c4d81-d1ca-4dc2-9b51-2965b1e4624d\",\"type\":\"BasicTickFormatter\"},\"plot\":{\"id\":\"14cc4db6-8106-43f6-873e-1a858613fefe\",\"subtype\":\"Figure\",\"type\":\"Plot\"},\"ticker\":{\"id\":\"5aac8d41-42aa-4066-b9c4-b31415f94585\",\"type\":\"BasicTicker\"},\"visible\":false},\"id\":\"0dec9ec7-27c0-4cd2-8884-458163250709\",\"type\":\"LinearAxis\"},{\"attributes\":{\"text\":\"<h1 style='margin-left:200px;margin-right:-400px;margin-bottom:18px;font-size:20px;                color:#7D7575'> Time thresholds for pick ups and drop offs </h1>\"},\"id\":\"da8c923d-c5e2-495e-be69-0d7b8d2e4628\",\"type\":\"Div\"},{\"attributes\":{\"callback\":null,\"column_names\":[\"x\",\"y\"],\"data\":{\"x\":[0,0],\"y\":[0.5,1.5]}},\"id\":\"0c925c7d-da7e-494d-a200-e369992327ba\",\"type\":\"ColumnDataSource\"},{\"attributes\":{\"fill_color\":{\"value\":\"#E4E02C\"},\"height\":{\"value\":0.3},\"left\":{\"value\":0.3884501480750247},\"line_color\":{\"value\":\"#E4E02C\"},\"right\":{\"value\":0.510365251727542},\"y\":{\"value\":1}},\"id\":\"55e5ee09-f1cc-4dce-92fd-63df50b03166\",\"type\":\"HBar\"},{\"attributes\":{\"data_source\":{\"id\":\"034dc7ab-47a2-4ad0-8e99-7628fd1a0fec\",\"type\":\"ColumnDataSource\"},\"glyph\":{\"id\":\"f92d8647-1642-449c-bb22-664520233797\",\"type\":\"Line\"},\"hover_glyph\":null,\"muted_glyph\":null,\"nonselection_glyph\":{\"id\":\"6e3ca72a-8715-4293-9036-df6913ce0976\",\"type\":\"Line\"},\"selection_glyph\":null},\"id\":\"e9099904-d600-4699-a603-744c19eb12af\",\"type\":\"GlyphRenderer\"},{\"attributes\":{\"fill_alpha\":{\"value\":0.1},\"fill_color\":{\"value\":\"#1f77b4\"},\"height\":{\"value\":0.3},\"left\":{\"value\":-0.430898321816387},\"line_alpha\":{\"value\":0.1},\"line_color\":{\"value\":\"#1f77b4\"},\"right\":{\"value\":-0.3677196446199408},\"y\":{\"value\":1}},\"id\":\"70e81951-add1-4900-b52f-32caba256cbb\",\"type\":\"HBar\"},{\"attributes\":{\"callback\":null},\"id\":\"bffeff14-83fd-413f-a7ae-ec06449d4695\",\"type\":\"DataRange1d\"},{\"attributes\":{},\"id\":\"2ac75e39-da15-4343-be09-73b265aac6dc\",\"type\":\"LinearScale\"},{\"attributes\":{\"line_alpha\":{\"value\":0.1},\"line_color\":{\"value\":\"#1f77b4\"},\"line_dash\":[6],\"line_width\":{\"value\":2},\"x\":{\"field\":\"x\"},\"y\":{\"field\":\"y\"}},\"id\":\"f6e86778-a4e4-4cff-bfde-a71ea1c967c0\",\"type\":\"Line\"},{\"attributes\":{},\"id\":\"bf87ca30-6958-42ec-b82d-d1987ba35d5b\",\"type\":\"BasicTickFormatter\"},{\"attributes\":{\"fill_alpha\":{\"value\":0.1},\"fill_color\":{\"value\":\"#1f77b4\"},\"height\":{\"value\":0.3},\"left\":{\"value\":-0.4378084896347483},\"line_alpha\":{\"value\":0.1},\"line_color\":{\"value\":\"#1f77b4\"},\"right\":{\"value\":-0.430898321816387},\"y\":{\"value\":1}},\"id\":\"9134fba8-e2a0-485e-86c2-b3545e4599f5\",\"type\":\"HBar\"},{\"attributes\":{\"bottom_units\":\"screen\",\"fill_alpha\":{\"value\":0.5},\"fill_color\":{\"value\":\"lightgrey\"},\"left_units\":\"screen\",\"level\":\"overlay\",\"line_alpha\":{\"value\":1.0},\"line_color\":{\"value\":\"black\"},\"line_dash\":[4,4],\"line_width\":{\"value\":2},\"plot\":null,\"render_mode\":\"css\",\"right_units\":\"screen\",\"top_units\":\"screen\"},\"id\":\"d41038ef-c889-4441-b5aa-e4866f2e54dd\",\"type\":\"BoxAnnotation\"},{\"attributes\":{\"fill_alpha\":{\"value\":0.1},\"fill_color\":{\"value\":\"#1f77b4\"},\"height\":{\"value\":0.3},\"left\":{\"value\":-0.3677196446199408},\"line_alpha\":{\"value\":0.1},\"line_color\":{\"value\":\"#1f77b4\"},\"right\":{\"value\":0},\"y\":{\"value\":1}},\"id\":\"2f341ac1-d8e4-4281-8e3f-d97b5d1fcb11\",\"type\":\"HBar\"},{\"attributes\":{},\"id\":\"2fc8eb70-6233-4f88-a1fc-c31f0ea4a5dc\",\"type\":\"ToolEvents\"},{\"attributes\":{\"fill_alpha\":{\"value\":0.1},\"fill_color\":{\"value\":\"#1f77b4\"},\"height\":{\"value\":0.3},\"left\":{\"value\":0.3884501480750247},\"line_alpha\":{\"value\":0.1},\"line_color\":{\"value\":\"#1f77b4\"},\"right\":{\"value\":0.510365251727542},\"y\":{\"value\":1}},\"id\":\"34adf295-4930-4215-a7e9-b324c78e5fc9\",\"type\":\"HBar\"},{\"attributes\":{\"data_source\":{\"id\":\"831c5a7b-5df6-4225-bbc5-48fb12fae2d6\",\"type\":\"ColumnDataSource\"},\"glyph\":{\"id\":\"f51d8b80-b7c4-4d3c-abab-d05b76c9d7fc\",\"type\":\"HBar\"},\"hover_glyph\":null,\"muted_glyph\":null,\"nonselection_glyph\":{\"id\":\"2f341ac1-d8e4-4281-8e3f-d97b5d1fcb11\",\"type\":\"HBar\"},\"selection_glyph\":null},\"id\":\"f228323e-dbc4-4b0f-af99-7723660b6d3e\",\"type\":\"GlyphRenderer\"},{\"attributes\":{\"formatter\":{\"id\":\"9cda4f73-7aa5-41fd-ac11-14053135fa5d\",\"type\":\"BasicTickFormatter\"},\"plot\":{\"id\":\"10d4113c-4c58-491a-bb8a-bab0ed2332ae\",\"subtype\":\"Figure\",\"type\":\"Plot\"},\"ticker\":{\"id\":\"faf87a93-dab1-461f-8b2d-68b57e89b651\",\"type\":\"BasicTicker\"}},\"id\":\"b24db793-d69b-4ad3-b870-cd7f0f3591bd\",\"type\":\"LinearAxis\"},{\"attributes\":{\"data_source\":{\"id\":\"3fd7dc1c-b334-4219-88f8-3c1028e93c25\",\"type\":\"ColumnDataSource\"},\"glyph\":{\"id\":\"313858e2-8e4c-4f73-97ff-3961175ae557\",\"type\":\"HBar\"},\"hover_glyph\":null,\"muted_glyph\":null,\"nonselection_glyph\":{\"id\":\"9134fba8-e2a0-485e-86c2-b3545e4599f5\",\"type\":\"HBar\"},\"selection_glyph\":null},\"id\":\"329028f6-3f3a-4242-9e96-b4fc8d6094cc\",\"type\":\"GlyphRenderer\"},{\"attributes\":{\"line_alpha\":{\"value\":0.1},\"line_color\":{\"value\":\"#1f77b4\"},\"line_dash\":[6],\"line_width\":{\"value\":2},\"x\":{\"field\":\"x\"},\"y\":{\"field\":\"y\"}},\"id\":\"ff7125f1-a036-4396-a013-bda1d531ed70\",\"type\":\"Line\"},{\"attributes\":{\"data_source\":{\"id\":\"b9a413ec-6484-4ed5-bc4e-5f6117b6deb3\",\"type\":\"ColumnDataSource\"},\"glyph\":{\"id\":\"ea546153-ff69-4467-a5d6-db4e98e64f09\",\"type\":\"HBar\"},\"hover_glyph\":null,\"muted_glyph\":null,\"nonselection_glyph\":{\"id\":\"70e81951-add1-4900-b52f-32caba256cbb\",\"type\":\"HBar\"},\"selection_glyph\":null},\"id\":\"64675799-560f-4406-add7-9d2b83d3e27e\",\"type\":\"GlyphRenderer\"},{\"attributes\":{\"plot\":null,\"text\":\"\"},\"id\":\"77aeb7c7-7126-4238-81f5-8f849787478d\",\"type\":\"Title\"},{\"attributes\":{\"above\":[{\"id\":\"3a5a6b6c-0ad4-417b-99e4-751e7421240d\",\"type\":\"Title\"}],\"below\":[{\"id\":\"01cb966d-3904-46ce-9c51-eb4a369d17f8\",\"type\":\"LinearAxis\"}],\"left\":[{\"id\":\"0dec9ec7-27c0-4cd2-8884-458163250709\",\"type\":\"LinearAxis\"}],\"plot_height\":400,\"plot_width\":400,\"renderers\":[{\"id\":\"01cb966d-3904-46ce-9c51-eb4a369d17f8\",\"type\":\"LinearAxis\"},{\"id\":\"76d39840-8944-43dd-86bf-5af53bcceac2\",\"type\":\"Grid\"},{\"id\":\"0dec9ec7-27c0-4cd2-8884-458163250709\",\"type\":\"LinearAxis\"},{\"id\":\"8833b264-35df-4bb5-bb6b-96d308c69183\",\"type\":\"Grid\"},{\"id\":\"d41038ef-c889-4441-b5aa-e4866f2e54dd\",\"type\":\"BoxAnnotation\"},{\"id\":\"f228323e-dbc4-4b0f-af99-7723660b6d3e\",\"type\":\"GlyphRenderer\"},{\"id\":\"e9099904-d600-4699-a603-744c19eb12af\",\"type\":\"GlyphRenderer\"},{\"id\":\"64675799-560f-4406-add7-9d2b83d3e27e\",\"type\":\"GlyphRenderer\"},{\"id\":\"5fce6518-c84b-4375-8a13-f3c11e398157\",\"type\":\"GlyphRenderer\"},{\"id\":\"329028f6-3f3a-4242-9e96-b4fc8d6094cc\",\"type\":\"GlyphRenderer\"},{\"id\":\"57b80bbe-370a-45d3-a4c9-73ed7b616e74\",\"type\":\"GlyphRenderer\"},{\"id\":\"7b72989b-552d-4d31-b3fc-c9dd58dd0d4a\",\"type\":\"GlyphRenderer\"},{\"id\":\"a0ab265c-f3d8-44e5-a589-22761317b993\",\"type\":\"GlyphRenderer\"},{\"id\":\"6e0e3a1c-5574-448d-b105-5ba58fcd4ea8\",\"type\":\"GlyphRenderer\"},{\"id\":\"3d99fff3-4557-445a-9077-a7e97dfd7101\",\"type\":\"GlyphRenderer\"},{\"id\":\"1e1dabf6-e3ee-48f4-80a0-8f4a90d6a35e\",\"type\":\"GlyphRenderer\"},{\"id\":\"8f71f97e-89a5-4065-8af4-f1592cb5e5c0\",\"type\":\"GlyphRenderer\"},{\"id\":\"3a5a6b6c-0ad4-417b-99e4-751e7421240d\",\"type\":\"Title\"}],\"title\":{\"id\":\"77aeb7c7-7126-4238-81f5-8f849787478d\",\"type\":\"Title\"},\"tool_events\":{\"id\":\"17be0b38-c8ed-41bc-8468-78ab0943c8bf\",\"type\":\"ToolEvents\"},\"toolbar\":{\"id\":\"99358c0b-eaf8-4a63-bedc-87dd1af87c70\",\"type\":\"Toolbar\"},\"x_range\":{\"id\":\"c62dbbbb-733c-4f37-920c-141b532fdbed\",\"type\":\"DataRange1d\"},\"x_scale\":{\"id\":\"7ab36171-ba99-493c-85ec-cbccceee1c71\",\"type\":\"LinearScale\"},\"y_range\":{\"id\":\"ac275ea3-9d15-42cf-8713-9aa42b883952\",\"type\":\"Range1d\"},\"y_scale\":{\"id\":\"527e478d-f235-41a8-aadd-197ba6767001\",\"type\":\"LinearScale\"}},\"id\":\"14cc4db6-8106-43f6-873e-1a858613fefe\",\"subtype\":\"Figure\",\"type\":\"Plot\"},{\"attributes\":{},\"id\":\"527e478d-f235-41a8-aadd-197ba6767001\",\"type\":\"LinearScale\"},{\"attributes\":{\"callback\":null,\"data\":{}},\"id\":\"3fd7dc1c-b334-4219-88f8-3c1028e93c25\",\"type\":\"ColumnDataSource\"},{\"attributes\":{\"callback\":null,\"data\":{}},\"id\":\"2ad1ecab-761b-4ae7-83c6-bd3551d5bdf0\",\"type\":\"ColumnDataSource\"},{\"attributes\":{\"children\":[{\"id\":\"14cc4db6-8106-43f6-873e-1a858613fefe\",\"subtype\":\"Figure\",\"type\":\"Plot\"},{\"id\":\"10d4113c-4c58-491a-bb8a-bab0ed2332ae\",\"subtype\":\"Figure\",\"type\":\"Plot\"}]},\"id\":\"89ac170a-28fd-4968-900e-4bc225b2fcc9\",\"type\":\"Row\"},{\"attributes\":{\"plot\":{\"id\":\"14cc4db6-8106-43f6-873e-1a858613fefe\",\"subtype\":\"Figure\",\"type\":\"Plot\"}},\"id\":\"47005ff9-94ea-4848-b02d-12da38f5669a\",\"type\":\"ResetTool\"},{\"attributes\":{},\"id\":\"a4cecd2f-00a1-4a36-bae5-405a629c6d7c\",\"type\":\"BasicTicker\"},{\"attributes\":{\"callback\":null,\"column_names\":[\"x\",\"y\"],\"data\":{\"x\":[-0.430898321816387,-0.430898321816387],\"y\":[0.5,1.5]}},\"id\":\"9891917e-bea7-476a-92b1-318d449073b7\",\"type\":\"ColumnDataSource\"},{\"attributes\":{\"callback\":null,\"column_names\":[\"x\",\"y\"],\"data\":{\"x\":[0.510365251727542,0.510365251727542],\"y\":[0.5,1.5]}},\"id\":\"ed15eb89-4f81-4449-b3d7-916285fc2a8d\",\"type\":\"ColumnDataSource\"},{\"attributes\":{\"data_source\":{\"id\":\"cdca01dd-caec-4374-befc-7dbcac555720\",\"type\":\"ColumnDataSource\"},\"glyph\":{\"id\":\"55e5ee09-f1cc-4dce-92fd-63df50b03166\",\"type\":\"HBar\"},\"hover_glyph\":null,\"muted_glyph\":null,\"nonselection_glyph\":{\"id\":\"34adf295-4930-4215-a7e9-b324c78e5fc9\",\"type\":\"HBar\"},\"selection_glyph\":null},\"id\":\"6e0e3a1c-5574-448d-b105-5ba58fcd4ea8\",\"type\":\"GlyphRenderer\"},{\"attributes\":{\"line_alpha\":{\"value\":0.1},\"line_color\":{\"value\":\"#1f77b4\"},\"line_dash\":[6],\"line_width\":{\"value\":2},\"x\":{\"field\":\"x\"},\"y\":{\"field\":\"y\"}},\"id\":\"83ca0bff-ab0a-4733-ad91-d86dc2174f41\",\"type\":\"Line\"},{\"attributes\":{\"children\":[{\"id\":\"a3498098-9a87-44e5-a434-47a5b57ae821\",\"type\":\"WidgetBox\"},{\"id\":\"89ac170a-28fd-4968-900e-4bc225b2fcc9\",\"type\":\"Row\"}]},\"id\":\"4d43dd11-e1c1-40e0-b30a-1d9182904c62\",\"type\":\"Column\"},{\"attributes\":{\"plot\":{\"id\":\"14cc4db6-8106-43f6-873e-1a858613fefe\",\"subtype\":\"Figure\",\"type\":\"Plot\"}},\"id\":\"a0f368d9-5299-4c37-a79b-54c0cfbd0585\",\"type\":\"SaveTool\"},{\"attributes\":{\"data_source\":{\"id\":\"2ad1ecab-761b-4ae7-83c6-bd3551d5bdf0\",\"type\":\"ColumnDataSource\"},\"glyph\":{\"id\":\"6e6c76dc-fe8b-4d57-9cdd-26fc328f6f91\",\"type\":\"HBar\"},\"hover_glyph\":null,\"muted_glyph\":null,\"nonselection_glyph\":{\"id\":\"67188014-c761-4533-9e8f-9766333f13b6\",\"type\":\"HBar\"},\"selection_glyph\":null},\"id\":\"1e1dabf6-e3ee-48f4-80a0-8f4a90d6a35e\",\"type\":\"GlyphRenderer\"},{\"attributes\":{\"plot\":{\"id\":\"14cc4db6-8106-43f6-873e-1a858613fefe\",\"subtype\":\"Figure\",\"type\":\"Plot\"}},\"id\":\"a9887743-2cba-46f5-9555-2f10d9850981\",\"type\":\"WheelZoomTool\"},{\"attributes\":{\"dimension\":1,\"grid_line_color\":{\"value\":null},\"plot\":{\"id\":\"14cc4db6-8106-43f6-873e-1a858613fefe\",\"subtype\":\"Figure\",\"type\":\"Plot\"},\"ticker\":{\"id\":\"5aac8d41-42aa-4066-b9c4-b31415f94585\",\"type\":\"BasicTicker\"}},\"id\":\"8833b264-35df-4bb5-bb6b-96d308c69183\",\"type\":\"Grid\"},{\"attributes\":{\"data_source\":{\"id\":\"9891917e-bea7-476a-92b1-318d449073b7\",\"type\":\"ColumnDataSource\"},\"glyph\":{\"id\":\"5c0f21e1-43a4-4edd-8d5e-d9a010528e42\",\"type\":\"Line\"},\"hover_glyph\":null,\"muted_glyph\":null,\"nonselection_glyph\":{\"id\":\"d955bb2b-c6c1-41e4-a19d-cdbd74364b19\",\"type\":\"Line\"},\"selection_glyph\":null},\"id\":\"57b80bbe-370a-45d3-a4c9-73ed7b616e74\",\"type\":\"GlyphRenderer\"},{\"attributes\":{\"active_drag\":\"auto\",\"active_inspect\":\"auto\",\"active_scroll\":\"auto\",\"active_tap\":\"auto\",\"tools\":[{\"id\":\"c80df197-83a2-4637-b3d1-6cec8679abb9\",\"type\":\"HoverTool\"}]},\"id\":\"32da01f9-be45-40dd-b8c6-70457e77ad4b\",\"type\":\"Toolbar\"},{\"attributes\":{\"callback\":null,\"end\":2},\"id\":\"ac275ea3-9d15-42cf-8713-9aa42b883952\",\"type\":\"Range1d\"},{\"attributes\":{\"fill_alpha\":{\"value\":0.1},\"fill_color\":{\"value\":\"#1f77b4\"},\"line_alpha\":{\"value\":0.1},\"line_color\":{\"value\":\"#1f77b4\"},\"top\":{\"field\":\"pct\"},\"width\":{\"value\":0.6},\"x\":{\"field\":\"index\"}},\"id\":\"98a8f697-4419-476c-b927-d5d5543cbccb\",\"type\":\"VBar\"},{\"attributes\":{\"line_alpha\":{\"value\":0.1},\"line_color\":{\"value\":\"#1f77b4\"},\"line_dash\":[6],\"line_width\":{\"value\":2},\"x\":{\"field\":\"x\"},\"y\":{\"field\":\"y\"}},\"id\":\"6e3ca72a-8715-4293-9036-df6913ce0976\",\"type\":\"Line\"},{\"attributes\":{\"fill_color\":{\"value\":\"#E43216\"},\"height\":{\"value\":0.3},\"left\":{\"value\":0.510365251727542},\"line_color\":{\"value\":\"#E43216\"},\"right\":{\"value\":0.5621915103652517},\"y\":{\"value\":1}},\"id\":\"6e6c76dc-fe8b-4d57-9cdd-26fc328f6f91\",\"type\":\"HBar\"},{\"attributes\":{},\"id\":\"17be0b38-c8ed-41bc-8468-78ab0943c8bf\",\"type\":\"ToolEvents\"},{\"attributes\":{\"overlay\":{\"id\":\"d41038ef-c889-4441-b5aa-e4866f2e54dd\",\"type\":\"BoxAnnotation\"},\"plot\":{\"id\":\"14cc4db6-8106-43f6-873e-1a858613fefe\",\"subtype\":\"Figure\",\"type\":\"Plot\"}},\"id\":\"d289cc93-87e4-4a21-bfbc-7001483f8198\",\"type\":\"BoxZoomTool\"},{\"attributes\":{\"fill_alpha\":{\"value\":0.1},\"fill_color\":{\"value\":\"#1f77b4\"},\"height\":{\"value\":0.3},\"line_alpha\":{\"value\":0.1},\"line_color\":{\"value\":\"#1f77b4\"},\"right\":{\"value\":0.3884501480750247},\"y\":{\"value\":1}},\"id\":\"decdc44b-6a59-4e4b-8d25-d9d8670aa426\",\"type\":\"HBar\"},{\"attributes\":{\"grid_line_color\":{\"value\":null},\"plot\":{\"id\":\"14cc4db6-8106-43f6-873e-1a858613fefe\",\"subtype\":\"Figure\",\"type\":\"Plot\"},\"ticker\":{\"id\":\"9d92d931-85cd-4181-8599-8228bd0524f8\",\"type\":\"BasicTicker\"}},\"id\":\"76d39840-8944-43dd-86bf-5af53bcceac2\",\"type\":\"Grid\"},{\"attributes\":{\"data_source\":{\"id\":\"ed15eb89-4f81-4449-b3d7-916285fc2a8d\",\"type\":\"ColumnDataSource\"},\"glyph\":{\"id\":\"b0d0171d-b804-4b61-8da3-3c85c438526f\",\"type\":\"Line\"},\"hover_glyph\":null,\"muted_glyph\":null,\"nonselection_glyph\":{\"id\":\"76d382fb-bc09-46b6-ac5b-c80e95f6a039\",\"type\":\"Line\"},\"selection_glyph\":null},\"id\":\"8f71f97e-89a5-4065-8af4-f1592cb5e5c0\",\"type\":\"GlyphRenderer\"},{\"attributes\":{\"data_source\":{\"id\":\"12266bdc-1d01-42a5-abbd-b2406a866cc7\",\"type\":\"ColumnDataSource\"},\"glyph\":{\"id\":\"f532963d-518a-4b70-a3a4-f79896b00f20\",\"type\":\"VBar\"},\"hover_glyph\":null,\"muted_glyph\":null,\"nonselection_glyph\":{\"id\":\"98a8f697-4419-476c-b927-d5d5543cbccb\",\"type\":\"VBar\"},\"selection_glyph\":null},\"id\":\"d063bff7-ee05-4a43-81e6-c57fa353d6bf\",\"type\":\"GlyphRenderer\"},{\"attributes\":{\"line_color\":{\"value\":\"#AAB2A5\"},\"line_dash\":[6],\"line_width\":{\"value\":2},\"x\":{\"field\":\"x\"},\"y\":{\"field\":\"y\"}},\"id\":\"5c0f21e1-43a4-4edd-8d5e-d9a010528e42\",\"type\":\"Line\"},{\"attributes\":{\"callback\":null,\"data\":{}},\"id\":\"2c52f055-95b4-482c-b321-fb3bb7a0d582\",\"type\":\"ColumnDataSource\"},{\"attributes\":{\"fill_color\":{\"value\":\"#459E0F\"},\"height\":{\"value\":0.3},\"left\":{\"value\":-0.3677196446199408},\"line_color\":{\"value\":\"#459E0F\"},\"right\":{\"value\":0},\"y\":{\"value\":1}},\"id\":\"f51d8b80-b7c4-4d3c-abab-d05b76c9d7fc\",\"type\":\"HBar\"},{\"attributes\":{\"active_drag\":\"auto\",\"active_inspect\":\"auto\",\"active_scroll\":\"auto\",\"active_tap\":\"auto\",\"tools\":[{\"id\":\"63833e12-5364-41d6-9c6a-664dd4511afa\",\"type\":\"PanTool\"},{\"id\":\"a9887743-2cba-46f5-9555-2f10d9850981\",\"type\":\"WheelZoomTool\"},{\"id\":\"d289cc93-87e4-4a21-bfbc-7001483f8198\",\"type\":\"BoxZoomTool\"},{\"id\":\"a0f368d9-5299-4c37-a79b-54c0cfbd0585\",\"type\":\"SaveTool\"},{\"id\":\"47005ff9-94ea-4848-b02d-12da38f5669a\",\"type\":\"ResetTool\"},{\"id\":\"e2ce9c17-eb3c-47fa-9638-98087c36007e\",\"type\":\"HelpTool\"}]},\"id\":\"99358c0b-eaf8-4a63-bedc-87dd1af87c70\",\"type\":\"Toolbar\"},{\"attributes\":{\"plot\":{\"id\":\"10d4113c-4c58-491a-bb8a-bab0ed2332ae\",\"subtype\":\"Figure\",\"type\":\"Plot\"},\"ticker\":{\"id\":\"a4cecd2f-00a1-4a36-bae5-405a629c6d7c\",\"type\":\"BasicTicker\"}},\"id\":\"78bf976f-4eac-44a5-ad89-6a2ade8fd590\",\"type\":\"Grid\"},{\"attributes\":{\"line_color\":{\"value\":\"#AAB2A5\"},\"line_dash\":[6],\"line_width\":{\"value\":2},\"x\":{\"field\":\"x\"},\"y\":{\"field\":\"y\"}},\"id\":\"b0d0171d-b804-4b61-8da3-3c85c438526f\",\"type\":\"Line\"},{\"attributes\":{\"callback\":null,\"column_names\":[\"index\",\"pct\",\"colors\",\"thresholds\"],\"data\":{\"colors\":[\"#459E0F\",\"#E4E02C\",\"#E43216\"],\"index\":[0,1,2],\"pct\":{\"__ndarray__\":\"oCI7/ooy6D+hOrgrJ7HHP4jrbG2zEq4/\",\"dtype\":\"float64\",\"shape\":[3]},\"thresholds\":[\"green\",\"yellow\",\"red\"]}},\"id\":\"12266bdc-1d01-42a5-abbd-b2406a866cc7\",\"type\":\"ColumnDataSource\"},{\"attributes\":{\"data_source\":{\"id\":\"2c52f055-95b4-482c-b321-fb3bb7a0d582\",\"type\":\"ColumnDataSource\"},\"glyph\":{\"id\":\"bf8402fd-ed06-4eaf-af45-de2782cd1a51\",\"type\":\"HBar\"},\"hover_glyph\":null,\"muted_glyph\":null,\"nonselection_glyph\":{\"id\":\"decdc44b-6a59-4e4b-8d25-d9d8670aa426\",\"type\":\"HBar\"},\"selection_glyph\":null},\"id\":\"7b72989b-552d-4d31-b3fc-c9dd58dd0d4a\",\"type\":\"GlyphRenderer\"},{\"attributes\":{\"fill_color\":{\"value\":\"#459E0F\"},\"height\":{\"value\":0.3},\"line_color\":{\"value\":\"#459E0F\"},\"right\":{\"value\":0.3884501480750247},\"y\":{\"value\":1}},\"id\":\"bf8402fd-ed06-4eaf-af45-de2782cd1a51\",\"type\":\"HBar\"},{\"attributes\":{\"align\":\"center\",\"plot\":{\"id\":\"10d4113c-4c58-491a-bb8a-bab0ed2332ae\",\"subtype\":\"Figure\",\"type\":\"Plot\"},\"text\":\"Total percentage within thresholds\"},\"id\":\"50512ae4-e449-45bb-af0b-06333c5df576\",\"type\":\"Title\"},{\"attributes\":{\"callback\":null},\"id\":\"9de80c69-9058-4730-b64b-be6d459935a4\",\"type\":\"DataRange1d\"},{\"attributes\":{\"line_color\":{\"value\":\"#AAB2A5\"},\"line_dash\":[6],\"line_width\":{\"value\":2},\"x\":{\"field\":\"x\"},\"y\":{\"field\":\"y\"}},\"id\":\"ff70b23b-1a6b-4b6c-b0a0-6024edc2a145\",\"type\":\"Line\"},{\"attributes\":{\"dimension\":1,\"plot\":{\"id\":\"10d4113c-4c58-491a-bb8a-bab0ed2332ae\",\"subtype\":\"Figure\",\"type\":\"Plot\"},\"ticker\":{\"id\":\"faf87a93-dab1-461f-8b2d-68b57e89b651\",\"type\":\"BasicTicker\"}},\"id\":\"d6b32aab-029f-4cf3-8c6f-f723c1f48b4b\",\"type\":\"Grid\"},{\"attributes\":{\"fill_color\":{\"field\":\"colors\"},\"line_color\":{\"field\":\"colors\"},\"top\":{\"field\":\"pct\"},\"width\":{\"value\":0.6},\"x\":{\"field\":\"index\"}},\"id\":\"f532963d-518a-4b70-a3a4-f79896b00f20\",\"type\":\"VBar\"},{\"attributes\":{\"callback\":null,\"data\":{}},\"id\":\"b9a413ec-6484-4ed5-bc4e-5f6117b6deb3\",\"type\":\"ColumnDataSource\"},{\"attributes\":{\"callback\":null,\"column_names\":[\"x\",\"y\"],\"data\":{\"x\":[-0.3677196446199408,-0.3677196446199408],\"y\":[0.5,1.5]}},\"id\":\"397aed64-a8ae-4362-a66d-bec802ad617f\",\"type\":\"ColumnDataSource\"},{\"attributes\":{\"align\":\"center\",\"plot\":{\"id\":\"14cc4db6-8106-43f6-873e-1a858613fefe\",\"subtype\":\"Figure\",\"type\":\"Plot\"},\"text\":\"Rush/delays within time thresholds\"},\"id\":\"3a5a6b6c-0ad4-417b-99e4-751e7421240d\",\"type\":\"Title\"},{\"attributes\":{\"callback\":null,\"data\":{}},\"id\":\"831c5a7b-5df6-4225-bbc5-48fb12fae2d6\",\"type\":\"ColumnDataSource\"},{\"attributes\":{\"callback\":null,\"data\":{}},\"id\":\"cdca01dd-caec-4374-befc-7dbcac555720\",\"type\":\"ColumnDataSource\"},{\"attributes\":{},\"id\":\"faf87a93-dab1-461f-8b2d-68b57e89b651\",\"type\":\"BasicTicker\"},{\"attributes\":{\"data_source\":{\"id\":\"aa684239-a4a8-4fd1-96d3-ea9a2ea792d0\",\"type\":\"ColumnDataSource\"},\"glyph\":{\"id\":\"ff70b23b-1a6b-4b6c-b0a0-6024edc2a145\",\"type\":\"Line\"},\"hover_glyph\":null,\"muted_glyph\":null,\"nonselection_glyph\":{\"id\":\"83ca0bff-ab0a-4733-ad91-d86dc2174f41\",\"type\":\"Line\"},\"selection_glyph\":null},\"id\":\"3d99fff3-4557-445a-9077-a7e97dfd7101\",\"type\":\"GlyphRenderer\"},{\"attributes\":{},\"id\":\"f1e23cbb-93e5-442d-b628-8ac3fa12e522\",\"type\":\"LinearScale\"},{\"attributes\":{\"children\":[{\"id\":\"da8c923d-c5e2-495e-be69-0d7b8d2e4628\",\"type\":\"Div\"}]},\"id\":\"a3498098-9a87-44e5-a434-47a5b57ae821\",\"type\":\"WidgetBox\"}],\"root_ids\":[\"4d43dd11-e1c1-40e0-b30a-1d9182904c62\"]},\"title\":\"Bokeh Application\",\"version\":\"0.12.6\"}};\n",
       "            var render_items = [{\"docid\":\"45fe0cba-5667-4fa3-a5a0-bf72bd75a242\",\"elementid\":\"c211baaa-3b0e-4a56-8520-6c5f749054e8\",\"modelid\":\"4d43dd11-e1c1-40e0-b30a-1d9182904c62\"}];\n",
       "            \n",
       "            Bokeh.embed.embed_items(docs_json, render_items);\n",
       "          };\n",
       "          if (document.readyState != \"loading\") fn();\n",
       "          else document.addEventListener(\"DOMContentLoaded\", fn);\n",
       "        })();\n",
       "      },\n",
       "      function(Bokeh) {\n",
       "      }\n",
       "    ];\n",
       "  \n",
       "    function run_inline_js() {\n",
       "      \n",
       "      if ((window.Bokeh !== undefined) || (force === true)) {\n",
       "        for (var i = 0; i < inline_js.length; i++) {\n",
       "          inline_js[i](window.Bokeh);\n",
       "        }if (force === true) {\n",
       "          display_loaded();\n",
       "        }} else if (Date.now() < window._bokeh_timeout) {\n",
       "        setTimeout(run_inline_js, 100);\n",
       "      } else if (!window._bokeh_failed_load) {\n",
       "        console.log(\"Bokeh: BokehJS failed to load within specified timeout.\");\n",
       "        window._bokeh_failed_load = true;\n",
       "      } else if (force !== true) {\n",
       "        var cell = $(document.getElementById(\"c211baaa-3b0e-4a56-8520-6c5f749054e8\")).parents('.cell').data().cell;\n",
       "        cell.output_area.append_execute_result(NB_LOAD_WARNING)\n",
       "      }\n",
       "  \n",
       "    }\n",
       "  \n",
       "    if (window._bokeh_is_loading === 0) {\n",
       "      console.log(\"Bokeh: BokehJS loaded, going straight to plotting\");\n",
       "      run_inline_js();\n",
       "    } else {\n",
       "      load_libs(js_urls, function() {\n",
       "        console.log(\"Bokeh: BokehJS plotting callback run at\", now());\n",
       "        run_inline_js();\n",
       "      });\n",
       "    }\n",
       "  }(this));\n",
       "</script>"
      ]
     },
     "metadata": {},
     "output_type": "display_data"
    }
   ],
   "source": [
    "time_threshold = plot_horizontal_time_thresholds(group_threshold, 400, 400, 'pct', 'colors', \"Rush/delays within time thresholds\")\n",
    "within_thresholds = plot_total_pct_thresholds(region_group, 400, 400, \"index\", \"pct\", \"colors\", \"Total percentage within thresholds\")\n",
    "show(column(Div(text=\"<h1 style='margin-left:200px;margin-right:-400px;margin-bottom:18px;font-size:20px;\\\n",
    "                color:#7D7575'> Time thresholds for pick ups and drop offs </h1>\"), row(time_threshold, within_thresholds)))"
   ]
  },
  {
   "cell_type": "markdown",
   "metadata": {},
   "source": [
    "### Differences in pick ups / drop offs\n",
    "\n",
    "Here we analyze the differences between pick ups and drop off. Evidently, there is a difference between actual time when we talk about pick ups and drop offs. Particularly, if the difference is significance for pick up it might be that the service will never be provided (e.g. could lead to cancellations).\n",
    "\n",
    "To enter in this level of analysis we will calculate the differences for pick ups and drop offs respectively.\n"
   ]
  },
  {
   "cell_type": "code",
   "execution_count": 136,
   "metadata": {},
   "outputs": [],
   "source": [
    "exp_act_time_pick_up = exp_act_time[exp_act_time[\"type\"]==\"pickup\"].reset_index()\n",
    "exp_act_time_drop_off = exp_act_time[exp_act_time[\"type\"]==\"dropoff\"].reset_index()"
   ]
  },
  {
   "cell_type": "code",
   "execution_count": 137,
   "metadata": {},
   "outputs": [
    {
     "data": {
      "image/png": "[encoded data removed]",
      "text/plain": [
       "<matplotlib.figure.Figure at 0x102d0af98>"
      ]
     },
     "metadata": {},
     "output_type": "display_data"
    }
   ],
   "source": [
    "fig, ax = plt.subplots(2, figsize=(10,7))\n",
    "sns.distplot(exp_act_time_pick_up[\"time_diff_min\"], kde=False, ax=ax[0])\n",
    "sns.distplot(exp_act_time_drop_off[\"time_diff_min\"], kde=False, ax=ax[1])\n",
    "ax[0].set_title(\"Distribution of difference - pick ups \\n Actual Time Expected Time (minutes)\")\n",
    "ax[1].set_title(\"Distribution of difference - drop off \\n Actual Time Expected Time (minutes)\")\n",
    "for ax in ax.flatten():\n",
    "    ax.set_ylabel(\"Counts minutes\")\n",
    "    ax.set_ylabel(\"Counts minutes\")\n",
    "    ax.set_xlabel(\"Time difference\")\n",
    "    ax.axvline(0, color=\"#44999E\", linestyle='--')\n",
    "fig.tight_layout() "
   ]
  },
  {
   "cell_type": "code",
   "execution_count": 138,
   "metadata": {},
   "outputs": [
    {
     "name": "stdout",
     "output_type": "stream",
     "text": [
      "Statistics for Pick ups\n",
      "Total difference (hours): 18.453\n",
      "Average (seconds): 32.789\n",
      "Standard deviation (seconds): 208.060\n"
     ]
    }
   ],
   "source": [
    "print(\"Statistics for Pick ups\")\n",
    "print_stats(exp_act_time_pick_up,\"time_diff\")"
   ]
  },
  {
   "cell_type": "code",
   "execution_count": 139,
   "metadata": {},
   "outputs": [
    {
     "name": "stdout",
     "output_type": "stream",
     "text": [
      "Statistics for Drop offs\n",
      "Total difference (hours): 12.929\n",
      "Average (seconds): 22.973\n",
      "Standard deviation (seconds): 292.788\n"
     ]
    }
   ],
   "source": [
    "print(\"Statistics for Drop offs\")\n",
    "print_stats(exp_act_time_drop_off,\"time_diff\")"
   ]
  },
  {
   "cell_type": "markdown",
   "metadata": {},
   "source": [
    "Checking the distributions, we can see that the differences between actual and expected time for pick ups are more spread than that of drop off time. Also, while drop off tend to be more centered at 0, the pick up is more shifted towards positive values.\n",
    "\n",
    "These differences are also clear when we see at the statistics: the differences in averages for both distribution is almost 10 seconds. The standard deviation for the drop off is a bit higher, presumably this could be due to the higher number of extreme values in this distribution."
   ]
  },
  {
   "cell_type": "code",
   "execution_count": 140,
   "metadata": {},
   "outputs": [],
   "source": [
    "threshold_pick_up =  get_thresholds_groups(exp_act_time_pick_up, \"time_diff_min\")\n",
    "within_thresh_pick_up = get_region_threshold_groups(threshold_pick_up, \"colors\")\n",
    "threshold_drop_off = get_thresholds_groups(exp_act_time_drop_off, \"time_diff_min\")\n",
    "within_thresh_drop_off = get_region_threshold_groups(threshold_drop_off, \"colors\")"
   ]
  },
  {
   "cell_type": "code",
   "execution_count": 141,
   "metadata": {},
   "outputs": [
    {
     "data": {
      "text/html": [
       "\n",
       "\n",
       "    <div class=\"bk-root\">\n",
       "        <div class=\"bk-plotdiv\" id=\"99e89554-f60f-435f-a2d8-6897ece3b33a\"></div>\n",
       "    </div>\n",
       "<script type=\"text/javascript\">\n",
       "  \n",
       "  (function(global) {\n",
       "    function now() {\n",
       "      return new Date();\n",
       "    }\n",
       "  \n",
       "    var force = false;\n",
       "  \n",
       "    if (typeof (window._bokeh_onload_callbacks) === \"undefined\" || force === true) {\n",
       "      window._bokeh_onload_callbacks = [];\n",
       "      window._bokeh_is_loading = undefined;\n",
       "    }\n",
       "  \n",
       "  \n",
       "    \n",
       "    if (typeof (window._bokeh_timeout) === \"undefined\" || force === true) {\n",
       "      window._bokeh_timeout = Date.now() + 0;\n",
       "      window._bokeh_failed_load = false;\n",
       "    }\n",
       "  \n",
       "    var NB_LOAD_WARNING = {'data': {'text/html':\n",
       "       \"<div style='background-color: #fdd'>\\n\"+\n",
       "       \"<p>\\n\"+\n",
       "       \"BokehJS does not appear to have successfully loaded. If loading BokehJS from CDN, this \\n\"+\n",
       "       \"may be due to a slow or bad network connection. Possible fixes:\\n\"+\n",
       "       \"</p>\\n\"+\n",
       "       \"<ul>\\n\"+\n",
       "       \"<li>re-rerun `output_notebook()` to attempt to load from CDN again, or</li>\\n\"+\n",
       "       \"<li>use INLINE resources instead, as so:</li>\\n\"+\n",
       "       \"</ul>\\n\"+\n",
       "       \"<code>\\n\"+\n",
       "       \"from bokeh.resources import INLINE\\n\"+\n",
       "       \"output_notebook(resources=INLINE)\\n\"+\n",
       "       \"</code>\\n\"+\n",
       "       \"</div>\"}};\n",
       "  \n",
       "    function display_loaded() {\n",
       "      if (window.Bokeh !== undefined) {\n",
       "        var el = document.getElementById(\"99e89554-f60f-435f-a2d8-6897ece3b33a\");\n",
       "        el.textContent = \"BokehJS \" + Bokeh.version + \" successfully loaded.\";\n",
       "      } else if (Date.now() < window._bokeh_timeout) {\n",
       "        setTimeout(display_loaded, 100)\n",
       "      }\n",
       "    }\n",
       "  \n",
       "    function run_callbacks() {\n",
       "      try {\n",
       "        window._bokeh_onload_callbacks.forEach(function(callback) { callback() });\n",
       "      }\n",
       "      finally {\n",
       "        delete window._bokeh_onload_callbacks\n",
       "      }\n",
       "      console.info(\"Bokeh: all callbacks have finished\");\n",
       "    }\n",
       "  \n",
       "    function load_libs(js_urls, callback) {\n",
       "      window._bokeh_onload_callbacks.push(callback);\n",
       "      if (window._bokeh_is_loading > 0) {\n",
       "        console.log(\"Bokeh: BokehJS is being loaded, scheduling callback at\", now());\n",
       "        return null;\n",
       "      }\n",
       "      if (js_urls == null || js_urls.length === 0) {\n",
       "        run_callbacks();\n",
       "        return null;\n",
       "      }\n",
       "      console.log(\"Bokeh: BokehJS not loaded, scheduling load and callback at\", now());\n",
       "      window._bokeh_is_loading = js_urls.length;\n",
       "      for (var i = 0; i < js_urls.length; i++) {\n",
       "        var url = js_urls[i];\n",
       "        var s = document.createElement('script');\n",
       "        s.src = url;\n",
       "        s.async = false;\n",
       "        s.onreadystatechange = s.onload = function() {\n",
       "          window._bokeh_is_loading--;\n",
       "          if (window._bokeh_is_loading === 0) {\n",
       "            console.log(\"Bokeh: all BokehJS libraries loaded\");\n",
       "            run_callbacks()\n",
       "          }\n",
       "        };\n",
       "        s.onerror = function() {\n",
       "          console.warn(\"failed to load library \" + url);\n",
       "        };\n",
       "        console.log(\"Bokeh: injecting script tag for BokehJS library: \", url);\n",
       "        document.getElementsByTagName(\"head\")[0].appendChild(s);\n",
       "      }\n",
       "    };var element = document.getElementById(\"99e89554-f60f-435f-a2d8-6897ece3b33a\");\n",
       "    if (element == null) {\n",
       "      console.log(\"Bokeh: ERROR: autoload.js configured with elementid '99e89554-f60f-435f-a2d8-6897ece3b33a' but no matching script tag was found. \")\n",
       "      return false;\n",
       "    }\n",
       "  \n",
       "    var js_urls = [];\n",
       "  \n",
       "    var inline_js = [\n",
       "      function(Bokeh) {\n",
       "        (function() {\n",
       "          var fn = function() {\n",
       "            var docs_json = {\"f7a5e5e9-f89b-4e90-9753-a1a625a6a660\":{\"roots\":{\"references\":[{\"attributes\":{\"grid_line_color\":{\"value\":null},\"plot\":{\"id\":\"142d95c8-cd5a-43f3-8297-779901846abd\",\"subtype\":\"Figure\",\"type\":\"Plot\"},\"ticker\":{\"id\":\"19f4ea08-dd31-4841-869a-565d8d630f60\",\"type\":\"BasicTicker\"}},\"id\":\"5e9ecde1-5dc1-4577-a2f0-e96a9bc05e1c\",\"type\":\"Grid\"},{\"attributes\":{\"data_source\":{\"id\":\"a99623a2-9ba3-4735-aad0-4a14141d69f0\",\"type\":\"ColumnDataSource\"},\"glyph\":{\"id\":\"e72525a8-e86b-4729-a22c-c6f29b0413f9\",\"type\":\"Line\"},\"hover_glyph\":null,\"muted_glyph\":null,\"nonselection_glyph\":{\"id\":\"62f41ff0-3a31-4a2d-b4a7-e07dfa0124db\",\"type\":\"Line\"},\"selection_glyph\":null},\"id\":\"00c3b42a-3e7b-4c9e-89c7-db57a8e0ead3\",\"type\":\"GlyphRenderer\"},{\"attributes\":{\"data_source\":{\"id\":\"97925e33-6754-478e-b4f9-c84e43e87cbe\",\"type\":\"ColumnDataSource\"},\"glyph\":{\"id\":\"79fd2900-735e-4741-897d-876402c407c3\",\"type\":\"Line\"},\"hover_glyph\":null,\"muted_glyph\":null,\"nonselection_glyph\":{\"id\":\"9bd3643a-40c6-4005-8b21-ae1a6459a265\",\"type\":\"Line\"},\"selection_glyph\":null},\"id\":\"55947696-e66d-4881-baa3-da52e749dccc\",\"type\":\"GlyphRenderer\"},{\"attributes\":{\"plot\":{\"id\":\"142d95c8-cd5a-43f3-8297-779901846abd\",\"subtype\":\"Figure\",\"type\":\"Plot\"}},\"id\":\"bab108a3-2faa-400c-ac12-5b4fb8d64647\",\"type\":\"HelpTool\"},{\"attributes\":{\"align\":\"center\",\"plot\":{\"id\":\"2f960a96-f321-4a2e-b788-5bd2f287dd42\",\"subtype\":\"Figure\",\"type\":\"Plot\"},\"text\":\"Total percentage within thresholds pick up\"},\"id\":\"1a90d47a-595b-48d6-9880-ecfbc916855b\",\"type\":\"Title\"},{\"attributes\":{\"data_source\":{\"id\":\"3f9aa3b4-ab9c-43db-a637-e0100f0d6037\",\"type\":\"ColumnDataSource\"},\"glyph\":{\"id\":\"5c2f3621-090c-4010-b0ad-0d322d70b929\",\"type\":\"HBar\"},\"hover_glyph\":null,\"muted_glyph\":null,\"nonselection_glyph\":{\"id\":\"1d2edfac-31e8-4588-b942-50e4b2a984d6\",\"type\":\"HBar\"},\"selection_glyph\":null},\"id\":\"49912721-a1bd-4b46-a1f5-16c284d3282a\",\"type\":\"GlyphRenderer\"},{\"attributes\":{\"line_alpha\":{\"value\":0.1},\"line_color\":{\"value\":\"#1f77b4\"},\"line_dash\":[6],\"line_width\":{\"value\":2},\"x\":{\"field\":\"x\"},\"y\":{\"field\":\"y\"}},\"id\":\"6f490d71-a723-485f-81a1-4bf4fdb68ce1\",\"type\":\"Line\"},{\"attributes\":{\"data_source\":{\"id\":\"c8bb3992-9648-41cd-ac6d-56eed61e6c27\",\"type\":\"ColumnDataSource\"},\"glyph\":{\"id\":\"d167c469-4215-4f57-bf27-ee7d5a081840\",\"type\":\"VBar\"},\"hover_glyph\":null,\"muted_glyph\":null,\"nonselection_glyph\":{\"id\":\"a5437175-f840-4bcf-a9c0-bc97d65f1acb\",\"type\":\"VBar\"},\"selection_glyph\":null},\"id\":\"18e8ff30-471d-4933-a927-c768d78405c8\",\"type\":\"GlyphRenderer\"},{\"attributes\":{\"callback\":null,\"plot\":{\"id\":\"2f960a96-f321-4a2e-b788-5bd2f287dd42\",\"subtype\":\"Figure\",\"type\":\"Plot\"},\"tooltips\":[[\"pct\",\"@pct{(0.00%)}\"]]},\"id\":\"fc368004-4529-4e95-8bd8-5ce66e13ecab\",\"type\":\"HoverTool\"},{\"attributes\":{},\"id\":\"19f4ea08-dd31-4841-869a-565d8d630f60\",\"type\":\"BasicTicker\"},{\"attributes\":{},\"id\":\"326ff444-d17a-47f6-8e6b-bb4f8f6b3ae2\",\"type\":\"LinearScale\"},{\"attributes\":{\"line_color\":{\"value\":\"#AAB2A5\"},\"line_dash\":[6],\"line_width\":{\"value\":2},\"x\":{\"field\":\"x\"},\"y\":{\"field\":\"y\"}},\"id\":\"243c508c-3cc4-49b7-a169-4d7db538cab8\",\"type\":\"Line\"},{\"attributes\":{\"callback\":null,\"plot\":{\"id\":\"9b1d137f-cc07-4fe3-a858-c29d9e0ebd50\",\"subtype\":\"Figure\",\"type\":\"Plot\"},\"tooltips\":[[\"pct\",\"@pct{(0.00%)}\"]]},\"id\":\"ff1a4370-6234-4b05-8de8-932ac1470d17\",\"type\":\"HoverTool\"},{\"attributes\":{\"plot\":{\"id\":\"85557336-032b-4877-ae89-ac8b2cf2eaed\",\"subtype\":\"Figure\",\"type\":\"Plot\"}},\"id\":\"d886e074-b77f-45eb-89fd-b2aec66ad4df\",\"type\":\"WheelZoomTool\"},{\"attributes\":{},\"id\":\"bb6fd809-8836-4529-89fd-c60d066286fc\",\"type\":\"BasicTicker\"},{\"attributes\":{\"callback\":null,\"data\":{}},\"id\":\"83d32be6-9f8a-4484-b81f-a325e0ab0532\",\"type\":\"ColumnDataSource\"},{\"attributes\":{},\"id\":\"b3716a78-3eb3-4c39-a2ee-937d27561fb0\",\"type\":\"BasicTickFormatter\"},{\"attributes\":{\"plot\":{\"id\":\"142d95c8-cd5a-43f3-8297-779901846abd\",\"subtype\":\"Figure\",\"type\":\"Plot\"}},\"id\":\"abdd4094-d5e2-48d8-aad9-8b339bf503f0\",\"type\":\"WheelZoomTool\"},{\"attributes\":{\"data_source\":{\"id\":\"72f23581-3918-4835-b660-4e6ea444c2ec\",\"type\":\"ColumnDataSource\"},\"glyph\":{\"id\":\"40eb7566-1693-4831-a461-c79bbbef490d\",\"type\":\"HBar\"},\"hover_glyph\":null,\"muted_glyph\":null,\"nonselection_glyph\":{\"id\":\"7cc33836-d73c-48db-b3f4-7cb346290a38\",\"type\":\"HBar\"},\"selection_glyph\":null},\"id\":\"52dcee90-e91c-4d79-86fe-a0a188080797\",\"type\":\"GlyphRenderer\"},{\"attributes\":{\"data_source\":{\"id\":\"acb99169-d42a-48f8-b899-f4b9a2f7a548\",\"type\":\"ColumnDataSource\"},\"glyph\":{\"id\":\"696fd481-12da-4bd9-8b16-14cb4d45381f\",\"type\":\"HBar\"},\"hover_glyph\":null,\"muted_glyph\":null,\"nonselection_glyph\":{\"id\":\"dc7ef2d6-be86-47c0-9e41-e34075f82bc1\",\"type\":\"HBar\"},\"selection_glyph\":null},\"id\":\"4b70f6b8-2d90-4064-8d6a-ed9b576bb75c\",\"type\":\"GlyphRenderer\"},{\"attributes\":{\"text\":\"<h1 style='margin-left:200px;margin-right:-400px;margin-bottom:18px;font-size:20px;                color:#7D7575'> Time thresholds for pick ups / drop offs </h1>\"},\"id\":\"e74312c1-204f-4883-b0ef-989190f38573\",\"type\":\"Div\"},{\"attributes\":{\"data_source\":{\"id\":\"5cb77673-efb8-44ab-9a20-13c600f4f2c1\",\"type\":\"ColumnDataSource\"},\"glyph\":{\"id\":\"d3b88967-cb0e-4864-8a6b-329f2470e723\",\"type\":\"Line\"},\"hover_glyph\":null,\"muted_glyph\":null,\"nonselection_glyph\":{\"id\":\"5ac1ee34-b806-4b1e-9d0c-7bbbec6ef79d\",\"type\":\"Line\"},\"selection_glyph\":null},\"id\":\"a53615ad-c35b-48da-a7d3-bc4bc345123e\",\"type\":\"GlyphRenderer\"},{\"attributes\":{\"fill_color\":{\"value\":\"#E43216\"},\"height\":{\"value\":0.3},\"left\":{\"value\":0.45652173913043476},\"line_color\":{\"value\":\"#E43216\"},\"right\":{\"value\":0.5128458498023715},\"y\":{\"value\":1}},\"id\":\"78183de1-7886-4aab-b783-0cd249f49833\",\"type\":\"HBar\"},{\"attributes\":{\"children\":[{\"id\":\"8c54c48c-c690-48c8-8c02-9a8c0d5e15d8\",\"type\":\"Row\"},{\"id\":\"8fad330e-d210-4da5-ba30-d2171dacecaf\",\"type\":\"Row\"}]},\"id\":\"30a8bd2a-d84f-4f35-a8d9-07e84c46c57a\",\"type\":\"Column\"},{\"attributes\":{\"fill_alpha\":{\"value\":0.1},\"fill_color\":{\"value\":\"#1f77b4\"},\"height\":{\"value\":0.3},\"left\":{\"value\":-0.3264299802761341},\"line_alpha\":{\"value\":0.1},\"line_color\":{\"value\":\"#1f77b4\"},\"right\":{\"value\":0},\"y\":{\"value\":1}},\"id\":\"21f29dd0-60f6-46e6-88d1-6030d2cd5e1c\",\"type\":\"HBar\"},{\"attributes\":{},\"id\":\"9d2e3d6c-d9bc-4d91-a1f9-8003a4b2abd1\",\"type\":\"BasicTickFormatter\"},{\"attributes\":{},\"id\":\"217023f7-0ac2-45fc-8056-bad8999d3e4d\",\"type\":\"BasicTicker\"},{\"attributes\":{\"above\":[{\"id\":\"9786277b-de58-42a8-9bef-f1c533ee5fb8\",\"type\":\"Title\"}],\"below\":[{\"id\":\"2b39e761-a6cd-43fa-a702-e02d04af675f\",\"type\":\"LinearAxis\"}],\"left\":[{\"id\":\"153c8d84-7a42-4932-9a11-2f724970d6d9\",\"type\":\"LinearAxis\"}],\"plot_height\":300,\"plot_width\":400,\"renderers\":[{\"id\":\"2b39e761-a6cd-43fa-a702-e02d04af675f\",\"type\":\"LinearAxis\"},{\"id\":\"9dfda528-743d-40c2-a78b-73ddbcf46914\",\"type\":\"Grid\"},{\"id\":\"153c8d84-7a42-4932-9a11-2f724970d6d9\",\"type\":\"LinearAxis\"},{\"id\":\"5568a6a2-19b8-4ea9-885f-f07380e0da39\",\"type\":\"Grid\"},{\"id\":\"d1d66e3a-4aa2-49db-95ea-a06aa75a44f4\",\"type\":\"BoxAnnotation\"},{\"id\":\"4e71c1c3-b9ff-419e-988a-45a87e09beb2\",\"type\":\"GlyphRenderer\"},{\"id\":\"e7bea282-1bea-4bf8-9682-878ca701bcbd\",\"type\":\"GlyphRenderer\"},{\"id\":\"43c9be28-61a7-46f3-b951-ecf0d9b37b17\",\"type\":\"GlyphRenderer\"},{\"id\":\"559fb382-b289-48d2-bbf8-3e1824ec98be\",\"type\":\"GlyphRenderer\"},{\"id\":\"49912721-a1bd-4b46-a1f5-16c284d3282a\",\"type\":\"GlyphRenderer\"},{\"id\":\"a53615ad-c35b-48da-a7d3-bc4bc345123e\",\"type\":\"GlyphRenderer\"},{\"id\":\"b727c8a5-905c-4321-9f88-a057df225bae\",\"type\":\"GlyphRenderer\"},{\"id\":\"857474bc-c646-459c-9d3e-fff236043c51\",\"type\":\"GlyphRenderer\"},{\"id\":\"4ca28b7f-b51d-490d-8ca5-a474b34bd637\",\"type\":\"GlyphRenderer\"},{\"id\":\"00c3b42a-3e7b-4c9e-89c7-db57a8e0ead3\",\"type\":\"GlyphRenderer\"},{\"id\":\"4b70f6b8-2d90-4064-8d6a-ed9b576bb75c\",\"type\":\"GlyphRenderer\"},{\"id\":\"55947696-e66d-4881-baa3-da52e749dccc\",\"type\":\"GlyphRenderer\"},{\"id\":\"9786277b-de58-42a8-9bef-f1c533ee5fb8\",\"type\":\"Title\"}],\"title\":{\"id\":\"1cb5c1b5-9fbd-41e6-80f3-16bffc8ad2a3\",\"type\":\"Title\"},\"tool_events\":{\"id\":\"2cdc3cbb-a12b-494b-9298-a24483a77dab\",\"type\":\"ToolEvents\"},\"toolbar\":{\"id\":\"7240275c-6627-43db-839a-47a3e855a0a2\",\"type\":\"Toolbar\"},\"x_range\":{\"id\":\"b25e0d29-1c24-44eb-b945-3fb7f2b9216f\",\"type\":\"DataRange1d\"},\"x_scale\":{\"id\":\"56639ce1-9177-4cf4-8fb4-0ce362d5f59c\",\"type\":\"LinearScale\"},\"y_range\":{\"id\":\"6169e689-6441-48a7-996d-1685e8930ea0\",\"type\":\"Range1d\"},\"y_scale\":{\"id\":\"9c8a905d-8093-4fe6-8ce5-727f673bc34e\",\"type\":\"LinearScale\"}},\"id\":\"85557336-032b-4877-ae89-ac8b2cf2eaed\",\"subtype\":\"Figure\",\"type\":\"Plot\"},{\"attributes\":{\"overlay\":{\"id\":\"2da9e058-1d0b-4402-b9d6-7ccc3f06e35f\",\"type\":\"BoxAnnotation\"},\"plot\":{\"id\":\"142d95c8-cd5a-43f3-8297-779901846abd\",\"subtype\":\"Figure\",\"type\":\"Plot\"}},\"id\":\"fa43ddc4-2aed-4c7f-8c6d-669c63056063\",\"type\":\"BoxZoomTool\"},{\"attributes\":{\"line_color\":{\"value\":\"#AAB2A5\"},\"line_dash\":[6],\"line_width\":{\"value\":2},\"x\":{\"field\":\"x\"},\"y\":{\"field\":\"y\"}},\"id\":\"c449d30c-6d29-43d9-92d8-aebd1d4bd5fd\",\"type\":\"Line\"},{\"attributes\":{\"formatter\":{\"id\":\"e8dd44a9-5857-486b-8acd-5b0c7967138f\",\"type\":\"BasicTickFormatter\"},\"plot\":{\"id\":\"2f960a96-f321-4a2e-b788-5bd2f287dd42\",\"subtype\":\"Figure\",\"type\":\"Plot\"},\"ticker\":{\"id\":\"d4b9a1bb-3b82-4aff-96bb-7dfbfb2146cf\",\"type\":\"BasicTicker\"}},\"id\":\"94891469-a48d-4651-97a9-d51dcb7fe4cd\",\"type\":\"LinearAxis\"},{\"attributes\":{\"data_source\":{\"id\":\"18761fcc-28d4-4dbf-aaeb-e7ff73c980c8\",\"type\":\"ColumnDataSource\"},\"glyph\":{\"id\":\"a297718d-d292-4428-b5ca-608885b5f5f9\",\"type\":\"HBar\"},\"hover_glyph\":null,\"muted_glyph\":null,\"nonselection_glyph\":{\"id\":\"e9ed95db-2a6b-479c-a751-3aa36458c4c1\",\"type\":\"HBar\"},\"selection_glyph\":null},\"id\":\"38556efe-a6b0-41d1-906c-9f517c07e243\",\"type\":\"GlyphRenderer\"},{\"attributes\":{},\"id\":\"d4b9a1bb-3b82-4aff-96bb-7dfbfb2146cf\",\"type\":\"BasicTicker\"},{\"attributes\":{\"fill_alpha\":{\"value\":0.1},\"fill_color\":{\"value\":\"#1f77b4\"},\"height\":{\"value\":0.3},\"left\":{\"value\":-0.4090909090909091},\"line_alpha\":{\"value\":0.1},\"line_color\":{\"value\":\"#1f77b4\"},\"right\":{\"value\":0},\"y\":{\"value\":1}},\"id\":\"95749086-c69d-4e4d-b909-8c0721376f79\",\"type\":\"HBar\"},{\"attributes\":{\"line_color\":{\"value\":\"#AAB2A5\"},\"line_dash\":[6],\"line_width\":{\"value\":2},\"x\":{\"field\":\"x\"},\"y\":{\"field\":\"y\"}},\"id\":\"1edd1513-0657-4ad0-8f93-f288613647a7\",\"type\":\"Line\"},{\"attributes\":{\"callback\":null,\"data\":{}},\"id\":\"c764a28d-a726-44dd-8163-8dafea285190\",\"type\":\"ColumnDataSource\"},{\"attributes\":{\"callback\":null},\"id\":\"d1101062-f5c9-4dfc-ad54-474d95a4c718\",\"type\":\"DataRange1d\"},{\"attributes\":{\"plot\":null,\"text\":\"\"},\"id\":\"03c7a698-2812-4ecd-8ce6-7c46039dd8ca\",\"type\":\"Title\"},{\"attributes\":{\"dimension\":1,\"plot\":{\"id\":\"9b1d137f-cc07-4fe3-a858-c29d9e0ebd50\",\"subtype\":\"Figure\",\"type\":\"Plot\"},\"ticker\":{\"id\":\"c9573b2a-1164-4c7e-abea-02bc36757560\",\"type\":\"BasicTicker\"}},\"id\":\"432f1b31-ee2d-4940-bb6e-9b7d89709d7d\",\"type\":\"Grid\"},{\"attributes\":{\"callback\":null,\"column_names\":[\"x\",\"y\"],\"data\":{\"x\":[0.5641025641025641,0.5641025641025641],\"y\":[0.5,1.5]}},\"id\":\"97925e33-6754-478e-b4f9-c84e43e87cbe\",\"type\":\"ColumnDataSource\"},{\"attributes\":{\"line_color\":{\"value\":\"#AAB2A5\"},\"line_dash\":[6],\"line_width\":{\"value\":2},\"x\":{\"field\":\"x\"},\"y\":{\"field\":\"y\"}},\"id\":\"1f397b2d-8c03-4d75-bf0a-e3991b98bdea\",\"type\":\"Line\"},{\"attributes\":{\"fill_color\":{\"value\":\"#E43216\"},\"height\":{\"value\":0.3},\"left\":{\"value\":0.5641025641025641},\"line_color\":{\"value\":\"#E43216\"},\"right\":{\"value\":0.611439842209073},\"y\":{\"value\":1}},\"id\":\"696fd481-12da-4bd9-8b16-14cb4d45381f\",\"type\":\"HBar\"},{\"attributes\":{\"formatter\":{\"id\":\"44d2a637-ae5a-4ac6-8dbf-e21bee0cf44e\",\"type\":\"BasicTickFormatter\"},\"plot\":{\"id\":\"85557336-032b-4877-ae89-ac8b2cf2eaed\",\"subtype\":\"Figure\",\"type\":\"Plot\"},\"ticker\":{\"id\":\"9ba0dd1e-b7dc-4101-aa46-5fbd74c93947\",\"type\":\"BasicTicker\"}},\"id\":\"2b39e761-a6cd-43fa-a702-e02d04af675f\",\"type\":\"LinearAxis\"},{\"attributes\":{\"callback\":null,\"column_names\":[\"x\",\"y\"],\"data\":{\"x\":[-0.4090909090909091,-0.4090909090909091],\"y\":[0.5,1.5]}},\"id\":\"6af6cdca-0bda-4e9d-9c1b-cb4bc50c6009\",\"type\":\"ColumnDataSource\"},{\"attributes\":{\"active_drag\":\"auto\",\"active_inspect\":\"auto\",\"active_scroll\":\"auto\",\"active_tap\":\"auto\",\"tools\":[{\"id\":\"1a5c15ac-34ae-44d7-94ff-2b866fe126e9\",\"type\":\"PanTool\"},{\"id\":\"abdd4094-d5e2-48d8-aad9-8b339bf503f0\",\"type\":\"WheelZoomTool\"},{\"id\":\"fa43ddc4-2aed-4c7f-8c6d-669c63056063\",\"type\":\"BoxZoomTool\"},{\"id\":\"45d74f9f-5b37-46ed-b2f3-e978cdf07ba3\",\"type\":\"SaveTool\"},{\"id\":\"4b241689-bd18-4918-9cc4-a5486c8aeba1\",\"type\":\"ResetTool\"},{\"id\":\"bab108a3-2faa-400c-ac12-5b4fb8d64647\",\"type\":\"HelpTool\"}]},\"id\":\"57e5afaa-f278-488e-9422-381b6f754e96\",\"type\":\"Toolbar\"},{\"attributes\":{\"fill_color\":{\"value\":\"#459E0F\"},\"height\":{\"value\":0.3},\"left\":{\"value\":-0.4090909090909091},\"line_color\":{\"value\":\"#459E0F\"},\"right\":{\"value\":0},\"y\":{\"value\":1}},\"id\":\"3ed2e3a8-3350-454f-8ed7-7b961a062c9c\",\"type\":\"HBar\"},{\"attributes\":{\"data_source\":{\"id\":\"7ee4baf0-f176-4b4f-b1bd-2acca4a90995\",\"type\":\"ColumnDataSource\"},\"glyph\":{\"id\":\"9bf836e6-4498-48e8-a488-c7320759e349\",\"type\":\"HBar\"},\"hover_glyph\":null,\"muted_glyph\":null,\"nonselection_glyph\":{\"id\":\"e8f21d52-1d17-4d1a-97a9-3a413a54d731\",\"type\":\"HBar\"},\"selection_glyph\":null},\"id\":\"4ca28b7f-b51d-490d-8ca5-a474b34bd637\",\"type\":\"GlyphRenderer\"},{\"attributes\":{},\"id\":\"d960064d-d284-4df4-98bf-f11c6d79b452\",\"type\":\"BasicTickFormatter\"},{\"attributes\":{\"plot\":{\"id\":\"2f960a96-f321-4a2e-b788-5bd2f287dd42\",\"subtype\":\"Figure\",\"type\":\"Plot\"},\"ticker\":{\"id\":\"ada3938d-7a44-4970-89cc-0d0b2010a8ac\",\"type\":\"BasicTicker\"}},\"id\":\"b598322f-876e-488a-b6f7-880d773e09e1\",\"type\":\"Grid\"},{\"attributes\":{\"callback\":null},\"id\":\"b07c7ada-3930-434f-96e7-d8ea51925757\",\"type\":\"DataRange1d\"},{\"attributes\":{\"formatter\":{\"id\":\"b3716a78-3eb3-4c39-a2ee-937d27561fb0\",\"type\":\"BasicTickFormatter\"},\"plot\":{\"id\":\"2f960a96-f321-4a2e-b788-5bd2f287dd42\",\"subtype\":\"Figure\",\"type\":\"Plot\"},\"ticker\":{\"id\":\"ada3938d-7a44-4970-89cc-0d0b2010a8ac\",\"type\":\"BasicTicker\"}},\"id\":\"8752ef13-f454-47ba-a709-48cc75037f8c\",\"type\":\"LinearAxis\"},{\"attributes\":{\"plot\":{\"id\":\"85557336-032b-4877-ae89-ac8b2cf2eaed\",\"subtype\":\"Figure\",\"type\":\"Plot\"}},\"id\":\"245a7c4f-2f62-4939-a7eb-240a0a406467\",\"type\":\"SaveTool\"},{\"attributes\":{},\"id\":\"9ba0dd1e-b7dc-4101-aa46-5fbd74c93947\",\"type\":\"BasicTicker\"},{\"attributes\":{\"callback\":null,\"column_names\":[\"index\",\"pct\",\"colors\",\"thresholds\"],\"data\":{\"colors\":[\"#459E0F\",\"#E4E02C\",\"#E43216\"],\"index\":[0,1,2],\"pct\":{\"__ndarray__\":\"4vPHHKXb5z8apEEapEHKP3wxesodP6k/\",\"dtype\":\"float64\",\"shape\":[3]},\"thresholds\":[\"green\",\"yellow\",\"red\"]}},\"id\":\"0e91966d-298d-4ba0-a3ea-f299e4ef8477\",\"type\":\"ColumnDataSource\"},{\"attributes\":{\"bottom_units\":\"screen\",\"fill_alpha\":{\"value\":0.5},\"fill_color\":{\"value\":\"lightgrey\"},\"left_units\":\"screen\",\"level\":\"overlay\",\"line_alpha\":{\"value\":1.0},\"line_color\":{\"value\":\"black\"},\"line_dash\":[4,4],\"line_width\":{\"value\":2},\"plot\":null,\"render_mode\":\"css\",\"right_units\":\"screen\",\"top_units\":\"screen\"},\"id\":\"2da9e058-1d0b-4402-b9d6-7ccc3f06e35f\",\"type\":\"BoxAnnotation\"},{\"attributes\":{\"plot\":null,\"text\":\"\"},\"id\":\"d0f15e44-10db-4150-9f72-df38e27145f8\",\"type\":\"Title\"},{\"attributes\":{\"plot\":{\"id\":\"85557336-032b-4877-ae89-ac8b2cf2eaed\",\"subtype\":\"Figure\",\"type\":\"Plot\"}},\"id\":\"c9e324d7-1636-4bca-9942-37b85adc5008\",\"type\":\"PanTool\"},{\"attributes\":{\"align\":\"center\",\"plot\":{\"id\":\"85557336-032b-4877-ae89-ac8b2cf2eaed\",\"subtype\":\"Figure\",\"type\":\"Plot\"},\"text\":\"Rush/delays within time thresholds pick up\"},\"id\":\"9786277b-de58-42a8-9bef-f1c533ee5fb8\",\"type\":\"Title\"},{\"attributes\":{\"dimension\":1,\"grid_line_color\":{\"value\":null},\"plot\":{\"id\":\"85557336-032b-4877-ae89-ac8b2cf2eaed\",\"subtype\":\"Figure\",\"type\":\"Plot\"},\"ticker\":{\"id\":\"bb6fd809-8836-4529-89fd-c60d066286fc\",\"type\":\"BasicTicker\"}},\"id\":\"5568a6a2-19b8-4ea9-885f-f07380e0da39\",\"type\":\"Grid\"},{\"attributes\":{\"callback\":null},\"id\":\"dd11fb61-3c66-4e8e-9b09-39dbb40ff8c8\",\"type\":\"DataRange1d\"},{\"attributes\":{\"callback\":null,\"data\":{}},\"id\":\"3958d79f-a2de-4497-b0ba-45dddd4cd5a5\",\"type\":\"ColumnDataSource\"},{\"attributes\":{\"plot\":{\"id\":\"85557336-032b-4877-ae89-ac8b2cf2eaed\",\"subtype\":\"Figure\",\"type\":\"Plot\"}},\"id\":\"a41f7d11-9086-4791-9551-f32e84bdd7a1\",\"type\":\"ResetTool\"},{\"attributes\":{\"fill_alpha\":{\"value\":0.1},\"fill_color\":{\"value\":\"#1f77b4\"},\"line_alpha\":{\"value\":0.1},\"line_color\":{\"value\":\"#1f77b4\"},\"top\":{\"field\":\"pct\"},\"width\":{\"value\":0.6},\"x\":{\"field\":\"index\"}},\"id\":\"a5437175-f840-4bcf-a9c0-bc97d65f1acb\",\"type\":\"VBar\"},{\"attributes\":{},\"id\":\"2cdc3cbb-a12b-494b-9298-a24483a77dab\",\"type\":\"ToolEvents\"},{\"attributes\":{\"fill_color\":{\"value\":\"#459E0F\"},\"height\":{\"value\":0.3},\"line_color\":{\"value\":\"#459E0F\"},\"right\":{\"value\":0.3577075098814229},\"y\":{\"value\":1}},\"id\":\"a297718d-d292-4428-b5ca-608885b5f5f9\",\"type\":\"HBar\"},{\"attributes\":{},\"id\":\"52035165-685f-44b8-bb59-75b8ef31da56\",\"type\":\"BasicTickFormatter\"},{\"attributes\":{},\"id\":\"0d97d4d1-7b78-460f-8d69-dd88d0c3ffa7\",\"type\":\"LinearScale\"},{\"attributes\":{\"callback\":null,\"data\":{}},\"id\":\"3f9aa3b4-ab9c-43db-a637-e0100f0d6037\",\"type\":\"ColumnDataSource\"},{\"attributes\":{\"fill_alpha\":{\"value\":0.1},\"fill_color\":{\"value\":\"#1f77b4\"},\"height\":{\"value\":0.3},\"line_alpha\":{\"value\":0.1},\"line_color\":{\"value\":\"#1f77b4\"},\"right\":{\"value\":0.3577075098814229},\"y\":{\"value\":1}},\"id\":\"e9ed95db-2a6b-479c-a751-3aa36458c4c1\",\"type\":\"HBar\"},{\"attributes\":{\"fill_color\":{\"field\":\"colors\"},\"line_color\":{\"field\":\"colors\"},\"top\":{\"field\":\"pct\"},\"width\":{\"value\":0.6},\"x\":{\"field\":\"index\"}},\"id\":\"d167c469-4215-4f57-bf27-ee7d5a081840\",\"type\":\"VBar\"},{\"attributes\":{\"data_source\":{\"id\":\"5ed1ed0d-9371-4cb4-a4f8-c569b03144ae\",\"type\":\"ColumnDataSource\"},\"glyph\":{\"id\":\"56f22890-390d-4162-a398-3a9fbaee7d1f\",\"type\":\"Line\"},\"hover_glyph\":null,\"muted_glyph\":null,\"nonselection_glyph\":{\"id\":\"bd333d35-5527-43c9-bb23-10ad60f43b89\",\"type\":\"Line\"},\"selection_glyph\":null},\"id\":\"9b2f715d-7e7e-4e3e-8a57-1509758ab8fa\",\"type\":\"GlyphRenderer\"},{\"attributes\":{\"line_color\":{\"value\":\"#AAB2A5\"},\"line_dash\":[6],\"line_width\":{\"value\":2},\"x\":{\"field\":\"x\"},\"y\":{\"field\":\"y\"}},\"id\":\"df2a0b83-9b47-4e44-97e4-b125270eda18\",\"type\":\"Line\"},{\"attributes\":{},\"id\":\"93dcf300-a2e2-417c-8244-cf0c0f224fe8\",\"type\":\"ToolEvents\"},{\"attributes\":{\"data_source\":{\"id\":\"370a31bc-9330-4427-ac4c-3faafd834d34\",\"type\":\"ColumnDataSource\"},\"glyph\":{\"id\":\"a80785e2-7072-40fc-a10a-e2b22cce9c95\",\"type\":\"HBar\"},\"hover_glyph\":null,\"muted_glyph\":null,\"nonselection_glyph\":{\"id\":\"dc85640f-b67d-4246-9989-24215b2dcb8b\",\"type\":\"HBar\"},\"selection_glyph\":null},\"id\":\"43c9be28-61a7-46f3-b951-ecf0d9b37b17\",\"type\":\"GlyphRenderer\"},{\"attributes\":{\"callback\":null,\"data\":{}},\"id\":\"7ee4baf0-f176-4b4f-b1bd-2acca4a90995\",\"type\":\"ColumnDataSource\"},{\"attributes\":{\"fill_color\":{\"value\":\"#E4E02C\"},\"height\":{\"value\":0.3},\"left\":{\"value\":-0.47529644268774707},\"line_color\":{\"value\":\"#E4E02C\"},\"right\":{\"value\":-0.4090909090909091},\"y\":{\"value\":1}},\"id\":\"35f9913b-2609-4337-810e-2c7afc6fd978\",\"type\":\"HBar\"},{\"attributes\":{},\"id\":\"615aeabe-eb97-4593-80da-7c313f5b5240\",\"type\":\"BasicTickFormatter\"},{\"attributes\":{\"formatter\":{\"id\":\"9d2e3d6c-d9bc-4d91-a1f9-8003a4b2abd1\",\"type\":\"BasicTickFormatter\"},\"plot\":{\"id\":\"142d95c8-cd5a-43f3-8297-779901846abd\",\"subtype\":\"Figure\",\"type\":\"Plot\"},\"ticker\":{\"id\":\"19f4ea08-dd31-4841-869a-565d8d630f60\",\"type\":\"BasicTicker\"}},\"id\":\"605a003b-3619-48e4-9b7d-67b71d2701fd\",\"type\":\"LinearAxis\"},{\"attributes\":{\"callback\":null,\"column_names\":[\"x\",\"y\"],\"data\":{\"x\":[0,0],\"y\":[0.5,1.5]}},\"id\":\"adec2d1a-8e11-471b-899c-b48d184ba617\",\"type\":\"ColumnDataSource\"},{\"attributes\":{\"plot\":{\"id\":\"142d95c8-cd5a-43f3-8297-779901846abd\",\"subtype\":\"Figure\",\"type\":\"Plot\"}},\"id\":\"4b241689-bd18-4918-9cc4-a5486c8aeba1\",\"type\":\"ResetTool\"},{\"attributes\":{\"fill_alpha\":{\"value\":0.1},\"fill_color\":{\"value\":\"#1f77b4\"},\"line_alpha\":{\"value\":0.1},\"line_color\":{\"value\":\"#1f77b4\"},\"top\":{\"field\":\"pct\"},\"width\":{\"value\":0.6},\"x\":{\"field\":\"index\"}},\"id\":\"911d5345-cda1-4947-88b6-ef016253670c\",\"type\":\"VBar\"},{\"attributes\":{},\"id\":\"b4e60538-d4f4-4ded-bc9a-65e8e81076ff\",\"type\":\"BasicTickFormatter\"},{\"attributes\":{\"overlay\":{\"id\":\"d1d66e3a-4aa2-49db-95ea-a06aa75a44f4\",\"type\":\"BoxAnnotation\"},\"plot\":{\"id\":\"85557336-032b-4877-ae89-ac8b2cf2eaed\",\"subtype\":\"Figure\",\"type\":\"Plot\"}},\"id\":\"806a022b-1325-4ff5-806a-c67eec2f4e78\",\"type\":\"BoxZoomTool\"},{\"attributes\":{\"fill_alpha\":{\"value\":0.1},\"fill_color\":{\"value\":\"#1f77b4\"},\"height\":{\"value\":0.3},\"left\":{\"value\":-0.388560157790927},\"line_alpha\":{\"value\":0.1},\"line_color\":{\"value\":\"#1f77b4\"},\"right\":{\"value\":-0.3865877712031558},\"y\":{\"value\":1}},\"id\":\"1d2edfac-31e8-4588-b942-50e4b2a984d6\",\"type\":\"HBar\"},{\"attributes\":{\"fill_color\":{\"value\":\"#E4E02C\"},\"height\":{\"value\":0.3},\"left\":{\"value\":0.41913214990138065},\"line_color\":{\"value\":\"#E4E02C\"},\"right\":{\"value\":0.5641025641025641},\"y\":{\"value\":1}},\"id\":\"9bf836e6-4498-48e8-a488-c7320759e349\",\"type\":\"HBar\"},{\"attributes\":{\"data_source\":{\"id\":\"4209eb90-58ad-46ff-9745-2571bdf17a52\",\"type\":\"ColumnDataSource\"},\"glyph\":{\"id\":\"923d17f3-10c5-4693-a105-e8451656d956\",\"type\":\"HBar\"},\"hover_glyph\":null,\"muted_glyph\":null,\"nonselection_glyph\":{\"id\":\"21f29dd0-60f6-46e6-88d1-6030d2cd5e1c\",\"type\":\"HBar\"},\"selection_glyph\":null},\"id\":\"4e71c1c3-b9ff-419e-988a-45a87e09beb2\",\"type\":\"GlyphRenderer\"},{\"attributes\":{\"line_color\":{\"value\":\"#AAB2A5\"},\"line_dash\":[6],\"line_width\":{\"value\":2},\"x\":{\"field\":\"x\"},\"y\":{\"field\":\"y\"}},\"id\":\"6ebcdc6e-2413-44d5-86b0-56766d8a9527\",\"type\":\"Line\"},{\"attributes\":{\"line_alpha\":{\"value\":0.1},\"line_color\":{\"value\":\"#1f77b4\"},\"line_dash\":[6],\"line_width\":{\"value\":2},\"x\":{\"field\":\"x\"},\"y\":{\"field\":\"y\"}},\"id\":\"ee0e4022-984a-4adf-baaa-ad8950f6f758\",\"type\":\"Line\"},{\"attributes\":{\"plot\":{\"id\":\"9b1d137f-cc07-4fe3-a858-c29d9e0ebd50\",\"subtype\":\"Figure\",\"type\":\"Plot\"},\"ticker\":{\"id\":\"0ba07d60-8b9b-43ad-a6b5-03c819ce084c\",\"type\":\"BasicTicker\"}},\"id\":\"66f3a216-0c17-4c66-a470-5c4b7af68805\",\"type\":\"Grid\"},{\"attributes\":{\"formatter\":{\"id\":\"615aeabe-eb97-4593-80da-7c313f5b5240\",\"type\":\"BasicTickFormatter\"},\"plot\":{\"id\":\"142d95c8-cd5a-43f3-8297-779901846abd\",\"subtype\":\"Figure\",\"type\":\"Plot\"},\"ticker\":{\"id\":\"217023f7-0ac2-45fc-8056-bad8999d3e4d\",\"type\":\"BasicTicker\"},\"visible\":false},\"id\":\"9e0c499c-19d8-4f15-98c5-af75150b2504\",\"type\":\"LinearAxis\"},{\"attributes\":{\"formatter\":{\"id\":\"d960064d-d284-4df4-98bf-f11c6d79b452\",\"type\":\"BasicTickFormatter\"},\"plot\":{\"id\":\"9b1d137f-cc07-4fe3-a858-c29d9e0ebd50\",\"subtype\":\"Figure\",\"type\":\"Plot\"},\"ticker\":{\"id\":\"0ba07d60-8b9b-43ad-a6b5-03c819ce084c\",\"type\":\"BasicTicker\"}},\"id\":\"fe431ef6-d175-4eab-97de-86a4f9e751b1\",\"type\":\"LinearAxis\"},{\"attributes\":{\"children\":[{\"id\":\"3c5b8211-e80f-44bb-92a7-31fda4fe0d60\",\"type\":\"WidgetBox\"},{\"id\":\"30a8bd2a-d84f-4f35-a8d9-07e84c46c57a\",\"type\":\"Column\"}]},\"id\":\"e3978749-ea65-42b8-91bd-29098d3bfea8\",\"type\":\"Column\"},{\"attributes\":{\"children\":[{\"id\":\"e74312c1-204f-4883-b0ef-989190f38573\",\"type\":\"Div\"}]},\"id\":\"3c5b8211-e80f-44bb-92a7-31fda4fe0d60\",\"type\":\"WidgetBox\"},{\"attributes\":{},\"id\":\"967ff92d-1b3d-4404-8515-03d1b2f2a710\",\"type\":\"LinearScale\"},{\"attributes\":{\"callback\":null,\"column_names\":[\"index\",\"pct\",\"colors\",\"thresholds\"],\"data\":{\"colors\":[\"#459E0F\",\"#E4E02C\",\"#E43216\"],\"index\":[0,1,2],\"pct\":{\"__ndarray__\":\"oIqD1pyJ6D/G7E4aXh/FP3TRRRdddLE/\",\"dtype\":\"float64\",\"shape\":[3]},\"thresholds\":[\"green\",\"yellow\",\"red\"]}},\"id\":\"c8bb3992-9648-41cd-ac6d-56eed61e6c27\",\"type\":\"ColumnDataSource\"},{\"attributes\":{},\"id\":\"e734ece6-7c40-48e7-b79c-8a31ccaf9006\",\"type\":\"LinearScale\"},{\"attributes\":{\"data_source\":{\"id\":\"0e91966d-298d-4ba0-a3ea-f299e4ef8477\",\"type\":\"ColumnDataSource\"},\"glyph\":{\"id\":\"69aa742f-2bfc-4324-b095-474047a38c52\",\"type\":\"VBar\"},\"hover_glyph\":null,\"muted_glyph\":null,\"nonselection_glyph\":{\"id\":\"911d5345-cda1-4947-88b6-ef016253670c\",\"type\":\"VBar\"},\"selection_glyph\":null},\"id\":\"b2234ef1-1e26-4d08-8c5a-20b7ea263598\",\"type\":\"GlyphRenderer\"},{\"attributes\":{\"data_source\":{\"id\":\"3958d79f-a2de-4497-b0ba-45dddd4cd5a5\",\"type\":\"ColumnDataSource\"},\"glyph\":{\"id\":\"35f9913b-2609-4337-810e-2c7afc6fd978\",\"type\":\"HBar\"},\"hover_glyph\":null,\"muted_glyph\":null,\"nonselection_glyph\":{\"id\":\"0a3f7109-dc3c-4995-bd82-8a03ab9ffdd3\",\"type\":\"HBar\"},\"selection_glyph\":null},\"id\":\"4a7d2b04-6212-485e-93d2-660002c012ff\",\"type\":\"GlyphRenderer\"},{\"attributes\":{\"line_color\":{\"value\":\"#AAB2A5\"},\"line_dash\":[6],\"line_width\":{\"value\":2},\"x\":{\"field\":\"x\"},\"y\":{\"field\":\"y\"}},\"id\":\"d3b88967-cb0e-4864-8a6b-329f2470e723\",\"type\":\"Line\"},{\"attributes\":{\"data_source\":{\"id\":\"2329792f-0e98-4ca3-ad64-06aed593bd7e\",\"type\":\"ColumnDataSource\"},\"glyph\":{\"id\":\"3ed2e3a8-3350-454f-8ed7-7b961a062c9c\",\"type\":\"HBar\"},\"hover_glyph\":null,\"muted_glyph\":null,\"nonselection_glyph\":{\"id\":\"95749086-c69d-4e4d-b909-8c0721376f79\",\"type\":\"HBar\"},\"selection_glyph\":null},\"id\":\"87408a22-b1e9-4dbb-b8e4-47b6ac407ba1\",\"type\":\"GlyphRenderer\"},{\"attributes\":{\"callback\":null},\"id\":\"b25e0d29-1c24-44eb-b945-3fb7f2b9216f\",\"type\":\"DataRange1d\"},{\"attributes\":{\"data_source\":{\"id\":\"10b5d857-0de9-416e-84ee-f413d847cc17\",\"type\":\"ColumnDataSource\"},\"glyph\":{\"id\":\"1edd1513-0657-4ad0-8f93-f288613647a7\",\"type\":\"Line\"},\"hover_glyph\":null,\"muted_glyph\":null,\"nonselection_glyph\":{\"id\":\"f3795074-27c6-42d1-8b3d-ee8ebfbb29f0\",\"type\":\"Line\"},\"selection_glyph\":null},\"id\":\"857474bc-c646-459c-9d3e-fff236043c51\",\"type\":\"GlyphRenderer\"},{\"attributes\":{\"formatter\":{\"id\":\"b4e60538-d4f4-4ded-bc9a-65e8e81076ff\",\"type\":\"BasicTickFormatter\"},\"plot\":{\"id\":\"85557336-032b-4877-ae89-ac8b2cf2eaed\",\"subtype\":\"Figure\",\"type\":\"Plot\"},\"ticker\":{\"id\":\"bb6fd809-8836-4529-89fd-c60d066286fc\",\"type\":\"BasicTicker\"},\"visible\":false},\"id\":\"153c8d84-7a42-4932-9a11-2f724970d6d9\",\"type\":\"LinearAxis\"},{\"attributes\":{\"callback\":null,\"end\":2},\"id\":\"46b0c562-3700-4956-9017-f701936f02d0\",\"type\":\"Range1d\"},{\"attributes\":{\"line_color\":{\"value\":\"#AAB2A5\"},\"line_dash\":[6],\"line_width\":{\"value\":2},\"x\":{\"field\":\"x\"},\"y\":{\"field\":\"y\"}},\"id\":\"a5af36ed-d72e-4848-9eb8-1e54f249defb\",\"type\":\"Line\"},{\"attributes\":{\"data_source\":{\"id\":\"b749c7c6-451b-4c98-b7f2-9929cc85ac4e\",\"type\":\"ColumnDataSource\"},\"glyph\":{\"id\":\"519c4383-1460-4c08-9201-da7b03651631\",\"type\":\"HBar\"},\"hover_glyph\":null,\"muted_glyph\":null,\"nonselection_glyph\":{\"id\":\"2dd8fd2a-29fe-4b45-84c9-78ba7fcf94e2\",\"type\":\"HBar\"},\"selection_glyph\":null},\"id\":\"b727c8a5-905c-4321-9f88-a057df225bae\",\"type\":\"GlyphRenderer\"},{\"attributes\":{\"align\":\"center\",\"plot\":{\"id\":\"9b1d137f-cc07-4fe3-a858-c29d9e0ebd50\",\"subtype\":\"Figure\",\"type\":\"Plot\"},\"text\":\"Total percentage within thresholds drop off\"},\"id\":\"b2fc4e95-51d4-4ed1-b23d-8749a190f7ec\",\"type\":\"Title\"},{\"attributes\":{\"line_color\":{\"value\":\"#AAB2A5\"},\"line_dash\":[6],\"line_width\":{\"value\":2},\"x\":{\"field\":\"x\"},\"y\":{\"field\":\"y\"}},\"id\":\"5b074521-1373-4732-845e-ed0ff20f6524\",\"type\":\"Line\"},{\"attributes\":{\"fill_color\":{\"value\":\"#459E0F\"},\"height\":{\"value\":0.3},\"line_color\":{\"value\":\"#459E0F\"},\"right\":{\"value\":0.41913214990138065},\"y\":{\"value\":1}},\"id\":\"519c4383-1460-4c08-9201-da7b03651631\",\"type\":\"HBar\"},{\"attributes\":{\"callback\":null,\"column_names\":[\"x\",\"y\"],\"data\":{\"x\":[-0.47529644268774707,-0.47529644268774707],\"y\":[0.5,1.5]}},\"id\":\"5ed1ed0d-9371-4cb4-a4f8-c569b03144ae\",\"type\":\"ColumnDataSource\"},{\"attributes\":{\"children\":[{\"id\":\"142d95c8-cd5a-43f3-8297-779901846abd\",\"subtype\":\"Figure\",\"type\":\"Plot\"},{\"id\":\"9b1d137f-cc07-4fe3-a858-c29d9e0ebd50\",\"subtype\":\"Figure\",\"type\":\"Plot\"}]},\"id\":\"8fad330e-d210-4da5-ba30-d2171dacecaf\",\"type\":\"Row\"},{\"attributes\":{\"fill_alpha\":{\"value\":0.1},\"fill_color\":{\"value\":\"#1f77b4\"},\"height\":{\"value\":0.3},\"left\":{\"value\":-0.3865877712031558},\"line_alpha\":{\"value\":0.1},\"line_color\":{\"value\":\"#1f77b4\"},\"right\":{\"value\":-0.3264299802761341},\"y\":{\"value\":1}},\"id\":\"dc85640f-b67d-4246-9989-24215b2dcb8b\",\"type\":\"HBar\"},{\"attributes\":{\"data_source\":{\"id\":\"f4bc5ca7-0661-458f-b52c-77cc682da093\",\"type\":\"ColumnDataSource\"},\"glyph\":{\"id\":\"c449d30c-6d29-43d9-92d8-aebd1d4bd5fd\",\"type\":\"Line\"},\"hover_glyph\":null,\"muted_glyph\":null,\"nonselection_glyph\":{\"id\":\"e7042354-0455-4d78-ac47-a324cf11a9d5\",\"type\":\"Line\"},\"selection_glyph\":null},\"id\":\"4121063c-7ac9-4f2c-bdc0-989f68ad63bf\",\"type\":\"GlyphRenderer\"},{\"attributes\":{\"fill_color\":{\"field\":\"colors\"},\"line_color\":{\"field\":\"colors\"},\"top\":{\"field\":\"pct\"},\"width\":{\"value\":0.6},\"x\":{\"field\":\"index\"}},\"id\":\"69aa742f-2bfc-4324-b095-474047a38c52\",\"type\":\"VBar\"},{\"attributes\":{},\"id\":\"1578eef5-9e5a-4ba5-b8c2-ac59a3591735\",\"type\":\"ToolEvents\"},{\"attributes\":{\"data_source\":{\"id\":\"c764a28d-a726-44dd-8163-8dafea285190\",\"type\":\"ColumnDataSource\"},\"glyph\":{\"id\":\"78183de1-7886-4aab-b783-0cd249f49833\",\"type\":\"HBar\"},\"hover_glyph\":null,\"muted_glyph\":null,\"nonselection_glyph\":{\"id\":\"7dc70f9e-0efa-4085-b227-72a0b8c917f2\",\"type\":\"HBar\"},\"selection_glyph\":null},\"id\":\"e97c0f5e-9001-441d-9241-64b536c5644a\",\"type\":\"GlyphRenderer\"},{\"attributes\":{},\"id\":\"56639ce1-9177-4cf4-8fb4-0ce362d5f59c\",\"type\":\"LinearScale\"},{\"attributes\":{\"plot\":{\"id\":\"142d95c8-cd5a-43f3-8297-779901846abd\",\"subtype\":\"Figure\",\"type\":\"Plot\"}},\"id\":\"45d74f9f-5b37-46ed-b2f3-e978cdf07ba3\",\"type\":\"SaveTool\"},{\"attributes\":{\"callback\":null,\"column_names\":[\"x\",\"y\"],\"data\":{\"x\":[-0.3264299802761341,-0.3264299802761341],\"y\":[0.5,1.5]}},\"id\":\"b6322ba5-2644-494a-9ec9-bdfd06879940\",\"type\":\"ColumnDataSource\"},{\"attributes\":{\"formatter\":{\"id\":\"52035165-685f-44b8-bb59-75b8ef31da56\",\"type\":\"BasicTickFormatter\"},\"plot\":{\"id\":\"9b1d137f-cc07-4fe3-a858-c29d9e0ebd50\",\"subtype\":\"Figure\",\"type\":\"Plot\"},\"ticker\":{\"id\":\"c9573b2a-1164-4c7e-abea-02bc36757560\",\"type\":\"BasicTicker\"}},\"id\":\"a04e55bd-d03e-4671-9cf2-eb17f08c4717\",\"type\":\"LinearAxis\"},{\"attributes\":{\"callback\":null,\"data\":{}},\"id\":\"4209eb90-58ad-46ff-9745-2571bdf17a52\",\"type\":\"ColumnDataSource\"},{\"attributes\":{\"line_alpha\":{\"value\":0.1},\"line_color\":{\"value\":\"#1f77b4\"},\"line_dash\":[6],\"line_width\":{\"value\":2},\"x\":{\"field\":\"x\"},\"y\":{\"field\":\"y\"}},\"id\":\"bd333d35-5527-43c9-bb23-10ad60f43b89\",\"type\":\"Line\"},{\"attributes\":{\"line_alpha\":{\"value\":0.1},\"line_color\":{\"value\":\"#1f77b4\"},\"line_dash\":[6],\"line_width\":{\"value\":2},\"x\":{\"field\":\"x\"},\"y\":{\"field\":\"y\"}},\"id\":\"cd371a0d-fec8-44e5-9452-5c133ea37417\",\"type\":\"Line\"},{\"attributes\":{\"callback\":null,\"column_names\":[\"x\",\"y\"],\"data\":{\"x\":[0.45652173913043476,0.45652173913043476],\"y\":[0.5,1.5]}},\"id\":\"f4bc5ca7-0661-458f-b52c-77cc682da093\",\"type\":\"ColumnDataSource\"},{\"attributes\":{\"active_drag\":\"auto\",\"active_inspect\":\"auto\",\"active_scroll\":\"auto\",\"active_tap\":\"auto\",\"tools\":[{\"id\":\"c9e324d7-1636-4bca-9942-37b85adc5008\",\"type\":\"PanTool\"},{\"id\":\"d886e074-b77f-45eb-89fd-b2aec66ad4df\",\"type\":\"WheelZoomTool\"},{\"id\":\"806a022b-1325-4ff5-806a-c67eec2f4e78\",\"type\":\"BoxZoomTool\"},{\"id\":\"245a7c4f-2f62-4939-a7eb-240a0a406467\",\"type\":\"SaveTool\"},{\"id\":\"a41f7d11-9086-4791-9551-f32e84bdd7a1\",\"type\":\"ResetTool\"},{\"id\":\"de179850-e2dd-4e28-9110-1754afc77f54\",\"type\":\"HelpTool\"}]},\"id\":\"7240275c-6627-43db-839a-47a3e855a0a2\",\"type\":\"Toolbar\"},{\"attributes\":{},\"id\":\"5aa154ea-8b96-43f9-9c08-d4051778b953\",\"type\":\"LinearScale\"},{\"attributes\":{\"callback\":null,\"data\":{}},\"id\":\"2329792f-0e98-4ca3-ad64-06aed593bd7e\",\"type\":\"ColumnDataSource\"},{\"attributes\":{\"data_source\":{\"id\":\"adec2d1a-8e11-471b-899c-b48d184ba617\",\"type\":\"ColumnDataSource\"},\"glyph\":{\"id\":\"df2a0b83-9b47-4e44-97e4-b125270eda18\",\"type\":\"Line\"},\"hover_glyph\":null,\"muted_glyph\":null,\"nonselection_glyph\":{\"id\":\"f3e40572-d6ae-4a8e-a347-de54644e898d\",\"type\":\"Line\"},\"selection_glyph\":null},\"id\":\"6c408834-9da0-4eb4-bc0f-1144d74865b5\",\"type\":\"GlyphRenderer\"},{\"attributes\":{\"callback\":null,\"column_names\":[\"x\",\"y\"],\"data\":{\"x\":[0.3577075098814229,0.3577075098814229],\"y\":[0.5,1.5]}},\"id\":\"ab4faba6-1a7e-494e-b4e4-e9d2b0fcdbfc\",\"type\":\"ColumnDataSource\"},{\"attributes\":{\"fill_alpha\":{\"value\":0.1},\"fill_color\":{\"value\":\"#1f77b4\"},\"height\":{\"value\":0.3},\"left\":{\"value\":0.45652173913043476},\"line_alpha\":{\"value\":0.1},\"line_color\":{\"value\":\"#1f77b4\"},\"right\":{\"value\":0.5128458498023715},\"y\":{\"value\":1}},\"id\":\"7dc70f9e-0efa-4085-b227-72a0b8c917f2\",\"type\":\"HBar\"},{\"attributes\":{\"callback\":null,\"data\":{}},\"id\":\"370a31bc-9330-4427-ac4c-3faafd834d34\",\"type\":\"ColumnDataSource\"},{\"attributes\":{\"line_alpha\":{\"value\":0.1},\"line_color\":{\"value\":\"#1f77b4\"},\"line_dash\":[6],\"line_width\":{\"value\":2},\"x\":{\"field\":\"x\"},\"y\":{\"field\":\"y\"}},\"id\":\"9bd3643a-40c6-4005-8b21-ae1a6459a265\",\"type\":\"Line\"},{\"attributes\":{\"line_color\":{\"value\":\"#AAB2A5\"},\"line_dash\":[6],\"line_width\":{\"value\":2},\"x\":{\"field\":\"x\"},\"y\":{\"field\":\"y\"}},\"id\":\"56f22890-390d-4162-a398-3a9fbaee7d1f\",\"type\":\"Line\"},{\"attributes\":{\"callback\":null,\"column_names\":[\"x\",\"y\"],\"data\":{\"x\":[0,0],\"y\":[0.5,1.5]}},\"id\":\"10b5d857-0de9-416e-84ee-f413d847cc17\",\"type\":\"ColumnDataSource\"},{\"attributes\":{},\"id\":\"c9573b2a-1164-4c7e-abea-02bc36757560\",\"type\":\"BasicTicker\"},{\"attributes\":{\"fill_alpha\":{\"value\":0.1},\"fill_color\":{\"value\":\"#1f77b4\"},\"height\":{\"value\":0.3},\"left\":{\"value\":-0.47529644268774707},\"line_alpha\":{\"value\":0.1},\"line_color\":{\"value\":\"#1f77b4\"},\"right\":{\"value\":-0.4090909090909091},\"y\":{\"value\":1}},\"id\":\"0a3f7109-dc3c-4995-bd82-8a03ab9ffdd3\",\"type\":\"HBar\"},{\"attributes\":{\"fill_color\":{\"value\":\"#459E0F\"},\"height\":{\"value\":0.3},\"left\":{\"value\":-0.3264299802761341},\"line_color\":{\"value\":\"#459E0F\"},\"right\":{\"value\":0},\"y\":{\"value\":1}},\"id\":\"923d17f3-10c5-4693-a105-e8451656d956\",\"type\":\"HBar\"},{\"attributes\":{\"line_alpha\":{\"value\":0.1},\"line_color\":{\"value\":\"#1f77b4\"},\"line_dash\":[6],\"line_width\":{\"value\":2},\"x\":{\"field\":\"x\"},\"y\":{\"field\":\"y\"}},\"id\":\"5ac1ee34-b806-4b1e-9d0c-7bbbec6ef79d\",\"type\":\"Line\"},{\"attributes\":{\"callback\":null,\"column_names\":[\"x\",\"y\"],\"data\":{\"x\":[0,0],\"y\":[0.5,1.5]}},\"id\":\"7dfedc7e-f264-42ba-8a3f-f46541dd6020\",\"type\":\"ColumnDataSource\"},{\"attributes\":{\"line_alpha\":{\"value\":0.1},\"line_color\":{\"value\":\"#1f77b4\"},\"line_dash\":[6],\"line_width\":{\"value\":2},\"x\":{\"field\":\"x\"},\"y\":{\"field\":\"y\"}},\"id\":\"347bfb9b-3898-47be-8ffd-e87e6e9b5d1d\",\"type\":\"Line\"},{\"attributes\":{\"line_alpha\":{\"value\":0.1},\"line_color\":{\"value\":\"#1f77b4\"},\"line_dash\":[6],\"line_width\":{\"value\":2},\"x\":{\"field\":\"x\"},\"y\":{\"field\":\"y\"}},\"id\":\"e7042354-0455-4d78-ac47-a324cf11a9d5\",\"type\":\"Line\"},{\"attributes\":{\"align\":\"center\",\"plot\":{\"id\":\"142d95c8-cd5a-43f3-8297-779901846abd\",\"subtype\":\"Figure\",\"type\":\"Plot\"},\"text\":\"Rush/delays within time thresholds drop off\"},\"id\":\"b68c7b4f-84d1-452e-a1e7-6b91a30ec631\",\"type\":\"Title\"},{\"attributes\":{\"dimension\":1,\"plot\":{\"id\":\"2f960a96-f321-4a2e-b788-5bd2f287dd42\",\"subtype\":\"Figure\",\"type\":\"Plot\"},\"ticker\":{\"id\":\"d4b9a1bb-3b82-4aff-96bb-7dfbfb2146cf\",\"type\":\"BasicTicker\"}},\"id\":\"558d063c-2e95-44ef-9f0d-60c77755202d\",\"type\":\"Grid\"},{\"attributes\":{\"callback\":null,\"column_names\":[\"x\",\"y\"],\"data\":{\"x\":[0.41913214990138065,0.41913214990138065],\"y\":[0.5,1.5]}},\"id\":\"a99623a2-9ba3-4735-aad0-4a14141d69f0\",\"type\":\"ColumnDataSource\"},{\"attributes\":{\"fill_color\":{\"value\":\"#E4E02C\"},\"height\":{\"value\":0.3},\"left\":{\"value\":-0.3865877712031558},\"line_color\":{\"value\":\"#E4E02C\"},\"right\":{\"value\":-0.3264299802761341},\"y\":{\"value\":1}},\"id\":\"a80785e2-7072-40fc-a10a-e2b22cce9c95\",\"type\":\"HBar\"},{\"attributes\":{\"data_source\":{\"id\":\"83d32be6-9f8a-4484-b81f-a325e0ab0532\",\"type\":\"ColumnDataSource\"},\"glyph\":{\"id\":\"ee850487-e982-4349-a529-1503eb2b80e5\",\"type\":\"HBar\"},\"hover_glyph\":null,\"muted_glyph\":null,\"nonselection_glyph\":{\"id\":\"27285b2c-f647-4a68-b6d5-aff5fe86b423\",\"type\":\"HBar\"},\"selection_glyph\":null},\"id\":\"d88611a3-b69e-4a02-a7e5-c177ba740d13\",\"type\":\"GlyphRenderer\"},{\"attributes\":{\"above\":[{\"id\":\"b68c7b4f-84d1-452e-a1e7-6b91a30ec631\",\"type\":\"Title\"}],\"below\":[{\"id\":\"605a003b-3619-48e4-9b7d-67b71d2701fd\",\"type\":\"LinearAxis\"}],\"left\":[{\"id\":\"9e0c499c-19d8-4f15-98c5-af75150b2504\",\"type\":\"LinearAxis\"}],\"plot_height\":300,\"plot_width\":400,\"renderers\":[{\"id\":\"605a003b-3619-48e4-9b7d-67b71d2701fd\",\"type\":\"LinearAxis\"},{\"id\":\"5e9ecde1-5dc1-4577-a2f0-e96a9bc05e1c\",\"type\":\"Grid\"},{\"id\":\"9e0c499c-19d8-4f15-98c5-af75150b2504\",\"type\":\"LinearAxis\"},{\"id\":\"ad2fd7b2-8390-4de5-ac8a-6e513e50d5fa\",\"type\":\"Grid\"},{\"id\":\"2da9e058-1d0b-4402-b9d6-7ccc3f06e35f\",\"type\":\"BoxAnnotation\"},{\"id\":\"87408a22-b1e9-4dbb-b8e4-47b6ac407ba1\",\"type\":\"GlyphRenderer\"},{\"id\":\"41ac0ec8-8692-4be3-96d2-3721b3202d3e\",\"type\":\"GlyphRenderer\"},{\"id\":\"4a7d2b04-6212-485e-93d2-660002c012ff\",\"type\":\"GlyphRenderer\"},{\"id\":\"0fb4a95e-a145-409d-bc1d-8d2d50b6e7e8\",\"type\":\"GlyphRenderer\"},{\"id\":\"52dcee90-e91c-4d79-86fe-a0a188080797\",\"type\":\"GlyphRenderer\"},{\"id\":\"9b2f715d-7e7e-4e3e-8a57-1509758ab8fa\",\"type\":\"GlyphRenderer\"},{\"id\":\"38556efe-a6b0-41d1-906c-9f517c07e243\",\"type\":\"GlyphRenderer\"},{\"id\":\"6c408834-9da0-4eb4-bc0f-1144d74865b5\",\"type\":\"GlyphRenderer\"},{\"id\":\"d88611a3-b69e-4a02-a7e5-c177ba740d13\",\"type\":\"GlyphRenderer\"},{\"id\":\"4709e9e8-a84b-4db3-b480-7e8ef55a1c13\",\"type\":\"GlyphRenderer\"},{\"id\":\"e97c0f5e-9001-441d-9241-64b536c5644a\",\"type\":\"GlyphRenderer\"},{\"id\":\"4121063c-7ac9-4f2c-bdc0-989f68ad63bf\",\"type\":\"GlyphRenderer\"},{\"id\":\"b68c7b4f-84d1-452e-a1e7-6b91a30ec631\",\"type\":\"Title\"}],\"title\":{\"id\":\"03c7a698-2812-4ecd-8ce6-7c46039dd8ca\",\"type\":\"Title\"},\"tool_events\":{\"id\":\"93dcf300-a2e2-417c-8244-cf0c0f224fe8\",\"type\":\"ToolEvents\"},\"toolbar\":{\"id\":\"57e5afaa-f278-488e-9422-381b6f754e96\",\"type\":\"Toolbar\"},\"x_range\":{\"id\":\"b25e0d29-1c24-44eb-b945-3fb7f2b9216f\",\"type\":\"DataRange1d\"},\"x_scale\":{\"id\":\"326ff444-d17a-47f6-8e6b-bb4f8f6b3ae2\",\"type\":\"LinearScale\"},\"y_range\":{\"id\":\"46b0c562-3700-4956-9017-f701936f02d0\",\"type\":\"Range1d\"},\"y_scale\":{\"id\":\"fade9988-5e81-48d3-8378-a451dd72208e\",\"type\":\"LinearScale\"}},\"id\":\"142d95c8-cd5a-43f3-8297-779901846abd\",\"subtype\":\"Figure\",\"type\":\"Plot\"},{\"attributes\":{\"line_alpha\":{\"value\":0.1},\"line_color\":{\"value\":\"#1f77b4\"},\"line_dash\":[6],\"line_width\":{\"value\":2},\"x\":{\"field\":\"x\"},\"y\":{\"field\":\"y\"}},\"id\":\"62f41ff0-3a31-4a2d-b4a7-e07dfa0124db\",\"type\":\"Line\"},{\"attributes\":{\"bottom_units\":\"screen\",\"fill_alpha\":{\"value\":0.5},\"fill_color\":{\"value\":\"lightgrey\"},\"left_units\":\"screen\",\"level\":\"overlay\",\"line_alpha\":{\"value\":1.0},\"line_color\":{\"value\":\"black\"},\"line_dash\":[4,4],\"line_width\":{\"value\":2},\"plot\":null,\"render_mode\":\"css\",\"right_units\":\"screen\",\"top_units\":\"screen\"},\"id\":\"d1d66e3a-4aa2-49db-95ea-a06aa75a44f4\",\"type\":\"BoxAnnotation\"},{\"attributes\":{\"data_source\":{\"id\":\"86c8ca60-994b-4b12-a7c0-255a05f561f6\",\"type\":\"ColumnDataSource\"},\"glyph\":{\"id\":\"6ebcdc6e-2413-44d5-86b0-56766d8a9527\",\"type\":\"Line\"},\"hover_glyph\":null,\"muted_glyph\":null,\"nonselection_glyph\":{\"id\":\"347bfb9b-3898-47be-8ffd-e87e6e9b5d1d\",\"type\":\"Line\"},\"selection_glyph\":null},\"id\":\"41ac0ec8-8692-4be3-96d2-3721b3202d3e\",\"type\":\"GlyphRenderer\"},{\"attributes\":{\"line_alpha\":{\"value\":0.1},\"line_color\":{\"value\":\"#1f77b4\"},\"line_dash\":[6],\"line_width\":{\"value\":2},\"x\":{\"field\":\"x\"},\"y\":{\"field\":\"y\"}},\"id\":\"e79afe95-dea1-446c-a789-4fdafc795194\",\"type\":\"Line\"},{\"attributes\":{},\"id\":\"f097d311-796f-4136-b0c4-24ac25ca7b0e\",\"type\":\"ToolEvents\"},{\"attributes\":{},\"id\":\"9c8a905d-8093-4fe6-8ce5-727f673bc34e\",\"type\":\"LinearScale\"},{\"attributes\":{\"grid_line_color\":{\"value\":null},\"plot\":{\"id\":\"85557336-032b-4877-ae89-ac8b2cf2eaed\",\"subtype\":\"Figure\",\"type\":\"Plot\"},\"ticker\":{\"id\":\"9ba0dd1e-b7dc-4101-aa46-5fbd74c93947\",\"type\":\"BasicTicker\"}},\"id\":\"9dfda528-743d-40c2-a78b-73ddbcf46914\",\"type\":\"Grid\"},{\"attributes\":{\"fill_alpha\":{\"value\":0.1},\"fill_color\":{\"value\":\"#1f77b4\"},\"height\":{\"value\":0.3},\"left\":{\"value\":-0.4871541501976285},\"line_alpha\":{\"value\":0.1},\"line_color\":{\"value\":\"#1f77b4\"},\"right\":{\"value\":-0.47529644268774707},\"y\":{\"value\":1}},\"id\":\"7cc33836-d73c-48db-b3f4-7cb346290a38\",\"type\":\"HBar\"},{\"attributes\":{\"active_drag\":\"auto\",\"active_inspect\":\"auto\",\"active_scroll\":\"auto\",\"active_tap\":\"auto\",\"tools\":[{\"id\":\"fc368004-4529-4e95-8bd8-5ce66e13ecab\",\"type\":\"HoverTool\"}]},\"id\":\"a19ef038-999b-48ff-999d-e211ec98e185\",\"type\":\"Toolbar\"},{\"attributes\":{\"callback\":null,\"data\":{}},\"id\":\"b749c7c6-451b-4c98-b7f2-9929cc85ac4e\",\"type\":\"ColumnDataSource\"},{\"attributes\":{\"fill_alpha\":{\"value\":0.1},\"fill_color\":{\"value\":\"#1f77b4\"},\"height\":{\"value\":0.3},\"left\":{\"value\":0.3577075098814229},\"line_alpha\":{\"value\":0.1},\"line_color\":{\"value\":\"#1f77b4\"},\"right\":{\"value\":0.45652173913043476},\"y\":{\"value\":1}},\"id\":\"27285b2c-f647-4a68-b6d5-aff5fe86b423\",\"type\":\"HBar\"},{\"attributes\":{\"plot\":{\"id\":\"85557336-032b-4877-ae89-ac8b2cf2eaed\",\"subtype\":\"Figure\",\"type\":\"Plot\"}},\"id\":\"de179850-e2dd-4e28-9110-1754afc77f54\",\"type\":\"HelpTool\"},{\"attributes\":{\"callback\":null,\"column_names\":[\"x\",\"y\"],\"data\":{\"x\":[-0.3865877712031558,-0.3865877712031558],\"y\":[0.5,1.5]}},\"id\":\"5cb77673-efb8-44ab-9a20-13c600f4f2c1\",\"type\":\"ColumnDataSource\"},{\"attributes\":{\"fill_alpha\":{\"value\":0.1},\"fill_color\":{\"value\":\"#1f77b4\"},\"height\":{\"value\":0.3},\"line_alpha\":{\"value\":0.1},\"line_color\":{\"value\":\"#1f77b4\"},\"right\":{\"value\":0.41913214990138065},\"y\":{\"value\":1}},\"id\":\"2dd8fd2a-29fe-4b45-84c9-78ba7fcf94e2\",\"type\":\"HBar\"},{\"attributes\":{\"callback\":null,\"column_names\":[\"x\",\"y\"],\"data\":{\"x\":[0,0],\"y\":[0.5,1.5]}},\"id\":\"86c8ca60-994b-4b12-a7c0-255a05f561f6\",\"type\":\"ColumnDataSource\"},{\"attributes\":{\"line_color\":{\"value\":\"#AAB2A5\"},\"line_dash\":[6],\"line_width\":{\"value\":2},\"x\":{\"field\":\"x\"},\"y\":{\"field\":\"y\"}},\"id\":\"79fd2900-735e-4741-897d-876402c407c3\",\"type\":\"Line\"},{\"attributes\":{\"fill_color\":{\"value\":\"#E4E02C\"},\"height\":{\"value\":0.3},\"left\":{\"value\":0.3577075098814229},\"line_color\":{\"value\":\"#E4E02C\"},\"right\":{\"value\":0.45652173913043476},\"y\":{\"value\":1}},\"id\":\"ee850487-e982-4349-a529-1503eb2b80e5\",\"type\":\"HBar\"},{\"attributes\":{\"plot\":null,\"text\":\"\"},\"id\":\"1cb5c1b5-9fbd-41e6-80f3-16bffc8ad2a3\",\"type\":\"Title\"},{\"attributes\":{\"callback\":null,\"data\":{}},\"id\":\"18761fcc-28d4-4dbf-aaeb-e7ff73c980c8\",\"type\":\"ColumnDataSource\"},{\"attributes\":{\"children\":[{\"id\":\"85557336-032b-4877-ae89-ac8b2cf2eaed\",\"subtype\":\"Figure\",\"type\":\"Plot\"},{\"id\":\"2f960a96-f321-4a2e-b788-5bd2f287dd42\",\"subtype\":\"Figure\",\"type\":\"Plot\"}]},\"id\":\"8c54c48c-c690-48c8-8c02-9a8c0d5e15d8\",\"type\":\"Row\"},{\"attributes\":{\"data_source\":{\"id\":\"b6322ba5-2644-494a-9ec9-bdfd06879940\",\"type\":\"ColumnDataSource\"},\"glyph\":{\"id\":\"1f397b2d-8c03-4d75-bf0a-e3991b98bdea\",\"type\":\"Line\"},\"hover_glyph\":null,\"muted_glyph\":null,\"nonselection_glyph\":{\"id\":\"ee0e4022-984a-4adf-baaa-ad8950f6f758\",\"type\":\"Line\"},\"selection_glyph\":null},\"id\":\"559fb382-b289-48d2-bbf8-3e1824ec98be\",\"type\":\"GlyphRenderer\"},{\"attributes\":{\"above\":[{\"id\":\"1a90d47a-595b-48d6-9880-ecfbc916855b\",\"type\":\"Title\"}],\"below\":[{\"id\":\"8752ef13-f454-47ba-a709-48cc75037f8c\",\"type\":\"LinearAxis\"}],\"left\":[{\"id\":\"94891469-a48d-4651-97a9-d51dcb7fe4cd\",\"type\":\"LinearAxis\"}],\"plot_height\":300,\"plot_width\":400,\"renderers\":[{\"id\":\"8752ef13-f454-47ba-a709-48cc75037f8c\",\"type\":\"LinearAxis\"},{\"id\":\"b598322f-876e-488a-b6f7-880d773e09e1\",\"type\":\"Grid\"},{\"id\":\"94891469-a48d-4651-97a9-d51dcb7fe4cd\",\"type\":\"LinearAxis\"},{\"id\":\"558d063c-2e95-44ef-9f0d-60c77755202d\",\"type\":\"Grid\"},{\"id\":\"1a90d47a-595b-48d6-9880-ecfbc916855b\",\"type\":\"Title\"},{\"id\":\"b2234ef1-1e26-4d08-8c5a-20b7ea263598\",\"type\":\"GlyphRenderer\"}],\"title\":{\"id\":\"861ddf10-2cb5-41e5-b0ae-1361cfd7ae0d\",\"type\":\"Title\"},\"tool_events\":{\"id\":\"1578eef5-9e5a-4ba5-b8c2-ac59a3591735\",\"type\":\"ToolEvents\"},\"toolbar\":{\"id\":\"a19ef038-999b-48ff-999d-e211ec98e185\",\"type\":\"Toolbar\"},\"x_range\":{\"id\":\"b07c7ada-3930-434f-96e7-d8ea51925757\",\"type\":\"DataRange1d\"},\"x_scale\":{\"id\":\"e734ece6-7c40-48e7-b79c-8a31ccaf9006\",\"type\":\"LinearScale\"},\"y_range\":{\"id\":\"d1101062-f5c9-4dfc-ad54-474d95a4c718\",\"type\":\"DataRange1d\"},\"y_scale\":{\"id\":\"5aa154ea-8b96-43f9-9c08-d4051778b953\",\"type\":\"LinearScale\"}},\"id\":\"2f960a96-f321-4a2e-b788-5bd2f287dd42\",\"subtype\":\"Figure\",\"type\":\"Plot\"},{\"attributes\":{\"line_alpha\":{\"value\":0.1},\"line_color\":{\"value\":\"#1f77b4\"},\"line_dash\":[6],\"line_width\":{\"value\":2},\"x\":{\"field\":\"x\"},\"y\":{\"field\":\"y\"}},\"id\":\"f3e40572-d6ae-4a8e-a347-de54644e898d\",\"type\":\"Line\"},{\"attributes\":{\"data_source\":{\"id\":\"6af6cdca-0bda-4e9d-9c1b-cb4bc50c6009\",\"type\":\"ColumnDataSource\"},\"glyph\":{\"id\":\"243c508c-3cc4-49b7-a169-4d7db538cab8\",\"type\":\"Line\"},\"hover_glyph\":null,\"muted_glyph\":null,\"nonselection_glyph\":{\"id\":\"6f490d71-a723-485f-81a1-4bf4fdb68ce1\",\"type\":\"Line\"},\"selection_glyph\":null},\"id\":\"0fb4a95e-a145-409d-bc1d-8d2d50b6e7e8\",\"type\":\"GlyphRenderer\"},{\"attributes\":{\"callback\":null,\"data\":{}},\"id\":\"acb99169-d42a-48f8-b899-f4b9a2f7a548\",\"type\":\"ColumnDataSource\"},{\"attributes\":{\"fill_alpha\":{\"value\":0.1},\"fill_color\":{\"value\":\"#1f77b4\"},\"height\":{\"value\":0.3},\"left\":{\"value\":0.5641025641025641},\"line_alpha\":{\"value\":0.1},\"line_color\":{\"value\":\"#1f77b4\"},\"right\":{\"value\":0.611439842209073},\"y\":{\"value\":1}},\"id\":\"dc7ef2d6-be86-47c0-9e41-e34075f82bc1\",\"type\":\"HBar\"},{\"attributes\":{\"line_color\":{\"value\":\"#AAB2A5\"},\"line_dash\":[6],\"line_width\":{\"value\":2},\"x\":{\"field\":\"x\"},\"y\":{\"field\":\"y\"}},\"id\":\"e72525a8-e86b-4729-a22c-c6f29b0413f9\",\"type\":\"Line\"},{\"attributes\":{},\"id\":\"e8dd44a9-5857-486b-8acd-5b0c7967138f\",\"type\":\"BasicTickFormatter\"},{\"attributes\":{\"data_source\":{\"id\":\"7dfedc7e-f264-42ba-8a3f-f46541dd6020\",\"type\":\"ColumnDataSource\"},\"glyph\":{\"id\":\"5b074521-1373-4732-845e-ed0ff20f6524\",\"type\":\"Line\"},\"hover_glyph\":null,\"muted_glyph\":null,\"nonselection_glyph\":{\"id\":\"cd371a0d-fec8-44e5-9452-5c133ea37417\",\"type\":\"Line\"},\"selection_glyph\":null},\"id\":\"e7bea282-1bea-4bf8-9682-878ca701bcbd\",\"type\":\"GlyphRenderer\"},{\"attributes\":{},\"id\":\"ada3938d-7a44-4970-89cc-0d0b2010a8ac\",\"type\":\"BasicTicker\"},{\"attributes\":{\"dimension\":1,\"grid_line_color\":{\"value\":null},\"plot\":{\"id\":\"142d95c8-cd5a-43f3-8297-779901846abd\",\"subtype\":\"Figure\",\"type\":\"Plot\"},\"ticker\":{\"id\":\"217023f7-0ac2-45fc-8056-bad8999d3e4d\",\"type\":\"BasicTicker\"}},\"id\":\"ad2fd7b2-8390-4de5-ac8a-6e513e50d5fa\",\"type\":\"Grid\"},{\"attributes\":{\"callback\":null,\"data\":{}},\"id\":\"72f23581-3918-4835-b660-4e6ea444c2ec\",\"type\":\"ColumnDataSource\"},{\"attributes\":{},\"id\":\"44d2a637-ae5a-4ac6-8dbf-e21bee0cf44e\",\"type\":\"BasicTickFormatter\"},{\"attributes\":{\"plot\":null,\"text\":\"\"},\"id\":\"861ddf10-2cb5-41e5-b0ae-1361cfd7ae0d\",\"type\":\"Title\"},{\"attributes\":{\"data_source\":{\"id\":\"ab4faba6-1a7e-494e-b4e4-e9d2b0fcdbfc\",\"type\":\"ColumnDataSource\"},\"glyph\":{\"id\":\"a5af36ed-d72e-4848-9eb8-1e54f249defb\",\"type\":\"Line\"},\"hover_glyph\":null,\"muted_glyph\":null,\"nonselection_glyph\":{\"id\":\"e79afe95-dea1-446c-a789-4fdafc795194\",\"type\":\"Line\"},\"selection_glyph\":null},\"id\":\"4709e9e8-a84b-4db3-b480-7e8ef55a1c13\",\"type\":\"GlyphRenderer\"},{\"attributes\":{\"callback\":null},\"id\":\"ef145bb1-cffa-4b98-b12d-d9d2e6d6edd0\",\"type\":\"DataRange1d\"},{\"attributes\":{},\"id\":\"fade9988-5e81-48d3-8378-a451dd72208e\",\"type\":\"LinearScale\"},{\"attributes\":{\"active_drag\":\"auto\",\"active_inspect\":\"auto\",\"active_scroll\":\"auto\",\"active_tap\":\"auto\",\"tools\":[{\"id\":\"ff1a4370-6234-4b05-8de8-932ac1470d17\",\"type\":\"HoverTool\"}]},\"id\":\"ad75713d-271b-4301-8e61-6f95d9809ae0\",\"type\":\"Toolbar\"},{\"attributes\":{\"fill_color\":{\"value\":\"#E43216\"},\"height\":{\"value\":0.3},\"left\":{\"value\":-0.388560157790927},\"line_color\":{\"value\":\"#E43216\"},\"right\":{\"value\":-0.3865877712031558},\"y\":{\"value\":1}},\"id\":\"5c2f3621-090c-4010-b0ad-0d322d70b929\",\"type\":\"HBar\"},{\"attributes\":{\"fill_color\":{\"value\":\"#E43216\"},\"height\":{\"value\":0.3},\"left\":{\"value\":-0.4871541501976285},\"line_color\":{\"value\":\"#E43216\"},\"right\":{\"value\":-0.47529644268774707},\"y\":{\"value\":1}},\"id\":\"40eb7566-1693-4831-a461-c79bbbef490d\",\"type\":\"HBar\"},{\"attributes\":{\"line_alpha\":{\"value\":0.1},\"line_color\":{\"value\":\"#1f77b4\"},\"line_dash\":[6],\"line_width\":{\"value\":2},\"x\":{\"field\":\"x\"},\"y\":{\"field\":\"y\"}},\"id\":\"f3795074-27c6-42d1-8b3d-ee8ebfbb29f0\",\"type\":\"Line\"},{\"attributes\":{},\"id\":\"0ba07d60-8b9b-43ad-a6b5-03c819ce084c\",\"type\":\"BasicTicker\"},{\"attributes\":{\"callback\":null,\"end\":2},\"id\":\"6169e689-6441-48a7-996d-1685e8930ea0\",\"type\":\"Range1d\"},{\"attributes\":{\"plot\":{\"id\":\"142d95c8-cd5a-43f3-8297-779901846abd\",\"subtype\":\"Figure\",\"type\":\"Plot\"}},\"id\":\"1a5c15ac-34ae-44d7-94ff-2b866fe126e9\",\"type\":\"PanTool\"},{\"attributes\":{\"above\":[{\"id\":\"b2fc4e95-51d4-4ed1-b23d-8749a190f7ec\",\"type\":\"Title\"}],\"below\":[{\"id\":\"fe431ef6-d175-4eab-97de-86a4f9e751b1\",\"type\":\"LinearAxis\"}],\"left\":[{\"id\":\"a04e55bd-d03e-4671-9cf2-eb17f08c4717\",\"type\":\"LinearAxis\"}],\"plot_height\":300,\"plot_width\":400,\"renderers\":[{\"id\":\"fe431ef6-d175-4eab-97de-86a4f9e751b1\",\"type\":\"LinearAxis\"},{\"id\":\"66f3a216-0c17-4c66-a470-5c4b7af68805\",\"type\":\"Grid\"},{\"id\":\"a04e55bd-d03e-4671-9cf2-eb17f08c4717\",\"type\":\"LinearAxis\"},{\"id\":\"432f1b31-ee2d-4940-bb6e-9b7d89709d7d\",\"type\":\"Grid\"},{\"id\":\"b2fc4e95-51d4-4ed1-b23d-8749a190f7ec\",\"type\":\"Title\"},{\"id\":\"18e8ff30-471d-4933-a927-c768d78405c8\",\"type\":\"GlyphRenderer\"}],\"title\":{\"id\":\"d0f15e44-10db-4150-9f72-df38e27145f8\",\"type\":\"Title\"},\"tool_events\":{\"id\":\"f097d311-796f-4136-b0c4-24ac25ca7b0e\",\"type\":\"ToolEvents\"},\"toolbar\":{\"id\":\"ad75713d-271b-4301-8e61-6f95d9809ae0\",\"type\":\"Toolbar\"},\"x_range\":{\"id\":\"dd11fb61-3c66-4e8e-9b09-39dbb40ff8c8\",\"type\":\"DataRange1d\"},\"x_scale\":{\"id\":\"967ff92d-1b3d-4404-8515-03d1b2f2a710\",\"type\":\"LinearScale\"},\"y_range\":{\"id\":\"ef145bb1-cffa-4b98-b12d-d9d2e6d6edd0\",\"type\":\"DataRange1d\"},\"y_scale\":{\"id\":\"0d97d4d1-7b78-460f-8d69-dd88d0c3ffa7\",\"type\":\"LinearScale\"}},\"id\":\"9b1d137f-cc07-4fe3-a858-c29d9e0ebd50\",\"subtype\":\"Figure\",\"type\":\"Plot\"},{\"attributes\":{\"fill_alpha\":{\"value\":0.1},\"fill_color\":{\"value\":\"#1f77b4\"},\"height\":{\"value\":0.3},\"left\":{\"value\":0.41913214990138065},\"line_alpha\":{\"value\":0.1},\"line_color\":{\"value\":\"#1f77b4\"},\"right\":{\"value\":0.5641025641025641},\"y\":{\"value\":1}},\"id\":\"e8f21d52-1d17-4d1a-97a9-3a413a54d731\",\"type\":\"HBar\"}],\"root_ids\":[\"e3978749-ea65-42b8-91bd-29098d3bfea8\"]},\"title\":\"Bokeh Application\",\"version\":\"0.12.6\"}};\n",
       "            var render_items = [{\"docid\":\"f7a5e5e9-f89b-4e90-9753-a1a625a6a660\",\"elementid\":\"99e89554-f60f-435f-a2d8-6897ece3b33a\",\"modelid\":\"e3978749-ea65-42b8-91bd-29098d3bfea8\"}];\n",
       "            \n",
       "            Bokeh.embed.embed_items(docs_json, render_items);\n",
       "          };\n",
       "          if (document.readyState != \"loading\") fn();\n",
       "          else document.addEventListener(\"DOMContentLoaded\", fn);\n",
       "        })();\n",
       "      },\n",
       "      function(Bokeh) {\n",
       "      }\n",
       "    ];\n",
       "  \n",
       "    function run_inline_js() {\n",
       "      \n",
       "      if ((window.Bokeh !== undefined) || (force === true)) {\n",
       "        for (var i = 0; i < inline_js.length; i++) {\n",
       "          inline_js[i](window.Bokeh);\n",
       "        }if (force === true) {\n",
       "          display_loaded();\n",
       "        }} else if (Date.now() < window._bokeh_timeout) {\n",
       "        setTimeout(run_inline_js, 100);\n",
       "      } else if (!window._bokeh_failed_load) {\n",
       "        console.log(\"Bokeh: BokehJS failed to load within specified timeout.\");\n",
       "        window._bokeh_failed_load = true;\n",
       "      } else if (force !== true) {\n",
       "        var cell = $(document.getElementById(\"99e89554-f60f-435f-a2d8-6897ece3b33a\")).parents('.cell').data().cell;\n",
       "        cell.output_area.append_execute_result(NB_LOAD_WARNING)\n",
       "      }\n",
       "  \n",
       "    }\n",
       "  \n",
       "    if (window._bokeh_is_loading === 0) {\n",
       "      console.log(\"Bokeh: BokehJS loaded, going straight to plotting\");\n",
       "      run_inline_js();\n",
       "    } else {\n",
       "      load_libs(js_urls, function() {\n",
       "        console.log(\"Bokeh: BokehJS plotting callback run at\", now());\n",
       "        run_inline_js();\n",
       "      });\n",
       "    }\n",
       "  }(this));\n",
       "</script>"
      ]
     },
     "metadata": {},
     "output_type": "display_data"
    }
   ],
   "source": [
    "#Using plotting functions\n",
    "time_threshold_pick_up_plot = plot_horizontal_time_thresholds(threshold_pick_up, 400, 300, 'pct', 'colors', \n",
    "                                                 \"Rush/delays within time thresholds pick up\")\n",
    "within_thresholds_pick_up_plot = plot_total_pct_thresholds(within_thresh_pick_up, 400, 300, \"index\", \"pct\", \"colors\", \n",
    "                                              \"Total percentage within thresholds pick up\")\n",
    "time_threshold_drop_off_plot = plot_horizontal_time_thresholds(threshold_drop_off, 400, 300, 'pct', 'colors', \n",
    "                                                 \"Rush/delays within time thresholds drop off\")\n",
    "time_threshold_drop_off_plot.x_range = time_threshold_pick_up_plot.x_range\n",
    "within_thresholds_drop_off_plot = plot_total_pct_thresholds(within_thresh_drop_off, 400, 300, \"index\", \"pct\", \"colors\", \n",
    "                                              \"Total percentage within thresholds drop off\")\n",
    "threshold_pick_up_plots = row(time_threshold_pick_up_plot, within_thresholds_pick_up_plot)\n",
    "threshold_drop_off_plots = row(time_threshold_drop_off_plot, within_thresholds_drop_off_plot)\n",
    "\n",
    "show(column(Div(text=\"<h1 style='margin-left:200px;margin-right:-400px;margin-bottom:18px;font-size:20px;\\\n",
    "                color:#7D7575'> Time thresholds for pick ups / drop offs </h1>\"),\n",
    "            column(threshold_pick_up_plots, threshold_drop_off_plots)))\n"
   ]
  },
  {
   "cell_type": "markdown",
   "metadata": {},
   "source": [
    "As observed in the previous plots, most of the ally shuttle pick ups and drop off occur within the 3 minute threshold. Note, still, that there is 20.5% pick ups that occur in the \"yellow\" area. From this, there approximately 14.5% happen because the pick up is delayed. This gives the company wiggle room to improve on. \n",
    "\n",
    "However, all in all, given the last update, the company seems to be doing well and mostly in the 3 minute zone. \n",
    "\n",
    "Note, however, that our analysis so far has been restricted to the last update of expected time shown to the user. There are reasons to believe that the closer the update to the actual pick up or drop off time, chances are that the differences between expected and actual time will not be significant. \n",
    "\n",
    "In what follows we will perform a more stringent analysis. We will determine what is the actual difference between first expected time shown to the user when he/she first booked a ride and the actual time ally shuttle showed up. There are important reasons to believe that customer experience changes when from the start they are given reliable waiting times. If the expected time changes drastically each update, this can affect service quality."
   ]
  },
  {
   "cell_type": "markdown",
   "metadata": {},
   "source": [
    "### First expected time vs. actual time \n",
    "\n",
    "In what follows we will perform the analysis of expected time when booking vs. actual time. This differences will show us how good is ally shuttle at keeping the first expected time it promises to the customers. The better these first expected times are calculated, the better the service will be. Also, from the operations point, it would lead to better scheduling and planning. "
   ]
  },
  {
   "cell_type": "code",
   "execution_count": 245,
   "metadata": {},
   "outputs": [],
   "source": [
    "first_pick_up = pick_drop.sort_values(by=[\"datetime_utc_berlin\", \"type\"], \n",
    "                                           ascending=[True, False]).groupby('booking_id').agg(lambda x: x.iloc[0]).reset_index()\n",
    "first_drop = pick_drop.sort_values(by=[ \"type\", \"datetime_utc_berlin\"], \n",
    "                                           ascending=[True, True]).groupby('booking_id').agg(lambda x: x.iloc[0]).reset_index()"
   ]
  },
  {
   "cell_type": "code",
   "execution_count": 246,
   "metadata": {},
   "outputs": [],
   "source": [
    "first_pick_up_drop_long = pd.concat([first_pick_up, first_drop], ignore_index=True)"
   ]
  },
  {
   "cell_type": "code",
   "execution_count": 247,
   "metadata": {},
   "outputs": [],
   "source": [
    "est_act_time_first = pd.merge(first_pick_up_drop_long, exp_act_time[['actual_time_utc_berlin', 'estimated_time_utc_berlin', 'type', 'status', 'booking_id']], \n",
    "        on=[\"type\", \"booking_id\"], suffixes=[\"_first\", \"_actual\"])"
   ]
  },
  {
   "cell_type": "markdown",
   "metadata": {},
   "source": [
    "### Differences between first estimated time and last estimated time\n",
    "\n",
    "Before looking at the difference between first estimated time and aactual time of the service, it is important to see if there are actually differences between the estimated times shown to the user. This will gives us an indication of how stable these estimated times actually are and what are the magnitude of their variation."
   ]
  },
  {
   "cell_type": "code",
   "execution_count": 248,
   "metadata": {},
   "outputs": [],
   "source": [
    "est_act_time_first.loc[:,\"time_diff_first_last_est\"] = est_act_time_first.apply(diff, t1='estimated_time_utc_berlin_actual', t2='estimated_time_utc_berlin_first', axis=1)\n",
    "est_act_time_first[\"time_diff_first_last_est_min\"] = est_act_time_first[\"time_diff_first_last_est\"] / 60.0"
   ]
  },
  {
   "cell_type": "code",
   "execution_count": 249,
   "metadata": {},
   "outputs": [
    {
     "name": "stdout",
     "output_type": "stream",
     "text": [
      "Total difference (hours): 21.273\n",
      "Average (seconds): 37.800\n",
      "Standard deviation (seconds): 188.112\n"
     ]
    }
   ],
   "source": [
    "print_stats(est_act_time_first,\"time_diff_first_last_est\")"
   ]
  },
  {
   "cell_type": "code",
   "execution_count": 250,
   "metadata": {},
   "outputs": [
    {
     "data": {
      "image/png": "[encoded data removed]",
      "text/plain": [
       "<matplotlib.figure.Figure at 0x10c7be7f0>"
      ]
     },
     "metadata": {},
     "output_type": "display_data"
    }
   ],
   "source": [
    "#Plotting distribution of firs expected vs. last expected\n",
    "fig, ax = plt.subplots(figsize=(10,5))\n",
    "sns.distplot(est_act_time_first[\"time_diff_first_last_est_min\"], kde=False, ax=ax)\n",
    "ax.set_xlabel(\"Time difference\")\n",
    "ax.set_ylabel(\"Counts minutes\")\n",
    "ax.set_title(\"Distribution of difference \\n First and Last Expected time (minutes)\")\n",
    "ax.axvline(0, color=\"#44999E\", linestyle='--');"
   ]
  },
  {
   "cell_type": "markdown",
   "metadata": {},
   "source": [
    "The distribution plotted above shows that most of the distribution falls in the zero region. This means that, while there are differences due to updates in expected times, in general, there is a good quantity where there are no differences (meaning no updates) between first shown expected time and last expected time. In approximately 55% of the cases there is no difference between these two times. For the rest of the cases, we can see that cases above and below follow closely the same distribution. The only differences is that cases where the differences between these two times are positive (i.e., last expected time later than first expected time) shows more extreme values (maximum value 41 minutes difference)."
   ]
  },
  {
   "cell_type": "markdown",
   "metadata": {},
   "source": [
    "### Diferences between first estimated time and actual time of service"
   ]
  },
  {
   "cell_type": "code",
   "execution_count": 251,
   "metadata": {
    "collapsed": true
   },
   "outputs": [],
   "source": [
    "est_act_time_first.loc[:,\"time_diff_first_est_act\"] = est_act_time_first.apply(diff, t1='actual_time_utc_berlin_actual', t2='estimated_time_utc_berlin_first', axis=1)\n",
    "est_act_time_first[\"time_diff_first_est_act_min\"] = est_act_time_first[\"time_diff_first_est_act\"] / 60.0\n"
   ]
  },
  {
   "cell_type": "code",
   "execution_count": 252,
   "metadata": {},
   "outputs": [
    {
     "name": "stdout",
     "output_type": "stream",
     "text": [
      "Differences between Actual time and Last Expected Time\n",
      "Total difference (hours): 31.382\n",
      "Average (seconds): 55.762\n",
      "Standard deviation (seconds): 254.066\n",
      "============================================================\n",
      "Differences between Actual time and First Expected Time\n",
      "Total difference (hours): 52.655\n",
      "Average (seconds): 93.562\n",
      "Standard deviation (seconds): 323.879\n"
     ]
    }
   ],
   "source": [
    "print(\"Differences between Actual time and Last Expected Time\")\n",
    "print_stats(exp_act_time,\"time_diff\")\n",
    "print(\"=\"*60)\n",
    "print(\"Differences between Actual time and First Expected Time\")\n",
    "print_stats(est_act_time_first,\"time_diff_first_est_act\")"
   ]
  },
  {
   "cell_type": "markdown",
   "metadata": {},
   "source": [
    "For the sake of comparison, we have printed above the statistics of our previous analysis where we only compared last expected time vs. actual time. As it is possible to see, when taking the first expected time the user sees, the differences become larger. We can see almost a 20 hour difference between the total time. Also, the average increases approximately in 67% and the standard deviation also becomes wider.\n",
    "\n",
    "In order to get a better picture of these results, we will plot the distribution of the differences."
   ]
  },
  {
   "cell_type": "code",
   "execution_count": 253,
   "metadata": {},
   "outputs": [
    {
     "data": {
      "image/png": "[encoded data removed]",
      "text/plain": [
       "<matplotlib.figure.Figure at 0x11179d320>"
      ]
     },
     "metadata": {},
     "output_type": "display_data"
    }
   ],
   "source": [
    "#Plotting distribution of firs expected vs. last expected\n",
    "fig, ax = plt.subplots(figsize=(10,5))\n",
    "sns.distplot(est_act_time_first[\"time_diff_first_est_act_min\"], kde=False, ax=ax)\n",
    "ax.set_xlabel(\"Time difference\")\n",
    "ax.set_ylabel(\"Counts minutes\")\n",
    "ax.set_title(\"Distribution of difference \\n First and Actual time (minutes)\")\n",
    "ax.axvline(0, color=\"#44999E\", linestyle='--');"
   ]
  },
  {
   "cell_type": "markdown",
   "metadata": {},
   "source": [
    "In comparison to the last expected time, when considering the differences between first expected time and actual time we can see that the distribution gets wider. In particular, there is more density in values over the 10 minutes mark as before. "
   ]
  },
  {
   "cell_type": "code",
   "execution_count": 254,
   "metadata": {},
   "outputs": [],
   "source": [
    "threshold_est_act_time_first =  get_thresholds_groups(est_act_time_first, \"time_diff_first_est_act_min\")\n",
    "within_threshold_est_act_time_first  = get_region_threshold_groups(threshold_est_act_time_first, \"colors\")"
   ]
  },
  {
   "cell_type": "code",
   "execution_count": 255,
   "metadata": {},
   "outputs": [
    {
     "data": {
      "text/html": [
       "\n",
       "\n",
       "    <div class=\"bk-root\">\n",
       "        <div class=\"bk-plotdiv\" id=\"8dd7a856-4221-4fcb-81d2-1dca8462127e\"></div>\n",
       "    </div>\n",
       "<script type=\"text/javascript\">\n",
       "  \n",
       "  (function(global) {\n",
       "    function now() {\n",
       "      return new Date();\n",
       "    }\n",
       "  \n",
       "    var force = false;\n",
       "  \n",
       "    if (typeof (window._bokeh_onload_callbacks) === \"undefined\" || force === true) {\n",
       "      window._bokeh_onload_callbacks = [];\n",
       "      window._bokeh_is_loading = undefined;\n",
       "    }\n",
       "  \n",
       "  \n",
       "    \n",
       "    if (typeof (window._bokeh_timeout) === \"undefined\" || force === true) {\n",
       "      window._bokeh_timeout = Date.now() + 0;\n",
       "      window._bokeh_failed_load = false;\n",
       "    }\n",
       "  \n",
       "    var NB_LOAD_WARNING = {'data': {'text/html':\n",
       "       \"<div style='background-color: #fdd'>\\n\"+\n",
       "       \"<p>\\n\"+\n",
       "       \"BokehJS does not appear to have successfully loaded. If loading BokehJS from CDN, this \\n\"+\n",
       "       \"may be due to a slow or bad network connection. Possible fixes:\\n\"+\n",
       "       \"</p>\\n\"+\n",
       "       \"<ul>\\n\"+\n",
       "       \"<li>re-rerun `output_notebook()` to attempt to load from CDN again, or</li>\\n\"+\n",
       "       \"<li>use INLINE resources instead, as so:</li>\\n\"+\n",
       "       \"</ul>\\n\"+\n",
       "       \"<code>\\n\"+\n",
       "       \"from bokeh.resources import INLINE\\n\"+\n",
       "       \"output_notebook(resources=INLINE)\\n\"+\n",
       "       \"</code>\\n\"+\n",
       "       \"</div>\"}};\n",
       "  \n",
       "    function display_loaded() {\n",
       "      if (window.Bokeh !== undefined) {\n",
       "        var el = document.getElementById(\"8dd7a856-4221-4fcb-81d2-1dca8462127e\");\n",
       "        el.textContent = \"BokehJS \" + Bokeh.version + \" successfully loaded.\";\n",
       "      } else if (Date.now() < window._bokeh_timeout) {\n",
       "        setTimeout(display_loaded, 100)\n",
       "      }\n",
       "    }\n",
       "  \n",
       "    function run_callbacks() {\n",
       "      try {\n",
       "        window._bokeh_onload_callbacks.forEach(function(callback) { callback() });\n",
       "      }\n",
       "      finally {\n",
       "        delete window._bokeh_onload_callbacks\n",
       "      }\n",
       "      console.info(\"Bokeh: all callbacks have finished\");\n",
       "    }\n",
       "  \n",
       "    function load_libs(js_urls, callback) {\n",
       "      window._bokeh_onload_callbacks.push(callback);\n",
       "      if (window._bokeh_is_loading > 0) {\n",
       "        console.log(\"Bokeh: BokehJS is being loaded, scheduling callback at\", now());\n",
       "        return null;\n",
       "      }\n",
       "      if (js_urls == null || js_urls.length === 0) {\n",
       "        run_callbacks();\n",
       "        return null;\n",
       "      }\n",
       "      console.log(\"Bokeh: BokehJS not loaded, scheduling load and callback at\", now());\n",
       "      window._bokeh_is_loading = js_urls.length;\n",
       "      for (var i = 0; i < js_urls.length; i++) {\n",
       "        var url = js_urls[i];\n",
       "        var s = document.createElement('script');\n",
       "        s.src = url;\n",
       "        s.async = false;\n",
       "        s.onreadystatechange = s.onload = function() {\n",
       "          window._bokeh_is_loading--;\n",
       "          if (window._bokeh_is_loading === 0) {\n",
       "            console.log(\"Bokeh: all BokehJS libraries loaded\");\n",
       "            run_callbacks()\n",
       "          }\n",
       "        };\n",
       "        s.onerror = function() {\n",
       "          console.warn(\"failed to load library \" + url);\n",
       "        };\n",
       "        console.log(\"Bokeh: injecting script tag for BokehJS library: \", url);\n",
       "        document.getElementsByTagName(\"head\")[0].appendChild(s);\n",
       "      }\n",
       "    };var element = document.getElementById(\"8dd7a856-4221-4fcb-81d2-1dca8462127e\");\n",
       "    if (element == null) {\n",
       "      console.log(\"Bokeh: ERROR: autoload.js configured with elementid '8dd7a856-4221-4fcb-81d2-1dca8462127e' but no matching script tag was found. \")\n",
       "      return false;\n",
       "    }\n",
       "  \n",
       "    var js_urls = [];\n",
       "  \n",
       "    var inline_js = [\n",
       "      function(Bokeh) {\n",
       "        (function() {\n",
       "          var fn = function() {\n",
       "            var docs_json = {\"29f121e3-9fd1-40ed-be69-54b42d90a2e6\":{\"roots\":{\"references\":[{\"attributes\":{\"fill_alpha\":{\"value\":0.1},\"fill_color\":{\"value\":\"#1f77b4\"},\"line_alpha\":{\"value\":0.1},\"line_color\":{\"value\":\"#1f77b4\"},\"top\":{\"field\":\"pct\"},\"width\":{\"value\":0.6},\"x\":{\"field\":\"index\"}},\"id\":\"daf5d70c-f5b0-412d-ba48-1ec78d54d296\",\"type\":\"VBar\"},{\"attributes\":{\"above\":[{\"id\":\"bb928828-15d3-4c48-bbf9-004a0ab565dd\",\"type\":\"Title\"}],\"below\":[{\"id\":\"ca757946-c2de-4632-8cc8-1c8b4552a28d\",\"type\":\"LinearAxis\"}],\"left\":[{\"id\":\"7fcc7b28-2ede-4c77-88ac-64761c31ac6e\",\"type\":\"LinearAxis\"}],\"plot_height\":400,\"plot_width\":400,\"renderers\":[{\"id\":\"ca757946-c2de-4632-8cc8-1c8b4552a28d\",\"type\":\"LinearAxis\"},{\"id\":\"724cf7ea-80bc-4929-90af-9159b011832e\",\"type\":\"Grid\"},{\"id\":\"7fcc7b28-2ede-4c77-88ac-64761c31ac6e\",\"type\":\"LinearAxis\"},{\"id\":\"81666c2a-4b97-4209-96d3-d7b2c9c4d755\",\"type\":\"Grid\"},{\"id\":\"bb928828-15d3-4c48-bbf9-004a0ab565dd\",\"type\":\"Title\"},{\"id\":\"7b3d10ff-395c-4167-bbff-13a75f8b12f2\",\"type\":\"GlyphRenderer\"}],\"title\":{\"id\":\"4f0d532e-423e-4581-b4a0-3229cdcd4b33\",\"type\":\"Title\"},\"tool_events\":{\"id\":\"73adbf69-2ce8-4e3e-aafb-224d6c216d33\",\"type\":\"ToolEvents\"},\"toolbar\":{\"id\":\"67c59150-bee5-414b-b8f0-4be5251a0aca\",\"type\":\"Toolbar\"},\"x_range\":{\"id\":\"da32160a-8fce-47a5-a83f-986ea0b0286c\",\"type\":\"DataRange1d\"},\"x_scale\":{\"id\":\"178812e5-4627-44d3-ac2b-5d8d9d8c4622\",\"type\":\"LinearScale\"},\"y_range\":{\"id\":\"9529f134-8ffb-4d5d-a1a7-d3f5a31fdd91\",\"type\":\"DataRange1d\"},\"y_scale\":{\"id\":\"4f0da35e-cf03-4d57-983c-77a113cd5789\",\"type\":\"LinearScale\"}},\"id\":\"a58fa963-2664-4613-a4d5-ea6cdb587bc3\",\"subtype\":\"Figure\",\"type\":\"Plot\"},{\"attributes\":{\"formatter\":{\"id\":\"c772e7c4-c579-41ad-a94c-c0391f179c82\",\"type\":\"BasicTickFormatter\"},\"plot\":{\"id\":\"a58fa963-2664-4613-a4d5-ea6cdb587bc3\",\"subtype\":\"Figure\",\"type\":\"Plot\"},\"ticker\":{\"id\":\"bd0f4a87-843b-4ac7-b8a3-28a3b08da8aa\",\"type\":\"BasicTicker\"}},\"id\":\"7fcc7b28-2ede-4c77-88ac-64761c31ac6e\",\"type\":\"LinearAxis\"},{\"attributes\":{\"fill_alpha\":{\"value\":0.1},\"fill_color\":{\"value\":\"#1f77b4\"},\"height\":{\"value\":0.3},\"left\":{\"value\":-0.3020730503455084},\"line_alpha\":{\"value\":0.1},\"line_color\":{\"value\":\"#1f77b4\"},\"right\":{\"value\":0},\"y\":{\"value\":1}},\"id\":\"c963c5ff-9f8e-4b65-9825-de0a5e96c63a\",\"type\":\"HBar\"},{\"attributes\":{},\"id\":\"2cbd339e-35de-48d0-a76b-eb597a19e59d\",\"type\":\"BasicTickFormatter\"},{\"attributes\":{\"data_source\":{\"id\":\"2ede5350-c070-42c3-ad41-ea2daab91039\",\"type\":\"ColumnDataSource\"},\"glyph\":{\"id\":\"8cfead8c-37d3-469d-9944-fc8dcadcb6d6\",\"type\":\"HBar\"},\"hover_glyph\":null,\"muted_glyph\":null,\"nonselection_glyph\":{\"id\":\"4e8cbce8-2767-4e20-b1c9-71250b786ad9\",\"type\":\"HBar\"},\"selection_glyph\":null},\"id\":\"e0dfb359-9c6b-4b57-a814-a028d29a76f8\",\"type\":\"GlyphRenderer\"},{\"attributes\":{\"line_color\":{\"value\":\"#AAB2A5\"},\"line_dash\":[6],\"line_width\":{\"value\":2},\"x\":{\"field\":\"x\"},\"y\":{\"field\":\"y\"}},\"id\":\"1ddd0ce6-02d7-44c3-b1ae-d7cd1b9dedd9\",\"type\":\"Line\"},{\"attributes\":{\"dimension\":1,\"plot\":{\"id\":\"a58fa963-2664-4613-a4d5-ea6cdb587bc3\",\"subtype\":\"Figure\",\"type\":\"Plot\"},\"ticker\":{\"id\":\"bd0f4a87-843b-4ac7-b8a3-28a3b08da8aa\",\"type\":\"BasicTicker\"}},\"id\":\"81666c2a-4b97-4209-96d3-d7b2c9c4d755\",\"type\":\"Grid\"},{\"attributes\":{\"callback\":null,\"data\":{}},\"id\":\"e1335c87-8897-4915-945f-d11b4f734ed3\",\"type\":\"ColumnDataSource\"},{\"attributes\":{\"formatter\":{\"id\":\"9b654424-22bd-4ffe-97e7-292066145639\",\"type\":\"BasicTickFormatter\"},\"plot\":{\"id\":\"2e22af69-2786-4634-8e41-9b5a0d5967df\",\"subtype\":\"Figure\",\"type\":\"Plot\"},\"ticker\":{\"id\":\"3ca7790f-660a-4490-8a1c-b318266eebe3\",\"type\":\"BasicTicker\"}},\"id\":\"0ac9e7a0-5cc0-4bd6-b062-c691e252a56a\",\"type\":\"LinearAxis\"},{\"attributes\":{\"data_source\":{\"id\":\"d71f4ca0-ac3c-467d-8067-e8364f7aeee7\",\"type\":\"ColumnDataSource\"},\"glyph\":{\"id\":\"e7e766af-9624-47cf-bdd0-c149896c0e63\",\"type\":\"HBar\"},\"hover_glyph\":null,\"muted_glyph\":null,\"nonselection_glyph\":{\"id\":\"4b195a25-18a6-4313-8b4e-3f289fe0ab97\",\"type\":\"HBar\"},\"selection_glyph\":null},\"id\":\"28a8c5a8-0d8e-4423-b03d-ae1c7c09b3e0\",\"type\":\"GlyphRenderer\"},{\"attributes\":{\"plot\":{\"id\":\"2e22af69-2786-4634-8e41-9b5a0d5967df\",\"subtype\":\"Figure\",\"type\":\"Plot\"}},\"id\":\"ae27a2db-ea10-40c8-a5a5-c75ab32d8146\",\"type\":\"HelpTool\"},{\"attributes\":{\"active_drag\":\"auto\",\"active_inspect\":\"auto\",\"active_scroll\":\"auto\",\"active_tap\":\"auto\",\"tools\":[{\"id\":\"1f78adf8-463e-4026-b1c6-9d7a1a50060d\",\"type\":\"PanTool\"},{\"id\":\"089b2c8a-5cf3-455e-9809-af5d5d065e78\",\"type\":\"WheelZoomTool\"},{\"id\":\"45c58451-90ef-4db6-aaf0-2b3822ee52ac\",\"type\":\"BoxZoomTool\"},{\"id\":\"ee3cf8f7-196c-4ee4-999e-e34f8be059f6\",\"type\":\"SaveTool\"},{\"id\":\"4a1c9c01-19aa-496b-ada2-334a950bae96\",\"type\":\"ResetTool\"},{\"id\":\"ae27a2db-ea10-40c8-a5a5-c75ab32d8146\",\"type\":\"HelpTool\"}]},\"id\":\"b8022b6a-7de3-4ac3-8b92-c3d3c94a26af\",\"type\":\"Toolbar\"},{\"attributes\":{\"data_source\":{\"id\":\"da46d9a8-d959-41f6-96b3-8f5de34bdb70\",\"type\":\"ColumnDataSource\"},\"glyph\":{\"id\":\"73e83af5-a133-405d-b1d9-5ac8508016ae\",\"type\":\"Line\"},\"hover_glyph\":null,\"muted_glyph\":null,\"nonselection_glyph\":{\"id\":\"55d649a5-f521-402c-8d61-c73c8e4d4f36\",\"type\":\"Line\"},\"selection_glyph\":null},\"id\":\"6b0b0227-1075-428b-9267-a97686bb9b78\",\"type\":\"GlyphRenderer\"},{\"attributes\":{},\"id\":\"f60c1ce5-5acb-4956-9621-3873b8e701c8\",\"type\":\"LinearScale\"},{\"attributes\":{\"line_color\":{\"value\":\"#AAB2A5\"},\"line_dash\":[6],\"line_width\":{\"value\":2},\"x\":{\"field\":\"x\"},\"y\":{\"field\":\"y\"}},\"id\":\"5de450b8-7546-4f04-9be7-20b53c3539fb\",\"type\":\"Line\"},{\"attributes\":{\"callback\":null,\"column_names\":[\"index\",\"pct\",\"colors\",\"thresholds\"],\"data\":{\"colors\":[\"#459E0F\",\"#E4E02C\",\"#E43216\"],\"index\":[0,1,2],\"pct\":{\"__ndarray__\":\"8D8XlB4L5D88iklJpvbQP5DXHzpyzLs/\",\"dtype\":\"float64\",\"shape\":[3]},\"thresholds\":[\"green\",\"yellow\",\"red\"]}},\"id\":\"48991dc1-88bd-4120-950c-efa7849eb7b3\",\"type\":\"ColumnDataSource\"},{\"attributes\":{\"data_source\":{\"id\":\"1e7a7ecc-9758-4181-9d57-f680b144975d\",\"type\":\"ColumnDataSource\"},\"glyph\":{\"id\":\"4a1012c3-8021-4a6a-9bc2-69b2e059d81e\",\"type\":\"HBar\"},\"hover_glyph\":null,\"muted_glyph\":null,\"nonselection_glyph\":{\"id\":\"33a7e2da-4452-47cd-9532-ae74d7072a0a\",\"type\":\"HBar\"},\"selection_glyph\":null},\"id\":\"5ff690e8-4c2f-436f-bc3c-5a827314319b\",\"type\":\"GlyphRenderer\"},{\"attributes\":{\"line_color\":{\"value\":\"#AAB2A5\"},\"line_dash\":[6],\"line_width\":{\"value\":2},\"x\":{\"field\":\"x\"},\"y\":{\"field\":\"y\"}},\"id\":\"0445dd68-dac0-442b-a936-e06f3c1534a7\",\"type\":\"Line\"},{\"attributes\":{\"plot\":{\"id\":\"2e22af69-2786-4634-8e41-9b5a0d5967df\",\"subtype\":\"Figure\",\"type\":\"Plot\"}},\"id\":\"4a1c9c01-19aa-496b-ada2-334a950bae96\",\"type\":\"ResetTool\"},{\"attributes\":{\"plot\":{\"id\":\"a58fa963-2664-4613-a4d5-ea6cdb587bc3\",\"subtype\":\"Figure\",\"type\":\"Plot\"},\"ticker\":{\"id\":\"00cb3ea3-fc07-4b2c-84e5-33f015e86157\",\"type\":\"BasicTicker\"}},\"id\":\"724cf7ea-80bc-4929-90af-9159b011832e\",\"type\":\"Grid\"},{\"attributes\":{\"above\":[{\"id\":\"ec6096e0-052e-4e15-95f6-f0a42461a066\",\"type\":\"Title\"}],\"below\":[{\"id\":\"0ac9e7a0-5cc0-4bd6-b062-c691e252a56a\",\"type\":\"LinearAxis\"}],\"left\":[{\"id\":\"3fc19122-6971-4025-bc80-d42c2b1a1a42\",\"type\":\"LinearAxis\"}],\"plot_height\":400,\"plot_width\":400,\"renderers\":[{\"id\":\"0ac9e7a0-5cc0-4bd6-b062-c691e252a56a\",\"type\":\"LinearAxis\"},{\"id\":\"e6d9d518-8828-491e-9138-bcfb8a1e08d4\",\"type\":\"Grid\"},{\"id\":\"3fc19122-6971-4025-bc80-d42c2b1a1a42\",\"type\":\"LinearAxis\"},{\"id\":\"ba831a6b-d4c0-4dbf-8115-19456c0f3a28\",\"type\":\"Grid\"},{\"id\":\"56512af7-d4d5-4ba1-8159-285d3473b902\",\"type\":\"BoxAnnotation\"},{\"id\":\"31a13885-3cea-4efb-adeb-bbbec5076546\",\"type\":\"GlyphRenderer\"},{\"id\":\"a308ec84-a2c7-41f9-9368-fd527f461bd3\",\"type\":\"GlyphRenderer\"},{\"id\":\"28a8c5a8-0d8e-4423-b03d-ae1c7c09b3e0\",\"type\":\"GlyphRenderer\"},{\"id\":\"5c87f51c-5f38-4f63-a5fa-4de155fc9323\",\"type\":\"GlyphRenderer\"},{\"id\":\"04566483-92d3-4729-bc00-946254b2b986\",\"type\":\"GlyphRenderer\"},{\"id\":\"b892698a-ef1d-4115-8f32-2d79facf9a62\",\"type\":\"GlyphRenderer\"},{\"id\":\"e0dfb359-9c6b-4b57-a814-a028d29a76f8\",\"type\":\"GlyphRenderer\"},{\"id\":\"6b0b0227-1075-428b-9267-a97686bb9b78\",\"type\":\"GlyphRenderer\"},{\"id\":\"b7cb6462-4a84-4bf9-8d37-8a5449b2d5b2\",\"type\":\"GlyphRenderer\"},{\"id\":\"bf3ab579-039c-4943-a2af-b4fc791d31e8\",\"type\":\"GlyphRenderer\"},{\"id\":\"5ff690e8-4c2f-436f-bc3c-5a827314319b\",\"type\":\"GlyphRenderer\"},{\"id\":\"c7dcd39a-7dec-47ff-b8da-8693aa3105bf\",\"type\":\"GlyphRenderer\"},{\"id\":\"ec6096e0-052e-4e15-95f6-f0a42461a066\",\"type\":\"Title\"}],\"title\":{\"id\":\"85011a66-fb70-44e0-9946-04660bcb64c3\",\"type\":\"Title\"},\"tool_events\":{\"id\":\"1e9646e9-8073-42b3-8a56-d482dc4611e2\",\"type\":\"ToolEvents\"},\"toolbar\":{\"id\":\"b8022b6a-7de3-4ac3-8b92-c3d3c94a26af\",\"type\":\"Toolbar\"},\"x_range\":{\"id\":\"244ecff4-8ce6-4685-9662-1440fd4599bc\",\"type\":\"DataRange1d\"},\"x_scale\":{\"id\":\"31869164-8993-416f-bc04-1793c1eef9ec\",\"type\":\"LinearScale\"},\"y_range\":{\"id\":\"4b56e3b2-dc40-4d22-93d2-07577072a48a\",\"type\":\"Range1d\"},\"y_scale\":{\"id\":\"f60c1ce5-5acb-4956-9621-3873b8e701c8\",\"type\":\"LinearScale\"}},\"id\":\"2e22af69-2786-4634-8e41-9b5a0d5967df\",\"subtype\":\"Figure\",\"type\":\"Plot\"},{\"attributes\":{\"plot\":null,\"text\":\"\"},\"id\":\"85011a66-fb70-44e0-9946-04660bcb64c3\",\"type\":\"Title\"},{\"attributes\":{\"line_alpha\":{\"value\":0.1},\"line_color\":{\"value\":\"#1f77b4\"},\"line_dash\":[6],\"line_width\":{\"value\":2},\"x\":{\"field\":\"x\"},\"y\":{\"field\":\"y\"}},\"id\":\"b8c70310-a7a0-4e98-a0ae-2831a7bbf086\",\"type\":\"Line\"},{\"attributes\":{},\"id\":\"4f0da35e-cf03-4d57-983c-77a113cd5789\",\"type\":\"LinearScale\"},{\"attributes\":{},\"id\":\"9b654424-22bd-4ffe-97e7-292066145639\",\"type\":\"BasicTickFormatter\"},{\"attributes\":{\"callback\":null,\"column_names\":[\"x\",\"y\"],\"data\":{\"x\":[0.324284304047384,0.324284304047384],\"y\":[0.5,1.5]}},\"id\":\"1e558a33-6c6d-45e9-be6b-73a09339ed83\",\"type\":\"ColumnDataSource\"},{\"attributes\":{\"fill_alpha\":{\"value\":0.1},\"fill_color\":{\"value\":\"#1f77b4\"},\"height\":{\"value\":0.3},\"left\":{\"value\":0.324284304047384},\"line_alpha\":{\"value\":0.1},\"line_color\":{\"value\":\"#1f77b4\"},\"right\":{\"value\":0.491609081934847},\"y\":{\"value\":1}},\"id\":\"b81d49cd-1ed0-41a5-a5d9-2ddc7e6436fd\",\"type\":\"HBar\"},{\"attributes\":{},\"id\":\"3ca7790f-660a-4490-8a1c-b318266eebe3\",\"type\":\"BasicTicker\"},{\"attributes\":{\"line_color\":{\"value\":\"#AAB2A5\"},\"line_dash\":[6],\"line_width\":{\"value\":2},\"x\":{\"field\":\"x\"},\"y\":{\"field\":\"y\"}},\"id\":\"6a7c27a9-47f5-44a3-aebc-ebe82094e110\",\"type\":\"Line\"},{\"attributes\":{\"callback\":null},\"id\":\"da32160a-8fce-47a5-a83f-986ea0b0286c\",\"type\":\"DataRange1d\"},{\"attributes\":{\"callback\":null,\"data\":{}},\"id\":\"2ede5350-c070-42c3-ad41-ea2daab91039\",\"type\":\"ColumnDataSource\"},{\"attributes\":{\"fill_alpha\":{\"value\":0.1},\"fill_color\":{\"value\":\"#1f77b4\"},\"height\":{\"value\":0.3},\"left\":{\"value\":-0.3998025666337611},\"line_alpha\":{\"value\":0.1},\"line_color\":{\"value\":\"#1f77b4\"},\"right\":{\"value\":-0.3020730503455084},\"y\":{\"value\":1}},\"id\":\"4b195a25-18a6-4313-8b4e-3f289fe0ab97\",\"type\":\"HBar\"},{\"attributes\":{\"callback\":null,\"data\":{}},\"id\":\"c8af71cf-0df4-437a-b728-247ed58dec62\",\"type\":\"ColumnDataSource\"},{\"attributes\":{\"fill_color\":{\"value\":\"#459E0F\"},\"height\":{\"value\":0.3},\"line_color\":{\"value\":\"#459E0F\"},\"right\":{\"value\":0.324284304047384},\"y\":{\"value\":1}},\"id\":\"8cfead8c-37d3-469d-9944-fc8dcadcb6d6\",\"type\":\"HBar\"},{\"attributes\":{\"fill_color\":{\"value\":\"#E4E02C\"},\"height\":{\"value\":0.3},\"left\":{\"value\":-0.3998025666337611},\"line_color\":{\"value\":\"#E4E02C\"},\"right\":{\"value\":-0.3020730503455084},\"y\":{\"value\":1}},\"id\":\"e7e766af-9624-47cf-bdd0-c149896c0e63\",\"type\":\"HBar\"},{\"attributes\":{\"fill_color\":{\"value\":\"#E43216\"},\"height\":{\"value\":0.3},\"left\":{\"value\":0.491609081934847},\"line_color\":{\"value\":\"#E43216\"},\"right\":{\"value\":0.587857847976308},\"y\":{\"value\":1}},\"id\":\"4a1012c3-8021-4a6a-9bc2-69b2e059d81e\",\"type\":\"HBar\"},{\"attributes\":{\"callback\":null,\"data\":{}},\"id\":\"1e7a7ecc-9758-4181-9d57-f680b144975d\",\"type\":\"ColumnDataSource\"},{\"attributes\":{\"bottom_units\":\"screen\",\"fill_alpha\":{\"value\":0.5},\"fill_color\":{\"value\":\"lightgrey\"},\"left_units\":\"screen\",\"level\":\"overlay\",\"line_alpha\":{\"value\":1.0},\"line_color\":{\"value\":\"black\"},\"line_dash\":[4,4],\"line_width\":{\"value\":2},\"plot\":null,\"render_mode\":\"css\",\"right_units\":\"screen\",\"top_units\":\"screen\"},\"id\":\"56512af7-d4d5-4ba1-8159-285d3473b902\",\"type\":\"BoxAnnotation\"},{\"attributes\":{\"line_color\":{\"value\":\"#AAB2A5\"},\"line_dash\":[6],\"line_width\":{\"value\":2},\"x\":{\"field\":\"x\"},\"y\":{\"field\":\"y\"}},\"id\":\"73e83af5-a133-405d-b1d9-5ac8508016ae\",\"type\":\"Line\"},{\"attributes\":{\"fill_color\":{\"value\":\"#459E0F\"},\"height\":{\"value\":0.3},\"left\":{\"value\":-0.3020730503455084},\"line_color\":{\"value\":\"#459E0F\"},\"right\":{\"value\":0},\"y\":{\"value\":1}},\"id\":\"ba471ea5-7e74-45d2-8479-b615c8b3b5ed\",\"type\":\"HBar\"},{\"attributes\":{\"fill_alpha\":{\"value\":0.1},\"fill_color\":{\"value\":\"#1f77b4\"},\"height\":{\"value\":0.3},\"left\":{\"value\":0.491609081934847},\"line_alpha\":{\"value\":0.1},\"line_color\":{\"value\":\"#1f77b4\"},\"right\":{\"value\":0.587857847976308},\"y\":{\"value\":1}},\"id\":\"33a7e2da-4452-47cd-9532-ae74d7072a0a\",\"type\":\"HBar\"},{\"attributes\":{\"callback\":null,\"column_names\":[\"x\",\"y\"],\"data\":{\"x\":[-0.3020730503455084,-0.3020730503455084],\"y\":[0.5,1.5]}},\"id\":\"4146dd8b-a287-41b1-aa07-392a6528a90b\",\"type\":\"ColumnDataSource\"},{\"attributes\":{\"fill_alpha\":{\"value\":0.1},\"fill_color\":{\"value\":\"#1f77b4\"},\"height\":{\"value\":0.3},\"line_alpha\":{\"value\":0.1},\"line_color\":{\"value\":\"#1f77b4\"},\"right\":{\"value\":0.324284304047384},\"y\":{\"value\":1}},\"id\":\"4e8cbce8-2767-4e20-b1c9-71250b786ad9\",\"type\":\"HBar\"},{\"attributes\":{\"line_color\":{\"value\":\"#AAB2A5\"},\"line_dash\":[6],\"line_width\":{\"value\":2},\"x\":{\"field\":\"x\"},\"y\":{\"field\":\"y\"}},\"id\":\"f516fa37-b754-4d12-a4c4-49115a0ca360\",\"type\":\"Line\"},{\"attributes\":{\"callback\":null,\"plot\":{\"id\":\"a58fa963-2664-4613-a4d5-ea6cdb587bc3\",\"subtype\":\"Figure\",\"type\":\"Plot\"},\"tooltips\":[[\"pct\",\"@pct{(0.00%)}\"]]},\"id\":\"52f18d43-52d2-4c69-9c62-732acd1306b8\",\"type\":\"HoverTool\"},{\"attributes\":{\"fill_color\":{\"value\":\"#E43216\"},\"height\":{\"value\":0.3},\"left\":{\"value\":-0.41214215202369203},\"line_color\":{\"value\":\"#E43216\"},\"right\":{\"value\":-0.3998025666337611},\"y\":{\"value\":1}},\"id\":\"bab75e0b-ce21-46d9-bd94-f67a718abb6e\",\"type\":\"HBar\"},{\"attributes\":{\"callback\":null,\"data\":{}},\"id\":\"cd0d3caa-ee0c-46bc-9a59-8a6dd94dcc71\",\"type\":\"ColumnDataSource\"},{\"attributes\":{\"plot\":null,\"text\":\"\"},\"id\":\"4f0d532e-423e-4581-b4a0-3229cdcd4b33\",\"type\":\"Title\"},{\"attributes\":{\"callback\":null,\"column_names\":[\"x\",\"y\"],\"data\":{\"x\":[0,0],\"y\":[0.5,1.5]}},\"id\":\"da46d9a8-d959-41f6-96b3-8f5de34bdb70\",\"type\":\"ColumnDataSource\"},{\"attributes\":{\"overlay\":{\"id\":\"56512af7-d4d5-4ba1-8159-285d3473b902\",\"type\":\"BoxAnnotation\"},\"plot\":{\"id\":\"2e22af69-2786-4634-8e41-9b5a0d5967df\",\"subtype\":\"Figure\",\"type\":\"Plot\"}},\"id\":\"45c58451-90ef-4db6-aaf0-2b3822ee52ac\",\"type\":\"BoxZoomTool\"},{\"attributes\":{\"plot\":{\"id\":\"2e22af69-2786-4634-8e41-9b5a0d5967df\",\"subtype\":\"Figure\",\"type\":\"Plot\"}},\"id\":\"1f78adf8-463e-4026-b1c6-9d7a1a50060d\",\"type\":\"PanTool\"},{\"attributes\":{\"children\":[{\"id\":\"6b7d36d3-b5e0-4eee-aaed-5ae515c44cc5\",\"type\":\"Div\"}]},\"id\":\"e68d117f-86f2-4144-8318-a2e09479c391\",\"type\":\"WidgetBox\"},{\"attributes\":{\"align\":\"center\",\"plot\":{\"id\":\"a58fa963-2664-4613-a4d5-ea6cdb587bc3\",\"subtype\":\"Figure\",\"type\":\"Plot\"},\"text\":\"Total percentage within thresholds\"},\"id\":\"bb928828-15d3-4c48-bbf9-004a0ab565dd\",\"type\":\"Title\"},{\"attributes\":{\"callback\":null,\"data\":{}},\"id\":\"d71f4ca0-ac3c-467d-8067-e8364f7aeee7\",\"type\":\"ColumnDataSource\"},{\"attributes\":{\"children\":[{\"id\":\"2e22af69-2786-4634-8e41-9b5a0d5967df\",\"subtype\":\"Figure\",\"type\":\"Plot\"},{\"id\":\"a58fa963-2664-4613-a4d5-ea6cdb587bc3\",\"subtype\":\"Figure\",\"type\":\"Plot\"}]},\"id\":\"4d6d00c0-439e-4484-b30f-803f060d8246\",\"type\":\"Row\"},{\"attributes\":{\"data_source\":{\"id\":\"1e558a33-6c6d-45e9-be6b-73a09339ed83\",\"type\":\"ColumnDataSource\"},\"glyph\":{\"id\":\"6a7c27a9-47f5-44a3-aebc-ebe82094e110\",\"type\":\"Line\"},\"hover_glyph\":null,\"muted_glyph\":null,\"nonselection_glyph\":{\"id\":\"06abe7f2-cc25-4b97-846a-9bf2f491c894\",\"type\":\"Line\"},\"selection_glyph\":null},\"id\":\"bf3ab579-039c-4943-a2af-b4fc791d31e8\",\"type\":\"GlyphRenderer\"},{\"attributes\":{},\"id\":\"00cb3ea3-fc07-4b2c-84e5-33f015e86157\",\"type\":\"BasicTicker\"},{\"attributes\":{\"data_source\":{\"id\":\"4146dd8b-a287-41b1-aa07-392a6528a90b\",\"type\":\"ColumnDataSource\"},\"glyph\":{\"id\":\"f516fa37-b754-4d12-a4c4-49115a0ca360\",\"type\":\"Line\"},\"hover_glyph\":null,\"muted_glyph\":null,\"nonselection_glyph\":{\"id\":\"6d031661-7de1-40dd-bfc2-f5d0bacd8007\",\"type\":\"Line\"},\"selection_glyph\":null},\"id\":\"5c87f51c-5f38-4f63-a5fa-4de155fc9323\",\"type\":\"GlyphRenderer\"},{\"attributes\":{\"line_alpha\":{\"value\":0.1},\"line_color\":{\"value\":\"#1f77b4\"},\"line_dash\":[6],\"line_width\":{\"value\":2},\"x\":{\"field\":\"x\"},\"y\":{\"field\":\"y\"}},\"id\":\"6d031661-7de1-40dd-bfc2-f5d0bacd8007\",\"type\":\"Line\"},{\"attributes\":{\"text\":\"<h1 style='margin-left:150px;margin-right:-450px;margin-bottom:18px;font-size:20px;                color:#7D7575'> Time thresholds for differences between expected times </h1>\"},\"id\":\"6b7d36d3-b5e0-4eee-aaed-5ae515c44cc5\",\"type\":\"Div\"},{\"attributes\":{\"callback\":null,\"column_names\":[\"x\",\"y\"],\"data\":{\"x\":[-0.3998025666337611,-0.3998025666337611],\"y\":[0.5,1.5]}},\"id\":\"56b1ed0d-0162-4c9e-b5d3-24c3c55730a5\",\"type\":\"ColumnDataSource\"},{\"attributes\":{},\"id\":\"bd0f4a87-843b-4ac7-b8a3-28a3b08da8aa\",\"type\":\"BasicTicker\"},{\"attributes\":{\"active_drag\":\"auto\",\"active_inspect\":\"auto\",\"active_scroll\":\"auto\",\"active_tap\":\"auto\",\"tools\":[{\"id\":\"52f18d43-52d2-4c69-9c62-732acd1306b8\",\"type\":\"HoverTool\"}]},\"id\":\"67c59150-bee5-414b-b8f0-4be5251a0aca\",\"type\":\"Toolbar\"},{\"attributes\":{\"fill_color\":{\"value\":\"#E4E02C\"},\"height\":{\"value\":0.3},\"left\":{\"value\":0.324284304047384},\"line_color\":{\"value\":\"#E4E02C\"},\"right\":{\"value\":0.491609081934847},\"y\":{\"value\":1}},\"id\":\"1c81deb2-e59a-487f-943b-a30d202f61a4\",\"type\":\"HBar\"},{\"attributes\":{\"dimension\":1,\"grid_line_color\":{\"value\":null},\"plot\":{\"id\":\"2e22af69-2786-4634-8e41-9b5a0d5967df\",\"subtype\":\"Figure\",\"type\":\"Plot\"},\"ticker\":{\"id\":\"4a05971d-85cd-4c81-bb56-eb287215c2c0\",\"type\":\"BasicTicker\"}},\"id\":\"ba831a6b-d4c0-4dbf-8115-19456c0f3a28\",\"type\":\"Grid\"},{\"attributes\":{\"fill_color\":{\"field\":\"colors\"},\"line_color\":{\"field\":\"colors\"},\"top\":{\"field\":\"pct\"},\"width\":{\"value\":0.6},\"x\":{\"field\":\"index\"}},\"id\":\"11def404-90b1-4d48-8b3c-fff09526e3e3\",\"type\":\"VBar\"},{\"attributes\":{\"align\":\"center\",\"plot\":{\"id\":\"2e22af69-2786-4634-8e41-9b5a0d5967df\",\"subtype\":\"Figure\",\"type\":\"Plot\"},\"text\":\"Rush/delays within time thresholds\"},\"id\":\"ec6096e0-052e-4e15-95f6-f0a42461a066\",\"type\":\"Title\"},{\"attributes\":{\"line_alpha\":{\"value\":0.1},\"line_color\":{\"value\":\"#1f77b4\"},\"line_dash\":[6],\"line_width\":{\"value\":2},\"x\":{\"field\":\"x\"},\"y\":{\"field\":\"y\"}},\"id\":\"06abe7f2-cc25-4b97-846a-9bf2f491c894\",\"type\":\"Line\"},{\"attributes\":{\"data_source\":{\"id\":\"e1335c87-8897-4915-945f-d11b4f734ed3\",\"type\":\"ColumnDataSource\"},\"glyph\":{\"id\":\"1c81deb2-e59a-487f-943b-a30d202f61a4\",\"type\":\"HBar\"},\"hover_glyph\":null,\"muted_glyph\":null,\"nonselection_glyph\":{\"id\":\"b81d49cd-1ed0-41a5-a5d9-2ddc7e6436fd\",\"type\":\"HBar\"},\"selection_glyph\":null},\"id\":\"b7cb6462-4a84-4bf9-8d37-8a5449b2d5b2\",\"type\":\"GlyphRenderer\"},{\"attributes\":{\"data_source\":{\"id\":\"56b1ed0d-0162-4c9e-b5d3-24c3c55730a5\",\"type\":\"ColumnDataSource\"},\"glyph\":{\"id\":\"1ddd0ce6-02d7-44c3-b1ae-d7cd1b9dedd9\",\"type\":\"Line\"},\"hover_glyph\":null,\"muted_glyph\":null,\"nonselection_glyph\":{\"id\":\"6e239402-eace-419e-a669-5a71bc699429\",\"type\":\"Line\"},\"selection_glyph\":null},\"id\":\"b892698a-ef1d-4115-8f32-2d79facf9a62\",\"type\":\"GlyphRenderer\"},{\"attributes\":{\"data_source\":{\"id\":\"163c2928-7be4-4c88-9c57-2e18576a77b3\",\"type\":\"ColumnDataSource\"},\"glyph\":{\"id\":\"5de450b8-7546-4f04-9be7-20b53c3539fb\",\"type\":\"Line\"},\"hover_glyph\":null,\"muted_glyph\":null,\"nonselection_glyph\":{\"id\":\"b8c70310-a7a0-4e98-a0ae-2831a7bbf086\",\"type\":\"Line\"},\"selection_glyph\":null},\"id\":\"c7dcd39a-7dec-47ff-b8da-8693aa3105bf\",\"type\":\"GlyphRenderer\"},{\"attributes\":{\"data_source\":{\"id\":\"c8af71cf-0df4-437a-b728-247ed58dec62\",\"type\":\"ColumnDataSource\"},\"glyph\":{\"id\":\"ba471ea5-7e74-45d2-8479-b615c8b3b5ed\",\"type\":\"HBar\"},\"hover_glyph\":null,\"muted_glyph\":null,\"nonselection_glyph\":{\"id\":\"c963c5ff-9f8e-4b65-9825-de0a5e96c63a\",\"type\":\"HBar\"},\"selection_glyph\":null},\"id\":\"31a13885-3cea-4efb-adeb-bbbec5076546\",\"type\":\"GlyphRenderer\"},{\"attributes\":{\"children\":[{\"id\":\"e68d117f-86f2-4144-8318-a2e09479c391\",\"type\":\"WidgetBox\"},{\"id\":\"4d6d00c0-439e-4484-b30f-803f060d8246\",\"type\":\"Row\"}]},\"id\":\"1b1bec88-d464-4041-9899-e33b650a9cfd\",\"type\":\"Column\"},{\"attributes\":{\"formatter\":{\"id\":\"2cbd339e-35de-48d0-a76b-eb597a19e59d\",\"type\":\"BasicTickFormatter\"},\"plot\":{\"id\":\"2e22af69-2786-4634-8e41-9b5a0d5967df\",\"subtype\":\"Figure\",\"type\":\"Plot\"},\"ticker\":{\"id\":\"4a05971d-85cd-4c81-bb56-eb287215c2c0\",\"type\":\"BasicTicker\"},\"visible\":false},\"id\":\"3fc19122-6971-4025-bc80-d42c2b1a1a42\",\"type\":\"LinearAxis\"},{\"attributes\":{\"formatter\":{\"id\":\"9b7d04ce-3788-4bd3-a307-3dfca97230c7\",\"type\":\"BasicTickFormatter\"},\"plot\":{\"id\":\"a58fa963-2664-4613-a4d5-ea6cdb587bc3\",\"subtype\":\"Figure\",\"type\":\"Plot\"},\"ticker\":{\"id\":\"00cb3ea3-fc07-4b2c-84e5-33f015e86157\",\"type\":\"BasicTicker\"}},\"id\":\"ca757946-c2de-4632-8cc8-1c8b4552a28d\",\"type\":\"LinearAxis\"},{\"attributes\":{\"plot\":{\"id\":\"2e22af69-2786-4634-8e41-9b5a0d5967df\",\"subtype\":\"Figure\",\"type\":\"Plot\"}},\"id\":\"089b2c8a-5cf3-455e-9809-af5d5d065e78\",\"type\":\"WheelZoomTool\"},{\"attributes\":{\"data_source\":{\"id\":\"48991dc1-88bd-4120-950c-efa7849eb7b3\",\"type\":\"ColumnDataSource\"},\"glyph\":{\"id\":\"11def404-90b1-4d48-8b3c-fff09526e3e3\",\"type\":\"VBar\"},\"hover_glyph\":null,\"muted_glyph\":null,\"nonselection_glyph\":{\"id\":\"daf5d70c-f5b0-412d-ba48-1ec78d54d296\",\"type\":\"VBar\"},\"selection_glyph\":null},\"id\":\"7b3d10ff-395c-4167-bbff-13a75f8b12f2\",\"type\":\"GlyphRenderer\"},{\"attributes\":{\"callback\":null},\"id\":\"9529f134-8ffb-4d5d-a1a7-d3f5a31fdd91\",\"type\":\"DataRange1d\"},{\"attributes\":{},\"id\":\"178812e5-4627-44d3-ac2b-5d8d9d8c4622\",\"type\":\"LinearScale\"},{\"attributes\":{\"callback\":null},\"id\":\"244ecff4-8ce6-4685-9662-1440fd4599bc\",\"type\":\"DataRange1d\"},{\"attributes\":{},\"id\":\"c772e7c4-c579-41ad-a94c-c0391f179c82\",\"type\":\"BasicTickFormatter\"},{\"attributes\":{},\"id\":\"73adbf69-2ce8-4e3e-aafb-224d6c216d33\",\"type\":\"ToolEvents\"},{\"attributes\":{\"plot\":{\"id\":\"2e22af69-2786-4634-8e41-9b5a0d5967df\",\"subtype\":\"Figure\",\"type\":\"Plot\"}},\"id\":\"ee3cf8f7-196c-4ee4-999e-e34f8be059f6\",\"type\":\"SaveTool\"},{\"attributes\":{},\"id\":\"4a05971d-85cd-4c81-bb56-eb287215c2c0\",\"type\":\"BasicTicker\"},{\"attributes\":{\"data_source\":{\"id\":\"cd0d3caa-ee0c-46bc-9a59-8a6dd94dcc71\",\"type\":\"ColumnDataSource\"},\"glyph\":{\"id\":\"bab75e0b-ce21-46d9-bd94-f67a718abb6e\",\"type\":\"HBar\"},\"hover_glyph\":null,\"muted_glyph\":null,\"nonselection_glyph\":{\"id\":\"8992abdb-ab43-4a5e-b341-c525d97b2e10\",\"type\":\"HBar\"},\"selection_glyph\":null},\"id\":\"04566483-92d3-4729-bc00-946254b2b986\",\"type\":\"GlyphRenderer\"},{\"attributes\":{\"line_alpha\":{\"value\":0.1},\"line_color\":{\"value\":\"#1f77b4\"},\"line_dash\":[6],\"line_width\":{\"value\":2},\"x\":{\"field\":\"x\"},\"y\":{\"field\":\"y\"}},\"id\":\"55d649a5-f521-402c-8d61-c73c8e4d4f36\",\"type\":\"Line\"},{\"attributes\":{\"callback\":null,\"column_names\":[\"x\",\"y\"],\"data\":{\"x\":[0.491609081934847,0.491609081934847],\"y\":[0.5,1.5]}},\"id\":\"163c2928-7be4-4c88-9c57-2e18576a77b3\",\"type\":\"ColumnDataSource\"},{\"attributes\":{\"fill_alpha\":{\"value\":0.1},\"fill_color\":{\"value\":\"#1f77b4\"},\"height\":{\"value\":0.3},\"left\":{\"value\":-0.41214215202369203},\"line_alpha\":{\"value\":0.1},\"line_color\":{\"value\":\"#1f77b4\"},\"right\":{\"value\":-0.3998025666337611},\"y\":{\"value\":1}},\"id\":\"8992abdb-ab43-4a5e-b341-c525d97b2e10\",\"type\":\"HBar\"},{\"attributes\":{},\"id\":\"9b7d04ce-3788-4bd3-a307-3dfca97230c7\",\"type\":\"BasicTickFormatter\"},{\"attributes\":{\"callback\":null,\"end\":2},\"id\":\"4b56e3b2-dc40-4d22-93d2-07577072a48a\",\"type\":\"Range1d\"},{\"attributes\":{\"grid_line_color\":{\"value\":null},\"plot\":{\"id\":\"2e22af69-2786-4634-8e41-9b5a0d5967df\",\"subtype\":\"Figure\",\"type\":\"Plot\"},\"ticker\":{\"id\":\"3ca7790f-660a-4490-8a1c-b318266eebe3\",\"type\":\"BasicTicker\"}},\"id\":\"e6d9d518-8828-491e-9138-bcfb8a1e08d4\",\"type\":\"Grid\"},{\"attributes\":{},\"id\":\"1e9646e9-8073-42b3-8a56-d482dc4611e2\",\"type\":\"ToolEvents\"},{\"attributes\":{},\"id\":\"31869164-8993-416f-bc04-1793c1eef9ec\",\"type\":\"LinearScale\"},{\"attributes\":{\"line_alpha\":{\"value\":0.1},\"line_color\":{\"value\":\"#1f77b4\"},\"line_dash\":[6],\"line_width\":{\"value\":2},\"x\":{\"field\":\"x\"},\"y\":{\"field\":\"y\"}},\"id\":\"6e239402-eace-419e-a669-5a71bc699429\",\"type\":\"Line\"},{\"attributes\":{\"line_alpha\":{\"value\":0.1},\"line_color\":{\"value\":\"#1f77b4\"},\"line_dash\":[6],\"line_width\":{\"value\":2},\"x\":{\"field\":\"x\"},\"y\":{\"field\":\"y\"}},\"id\":\"633c4b99-3f62-4634-b9ea-790c3b78f798\",\"type\":\"Line\"},{\"attributes\":{\"data_source\":{\"id\":\"63d940b3-445e-4aa8-9bc6-1b2255fd7c5c\",\"type\":\"ColumnDataSource\"},\"glyph\":{\"id\":\"0445dd68-dac0-442b-a936-e06f3c1534a7\",\"type\":\"Line\"},\"hover_glyph\":null,\"muted_glyph\":null,\"nonselection_glyph\":{\"id\":\"633c4b99-3f62-4634-b9ea-790c3b78f798\",\"type\":\"Line\"},\"selection_glyph\":null},\"id\":\"a308ec84-a2c7-41f9-9368-fd527f461bd3\",\"type\":\"GlyphRenderer\"},{\"attributes\":{\"callback\":null,\"column_names\":[\"x\",\"y\"],\"data\":{\"x\":[0,0],\"y\":[0.5,1.5]}},\"id\":\"63d940b3-445e-4aa8-9bc6-1b2255fd7c5c\",\"type\":\"ColumnDataSource\"}],\"root_ids\":[\"1b1bec88-d464-4041-9899-e33b650a9cfd\"]},\"title\":\"Bokeh Application\",\"version\":\"0.12.6\"}};\n",
       "            var render_items = [{\"docid\":\"29f121e3-9fd1-40ed-be69-54b42d90a2e6\",\"elementid\":\"8dd7a856-4221-4fcb-81d2-1dca8462127e\",\"modelid\":\"1b1bec88-d464-4041-9899-e33b650a9cfd\"}];\n",
       "            \n",
       "            Bokeh.embed.embed_items(docs_json, render_items);\n",
       "          };\n",
       "          if (document.readyState != \"loading\") fn();\n",
       "          else document.addEventListener(\"DOMContentLoaded\", fn);\n",
       "        })();\n",
       "      },\n",
       "      function(Bokeh) {\n",
       "      }\n",
       "    ];\n",
       "  \n",
       "    function run_inline_js() {\n",
       "      \n",
       "      if ((window.Bokeh !== undefined) || (force === true)) {\n",
       "        for (var i = 0; i < inline_js.length; i++) {\n",
       "          inline_js[i](window.Bokeh);\n",
       "        }if (force === true) {\n",
       "          display_loaded();\n",
       "        }} else if (Date.now() < window._bokeh_timeout) {\n",
       "        setTimeout(run_inline_js, 100);\n",
       "      } else if (!window._bokeh_failed_load) {\n",
       "        console.log(\"Bokeh: BokehJS failed to load within specified timeout.\");\n",
       "        window._bokeh_failed_load = true;\n",
       "      } else if (force !== true) {\n",
       "        var cell = $(document.getElementById(\"8dd7a856-4221-4fcb-81d2-1dca8462127e\")).parents('.cell').data().cell;\n",
       "        cell.output_area.append_execute_result(NB_LOAD_WARNING)\n",
       "      }\n",
       "  \n",
       "    }\n",
       "  \n",
       "    if (window._bokeh_is_loading === 0) {\n",
       "      console.log(\"Bokeh: BokehJS loaded, going straight to plotting\");\n",
       "      run_inline_js();\n",
       "    } else {\n",
       "      load_libs(js_urls, function() {\n",
       "        console.log(\"Bokeh: BokehJS plotting callback run at\", now());\n",
       "        run_inline_js();\n",
       "      });\n",
       "    }\n",
       "  }(this));\n",
       "</script>"
      ]
     },
     "metadata": {},
     "output_type": "display_data"
    }
   ],
   "source": [
    "time_threshold_est_act_time_first = plot_horizontal_time_thresholds(threshold_est_act_time_first, 400, 400, 'pct', 'colors', \n",
    "                                                                \"Rush/delays within time thresholds\")\n",
    "within_thresholds_est_act_time_first = plot_total_pct_thresholds(within_threshold_est_act_time_first, 400, 400, \"index\", \"pct\", \"colors\", \"Total percentage within thresholds\")\n",
    "show(column(Div(text=\"<h1 style='margin-left:150px;margin-right:-450px;margin-bottom:18px;font-size:20px;\\\n",
    "                color:#7D7575'> Time thresholds for differences between expected times </h1>\"), row(time_threshold_est_act_time_first, within_thresholds_est_act_time_first)))"
   ]
  },
  {
   "cell_type": "markdown",
   "metadata": {},
   "source": [
    "In comparison to the differences with last expected time, when taking first expected time and actual service delivery we notice that the differences are more significant. Note that the green region (difference within 3 minutes) captures now 62.6% of services. Services in the yellow region (between 3-7 minutes) and red region (more than 7 minutes) grow. The red region, in particular, almost doubles. \n",
    "\n",
    "This shows that there is still space for improvement in terms of first expected time shown to the user. In particular, it will be important to reduce the cases in the red area because this can have an important effect on user's experience.\n",
    "\n",
    "In what follows we perform the same analysis but separately for pick ups and drop offs."
   ]
  },
  {
   "cell_type": "markdown",
   "metadata": {},
   "source": [
    "### Differences in pick up / drop off first expected time vs. actual time"
   ]
  },
  {
   "cell_type": "code",
   "execution_count": 256,
   "metadata": {},
   "outputs": [],
   "source": [
    "est_act_time_first_pick_up =  (est_act_time_first[est_act_time_first[\"type\"] == \"pickup\"]).reset_index()\n",
    "est_act_time_first_drop_off =  (est_act_time_first[est_act_time_first[\"type\"] == \"dropoff\"]).reset_index()"
   ]
  },
  {
   "cell_type": "code",
   "execution_count": 257,
   "metadata": {},
   "outputs": [],
   "source": [
    "#Calculating time differences for pick ups\n",
    "est_act_time_first_pick_up.loc[:,\"time_diff_first_est_act\"] = est_act_time_first_pick_up.apply(diff, t1='actual_time_utc_berlin_actual', t2='estimated_time_utc_berlin_first', axis=1)\n",
    "est_act_time_first_pick_up[\"time_diff_first_est_act_min\"] = est_act_time_first_pick_up[\"time_diff_first_est_act\"] / 60.0"
   ]
  },
  {
   "cell_type": "code",
   "execution_count": 258,
   "metadata": {},
   "outputs": [
    {
     "name": "stdout",
     "output_type": "stream",
     "text": [
      "Stats for difference between first expected time and actual pick up time\n",
      "\n",
      "Total difference (hours): 21.228\n",
      "Average (seconds): 37.720\n",
      "Standard deviation (seconds): 231.877\n"
     ]
    }
   ],
   "source": [
    "print(\"Stats for difference between first expected time and actual pick up time\\n\")\n",
    "print_stats(est_act_time_first_pick_up,\"time_diff_first_est_act\")"
   ]
  },
  {
   "cell_type": "code",
   "execution_count": 259,
   "metadata": {
    "collapsed": true
   },
   "outputs": [],
   "source": [
    "#Calculating time differences for drop offs\n",
    "est_act_time_first_drop_off.loc[:,\"time_diff_first_est_act\"] = est_act_time_first_drop_off.apply(diff, t1='actual_time_utc_berlin_actual', t2='estimated_time_utc_berlin_first', axis=1)\n",
    "est_act_time_first_drop_off[\"time_diff_first_est_act_min\"] = est_act_time_first_drop_off[\"time_diff_first_est_act\"] / 60.0"
   ]
  },
  {
   "cell_type": "code",
   "execution_count": 260,
   "metadata": {},
   "outputs": [
    {
     "name": "stdout",
     "output_type": "stream",
     "text": [
      "Stats for difference between first expected time and actual drop off time\n",
      "\n",
      "Total difference (hours): 31.427\n",
      "Average (seconds): 55.843\n",
      "Standard deviation (seconds): 394.421\n"
     ]
    }
   ],
   "source": [
    "print(\"Stats for difference between first expected time and actual drop off time\\n\")\n",
    "print_stats(est_act_time_first_drop_off,\"time_diff_first_est_act\")"
   ]
  },
  {
   "cell_type": "code",
   "execution_count": 261,
   "metadata": {},
   "outputs": [
    {
     "data": {
      "image/png": "[encoded data removed]",
      "text/plain": [
       "<matplotlib.figure.Figure at 0x1105ab5c0>"
      ]
     },
     "metadata": {},
     "output_type": "display_data"
    }
   ],
   "source": [
    "fig, ax = plt.subplots(2, figsize=(10,7))\n",
    "sns.distplot(est_act_time_first_pick_up[\"time_diff_first_est_act_min\"], kde=False, ax=ax[0])\n",
    "sns.distplot(est_act_time_first_drop_off[\"time_diff_first_est_act_min\"], kde=False, ax=ax[1])\n",
    "ax[0].set_title(\"Distribution of difference - pick ups \\n Actual Time First Expected Time (minutes)\")\n",
    "ax[1].set_title(\"Distribution of difference - drop off \\n Actual Time First Expected Time (minutes)\")\n",
    "for ax in ax.flatten():\n",
    "    ax.set_ylabel(\"Counts minutes\")\n",
    "    ax.set_ylabel(\"Counts minutes\")\n",
    "    ax.set_xlabel(\"Time difference\")\n",
    "    ax.axvline(0, color=\"#44999E\", linestyle='--')\n",
    "fig.tight_layout() "
   ]
  },
  {
   "cell_type": "markdown",
   "metadata": {},
   "source": [
    "Looking at the distributions and the statistics for pick ups and drop offs one can notice that the differences for actual time vs. first expected time are bigger for the drop off than pick ups. This is straightforward to understand. As drop off are farther ahead in the future, it is more difficult to predict than pick ups. Still doing better at predicting pick ups and drop offs would give the service reliability in terms of the expected time users need to wait for the complete service (pick up and drop off) to be conducted."
   ]
  },
  {
   "cell_type": "code",
   "execution_count": 262,
   "metadata": {
    "collapsed": true
   },
   "outputs": [],
   "source": [
    "#Using plotting functions\n",
    "threshold_first_pick_up =  get_thresholds_groups(est_act_time_first_pick_up, \"time_diff_first_est_act_min\")\n",
    "within_thresh_first_pick_up = get_region_threshold_groups(threshold_first_pick_up, \"colors\")\n",
    "threshold_first_drop_off = get_thresholds_groups(est_act_time_first_drop_off, \"time_diff_first_est_act_min\")\n",
    "within_thresh_first_drop_off = get_region_threshold_groups(threshold_first_drop_off, \"colors\")"
   ]
  },
  {
   "cell_type": "code",
   "execution_count": 263,
   "metadata": {},
   "outputs": [
    {
     "data": {
      "text/html": [
       "\n",
       "\n",
       "    <div class=\"bk-root\">\n",
       "        <div class=\"bk-plotdiv\" id=\"3332f979-c769-46e9-8f3b-8e25af034b64\"></div>\n",
       "    </div>\n",
       "<script type=\"text/javascript\">\n",
       "  \n",
       "  (function(global) {\n",
       "    function now() {\n",
       "      return new Date();\n",
       "    }\n",
       "  \n",
       "    var force = false;\n",
       "  \n",
       "    if (typeof (window._bokeh_onload_callbacks) === \"undefined\" || force === true) {\n",
       "      window._bokeh_onload_callbacks = [];\n",
       "      window._bokeh_is_loading = undefined;\n",
       "    }\n",
       "  \n",
       "  \n",
       "    \n",
       "    if (typeof (window._bokeh_timeout) === \"undefined\" || force === true) {\n",
       "      window._bokeh_timeout = Date.now() + 0;\n",
       "      window._bokeh_failed_load = false;\n",
       "    }\n",
       "  \n",
       "    var NB_LOAD_WARNING = {'data': {'text/html':\n",
       "       \"<div style='background-color: #fdd'>\\n\"+\n",
       "       \"<p>\\n\"+\n",
       "       \"BokehJS does not appear to have successfully loaded. If loading BokehJS from CDN, this \\n\"+\n",
       "       \"may be due to a slow or bad network connection. Possible fixes:\\n\"+\n",
       "       \"</p>\\n\"+\n",
       "       \"<ul>\\n\"+\n",
       "       \"<li>re-rerun `output_notebook()` to attempt to load from CDN again, or</li>\\n\"+\n",
       "       \"<li>use INLINE resources instead, as so:</li>\\n\"+\n",
       "       \"</ul>\\n\"+\n",
       "       \"<code>\\n\"+\n",
       "       \"from bokeh.resources import INLINE\\n\"+\n",
       "       \"output_notebook(resources=INLINE)\\n\"+\n",
       "       \"</code>\\n\"+\n",
       "       \"</div>\"}};\n",
       "  \n",
       "    function display_loaded() {\n",
       "      if (window.Bokeh !== undefined) {\n",
       "        var el = document.getElementById(\"3332f979-c769-46e9-8f3b-8e25af034b64\");\n",
       "        el.textContent = \"BokehJS \" + Bokeh.version + \" successfully loaded.\";\n",
       "      } else if (Date.now() < window._bokeh_timeout) {\n",
       "        setTimeout(display_loaded, 100)\n",
       "      }\n",
       "    }\n",
       "  \n",
       "    function run_callbacks() {\n",
       "      try {\n",
       "        window._bokeh_onload_callbacks.forEach(function(callback) { callback() });\n",
       "      }\n",
       "      finally {\n",
       "        delete window._bokeh_onload_callbacks\n",
       "      }\n",
       "      console.info(\"Bokeh: all callbacks have finished\");\n",
       "    }\n",
       "  \n",
       "    function load_libs(js_urls, callback) {\n",
       "      window._bokeh_onload_callbacks.push(callback);\n",
       "      if (window._bokeh_is_loading > 0) {\n",
       "        console.log(\"Bokeh: BokehJS is being loaded, scheduling callback at\", now());\n",
       "        return null;\n",
       "      }\n",
       "      if (js_urls == null || js_urls.length === 0) {\n",
       "        run_callbacks();\n",
       "        return null;\n",
       "      }\n",
       "      console.log(\"Bokeh: BokehJS not loaded, scheduling load and callback at\", now());\n",
       "      window._bokeh_is_loading = js_urls.length;\n",
       "      for (var i = 0; i < js_urls.length; i++) {\n",
       "        var url = js_urls[i];\n",
       "        var s = document.createElement('script');\n",
       "        s.src = url;\n",
       "        s.async = false;\n",
       "        s.onreadystatechange = s.onload = function() {\n",
       "          window._bokeh_is_loading--;\n",
       "          if (window._bokeh_is_loading === 0) {\n",
       "            console.log(\"Bokeh: all BokehJS libraries loaded\");\n",
       "            run_callbacks()\n",
       "          }\n",
       "        };\n",
       "        s.onerror = function() {\n",
       "          console.warn(\"failed to load library \" + url);\n",
       "        };\n",
       "        console.log(\"Bokeh: injecting script tag for BokehJS library: \", url);\n",
       "        document.getElementsByTagName(\"head\")[0].appendChild(s);\n",
       "      }\n",
       "    };var element = document.getElementById(\"3332f979-c769-46e9-8f3b-8e25af034b64\");\n",
       "    if (element == null) {\n",
       "      console.log(\"Bokeh: ERROR: autoload.js configured with elementid '3332f979-c769-46e9-8f3b-8e25af034b64' but no matching script tag was found. \")\n",
       "      return false;\n",
       "    }\n",
       "  \n",
       "    var js_urls = [];\n",
       "  \n",
       "    var inline_js = [\n",
       "      function(Bokeh) {\n",
       "        (function() {\n",
       "          var fn = function() {\n",
       "            var docs_json = {\"63531546-e01a-4cc6-a1c2-68478271fed0\":{\"roots\":{\"references\":[{\"attributes\":{\"plot\":{\"id\":\"8a008a69-68c5-47ec-9eb9-ae9d81eae176\",\"subtype\":\"Figure\",\"type\":\"Plot\"}},\"id\":\"72694eff-5d64-4bb3-90b2-3519a2a3dedd\",\"type\":\"HelpTool\"},{\"attributes\":{\"line_alpha\":{\"value\":0.1},\"line_color\":{\"value\":\"#1f77b4\"},\"line_dash\":[6],\"line_width\":{\"value\":2},\"x\":{\"field\":\"x\"},\"y\":{\"field\":\"y\"}},\"id\":\"63a56f50-1329-4f55-b684-3df40d2d2520\",\"type\":\"Line\"},{\"attributes\":{\"children\":[{\"id\":\"063c2338-017a-483b-8e3f-0d67c9787c08\",\"type\":\"WidgetBox\"},{\"id\":\"e4a895a0-9ebe-47a0-83b3-1e1e2cc85e22\",\"type\":\"Column\"}]},\"id\":\"f01801d5-d728-471d-a813-690a42836ba8\",\"type\":\"Column\"},{\"attributes\":{\"line_color\":{\"value\":\"#AAB2A5\"},\"line_dash\":[6],\"line_width\":{\"value\":2},\"x\":{\"field\":\"x\"},\"y\":{\"field\":\"y\"}},\"id\":\"71c7d404-09fd-44fc-99de-a794fd4a5295\",\"type\":\"Line\"},{\"attributes\":{\"callback\":null,\"column_names\":[\"x\",\"y\"],\"data\":{\"x\":[0.39349112426035504,0.39349112426035504],\"y\":[0.5,1.5]}},\"id\":\"cfdbd07d-a436-43c4-92e3-4c0641c7a9ce\",\"type\":\"ColumnDataSource\"},{\"attributes\":{\"line_alpha\":{\"value\":0.1},\"line_color\":{\"value\":\"#1f77b4\"},\"line_dash\":[6],\"line_width\":{\"value\":2},\"x\":{\"field\":\"x\"},\"y\":{\"field\":\"y\"}},\"id\":\"ac1196cd-f2a8-4ec7-afb3-f4ffa8c8b2e8\",\"type\":\"Line\"},{\"attributes\":{\"plot\":null,\"text\":\"\"},\"id\":\"4bc917a0-45dc-4dbe-876d-06ec3fc16443\",\"type\":\"Title\"},{\"attributes\":{\"dimension\":1,\"plot\":{\"id\":\"5357843f-e806-47a4-99ee-35fce459deab\",\"subtype\":\"Figure\",\"type\":\"Plot\"},\"ticker\":{\"id\":\"415ed36b-2cc1-487c-8e04-a4687fdc2217\",\"type\":\"BasicTicker\"}},\"id\":\"dcd0153e-677e-45d2-877e-67788000405f\",\"type\":\"Grid\"},{\"attributes\":{\"line_color\":{\"value\":\"#AAB2A5\"},\"line_dash\":[6],\"line_width\":{\"value\":2},\"x\":{\"field\":\"x\"},\"y\":{\"field\":\"y\"}},\"id\":\"2850cab5-3375-45b2-abdb-ac5d61def8ad\",\"type\":\"Line\"},{\"attributes\":{\"plot\":{\"id\":\"8a008a69-68c5-47ec-9eb9-ae9d81eae176\",\"subtype\":\"Figure\",\"type\":\"Plot\"}},\"id\":\"b638555f-b9ff-4cfd-8dfb-7efba74daf5a\",\"type\":\"SaveTool\"},{\"attributes\":{\"formatter\":{\"id\":\"b62480eb-0d38-40b0-a2b3-dc9c62468a2c\",\"type\":\"BasicTickFormatter\"},\"plot\":{\"id\":\"8a008a69-68c5-47ec-9eb9-ae9d81eae176\",\"subtype\":\"Figure\",\"type\":\"Plot\"},\"ticker\":{\"id\":\"6ff729cc-d90a-4a7e-95ca-8ce1f9bd7be2\",\"type\":\"BasicTicker\"}},\"id\":\"ac0430a3-58d2-4de7-8408-7081a28273f3\",\"type\":\"LinearAxis\"},{\"attributes\":{\"callback\":null,\"data\":{}},\"id\":\"80280e4e-f306-4016-8cbc-43e455382a8c\",\"type\":\"ColumnDataSource\"},{\"attributes\":{\"fill_alpha\":{\"value\":0.1},\"fill_color\":{\"value\":\"#1f77b4\"},\"line_alpha\":{\"value\":0.1},\"line_color\":{\"value\":\"#1f77b4\"},\"top\":{\"field\":\"pct\"},\"width\":{\"value\":0.6},\"x\":{\"field\":\"index\"}},\"id\":\"36b1b7cf-00a2-477b-b4f6-5efd75dcb626\",\"type\":\"VBar\"},{\"attributes\":{\"above\":[{\"id\":\"66daf6b3-6785-4c07-9ace-7ece65ff0d48\",\"type\":\"Title\"}],\"below\":[{\"id\":\"15e7772f-9d99-45ed-8e56-d6ffe533b2ec\",\"type\":\"LinearAxis\"}],\"left\":[{\"id\":\"841d1e13-27d2-4aba-80a6-fa6290dcbcbe\",\"type\":\"LinearAxis\"}],\"plot_height\":300,\"plot_width\":400,\"renderers\":[{\"id\":\"15e7772f-9d99-45ed-8e56-d6ffe533b2ec\",\"type\":\"LinearAxis\"},{\"id\":\"6063096d-57d1-46d5-abf9-92980228526f\",\"type\":\"Grid\"},{\"id\":\"841d1e13-27d2-4aba-80a6-fa6290dcbcbe\",\"type\":\"LinearAxis\"},{\"id\":\"0c78b953-52e7-4549-b3aa-87a7b31f3fe4\",\"type\":\"Grid\"},{\"id\":\"4d9e0d09-f593-4174-b311-bf50a00fd5c5\",\"type\":\"BoxAnnotation\"},{\"id\":\"1eb51013-4a4b-40a0-b80b-600a07789bc9\",\"type\":\"GlyphRenderer\"},{\"id\":\"021b22df-38b4-402e-814e-96012be236f9\",\"type\":\"GlyphRenderer\"},{\"id\":\"77f84595-83bf-4f78-a959-d658aea0ba94\",\"type\":\"GlyphRenderer\"},{\"id\":\"e8992459-8541-485c-b72d-3ae50f437f37\",\"type\":\"GlyphRenderer\"},{\"id\":\"792566af-050e-4c14-b8f1-5a3b5e37a656\",\"type\":\"GlyphRenderer\"},{\"id\":\"74196f4c-dd9e-40ab-bc72-386d783d6a31\",\"type\":\"GlyphRenderer\"},{\"id\":\"7a6022f8-67d3-4603-8122-03be4c995b04\",\"type\":\"GlyphRenderer\"},{\"id\":\"2e055e9c-100f-454e-8b96-bf049afe1747\",\"type\":\"GlyphRenderer\"},{\"id\":\"f1121a3f-51fb-4a50-abe7-85c916af2b99\",\"type\":\"GlyphRenderer\"},{\"id\":\"498dd6fb-1366-40b9-a03c-e8d2f2f9dba7\",\"type\":\"GlyphRenderer\"},{\"id\":\"50fe81d6-7748-4c4f-a28d-d170e13af182\",\"type\":\"GlyphRenderer\"},{\"id\":\"22895a9c-0f3f-4f5a-a63b-fa85489af632\",\"type\":\"GlyphRenderer\"},{\"id\":\"66daf6b3-6785-4c07-9ace-7ece65ff0d48\",\"type\":\"Title\"}],\"title\":{\"id\":\"e038fc0d-d34d-4e44-9497-c296f9c1e453\",\"type\":\"Title\"},\"tool_events\":{\"id\":\"911c17e0-7b20-4f2d-8b03-549eda0f3bb7\",\"type\":\"ToolEvents\"},\"toolbar\":{\"id\":\"55af66a9-7b3c-4923-8a79-8ad552235c6c\",\"type\":\"Toolbar\"},\"x_range\":{\"id\":\"8c617775-4500-4912-b597-d8203c658cfc\",\"type\":\"DataRange1d\"},\"x_scale\":{\"id\":\"20d7b8bc-e27a-470a-8a66-8f48398a4b3f\",\"type\":\"LinearScale\"},\"y_range\":{\"id\":\"11edde9b-79c3-4859-82d2-10ad94ee6fb8\",\"type\":\"Range1d\"},\"y_scale\":{\"id\":\"59d13024-33c6-48b1-8cdd-1b75382aa2e2\",\"type\":\"LinearScale\"}},\"id\":\"f532caeb-99ba-4a54-867f-7b26a2c9aa90\",\"subtype\":\"Figure\",\"type\":\"Plot\"},{\"attributes\":{\"dimension\":1,\"grid_line_color\":{\"value\":null},\"plot\":{\"id\":\"f532caeb-99ba-4a54-867f-7b26a2c9aa90\",\"subtype\":\"Figure\",\"type\":\"Plot\"},\"ticker\":{\"id\":\"d12229ff-7471-4c0b-908d-c71a92b01e2c\",\"type\":\"BasicTicker\"}},\"id\":\"0c78b953-52e7-4549-b3aa-87a7b31f3fe4\",\"type\":\"Grid\"},{\"attributes\":{\"grid_line_color\":{\"value\":null},\"plot\":{\"id\":\"8a008a69-68c5-47ec-9eb9-ae9d81eae176\",\"subtype\":\"Figure\",\"type\":\"Plot\"},\"ticker\":{\"id\":\"6ff729cc-d90a-4a7e-95ca-8ce1f9bd7be2\",\"type\":\"BasicTicker\"}},\"id\":\"04ce6fae-0021-4192-b5d6-188f073330f6\",\"type\":\"Grid\"},{\"attributes\":{\"children\":[{\"id\":\"e36dd532-0296-4015-8e21-fe2ec1718cee\",\"type\":\"Div\"}]},\"id\":\"063c2338-017a-483b-8e3f-0d67c9787c08\",\"type\":\"WidgetBox\"},{\"attributes\":{\"line_alpha\":{\"value\":0.1},\"line_color\":{\"value\":\"#1f77b4\"},\"line_dash\":[6],\"line_width\":{\"value\":2},\"x\":{\"field\":\"x\"},\"y\":{\"field\":\"y\"}},\"id\":\"16598484-7c5a-4b57-8bd1-9b6fec45e1a9\",\"type\":\"Line\"},{\"attributes\":{\"children\":[{\"id\":\"86a65d75-d340-41b8-819a-0251127867f8\",\"type\":\"Row\"},{\"id\":\"f0edfe48-3b07-4437-ad16-98c853bb9daf\",\"type\":\"Row\"}]},\"id\":\"e4a895a0-9ebe-47a0-83b3-1e1e2cc85e22\",\"type\":\"Column\"},{\"attributes\":{\"fill_color\":{\"value\":\"#E4E02C\"},\"height\":{\"value\":0.3},\"left\":{\"value\":-0.3895463510848126},\"line_color\":{\"value\":\"#E4E02C\"},\"right\":{\"value\":-0.32741617357001973},\"y\":{\"value\":1}},\"id\":\"1bcc0c76-c659-49dc-953b-c27a0e1ef53c\",\"type\":\"HBar\"},{\"attributes\":{\"callback\":null,\"column_names\":[\"x\",\"y\"],\"data\":{\"x\":[0.4288537549407115,0.4288537549407115],\"y\":[0.5,1.5]}},\"id\":\"31daaad7-7f41-4cde-8dc8-6927d2432177\",\"type\":\"ColumnDataSource\"},{\"attributes\":{\"line_alpha\":{\"value\":0.1},\"line_color\":{\"value\":\"#1f77b4\"},\"line_dash\":[6],\"line_width\":{\"value\":2},\"x\":{\"field\":\"x\"},\"y\":{\"field\":\"y\"}},\"id\":\"c0dd086b-b812-48bd-b000-e2d7c12832a8\",\"type\":\"Line\"},{\"attributes\":{\"fill_color\":{\"value\":\"#459E0F\"},\"height\":{\"value\":0.3},\"left\":{\"value\":-0.32741617357001973},\"line_color\":{\"value\":\"#459E0F\"},\"right\":{\"value\":0},\"y\":{\"value\":1}},\"id\":\"89ef7c9a-0a5a-4dab-83d5-dce8a2b7400e\",\"type\":\"HBar\"},{\"attributes\":{\"fill_color\":{\"field\":\"colors\"},\"line_color\":{\"field\":\"colors\"},\"top\":{\"field\":\"pct\"},\"width\":{\"value\":0.6},\"x\":{\"field\":\"index\"}},\"id\":\"abf8b419-1df1-4adc-b701-f21bd0ca1041\",\"type\":\"VBar\"},{\"attributes\":{\"plot\":{\"id\":\"8a008a69-68c5-47ec-9eb9-ae9d81eae176\",\"subtype\":\"Figure\",\"type\":\"Plot\"}},\"id\":\"a32712e0-47c1-4b0c-9337-4d73d9c710be\",\"type\":\"WheelZoomTool\"},{\"attributes\":{},\"id\":\"cb843bfa-a098-4264-a7f3-12f749979dce\",\"type\":\"BasicTicker\"},{\"attributes\":{\"fill_alpha\":{\"value\":0.1},\"fill_color\":{\"value\":\"#1f77b4\"},\"height\":{\"value\":0.3},\"left\":{\"value\":-0.3915187376725838},\"line_alpha\":{\"value\":0.1},\"line_color\":{\"value\":\"#1f77b4\"},\"right\":{\"value\":-0.3895463510848126},\"y\":{\"value\":1}},\"id\":\"c0d94b69-e01b-4187-8f62-db78c0546cdd\",\"type\":\"HBar\"},{\"attributes\":{\"align\":\"center\",\"plot\":{\"id\":\"f532caeb-99ba-4a54-867f-7b26a2c9aa90\",\"subtype\":\"Figure\",\"type\":\"Plot\"},\"text\":\"Rush/delays within time thresholds pick up\"},\"id\":\"66daf6b3-6785-4c07-9ace-7ece65ff0d48\",\"type\":\"Title\"},{\"attributes\":{\"plot\":{\"id\":\"40b543ad-4c67-4814-801b-6ee2bc5e8201\",\"subtype\":\"Figure\",\"type\":\"Plot\"},\"ticker\":{\"id\":\"06307ef8-14b8-483b-8af1-0a0d5421a617\",\"type\":\"BasicTicker\"}},\"id\":\"ee9ea2f8-659f-4cad-b6cf-a8a7c98ddd68\",\"type\":\"Grid\"},{\"attributes\":{\"fill_color\":{\"value\":\"#E43216\"},\"height\":{\"value\":0.3},\"left\":{\"value\":0.4288537549407115},\"line_color\":{\"value\":\"#E43216\"},\"right\":{\"value\":0.5671936758893281},\"y\":{\"value\":1}},\"id\":\"e31bb398-a58f-4497-8148-27cbb096f964\",\"type\":\"HBar\"},{\"attributes\":{\"plot\":{\"id\":\"f532caeb-99ba-4a54-867f-7b26a2c9aa90\",\"subtype\":\"Figure\",\"type\":\"Plot\"}},\"id\":\"973c4445-b6c3-47e0-95eb-78a84a69674e\",\"type\":\"PanTool\"},{\"attributes\":{\"data_source\":{\"id\":\"b7e1b7e4-f5c2-45ff-a26a-9190636f7bc5\",\"type\":\"ColumnDataSource\"},\"glyph\":{\"id\":\"27ab877e-fcde-4338-97b6-b03087ae4a47\",\"type\":\"Line\"},\"hover_glyph\":null,\"muted_glyph\":null,\"nonselection_glyph\":{\"id\":\"ce46f918-ae82-4d7e-bc42-4da748cd5166\",\"type\":\"Line\"},\"selection_glyph\":null},\"id\":\"973432e2-0b2a-4826-b73e-7831bf12957b\",\"type\":\"GlyphRenderer\"},{\"attributes\":{},\"id\":\"59d13024-33c6-48b1-8cdd-1b75382aa2e2\",\"type\":\"LinearScale\"},{\"attributes\":{},\"id\":\"3f282778-4d18-4e14-ae8b-245f3aabb742\",\"type\":\"LinearScale\"},{\"attributes\":{\"plot\":{\"id\":\"f532caeb-99ba-4a54-867f-7b26a2c9aa90\",\"subtype\":\"Figure\",\"type\":\"Plot\"}},\"id\":\"2b56564f-78fb-47f8-a352-fc69b40e2799\",\"type\":\"SaveTool\"},{\"attributes\":{\"fill_alpha\":{\"value\":0.1},\"fill_color\":{\"value\":\"#1f77b4\"},\"line_alpha\":{\"value\":0.1},\"line_color\":{\"value\":\"#1f77b4\"},\"top\":{\"field\":\"pct\"},\"width\":{\"value\":0.6},\"x\":{\"field\":\"index\"}},\"id\":\"75109fd4-f365-48b5-af45-c606068c7c86\",\"type\":\"VBar\"},{\"attributes\":{},\"id\":\"75b489d2-82ad-4f30-84ce-f081588fc7ca\",\"type\":\"BasicTicker\"},{\"attributes\":{\"plot\":{\"id\":\"5357843f-e806-47a4-99ee-35fce459deab\",\"subtype\":\"Figure\",\"type\":\"Plot\"},\"ticker\":{\"id\":\"2b5e262d-b6db-401f-8e5d-6212dfc4860c\",\"type\":\"BasicTicker\"}},\"id\":\"d43d865a-4be5-4ea8-9968-6051459141a2\",\"type\":\"Grid\"},{\"attributes\":{\"fill_color\":{\"value\":\"#E4E02C\"},\"height\":{\"value\":0.3},\"left\":{\"value\":-0.41007905138339923},\"line_color\":{\"value\":\"#E4E02C\"},\"right\":{\"value\":-0.2766798418972332},\"y\":{\"value\":1}},\"id\":\"4431a912-d4e6-4469-a521-7a5eb73a5614\",\"type\":\"HBar\"},{\"attributes\":{\"data_source\":{\"id\":\"80280e4e-f306-4016-8cbc-43e455382a8c\",\"type\":\"ColumnDataSource\"},\"glyph\":{\"id\":\"a9e0f9f1-6802-4ba1-af5d-5a8bdb4b369e\",\"type\":\"HBar\"},\"hover_glyph\":null,\"muted_glyph\":null,\"nonselection_glyph\":{\"id\":\"c228cd88-f99d-4531-bfba-1d967910a37f\",\"type\":\"HBar\"},\"selection_glyph\":null},\"id\":\"ce797320-ad75-4016-a0fc-082e290637cd\",\"type\":\"GlyphRenderer\"},{\"attributes\":{\"line_color\":{\"value\":\"#AAB2A5\"},\"line_dash\":[6],\"line_width\":{\"value\":2},\"x\":{\"field\":\"x\"},\"y\":{\"field\":\"y\"}},\"id\":\"70a373cd-d12a-48d3-bf72-57cfff8aad56\",\"type\":\"Line\"},{\"attributes\":{\"formatter\":{\"id\":\"acb580ae-f489-41b1-b40b-1afdab53aec5\",\"type\":\"BasicTickFormatter\"},\"plot\":{\"id\":\"f532caeb-99ba-4a54-867f-7b26a2c9aa90\",\"subtype\":\"Figure\",\"type\":\"Plot\"},\"ticker\":{\"id\":\"d12229ff-7471-4c0b-908d-c71a92b01e2c\",\"type\":\"BasicTicker\"},\"visible\":false},\"id\":\"841d1e13-27d2-4aba-80a6-fa6290dcbcbe\",\"type\":\"LinearAxis\"},{\"attributes\":{\"callback\":null,\"data\":{}},\"id\":\"f3364463-66d8-4e33-a273-3947cd131829\",\"type\":\"ColumnDataSource\"},{\"attributes\":{\"data_source\":{\"id\":\"cfdbd07d-a436-43c4-92e3-4c0641c7a9ce\",\"type\":\"ColumnDataSource\"},\"glyph\":{\"id\":\"71c7d404-09fd-44fc-99de-a794fd4a5295\",\"type\":\"Line\"},\"hover_glyph\":null,\"muted_glyph\":null,\"nonselection_glyph\":{\"id\":\"dc1b2d83-70b5-47d2-b364-8b9e2c57f0dc\",\"type\":\"Line\"},\"selection_glyph\":null},\"id\":\"498dd6fb-1366-40b9-a03c-e8d2f2f9dba7\",\"type\":\"GlyphRenderer\"},{\"attributes\":{\"formatter\":{\"id\":\"c62270df-feac-4857-b809-9803158d902f\",\"type\":\"BasicTickFormatter\"},\"plot\":{\"id\":\"f532caeb-99ba-4a54-867f-7b26a2c9aa90\",\"subtype\":\"Figure\",\"type\":\"Plot\"},\"ticker\":{\"id\":\"75b489d2-82ad-4f30-84ce-f081588fc7ca\",\"type\":\"BasicTicker\"}},\"id\":\"15e7772f-9d99-45ed-8e56-d6ffe533b2ec\",\"type\":\"LinearAxis\"},{\"attributes\":{\"callback\":null,\"column_names\":[\"x\",\"y\"],\"data\":{\"x\":[0.2549407114624506,0.2549407114624506],\"y\":[0.5,1.5]}},\"id\":\"b7e1b7e4-f5c2-45ff-a26a-9190636f7bc5\",\"type\":\"ColumnDataSource\"},{\"attributes\":{\"fill_alpha\":{\"value\":0.1},\"fill_color\":{\"value\":\"#1f77b4\"},\"height\":{\"value\":0.3},\"left\":{\"value\":0.2549407114624506},\"line_alpha\":{\"value\":0.1},\"line_color\":{\"value\":\"#1f77b4\"},\"right\":{\"value\":0.4288537549407115},\"y\":{\"value\":1}},\"id\":\"3eb5a734-6fdd-4a68-8324-a2081ed7e6e0\",\"type\":\"HBar\"},{\"attributes\":{\"active_drag\":\"auto\",\"active_inspect\":\"auto\",\"active_scroll\":\"auto\",\"active_tap\":\"auto\",\"tools\":[{\"id\":\"f13edac2-c750-4419-8f67-ef39f389e7f0\",\"type\":\"HoverTool\"}]},\"id\":\"156db575-e5a4-4ee5-9cb2-9369cf500296\",\"type\":\"Toolbar\"},{\"attributes\":{\"plot\":{\"id\":\"f532caeb-99ba-4a54-867f-7b26a2c9aa90\",\"subtype\":\"Figure\",\"type\":\"Plot\"}},\"id\":\"21a4a3d0-6d6d-4d18-800d-d50d89efebcf\",\"type\":\"WheelZoomTool\"},{\"attributes\":{\"data_source\":{\"id\":\"0c56686c-b9be-43b7-9c64-bc850b45e3ea\",\"type\":\"ColumnDataSource\"},\"glyph\":{\"id\":\"553f74b0-d4e8-4972-9242-9a13edd57fdb\",\"type\":\"VBar\"},\"hover_glyph\":null,\"muted_glyph\":null,\"nonselection_glyph\":{\"id\":\"75109fd4-f365-48b5-af45-c606068c7c86\",\"type\":\"VBar\"},\"selection_glyph\":null},\"id\":\"0bd115b2-e898-4426-8cfa-7d72acb66d8a\",\"type\":\"GlyphRenderer\"},{\"attributes\":{\"plot\":{\"id\":\"8a008a69-68c5-47ec-9eb9-ae9d81eae176\",\"subtype\":\"Figure\",\"type\":\"Plot\"}},\"id\":\"b5c19148-a2f8-4bab-a8a8-24c6eabbcf98\",\"type\":\"PanTool\"},{\"attributes\":{\"fill_color\":{\"value\":\"#459E0F\"},\"height\":{\"value\":0.3},\"line_color\":{\"value\":\"#459E0F\"},\"right\":{\"value\":0.2549407114624506},\"y\":{\"value\":1}},\"id\":\"b2f58f10-707b-4d98-9283-383739f9d680\",\"type\":\"HBar\"},{\"attributes\":{},\"id\":\"27954a50-f053-4f52-82dc-7861d314ee85\",\"type\":\"ToolEvents\"},{\"attributes\":{\"data_source\":{\"id\":\"d0c65734-c720-4abb-a88e-765313e2a14f\",\"type\":\"ColumnDataSource\"},\"glyph\":{\"id\":\"a78715bf-85ea-4fcb-b669-2cf98bd49ff2\",\"type\":\"Line\"},\"hover_glyph\":null,\"muted_glyph\":null,\"nonselection_glyph\":{\"id\":\"ac1196cd-f2a8-4ec7-afb3-f4ffa8c8b2e8\",\"type\":\"Line\"},\"selection_glyph\":null},\"id\":\"2e055e9c-100f-454e-8b96-bf049afe1747\",\"type\":\"GlyphRenderer\"},{\"attributes\":{\"fill_alpha\":{\"value\":0.1},\"fill_color\":{\"value\":\"#1f77b4\"},\"height\":{\"value\":0.3},\"left\":{\"value\":-0.3895463510848126},\"line_alpha\":{\"value\":0.1},\"line_color\":{\"value\":\"#1f77b4\"},\"right\":{\"value\":-0.32741617357001973},\"y\":{\"value\":1}},\"id\":\"641414f2-ecbf-46ef-9dba-7ffe38c1b14f\",\"type\":\"HBar\"},{\"attributes\":{\"data_source\":{\"id\":\"83b2b3bf-4148-4a22-a8b3-8529eb29875e\",\"type\":\"ColumnDataSource\"},\"glyph\":{\"id\":\"e31bb398-a58f-4497-8148-27cbb096f964\",\"type\":\"HBar\"},\"hover_glyph\":null,\"muted_glyph\":null,\"nonselection_glyph\":{\"id\":\"1badc48d-4fb6-4739-8ce9-78b61053c491\",\"type\":\"HBar\"},\"selection_glyph\":null},\"id\":\"46f635f1-21a3-4f4a-9c52-55105b8bb239\",\"type\":\"GlyphRenderer\"},{\"attributes\":{},\"id\":\"0fa61eaf-9a95-48be-8f46-5c449355f7bb\",\"type\":\"LinearScale\"},{\"attributes\":{\"line_color\":{\"value\":\"#AAB2A5\"},\"line_dash\":[6],\"line_width\":{\"value\":2},\"x\":{\"field\":\"x\"},\"y\":{\"field\":\"y\"}},\"id\":\"27ab877e-fcde-4338-97b6-b03087ae4a47\",\"type\":\"Line\"},{\"attributes\":{\"callback\":null,\"column_names\":[\"x\",\"y\"],\"data\":{\"x\":[0,0],\"y\":[0.5,1.5]}},\"id\":\"d0c65734-c720-4abb-a88e-765313e2a14f\",\"type\":\"ColumnDataSource\"},{\"attributes\":{\"data_source\":{\"id\":\"0f4390f9-ff1e-4a54-9360-d44849eba8da\",\"type\":\"ColumnDataSource\"},\"glyph\":{\"id\":\"b2f58f10-707b-4d98-9283-383739f9d680\",\"type\":\"HBar\"},\"hover_glyph\":null,\"muted_glyph\":null,\"nonselection_glyph\":{\"id\":\"963f5439-2b7e-4cda-be6d-8c1a4ef6a6af\",\"type\":\"HBar\"},\"selection_glyph\":null},\"id\":\"f1321366-5ca0-4dd5-960f-8a81ec005d27\",\"type\":\"GlyphRenderer\"},{\"attributes\":{\"above\":[{\"id\":\"1c54acf6-988f-41a9-8fe3-b34a53e3b0fe\",\"type\":\"Title\"}],\"below\":[{\"id\":\"ac0430a3-58d2-4de7-8408-7081a28273f3\",\"type\":\"LinearAxis\"}],\"left\":[{\"id\":\"7ad12d6a-d47e-4ce9-8304-180f2b45bdc5\",\"type\":\"LinearAxis\"}],\"plot_height\":300,\"plot_width\":400,\"renderers\":[{\"id\":\"ac0430a3-58d2-4de7-8408-7081a28273f3\",\"type\":\"LinearAxis\"},{\"id\":\"04ce6fae-0021-4192-b5d6-188f073330f6\",\"type\":\"Grid\"},{\"id\":\"7ad12d6a-d47e-4ce9-8304-180f2b45bdc5\",\"type\":\"LinearAxis\"},{\"id\":\"7ddd6894-4833-4c21-a212-5a7d83bc8258\",\"type\":\"Grid\"},{\"id\":\"4d888283-42b5-4315-ba2f-6044fe31a9b8\",\"type\":\"BoxAnnotation\"},{\"id\":\"1c5bae62-bc50-405c-bd5c-52396630d892\",\"type\":\"GlyphRenderer\"},{\"id\":\"f035ef60-e64a-4f0b-aead-31687cfd0927\",\"type\":\"GlyphRenderer\"},{\"id\":\"919bdb47-d257-4e6a-b421-2434fa537cb0\",\"type\":\"GlyphRenderer\"},{\"id\":\"217a113c-18f3-4fd0-bbbe-d6c4287c6f84\",\"type\":\"GlyphRenderer\"},{\"id\":\"ce797320-ad75-4016-a0fc-082e290637cd\",\"type\":\"GlyphRenderer\"},{\"id\":\"a7aca8c1-3064-443f-b4c4-174fab3fb7d6\",\"type\":\"GlyphRenderer\"},{\"id\":\"f1321366-5ca0-4dd5-960f-8a81ec005d27\",\"type\":\"GlyphRenderer\"},{\"id\":\"74e9ca4e-dfea-4e31-bf5a-f2c7cd3db040\",\"type\":\"GlyphRenderer\"},{\"id\":\"def056f5-281f-4785-b006-5a172c19f6ef\",\"type\":\"GlyphRenderer\"},{\"id\":\"973432e2-0b2a-4826-b73e-7831bf12957b\",\"type\":\"GlyphRenderer\"},{\"id\":\"46f635f1-21a3-4f4a-9c52-55105b8bb239\",\"type\":\"GlyphRenderer\"},{\"id\":\"30bc4f1a-95aa-4226-8535-9795ccf3b791\",\"type\":\"GlyphRenderer\"},{\"id\":\"1c54acf6-988f-41a9-8fe3-b34a53e3b0fe\",\"type\":\"Title\"}],\"title\":{\"id\":\"88fa68fe-19f9-4083-92f9-2d05ea84823f\",\"type\":\"Title\"},\"tool_events\":{\"id\":\"25cef963-761e-4c1f-8fff-d03d1bdfc5c5\",\"type\":\"ToolEvents\"},\"toolbar\":{\"id\":\"597c14dc-fe3c-4f79-8afb-8545fcad5881\",\"type\":\"Toolbar\"},\"x_range\":{\"id\":\"8c617775-4500-4912-b597-d8203c658cfc\",\"type\":\"DataRange1d\"},\"x_scale\":{\"id\":\"0fa61eaf-9a95-48be-8f46-5c449355f7bb\",\"type\":\"LinearScale\"},\"y_range\":{\"id\":\"23f4bad2-96f8-4f66-8e06-42495b93bd80\",\"type\":\"Range1d\"},\"y_scale\":{\"id\":\"e15445b8-f056-4320-9dd2-367e6d6af7f1\",\"type\":\"LinearScale\"}},\"id\":\"8a008a69-68c5-47ec-9eb9-ae9d81eae176\",\"subtype\":\"Figure\",\"type\":\"Plot\"},{\"attributes\":{\"data_source\":{\"id\":\"ed0db3ab-7c9e-442a-ab66-f09c46f3000f\",\"type\":\"ColumnDataSource\"},\"glyph\":{\"id\":\"4cee640f-c54e-43ee-8ccd-12ce264f316b\",\"type\":\"HBar\"},\"hover_glyph\":null,\"muted_glyph\":null,\"nonselection_glyph\":{\"id\":\"c68f0251-050f-46ae-86c5-f13c5aefb4ef\",\"type\":\"HBar\"},\"selection_glyph\":null},\"id\":\"7a6022f8-67d3-4603-8122-03be4c995b04\",\"type\":\"GlyphRenderer\"},{\"attributes\":{\"bottom_units\":\"screen\",\"fill_alpha\":{\"value\":0.5},\"fill_color\":{\"value\":\"lightgrey\"},\"left_units\":\"screen\",\"level\":\"overlay\",\"line_alpha\":{\"value\":1.0},\"line_color\":{\"value\":\"black\"},\"line_dash\":[4,4],\"line_width\":{\"value\":2},\"plot\":null,\"render_mode\":\"css\",\"right_units\":\"screen\",\"top_units\":\"screen\"},\"id\":\"4d888283-42b5-4315-ba2f-6044fe31a9b8\",\"type\":\"BoxAnnotation\"},{\"attributes\":{\"fill_color\":{\"value\":\"#459E0F\"},\"height\":{\"value\":0.3},\"line_color\":{\"value\":\"#459E0F\"},\"right\":{\"value\":0.39349112426035504},\"y\":{\"value\":1}},\"id\":\"4cee640f-c54e-43ee-8ccd-12ce264f316b\",\"type\":\"HBar\"},{\"attributes\":{\"line_color\":{\"value\":\"#AAB2A5\"},\"line_dash\":[6],\"line_width\":{\"value\":2},\"x\":{\"field\":\"x\"},\"y\":{\"field\":\"y\"}},\"id\":\"d5610cd6-8c3c-49d2-9db8-0239afcf8c45\",\"type\":\"Line\"},{\"attributes\":{\"text\":\"<h1 style='margin-left:150px;margin-right:-500px;margin-bottom:18px;font-size:20px;                color:#7D7575'> Time thresholds for pick ups / drop offs (first expected time)</h1>\"},\"id\":\"e36dd532-0296-4015-8e21-fe2ec1718cee\",\"type\":\"Div\"},{\"attributes\":{\"callback\":null,\"column_names\":[\"x\",\"y\"],\"data\":{\"x\":[0.554240631163708,0.554240631163708],\"y\":[0.5,1.5]}},\"id\":\"56c7d5e4-b108-4e79-a8c2-f302d7a18d44\",\"type\":\"ColumnDataSource\"},{\"attributes\":{},\"id\":\"415ed36b-2cc1-487c-8e04-a4687fdc2217\",\"type\":\"BasicTicker\"},{\"attributes\":{\"data_source\":{\"id\":\"56c7d5e4-b108-4e79-a8c2-f302d7a18d44\",\"type\":\"ColumnDataSource\"},\"glyph\":{\"id\":\"b3ef91c2-a356-4036-9bd1-cba675257cba\",\"type\":\"Line\"},\"hover_glyph\":null,\"muted_glyph\":null,\"nonselection_glyph\":{\"id\":\"16598484-7c5a-4b57-8bd1-9b6fec45e1a9\",\"type\":\"Line\"},\"selection_glyph\":null},\"id\":\"22895a9c-0f3f-4f5a-a63b-fa85489af632\",\"type\":\"GlyphRenderer\"},{\"attributes\":{},\"id\":\"d12229ff-7471-4c0b-908d-c71a92b01e2c\",\"type\":\"BasicTicker\"},{\"attributes\":{\"callback\":null},\"id\":\"26dfe494-f3e8-4f7f-9d67-1f264db8e860\",\"type\":\"DataRange1d\"},{\"attributes\":{\"callback\":null,\"data\":{}},\"id\":\"1b3dfddf-b075-4ffb-a1c9-e24bd2fe66be\",\"type\":\"ColumnDataSource\"},{\"attributes\":{},\"id\":\"7960cee2-3fe8-4e34-84c4-2d54deaf7d0c\",\"type\":\"BasicTickFormatter\"},{\"attributes\":{\"callback\":null,\"plot\":{\"id\":\"5357843f-e806-47a4-99ee-35fce459deab\",\"subtype\":\"Figure\",\"type\":\"Plot\"},\"tooltips\":[[\"pct\",\"@pct{(0.00%)}\"]]},\"id\":\"250d3372-bf0b-4690-b4aa-d31f29f54546\",\"type\":\"HoverTool\"},{\"attributes\":{\"formatter\":{\"id\":\"f509df9b-a03a-4940-a40c-18fc2d2e8383\",\"type\":\"BasicTickFormatter\"},\"plot\":{\"id\":\"5357843f-e806-47a4-99ee-35fce459deab\",\"subtype\":\"Figure\",\"type\":\"Plot\"},\"ticker\":{\"id\":\"2b5e262d-b6db-401f-8e5d-6212dfc4860c\",\"type\":\"BasicTicker\"}},\"id\":\"7d353828-cf66-4312-a95d-ebfbe640b85c\",\"type\":\"LinearAxis\"},{\"attributes\":{\"data_source\":{\"id\":\"2bd27dd6-178d-4b51-bc96-d29f145e29bd\",\"type\":\"ColumnDataSource\"},\"glyph\":{\"id\":\"db42ebec-a647-45c5-8ca0-c818d092cb9d\",\"type\":\"Line\"},\"hover_glyph\":null,\"muted_glyph\":null,\"nonselection_glyph\":{\"id\":\"e7079a5d-4c4f-4c9e-87da-3a579d8f4a38\",\"type\":\"Line\"},\"selection_glyph\":null},\"id\":\"217a113c-18f3-4fd0-bbbe-d6c4287c6f84\",\"type\":\"GlyphRenderer\"},{\"attributes\":{},\"id\":\"f509df9b-a03a-4940-a40c-18fc2d2e8383\",\"type\":\"BasicTickFormatter\"},{\"attributes\":{\"data_source\":{\"id\":\"48a4e3b0-f0e9-4d14-b814-0886144c5f23\",\"type\":\"ColumnDataSource\"},\"glyph\":{\"id\":\"1bcc0c76-c659-49dc-953b-c27a0e1ef53c\",\"type\":\"HBar\"},\"hover_glyph\":null,\"muted_glyph\":null,\"nonselection_glyph\":{\"id\":\"641414f2-ecbf-46ef-9dba-7ffe38c1b14f\",\"type\":\"HBar\"},\"selection_glyph\":null},\"id\":\"77f84595-83bf-4f78-a959-d658aea0ba94\",\"type\":\"GlyphRenderer\"},{\"attributes\":{},\"id\":\"2b5e262d-b6db-401f-8e5d-6212dfc4860c\",\"type\":\"BasicTicker\"},{\"attributes\":{\"data_source\":{\"id\":\"2018ff20-024d-490e-9ae2-896171f54971\",\"type\":\"ColumnDataSource\"},\"glyph\":{\"id\":\"6c2f0b92-ecf4-461e-8230-87ff46afc982\",\"type\":\"Line\"},\"hover_glyph\":null,\"muted_glyph\":null,\"nonselection_glyph\":{\"id\":\"c8fef439-b779-45b9-ac7d-18afce9af34c\",\"type\":\"Line\"},\"selection_glyph\":null},\"id\":\"74196f4c-dd9e-40ab-bc72-386d783d6a31\",\"type\":\"GlyphRenderer\"},{\"attributes\":{\"line_alpha\":{\"value\":0.1},\"line_color\":{\"value\":\"#1f77b4\"},\"line_dash\":[6],\"line_width\":{\"value\":2},\"x\":{\"field\":\"x\"},\"y\":{\"field\":\"y\"}},\"id\":\"ce46f918-ae82-4d7e-bc42-4da748cd5166\",\"type\":\"Line\"},{\"attributes\":{},\"id\":\"49f5cbb1-18fa-47a5-ac27-52144bb76e9b\",\"type\":\"BasicTickFormatter\"},{\"attributes\":{\"fill_color\":{\"value\":\"#E43216\"},\"height\":{\"value\":0.3},\"left\":{\"value\":-0.43280632411067194},\"line_color\":{\"value\":\"#E43216\"},\"right\":{\"value\":-0.41007905138339923},\"y\":{\"value\":1}},\"id\":\"a9e0f9f1-6802-4ba1-af5d-5a8bdb4b369e\",\"type\":\"HBar\"},{\"attributes\":{},\"id\":\"e15445b8-f056-4320-9dd2-367e6d6af7f1\",\"type\":\"LinearScale\"},{\"attributes\":{\"callback\":null,\"data\":{}},\"id\":\"2b273d19-22f4-4035-ae3b-327f984efb8d\",\"type\":\"ColumnDataSource\"},{\"attributes\":{\"data_source\":{\"id\":\"31daaad7-7f41-4cde-8dc8-6927d2432177\",\"type\":\"ColumnDataSource\"},\"glyph\":{\"id\":\"8697e810-81dc-4ffa-8af6-9ddf2eee249a\",\"type\":\"Line\"},\"hover_glyph\":null,\"muted_glyph\":null,\"nonselection_glyph\":{\"id\":\"fe2e5f39-ddab-409b-a9ef-7f558e70d171\",\"type\":\"Line\"},\"selection_glyph\":null},\"id\":\"30bc4f1a-95aa-4226-8535-9795ccf3b791\",\"type\":\"GlyphRenderer\"},{\"attributes\":{\"active_drag\":\"auto\",\"active_inspect\":\"auto\",\"active_scroll\":\"auto\",\"active_tap\":\"auto\",\"tools\":[{\"id\":\"973c4445-b6c3-47e0-95eb-78a84a69674e\",\"type\":\"PanTool\"},{\"id\":\"21a4a3d0-6d6d-4d18-800d-d50d89efebcf\",\"type\":\"WheelZoomTool\"},{\"id\":\"9ec20a5c-43dd-4065-bfc0-163d3df058a0\",\"type\":\"BoxZoomTool\"},{\"id\":\"2b56564f-78fb-47f8-a352-fc69b40e2799\",\"type\":\"SaveTool\"},{\"id\":\"28abbba9-a3ad-4a16-ab7f-6eccf2c4ebb7\",\"type\":\"ResetTool\"},{\"id\":\"b37cd2f9-e5d5-49e0-af2d-d6f94ba2fe81\",\"type\":\"HelpTool\"}]},\"id\":\"55af66a9-7b3c-4923-8a79-8ad552235c6c\",\"type\":\"Toolbar\"},{\"attributes\":{\"dimension\":1,\"plot\":{\"id\":\"40b543ad-4c67-4814-801b-6ee2bc5e8201\",\"subtype\":\"Figure\",\"type\":\"Plot\"},\"ticker\":{\"id\":\"cb843bfa-a098-4264-a7f3-12f749979dce\",\"type\":\"BasicTicker\"}},\"id\":\"b087781e-3d43-493b-b755-288103860924\",\"type\":\"Grid\"},{\"attributes\":{\"dimension\":1,\"grid_line_color\":{\"value\":null},\"plot\":{\"id\":\"8a008a69-68c5-47ec-9eb9-ae9d81eae176\",\"subtype\":\"Figure\",\"type\":\"Plot\"},\"ticker\":{\"id\":\"105ddecd-b7ff-4555-ad5b-314fd3bd04aa\",\"type\":\"BasicTicker\"}},\"id\":\"7ddd6894-4833-4c21-a212-5a7d83bc8258\",\"type\":\"Grid\"},{\"attributes\":{\"formatter\":{\"id\":\"7d25ef09-8d27-4536-a090-d5c2da6c7e2d\",\"type\":\"BasicTickFormatter\"},\"plot\":{\"id\":\"40b543ad-4c67-4814-801b-6ee2bc5e8201\",\"subtype\":\"Figure\",\"type\":\"Plot\"},\"ticker\":{\"id\":\"06307ef8-14b8-483b-8af1-0a0d5421a617\",\"type\":\"BasicTicker\"}},\"id\":\"5f12779d-6cf4-4037-ba63-a4d72ca078b1\",\"type\":\"LinearAxis\"},{\"attributes\":{\"above\":[{\"id\":\"9d317cac-2a48-4ecd-8582-0e2e0219d469\",\"type\":\"Title\"}],\"below\":[{\"id\":\"7d353828-cf66-4312-a95d-ebfbe640b85c\",\"type\":\"LinearAxis\"}],\"left\":[{\"id\":\"36fdbd21-724e-4c5e-8bc5-2b357350bff7\",\"type\":\"LinearAxis\"}],\"plot_height\":300,\"plot_width\":400,\"renderers\":[{\"id\":\"7d353828-cf66-4312-a95d-ebfbe640b85c\",\"type\":\"LinearAxis\"},{\"id\":\"d43d865a-4be5-4ea8-9968-6051459141a2\",\"type\":\"Grid\"},{\"id\":\"36fdbd21-724e-4c5e-8bc5-2b357350bff7\",\"type\":\"LinearAxis\"},{\"id\":\"dcd0153e-677e-45d2-877e-67788000405f\",\"type\":\"Grid\"},{\"id\":\"9d317cac-2a48-4ecd-8582-0e2e0219d469\",\"type\":\"Title\"},{\"id\":\"0bd115b2-e898-4426-8cfa-7d72acb66d8a\",\"type\":\"GlyphRenderer\"}],\"title\":{\"id\":\"c575d0ec-8fe6-4a9c-8112-9e92d6053d82\",\"type\":\"Title\"},\"tool_events\":{\"id\":\"27954a50-f053-4f52-82dc-7861d314ee85\",\"type\":\"ToolEvents\"},\"toolbar\":{\"id\":\"38a859e5-5d0a-4c8c-b88a-10e2092cda41\",\"type\":\"Toolbar\"},\"x_range\":{\"id\":\"26dfe494-f3e8-4f7f-9d67-1f264db8e860\",\"type\":\"DataRange1d\"},\"x_scale\":{\"id\":\"3f282778-4d18-4e14-ae8b-245f3aabb742\",\"type\":\"LinearScale\"},\"y_range\":{\"id\":\"53000f45-c7be-4cab-bfaa-f08884f82fbe\",\"type\":\"DataRange1d\"},\"y_scale\":{\"id\":\"80ddb969-566e-4bdc-8740-264062223195\",\"type\":\"LinearScale\"}},\"id\":\"5357843f-e806-47a4-99ee-35fce459deab\",\"subtype\":\"Figure\",\"type\":\"Plot\"},{\"attributes\":{\"plot\":null,\"text\":\"\"},\"id\":\"88fa68fe-19f9-4083-92f9-2d05ea84823f\",\"type\":\"Title\"},{\"attributes\":{},\"id\":\"b23b42c1-4f1c-4ed9-9ded-7f39122468e8\",\"type\":\"LinearScale\"},{\"attributes\":{\"fill_alpha\":{\"value\":0.1},\"fill_color\":{\"value\":\"#1f77b4\"},\"height\":{\"value\":0.3},\"left\":{\"value\":-0.2766798418972332},\"line_alpha\":{\"value\":0.1},\"line_color\":{\"value\":\"#1f77b4\"},\"right\":{\"value\":0},\"y\":{\"value\":1}},\"id\":\"42dc218c-9a2a-4073-b383-cd52cd2d80b6\",\"type\":\"HBar\"},{\"attributes\":{\"callback\":null},\"id\":\"8c617775-4500-4912-b597-d8203c658cfc\",\"type\":\"DataRange1d\"},{\"attributes\":{\"grid_line_color\":{\"value\":null},\"plot\":{\"id\":\"f532caeb-99ba-4a54-867f-7b26a2c9aa90\",\"subtype\":\"Figure\",\"type\":\"Plot\"},\"ticker\":{\"id\":\"75b489d2-82ad-4f30-84ce-f081588fc7ca\",\"type\":\"BasicTicker\"}},\"id\":\"6063096d-57d1-46d5-abf9-92980228526f\",\"type\":\"Grid\"},{\"attributes\":{\"active_drag\":\"auto\",\"active_inspect\":\"auto\",\"active_scroll\":\"auto\",\"active_tap\":\"auto\",\"tools\":[{\"id\":\"250d3372-bf0b-4690-b4aa-d31f29f54546\",\"type\":\"HoverTool\"}]},\"id\":\"38a859e5-5d0a-4c8c-b88a-10e2092cda41\",\"type\":\"Toolbar\"},{\"attributes\":{\"callback\":null,\"data\":{}},\"id\":\"6b1b72f8-030a-429f-bc54-9f60d0268c3c\",\"type\":\"ColumnDataSource\"},{\"attributes\":{\"callback\":null,\"plot\":{\"id\":\"40b543ad-4c67-4814-801b-6ee2bc5e8201\",\"subtype\":\"Figure\",\"type\":\"Plot\"},\"tooltips\":[[\"pct\",\"@pct{(0.00%)}\"]]},\"id\":\"f13edac2-c750-4419-8f67-ef39f389e7f0\",\"type\":\"HoverTool\"},{\"attributes\":{\"fill_color\":{\"value\":\"#E4E02C\"},\"height\":{\"value\":0.3},\"left\":{\"value\":0.2549407114624506},\"line_color\":{\"value\":\"#E4E02C\"},\"right\":{\"value\":0.4288537549407115},\"y\":{\"value\":1}},\"id\":\"5a20c027-506a-469d-a276-969052d095de\",\"type\":\"HBar\"},{\"attributes\":{\"fill_alpha\":{\"value\":0.1},\"fill_color\":{\"value\":\"#1f77b4\"},\"height\":{\"value\":0.3},\"left\":{\"value\":0.554240631163708},\"line_alpha\":{\"value\":0.1},\"line_color\":{\"value\":\"#1f77b4\"},\"right\":{\"value\":0.6084812623274161},\"y\":{\"value\":1}},\"id\":\"9ffdf53a-0da4-4299-9f23-50efe4c94546\",\"type\":\"HBar\"},{\"attributes\":{\"line_color\":{\"value\":\"#AAB2A5\"},\"line_dash\":[6],\"line_width\":{\"value\":2},\"x\":{\"field\":\"x\"},\"y\":{\"field\":\"y\"}},\"id\":\"8697e810-81dc-4ffa-8af6-9ddf2eee249a\",\"type\":\"Line\"},{\"attributes\":{\"line_alpha\":{\"value\":0.1},\"line_color\":{\"value\":\"#1f77b4\"},\"line_dash\":[6],\"line_width\":{\"value\":2},\"x\":{\"field\":\"x\"},\"y\":{\"field\":\"y\"}},\"id\":\"e7079a5d-4c4f-4c9e-87da-3a579d8f4a38\",\"type\":\"Line\"},{\"attributes\":{\"formatter\":{\"id\":\"7960cee2-3fe8-4e34-84c4-2d54deaf7d0c\",\"type\":\"BasicTickFormatter\"},\"plot\":{\"id\":\"8a008a69-68c5-47ec-9eb9-ae9d81eae176\",\"subtype\":\"Figure\",\"type\":\"Plot\"},\"ticker\":{\"id\":\"105ddecd-b7ff-4555-ad5b-314fd3bd04aa\",\"type\":\"BasicTicker\"},\"visible\":false},\"id\":\"7ad12d6a-d47e-4ce9-8304-180f2b45bdc5\",\"type\":\"LinearAxis\"},{\"attributes\":{\"callback\":null,\"end\":2},\"id\":\"11edde9b-79c3-4859-82d2-10ad94ee6fb8\",\"type\":\"Range1d\"},{\"attributes\":{\"line_alpha\":{\"value\":0.1},\"line_color\":{\"value\":\"#1f77b4\"},\"line_dash\":[6],\"line_width\":{\"value\":2},\"x\":{\"field\":\"x\"},\"y\":{\"field\":\"y\"}},\"id\":\"c8fef439-b779-45b9-ac7d-18afce9af34c\",\"type\":\"Line\"},{\"attributes\":{\"callback\":null,\"column_names\":[\"x\",\"y\"],\"data\":{\"x\":[0,0],\"y\":[0.5,1.5]}},\"id\":\"70404a60-8ca3-471e-b497-9dbb9fac3d69\",\"type\":\"ColumnDataSource\"},{\"attributes\":{\"data_source\":{\"id\":\"014f1dca-0bd9-4d4f-838e-e962384e9848\",\"type\":\"ColumnDataSource\"},\"glyph\":{\"id\":\"864f8cda-593e-4f7a-94f0-b75df099007f\",\"type\":\"HBar\"},\"hover_glyph\":null,\"muted_glyph\":null,\"nonselection_glyph\":{\"id\":\"9d99b267-e2b5-4de8-bfbb-001969fdd8d0\",\"type\":\"HBar\"},\"selection_glyph\":null},\"id\":\"f1121a3f-51fb-4a50-abe7-85c916af2b99\",\"type\":\"GlyphRenderer\"},{\"attributes\":{\"line_alpha\":{\"value\":0.1},\"line_color\":{\"value\":\"#1f77b4\"},\"line_dash\":[6],\"line_width\":{\"value\":2},\"x\":{\"field\":\"x\"},\"y\":{\"field\":\"y\"}},\"id\":\"561479ed-97c3-4136-a7bf-ef50c0bd7ae3\",\"type\":\"Line\"},{\"attributes\":{\"callback\":null,\"column_names\":[\"x\",\"y\"],\"data\":{\"x\":[0,0],\"y\":[0.5,1.5]}},\"id\":\"b76f0828-a562-4b47-a1ac-29793d47ebe2\",\"type\":\"ColumnDataSource\"},{\"attributes\":{},\"id\":\"20d7b8bc-e27a-470a-8a66-8f48398a4b3f\",\"type\":\"LinearScale\"},{\"attributes\":{\"data_source\":{\"id\":\"deb6f030-5d8f-48af-ba0a-f106476b269e\",\"type\":\"ColumnDataSource\"},\"glyph\":{\"id\":\"335c52a1-f58a-418f-9d30-14d35b86f2d7\",\"type\":\"HBar\"},\"hover_glyph\":null,\"muted_glyph\":null,\"nonselection_glyph\":{\"id\":\"c0d94b69-e01b-4187-8f62-db78c0546cdd\",\"type\":\"HBar\"},\"selection_glyph\":null},\"id\":\"792566af-050e-4c14-b8f1-5a3b5e37a656\",\"type\":\"GlyphRenderer\"},{\"attributes\":{\"data_source\":{\"id\":\"70404a60-8ca3-471e-b497-9dbb9fac3d69\",\"type\":\"ColumnDataSource\"},\"glyph\":{\"id\":\"2850cab5-3375-45b2-abdb-ac5d61def8ad\",\"type\":\"Line\"},\"hover_glyph\":null,\"muted_glyph\":null,\"nonselection_glyph\":{\"id\":\"686387f6-7267-45e8-af1b-440b2fbd551b\",\"type\":\"Line\"},\"selection_glyph\":null},\"id\":\"74e9ca4e-dfea-4e31-bf5a-f2c7cd3db040\",\"type\":\"GlyphRenderer\"},{\"attributes\":{\"callback\":null,\"data\":{}},\"id\":\"014f1dca-0bd9-4d4f-838e-e962384e9848\",\"type\":\"ColumnDataSource\"},{\"attributes\":{},\"id\":\"acb580ae-f489-41b1-b40b-1afdab53aec5\",\"type\":\"BasicTickFormatter\"},{\"attributes\":{\"data_source\":{\"id\":\"0899b181-8ae4-4ac2-915e-14aa383b729d\",\"type\":\"ColumnDataSource\"},\"glyph\":{\"id\":\"0c516001-2e80-483e-98df-48a882eaea9f\",\"type\":\"Line\"},\"hover_glyph\":null,\"muted_glyph\":null,\"nonselection_glyph\":{\"id\":\"561479ed-97c3-4136-a7bf-ef50c0bd7ae3\",\"type\":\"Line\"},\"selection_glyph\":null},\"id\":\"a7aca8c1-3064-443f-b4c4-174fab3fb7d6\",\"type\":\"GlyphRenderer\"},{\"attributes\":{},\"id\":\"ff132c51-6cfc-497a-8e74-9f128c556bff\",\"type\":\"LinearScale\"},{\"attributes\":{\"callback\":null,\"column_names\":[\"x\",\"y\"],\"data\":{\"x\":[-0.32741617357001973,-0.32741617357001973],\"y\":[0.5,1.5]}},\"id\":\"89e50e1f-5bee-4876-99ff-49126e426aeb\",\"type\":\"ColumnDataSource\"},{\"attributes\":{\"callback\":null,\"data\":{}},\"id\":\"42546db4-912b-4434-a0b5-1440d5de2457\",\"type\":\"ColumnDataSource\"},{\"attributes\":{},\"id\":\"105ddecd-b7ff-4555-ad5b-314fd3bd04aa\",\"type\":\"BasicTicker\"},{\"attributes\":{\"fill_alpha\":{\"value\":0.1},\"fill_color\":{\"value\":\"#1f77b4\"},\"height\":{\"value\":0.3},\"left\":{\"value\":-0.41007905138339923},\"line_alpha\":{\"value\":0.1},\"line_color\":{\"value\":\"#1f77b4\"},\"right\":{\"value\":-0.2766798418972332},\"y\":{\"value\":1}},\"id\":\"7b2e7e98-917b-4c33-a262-c221713ec05b\",\"type\":\"HBar\"},{\"attributes\":{\"data_source\":{\"id\":\"6b1b72f8-030a-429f-bc54-9f60d0268c3c\",\"type\":\"ColumnDataSource\"},\"glyph\":{\"id\":\"5a20c027-506a-469d-a276-969052d095de\",\"type\":\"HBar\"},\"hover_glyph\":null,\"muted_glyph\":null,\"nonselection_glyph\":{\"id\":\"3eb5a734-6fdd-4a68-8324-a2081ed7e6e0\",\"type\":\"HBar\"},\"selection_glyph\":null},\"id\":\"def056f5-281f-4785-b006-5a172c19f6ef\",\"type\":\"GlyphRenderer\"},{\"attributes\":{},\"id\":\"6d18115e-349a-48c7-a146-1b742f4ed695\",\"type\":\"BasicTickFormatter\"},{\"attributes\":{\"align\":\"center\",\"plot\":{\"id\":\"8a008a69-68c5-47ec-9eb9-ae9d81eae176\",\"subtype\":\"Figure\",\"type\":\"Plot\"},\"text\":\"Rush/delays within time thresholds drop off\"},\"id\":\"1c54acf6-988f-41a9-8fe3-b34a53e3b0fe\",\"type\":\"Title\"},{\"attributes\":{\"callback\":null,\"column_names\":[\"index\",\"pct\",\"colors\",\"thresholds\"],\"data\":{\"colors\":[\"#459E0F\",\"#E4E02C\",\"#E43216\"],\"index\":[0,1,2],\"pct\":{\"__ndarray__\":\"ViJ0LqwR5z/+ZcJNUofMP6dCtOHzx6w/\",\"dtype\":\"float64\",\"shape\":[3]},\"thresholds\":[\"green\",\"yellow\",\"red\"]}},\"id\":\"7b945eae-b5e9-4ec7-b4c2-1a92a2ffd0df\",\"type\":\"ColumnDataSource\"},{\"attributes\":{\"data_source\":{\"id\":\"7b945eae-b5e9-4ec7-b4c2-1a92a2ffd0df\",\"type\":\"ColumnDataSource\"},\"glyph\":{\"id\":\"abf8b419-1df1-4adc-b701-f21bd0ca1041\",\"type\":\"VBar\"},\"hover_glyph\":null,\"muted_glyph\":null,\"nonselection_glyph\":{\"id\":\"36b1b7cf-00a2-477b-b4f6-5efd75dcb626\",\"type\":\"VBar\"},\"selection_glyph\":null},\"id\":\"3b497a08-fae9-4da0-bf06-a1ce5d5a6233\",\"type\":\"GlyphRenderer\"},{\"attributes\":{\"fill_alpha\":{\"value\":0.1},\"fill_color\":{\"value\":\"#1f77b4\"},\"height\":{\"value\":0.3},\"line_alpha\":{\"value\":0.1},\"line_color\":{\"value\":\"#1f77b4\"},\"right\":{\"value\":0.2549407114624506},\"y\":{\"value\":1}},\"id\":\"963f5439-2b7e-4cda-be6d-8c1a4ef6a6af\",\"type\":\"HBar\"},{\"attributes\":{\"callback\":null,\"column_names\":[\"x\",\"y\"],\"data\":{\"x\":[-0.3895463510848126,-0.3895463510848126],\"y\":[0.5,1.5]}},\"id\":\"2018ff20-024d-490e-9ae2-896171f54971\",\"type\":\"ColumnDataSource\"},{\"attributes\":{\"line_alpha\":{\"value\":0.1},\"line_color\":{\"value\":\"#1f77b4\"},\"line_dash\":[6],\"line_width\":{\"value\":2},\"x\":{\"field\":\"x\"},\"y\":{\"field\":\"y\"}},\"id\":\"fe2e5f39-ddab-409b-a9ef-7f558e70d171\",\"type\":\"Line\"},{\"attributes\":{\"callback\":null},\"id\":\"63734fe0-bb5f-407a-a4a8-a1e145c05e7a\",\"type\":\"DataRange1d\"},{\"attributes\":{\"formatter\":{\"id\":\"49f5cbb1-18fa-47a5-ac27-52144bb76e9b\",\"type\":\"BasicTickFormatter\"},\"plot\":{\"id\":\"40b543ad-4c67-4814-801b-6ee2bc5e8201\",\"subtype\":\"Figure\",\"type\":\"Plot\"},\"ticker\":{\"id\":\"cb843bfa-a098-4264-a7f3-12f749979dce\",\"type\":\"BasicTicker\"}},\"id\":\"1025666f-7d55-4194-9a72-00009a6fb8d7\",\"type\":\"LinearAxis\"},{\"attributes\":{\"overlay\":{\"id\":\"4d888283-42b5-4315-ba2f-6044fe31a9b8\",\"type\":\"BoxAnnotation\"},\"plot\":{\"id\":\"8a008a69-68c5-47ec-9eb9-ae9d81eae176\",\"subtype\":\"Figure\",\"type\":\"Plot\"}},\"id\":\"f74f9747-b344-46b6-88c1-acc5dc8d282f\",\"type\":\"BoxZoomTool\"},{\"attributes\":{\"callback\":null,\"data\":{}},\"id\":\"deb6f030-5d8f-48af-ba0a-f106476b269e\",\"type\":\"ColumnDataSource\"},{\"attributes\":{\"bottom_units\":\"screen\",\"fill_alpha\":{\"value\":0.5},\"fill_color\":{\"value\":\"lightgrey\"},\"left_units\":\"screen\",\"level\":\"overlay\",\"line_alpha\":{\"value\":1.0},\"line_color\":{\"value\":\"black\"},\"line_dash\":[4,4],\"line_width\":{\"value\":2},\"plot\":null,\"render_mode\":\"css\",\"right_units\":\"screen\",\"top_units\":\"screen\"},\"id\":\"4d9e0d09-f593-4174-b311-bf50a00fd5c5\",\"type\":\"BoxAnnotation\"},{\"attributes\":{\"line_color\":{\"value\":\"#AAB2A5\"},\"line_dash\":[6],\"line_width\":{\"value\":2},\"x\":{\"field\":\"x\"},\"y\":{\"field\":\"y\"}},\"id\":\"db42ebec-a647-45c5-8ca0-c818d092cb9d\",\"type\":\"Line\"},{\"attributes\":{\"fill_color\":{\"value\":\"#E43216\"},\"height\":{\"value\":0.3},\"left\":{\"value\":0.554240631163708},\"line_color\":{\"value\":\"#E43216\"},\"right\":{\"value\":0.6084812623274161},\"y\":{\"value\":1}},\"id\":\"3f8a24a7-fd99-40fc-a734-919e80e59b0f\",\"type\":\"HBar\"},{\"attributes\":{},\"id\":\"c62270df-feac-4857-b809-9803158d902f\",\"type\":\"BasicTickFormatter\"},{\"attributes\":{\"callback\":null,\"end\":2},\"id\":\"23f4bad2-96f8-4f66-8e06-42495b93bd80\",\"type\":\"Range1d\"},{\"attributes\":{\"callback\":null,\"data\":{}},\"id\":\"48a4e3b0-f0e9-4d14-b814-0886144c5f23\",\"type\":\"ColumnDataSource\"},{\"attributes\":{\"data_source\":{\"id\":\"89e50e1f-5bee-4876-99ff-49126e426aeb\",\"type\":\"ColumnDataSource\"},\"glyph\":{\"id\":\"4f57eaf1-9597-417a-80b3-ea387c43e144\",\"type\":\"Line\"},\"hover_glyph\":null,\"muted_glyph\":null,\"nonselection_glyph\":{\"id\":\"c0dd086b-b812-48bd-b000-e2d7c12832a8\",\"type\":\"Line\"},\"selection_glyph\":null},\"id\":\"e8992459-8541-485c-b72d-3ae50f437f37\",\"type\":\"GlyphRenderer\"},{\"attributes\":{\"callback\":null,\"column_names\":[\"x\",\"y\"],\"data\":{\"x\":[-0.41007905138339923,-0.41007905138339923],\"y\":[0.5,1.5]}},\"id\":\"0899b181-8ae4-4ac2-915e-14aa383b729d\",\"type\":\"ColumnDataSource\"},{\"attributes\":{\"fill_alpha\":{\"value\":0.1},\"fill_color\":{\"value\":\"#1f77b4\"},\"height\":{\"value\":0.3},\"left\":{\"value\":0.39349112426035504},\"line_alpha\":{\"value\":0.1},\"line_color\":{\"value\":\"#1f77b4\"},\"right\":{\"value\":0.554240631163708},\"y\":{\"value\":1}},\"id\":\"9d99b267-e2b5-4de8-bfbb-001969fdd8d0\",\"type\":\"HBar\"},{\"attributes\":{\"line_color\":{\"value\":\"#AAB2A5\"},\"line_dash\":[6],\"line_width\":{\"value\":2},\"x\":{\"field\":\"x\"},\"y\":{\"field\":\"y\"}},\"id\":\"4f57eaf1-9597-417a-80b3-ea387c43e144\",\"type\":\"Line\"},{\"attributes\":{},\"id\":\"7d25ef09-8d27-4536-a090-d5c2da6c7e2d\",\"type\":\"BasicTickFormatter\"},{\"attributes\":{\"fill_color\":{\"value\":\"#E4E02C\"},\"height\":{\"value\":0.3},\"left\":{\"value\":0.39349112426035504},\"line_color\":{\"value\":\"#E4E02C\"},\"right\":{\"value\":0.554240631163708},\"y\":{\"value\":1}},\"id\":\"864f8cda-593e-4f7a-94f0-b75df099007f\",\"type\":\"HBar\"},{\"attributes\":{\"formatter\":{\"id\":\"6d18115e-349a-48c7-a146-1b742f4ed695\",\"type\":\"BasicTickFormatter\"},\"plot\":{\"id\":\"5357843f-e806-47a4-99ee-35fce459deab\",\"subtype\":\"Figure\",\"type\":\"Plot\"},\"ticker\":{\"id\":\"415ed36b-2cc1-487c-8e04-a4687fdc2217\",\"type\":\"BasicTicker\"}},\"id\":\"36fdbd21-724e-4c5e-8bc5-2b357350bff7\",\"type\":\"LinearAxis\"},{\"attributes\":{\"plot\":null,\"text\":\"\"},\"id\":\"c575d0ec-8fe6-4a9c-8112-9e92d6053d82\",\"type\":\"Title\"},{\"attributes\":{\"line_color\":{\"value\":\"#AAB2A5\"},\"line_dash\":[6],\"line_width\":{\"value\":2},\"x\":{\"field\":\"x\"},\"y\":{\"field\":\"y\"}},\"id\":\"a78715bf-85ea-4fcb-b669-2cf98bd49ff2\",\"type\":\"Line\"},{\"attributes\":{\"line_alpha\":{\"value\":0.1},\"line_color\":{\"value\":\"#1f77b4\"},\"line_dash\":[6],\"line_width\":{\"value\":2},\"x\":{\"field\":\"x\"},\"y\":{\"field\":\"y\"}},\"id\":\"686387f6-7267-45e8-af1b-440b2fbd551b\",\"type\":\"Line\"},{\"attributes\":{\"data_source\":{\"id\":\"1b3dfddf-b075-4ffb-a1c9-e24bd2fe66be\",\"type\":\"ColumnDataSource\"},\"glyph\":{\"id\":\"f9b29a71-8f58-4053-999b-7adebab579a0\",\"type\":\"HBar\"},\"hover_glyph\":null,\"muted_glyph\":null,\"nonselection_glyph\":{\"id\":\"42dc218c-9a2a-4073-b383-cd52cd2d80b6\",\"type\":\"HBar\"},\"selection_glyph\":null},\"id\":\"1c5bae62-bc50-405c-bd5c-52396630d892\",\"type\":\"GlyphRenderer\"},{\"attributes\":{\"fill_color\":{\"value\":\"#E43216\"},\"height\":{\"value\":0.3},\"left\":{\"value\":-0.3915187376725838},\"line_color\":{\"value\":\"#E43216\"},\"right\":{\"value\":-0.3895463510848126},\"y\":{\"value\":1}},\"id\":\"335c52a1-f58a-418f-9d30-14d35b86f2d7\",\"type\":\"HBar\"},{\"attributes\":{\"plot\":{\"id\":\"f532caeb-99ba-4a54-867f-7b26a2c9aa90\",\"subtype\":\"Figure\",\"type\":\"Plot\"}},\"id\":\"28abbba9-a3ad-4a16-ab7f-6eccf2c4ebb7\",\"type\":\"ResetTool\"},{\"attributes\":{\"fill_alpha\":{\"value\":0.1},\"fill_color\":{\"value\":\"#1f77b4\"},\"height\":{\"value\":0.3},\"left\":{\"value\":-0.32741617357001973},\"line_alpha\":{\"value\":0.1},\"line_color\":{\"value\":\"#1f77b4\"},\"right\":{\"value\":0},\"y\":{\"value\":1}},\"id\":\"0ed8b73e-d16b-41bf-8356-ad8094c6b2e1\",\"type\":\"HBar\"},{\"attributes\":{\"fill_color\":{\"value\":\"#459E0F\"},\"height\":{\"value\":0.3},\"left\":{\"value\":-0.2766798418972332},\"line_color\":{\"value\":\"#459E0F\"},\"right\":{\"value\":0},\"y\":{\"value\":1}},\"id\":\"f9b29a71-8f58-4053-999b-7adebab579a0\",\"type\":\"HBar\"},{\"attributes\":{\"callback\":null,\"data\":{}},\"id\":\"83b2b3bf-4148-4a22-a8b3-8529eb29875e\",\"type\":\"ColumnDataSource\"},{\"attributes\":{\"data_source\":{\"id\":\"b76f0828-a562-4b47-a1ac-29793d47ebe2\",\"type\":\"ColumnDataSource\"},\"glyph\":{\"id\":\"d5610cd6-8c3c-49d2-9db8-0239afcf8c45\",\"type\":\"Line\"},\"hover_glyph\":null,\"muted_glyph\":null,\"nonselection_glyph\":{\"id\":\"63a56f50-1329-4f55-b684-3df40d2d2520\",\"type\":\"Line\"},\"selection_glyph\":null},\"id\":\"f035ef60-e64a-4f0b-aead-31687cfd0927\",\"type\":\"GlyphRenderer\"},{\"attributes\":{\"callback\":null,\"data\":{}},\"id\":\"ed0db3ab-7c9e-442a-ab66-f09c46f3000f\",\"type\":\"ColumnDataSource\"},{\"attributes\":{\"active_drag\":\"auto\",\"active_inspect\":\"auto\",\"active_scroll\":\"auto\",\"active_tap\":\"auto\",\"tools\":[{\"id\":\"b5c19148-a2f8-4bab-a8a8-24c6eabbcf98\",\"type\":\"PanTool\"},{\"id\":\"a32712e0-47c1-4b0c-9337-4d73d9c710be\",\"type\":\"WheelZoomTool\"},{\"id\":\"f74f9747-b344-46b6-88c1-acc5dc8d282f\",\"type\":\"BoxZoomTool\"},{\"id\":\"b638555f-b9ff-4cfd-8dfb-7efba74daf5a\",\"type\":\"SaveTool\"},{\"id\":\"ad2ff032-1006-4812-811e-a37322b93cdd\",\"type\":\"ResetTool\"},{\"id\":\"72694eff-5d64-4bb3-90b2-3519a2a3dedd\",\"type\":\"HelpTool\"}]},\"id\":\"597c14dc-fe3c-4f79-8afb-8545fcad5881\",\"type\":\"Toolbar\"},{\"attributes\":{\"callback\":null},\"id\":\"53000f45-c7be-4cab-bfaa-f08884f82fbe\",\"type\":\"DataRange1d\"},{\"attributes\":{},\"id\":\"25cef963-761e-4c1f-8fff-d03d1bdfc5c5\",\"type\":\"ToolEvents\"},{\"attributes\":{\"line_color\":{\"value\":\"#AAB2A5\"},\"line_dash\":[6],\"line_width\":{\"value\":2},\"x\":{\"field\":\"x\"},\"y\":{\"field\":\"y\"}},\"id\":\"0c516001-2e80-483e-98df-48a882eaea9f\",\"type\":\"Line\"},{\"attributes\":{\"children\":[{\"id\":\"f532caeb-99ba-4a54-867f-7b26a2c9aa90\",\"subtype\":\"Figure\",\"type\":\"Plot\"},{\"id\":\"40b543ad-4c67-4814-801b-6ee2bc5e8201\",\"subtype\":\"Figure\",\"type\":\"Plot\"}]},\"id\":\"86a65d75-d340-41b8-819a-0251127867f8\",\"type\":\"Row\"},{\"attributes\":{\"fill_color\":{\"field\":\"colors\"},\"line_color\":{\"field\":\"colors\"},\"top\":{\"field\":\"pct\"},\"width\":{\"value\":0.6},\"x\":{\"field\":\"index\"}},\"id\":\"553f74b0-d4e8-4972-9242-9a13edd57fdb\",\"type\":\"VBar\"},{\"attributes\":{\"data_source\":{\"id\":\"2e9e99c2-e381-4208-b3f9-a7c7e0cfd760\",\"type\":\"ColumnDataSource\"},\"glyph\":{\"id\":\"70a373cd-d12a-48d3-bf72-57cfff8aad56\",\"type\":\"Line\"},\"hover_glyph\":null,\"muted_glyph\":null,\"nonselection_glyph\":{\"id\":\"835aee55-bd43-4762-9f3c-2f3748931aed\",\"type\":\"Line\"},\"selection_glyph\":null},\"id\":\"021b22df-38b4-402e-814e-96012be236f9\",\"type\":\"GlyphRenderer\"},{\"attributes\":{\"line_color\":{\"value\":\"#AAB2A5\"},\"line_dash\":[6],\"line_width\":{\"value\":2},\"x\":{\"field\":\"x\"},\"y\":{\"field\":\"y\"}},\"id\":\"6c2f0b92-ecf4-461e-8230-87ff46afc982\",\"type\":\"Line\"},{\"attributes\":{},\"id\":\"b62480eb-0d38-40b0-a2b3-dc9c62468a2c\",\"type\":\"BasicTickFormatter\"},{\"attributes\":{},\"id\":\"06307ef8-14b8-483b-8af1-0a0d5421a617\",\"type\":\"BasicTicker\"},{\"attributes\":{\"children\":[{\"id\":\"8a008a69-68c5-47ec-9eb9-ae9d81eae176\",\"subtype\":\"Figure\",\"type\":\"Plot\"},{\"id\":\"5357843f-e806-47a4-99ee-35fce459deab\",\"subtype\":\"Figure\",\"type\":\"Plot\"}]},\"id\":\"f0edfe48-3b07-4437-ad16-98c853bb9daf\",\"type\":\"Row\"},{\"attributes\":{\"align\":\"center\",\"plot\":{\"id\":\"5357843f-e806-47a4-99ee-35fce459deab\",\"subtype\":\"Figure\",\"type\":\"Plot\"},\"text\":\"Total percentage within thresholds drop off\"},\"id\":\"9d317cac-2a48-4ecd-8582-0e2e0219d469\",\"type\":\"Title\"},{\"attributes\":{\"data_source\":{\"id\":\"2b273d19-22f4-4035-ae3b-327f984efb8d\",\"type\":\"ColumnDataSource\"},\"glyph\":{\"id\":\"3f8a24a7-fd99-40fc-a734-919e80e59b0f\",\"type\":\"HBar\"},\"hover_glyph\":null,\"muted_glyph\":null,\"nonselection_glyph\":{\"id\":\"9ffdf53a-0da4-4299-9f23-50efe4c94546\",\"type\":\"HBar\"},\"selection_glyph\":null},\"id\":\"50fe81d6-7748-4c4f-a28d-d170e13af182\",\"type\":\"GlyphRenderer\"},{\"attributes\":{\"overlay\":{\"id\":\"4d9e0d09-f593-4174-b311-bf50a00fd5c5\",\"type\":\"BoxAnnotation\"},\"plot\":{\"id\":\"f532caeb-99ba-4a54-867f-7b26a2c9aa90\",\"subtype\":\"Figure\",\"type\":\"Plot\"}},\"id\":\"9ec20a5c-43dd-4065-bfc0-163d3df058a0\",\"type\":\"BoxZoomTool\"},{\"attributes\":{\"callback\":null},\"id\":\"95897ae2-3026-4cb9-9e6e-edae7bfedf3e\",\"type\":\"DataRange1d\"},{\"attributes\":{\"line_alpha\":{\"value\":0.1},\"line_color\":{\"value\":\"#1f77b4\"},\"line_dash\":[6],\"line_width\":{\"value\":2},\"x\":{\"field\":\"x\"},\"y\":{\"field\":\"y\"}},\"id\":\"835aee55-bd43-4762-9f3c-2f3748931aed\",\"type\":\"Line\"},{\"attributes\":{},\"id\":\"7bee5014-73cb-4ddb-9d75-58d8bdd029c3\",\"type\":\"ToolEvents\"},{\"attributes\":{},\"id\":\"6ff729cc-d90a-4a7e-95ca-8ce1f9bd7be2\",\"type\":\"BasicTicker\"},{\"attributes\":{\"align\":\"center\",\"plot\":{\"id\":\"40b543ad-4c67-4814-801b-6ee2bc5e8201\",\"subtype\":\"Figure\",\"type\":\"Plot\"},\"text\":\"Total percentage within thresholds pick up\"},\"id\":\"33b91b6e-6e8a-44f4-9a51-541cfd089882\",\"type\":\"Title\"},{\"attributes\":{},\"id\":\"911c17e0-7b20-4f2d-8b03-549eda0f3bb7\",\"type\":\"ToolEvents\"},{\"attributes\":{\"data_source\":{\"id\":\"f3364463-66d8-4e33-a273-3947cd131829\",\"type\":\"ColumnDataSource\"},\"glyph\":{\"id\":\"4431a912-d4e6-4469-a521-7a5eb73a5614\",\"type\":\"HBar\"},\"hover_glyph\":null,\"muted_glyph\":null,\"nonselection_glyph\":{\"id\":\"7b2e7e98-917b-4c33-a262-c221713ec05b\",\"type\":\"HBar\"},\"selection_glyph\":null},\"id\":\"919bdb47-d257-4e6a-b421-2434fa537cb0\",\"type\":\"GlyphRenderer\"},{\"attributes\":{\"plot\":null,\"text\":\"\"},\"id\":\"e038fc0d-d34d-4e44-9497-c296f9c1e453\",\"type\":\"Title\"},{\"attributes\":{\"fill_alpha\":{\"value\":0.1},\"fill_color\":{\"value\":\"#1f77b4\"},\"height\":{\"value\":0.3},\"line_alpha\":{\"value\":0.1},\"line_color\":{\"value\":\"#1f77b4\"},\"right\":{\"value\":0.39349112426035504},\"y\":{\"value\":1}},\"id\":\"c68f0251-050f-46ae-86c5-f13c5aefb4ef\",\"type\":\"HBar\"},{\"attributes\":{\"plot\":{\"id\":\"8a008a69-68c5-47ec-9eb9-ae9d81eae176\",\"subtype\":\"Figure\",\"type\":\"Plot\"}},\"id\":\"ad2ff032-1006-4812-811e-a37322b93cdd\",\"type\":\"ResetTool\"},{\"attributes\":{\"above\":[{\"id\":\"33b91b6e-6e8a-44f4-9a51-541cfd089882\",\"type\":\"Title\"}],\"below\":[{\"id\":\"5f12779d-6cf4-4037-ba63-a4d72ca078b1\",\"type\":\"LinearAxis\"}],\"left\":[{\"id\":\"1025666f-7d55-4194-9a72-00009a6fb8d7\",\"type\":\"LinearAxis\"}],\"plot_height\":300,\"plot_width\":400,\"renderers\":[{\"id\":\"5f12779d-6cf4-4037-ba63-a4d72ca078b1\",\"type\":\"LinearAxis\"},{\"id\":\"ee9ea2f8-659f-4cad-b6cf-a8a7c98ddd68\",\"type\":\"Grid\"},{\"id\":\"1025666f-7d55-4194-9a72-00009a6fb8d7\",\"type\":\"LinearAxis\"},{\"id\":\"b087781e-3d43-493b-b755-288103860924\",\"type\":\"Grid\"},{\"id\":\"33b91b6e-6e8a-44f4-9a51-541cfd089882\",\"type\":\"Title\"},{\"id\":\"3b497a08-fae9-4da0-bf06-a1ce5d5a6233\",\"type\":\"GlyphRenderer\"}],\"title\":{\"id\":\"4bc917a0-45dc-4dbe-876d-06ec3fc16443\",\"type\":\"Title\"},\"tool_events\":{\"id\":\"7bee5014-73cb-4ddb-9d75-58d8bdd029c3\",\"type\":\"ToolEvents\"},\"toolbar\":{\"id\":\"156db575-e5a4-4ee5-9cb2-9369cf500296\",\"type\":\"Toolbar\"},\"x_range\":{\"id\":\"63734fe0-bb5f-407a-a4a8-a1e145c05e7a\",\"type\":\"DataRange1d\"},\"x_scale\":{\"id\":\"ff132c51-6cfc-497a-8e74-9f128c556bff\",\"type\":\"LinearScale\"},\"y_range\":{\"id\":\"95897ae2-3026-4cb9-9e6e-edae7bfedf3e\",\"type\":\"DataRange1d\"},\"y_scale\":{\"id\":\"b23b42c1-4f1c-4ed9-9ded-7f39122468e8\",\"type\":\"LinearScale\"}},\"id\":\"40b543ad-4c67-4814-801b-6ee2bc5e8201\",\"subtype\":\"Figure\",\"type\":\"Plot\"},{\"attributes\":{\"callback\":null,\"column_names\":[\"x\",\"y\"],\"data\":{\"x\":[-0.2766798418972332,-0.2766798418972332],\"y\":[0.5,1.5]}},\"id\":\"2bd27dd6-178d-4b51-bc96-d29f145e29bd\",\"type\":\"ColumnDataSource\"},{\"attributes\":{\"callback\":null,\"column_names\":[\"index\",\"pct\",\"colors\",\"thresholds\"],\"data\":{\"colors\":[\"#459E0F\",\"#E4E02C\",\"#E43216\"],\"index\":[0,1,2],\"pct\":{\"__ndarray__\":\"4vVRGwkD4T9SGwkDAavTP9bxpYzZncQ/\",\"dtype\":\"float64\",\"shape\":[3]},\"thresholds\":[\"green\",\"yellow\",\"red\"]}},\"id\":\"0c56686c-b9be-43b7-9c64-bc850b45e3ea\",\"type\":\"ColumnDataSource\"},{\"attributes\":{\"callback\":null,\"data\":{}},\"id\":\"0f4390f9-ff1e-4a54-9360-d44849eba8da\",\"type\":\"ColumnDataSource\"},{\"attributes\":{\"line_alpha\":{\"value\":0.1},\"line_color\":{\"value\":\"#1f77b4\"},\"line_dash\":[6],\"line_width\":{\"value\":2},\"x\":{\"field\":\"x\"},\"y\":{\"field\":\"y\"}},\"id\":\"dc1b2d83-70b5-47d2-b364-8b9e2c57f0dc\",\"type\":\"Line\"},{\"attributes\":{\"data_source\":{\"id\":\"42546db4-912b-4434-a0b5-1440d5de2457\",\"type\":\"ColumnDataSource\"},\"glyph\":{\"id\":\"89ef7c9a-0a5a-4dab-83d5-dce8a2b7400e\",\"type\":\"HBar\"},\"hover_glyph\":null,\"muted_glyph\":null,\"nonselection_glyph\":{\"id\":\"0ed8b73e-d16b-41bf-8356-ad8094c6b2e1\",\"type\":\"HBar\"},\"selection_glyph\":null},\"id\":\"1eb51013-4a4b-40a0-b80b-600a07789bc9\",\"type\":\"GlyphRenderer\"},{\"attributes\":{\"plot\":{\"id\":\"f532caeb-99ba-4a54-867f-7b26a2c9aa90\",\"subtype\":\"Figure\",\"type\":\"Plot\"}},\"id\":\"b37cd2f9-e5d5-49e0-af2d-d6f94ba2fe81\",\"type\":\"HelpTool\"},{\"attributes\":{\"fill_alpha\":{\"value\":0.1},\"fill_color\":{\"value\":\"#1f77b4\"},\"height\":{\"value\":0.3},\"left\":{\"value\":-0.43280632411067194},\"line_alpha\":{\"value\":0.1},\"line_color\":{\"value\":\"#1f77b4\"},\"right\":{\"value\":-0.41007905138339923},\"y\":{\"value\":1}},\"id\":\"c228cd88-f99d-4531-bfba-1d967910a37f\",\"type\":\"HBar\"},{\"attributes\":{\"line_color\":{\"value\":\"#AAB2A5\"},\"line_dash\":[6],\"line_width\":{\"value\":2},\"x\":{\"field\":\"x\"},\"y\":{\"field\":\"y\"}},\"id\":\"b3ef91c2-a356-4036-9bd1-cba675257cba\",\"type\":\"Line\"},{\"attributes\":{},\"id\":\"80ddb969-566e-4bdc-8740-264062223195\",\"type\":\"LinearScale\"},{\"attributes\":{\"callback\":null,\"column_names\":[\"x\",\"y\"],\"data\":{\"x\":[0,0],\"y\":[0.5,1.5]}},\"id\":\"2e9e99c2-e381-4208-b3f9-a7c7e0cfd760\",\"type\":\"ColumnDataSource\"},{\"attributes\":{\"fill_alpha\":{\"value\":0.1},\"fill_color\":{\"value\":\"#1f77b4\"},\"height\":{\"value\":0.3},\"left\":{\"value\":0.4288537549407115},\"line_alpha\":{\"value\":0.1},\"line_color\":{\"value\":\"#1f77b4\"},\"right\":{\"value\":0.5671936758893281},\"y\":{\"value\":1}},\"id\":\"1badc48d-4fb6-4739-8ce9-78b61053c491\",\"type\":\"HBar\"}],\"root_ids\":[\"f01801d5-d728-471d-a813-690a42836ba8\"]},\"title\":\"Bokeh Application\",\"version\":\"0.12.6\"}};\n",
       "            var render_items = [{\"docid\":\"63531546-e01a-4cc6-a1c2-68478271fed0\",\"elementid\":\"3332f979-c769-46e9-8f3b-8e25af034b64\",\"modelid\":\"f01801d5-d728-471d-a813-690a42836ba8\"}];\n",
       "            \n",
       "            Bokeh.embed.embed_items(docs_json, render_items);\n",
       "          };\n",
       "          if (document.readyState != \"loading\") fn();\n",
       "          else document.addEventListener(\"DOMContentLoaded\", fn);\n",
       "        })();\n",
       "      },\n",
       "      function(Bokeh) {\n",
       "      }\n",
       "    ];\n",
       "  \n",
       "    function run_inline_js() {\n",
       "      \n",
       "      if ((window.Bokeh !== undefined) || (force === true)) {\n",
       "        for (var i = 0; i < inline_js.length; i++) {\n",
       "          inline_js[i](window.Bokeh);\n",
       "        }if (force === true) {\n",
       "          display_loaded();\n",
       "        }} else if (Date.now() < window._bokeh_timeout) {\n",
       "        setTimeout(run_inline_js, 100);\n",
       "      } else if (!window._bokeh_failed_load) {\n",
       "        console.log(\"Bokeh: BokehJS failed to load within specified timeout.\");\n",
       "        window._bokeh_failed_load = true;\n",
       "      } else if (force !== true) {\n",
       "        var cell = $(document.getElementById(\"3332f979-c769-46e9-8f3b-8e25af034b64\")).parents('.cell').data().cell;\n",
       "        cell.output_area.append_execute_result(NB_LOAD_WARNING)\n",
       "      }\n",
       "  \n",
       "    }\n",
       "  \n",
       "    if (window._bokeh_is_loading === 0) {\n",
       "      console.log(\"Bokeh: BokehJS loaded, going straight to plotting\");\n",
       "      run_inline_js();\n",
       "    } else {\n",
       "      load_libs(js_urls, function() {\n",
       "        console.log(\"Bokeh: BokehJS plotting callback run at\", now());\n",
       "        run_inline_js();\n",
       "      });\n",
       "    }\n",
       "  }(this));\n",
       "</script>"
      ]
     },
     "metadata": {},
     "output_type": "display_data"
    }
   ],
   "source": [
    "#Using plotting functions\n",
    "time_threshold_first_pick_up_plot = plot_horizontal_time_thresholds(threshold_first_pick_up, 400, 300, 'pct', 'colors', \n",
    "                                                 \"Rush/delays within time thresholds pick up\")\n",
    "within_thresholds_first_pick_up_plot = plot_total_pct_thresholds(within_thresh_first_pick_up, 400, 300, \"index\", \"pct\", \"colors\", \n",
    "                                              \"Total percentage within thresholds pick up\")\n",
    "time_threshold_first_drop_off_plot = plot_horizontal_time_thresholds(threshold_first_drop_off, 400, 300, 'pct', 'colors', \n",
    "                                                 \"Rush/delays within time thresholds drop off\")\n",
    "time_threshold_first_drop_off_plot.x_range = time_threshold_first_pick_up_plot.x_range\n",
    "within_thresholds_first_drop_off_plot = plot_total_pct_thresholds(within_thresh_first_drop_off, 400, 300, \"index\", \"pct\", \"colors\", \n",
    "                                              \"Total percentage within thresholds drop off\")\n",
    "threshold_first_pick_up_plots = row(time_threshold_first_pick_up_plot, within_thresholds_first_pick_up_plot)\n",
    "threshold_first_drop_off_plots = row(time_threshold_first_drop_off_plot, within_thresholds_first_drop_off_plot)\n",
    "\n",
    "show(column(Div(text=\"<h1 style='margin-left:150px;margin-right:-500px;margin-bottom:18px;font-size:20px;\\\n",
    "                color:#7D7575'> Time thresholds for pick ups / drop offs (first expected time)</h1>\"),\n",
    "            column(threshold_first_pick_up_plots, threshold_first_drop_off_plots)))"
   ]
  },
  {
   "cell_type": "markdown",
   "metadata": {},
   "source": [
    "As already noticed in the distribution plots, first estimated times do worst for the drop offs. The regions within the pick ups are within our previous averages. However, in the drop offs we can see that barely more than 50% are within the 3 minutes of the first estimated time. Rides between 3-7 minutes make up approximately 30% of the total drop offs. "
   ]
  },
  {
   "cell_type": "markdown",
   "metadata": {},
   "source": [
    "## Differences between expected and actual time within hour/day\n",
    "\n",
    "Here we will try to determine if there are specific hour/days for which the difference between expected and actual times are more relevant. As we saw that the differences are more pronunciated for the first expected time shown to the user, we will use this data set that will show us the upper bound of differences. The analysis for the last expected time should be easy to reproduce, if requested."
   ]
  },
  {
   "cell_type": "code",
   "execution_count": 316,
   "metadata": {},
   "outputs": [],
   "source": [
    "colors_dict = {\"0\":\"red\", \"5\":\"red\", \"1\":\"yellow\", \"4\":\"yellow\",  \"2\":\"green\", \"3\":\"green\"}\n",
    "est_act_time_first[\"cat_codes\"] = est_act_time_first[\"time_thresholds\"].cat.codes.astype(str)\n",
    "est_act_time_first[\"thresh_cat\"] = est_act_time_first[\"cat_codes\"].map(lambda x: colors_dict[x])\n",
    "est_act_time_first\n",
    "hour_est_act_time_first = est_act_time_first.groupby([pd.Grouper(freq='1h', key='datetime_utc_berlin'), \"thresh_cat\"]).agg(\n",
    "    {'booking_id': \"count\"}).reset_index()\n",
    "hour_est_act_time_first = hour_est_act_time_first.rename(columns={\"booking_id\":\"count\"})\n",
    "hour_est_act_time_first[\"total\"] = hour_est_act_time_first.groupby([pd.Grouper(freq='1h', key='datetime_utc_berlin')])[\"count\"].transform(lambda x: x.sum())"
   ]
  },
  {
   "cell_type": "code",
   "execution_count": 317,
   "metadata": {},
   "outputs": [],
   "source": [
    "hour_est_act_time_first[\"pct\"] = hour_est_act_time_first[\"count\"] / hour_est_act_time_first[\"total\"]"
   ]
  },
  {
   "cell_type": "code",
   "execution_count": 319,
   "metadata": {
    "collapsed": true
   },
   "outputs": [
    {
     "ename": "KeyError",
     "evalue": "'datetime_utc_berlin'",
     "output_type": "error",
     "traceback": [
      "\u001b[0;31m---------------------------------------------------------------------------\u001b[0m",
      "\u001b[0;31mKeyError\u001b[0m                                  Traceback (most recent call last)",
      "\u001b[0;32m~/anaconda/envs/door2door_challenge/lib/python3.5/site-packages/pandas/core/indexes/base.py\u001b[0m in \u001b[0;36mget_loc\u001b[0;34m(self, key, method, tolerance)\u001b[0m\n\u001b[1;32m   2441\u001b[0m             \u001b[0;32mtry\u001b[0m\u001b[0;34m:\u001b[0m\u001b[0;34m\u001b[0m\u001b[0m\n\u001b[0;32m-> 2442\u001b[0;31m                 \u001b[0;32mreturn\u001b[0m \u001b[0mself\u001b[0m\u001b[0;34m.\u001b[0m\u001b[0m_engine\u001b[0m\u001b[0;34m.\u001b[0m\u001b[0mget_loc\u001b[0m\u001b[0;34m(\u001b[0m\u001b[0mkey\u001b[0m\u001b[0;34m)\u001b[0m\u001b[0;34m\u001b[0m\u001b[0m\n\u001b[0m\u001b[1;32m   2443\u001b[0m             \u001b[0;32mexcept\u001b[0m \u001b[0mKeyError\u001b[0m\u001b[0;34m:\u001b[0m\u001b[0;34m\u001b[0m\u001b[0m\n",
      "\u001b[0;32mpandas/_libs/index.pyx\u001b[0m in \u001b[0;36mpandas._libs.index.IndexEngine.get_loc (pandas/_libs/index.c:5280)\u001b[0;34m()\u001b[0m\n",
      "\u001b[0;32mpandas/_libs/index.pyx\u001b[0m in \u001b[0;36mpandas._libs.index.IndexEngine.get_loc (pandas/_libs/index.c:5126)\u001b[0;34m()\u001b[0m\n",
      "\u001b[0;32mpandas/_libs/hashtable_class_helper.pxi\u001b[0m in \u001b[0;36mpandas._libs.hashtable.PyObjectHashTable.get_item (pandas/_libs/hashtable.c:20523)\u001b[0;34m()\u001b[0m\n",
      "\u001b[0;32mpandas/_libs/hashtable_class_helper.pxi\u001b[0m in \u001b[0;36mpandas._libs.hashtable.PyObjectHashTable.get_item (pandas/_libs/hashtable.c:20477)\u001b[0;34m()\u001b[0m\n",
      "\u001b[0;31mKeyError\u001b[0m: 'datetime_utc_berlin'",
      "\nDuring handling of the above exception, another exception occurred:\n",
      "\u001b[0;31mKeyError\u001b[0m                                  Traceback (most recent call last)",
      "\u001b[0;32m<ipython-input-319-7eee3bdb7373>\u001b[0m in \u001b[0;36m<module>\u001b[0;34m()\u001b[0m\n\u001b[1;32m      1\u001b[0m \u001b[0;31m#Pivoting for plotting purposes\u001b[0m\u001b[0;34m\u001b[0m\u001b[0;34m\u001b[0m\u001b[0m\n\u001b[0;32m----> 2\u001b[0;31m \u001b[0mhour_est_act_time_first\u001b[0m \u001b[0;34m=\u001b[0m \u001b[0mhour_est_act_time_first\u001b[0m\u001b[0;34m.\u001b[0m\u001b[0mpivot\u001b[0m\u001b[0;34m(\u001b[0m\u001b[0mindex\u001b[0m\u001b[0;34m=\u001b[0m\u001b[0;34m'datetime_utc_berlin'\u001b[0m\u001b[0;34m,\u001b[0m \u001b[0mcolumns\u001b[0m\u001b[0;34m=\u001b[0m\u001b[0;34m'thresh_cat'\u001b[0m\u001b[0;34m)\u001b[0m\u001b[0;34m\u001b[0m\u001b[0m\n\u001b[0m\u001b[1;32m      3\u001b[0m \u001b[0mhour_est_act_time_first\u001b[0m\u001b[0;34m.\u001b[0m\u001b[0mcolumns\u001b[0m \u001b[0;34m=\u001b[0m \u001b[0;34m[\u001b[0m\u001b[0;34m'_'\u001b[0m\u001b[0;34m.\u001b[0m\u001b[0mjoin\u001b[0m\u001b[0;34m(\u001b[0m\u001b[0mcol\u001b[0m\u001b[0;34m)\u001b[0m \u001b[0;32mfor\u001b[0m \u001b[0mcol\u001b[0m \u001b[0;32min\u001b[0m \u001b[0mhour_est_act_time_first\u001b[0m\u001b[0;34m.\u001b[0m\u001b[0mcolumns\u001b[0m\u001b[0;34m]\u001b[0m\u001b[0;34m\u001b[0m\u001b[0m\n",
      "\u001b[0;32m~/anaconda/envs/door2door_challenge/lib/python3.5/site-packages/pandas/core/frame.py\u001b[0m in \u001b[0;36mpivot\u001b[0;34m(self, index, columns, values)\u001b[0m\n\u001b[1;32m   3851\u001b[0m         \"\"\"\n\u001b[1;32m   3852\u001b[0m         \u001b[0;32mfrom\u001b[0m \u001b[0mpandas\u001b[0m\u001b[0;34m.\u001b[0m\u001b[0mcore\u001b[0m\u001b[0;34m.\u001b[0m\u001b[0mreshape\u001b[0m\u001b[0;34m.\u001b[0m\u001b[0mreshape\u001b[0m \u001b[0;32mimport\u001b[0m \u001b[0mpivot\u001b[0m\u001b[0;34m\u001b[0m\u001b[0m\n\u001b[0;32m-> 3853\u001b[0;31m         \u001b[0;32mreturn\u001b[0m \u001b[0mpivot\u001b[0m\u001b[0;34m(\u001b[0m\u001b[0mself\u001b[0m\u001b[0;34m,\u001b[0m \u001b[0mindex\u001b[0m\u001b[0;34m=\u001b[0m\u001b[0mindex\u001b[0m\u001b[0;34m,\u001b[0m \u001b[0mcolumns\u001b[0m\u001b[0;34m=\u001b[0m\u001b[0mcolumns\u001b[0m\u001b[0;34m,\u001b[0m \u001b[0mvalues\u001b[0m\u001b[0;34m=\u001b[0m\u001b[0mvalues\u001b[0m\u001b[0;34m)\u001b[0m\u001b[0;34m\u001b[0m\u001b[0m\n\u001b[0m\u001b[1;32m   3854\u001b[0m \u001b[0;34m\u001b[0m\u001b[0m\n\u001b[1;32m   3855\u001b[0m     \u001b[0;32mdef\u001b[0m \u001b[0mstack\u001b[0m\u001b[0;34m(\u001b[0m\u001b[0mself\u001b[0m\u001b[0;34m,\u001b[0m \u001b[0mlevel\u001b[0m\u001b[0;34m=\u001b[0m\u001b[0;34m-\u001b[0m\u001b[0;36m1\u001b[0m\u001b[0;34m,\u001b[0m \u001b[0mdropna\u001b[0m\u001b[0;34m=\u001b[0m\u001b[0;32mTrue\u001b[0m\u001b[0;34m)\u001b[0m\u001b[0;34m:\u001b[0m\u001b[0;34m\u001b[0m\u001b[0m\n",
      "\u001b[0;32m~/anaconda/envs/door2door_challenge/lib/python3.5/site-packages/pandas/core/reshape/reshape.py\u001b[0m in \u001b[0;36mpivot\u001b[0;34m(self, index, columns, values)\u001b[0m\n\u001b[1;32m    367\u001b[0m         \u001b[0mcols\u001b[0m \u001b[0;34m=\u001b[0m \u001b[0;34m[\u001b[0m\u001b[0mcolumns\u001b[0m\u001b[0;34m]\u001b[0m \u001b[0;32mif\u001b[0m \u001b[0mindex\u001b[0m \u001b[0;32mis\u001b[0m \u001b[0;32mNone\u001b[0m \u001b[0;32melse\u001b[0m \u001b[0;34m[\u001b[0m\u001b[0mindex\u001b[0m\u001b[0;34m,\u001b[0m \u001b[0mcolumns\u001b[0m\u001b[0;34m]\u001b[0m\u001b[0;34m\u001b[0m\u001b[0m\n\u001b[1;32m    368\u001b[0m         \u001b[0mappend\u001b[0m \u001b[0;34m=\u001b[0m \u001b[0mindex\u001b[0m \u001b[0;32mis\u001b[0m \u001b[0;32mNone\u001b[0m\u001b[0;34m\u001b[0m\u001b[0m\n\u001b[0;32m--> 369\u001b[0;31m         \u001b[0mindexed\u001b[0m \u001b[0;34m=\u001b[0m \u001b[0mself\u001b[0m\u001b[0;34m.\u001b[0m\u001b[0mset_index\u001b[0m\u001b[0;34m(\u001b[0m\u001b[0mcols\u001b[0m\u001b[0;34m,\u001b[0m \u001b[0mappend\u001b[0m\u001b[0;34m=\u001b[0m\u001b[0mappend\u001b[0m\u001b[0;34m)\u001b[0m\u001b[0;34m\u001b[0m\u001b[0m\n\u001b[0m\u001b[1;32m    370\u001b[0m         \u001b[0;32mreturn\u001b[0m \u001b[0mindexed\u001b[0m\u001b[0;34m.\u001b[0m\u001b[0munstack\u001b[0m\u001b[0;34m(\u001b[0m\u001b[0mcolumns\u001b[0m\u001b[0;34m)\u001b[0m\u001b[0;34m\u001b[0m\u001b[0m\n\u001b[1;32m    371\u001b[0m     \u001b[0;32melse\u001b[0m\u001b[0;34m:\u001b[0m\u001b[0;34m\u001b[0m\u001b[0m\n",
      "\u001b[0;32m~/anaconda/envs/door2door_challenge/lib/python3.5/site-packages/pandas/core/frame.py\u001b[0m in \u001b[0;36mset_index\u001b[0;34m(self, keys, drop, append, inplace, verify_integrity)\u001b[0m\n\u001b[1;32m   2828\u001b[0m                 \u001b[0mnames\u001b[0m\u001b[0;34m.\u001b[0m\u001b[0mappend\u001b[0m\u001b[0;34m(\u001b[0m\u001b[0;32mNone\u001b[0m\u001b[0;34m)\u001b[0m\u001b[0;34m\u001b[0m\u001b[0m\n\u001b[1;32m   2829\u001b[0m             \u001b[0;32melse\u001b[0m\u001b[0;34m:\u001b[0m\u001b[0;34m\u001b[0m\u001b[0m\n\u001b[0;32m-> 2830\u001b[0;31m                 \u001b[0mlevel\u001b[0m \u001b[0;34m=\u001b[0m \u001b[0mframe\u001b[0m\u001b[0;34m[\u001b[0m\u001b[0mcol\u001b[0m\u001b[0;34m]\u001b[0m\u001b[0;34m.\u001b[0m\u001b[0m_values\u001b[0m\u001b[0;34m\u001b[0m\u001b[0m\n\u001b[0m\u001b[1;32m   2831\u001b[0m                 \u001b[0mnames\u001b[0m\u001b[0;34m.\u001b[0m\u001b[0mappend\u001b[0m\u001b[0;34m(\u001b[0m\u001b[0mcol\u001b[0m\u001b[0;34m)\u001b[0m\u001b[0;34m\u001b[0m\u001b[0m\n\u001b[1;32m   2832\u001b[0m                 \u001b[0;32mif\u001b[0m \u001b[0mdrop\u001b[0m\u001b[0;34m:\u001b[0m\u001b[0;34m\u001b[0m\u001b[0m\n",
      "\u001b[0;32m~/anaconda/envs/door2door_challenge/lib/python3.5/site-packages/pandas/core/frame.py\u001b[0m in \u001b[0;36m__getitem__\u001b[0;34m(self, key)\u001b[0m\n\u001b[1;32m   1962\u001b[0m             \u001b[0;32mreturn\u001b[0m \u001b[0mself\u001b[0m\u001b[0;34m.\u001b[0m\u001b[0m_getitem_multilevel\u001b[0m\u001b[0;34m(\u001b[0m\u001b[0mkey\u001b[0m\u001b[0;34m)\u001b[0m\u001b[0;34m\u001b[0m\u001b[0m\n\u001b[1;32m   1963\u001b[0m         \u001b[0;32melse\u001b[0m\u001b[0;34m:\u001b[0m\u001b[0;34m\u001b[0m\u001b[0m\n\u001b[0;32m-> 1964\u001b[0;31m             \u001b[0;32mreturn\u001b[0m \u001b[0mself\u001b[0m\u001b[0;34m.\u001b[0m\u001b[0m_getitem_column\u001b[0m\u001b[0;34m(\u001b[0m\u001b[0mkey\u001b[0m\u001b[0;34m)\u001b[0m\u001b[0;34m\u001b[0m\u001b[0m\n\u001b[0m\u001b[1;32m   1965\u001b[0m \u001b[0;34m\u001b[0m\u001b[0m\n\u001b[1;32m   1966\u001b[0m     \u001b[0;32mdef\u001b[0m \u001b[0m_getitem_column\u001b[0m\u001b[0;34m(\u001b[0m\u001b[0mself\u001b[0m\u001b[0;34m,\u001b[0m \u001b[0mkey\u001b[0m\u001b[0;34m)\u001b[0m\u001b[0;34m:\u001b[0m\u001b[0;34m\u001b[0m\u001b[0m\n",
      "\u001b[0;32m~/anaconda/envs/door2door_challenge/lib/python3.5/site-packages/pandas/core/frame.py\u001b[0m in \u001b[0;36m_getitem_column\u001b[0;34m(self, key)\u001b[0m\n\u001b[1;32m   1969\u001b[0m         \u001b[0;31m# get column\u001b[0m\u001b[0;34m\u001b[0m\u001b[0;34m\u001b[0m\u001b[0m\n\u001b[1;32m   1970\u001b[0m         \u001b[0;32mif\u001b[0m \u001b[0mself\u001b[0m\u001b[0;34m.\u001b[0m\u001b[0mcolumns\u001b[0m\u001b[0;34m.\u001b[0m\u001b[0mis_unique\u001b[0m\u001b[0;34m:\u001b[0m\u001b[0;34m\u001b[0m\u001b[0m\n\u001b[0;32m-> 1971\u001b[0;31m             \u001b[0;32mreturn\u001b[0m \u001b[0mself\u001b[0m\u001b[0;34m.\u001b[0m\u001b[0m_get_item_cache\u001b[0m\u001b[0;34m(\u001b[0m\u001b[0mkey\u001b[0m\u001b[0;34m)\u001b[0m\u001b[0;34m\u001b[0m\u001b[0m\n\u001b[0m\u001b[1;32m   1972\u001b[0m \u001b[0;34m\u001b[0m\u001b[0m\n\u001b[1;32m   1973\u001b[0m         \u001b[0;31m# duplicate columns & possible reduce dimensionality\u001b[0m\u001b[0;34m\u001b[0m\u001b[0;34m\u001b[0m\u001b[0m\n",
      "\u001b[0;32m~/anaconda/envs/door2door_challenge/lib/python3.5/site-packages/pandas/core/generic.py\u001b[0m in \u001b[0;36m_get_item_cache\u001b[0;34m(self, item)\u001b[0m\n\u001b[1;32m   1643\u001b[0m         \u001b[0mres\u001b[0m \u001b[0;34m=\u001b[0m \u001b[0mcache\u001b[0m\u001b[0;34m.\u001b[0m\u001b[0mget\u001b[0m\u001b[0;34m(\u001b[0m\u001b[0mitem\u001b[0m\u001b[0;34m)\u001b[0m\u001b[0;34m\u001b[0m\u001b[0m\n\u001b[1;32m   1644\u001b[0m         \u001b[0;32mif\u001b[0m \u001b[0mres\u001b[0m \u001b[0;32mis\u001b[0m \u001b[0;32mNone\u001b[0m\u001b[0;34m:\u001b[0m\u001b[0;34m\u001b[0m\u001b[0m\n\u001b[0;32m-> 1645\u001b[0;31m             \u001b[0mvalues\u001b[0m \u001b[0;34m=\u001b[0m \u001b[0mself\u001b[0m\u001b[0;34m.\u001b[0m\u001b[0m_data\u001b[0m\u001b[0;34m.\u001b[0m\u001b[0mget\u001b[0m\u001b[0;34m(\u001b[0m\u001b[0mitem\u001b[0m\u001b[0;34m)\u001b[0m\u001b[0;34m\u001b[0m\u001b[0m\n\u001b[0m\u001b[1;32m   1646\u001b[0m             \u001b[0mres\u001b[0m \u001b[0;34m=\u001b[0m \u001b[0mself\u001b[0m\u001b[0;34m.\u001b[0m\u001b[0m_box_item_values\u001b[0m\u001b[0;34m(\u001b[0m\u001b[0mitem\u001b[0m\u001b[0;34m,\u001b[0m \u001b[0mvalues\u001b[0m\u001b[0;34m)\u001b[0m\u001b[0;34m\u001b[0m\u001b[0m\n\u001b[1;32m   1647\u001b[0m             \u001b[0mcache\u001b[0m\u001b[0;34m[\u001b[0m\u001b[0mitem\u001b[0m\u001b[0;34m]\u001b[0m \u001b[0;34m=\u001b[0m \u001b[0mres\u001b[0m\u001b[0;34m\u001b[0m\u001b[0m\n",
      "\u001b[0;32m~/anaconda/envs/door2door_challenge/lib/python3.5/site-packages/pandas/core/internals.py\u001b[0m in \u001b[0;36mget\u001b[0;34m(self, item, fastpath)\u001b[0m\n\u001b[1;32m   3588\u001b[0m \u001b[0;34m\u001b[0m\u001b[0m\n\u001b[1;32m   3589\u001b[0m             \u001b[0;32mif\u001b[0m \u001b[0;32mnot\u001b[0m \u001b[0misnull\u001b[0m\u001b[0;34m(\u001b[0m\u001b[0mitem\u001b[0m\u001b[0;34m)\u001b[0m\u001b[0;34m:\u001b[0m\u001b[0;34m\u001b[0m\u001b[0m\n\u001b[0;32m-> 3590\u001b[0;31m                 \u001b[0mloc\u001b[0m \u001b[0;34m=\u001b[0m \u001b[0mself\u001b[0m\u001b[0;34m.\u001b[0m\u001b[0mitems\u001b[0m\u001b[0;34m.\u001b[0m\u001b[0mget_loc\u001b[0m\u001b[0;34m(\u001b[0m\u001b[0mitem\u001b[0m\u001b[0;34m)\u001b[0m\u001b[0;34m\u001b[0m\u001b[0m\n\u001b[0m\u001b[1;32m   3591\u001b[0m             \u001b[0;32melse\u001b[0m\u001b[0;34m:\u001b[0m\u001b[0;34m\u001b[0m\u001b[0m\n\u001b[1;32m   3592\u001b[0m                 \u001b[0mindexer\u001b[0m \u001b[0;34m=\u001b[0m \u001b[0mnp\u001b[0m\u001b[0;34m.\u001b[0m\u001b[0marange\u001b[0m\u001b[0;34m(\u001b[0m\u001b[0mlen\u001b[0m\u001b[0;34m(\u001b[0m\u001b[0mself\u001b[0m\u001b[0;34m.\u001b[0m\u001b[0mitems\u001b[0m\u001b[0;34m)\u001b[0m\u001b[0;34m)\u001b[0m\u001b[0;34m[\u001b[0m\u001b[0misnull\u001b[0m\u001b[0;34m(\u001b[0m\u001b[0mself\u001b[0m\u001b[0;34m.\u001b[0m\u001b[0mitems\u001b[0m\u001b[0;34m)\u001b[0m\u001b[0;34m]\u001b[0m\u001b[0;34m\u001b[0m\u001b[0m\n",
      "\u001b[0;32m~/anaconda/envs/door2door_challenge/lib/python3.5/site-packages/pandas/core/indexes/base.py\u001b[0m in \u001b[0;36mget_loc\u001b[0;34m(self, key, method, tolerance)\u001b[0m\n\u001b[1;32m   2442\u001b[0m                 \u001b[0;32mreturn\u001b[0m \u001b[0mself\u001b[0m\u001b[0;34m.\u001b[0m\u001b[0m_engine\u001b[0m\u001b[0;34m.\u001b[0m\u001b[0mget_loc\u001b[0m\u001b[0;34m(\u001b[0m\u001b[0mkey\u001b[0m\u001b[0;34m)\u001b[0m\u001b[0;34m\u001b[0m\u001b[0m\n\u001b[1;32m   2443\u001b[0m             \u001b[0;32mexcept\u001b[0m \u001b[0mKeyError\u001b[0m\u001b[0;34m:\u001b[0m\u001b[0;34m\u001b[0m\u001b[0m\n\u001b[0;32m-> 2444\u001b[0;31m                 \u001b[0;32mreturn\u001b[0m \u001b[0mself\u001b[0m\u001b[0;34m.\u001b[0m\u001b[0m_engine\u001b[0m\u001b[0;34m.\u001b[0m\u001b[0mget_loc\u001b[0m\u001b[0;34m(\u001b[0m\u001b[0mself\u001b[0m\u001b[0;34m.\u001b[0m\u001b[0m_maybe_cast_indexer\u001b[0m\u001b[0;34m(\u001b[0m\u001b[0mkey\u001b[0m\u001b[0;34m)\u001b[0m\u001b[0;34m)\u001b[0m\u001b[0;34m\u001b[0m\u001b[0m\n\u001b[0m\u001b[1;32m   2445\u001b[0m \u001b[0;34m\u001b[0m\u001b[0m\n\u001b[1;32m   2446\u001b[0m         \u001b[0mindexer\u001b[0m \u001b[0;34m=\u001b[0m \u001b[0mself\u001b[0m\u001b[0;34m.\u001b[0m\u001b[0mget_indexer\u001b[0m\u001b[0;34m(\u001b[0m\u001b[0;34m[\u001b[0m\u001b[0mkey\u001b[0m\u001b[0;34m]\u001b[0m\u001b[0;34m,\u001b[0m \u001b[0mmethod\u001b[0m\u001b[0;34m=\u001b[0m\u001b[0mmethod\u001b[0m\u001b[0;34m,\u001b[0m \u001b[0mtolerance\u001b[0m\u001b[0;34m=\u001b[0m\u001b[0mtolerance\u001b[0m\u001b[0;34m)\u001b[0m\u001b[0;34m\u001b[0m\u001b[0m\n",
      "\u001b[0;32mpandas/_libs/index.pyx\u001b[0m in \u001b[0;36mpandas._libs.index.IndexEngine.get_loc (pandas/_libs/index.c:5280)\u001b[0;34m()\u001b[0m\n",
      "\u001b[0;32mpandas/_libs/index.pyx\u001b[0m in \u001b[0;36mpandas._libs.index.IndexEngine.get_loc (pandas/_libs/index.c:5126)\u001b[0;34m()\u001b[0m\n",
      "\u001b[0;32mpandas/_libs/hashtable_class_helper.pxi\u001b[0m in \u001b[0;36mpandas._libs.hashtable.PyObjectHashTable.get_item (pandas/_libs/hashtable.c:20523)\u001b[0;34m()\u001b[0m\n",
      "\u001b[0;32mpandas/_libs/hashtable_class_helper.pxi\u001b[0m in \u001b[0;36mpandas._libs.hashtable.PyObjectHashTable.get_item (pandas/_libs/hashtable.c:20477)\u001b[0;34m()\u001b[0m\n",
      "\u001b[0;31mKeyError\u001b[0m: 'datetime_utc_berlin'"
     ]
    }
   ],
   "source": [
    "#Pivoting for plotting purposes\n",
    "hour_est_act_time_first = hour_est_act_time_first.pivot(index='datetime_utc_berlin', columns='thresh_cat')\n",
    "hour_est_act_time_first.columns = ['_'.join(col) for col in hour_est_act_time_first.columns]"
   ]
  },
  {
   "cell_type": "code",
   "execution_count": 324,
   "metadata": {},
   "outputs": [],
   "source": [
    "#Preparing and generating column for plotting\n",
    "hour_est_act_time_first[\"date\"] = hour_est_act_time_first.index.map(lambda x: x.strftime('%H H %a'))\n",
    "hour_est_act_time_first[\"pct_yellow_plot\"] = hour_est_act_time_first[\"pct_green\"] +hour_est_act_time_first[\"pct_yellow\"]\n",
    "hour_est_act_time_first[\"pct_red_plot\"] = hour_est_act_time_first[\"pct_yellow_plot\"] +hour_est_act_time_first[\"pct_red\"]"
   ]
  },
  {
   "cell_type": "code",
   "execution_count": 332,
   "metadata": {},
   "outputs": [
    {
     "data": {
      "text/html": [
       "\n",
       "\n",
       "    <div class=\"bk-root\">\n",
       "        <div class=\"bk-plotdiv\" id=\"99751bac-6643-46be-af30-19bc692f920d\"></div>\n",
       "    </div>\n",
       "<script type=\"text/javascript\">\n",
       "  \n",
       "  (function(global) {\n",
       "    function now() {\n",
       "      return new Date();\n",
       "    }\n",
       "  \n",
       "    var force = false;\n",
       "  \n",
       "    if (typeof (window._bokeh_onload_callbacks) === \"undefined\" || force === true) {\n",
       "      window._bokeh_onload_callbacks = [];\n",
       "      window._bokeh_is_loading = undefined;\n",
       "    }\n",
       "  \n",
       "  \n",
       "    \n",
       "    if (typeof (window._bokeh_timeout) === \"undefined\" || force === true) {\n",
       "      window._bokeh_timeout = Date.now() + 0;\n",
       "      window._bokeh_failed_load = false;\n",
       "    }\n",
       "  \n",
       "    var NB_LOAD_WARNING = {'data': {'text/html':\n",
       "       \"<div style='background-color: #fdd'>\\n\"+\n",
       "       \"<p>\\n\"+\n",
       "       \"BokehJS does not appear to have successfully loaded. If loading BokehJS from CDN, this \\n\"+\n",
       "       \"may be due to a slow or bad network connection. Possible fixes:\\n\"+\n",
       "       \"</p>\\n\"+\n",
       "       \"<ul>\\n\"+\n",
       "       \"<li>re-rerun `output_notebook()` to attempt to load from CDN again, or</li>\\n\"+\n",
       "       \"<li>use INLINE resources instead, as so:</li>\\n\"+\n",
       "       \"</ul>\\n\"+\n",
       "       \"<code>\\n\"+\n",
       "       \"from bokeh.resources import INLINE\\n\"+\n",
       "       \"output_notebook(resources=INLINE)\\n\"+\n",
       "       \"</code>\\n\"+\n",
       "       \"</div>\"}};\n",
       "  \n",
       "    function display_loaded() {\n",
       "      if (window.Bokeh !== undefined) {\n",
       "        var el = document.getElementById(\"99751bac-6643-46be-af30-19bc692f920d\");\n",
       "        el.textContent = \"BokehJS \" + Bokeh.version + \" successfully loaded.\";\n",
       "      } else if (Date.now() < window._bokeh_timeout) {\n",
       "        setTimeout(display_loaded, 100)\n",
       "      }\n",
       "    }\n",
       "  \n",
       "    function run_callbacks() {\n",
       "      try {\n",
       "        window._bokeh_onload_callbacks.forEach(function(callback) { callback() });\n",
       "      }\n",
       "      finally {\n",
       "        delete window._bokeh_onload_callbacks\n",
       "      }\n",
       "      console.info(\"Bokeh: all callbacks have finished\");\n",
       "    }\n",
       "  \n",
       "    function load_libs(js_urls, callback) {\n",
       "      window._bokeh_onload_callbacks.push(callback);\n",
       "      if (window._bokeh_is_loading > 0) {\n",
       "        console.log(\"Bokeh: BokehJS is being loaded, scheduling callback at\", now());\n",
       "        return null;\n",
       "      }\n",
       "      if (js_urls == null || js_urls.length === 0) {\n",
       "        run_callbacks();\n",
       "        return null;\n",
       "      }\n",
       "      console.log(\"Bokeh: BokehJS not loaded, scheduling load and callback at\", now());\n",
       "      window._bokeh_is_loading = js_urls.length;\n",
       "      for (var i = 0; i < js_urls.length; i++) {\n",
       "        var url = js_urls[i];\n",
       "        var s = document.createElement('script');\n",
       "        s.src = url;\n",
       "        s.async = false;\n",
       "        s.onreadystatechange = s.onload = function() {\n",
       "          window._bokeh_is_loading--;\n",
       "          if (window._bokeh_is_loading === 0) {\n",
       "            console.log(\"Bokeh: all BokehJS libraries loaded\");\n",
       "            run_callbacks()\n",
       "          }\n",
       "        };\n",
       "        s.onerror = function() {\n",
       "          console.warn(\"failed to load library \" + url);\n",
       "        };\n",
       "        console.log(\"Bokeh: injecting script tag for BokehJS library: \", url);\n",
       "        document.getElementsByTagName(\"head\")[0].appendChild(s);\n",
       "      }\n",
       "    };var element = document.getElementById(\"99751bac-6643-46be-af30-19bc692f920d\");\n",
       "    if (element == null) {\n",
       "      console.log(\"Bokeh: ERROR: autoload.js configured with elementid '99751bac-6643-46be-af30-19bc692f920d' but no matching script tag was found. \")\n",
       "      return false;\n",
       "    }\n",
       "  \n",
       "    var js_urls = [];\n",
       "  \n",
       "    var inline_js = [\n",
       "      function(Bokeh) {\n",
       "        (function() {\n",
       "          var fn = function() {\n",
       "            var docs_json = {\"c2889d43-9d36-4480-8035-45b91a76819d\":{\"roots\":{\"references\":[{\"attributes\":{\"data_source\":{\"id\":\"bca24bbc-25ab-4706-8857-a324032484ab\",\"type\":\"ColumnDataSource\"},\"glyph\":{\"id\":\"eab0456b-5aa3-4ccb-aadb-ca644f8207f0\",\"type\":\"VBar\"},\"hover_glyph\":null,\"muted_glyph\":null,\"nonselection_glyph\":{\"id\":\"920c5f20-a18b-4c05-ad7f-fcda56c25d67\",\"type\":\"VBar\"},\"selection_glyph\":null},\"id\":\"6d80afbf-e431-4cb3-a0c0-82020ceea3d4\",\"type\":\"GlyphRenderer\"},{\"attributes\":{\"align\":\"center\",\"plot\":{\"id\":\"1c1c9979-8b72-4b3d-aa98-77a60850df82\",\"subtype\":\"Figure\",\"type\":\"Plot\"},\"text\":\"Thresholds per hour/day\",\"text_font_size\":{\"value\":\"12pt\"}},\"id\":\"cf31af41-a1f2-4f8e-b338-503027584bea\",\"type\":\"Title\"},{\"attributes\":{\"bottom\":{\"field\":\"pct_yellow_plot\"},\"fill_alpha\":{\"value\":0.1},\"fill_color\":{\"value\":\"#1f77b4\"},\"line_alpha\":{\"value\":0.1},\"line_color\":{\"value\":\"#1f77b4\"},\"top\":{\"field\":\"pct_red_plot\"},\"width\":{\"value\":0.7},\"x\":{\"field\":\"date\"}},\"id\":\"920c5f20-a18b-4c05-ad7f-fcda56c25d67\",\"type\":\"VBar\"},{\"attributes\":{\"plot\":null,\"text\":\"\"},\"id\":\"d5de6a2b-f5d0-423d-b838-892852de99f5\",\"type\":\"Title\"},{\"attributes\":{\"bottom\":{\"field\":\"pct_green\"},\"fill_alpha\":{\"value\":0.1},\"fill_color\":{\"value\":\"#1f77b4\"},\"line_alpha\":{\"value\":0.1},\"line_color\":{\"value\":\"#1f77b4\"},\"top\":{\"field\":\"pct_yellow_plot\"},\"width\":{\"value\":0.7},\"x\":{\"field\":\"date\"}},\"id\":\"60fbc5e8-3b20-495d-b6d9-dde84775550d\",\"type\":\"VBar\"},{\"attributes\":{\"plot\":{\"id\":\"1c1c9979-8b72-4b3d-aa98-77a60850df82\",\"subtype\":\"Figure\",\"type\":\"Plot\"},\"ticker\":{\"id\":\"b6cae4a4-0a3b-4926-beab-85a7421cb144\",\"type\":\"CategoricalTicker\"},\"visible\":false},\"id\":\"5e84cc78-5002-4e37-a558-84837d5b76fd\",\"type\":\"Grid\"},{\"attributes\":{\"bottom\":{\"field\":\"pct_green\"},\"fill_color\":{\"value\":\"#E4E02C\"},\"line_color\":{\"value\":\"#E4E02C\"},\"top\":{\"field\":\"pct_yellow_plot\"},\"width\":{\"value\":0.7},\"x\":{\"field\":\"date\"}},\"id\":\"8de10c18-13a5-4454-a17c-e5910d4400cc\",\"type\":\"VBar\"},{\"attributes\":{\"axis_label\":\"Percentage\",\"formatter\":{\"id\":\"e19258c8-07c4-49df-ad14-c5b07762e379\",\"type\":\"BasicTickFormatter\"},\"plot\":{\"id\":\"1c1c9979-8b72-4b3d-aa98-77a60850df82\",\"subtype\":\"Figure\",\"type\":\"Plot\"},\"ticker\":{\"id\":\"1ebb93df-1291-4651-81c8-0838a695aced\",\"type\":\"BasicTicker\"}},\"id\":\"2b72a341-eb63-4f46-888d-d1374efa341c\",\"type\":\"LinearAxis\"},{\"attributes\":{\"callback\":null,\"plot\":{\"id\":\"1c1c9979-8b72-4b3d-aa98-77a60850df82\",\"subtype\":\"Figure\",\"type\":\"Plot\"},\"tooltips\":[[\"pct. green\",\"@pct_green{(0.00%)}\"],[\"pct. yellow\",\"@pct_yellow{(0.00%)}\"],[\"pct. red\",\"@pct_red{(0.00%)}\"]]},\"id\":\"a500ca26-c2fc-4c8b-adc8-e811489abcc9\",\"type\":\"HoverTool\"},{\"attributes\":{},\"id\":\"49f4f85f-14c2-4b53-bb1d-98af58c035ea\",\"type\":\"LinearScale\"},{\"attributes\":{\"callback\":null},\"id\":\"a79b9be0-984d-4bab-9ece-5c5937e439cd\",\"type\":\"DataRange1d\"},{\"attributes\":{\"active_drag\":\"auto\",\"active_inspect\":\"auto\",\"active_scroll\":\"auto\",\"active_tap\":\"auto\",\"tools\":[{\"id\":\"a500ca26-c2fc-4c8b-adc8-e811489abcc9\",\"type\":\"HoverTool\"}]},\"id\":\"f23d7286-6b1e-4372-8b72-2ecc21580532\",\"type\":\"Toolbar\"},{\"attributes\":{\"fill_color\":{\"value\":\"#459E0F\"},\"line_color\":{\"value\":\"#459E0F\"},\"top\":{\"field\":\"pct_green\"},\"width\":{\"value\":0.7},\"x\":{\"field\":\"date\"}},\"id\":\"d366c04e-e6e6-4644-9847-e7a334e8e40e\",\"type\":\"VBar\"},{\"attributes\":{},\"id\":\"1ebb93df-1291-4651-81c8-0838a695aced\",\"type\":\"BasicTicker\"},{\"attributes\":{\"dimension\":1,\"plot\":{\"id\":\"1c1c9979-8b72-4b3d-aa98-77a60850df82\",\"subtype\":\"Figure\",\"type\":\"Plot\"},\"ticker\":{\"id\":\"1ebb93df-1291-4651-81c8-0838a695aced\",\"type\":\"BasicTicker\"},\"visible\":false},\"id\":\"66843de9-761a-451f-996a-ef555b1e73e8\",\"type\":\"Grid\"},{\"attributes\":{\"data_source\":{\"id\":\"bca24bbc-25ab-4706-8857-a324032484ab\",\"type\":\"ColumnDataSource\"},\"glyph\":{\"id\":\"d366c04e-e6e6-4644-9847-e7a334e8e40e\",\"type\":\"VBar\"},\"hover_glyph\":null,\"muted_glyph\":null,\"nonselection_glyph\":{\"id\":\"9eedbfa6-09df-46b0-b4cf-77de911e56eb\",\"type\":\"VBar\"},\"selection_glyph\":null},\"id\":\"308667e2-d1a0-4a11-971a-6cf3a168f4f6\",\"type\":\"GlyphRenderer\"},{\"attributes\":{},\"id\":\"b6cae4a4-0a3b-4926-beab-85a7421cb144\",\"type\":\"CategoricalTicker\"},{\"attributes\":{\"above\":[{\"id\":\"cf31af41-a1f2-4f8e-b338-503027584bea\",\"type\":\"Title\"}],\"below\":[{\"id\":\"aeb3123b-d0bf-4cc3-9c52-1fe668d21d5f\",\"type\":\"CategoricalAxis\"}],\"left\":[{\"id\":\"2b72a341-eb63-4f46-888d-d1374efa341c\",\"type\":\"LinearAxis\"}],\"plot_height\":400,\"plot_width\":800,\"renderers\":[{\"id\":\"aeb3123b-d0bf-4cc3-9c52-1fe668d21d5f\",\"type\":\"CategoricalAxis\"},{\"id\":\"5e84cc78-5002-4e37-a558-84837d5b76fd\",\"type\":\"Grid\"},{\"id\":\"2b72a341-eb63-4f46-888d-d1374efa341c\",\"type\":\"LinearAxis\"},{\"id\":\"66843de9-761a-451f-996a-ef555b1e73e8\",\"type\":\"Grid\"},{\"id\":\"308667e2-d1a0-4a11-971a-6cf3a168f4f6\",\"type\":\"GlyphRenderer\"},{\"id\":\"0e0f4c5c-1232-4e83-98ea-aeb0c82adb0a\",\"type\":\"GlyphRenderer\"},{\"id\":\"6d80afbf-e431-4cb3-a0c0-82020ceea3d4\",\"type\":\"GlyphRenderer\"},{\"id\":\"cf31af41-a1f2-4f8e-b338-503027584bea\",\"type\":\"Title\"}],\"title\":{\"id\":\"d5de6a2b-f5d0-423d-b838-892852de99f5\",\"type\":\"Title\"},\"tool_events\":{\"id\":\"ac00d369-e63e-4885-8b2b-e937016bc421\",\"type\":\"ToolEvents\"},\"toolbar\":{\"id\":\"f23d7286-6b1e-4372-8b72-2ecc21580532\",\"type\":\"Toolbar\"},\"x_range\":{\"id\":\"3ad38314-e804-4b77-b73b-9c66222e19f5\",\"type\":\"FactorRange\"},\"x_scale\":{\"id\":\"7ff41b01-08c3-4762-a4b8-0fc2a415aab1\",\"type\":\"CategoricalScale\"},\"y_range\":{\"id\":\"a79b9be0-984d-4bab-9ece-5c5937e439cd\",\"type\":\"DataRange1d\"},\"y_scale\":{\"id\":\"49f4f85f-14c2-4b53-bb1d-98af58c035ea\",\"type\":\"LinearScale\"}},\"id\":\"1c1c9979-8b72-4b3d-aa98-77a60850df82\",\"subtype\":\"Figure\",\"type\":\"Plot\"},{\"attributes\":{},\"id\":\"7ff41b01-08c3-4762-a4b8-0fc2a415aab1\",\"type\":\"CategoricalScale\"},{\"attributes\":{\"bottom\":{\"field\":\"pct_yellow_plot\"},\"fill_color\":{\"value\":\"#E43216\"},\"line_color\":{\"value\":\"#E43216\"},\"top\":{\"field\":\"pct_red_plot\"},\"width\":{\"value\":0.7},\"x\":{\"field\":\"date\"}},\"id\":\"eab0456b-5aa3-4ccb-aadb-ca644f8207f0\",\"type\":\"VBar\"},{\"attributes\":{},\"id\":\"e19258c8-07c4-49df-ad14-c5b07762e379\",\"type\":\"BasicTickFormatter\"},{\"attributes\":{},\"id\":\"99b07f6a-689d-4222-ba8d-145c2d7bb3c7\",\"type\":\"CategoricalTickFormatter\"},{\"attributes\":{\"fill_alpha\":{\"value\":0.1},\"fill_color\":{\"value\":\"#1f77b4\"},\"line_alpha\":{\"value\":0.1},\"line_color\":{\"value\":\"#1f77b4\"},\"top\":{\"field\":\"pct_green\"},\"width\":{\"value\":0.7},\"x\":{\"field\":\"date\"}},\"id\":\"9eedbfa6-09df-46b0-b4cf-77de911e56eb\",\"type\":\"VBar\"},{\"attributes\":{},\"id\":\"ac00d369-e63e-4885-8b2b-e937016bc421\",\"type\":\"ToolEvents\"},{\"attributes\":{\"callback\":null,\"factors\":[\"18 H Fri\",\"19 H Fri\",\"20 H Fri\",\"21 H Fri\",\"22 H Fri\",\"23 H Fri\",\"00 H Sat\",\"01 H Sat\",\"10 H Sat\",\"11 H Sat\",\"12 H Sat\",\"13 H Sat\",\"14 H Sat\",\"15 H Sat\",\"16 H Sat\",\"17 H Sat\",\"18 H Sat\",\"19 H Sat\",\"20 H Sat\",\"21 H Sat\",\"22 H Sat\",\"23 H Sat\",\"00 H Sun\",\"01 H Sun\",\"10 H Sun\",\"11 H Sun\",\"12 H Sun\",\"13 H Sun\",\"14 H Sun\",\"15 H Sun\",\"16 H Sun\",\"17 H Sun\"]},\"id\":\"3ad38314-e804-4b77-b73b-9c66222e19f5\",\"type\":\"FactorRange\"},{\"attributes\":{\"axis_label\":\"Dates\",\"formatter\":{\"id\":\"99b07f6a-689d-4222-ba8d-145c2d7bb3c7\",\"type\":\"CategoricalTickFormatter\"},\"major_label_orientation\":0.7853981633974483,\"plot\":{\"id\":\"1c1c9979-8b72-4b3d-aa98-77a60850df82\",\"subtype\":\"Figure\",\"type\":\"Plot\"},\"ticker\":{\"id\":\"b6cae4a4-0a3b-4926-beab-85a7421cb144\",\"type\":\"CategoricalTicker\"}},\"id\":\"aeb3123b-d0bf-4cc3-9c52-1fe668d21d5f\",\"type\":\"CategoricalAxis\"},{\"attributes\":{\"data_source\":{\"id\":\"bca24bbc-25ab-4706-8857-a324032484ab\",\"type\":\"ColumnDataSource\"},\"glyph\":{\"id\":\"8de10c18-13a5-4454-a17c-e5910d4400cc\",\"type\":\"VBar\"},\"hover_glyph\":null,\"muted_glyph\":null,\"nonselection_glyph\":{\"id\":\"60fbc5e8-3b20-495d-b6d9-dde84775550d\",\"type\":\"VBar\"},\"selection_glyph\":null},\"id\":\"0e0f4c5c-1232-4e83-98ea-aeb0c82adb0a\",\"type\":\"GlyphRenderer\"},{\"attributes\":{\"callback\":null,\"column_names\":[\"total_yellow\",\"total_green\",\"total_red\",\"count_red\",\"date\",\"pct_yellow_plot\",\"pct_green\",\"datetime_utc_berlin\",\"pct_red_plot\",\"count_green\",\"pct_yellow\",\"count_yellow\",\"pct_red\"],\"data\":{\"count_green\":{\"__ndarray__\":\"AAAAAAAAREAAAAAAAABIQAAAAAAAAEJAAAAAAACAQkAAAAAAAABFQAAAAAAAgElAAAAAAACATkAAAAAAAABNQAAAAAAAADhAAAAAAAAAOkAAAAAAAAA9QAAAAAAAADlAAAAAAAAAOkAAAAAAAAA7QAAAAAAAADxAAAAAAAAAOkAAAAAAAABJQAAAAAAAAE5AAAAAAAAAQkAAAAAAAIBJQAAAAAAAgEFAAAAAAACASUAAAAAAAABEQAAAAAAAgEVAAAAAAAAATEAAAAAAAIBGQAAAAAAAADlAAAAAAAAAQkAAAAAAAAA7QAAAAAAAgEBAAAAAAACAR0AAAAAAAABJQA==\",\"dtype\":\"float64\",\"shape\":[32]},\"count_red\":{\"__ndarray__\":\"AAAAAAAALEAAAAAAAAAqQAAAAAAAABRAAAAAAAAAJkAAAAAAAAAcQAAAAAAAABRAAAAAAAAAIkAAAAAAAAAUQAAAAAAAABxAAAAAAAAACEAAAAAAAAAUQAAAAAAAACJAAAAAAAAALEAAAAAAAAAoQAAAAAAAABxAAAAAAAAA+H8AAAAAAAAUQAAAAAAAABRAAAAAAAAAEEAAAAAAAAAQQAAAAAAAACBAAAAAAAAAGEAAAAAAAAAUQAAAAAAAAChAAAAAAAAAFEAAAAAAAAAcQAAAAAAAAChAAAAAAAAAFEAAAAAAAAAiQAAAAAAAAAhAAAAAAAAACEAAAAAAAADwPw==\",\"dtype\":\"float64\",\"shape\":[32]},\"count_yellow\":{\"__ndarray__\":\"AAAAAAAAQEAAAAAAAAA3QAAAAAAAAC5AAAAAAAAAQ0AAAAAAAAAuQAAAAAAAACxAAAAAAAAAMkAAAAAAAAAuQAAAAAAAACZAAAAAAAAAIkAAAAAAAAAkQAAAAAAAAChAAAAAAAAAMkAAAAAAAAAqQAAAAAAAADNAAAAAAAAAIEAAAAAAAAA3QAAAAAAAADNAAAAAAAAAOEAAAAAAAAAzQAAAAAAAADlAAAAAAAAAJkAAAAAAAAA1QAAAAAAAAC5AAAAAAAAAHEAAAAAAAAAgQAAAAAAAACZAAAAAAAAAM0AAAAAAAAAoQAAAAAAAADBAAAAAAAAAMkAAAAAAAAAzQA==\",\"dtype\":\"float64\",\"shape\":[32]},\"date\":[\"18 H Fri\",\"19 H Fri\",\"20 H Fri\",\"21 H Fri\",\"22 H Fri\",\"23 H Fri\",\"00 H Sat\",\"01 H Sat\",\"10 H Sat\",\"11 H Sat\",\"12 H Sat\",\"13 H Sat\",\"14 H Sat\",\"15 H Sat\",\"16 H Sat\",\"17 H Sat\",\"18 H Sat\",\"19 H Sat\",\"20 H Sat\",\"21 H Sat\",\"22 H Sat\",\"23 H Sat\",\"00 H Sun\",\"01 H Sun\",\"10 H Sun\",\"11 H Sun\",\"12 H Sun\",\"13 H Sun\",\"14 H Sun\",\"15 H Sun\",\"16 H Sun\",\"17 H Sun\"],\"datetime_utc_berlin\":{\"__ndarray__\":\"AAAAV9nIdUIAAOjF3Mh1QgAA0DTgyHVCAAC4o+PIdUIAAKAS58h1QgAAiIHqyHVCAABw8O3IdUIAAFhf8ch1QgAAgEUQyXVCAABotBPJdUIAAFAjF8l1QgAAOJIayXVCAAAgAR7JdUIAAAhwIcl1QgAA8N4kyXVCAADYTSjJdUIAAMC8K8l1QgAAqCsvyXVCAACQmjLJdUIAAHgJNsl1QgAAYHg5yXVCAABI5zzJdUIAADBWQMl1QgAAGMVDyXVCAABAq2LJdUIAACgaZsl1QgAAEIlpyXVCAAD492zJdUIAAOBmcMl1QgAAyNVzyXVCAACwRHfJdUIAAJizesl1Qg==\",\"dtype\":\"float64\",\"shape\":[32]},\"pct_green\":{\"__ndarray__\":\"cUfcEXfE3T+SJEmSJEniPyVJkiRJkuQ/4o64I+6I2z8AAAAAAADlPwd1UAd1UOc/L7rooosu5j+4fMu3fMvnP5IkSZIkSeI/UV5DeQ3l5T8XXXTRRRflPxaykIUsZOE/1AjLPY2w3D/ZiZ3YiZ3gP3sJ7SW0l+A/eHh4eHh46D81SIM0SIPkP7dt27Zt2+Y/AAAAAAAA4j/dYIp81g3mP3h4eHh4eOA/AAAAAAAA6D9lk0022WTjP4Q6qIM6qOM/WlpaWlpa6j8AAAAAAADoP6uqqqqqquA/MzMzMzMz4z8AAAAAAADiP+zETuzETuQ/Hh4eHh4e5j+3bdu2bdvmPw==\",\"dtype\":\"float64\",\"shape\":[32]},\"pct_red\":{\"__ndarray__\":\"NmVNWVPWxD/0PM/zPM/DP7dt27Zt27Y/GPQFfUFfwD8AAAAAAAC8P5IkSZIkSbI/L7rooosuuj+QBmmQBmmwP1VVVVVVVcU/XkN5DeU1tD8XXXTRRRe9P5GFLGQhC8k/R1juaYTlzj+e2Imd2InNP3sJ7SW0l8A/AAAAAAAA+H+QBmmQBmmwP57neZ7nea4/AAAAAAAAsD/QusEU+ayrPx4eHh4eHr4/l5aWlpaWtj9lk0022WSzPxZf8RVf8cU/09LS0tLSsj/e3d3d3d29PwAAAAAAANA/VVVVVVVVtT8AAAAAAADIP57YiZ3Yia0/l5aWlpaWpj8d1EEd1EGNPw==\",\"dtype\":\"float64\",\"shape\":[32]},\"pct_red_plot\":{\"__ndarray__\":\"AAAAAAAA8D8AAAAAAADwPwAAAAAAAPA/AAAAAAAA8D8AAAAAAADwPwAAAAAAAPA/AAAAAAAA8D8AAAAAAADwP////////+8/AAAAAAAA8D8AAAAAAADwPwAAAAAAAPA/AAAAAAAA8D8AAAAAAADwPwAAAAAAAPA/AAAAAAAA+H8AAAAAAADwPwAAAAAAAPA/AAAAAAAA8D/////////vPwAAAAAAAPA/AAAAAAAA8D8AAAAAAADwPwAAAAAAAPA/////////7z8AAAAAAADwPwAAAAAAAPA/AAAAAAAA8D8AAAAAAADwPwAAAAAAAPA/////////7z8AAAAAAADwPw==\",\"dtype\":\"float64\",\"shape\":[32]},\"pct_yellow\":{\"__ndarray__\":\"9AV9QV/Q1z9iGIZhGIbRP0mSJEmSJNE/EnfEHXFH3D8AAAAAAADOP5qZmZmZmck/L7rooosuyj/ZiZ3YiZ3IPzEMwzAMw9A/DeU1lNdQzj8XXXTRRRfNPwtZyEIWstA/Ccs9jbDc0z8AAAAAAADQP0xoL6G9hNY/Hh4eHh4ezj/zLd/yLd/SPz3P8zzP88w/AAAAAAAA2D/rBlPks27QP4iHh4eHh9c/tbS0tLS0xD9ddNFFF13UP9u2bdu2bcs/WlpaWlpauj8RERERERHBP1VVVVVVVc0/RERERERE1D8AAAAAAADQPxQ7sRM7sdM/8fDw8PDw0D/xFV/xFV/RPw==\",\"dtype\":\"float64\",\"shape\":[32]},\"pct_yellow_plot\":{\"__ndarray__\":\"sqasKWvK6j/DMAzDMAzrP0qSJEmSJO0/+oK+oC/o6z8AAAAAAIDsP27btm3btu0/u+iiiy667D8u3/It3/LtP6qqqqqqquo/lNdQXkN57T9ddNFFF13sP5ze9KY3vek/7mmE5Z5G6D/ZiZ3YiZ3oP6G9hPYS2us/AAAAAAAA8D8u3/It3/LtP4ZhGIZhGO4/AAAAAAAA7j9S5LNuMEXuPzw8PDw8POw/LS0tLS0t7T+UTTbZZJPtPzuogzqog+o/paWlpaWl7T9ERERERETsPwAAAAAAAOg/VVVVVVVV7T8AAAAAAADqP3ZiJ3ZiJ+4/lpaWlpaW7j+w+Iqv+IrvPw==\",\"dtype\":\"float64\",\"shape\":[32]},\"total_green\":{\"__ndarray__\":\"AAAAAACAVUAAAAAAAABVQAAAAAAAAExAAAAAAACAVUAAAAAAAABQQAAAAAAAgFFAAAAAAAAAVkAAAAAAAIBTQAAAAAAAAEVAAAAAAAAAQ0AAAAAAAABGQAAAAAAAAEdAAAAAAAAATUAAAAAAAABKQAAAAAAAAEtAAAAAAAAAQUAAAAAAAIBTQAAAAAAAAFVAAAAAAAAAUEAAAAAAAIBSQAAAAAAAAFFAAAAAAAAAUUAAAAAAAIBQQAAAAAAAgFFAAAAAAAAAUUAAAAAAAABOQAAAAAAAAEhAAAAAAAAATkAAAAAAAABIQAAAAAAAAEpAAAAAAAAAUUAAAAAAAIBRQA==\",\"dtype\":\"float64\",\"shape\":[32]},\"total_red\":{\"__ndarray__\":\"AAAAAACAVUAAAAAAAABVQAAAAAAAAExAAAAAAACAVUAAAAAAAABQQAAAAAAAgFFAAAAAAAAAVkAAAAAAAIBTQAAAAAAAAEVAAAAAAAAAQ0AAAAAAAABGQAAAAAAAAEdAAAAAAAAATUAAAAAAAABKQAAAAAAAAEtAAAAAAAAA+H8AAAAAAIBTQAAAAAAAAFVAAAAAAAAAUEAAAAAAAIBSQAAAAAAAAFFAAAAAAAAAUUAAAAAAAIBQQAAAAAAAgFFAAAAAAAAAUUAAAAAAAABOQAAAAAAAAEhAAAAAAAAATkAAAAAAAABIQAAAAAAAAEpAAAAAAAAAUUAAAAAAAIBRQA==\",\"dtype\":\"float64\",\"shape\":[32]},\"total_yellow\":{\"__ndarray__\":\"AAAAAACAVUAAAAAAAABVQAAAAAAAAExAAAAAAACAVUAAAAAAAABQQAAAAAAAgFFAAAAAAAAAVkAAAAAAAIBTQAAAAAAAAEVAAAAAAAAAQ0AAAAAAAABGQAAAAAAAAEdAAAAAAAAATUAAAAAAAABKQAAAAAAAAEtAAAAAAAAAQUAAAAAAAIBTQAAAAAAAAFVAAAAAAAAAUEAAAAAAAIBSQAAAAAAAAFFAAAAAAAAAUUAAAAAAAIBQQAAAAAAAgFFAAAAAAAAAUUAAAAAAAABOQAAAAAAAAEhAAAAAAAAATkAAAAAAAABIQAAAAAAAAEpAAAAAAAAAUUAAAAAAAIBRQA==\",\"dtype\":\"float64\",\"shape\":[32]}}},\"id\":\"bca24bbc-25ab-4706-8857-a324032484ab\",\"type\":\"ColumnDataSource\"}],\"root_ids\":[\"1c1c9979-8b72-4b3d-aa98-77a60850df82\"]},\"title\":\"Bokeh Application\",\"version\":\"0.12.6\"}};\n",
       "            var render_items = [{\"docid\":\"c2889d43-9d36-4480-8035-45b91a76819d\",\"elementid\":\"99751bac-6643-46be-af30-19bc692f920d\",\"modelid\":\"1c1c9979-8b72-4b3d-aa98-77a60850df82\"}];\n",
       "            \n",
       "            Bokeh.embed.embed_items(docs_json, render_items);\n",
       "          };\n",
       "          if (document.readyState != \"loading\") fn();\n",
       "          else document.addEventListener(\"DOMContentLoaded\", fn);\n",
       "        })();\n",
       "      },\n",
       "      function(Bokeh) {\n",
       "      }\n",
       "    ];\n",
       "  \n",
       "    function run_inline_js() {\n",
       "      \n",
       "      if ((window.Bokeh !== undefined) || (force === true)) {\n",
       "        for (var i = 0; i < inline_js.length; i++) {\n",
       "          inline_js[i](window.Bokeh);\n",
       "        }if (force === true) {\n",
       "          display_loaded();\n",
       "        }} else if (Date.now() < window._bokeh_timeout) {\n",
       "        setTimeout(run_inline_js, 100);\n",
       "      } else if (!window._bokeh_failed_load) {\n",
       "        console.log(\"Bokeh: BokehJS failed to load within specified timeout.\");\n",
       "        window._bokeh_failed_load = true;\n",
       "      } else if (force !== true) {\n",
       "        var cell = $(document.getElementById(\"99751bac-6643-46be-af30-19bc692f920d\")).parents('.cell').data().cell;\n",
       "        cell.output_area.append_execute_result(NB_LOAD_WARNING)\n",
       "      }\n",
       "  \n",
       "    }\n",
       "  \n",
       "    if (window._bokeh_is_loading === 0) {\n",
       "      console.log(\"Bokeh: BokehJS loaded, going straight to plotting\");\n",
       "      run_inline_js();\n",
       "    } else {\n",
       "      load_libs(js_urls, function() {\n",
       "        console.log(\"Bokeh: BokehJS plotting callback run at\", now());\n",
       "        run_inline_js();\n",
       "      });\n",
       "    }\n",
       "  }(this));\n",
       "</script>"
      ]
     },
     "metadata": {},
     "output_type": "display_data"
    }
   ],
   "source": [
    "#Plotting hour day thresholds\n",
    "source = ColumnDataSource(hour_est_act_time_first)\n",
    "hover = HoverTool(tooltips=[\n",
    "    (\"pct. green\", \"@pct_green{(0.00%)}\"),\n",
    "    (\"pct. yellow\", \"@pct_yellow{(0.00%)}\"),\n",
    "    (\"pct. red\", \"@pct_red{(0.00%)}\"),\n",
    "    ])\n",
    "p = figure(plot_width=800, plot_height=400, x_range=list(hour_est_act_time_first[\"date\"]) ,x_axis_label=\"Dates\", \n",
    "        y_axis_label=\"Percentage\", tools=[hover])\n",
    "#Plotting green first\n",
    "p.vbar(x='date', width=0.7, top='pct_green', \n",
    "           color=\"#459E0F\", source=source)\n",
    "p.vbar(x='date', width=0.7, bottom='pct_green', top=\"pct_yellow_plot\",\n",
    "           color=\"#E4E02C\", source=source)\n",
    "p.vbar(x='date', width=0.7, bottom=\"pct_yellow_plot\", top=\"pct_red_plot\",\n",
    "           color=\"#E43216\", source=source)\n",
    "p.add_layout(Title(text=\"Thresholds per hour/day\", align=\"center\", text_font_size=\"12pt\"), \n",
    "             \"above\")\n",
    "p.xgrid.visible = False\n",
    "p.ygrid.visible = False\n",
    "p.xaxis.major_label_orientation = pi/4\n",
    "show(p)"
   ]
  },
  {
   "cell_type": "markdown",
   "metadata": {},
   "source": [
    "In terms of days and hours we can see that there are certain times where ally incurs in more delays. For example, on Friday, at initial hours, when the demand was very high, we can observe that the yellow and red regions are bigger than the green region. \n",
    "\n",
    "Interestingly, we can also observe this trend in low peak turns. See for example Saturday at 14 hours. Even though this was a relatively low peak moment, we can see that ally still incurs in some delays. There might be different reasons why this might be the case. For example, perhaps the routes requested at that hour were farther away or, perhaps, there was a traffic jam that delayed all services. This can be a task for further analysis."
   ]
  },
  {
   "cell_type": "code",
   "execution_count": null,
   "metadata": {
    "collapsed": true
   },
   "outputs": [],
   "source": []
  }
 ],
 "metadata": {
  "kernelspec": {
   "display_name": "Python 3",
   "language": "python",
   "name": "python3"
  },
  "language_info": {
   "codemirror_mode": {
    "name": "ipython",
    "version": 3
   },
   "file_extension": ".py",
   "mimetype": "text/x-python",
   "name": "python",
   "nbconvert_exporter": "python",
   "pygments_lexer": "ipython3",
   "version": "3.5.4"
  }
 },
 "nbformat": 4,
 "nbformat_minor": 2
}
