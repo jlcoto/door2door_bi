{
 "cells": [
  {
   "cell_type": "code",
   "execution_count": 1,
   "metadata": {},
   "outputs": [
    {
     "data": {
      "text/html": [
       "\n",
       "    <div class=\"bk-root\">\n",
       "        <a href=\"http://bokeh.pydata.org\" target=\"_blank\" class=\"bk-logo bk-logo-small bk-logo-notebook\"></a>\n",
       "        <span id=\"514ea1e5-a7a6-40f4-91f1-801193817e66\">Loading BokehJS ...</span>\n",
       "    </div>"
      ]
     },
     "metadata": {},
     "output_type": "display_data"
    },
    {
     "data": {
      "application/javascript": [
       "\n",
       "(function(global) {\n",
       "  function now() {\n",
       "    return new Date();\n",
       "  }\n",
       "\n",
       "  var force = true;\n",
       "\n",
       "  if (typeof (window._bokeh_onload_callbacks) === \"undefined\" || force === true) {\n",
       "    window._bokeh_onload_callbacks = [];\n",
       "    window._bokeh_is_loading = undefined;\n",
       "  }\n",
       "\n",
       "\n",
       "  \n",
       "  if (typeof (window._bokeh_timeout) === \"undefined\" || force === true) {\n",
       "    window._bokeh_timeout = Date.now() + 5000;\n",
       "    window._bokeh_failed_load = false;\n",
       "  }\n",
       "\n",
       "  var NB_LOAD_WARNING = {'data': {'text/html':\n",
       "     \"<div style='background-color: #fdd'>\\n\"+\n",
       "     \"<p>\\n\"+\n",
       "     \"BokehJS does not appear to have successfully loaded. If loading BokehJS from CDN, this \\n\"+\n",
       "     \"may be due to a slow or bad network connection. Possible fixes:\\n\"+\n",
       "     \"</p>\\n\"+\n",
       "     \"<ul>\\n\"+\n",
       "     \"<li>re-rerun `output_notebook()` to attempt to load from CDN again, or</li>\\n\"+\n",
       "     \"<li>use INLINE resources instead, as so:</li>\\n\"+\n",
       "     \"</ul>\\n\"+\n",
       "     \"<code>\\n\"+\n",
       "     \"from bokeh.resources import INLINE\\n\"+\n",
       "     \"output_notebook(resources=INLINE)\\n\"+\n",
       "     \"</code>\\n\"+\n",
       "     \"</div>\"}};\n",
       "\n",
       "  function display_loaded() {\n",
       "    if (window.Bokeh !== undefined) {\n",
       "      var el = document.getElementById(\"514ea1e5-a7a6-40f4-91f1-801193817e66\");\n",
       "      el.textContent = \"BokehJS \" + Bokeh.version + \" successfully loaded.\";\n",
       "    } else if (Date.now() < window._bokeh_timeout) {\n",
       "      setTimeout(display_loaded, 100)\n",
       "    }\n",
       "  }\n",
       "\n",
       "  function run_callbacks() {\n",
       "    try {\n",
       "      window._bokeh_onload_callbacks.forEach(function(callback) { callback() });\n",
       "    }\n",
       "    finally {\n",
       "      delete window._bokeh_onload_callbacks\n",
       "    }\n",
       "    console.info(\"Bokeh: all callbacks have finished\");\n",
       "  }\n",
       "\n",
       "  function load_libs(js_urls, callback) {\n",
       "    window._bokeh_onload_callbacks.push(callback);\n",
       "    if (window._bokeh_is_loading > 0) {\n",
       "      console.log(\"Bokeh: BokehJS is being loaded, scheduling callback at\", now());\n",
       "      return null;\n",
       "    }\n",
       "    if (js_urls == null || js_urls.length === 0) {\n",
       "      run_callbacks();\n",
       "      return null;\n",
       "    }\n",
       "    console.log(\"Bokeh: BokehJS not loaded, scheduling load and callback at\", now());\n",
       "    window._bokeh_is_loading = js_urls.length;\n",
       "    for (var i = 0; i < js_urls.length; i++) {\n",
       "      var url = js_urls[i];\n",
       "      var s = document.createElement('script');\n",
       "      s.src = url;\n",
       "      s.async = false;\n",
       "      s.onreadystatechange = s.onload = function() {\n",
       "        window._bokeh_is_loading--;\n",
       "        if (window._bokeh_is_loading === 0) {\n",
       "          console.log(\"Bokeh: all BokehJS libraries loaded\");\n",
       "          run_callbacks()\n",
       "        }\n",
       "      };\n",
       "      s.onerror = function() {\n",
       "        console.warn(\"failed to load library \" + url);\n",
       "      };\n",
       "      console.log(\"Bokeh: injecting script tag for BokehJS library: \", url);\n",
       "      document.getElementsByTagName(\"head\")[0].appendChild(s);\n",
       "    }\n",
       "  };var element = document.getElementById(\"514ea1e5-a7a6-40f4-91f1-801193817e66\");\n",
       "  if (element == null) {\n",
       "    console.log(\"Bokeh: ERROR: autoload.js configured with elementid '514ea1e5-a7a6-40f4-91f1-801193817e66' but no matching script tag was found. \")\n",
       "    return false;\n",
       "  }\n",
       "\n",
       "  var js_urls = [\"https://cdn.pydata.org/bokeh/release/bokeh-0.12.6.min.js\", \"https://cdn.pydata.org/bokeh/release/bokeh-widgets-0.12.6.min.js\"];\n",
       "\n",
       "  var inline_js = [\n",
       "    function(Bokeh) {\n",
       "      Bokeh.set_log_level(\"info\");\n",
       "    },\n",
       "    \n",
       "    function(Bokeh) {\n",
       "      \n",
       "    },\n",
       "    \n",
       "    function(Bokeh) {\n",
       "      \n",
       "      document.getElementById(\"514ea1e5-a7a6-40f4-91f1-801193817e66\").textContent = \"BokehJS is loading...\";\n",
       "    },\n",
       "    function(Bokeh) {\n",
       "      console.log(\"Bokeh: injecting CSS: https://cdn.pydata.org/bokeh/release/bokeh-0.12.6.min.css\");\n",
       "      Bokeh.embed.inject_css(\"https://cdn.pydata.org/bokeh/release/bokeh-0.12.6.min.css\");\n",
       "      console.log(\"Bokeh: injecting CSS: https://cdn.pydata.org/bokeh/release/bokeh-widgets-0.12.6.min.css\");\n",
       "      Bokeh.embed.inject_css(\"https://cdn.pydata.org/bokeh/release/bokeh-widgets-0.12.6.min.css\");\n",
       "    }\n",
       "  ];\n",
       "\n",
       "  function run_inline_js() {\n",
       "    \n",
       "    if ((window.Bokeh !== undefined) || (force === true)) {\n",
       "      for (var i = 0; i < inline_js.length; i++) {\n",
       "        inline_js[i](window.Bokeh);\n",
       "      }if (force === true) {\n",
       "        display_loaded();\n",
       "      }} else if (Date.now() < window._bokeh_timeout) {\n",
       "      setTimeout(run_inline_js, 100);\n",
       "    } else if (!window._bokeh_failed_load) {\n",
       "      console.log(\"Bokeh: BokehJS failed to load within specified timeout.\");\n",
       "      window._bokeh_failed_load = true;\n",
       "    } else if (force !== true) {\n",
       "      var cell = $(document.getElementById(\"514ea1e5-a7a6-40f4-91f1-801193817e66\")).parents('.cell').data().cell;\n",
       "      cell.output_area.append_execute_result(NB_LOAD_WARNING)\n",
       "    }\n",
       "\n",
       "  }\n",
       "\n",
       "  if (window._bokeh_is_loading === 0) {\n",
       "    console.log(\"Bokeh: BokehJS loaded, going straight to plotting\");\n",
       "    run_inline_js();\n",
       "  } else {\n",
       "    load_libs(js_urls, function() {\n",
       "      console.log(\"Bokeh: BokehJS plotting callback run at\", now());\n",
       "      run_inline_js();\n",
       "    });\n",
       "  }\n",
       "}(this));"
      ]
     },
     "metadata": {},
     "output_type": "display_data"
    }
   ],
   "source": [
    "import datetime\n",
    "import numpy as np\n",
    "import pandas as pd\n",
    "import matplotlib.pyplot as plt\n",
    "import seaborn as sns\n",
    "from bokeh.plotting import figure, show, ColumnDataSource\n",
    "from bokeh.io import output_notebook, export_svgs\n",
    "from bokeh.models import Title, HoverTool, Legend, LinearColorMapper, ColorBar, BasicTicker, Range1d, Label, Div\n",
    "from bokeh.layouts import row, column, gridplot\n",
    "from math import pi\n",
    "output_notebook()\n",
    "%matplotlib inline"
   ]
  },
  {
   "cell_type": "markdown",
   "metadata": {},
   "source": [
    "# Expected Time vs. Actual Time\n",
    "\n",
    "In this notebook we will respond the question on how to measure and to report the expected time vs. actual time differences. In particular, we will propose an indicator that is clear and simple enought to capture the differences between these two measures."
   ]
  },
  {
   "cell_type": "code",
   "execution_count": 2,
   "metadata": {
    "collapsed": true
   },
   "outputs": [],
   "source": [
    "pick_drop = pd.read_pickle('data/pick_drop_data')\n",
    "booking_data = pd.read_pickle('data/bookings_data')"
   ]
  },
  {
   "cell_type": "code",
   "execution_count": 3,
   "metadata": {},
   "outputs": [
    {
     "data": {
      "text/plain": [
       "2110"
      ]
     },
     "execution_count": 3,
     "metadata": {},
     "output_type": "execute_result"
    }
   ],
   "source": [
    "pick_drop[\"actual_time_utc_berlin\"].notnull().sum()"
   ]
  },
  {
   "cell_type": "code",
   "execution_count": 4,
   "metadata": {},
   "outputs": [
    {
     "data": {
      "text/plain": [
       "1098"
      ]
     },
     "execution_count": 4,
     "metadata": {},
     "output_type": "execute_result"
    }
   ],
   "source": [
    "((pick_drop[\"actual_time_utc_berlin\"].notnull()) &  (pick_drop[\"type\"] == \"pickup\")).sum()"
   ]
  },
  {
   "cell_type": "code",
   "execution_count": 5,
   "metadata": {},
   "outputs": [
    {
     "data": {
      "text/plain": [
       "1012"
      ]
     },
     "execution_count": 5,
     "metadata": {},
     "output_type": "execute_result"
    }
   ],
   "source": [
    "((pick_drop[\"actual_time_utc_berlin\"].notnull()) &  (pick_drop[\"type\"] == \"dropoff\")).sum()"
   ]
  },
  {
   "cell_type": "markdown",
   "metadata": {},
   "source": [
    "Checking our data, we notice that there are a total of 2110 observations in our `pick_drop` data set that have an actual time of pick up. Note that this can be further divided in pick ups and drops offs. \n",
    "\n",
    "A first thing we notice here is that there are more pick ups than closed services. In our exploratory analysis we saw that we had 1014 closed pick up services and 1012 closed drop off services. What could explain this difference?\n",
    "\n",
    "In what follows, we show that the difference is related to the cases when the driver itself has cancelled the service. To prove this, we get first the cases of the `pick_drop` data set where there exist a pick up, an actual time and the service was cancelled. We compare the `booking_id` with that of the `booking_data` for the cases where the driver decided to cancel the service. We notice that there are no differences at all, meaning that the cancel pick ups with actual time corresponds to cases where driver cancelled the service."
   ]
  },
  {
   "cell_type": "code",
   "execution_count": 6,
   "metadata": {},
   "outputs": [
    {
     "data": {
      "text/plain": [
       "set()"
      ]
     },
     "execution_count": 6,
     "metadata": {},
     "output_type": "execute_result"
    }
   ],
   "source": [
    "bookings_pick_up_canceled = pick_drop[pick_drop[\"actual_time_utc_berlin\"].notnull() &  \n",
    "                                      (pick_drop[\"type\"] == \"pickup\") & \n",
    "                                      (pick_drop[\"status\"] == \"cancelled\")]\n",
    "bookings_driver_cancelled = booking_data[booking_data['cancelled_by'] == 'driver']\n",
    "set(bookings_pick_up_canceled['booking_id']).difference(set(bookings_driver_cancelled['booking_id']))"
   ]
  },
  {
   "cell_type": "markdown",
   "metadata": {},
   "source": [
    "### Should cancelled pick ups be part of the analysis?\n",
    "\n",
    "While this might be a point for discussion, we think that cancelled pick ups should not be part of the expected time vs. actual time analysis. We believe that the cancelled pick ups by the driver might have other motivations (user was never in the place, user forgot to cancel service, etc) than waiting. \n",
    "\n",
    "In this sense, the actual vs. expected time analysis wants to deal with how the difference affect the service experience. If there was no service to the user to begin with and no waiting time, it is difficult to see how this has affected the quality of the service. We decide, therefore, to exclude these points from our analysis."
   ]
  },
  {
   "cell_type": "code",
   "execution_count": 7,
   "metadata": {
    "collapsed": true
   },
   "outputs": [],
   "source": [
    "exp_act_time = pick_drop[(pick_drop[\"actual_time_utc_berlin\"].notnull()) \n",
    "          & ~(pick_drop[\"status\"] == \"cancelled\")].reset_index()"
   ]
  },
  {
   "cell_type": "code",
   "execution_count": 8,
   "metadata": {
    "collapsed": true
   },
   "outputs": [],
   "source": [
    "#Finding time differences\n",
    "def diff(row,t1,t2):\n",
    "    \"\"\"\n",
    "    t1: Timestamp object.\n",
    "    t2: Timestamp oject.\n",
    "    \"\"\"\n",
    "    d = row[t1]-row[t2]\n",
    "    diff_seconds = d.total_seconds()\n",
    "    return diff_seconds"
   ]
  },
  {
   "cell_type": "code",
   "execution_count": 9,
   "metadata": {
    "collapsed": true
   },
   "outputs": [],
   "source": [
    "exp_act_time.loc[:,\"time_diff\"] = exp_act_time.apply(diff, t1='actual_time_utc_berlin', \n",
    "                                                     t2='estimated_time_utc_berlin', axis=1)"
   ]
  },
  {
   "cell_type": "code",
   "execution_count": 10,
   "metadata": {
    "collapsed": true
   },
   "outputs": [],
   "source": [
    "def print_stats(df, column):\n",
    "    \"\"\"\n",
    "    df: pandas dataframe object.\n",
    "    column: (str) column name belonging to dataframe.\n",
    "    \"\"\"\n",
    "    total_hours_diff = df[column].sum() / (60*60)\n",
    "    avg_total_hours_diff = df[column].sum() / len(exp_act_time)\n",
    "    sd_total_hours_diff = df[column].std()\n",
    "    print(\"Total difference (hours): {:.3f}\".format(total_hours_diff))\n",
    "    print(\"Average (seconds): {:.3f}\".format(avg_total_hours_diff))\n",
    "    print(\"Standard deviation (seconds): {:.3f}\".format(sd_total_hours_diff))\n",
    "\n"
   ]
  },
  {
   "cell_type": "code",
   "execution_count": 11,
   "metadata": {},
   "outputs": [
    {
     "name": "stdout",
     "output_type": "stream",
     "text": [
      "Total difference (hours): 31.382\n",
      "Average (seconds): 55.762\n",
      "Standard deviation (seconds): 254.066\n"
     ]
    }
   ],
   "source": [
    "print_stats(exp_act_time,\"time_diff\")"
   ]
  },
  {
   "cell_type": "code",
   "execution_count": 12,
   "metadata": {
    "collapsed": true
   },
   "outputs": [],
   "source": [
    "#Passing time difference to minutes\n",
    "exp_act_time[\"time_diff_min\"] = exp_act_time[\"time_diff\"]/60"
   ]
  },
  {
   "cell_type": "code",
   "execution_count": 13,
   "metadata": {},
   "outputs": [
    {
     "data": {
      "image/png": "[encoded data removed]",
      "text/plain": [
       "<matplotlib.figure.Figure at 0x11165c198>"
      ]
     },
     "metadata": {},
     "output_type": "display_data"
    }
   ],
   "source": [
    "#Plotting distribution of expected vs. actual difference\n",
    "fig, ax = plt.subplots(figsize=(10,5))\n",
    "sns.distplot(exp_act_time[\"time_diff_min\"], kde=False, ax=ax)\n",
    "ax.set_xlabel(\"Time difference\")\n",
    "ax.set_ylabel(\"Counts minutes\")\n",
    "ax.set_title(\"Distribution of difference \\n Actual Time Expected Time (minutes)\")\n",
    "ax.axvline(0, color=\"#44999E\", linestyle='--');"
   ]
  },
  {
   "cell_type": "markdown",
   "metadata": {},
   "source": [
    "Looking at the distribution of total seconds difference between actual time and expected time, we see that this has a somewhat of a bell shape. Note, however, that the distribution tends to be shifted towards the positive values. This explains why the total sum is positive (31 hours difference in total approx). \n",
    "\n",
    "As an additional, there are some outliers worth mentioning. For example, the case with the highest difference between both values is almost an hour: 58 minutes, 53 seconds.\n",
    "\n",
    "The average difference between both measures is not bad. In total we have that approximately there is a 55 second differences. However, the standard deviation tells us that this distribution is quite spread. Therefore, it is important to understand well the cases when there is a mismatch between actual and expected time."
   ]
  },
  {
   "cell_type": "code",
   "execution_count": 14,
   "metadata": {
    "collapsed": true
   },
   "outputs": [],
   "source": [
    "def get_thresholds_groups(df, column):\n",
    "    df[\"time_thresholds\"] = pd.cut(df[column], [-100,-7,-3,0,3,7,100])\n",
    "    #Check that cut do not generate empty cells (so every observation is within a category)\n",
    "    if df[\"time_thresholds\"].isnull().sum() == 0:\n",
    "        group_threshold = df.groupby(\"time_thresholds\")['booking_id'].aggregate(lambda x: len(x) / len(df)).reset_index()\n",
    "        group_threshold = group_threshold.rename(columns={\"booking_id\": \"pct\"})\n",
    "        colors = [\"#E43216\", \"#E4E02C\", \"#459E0F\"]\n",
    "        colors.extend(colors[::-1])\n",
    "        group_threshold[\"colors\"] = colors\n",
    "        return group_threshold\n",
    "\n",
    "def get_region_threshold_groups(df, column):\n",
    "    colors_dict = {\"#E43216\":\"red\", \"#E4E02C\":\"yellow\", \"#459E0F\":\"green\"}\n",
    "    region_group = df.groupby(column).agg({'pct': np.sum}).reset_index()\n",
    "    region_group[\"thresholds\"] = region_group[\"colors\"].map(lambda x: colors_dict[x])\n",
    "    region_group[\"thresholds\"] = pd.Categorical(region_group[\"thresholds\"], [\"green\", \"yellow\", \"red\"])\n",
    "    #Getting extra index for easier plotting \n",
    "    region_group = region_group.sort_values(by=\"thresholds\").reset_index()\n",
    "    region_group[\"thresholds\"] = region_group[\"thresholds\"].astype(object)\n",
    "    return region_group"
   ]
  },
  {
   "cell_type": "code",
   "execution_count": 15,
   "metadata": {
    "collapsed": true
   },
   "outputs": [],
   "source": [
    "def plot_horizontal_time_thresholds(df, plot_w, plot_h, pct_column, colors_column, title):\n",
    "    \n",
    "    p = figure(plot_width=plot_w, plot_height=plot_h)\n",
    "\n",
    "    #Cases where actual time less than expected time\n",
    "    perct_neg_acc = 0\n",
    "    for i in list(range(0,3))[::-1]:\n",
    "        p.hbar(y=1, height=0.3, left=-df[pct_column][i] + perct_neg_acc,\n",
    "           right=perct_neg_acc, color=df[colors_column][i] )\n",
    "        p.line(x=[perct_neg_acc, perct_neg_acc], y=[0.5, 1.5], line_width=2, color=\"#AAB2A5\", line_dash=\"dashed\")\n",
    "        perct_neg_acc -= df[pct_column][i]\n",
    "    \n",
    "    #Cases where expected time less than actual time    \n",
    "    perc_pos_acc = 0\n",
    "    for i in list(range(3,6)):\n",
    "        p.hbar(y=1, height=0.3, left=perc_pos_acc,\n",
    "           right = df[pct_column][i] + perc_pos_acc, color=df[colors_column][i])\n",
    "        p.line(x=[perc_pos_acc, perc_pos_acc], y=[0.5, 1.5], line_width=2, color=\"#AAB2A5\", line_dash=\"dashed\")\n",
    "        perc_pos_acc += df[pct_column][i]\n",
    "        \n",
    "    p.y_range = Range1d(0, 2)\n",
    "    p.add_layout(Title(text=title, align=\"center\", text_font_size=\"10pt\"), \n",
    "             \"above\")\n",
    "    p.xgrid.grid_line_color = None\n",
    "    p.ygrid.grid_line_color = None\n",
    "    p.yaxis.visible = False\n",
    "    return p"
   ]
  },
  {
   "cell_type": "code",
   "execution_count": 16,
   "metadata": {
    "collapsed": true
   },
   "outputs": [],
   "source": [
    "def plot_total_pct_thresholds(df, plot_w, plot_h, index_col,  pct_column, color_column, title):\n",
    "\n",
    "    source = ColumnDataSource(df)    \n",
    "    hover = HoverTool(tooltips=[\n",
    "        (\"pct\", \"@\"+ pct_column +\"{(0.00%)}\")\n",
    "    ])\n",
    "\n",
    "    total_perc = figure(plot_width=plot_w, plot_height=plot_h, tools=[hover])\n",
    "    total_perc.add_layout(Title(text=title, align=\"center\", text_font_size=\"10pt\"), \n",
    "             \"above\")\n",
    "\n",
    "    total_perc.vbar(x=index_col, top=pct_column, color=color_column, source= source, width=0.6)\n",
    "    \n",
    "    return total_perc"
   ]
  },
  {
   "cell_type": "code",
   "execution_count": 17,
   "metadata": {
    "collapsed": true
   },
   "outputs": [],
   "source": [
    "group_threshold = get_thresholds_groups(exp_act_time, \"time_diff_min\")\n",
    "region_group = get_region_threshold_groups(group_threshold, \"colors\")"
   ]
  },
  {
   "cell_type": "code",
   "execution_count": 49,
   "metadata": {},
   "outputs": [
    {
     "data": {
      "text/html": [
       "\n",
       "\n",
       "    <div class=\"bk-root\">\n",
       "        <div class=\"bk-plotdiv\" id=\"d57d58d5-74d1-4285-8a6a-5fd095f69a76\"></div>\n",
       "    </div>\n",
       "<script type=\"text/javascript\">\n",
       "  \n",
       "  (function(global) {\n",
       "    function now() {\n",
       "      return new Date();\n",
       "    }\n",
       "  \n",
       "    var force = false;\n",
       "  \n",
       "    if (typeof (window._bokeh_onload_callbacks) === \"undefined\" || force === true) {\n",
       "      window._bokeh_onload_callbacks = [];\n",
       "      window._bokeh_is_loading = undefined;\n",
       "    }\n",
       "  \n",
       "  \n",
       "    \n",
       "    if (typeof (window._bokeh_timeout) === \"undefined\" || force === true) {\n",
       "      window._bokeh_timeout = Date.now() + 0;\n",
       "      window._bokeh_failed_load = false;\n",
       "    }\n",
       "  \n",
       "    var NB_LOAD_WARNING = {'data': {'text/html':\n",
       "       \"<div style='background-color: #fdd'>\\n\"+\n",
       "       \"<p>\\n\"+\n",
       "       \"BokehJS does not appear to have successfully loaded. If loading BokehJS from CDN, this \\n\"+\n",
       "       \"may be due to a slow or bad network connection. Possible fixes:\\n\"+\n",
       "       \"</p>\\n\"+\n",
       "       \"<ul>\\n\"+\n",
       "       \"<li>re-rerun `output_notebook()` to attempt to load from CDN again, or</li>\\n\"+\n",
       "       \"<li>use INLINE resources instead, as so:</li>\\n\"+\n",
       "       \"</ul>\\n\"+\n",
       "       \"<code>\\n\"+\n",
       "       \"from bokeh.resources import INLINE\\n\"+\n",
       "       \"output_notebook(resources=INLINE)\\n\"+\n",
       "       \"</code>\\n\"+\n",
       "       \"</div>\"}};\n",
       "  \n",
       "    function display_loaded() {\n",
       "      if (window.Bokeh !== undefined) {\n",
       "        var el = document.getElementById(\"d57d58d5-74d1-4285-8a6a-5fd095f69a76\");\n",
       "        el.textContent = \"BokehJS \" + Bokeh.version + \" successfully loaded.\";\n",
       "      } else if (Date.now() < window._bokeh_timeout) {\n",
       "        setTimeout(display_loaded, 100)\n",
       "      }\n",
       "    }\n",
       "  \n",
       "    function run_callbacks() {\n",
       "      try {\n",
       "        window._bokeh_onload_callbacks.forEach(function(callback) { callback() });\n",
       "      }\n",
       "      finally {\n",
       "        delete window._bokeh_onload_callbacks\n",
       "      }\n",
       "      console.info(\"Bokeh: all callbacks have finished\");\n",
       "    }\n",
       "  \n",
       "    function load_libs(js_urls, callback) {\n",
       "      window._bokeh_onload_callbacks.push(callback);\n",
       "      if (window._bokeh_is_loading > 0) {\n",
       "        console.log(\"Bokeh: BokehJS is being loaded, scheduling callback at\", now());\n",
       "        return null;\n",
       "      }\n",
       "      if (js_urls == null || js_urls.length === 0) {\n",
       "        run_callbacks();\n",
       "        return null;\n",
       "      }\n",
       "      console.log(\"Bokeh: BokehJS not loaded, scheduling load and callback at\", now());\n",
       "      window._bokeh_is_loading = js_urls.length;\n",
       "      for (var i = 0; i < js_urls.length; i++) {\n",
       "        var url = js_urls[i];\n",
       "        var s = document.createElement('script');\n",
       "        s.src = url;\n",
       "        s.async = false;\n",
       "        s.onreadystatechange = s.onload = function() {\n",
       "          window._bokeh_is_loading--;\n",
       "          if (window._bokeh_is_loading === 0) {\n",
       "            console.log(\"Bokeh: all BokehJS libraries loaded\");\n",
       "            run_callbacks()\n",
       "          }\n",
       "        };\n",
       "        s.onerror = function() {\n",
       "          console.warn(\"failed to load library \" + url);\n",
       "        };\n",
       "        console.log(\"Bokeh: injecting script tag for BokehJS library: \", url);\n",
       "        document.getElementsByTagName(\"head\")[0].appendChild(s);\n",
       "      }\n",
       "    };var element = document.getElementById(\"d57d58d5-74d1-4285-8a6a-5fd095f69a76\");\n",
       "    if (element == null) {\n",
       "      console.log(\"Bokeh: ERROR: autoload.js configured with elementid 'd57d58d5-74d1-4285-8a6a-5fd095f69a76' but no matching script tag was found. \")\n",
       "      return false;\n",
       "    }\n",
       "  \n",
       "    var js_urls = [];\n",
       "  \n",
       "    var inline_js = [\n",
       "      function(Bokeh) {\n",
       "        (function() {\n",
       "          var fn = function() {\n",
       "            var docs_json = {\"574bf116-b6ee-440c-aa5a-459e0bbc881b\":{\"roots\":{\"references\":[{\"attributes\":{\"align\":\"center\",\"plot\":{\"id\":\"ff2efe9a-e613-4752-9201-39159a71a503\",\"subtype\":\"Figure\",\"type\":\"Plot\"},\"text\":\"Total percentage within thresholds drop off\"},\"id\":\"2f3f22b2-2ffb-4773-8420-7d8055c17b5d\",\"type\":\"Title\"},{\"attributes\":{\"callback\":null,\"column_names\":[\"thresholds\",\"pct\",\"colors\",\"index\"],\"data\":{\"colors\":[\"#459E0F\",\"#E4E02C\",\"#E43216\"],\"index\":[0,1,2],\"pct\":{\"__ndarray__\":\"4vVRGwkD4T9SGwkDAavTP9bxpYzZncQ/\",\"dtype\":\"float64\",\"shape\":[3]},\"thresholds\":[\"green\",\"yellow\",\"red\"]}},\"id\":\"f483cc34-c5a9-46d6-a545-a3f508991ea6\",\"type\":\"ColumnDataSource\"},{\"attributes\":{\"fill_color\":{\"field\":\"colors\"},\"line_color\":{\"field\":\"colors\"},\"top\":{\"field\":\"pct\"},\"width\":{\"value\":0.6},\"x\":{\"field\":\"index\"}},\"id\":\"6f72c3ae-a960-49c3-acaa-f2e0e18348ee\",\"type\":\"VBar\"},{\"attributes\":{},\"id\":\"d4ce57a7-06d2-4d80-af21-1311caa48fe1\",\"type\":\"BasicTickFormatter\"},{\"attributes\":{\"dimension\":1,\"plot\":{\"id\":\"ff2efe9a-e613-4752-9201-39159a71a503\",\"subtype\":\"Figure\",\"type\":\"Plot\"},\"ticker\":{\"id\":\"b54d479b-0ebe-4104-a3d3-1f967ea39428\",\"type\":\"BasicTicker\"}},\"id\":\"c0936950-c3f2-43d7-9cad-59a3faa74dbe\",\"type\":\"Grid\"},{\"attributes\":{\"plot\":{\"id\":\"ff2efe9a-e613-4752-9201-39159a71a503\",\"subtype\":\"Figure\",\"type\":\"Plot\"},\"ticker\":{\"id\":\"8be6714a-7306-4d14-be59-2edfc3c03dbd\",\"type\":\"BasicTicker\"}},\"id\":\"f730fc33-49b0-479c-82cd-c83b180a66a6\",\"type\":\"Grid\"},{\"attributes\":{\"callback\":null},\"id\":\"942aba95-72bf-45b9-9f4f-0428ace52b3a\",\"type\":\"DataRange1d\"},{\"attributes\":{},\"id\":\"36cff01f-97df-42e4-af12-c3607e25c321\",\"type\":\"LinearScale\"},{\"attributes\":{\"formatter\":{\"id\":\"5ecbbc92-4165-4e6b-8f79-3f00fc5ecd7d\",\"type\":\"BasicTickFormatter\"},\"plot\":{\"id\":\"ff2efe9a-e613-4752-9201-39159a71a503\",\"subtype\":\"Figure\",\"type\":\"Plot\"},\"ticker\":{\"id\":\"8be6714a-7306-4d14-be59-2edfc3c03dbd\",\"type\":\"BasicTicker\"}},\"id\":\"ab8b3f4d-663c-400e-8c80-b50da3ce1858\",\"type\":\"LinearAxis\"},{\"attributes\":{\"callback\":null,\"plot\":{\"id\":\"ff2efe9a-e613-4752-9201-39159a71a503\",\"subtype\":\"Figure\",\"type\":\"Plot\"},\"tooltips\":[[\"pct\",\"@pct{(0.00%)}\"]]},\"id\":\"981d1e79-ade0-4c58-8c00-2737e1fe2909\",\"type\":\"HoverTool\"},{\"attributes\":{\"callback\":null},\"id\":\"a75bd649-70be-4d9c-b200-045b9086a129\",\"type\":\"DataRange1d\"},{\"attributes\":{},\"id\":\"b54d479b-0ebe-4104-a3d3-1f967ea39428\",\"type\":\"BasicTicker\"},{\"attributes\":{\"active_drag\":\"auto\",\"active_inspect\":\"auto\",\"active_scroll\":\"auto\",\"active_tap\":\"auto\",\"tools\":[{\"id\":\"981d1e79-ade0-4c58-8c00-2737e1fe2909\",\"type\":\"HoverTool\"}]},\"id\":\"5bd6d7e9-5d7a-4d6c-a304-d3a71841722e\",\"type\":\"Toolbar\"},{\"attributes\":{},\"id\":\"5ecbbc92-4165-4e6b-8f79-3f00fc5ecd7d\",\"type\":\"BasicTickFormatter\"},{\"attributes\":{\"data_source\":{\"id\":\"f483cc34-c5a9-46d6-a545-a3f508991ea6\",\"type\":\"ColumnDataSource\"},\"glyph\":{\"id\":\"6f72c3ae-a960-49c3-acaa-f2e0e18348ee\",\"type\":\"VBar\"},\"hover_glyph\":null,\"muted_glyph\":null,\"nonselection_glyph\":{\"id\":\"ea44cf6a-be4d-4b25-902a-a69abb9fce07\",\"type\":\"VBar\"},\"selection_glyph\":null},\"id\":\"63d699be-f1ec-4c3d-b701-09806a766bd7\",\"type\":\"GlyphRenderer\"},{\"attributes\":{\"fill_alpha\":{\"value\":0.1},\"fill_color\":{\"value\":\"#1f77b4\"},\"line_alpha\":{\"value\":0.1},\"line_color\":{\"value\":\"#1f77b4\"},\"top\":{\"field\":\"pct\"},\"width\":{\"value\":0.6},\"x\":{\"field\":\"index\"}},\"id\":\"ea44cf6a-be4d-4b25-902a-a69abb9fce07\",\"type\":\"VBar\"},{\"attributes\":{\"plot\":null,\"text\":\"\"},\"id\":\"9561701b-e4c3-4f5d-bf3e-464c78de5eac\",\"type\":\"Title\"},{\"attributes\":{},\"id\":\"a48dd648-3e75-4cdd-819c-d07edfe04092\",\"type\":\"LinearScale\"},{\"attributes\":{\"above\":[{\"id\":\"2f3f22b2-2ffb-4773-8420-7d8055c17b5d\",\"type\":\"Title\"}],\"below\":[{\"id\":\"ab8b3f4d-663c-400e-8c80-b50da3ce1858\",\"type\":\"LinearAxis\"}],\"left\":[{\"id\":\"45e09ce9-a713-470f-a619-0baa7146fb9e\",\"type\":\"LinearAxis\"}],\"plot_height\":400,\"plot_width\":400,\"renderers\":[{\"id\":\"ab8b3f4d-663c-400e-8c80-b50da3ce1858\",\"type\":\"LinearAxis\"},{\"id\":\"f730fc33-49b0-479c-82cd-c83b180a66a6\",\"type\":\"Grid\"},{\"id\":\"45e09ce9-a713-470f-a619-0baa7146fb9e\",\"type\":\"LinearAxis\"},{\"id\":\"c0936950-c3f2-43d7-9cad-59a3faa74dbe\",\"type\":\"Grid\"},{\"id\":\"2f3f22b2-2ffb-4773-8420-7d8055c17b5d\",\"type\":\"Title\"},{\"id\":\"63d699be-f1ec-4c3d-b701-09806a766bd7\",\"type\":\"GlyphRenderer\"}],\"title\":{\"id\":\"9561701b-e4c3-4f5d-bf3e-464c78de5eac\",\"type\":\"Title\"},\"tool_events\":{\"id\":\"70d27cfd-4b18-4029-8a32-7c29ad647244\",\"type\":\"ToolEvents\"},\"toolbar\":{\"id\":\"5bd6d7e9-5d7a-4d6c-a304-d3a71841722e\",\"type\":\"Toolbar\"},\"x_range\":{\"id\":\"942aba95-72bf-45b9-9f4f-0428ace52b3a\",\"type\":\"DataRange1d\"},\"x_scale\":{\"id\":\"36cff01f-97df-42e4-af12-c3607e25c321\",\"type\":\"LinearScale\"},\"y_range\":{\"id\":\"a75bd649-70be-4d9c-b200-045b9086a129\",\"type\":\"DataRange1d\"},\"y_scale\":{\"id\":\"a48dd648-3e75-4cdd-819c-d07edfe04092\",\"type\":\"LinearScale\"}},\"id\":\"ff2efe9a-e613-4752-9201-39159a71a503\",\"subtype\":\"Figure\",\"type\":\"Plot\"},{\"attributes\":{},\"id\":\"70d27cfd-4b18-4029-8a32-7c29ad647244\",\"type\":\"ToolEvents\"},{\"attributes\":{\"formatter\":{\"id\":\"d4ce57a7-06d2-4d80-af21-1311caa48fe1\",\"type\":\"BasicTickFormatter\"},\"plot\":{\"id\":\"ff2efe9a-e613-4752-9201-39159a71a503\",\"subtype\":\"Figure\",\"type\":\"Plot\"},\"ticker\":{\"id\":\"b54d479b-0ebe-4104-a3d3-1f967ea39428\",\"type\":\"BasicTicker\"}},\"id\":\"45e09ce9-a713-470f-a619-0baa7146fb9e\",\"type\":\"LinearAxis\"},{\"attributes\":{},\"id\":\"8be6714a-7306-4d14-be59-2edfc3c03dbd\",\"type\":\"BasicTicker\"}],\"root_ids\":[\"ff2efe9a-e613-4752-9201-39159a71a503\"]},\"title\":\"Bokeh Application\",\"version\":\"0.12.6\"}};\n",
       "            var render_items = [{\"docid\":\"574bf116-b6ee-440c-aa5a-459e0bbc881b\",\"elementid\":\"d57d58d5-74d1-4285-8a6a-5fd095f69a76\",\"modelid\":\"ff2efe9a-e613-4752-9201-39159a71a503\"}];\n",
       "            \n",
       "            Bokeh.embed.embed_items(docs_json, render_items);\n",
       "          };\n",
       "          if (document.readyState != \"loading\") fn();\n",
       "          else document.addEventListener(\"DOMContentLoaded\", fn);\n",
       "        })();\n",
       "      },\n",
       "      function(Bokeh) {\n",
       "      }\n",
       "    ];\n",
       "  \n",
       "    function run_inline_js() {\n",
       "      \n",
       "      if ((window.Bokeh !== undefined) || (force === true)) {\n",
       "        for (var i = 0; i < inline_js.length; i++) {\n",
       "          inline_js[i](window.Bokeh);\n",
       "        }if (force === true) {\n",
       "          display_loaded();\n",
       "        }} else if (Date.now() < window._bokeh_timeout) {\n",
       "        setTimeout(run_inline_js, 100);\n",
       "      } else if (!window._bokeh_failed_load) {\n",
       "        console.log(\"Bokeh: BokehJS failed to load within specified timeout.\");\n",
       "        window._bokeh_failed_load = true;\n",
       "      } else if (force !== true) {\n",
       "        var cell = $(document.getElementById(\"d57d58d5-74d1-4285-8a6a-5fd095f69a76\")).parents('.cell').data().cell;\n",
       "        cell.output_area.append_execute_result(NB_LOAD_WARNING)\n",
       "      }\n",
       "  \n",
       "    }\n",
       "  \n",
       "    if (window._bokeh_is_loading === 0) {\n",
       "      console.log(\"Bokeh: BokehJS loaded, going straight to plotting\");\n",
       "      run_inline_js();\n",
       "    } else {\n",
       "      load_libs(js_urls, function() {\n",
       "        console.log(\"Bokeh: BokehJS plotting callback run at\", now());\n",
       "        run_inline_js();\n",
       "      });\n",
       "    }\n",
       "  }(this));\n",
       "</script>"
      ]
     },
     "metadata": {},
     "output_type": "display_data"
    }
   ],
   "source": [
    "output_file(\"thresholds.html\")\n",
    "within_thresholds_first_drop_off_plot_p = plot_total_pct_thresholds(within_thresh_first_drop_off, 400, 400, \"index\", \"pct\", \"colors\", \n",
    "                                              \"Total percentage within thresholds drop off\")\n",
    "show(within_thresholds_first_drop_off_plot_p)"
   ]
  },
  {
   "cell_type": "code",
   "execution_count": 18,
   "metadata": {},
   "outputs": [
    {
     "data": {
      "text/html": [
       "\n",
       "\n",
       "    <div class=\"bk-root\">\n",
       "        <div class=\"bk-plotdiv\" id=\"20242f9d-c89a-459e-ae71-7b8227d8505f\"></div>\n",
       "    </div>\n",
       "<script type=\"text/javascript\">\n",
       "  \n",
       "  (function(global) {\n",
       "    function now() {\n",
       "      return new Date();\n",
       "    }\n",
       "  \n",
       "    var force = false;\n",
       "  \n",
       "    if (typeof (window._bokeh_onload_callbacks) === \"undefined\" || force === true) {\n",
       "      window._bokeh_onload_callbacks = [];\n",
       "      window._bokeh_is_loading = undefined;\n",
       "    }\n",
       "  \n",
       "  \n",
       "    \n",
       "    if (typeof (window._bokeh_timeout) === \"undefined\" || force === true) {\n",
       "      window._bokeh_timeout = Date.now() + 0;\n",
       "      window._bokeh_failed_load = false;\n",
       "    }\n",
       "  \n",
       "    var NB_LOAD_WARNING = {'data': {'text/html':\n",
       "       \"<div style='background-color: #fdd'>\\n\"+\n",
       "       \"<p>\\n\"+\n",
       "       \"BokehJS does not appear to have successfully loaded. If loading BokehJS from CDN, this \\n\"+\n",
       "       \"may be due to a slow or bad network connection. Possible fixes:\\n\"+\n",
       "       \"</p>\\n\"+\n",
       "       \"<ul>\\n\"+\n",
       "       \"<li>re-rerun `output_notebook()` to attempt to load from CDN again, or</li>\\n\"+\n",
       "       \"<li>use INLINE resources instead, as so:</li>\\n\"+\n",
       "       \"</ul>\\n\"+\n",
       "       \"<code>\\n\"+\n",
       "       \"from bokeh.resources import INLINE\\n\"+\n",
       "       \"output_notebook(resources=INLINE)\\n\"+\n",
       "       \"</code>\\n\"+\n",
       "       \"</div>\"}};\n",
       "  \n",
       "    function display_loaded() {\n",
       "      if (window.Bokeh !== undefined) {\n",
       "        var el = document.getElementById(\"20242f9d-c89a-459e-ae71-7b8227d8505f\");\n",
       "        el.textContent = \"BokehJS \" + Bokeh.version + \" successfully loaded.\";\n",
       "      } else if (Date.now() < window._bokeh_timeout) {\n",
       "        setTimeout(display_loaded, 100)\n",
       "      }\n",
       "    }\n",
       "  \n",
       "    function run_callbacks() {\n",
       "      try {\n",
       "        window._bokeh_onload_callbacks.forEach(function(callback) { callback() });\n",
       "      }\n",
       "      finally {\n",
       "        delete window._bokeh_onload_callbacks\n",
       "      }\n",
       "      console.info(\"Bokeh: all callbacks have finished\");\n",
       "    }\n",
       "  \n",
       "    function load_libs(js_urls, callback) {\n",
       "      window._bokeh_onload_callbacks.push(callback);\n",
       "      if (window._bokeh_is_loading > 0) {\n",
       "        console.log(\"Bokeh: BokehJS is being loaded, scheduling callback at\", now());\n",
       "        return null;\n",
       "      }\n",
       "      if (js_urls == null || js_urls.length === 0) {\n",
       "        run_callbacks();\n",
       "        return null;\n",
       "      }\n",
       "      console.log(\"Bokeh: BokehJS not loaded, scheduling load and callback at\", now());\n",
       "      window._bokeh_is_loading = js_urls.length;\n",
       "      for (var i = 0; i < js_urls.length; i++) {\n",
       "        var url = js_urls[i];\n",
       "        var s = document.createElement('script');\n",
       "        s.src = url;\n",
       "        s.async = false;\n",
       "        s.onreadystatechange = s.onload = function() {\n",
       "          window._bokeh_is_loading--;\n",
       "          if (window._bokeh_is_loading === 0) {\n",
       "            console.log(\"Bokeh: all BokehJS libraries loaded\");\n",
       "            run_callbacks()\n",
       "          }\n",
       "        };\n",
       "        s.onerror = function() {\n",
       "          console.warn(\"failed to load library \" + url);\n",
       "        };\n",
       "        console.log(\"Bokeh: injecting script tag for BokehJS library: \", url);\n",
       "        document.getElementsByTagName(\"head\")[0].appendChild(s);\n",
       "      }\n",
       "    };var element = document.getElementById(\"20242f9d-c89a-459e-ae71-7b8227d8505f\");\n",
       "    if (element == null) {\n",
       "      console.log(\"Bokeh: ERROR: autoload.js configured with elementid '20242f9d-c89a-459e-ae71-7b8227d8505f' but no matching script tag was found. \")\n",
       "      return false;\n",
       "    }\n",
       "  \n",
       "    var js_urls = [];\n",
       "  \n",
       "    var inline_js = [\n",
       "      function(Bokeh) {\n",
       "        (function() {\n",
       "          var fn = function() {\n",
       "            var docs_json = {\"eec59dcc-8fff-458b-a42e-393491dc31f2\":{\"roots\":{\"references\":[{\"attributes\":{\"plot\":{\"id\":\"a2f66010-8ad3-42f7-a25e-780c3b63ea0a\",\"subtype\":\"Figure\",\"type\":\"Plot\"}},\"id\":\"e4bf3c50-d1e2-4327-a15a-f05d2a658778\",\"type\":\"HelpTool\"},{\"attributes\":{\"line_alpha\":{\"value\":0.1},\"line_color\":{\"value\":\"#1f77b4\"},\"line_dash\":[6],\"line_width\":{\"value\":2},\"x\":{\"field\":\"x\"},\"y\":{\"field\":\"y\"}},\"id\":\"ce02b71f-bd75-4a53-a776-b5c461622e2b\",\"type\":\"Line\"},{\"attributes\":{},\"id\":\"c4b77ff3-7885-41b1-8b21-b486a9c97e47\",\"type\":\"BasicTickFormatter\"},{\"attributes\":{\"active_drag\":\"auto\",\"active_inspect\":\"auto\",\"active_scroll\":\"auto\",\"active_tap\":\"auto\",\"tools\":[{\"id\":\"1604a77f-6a7c-43ac-b506-977192335cd3\",\"type\":\"PanTool\"},{\"id\":\"c581f4d5-d1ef-4071-92c2-fc57f3a04242\",\"type\":\"WheelZoomTool\"},{\"id\":\"c5e5e94a-3f30-4f37-aa97-ac920077867d\",\"type\":\"BoxZoomTool\"},{\"id\":\"de065559-8439-4eb6-beb5-034382162c95\",\"type\":\"SaveTool\"},{\"id\":\"b6f49171-c248-4c39-b9ba-f8bdb61cd7e9\",\"type\":\"ResetTool\"},{\"id\":\"e4bf3c50-d1e2-4327-a15a-f05d2a658778\",\"type\":\"HelpTool\"}]},\"id\":\"d208d112-15b6-46bd-8505-03a8a5b8241b\",\"type\":\"Toolbar\"},{\"attributes\":{\"data_source\":{\"id\":\"4417a0f2-f9fa-4034-9340-6c857850adc8\",\"type\":\"ColumnDataSource\"},\"glyph\":{\"id\":\"d8ef1a49-ab5b-4c12-8b66-612fcbbc2001\",\"type\":\"Line\"},\"hover_glyph\":null,\"muted_glyph\":null,\"nonselection_glyph\":{\"id\":\"44d37e8e-1b7c-4ebb-bb1b-4efc1735ace1\",\"type\":\"Line\"},\"selection_glyph\":null},\"id\":\"9ff29a16-ad23-44b7-9dd3-9b405c2f0c32\",\"type\":\"GlyphRenderer\"},{\"attributes\":{\"callback\":null},\"id\":\"0ca1c07f-f8a3-4c9b-92c7-097d7e3c5e57\",\"type\":\"DataRange1d\"},{\"attributes\":{\"formatter\":{\"id\":\"acf9975f-a88a-4868-abb5-978856829de8\",\"type\":\"BasicTickFormatter\"},\"plot\":{\"id\":\"a2f66010-8ad3-42f7-a25e-780c3b63ea0a\",\"subtype\":\"Figure\",\"type\":\"Plot\"},\"ticker\":{\"id\":\"30a12059-8906-4e49-a78a-8d34803671df\",\"type\":\"BasicTicker\"},\"visible\":false},\"id\":\"44455c47-9958-4272-8a82-63a9244c8c32\",\"type\":\"LinearAxis\"},{\"attributes\":{\"bottom_units\":\"screen\",\"fill_alpha\":{\"value\":0.5},\"fill_color\":{\"value\":\"lightgrey\"},\"left_units\":\"screen\",\"level\":\"overlay\",\"line_alpha\":{\"value\":1.0},\"line_color\":{\"value\":\"black\"},\"line_dash\":[4,4],\"line_width\":{\"value\":2},\"plot\":null,\"render_mode\":\"css\",\"right_units\":\"screen\",\"top_units\":\"screen\"},\"id\":\"7fcc1221-26b3-4497-ac1f-4f1f29a130e9\",\"type\":\"BoxAnnotation\"},{\"attributes\":{\"dimension\":1,\"plot\":{\"id\":\"d03ced7c-a8e6-43db-9d8e-3bbf376ed257\",\"subtype\":\"Figure\",\"type\":\"Plot\"},\"ticker\":{\"id\":\"5d9b0bd1-8a94-4693-864b-b9686106d61c\",\"type\":\"BasicTicker\"}},\"id\":\"c1d575db-63e3-4489-9958-c77b23eebbaa\",\"type\":\"Grid\"},{\"attributes\":{},\"id\":\"acf9975f-a88a-4868-abb5-978856829de8\",\"type\":\"BasicTickFormatter\"},{\"attributes\":{\"callback\":null,\"column_names\":[\"colors\",\"thresholds\",\"index\",\"pct\"],\"data\":{\"colors\":[\"#459E0F\",\"#E4E02C\",\"#E43216\"],\"index\":[0,1,2],\"pct\":{\"__ndarray__\":\"oCI7/ooy6D+hOrgrJ7HHP4jrbG2zEq4/\",\"dtype\":\"float64\",\"shape\":[3]},\"thresholds\":[\"green\",\"yellow\",\"red\"]}},\"id\":\"b8885813-63ea-4e44-bab3-45ee8141eca4\",\"type\":\"ColumnDataSource\"},{\"attributes\":{\"data_source\":{\"id\":\"1a387930-e62c-4ef5-800f-033777016bfa\",\"type\":\"ColumnDataSource\"},\"glyph\":{\"id\":\"29b85bb9-c40b-498a-8ffb-767fc3066e1f\",\"type\":\"HBar\"},\"hover_glyph\":null,\"muted_glyph\":null,\"nonselection_glyph\":{\"id\":\"d7f469a2-f6e9-4822-856b-23ddd0f58edc\",\"type\":\"HBar\"},\"selection_glyph\":null},\"id\":\"63d55c84-b42c-4502-89d7-0d0019d0038e\",\"type\":\"GlyphRenderer\"},{\"attributes\":{\"plot\":{\"id\":\"a2f66010-8ad3-42f7-a25e-780c3b63ea0a\",\"subtype\":\"Figure\",\"type\":\"Plot\"}},\"id\":\"de065559-8439-4eb6-beb5-034382162c95\",\"type\":\"SaveTool\"},{\"attributes\":{\"fill_color\":{\"value\":\"#E43216\"},\"height\":{\"value\":0.3},\"left\":{\"value\":-0.4378084896347483},\"line_color\":{\"value\":\"#E43216\"},\"right\":{\"value\":-0.430898321816387},\"y\":{\"value\":1}},\"id\":\"202d541d-92ea-4c61-9b48-10a5a4851843\",\"type\":\"HBar\"},{\"attributes\":{\"fill_alpha\":{\"value\":0.1},\"fill_color\":{\"value\":\"#1f77b4\"},\"height\":{\"value\":0.3},\"left\":{\"value\":0.3884501480750247},\"line_alpha\":{\"value\":0.1},\"line_color\":{\"value\":\"#1f77b4\"},\"right\":{\"value\":0.510365251727542},\"y\":{\"value\":1}},\"id\":\"693908f1-fc6c-47c2-9757-d9c85cbe06c9\",\"type\":\"HBar\"},{\"attributes\":{\"data_source\":{\"id\":\"7f4eaec4-1902-43d8-a79f-4a0949f05b85\",\"type\":\"ColumnDataSource\"},\"glyph\":{\"id\":\"333609ff-e245-4fd9-b11d-6dec215c2f2c\",\"type\":\"Line\"},\"hover_glyph\":null,\"muted_glyph\":null,\"nonselection_glyph\":{\"id\":\"7e4acc09-3565-462e-be7d-44b22cb5f967\",\"type\":\"Line\"},\"selection_glyph\":null},\"id\":\"cff986ce-d697-4926-93b9-10955072ba37\",\"type\":\"GlyphRenderer\"},{\"attributes\":{},\"id\":\"e48404c1-8759-4f29-adbe-1573faf71e51\",\"type\":\"BasicTicker\"},{\"attributes\":{\"plot\":{\"id\":\"a2f66010-8ad3-42f7-a25e-780c3b63ea0a\",\"subtype\":\"Figure\",\"type\":\"Plot\"}},\"id\":\"c581f4d5-d1ef-4071-92c2-fc57f3a04242\",\"type\":\"WheelZoomTool\"},{\"attributes\":{\"fill_alpha\":{\"value\":0.1},\"fill_color\":{\"value\":\"#1f77b4\"},\"height\":{\"value\":0.3},\"left\":{\"value\":-0.430898321816387},\"line_alpha\":{\"value\":0.1},\"line_color\":{\"value\":\"#1f77b4\"},\"right\":{\"value\":-0.3677196446199408},\"y\":{\"value\":1}},\"id\":\"d7f469a2-f6e9-4822-856b-23ddd0f58edc\",\"type\":\"HBar\"},{\"attributes\":{\"line_alpha\":{\"value\":0.1},\"line_color\":{\"value\":\"#1f77b4\"},\"line_dash\":[6],\"line_width\":{\"value\":2},\"x\":{\"field\":\"x\"},\"y\":{\"field\":\"y\"}},\"id\":\"e7e10bb2-8a16-4d85-8bb6-0eaecc200a9c\",\"type\":\"Line\"},{\"attributes\":{\"fill_alpha\":{\"value\":0.1},\"fill_color\":{\"value\":\"#1f77b4\"},\"height\":{\"value\":0.3},\"left\":{\"value\":-0.3677196446199408},\"line_alpha\":{\"value\":0.1},\"line_color\":{\"value\":\"#1f77b4\"},\"right\":{\"value\":0},\"y\":{\"value\":1}},\"id\":\"4f80eb26-e231-4a9f-a489-b3d81d6a078d\",\"type\":\"HBar\"},{\"attributes\":{\"line_color\":{\"value\":\"#AAB2A5\"},\"line_dash\":[6],\"line_width\":{\"value\":2},\"x\":{\"field\":\"x\"},\"y\":{\"field\":\"y\"}},\"id\":\"d42ede58-482b-4d6a-9848-d4c401668a2e\",\"type\":\"Line\"},{\"attributes\":{},\"id\":\"bf07aa1f-5c71-41f1-a5be-554c1ef74b3c\",\"type\":\"LinearScale\"},{\"attributes\":{\"children\":[{\"id\":\"eaa1cb17-6b99-4657-bbfe-f4571266bd74\",\"type\":\"Div\"}]},\"id\":\"6fefc0c7-a4b8-4b68-825c-98bd1622369f\",\"type\":\"WidgetBox\"},{\"attributes\":{\"data_source\":{\"id\":\"6dc4f1d0-6a72-47d2-9e0b-e5f677ad9497\",\"type\":\"ColumnDataSource\"},\"glyph\":{\"id\":\"37205d9a-89cb-45d4-bdda-5a6c6a176084\",\"type\":\"HBar\"},\"hover_glyph\":null,\"muted_glyph\":null,\"nonselection_glyph\":{\"id\":\"693908f1-fc6c-47c2-9757-d9c85cbe06c9\",\"type\":\"HBar\"},\"selection_glyph\":null},\"id\":\"3307b77f-9311-4fdb-b1be-ce599a58e312\",\"type\":\"GlyphRenderer\"},{\"attributes\":{\"line_alpha\":{\"value\":0.1},\"line_color\":{\"value\":\"#1f77b4\"},\"line_dash\":[6],\"line_width\":{\"value\":2},\"x\":{\"field\":\"x\"},\"y\":{\"field\":\"y\"}},\"id\":\"7e4acc09-3565-462e-be7d-44b22cb5f967\",\"type\":\"Line\"},{\"attributes\":{\"dimension\":1,\"grid_line_color\":{\"value\":null},\"plot\":{\"id\":\"a2f66010-8ad3-42f7-a25e-780c3b63ea0a\",\"subtype\":\"Figure\",\"type\":\"Plot\"},\"ticker\":{\"id\":\"30a12059-8906-4e49-a78a-8d34803671df\",\"type\":\"BasicTicker\"}},\"id\":\"a5e9bbdf-6732-4f0d-aa3e-4551d21a9821\",\"type\":\"Grid\"},{\"attributes\":{\"callback\":null,\"column_names\":[\"x\",\"y\"],\"data\":{\"x\":[0.510365251727542,0.510365251727542],\"y\":[0.5,1.5]}},\"id\":\"29fd83ae-95c3-4ce8-930f-84fd92bd74ac\",\"type\":\"ColumnDataSource\"},{\"attributes\":{\"plot\":{\"id\":\"a2f66010-8ad3-42f7-a25e-780c3b63ea0a\",\"subtype\":\"Figure\",\"type\":\"Plot\"}},\"id\":\"b6f49171-c248-4c39-b9ba-f8bdb61cd7e9\",\"type\":\"ResetTool\"},{\"attributes\":{\"plot\":null,\"text\":\"\"},\"id\":\"b4b3cc57-fcd5-4df2-a16c-67612b5f3f1d\",\"type\":\"Title\"},{\"attributes\":{\"text\":\"<h1 style='margin-left:200px;margin-right:-400px;margin-bottom:18px;font-size:20px;                color:#7D7575'> Time thresholds for pick ups and drop offs </h1>\"},\"id\":\"eaa1cb17-6b99-4657-bbfe-f4571266bd74\",\"type\":\"Div\"},{\"attributes\":{\"callback\":null},\"id\":\"f0446631-28d1-42e5-a91e-1c9eee95f1cf\",\"type\":\"DataRange1d\"},{\"attributes\":{\"children\":[{\"id\":\"6fefc0c7-a4b8-4b68-825c-98bd1622369f\",\"type\":\"WidgetBox\"},{\"id\":\"7a1e02ab-fb4f-4b86-8f9d-000664fd3d26\",\"type\":\"Row\"}]},\"id\":\"3f32a527-85a6-4bdd-a9fe-f8382ef9bf53\",\"type\":\"Column\"},{\"attributes\":{\"active_drag\":\"auto\",\"active_inspect\":\"auto\",\"active_scroll\":\"auto\",\"active_tap\":\"auto\",\"tools\":[{\"id\":\"287b906c-f40c-4fda-af05-deadda7fa711\",\"type\":\"HoverTool\"}]},\"id\":\"44efbbd9-f5f2-48cb-8746-d7f4a69c6dd9\",\"type\":\"Toolbar\"},{\"attributes\":{\"plot\":{\"id\":\"d03ced7c-a8e6-43db-9d8e-3bbf376ed257\",\"subtype\":\"Figure\",\"type\":\"Plot\"},\"ticker\":{\"id\":\"8d446f68-fbe7-45bd-832c-f49edabb4c86\",\"type\":\"BasicTicker\"}},\"id\":\"ce0d5789-7e88-449d-83d4-1a2b24c08c2b\",\"type\":\"Grid\"},{\"attributes\":{\"fill_color\":{\"field\":\"colors\"},\"line_color\":{\"field\":\"colors\"},\"top\":{\"field\":\"pct\"},\"width\":{\"value\":0.6},\"x\":{\"field\":\"index\"}},\"id\":\"c2bb09c6-cc4c-428e-bb50-6a4e74ed2553\",\"type\":\"VBar\"},{\"attributes\":{\"fill_alpha\":{\"value\":0.1},\"fill_color\":{\"value\":\"#1f77b4\"},\"height\":{\"value\":0.3},\"left\":{\"value\":-0.4378084896347483},\"line_alpha\":{\"value\":0.1},\"line_color\":{\"value\":\"#1f77b4\"},\"right\":{\"value\":-0.430898321816387},\"y\":{\"value\":1}},\"id\":\"770dbf29-eed6-4082-9f4b-43774ff46a07\",\"type\":\"HBar\"},{\"attributes\":{\"children\":[{\"id\":\"a2f66010-8ad3-42f7-a25e-780c3b63ea0a\",\"subtype\":\"Figure\",\"type\":\"Plot\"},{\"id\":\"d03ced7c-a8e6-43db-9d8e-3bbf376ed257\",\"subtype\":\"Figure\",\"type\":\"Plot\"}]},\"id\":\"7a1e02ab-fb4f-4b86-8f9d-000664fd3d26\",\"type\":\"Row\"},{\"attributes\":{\"fill_color\":{\"value\":\"#E4E02C\"},\"height\":{\"value\":0.3},\"left\":{\"value\":0.3884501480750247},\"line_color\":{\"value\":\"#E4E02C\"},\"right\":{\"value\":0.510365251727542},\"y\":{\"value\":1}},\"id\":\"37205d9a-89cb-45d4-bdda-5a6c6a176084\",\"type\":\"HBar\"},{\"attributes\":{\"callback\":null,\"column_names\":[\"x\",\"y\"],\"data\":{\"x\":[0.3884501480750247,0.3884501480750247],\"y\":[0.5,1.5]}},\"id\":\"664930a0-f8f2-4794-8e10-804d1037c98f\",\"type\":\"ColumnDataSource\"},{\"attributes\":{\"fill_alpha\":{\"value\":0.1},\"fill_color\":{\"value\":\"#1f77b4\"},\"height\":{\"value\":0.3},\"line_alpha\":{\"value\":0.1},\"line_color\":{\"value\":\"#1f77b4\"},\"right\":{\"value\":0.3884501480750247},\"y\":{\"value\":1}},\"id\":\"bde053d7-7380-495f-bc82-d0bc2f3082f0\",\"type\":\"HBar\"},{\"attributes\":{},\"id\":\"8554b476-aa1d-4815-a99e-5c0db9573382\",\"type\":\"LinearScale\"},{\"attributes\":{\"plot\":{\"id\":\"a2f66010-8ad3-42f7-a25e-780c3b63ea0a\",\"subtype\":\"Figure\",\"type\":\"Plot\"}},\"id\":\"1604a77f-6a7c-43ac-b506-977192335cd3\",\"type\":\"PanTool\"},{\"attributes\":{\"fill_color\":{\"value\":\"#E43216\"},\"height\":{\"value\":0.3},\"left\":{\"value\":0.510365251727542},\"line_color\":{\"value\":\"#E43216\"},\"right\":{\"value\":0.5621915103652517},\"y\":{\"value\":1}},\"id\":\"1dea73c6-1b97-464b-aeaa-8d20f21d8d66\",\"type\":\"HBar\"},{\"attributes\":{\"callback\":null,\"data\":{}},\"id\":\"213b08c2-a071-4eab-b3a5-eabf7c06b86c\",\"type\":\"ColumnDataSource\"},{\"attributes\":{},\"id\":\"30a12059-8906-4e49-a78a-8d34803671df\",\"type\":\"BasicTicker\"},{\"attributes\":{\"callback\":null,\"data\":{}},\"id\":\"a6888329-5887-487d-bc9b-a8aa002046b2\",\"type\":\"ColumnDataSource\"},{\"attributes\":{\"data_source\":{\"id\":\"664930a0-f8f2-4794-8e10-804d1037c98f\",\"type\":\"ColumnDataSource\"},\"glyph\":{\"id\":\"d42ede58-482b-4d6a-9848-d4c401668a2e\",\"type\":\"Line\"},\"hover_glyph\":null,\"muted_glyph\":null,\"nonselection_glyph\":{\"id\":\"bd78ca53-eec4-4895-94d7-1367eff2ce05\",\"type\":\"Line\"},\"selection_glyph\":null},\"id\":\"744484be-43c5-40bc-9ffb-49903711d055\",\"type\":\"GlyphRenderer\"},{\"attributes\":{\"data_source\":{\"id\":\"a459972e-5756-47ed-96ce-f126297ea910\",\"type\":\"ColumnDataSource\"},\"glyph\":{\"id\":\"0905d39a-9784-493b-ac45-4d5089123d80\",\"type\":\"Line\"},\"hover_glyph\":null,\"muted_glyph\":null,\"nonselection_glyph\":{\"id\":\"ce02b71f-bd75-4a53-a776-b5c461622e2b\",\"type\":\"Line\"},\"selection_glyph\":null},\"id\":\"4559bf5c-8a33-4938-b73c-21c69a8a0eb5\",\"type\":\"GlyphRenderer\"},{\"attributes\":{\"fill_color\":{\"value\":\"#459E0F\"},\"height\":{\"value\":0.3},\"line_color\":{\"value\":\"#459E0F\"},\"right\":{\"value\":0.3884501480750247},\"y\":{\"value\":1}},\"id\":\"c8fc8101-6f41-4a28-b091-5eb57705bb29\",\"type\":\"HBar\"},{\"attributes\":{\"line_alpha\":{\"value\":0.1},\"line_color\":{\"value\":\"#1f77b4\"},\"line_dash\":[6],\"line_width\":{\"value\":2},\"x\":{\"field\":\"x\"},\"y\":{\"field\":\"y\"}},\"id\":\"44d37e8e-1b7c-4ebb-bb1b-4efc1735ace1\",\"type\":\"Line\"},{\"attributes\":{\"data_source\":{\"id\":\"423cd827-f8bc-4ad0-a941-89cdae8a8825\",\"type\":\"ColumnDataSource\"},\"glyph\":{\"id\":\"bb29e97f-5ea6-4f99-b32f-141370692f9c\",\"type\":\"Line\"},\"hover_glyph\":null,\"muted_glyph\":null,\"nonselection_glyph\":{\"id\":\"963d465f-3294-40bb-ab63-fd196573fe75\",\"type\":\"Line\"},\"selection_glyph\":null},\"id\":\"736bb2e4-28ce-4a05-b8df-ce591a5ba467\",\"type\":\"GlyphRenderer\"},{\"attributes\":{\"callback\":null,\"column_names\":[\"x\",\"y\"],\"data\":{\"x\":[-0.3677196446199408,-0.3677196446199408],\"y\":[0.5,1.5]}},\"id\":\"4417a0f2-f9fa-4034-9340-6c857850adc8\",\"type\":\"ColumnDataSource\"},{\"attributes\":{\"fill_color\":{\"value\":\"#E4E02C\"},\"height\":{\"value\":0.3},\"left\":{\"value\":-0.430898321816387},\"line_color\":{\"value\":\"#E4E02C\"},\"right\":{\"value\":-0.3677196446199408},\"y\":{\"value\":1}},\"id\":\"29b85bb9-c40b-498a-8ffb-767fc3066e1f\",\"type\":\"HBar\"},{\"attributes\":{\"data_source\":{\"id\":\"29fd83ae-95c3-4ce8-930f-84fd92bd74ac\",\"type\":\"ColumnDataSource\"},\"glyph\":{\"id\":\"a399b3b9-a0f0-48c2-83d6-e1e6974d5c44\",\"type\":\"Line\"},\"hover_glyph\":null,\"muted_glyph\":null,\"nonselection_glyph\":{\"id\":\"e7e10bb2-8a16-4d85-8bb6-0eaecc200a9c\",\"type\":\"Line\"},\"selection_glyph\":null},\"id\":\"04465ad7-a99c-41c0-92ce-63a2cb24d7c5\",\"type\":\"GlyphRenderer\"},{\"attributes\":{\"line_color\":{\"value\":\"#AAB2A5\"},\"line_dash\":[6],\"line_width\":{\"value\":2},\"x\":{\"field\":\"x\"},\"y\":{\"field\":\"y\"}},\"id\":\"d8ef1a49-ab5b-4c12-8b66-612fcbbc2001\",\"type\":\"Line\"},{\"attributes\":{\"line_color\":{\"value\":\"#AAB2A5\"},\"line_dash\":[6],\"line_width\":{\"value\":2},\"x\":{\"field\":\"x\"},\"y\":{\"field\":\"y\"}},\"id\":\"333609ff-e245-4fd9-b11d-6dec215c2f2c\",\"type\":\"Line\"},{\"attributes\":{},\"id\":\"5d9b0bd1-8a94-4693-864b-b9686106d61c\",\"type\":\"BasicTicker\"},{\"attributes\":{},\"id\":\"c18e7e07-9360-4a68-976d-2a21e968c889\",\"type\":\"BasicTickFormatter\"},{\"attributes\":{\"callback\":null,\"data\":{}},\"id\":\"6dc4f1d0-6a72-47d2-9e0b-e5f677ad9497\",\"type\":\"ColumnDataSource\"},{\"attributes\":{\"align\":\"center\",\"plot\":{\"id\":\"d03ced7c-a8e6-43db-9d8e-3bbf376ed257\",\"subtype\":\"Figure\",\"type\":\"Plot\"},\"text\":\"Total percentage within thresholds\"},\"id\":\"32aca48d-16f0-4b71-a824-b4a42badf390\",\"type\":\"Title\"},{\"attributes\":{\"formatter\":{\"id\":\"c4b77ff3-7885-41b1-8b21-b486a9c97e47\",\"type\":\"BasicTickFormatter\"},\"plot\":{\"id\":\"a2f66010-8ad3-42f7-a25e-780c3b63ea0a\",\"subtype\":\"Figure\",\"type\":\"Plot\"},\"ticker\":{\"id\":\"e48404c1-8759-4f29-adbe-1573faf71e51\",\"type\":\"BasicTicker\"}},\"id\":\"b200378a-5827-4669-a54c-2f0575af8fa2\",\"type\":\"LinearAxis\"},{\"attributes\":{\"fill_alpha\":{\"value\":0.1},\"fill_color\":{\"value\":\"#1f77b4\"},\"line_alpha\":{\"value\":0.1},\"line_color\":{\"value\":\"#1f77b4\"},\"top\":{\"field\":\"pct\"},\"width\":{\"value\":0.6},\"x\":{\"field\":\"index\"}},\"id\":\"781a678b-1f2c-41b5-8f28-34eedfd1c131\",\"type\":\"VBar\"},{\"attributes\":{\"line_alpha\":{\"value\":0.1},\"line_color\":{\"value\":\"#1f77b4\"},\"line_dash\":[6],\"line_width\":{\"value\":2},\"x\":{\"field\":\"x\"},\"y\":{\"field\":\"y\"}},\"id\":\"bd78ca53-eec4-4895-94d7-1367eff2ce05\",\"type\":\"Line\"},{\"attributes\":{\"callback\":null,\"data\":{}},\"id\":\"0cc8cac4-cc6e-4723-915f-496de690e5c7\",\"type\":\"ColumnDataSource\"},{\"attributes\":{\"above\":[{\"id\":\"32aca48d-16f0-4b71-a824-b4a42badf390\",\"type\":\"Title\"}],\"below\":[{\"id\":\"0f5c7b0f-c33e-4cc1-ace9-93f1220eeae6\",\"type\":\"LinearAxis\"}],\"left\":[{\"id\":\"4a1d5dba-7989-4373-966e-1102fdb9a3bf\",\"type\":\"LinearAxis\"}],\"plot_height\":400,\"plot_width\":400,\"renderers\":[{\"id\":\"0f5c7b0f-c33e-4cc1-ace9-93f1220eeae6\",\"type\":\"LinearAxis\"},{\"id\":\"ce0d5789-7e88-449d-83d4-1a2b24c08c2b\",\"type\":\"Grid\"},{\"id\":\"4a1d5dba-7989-4373-966e-1102fdb9a3bf\",\"type\":\"LinearAxis\"},{\"id\":\"c1d575db-63e3-4489-9958-c77b23eebbaa\",\"type\":\"Grid\"},{\"id\":\"32aca48d-16f0-4b71-a824-b4a42badf390\",\"type\":\"Title\"},{\"id\":\"d07abfb4-bcaa-42aa-9b0b-70331511340d\",\"type\":\"GlyphRenderer\"}],\"title\":{\"id\":\"b9ba9be7-8aa2-4fa9-82b0-54697530c5e2\",\"type\":\"Title\"},\"tool_events\":{\"id\":\"b7814ea1-8118-49c8-9514-fefd1eccb018\",\"type\":\"ToolEvents\"},\"toolbar\":{\"id\":\"44efbbd9-f5f2-48cb-8746-d7f4a69c6dd9\",\"type\":\"Toolbar\"},\"x_range\":{\"id\":\"0ca1c07f-f8a3-4c9b-92c7-097d7e3c5e57\",\"type\":\"DataRange1d\"},\"x_scale\":{\"id\":\"8554b476-aa1d-4815-a99e-5c0db9573382\",\"type\":\"LinearScale\"},\"y_range\":{\"id\":\"a04748f9-3a9e-4ae8-b805-28f4073ea762\",\"type\":\"DataRange1d\"},\"y_scale\":{\"id\":\"0362b4ea-3d66-45c1-bbdb-94ffc034ae09\",\"type\":\"LinearScale\"}},\"id\":\"d03ced7c-a8e6-43db-9d8e-3bbf376ed257\",\"subtype\":\"Figure\",\"type\":\"Plot\"},{\"attributes\":{\"callback\":null,\"data\":{}},\"id\":\"1a387930-e62c-4ef5-800f-033777016bfa\",\"type\":\"ColumnDataSource\"},{\"attributes\":{\"align\":\"center\",\"plot\":{\"id\":\"a2f66010-8ad3-42f7-a25e-780c3b63ea0a\",\"subtype\":\"Figure\",\"type\":\"Plot\"},\"text\":\"Rush/delays within time thresholds\"},\"id\":\"032ad4e0-076e-4f69-bfc8-7fad9960ffcc\",\"type\":\"Title\"},{\"attributes\":{},\"id\":\"d569100c-4470-4e53-9306-e83c6a6060e6\",\"type\":\"BasicTickFormatter\"},{\"attributes\":{\"callback\":null,\"column_names\":[\"x\",\"y\"],\"data\":{\"x\":[-0.430898321816387,-0.430898321816387],\"y\":[0.5,1.5]}},\"id\":\"7f4eaec4-1902-43d8-a79f-4a0949f05b85\",\"type\":\"ColumnDataSource\"},{\"attributes\":{\"data_source\":{\"id\":\"0cc8cac4-cc6e-4723-915f-496de690e5c7\",\"type\":\"ColumnDataSource\"},\"glyph\":{\"id\":\"c8fc8101-6f41-4a28-b091-5eb57705bb29\",\"type\":\"HBar\"},\"hover_glyph\":null,\"muted_glyph\":null,\"nonselection_glyph\":{\"id\":\"bde053d7-7380-495f-bc82-d0bc2f3082f0\",\"type\":\"HBar\"},\"selection_glyph\":null},\"id\":\"c15fa2d2-8b89-4f1c-b7c7-3ac8688d7db4\",\"type\":\"GlyphRenderer\"},{\"attributes\":{\"line_color\":{\"value\":\"#AAB2A5\"},\"line_dash\":[6],\"line_width\":{\"value\":2},\"x\":{\"field\":\"x\"},\"y\":{\"field\":\"y\"}},\"id\":\"bb29e97f-5ea6-4f99-b32f-141370692f9c\",\"type\":\"Line\"},{\"attributes\":{\"callback\":null,\"plot\":{\"id\":\"d03ced7c-a8e6-43db-9d8e-3bbf376ed257\",\"subtype\":\"Figure\",\"type\":\"Plot\"},\"tooltips\":[[\"pct\",\"@pct{(0.00%)}\"]]},\"id\":\"287b906c-f40c-4fda-af05-deadda7fa711\",\"type\":\"HoverTool\"},{\"attributes\":{\"line_color\":{\"value\":\"#AAB2A5\"},\"line_dash\":[6],\"line_width\":{\"value\":2},\"x\":{\"field\":\"x\"},\"y\":{\"field\":\"y\"}},\"id\":\"0905d39a-9784-493b-ac45-4d5089123d80\",\"type\":\"Line\"},{\"attributes\":{\"callback\":null,\"end\":2},\"id\":\"afd34ea7-4c29-4908-9ac5-b2d4b6798cf5\",\"type\":\"Range1d\"},{\"attributes\":{\"callback\":null,\"data\":{}},\"id\":\"55337ac4-b1a5-45d8-a250-f7682beecd13\",\"type\":\"ColumnDataSource\"},{\"attributes\":{\"data_source\":{\"id\":\"213b08c2-a071-4eab-b3a5-eabf7c06b86c\",\"type\":\"ColumnDataSource\"},\"glyph\":{\"id\":\"9dfa2af4-bd92-48e5-98e4-fe5775bbdf54\",\"type\":\"HBar\"},\"hover_glyph\":null,\"muted_glyph\":null,\"nonselection_glyph\":{\"id\":\"4f80eb26-e231-4a9f-a489-b3d81d6a078d\",\"type\":\"HBar\"},\"selection_glyph\":null},\"id\":\"4ecf72af-165d-48cd-b8ad-564d0d96ffe7\",\"type\":\"GlyphRenderer\"},{\"attributes\":{\"fill_alpha\":{\"value\":0.1},\"fill_color\":{\"value\":\"#1f77b4\"},\"height\":{\"value\":0.3},\"left\":{\"value\":0.510365251727542},\"line_alpha\":{\"value\":0.1},\"line_color\":{\"value\":\"#1f77b4\"},\"right\":{\"value\":0.5621915103652517},\"y\":{\"value\":1}},\"id\":\"000289a3-3e26-4c1c-9222-3e34b5685a5b\",\"type\":\"HBar\"},{\"attributes\":{\"overlay\":{\"id\":\"7fcc1221-26b3-4497-ac1f-4f1f29a130e9\",\"type\":\"BoxAnnotation\"},\"plot\":{\"id\":\"a2f66010-8ad3-42f7-a25e-780c3b63ea0a\",\"subtype\":\"Figure\",\"type\":\"Plot\"}},\"id\":\"c5e5e94a-3f30-4f37-aa97-ac920077867d\",\"type\":\"BoxZoomTool\"},{\"attributes\":{\"callback\":null,\"column_names\":[\"x\",\"y\"],\"data\":{\"x\":[0,0],\"y\":[0.5,1.5]}},\"id\":\"423cd827-f8bc-4ad0-a941-89cdae8a8825\",\"type\":\"ColumnDataSource\"},{\"attributes\":{\"line_color\":{\"value\":\"#AAB2A5\"},\"line_dash\":[6],\"line_width\":{\"value\":2},\"x\":{\"field\":\"x\"},\"y\":{\"field\":\"y\"}},\"id\":\"a399b3b9-a0f0-48c2-83d6-e1e6974d5c44\",\"type\":\"Line\"},{\"attributes\":{\"formatter\":{\"id\":\"c18e7e07-9360-4a68-976d-2a21e968c889\",\"type\":\"BasicTickFormatter\"},\"plot\":{\"id\":\"d03ced7c-a8e6-43db-9d8e-3bbf376ed257\",\"subtype\":\"Figure\",\"type\":\"Plot\"},\"ticker\":{\"id\":\"8d446f68-fbe7-45bd-832c-f49edabb4c86\",\"type\":\"BasicTicker\"}},\"id\":\"0f5c7b0f-c33e-4cc1-ace9-93f1220eeae6\",\"type\":\"LinearAxis\"},{\"attributes\":{\"fill_color\":{\"value\":\"#459E0F\"},\"height\":{\"value\":0.3},\"left\":{\"value\":-0.3677196446199408},\"line_color\":{\"value\":\"#459E0F\"},\"right\":{\"value\":0},\"y\":{\"value\":1}},\"id\":\"9dfa2af4-bd92-48e5-98e4-fe5775bbdf54\",\"type\":\"HBar\"},{\"attributes\":{\"data_source\":{\"id\":\"a6888329-5887-487d-bc9b-a8aa002046b2\",\"type\":\"ColumnDataSource\"},\"glyph\":{\"id\":\"202d541d-92ea-4c61-9b48-10a5a4851843\",\"type\":\"HBar\"},\"hover_glyph\":null,\"muted_glyph\":null,\"nonselection_glyph\":{\"id\":\"770dbf29-eed6-4082-9f4b-43774ff46a07\",\"type\":\"HBar\"},\"selection_glyph\":null},\"id\":\"63a10e2e-8c29-4b03-b253-c486d6cbd433\",\"type\":\"GlyphRenderer\"},{\"attributes\":{},\"id\":\"0362b4ea-3d66-45c1-bbdb-94ffc034ae09\",\"type\":\"LinearScale\"},{\"attributes\":{},\"id\":\"e268f8e1-64bb-4ec7-b54e-31826fda43db\",\"type\":\"ToolEvents\"},{\"attributes\":{\"plot\":null,\"text\":\"\"},\"id\":\"b9ba9be7-8aa2-4fa9-82b0-54697530c5e2\",\"type\":\"Title\"},{\"attributes\":{\"data_source\":{\"id\":\"55337ac4-b1a5-45d8-a250-f7682beecd13\",\"type\":\"ColumnDataSource\"},\"glyph\":{\"id\":\"1dea73c6-1b97-464b-aeaa-8d20f21d8d66\",\"type\":\"HBar\"},\"hover_glyph\":null,\"muted_glyph\":null,\"nonselection_glyph\":{\"id\":\"000289a3-3e26-4c1c-9222-3e34b5685a5b\",\"type\":\"HBar\"},\"selection_glyph\":null},\"id\":\"da79c4bd-ab1e-4621-b052-2c062aaf0358\",\"type\":\"GlyphRenderer\"},{\"attributes\":{\"data_source\":{\"id\":\"b8885813-63ea-4e44-bab3-45ee8141eca4\",\"type\":\"ColumnDataSource\"},\"glyph\":{\"id\":\"c2bb09c6-cc4c-428e-bb50-6a4e74ed2553\",\"type\":\"VBar\"},\"hover_glyph\":null,\"muted_glyph\":null,\"nonselection_glyph\":{\"id\":\"781a678b-1f2c-41b5-8f28-34eedfd1c131\",\"type\":\"VBar\"},\"selection_glyph\":null},\"id\":\"d07abfb4-bcaa-42aa-9b0b-70331511340d\",\"type\":\"GlyphRenderer\"},{\"attributes\":{\"formatter\":{\"id\":\"d569100c-4470-4e53-9306-e83c6a6060e6\",\"type\":\"BasicTickFormatter\"},\"plot\":{\"id\":\"d03ced7c-a8e6-43db-9d8e-3bbf376ed257\",\"subtype\":\"Figure\",\"type\":\"Plot\"},\"ticker\":{\"id\":\"5d9b0bd1-8a94-4693-864b-b9686106d61c\",\"type\":\"BasicTicker\"}},\"id\":\"4a1d5dba-7989-4373-966e-1102fdb9a3bf\",\"type\":\"LinearAxis\"},{\"attributes\":{\"grid_line_color\":{\"value\":null},\"plot\":{\"id\":\"a2f66010-8ad3-42f7-a25e-780c3b63ea0a\",\"subtype\":\"Figure\",\"type\":\"Plot\"},\"ticker\":{\"id\":\"e48404c1-8759-4f29-adbe-1573faf71e51\",\"type\":\"BasicTicker\"}},\"id\":\"ad020668-cfce-446c-bdde-6aad7f30274a\",\"type\":\"Grid\"},{\"attributes\":{\"callback\":null},\"id\":\"a04748f9-3a9e-4ae8-b805-28f4073ea762\",\"type\":\"DataRange1d\"},{\"attributes\":{},\"id\":\"b74168aa-b11b-4d46-98bf-e02c7d4b65b6\",\"type\":\"LinearScale\"},{\"attributes\":{},\"id\":\"b7814ea1-8118-49c8-9514-fefd1eccb018\",\"type\":\"ToolEvents\"},{\"attributes\":{\"line_alpha\":{\"value\":0.1},\"line_color\":{\"value\":\"#1f77b4\"},\"line_dash\":[6],\"line_width\":{\"value\":2},\"x\":{\"field\":\"x\"},\"y\":{\"field\":\"y\"}},\"id\":\"963d465f-3294-40bb-ab63-fd196573fe75\",\"type\":\"Line\"},{\"attributes\":{},\"id\":\"8d446f68-fbe7-45bd-832c-f49edabb4c86\",\"type\":\"BasicTicker\"},{\"attributes\":{\"above\":[{\"id\":\"032ad4e0-076e-4f69-bfc8-7fad9960ffcc\",\"type\":\"Title\"}],\"below\":[{\"id\":\"b200378a-5827-4669-a54c-2f0575af8fa2\",\"type\":\"LinearAxis\"}],\"left\":[{\"id\":\"44455c47-9958-4272-8a82-63a9244c8c32\",\"type\":\"LinearAxis\"}],\"plot_height\":400,\"plot_width\":400,\"renderers\":[{\"id\":\"b200378a-5827-4669-a54c-2f0575af8fa2\",\"type\":\"LinearAxis\"},{\"id\":\"ad020668-cfce-446c-bdde-6aad7f30274a\",\"type\":\"Grid\"},{\"id\":\"44455c47-9958-4272-8a82-63a9244c8c32\",\"type\":\"LinearAxis\"},{\"id\":\"a5e9bbdf-6732-4f0d-aa3e-4551d21a9821\",\"type\":\"Grid\"},{\"id\":\"7fcc1221-26b3-4497-ac1f-4f1f29a130e9\",\"type\":\"BoxAnnotation\"},{\"id\":\"4ecf72af-165d-48cd-b8ad-564d0d96ffe7\",\"type\":\"GlyphRenderer\"},{\"id\":\"4559bf5c-8a33-4938-b73c-21c69a8a0eb5\",\"type\":\"GlyphRenderer\"},{\"id\":\"63d55c84-b42c-4502-89d7-0d0019d0038e\",\"type\":\"GlyphRenderer\"},{\"id\":\"9ff29a16-ad23-44b7-9dd3-9b405c2f0c32\",\"type\":\"GlyphRenderer\"},{\"id\":\"63a10e2e-8c29-4b03-b253-c486d6cbd433\",\"type\":\"GlyphRenderer\"},{\"id\":\"cff986ce-d697-4926-93b9-10955072ba37\",\"type\":\"GlyphRenderer\"},{\"id\":\"c15fa2d2-8b89-4f1c-b7c7-3ac8688d7db4\",\"type\":\"GlyphRenderer\"},{\"id\":\"736bb2e4-28ce-4a05-b8df-ce591a5ba467\",\"type\":\"GlyphRenderer\"},{\"id\":\"3307b77f-9311-4fdb-b1be-ce599a58e312\",\"type\":\"GlyphRenderer\"},{\"id\":\"744484be-43c5-40bc-9ffb-49903711d055\",\"type\":\"GlyphRenderer\"},{\"id\":\"da79c4bd-ab1e-4621-b052-2c062aaf0358\",\"type\":\"GlyphRenderer\"},{\"id\":\"04465ad7-a99c-41c0-92ce-63a2cb24d7c5\",\"type\":\"GlyphRenderer\"},{\"id\":\"032ad4e0-076e-4f69-bfc8-7fad9960ffcc\",\"type\":\"Title\"}],\"title\":{\"id\":\"b4b3cc57-fcd5-4df2-a16c-67612b5f3f1d\",\"type\":\"Title\"},\"tool_events\":{\"id\":\"e268f8e1-64bb-4ec7-b54e-31826fda43db\",\"type\":\"ToolEvents\"},\"toolbar\":{\"id\":\"d208d112-15b6-46bd-8505-03a8a5b8241b\",\"type\":\"Toolbar\"},\"x_range\":{\"id\":\"f0446631-28d1-42e5-a91e-1c9eee95f1cf\",\"type\":\"DataRange1d\"},\"x_scale\":{\"id\":\"bf07aa1f-5c71-41f1-a5be-554c1ef74b3c\",\"type\":\"LinearScale\"},\"y_range\":{\"id\":\"afd34ea7-4c29-4908-9ac5-b2d4b6798cf5\",\"type\":\"Range1d\"},\"y_scale\":{\"id\":\"b74168aa-b11b-4d46-98bf-e02c7d4b65b6\",\"type\":\"LinearScale\"}},\"id\":\"a2f66010-8ad3-42f7-a25e-780c3b63ea0a\",\"subtype\":\"Figure\",\"type\":\"Plot\"},{\"attributes\":{\"callback\":null,\"column_names\":[\"x\",\"y\"],\"data\":{\"x\":[0,0],\"y\":[0.5,1.5]}},\"id\":\"a459972e-5756-47ed-96ce-f126297ea910\",\"type\":\"ColumnDataSource\"}],\"root_ids\":[\"3f32a527-85a6-4bdd-a9fe-f8382ef9bf53\"]},\"title\":\"Bokeh Application\",\"version\":\"0.12.6\"}};\n",
       "            var render_items = [{\"docid\":\"eec59dcc-8fff-458b-a42e-393491dc31f2\",\"elementid\":\"20242f9d-c89a-459e-ae71-7b8227d8505f\",\"modelid\":\"3f32a527-85a6-4bdd-a9fe-f8382ef9bf53\"}];\n",
       "            \n",
       "            Bokeh.embed.embed_items(docs_json, render_items);\n",
       "          };\n",
       "          if (document.readyState != \"loading\") fn();\n",
       "          else document.addEventListener(\"DOMContentLoaded\", fn);\n",
       "        })();\n",
       "      },\n",
       "      function(Bokeh) {\n",
       "      }\n",
       "    ];\n",
       "  \n",
       "    function run_inline_js() {\n",
       "      \n",
       "      if ((window.Bokeh !== undefined) || (force === true)) {\n",
       "        for (var i = 0; i < inline_js.length; i++) {\n",
       "          inline_js[i](window.Bokeh);\n",
       "        }if (force === true) {\n",
       "          display_loaded();\n",
       "        }} else if (Date.now() < window._bokeh_timeout) {\n",
       "        setTimeout(run_inline_js, 100);\n",
       "      } else if (!window._bokeh_failed_load) {\n",
       "        console.log(\"Bokeh: BokehJS failed to load within specified timeout.\");\n",
       "        window._bokeh_failed_load = true;\n",
       "      } else if (force !== true) {\n",
       "        var cell = $(document.getElementById(\"20242f9d-c89a-459e-ae71-7b8227d8505f\")).parents('.cell').data().cell;\n",
       "        cell.output_area.append_execute_result(NB_LOAD_WARNING)\n",
       "      }\n",
       "  \n",
       "    }\n",
       "  \n",
       "    if (window._bokeh_is_loading === 0) {\n",
       "      console.log(\"Bokeh: BokehJS loaded, going straight to plotting\");\n",
       "      run_inline_js();\n",
       "    } else {\n",
       "      load_libs(js_urls, function() {\n",
       "        console.log(\"Bokeh: BokehJS plotting callback run at\", now());\n",
       "        run_inline_js();\n",
       "      });\n",
       "    }\n",
       "  }(this));\n",
       "</script>"
      ]
     },
     "metadata": {},
     "output_type": "display_data"
    }
   ],
   "source": [
    "time_threshold = plot_horizontal_time_thresholds(group_threshold, 400, 400, 'pct', 'colors', \"Rush/delays within time thresholds\")\n",
    "within_thresholds = plot_total_pct_thresholds(region_group, 400, 400, \"index\", \"pct\", \"colors\", \"Total percentage within thresholds\")\n",
    "show(column(Div(text=\"<h1 style='margin-left:200px;margin-right:-400px;margin-bottom:18px;font-size:20px;\\\n",
    "                color:#7D7575'> Time thresholds for pick ups and drop offs </h1>\"), row(time_threshold, within_thresholds)))\n"
   ]
  },
  {
   "cell_type": "markdown",
   "metadata": {},
   "source": [
    "### Differences in pick ups / drop offs\n",
    "\n",
    "Here we analyze the differences between pick ups and drop off. Evidently, there is a difference between actual time when we talk about pick ups and drop offs. Particularly, if the difference is significance for pick up it might be that the service will never be provided (e.g. could lead to cancellations).\n",
    "\n",
    "To enter in this level of analysis we will calculate the differences for pick ups and drop offs respectively.\n"
   ]
  },
  {
   "cell_type": "code",
   "execution_count": 19,
   "metadata": {
    "collapsed": true
   },
   "outputs": [],
   "source": [
    "exp_act_time_pick_up = exp_act_time[exp_act_time[\"type\"]==\"pickup\"].reset_index()\n",
    "exp_act_time_drop_off = exp_act_time[exp_act_time[\"type\"]==\"dropoff\"].reset_index()"
   ]
  },
  {
   "cell_type": "code",
   "execution_count": 20,
   "metadata": {},
   "outputs": [
    {
     "data": {
      "image/png": "[encoded data removed]",
      "text/plain": [
       "<matplotlib.figure.Figure at 0x1116636d8>"
      ]
     },
     "metadata": {},
     "output_type": "display_data"
    }
   ],
   "source": [
    "fig, ax = plt.subplots(2, figsize=(10,7))\n",
    "sns.distplot(exp_act_time_pick_up[\"time_diff_min\"], kde=False, ax=ax[0])\n",
    "sns.distplot(exp_act_time_drop_off[\"time_diff_min\"], kde=False, ax=ax[1])\n",
    "ax[0].set_title(\"Distribution of difference - pick ups \\n Actual Time Expected Time (minutes)\")\n",
    "ax[1].set_title(\"Distribution of difference - drop off \\n Actual Time Expected Time (minutes)\")\n",
    "for ax in ax.flatten():\n",
    "    ax.set_ylabel(\"Counts minutes\")\n",
    "    ax.set_ylabel(\"Counts minutes\")\n",
    "    ax.set_xlabel(\"Time difference\")\n",
    "    ax.axvline(0, color=\"#44999E\", linestyle='--')\n",
    "fig.tight_layout() "
   ]
  },
  {
   "cell_type": "code",
   "execution_count": 21,
   "metadata": {},
   "outputs": [
    {
     "name": "stdout",
     "output_type": "stream",
     "text": [
      "Statistics for Pick ups\n",
      "Total difference (hours): 18.453\n",
      "Average (seconds): 32.789\n",
      "Standard deviation (seconds): 208.060\n"
     ]
    }
   ],
   "source": [
    "print(\"Statistics for Pick ups\")\n",
    "print_stats(exp_act_time_pick_up,\"time_diff\")"
   ]
  },
  {
   "cell_type": "code",
   "execution_count": 22,
   "metadata": {},
   "outputs": [
    {
     "name": "stdout",
     "output_type": "stream",
     "text": [
      "Statistics for Drop offs\n",
      "Total difference (hours): 12.929\n",
      "Average (seconds): 22.973\n",
      "Standard deviation (seconds): 292.788\n"
     ]
    }
   ],
   "source": [
    "print(\"Statistics for Drop offs\")\n",
    "print_stats(exp_act_time_drop_off,\"time_diff\")"
   ]
  },
  {
   "cell_type": "markdown",
   "metadata": {},
   "source": [
    "Checking the distributions, we can see that the differences between actual and expected time for pick ups are more spread than that of drop off time. Also, while drop off tend to be more centered at 0, the pick up is more shifted towards positive values.\n",
    "\n",
    "These differences are also clear when we see at the statistics: the differences in averages for both distribution is almost 10 seconds. The standard deviation for the drop off is a bit higher, presumably this could be due to the higher number of extreme values in this distribution."
   ]
  },
  {
   "cell_type": "code",
   "execution_count": 23,
   "metadata": {
    "collapsed": true
   },
   "outputs": [],
   "source": [
    "threshold_pick_up =  get_thresholds_groups(exp_act_time_pick_up, \"time_diff_min\")\n",
    "within_thresh_pick_up = get_region_threshold_groups(threshold_pick_up, \"colors\")\n",
    "threshold_drop_off = get_thresholds_groups(exp_act_time_drop_off, \"time_diff_min\")\n",
    "within_thresh_drop_off = get_region_threshold_groups(threshold_drop_off, \"colors\")"
   ]
  },
  {
   "cell_type": "code",
   "execution_count": 24,
   "metadata": {},
   "outputs": [
    {
     "data": {
      "text/html": [
       "\n",
       "\n",
       "    <div class=\"bk-root\">\n",
       "        <div class=\"bk-plotdiv\" id=\"cdf6249d-1e1a-4974-b9cd-9e8ea0d3e228\"></div>\n",
       "    </div>\n",
       "<script type=\"text/javascript\">\n",
       "  \n",
       "  (function(global) {\n",
       "    function now() {\n",
       "      return new Date();\n",
       "    }\n",
       "  \n",
       "    var force = false;\n",
       "  \n",
       "    if (typeof (window._bokeh_onload_callbacks) === \"undefined\" || force === true) {\n",
       "      window._bokeh_onload_callbacks = [];\n",
       "      window._bokeh_is_loading = undefined;\n",
       "    }\n",
       "  \n",
       "  \n",
       "    \n",
       "    if (typeof (window._bokeh_timeout) === \"undefined\" || force === true) {\n",
       "      window._bokeh_timeout = Date.now() + 0;\n",
       "      window._bokeh_failed_load = false;\n",
       "    }\n",
       "  \n",
       "    var NB_LOAD_WARNING = {'data': {'text/html':\n",
       "       \"<div style='background-color: #fdd'>\\n\"+\n",
       "       \"<p>\\n\"+\n",
       "       \"BokehJS does not appear to have successfully loaded. If loading BokehJS from CDN, this \\n\"+\n",
       "       \"may be due to a slow or bad network connection. Possible fixes:\\n\"+\n",
       "       \"</p>\\n\"+\n",
       "       \"<ul>\\n\"+\n",
       "       \"<li>re-rerun `output_notebook()` to attempt to load from CDN again, or</li>\\n\"+\n",
       "       \"<li>use INLINE resources instead, as so:</li>\\n\"+\n",
       "       \"</ul>\\n\"+\n",
       "       \"<code>\\n\"+\n",
       "       \"from bokeh.resources import INLINE\\n\"+\n",
       "       \"output_notebook(resources=INLINE)\\n\"+\n",
       "       \"</code>\\n\"+\n",
       "       \"</div>\"}};\n",
       "  \n",
       "    function display_loaded() {\n",
       "      if (window.Bokeh !== undefined) {\n",
       "        var el = document.getElementById(\"cdf6249d-1e1a-4974-b9cd-9e8ea0d3e228\");\n",
       "        el.textContent = \"BokehJS \" + Bokeh.version + \" successfully loaded.\";\n",
       "      } else if (Date.now() < window._bokeh_timeout) {\n",
       "        setTimeout(display_loaded, 100)\n",
       "      }\n",
       "    }\n",
       "  \n",
       "    function run_callbacks() {\n",
       "      try {\n",
       "        window._bokeh_onload_callbacks.forEach(function(callback) { callback() });\n",
       "      }\n",
       "      finally {\n",
       "        delete window._bokeh_onload_callbacks\n",
       "      }\n",
       "      console.info(\"Bokeh: all callbacks have finished\");\n",
       "    }\n",
       "  \n",
       "    function load_libs(js_urls, callback) {\n",
       "      window._bokeh_onload_callbacks.push(callback);\n",
       "      if (window._bokeh_is_loading > 0) {\n",
       "        console.log(\"Bokeh: BokehJS is being loaded, scheduling callback at\", now());\n",
       "        return null;\n",
       "      }\n",
       "      if (js_urls == null || js_urls.length === 0) {\n",
       "        run_callbacks();\n",
       "        return null;\n",
       "      }\n",
       "      console.log(\"Bokeh: BokehJS not loaded, scheduling load and callback at\", now());\n",
       "      window._bokeh_is_loading = js_urls.length;\n",
       "      for (var i = 0; i < js_urls.length; i++) {\n",
       "        var url = js_urls[i];\n",
       "        var s = document.createElement('script');\n",
       "        s.src = url;\n",
       "        s.async = false;\n",
       "        s.onreadystatechange = s.onload = function() {\n",
       "          window._bokeh_is_loading--;\n",
       "          if (window._bokeh_is_loading === 0) {\n",
       "            console.log(\"Bokeh: all BokehJS libraries loaded\");\n",
       "            run_callbacks()\n",
       "          }\n",
       "        };\n",
       "        s.onerror = function() {\n",
       "          console.warn(\"failed to load library \" + url);\n",
       "        };\n",
       "        console.log(\"Bokeh: injecting script tag for BokehJS library: \", url);\n",
       "        document.getElementsByTagName(\"head\")[0].appendChild(s);\n",
       "      }\n",
       "    };var element = document.getElementById(\"cdf6249d-1e1a-4974-b9cd-9e8ea0d3e228\");\n",
       "    if (element == null) {\n",
       "      console.log(\"Bokeh: ERROR: autoload.js configured with elementid 'cdf6249d-1e1a-4974-b9cd-9e8ea0d3e228' but no matching script tag was found. \")\n",
       "      return false;\n",
       "    }\n",
       "  \n",
       "    var js_urls = [];\n",
       "  \n",
       "    var inline_js = [\n",
       "      function(Bokeh) {\n",
       "        (function() {\n",
       "          var fn = function() {\n",
       "            var docs_json = {\"593ee184-ccb6-4fba-a6b3-a26fd93307bd\":{\"roots\":{\"references\":[{\"attributes\":{\"callback\":null},\"id\":\"edd01150-8006-47f1-bfe3-48f99d383aab\",\"type\":\"DataRange1d\"},{\"attributes\":{\"line_alpha\":{\"value\":0.1},\"line_color\":{\"value\":\"#1f77b4\"},\"line_dash\":[6],\"line_width\":{\"value\":2},\"x\":{\"field\":\"x\"},\"y\":{\"field\":\"y\"}},\"id\":\"a869db08-a5c4-41b3-9f43-6c3d428f8cd5\",\"type\":\"Line\"},{\"attributes\":{\"data_source\":{\"id\":\"c893201f-5306-456f-b07f-93cc1c3c4f31\",\"type\":\"ColumnDataSource\"},\"glyph\":{\"id\":\"37971fa9-676b-4260-8e66-946d701b44c8\",\"type\":\"HBar\"},\"hover_glyph\":null,\"muted_glyph\":null,\"nonselection_glyph\":{\"id\":\"60aa9292-d74a-4067-81a3-d924c88ec1ef\",\"type\":\"HBar\"},\"selection_glyph\":null},\"id\":\"0e5b6be7-6aa1-4d2a-ae64-67f0acdb6c48\",\"type\":\"GlyphRenderer\"},{\"attributes\":{\"fill_color\":{\"value\":\"#459E0F\"},\"height\":{\"value\":0.3},\"left\":{\"value\":-0.4090909090909091},\"line_color\":{\"value\":\"#459E0F\"},\"right\":{\"value\":0},\"y\":{\"value\":1}},\"id\":\"d201648e-8bd0-4f8b-af5c-22f57840f9b7\",\"type\":\"HBar\"},{\"attributes\":{\"line_alpha\":{\"value\":0.1},\"line_color\":{\"value\":\"#1f77b4\"},\"line_dash\":[6],\"line_width\":{\"value\":2},\"x\":{\"field\":\"x\"},\"y\":{\"field\":\"y\"}},\"id\":\"e93dd16c-9ddd-43c0-88c1-e0bd973b36b1\",\"type\":\"Line\"},{\"attributes\":{\"formatter\":{\"id\":\"ddd265db-1306-4c96-a6ea-0c8a86ac419e\",\"type\":\"BasicTickFormatter\"},\"plot\":{\"id\":\"e89e7816-c830-4716-9d19-a640392a3710\",\"subtype\":\"Figure\",\"type\":\"Plot\"},\"ticker\":{\"id\":\"1158eabf-d896-4ce8-b3e2-987da75bef1c\",\"type\":\"BasicTicker\"}},\"id\":\"798bd938-f69d-494b-9eb4-ed3e62f88963\",\"type\":\"LinearAxis\"},{\"attributes\":{\"callback\":null,\"data\":{}},\"id\":\"2dacdd09-b162-413e-aca2-f2f017450ebd\",\"type\":\"ColumnDataSource\"},{\"attributes\":{\"callback\":null,\"data\":{}},\"id\":\"3ad43809-3a99-4eb0-a3e7-6742ab3f84e4\",\"type\":\"ColumnDataSource\"},{\"attributes\":{\"line_color\":{\"value\":\"#AAB2A5\"},\"line_dash\":[6],\"line_width\":{\"value\":2},\"x\":{\"field\":\"x\"},\"y\":{\"field\":\"y\"}},\"id\":\"b3f8f789-41f6-4d05-8497-20575dc51aca\",\"type\":\"Line\"},{\"attributes\":{\"overlay\":{\"id\":\"933bd657-7cfe-4ec6-93f9-5e9df2a188b6\",\"type\":\"BoxAnnotation\"},\"plot\":{\"id\":\"e89e7816-c830-4716-9d19-a640392a3710\",\"subtype\":\"Figure\",\"type\":\"Plot\"}},\"id\":\"46bb0680-890a-40cd-8c07-4171b800d2b4\",\"type\":\"BoxZoomTool\"},{\"attributes\":{\"data_source\":{\"id\":\"6fd9e3b6-1884-40d2-96f0-d2146c5518b1\",\"type\":\"ColumnDataSource\"},\"glyph\":{\"id\":\"33a83d87-9db3-4c30-aa7a-fe42f93ec774\",\"type\":\"HBar\"},\"hover_glyph\":null,\"muted_glyph\":null,\"nonselection_glyph\":{\"id\":\"ca9874fd-45f8-4106-a76e-cde89bdc7f5e\",\"type\":\"HBar\"},\"selection_glyph\":null},\"id\":\"c3d83e4f-9af1-49b2-b605-e8ee61234940\",\"type\":\"GlyphRenderer\"},{\"attributes\":{},\"id\":\"6e746e46-9ffe-47fd-9c16-593d4533658c\",\"type\":\"BasicTickFormatter\"},{\"attributes\":{\"above\":[{\"id\":\"20cf26f4-516a-47d8-ac12-83b3207ddf54\",\"type\":\"Title\"}],\"below\":[{\"id\":\"798bd938-f69d-494b-9eb4-ed3e62f88963\",\"type\":\"LinearAxis\"}],\"left\":[{\"id\":\"456f5513-c632-46a9-9d2a-2b5cf5ec8598\",\"type\":\"LinearAxis\"}],\"plot_height\":300,\"plot_width\":400,\"renderers\":[{\"id\":\"798bd938-f69d-494b-9eb4-ed3e62f88963\",\"type\":\"LinearAxis\"},{\"id\":\"fa97db6f-d974-444f-888c-eb4cd7eca484\",\"type\":\"Grid\"},{\"id\":\"456f5513-c632-46a9-9d2a-2b5cf5ec8598\",\"type\":\"LinearAxis\"},{\"id\":\"d7eecf5f-bdf3-4fd2-8aeb-a9b0ace9e8a2\",\"type\":\"Grid\"},{\"id\":\"933bd657-7cfe-4ec6-93f9-5e9df2a188b6\",\"type\":\"BoxAnnotation\"},{\"id\":\"e56f5d98-509d-444f-a43c-7fa8a976e459\",\"type\":\"GlyphRenderer\"},{\"id\":\"c1621fb6-65d5-45b1-9c72-f637e0c9baba\",\"type\":\"GlyphRenderer\"},{\"id\":\"0e5b6be7-6aa1-4d2a-ae64-67f0acdb6c48\",\"type\":\"GlyphRenderer\"},{\"id\":\"fa830bca-99d6-4029-802d-cbd8e0295097\",\"type\":\"GlyphRenderer\"},{\"id\":\"d97ec619-d07f-454f-b225-975296256db1\",\"type\":\"GlyphRenderer\"},{\"id\":\"84452b46-0f3e-4041-9909-e1edcc57b142\",\"type\":\"GlyphRenderer\"},{\"id\":\"3df6eaa1-a464-41da-8022-ef799bb06dc9\",\"type\":\"GlyphRenderer\"},{\"id\":\"c71f6844-a8b2-4c7a-87e2-a03cacb83db0\",\"type\":\"GlyphRenderer\"},{\"id\":\"c3d83e4f-9af1-49b2-b605-e8ee61234940\",\"type\":\"GlyphRenderer\"},{\"id\":\"f620cb3a-b760-4d6b-a3cf-4303ba319759\",\"type\":\"GlyphRenderer\"},{\"id\":\"03ae2d7e-3b13-4a53-a589-a8346be007b8\",\"type\":\"GlyphRenderer\"},{\"id\":\"215c2778-9ca8-4d9f-b162-83994ef6104f\",\"type\":\"GlyphRenderer\"},{\"id\":\"20cf26f4-516a-47d8-ac12-83b3207ddf54\",\"type\":\"Title\"}],\"title\":{\"id\":\"352708c2-8a40-4b72-aa4e-23c735563025\",\"type\":\"Title\"},\"tool_events\":{\"id\":\"b2c17578-96d6-496a-8f76-deed729fbc9d\",\"type\":\"ToolEvents\"},\"toolbar\":{\"id\":\"bf8ebd96-3003-4a97-be61-2e8215082eb3\",\"type\":\"Toolbar\"},\"x_range\":{\"id\":\"872e9e04-9e6c-4d5b-a729-0671d1b4ee29\",\"type\":\"DataRange1d\"},\"x_scale\":{\"id\":\"07fbc998-462f-4ed6-90a6-ec4f054f9dff\",\"type\":\"LinearScale\"},\"y_range\":{\"id\":\"bcd4f868-ee76-4a47-9aba-a0bd6091716d\",\"type\":\"Range1d\"},\"y_scale\":{\"id\":\"11a50b3d-61ea-4753-826e-77e851b52aa7\",\"type\":\"LinearScale\"}},\"id\":\"e89e7816-c830-4716-9d19-a640392a3710\",\"subtype\":\"Figure\",\"type\":\"Plot\"},{\"attributes\":{\"line_alpha\":{\"value\":0.1},\"line_color\":{\"value\":\"#1f77b4\"},\"line_dash\":[6],\"line_width\":{\"value\":2},\"x\":{\"field\":\"x\"},\"y\":{\"field\":\"y\"}},\"id\":\"4acfab6b-0b50-4143-b3cd-421df67f8667\",\"type\":\"Line\"},{\"attributes\":{\"callback\":null,\"end\":2},\"id\":\"bcd4f868-ee76-4a47-9aba-a0bd6091716d\",\"type\":\"Range1d\"},{\"attributes\":{\"fill_color\":{\"value\":\"#E4E02C\"},\"height\":{\"value\":0.3},\"left\":{\"value\":-0.3865877712031558},\"line_color\":{\"value\":\"#E4E02C\"},\"right\":{\"value\":-0.3264299802761341},\"y\":{\"value\":1}},\"id\":\"37971fa9-676b-4260-8e66-946d701b44c8\",\"type\":\"HBar\"},{\"attributes\":{\"line_color\":{\"value\":\"#AAB2A5\"},\"line_dash\":[6],\"line_width\":{\"value\":2},\"x\":{\"field\":\"x\"},\"y\":{\"field\":\"y\"}},\"id\":\"5360d9ad-f69b-4490-a106-3c6eaee83af4\",\"type\":\"Line\"},{\"attributes\":{\"callback\":null,\"data\":{}},\"id\":\"19de6c42-5673-4967-9704-6c5633b35d36\",\"type\":\"ColumnDataSource\"},{\"attributes\":{\"data_source\":{\"id\":\"9f90efeb-fb43-44a5-ae67-c990caf28750\",\"type\":\"ColumnDataSource\"},\"glyph\":{\"id\":\"c4baa7f8-cd4d-4645-8bba-bc44da14b559\",\"type\":\"HBar\"},\"hover_glyph\":null,\"muted_glyph\":null,\"nonselection_glyph\":{\"id\":\"262f2bbd-9714-4811-80c6-d2b8011ed909\",\"type\":\"HBar\"},\"selection_glyph\":null},\"id\":\"234029e4-69b2-4c4d-b0c1-24e8852ce2dc\",\"type\":\"GlyphRenderer\"},{\"attributes\":{\"plot\":null,\"text\":\"\"},\"id\":\"93bcacb7-53d7-469e-a653-c826439d5f4e\",\"type\":\"Title\"},{\"attributes\":{\"plot\":{\"id\":\"e89e7816-c830-4716-9d19-a640392a3710\",\"subtype\":\"Figure\",\"type\":\"Plot\"}},\"id\":\"dca40451-1865-4819-bcba-f387bda5dc9d\",\"type\":\"HelpTool\"},{\"attributes\":{\"data_source\":{\"id\":\"c28ab7f0-5fb2-4a62-bfee-a0923f7d09df\",\"type\":\"ColumnDataSource\"},\"glyph\":{\"id\":\"93831ca8-13c9-43e4-8233-6e0eac6bb372\",\"type\":\"HBar\"},\"hover_glyph\":null,\"muted_glyph\":null,\"nonselection_glyph\":{\"id\":\"c4243dfb-6abe-4de2-aef5-311f17eba431\",\"type\":\"HBar\"},\"selection_glyph\":null},\"id\":\"06601488-8ae0-48e4-9e49-e6298bef067f\",\"type\":\"GlyphRenderer\"},{\"attributes\":{},\"id\":\"08051934-cc3f-4e4c-a591-bb53cffab8cc\",\"type\":\"LinearScale\"},{\"attributes\":{\"data_source\":{\"id\":\"19de6c42-5673-4967-9704-6c5633b35d36\",\"type\":\"ColumnDataSource\"},\"glyph\":{\"id\":\"09bd14df-2e25-44c5-aba3-0ab842efd087\",\"type\":\"HBar\"},\"hover_glyph\":null,\"muted_glyph\":null,\"nonselection_glyph\":{\"id\":\"39974c86-44b0-4888-a7d0-13e707d5694b\",\"type\":\"HBar\"},\"selection_glyph\":null},\"id\":\"03ae2d7e-3b13-4a53-a589-a8346be007b8\",\"type\":\"GlyphRenderer\"},{\"attributes\":{},\"id\":\"31aace99-7484-416a-85a4-187e478fa563\",\"type\":\"LinearScale\"},{\"attributes\":{\"line_color\":{\"value\":\"#AAB2A5\"},\"line_dash\":[6],\"line_width\":{\"value\":2},\"x\":{\"field\":\"x\"},\"y\":{\"field\":\"y\"}},\"id\":\"f0142cba-d220-4585-9c87-9a08b5dbfa21\",\"type\":\"Line\"},{\"attributes\":{\"callback\":null,\"plot\":{\"id\":\"8127eca2-01a0-4b93-a3a3-92ecdb1e7337\",\"subtype\":\"Figure\",\"type\":\"Plot\"},\"tooltips\":[[\"pct\",\"@pct{(0.00%)}\"]]},\"id\":\"d1d3e7d2-7f79-4429-9a5c-0412a1f30112\",\"type\":\"HoverTool\"},{\"attributes\":{\"overlay\":{\"id\":\"c68b25bd-9e70-4d46-b086-96dc50422884\",\"type\":\"BoxAnnotation\"},\"plot\":{\"id\":\"bcd09f88-c0c1-4871-bdf7-e08102d8b149\",\"subtype\":\"Figure\",\"type\":\"Plot\"}},\"id\":\"dcff9811-c339-487b-9010-7ac367db4c29\",\"type\":\"BoxZoomTool\"},{\"attributes\":{\"fill_alpha\":{\"value\":0.1},\"fill_color\":{\"value\":\"#1f77b4\"},\"height\":{\"value\":0.3},\"left\":{\"value\":-0.47529644268774707},\"line_alpha\":{\"value\":0.1},\"line_color\":{\"value\":\"#1f77b4\"},\"right\":{\"value\":-0.4090909090909091},\"y\":{\"value\":1}},\"id\":\"262f2bbd-9714-4811-80c6-d2b8011ed909\",\"type\":\"HBar\"},{\"attributes\":{\"plot\":{\"id\":\"e89e7816-c830-4716-9d19-a640392a3710\",\"subtype\":\"Figure\",\"type\":\"Plot\"}},\"id\":\"aeb0dde5-06bd-484c-9be9-5ae24de6def3\",\"type\":\"PanTool\"},{\"attributes\":{},\"id\":\"3a27cc77-0b32-4d2d-93ad-20cbd673de27\",\"type\":\"LinearScale\"},{\"attributes\":{\"line_alpha\":{\"value\":0.1},\"line_color\":{\"value\":\"#1f77b4\"},\"line_dash\":[6],\"line_width\":{\"value\":2},\"x\":{\"field\":\"x\"},\"y\":{\"field\":\"y\"}},\"id\":\"2f30b49c-66b0-4723-814b-caaf2e48d9a1\",\"type\":\"Line\"},{\"attributes\":{\"data_source\":{\"id\":\"9dc5c4d5-4460-4847-bccf-0063a61e8da5\",\"type\":\"ColumnDataSource\"},\"glyph\":{\"id\":\"d6db48da-9540-4ab5-91a7-089064f20fc7\",\"type\":\"HBar\"},\"hover_glyph\":null,\"muted_glyph\":null,\"nonselection_glyph\":{\"id\":\"6822db35-7924-4cfa-bb74-44d0e3c42598\",\"type\":\"HBar\"},\"selection_glyph\":null},\"id\":\"450257ea-8bc3-4c59-b1dd-c01a34758561\",\"type\":\"GlyphRenderer\"},{\"attributes\":{\"callback\":null,\"data\":{}},\"id\":\"6fd9e3b6-1884-40d2-96f0-d2146c5518b1\",\"type\":\"ColumnDataSource\"},{\"attributes\":{\"callback\":null,\"column_names\":[\"x\",\"y\"],\"data\":{\"x\":[-0.4090909090909091,-0.4090909090909091],\"y\":[0.5,1.5]}},\"id\":\"d74134c4-4066-444f-beef-e406dfea33ac\",\"type\":\"ColumnDataSource\"},{\"attributes\":{\"data_source\":{\"id\":\"7f18e43e-aa30-47dd-91ed-bddf35066e43\",\"type\":\"ColumnDataSource\"},\"glyph\":{\"id\":\"5cde7446-3d41-4aa0-8ed2-7bbf9408ec5b\",\"type\":\"Line\"},\"hover_glyph\":null,\"muted_glyph\":null,\"nonselection_glyph\":{\"id\":\"a869db08-a5c4-41b3-9f43-6c3d428f8cd5\",\"type\":\"Line\"},\"selection_glyph\":null},\"id\":\"574d38d3-badd-49ce-a569-049c23fe25b6\",\"type\":\"GlyphRenderer\"},{\"attributes\":{\"callback\":null,\"column_names\":[\"x\",\"y\"],\"data\":{\"x\":[-0.47529644268774707,-0.47529644268774707],\"y\":[0.5,1.5]}},\"id\":\"d8f22f97-e068-4928-91a0-f6ab326c767d\",\"type\":\"ColumnDataSource\"},{\"attributes\":{\"plot\":{\"id\":\"e89e7816-c830-4716-9d19-a640392a3710\",\"subtype\":\"Figure\",\"type\":\"Plot\"}},\"id\":\"228562a6-a47f-496d-a3a9-37d0a9aa57c0\",\"type\":\"ResetTool\"},{\"attributes\":{\"callback\":null,\"column_names\":[\"x\",\"y\"],\"data\":{\"x\":[0,0],\"y\":[0.5,1.5]}},\"id\":\"8c876ba7-7bc2-47a7-8e8f-3e5418a2c445\",\"type\":\"ColumnDataSource\"},{\"attributes\":{\"fill_alpha\":{\"value\":0.1},\"fill_color\":{\"value\":\"#1f77b4\"},\"line_alpha\":{\"value\":0.1},\"line_color\":{\"value\":\"#1f77b4\"},\"top\":{\"field\":\"pct\"},\"width\":{\"value\":0.6},\"x\":{\"field\":\"index\"}},\"id\":\"c72dead8-0dcb-4afd-953a-971e08abc34a\",\"type\":\"VBar\"},{\"attributes\":{},\"id\":\"f85dff0d-78d3-4f05-85f5-edf43fded0fc\",\"type\":\"ToolEvents\"},{\"attributes\":{},\"id\":\"31570410-8f4c-41c1-8156-9e257cc60bd5\",\"type\":\"ToolEvents\"},{\"attributes\":{\"line_alpha\":{\"value\":0.1},\"line_color\":{\"value\":\"#1f77b4\"},\"line_dash\":[6],\"line_width\":{\"value\":2},\"x\":{\"field\":\"x\"},\"y\":{\"field\":\"y\"}},\"id\":\"5af7a22b-8436-420d-84a4-07ee985848e9\",\"type\":\"Line\"},{\"attributes\":{},\"id\":\"07fbc998-462f-4ed6-90a6-ec4f054f9dff\",\"type\":\"LinearScale\"},{\"attributes\":{\"data_source\":{\"id\":\"d74134c4-4066-444f-beef-e406dfea33ac\",\"type\":\"ColumnDataSource\"},\"glyph\":{\"id\":\"906711e7-49d6-4195-8265-83b91f81f20e\",\"type\":\"Line\"},\"hover_glyph\":null,\"muted_glyph\":null,\"nonselection_glyph\":{\"id\":\"fac6ac5e-ec82-4d5c-92a0-df3706414486\",\"type\":\"Line\"},\"selection_glyph\":null},\"id\":\"f8b7071c-1341-4e5e-8737-dc75dff23bd3\",\"type\":\"GlyphRenderer\"},{\"attributes\":{\"data_source\":{\"id\":\"6683ffce-046e-41ee-833e-5a5dae450a97\",\"type\":\"ColumnDataSource\"},\"glyph\":{\"id\":\"01b97d9a-7bb1-47df-9934-5bcdc1c53965\",\"type\":\"Line\"},\"hover_glyph\":null,\"muted_glyph\":null,\"nonselection_glyph\":{\"id\":\"40c1a069-d57c-44c0-b50b-87c70d27c4bc\",\"type\":\"Line\"},\"selection_glyph\":null},\"id\":\"c1621fb6-65d5-45b1-9c72-f637e0c9baba\",\"type\":\"GlyphRenderer\"},{\"attributes\":{\"plot\":{\"id\":\"bcd09f88-c0c1-4871-bdf7-e08102d8b149\",\"subtype\":\"Figure\",\"type\":\"Plot\"}},\"id\":\"9cb1ac03-4ba0-49f7-8792-31255e634e03\",\"type\":\"WheelZoomTool\"},{\"attributes\":{\"plot\":{\"id\":\"8127eca2-01a0-4b93-a3a3-92ecdb1e7337\",\"subtype\":\"Figure\",\"type\":\"Plot\"},\"ticker\":{\"id\":\"ee2eb293-ec1f-4e07-8e62-872b62a04d22\",\"type\":\"BasicTicker\"}},\"id\":\"504d2de9-2e97-4961-ad1f-f7852918235c\",\"type\":\"Grid\"},{\"attributes\":{\"active_drag\":\"auto\",\"active_inspect\":\"auto\",\"active_scroll\":\"auto\",\"active_tap\":\"auto\",\"tools\":[{\"id\":\"4f4360d0-170c-425f-9972-1076dd8519d5\",\"type\":\"PanTool\"},{\"id\":\"9cb1ac03-4ba0-49f7-8792-31255e634e03\",\"type\":\"WheelZoomTool\"},{\"id\":\"dcff9811-c339-487b-9010-7ac367db4c29\",\"type\":\"BoxZoomTool\"},{\"id\":\"79e3e69c-d5b8-4f1e-a2c5-0b3b206520ed\",\"type\":\"SaveTool\"},{\"id\":\"7c6f0c8c-711e-4e4b-9967-f72cd73effd8\",\"type\":\"ResetTool\"},{\"id\":\"b1f9d28f-7be9-44fa-94e1-b2965fe621f8\",\"type\":\"HelpTool\"}]},\"id\":\"3f2b1567-9477-4894-8ddc-f93fd3ab9307\",\"type\":\"Toolbar\"},{\"attributes\":{\"grid_line_color\":{\"value\":null},\"plot\":{\"id\":\"bcd09f88-c0c1-4871-bdf7-e08102d8b149\",\"subtype\":\"Figure\",\"type\":\"Plot\"},\"ticker\":{\"id\":\"6baf5fcd-4c7c-4d59-bcbf-6bfc7774e8a5\",\"type\":\"BasicTicker\"}},\"id\":\"a5d70e0e-3073-49e3-8af3-5ac6005313e7\",\"type\":\"Grid\"},{\"attributes\":{},\"id\":\"aa6a9b3f-02b7-4d34-8d7f-806685da5f46\",\"type\":\"BasicTickFormatter\"},{\"attributes\":{\"callback\":null,\"column_names\":[\"x\",\"y\"],\"data\":{\"x\":[0.45652173913043476,0.45652173913043476],\"y\":[0.5,1.5]}},\"id\":\"7d90d0d9-535c-45bc-8e11-fd8ef2920ddf\",\"type\":\"ColumnDataSource\"},{\"attributes\":{\"children\":[{\"id\":\"8b161009-226e-4659-9ad3-765ac08f276f\",\"type\":\"Row\"},{\"id\":\"ea7d033e-6925-425d-8ff1-43a8e75d5aa4\",\"type\":\"Row\"}]},\"id\":\"f1b9e4c2-edd2-465c-9736-2ef2e9d805c3\",\"type\":\"Column\"},{\"attributes\":{},\"id\":\"04562de5-2ff9-4229-aad7-a1537c05c6a7\",\"type\":\"LinearScale\"},{\"attributes\":{\"dimension\":1,\"plot\":{\"id\":\"559cdff0-9c23-400a-892c-fb1759d29688\",\"subtype\":\"Figure\",\"type\":\"Plot\"},\"ticker\":{\"id\":\"69cf9614-6563-4ac2-9a3e-cb17303b1e84\",\"type\":\"BasicTicker\"}},\"id\":\"25338a36-f602-4a45-9f43-20dede59a8c7\",\"type\":\"Grid\"},{\"attributes\":{\"data_source\":{\"id\":\"e8b2228a-f7ca-4a4b-8bf0-cce1c9b48f1c\",\"type\":\"ColumnDataSource\"},\"glyph\":{\"id\":\"f5aeb274-8a44-446f-9009-eb8773d1b898\",\"type\":\"Line\"},\"hover_glyph\":null,\"muted_glyph\":null,\"nonselection_glyph\":{\"id\":\"e93dd16c-9ddd-43c0-88c1-e0bd973b36b1\",\"type\":\"Line\"},\"selection_glyph\":null},\"id\":\"f620cb3a-b760-4d6b-a3cf-4303ba319759\",\"type\":\"GlyphRenderer\"},{\"attributes\":{\"callback\":null,\"data\":{}},\"id\":\"c33a3095-edb6-4531-807b-b4daf4db4b30\",\"type\":\"ColumnDataSource\"},{\"attributes\":{},\"id\":\"abc27e7a-94f5-4b2a-9585-42dcd8d650c4\",\"type\":\"LinearScale\"},{\"attributes\":{\"plot\":{\"id\":\"559cdff0-9c23-400a-892c-fb1759d29688\",\"subtype\":\"Figure\",\"type\":\"Plot\"},\"ticker\":{\"id\":\"bbc8efa4-a4be-46cd-8148-89db3955062f\",\"type\":\"BasicTicker\"}},\"id\":\"2a1e6679-6c68-4e46-a3ad-719712f76f99\",\"type\":\"Grid\"},{\"attributes\":{\"fill_color\":{\"value\":\"#E4E02C\"},\"height\":{\"value\":0.3},\"left\":{\"value\":0.41913214990138065},\"line_color\":{\"value\":\"#E4E02C\"},\"right\":{\"value\":0.5641025641025641},\"y\":{\"value\":1}},\"id\":\"33a83d87-9db3-4c30-aa7a-fe42f93ec774\",\"type\":\"HBar\"},{\"attributes\":{\"children\":[{\"id\":\"bcd09f88-c0c1-4871-bdf7-e08102d8b149\",\"subtype\":\"Figure\",\"type\":\"Plot\"},{\"id\":\"8127eca2-01a0-4b93-a3a3-92ecdb1e7337\",\"subtype\":\"Figure\",\"type\":\"Plot\"}]},\"id\":\"ea7d033e-6925-425d-8ff1-43a8e75d5aa4\",\"type\":\"Row\"},{\"attributes\":{\"children\":[{\"id\":\"f970a683-db91-42c2-83fb-5661e3b8932f\",\"type\":\"Div\"}]},\"id\":\"3e187564-0f35-4d94-8132-b963ff604974\",\"type\":\"WidgetBox\"},{\"attributes\":{\"fill_color\":{\"value\":\"#459E0F\"},\"height\":{\"value\":0.3},\"line_color\":{\"value\":\"#459E0F\"},\"right\":{\"value\":0.41913214990138065},\"y\":{\"value\":1}},\"id\":\"0a543184-4cf3-4d07-8e75-0b9c5a10e441\",\"type\":\"HBar\"},{\"attributes\":{\"fill_color\":{\"value\":\"#459E0F\"},\"height\":{\"value\":0.3},\"left\":{\"value\":-0.3264299802761341},\"line_color\":{\"value\":\"#459E0F\"},\"right\":{\"value\":0},\"y\":{\"value\":1}},\"id\":\"e6f46d15-6eb5-46d0-b94e-70acef4854a6\",\"type\":\"HBar\"},{\"attributes\":{\"dimension\":1,\"plot\":{\"id\":\"8127eca2-01a0-4b93-a3a3-92ecdb1e7337\",\"subtype\":\"Figure\",\"type\":\"Plot\"},\"ticker\":{\"id\":\"4dd9c48b-d672-4e9e-8f44-7c39bf03a9ff\",\"type\":\"BasicTicker\"}},\"id\":\"15a32483-5041-4072-a89d-642dbf8c7365\",\"type\":\"Grid\"},{\"attributes\":{\"line_color\":{\"value\":\"#AAB2A5\"},\"line_dash\":[6],\"line_width\":{\"value\":2},\"x\":{\"field\":\"x\"},\"y\":{\"field\":\"y\"}},\"id\":\"62263049-bc7b-4a32-bb83-62f9627cfebb\",\"type\":\"Line\"},{\"attributes\":{\"line_alpha\":{\"value\":0.1},\"line_color\":{\"value\":\"#1f77b4\"},\"line_dash\":[6],\"line_width\":{\"value\":2},\"x\":{\"field\":\"x\"},\"y\":{\"field\":\"y\"}},\"id\":\"a7906f6c-7867-41e4-8843-f95fe5dceeeb\",\"type\":\"Line\"},{\"attributes\":{\"fill_color\":{\"value\":\"#E4E02C\"},\"height\":{\"value\":0.3},\"left\":{\"value\":-0.47529644268774707},\"line_color\":{\"value\":\"#E4E02C\"},\"right\":{\"value\":-0.4090909090909091},\"y\":{\"value\":1}},\"id\":\"c4baa7f8-cd4d-4645-8bba-bc44da14b559\",\"type\":\"HBar\"},{\"attributes\":{},\"id\":\"34fdb770-6846-417f-8323-4dca1023b6c5\",\"type\":\"BasicTicker\"},{\"attributes\":{\"line_alpha\":{\"value\":0.1},\"line_color\":{\"value\":\"#1f77b4\"},\"line_dash\":[6],\"line_width\":{\"value\":2},\"x\":{\"field\":\"x\"},\"y\":{\"field\":\"y\"}},\"id\":\"39e62941-8682-479e-bed8-10af304fc1b5\",\"type\":\"Line\"},{\"attributes\":{\"line_alpha\":{\"value\":0.1},\"line_color\":{\"value\":\"#1f77b4\"},\"line_dash\":[6],\"line_width\":{\"value\":2},\"x\":{\"field\":\"x\"},\"y\":{\"field\":\"y\"}},\"id\":\"92b8a76b-b5e7-488f-86d4-a1a6664de1fd\",\"type\":\"Line\"},{\"attributes\":{\"data_source\":{\"id\":\"8c876ba7-7bc2-47a7-8e8f-3e5418a2c445\",\"type\":\"ColumnDataSource\"},\"glyph\":{\"id\":\"0b0cf12c-d2c3-4265-8eb2-33ec30906353\",\"type\":\"Line\"},\"hover_glyph\":null,\"muted_glyph\":null,\"nonselection_glyph\":{\"id\":\"2f30b49c-66b0-4723-814b-caaf2e48d9a1\",\"type\":\"Line\"},\"selection_glyph\":null},\"id\":\"6831b99c-6fae-4b96-899a-eedbfe8efa60\",\"type\":\"GlyphRenderer\"},{\"attributes\":{\"plot\":null,\"text\":\"\"},\"id\":\"352708c2-8a40-4b72-aa4e-23c735563025\",\"type\":\"Title\"},{\"attributes\":{\"fill_color\":{\"value\":\"#E43216\"},\"height\":{\"value\":0.3},\"left\":{\"value\":0.45652173913043476},\"line_color\":{\"value\":\"#E43216\"},\"right\":{\"value\":0.5128458498023715},\"y\":{\"value\":1}},\"id\":\"d6db48da-9540-4ab5-91a7-089064f20fc7\",\"type\":\"HBar\"},{\"attributes\":{\"callback\":null,\"column_names\":[\"x\",\"y\"],\"data\":{\"x\":[0.3577075098814229,0.3577075098814229],\"y\":[0.5,1.5]}},\"id\":\"7f18e43e-aa30-47dd-91ed-bddf35066e43\",\"type\":\"ColumnDataSource\"},{\"attributes\":{\"callback\":null,\"data\":{}},\"id\":\"9dc5c4d5-4460-4847-bccf-0063a61e8da5\",\"type\":\"ColumnDataSource\"},{\"attributes\":{\"grid_line_color\":{\"value\":null},\"plot\":{\"id\":\"e89e7816-c830-4716-9d19-a640392a3710\",\"subtype\":\"Figure\",\"type\":\"Plot\"},\"ticker\":{\"id\":\"1158eabf-d896-4ce8-b3e2-987da75bef1c\",\"type\":\"BasicTicker\"}},\"id\":\"fa97db6f-d974-444f-888c-eb4cd7eca484\",\"type\":\"Grid\"},{\"attributes\":{\"line_alpha\":{\"value\":0.1},\"line_color\":{\"value\":\"#1f77b4\"},\"line_dash\":[6],\"line_width\":{\"value\":2},\"x\":{\"field\":\"x\"},\"y\":{\"field\":\"y\"}},\"id\":\"fac6ac5e-ec82-4d5c-92a0-df3706414486\",\"type\":\"Line\"},{\"attributes\":{\"data_source\":{\"id\":\"84156fc7-264d-4a2f-9c0b-c43e779c0a07\",\"type\":\"ColumnDataSource\"},\"glyph\":{\"id\":\"e181e7f9-61d7-4bba-9581-517ae6d3a29c\",\"type\":\"HBar\"},\"hover_glyph\":null,\"muted_glyph\":null,\"nonselection_glyph\":{\"id\":\"015f584d-c01e-4e67-b7a9-a127900d6c8b\",\"type\":\"HBar\"},\"selection_glyph\":null},\"id\":\"10b1651f-1e8e-479f-b35e-bbaeaad178bb\",\"type\":\"GlyphRenderer\"},{\"attributes\":{\"fill_alpha\":{\"value\":0.1},\"fill_color\":{\"value\":\"#1f77b4\"},\"line_alpha\":{\"value\":0.1},\"line_color\":{\"value\":\"#1f77b4\"},\"top\":{\"field\":\"pct\"},\"width\":{\"value\":0.6},\"x\":{\"field\":\"index\"}},\"id\":\"3d72039b-9208-4d22-802b-b82d2be1ef58\",\"type\":\"VBar\"},{\"attributes\":{},\"id\":\"b2c17578-96d6-496a-8f76-deed729fbc9d\",\"type\":\"ToolEvents\"},{\"attributes\":{},\"id\":\"ff7f22c3-0c31-44fd-a35c-4fc196a95371\",\"type\":\"LinearScale\"},{\"attributes\":{\"align\":\"center\",\"plot\":{\"id\":\"8127eca2-01a0-4b93-a3a3-92ecdb1e7337\",\"subtype\":\"Figure\",\"type\":\"Plot\"},\"text\":\"Total percentage within thresholds drop off\"},\"id\":\"8b78481f-c950-4a85-b72d-3b10b4d02af4\",\"type\":\"Title\"},{\"attributes\":{\"callback\":null},\"id\":\"38b350bc-0cfe-429e-9cb7-1570dcbd196d\",\"type\":\"DataRange1d\"},{\"attributes\":{\"callback\":null,\"plot\":{\"id\":\"559cdff0-9c23-400a-892c-fb1759d29688\",\"subtype\":\"Figure\",\"type\":\"Plot\"},\"tooltips\":[[\"pct\",\"@pct{(0.00%)}\"]]},\"id\":\"3124a5c1-fbe8-45f7-aa64-030ecf2d5c4a\",\"type\":\"HoverTool\"},{\"attributes\":{\"formatter\":{\"id\":\"aa6a9b3f-02b7-4d34-8d7f-806685da5f46\",\"type\":\"BasicTickFormatter\"},\"plot\":{\"id\":\"8127eca2-01a0-4b93-a3a3-92ecdb1e7337\",\"subtype\":\"Figure\",\"type\":\"Plot\"},\"ticker\":{\"id\":\"4dd9c48b-d672-4e9e-8f44-7c39bf03a9ff\",\"type\":\"BasicTicker\"}},\"id\":\"65f4b8d9-fc8c-416a-945d-75eadd962059\",\"type\":\"LinearAxis\"},{\"attributes\":{\"data_source\":{\"id\":\"7c50c67a-a1de-46e3-8c82-ca56624a683c\",\"type\":\"ColumnDataSource\"},\"glyph\":{\"id\":\"d201648e-8bd0-4f8b-af5c-22f57840f9b7\",\"type\":\"HBar\"},\"hover_glyph\":null,\"muted_glyph\":null,\"nonselection_glyph\":{\"id\":\"90a3f5aa-2c64-48bd-b374-571adcb48034\",\"type\":\"HBar\"},\"selection_glyph\":null},\"id\":\"2b724a8e-2bf9-44b1-8850-77dfed1c5f67\",\"type\":\"GlyphRenderer\"},{\"attributes\":{\"fill_alpha\":{\"value\":0.1},\"fill_color\":{\"value\":\"#1f77b4\"},\"height\":{\"value\":0.3},\"left\":{\"value\":-0.388560157790927},\"line_alpha\":{\"value\":0.1},\"line_color\":{\"value\":\"#1f77b4\"},\"right\":{\"value\":-0.3865877712031558},\"y\":{\"value\":1}},\"id\":\"138e8398-eeed-41d2-b772-a933775972ec\",\"type\":\"HBar\"},{\"attributes\":{\"line_color\":{\"value\":\"#AAB2A5\"},\"line_dash\":[6],\"line_width\":{\"value\":2},\"x\":{\"field\":\"x\"},\"y\":{\"field\":\"y\"}},\"id\":\"0916c760-edf9-4676-b197-0a868d96db0e\",\"type\":\"Line\"},{\"attributes\":{\"children\":[{\"id\":\"e89e7816-c830-4716-9d19-a640392a3710\",\"subtype\":\"Figure\",\"type\":\"Plot\"},{\"id\":\"559cdff0-9c23-400a-892c-fb1759d29688\",\"subtype\":\"Figure\",\"type\":\"Plot\"}]},\"id\":\"8b161009-226e-4659-9ad3-765ac08f276f\",\"type\":\"Row\"},{\"attributes\":{},\"id\":\"83647a39-db12-47ce-9556-9ec6dc96633d\",\"type\":\"BasicTickFormatter\"},{\"attributes\":{},\"id\":\"25ffe24d-a800-4cb1-b28a-eca1b3738985\",\"type\":\"BasicTickFormatter\"},{\"attributes\":{\"plot\":{\"id\":\"e89e7816-c830-4716-9d19-a640392a3710\",\"subtype\":\"Figure\",\"type\":\"Plot\"}},\"id\":\"9872cf4d-b497-4922-8c10-a12d21a9c91a\",\"type\":\"WheelZoomTool\"},{\"attributes\":{\"callback\":null,\"data\":{}},\"id\":\"7c50c67a-a1de-46e3-8c82-ca56624a683c\",\"type\":\"ColumnDataSource\"},{\"attributes\":{\"callback\":null,\"column_names\":[\"x\",\"y\"],\"data\":{\"x\":[0,0],\"y\":[0.5,1.5]}},\"id\":\"2e7a30dc-a37d-4b9c-8626-7620a1e29727\",\"type\":\"ColumnDataSource\"},{\"attributes\":{},\"id\":\"179d4c8c-80a1-4529-bd2f-ebc0e5c1a2c7\",\"type\":\"ToolEvents\"},{\"attributes\":{\"callback\":null,\"data\":{}},\"id\":\"9f90efeb-fb43-44a5-ae67-c990caf28750\",\"type\":\"ColumnDataSource\"},{\"attributes\":{\"fill_color\":{\"value\":\"#E43216\"},\"height\":{\"value\":0.3},\"left\":{\"value\":0.5641025641025641},\"line_color\":{\"value\":\"#E43216\"},\"right\":{\"value\":0.611439842209073},\"y\":{\"value\":1}},\"id\":\"09bd14df-2e25-44c5-aba3-0ab842efd087\",\"type\":\"HBar\"},{\"attributes\":{\"align\":\"center\",\"plot\":{\"id\":\"559cdff0-9c23-400a-892c-fb1759d29688\",\"subtype\":\"Figure\",\"type\":\"Plot\"},\"text\":\"Total percentage within thresholds pick up\"},\"id\":\"d597c3f6-286a-494f-aeae-57a11b0a6dfc\",\"type\":\"Title\"},{\"attributes\":{\"fill_color\":{\"value\":\"#E43216\"},\"height\":{\"value\":0.3},\"left\":{\"value\":-0.4871541501976285},\"line_color\":{\"value\":\"#E43216\"},\"right\":{\"value\":-0.47529644268774707},\"y\":{\"value\":1}},\"id\":\"dc034691-ab29-4046-8e60-3d117c0ef356\",\"type\":\"HBar\"},{\"attributes\":{\"callback\":null,\"column_names\":[\"x\",\"y\"],\"data\":{\"x\":[-0.3264299802761341,-0.3264299802761341],\"y\":[0.5,1.5]}},\"id\":\"a6a5bb00-912e-447f-be41-1ac4c602a975\",\"type\":\"ColumnDataSource\"},{\"attributes\":{\"children\":[{\"id\":\"3e187564-0f35-4d94-8132-b963ff604974\",\"type\":\"WidgetBox\"},{\"id\":\"f1b9e4c2-edd2-465c-9736-2ef2e9d805c3\",\"type\":\"Column\"}]},\"id\":\"2a0f0618-d5ef-438a-af63-cbaf146444a1\",\"type\":\"Column\"},{\"attributes\":{\"callback\":null,\"data\":{}},\"id\":\"3a4f96a8-c1ae-442b-9bca-26613e857f10\",\"type\":\"ColumnDataSource\"},{\"attributes\":{\"data_source\":{\"id\":\"7d90d0d9-535c-45bc-8e11-fd8ef2920ddf\",\"type\":\"ColumnDataSource\"},\"glyph\":{\"id\":\"62263049-bc7b-4a32-bb83-62f9627cfebb\",\"type\":\"Line\"},\"hover_glyph\":null,\"muted_glyph\":null,\"nonselection_glyph\":{\"id\":\"19707ff3-9ba5-438b-9363-77a229670356\",\"type\":\"Line\"},\"selection_glyph\":null},\"id\":\"5c4c6676-193c-4e5e-bd95-09decda0a53b\",\"type\":\"GlyphRenderer\"},{\"attributes\":{\"callback\":null,\"column_names\":[\"x\",\"y\"],\"data\":{\"x\":[0,0],\"y\":[0.5,1.5]}},\"id\":\"6683ffce-046e-41ee-833e-5a5dae450a97\",\"type\":\"ColumnDataSource\"},{\"attributes\":{\"formatter\":{\"id\":\"25ffe24d-a800-4cb1-b28a-eca1b3738985\",\"type\":\"BasicTickFormatter\"},\"plot\":{\"id\":\"e89e7816-c830-4716-9d19-a640392a3710\",\"subtype\":\"Figure\",\"type\":\"Plot\"},\"ticker\":{\"id\":\"34fdb770-6846-417f-8323-4dca1023b6c5\",\"type\":\"BasicTicker\"},\"visible\":false},\"id\":\"456f5513-c632-46a9-9d2a-2b5cf5ec8598\",\"type\":\"LinearAxis\"},{\"attributes\":{\"data_source\":{\"id\":\"3ad43809-3a99-4eb0-a3e7-6742ab3f84e4\",\"type\":\"ColumnDataSource\"},\"glyph\":{\"id\":\"e6f46d15-6eb5-46d0-b94e-70acef4854a6\",\"type\":\"HBar\"},\"hover_glyph\":null,\"muted_glyph\":null,\"nonselection_glyph\":{\"id\":\"76cfd34e-2990-4b44-add3-fd2481306880\",\"type\":\"HBar\"},\"selection_glyph\":null},\"id\":\"e56f5d98-509d-444f-a43c-7fa8a976e459\",\"type\":\"GlyphRenderer\"},{\"attributes\":{\"data_source\":{\"id\":\"b124bef8-7150-4689-89ab-2271daf4835a\",\"type\":\"ColumnDataSource\"},\"glyph\":{\"id\":\"5360d9ad-f69b-4490-a106-3c6eaee83af4\",\"type\":\"Line\"},\"hover_glyph\":null,\"muted_glyph\":null,\"nonselection_glyph\":{\"id\":\"39e62941-8682-479e-bed8-10af304fc1b5\",\"type\":\"Line\"},\"selection_glyph\":null},\"id\":\"215c2778-9ca8-4d9f-b162-83994ef6104f\",\"type\":\"GlyphRenderer\"},{\"attributes\":{\"callback\":null},\"id\":\"01c0485f-3e61-4e07-b993-fa693ea4f545\",\"type\":\"DataRange1d\"},{\"attributes\":{\"fill_alpha\":{\"value\":0.1},\"fill_color\":{\"value\":\"#1f77b4\"},\"height\":{\"value\":0.3},\"line_alpha\":{\"value\":0.1},\"line_color\":{\"value\":\"#1f77b4\"},\"right\":{\"value\":0.41913214990138065},\"y\":{\"value\":1}},\"id\":\"d040cf30-ec4a-4bd0-8797-a37ccd6f703e\",\"type\":\"HBar\"},{\"attributes\":{\"data_source\":{\"id\":\"b810f416-efd0-46f5-8474-4c0b2490ab2b\",\"type\":\"ColumnDataSource\"},\"glyph\":{\"id\":\"1c4a7dc4-403f-4663-971f-036373dd1f89\",\"type\":\"VBar\"},\"hover_glyph\":null,\"muted_glyph\":null,\"nonselection_glyph\":{\"id\":\"c72dead8-0dcb-4afd-953a-971e08abc34a\",\"type\":\"VBar\"},\"selection_glyph\":null},\"id\":\"2c0f457d-876f-41e9-a063-98c127cdc7d3\",\"type\":\"GlyphRenderer\"},{\"attributes\":{\"callback\":null,\"column_names\":[\"x\",\"y\"],\"data\":{\"x\":[0.5641025641025641,0.5641025641025641],\"y\":[0.5,1.5]}},\"id\":\"b124bef8-7150-4689-89ab-2271daf4835a\",\"type\":\"ColumnDataSource\"},{\"attributes\":{\"line_color\":{\"value\":\"#AAB2A5\"},\"line_dash\":[6],\"line_width\":{\"value\":2},\"x\":{\"field\":\"x\"},\"y\":{\"field\":\"y\"}},\"id\":\"5cde7446-3d41-4aa0-8ed2-7bbf9408ec5b\",\"type\":\"Line\"},{\"attributes\":{\"fill_color\":{\"field\":\"colors\"},\"line_color\":{\"field\":\"colors\"},\"top\":{\"field\":\"pct\"},\"width\":{\"value\":0.6},\"x\":{\"field\":\"index\"}},\"id\":\"0f6ff582-7bcd-44af-9675-ff294ef11933\",\"type\":\"VBar\"},{\"attributes\":{},\"id\":\"ddd265db-1306-4c96-a6ea-0c8a86ac419e\",\"type\":\"BasicTickFormatter\"},{\"attributes\":{},\"id\":\"3be524ca-8840-4b2e-88f8-f065f6144fe8\",\"type\":\"BasicTicker\"},{\"attributes\":{\"data_source\":{\"id\":\"2e7a30dc-a37d-4b9c-8626-7620a1e29727\",\"type\":\"ColumnDataSource\"},\"glyph\":{\"id\":\"b3f8f789-41f6-4d05-8497-20575dc51aca\",\"type\":\"Line\"},\"hover_glyph\":null,\"muted_glyph\":null,\"nonselection_glyph\":{\"id\":\"92b8a76b-b5e7-488f-86d4-a1a6664de1fd\",\"type\":\"Line\"},\"selection_glyph\":null},\"id\":\"dd97dfb6-f829-4bae-a2da-cbf43ae6a8c7\",\"type\":\"GlyphRenderer\"},{\"attributes\":{\"text\":\"<h1 style='margin-left:200px;margin-right:-400px;margin-bottom:18px;font-size:20px;                color:#7D7575'> Time thresholds for pick ups / drop offs </h1>\"},\"id\":\"f970a683-db91-42c2-83fb-5661e3b8932f\",\"type\":\"Div\"},{\"attributes\":{},\"id\":\"69cf9614-6563-4ac2-9a3e-cb17303b1e84\",\"type\":\"BasicTicker\"},{\"attributes\":{\"plot\":{\"id\":\"bcd09f88-c0c1-4871-bdf7-e08102d8b149\",\"subtype\":\"Figure\",\"type\":\"Plot\"}},\"id\":\"4f4360d0-170c-425f-9972-1076dd8519d5\",\"type\":\"PanTool\"},{\"attributes\":{\"fill_alpha\":{\"value\":0.1},\"fill_color\":{\"value\":\"#1f77b4\"},\"height\":{\"value\":0.3},\"left\":{\"value\":-0.3865877712031558},\"line_alpha\":{\"value\":0.1},\"line_color\":{\"value\":\"#1f77b4\"},\"right\":{\"value\":-0.3264299802761341},\"y\":{\"value\":1}},\"id\":\"60aa9292-d74a-4067-81a3-d924c88ec1ef\",\"type\":\"HBar\"},{\"attributes\":{\"line_alpha\":{\"value\":0.1},\"line_color\":{\"value\":\"#1f77b4\"},\"line_dash\":[6],\"line_width\":{\"value\":2},\"x\":{\"field\":\"x\"},\"y\":{\"field\":\"y\"}},\"id\":\"ce1e03f0-023b-49a9-9b9a-f44092f48268\",\"type\":\"Line\"},{\"attributes\":{\"line_alpha\":{\"value\":0.1},\"line_color\":{\"value\":\"#1f77b4\"},\"line_dash\":[6],\"line_width\":{\"value\":2},\"x\":{\"field\":\"x\"},\"y\":{\"field\":\"y\"}},\"id\":\"19707ff3-9ba5-438b-9363-77a229670356\",\"type\":\"Line\"},{\"attributes\":{\"formatter\":{\"id\":\"53a01dcd-f176-46e2-a2ea-dd796c426dc7\",\"type\":\"BasicTickFormatter\"},\"plot\":{\"id\":\"bcd09f88-c0c1-4871-bdf7-e08102d8b149\",\"subtype\":\"Figure\",\"type\":\"Plot\"},\"ticker\":{\"id\":\"6baf5fcd-4c7c-4d59-bcbf-6bfc7774e8a5\",\"type\":\"BasicTicker\"}},\"id\":\"f3821dfd-7203-47e2-80a0-4a58f87aa387\",\"type\":\"LinearAxis\"},{\"attributes\":{\"plot\":{\"id\":\"bcd09f88-c0c1-4871-bdf7-e08102d8b149\",\"subtype\":\"Figure\",\"type\":\"Plot\"}},\"id\":\"b1f9d28f-7be9-44fa-94e1-b2965fe621f8\",\"type\":\"HelpTool\"},{\"attributes\":{\"active_drag\":\"auto\",\"active_inspect\":\"auto\",\"active_scroll\":\"auto\",\"active_tap\":\"auto\",\"tools\":[{\"id\":\"aeb0dde5-06bd-484c-9be9-5ae24de6def3\",\"type\":\"PanTool\"},{\"id\":\"9872cf4d-b497-4922-8c10-a12d21a9c91a\",\"type\":\"WheelZoomTool\"},{\"id\":\"46bb0680-890a-40cd-8c07-4171b800d2b4\",\"type\":\"BoxZoomTool\"},{\"id\":\"2bd906f5-afbb-46af-9181-d9ae4f312ef7\",\"type\":\"SaveTool\"},{\"id\":\"228562a6-a47f-496d-a3a9-37d0a9aa57c0\",\"type\":\"ResetTool\"},{\"id\":\"dca40451-1865-4819-bcba-f387bda5dc9d\",\"type\":\"HelpTool\"}]},\"id\":\"bf8ebd96-3003-4a97-be61-2e8215082eb3\",\"type\":\"Toolbar\"},{\"attributes\":{\"fill_alpha\":{\"value\":0.1},\"fill_color\":{\"value\":\"#1f77b4\"},\"height\":{\"value\":0.3},\"left\":{\"value\":0.5641025641025641},\"line_alpha\":{\"value\":0.1},\"line_color\":{\"value\":\"#1f77b4\"},\"right\":{\"value\":0.611439842209073},\"y\":{\"value\":1}},\"id\":\"39974c86-44b0-4888-a7d0-13e707d5694b\",\"type\":\"HBar\"},{\"attributes\":{\"callback\":null,\"column_names\":[\"x\",\"y\"],\"data\":{\"x\":[-0.3865877712031558,-0.3865877712031558],\"y\":[0.5,1.5]}},\"id\":\"2eaea661-0873-4a1b-b149-1e98a1197f4f\",\"type\":\"ColumnDataSource\"},{\"attributes\":{\"formatter\":{\"id\":\"6e746e46-9ffe-47fd-9c16-593d4533658c\",\"type\":\"BasicTickFormatter\"},\"plot\":{\"id\":\"559cdff0-9c23-400a-892c-fb1759d29688\",\"subtype\":\"Figure\",\"type\":\"Plot\"},\"ticker\":{\"id\":\"bbc8efa4-a4be-46cd-8148-89db3955062f\",\"type\":\"BasicTicker\"}},\"id\":\"bb88399d-dd72-4a83-a478-99646025f897\",\"type\":\"LinearAxis\"},{\"attributes\":{\"callback\":null,\"data\":{}},\"id\":\"c893201f-5306-456f-b07f-93cc1c3c4f31\",\"type\":\"ColumnDataSource\"},{\"attributes\":{\"fill_alpha\":{\"value\":0.1},\"fill_color\":{\"value\":\"#1f77b4\"},\"height\":{\"value\":0.3},\"left\":{\"value\":-0.4090909090909091},\"line_alpha\":{\"value\":0.1},\"line_color\":{\"value\":\"#1f77b4\"},\"right\":{\"value\":0},\"y\":{\"value\":1}},\"id\":\"90a3f5aa-2c64-48bd-b374-571adcb48034\",\"type\":\"HBar\"},{\"attributes\":{\"fill_alpha\":{\"value\":0.1},\"fill_color\":{\"value\":\"#1f77b4\"},\"height\":{\"value\":0.3},\"left\":{\"value\":0.41913214990138065},\"line_alpha\":{\"value\":0.1},\"line_color\":{\"value\":\"#1f77b4\"},\"right\":{\"value\":0.5641025641025641},\"y\":{\"value\":1}},\"id\":\"ca9874fd-45f8-4106-a76e-cde89bdc7f5e\",\"type\":\"HBar\"},{\"attributes\":{\"line_color\":{\"value\":\"#AAB2A5\"},\"line_dash\":[6],\"line_width\":{\"value\":2},\"x\":{\"field\":\"x\"},\"y\":{\"field\":\"y\"}},\"id\":\"304a04ea-b0ad-4f0c-8414-eb5448994f66\",\"type\":\"Line\"},{\"attributes\":{\"plot\":{\"id\":\"bcd09f88-c0c1-4871-bdf7-e08102d8b149\",\"subtype\":\"Figure\",\"type\":\"Plot\"}},\"id\":\"7c6f0c8c-711e-4e4b-9967-f72cd73effd8\",\"type\":\"ResetTool\"},{\"attributes\":{\"data_source\":{\"id\":\"d8f22f97-e068-4928-91a0-f6ab326c767d\",\"type\":\"ColumnDataSource\"},\"glyph\":{\"id\":\"9fbc8a6c-2288-4292-bfee-866daf8ada21\",\"type\":\"Line\"},\"hover_glyph\":null,\"muted_glyph\":null,\"nonselection_glyph\":{\"id\":\"4acfab6b-0b50-4143-b3cd-421df67f8667\",\"type\":\"Line\"},\"selection_glyph\":null},\"id\":\"378e8275-9532-4460-9553-f28c93f32e18\",\"type\":\"GlyphRenderer\"},{\"attributes\":{\"fill_alpha\":{\"value\":0.1},\"fill_color\":{\"value\":\"#1f77b4\"},\"height\":{\"value\":0.3},\"left\":{\"value\":0.3577075098814229},\"line_alpha\":{\"value\":0.1},\"line_color\":{\"value\":\"#1f77b4\"},\"right\":{\"value\":0.45652173913043476},\"y\":{\"value\":1}},\"id\":\"c4243dfb-6abe-4de2-aef5-311f17eba431\",\"type\":\"HBar\"},{\"attributes\":{\"fill_alpha\":{\"value\":0.1},\"fill_color\":{\"value\":\"#1f77b4\"},\"height\":{\"value\":0.3},\"left\":{\"value\":-0.3264299802761341},\"line_alpha\":{\"value\":0.1},\"line_color\":{\"value\":\"#1f77b4\"},\"right\":{\"value\":0},\"y\":{\"value\":1}},\"id\":\"76cfd34e-2990-4b44-add3-fd2481306880\",\"type\":\"HBar\"},{\"attributes\":{},\"id\":\"bbc8efa4-a4be-46cd-8148-89db3955062f\",\"type\":\"BasicTicker\"},{\"attributes\":{\"above\":[{\"id\":\"8b78481f-c950-4a85-b72d-3b10b4d02af4\",\"type\":\"Title\"}],\"below\":[{\"id\":\"34ce8784-fffb-4703-94c0-f24ca096b7ea\",\"type\":\"LinearAxis\"}],\"left\":[{\"id\":\"65f4b8d9-fc8c-416a-945d-75eadd962059\",\"type\":\"LinearAxis\"}],\"plot_height\":300,\"plot_width\":400,\"renderers\":[{\"id\":\"34ce8784-fffb-4703-94c0-f24ca096b7ea\",\"type\":\"LinearAxis\"},{\"id\":\"504d2de9-2e97-4961-ad1f-f7852918235c\",\"type\":\"Grid\"},{\"id\":\"65f4b8d9-fc8c-416a-945d-75eadd962059\",\"type\":\"LinearAxis\"},{\"id\":\"15a32483-5041-4072-a89d-642dbf8c7365\",\"type\":\"Grid\"},{\"id\":\"8b78481f-c950-4a85-b72d-3b10b4d02af4\",\"type\":\"Title\"},{\"id\":\"a5e998a8-e6fe-4b0f-9bec-d5bec88b7845\",\"type\":\"GlyphRenderer\"}],\"title\":{\"id\":\"93bcacb7-53d7-469e-a653-c826439d5f4e\",\"type\":\"Title\"},\"tool_events\":{\"id\":\"179d4c8c-80a1-4529-bd2f-ebc0e5c1a2c7\",\"type\":\"ToolEvents\"},\"toolbar\":{\"id\":\"8027aa79-dfa1-4b25-9cfb-826721de2dbb\",\"type\":\"Toolbar\"},\"x_range\":{\"id\":\"edd01150-8006-47f1-bfe3-48f99d383aab\",\"type\":\"DataRange1d\"},\"x_scale\":{\"id\":\"31aace99-7484-416a-85a4-187e478fa563\",\"type\":\"LinearScale\"},\"y_range\":{\"id\":\"38b350bc-0cfe-429e-9cb7-1570dcbd196d\",\"type\":\"DataRange1d\"},\"y_scale\":{\"id\":\"3a27cc77-0b32-4d2d-93ad-20cbd673de27\",\"type\":\"LinearScale\"}},\"id\":\"8127eca2-01a0-4b93-a3a3-92ecdb1e7337\",\"subtype\":\"Figure\",\"type\":\"Plot\"},{\"attributes\":{\"bottom_units\":\"screen\",\"fill_alpha\":{\"value\":0.5},\"fill_color\":{\"value\":\"lightgrey\"},\"left_units\":\"screen\",\"level\":\"overlay\",\"line_alpha\":{\"value\":1.0},\"line_color\":{\"value\":\"black\"},\"line_dash\":[4,4],\"line_width\":{\"value\":2},\"plot\":null,\"render_mode\":\"css\",\"right_units\":\"screen\",\"top_units\":\"screen\"},\"id\":\"933bd657-7cfe-4ec6-93f9-5e9df2a188b6\",\"type\":\"BoxAnnotation\"},{\"attributes\":{\"plot\":{\"id\":\"e89e7816-c830-4716-9d19-a640392a3710\",\"subtype\":\"Figure\",\"type\":\"Plot\"}},\"id\":\"2bd906f5-afbb-46af-9181-d9ae4f312ef7\",\"type\":\"SaveTool\"},{\"attributes\":{\"line_color\":{\"value\":\"#AAB2A5\"},\"line_dash\":[6],\"line_width\":{\"value\":2},\"x\":{\"field\":\"x\"},\"y\":{\"field\":\"y\"}},\"id\":\"9fbc8a6c-2288-4292-bfee-866daf8ada21\",\"type\":\"Line\"},{\"attributes\":{},\"id\":\"6baf5fcd-4c7c-4d59-bcbf-6bfc7774e8a5\",\"type\":\"BasicTicker\"},{\"attributes\":{},\"id\":\"1158eabf-d896-4ce8-b3e2-987da75bef1c\",\"type\":\"BasicTicker\"},{\"attributes\":{},\"id\":\"ee2eb293-ec1f-4e07-8e62-872b62a04d22\",\"type\":\"BasicTicker\"},{\"attributes\":{\"active_drag\":\"auto\",\"active_inspect\":\"auto\",\"active_scroll\":\"auto\",\"active_tap\":\"auto\",\"tools\":[{\"id\":\"d1d3e7d2-7f79-4429-9a5c-0412a1f30112\",\"type\":\"HoverTool\"}]},\"id\":\"8027aa79-dfa1-4b25-9cfb-826721de2dbb\",\"type\":\"Toolbar\"},{\"attributes\":{\"fill_alpha\":{\"value\":0.1},\"fill_color\":{\"value\":\"#1f77b4\"},\"height\":{\"value\":0.3},\"line_alpha\":{\"value\":0.1},\"line_color\":{\"value\":\"#1f77b4\"},\"right\":{\"value\":0.3577075098814229},\"y\":{\"value\":1}},\"id\":\"015f584d-c01e-4e67-b7a9-a127900d6c8b\",\"type\":\"HBar\"},{\"attributes\":{\"above\":[{\"id\":\"d597c3f6-286a-494f-aeae-57a11b0a6dfc\",\"type\":\"Title\"}],\"below\":[{\"id\":\"bb88399d-dd72-4a83-a478-99646025f897\",\"type\":\"LinearAxis\"}],\"left\":[{\"id\":\"59a43edf-8e56-42fc-b3e7-705425a4ccc1\",\"type\":\"LinearAxis\"}],\"plot_height\":300,\"plot_width\":400,\"renderers\":[{\"id\":\"bb88399d-dd72-4a83-a478-99646025f897\",\"type\":\"LinearAxis\"},{\"id\":\"2a1e6679-6c68-4e46-a3ad-719712f76f99\",\"type\":\"Grid\"},{\"id\":\"59a43edf-8e56-42fc-b3e7-705425a4ccc1\",\"type\":\"LinearAxis\"},{\"id\":\"25338a36-f602-4a45-9f43-20dede59a8c7\",\"type\":\"Grid\"},{\"id\":\"d597c3f6-286a-494f-aeae-57a11b0a6dfc\",\"type\":\"Title\"},{\"id\":\"2c0f457d-876f-41e9-a063-98c127cdc7d3\",\"type\":\"GlyphRenderer\"}],\"title\":{\"id\":\"237d1749-3dd7-485d-93ce-66c7958dbccc\",\"type\":\"Title\"},\"tool_events\":{\"id\":\"31570410-8f4c-41c1-8156-9e257cc60bd5\",\"type\":\"ToolEvents\"},\"toolbar\":{\"id\":\"66c8df1e-427f-480b-988b-3a23fae901fb\",\"type\":\"Toolbar\"},\"x_range\":{\"id\":\"01c0485f-3e61-4e07-b993-fa693ea4f545\",\"type\":\"DataRange1d\"},\"x_scale\":{\"id\":\"ff7f22c3-0c31-44fd-a35c-4fc196a95371\",\"type\":\"LinearScale\"},\"y_range\":{\"id\":\"70ce8e52-ed56-4921-a084-fa6892cf6db3\",\"type\":\"DataRange1d\"},\"y_scale\":{\"id\":\"08051934-cc3f-4e4c-a591-bb53cffab8cc\",\"type\":\"LinearScale\"}},\"id\":\"559cdff0-9c23-400a-892c-fb1759d29688\",\"subtype\":\"Figure\",\"type\":\"Plot\"},{\"attributes\":{\"fill_color\":{\"field\":\"colors\"},\"line_color\":{\"field\":\"colors\"},\"top\":{\"field\":\"pct\"},\"width\":{\"value\":0.6},\"x\":{\"field\":\"index\"}},\"id\":\"1c4a7dc4-403f-4663-971f-036373dd1f89\",\"type\":\"VBar\"},{\"attributes\":{},\"id\":\"11a50b3d-61ea-4753-826e-77e851b52aa7\",\"type\":\"LinearScale\"},{\"attributes\":{\"plot\":{\"id\":\"bcd09f88-c0c1-4871-bdf7-e08102d8b149\",\"subtype\":\"Figure\",\"type\":\"Plot\"}},\"id\":\"79e3e69c-d5b8-4f1e-a2c5-0b3b206520ed\",\"type\":\"SaveTool\"},{\"attributes\":{\"dimension\":1,\"grid_line_color\":{\"value\":null},\"plot\":{\"id\":\"bcd09f88-c0c1-4871-bdf7-e08102d8b149\",\"subtype\":\"Figure\",\"type\":\"Plot\"},\"ticker\":{\"id\":\"3be524ca-8840-4b2e-88f8-f065f6144fe8\",\"type\":\"BasicTicker\"}},\"id\":\"5a6c09bf-4189-4f94-81fe-93d97bbeacc3\",\"type\":\"Grid\"},{\"attributes\":{},\"id\":\"a35a8074-4cee-42eb-9840-1306b92e2b08\",\"type\":\"BasicTickFormatter\"},{\"attributes\":{\"callback\":null,\"column_names\":[\"x\",\"y\"],\"data\":{\"x\":[0,0],\"y\":[0.5,1.5]}},\"id\":\"3bbb62fa-54c8-47f2-88e5-06c9dd2b78af\",\"type\":\"ColumnDataSource\"},{\"attributes\":{\"data_source\":{\"id\":\"2eaea661-0873-4a1b-b149-1e98a1197f4f\",\"type\":\"ColumnDataSource\"},\"glyph\":{\"id\":\"0916c760-edf9-4676-b197-0a868d96db0e\",\"type\":\"Line\"},\"hover_glyph\":null,\"muted_glyph\":null,\"nonselection_glyph\":{\"id\":\"5af7a22b-8436-420d-84a4-07ee985848e9\",\"type\":\"Line\"},\"selection_glyph\":null},\"id\":\"84452b46-0f3e-4041-9909-e1edcc57b142\",\"type\":\"GlyphRenderer\"},{\"attributes\":{\"data_source\":{\"id\":\"c33a3095-edb6-4531-807b-b4daf4db4b30\",\"type\":\"ColumnDataSource\"},\"glyph\":{\"id\":\"dc034691-ab29-4046-8e60-3d117c0ef356\",\"type\":\"HBar\"},\"hover_glyph\":null,\"muted_glyph\":null,\"nonselection_glyph\":{\"id\":\"aa26bd77-b672-497e-a64d-28ab02301170\",\"type\":\"HBar\"},\"selection_glyph\":null},\"id\":\"24ceb576-e95f-4d78-bde2-55caa19d97ca\",\"type\":\"GlyphRenderer\"},{\"attributes\":{\"data_source\":{\"id\":\"3a4f96a8-c1ae-442b-9bca-26613e857f10\",\"type\":\"ColumnDataSource\"},\"glyph\":{\"id\":\"0a543184-4cf3-4d07-8e75-0b9c5a10e441\",\"type\":\"HBar\"},\"hover_glyph\":null,\"muted_glyph\":null,\"nonselection_glyph\":{\"id\":\"d040cf30-ec4a-4bd0-8797-a37ccd6f703e\",\"type\":\"HBar\"},\"selection_glyph\":null},\"id\":\"3df6eaa1-a464-41da-8022-ef799bb06dc9\",\"type\":\"GlyphRenderer\"},{\"attributes\":{\"line_color\":{\"value\":\"#AAB2A5\"},\"line_dash\":[6],\"line_width\":{\"value\":2},\"x\":{\"field\":\"x\"},\"y\":{\"field\":\"y\"}},\"id\":\"906711e7-49d6-4195-8265-83b91f81f20e\",\"type\":\"Line\"},{\"attributes\":{\"fill_color\":{\"value\":\"#E4E02C\"},\"height\":{\"value\":0.3},\"left\":{\"value\":0.3577075098814229},\"line_color\":{\"value\":\"#E4E02C\"},\"right\":{\"value\":0.45652173913043476},\"y\":{\"value\":1}},\"id\":\"93831ca8-13c9-43e4-8233-6e0eac6bb372\",\"type\":\"HBar\"},{\"attributes\":{\"callback\":null,\"column_names\":[\"x\",\"y\"],\"data\":{\"x\":[0.41913214990138065,0.41913214990138065],\"y\":[0.5,1.5]}},\"id\":\"e8b2228a-f7ca-4a4b-8bf0-cce1c9b48f1c\",\"type\":\"ColumnDataSource\"},{\"attributes\":{\"data_source\":{\"id\":\"2dacdd09-b162-413e-aca2-f2f017450ebd\",\"type\":\"ColumnDataSource\"},\"glyph\":{\"id\":\"724f41ed-048a-4dc9-8733-7746dbec403b\",\"type\":\"HBar\"},\"hover_glyph\":null,\"muted_glyph\":null,\"nonselection_glyph\":{\"id\":\"138e8398-eeed-41d2-b772-a933775972ec\",\"type\":\"HBar\"},\"selection_glyph\":null},\"id\":\"d97ec619-d07f-454f-b225-975296256db1\",\"type\":\"GlyphRenderer\"},{\"attributes\":{\"formatter\":{\"id\":\"83647a39-db12-47ce-9556-9ec6dc96633d\",\"type\":\"BasicTickFormatter\"},\"plot\":{\"id\":\"bcd09f88-c0c1-4871-bdf7-e08102d8b149\",\"subtype\":\"Figure\",\"type\":\"Plot\"},\"ticker\":{\"id\":\"3be524ca-8840-4b2e-88f8-f065f6144fe8\",\"type\":\"BasicTicker\"},\"visible\":false},\"id\":\"5ed57089-b685-44ae-b930-dc67f8dc27f4\",\"type\":\"LinearAxis\"},{\"attributes\":{\"line_color\":{\"value\":\"#AAB2A5\"},\"line_dash\":[6],\"line_width\":{\"value\":2},\"x\":{\"field\":\"x\"},\"y\":{\"field\":\"y\"}},\"id\":\"0b0cf12c-d2c3-4265-8eb2-33ec30906353\",\"type\":\"Line\"},{\"attributes\":{\"formatter\":{\"id\":\"a35a8074-4cee-42eb-9840-1306b92e2b08\",\"type\":\"BasicTickFormatter\"},\"plot\":{\"id\":\"8127eca2-01a0-4b93-a3a3-92ecdb1e7337\",\"subtype\":\"Figure\",\"type\":\"Plot\"},\"ticker\":{\"id\":\"ee2eb293-ec1f-4e07-8e62-872b62a04d22\",\"type\":\"BasicTicker\"}},\"id\":\"34ce8784-fffb-4703-94c0-f24ca096b7ea\",\"type\":\"LinearAxis\"},{\"attributes\":{\"fill_color\":{\"value\":\"#E43216\"},\"height\":{\"value\":0.3},\"left\":{\"value\":-0.388560157790927},\"line_color\":{\"value\":\"#E43216\"},\"right\":{\"value\":-0.3865877712031558},\"y\":{\"value\":1}},\"id\":\"724f41ed-048a-4dc9-8733-7746dbec403b\",\"type\":\"HBar\"},{\"attributes\":{\"data_source\":{\"id\":\"a6a5bb00-912e-447f-be41-1ac4c602a975\",\"type\":\"ColumnDataSource\"},\"glyph\":{\"id\":\"304a04ea-b0ad-4f0c-8414-eb5448994f66\",\"type\":\"Line\"},\"hover_glyph\":null,\"muted_glyph\":null,\"nonselection_glyph\":{\"id\":\"a7906f6c-7867-41e4-8843-f95fe5dceeeb\",\"type\":\"Line\"},\"selection_glyph\":null},\"id\":\"fa830bca-99d6-4029-802d-cbd8e0295097\",\"type\":\"GlyphRenderer\"},{\"attributes\":{\"plot\":null,\"text\":\"\"},\"id\":\"66555c9b-6f90-407a-b322-9781d490d678\",\"type\":\"Title\"},{\"attributes\":{\"line_color\":{\"value\":\"#AAB2A5\"},\"line_dash\":[6],\"line_width\":{\"value\":2},\"x\":{\"field\":\"x\"},\"y\":{\"field\":\"y\"}},\"id\":\"f5aeb274-8a44-446f-9009-eb8773d1b898\",\"type\":\"Line\"},{\"attributes\":{\"line_color\":{\"value\":\"#AAB2A5\"},\"line_dash\":[6],\"line_width\":{\"value\":2},\"x\":{\"field\":\"x\"},\"y\":{\"field\":\"y\"}},\"id\":\"01b97d9a-7bb1-47df-9934-5bcdc1c53965\",\"type\":\"Line\"},{\"attributes\":{\"callback\":null,\"column_names\":[\"thresholds\",\"colors\",\"pct\",\"index\"],\"data\":{\"colors\":[\"#459E0F\",\"#E4E02C\",\"#E43216\"],\"index\":[0,1,2],\"pct\":{\"__ndarray__\":\"4vPHHKXb5z8apEEapEHKP3wxesodP6k/\",\"dtype\":\"float64\",\"shape\":[3]},\"thresholds\":[\"green\",\"yellow\",\"red\"]}},\"id\":\"b810f416-efd0-46f5-8474-4c0b2490ab2b\",\"type\":\"ColumnDataSource\"},{\"attributes\":{\"plot\":null,\"text\":\"\"},\"id\":\"237d1749-3dd7-485d-93ce-66c7958dbccc\",\"type\":\"Title\"},{\"attributes\":{\"fill_alpha\":{\"value\":0.1},\"fill_color\":{\"value\":\"#1f77b4\"},\"height\":{\"value\":0.3},\"left\":{\"value\":-0.4871541501976285},\"line_alpha\":{\"value\":0.1},\"line_color\":{\"value\":\"#1f77b4\"},\"right\":{\"value\":-0.47529644268774707},\"y\":{\"value\":1}},\"id\":\"aa26bd77-b672-497e-a64d-28ab02301170\",\"type\":\"HBar\"},{\"attributes\":{\"data_source\":{\"id\":\"3bbb62fa-54c8-47f2-88e5-06c9dd2b78af\",\"type\":\"ColumnDataSource\"},\"glyph\":{\"id\":\"f0142cba-d220-4585-9c87-9a08b5dbfa21\",\"type\":\"Line\"},\"hover_glyph\":null,\"muted_glyph\":null,\"nonselection_glyph\":{\"id\":\"ce1e03f0-023b-49a9-9b9a-f44092f48268\",\"type\":\"Line\"},\"selection_glyph\":null},\"id\":\"c71f6844-a8b2-4c7a-87e2-a03cacb83db0\",\"type\":\"GlyphRenderer\"},{\"attributes\":{\"callback\":null},\"id\":\"70ce8e52-ed56-4921-a084-fa6892cf6db3\",\"type\":\"DataRange1d\"},{\"attributes\":{\"bottom_units\":\"screen\",\"fill_alpha\":{\"value\":0.5},\"fill_color\":{\"value\":\"lightgrey\"},\"left_units\":\"screen\",\"level\":\"overlay\",\"line_alpha\":{\"value\":1.0},\"line_color\":{\"value\":\"black\"},\"line_dash\":[4,4],\"line_width\":{\"value\":2},\"plot\":null,\"render_mode\":\"css\",\"right_units\":\"screen\",\"top_units\":\"screen\"},\"id\":\"c68b25bd-9e70-4d46-b086-96dc50422884\",\"type\":\"BoxAnnotation\"},{\"attributes\":{},\"id\":\"d78bd7af-5484-4448-a150-dd6cf98722ed\",\"type\":\"BasicTickFormatter\"},{\"attributes\":{\"dimension\":1,\"grid_line_color\":{\"value\":null},\"plot\":{\"id\":\"e89e7816-c830-4716-9d19-a640392a3710\",\"subtype\":\"Figure\",\"type\":\"Plot\"},\"ticker\":{\"id\":\"34fdb770-6846-417f-8323-4dca1023b6c5\",\"type\":\"BasicTicker\"}},\"id\":\"d7eecf5f-bdf3-4fd2-8aeb-a9b0ace9e8a2\",\"type\":\"Grid\"},{\"attributes\":{},\"id\":\"4dd9c48b-d672-4e9e-8f44-7c39bf03a9ff\",\"type\":\"BasicTicker\"},{\"attributes\":{},\"id\":\"53a01dcd-f176-46e2-a2ea-dd796c426dc7\",\"type\":\"BasicTickFormatter\"},{\"attributes\":{\"fill_alpha\":{\"value\":0.1},\"fill_color\":{\"value\":\"#1f77b4\"},\"height\":{\"value\":0.3},\"left\":{\"value\":0.45652173913043476},\"line_alpha\":{\"value\":0.1},\"line_color\":{\"value\":\"#1f77b4\"},\"right\":{\"value\":0.5128458498023715},\"y\":{\"value\":1}},\"id\":\"6822db35-7924-4cfa-bb74-44d0e3c42598\",\"type\":\"HBar\"},{\"attributes\":{\"formatter\":{\"id\":\"d78bd7af-5484-4448-a150-dd6cf98722ed\",\"type\":\"BasicTickFormatter\"},\"plot\":{\"id\":\"559cdff0-9c23-400a-892c-fb1759d29688\",\"subtype\":\"Figure\",\"type\":\"Plot\"},\"ticker\":{\"id\":\"69cf9614-6563-4ac2-9a3e-cb17303b1e84\",\"type\":\"BasicTicker\"}},\"id\":\"59a43edf-8e56-42fc-b3e7-705425a4ccc1\",\"type\":\"LinearAxis\"},{\"attributes\":{\"fill_color\":{\"value\":\"#459E0F\"},\"height\":{\"value\":0.3},\"line_color\":{\"value\":\"#459E0F\"},\"right\":{\"value\":0.3577075098814229},\"y\":{\"value\":1}},\"id\":\"e181e7f9-61d7-4bba-9581-517ae6d3a29c\",\"type\":\"HBar\"},{\"attributes\":{\"data_source\":{\"id\":\"3c9e6463-c9fa-410d-922c-3c9dddcdacc8\",\"type\":\"ColumnDataSource\"},\"glyph\":{\"id\":\"0f6ff582-7bcd-44af-9675-ff294ef11933\",\"type\":\"VBar\"},\"hover_glyph\":null,\"muted_glyph\":null,\"nonselection_glyph\":{\"id\":\"3d72039b-9208-4d22-802b-b82d2be1ef58\",\"type\":\"VBar\"},\"selection_glyph\":null},\"id\":\"a5e998a8-e6fe-4b0f-9bec-d5bec88b7845\",\"type\":\"GlyphRenderer\"},{\"attributes\":{\"callback\":null,\"column_names\":[\"thresholds\",\"colors\",\"pct\",\"index\"],\"data\":{\"colors\":[\"#459E0F\",\"#E4E02C\",\"#E43216\"],\"index\":[0,1,2],\"pct\":{\"__ndarray__\":\"oIqD1pyJ6D/G7E4aXh/FP3TRRRdddLE/\",\"dtype\":\"float64\",\"shape\":[3]},\"thresholds\":[\"green\",\"yellow\",\"red\"]}},\"id\":\"3c9e6463-c9fa-410d-922c-3c9dddcdacc8\",\"type\":\"ColumnDataSource\"},{\"attributes\":{\"callback\":null,\"data\":{}},\"id\":\"c28ab7f0-5fb2-4a62-bfee-a0923f7d09df\",\"type\":\"ColumnDataSource\"},{\"attributes\":{\"callback\":null,\"end\":2},\"id\":\"37b825bf-3d42-4af9-a6ea-c4ea2ae93618\",\"type\":\"Range1d\"},{\"attributes\":{\"align\":\"center\",\"plot\":{\"id\":\"e89e7816-c830-4716-9d19-a640392a3710\",\"subtype\":\"Figure\",\"type\":\"Plot\"},\"text\":\"Rush/delays within time thresholds pick up\"},\"id\":\"20cf26f4-516a-47d8-ac12-83b3207ddf54\",\"type\":\"Title\"},{\"attributes\":{\"callback\":null,\"data\":{}},\"id\":\"84156fc7-264d-4a2f-9c0b-c43e779c0a07\",\"type\":\"ColumnDataSource\"},{\"attributes\":{\"active_drag\":\"auto\",\"active_inspect\":\"auto\",\"active_scroll\":\"auto\",\"active_tap\":\"auto\",\"tools\":[{\"id\":\"3124a5c1-fbe8-45f7-aa64-030ecf2d5c4a\",\"type\":\"HoverTool\"}]},\"id\":\"66c8df1e-427f-480b-988b-3a23fae901fb\",\"type\":\"Toolbar\"},{\"attributes\":{\"callback\":null},\"id\":\"872e9e04-9e6c-4d5b-a729-0671d1b4ee29\",\"type\":\"DataRange1d\"},{\"attributes\":{\"line_alpha\":{\"value\":0.1},\"line_color\":{\"value\":\"#1f77b4\"},\"line_dash\":[6],\"line_width\":{\"value\":2},\"x\":{\"field\":\"x\"},\"y\":{\"field\":\"y\"}},\"id\":\"40c1a069-d57c-44c0-b50b-87c70d27c4bc\",\"type\":\"Line\"},{\"attributes\":{\"align\":\"center\",\"plot\":{\"id\":\"bcd09f88-c0c1-4871-bdf7-e08102d8b149\",\"subtype\":\"Figure\",\"type\":\"Plot\"},\"text\":\"Rush/delays within time thresholds drop off\"},\"id\":\"891f17d5-4b13-4452-bf2a-81a8943f5d44\",\"type\":\"Title\"},{\"attributes\":{\"above\":[{\"id\":\"891f17d5-4b13-4452-bf2a-81a8943f5d44\",\"type\":\"Title\"}],\"below\":[{\"id\":\"f3821dfd-7203-47e2-80a0-4a58f87aa387\",\"type\":\"LinearAxis\"}],\"left\":[{\"id\":\"5ed57089-b685-44ae-b930-dc67f8dc27f4\",\"type\":\"LinearAxis\"}],\"plot_height\":300,\"plot_width\":400,\"renderers\":[{\"id\":\"f3821dfd-7203-47e2-80a0-4a58f87aa387\",\"type\":\"LinearAxis\"},{\"id\":\"a5d70e0e-3073-49e3-8af3-5ac6005313e7\",\"type\":\"Grid\"},{\"id\":\"5ed57089-b685-44ae-b930-dc67f8dc27f4\",\"type\":\"LinearAxis\"},{\"id\":\"5a6c09bf-4189-4f94-81fe-93d97bbeacc3\",\"type\":\"Grid\"},{\"id\":\"c68b25bd-9e70-4d46-b086-96dc50422884\",\"type\":\"BoxAnnotation\"},{\"id\":\"2b724a8e-2bf9-44b1-8850-77dfed1c5f67\",\"type\":\"GlyphRenderer\"},{\"id\":\"dd97dfb6-f829-4bae-a2da-cbf43ae6a8c7\",\"type\":\"GlyphRenderer\"},{\"id\":\"234029e4-69b2-4c4d-b0c1-24e8852ce2dc\",\"type\":\"GlyphRenderer\"},{\"id\":\"f8b7071c-1341-4e5e-8737-dc75dff23bd3\",\"type\":\"GlyphRenderer\"},{\"id\":\"24ceb576-e95f-4d78-bde2-55caa19d97ca\",\"type\":\"GlyphRenderer\"},{\"id\":\"378e8275-9532-4460-9553-f28c93f32e18\",\"type\":\"GlyphRenderer\"},{\"id\":\"10b1651f-1e8e-479f-b35e-bbaeaad178bb\",\"type\":\"GlyphRenderer\"},{\"id\":\"6831b99c-6fae-4b96-899a-eedbfe8efa60\",\"type\":\"GlyphRenderer\"},{\"id\":\"06601488-8ae0-48e4-9e49-e6298bef067f\",\"type\":\"GlyphRenderer\"},{\"id\":\"574d38d3-badd-49ce-a569-049c23fe25b6\",\"type\":\"GlyphRenderer\"},{\"id\":\"450257ea-8bc3-4c59-b1dd-c01a34758561\",\"type\":\"GlyphRenderer\"},{\"id\":\"5c4c6676-193c-4e5e-bd95-09decda0a53b\",\"type\":\"GlyphRenderer\"},{\"id\":\"891f17d5-4b13-4452-bf2a-81a8943f5d44\",\"type\":\"Title\"}],\"title\":{\"id\":\"66555c9b-6f90-407a-b322-9781d490d678\",\"type\":\"Title\"},\"tool_events\":{\"id\":\"f85dff0d-78d3-4f05-85f5-edf43fded0fc\",\"type\":\"ToolEvents\"},\"toolbar\":{\"id\":\"3f2b1567-9477-4894-8ddc-f93fd3ab9307\",\"type\":\"Toolbar\"},\"x_range\":{\"id\":\"872e9e04-9e6c-4d5b-a729-0671d1b4ee29\",\"type\":\"DataRange1d\"},\"x_scale\":{\"id\":\"abc27e7a-94f5-4b2a-9585-42dcd8d650c4\",\"type\":\"LinearScale\"},\"y_range\":{\"id\":\"37b825bf-3d42-4af9-a6ea-c4ea2ae93618\",\"type\":\"Range1d\"},\"y_scale\":{\"id\":\"04562de5-2ff9-4229-aad7-a1537c05c6a7\",\"type\":\"LinearScale\"}},\"id\":\"bcd09f88-c0c1-4871-bdf7-e08102d8b149\",\"subtype\":\"Figure\",\"type\":\"Plot\"}],\"root_ids\":[\"2a0f0618-d5ef-438a-af63-cbaf146444a1\"]},\"title\":\"Bokeh Application\",\"version\":\"0.12.6\"}};\n",
       "            var render_items = [{\"docid\":\"593ee184-ccb6-4fba-a6b3-a26fd93307bd\",\"elementid\":\"cdf6249d-1e1a-4974-b9cd-9e8ea0d3e228\",\"modelid\":\"2a0f0618-d5ef-438a-af63-cbaf146444a1\"}];\n",
       "            \n",
       "            Bokeh.embed.embed_items(docs_json, render_items);\n",
       "          };\n",
       "          if (document.readyState != \"loading\") fn();\n",
       "          else document.addEventListener(\"DOMContentLoaded\", fn);\n",
       "        })();\n",
       "      },\n",
       "      function(Bokeh) {\n",
       "      }\n",
       "    ];\n",
       "  \n",
       "    function run_inline_js() {\n",
       "      \n",
       "      if ((window.Bokeh !== undefined) || (force === true)) {\n",
       "        for (var i = 0; i < inline_js.length; i++) {\n",
       "          inline_js[i](window.Bokeh);\n",
       "        }if (force === true) {\n",
       "          display_loaded();\n",
       "        }} else if (Date.now() < window._bokeh_timeout) {\n",
       "        setTimeout(run_inline_js, 100);\n",
       "      } else if (!window._bokeh_failed_load) {\n",
       "        console.log(\"Bokeh: BokehJS failed to load within specified timeout.\");\n",
       "        window._bokeh_failed_load = true;\n",
       "      } else if (force !== true) {\n",
       "        var cell = $(document.getElementById(\"cdf6249d-1e1a-4974-b9cd-9e8ea0d3e228\")).parents('.cell').data().cell;\n",
       "        cell.output_area.append_execute_result(NB_LOAD_WARNING)\n",
       "      }\n",
       "  \n",
       "    }\n",
       "  \n",
       "    if (window._bokeh_is_loading === 0) {\n",
       "      console.log(\"Bokeh: BokehJS loaded, going straight to plotting\");\n",
       "      run_inline_js();\n",
       "    } else {\n",
       "      load_libs(js_urls, function() {\n",
       "        console.log(\"Bokeh: BokehJS plotting callback run at\", now());\n",
       "        run_inline_js();\n",
       "      });\n",
       "    }\n",
       "  }(this));\n",
       "</script>"
      ]
     },
     "metadata": {},
     "output_type": "display_data"
    }
   ],
   "source": [
    "#Using plotting functions\n",
    "time_threshold_pick_up_plot = plot_horizontal_time_thresholds(threshold_pick_up, 400, 300, 'pct', 'colors', \n",
    "                                                 \"Rush/delays within time thresholds pick up\")\n",
    "within_thresholds_pick_up_plot = plot_total_pct_thresholds(within_thresh_pick_up, 400, 300, \"index\", \"pct\", \"colors\", \n",
    "                                              \"Total percentage within thresholds pick up\")\n",
    "time_threshold_drop_off_plot = plot_horizontal_time_thresholds(threshold_drop_off, 400, 300, 'pct', 'colors', \n",
    "                                                 \"Rush/delays within time thresholds drop off\")\n",
    "time_threshold_drop_off_plot.x_range = time_threshold_pick_up_plot.x_range\n",
    "within_thresholds_drop_off_plot = plot_total_pct_thresholds(within_thresh_drop_off, 400, 300, \"index\", \"pct\", \"colors\", \n",
    "                                              \"Total percentage within thresholds drop off\")\n",
    "threshold_pick_up_plots = row(time_threshold_pick_up_plot, within_thresholds_pick_up_plot)\n",
    "threshold_drop_off_plots = row(time_threshold_drop_off_plot, within_thresholds_drop_off_plot)\n",
    "\n",
    "show(column(Div(text=\"<h1 style='margin-left:200px;margin-right:-400px;margin-bottom:18px;font-size:20px;\\\n",
    "                color:#7D7575'> Time thresholds for pick ups / drop offs </h1>\"),\n",
    "            column(threshold_pick_up_plots, threshold_drop_off_plots)))\n"
   ]
  },
  {
   "cell_type": "markdown",
   "metadata": {},
   "source": [
    "As observed in the previous plots, most of the ally shuttle pick ups and drop off occur within the 3 minute threshold. Note, still, that there is 20.5% pick ups that occur in the \"yellow\" area. From this, there approximately 14.5% happen because the pick up is delayed. This gives the company wiggle room to improve on. \n",
    "\n",
    "However, all in all, given the last update, the company seems to be doing well and mostly in the 3 minute zone. \n",
    "\n",
    "Note, however, that our analysis so far has been restricted to the last update of expected time shown to the user. There are reasons to believe that the closer the update to the actual pick up or drop off time, chances are that the differences between expected and actual time will not be significant. \n",
    "\n",
    "In what follows we will perform a more stringent analysis. We will determine what is the actual difference between first expected time shown to the user when he/she first booked a ride and the actual time ally shuttle showed up. There are important reasons to believe that customer experience changes when from the start they are given reliable waiting times. If the expected time changes drastically each update, this can affect service quality."
   ]
  },
  {
   "cell_type": "markdown",
   "metadata": {},
   "source": [
    "### First expected time vs. actual time \n",
    "\n",
    "In what follows we will perform the analysis of expected time when booking vs. actual time. This differences will show us how good is ally shuttle at keeping the first expected time it promises to the customers. The better these first expected times are calculated, the better the service will be. Also, from the operations point, it would lead to better scheduling and planning. "
   ]
  },
  {
   "cell_type": "code",
   "execution_count": 28,
   "metadata": {
    "collapsed": true
   },
   "outputs": [],
   "source": [
    "first_pick_up = pick_drop.sort_values(by=[\"datetime_utc_berlin\", \"type\"], \n",
    "                                           ascending=[True, False]).groupby('booking_id').agg(lambda x: x.iloc[0]).reset_index()\n",
    "first_drop = pick_drop.sort_values(by=[ \"type\", \"datetime_utc_berlin\"], \n",
    "                                           ascending=[True, True]).groupby('booking_id').agg(lambda x: x.iloc[0]).reset_index()"
   ]
  },
  {
   "cell_type": "code",
   "execution_count": 29,
   "metadata": {
    "collapsed": true
   },
   "outputs": [],
   "source": [
    "first_pick_up_drop_long = pd.concat([first_pick_up, first_drop], ignore_index=True)"
   ]
  },
  {
   "cell_type": "code",
   "execution_count": 30,
   "metadata": {
    "collapsed": true
   },
   "outputs": [],
   "source": [
    "est_act_time_first = pd.merge(first_pick_up_drop_long, exp_act_time[['actual_time_utc_berlin', 'estimated_time_utc_berlin', 'type', 'status', 'booking_id']], \n",
    "        on=[\"type\", \"booking_id\"], suffixes=[\"_first\", \"_actual\"])"
   ]
  },
  {
   "cell_type": "markdown",
   "metadata": {},
   "source": [
    "### Differences between first estimated time and last estimated time\n",
    "\n",
    "Before looking at the difference between first estimated time and aactual time of the service, it is important to see if there are actually differences between the estimated times shown to the user. This will gives us an indication of how stable these estimated times actually are and what are the magnitude of their variation."
   ]
  },
  {
   "cell_type": "code",
   "execution_count": 31,
   "metadata": {
    "collapsed": true
   },
   "outputs": [],
   "source": [
    "est_act_time_first.loc[:,\"time_diff_first_last_est\"] = est_act_time_first.apply(diff, t1='estimated_time_utc_berlin_actual', t2='estimated_time_utc_berlin_first', axis=1)\n",
    "est_act_time_first[\"time_diff_first_last_est_min\"] = est_act_time_first[\"time_diff_first_last_est\"] / 60.0"
   ]
  },
  {
   "cell_type": "code",
   "execution_count": 32,
   "metadata": {},
   "outputs": [
    {
     "name": "stdout",
     "output_type": "stream",
     "text": [
      "Total difference (hours): 21.273\n",
      "Average (seconds): 37.800\n",
      "Standard deviation (seconds): 188.112\n"
     ]
    }
   ],
   "source": [
    "print_stats(est_act_time_first,\"time_diff_first_last_est\")"
   ]
  },
  {
   "cell_type": "code",
   "execution_count": 33,
   "metadata": {},
   "outputs": [
    {
     "data": {
      "image/png": "[encoded data removed]",
      "text/plain": [
       "<matplotlib.figure.Figure at 0x111605978>"
      ]
     },
     "metadata": {},
     "output_type": "display_data"
    }
   ],
   "source": [
    "#Plotting distribution of firs expected vs. last expected\n",
    "fig, ax = plt.subplots(figsize=(10,5))\n",
    "sns.distplot(est_act_time_first[\"time_diff_first_last_est_min\"], kde=False, ax=ax)\n",
    "ax.set_xlabel(\"Time difference\")\n",
    "ax.set_ylabel(\"Counts minutes\")\n",
    "ax.set_title(\"Distribution of difference \\n First and Last Expected time (minutes)\")\n",
    "ax.axvline(0, color=\"#44999E\", linestyle='--');"
   ]
  },
  {
   "cell_type": "markdown",
   "metadata": {},
   "source": [
    "The distribution plotted above shows that most of the distribution falls in the zero region. This means that, while there are differences due to updates in expected times, in general, there is a good quantity where there are no differences (meaning no updates) between first shown expected time and last expected time. In approximately 55% of the cases there is no difference between these two times. For the rest of the cases, we can see that cases above and below follow closely the same distribution. The only differences is that cases where the differences between these two times are positive (i.e., last expected time later than first expected time) shows more extreme values (maximum value 41 minutes difference)."
   ]
  },
  {
   "cell_type": "markdown",
   "metadata": {},
   "source": [
    "### Diferences between first estimated time and actual time of service"
   ]
  },
  {
   "cell_type": "code",
   "execution_count": 34,
   "metadata": {
    "collapsed": true
   },
   "outputs": [],
   "source": [
    "est_act_time_first.loc[:,\"time_diff_first_est_act\"] = est_act_time_first.apply(diff, t1='actual_time_utc_berlin_actual', t2='estimated_time_utc_berlin_first', axis=1)\n",
    "est_act_time_first[\"time_diff_first_est_act_min\"] = est_act_time_first[\"time_diff_first_est_act\"] / 60.0\n"
   ]
  },
  {
   "cell_type": "code",
   "execution_count": 35,
   "metadata": {},
   "outputs": [
    {
     "name": "stdout",
     "output_type": "stream",
     "text": [
      "Differences between Actual time and Last Expected Time\n",
      "Total difference (hours): 31.382\n",
      "Average (seconds): 55.762\n",
      "Standard deviation (seconds): 254.066\n",
      "============================================================\n",
      "Differences between Actual time and First Expected Time\n",
      "Total difference (hours): 52.655\n",
      "Average (seconds): 93.562\n",
      "Standard deviation (seconds): 323.879\n"
     ]
    }
   ],
   "source": [
    "print(\"Differences between Actual time and Last Expected Time\")\n",
    "print_stats(exp_act_time,\"time_diff\")\n",
    "print(\"=\"*60)\n",
    "print(\"Differences between Actual time and First Expected Time\")\n",
    "print_stats(est_act_time_first,\"time_diff_first_est_act\")"
   ]
  },
  {
   "cell_type": "markdown",
   "metadata": {},
   "source": [
    "For the sake of comparison, we have printed above the statistics of our previous analysis where we only compared last expected time vs. actual time. As it is possible to see, when taking the first expected time the user sees, the differences become larger. We can see almost a 20 hour difference between the total time. Also, the average increases approximately in 67% and the standard deviation also becomes wider.\n",
    "\n",
    "In order to get a better picture of these results, we will plot the distribution of the differences."
   ]
  },
  {
   "cell_type": "code",
   "execution_count": 36,
   "metadata": {},
   "outputs": [
    {
     "data": {
      "image/png": "[encoded data removed]",
      "text/plain": [
       "<matplotlib.figure.Figure at 0x1151af128>"
      ]
     },
     "metadata": {},
     "output_type": "display_data"
    }
   ],
   "source": [
    "#Plotting distribution of firs expected vs. last expected\n",
    "fig, ax = plt.subplots(figsize=(10,5))\n",
    "sns.distplot(est_act_time_first[\"time_diff_first_est_act_min\"], kde=False, ax=ax)\n",
    "ax.set_xlabel(\"Time difference\")\n",
    "ax.set_ylabel(\"Counts minutes\")\n",
    "ax.set_title(\"Distribution of difference \\n First and Actual time (minutes)\")\n",
    "ax.axvline(0, color=\"#44999E\", linestyle='--');"
   ]
  },
  {
   "cell_type": "markdown",
   "metadata": {},
   "source": [
    "In comparison to the last expected time, when considering the differences between first expected time and actual time we can see that the distribution gets wider. In particular, there is more density in values over the 10 minutes mark as before. "
   ]
  },
  {
   "cell_type": "code",
   "execution_count": 37,
   "metadata": {
    "collapsed": true
   },
   "outputs": [],
   "source": [
    "threshold_est_act_time_first =  get_thresholds_groups(est_act_time_first, \"time_diff_first_est_act_min\")\n",
    "within_threshold_est_act_time_first  = get_region_threshold_groups(threshold_est_act_time_first, \"colors\")"
   ]
  },
  {
   "cell_type": "code",
   "execution_count": 35,
   "metadata": {},
   "outputs": [
    {
     "data": {
      "text/html": [
       "\n",
       "\n",
       "    <div class=\"bk-root\">\n",
       "        <div class=\"bk-plotdiv\" id=\"959a9932-38ba-42da-b0e3-fbc44e5667e7\"></div>\n",
       "    </div>\n",
       "<script type=\"text/javascript\">\n",
       "  \n",
       "  (function(global) {\n",
       "    function now() {\n",
       "      return new Date();\n",
       "    }\n",
       "  \n",
       "    var force = false;\n",
       "  \n",
       "    if (typeof (window._bokeh_onload_callbacks) === \"undefined\" || force === true) {\n",
       "      window._bokeh_onload_callbacks = [];\n",
       "      window._bokeh_is_loading = undefined;\n",
       "    }\n",
       "  \n",
       "  \n",
       "    \n",
       "    if (typeof (window._bokeh_timeout) === \"undefined\" || force === true) {\n",
       "      window._bokeh_timeout = Date.now() + 0;\n",
       "      window._bokeh_failed_load = false;\n",
       "    }\n",
       "  \n",
       "    var NB_LOAD_WARNING = {'data': {'text/html':\n",
       "       \"<div style='background-color: #fdd'>\\n\"+\n",
       "       \"<p>\\n\"+\n",
       "       \"BokehJS does not appear to have successfully loaded. If loading BokehJS from CDN, this \\n\"+\n",
       "       \"may be due to a slow or bad network connection. Possible fixes:\\n\"+\n",
       "       \"</p>\\n\"+\n",
       "       \"<ul>\\n\"+\n",
       "       \"<li>re-rerun `output_notebook()` to attempt to load from CDN again, or</li>\\n\"+\n",
       "       \"<li>use INLINE resources instead, as so:</li>\\n\"+\n",
       "       \"</ul>\\n\"+\n",
       "       \"<code>\\n\"+\n",
       "       \"from bokeh.resources import INLINE\\n\"+\n",
       "       \"output_notebook(resources=INLINE)\\n\"+\n",
       "       \"</code>\\n\"+\n",
       "       \"</div>\"}};\n",
       "  \n",
       "    function display_loaded() {\n",
       "      if (window.Bokeh !== undefined) {\n",
       "        var el = document.getElementById(\"959a9932-38ba-42da-b0e3-fbc44e5667e7\");\n",
       "        el.textContent = \"BokehJS \" + Bokeh.version + \" successfully loaded.\";\n",
       "      } else if (Date.now() < window._bokeh_timeout) {\n",
       "        setTimeout(display_loaded, 100)\n",
       "      }\n",
       "    }\n",
       "  \n",
       "    function run_callbacks() {\n",
       "      try {\n",
       "        window._bokeh_onload_callbacks.forEach(function(callback) { callback() });\n",
       "      }\n",
       "      finally {\n",
       "        delete window._bokeh_onload_callbacks\n",
       "      }\n",
       "      console.info(\"Bokeh: all callbacks have finished\");\n",
       "    }\n",
       "  \n",
       "    function load_libs(js_urls, callback) {\n",
       "      window._bokeh_onload_callbacks.push(callback);\n",
       "      if (window._bokeh_is_loading > 0) {\n",
       "        console.log(\"Bokeh: BokehJS is being loaded, scheduling callback at\", now());\n",
       "        return null;\n",
       "      }\n",
       "      if (js_urls == null || js_urls.length === 0) {\n",
       "        run_callbacks();\n",
       "        return null;\n",
       "      }\n",
       "      console.log(\"Bokeh: BokehJS not loaded, scheduling load and callback at\", now());\n",
       "      window._bokeh_is_loading = js_urls.length;\n",
       "      for (var i = 0; i < js_urls.length; i++) {\n",
       "        var url = js_urls[i];\n",
       "        var s = document.createElement('script');\n",
       "        s.src = url;\n",
       "        s.async = false;\n",
       "        s.onreadystatechange = s.onload = function() {\n",
       "          window._bokeh_is_loading--;\n",
       "          if (window._bokeh_is_loading === 0) {\n",
       "            console.log(\"Bokeh: all BokehJS libraries loaded\");\n",
       "            run_callbacks()\n",
       "          }\n",
       "        };\n",
       "        s.onerror = function() {\n",
       "          console.warn(\"failed to load library \" + url);\n",
       "        };\n",
       "        console.log(\"Bokeh: injecting script tag for BokehJS library: \", url);\n",
       "        document.getElementsByTagName(\"head\")[0].appendChild(s);\n",
       "      }\n",
       "    };var element = document.getElementById(\"959a9932-38ba-42da-b0e3-fbc44e5667e7\");\n",
       "    if (element == null) {\n",
       "      console.log(\"Bokeh: ERROR: autoload.js configured with elementid '959a9932-38ba-42da-b0e3-fbc44e5667e7' but no matching script tag was found. \")\n",
       "      return false;\n",
       "    }\n",
       "  \n",
       "    var js_urls = [];\n",
       "  \n",
       "    var inline_js = [\n",
       "      function(Bokeh) {\n",
       "        (function() {\n",
       "          var fn = function() {\n",
       "            var docs_json = {\"bef80454-3d6d-4c8f-b83f-a803223bf070\":{\"roots\":{\"references\":[{\"attributes\":{\"data_source\":{\"id\":\"48700633-9c6a-4222-b578-b16f3352efa3\",\"type\":\"ColumnDataSource\"},\"glyph\":{\"id\":\"fa5dd6db-011b-4bf1-8fe5-09198ad75d32\",\"type\":\"HBar\"},\"hover_glyph\":null,\"muted_glyph\":null,\"nonselection_glyph\":{\"id\":\"44e77b0f-878f-4d1c-b3e5-b3dbff48c3b4\",\"type\":\"HBar\"},\"selection_glyph\":null},\"id\":\"36afdbe6-fed9-4634-bccd-614cf5383e15\",\"type\":\"GlyphRenderer\"},{\"attributes\":{\"active_drag\":\"auto\",\"active_inspect\":\"auto\",\"active_scroll\":\"auto\",\"active_tap\":\"auto\",\"tools\":[{\"id\":\"3db84c6b-431d-4e80-9669-ec58c8cc5424\",\"type\":\"HoverTool\"}]},\"id\":\"32747a33-6a06-4ed9-baf0-864ca4ceb532\",\"type\":\"Toolbar\"},{\"attributes\":{\"line_color\":{\"value\":\"#AAB2A5\"},\"line_dash\":[6],\"line_width\":{\"value\":2},\"x\":{\"field\":\"x\"},\"y\":{\"field\":\"y\"}},\"id\":\"77e86bf8-9599-4ea2-85b0-ed17179660a0\",\"type\":\"Line\"},{\"attributes\":{\"callback\":null,\"data\":{}},\"id\":\"004ebf97-e336-49f5-abc5-c580a731c25c\",\"type\":\"ColumnDataSource\"},{\"attributes\":{\"line_alpha\":{\"value\":0.1},\"line_color\":{\"value\":\"#1f77b4\"},\"line_dash\":[6],\"line_width\":{\"value\":2},\"x\":{\"field\":\"x\"},\"y\":{\"field\":\"y\"}},\"id\":\"65b627f6-fdc9-41eb-941d-ba15786ab2e4\",\"type\":\"Line\"},{\"attributes\":{\"formatter\":{\"id\":\"446e4707-1355-48ee-a339-7bae3c2990a0\",\"type\":\"BasicTickFormatter\"},\"plot\":{\"id\":\"26b93a35-99dc-4c61-84c1-bb1ba40df47a\",\"subtype\":\"Figure\",\"type\":\"Plot\"},\"ticker\":{\"id\":\"d1586352-e2e8-4ec3-8d89-8a6ba9bf58cf\",\"type\":\"BasicTicker\"},\"visible\":false},\"id\":\"e4e409ec-4a78-400d-8fb9-520621f7b755\",\"type\":\"LinearAxis\"},{\"attributes\":{\"data_source\":{\"id\":\"e207a4d7-404c-4b2e-b2e9-879ba6209a57\",\"type\":\"ColumnDataSource\"},\"glyph\":{\"id\":\"66588889-ad96-4902-b918-fd3b99775b14\",\"type\":\"Line\"},\"hover_glyph\":null,\"muted_glyph\":null,\"nonselection_glyph\":{\"id\":\"41162759-43d8-44b7-a083-6c9517d86ced\",\"type\":\"Line\"},\"selection_glyph\":null},\"id\":\"8eab6cc4-8849-4920-b8fd-5a8a84d83a2c\",\"type\":\"GlyphRenderer\"},{\"attributes\":{\"callback\":null,\"end\":2},\"id\":\"cbd6decf-bbc5-4855-ab82-fdaf4d1813a4\",\"type\":\"Range1d\"},{\"attributes\":{\"active_drag\":\"auto\",\"active_inspect\":\"auto\",\"active_scroll\":\"auto\",\"active_tap\":\"auto\",\"tools\":[{\"id\":\"4851d741-54c1-4feb-bb0a-ca1fbecbab27\",\"type\":\"PanTool\"},{\"id\":\"5d326096-0fea-4581-aaa3-b324f72c089e\",\"type\":\"WheelZoomTool\"},{\"id\":\"ff61034f-6e1f-49a2-b71d-93a8b345c247\",\"type\":\"BoxZoomTool\"},{\"id\":\"5d75b3ab-0565-4537-b422-6e6c467b94b9\",\"type\":\"SaveTool\"},{\"id\":\"70809470-cfc9-4fed-a772-67043862bea6\",\"type\":\"ResetTool\"},{\"id\":\"0edec6ff-80a9-402b-89b2-e5f8e92258a9\",\"type\":\"HelpTool\"}]},\"id\":\"d70cb12b-aca7-4896-926f-69dbeab8a2cf\",\"type\":\"Toolbar\"},{\"attributes\":{},\"id\":\"d46d0286-8504-4538-978f-adb8ea8d40cd\",\"type\":\"ToolEvents\"},{\"attributes\":{\"bottom_units\":\"screen\",\"fill_alpha\":{\"value\":0.5},\"fill_color\":{\"value\":\"lightgrey\"},\"left_units\":\"screen\",\"level\":\"overlay\",\"line_alpha\":{\"value\":1.0},\"line_color\":{\"value\":\"black\"},\"line_dash\":[4,4],\"line_width\":{\"value\":2},\"plot\":null,\"render_mode\":\"css\",\"right_units\":\"screen\",\"top_units\":\"screen\"},\"id\":\"4835b0df-d144-46fb-94b0-70a6a2291398\",\"type\":\"BoxAnnotation\"},{\"attributes\":{\"above\":[{\"id\":\"9983ca49-d59c-4ecf-91f8-1fdbe731a0d6\",\"type\":\"Title\"}],\"below\":[{\"id\":\"0992d3c6-60fd-4cee-a74b-add6aff3fc1b\",\"type\":\"LinearAxis\"}],\"left\":[{\"id\":\"e4e409ec-4a78-400d-8fb9-520621f7b755\",\"type\":\"LinearAxis\"}],\"plot_height\":400,\"plot_width\":400,\"renderers\":[{\"id\":\"0992d3c6-60fd-4cee-a74b-add6aff3fc1b\",\"type\":\"LinearAxis\"},{\"id\":\"17669eec-df3b-4445-b9b3-02aefd239b0f\",\"type\":\"Grid\"},{\"id\":\"e4e409ec-4a78-400d-8fb9-520621f7b755\",\"type\":\"LinearAxis\"},{\"id\":\"4b481fb9-30c2-4867-a64a-5d9b2198ef83\",\"type\":\"Grid\"},{\"id\":\"4835b0df-d144-46fb-94b0-70a6a2291398\",\"type\":\"BoxAnnotation\"},{\"id\":\"ec8b09dc-bd18-4831-a957-bc0ccaacd77a\",\"type\":\"GlyphRenderer\"},{\"id\":\"00ca0282-f4e1-4fb0-a6f3-570811b8ee70\",\"type\":\"GlyphRenderer\"},{\"id\":\"6a3b5c39-b6a4-4a16-b2ac-a79a845f8bd3\",\"type\":\"GlyphRenderer\"},{\"id\":\"9254262d-a7ff-482b-9f61-c875335e4880\",\"type\":\"GlyphRenderer\"},{\"id\":\"bf205c1a-1388-4557-8d0b-5fcc3d5c97a9\",\"type\":\"GlyphRenderer\"},{\"id\":\"8eab6cc4-8849-4920-b8fd-5a8a84d83a2c\",\"type\":\"GlyphRenderer\"},{\"id\":\"36afdbe6-fed9-4634-bccd-614cf5383e15\",\"type\":\"GlyphRenderer\"},{\"id\":\"b4775d56-001d-4763-96f4-a1b40ab6ee45\",\"type\":\"GlyphRenderer\"},{\"id\":\"37904337-b78a-4342-93b6-b9b908daa9a0\",\"type\":\"GlyphRenderer\"},{\"id\":\"f0ed4333-720e-4b35-a8ef-faa3e3148a8c\",\"type\":\"GlyphRenderer\"},{\"id\":\"a5c52439-a066-4c4b-998e-44483eef4e18\",\"type\":\"GlyphRenderer\"},{\"id\":\"0f04641a-28b0-4b31-9d57-79564774f927\",\"type\":\"GlyphRenderer\"},{\"id\":\"9983ca49-d59c-4ecf-91f8-1fdbe731a0d6\",\"type\":\"Title\"}],\"title\":{\"id\":\"87cb14bd-d815-49fd-b7a9-c8bb938ff584\",\"type\":\"Title\"},\"tool_events\":{\"id\":\"d46d0286-8504-4538-978f-adb8ea8d40cd\",\"type\":\"ToolEvents\"},\"toolbar\":{\"id\":\"d70cb12b-aca7-4896-926f-69dbeab8a2cf\",\"type\":\"Toolbar\"},\"x_range\":{\"id\":\"416d5a9a-764f-4b1b-a1ba-4d3bcbae50cf\",\"type\":\"DataRange1d\"},\"x_scale\":{\"id\":\"0f50cfb5-5e0e-4ea4-8c50-503b80dcfe69\",\"type\":\"LinearScale\"},\"y_range\":{\"id\":\"cbd6decf-bbc5-4855-ab82-fdaf4d1813a4\",\"type\":\"Range1d\"},\"y_scale\":{\"id\":\"9b005a60-ffdf-453b-a7a2-5d234a47be7f\",\"type\":\"LinearScale\"}},\"id\":\"26b93a35-99dc-4c61-84c1-bb1ba40df47a\",\"subtype\":\"Figure\",\"type\":\"Plot\"},{\"attributes\":{\"data_source\":{\"id\":\"5e0624de-76d8-4895-8fdb-31d0294242d1\",\"type\":\"ColumnDataSource\"},\"glyph\":{\"id\":\"620d5a70-1057-4149-862c-aa3cbe112e7e\",\"type\":\"VBar\"},\"hover_glyph\":null,\"muted_glyph\":null,\"nonselection_glyph\":{\"id\":\"4d832a24-34b9-49a6-a0f0-8c1abfc35608\",\"type\":\"VBar\"},\"selection_glyph\":null},\"id\":\"1f6c89f3-0a57-4c01-8970-3dc99ef7e9a1\",\"type\":\"GlyphRenderer\"},{\"attributes\":{\"callback\":null,\"column_names\":[\"x\",\"y\"],\"data\":{\"x\":[-0.3020730503455084,-0.3020730503455084],\"y\":[0.5,1.5]}},\"id\":\"f8e954d6-b367-4f6e-9d24-fe51532270cc\",\"type\":\"ColumnDataSource\"},{\"attributes\":{\"fill_color\":{\"value\":\"#459E0F\"},\"height\":{\"value\":0.3},\"line_color\":{\"value\":\"#459E0F\"},\"right\":{\"value\":0.324284304047384},\"y\":{\"value\":1}},\"id\":\"fa5dd6db-011b-4bf1-8fe5-09198ad75d32\",\"type\":\"HBar\"},{\"attributes\":{},\"id\":\"88722a71-f0b3-4c83-abed-62d9403754e2\",\"type\":\"LinearScale\"},{\"attributes\":{\"fill_alpha\":{\"value\":0.1},\"fill_color\":{\"value\":\"#1f77b4\"},\"height\":{\"value\":0.3},\"left\":{\"value\":0.491609081934847},\"line_alpha\":{\"value\":0.1},\"line_color\":{\"value\":\"#1f77b4\"},\"right\":{\"value\":0.587857847976308},\"y\":{\"value\":1}},\"id\":\"987aa493-2917-4dff-be61-4677b82e2809\",\"type\":\"HBar\"},{\"attributes\":{\"fill_color\":{\"value\":\"#459E0F\"},\"height\":{\"value\":0.3},\"left\":{\"value\":-0.3020730503455084},\"line_color\":{\"value\":\"#459E0F\"},\"right\":{\"value\":0},\"y\":{\"value\":1}},\"id\":\"bfa61521-bb76-482d-81e0-63de9c11f42a\",\"type\":\"HBar\"},{\"attributes\":{\"callback\":null,\"data\":{}},\"id\":\"8ded005d-2ab5-4265-9bdc-c8a235ddbf6a\",\"type\":\"ColumnDataSource\"},{\"attributes\":{\"children\":[{\"id\":\"db0bb0b7-c84b-4c99-b271-bde9eaafb5a5\",\"type\":\"Div\"}]},\"id\":\"161c5500-2690-4a2c-acba-9d4b06d67ed5\",\"type\":\"WidgetBox\"},{\"attributes\":{\"data_source\":{\"id\":\"8ded005d-2ab5-4265-9bdc-c8a235ddbf6a\",\"type\":\"ColumnDataSource\"},\"glyph\":{\"id\":\"bfa61521-bb76-482d-81e0-63de9c11f42a\",\"type\":\"HBar\"},\"hover_glyph\":null,\"muted_glyph\":null,\"nonselection_glyph\":{\"id\":\"8311011d-6d4a-4c9f-ae84-10e5fbfcecc3\",\"type\":\"HBar\"},\"selection_glyph\":null},\"id\":\"ec8b09dc-bd18-4831-a957-bc0ccaacd77a\",\"type\":\"GlyphRenderer\"},{\"attributes\":{\"children\":[{\"id\":\"161c5500-2690-4a2c-acba-9d4b06d67ed5\",\"type\":\"WidgetBox\"},{\"id\":\"22a0a811-df69-4689-8c1d-6105f932b5c2\",\"type\":\"Row\"}]},\"id\":\"476aa467-779c-4503-85e2-8a7c933a3e6f\",\"type\":\"Column\"},{\"attributes\":{\"fill_alpha\":{\"value\":0.1},\"fill_color\":{\"value\":\"#1f77b4\"},\"line_alpha\":{\"value\":0.1},\"line_color\":{\"value\":\"#1f77b4\"},\"top\":{\"field\":\"pct\"},\"width\":{\"value\":0.6},\"x\":{\"field\":\"index\"}},\"id\":\"4d832a24-34b9-49a6-a0f0-8c1abfc35608\",\"type\":\"VBar\"},{\"attributes\":{\"callback\":null,\"plot\":{\"id\":\"f7e1a760-63ec-47e8-8f18-56338ced6534\",\"subtype\":\"Figure\",\"type\":\"Plot\"},\"tooltips\":[[\"pct\",\"@pct{(0.00%)}\"]]},\"id\":\"3db84c6b-431d-4e80-9669-ec58c8cc5424\",\"type\":\"HoverTool\"},{\"attributes\":{\"grid_line_color\":{\"value\":null},\"plot\":{\"id\":\"26b93a35-99dc-4c61-84c1-bb1ba40df47a\",\"subtype\":\"Figure\",\"type\":\"Plot\"},\"ticker\":{\"id\":\"cdb7b232-5d21-4451-9ff3-38b558d64b14\",\"type\":\"BasicTicker\"}},\"id\":\"17669eec-df3b-4445-b9b3-02aefd239b0f\",\"type\":\"Grid\"},{\"attributes\":{\"line_alpha\":{\"value\":0.1},\"line_color\":{\"value\":\"#1f77b4\"},\"line_dash\":[6],\"line_width\":{\"value\":2},\"x\":{\"field\":\"x\"},\"y\":{\"field\":\"y\"}},\"id\":\"64991b2a-81e2-49a3-ac73-9df13390a62e\",\"type\":\"Line\"},{\"attributes\":{\"callback\":null,\"column_names\":[\"x\",\"y\"],\"data\":{\"x\":[0.324284304047384,0.324284304047384],\"y\":[0.5,1.5]}},\"id\":\"947ade53-770a-43b3-ae20-ad57948dac16\",\"type\":\"ColumnDataSource\"},{\"attributes\":{\"callback\":null,\"column_names\":[\"x\",\"y\"],\"data\":{\"x\":[0,0],\"y\":[0.5,1.5]}},\"id\":\"2dcb42be-2250-4cfb-9ab1-25f345656f7d\",\"type\":\"ColumnDataSource\"},{\"attributes\":{\"fill_alpha\":{\"value\":0.1},\"fill_color\":{\"value\":\"#1f77b4\"},\"height\":{\"value\":0.3},\"line_alpha\":{\"value\":0.1},\"line_color\":{\"value\":\"#1f77b4\"},\"right\":{\"value\":0.324284304047384},\"y\":{\"value\":1}},\"id\":\"44e77b0f-878f-4d1c-b3e5-b3dbff48c3b4\",\"type\":\"HBar\"},{\"attributes\":{\"plot\":{\"id\":\"26b93a35-99dc-4c61-84c1-bb1ba40df47a\",\"subtype\":\"Figure\",\"type\":\"Plot\"}},\"id\":\"0edec6ff-80a9-402b-89b2-e5f8e92258a9\",\"type\":\"HelpTool\"},{\"attributes\":{},\"id\":\"cdb7b232-5d21-4451-9ff3-38b558d64b14\",\"type\":\"BasicTicker\"},{\"attributes\":{\"align\":\"center\",\"plot\":{\"id\":\"f7e1a760-63ec-47e8-8f18-56338ced6534\",\"subtype\":\"Figure\",\"type\":\"Plot\"},\"text\":\"Total percentage within thresholds\"},\"id\":\"19d2e084-d517-400d-93e3-ac1dccf63028\",\"type\":\"Title\"},{\"attributes\":{\"data_source\":{\"id\":\"2dcb42be-2250-4cfb-9ab1-25f345656f7d\",\"type\":\"ColumnDataSource\"},\"glyph\":{\"id\":\"a091382e-59b1-4cd2-83db-75b8fd13ea8b\",\"type\":\"Line\"},\"hover_glyph\":null,\"muted_glyph\":null,\"nonselection_glyph\":{\"id\":\"64991b2a-81e2-49a3-ac73-9df13390a62e\",\"type\":\"Line\"},\"selection_glyph\":null},\"id\":\"00ca0282-f4e1-4fb0-a6f3-570811b8ee70\",\"type\":\"GlyphRenderer\"},{\"attributes\":{\"data_source\":{\"id\":\"004ebf97-e336-49f5-abc5-c580a731c25c\",\"type\":\"ColumnDataSource\"},\"glyph\":{\"id\":\"ec17d157-2fd0-4344-9087-1c015417b9ab\",\"type\":\"HBar\"},\"hover_glyph\":null,\"muted_glyph\":null,\"nonselection_glyph\":{\"id\":\"aaceff9f-7196-4ded-a4be-e262d2bc8921\",\"type\":\"HBar\"},\"selection_glyph\":null},\"id\":\"bf205c1a-1388-4557-8d0b-5fcc3d5c97a9\",\"type\":\"GlyphRenderer\"},{\"attributes\":{\"fill_alpha\":{\"value\":0.1},\"fill_color\":{\"value\":\"#1f77b4\"},\"height\":{\"value\":0.3},\"left\":{\"value\":-0.3020730503455084},\"line_alpha\":{\"value\":0.1},\"line_color\":{\"value\":\"#1f77b4\"},\"right\":{\"value\":0},\"y\":{\"value\":1}},\"id\":\"8311011d-6d4a-4c9f-ae84-10e5fbfcecc3\",\"type\":\"HBar\"},{\"attributes\":{\"text\":\"<h1 style='margin-left:150px;margin-right:-450px;margin-bottom:18px;font-size:20px;                color:#7D7575'> Time thresholds for differences between expected times </h1>\"},\"id\":\"db0bb0b7-c84b-4c99-b271-bde9eaafb5a5\",\"type\":\"Div\"},{\"attributes\":{},\"id\":\"cc651484-8c75-47f8-a142-87f9bde1ba8f\",\"type\":\"LinearScale\"},{\"attributes\":{\"dimension\":1,\"plot\":{\"id\":\"f7e1a760-63ec-47e8-8f18-56338ced6534\",\"subtype\":\"Figure\",\"type\":\"Plot\"},\"ticker\":{\"id\":\"c94af6e4-1a77-4423-992a-4ede8c0e2387\",\"type\":\"BasicTicker\"}},\"id\":\"f6b823f3-0b8e-402d-8b38-504eb29d99c1\",\"type\":\"Grid\"},{\"attributes\":{\"callback\":null,\"column_names\":[\"thresholds\",\"colors\",\"pct\",\"index\"],\"data\":{\"colors\":[\"#459E0F\",\"#E4E02C\",\"#E43216\"],\"index\":[0,1,2],\"pct\":{\"__ndarray__\":\"8D8XlB4L5D88iklJpvbQP5DXHzpyzLs/\",\"dtype\":\"float64\",\"shape\":[3]},\"thresholds\":[\"green\",\"yellow\",\"red\"]}},\"id\":\"5e0624de-76d8-4895-8fdb-31d0294242d1\",\"type\":\"ColumnDataSource\"},{\"attributes\":{\"children\":[{\"id\":\"26b93a35-99dc-4c61-84c1-bb1ba40df47a\",\"subtype\":\"Figure\",\"type\":\"Plot\"},{\"id\":\"f7e1a760-63ec-47e8-8f18-56338ced6534\",\"subtype\":\"Figure\",\"type\":\"Plot\"}]},\"id\":\"22a0a811-df69-4689-8c1d-6105f932b5c2\",\"type\":\"Row\"},{\"attributes\":{},\"id\":\"d1586352-e2e8-4ec3-8d89-8a6ba9bf58cf\",\"type\":\"BasicTicker\"},{\"attributes\":{\"callback\":null},\"id\":\"416d5a9a-764f-4b1b-a1ba-4d3bcbae50cf\",\"type\":\"DataRange1d\"},{\"attributes\":{\"callback\":null,\"column_names\":[\"x\",\"y\"],\"data\":{\"x\":[0,0],\"y\":[0.5,1.5]}},\"id\":\"b459ed32-d7d7-47d8-8634-9596a6c8419f\",\"type\":\"ColumnDataSource\"},{\"attributes\":{\"line_color\":{\"value\":\"#AAB2A5\"},\"line_dash\":[6],\"line_width\":{\"value\":2},\"x\":{\"field\":\"x\"},\"y\":{\"field\":\"y\"}},\"id\":\"a091382e-59b1-4cd2-83db-75b8fd13ea8b\",\"type\":\"Line\"},{\"attributes\":{},\"id\":\"e09676a5-f1d7-445d-abcc-dcd88aac8226\",\"type\":\"BasicTickFormatter\"},{\"attributes\":{\"callback\":null},\"id\":\"6edf7a5c-0753-45ea-b3f1-d50a3b59317e\",\"type\":\"DataRange1d\"},{\"attributes\":{\"align\":\"center\",\"plot\":{\"id\":\"26b93a35-99dc-4c61-84c1-bb1ba40df47a\",\"subtype\":\"Figure\",\"type\":\"Plot\"},\"text\":\"Rush/delays within time thresholds\"},\"id\":\"9983ca49-d59c-4ecf-91f8-1fdbe731a0d6\",\"type\":\"Title\"},{\"attributes\":{\"fill_alpha\":{\"value\":0.1},\"fill_color\":{\"value\":\"#1f77b4\"},\"height\":{\"value\":0.3},\"left\":{\"value\":-0.41214215202369203},\"line_alpha\":{\"value\":0.1},\"line_color\":{\"value\":\"#1f77b4\"},\"right\":{\"value\":-0.3998025666337611},\"y\":{\"value\":1}},\"id\":\"aaceff9f-7196-4ded-a4be-e262d2bc8921\",\"type\":\"HBar\"},{\"attributes\":{\"line_color\":{\"value\":\"#AAB2A5\"},\"line_dash\":[6],\"line_width\":{\"value\":2},\"x\":{\"field\":\"x\"},\"y\":{\"field\":\"y\"}},\"id\":\"861ee0a0-7dbb-476e-a14a-e74614127599\",\"type\":\"Line\"},{\"attributes\":{},\"id\":\"afe5a8c8-db2a-42cb-9572-284ec47f7ef2\",\"type\":\"ToolEvents\"},{\"attributes\":{\"callback\":null,\"data\":{}},\"id\":\"42183579-50b0-456e-83ac-adb0af1244cb\",\"type\":\"ColumnDataSource\"},{\"attributes\":{\"line_alpha\":{\"value\":0.1},\"line_color\":{\"value\":\"#1f77b4\"},\"line_dash\":[6],\"line_width\":{\"value\":2},\"x\":{\"field\":\"x\"},\"y\":{\"field\":\"y\"}},\"id\":\"5c8e9d2f-55c7-4634-8164-0889b2c55ddd\",\"type\":\"Line\"},{\"attributes\":{\"callback\":null,\"data\":{}},\"id\":\"cb0ac2ef-29c9-431c-8e77-b311559709fd\",\"type\":\"ColumnDataSource\"},{\"attributes\":{\"plot\":{\"id\":\"26b93a35-99dc-4c61-84c1-bb1ba40df47a\",\"subtype\":\"Figure\",\"type\":\"Plot\"}},\"id\":\"70809470-cfc9-4fed-a772-67043862bea6\",\"type\":\"ResetTool\"},{\"attributes\":{\"plot\":{\"id\":\"26b93a35-99dc-4c61-84c1-bb1ba40df47a\",\"subtype\":\"Figure\",\"type\":\"Plot\"}},\"id\":\"4851d741-54c1-4feb-bb0a-ca1fbecbab27\",\"type\":\"PanTool\"},{\"attributes\":{},\"id\":\"446e4707-1355-48ee-a339-7bae3c2990a0\",\"type\":\"BasicTickFormatter\"},{\"attributes\":{\"line_color\":{\"value\":\"#AAB2A5\"},\"line_dash\":[6],\"line_width\":{\"value\":2},\"x\":{\"field\":\"x\"},\"y\":{\"field\":\"y\"}},\"id\":\"a2cdde3d-5a23-46e5-a885-51d47063e9fa\",\"type\":\"Line\"},{\"attributes\":{\"callback\":null,\"column_names\":[\"x\",\"y\"],\"data\":{\"x\":[-0.3998025666337611,-0.3998025666337611],\"y\":[0.5,1.5]}},\"id\":\"e207a4d7-404c-4b2e-b2e9-879ba6209a57\",\"type\":\"ColumnDataSource\"},{\"attributes\":{\"data_source\":{\"id\":\"42183579-50b0-456e-83ac-adb0af1244cb\",\"type\":\"ColumnDataSource\"},\"glyph\":{\"id\":\"f4b96f31-7e6e-4727-ad83-992e384edf44\",\"type\":\"HBar\"},\"hover_glyph\":null,\"muted_glyph\":null,\"nonselection_glyph\":{\"id\":\"987aa493-2917-4dff-be61-4677b82e2809\",\"type\":\"HBar\"},\"selection_glyph\":null},\"id\":\"a5c52439-a066-4c4b-998e-44483eef4e18\",\"type\":\"GlyphRenderer\"},{\"attributes\":{\"data_source\":{\"id\":\"da672935-c7db-408c-a02d-18ebc3604a87\",\"type\":\"ColumnDataSource\"},\"glyph\":{\"id\":\"4a893cc2-136d-4605-88f1-a991ee10f69b\",\"type\":\"Line\"},\"hover_glyph\":null,\"muted_glyph\":null,\"nonselection_glyph\":{\"id\":\"65b627f6-fdc9-41eb-941d-ba15786ab2e4\",\"type\":\"Line\"},\"selection_glyph\":null},\"id\":\"0f04641a-28b0-4b31-9d57-79564774f927\",\"type\":\"GlyphRenderer\"},{\"attributes\":{\"line_color\":{\"value\":\"#AAB2A5\"},\"line_dash\":[6],\"line_width\":{\"value\":2},\"x\":{\"field\":\"x\"},\"y\":{\"field\":\"y\"}},\"id\":\"4a893cc2-136d-4605-88f1-a991ee10f69b\",\"type\":\"Line\"},{\"attributes\":{\"fill_alpha\":{\"value\":0.1},\"fill_color\":{\"value\":\"#1f77b4\"},\"height\":{\"value\":0.3},\"left\":{\"value\":-0.3998025666337611},\"line_alpha\":{\"value\":0.1},\"line_color\":{\"value\":\"#1f77b4\"},\"right\":{\"value\":-0.3020730503455084},\"y\":{\"value\":1}},\"id\":\"a28ccb93-b0cf-4fc1-96fb-15421e2cdf5c\",\"type\":\"HBar\"},{\"attributes\":{},\"id\":\"48d85870-a230-4da8-8c2a-8ef44edcd2a4\",\"type\":\"BasicTickFormatter\"},{\"attributes\":{\"callback\":null,\"data\":{}},\"id\":\"0994fb16-2897-4449-b36f-d5647e0e724c\",\"type\":\"ColumnDataSource\"},{\"attributes\":{\"fill_color\":{\"value\":\"#E43216\"},\"height\":{\"value\":0.3},\"left\":{\"value\":0.491609081934847},\"line_color\":{\"value\":\"#E43216\"},\"right\":{\"value\":0.587857847976308},\"y\":{\"value\":1}},\"id\":\"f4b96f31-7e6e-4727-ad83-992e384edf44\",\"type\":\"HBar\"},{\"attributes\":{\"fill_alpha\":{\"value\":0.1},\"fill_color\":{\"value\":\"#1f77b4\"},\"height\":{\"value\":0.3},\"left\":{\"value\":0.324284304047384},\"line_alpha\":{\"value\":0.1},\"line_color\":{\"value\":\"#1f77b4\"},\"right\":{\"value\":0.491609081934847},\"y\":{\"value\":1}},\"id\":\"bf4ffe1a-8f17-451d-b6fa-201974fd7f16\",\"type\":\"HBar\"},{\"attributes\":{\"plot\":{\"id\":\"f7e1a760-63ec-47e8-8f18-56338ced6534\",\"subtype\":\"Figure\",\"type\":\"Plot\"},\"ticker\":{\"id\":\"7554eef7-87cd-4e1c-b670-9ea53e688eac\",\"type\":\"BasicTicker\"}},\"id\":\"d54a00da-2c9b-4854-8e89-00f415632c91\",\"type\":\"Grid\"},{\"attributes\":{\"data_source\":{\"id\":\"f8e954d6-b367-4f6e-9d24-fe51532270cc\",\"type\":\"ColumnDataSource\"},\"glyph\":{\"id\":\"a2cdde3d-5a23-46e5-a885-51d47063e9fa\",\"type\":\"Line\"},\"hover_glyph\":null,\"muted_glyph\":null,\"nonselection_glyph\":{\"id\":\"5c8e9d2f-55c7-4634-8164-0889b2c55ddd\",\"type\":\"Line\"},\"selection_glyph\":null},\"id\":\"9254262d-a7ff-482b-9f61-c875335e4880\",\"type\":\"GlyphRenderer\"},{\"attributes\":{\"fill_color\":{\"value\":\"#E43216\"},\"height\":{\"value\":0.3},\"left\":{\"value\":-0.41214215202369203},\"line_color\":{\"value\":\"#E43216\"},\"right\":{\"value\":-0.3998025666337611},\"y\":{\"value\":1}},\"id\":\"ec17d157-2fd0-4344-9087-1c015417b9ab\",\"type\":\"HBar\"},{\"attributes\":{\"formatter\":{\"id\":\"48d85870-a230-4da8-8c2a-8ef44edcd2a4\",\"type\":\"BasicTickFormatter\"},\"plot\":{\"id\":\"f7e1a760-63ec-47e8-8f18-56338ced6534\",\"subtype\":\"Figure\",\"type\":\"Plot\"},\"ticker\":{\"id\":\"7554eef7-87cd-4e1c-b670-9ea53e688eac\",\"type\":\"BasicTicker\"}},\"id\":\"500a7fc6-6eb3-4ef8-8cfe-a149089dc9a1\",\"type\":\"LinearAxis\"},{\"attributes\":{\"data_source\":{\"id\":\"cb0ac2ef-29c9-431c-8e77-b311559709fd\",\"type\":\"ColumnDataSource\"},\"glyph\":{\"id\":\"a4a0c386-f20a-4c5f-987a-ba2eddceb55d\",\"type\":\"HBar\"},\"hover_glyph\":null,\"muted_glyph\":null,\"nonselection_glyph\":{\"id\":\"a28ccb93-b0cf-4fc1-96fb-15421e2cdf5c\",\"type\":\"HBar\"},\"selection_glyph\":null},\"id\":\"6a3b5c39-b6a4-4a16-b2ac-a79a845f8bd3\",\"type\":\"GlyphRenderer\"},{\"attributes\":{},\"id\":\"0f50cfb5-5e0e-4ea4-8c50-503b80dcfe69\",\"type\":\"LinearScale\"},{\"attributes\":{},\"id\":\"9b005a60-ffdf-453b-a7a2-5d234a47be7f\",\"type\":\"LinearScale\"},{\"attributes\":{\"data_source\":{\"id\":\"b459ed32-d7d7-47d8-8634-9596a6c8419f\",\"type\":\"ColumnDataSource\"},\"glyph\":{\"id\":\"861ee0a0-7dbb-476e-a14a-e74614127599\",\"type\":\"Line\"},\"hover_glyph\":null,\"muted_glyph\":null,\"nonselection_glyph\":{\"id\":\"f49dfe8f-f594-46ae-93ef-f48c4f55dced\",\"type\":\"Line\"},\"selection_glyph\":null},\"id\":\"b4775d56-001d-4763-96f4-a1b40ab6ee45\",\"type\":\"GlyphRenderer\"},{\"attributes\":{\"dimension\":1,\"grid_line_color\":{\"value\":null},\"plot\":{\"id\":\"26b93a35-99dc-4c61-84c1-bb1ba40df47a\",\"subtype\":\"Figure\",\"type\":\"Plot\"},\"ticker\":{\"id\":\"d1586352-e2e8-4ec3-8d89-8a6ba9bf58cf\",\"type\":\"BasicTicker\"}},\"id\":\"4b481fb9-30c2-4867-a64a-5d9b2198ef83\",\"type\":\"Grid\"},{\"attributes\":{\"callback\":null,\"data\":{}},\"id\":\"48700633-9c6a-4222-b578-b16f3352efa3\",\"type\":\"ColumnDataSource\"},{\"attributes\":{},\"id\":\"962e3913-33c1-4c54-9767-57c443229891\",\"type\":\"BasicTickFormatter\"},{\"attributes\":{\"fill_color\":{\"value\":\"#E4E02C\"},\"height\":{\"value\":0.3},\"left\":{\"value\":0.324284304047384},\"line_color\":{\"value\":\"#E4E02C\"},\"right\":{\"value\":0.491609081934847},\"y\":{\"value\":1}},\"id\":\"44f6d341-997b-4645-98e5-08ca8257f90f\",\"type\":\"HBar\"},{\"attributes\":{\"overlay\":{\"id\":\"4835b0df-d144-46fb-94b0-70a6a2291398\",\"type\":\"BoxAnnotation\"},\"plot\":{\"id\":\"26b93a35-99dc-4c61-84c1-bb1ba40df47a\",\"subtype\":\"Figure\",\"type\":\"Plot\"}},\"id\":\"ff61034f-6e1f-49a2-b71d-93a8b345c247\",\"type\":\"BoxZoomTool\"},{\"attributes\":{\"plot\":null,\"text\":\"\"},\"id\":\"87cb14bd-d815-49fd-b7a9-c8bb938ff584\",\"type\":\"Title\"},{\"attributes\":{\"plot\":{\"id\":\"26b93a35-99dc-4c61-84c1-bb1ba40df47a\",\"subtype\":\"Figure\",\"type\":\"Plot\"}},\"id\":\"5d326096-0fea-4581-aaa3-b324f72c089e\",\"type\":\"WheelZoomTool\"},{\"attributes\":{\"formatter\":{\"id\":\"e09676a5-f1d7-445d-abcc-dcd88aac8226\",\"type\":\"BasicTickFormatter\"},\"plot\":{\"id\":\"26b93a35-99dc-4c61-84c1-bb1ba40df47a\",\"subtype\":\"Figure\",\"type\":\"Plot\"},\"ticker\":{\"id\":\"cdb7b232-5d21-4451-9ff3-38b558d64b14\",\"type\":\"BasicTicker\"}},\"id\":\"0992d3c6-60fd-4cee-a74b-add6aff3fc1b\",\"type\":\"LinearAxis\"},{\"attributes\":{\"fill_color\":{\"value\":\"#E4E02C\"},\"height\":{\"value\":0.3},\"left\":{\"value\":-0.3998025666337611},\"line_color\":{\"value\":\"#E4E02C\"},\"right\":{\"value\":-0.3020730503455084},\"y\":{\"value\":1}},\"id\":\"a4a0c386-f20a-4c5f-987a-ba2eddceb55d\",\"type\":\"HBar\"},{\"attributes\":{\"formatter\":{\"id\":\"962e3913-33c1-4c54-9767-57c443229891\",\"type\":\"BasicTickFormatter\"},\"plot\":{\"id\":\"f7e1a760-63ec-47e8-8f18-56338ced6534\",\"subtype\":\"Figure\",\"type\":\"Plot\"},\"ticker\":{\"id\":\"c94af6e4-1a77-4423-992a-4ede8c0e2387\",\"type\":\"BasicTicker\"}},\"id\":\"4ef0ddaf-709f-4f89-85ce-172529341908\",\"type\":\"LinearAxis\"},{\"attributes\":{\"fill_color\":{\"field\":\"colors\"},\"line_color\":{\"field\":\"colors\"},\"top\":{\"field\":\"pct\"},\"width\":{\"value\":0.6},\"x\":{\"field\":\"index\"}},\"id\":\"620d5a70-1057-4149-862c-aa3cbe112e7e\",\"type\":\"VBar\"},{\"attributes\":{\"line_color\":{\"value\":\"#AAB2A5\"},\"line_dash\":[6],\"line_width\":{\"value\":2},\"x\":{\"field\":\"x\"},\"y\":{\"field\":\"y\"}},\"id\":\"66588889-ad96-4902-b918-fd3b99775b14\",\"type\":\"Line\"},{\"attributes\":{\"line_alpha\":{\"value\":0.1},\"line_color\":{\"value\":\"#1f77b4\"},\"line_dash\":[6],\"line_width\":{\"value\":2},\"x\":{\"field\":\"x\"},\"y\":{\"field\":\"y\"}},\"id\":\"41162759-43d8-44b7-a083-6c9517d86ced\",\"type\":\"Line\"},{\"attributes\":{\"plot\":{\"id\":\"26b93a35-99dc-4c61-84c1-bb1ba40df47a\",\"subtype\":\"Figure\",\"type\":\"Plot\"}},\"id\":\"5d75b3ab-0565-4537-b422-6e6c467b94b9\",\"type\":\"SaveTool\"},{\"attributes\":{\"line_alpha\":{\"value\":0.1},\"line_color\":{\"value\":\"#1f77b4\"},\"line_dash\":[6],\"line_width\":{\"value\":2},\"x\":{\"field\":\"x\"},\"y\":{\"field\":\"y\"}},\"id\":\"cb378eba-cc57-46df-95a7-ad389d798ca6\",\"type\":\"Line\"},{\"attributes\":{},\"id\":\"7554eef7-87cd-4e1c-b670-9ea53e688eac\",\"type\":\"BasicTicker\"},{\"attributes\":{\"data_source\":{\"id\":\"947ade53-770a-43b3-ae20-ad57948dac16\",\"type\":\"ColumnDataSource\"},\"glyph\":{\"id\":\"77e86bf8-9599-4ea2-85b0-ed17179660a0\",\"type\":\"Line\"},\"hover_glyph\":null,\"muted_glyph\":null,\"nonselection_glyph\":{\"id\":\"cb378eba-cc57-46df-95a7-ad389d798ca6\",\"type\":\"Line\"},\"selection_glyph\":null},\"id\":\"f0ed4333-720e-4b35-a8ef-faa3e3148a8c\",\"type\":\"GlyphRenderer\"},{\"attributes\":{\"line_alpha\":{\"value\":0.1},\"line_color\":{\"value\":\"#1f77b4\"},\"line_dash\":[6],\"line_width\":{\"value\":2},\"x\":{\"field\":\"x\"},\"y\":{\"field\":\"y\"}},\"id\":\"f49dfe8f-f594-46ae-93ef-f48c4f55dced\",\"type\":\"Line\"},{\"attributes\":{\"callback\":null},\"id\":\"4d2a37bf-9154-4698-b8c2-f82d6dcbf800\",\"type\":\"DataRange1d\"},{\"attributes\":{\"above\":[{\"id\":\"19d2e084-d517-400d-93e3-ac1dccf63028\",\"type\":\"Title\"}],\"below\":[{\"id\":\"500a7fc6-6eb3-4ef8-8cfe-a149089dc9a1\",\"type\":\"LinearAxis\"}],\"left\":[{\"id\":\"4ef0ddaf-709f-4f89-85ce-172529341908\",\"type\":\"LinearAxis\"}],\"plot_height\":400,\"plot_width\":400,\"renderers\":[{\"id\":\"500a7fc6-6eb3-4ef8-8cfe-a149089dc9a1\",\"type\":\"LinearAxis\"},{\"id\":\"d54a00da-2c9b-4854-8e89-00f415632c91\",\"type\":\"Grid\"},{\"id\":\"4ef0ddaf-709f-4f89-85ce-172529341908\",\"type\":\"LinearAxis\"},{\"id\":\"f6b823f3-0b8e-402d-8b38-504eb29d99c1\",\"type\":\"Grid\"},{\"id\":\"19d2e084-d517-400d-93e3-ac1dccf63028\",\"type\":\"Title\"},{\"id\":\"1f6c89f3-0a57-4c01-8970-3dc99ef7e9a1\",\"type\":\"GlyphRenderer\"}],\"title\":{\"id\":\"33d9947a-91d1-42d2-9896-d2752a8692cc\",\"type\":\"Title\"},\"tool_events\":{\"id\":\"afe5a8c8-db2a-42cb-9572-284ec47f7ef2\",\"type\":\"ToolEvents\"},\"toolbar\":{\"id\":\"32747a33-6a06-4ed9-baf0-864ca4ceb532\",\"type\":\"Toolbar\"},\"x_range\":{\"id\":\"6edf7a5c-0753-45ea-b3f1-d50a3b59317e\",\"type\":\"DataRange1d\"},\"x_scale\":{\"id\":\"88722a71-f0b3-4c83-abed-62d9403754e2\",\"type\":\"LinearScale\"},\"y_range\":{\"id\":\"4d2a37bf-9154-4698-b8c2-f82d6dcbf800\",\"type\":\"DataRange1d\"},\"y_scale\":{\"id\":\"cc651484-8c75-47f8-a142-87f9bde1ba8f\",\"type\":\"LinearScale\"}},\"id\":\"f7e1a760-63ec-47e8-8f18-56338ced6534\",\"subtype\":\"Figure\",\"type\":\"Plot\"},{\"attributes\":{},\"id\":\"c94af6e4-1a77-4423-992a-4ede8c0e2387\",\"type\":\"BasicTicker\"},{\"attributes\":{\"data_source\":{\"id\":\"0994fb16-2897-4449-b36f-d5647e0e724c\",\"type\":\"ColumnDataSource\"},\"glyph\":{\"id\":\"44f6d341-997b-4645-98e5-08ca8257f90f\",\"type\":\"HBar\"},\"hover_glyph\":null,\"muted_glyph\":null,\"nonselection_glyph\":{\"id\":\"bf4ffe1a-8f17-451d-b6fa-201974fd7f16\",\"type\":\"HBar\"},\"selection_glyph\":null},\"id\":\"37904337-b78a-4342-93b6-b9b908daa9a0\",\"type\":\"GlyphRenderer\"},{\"attributes\":{\"plot\":null,\"text\":\"\"},\"id\":\"33d9947a-91d1-42d2-9896-d2752a8692cc\",\"type\":\"Title\"},{\"attributes\":{\"callback\":null,\"column_names\":[\"x\",\"y\"],\"data\":{\"x\":[0.491609081934847,0.491609081934847],\"y\":[0.5,1.5]}},\"id\":\"da672935-c7db-408c-a02d-18ebc3604a87\",\"type\":\"ColumnDataSource\"}],\"root_ids\":[\"476aa467-779c-4503-85e2-8a7c933a3e6f\"]},\"title\":\"Bokeh Application\",\"version\":\"0.12.6\"}};\n",
       "            var render_items = [{\"docid\":\"bef80454-3d6d-4c8f-b83f-a803223bf070\",\"elementid\":\"959a9932-38ba-42da-b0e3-fbc44e5667e7\",\"modelid\":\"476aa467-779c-4503-85e2-8a7c933a3e6f\"}];\n",
       "            \n",
       "            Bokeh.embed.embed_items(docs_json, render_items);\n",
       "          };\n",
       "          if (document.readyState != \"loading\") fn();\n",
       "          else document.addEventListener(\"DOMContentLoaded\", fn);\n",
       "        })();\n",
       "      },\n",
       "      function(Bokeh) {\n",
       "      }\n",
       "    ];\n",
       "  \n",
       "    function run_inline_js() {\n",
       "      \n",
       "      if ((window.Bokeh !== undefined) || (force === true)) {\n",
       "        for (var i = 0; i < inline_js.length; i++) {\n",
       "          inline_js[i](window.Bokeh);\n",
       "        }if (force === true) {\n",
       "          display_loaded();\n",
       "        }} else if (Date.now() < window._bokeh_timeout) {\n",
       "        setTimeout(run_inline_js, 100);\n",
       "      } else if (!window._bokeh_failed_load) {\n",
       "        console.log(\"Bokeh: BokehJS failed to load within specified timeout.\");\n",
       "        window._bokeh_failed_load = true;\n",
       "      } else if (force !== true) {\n",
       "        var cell = $(document.getElementById(\"959a9932-38ba-42da-b0e3-fbc44e5667e7\")).parents('.cell').data().cell;\n",
       "        cell.output_area.append_execute_result(NB_LOAD_WARNING)\n",
       "      }\n",
       "  \n",
       "    }\n",
       "  \n",
       "    if (window._bokeh_is_loading === 0) {\n",
       "      console.log(\"Bokeh: BokehJS loaded, going straight to plotting\");\n",
       "      run_inline_js();\n",
       "    } else {\n",
       "      load_libs(js_urls, function() {\n",
       "        console.log(\"Bokeh: BokehJS plotting callback run at\", now());\n",
       "        run_inline_js();\n",
       "      });\n",
       "    }\n",
       "  }(this));\n",
       "</script>"
      ]
     },
     "metadata": {},
     "output_type": "display_data"
    }
   ],
   "source": [
    "time_threshold_est_act_time_first = plot_horizontal_time_thresholds(threshold_est_act_time_first, 400, 400, 'pct', 'colors', \n",
    "                                                                \"Rush/delays within time thresholds\")\n",
    "within_thresholds_est_act_time_first = plot_total_pct_thresholds(within_threshold_est_act_time_first, 400, 400, \"index\", \"pct\", \"colors\", \"Total percentage within thresholds\")\n",
    "show(column(Div(text=\"<h1 style='margin-left:150px;margin-right:-450px;margin-bottom:18px;font-size:20px;\\\n",
    "                color:#7D7575'> Time thresholds for differences between expected times </h1>\"), row(time_threshold_est_act_time_first, within_thresholds_est_act_time_first)))"
   ]
  },
  {
   "cell_type": "markdown",
   "metadata": {},
   "source": [
    "In comparison to the differences with last expected time, when taking first expected time and actual service delivery we notice that the differences are more significant. Note that the green region (difference within 3 minutes) captures now 62.6% of services. Services in the yellow region (between 3-7 minutes) and red region (more than 7 minutes) grow. The red region, in particular, almost doubles. \n",
    "\n",
    "This shows that there is still space for improvement in terms of first expected time shown to the user. In particular, it will be important to reduce the cases in the red area because this can have an important effect on user's experience.\n",
    "\n",
    "In what follows we perform the same analysis but separately for pick ups and drop offs."
   ]
  },
  {
   "cell_type": "markdown",
   "metadata": {},
   "source": [
    "### Differences in pick up / drop off first expected time vs. actual time"
   ]
  },
  {
   "cell_type": "code",
   "execution_count": 39,
   "metadata": {
    "collapsed": true
   },
   "outputs": [],
   "source": [
    "est_act_time_first_pick_up =  (est_act_time_first[est_act_time_first[\"type\"] == \"pickup\"]).reset_index()\n",
    "est_act_time_first_drop_off =  (est_act_time_first[est_act_time_first[\"type\"] == \"dropoff\"]).reset_index()"
   ]
  },
  {
   "cell_type": "code",
   "execution_count": 40,
   "metadata": {
    "collapsed": true
   },
   "outputs": [],
   "source": [
    "#Calculating time differences for pick ups\n",
    "est_act_time_first_pick_up.loc[:,\"time_diff_first_est_act\"] = est_act_time_first_pick_up.apply(diff, t1='actual_time_utc_berlin_actual', t2='estimated_time_utc_berlin_first', axis=1)\n",
    "est_act_time_first_pick_up[\"time_diff_first_est_act_min\"] = est_act_time_first_pick_up[\"time_diff_first_est_act\"] / 60.0"
   ]
  },
  {
   "cell_type": "code",
   "execution_count": 41,
   "metadata": {},
   "outputs": [
    {
     "name": "stdout",
     "output_type": "stream",
     "text": [
      "Stats for difference between first expected time and actual pick up time\n",
      "\n",
      "Total difference (hours): 21.228\n",
      "Average (seconds): 37.720\n",
      "Standard deviation (seconds): 231.877\n"
     ]
    }
   ],
   "source": [
    "print(\"Stats for difference between first expected time and actual pick up time\\n\")\n",
    "print_stats(est_act_time_first_pick_up,\"time_diff_first_est_act\")"
   ]
  },
  {
   "cell_type": "code",
   "execution_count": 42,
   "metadata": {
    "collapsed": true
   },
   "outputs": [],
   "source": [
    "#Calculating time differences for drop offs\n",
    "est_act_time_first_drop_off.loc[:,\"time_diff_first_est_act\"] = est_act_time_first_drop_off.apply(diff, t1='actual_time_utc_berlin_actual', t2='estimated_time_utc_berlin_first', axis=1)\n",
    "est_act_time_first_drop_off[\"time_diff_first_est_act_min\"] = est_act_time_first_drop_off[\"time_diff_first_est_act\"] / 60.0"
   ]
  },
  {
   "cell_type": "code",
   "execution_count": 43,
   "metadata": {},
   "outputs": [
    {
     "name": "stdout",
     "output_type": "stream",
     "text": [
      "Stats for difference between first expected time and actual drop off time\n",
      "\n",
      "Total difference (hours): 31.427\n",
      "Average (seconds): 55.843\n",
      "Standard deviation (seconds): 394.421\n"
     ]
    }
   ],
   "source": [
    "print(\"Stats for difference between first expected time and actual drop off time\\n\")\n",
    "print_stats(est_act_time_first_drop_off,\"time_diff_first_est_act\")"
   ]
  },
  {
   "cell_type": "code",
   "execution_count": 44,
   "metadata": {},
   "outputs": [
    {
     "data": {
      "image/png": "[encoded data removed]",
      "text/plain": [
       "<matplotlib.figure.Figure at 0x114ecdba8>"
      ]
     },
     "metadata": {},
     "output_type": "display_data"
    }
   ],
   "source": [
    "fig, ax = plt.subplots(2, figsize=(10,7))\n",
    "sns.distplot(est_act_time_first_pick_up[\"time_diff_first_est_act_min\"], kde=False, ax=ax[0])\n",
    "sns.distplot(est_act_time_first_drop_off[\"time_diff_first_est_act_min\"], kde=False, ax=ax[1])\n",
    "ax[0].set_title(\"Distribution of difference - pick ups \\n Actual Time First Expected Time (minutes)\")\n",
    "ax[1].set_title(\"Distribution of difference - drop off \\n Actual Time First Expected Time (minutes)\")\n",
    "for ax in ax.flatten():\n",
    "    ax.set_ylabel(\"Counts minutes\")\n",
    "    ax.set_ylabel(\"Counts minutes\")\n",
    "    ax.set_xlabel(\"Time difference\")\n",
    "    ax.axvline(0, color=\"#44999E\", linestyle='--')\n",
    "fig.tight_layout() "
   ]
  },
  {
   "cell_type": "markdown",
   "metadata": {},
   "source": [
    "Looking at the distributions and the statistics for pick ups and drop offs one can notice that the differences for actual time vs. first expected time are bigger for the drop off than pick ups. This is straightforward to understand. As drop off are farther ahead in the future, it is more difficult to predict than pick ups. Still doing better at predicting pick ups and drop offs would give the service reliability in terms of the expected time users need to wait for the complete service (pick up and drop off) to be conducted."
   ]
  },
  {
   "cell_type": "code",
   "execution_count": 45,
   "metadata": {
    "collapsed": true
   },
   "outputs": [],
   "source": [
    "#Using plotting functions\n",
    "threshold_first_pick_up =  get_thresholds_groups(est_act_time_first_pick_up, \"time_diff_first_est_act_min\")\n",
    "within_thresh_first_pick_up = get_region_threshold_groups(threshold_first_pick_up, \"colors\")\n",
    "threshold_first_drop_off = get_thresholds_groups(est_act_time_first_drop_off, \"time_diff_first_est_act_min\")\n",
    "within_thresh_first_drop_off = get_region_threshold_groups(threshold_first_drop_off, \"colors\")"
   ]
  },
  {
   "cell_type": "code",
   "execution_count": 43,
   "metadata": {},
   "outputs": [
    {
     "data": {
      "text/html": [
       "\n",
       "\n",
       "    <div class=\"bk-root\">\n",
       "        <div class=\"bk-plotdiv\" id=\"dfbdcd43-795a-4de4-9223-545885282428\"></div>\n",
       "    </div>\n",
       "<script type=\"text/javascript\">\n",
       "  \n",
       "  (function(global) {\n",
       "    function now() {\n",
       "      return new Date();\n",
       "    }\n",
       "  \n",
       "    var force = false;\n",
       "  \n",
       "    if (typeof (window._bokeh_onload_callbacks) === \"undefined\" || force === true) {\n",
       "      window._bokeh_onload_callbacks = [];\n",
       "      window._bokeh_is_loading = undefined;\n",
       "    }\n",
       "  \n",
       "  \n",
       "    \n",
       "    if (typeof (window._bokeh_timeout) === \"undefined\" || force === true) {\n",
       "      window._bokeh_timeout = Date.now() + 0;\n",
       "      window._bokeh_failed_load = false;\n",
       "    }\n",
       "  \n",
       "    var NB_LOAD_WARNING = {'data': {'text/html':\n",
       "       \"<div style='background-color: #fdd'>\\n\"+\n",
       "       \"<p>\\n\"+\n",
       "       \"BokehJS does not appear to have successfully loaded. If loading BokehJS from CDN, this \\n\"+\n",
       "       \"may be due to a slow or bad network connection. Possible fixes:\\n\"+\n",
       "       \"</p>\\n\"+\n",
       "       \"<ul>\\n\"+\n",
       "       \"<li>re-rerun `output_notebook()` to attempt to load from CDN again, or</li>\\n\"+\n",
       "       \"<li>use INLINE resources instead, as so:</li>\\n\"+\n",
       "       \"</ul>\\n\"+\n",
       "       \"<code>\\n\"+\n",
       "       \"from bokeh.resources import INLINE\\n\"+\n",
       "       \"output_notebook(resources=INLINE)\\n\"+\n",
       "       \"</code>\\n\"+\n",
       "       \"</div>\"}};\n",
       "  \n",
       "    function display_loaded() {\n",
       "      if (window.Bokeh !== undefined) {\n",
       "        var el = document.getElementById(\"dfbdcd43-795a-4de4-9223-545885282428\");\n",
       "        el.textContent = \"BokehJS \" + Bokeh.version + \" successfully loaded.\";\n",
       "      } else if (Date.now() < window._bokeh_timeout) {\n",
       "        setTimeout(display_loaded, 100)\n",
       "      }\n",
       "    }\n",
       "  \n",
       "    function run_callbacks() {\n",
       "      try {\n",
       "        window._bokeh_onload_callbacks.forEach(function(callback) { callback() });\n",
       "      }\n",
       "      finally {\n",
       "        delete window._bokeh_onload_callbacks\n",
       "      }\n",
       "      console.info(\"Bokeh: all callbacks have finished\");\n",
       "    }\n",
       "  \n",
       "    function load_libs(js_urls, callback) {\n",
       "      window._bokeh_onload_callbacks.push(callback);\n",
       "      if (window._bokeh_is_loading > 0) {\n",
       "        console.log(\"Bokeh: BokehJS is being loaded, scheduling callback at\", now());\n",
       "        return null;\n",
       "      }\n",
       "      if (js_urls == null || js_urls.length === 0) {\n",
       "        run_callbacks();\n",
       "        return null;\n",
       "      }\n",
       "      console.log(\"Bokeh: BokehJS not loaded, scheduling load and callback at\", now());\n",
       "      window._bokeh_is_loading = js_urls.length;\n",
       "      for (var i = 0; i < js_urls.length; i++) {\n",
       "        var url = js_urls[i];\n",
       "        var s = document.createElement('script');\n",
       "        s.src = url;\n",
       "        s.async = false;\n",
       "        s.onreadystatechange = s.onload = function() {\n",
       "          window._bokeh_is_loading--;\n",
       "          if (window._bokeh_is_loading === 0) {\n",
       "            console.log(\"Bokeh: all BokehJS libraries loaded\");\n",
       "            run_callbacks()\n",
       "          }\n",
       "        };\n",
       "        s.onerror = function() {\n",
       "          console.warn(\"failed to load library \" + url);\n",
       "        };\n",
       "        console.log(\"Bokeh: injecting script tag for BokehJS library: \", url);\n",
       "        document.getElementsByTagName(\"head\")[0].appendChild(s);\n",
       "      }\n",
       "    };var element = document.getElementById(\"dfbdcd43-795a-4de4-9223-545885282428\");\n",
       "    if (element == null) {\n",
       "      console.log(\"Bokeh: ERROR: autoload.js configured with elementid 'dfbdcd43-795a-4de4-9223-545885282428' but no matching script tag was found. \")\n",
       "      return false;\n",
       "    }\n",
       "  \n",
       "    var js_urls = [];\n",
       "  \n",
       "    var inline_js = [\n",
       "      function(Bokeh) {\n",
       "        (function() {\n",
       "          var fn = function() {\n",
       "            var docs_json = {\"1fa4fd51-211b-45ea-adf0-79b8468e9def\":{\"roots\":{\"references\":[{\"attributes\":{\"formatter\":{\"id\":\"79004698-8f49-4972-87b6-1e5804a472d6\",\"type\":\"BasicTickFormatter\"},\"plot\":{\"id\":\"e662c624-32b9-4979-ba72-129e88e1a098\",\"subtype\":\"Figure\",\"type\":\"Plot\"},\"ticker\":{\"id\":\"13523c7e-acf4-4b8a-b2b7-7ed388249005\",\"type\":\"BasicTicker\"}},\"id\":\"d804e098-c209-4ce8-ad4e-bf0186b8ec12\",\"type\":\"LinearAxis\"},{\"attributes\":{\"callback\":null},\"id\":\"7ef41c14-d83f-4d43-b201-c49200260b5a\",\"type\":\"DataRange1d\"},{\"attributes\":{},\"id\":\"d7744625-932d-4c55-933d-812a1be76dd3\",\"type\":\"BasicTicker\"},{\"attributes\":{\"plot\":null,\"text\":\"\"},\"id\":\"9b08035c-7b4e-4a69-97c2-d802bf2f1567\",\"type\":\"Title\"},{\"attributes\":{\"active_drag\":\"auto\",\"active_inspect\":\"auto\",\"active_scroll\":\"auto\",\"active_tap\":\"auto\",\"tools\":[{\"id\":\"47b1a516-eb5f-4f72-9d8f-1452572a2402\",\"type\":\"PanTool\"},{\"id\":\"c4980a5b-e97a-49f7-bc5e-0ef6b2675eed\",\"type\":\"WheelZoomTool\"},{\"id\":\"5f3a5ed2-5439-4a80-aed6-98fe6a0239d2\",\"type\":\"BoxZoomTool\"},{\"id\":\"74806708-6f68-4fcc-91b5-788cc76a80e5\",\"type\":\"SaveTool\"},{\"id\":\"a3d8f537-f591-4bfd-b4a0-3496027cd109\",\"type\":\"ResetTool\"},{\"id\":\"973d73e0-37c3-4e52-89b7-ba5d62272697\",\"type\":\"HelpTool\"}]},\"id\":\"e046e74a-cb6f-4bff-889e-b4c6de3140b0\",\"type\":\"Toolbar\"},{\"attributes\":{\"formatter\":{\"id\":\"0f4d60bf-2c71-460a-a413-1bbbd0e83bd4\",\"type\":\"BasicTickFormatter\"},\"plot\":{\"id\":\"eb1c5c46-1122-4b26-b643-1c47ee872951\",\"subtype\":\"Figure\",\"type\":\"Plot\"},\"ticker\":{\"id\":\"c797bbc8-ea10-4d77-92be-a82b24b68643\",\"type\":\"BasicTicker\"}},\"id\":\"9bbc35c5-525c-44cc-b4ee-fe8e5115e3b4\",\"type\":\"LinearAxis\"},{\"attributes\":{\"callback\":null,\"column_names\":[\"x\",\"y\"],\"data\":{\"x\":[0.554240631163708,0.554240631163708],\"y\":[0.5,1.5]}},\"id\":\"3c560576-579a-4fd3-8cf9-bbc62c49f462\",\"type\":\"ColumnDataSource\"},{\"attributes\":{\"line_alpha\":{\"value\":0.1},\"line_color\":{\"value\":\"#1f77b4\"},\"line_dash\":[6],\"line_width\":{\"value\":2},\"x\":{\"field\":\"x\"},\"y\":{\"field\":\"y\"}},\"id\":\"a8d4ae63-9c67-431b-bb75-787e57fe1512\",\"type\":\"Line\"},{\"attributes\":{\"callback\":null,\"data\":{}},\"id\":\"4a4bdf91-bac9-499e-bd14-bb97b9b97098\",\"type\":\"ColumnDataSource\"},{\"attributes\":{\"align\":\"center\",\"plot\":{\"id\":\"eb1c5c46-1122-4b26-b643-1c47ee872951\",\"subtype\":\"Figure\",\"type\":\"Plot\"},\"text\":\"Total percentage within thresholds drop off\"},\"id\":\"def85453-8c26-4dee-878d-8ef43dc14d58\",\"type\":\"Title\"},{\"attributes\":{},\"id\":\"0f4d60bf-2c71-460a-a413-1bbbd0e83bd4\",\"type\":\"BasicTickFormatter\"},{\"attributes\":{\"callback\":null},\"id\":\"fc8bd293-5372-4687-8756-7c2e3133908a\",\"type\":\"DataRange1d\"},{\"attributes\":{\"fill_color\":{\"value\":\"#E4E02C\"},\"height\":{\"value\":0.3},\"left\":{\"value\":0.39349112426035504},\"line_color\":{\"value\":\"#E4E02C\"},\"right\":{\"value\":0.554240631163708},\"y\":{\"value\":1}},\"id\":\"cbb32455-c0b7-4497-ac73-86441274dd85\",\"type\":\"HBar\"},{\"attributes\":{\"bottom_units\":\"screen\",\"fill_alpha\":{\"value\":0.5},\"fill_color\":{\"value\":\"lightgrey\"},\"left_units\":\"screen\",\"level\":\"overlay\",\"line_alpha\":{\"value\":1.0},\"line_color\":{\"value\":\"black\"},\"line_dash\":[4,4],\"line_width\":{\"value\":2},\"plot\":null,\"render_mode\":\"css\",\"right_units\":\"screen\",\"top_units\":\"screen\"},\"id\":\"0eb1e412-27e7-41b3-8871-99eccdaef3ac\",\"type\":\"BoxAnnotation\"},{\"attributes\":{\"fill_alpha\":{\"value\":0.1},\"fill_color\":{\"value\":\"#1f77b4\"},\"height\":{\"value\":0.3},\"line_alpha\":{\"value\":0.1},\"line_color\":{\"value\":\"#1f77b4\"},\"right\":{\"value\":0.39349112426035504},\"y\":{\"value\":1}},\"id\":\"b57f5169-66f8-4be9-aa11-3d5d583e98b0\",\"type\":\"HBar\"},{\"attributes\":{\"callback\":null,\"data\":{}},\"id\":\"33e98edb-8a29-44da-88b0-224e663fa0bb\",\"type\":\"ColumnDataSource\"},{\"attributes\":{\"callback\":null,\"data\":{}},\"id\":\"70c0b033-4d53-45ef-a585-fbb6ea0cbb14\",\"type\":\"ColumnDataSource\"},{\"attributes\":{\"line_color\":{\"value\":\"#AAB2A5\"},\"line_dash\":[6],\"line_width\":{\"value\":2},\"x\":{\"field\":\"x\"},\"y\":{\"field\":\"y\"}},\"id\":\"0ee37b66-587c-496b-8714-de31a04efce0\",\"type\":\"Line\"},{\"attributes\":{},\"id\":\"aa34b790-55fa-458d-88b3-f67eb701bb22\",\"type\":\"BasicTicker\"},{\"attributes\":{},\"id\":\"879b351a-8812-43d1-8533-28a22f4f0ef3\",\"type\":\"BasicTicker\"},{\"attributes\":{\"data_source\":{\"id\":\"4ba5c5a9-068f-4954-b1fa-72bc49c633b3\",\"type\":\"ColumnDataSource\"},\"glyph\":{\"id\":\"87b6ac02-5447-4f5f-b6fb-b5a79f2c11bc\",\"type\":\"HBar\"},\"hover_glyph\":null,\"muted_glyph\":null,\"nonselection_glyph\":{\"id\":\"36f66337-6de7-4673-bd15-d8749e4b7bc4\",\"type\":\"HBar\"},\"selection_glyph\":null},\"id\":\"1dbad28d-6543-4bef-818c-2fd779b6a46b\",\"type\":\"GlyphRenderer\"},{\"attributes\":{\"grid_line_color\":{\"value\":null},\"plot\":{\"id\":\"b30eb475-7945-4318-9069-db8e1ce6e6e1\",\"subtype\":\"Figure\",\"type\":\"Plot\"},\"ticker\":{\"id\":\"879b351a-8812-43d1-8533-28a22f4f0ef3\",\"type\":\"BasicTicker\"}},\"id\":\"b1616e1d-c7b9-45ce-b741-801a28e31b4c\",\"type\":\"Grid\"},{\"attributes\":{\"line_alpha\":{\"value\":0.1},\"line_color\":{\"value\":\"#1f77b4\"},\"line_dash\":[6],\"line_width\":{\"value\":2},\"x\":{\"field\":\"x\"},\"y\":{\"field\":\"y\"}},\"id\":\"e0ebfce8-1514-46ab-a7a4-92965193f2d2\",\"type\":\"Line\"},{\"attributes\":{\"line_alpha\":{\"value\":0.1},\"line_color\":{\"value\":\"#1f77b4\"},\"line_dash\":[6],\"line_width\":{\"value\":2},\"x\":{\"field\":\"x\"},\"y\":{\"field\":\"y\"}},\"id\":\"50213b75-374f-4fef-9ac9-01513ce56853\",\"type\":\"Line\"},{\"attributes\":{},\"id\":\"5856c70a-9e3a-48ff-b71a-c3e712df9462\",\"type\":\"LinearScale\"},{\"attributes\":{\"plot\":{\"id\":\"b30eb475-7945-4318-9069-db8e1ce6e6e1\",\"subtype\":\"Figure\",\"type\":\"Plot\"}},\"id\":\"c4980a5b-e97a-49f7-bc5e-0ef6b2675eed\",\"type\":\"WheelZoomTool\"},{\"attributes\":{},\"id\":\"e6223e1b-7724-4c0f-a052-19cfaebd1a6a\",\"type\":\"BasicTickFormatter\"},{\"attributes\":{\"plot\":null,\"text\":\"\"},\"id\":\"7b40a409-cdf5-4fcf-9d85-f4d868bfe53b\",\"type\":\"Title\"},{\"attributes\":{\"data_source\":{\"id\":\"68e23515-7306-4f3f-ab6d-064d00b07dc7\",\"type\":\"ColumnDataSource\"},\"glyph\":{\"id\":\"81f858a1-e62b-427f-8c68-f07f0fe143c7\",\"type\":\"Line\"},\"hover_glyph\":null,\"muted_glyph\":null,\"nonselection_glyph\":{\"id\":\"34aaef06-ff00-460e-abe2-ece425f4bf0a\",\"type\":\"Line\"},\"selection_glyph\":null},\"id\":\"a3c71cc6-cd1d-4b7f-b007-4e356d840833\",\"type\":\"GlyphRenderer\"},{\"attributes\":{\"line_color\":{\"value\":\"#AAB2A5\"},\"line_dash\":[6],\"line_width\":{\"value\":2},\"x\":{\"field\":\"x\"},\"y\":{\"field\":\"y\"}},\"id\":\"d9532c38-4db5-4505-8f9d-f9528d355fef\",\"type\":\"Line\"},{\"attributes\":{\"data_source\":{\"id\":\"e9cc2240-f742-4532-a0c7-46926feddc98\",\"type\":\"ColumnDataSource\"},\"glyph\":{\"id\":\"8d3f922f-81d0-442e-8906-f38a888630f4\",\"type\":\"VBar\"},\"hover_glyph\":null,\"muted_glyph\":null,\"nonselection_glyph\":{\"id\":\"78838325-fbed-45cf-8ff5-6d49260155f6\",\"type\":\"VBar\"},\"selection_glyph\":null},\"id\":\"e3d07766-6393-4604-a6a0-33504dbe1001\",\"type\":\"GlyphRenderer\"},{\"attributes\":{\"fill_color\":{\"value\":\"#E4E02C\"},\"height\":{\"value\":0.3},\"left\":{\"value\":0.2549407114624506},\"line_color\":{\"value\":\"#E4E02C\"},\"right\":{\"value\":0.4288537549407115},\"y\":{\"value\":1}},\"id\":\"eef52f01-f881-479e-9681-f2ac74f2af8f\",\"type\":\"HBar\"},{\"attributes\":{\"callback\":null,\"column_names\":[\"x\",\"y\"],\"data\":{\"x\":[0.2549407114624506,0.2549407114624506],\"y\":[0.5,1.5]}},\"id\":\"e17184d9-4919-467a-8275-942c3edbc3ad\",\"type\":\"ColumnDataSource\"},{\"attributes\":{\"callback\":null,\"column_names\":[\"x\",\"y\"],\"data\":{\"x\":[-0.2766798418972332,-0.2766798418972332],\"y\":[0.5,1.5]}},\"id\":\"5360f9f8-c92c-423e-be6e-b171870b87cb\",\"type\":\"ColumnDataSource\"},{\"attributes\":{\"overlay\":{\"id\":\"d0e9462c-50e1-49a9-9341-95c2c95f0aca\",\"type\":\"BoxAnnotation\"},\"plot\":{\"id\":\"b30eb475-7945-4318-9069-db8e1ce6e6e1\",\"subtype\":\"Figure\",\"type\":\"Plot\"}},\"id\":\"5f3a5ed2-5439-4a80-aed6-98fe6a0239d2\",\"type\":\"BoxZoomTool\"},{\"attributes\":{\"fill_color\":{\"value\":\"#459E0F\"},\"height\":{\"value\":0.3},\"left\":{\"value\":-0.32741617357001973},\"line_color\":{\"value\":\"#459E0F\"},\"right\":{\"value\":0},\"y\":{\"value\":1}},\"id\":\"8343e73f-0a1e-431f-9bb3-8b6d45e68255\",\"type\":\"HBar\"},{\"attributes\":{\"data_source\":{\"id\":\"f0453e8b-d040-4884-95f5-e48ddbb7b624\",\"type\":\"ColumnDataSource\"},\"glyph\":{\"id\":\"12627af1-86f0-4458-8fcf-2e8d7518744c\",\"type\":\"Line\"},\"hover_glyph\":null,\"muted_glyph\":null,\"nonselection_glyph\":{\"id\":\"6f21ed0e-5f3a-45e0-9358-b65c763fef02\",\"type\":\"Line\"},\"selection_glyph\":null},\"id\":\"402f2d87-3203-4a44-be00-7a72abcd62b9\",\"type\":\"GlyphRenderer\"},{\"attributes\":{\"fill_alpha\":{\"value\":0.1},\"fill_color\":{\"value\":\"#1f77b4\"},\"height\":{\"value\":0.3},\"left\":{\"value\":-0.3895463510848126},\"line_alpha\":{\"value\":0.1},\"line_color\":{\"value\":\"#1f77b4\"},\"right\":{\"value\":-0.32741617357001973},\"y\":{\"value\":1}},\"id\":\"cef4f1c9-4620-41ad-b174-1d744a52d6f7\",\"type\":\"HBar\"},{\"attributes\":{\"callback\":null,\"column_names\":[\"x\",\"y\"],\"data\":{\"x\":[0,0],\"y\":[0.5,1.5]}},\"id\":\"ce55d626-3484-409a-9633-629b1c2d9a97\",\"type\":\"ColumnDataSource\"},{\"attributes\":{\"line_color\":{\"value\":\"#AAB2A5\"},\"line_dash\":[6],\"line_width\":{\"value\":2},\"x\":{\"field\":\"x\"},\"y\":{\"field\":\"y\"}},\"id\":\"81f858a1-e62b-427f-8c68-f07f0fe143c7\",\"type\":\"Line\"},{\"attributes\":{\"fill_alpha\":{\"value\":0.1},\"fill_color\":{\"value\":\"#1f77b4\"},\"height\":{\"value\":0.3},\"left\":{\"value\":-0.32741617357001973},\"line_alpha\":{\"value\":0.1},\"line_color\":{\"value\":\"#1f77b4\"},\"right\":{\"value\":0},\"y\":{\"value\":1}},\"id\":\"03dd1689-9cd4-47bf-9b49-3263383708d3\",\"type\":\"HBar\"},{\"attributes\":{\"callback\":null,\"end\":2},\"id\":\"d97cbd84-9764-4743-8cd5-27d3a5a3e073\",\"type\":\"Range1d\"},{\"attributes\":{},\"id\":\"c89f8211-830b-47c0-9f6e-ad0ea62bedae\",\"type\":\"LinearScale\"},{\"attributes\":{\"fill_alpha\":{\"value\":0.1},\"fill_color\":{\"value\":\"#1f77b4\"},\"height\":{\"value\":0.3},\"left\":{\"value\":0.554240631163708},\"line_alpha\":{\"value\":0.1},\"line_color\":{\"value\":\"#1f77b4\"},\"right\":{\"value\":0.6084812623274161},\"y\":{\"value\":1}},\"id\":\"56fe0bcd-d889-485e-8e2e-3c789638b3f7\",\"type\":\"HBar\"},{\"attributes\":{\"formatter\":{\"id\":\"6a503149-87d0-4362-903c-8d054d7a1ade\",\"type\":\"BasicTickFormatter\"},\"plot\":{\"id\":\"eb1c5c46-1122-4b26-b643-1c47ee872951\",\"subtype\":\"Figure\",\"type\":\"Plot\"},\"ticker\":{\"id\":\"d7744625-932d-4c55-933d-812a1be76dd3\",\"type\":\"BasicTicker\"}},\"id\":\"b128f982-3702-49b6-9069-0097b98c9126\",\"type\":\"LinearAxis\"},{\"attributes\":{\"callback\":null,\"column_names\":[\"x\",\"y\"],\"data\":{\"x\":[0.4288537549407115,0.4288537549407115],\"y\":[0.5,1.5]}},\"id\":\"61600b76-044b-4369-8fd3-4137b44bbee7\",\"type\":\"ColumnDataSource\"},{\"attributes\":{\"data_source\":{\"id\":\"649ffd14-275a-47e2-a502-de38d467122b\",\"type\":\"ColumnDataSource\"},\"glyph\":{\"id\":\"43556524-a74e-438c-8597-a31c3d5a1e2f\",\"type\":\"HBar\"},\"hover_glyph\":null,\"muted_glyph\":null,\"nonselection_glyph\":{\"id\":\"cef4f1c9-4620-41ad-b174-1d744a52d6f7\",\"type\":\"HBar\"},\"selection_glyph\":null},\"id\":\"c27ee880-e550-45db-80a5-b0fd3dc93f20\",\"type\":\"GlyphRenderer\"},{\"attributes\":{\"fill_color\":{\"value\":\"#459E0F\"},\"height\":{\"value\":0.3},\"line_color\":{\"value\":\"#459E0F\"},\"right\":{\"value\":0.39349112426035504},\"y\":{\"value\":1}},\"id\":\"1b6b97f1-7dff-434d-b58d-3d60a82f40ec\",\"type\":\"HBar\"},{\"attributes\":{\"formatter\":{\"id\":\"dadc7eb3-4652-4766-bdb6-25b275378592\",\"type\":\"BasicTickFormatter\"},\"plot\":{\"id\":\"b30eb475-7945-4318-9069-db8e1ce6e6e1\",\"subtype\":\"Figure\",\"type\":\"Plot\"},\"ticker\":{\"id\":\"879b351a-8812-43d1-8533-28a22f4f0ef3\",\"type\":\"BasicTicker\"}},\"id\":\"35a9efaa-2527-4272-b80a-a83a825b0657\",\"type\":\"LinearAxis\"},{\"attributes\":{\"callback\":null,\"column_names\":[\"x\",\"y\"],\"data\":{\"x\":[-0.3895463510848126,-0.3895463510848126],\"y\":[0.5,1.5]}},\"id\":\"1de5862e-ea2d-4c5e-8e8c-2459d64807f6\",\"type\":\"ColumnDataSource\"},{\"attributes\":{},\"id\":\"13523c7e-acf4-4b8a-b2b7-7ed388249005\",\"type\":\"BasicTicker\"},{\"attributes\":{\"data_source\":{\"id\":\"cd17ebbc-2272-46f0-abc2-daf6f13a7895\",\"type\":\"ColumnDataSource\"},\"glyph\":{\"id\":\"4d64efbf-a8c3-4197-bb4b-7172559b0d22\",\"type\":\"Line\"},\"hover_glyph\":null,\"muted_glyph\":null,\"nonselection_glyph\":{\"id\":\"5faf7e1d-a509-4f13-abec-6c534f4bc5b2\",\"type\":\"Line\"},\"selection_glyph\":null},\"id\":\"20937185-bfc7-4ba2-b302-499fa735ea50\",\"type\":\"GlyphRenderer\"},{\"attributes\":{\"line_color\":{\"value\":\"#AAB2A5\"},\"line_dash\":[6],\"line_width\":{\"value\":2},\"x\":{\"field\":\"x\"},\"y\":{\"field\":\"y\"}},\"id\":\"fddfb3ee-44b3-4d18-a5ba-0c97c7fea46c\",\"type\":\"Line\"},{\"attributes\":{\"data_source\":{\"id\":\"c03c8691-c6e1-44ee-bae1-d54b1537b9e1\",\"type\":\"ColumnDataSource\"},\"glyph\":{\"id\":\"8343e73f-0a1e-431f-9bb3-8b6d45e68255\",\"type\":\"HBar\"},\"hover_glyph\":null,\"muted_glyph\":null,\"nonselection_glyph\":{\"id\":\"03dd1689-9cd4-47bf-9b49-3263383708d3\",\"type\":\"HBar\"},\"selection_glyph\":null},\"id\":\"a5d6c27b-53f5-446a-bbff-aadbafed789d\",\"type\":\"GlyphRenderer\"},{\"attributes\":{\"callback\":null,\"data\":{}},\"id\":\"2952eaee-1ad3-4101-84d0-3596edd818e5\",\"type\":\"ColumnDataSource\"},{\"attributes\":{},\"id\":\"485c3114-ea3d-43d2-a24d-d299f104a7ee\",\"type\":\"LinearScale\"},{\"attributes\":{\"line_alpha\":{\"value\":0.1},\"line_color\":{\"value\":\"#1f77b4\"},\"line_dash\":[6],\"line_width\":{\"value\":2},\"x\":{\"field\":\"x\"},\"y\":{\"field\":\"y\"}},\"id\":\"6f21ed0e-5f3a-45e0-9358-b65c763fef02\",\"type\":\"Line\"},{\"attributes\":{\"text\":\"<h1 style='margin-left:150px;margin-right:-500px;margin-bottom:18px;font-size:20px;                color:#7D7575'> Time thresholds for pick ups / drop offs (first expected time)</h1>\"},\"id\":\"e4442569-2329-4124-aeae-c5efa0228a4e\",\"type\":\"Div\"},{\"attributes\":{\"line_alpha\":{\"value\":0.1},\"line_color\":{\"value\":\"#1f77b4\"},\"line_dash\":[6],\"line_width\":{\"value\":2},\"x\":{\"field\":\"x\"},\"y\":{\"field\":\"y\"}},\"id\":\"92431706-27f3-4f72-8519-9ead570553ac\",\"type\":\"Line\"},{\"attributes\":{\"fill_color\":{\"value\":\"#459E0F\"},\"height\":{\"value\":0.3},\"left\":{\"value\":-0.2766798418972332},\"line_color\":{\"value\":\"#459E0F\"},\"right\":{\"value\":0},\"y\":{\"value\":1}},\"id\":\"b9dd9c88-e7eb-4e90-99e9-fa92a3648699\",\"type\":\"HBar\"},{\"attributes\":{\"fill_alpha\":{\"value\":0.1},\"fill_color\":{\"value\":\"#1f77b4\"},\"line_alpha\":{\"value\":0.1},\"line_color\":{\"value\":\"#1f77b4\"},\"top\":{\"field\":\"pct\"},\"width\":{\"value\":0.6},\"x\":{\"field\":\"index\"}},\"id\":\"c5073b27-1745-4fdb-b306-b7f8d9f12c11\",\"type\":\"VBar\"},{\"attributes\":{\"line_alpha\":{\"value\":0.1},\"line_color\":{\"value\":\"#1f77b4\"},\"line_dash\":[6],\"line_width\":{\"value\":2},\"x\":{\"field\":\"x\"},\"y\":{\"field\":\"y\"}},\"id\":\"a9a236fd-4f4c-4096-99ed-cb06983e714d\",\"type\":\"Line\"},{\"attributes\":{\"fill_color\":{\"value\":\"#E4E02C\"},\"height\":{\"value\":0.3},\"left\":{\"value\":-0.3895463510848126},\"line_color\":{\"value\":\"#E4E02C\"},\"right\":{\"value\":-0.32741617357001973},\"y\":{\"value\":1}},\"id\":\"43556524-a74e-438c-8597-a31c3d5a1e2f\",\"type\":\"HBar\"},{\"attributes\":{\"dimension\":1,\"grid_line_color\":{\"value\":null},\"plot\":{\"id\":\"b30eb475-7945-4318-9069-db8e1ce6e6e1\",\"subtype\":\"Figure\",\"type\":\"Plot\"},\"ticker\":{\"id\":\"02a5a9b0-a46b-4472-aa76-86e36cc35165\",\"type\":\"BasicTicker\"}},\"id\":\"a9ba7453-8cba-4711-85eb-ca3b6c98516c\",\"type\":\"Grid\"},{\"attributes\":{\"line_color\":{\"value\":\"#AAB2A5\"},\"line_dash\":[6],\"line_width\":{\"value\":2},\"x\":{\"field\":\"x\"},\"y\":{\"field\":\"y\"}},\"id\":\"0d54264a-d957-4553-97c9-bc2ef40b54d4\",\"type\":\"Line\"},{\"attributes\":{},\"id\":\"02a5a9b0-a46b-4472-aa76-86e36cc35165\",\"type\":\"BasicTicker\"},{\"attributes\":{},\"id\":\"28ebcae0-6d9d-4d6b-9cd7-1f0fe7b9fff0\",\"type\":\"ToolEvents\"},{\"attributes\":{\"line_color\":{\"value\":\"#AAB2A5\"},\"line_dash\":[6],\"line_width\":{\"value\":2},\"x\":{\"field\":\"x\"},\"y\":{\"field\":\"y\"}},\"id\":\"4d64efbf-a8c3-4197-bb4b-7172559b0d22\",\"type\":\"Line\"},{\"attributes\":{\"line_alpha\":{\"value\":0.1},\"line_color\":{\"value\":\"#1f77b4\"},\"line_dash\":[6],\"line_width\":{\"value\":2},\"x\":{\"field\":\"x\"},\"y\":{\"field\":\"y\"}},\"id\":\"aa0d9adf-ec36-47e0-ba43-eaab2db8ecb9\",\"type\":\"Line\"},{\"attributes\":{\"line_alpha\":{\"value\":0.1},\"line_color\":{\"value\":\"#1f77b4\"},\"line_dash\":[6],\"line_width\":{\"value\":2},\"x\":{\"field\":\"x\"},\"y\":{\"field\":\"y\"}},\"id\":\"4a721e6d-c6f2-42f9-b754-ac37eacaac18\",\"type\":\"Line\"},{\"attributes\":{\"formatter\":{\"id\":\"e6223e1b-7724-4c0f-a052-19cfaebd1a6a\",\"type\":\"BasicTickFormatter\"},\"plot\":{\"id\":\"6e0a6f2f-53d8-407b-a68a-0c629b420bc2\",\"subtype\":\"Figure\",\"type\":\"Plot\"},\"ticker\":{\"id\":\"d2569ec4-c3bb-4637-8939-d856afec3848\",\"type\":\"BasicTicker\"}},\"id\":\"0d28ec43-f126-48ff-bcef-5ef9b7221ae8\",\"type\":\"LinearAxis\"},{\"attributes\":{\"data_source\":{\"id\":\"61600b76-044b-4369-8fd3-4137b44bbee7\",\"type\":\"ColumnDataSource\"},\"glyph\":{\"id\":\"0d54264a-d957-4553-97c9-bc2ef40b54d4\",\"type\":\"Line\"},\"hover_glyph\":null,\"muted_glyph\":null,\"nonselection_glyph\":{\"id\":\"a9a236fd-4f4c-4096-99ed-cb06983e714d\",\"type\":\"Line\"},\"selection_glyph\":null},\"id\":\"3170ba88-9b5d-4ae0-94c2-e0149104efe7\",\"type\":\"GlyphRenderer\"},{\"attributes\":{\"children\":[{\"id\":\"b30eb475-7945-4318-9069-db8e1ce6e6e1\",\"subtype\":\"Figure\",\"type\":\"Plot\"},{\"id\":\"6e0a6f2f-53d8-407b-a68a-0c629b420bc2\",\"subtype\":\"Figure\",\"type\":\"Plot\"}]},\"id\":\"e9f89d6d-0246-4bba-bf3a-bde2fa63fe86\",\"type\":\"Row\"},{\"attributes\":{\"line_color\":{\"value\":\"#AAB2A5\"},\"line_dash\":[6],\"line_width\":{\"value\":2},\"x\":{\"field\":\"x\"},\"y\":{\"field\":\"y\"}},\"id\":\"ca13e593-727b-4a1d-b6f9-ab31947644d5\",\"type\":\"Line\"},{\"attributes\":{\"data_source\":{\"id\":\"91cdfd13-ccb2-454a-b38e-b3078f8d2a49\",\"type\":\"ColumnDataSource\"},\"glyph\":{\"id\":\"e3d1f01d-df54-4782-b0e4-b522a95a15a1\",\"type\":\"VBar\"},\"hover_glyph\":null,\"muted_glyph\":null,\"nonselection_glyph\":{\"id\":\"c5073b27-1745-4fdb-b306-b7f8d9f12c11\",\"type\":\"VBar\"},\"selection_glyph\":null},\"id\":\"69addd9f-50ee-4725-912a-9bba8d099c96\",\"type\":\"GlyphRenderer\"},{\"attributes\":{\"fill_alpha\":{\"value\":0.1},\"fill_color\":{\"value\":\"#1f77b4\"},\"line_alpha\":{\"value\":0.1},\"line_color\":{\"value\":\"#1f77b4\"},\"top\":{\"field\":\"pct\"},\"width\":{\"value\":0.6},\"x\":{\"field\":\"index\"}},\"id\":\"78838325-fbed-45cf-8ff5-6d49260155f6\",\"type\":\"VBar\"},{\"attributes\":{\"above\":[{\"id\":\"362b2027-48c7-4df7-8e94-32c49c6960de\",\"type\":\"Title\"}],\"below\":[{\"id\":\"0d28ec43-f126-48ff-bcef-5ef9b7221ae8\",\"type\":\"LinearAxis\"}],\"left\":[{\"id\":\"e0f7e8fa-1acc-40d4-a0b5-a4fe167d4c44\",\"type\":\"LinearAxis\"}],\"plot_height\":300,\"plot_width\":400,\"renderers\":[{\"id\":\"0d28ec43-f126-48ff-bcef-5ef9b7221ae8\",\"type\":\"LinearAxis\"},{\"id\":\"3509338b-a400-4c44-b40c-440ac2a7b779\",\"type\":\"Grid\"},{\"id\":\"e0f7e8fa-1acc-40d4-a0b5-a4fe167d4c44\",\"type\":\"LinearAxis\"},{\"id\":\"df158c35-ee84-4029-879b-f9683b23e706\",\"type\":\"Grid\"},{\"id\":\"362b2027-48c7-4df7-8e94-32c49c6960de\",\"type\":\"Title\"},{\"id\":\"e3d07766-6393-4604-a6a0-33504dbe1001\",\"type\":\"GlyphRenderer\"}],\"title\":{\"id\":\"7b40a409-cdf5-4fcf-9d85-f4d868bfe53b\",\"type\":\"Title\"},\"tool_events\":{\"id\":\"28ebcae0-6d9d-4d6b-9cd7-1f0fe7b9fff0\",\"type\":\"ToolEvents\"},\"toolbar\":{\"id\":\"7cebc2c6-cc60-46d2-8349-5538e40d9572\",\"type\":\"Toolbar\"},\"x_range\":{\"id\":\"f33fdf04-c27e-447c-a515-66d537e6f210\",\"type\":\"DataRange1d\"},\"x_scale\":{\"id\":\"0d670a7d-239e-4bb0-b8ac-0788f20e3720\",\"type\":\"LinearScale\"},\"y_range\":{\"id\":\"a13f3d0a-72aa-475b-b89b-db79a66623ec\",\"type\":\"DataRange1d\"},\"y_scale\":{\"id\":\"b153912e-67ba-41eb-ac85-772030af38fc\",\"type\":\"LinearScale\"}},\"id\":\"6e0a6f2f-53d8-407b-a68a-0c629b420bc2\",\"subtype\":\"Figure\",\"type\":\"Plot\"},{\"attributes\":{\"data_source\":{\"id\":\"b9822757-acae-412c-97c7-fd972da852d6\",\"type\":\"ColumnDataSource\"},\"glyph\":{\"id\":\"0ee37b66-587c-496b-8714-de31a04efce0\",\"type\":\"Line\"},\"hover_glyph\":null,\"muted_glyph\":null,\"nonselection_glyph\":{\"id\":\"6ba80979-1bee-4091-8c53-356f25ee4894\",\"type\":\"Line\"},\"selection_glyph\":null},\"id\":\"cc3949d8-6cc0-4ed2-80fc-241f4162f4f0\",\"type\":\"GlyphRenderer\"},{\"attributes\":{\"data_source\":{\"id\":\"8d4ff301-c99d-410e-9ce0-0436685315ff\",\"type\":\"ColumnDataSource\"},\"glyph\":{\"id\":\"1ff22feb-a4d9-4c17-9332-2bf1eb971189\",\"type\":\"HBar\"},\"hover_glyph\":null,\"muted_glyph\":null,\"nonselection_glyph\":{\"id\":\"53b832d8-bf0e-4cff-95d6-2de6f54456b1\",\"type\":\"HBar\"},\"selection_glyph\":null},\"id\":\"552eb399-3d8a-4e2f-bbe8-8097760ad9fa\",\"type\":\"GlyphRenderer\"},{\"attributes\":{},\"id\":\"2895d82f-c867-48fc-a23b-d06879a7c030\",\"type\":\"BasicTicker\"},{\"attributes\":{\"above\":[{\"id\":\"3de7cd49-a2eb-4485-8a2e-473285a4088d\",\"type\":\"Title\"}],\"below\":[{\"id\":\"35a9efaa-2527-4272-b80a-a83a825b0657\",\"type\":\"LinearAxis\"}],\"left\":[{\"id\":\"19019054-a5bf-460d-9daa-8634659a798d\",\"type\":\"LinearAxis\"}],\"plot_height\":300,\"plot_width\":400,\"renderers\":[{\"id\":\"35a9efaa-2527-4272-b80a-a83a825b0657\",\"type\":\"LinearAxis\"},{\"id\":\"b1616e1d-c7b9-45ce-b741-801a28e31b4c\",\"type\":\"Grid\"},{\"id\":\"19019054-a5bf-460d-9daa-8634659a798d\",\"type\":\"LinearAxis\"},{\"id\":\"a9ba7453-8cba-4711-85eb-ca3b6c98516c\",\"type\":\"Grid\"},{\"id\":\"d0e9462c-50e1-49a9-9341-95c2c95f0aca\",\"type\":\"BoxAnnotation\"},{\"id\":\"a5d6c27b-53f5-446a-bbff-aadbafed789d\",\"type\":\"GlyphRenderer\"},{\"id\":\"a7994335-c992-4382-94a8-5579262b65b6\",\"type\":\"GlyphRenderer\"},{\"id\":\"c27ee880-e550-45db-80a5-b0fd3dc93f20\",\"type\":\"GlyphRenderer\"},{\"id\":\"20937185-bfc7-4ba2-b302-499fa735ea50\",\"type\":\"GlyphRenderer\"},{\"id\":\"21fecba0-f6c2-4afa-a2f1-7e46b065b074\",\"type\":\"GlyphRenderer\"},{\"id\":\"b8a4b257-d906-47fc-bd42-f36f72b1112d\",\"type\":\"GlyphRenderer\"},{\"id\":\"9a00799d-b5fe-4171-a6f4-0fcfe6881f48\",\"type\":\"GlyphRenderer\"},{\"id\":\"b2e68e47-4041-4c88-91d7-2663bb609e33\",\"type\":\"GlyphRenderer\"},{\"id\":\"2a978462-d763-4476-b51b-594d883db460\",\"type\":\"GlyphRenderer\"},{\"id\":\"402f2d87-3203-4a44-be00-7a72abcd62b9\",\"type\":\"GlyphRenderer\"},{\"id\":\"39ed82e8-2253-49ee-ab10-c2138314654d\",\"type\":\"GlyphRenderer\"},{\"id\":\"99ab1a8a-7d3b-41aa-a270-0a537b8248a3\",\"type\":\"GlyphRenderer\"},{\"id\":\"3de7cd49-a2eb-4485-8a2e-473285a4088d\",\"type\":\"Title\"}],\"title\":{\"id\":\"9b08035c-7b4e-4a69-97c2-d802bf2f1567\",\"type\":\"Title\"},\"tool_events\":{\"id\":\"70e1f385-ad90-433e-9024-feccec3ed559\",\"type\":\"ToolEvents\"},\"toolbar\":{\"id\":\"e046e74a-cb6f-4bff-889e-b4c6de3140b0\",\"type\":\"Toolbar\"},\"x_range\":{\"id\":\"7ef41c14-d83f-4d43-b201-c49200260b5a\",\"type\":\"DataRange1d\"},\"x_scale\":{\"id\":\"5856c70a-9e3a-48ff-b71a-c3e712df9462\",\"type\":\"LinearScale\"},\"y_range\":{\"id\":\"d97cbd84-9764-4743-8cd5-27d3a5a3e073\",\"type\":\"Range1d\"},\"y_scale\":{\"id\":\"6ecdbb5d-a713-4249-8070-a494a92b46da\",\"type\":\"LinearScale\"}},\"id\":\"b30eb475-7945-4318-9069-db8e1ce6e6e1\",\"subtype\":\"Figure\",\"type\":\"Plot\"},{\"attributes\":{\"callback\":null,\"data\":{}},\"id\":\"649ffd14-275a-47e2-a502-de38d467122b\",\"type\":\"ColumnDataSource\"},{\"attributes\":{\"plot\":{\"id\":\"b30eb475-7945-4318-9069-db8e1ce6e6e1\",\"subtype\":\"Figure\",\"type\":\"Plot\"}},\"id\":\"a3d8f537-f591-4bfd-b4a0-3496027cd109\",\"type\":\"ResetTool\"},{\"attributes\":{\"children\":[{\"id\":\"e4442569-2329-4124-aeae-c5efa0228a4e\",\"type\":\"Div\"}]},\"id\":\"64c7efa5-2763-4670-b5d9-ae1130f0c92d\",\"type\":\"WidgetBox\"},{\"attributes\":{\"data_source\":{\"id\":\"5360f9f8-c92c-423e-be6e-b171870b87cb\",\"type\":\"ColumnDataSource\"},\"glyph\":{\"id\":\"fddfb3ee-44b3-4d18-a5ba-0c97c7fea46c\",\"type\":\"Line\"},\"hover_glyph\":null,\"muted_glyph\":null,\"nonselection_glyph\":{\"id\":\"50213b75-374f-4fef-9ac9-01513ce56853\",\"type\":\"Line\"},\"selection_glyph\":null},\"id\":\"cbfe0865-833c-4ec9-8ece-c2e6b0d5733f\",\"type\":\"GlyphRenderer\"},{\"attributes\":{\"callback\":null,\"column_names\":[\"x\",\"y\"],\"data\":{\"x\":[0.39349112426035504,0.39349112426035504],\"y\":[0.5,1.5]}},\"id\":\"f0453e8b-d040-4884-95f5-e48ddbb7b624\",\"type\":\"ColumnDataSource\"},{\"attributes\":{\"callback\":null,\"column_names\":[\"thresholds\",\"colors\",\"pct\",\"index\"],\"data\":{\"colors\":[\"#459E0F\",\"#E4E02C\",\"#E43216\"],\"index\":[0,1,2],\"pct\":{\"__ndarray__\":\"ViJ0LqwR5z/+ZcJNUofMP6dCtOHzx6w/\",\"dtype\":\"float64\",\"shape\":[3]},\"thresholds\":[\"green\",\"yellow\",\"red\"]}},\"id\":\"e9cc2240-f742-4532-a0c7-46926feddc98\",\"type\":\"ColumnDataSource\"},{\"attributes\":{\"active_drag\":\"auto\",\"active_inspect\":\"auto\",\"active_scroll\":\"auto\",\"active_tap\":\"auto\",\"tools\":[{\"id\":\"aa447317-9c6c-443a-8fdc-c474cd8959b0\",\"type\":\"PanTool\"},{\"id\":\"cd4aba7d-0204-4b86-a81a-2a226ea247f2\",\"type\":\"WheelZoomTool\"},{\"id\":\"4a1708df-a890-4e9b-b78c-4f0f32dcfcb7\",\"type\":\"BoxZoomTool\"},{\"id\":\"8102abd9-44bc-4083-8f32-7a8b612a4b1e\",\"type\":\"SaveTool\"},{\"id\":\"3cdd5bea-5851-4a78-bbe3-4212b9602bb3\",\"type\":\"ResetTool\"},{\"id\":\"021207b2-743b-45a9-8e97-682a4c58cb8f\",\"type\":\"HelpTool\"}]},\"id\":\"2888a35e-b94b-44f3-aa58-eada15d78584\",\"type\":\"Toolbar\"},{\"attributes\":{\"plot\":null,\"text\":\"\"},\"id\":\"3f83e4c0-d63c-414f-bd1b-aa2324bb2640\",\"type\":\"Title\"},{\"attributes\":{\"data_source\":{\"id\":\"941ac8b6-7e74-4992-8338-c356f5c70d41\",\"type\":\"ColumnDataSource\"},\"glyph\":{\"id\":\"b7e82075-cd9d-4cc1-aa66-b14068ef4fd1\",\"type\":\"HBar\"},\"hover_glyph\":null,\"muted_glyph\":null,\"nonselection_glyph\":{\"id\":\"56fe0bcd-d889-485e-8e2e-3c789638b3f7\",\"type\":\"HBar\"},\"selection_glyph\":null},\"id\":\"39ed82e8-2253-49ee-ab10-c2138314654d\",\"type\":\"GlyphRenderer\"},{\"attributes\":{\"plot\":{\"id\":\"b30eb475-7945-4318-9069-db8e1ce6e6e1\",\"subtype\":\"Figure\",\"type\":\"Plot\"}},\"id\":\"973d73e0-37c3-4e52-89b7-ba5d62272697\",\"type\":\"HelpTool\"},{\"attributes\":{\"callback\":null},\"id\":\"f33fdf04-c27e-447c-a515-66d537e6f210\",\"type\":\"DataRange1d\"},{\"attributes\":{},\"id\":\"bce9f8c5-ab96-423e-84f9-012006934eda\",\"type\":\"ToolEvents\"},{\"attributes\":{},\"id\":\"cf93fd9d-7c5a-4199-b318-a813616a6988\",\"type\":\"ToolEvents\"},{\"attributes\":{\"formatter\":{\"id\":\"fec80670-da94-45d3-bd62-7fd5593e08a4\",\"type\":\"BasicTickFormatter\"},\"plot\":{\"id\":\"e662c624-32b9-4979-ba72-129e88e1a098\",\"subtype\":\"Figure\",\"type\":\"Plot\"},\"ticker\":{\"id\":\"aa34b790-55fa-458d-88b3-f67eb701bb22\",\"type\":\"BasicTicker\"},\"visible\":false},\"id\":\"0af2ead5-9798-4d41-bb25-85c7cc9343a0\",\"type\":\"LinearAxis\"},{\"attributes\":{\"callback\":null},\"id\":\"a13f3d0a-72aa-475b-b89b-db79a66623ec\",\"type\":\"DataRange1d\"},{\"attributes\":{},\"id\":\"ddd6ea9a-9b2a-421c-8b3d-3be83efa50d7\",\"type\":\"BasicTickFormatter\"},{\"attributes\":{\"data_source\":{\"id\":\"4a4bdf91-bac9-499e-bd14-bb97b9b97098\",\"type\":\"ColumnDataSource\"},\"glyph\":{\"id\":\"96b94ce7-3975-45d5-b3cc-092410b20d95\",\"type\":\"HBar\"},\"hover_glyph\":null,\"muted_glyph\":null,\"nonselection_glyph\":{\"id\":\"e8856473-9825-45b9-8638-cece13cc7f90\",\"type\":\"HBar\"},\"selection_glyph\":null},\"id\":\"2964e555-d474-45e7-bad7-ee66cc4af88d\",\"type\":\"GlyphRenderer\"},{\"attributes\":{\"data_source\":{\"id\":\"ce55d626-3484-409a-9633-629b1c2d9a97\",\"type\":\"ColumnDataSource\"},\"glyph\":{\"id\":\"d9532c38-4db5-4505-8f9d-f9528d355fef\",\"type\":\"Line\"},\"hover_glyph\":null,\"muted_glyph\":null,\"nonselection_glyph\":{\"id\":\"e0ebfce8-1514-46ab-a7a4-92965193f2d2\",\"type\":\"Line\"},\"selection_glyph\":null},\"id\":\"b2e68e47-4041-4c88-91d7-2663bb609e33\",\"type\":\"GlyphRenderer\"},{\"attributes\":{\"active_drag\":\"auto\",\"active_inspect\":\"auto\",\"active_scroll\":\"auto\",\"active_tap\":\"auto\",\"tools\":[{\"id\":\"2dea9559-0055-44d6-934c-10f0682eb429\",\"type\":\"HoverTool\"}]},\"id\":\"75e29181-c697-497f-aeac-4483deea6e40\",\"type\":\"Toolbar\"},{\"attributes\":{\"children\":[{\"id\":\"64c7efa5-2763-4670-b5d9-ae1130f0c92d\",\"type\":\"WidgetBox\"},{\"id\":\"8db2b9da-0f90-4fbf-bdd3-8cc349bceb3f\",\"type\":\"Column\"}]},\"id\":\"ff4356ac-cd73-428e-a7e4-f3e513633c6f\",\"type\":\"Column\"},{\"attributes\":{\"fill_color\":{\"value\":\"#E43216\"},\"height\":{\"value\":0.3},\"left\":{\"value\":0.554240631163708},\"line_color\":{\"value\":\"#E43216\"},\"right\":{\"value\":0.6084812623274161},\"y\":{\"value\":1}},\"id\":\"b7e82075-cd9d-4cc1-aa66-b14068ef4fd1\",\"type\":\"HBar\"},{\"attributes\":{\"overlay\":{\"id\":\"0eb1e412-27e7-41b3-8871-99eccdaef3ac\",\"type\":\"BoxAnnotation\"},\"plot\":{\"id\":\"e662c624-32b9-4979-ba72-129e88e1a098\",\"subtype\":\"Figure\",\"type\":\"Plot\"}},\"id\":\"4a1708df-a890-4e9b-b78c-4f0f32dcfcb7\",\"type\":\"BoxZoomTool\"},{\"attributes\":{},\"id\":\"fec80670-da94-45d3-bd62-7fd5593e08a4\",\"type\":\"BasicTickFormatter\"},{\"attributes\":{\"callback\":null,\"plot\":{\"id\":\"eb1c5c46-1122-4b26-b643-1c47ee872951\",\"subtype\":\"Figure\",\"type\":\"Plot\"},\"tooltips\":[[\"pct\",\"@pct{(0.00%)}\"]]},\"id\":\"2dea9559-0055-44d6-934c-10f0682eb429\",\"type\":\"HoverTool\"},{\"attributes\":{\"plot\":{\"id\":\"e662c624-32b9-4979-ba72-129e88e1a098\",\"subtype\":\"Figure\",\"type\":\"Plot\"}},\"id\":\"021207b2-743b-45a9-8e97-682a4c58cb8f\",\"type\":\"HelpTool\"},{\"attributes\":{\"bottom_units\":\"screen\",\"fill_alpha\":{\"value\":0.5},\"fill_color\":{\"value\":\"lightgrey\"},\"left_units\":\"screen\",\"level\":\"overlay\",\"line_alpha\":{\"value\":1.0},\"line_color\":{\"value\":\"black\"},\"line_dash\":[4,4],\"line_width\":{\"value\":2},\"plot\":null,\"render_mode\":\"css\",\"right_units\":\"screen\",\"top_units\":\"screen\"},\"id\":\"d0e9462c-50e1-49a9-9341-95c2c95f0aca\",\"type\":\"BoxAnnotation\"},{\"attributes\":{\"align\":\"center\",\"plot\":{\"id\":\"e662c624-32b9-4979-ba72-129e88e1a098\",\"subtype\":\"Figure\",\"type\":\"Plot\"},\"text\":\"Rush/delays within time thresholds drop off\"},\"id\":\"edc1f334-e92a-4591-ba64-78126bb62d19\",\"type\":\"Title\"},{\"attributes\":{\"data_source\":{\"id\":\"f169d178-360c-469a-b6ed-8fb59a979166\",\"type\":\"ColumnDataSource\"},\"glyph\":{\"id\":\"dee3b322-38ab-4cd4-a113-5aa852ee8bf8\",\"type\":\"Line\"},\"hover_glyph\":null,\"muted_glyph\":null,\"nonselection_glyph\":{\"id\":\"ad6be060-852c-4449-8a96-2d3c40866f56\",\"type\":\"Line\"},\"selection_glyph\":null},\"id\":\"8f1ab6c1-e8f0-41cd-87d9-ebe13f9335d1\",\"type\":\"GlyphRenderer\"},{\"attributes\":{\"fill_alpha\":{\"value\":0.1},\"fill_color\":{\"value\":\"#1f77b4\"},\"height\":{\"value\":0.3},\"left\":{\"value\":-0.2766798418972332},\"line_alpha\":{\"value\":0.1},\"line_color\":{\"value\":\"#1f77b4\"},\"right\":{\"value\":0},\"y\":{\"value\":1}},\"id\":\"5d37f6d5-23e6-459b-a826-bd832c2f65fc\",\"type\":\"HBar\"},{\"attributes\":{\"fill_color\":{\"value\":\"#459E0F\"},\"height\":{\"value\":0.3},\"line_color\":{\"value\":\"#459E0F\"},\"right\":{\"value\":0.2549407114624506},\"y\":{\"value\":1}},\"id\":\"239000ec-df5f-44d3-9f41-10c6202fed78\",\"type\":\"HBar\"},{\"attributes\":{},\"id\":\"baa0e153-9a15-45ca-93ef-c27b70d560ff\",\"type\":\"LinearScale\"},{\"attributes\":{\"line_alpha\":{\"value\":0.1},\"line_color\":{\"value\":\"#1f77b4\"},\"line_dash\":[6],\"line_width\":{\"value\":2},\"x\":{\"field\":\"x\"},\"y\":{\"field\":\"y\"}},\"id\":\"ad6be060-852c-4449-8a96-2d3c40866f56\",\"type\":\"Line\"},{\"attributes\":{\"callback\":null,\"data\":{}},\"id\":\"4ba5c5a9-068f-4954-b1fa-72bc49c633b3\",\"type\":\"ColumnDataSource\"},{\"attributes\":{\"plot\":{\"id\":\"b30eb475-7945-4318-9069-db8e1ce6e6e1\",\"subtype\":\"Figure\",\"type\":\"Plot\"}},\"id\":\"47b1a516-eb5f-4f72-9d8f-1452572a2402\",\"type\":\"PanTool\"},{\"attributes\":{},\"id\":\"6162a7cf-33ff-4dad-a64c-22a2d7f9b028\",\"type\":\"BasicTickFormatter\"},{\"attributes\":{\"active_drag\":\"auto\",\"active_inspect\":\"auto\",\"active_scroll\":\"auto\",\"active_tap\":\"auto\",\"tools\":[{\"id\":\"90b96165-aae1-4e2b-9624-5675a1787405\",\"type\":\"HoverTool\"}]},\"id\":\"7cebc2c6-cc60-46d2-8349-5538e40d9572\",\"type\":\"Toolbar\"},{\"attributes\":{\"fill_alpha\":{\"value\":0.1},\"fill_color\":{\"value\":\"#1f77b4\"},\"height\":{\"value\":0.3},\"left\":{\"value\":0.39349112426035504},\"line_alpha\":{\"value\":0.1},\"line_color\":{\"value\":\"#1f77b4\"},\"right\":{\"value\":0.554240631163708},\"y\":{\"value\":1}},\"id\":\"eb6bd6ce-7193-415e-bcac-cb0d470f6118\",\"type\":\"HBar\"},{\"attributes\":{},\"id\":\"c797bbc8-ea10-4d77-92be-a82b24b68643\",\"type\":\"BasicTicker\"},{\"attributes\":{},\"id\":\"79004698-8f49-4972-87b6-1e5804a472d6\",\"type\":\"BasicTickFormatter\"},{\"attributes\":{\"dimension\":1,\"plot\":{\"id\":\"eb1c5c46-1122-4b26-b643-1c47ee872951\",\"subtype\":\"Figure\",\"type\":\"Plot\"},\"ticker\":{\"id\":\"d7744625-932d-4c55-933d-812a1be76dd3\",\"type\":\"BasicTicker\"}},\"id\":\"07d76973-1e80-48f7-8e6c-bfb19bc3bb60\",\"type\":\"Grid\"},{\"attributes\":{\"callback\":null,\"data\":{}},\"id\":\"8d4ff301-c99d-410e-9ce0-0436685315ff\",\"type\":\"ColumnDataSource\"},{\"attributes\":{\"data_source\":{\"id\":\"d60e9401-ebc1-494c-b76e-69ef7997343c\",\"type\":\"ColumnDataSource\"},\"glyph\":{\"id\":\"6445190a-901f-4e0c-a021-c999fcb0b65c\",\"type\":\"Line\"},\"hover_glyph\":null,\"muted_glyph\":null,\"nonselection_glyph\":{\"id\":\"a8d4ae63-9c67-431b-bb75-787e57fe1512\",\"type\":\"Line\"},\"selection_glyph\":null},\"id\":\"a7994335-c992-4382-94a8-5579262b65b6\",\"type\":\"GlyphRenderer\"},{\"attributes\":{\"align\":\"center\",\"plot\":{\"id\":\"6e0a6f2f-53d8-407b-a68a-0c629b420bc2\",\"subtype\":\"Figure\",\"type\":\"Plot\"},\"text\":\"Total percentage within thresholds pick up\"},\"id\":\"362b2027-48c7-4df7-8e94-32c49c6960de\",\"type\":\"Title\"},{\"attributes\":{\"line_color\":{\"value\":\"#AAB2A5\"},\"line_dash\":[6],\"line_width\":{\"value\":2},\"x\":{\"field\":\"x\"},\"y\":{\"field\":\"y\"}},\"id\":\"dee3b322-38ab-4cd4-a113-5aa852ee8bf8\",\"type\":\"Line\"},{\"attributes\":{\"data_source\":{\"id\":\"2952eaee-1ad3-4101-84d0-3596edd818e5\",\"type\":\"ColumnDataSource\"},\"glyph\":{\"id\":\"239000ec-df5f-44d3-9f41-10c6202fed78\",\"type\":\"HBar\"},\"hover_glyph\":null,\"muted_glyph\":null,\"nonselection_glyph\":{\"id\":\"76277ca9-2c49-43f7-84a1-dab545dbafc3\",\"type\":\"HBar\"},\"selection_glyph\":null},\"id\":\"bc30627b-be42-42e8-9fa7-2a2333a9ca62\",\"type\":\"GlyphRenderer\"},{\"attributes\":{\"callback\":null,\"column_names\":[\"x\",\"y\"],\"data\":{\"x\":[-0.32741617357001973,-0.32741617357001973],\"y\":[0.5,1.5]}},\"id\":\"cd17ebbc-2272-46f0-abc2-daf6f13a7895\",\"type\":\"ColumnDataSource\"},{\"attributes\":{\"line_alpha\":{\"value\":0.1},\"line_color\":{\"value\":\"#1f77b4\"},\"line_dash\":[6],\"line_width\":{\"value\":2},\"x\":{\"field\":\"x\"},\"y\":{\"field\":\"y\"}},\"id\":\"5faf7e1d-a509-4f13-abec-6c534f4bc5b2\",\"type\":\"Line\"},{\"attributes\":{\"dimension\":1,\"grid_line_color\":{\"value\":null},\"plot\":{\"id\":\"e662c624-32b9-4979-ba72-129e88e1a098\",\"subtype\":\"Figure\",\"type\":\"Plot\"},\"ticker\":{\"id\":\"aa34b790-55fa-458d-88b3-f67eb701bb22\",\"type\":\"BasicTicker\"}},\"id\":\"d90fce85-57a3-4ca8-989d-cd03eba5059a\",\"type\":\"Grid\"},{\"attributes\":{\"formatter\":{\"id\":\"6162a7cf-33ff-4dad-a64c-22a2d7f9b028\",\"type\":\"BasicTickFormatter\"},\"plot\":{\"id\":\"6e0a6f2f-53d8-407b-a68a-0c629b420bc2\",\"subtype\":\"Figure\",\"type\":\"Plot\"},\"ticker\":{\"id\":\"2895d82f-c867-48fc-a23b-d06879a7c030\",\"type\":\"BasicTicker\"}},\"id\":\"e0f7e8fa-1acc-40d4-a0b5-a4fe167d4c44\",\"type\":\"LinearAxis\"},{\"attributes\":{\"plot\":{\"id\":\"e662c624-32b9-4979-ba72-129e88e1a098\",\"subtype\":\"Figure\",\"type\":\"Plot\"}},\"id\":\"3cdd5bea-5851-4a78-bbe3-4212b9602bb3\",\"type\":\"ResetTool\"},{\"attributes\":{\"data_source\":{\"id\":\"e1882b01-5018-401d-8f16-99ea93ed90f6\",\"type\":\"ColumnDataSource\"},\"glyph\":{\"id\":\"7196ad68-865f-44ba-a3f1-dd33e053f389\",\"type\":\"HBar\"},\"hover_glyph\":null,\"muted_glyph\":null,\"nonselection_glyph\":{\"id\":\"5a97b387-35a0-4b34-bb43-a7cf5fd2d935\",\"type\":\"HBar\"},\"selection_glyph\":null},\"id\":\"21fecba0-f6c2-4afa-a2f1-7e46b065b074\",\"type\":\"GlyphRenderer\"},{\"attributes\":{\"fill_color\":{\"value\":\"#E43216\"},\"height\":{\"value\":0.3},\"left\":{\"value\":0.4288537549407115},\"line_color\":{\"value\":\"#E43216\"},\"right\":{\"value\":0.5671936758893281},\"y\":{\"value\":1}},\"id\":\"1ff22feb-a4d9-4c17-9332-2bf1eb971189\",\"type\":\"HBar\"},{\"attributes\":{\"plot\":{\"id\":\"b30eb475-7945-4318-9069-db8e1ce6e6e1\",\"subtype\":\"Figure\",\"type\":\"Plot\"}},\"id\":\"74806708-6f68-4fcc-91b5-788cc76a80e5\",\"type\":\"SaveTool\"},{\"attributes\":{},\"id\":\"6ecdbb5d-a713-4249-8070-a494a92b46da\",\"type\":\"LinearScale\"},{\"attributes\":{\"dimension\":1,\"plot\":{\"id\":\"6e0a6f2f-53d8-407b-a68a-0c629b420bc2\",\"subtype\":\"Figure\",\"type\":\"Plot\"},\"ticker\":{\"id\":\"2895d82f-c867-48fc-a23b-d06879a7c030\",\"type\":\"BasicTicker\"}},\"id\":\"df158c35-ee84-4029-879b-f9683b23e706\",\"type\":\"Grid\"},{\"attributes\":{\"fill_alpha\":{\"value\":0.1},\"fill_color\":{\"value\":\"#1f77b4\"},\"height\":{\"value\":0.3},\"left\":{\"value\":0.2549407114624506},\"line_alpha\":{\"value\":0.1},\"line_color\":{\"value\":\"#1f77b4\"},\"right\":{\"value\":0.4288537549407115},\"y\":{\"value\":1}},\"id\":\"6702d92e-1d4e-473e-be01-13877771c17a\",\"type\":\"HBar\"},{\"attributes\":{\"callback\":null,\"column_names\":[\"x\",\"y\"],\"data\":{\"x\":[0,0],\"y\":[0.5,1.5]}},\"id\":\"f169d178-360c-469a-b6ed-8fb59a979166\",\"type\":\"ColumnDataSource\"},{\"attributes\":{\"data_source\":{\"id\":\"33e98edb-8a29-44da-88b0-224e663fa0bb\",\"type\":\"ColumnDataSource\"},\"glyph\":{\"id\":\"b9dd9c88-e7eb-4e90-99e9-fa92a3648699\",\"type\":\"HBar\"},\"hover_glyph\":null,\"muted_glyph\":null,\"nonselection_glyph\":{\"id\":\"5d37f6d5-23e6-459b-a826-bd832c2f65fc\",\"type\":\"HBar\"},\"selection_glyph\":null},\"id\":\"eaf1225c-3d7c-4e45-b193-af29cf6f1e36\",\"type\":\"GlyphRenderer\"},{\"attributes\":{\"plot\":null,\"text\":\"\"},\"id\":\"9fe6bf4c-15eb-43c0-b22a-f7f56dd4f2a8\",\"type\":\"Title\"},{\"attributes\":{},\"id\":\"70e1f385-ad90-433e-9024-feccec3ed559\",\"type\":\"ToolEvents\"},{\"attributes\":{\"children\":[{\"id\":\"e9f89d6d-0246-4bba-bf3a-bde2fa63fe86\",\"type\":\"Row\"},{\"id\":\"407de77b-ae30-4680-928f-87c7beffeb2f\",\"type\":\"Row\"}]},\"id\":\"8db2b9da-0f90-4fbf-bdd3-8cc349bceb3f\",\"type\":\"Column\"},{\"attributes\":{\"line_alpha\":{\"value\":0.1},\"line_color\":{\"value\":\"#1f77b4\"},\"line_dash\":[6],\"line_width\":{\"value\":2},\"x\":{\"field\":\"x\"},\"y\":{\"field\":\"y\"}},\"id\":\"6ba80979-1bee-4091-8c53-356f25ee4894\",\"type\":\"Line\"},{\"attributes\":{\"data_source\":{\"id\":\"e17184d9-4919-467a-8275-942c3edbc3ad\",\"type\":\"ColumnDataSource\"},\"glyph\":{\"id\":\"ca13e593-727b-4a1d-b6f9-ab31947644d5\",\"type\":\"Line\"},\"hover_glyph\":null,\"muted_glyph\":null,\"nonselection_glyph\":{\"id\":\"aa0d9adf-ec36-47e0-ba43-eaab2db8ecb9\",\"type\":\"Line\"},\"selection_glyph\":null},\"id\":\"d9e81671-78d2-4557-a4d9-489ad9f4a135\",\"type\":\"GlyphRenderer\"},{\"attributes\":{\"callback\":null,\"column_names\":[\"x\",\"y\"],\"data\":{\"x\":[0,0],\"y\":[0.5,1.5]}},\"id\":\"d60e9401-ebc1-494c-b76e-69ef7997343c\",\"type\":\"ColumnDataSource\"},{\"attributes\":{\"plot\":{\"id\":\"e662c624-32b9-4979-ba72-129e88e1a098\",\"subtype\":\"Figure\",\"type\":\"Plot\"}},\"id\":\"aa447317-9c6c-443a-8fdc-c474cd8959b0\",\"type\":\"PanTool\"},{\"attributes\":{\"align\":\"center\",\"plot\":{\"id\":\"b30eb475-7945-4318-9069-db8e1ce6e6e1\",\"subtype\":\"Figure\",\"type\":\"Plot\"},\"text\":\"Rush/delays within time thresholds pick up\"},\"id\":\"3de7cd49-a2eb-4485-8a2e-473285a4088d\",\"type\":\"Title\"},{\"attributes\":{\"line_color\":{\"value\":\"#AAB2A5\"},\"line_dash\":[6],\"line_width\":{\"value\":2},\"x\":{\"field\":\"x\"},\"y\":{\"field\":\"y\"}},\"id\":\"aba87738-e688-4286-bbe1-f09b1d69cf75\",\"type\":\"Line\"},{\"attributes\":{\"fill_color\":{\"value\":\"#E4E02C\"},\"height\":{\"value\":0.3},\"left\":{\"value\":-0.41007905138339923},\"line_color\":{\"value\":\"#E4E02C\"},\"right\":{\"value\":-0.2766798418972332},\"y\":{\"value\":1}},\"id\":\"96b94ce7-3975-45d5-b3cc-092410b20d95\",\"type\":\"HBar\"},{\"attributes\":{\"line_alpha\":{\"value\":0.1},\"line_color\":{\"value\":\"#1f77b4\"},\"line_dash\":[6],\"line_width\":{\"value\":2},\"x\":{\"field\":\"x\"},\"y\":{\"field\":\"y\"}},\"id\":\"34aaef06-ff00-460e-abe2-ece425f4bf0a\",\"type\":\"Line\"},{\"attributes\":{},\"id\":\"0d670a7d-239e-4bb0-b8ac-0788f20e3720\",\"type\":\"LinearScale\"},{\"attributes\":{\"plot\":{\"id\":\"e662c624-32b9-4979-ba72-129e88e1a098\",\"subtype\":\"Figure\",\"type\":\"Plot\"}},\"id\":\"cd4aba7d-0204-4b86-a81a-2a226ea247f2\",\"type\":\"WheelZoomTool\"},{\"attributes\":{\"callback\":null,\"data\":{}},\"id\":\"941ac8b6-7e74-4992-8338-c356f5c70d41\",\"type\":\"ColumnDataSource\"},{\"attributes\":{},\"id\":\"b153912e-67ba-41eb-ac85-772030af38fc\",\"type\":\"LinearScale\"},{\"attributes\":{\"fill_alpha\":{\"value\":0.1},\"fill_color\":{\"value\":\"#1f77b4\"},\"height\":{\"value\":0.3},\"line_alpha\":{\"value\":0.1},\"line_color\":{\"value\":\"#1f77b4\"},\"right\":{\"value\":0.2549407114624506},\"y\":{\"value\":1}},\"id\":\"76277ca9-2c49-43f7-84a1-dab545dbafc3\",\"type\":\"HBar\"},{\"attributes\":{},\"id\":\"6a503149-87d0-4362-903c-8d054d7a1ade\",\"type\":\"BasicTickFormatter\"},{\"attributes\":{\"data_source\":{\"id\":\"3d9e2ac2-247d-4798-8221-8932cfa81ffb\",\"type\":\"ColumnDataSource\"},\"glyph\":{\"id\":\"1b6b97f1-7dff-434d-b58d-3d60a82f40ec\",\"type\":\"HBar\"},\"hover_glyph\":null,\"muted_glyph\":null,\"nonselection_glyph\":{\"id\":\"b57f5169-66f8-4be9-aa11-3d5d583e98b0\",\"type\":\"HBar\"},\"selection_glyph\":null},\"id\":\"9a00799d-b5fe-4171-a6f4-0fcfe6881f48\",\"type\":\"GlyphRenderer\"},{\"attributes\":{\"fill_alpha\":{\"value\":0.1},\"fill_color\":{\"value\":\"#1f77b4\"},\"height\":{\"value\":0.3},\"left\":{\"value\":-0.41007905138339923},\"line_alpha\":{\"value\":0.1},\"line_color\":{\"value\":\"#1f77b4\"},\"right\":{\"value\":-0.2766798418972332},\"y\":{\"value\":1}},\"id\":\"e8856473-9825-45b9-8638-cece13cc7f90\",\"type\":\"HBar\"},{\"attributes\":{\"fill_color\":{\"value\":\"#E43216\"},\"height\":{\"value\":0.3},\"left\":{\"value\":-0.3915187376725838},\"line_color\":{\"value\":\"#E43216\"},\"right\":{\"value\":-0.3895463510848126},\"y\":{\"value\":1}},\"id\":\"7196ad68-865f-44ba-a3f1-dd33e053f389\",\"type\":\"HBar\"},{\"attributes\":{\"fill_alpha\":{\"value\":0.1},\"fill_color\":{\"value\":\"#1f77b4\"},\"height\":{\"value\":0.3},\"left\":{\"value\":-0.43280632411067194},\"line_alpha\":{\"value\":0.1},\"line_color\":{\"value\":\"#1f77b4\"},\"right\":{\"value\":-0.41007905138339923},\"y\":{\"value\":1}},\"id\":\"36f66337-6de7-4673-bd15-d8749e4b7bc4\",\"type\":\"HBar\"},{\"attributes\":{\"above\":[{\"id\":\"edc1f334-e92a-4591-ba64-78126bb62d19\",\"type\":\"Title\"}],\"below\":[{\"id\":\"d804e098-c209-4ce8-ad4e-bf0186b8ec12\",\"type\":\"LinearAxis\"}],\"left\":[{\"id\":\"0af2ead5-9798-4d41-bb25-85c7cc9343a0\",\"type\":\"LinearAxis\"}],\"plot_height\":300,\"plot_width\":400,\"renderers\":[{\"id\":\"d804e098-c209-4ce8-ad4e-bf0186b8ec12\",\"type\":\"LinearAxis\"},{\"id\":\"b427186d-9078-4b34-aac7-cb94ddd810db\",\"type\":\"Grid\"},{\"id\":\"0af2ead5-9798-4d41-bb25-85c7cc9343a0\",\"type\":\"LinearAxis\"},{\"id\":\"d90fce85-57a3-4ca8-989d-cd03eba5059a\",\"type\":\"Grid\"},{\"id\":\"0eb1e412-27e7-41b3-8871-99eccdaef3ac\",\"type\":\"BoxAnnotation\"},{\"id\":\"eaf1225c-3d7c-4e45-b193-af29cf6f1e36\",\"type\":\"GlyphRenderer\"},{\"id\":\"8f1ab6c1-e8f0-41cd-87d9-ebe13f9335d1\",\"type\":\"GlyphRenderer\"},{\"id\":\"2964e555-d474-45e7-bad7-ee66cc4af88d\",\"type\":\"GlyphRenderer\"},{\"id\":\"cbfe0865-833c-4ec9-8ece-c2e6b0d5733f\",\"type\":\"GlyphRenderer\"},{\"id\":\"1dbad28d-6543-4bef-818c-2fd779b6a46b\",\"type\":\"GlyphRenderer\"},{\"id\":\"cc3949d8-6cc0-4ed2-80fc-241f4162f4f0\",\"type\":\"GlyphRenderer\"},{\"id\":\"bc30627b-be42-42e8-9fa7-2a2333a9ca62\",\"type\":\"GlyphRenderer\"},{\"id\":\"a3c71cc6-cd1d-4b7f-b007-4e356d840833\",\"type\":\"GlyphRenderer\"},{\"id\":\"a5935ee4-4922-47db-97fa-5f59280eb191\",\"type\":\"GlyphRenderer\"},{\"id\":\"d9e81671-78d2-4557-a4d9-489ad9f4a135\",\"type\":\"GlyphRenderer\"},{\"id\":\"552eb399-3d8a-4e2f-bbe8-8097760ad9fa\",\"type\":\"GlyphRenderer\"},{\"id\":\"3170ba88-9b5d-4ae0-94c2-e0149104efe7\",\"type\":\"GlyphRenderer\"},{\"id\":\"edc1f334-e92a-4591-ba64-78126bb62d19\",\"type\":\"Title\"}],\"title\":{\"id\":\"9fe6bf4c-15eb-43c0-b22a-f7f56dd4f2a8\",\"type\":\"Title\"},\"tool_events\":{\"id\":\"cf93fd9d-7c5a-4199-b318-a813616a6988\",\"type\":\"ToolEvents\"},\"toolbar\":{\"id\":\"2888a35e-b94b-44f3-aa58-eada15d78584\",\"type\":\"Toolbar\"},\"x_range\":{\"id\":\"7ef41c14-d83f-4d43-b201-c49200260b5a\",\"type\":\"DataRange1d\"},\"x_scale\":{\"id\":\"485c3114-ea3d-43d2-a24d-d299f104a7ee\",\"type\":\"LinearScale\"},\"y_range\":{\"id\":\"23f23438-ab67-4dd6-98d5-9910eb2a9fff\",\"type\":\"Range1d\"},\"y_scale\":{\"id\":\"c89f8211-830b-47c0-9f6e-ad0ea62bedae\",\"type\":\"LinearScale\"}},\"id\":\"e662c624-32b9-4979-ba72-129e88e1a098\",\"subtype\":\"Figure\",\"type\":\"Plot\"},{\"attributes\":{\"formatter\":{\"id\":\"ddd6ea9a-9b2a-421c-8b3d-3be83efa50d7\",\"type\":\"BasicTickFormatter\"},\"plot\":{\"id\":\"b30eb475-7945-4318-9069-db8e1ce6e6e1\",\"subtype\":\"Figure\",\"type\":\"Plot\"},\"ticker\":{\"id\":\"02a5a9b0-a46b-4472-aa76-86e36cc35165\",\"type\":\"BasicTicker\"},\"visible\":false},\"id\":\"19019054-a5bf-460d-9daa-8634659a798d\",\"type\":\"LinearAxis\"},{\"attributes\":{\"fill_alpha\":{\"value\":0.1},\"fill_color\":{\"value\":\"#1f77b4\"},\"height\":{\"value\":0.3},\"left\":{\"value\":-0.3915187376725838},\"line_alpha\":{\"value\":0.1},\"line_color\":{\"value\":\"#1f77b4\"},\"right\":{\"value\":-0.3895463510848126},\"y\":{\"value\":1}},\"id\":\"5a97b387-35a0-4b34-bb43-a7cf5fd2d935\",\"type\":\"HBar\"},{\"attributes\":{\"data_source\":{\"id\":\"1de5862e-ea2d-4c5e-8e8c-2459d64807f6\",\"type\":\"ColumnDataSource\"},\"glyph\":{\"id\":\"8ae20f93-ccc4-4d94-b08a-5a8a21d04d43\",\"type\":\"Line\"},\"hover_glyph\":null,\"muted_glyph\":null,\"nonselection_glyph\":{\"id\":\"4a721e6d-c6f2-42f9-b754-ac37eacaac18\",\"type\":\"Line\"},\"selection_glyph\":null},\"id\":\"b8a4b257-d906-47fc-bd42-f36f72b1112d\",\"type\":\"GlyphRenderer\"},{\"attributes\":{},\"id\":\"dadc7eb3-4652-4766-bdb6-25b275378592\",\"type\":\"BasicTickFormatter\"},{\"attributes\":{\"callback\":null,\"column_names\":[\"x\",\"y\"],\"data\":{\"x\":[0,0],\"y\":[0.5,1.5]}},\"id\":\"68e23515-7306-4f3f-ab6d-064d00b07dc7\",\"type\":\"ColumnDataSource\"},{\"attributes\":{\"fill_color\":{\"field\":\"colors\"},\"line_color\":{\"field\":\"colors\"},\"top\":{\"field\":\"pct\"},\"width\":{\"value\":0.6},\"x\":{\"field\":\"index\"}},\"id\":\"e3d1f01d-df54-4782-b0e4-b522a95a15a1\",\"type\":\"VBar\"},{\"attributes\":{\"plot\":{\"id\":\"e662c624-32b9-4979-ba72-129e88e1a098\",\"subtype\":\"Figure\",\"type\":\"Plot\"}},\"id\":\"8102abd9-44bc-4083-8f32-7a8b612a4b1e\",\"type\":\"SaveTool\"},{\"attributes\":{\"callback\":null},\"id\":\"fad7389d-03be-46e7-af8c-9462f959d103\",\"type\":\"DataRange1d\"},{\"attributes\":{\"data_source\":{\"id\":\"3c560576-579a-4fd3-8cf9-bbc62c49f462\",\"type\":\"ColumnDataSource\"},\"glyph\":{\"id\":\"aba87738-e688-4286-bbe1-f09b1d69cf75\",\"type\":\"Line\"},\"hover_glyph\":null,\"muted_glyph\":null,\"nonselection_glyph\":{\"id\":\"92431706-27f3-4f72-8519-9ead570553ac\",\"type\":\"Line\"},\"selection_glyph\":null},\"id\":\"99ab1a8a-7d3b-41aa-a270-0a537b8248a3\",\"type\":\"GlyphRenderer\"},{\"attributes\":{\"grid_line_color\":{\"value\":null},\"plot\":{\"id\":\"e662c624-32b9-4979-ba72-129e88e1a098\",\"subtype\":\"Figure\",\"type\":\"Plot\"},\"ticker\":{\"id\":\"13523c7e-acf4-4b8a-b2b7-7ed388249005\",\"type\":\"BasicTicker\"}},\"id\":\"b427186d-9078-4b34-aac7-cb94ddd810db\",\"type\":\"Grid\"},{\"attributes\":{\"children\":[{\"id\":\"e662c624-32b9-4979-ba72-129e88e1a098\",\"subtype\":\"Figure\",\"type\":\"Plot\"},{\"id\":\"eb1c5c46-1122-4b26-b643-1c47ee872951\",\"subtype\":\"Figure\",\"type\":\"Plot\"}]},\"id\":\"407de77b-ae30-4680-928f-87c7beffeb2f\",\"type\":\"Row\"},{\"attributes\":{\"above\":[{\"id\":\"def85453-8c26-4dee-878d-8ef43dc14d58\",\"type\":\"Title\"}],\"below\":[{\"id\":\"9bbc35c5-525c-44cc-b4ee-fe8e5115e3b4\",\"type\":\"LinearAxis\"}],\"left\":[{\"id\":\"b128f982-3702-49b6-9069-0097b98c9126\",\"type\":\"LinearAxis\"}],\"plot_height\":300,\"plot_width\":400,\"renderers\":[{\"id\":\"9bbc35c5-525c-44cc-b4ee-fe8e5115e3b4\",\"type\":\"LinearAxis\"},{\"id\":\"b60a0e00-bdbf-4e37-babd-f9378a2f1190\",\"type\":\"Grid\"},{\"id\":\"b128f982-3702-49b6-9069-0097b98c9126\",\"type\":\"LinearAxis\"},{\"id\":\"07d76973-1e80-48f7-8e6c-bfb19bc3bb60\",\"type\":\"Grid\"},{\"id\":\"def85453-8c26-4dee-878d-8ef43dc14d58\",\"type\":\"Title\"},{\"id\":\"69addd9f-50ee-4725-912a-9bba8d099c96\",\"type\":\"GlyphRenderer\"}],\"title\":{\"id\":\"3f83e4c0-d63c-414f-bd1b-aa2324bb2640\",\"type\":\"Title\"},\"tool_events\":{\"id\":\"bce9f8c5-ab96-423e-84f9-012006934eda\",\"type\":\"ToolEvents\"},\"toolbar\":{\"id\":\"75e29181-c697-497f-aeac-4483deea6e40\",\"type\":\"Toolbar\"},\"x_range\":{\"id\":\"fc8bd293-5372-4687-8756-7c2e3133908a\",\"type\":\"DataRange1d\"},\"x_scale\":{\"id\":\"baa0e153-9a15-45ca-93ef-c27b70d560ff\",\"type\":\"LinearScale\"},\"y_range\":{\"id\":\"fad7389d-03be-46e7-af8c-9462f959d103\",\"type\":\"DataRange1d\"},\"y_scale\":{\"id\":\"869a6719-0ca0-498b-b340-b166d2128fdf\",\"type\":\"LinearScale\"}},\"id\":\"eb1c5c46-1122-4b26-b643-1c47ee872951\",\"subtype\":\"Figure\",\"type\":\"Plot\"},{\"attributes\":{\"callback\":null,\"column_names\":[\"x\",\"y\"],\"data\":{\"x\":[-0.41007905138339923,-0.41007905138339923],\"y\":[0.5,1.5]}},\"id\":\"b9822757-acae-412c-97c7-fd972da852d6\",\"type\":\"ColumnDataSource\"},{\"attributes\":{\"line_color\":{\"value\":\"#AAB2A5\"},\"line_dash\":[6],\"line_width\":{\"value\":2},\"x\":{\"field\":\"x\"},\"y\":{\"field\":\"y\"}},\"id\":\"8ae20f93-ccc4-4d94-b08a-5a8a21d04d43\",\"type\":\"Line\"},{\"attributes\":{\"callback\":null,\"data\":{}},\"id\":\"c03c8691-c6e1-44ee-bae1-d54b1537b9e1\",\"type\":\"ColumnDataSource\"},{\"attributes\":{},\"id\":\"869a6719-0ca0-498b-b340-b166d2128fdf\",\"type\":\"LinearScale\"},{\"attributes\":{\"callback\":null,\"data\":{}},\"id\":\"3d9e2ac2-247d-4798-8221-8932cfa81ffb\",\"type\":\"ColumnDataSource\"},{\"attributes\":{\"line_color\":{\"value\":\"#AAB2A5\"},\"line_dash\":[6],\"line_width\":{\"value\":2},\"x\":{\"field\":\"x\"},\"y\":{\"field\":\"y\"}},\"id\":\"12627af1-86f0-4458-8fcf-2e8d7518744c\",\"type\":\"Line\"},{\"attributes\":{\"callback\":null,\"data\":{}},\"id\":\"42a0ffdd-4e29-40c9-a287-9cafd14d79fe\",\"type\":\"ColumnDataSource\"},{\"attributes\":{\"callback\":null,\"column_names\":[\"thresholds\",\"colors\",\"pct\",\"index\"],\"data\":{\"colors\":[\"#459E0F\",\"#E4E02C\",\"#E43216\"],\"index\":[0,1,2],\"pct\":{\"__ndarray__\":\"4vVRGwkD4T9SGwkDAavTP9bxpYzZncQ/\",\"dtype\":\"float64\",\"shape\":[3]},\"thresholds\":[\"green\",\"yellow\",\"red\"]}},\"id\":\"91cdfd13-ccb2-454a-b38e-b3078f8d2a49\",\"type\":\"ColumnDataSource\"},{\"attributes\":{\"callback\":null,\"plot\":{\"id\":\"6e0a6f2f-53d8-407b-a68a-0c629b420bc2\",\"subtype\":\"Figure\",\"type\":\"Plot\"},\"tooltips\":[[\"pct\",\"@pct{(0.00%)}\"]]},\"id\":\"90b96165-aae1-4e2b-9624-5675a1787405\",\"type\":\"HoverTool\"},{\"attributes\":{\"fill_color\":{\"value\":\"#E43216\"},\"height\":{\"value\":0.3},\"left\":{\"value\":-0.43280632411067194},\"line_color\":{\"value\":\"#E43216\"},\"right\":{\"value\":-0.41007905138339923},\"y\":{\"value\":1}},\"id\":\"87b6ac02-5447-4f5f-b6fb-b5a79f2c11bc\",\"type\":\"HBar\"},{\"attributes\":{\"callback\":null,\"data\":{}},\"id\":\"e1882b01-5018-401d-8f16-99ea93ed90f6\",\"type\":\"ColumnDataSource\"},{\"attributes\":{\"fill_alpha\":{\"value\":0.1},\"fill_color\":{\"value\":\"#1f77b4\"},\"height\":{\"value\":0.3},\"left\":{\"value\":0.4288537549407115},\"line_alpha\":{\"value\":0.1},\"line_color\":{\"value\":\"#1f77b4\"},\"right\":{\"value\":0.5671936758893281},\"y\":{\"value\":1}},\"id\":\"53b832d8-bf0e-4cff-95d6-2de6f54456b1\",\"type\":\"HBar\"},{\"attributes\":{\"plot\":{\"id\":\"6e0a6f2f-53d8-407b-a68a-0c629b420bc2\",\"subtype\":\"Figure\",\"type\":\"Plot\"},\"ticker\":{\"id\":\"d2569ec4-c3bb-4637-8939-d856afec3848\",\"type\":\"BasicTicker\"}},\"id\":\"3509338b-a400-4c44-b40c-440ac2a7b779\",\"type\":\"Grid\"},{\"attributes\":{\"plot\":{\"id\":\"eb1c5c46-1122-4b26-b643-1c47ee872951\",\"subtype\":\"Figure\",\"type\":\"Plot\"},\"ticker\":{\"id\":\"c797bbc8-ea10-4d77-92be-a82b24b68643\",\"type\":\"BasicTicker\"}},\"id\":\"b60a0e00-bdbf-4e37-babd-f9378a2f1190\",\"type\":\"Grid\"},{\"attributes\":{\"data_source\":{\"id\":\"70c0b033-4d53-45ef-a585-fbb6ea0cbb14\",\"type\":\"ColumnDataSource\"},\"glyph\":{\"id\":\"eef52f01-f881-479e-9681-f2ac74f2af8f\",\"type\":\"HBar\"},\"hover_glyph\":null,\"muted_glyph\":null,\"nonselection_glyph\":{\"id\":\"6702d92e-1d4e-473e-be01-13877771c17a\",\"type\":\"HBar\"},\"selection_glyph\":null},\"id\":\"a5935ee4-4922-47db-97fa-5f59280eb191\",\"type\":\"GlyphRenderer\"},{\"attributes\":{\"callback\":null,\"end\":2},\"id\":\"23f23438-ab67-4dd6-98d5-9910eb2a9fff\",\"type\":\"Range1d\"},{\"attributes\":{\"line_color\":{\"value\":\"#AAB2A5\"},\"line_dash\":[6],\"line_width\":{\"value\":2},\"x\":{\"field\":\"x\"},\"y\":{\"field\":\"y\"}},\"id\":\"6445190a-901f-4e0c-a021-c999fcb0b65c\",\"type\":\"Line\"},{\"attributes\":{\"fill_color\":{\"field\":\"colors\"},\"line_color\":{\"field\":\"colors\"},\"top\":{\"field\":\"pct\"},\"width\":{\"value\":0.6},\"x\":{\"field\":\"index\"}},\"id\":\"8d3f922f-81d0-442e-8906-f38a888630f4\",\"type\":\"VBar\"},{\"attributes\":{},\"id\":\"d2569ec4-c3bb-4637-8939-d856afec3848\",\"type\":\"BasicTicker\"},{\"attributes\":{\"data_source\":{\"id\":\"42a0ffdd-4e29-40c9-a287-9cafd14d79fe\",\"type\":\"ColumnDataSource\"},\"glyph\":{\"id\":\"cbb32455-c0b7-4497-ac73-86441274dd85\",\"type\":\"HBar\"},\"hover_glyph\":null,\"muted_glyph\":null,\"nonselection_glyph\":{\"id\":\"eb6bd6ce-7193-415e-bcac-cb0d470f6118\",\"type\":\"HBar\"},\"selection_glyph\":null},\"id\":\"2a978462-d763-4476-b51b-594d883db460\",\"type\":\"GlyphRenderer\"}],\"root_ids\":[\"ff4356ac-cd73-428e-a7e4-f3e513633c6f\"]},\"title\":\"Bokeh Application\",\"version\":\"0.12.6\"}};\n",
       "            var render_items = [{\"docid\":\"1fa4fd51-211b-45ea-adf0-79b8468e9def\",\"elementid\":\"dfbdcd43-795a-4de4-9223-545885282428\",\"modelid\":\"ff4356ac-cd73-428e-a7e4-f3e513633c6f\"}];\n",
       "            \n",
       "            Bokeh.embed.embed_items(docs_json, render_items);\n",
       "          };\n",
       "          if (document.readyState != \"loading\") fn();\n",
       "          else document.addEventListener(\"DOMContentLoaded\", fn);\n",
       "        })();\n",
       "      },\n",
       "      function(Bokeh) {\n",
       "      }\n",
       "    ];\n",
       "  \n",
       "    function run_inline_js() {\n",
       "      \n",
       "      if ((window.Bokeh !== undefined) || (force === true)) {\n",
       "        for (var i = 0; i < inline_js.length; i++) {\n",
       "          inline_js[i](window.Bokeh);\n",
       "        }if (force === true) {\n",
       "          display_loaded();\n",
       "        }} else if (Date.now() < window._bokeh_timeout) {\n",
       "        setTimeout(run_inline_js, 100);\n",
       "      } else if (!window._bokeh_failed_load) {\n",
       "        console.log(\"Bokeh: BokehJS failed to load within specified timeout.\");\n",
       "        window._bokeh_failed_load = true;\n",
       "      } else if (force !== true) {\n",
       "        var cell = $(document.getElementById(\"dfbdcd43-795a-4de4-9223-545885282428\")).parents('.cell').data().cell;\n",
       "        cell.output_area.append_execute_result(NB_LOAD_WARNING)\n",
       "      }\n",
       "  \n",
       "    }\n",
       "  \n",
       "    if (window._bokeh_is_loading === 0) {\n",
       "      console.log(\"Bokeh: BokehJS loaded, going straight to plotting\");\n",
       "      run_inline_js();\n",
       "    } else {\n",
       "      load_libs(js_urls, function() {\n",
       "        console.log(\"Bokeh: BokehJS plotting callback run at\", now());\n",
       "        run_inline_js();\n",
       "      });\n",
       "    }\n",
       "  }(this));\n",
       "</script>"
      ]
     },
     "metadata": {},
     "output_type": "display_data"
    }
   ],
   "source": [
    "#Using plotting functions\n",
    "time_threshold_first_pick_up_plot = plot_horizontal_time_thresholds(threshold_first_pick_up, 400, 300, 'pct', 'colors', \n",
    "                                                 \"Rush/delays within time thresholds pick up\")\n",
    "within_thresholds_first_pick_up_plot = plot_total_pct_thresholds(within_thresh_first_pick_up, 400, 300, \"index\", \"pct\", \"colors\", \n",
    "                                              \"Total percentage within thresholds pick up\")\n",
    "time_threshold_first_drop_off_plot = plot_horizontal_time_thresholds(threshold_first_drop_off, 400, 300, 'pct', 'colors', \n",
    "                                                 \"Rush/delays within time thresholds drop off\")\n",
    "time_threshold_first_drop_off_plot.x_range = time_threshold_first_pick_up_plot.x_range\n",
    "within_thresholds_first_drop_off_plot = plot_total_pct_thresholds(within_thresh_first_drop_off, 400, 300, \"index\", \"pct\", \"colors\", \n",
    "                                              \"Total percentage within thresholds drop off\")\n",
    "threshold_first_pick_up_plots = row(time_threshold_first_pick_up_plot, within_thresholds_first_pick_up_plot)\n",
    "threshold_first_drop_off_plots = row(time_threshold_first_drop_off_plot, within_thresholds_first_drop_off_plot)\n",
    "\n",
    "show(column(Div(text=\"<h1 style='margin-left:150px;margin-right:-500px;margin-bottom:18px;font-size:20px;\\\n",
    "                color:#7D7575'> Time thresholds for pick ups / drop offs (first expected time)</h1>\"),\n",
    "            column(threshold_first_pick_up_plots, threshold_first_drop_off_plots)))"
   ]
  },
  {
   "cell_type": "markdown",
   "metadata": {},
   "source": [
    "As already noticed in the distribution plots, first estimated times do worst for the drop offs. The regions within the pick ups are within our previous averages. However, in the drop offs we can see that barely more than 50% are within the 3 minutes of the first estimated time. Rides between 3-7 minutes make up approximately 30% of the total drop offs. "
   ]
  },
  {
   "cell_type": "markdown",
   "metadata": {},
   "source": [
    "## Differences between expected and actual time within hour/day\n",
    "\n",
    "Here we will try to determine if there are specific hour/days for which the difference between expected and actual times are more relevant. As we saw that the differences are more pronunciated for the first expected time shown to the user, we will use this data set that will show us the upper bound of differences. The analysis for the last expected time should be easy to reproduce, if requested."
   ]
  },
  {
   "cell_type": "code",
   "execution_count": 44,
   "metadata": {
    "collapsed": true
   },
   "outputs": [],
   "source": [
    "colors_dict = {\"0\":\"red\", \"5\":\"red\", \"1\":\"yellow\", \"4\":\"yellow\",  \"2\":\"green\", \"3\":\"green\"}\n",
    "est_act_time_first[\"cat_codes\"] = est_act_time_first[\"time_thresholds\"].cat.codes.astype(str)\n",
    "est_act_time_first[\"thresh_cat\"] = est_act_time_first[\"cat_codes\"].map(lambda x: colors_dict[x])\n",
    "est_act_time_first\n",
    "hour_est_act_time_first = est_act_time_first.groupby([pd.Grouper(freq='1h', key='datetime_utc_berlin'), \"thresh_cat\"]).agg(\n",
    "    {'booking_id': \"count\"}).reset_index()\n",
    "hour_est_act_time_first = hour_est_act_time_first.rename(columns={\"booking_id\":\"count\"})\n",
    "hour_est_act_time_first[\"total\"] = hour_est_act_time_first.groupby([pd.Grouper(freq='1h', key='datetime_utc_berlin')])[\"count\"].transform(lambda x: x.sum())"
   ]
  },
  {
   "cell_type": "code",
   "execution_count": 45,
   "metadata": {
    "collapsed": true
   },
   "outputs": [],
   "source": [
    "hour_est_act_time_first[\"pct\"] = hour_est_act_time_first[\"count\"] / hour_est_act_time_first[\"total\"]"
   ]
  },
  {
   "cell_type": "code",
   "execution_count": 46,
   "metadata": {
    "collapsed": true
   },
   "outputs": [],
   "source": [
    "#Pivoting for plotting purposes\n",
    "hour_est_act_time_first = hour_est_act_time_first.pivot(index='datetime_utc_berlin', columns='thresh_cat')\n",
    "hour_est_act_time_first.columns = ['_'.join(col) for col in hour_est_act_time_first.columns]"
   ]
  },
  {
   "cell_type": "code",
   "execution_count": 47,
   "metadata": {
    "collapsed": true
   },
   "outputs": [],
   "source": [
    "#Preparing and generating column for plotting\n",
    "hour_est_act_time_first[\"date\"] = hour_est_act_time_first.index.map(lambda x: x.strftime('%H H %a'))\n",
    "hour_est_act_time_first[\"pct_yellow_plot\"] = hour_est_act_time_first[\"pct_green\"] +hour_est_act_time_first[\"pct_yellow\"]\n",
    "hour_est_act_time_first[\"pct_red_plot\"] = hour_est_act_time_first[\"pct_yellow_plot\"] +hour_est_act_time_first[\"pct_red\"]"
   ]
  },
  {
   "cell_type": "code",
   "execution_count": 48,
   "metadata": {},
   "outputs": [
    {
     "data": {
      "text/html": [
       "\n",
       "\n",
       "    <div class=\"bk-root\">\n",
       "        <div class=\"bk-plotdiv\" id=\"c2f4cfac-9233-4238-8dbd-ed7dad958cfd\"></div>\n",
       "    </div>\n",
       "<script type=\"text/javascript\">\n",
       "  \n",
       "  (function(global) {\n",
       "    function now() {\n",
       "      return new Date();\n",
       "    }\n",
       "  \n",
       "    var force = false;\n",
       "  \n",
       "    if (typeof (window._bokeh_onload_callbacks) === \"undefined\" || force === true) {\n",
       "      window._bokeh_onload_callbacks = [];\n",
       "      window._bokeh_is_loading = undefined;\n",
       "    }\n",
       "  \n",
       "  \n",
       "    \n",
       "    if (typeof (window._bokeh_timeout) === \"undefined\" || force === true) {\n",
       "      window._bokeh_timeout = Date.now() + 0;\n",
       "      window._bokeh_failed_load = false;\n",
       "    }\n",
       "  \n",
       "    var NB_LOAD_WARNING = {'data': {'text/html':\n",
       "       \"<div style='background-color: #fdd'>\\n\"+\n",
       "       \"<p>\\n\"+\n",
       "       \"BokehJS does not appear to have successfully loaded. If loading BokehJS from CDN, this \\n\"+\n",
       "       \"may be due to a slow or bad network connection. Possible fixes:\\n\"+\n",
       "       \"</p>\\n\"+\n",
       "       \"<ul>\\n\"+\n",
       "       \"<li>re-rerun `output_notebook()` to attempt to load from CDN again, or</li>\\n\"+\n",
       "       \"<li>use INLINE resources instead, as so:</li>\\n\"+\n",
       "       \"</ul>\\n\"+\n",
       "       \"<code>\\n\"+\n",
       "       \"from bokeh.resources import INLINE\\n\"+\n",
       "       \"output_notebook(resources=INLINE)\\n\"+\n",
       "       \"</code>\\n\"+\n",
       "       \"</div>\"}};\n",
       "  \n",
       "    function display_loaded() {\n",
       "      if (window.Bokeh !== undefined) {\n",
       "        var el = document.getElementById(\"c2f4cfac-9233-4238-8dbd-ed7dad958cfd\");\n",
       "        el.textContent = \"BokehJS \" + Bokeh.version + \" successfully loaded.\";\n",
       "      } else if (Date.now() < window._bokeh_timeout) {\n",
       "        setTimeout(display_loaded, 100)\n",
       "      }\n",
       "    }\n",
       "  \n",
       "    function run_callbacks() {\n",
       "      try {\n",
       "        window._bokeh_onload_callbacks.forEach(function(callback) { callback() });\n",
       "      }\n",
       "      finally {\n",
       "        delete window._bokeh_onload_callbacks\n",
       "      }\n",
       "      console.info(\"Bokeh: all callbacks have finished\");\n",
       "    }\n",
       "  \n",
       "    function load_libs(js_urls, callback) {\n",
       "      window._bokeh_onload_callbacks.push(callback);\n",
       "      if (window._bokeh_is_loading > 0) {\n",
       "        console.log(\"Bokeh: BokehJS is being loaded, scheduling callback at\", now());\n",
       "        return null;\n",
       "      }\n",
       "      if (js_urls == null || js_urls.length === 0) {\n",
       "        run_callbacks();\n",
       "        return null;\n",
       "      }\n",
       "      console.log(\"Bokeh: BokehJS not loaded, scheduling load and callback at\", now());\n",
       "      window._bokeh_is_loading = js_urls.length;\n",
       "      for (var i = 0; i < js_urls.length; i++) {\n",
       "        var url = js_urls[i];\n",
       "        var s = document.createElement('script');\n",
       "        s.src = url;\n",
       "        s.async = false;\n",
       "        s.onreadystatechange = s.onload = function() {\n",
       "          window._bokeh_is_loading--;\n",
       "          if (window._bokeh_is_loading === 0) {\n",
       "            console.log(\"Bokeh: all BokehJS libraries loaded\");\n",
       "            run_callbacks()\n",
       "          }\n",
       "        };\n",
       "        s.onerror = function() {\n",
       "          console.warn(\"failed to load library \" + url);\n",
       "        };\n",
       "        console.log(\"Bokeh: injecting script tag for BokehJS library: \", url);\n",
       "        document.getElementsByTagName(\"head\")[0].appendChild(s);\n",
       "      }\n",
       "    };var element = document.getElementById(\"c2f4cfac-9233-4238-8dbd-ed7dad958cfd\");\n",
       "    if (element == null) {\n",
       "      console.log(\"Bokeh: ERROR: autoload.js configured with elementid 'c2f4cfac-9233-4238-8dbd-ed7dad958cfd' but no matching script tag was found. \")\n",
       "      return false;\n",
       "    }\n",
       "  \n",
       "    var js_urls = [];\n",
       "  \n",
       "    var inline_js = [\n",
       "      function(Bokeh) {\n",
       "        (function() {\n",
       "          var fn = function() {\n",
       "            var docs_json = {\"e54a74ea-2ff6-4e79-a22e-ec0daa083e5f\":{\"roots\":{\"references\":[{\"attributes\":{\"dimension\":1,\"plot\":{\"id\":\"313a72a1-a0e8-4617-8f1c-96e50741293c\",\"subtype\":\"Figure\",\"type\":\"Plot\"},\"ticker\":{\"id\":\"f2d40630-4417-4dd4-bf5d-b93b470f9e95\",\"type\":\"BasicTicker\"},\"visible\":false},\"id\":\"2595bc0f-e733-4d4b-81b5-b52ae945411e\",\"type\":\"Grid\"},{\"attributes\":{},\"id\":\"a31f8ad8-269b-4543-b1ba-4f47564ada9f\",\"type\":\"LinearScale\"},{\"attributes\":{\"data_source\":{\"id\":\"b673598a-9853-4daa-847f-acfcb6234888\",\"type\":\"ColumnDataSource\"},\"glyph\":{\"id\":\"fb09f4e8-9b85-45d3-b01b-705743882148\",\"type\":\"VBar\"},\"hover_glyph\":null,\"muted_glyph\":null,\"nonselection_glyph\":{\"id\":\"e460fdb1-5b63-41c7-9e16-e6538e6567f5\",\"type\":\"VBar\"},\"selection_glyph\":null},\"id\":\"7278c6bf-b74b-41f7-8dbc-88283a80c870\",\"type\":\"GlyphRenderer\"},{\"attributes\":{\"data_source\":{\"id\":\"b673598a-9853-4daa-847f-acfcb6234888\",\"type\":\"ColumnDataSource\"},\"glyph\":{\"id\":\"0a893a73-c32b-4e5f-a3ae-bdec00d84a84\",\"type\":\"VBar\"},\"hover_glyph\":null,\"muted_glyph\":null,\"nonselection_glyph\":{\"id\":\"29368204-f5e0-4b81-bae7-c5e0227d2353\",\"type\":\"VBar\"},\"selection_glyph\":null},\"id\":\"cca20aa6-c8ff-454c-96e5-4926fa4fa5cb\",\"type\":\"GlyphRenderer\"},{\"attributes\":{\"data_source\":{\"id\":\"b673598a-9853-4daa-847f-acfcb6234888\",\"type\":\"ColumnDataSource\"},\"glyph\":{\"id\":\"1e1af010-8fd3-40f2-811c-caef85f207b3\",\"type\":\"VBar\"},\"hover_glyph\":null,\"muted_glyph\":null,\"nonselection_glyph\":{\"id\":\"06782981-9921-4dbc-9fc9-b65a95f9411d\",\"type\":\"VBar\"},\"selection_glyph\":null},\"id\":\"d59c4ed9-e66c-4a30-ac33-c669cb67fc65\",\"type\":\"GlyphRenderer\"},{\"attributes\":{},\"id\":\"7202d382-a108-4918-ac17-9a4766d8a434\",\"type\":\"CategoricalScale\"},{\"attributes\":{},\"id\":\"87256ddd-04be-41c0-a992-cc2c2bdb9bbb\",\"type\":\"BasicTickFormatter\"},{\"attributes\":{\"bottom\":{\"field\":\"pct_yellow_plot\"},\"fill_color\":{\"value\":\"#E43216\"},\"line_color\":{\"value\":\"#E43216\"},\"top\":{\"field\":\"pct_red_plot\"},\"width\":{\"value\":0.7},\"x\":{\"field\":\"date\"}},\"id\":\"0a893a73-c32b-4e5f-a3ae-bdec00d84a84\",\"type\":\"VBar\"},{\"attributes\":{\"callback\":null,\"factors\":[\"18 H Fri\",\"19 H Fri\",\"20 H Fri\",\"21 H Fri\",\"22 H Fri\",\"23 H Fri\",\"00 H Sat\",\"01 H Sat\",\"10 H Sat\",\"11 H Sat\",\"12 H Sat\",\"13 H Sat\",\"14 H Sat\",\"15 H Sat\",\"16 H Sat\",\"17 H Sat\",\"18 H Sat\",\"19 H Sat\",\"20 H Sat\",\"21 H Sat\",\"22 H Sat\",\"23 H Sat\",\"00 H Sun\",\"01 H Sun\",\"10 H Sun\",\"11 H Sun\",\"12 H Sun\",\"13 H Sun\",\"14 H Sun\",\"15 H Sun\",\"16 H Sun\",\"17 H Sun\"]},\"id\":\"7cfa66ae-03fa-4d85-ae35-5cf19ec239cd\",\"type\":\"FactorRange\"},{\"attributes\":{\"callback\":null,\"column_names\":[\"count_green\",\"pct_green\",\"pct_red_plot\",\"total_red\",\"count_red\",\"datetime_utc_berlin\",\"total_green\",\"pct_yellow_plot\",\"pct_yellow\",\"count_yellow\",\"date\",\"pct_red\",\"total_yellow\"],\"data\":{\"count_green\":{\"__ndarray__\":\"AAAAAAAAREAAAAAAAABIQAAAAAAAAEJAAAAAAACAQkAAAAAAAABFQAAAAAAAgElAAAAAAACATkAAAAAAAABNQAAAAAAAADhAAAAAAAAAOkAAAAAAAAA9QAAAAAAAADlAAAAAAAAAOkAAAAAAAAA7QAAAAAAAADxAAAAAAAAAOkAAAAAAAABJQAAAAAAAAE5AAAAAAAAAQkAAAAAAAIBJQAAAAAAAgEFAAAAAAACASUAAAAAAAABEQAAAAAAAgEVAAAAAAAAATEAAAAAAAIBGQAAAAAAAADlAAAAAAAAAQkAAAAAAAAA7QAAAAAAAgEBAAAAAAACAR0AAAAAAAABJQA==\",\"dtype\":\"float64\",\"shape\":[32]},\"count_red\":{\"__ndarray__\":\"AAAAAAAALEAAAAAAAAAqQAAAAAAAABRAAAAAAAAAJkAAAAAAAAAcQAAAAAAAABRAAAAAAAAAIkAAAAAAAAAUQAAAAAAAABxAAAAAAAAACEAAAAAAAAAUQAAAAAAAACJAAAAAAAAALEAAAAAAAAAoQAAAAAAAABxAAAAAAAAA+H8AAAAAAAAUQAAAAAAAABRAAAAAAAAAEEAAAAAAAAAQQAAAAAAAACBAAAAAAAAAGEAAAAAAAAAUQAAAAAAAAChAAAAAAAAAFEAAAAAAAAAcQAAAAAAAAChAAAAAAAAAFEAAAAAAAAAiQAAAAAAAAAhAAAAAAAAACEAAAAAAAADwPw==\",\"dtype\":\"float64\",\"shape\":[32]},\"count_yellow\":{\"__ndarray__\":\"AAAAAAAAQEAAAAAAAAA3QAAAAAAAAC5AAAAAAAAAQ0AAAAAAAAAuQAAAAAAAACxAAAAAAAAAMkAAAAAAAAAuQAAAAAAAACZAAAAAAAAAIkAAAAAAAAAkQAAAAAAAAChAAAAAAAAAMkAAAAAAAAAqQAAAAAAAADNAAAAAAAAAIEAAAAAAAAA3QAAAAAAAADNAAAAAAAAAOEAAAAAAAAAzQAAAAAAAADlAAAAAAAAAJkAAAAAAAAA1QAAAAAAAAC5AAAAAAAAAHEAAAAAAAAAgQAAAAAAAACZAAAAAAAAAM0AAAAAAAAAoQAAAAAAAADBAAAAAAAAAMkAAAAAAAAAzQA==\",\"dtype\":\"float64\",\"shape\":[32]},\"date\":[\"18 H Fri\",\"19 H Fri\",\"20 H Fri\",\"21 H Fri\",\"22 H Fri\",\"23 H Fri\",\"00 H Sat\",\"01 H Sat\",\"10 H Sat\",\"11 H Sat\",\"12 H Sat\",\"13 H Sat\",\"14 H Sat\",\"15 H Sat\",\"16 H Sat\",\"17 H Sat\",\"18 H Sat\",\"19 H Sat\",\"20 H Sat\",\"21 H Sat\",\"22 H Sat\",\"23 H Sat\",\"00 H Sun\",\"01 H Sun\",\"10 H Sun\",\"11 H Sun\",\"12 H Sun\",\"13 H Sun\",\"14 H Sun\",\"15 H Sun\",\"16 H Sun\",\"17 H Sun\"],\"datetime_utc_berlin\":{\"__ndarray__\":\"AAAAV9nIdUIAAOjF3Mh1QgAA0DTgyHVCAAC4o+PIdUIAAKAS58h1QgAAiIHqyHVCAABw8O3IdUIAAFhf8ch1QgAAgEUQyXVCAABotBPJdUIAAFAjF8l1QgAAOJIayXVCAAAgAR7JdUIAAAhwIcl1QgAA8N4kyXVCAADYTSjJdUIAAMC8K8l1QgAAqCsvyXVCAACQmjLJdUIAAHgJNsl1QgAAYHg5yXVCAABI5zzJdUIAADBWQMl1QgAAGMVDyXVCAABAq2LJdUIAACgaZsl1QgAAEIlpyXVCAAD492zJdUIAAOBmcMl1QgAAyNVzyXVCAACwRHfJdUIAAJizesl1Qg==\",\"dtype\":\"float64\",\"shape\":[32]},\"pct_green\":{\"__ndarray__\":\"cUfcEXfE3T+SJEmSJEniPyVJkiRJkuQ/4o64I+6I2z8AAAAAAADlPwd1UAd1UOc/L7rooosu5j+4fMu3fMvnP5IkSZIkSeI/UV5DeQ3l5T8XXXTRRRflPxaykIUsZOE/1AjLPY2w3D/ZiZ3YiZ3gP3sJ7SW0l+A/eHh4eHh46D81SIM0SIPkP7dt27Zt2+Y/AAAAAAAA4j/dYIp81g3mP3h4eHh4eOA/AAAAAAAA6D9lk0022WTjP4Q6qIM6qOM/WlpaWlpa6j8AAAAAAADoP6uqqqqqquA/MzMzMzMz4z8AAAAAAADiP+zETuzETuQ/Hh4eHh4e5j+3bdu2bdvmPw==\",\"dtype\":\"float64\",\"shape\":[32]},\"pct_red\":{\"__ndarray__\":\"NmVNWVPWxD/0PM/zPM/DP7dt27Zt27Y/GPQFfUFfwD8AAAAAAAC8P5IkSZIkSbI/L7rooosuuj+QBmmQBmmwP1VVVVVVVcU/XkN5DeU1tD8XXXTRRRe9P5GFLGQhC8k/R1juaYTlzj+e2Imd2InNP3sJ7SW0l8A/AAAAAAAA+H+QBmmQBmmwP57neZ7nea4/AAAAAAAAsD/QusEU+ayrPx4eHh4eHr4/l5aWlpaWtj9lk0022WSzPxZf8RVf8cU/09LS0tLSsj/e3d3d3d29PwAAAAAAANA/VVVVVVVVtT8AAAAAAADIP57YiZ3Yia0/l5aWlpaWpj8d1EEd1EGNPw==\",\"dtype\":\"float64\",\"shape\":[32]},\"pct_red_plot\":{\"__ndarray__\":\"AAAAAAAA8D8AAAAAAADwPwAAAAAAAPA/AAAAAAAA8D8AAAAAAADwPwAAAAAAAPA/AAAAAAAA8D8AAAAAAADwP////////+8/AAAAAAAA8D8AAAAAAADwPwAAAAAAAPA/AAAAAAAA8D8AAAAAAADwPwAAAAAAAPA/AAAAAAAA+H8AAAAAAADwPwAAAAAAAPA/AAAAAAAA8D/////////vPwAAAAAAAPA/AAAAAAAA8D8AAAAAAADwPwAAAAAAAPA/////////7z8AAAAAAADwPwAAAAAAAPA/AAAAAAAA8D8AAAAAAADwPwAAAAAAAPA/////////7z8AAAAAAADwPw==\",\"dtype\":\"float64\",\"shape\":[32]},\"pct_yellow\":{\"__ndarray__\":\"9AV9QV/Q1z9iGIZhGIbRP0mSJEmSJNE/EnfEHXFH3D8AAAAAAADOP5qZmZmZmck/L7rooosuyj/ZiZ3YiZ3IPzEMwzAMw9A/DeU1lNdQzj8XXXTRRRfNPwtZyEIWstA/Ccs9jbDc0z8AAAAAAADQP0xoL6G9hNY/Hh4eHh4ezj/zLd/yLd/SPz3P8zzP88w/AAAAAAAA2D/rBlPks27QP4iHh4eHh9c/tbS0tLS0xD9ddNFFF13UP9u2bdu2bcs/WlpaWlpauj8RERERERHBP1VVVVVVVc0/RERERERE1D8AAAAAAADQPxQ7sRM7sdM/8fDw8PDw0D/xFV/xFV/RPw==\",\"dtype\":\"float64\",\"shape\":[32]},\"pct_yellow_plot\":{\"__ndarray__\":\"sqasKWvK6j/DMAzDMAzrP0qSJEmSJO0/+oK+oC/o6z8AAAAAAIDsP27btm3btu0/u+iiiy667D8u3/It3/LtP6qqqqqqquo/lNdQXkN57T9ddNFFF13sP5ze9KY3vek/7mmE5Z5G6D/ZiZ3YiZ3oP6G9hPYS2us/AAAAAAAA8D8u3/It3/LtP4ZhGIZhGO4/AAAAAAAA7j9S5LNuMEXuPzw8PDw8POw/LS0tLS0t7T+UTTbZZJPtPzuogzqog+o/paWlpaWl7T9ERERERETsPwAAAAAAAOg/VVVVVVVV7T8AAAAAAADqP3ZiJ3ZiJ+4/lpaWlpaW7j+w+Iqv+IrvPw==\",\"dtype\":\"float64\",\"shape\":[32]},\"total_green\":{\"__ndarray__\":\"AAAAAACAVUAAAAAAAABVQAAAAAAAAExAAAAAAACAVUAAAAAAAABQQAAAAAAAgFFAAAAAAAAAVkAAAAAAAIBTQAAAAAAAAEVAAAAAAAAAQ0AAAAAAAABGQAAAAAAAAEdAAAAAAAAATUAAAAAAAABKQAAAAAAAAEtAAAAAAAAAQUAAAAAAAIBTQAAAAAAAAFVAAAAAAAAAUEAAAAAAAIBSQAAAAAAAAFFAAAAAAAAAUUAAAAAAAIBQQAAAAAAAgFFAAAAAAAAAUUAAAAAAAABOQAAAAAAAAEhAAAAAAAAATkAAAAAAAABIQAAAAAAAAEpAAAAAAAAAUUAAAAAAAIBRQA==\",\"dtype\":\"float64\",\"shape\":[32]},\"total_red\":{\"__ndarray__\":\"AAAAAACAVUAAAAAAAABVQAAAAAAAAExAAAAAAACAVUAAAAAAAABQQAAAAAAAgFFAAAAAAAAAVkAAAAAAAIBTQAAAAAAAAEVAAAAAAAAAQ0AAAAAAAABGQAAAAAAAAEdAAAAAAAAATUAAAAAAAABKQAAAAAAAAEtAAAAAAAAA+H8AAAAAAIBTQAAAAAAAAFVAAAAAAAAAUEAAAAAAAIBSQAAAAAAAAFFAAAAAAAAAUUAAAAAAAIBQQAAAAAAAgFFAAAAAAAAAUUAAAAAAAABOQAAAAAAAAEhAAAAAAAAATkAAAAAAAABIQAAAAAAAAEpAAAAAAAAAUUAAAAAAAIBRQA==\",\"dtype\":\"float64\",\"shape\":[32]},\"total_yellow\":{\"__ndarray__\":\"AAAAAACAVUAAAAAAAABVQAAAAAAAAExAAAAAAACAVUAAAAAAAABQQAAAAAAAgFFAAAAAAAAAVkAAAAAAAIBTQAAAAAAAAEVAAAAAAAAAQ0AAAAAAAABGQAAAAAAAAEdAAAAAAAAATUAAAAAAAABKQAAAAAAAAEtAAAAAAAAAQUAAAAAAAIBTQAAAAAAAAFVAAAAAAAAAUEAAAAAAAIBSQAAAAAAAAFFAAAAAAAAAUUAAAAAAAIBQQAAAAAAAgFFAAAAAAAAAUUAAAAAAAABOQAAAAAAAAEhAAAAAAAAATkAAAAAAAABIQAAAAAAAAEpAAAAAAAAAUUAAAAAAAIBRQA==\",\"dtype\":\"float64\",\"shape\":[32]}}},\"id\":\"b673598a-9853-4daa-847f-acfcb6234888\",\"type\":\"ColumnDataSource\"},{\"attributes\":{\"plot\":{\"id\":\"313a72a1-a0e8-4617-8f1c-96e50741293c\",\"subtype\":\"Figure\",\"type\":\"Plot\"},\"ticker\":{\"id\":\"165c2f0d-93f7-4eb5-9b28-c7436e50d6bb\",\"type\":\"CategoricalTicker\"},\"visible\":false},\"id\":\"8d2778c9-86c3-4a27-af5a-ea741b31f24a\",\"type\":\"Grid\"},{\"attributes\":{\"bottom\":{\"field\":\"pct_yellow_plot\"},\"fill_alpha\":{\"value\":0.1},\"fill_color\":{\"value\":\"#1f77b4\"},\"line_alpha\":{\"value\":0.1},\"line_color\":{\"value\":\"#1f77b4\"},\"top\":{\"field\":\"pct_red_plot\"},\"width\":{\"value\":0.7},\"x\":{\"field\":\"date\"}},\"id\":\"29368204-f5e0-4b81-bae7-c5e0227d2353\",\"type\":\"VBar\"},{\"attributes\":{\"fill_color\":{\"value\":\"#459E0F\"},\"line_color\":{\"value\":\"#459E0F\"},\"top\":{\"field\":\"pct_green\"},\"width\":{\"value\":0.7},\"x\":{\"field\":\"date\"}},\"id\":\"fb09f4e8-9b85-45d3-b01b-705743882148\",\"type\":\"VBar\"},{\"attributes\":{\"active_drag\":\"auto\",\"active_inspect\":\"auto\",\"active_scroll\":\"auto\",\"active_tap\":\"auto\",\"tools\":[{\"id\":\"b57e5232-f2d0-408c-a14d-2106fb67c586\",\"type\":\"HoverTool\"}]},\"id\":\"73e33d41-38a9-41df-8a3e-b127356b48ab\",\"type\":\"Toolbar\"},{\"attributes\":{},\"id\":\"ce1294e1-2758-44b0-92cc-79bb0ed7e5cb\",\"type\":\"ToolEvents\"},{\"attributes\":{\"bottom\":{\"field\":\"pct_green\"},\"fill_alpha\":{\"value\":0.1},\"fill_color\":{\"value\":\"#1f77b4\"},\"line_alpha\":{\"value\":0.1},\"line_color\":{\"value\":\"#1f77b4\"},\"top\":{\"field\":\"pct_yellow_plot\"},\"width\":{\"value\":0.7},\"x\":{\"field\":\"date\"}},\"id\":\"06782981-9921-4dbc-9fc9-b65a95f9411d\",\"type\":\"VBar\"},{\"attributes\":{\"above\":[{\"id\":\"ec0b8855-4bcc-4542-957c-2237d6f87e09\",\"type\":\"Title\"}],\"below\":[{\"id\":\"dc77b501-d3be-4bcd-b83b-a93ab7c51577\",\"type\":\"CategoricalAxis\"}],\"left\":[{\"id\":\"44b74d20-fc87-4aa9-8a96-674b2ac5b680\",\"type\":\"LinearAxis\"}],\"plot_height\":400,\"plot_width\":800,\"renderers\":[{\"id\":\"dc77b501-d3be-4bcd-b83b-a93ab7c51577\",\"type\":\"CategoricalAxis\"},{\"id\":\"8d2778c9-86c3-4a27-af5a-ea741b31f24a\",\"type\":\"Grid\"},{\"id\":\"44b74d20-fc87-4aa9-8a96-674b2ac5b680\",\"type\":\"LinearAxis\"},{\"id\":\"2595bc0f-e733-4d4b-81b5-b52ae945411e\",\"type\":\"Grid\"},{\"id\":\"7278c6bf-b74b-41f7-8dbc-88283a80c870\",\"type\":\"GlyphRenderer\"},{\"id\":\"d59c4ed9-e66c-4a30-ac33-c669cb67fc65\",\"type\":\"GlyphRenderer\"},{\"id\":\"cca20aa6-c8ff-454c-96e5-4926fa4fa5cb\",\"type\":\"GlyphRenderer\"},{\"id\":\"ec0b8855-4bcc-4542-957c-2237d6f87e09\",\"type\":\"Title\"}],\"title\":{\"id\":\"5b37541a-a45e-4754-b8db-42698b35258f\",\"type\":\"Title\"},\"tool_events\":{\"id\":\"ce1294e1-2758-44b0-92cc-79bb0ed7e5cb\",\"type\":\"ToolEvents\"},\"toolbar\":{\"id\":\"73e33d41-38a9-41df-8a3e-b127356b48ab\",\"type\":\"Toolbar\"},\"x_range\":{\"id\":\"7cfa66ae-03fa-4d85-ae35-5cf19ec239cd\",\"type\":\"FactorRange\"},\"x_scale\":{\"id\":\"7202d382-a108-4918-ac17-9a4766d8a434\",\"type\":\"CategoricalScale\"},\"y_range\":{\"id\":\"0bb9dc17-8dd0-4712-8896-68b021cba7e4\",\"type\":\"DataRange1d\"},\"y_scale\":{\"id\":\"a31f8ad8-269b-4543-b1ba-4f47564ada9f\",\"type\":\"LinearScale\"}},\"id\":\"313a72a1-a0e8-4617-8f1c-96e50741293c\",\"subtype\":\"Figure\",\"type\":\"Plot\"},{\"attributes\":{\"axis_label\":\"Dates\",\"formatter\":{\"id\":\"cde3cae0-277c-4ba1-88fb-5424a1c8029f\",\"type\":\"CategoricalTickFormatter\"},\"major_label_orientation\":0.7853981633974483,\"plot\":{\"id\":\"313a72a1-a0e8-4617-8f1c-96e50741293c\",\"subtype\":\"Figure\",\"type\":\"Plot\"},\"ticker\":{\"id\":\"165c2f0d-93f7-4eb5-9b28-c7436e50d6bb\",\"type\":\"CategoricalTicker\"}},\"id\":\"dc77b501-d3be-4bcd-b83b-a93ab7c51577\",\"type\":\"CategoricalAxis\"},{\"attributes\":{\"axis_label\":\"Percentage\",\"formatter\":{\"id\":\"87256ddd-04be-41c0-a992-cc2c2bdb9bbb\",\"type\":\"BasicTickFormatter\"},\"plot\":{\"id\":\"313a72a1-a0e8-4617-8f1c-96e50741293c\",\"subtype\":\"Figure\",\"type\":\"Plot\"},\"ticker\":{\"id\":\"f2d40630-4417-4dd4-bf5d-b93b470f9e95\",\"type\":\"BasicTicker\"}},\"id\":\"44b74d20-fc87-4aa9-8a96-674b2ac5b680\",\"type\":\"LinearAxis\"},{\"attributes\":{},\"id\":\"165c2f0d-93f7-4eb5-9b28-c7436e50d6bb\",\"type\":\"CategoricalTicker\"},{\"attributes\":{\"align\":\"center\",\"plot\":{\"id\":\"313a72a1-a0e8-4617-8f1c-96e50741293c\",\"subtype\":\"Figure\",\"type\":\"Plot\"},\"text\":\"Thresholds per hour/day\",\"text_font_size\":{\"value\":\"12pt\"}},\"id\":\"ec0b8855-4bcc-4542-957c-2237d6f87e09\",\"type\":\"Title\"},{\"attributes\":{\"callback\":null,\"plot\":{\"id\":\"313a72a1-a0e8-4617-8f1c-96e50741293c\",\"subtype\":\"Figure\",\"type\":\"Plot\"},\"tooltips\":[[\"pct. green\",\"@pct_green{(0.00%)}\"],[\"pct. yellow\",\"@pct_yellow{(0.00%)}\"],[\"pct. red\",\"@pct_red{(0.00%)}\"]]},\"id\":\"b57e5232-f2d0-408c-a14d-2106fb67c586\",\"type\":\"HoverTool\"},{\"attributes\":{\"callback\":null},\"id\":\"0bb9dc17-8dd0-4712-8896-68b021cba7e4\",\"type\":\"DataRange1d\"},{\"attributes\":{\"bottom\":{\"field\":\"pct_green\"},\"fill_color\":{\"value\":\"#E4E02C\"},\"line_color\":{\"value\":\"#E4E02C\"},\"top\":{\"field\":\"pct_yellow_plot\"},\"width\":{\"value\":0.7},\"x\":{\"field\":\"date\"}},\"id\":\"1e1af010-8fd3-40f2-811c-caef85f207b3\",\"type\":\"VBar\"},{\"attributes\":{\"plot\":null,\"text\":\"\"},\"id\":\"5b37541a-a45e-4754-b8db-42698b35258f\",\"type\":\"Title\"},{\"attributes\":{\"fill_alpha\":{\"value\":0.1},\"fill_color\":{\"value\":\"#1f77b4\"},\"line_alpha\":{\"value\":0.1},\"line_color\":{\"value\":\"#1f77b4\"},\"top\":{\"field\":\"pct_green\"},\"width\":{\"value\":0.7},\"x\":{\"field\":\"date\"}},\"id\":\"e460fdb1-5b63-41c7-9e16-e6538e6567f5\",\"type\":\"VBar\"},{\"attributes\":{},\"id\":\"cde3cae0-277c-4ba1-88fb-5424a1c8029f\",\"type\":\"CategoricalTickFormatter\"},{\"attributes\":{},\"id\":\"f2d40630-4417-4dd4-bf5d-b93b470f9e95\",\"type\":\"BasicTicker\"}],\"root_ids\":[\"313a72a1-a0e8-4617-8f1c-96e50741293c\"]},\"title\":\"Bokeh Application\",\"version\":\"0.12.6\"}};\n",
       "            var render_items = [{\"docid\":\"e54a74ea-2ff6-4e79-a22e-ec0daa083e5f\",\"elementid\":\"c2f4cfac-9233-4238-8dbd-ed7dad958cfd\",\"modelid\":\"313a72a1-a0e8-4617-8f1c-96e50741293c\"}];\n",
       "            \n",
       "            Bokeh.embed.embed_items(docs_json, render_items);\n",
       "          };\n",
       "          if (document.readyState != \"loading\") fn();\n",
       "          else document.addEventListener(\"DOMContentLoaded\", fn);\n",
       "        })();\n",
       "      },\n",
       "      function(Bokeh) {\n",
       "      }\n",
       "    ];\n",
       "  \n",
       "    function run_inline_js() {\n",
       "      \n",
       "      if ((window.Bokeh !== undefined) || (force === true)) {\n",
       "        for (var i = 0; i < inline_js.length; i++) {\n",
       "          inline_js[i](window.Bokeh);\n",
       "        }if (force === true) {\n",
       "          display_loaded();\n",
       "        }} else if (Date.now() < window._bokeh_timeout) {\n",
       "        setTimeout(run_inline_js, 100);\n",
       "      } else if (!window._bokeh_failed_load) {\n",
       "        console.log(\"Bokeh: BokehJS failed to load within specified timeout.\");\n",
       "        window._bokeh_failed_load = true;\n",
       "      } else if (force !== true) {\n",
       "        var cell = $(document.getElementById(\"c2f4cfac-9233-4238-8dbd-ed7dad958cfd\")).parents('.cell').data().cell;\n",
       "        cell.output_area.append_execute_result(NB_LOAD_WARNING)\n",
       "      }\n",
       "  \n",
       "    }\n",
       "  \n",
       "    if (window._bokeh_is_loading === 0) {\n",
       "      console.log(\"Bokeh: BokehJS loaded, going straight to plotting\");\n",
       "      run_inline_js();\n",
       "    } else {\n",
       "      load_libs(js_urls, function() {\n",
       "        console.log(\"Bokeh: BokehJS plotting callback run at\", now());\n",
       "        run_inline_js();\n",
       "      });\n",
       "    }\n",
       "  }(this));\n",
       "</script>"
      ]
     },
     "metadata": {},
     "output_type": "display_data"
    }
   ],
   "source": [
    "#Plotting hour day thresholds\n",
    "source = ColumnDataSource(hour_est_act_time_first)\n",
    "hover = HoverTool(tooltips=[\n",
    "    (\"pct. green\", \"@pct_green{(0.00%)}\"),\n",
    "    (\"pct. yellow\", \"@pct_yellow{(0.00%)}\"),\n",
    "    (\"pct. red\", \"@pct_red{(0.00%)}\"),\n",
    "    ])\n",
    "p = figure(plot_width=800, plot_height=400, x_range=list(hour_est_act_time_first[\"date\"]) ,x_axis_label=\"Dates\", \n",
    "        y_axis_label=\"Percentage\", tools=[hover])\n",
    "#Plotting green first\n",
    "p.vbar(x='date', width=0.7, top='pct_green', \n",
    "           color=\"#459E0F\", source=source)\n",
    "p.vbar(x='date', width=0.7, bottom='pct_green', top=\"pct_yellow_plot\",\n",
    "           color=\"#E4E02C\", source=source)\n",
    "p.vbar(x='date', width=0.7, bottom=\"pct_yellow_plot\", top=\"pct_red_plot\",\n",
    "           color=\"#E43216\", source=source)\n",
    "p.add_layout(Title(text=\"Thresholds per hour/day\", align=\"center\", text_font_size=\"12pt\"), \n",
    "             \"above\")\n",
    "p.xgrid.visible = False\n",
    "p.ygrid.visible = False\n",
    "p.xaxis.major_label_orientation = pi/4\n",
    "show(p)"
   ]
  },
  {
   "cell_type": "markdown",
   "metadata": {},
   "source": [
    "In terms of days and hours we can see that there are certain times where ally incurs in more delays. For example, on Friday, at initial hours, when the demand was very high, we can observe that the yellow and red regions are bigger than the green region. \n",
    "\n",
    "Interestingly, we can also observe this trend in low peak turns. See for example Saturday at 14 hours. Even though this was a relatively low peak moment (see Exploratory analysis), we can see that ally still incurs in some delays. There might be different reasons why this might be the case. For example, perhaps the routes requested at that hour were farther away or, perhaps, there was a traffic jam that delayed all services. This can be a task for further analysis."
   ]
  },
  {
   "cell_type": "markdown",
   "metadata": {},
   "source": [
    "# Conclusions "
   ]
  },
  {
   "cell_type": "markdown",
   "metadata": {},
   "source": [
    "In this analysis we check the differences between expected and actual times in the allygator shuttle service provided by door2door. In particular, we offered a way of clearly communicating and understanding the differences between these two measures both quantitatively and visually.\n",
    "\n",
    "Our indicator is inspired on a traffic light. We indicate three thresholds for actual pick ups and drop off times: within +/- 3 minutes of expected time (green light), +/- 3-7 minutes (yellow area) and >< 7 min (red light). The thresholds have been chosen based on author's customer experience. An improve upon this point could be to use actual consumer data to get thresholds based on their behavior.\n",
    "\n",
    "We separated the analysis in two measures of differences. First, we measure the differences between last expected time reported to the user and actual time of service. According to our analysis, two thirds of the services are in the green area, in other words, they take place within 3 minutes of expected time. This conclusions, in general, hold when analyzing drop offs and pick ups separately, although we could observe that the yellow area grows to 20% for the pick ups.\n",
    "\n",
    "As a next step we perform the same analysis but for the first expected time reported to the user when he/she request a ride. The logic behind this analysis is that user's experience with service may deteriorate if first expected time reported widely differs from actual time. Our analysis showed that while the difference do tend to be bigger than for the updated expected time, in general pick ups where still high in the green region. Drop offs do present more difference. In that case a bit more over 50% are caried out within 3 minutes. This gives considerable improving space for estimating and reporting the first drop off expectation.\n",
    "\n",
    "Finally, we conducted the same analysis but for hour/days of the service. As it was expected, times where the demand is higher is also related to more differences in expected vs. actual time. However, we have also spotted some low peak hours where differences between times are also considerable. This demands further analysis.\n",
    "\n",
    "\n"
   ]
  },
  {
   "cell_type": "code",
   "execution_count": null,
   "metadata": {
    "collapsed": true
   },
   "outputs": [],
   "source": []
  }
 ],
 "metadata": {
  "kernelspec": {
   "display_name": "Python 3",
   "language": "python",
   "name": "python3"
  },
  "language_info": {
   "codemirror_mode": {
    "name": "ipython",
    "version": 3
   },
   "file_extension": ".py",
   "mimetype": "text/x-python",
   "name": "python",
   "nbconvert_exporter": "python",
   "pygments_lexer": "ipython3",
   "version": "3.5.4"
  }
 },
 "nbformat": 4,
 "nbformat_minor": 2
}
