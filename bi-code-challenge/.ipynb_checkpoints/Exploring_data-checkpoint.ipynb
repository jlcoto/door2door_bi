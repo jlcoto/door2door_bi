{
 "cells": [
  {
   "cell_type": "code",
   "execution_count": 57,
   "metadata": {},
   "outputs": [
    {
     "data": {
      "text/html": [
       "\n",
       "    <div class=\"bk-root\">\n",
       "        <a href=\"http://bokeh.pydata.org\" target=\"_blank\" class=\"bk-logo bk-logo-small bk-logo-notebook\"></a>\n",
       "        <span id=\"aa66285e-de84-4f34-99ff-3b0fa6cdb968\">Loading BokehJS ...</span>\n",
       "    </div>"
      ]
     },
     "metadata": {},
     "output_type": "display_data"
    },
    {
     "data": {
      "application/javascript": [
       "\n",
       "(function(global) {\n",
       "  function now() {\n",
       "    return new Date();\n",
       "  }\n",
       "\n",
       "  var force = true;\n",
       "\n",
       "  if (typeof (window._bokeh_onload_callbacks) === \"undefined\" || force === true) {\n",
       "    window._bokeh_onload_callbacks = [];\n",
       "    window._bokeh_is_loading = undefined;\n",
       "  }\n",
       "\n",
       "\n",
       "  \n",
       "  if (typeof (window._bokeh_timeout) === \"undefined\" || force === true) {\n",
       "    window._bokeh_timeout = Date.now() + 5000;\n",
       "    window._bokeh_failed_load = false;\n",
       "  }\n",
       "\n",
       "  var NB_LOAD_WARNING = {'data': {'text/html':\n",
       "     \"<div style='background-color: #fdd'>\\n\"+\n",
       "     \"<p>\\n\"+\n",
       "     \"BokehJS does not appear to have successfully loaded. If loading BokehJS from CDN, this \\n\"+\n",
       "     \"may be due to a slow or bad network connection. Possible fixes:\\n\"+\n",
       "     \"</p>\\n\"+\n",
       "     \"<ul>\\n\"+\n",
       "     \"<li>re-rerun `output_notebook()` to attempt to load from CDN again, or</li>\\n\"+\n",
       "     \"<li>use INLINE resources instead, as so:</li>\\n\"+\n",
       "     \"</ul>\\n\"+\n",
       "     \"<code>\\n\"+\n",
       "     \"from bokeh.resources import INLINE\\n\"+\n",
       "     \"output_notebook(resources=INLINE)\\n\"+\n",
       "     \"</code>\\n\"+\n",
       "     \"</div>\"}};\n",
       "\n",
       "  function display_loaded() {\n",
       "    if (window.Bokeh !== undefined) {\n",
       "      var el = document.getElementById(\"aa66285e-de84-4f34-99ff-3b0fa6cdb968\");\n",
       "      el.textContent = \"BokehJS \" + Bokeh.version + \" successfully loaded.\";\n",
       "    } else if (Date.now() < window._bokeh_timeout) {\n",
       "      setTimeout(display_loaded, 100)\n",
       "    }\n",
       "  }\n",
       "\n",
       "  function run_callbacks() {\n",
       "    try {\n",
       "      window._bokeh_onload_callbacks.forEach(function(callback) { callback() });\n",
       "    }\n",
       "    finally {\n",
       "      delete window._bokeh_onload_callbacks\n",
       "    }\n",
       "    console.info(\"Bokeh: all callbacks have finished\");\n",
       "  }\n",
       "\n",
       "  function load_libs(js_urls, callback) {\n",
       "    window._bokeh_onload_callbacks.push(callback);\n",
       "    if (window._bokeh_is_loading > 0) {\n",
       "      console.log(\"Bokeh: BokehJS is being loaded, scheduling callback at\", now());\n",
       "      return null;\n",
       "    }\n",
       "    if (js_urls == null || js_urls.length === 0) {\n",
       "      run_callbacks();\n",
       "      return null;\n",
       "    }\n",
       "    console.log(\"Bokeh: BokehJS not loaded, scheduling load and callback at\", now());\n",
       "    window._bokeh_is_loading = js_urls.length;\n",
       "    for (var i = 0; i < js_urls.length; i++) {\n",
       "      var url = js_urls[i];\n",
       "      var s = document.createElement('script');\n",
       "      s.src = url;\n",
       "      s.async = false;\n",
       "      s.onreadystatechange = s.onload = function() {\n",
       "        window._bokeh_is_loading--;\n",
       "        if (window._bokeh_is_loading === 0) {\n",
       "          console.log(\"Bokeh: all BokehJS libraries loaded\");\n",
       "          run_callbacks()\n",
       "        }\n",
       "      };\n",
       "      s.onerror = function() {\n",
       "        console.warn(\"failed to load library \" + url);\n",
       "      };\n",
       "      console.log(\"Bokeh: injecting script tag for BokehJS library: \", url);\n",
       "      document.getElementsByTagName(\"head\")[0].appendChild(s);\n",
       "    }\n",
       "  };var element = document.getElementById(\"aa66285e-de84-4f34-99ff-3b0fa6cdb968\");\n",
       "  if (element == null) {\n",
       "    console.log(\"Bokeh: ERROR: autoload.js configured with elementid 'aa66285e-de84-4f34-99ff-3b0fa6cdb968' but no matching script tag was found. \")\n",
       "    return false;\n",
       "  }\n",
       "\n",
       "  var js_urls = [\"https://cdn.pydata.org/bokeh/release/bokeh-0.12.6.min.js\", \"https://cdn.pydata.org/bokeh/release/bokeh-widgets-0.12.6.min.js\"];\n",
       "\n",
       "  var inline_js = [\n",
       "    function(Bokeh) {\n",
       "      Bokeh.set_log_level(\"info\");\n",
       "    },\n",
       "    \n",
       "    function(Bokeh) {\n",
       "      \n",
       "    },\n",
       "    \n",
       "    function(Bokeh) {\n",
       "      \n",
       "      document.getElementById(\"aa66285e-de84-4f34-99ff-3b0fa6cdb968\").textContent = \"BokehJS is loading...\";\n",
       "    },\n",
       "    function(Bokeh) {\n",
       "      console.log(\"Bokeh: injecting CSS: https://cdn.pydata.org/bokeh/release/bokeh-0.12.6.min.css\");\n",
       "      Bokeh.embed.inject_css(\"https://cdn.pydata.org/bokeh/release/bokeh-0.12.6.min.css\");\n",
       "      console.log(\"Bokeh: injecting CSS: https://cdn.pydata.org/bokeh/release/bokeh-widgets-0.12.6.min.css\");\n",
       "      Bokeh.embed.inject_css(\"https://cdn.pydata.org/bokeh/release/bokeh-widgets-0.12.6.min.css\");\n",
       "    }\n",
       "  ];\n",
       "\n",
       "  function run_inline_js() {\n",
       "    \n",
       "    if ((window.Bokeh !== undefined) || (force === true)) {\n",
       "      for (var i = 0; i < inline_js.length; i++) {\n",
       "        inline_js[i](window.Bokeh);\n",
       "      }if (force === true) {\n",
       "        display_loaded();\n",
       "      }} else if (Date.now() < window._bokeh_timeout) {\n",
       "      setTimeout(run_inline_js, 100);\n",
       "    } else if (!window._bokeh_failed_load) {\n",
       "      console.log(\"Bokeh: BokehJS failed to load within specified timeout.\");\n",
       "      window._bokeh_failed_load = true;\n",
       "    } else if (force !== true) {\n",
       "      var cell = $(document.getElementById(\"aa66285e-de84-4f34-99ff-3b0fa6cdb968\")).parents('.cell').data().cell;\n",
       "      cell.output_area.append_execute_result(NB_LOAD_WARNING)\n",
       "    }\n",
       "\n",
       "  }\n",
       "\n",
       "  if (window._bokeh_is_loading === 0) {\n",
       "    console.log(\"Bokeh: BokehJS loaded, going straight to plotting\");\n",
       "    run_inline_js();\n",
       "  } else {\n",
       "    load_libs(js_urls, function() {\n",
       "      console.log(\"Bokeh: BokehJS plotting callback run at\", now());\n",
       "      run_inline_js();\n",
       "    });\n",
       "  }\n",
       "}(this));"
      ]
     },
     "metadata": {},
     "output_type": "display_data"
    }
   ],
   "source": [
    "import pandas as pd\n",
    "import numpy as np\n",
    "from bokeh.plotting import figure, output_file, show, ColumnDataSource\n",
    "from bokeh.io import output_notebook\n",
    "from bokeh.models import Title, HoverTool, Legend \n",
    "from bokeh.layouts import row\n",
    "from math import pi\n",
    "output_notebook()"
   ]
  },
  {
   "cell_type": "code",
   "execution_count": 2,
   "metadata": {},
   "outputs": [],
   "source": [
    "#Reading in data\n",
    "pick_drop_data = pd.read_csv('data/pickup_dropoff.csv', dtype={\"postal\": str})\n",
    "bookings_data = pd.read_json('data/bookings.json')"
   ]
  },
  {
   "cell_type": "code",
   "execution_count": 3,
   "metadata": {},
   "outputs": [
    {
     "data": {
      "text/plain": [
       "datetime_utc_0          object\n",
       "actual_time_utc_0       object\n",
       "postal                  object\n",
       "booking_id              object\n",
       "committed_time_utc_0    object\n",
       "estimated_time_utc_0    object\n",
       "status                  object\n",
       "type                    object\n",
       "dtype: object"
      ]
     },
     "execution_count": 3,
     "metadata": {},
     "output_type": "execute_result"
    }
   ],
   "source": [
    "#Checking types of the data \n",
    "pick_drop_data.dtypes"
   ]
  },
  {
   "cell_type": "code",
   "execution_count": 4,
   "metadata": {
    "collapsed": true
   },
   "outputs": [],
   "source": [
    "#Chosing columns with dates and creating new columns for berlin dates\n",
    "localize_dates = [\"datetime_utc_0\", \"actual_time_utc_0\", \"committed_time_utc_0\", \"estimated_time_utc_0\"]\n",
    "berlin_dates = [date.replace('0', 'berlin') for date in localize_dates]"
   ]
  },
  {
   "cell_type": "code",
   "execution_count": 5,
   "metadata": {
    "collapsed": true
   },
   "outputs": [],
   "source": [
    "time_vars = ['booking_created_at_utc_0', 'cancelled_at_utc_0']\n",
    "berlin_time_vars = [date.replace('0', 'berlin') for date in time_vars]"
   ]
  },
  {
   "cell_type": "code",
   "execution_count": 6,
   "metadata": {
    "collapsed": true
   },
   "outputs": [],
   "source": [
    "def berlin_time(df, time_columns_names):\n",
    "    \"\"\"\n",
    "    Given a dataset and time columns converts data from utc 0 to Berlin time.\n",
    "    df: pandas data frame\n",
    "    time_columns_names: columns that contain time to be converted.\n",
    "    \n",
    "    returns: data frame with columns with time converted.\n",
    "    \"\"\"\n",
    "    #Replace to it can be localize to utc 0\n",
    "    data_date = df[time_columns_names].apply(lambda x: x.str.replace('\\+\\d\\d:\\d\\d', \"\"))\n",
    "    data_date = data_date.apply(lambda x: pd.to_datetime(x).dt.tz_localize('UTC').dt.tz_convert('Europe/Berlin'))\n",
    "    return data_date\n",
    "    \n",
    "    \n",
    "    "
   ]
  },
  {
   "cell_type": "code",
   "execution_count": 7,
   "metadata": {},
   "outputs": [],
   "source": [
    "pick_drop_data[berlin_dates] = berlin_time(pick_drop_data, localize_dates)"
   ]
  },
  {
   "cell_type": "code",
   "execution_count": 8,
   "metadata": {},
   "outputs": [],
   "source": [
    "#Passing time to berlin UTC\n",
    "bookings_data[berlin_time_vars] = berlin_time(bookings_data, time_vars)"
   ]
  },
  {
   "cell_type": "code",
   "execution_count": 9,
   "metadata": {},
   "outputs": [
    {
     "data": {
      "text/plain": [
       "datetime_utc_0                                      object\n",
       "actual_time_utc_0                                   object\n",
       "postal                                              object\n",
       "booking_id                                          object\n",
       "committed_time_utc_0                                object\n",
       "estimated_time_utc_0                                object\n",
       "status                                              object\n",
       "type                                                object\n",
       "datetime_utc_berlin          datetime64[ns, Europe/Berlin]\n",
       "actual_time_utc_berlin       datetime64[ns, Europe/Berlin]\n",
       "committed_time_utc_berlin    datetime64[ns, Europe/Berlin]\n",
       "estimated_time_utc_berlin    datetime64[ns, Europe/Berlin]\n",
       "dtype: object"
      ]
     },
     "execution_count": 9,
     "metadata": {},
     "output_type": "execute_result"
    }
   ],
   "source": [
    "pick_drop_data.dtypes"
   ]
  },
  {
   "cell_type": "markdown",
   "metadata": {},
   "source": [
    "## Data validation"
   ]
  },
  {
   "cell_type": "markdown",
   "metadata": {},
   "source": [
    "#### Checking nulls in data set"
   ]
  },
  {
   "cell_type": "code",
   "execution_count": 10,
   "metadata": {},
   "outputs": [
    {
     "data": {
      "text/plain": [
       "datetime_utc_berlin           True\n",
       "committed_time_utc_berlin     True\n",
       "estimated_time_utc_berlin     True\n",
       "status                        True\n",
       "type                          True\n",
       "booking_id                    True\n",
       "postal                       False\n",
       "dtype: bool"
      ]
     },
     "execution_count": 10,
     "metadata": {},
     "output_type": "execute_result"
    }
   ],
   "source": [
    "#Checking if nulls in columns that should be complete\n",
    "pick_drop_data[[\"datetime_utc_berlin\", \n",
    "                \"committed_time_utc_berlin\", \n",
    "                \"estimated_time_utc_berlin\", \n",
    "                \"status\", \"type\", \"booking_id\", \"postal\"]].notnull().all()"
   ]
  },
  {
   "cell_type": "markdown",
   "metadata": {},
   "source": [
    "According to what it is observed, there are certain cases (30 in total) where the postal code is not recorded in the data set. As shown below, these records also include services that were provided (i.e. where transactions where closed)."
   ]
  },
  {
   "cell_type": "code",
   "execution_count": 11,
   "metadata": {},
   "outputs": [
    {
     "data": {
      "text/html": [
       "<div>\n",
       "<style>\n",
       "    .dataframe thead tr:only-child th {\n",
       "        text-align: right;\n",
       "    }\n",
       "\n",
       "    .dataframe thead th {\n",
       "        text-align: left;\n",
       "    }\n",
       "\n",
       "    .dataframe tbody tr th {\n",
       "        vertical-align: top;\n",
       "    }\n",
       "</style>\n",
       "<table border=\"1\" class=\"dataframe\">\n",
       "  <thead>\n",
       "    <tr style=\"text-align: right;\">\n",
       "      <th></th>\n",
       "      <th>datetime_utc_0</th>\n",
       "      <th>actual_time_utc_0</th>\n",
       "      <th>postal</th>\n",
       "      <th>booking_id</th>\n",
       "      <th>committed_time_utc_0</th>\n",
       "      <th>estimated_time_utc_0</th>\n",
       "      <th>status</th>\n",
       "      <th>type</th>\n",
       "      <th>datetime_utc_berlin</th>\n",
       "      <th>actual_time_utc_berlin</th>\n",
       "      <th>committed_time_utc_berlin</th>\n",
       "      <th>estimated_time_utc_berlin</th>\n",
       "    </tr>\n",
       "  </thead>\n",
       "  <tbody>\n",
       "    <tr>\n",
       "      <th>496</th>\n",
       "      <td>2017-06-09T18:24:21.000+02:00</td>\n",
       "      <td>2017-06-09T18:24:21.000+02:00</td>\n",
       "      <td>NaN</td>\n",
       "      <td>d0bc9130-4b97-40db-a18a-d8ac85e14188</td>\n",
       "      <td>2017-06-09T18:25:47.000+02:00</td>\n",
       "      <td>2017-06-09T18:25:47.000+02:00</td>\n",
       "      <td>closed</td>\n",
       "      <td>pickup</td>\n",
       "      <td>2017-06-09 20:24:21+02:00</td>\n",
       "      <td>2017-06-09 20:24:21+02:00</td>\n",
       "      <td>2017-06-09 20:25:47+02:00</td>\n",
       "      <td>2017-06-09 20:25:47+02:00</td>\n",
       "    </tr>\n",
       "    <tr>\n",
       "      <th>2228</th>\n",
       "      <td>2017-06-10T14:44:11.000+02:00</td>\n",
       "      <td>2017-06-10T14:44:11.000+02:00</td>\n",
       "      <td>NaN</td>\n",
       "      <td>dbb7e1e0-e2ae-42c9-9d57-5bea8885b4a7</td>\n",
       "      <td>2017-06-10T14:42:14.000+02:00</td>\n",
       "      <td>2017-06-10T14:43:55.000+02:00</td>\n",
       "      <td>closed</td>\n",
       "      <td>dropoff</td>\n",
       "      <td>2017-06-10 16:44:11+02:00</td>\n",
       "      <td>2017-06-10 16:44:11+02:00</td>\n",
       "      <td>2017-06-10 16:42:14+02:00</td>\n",
       "      <td>2017-06-10 16:43:55+02:00</td>\n",
       "    </tr>\n",
       "    <tr>\n",
       "      <th>4519</th>\n",
       "      <td>2017-06-10T11:11:26.000+02:00</td>\n",
       "      <td>2017-06-10T11:11:26.000+02:00</td>\n",
       "      <td>NaN</td>\n",
       "      <td>2935b385-008d-4ba0-97fc-4dda5b49147b</td>\n",
       "      <td>2017-06-10T11:09:39.000+02:00</td>\n",
       "      <td>2017-06-10T11:11:11.000+02:00</td>\n",
       "      <td>closed</td>\n",
       "      <td>dropoff</td>\n",
       "      <td>2017-06-10 13:11:26+02:00</td>\n",
       "      <td>2017-06-10 13:11:26+02:00</td>\n",
       "      <td>2017-06-10 13:09:39+02:00</td>\n",
       "      <td>2017-06-10 13:11:11+02:00</td>\n",
       "    </tr>\n",
       "    <tr>\n",
       "      <th>7007</th>\n",
       "      <td>2017-06-10T23:42:15.000+02:00</td>\n",
       "      <td>2017-06-10T23:42:15.000+02:00</td>\n",
       "      <td>NaN</td>\n",
       "      <td>a7d87dda-91e9-456b-8a6a-eb0c2c9f6bdc</td>\n",
       "      <td>2017-06-10T23:37:34.000+02:00</td>\n",
       "      <td>2017-06-10T23:37:34.000+02:00</td>\n",
       "      <td>closed</td>\n",
       "      <td>pickup</td>\n",
       "      <td>2017-06-11 01:42:15+02:00</td>\n",
       "      <td>2017-06-11 01:42:15+02:00</td>\n",
       "      <td>2017-06-11 01:37:34+02:00</td>\n",
       "      <td>2017-06-11 01:37:34+02:00</td>\n",
       "    </tr>\n",
       "  </tbody>\n",
       "</table>\n",
       "</div>"
      ],
      "text/plain": [
       "                     datetime_utc_0              actual_time_utc_0 postal  \\\n",
       "496   2017-06-09T18:24:21.000+02:00  2017-06-09T18:24:21.000+02:00    NaN   \n",
       "2228  2017-06-10T14:44:11.000+02:00  2017-06-10T14:44:11.000+02:00    NaN   \n",
       "4519  2017-06-10T11:11:26.000+02:00  2017-06-10T11:11:26.000+02:00    NaN   \n",
       "7007  2017-06-10T23:42:15.000+02:00  2017-06-10T23:42:15.000+02:00    NaN   \n",
       "\n",
       "                                booking_id           committed_time_utc_0  \\\n",
       "496   d0bc9130-4b97-40db-a18a-d8ac85e14188  2017-06-09T18:25:47.000+02:00   \n",
       "2228  dbb7e1e0-e2ae-42c9-9d57-5bea8885b4a7  2017-06-10T14:42:14.000+02:00   \n",
       "4519  2935b385-008d-4ba0-97fc-4dda5b49147b  2017-06-10T11:09:39.000+02:00   \n",
       "7007  a7d87dda-91e9-456b-8a6a-eb0c2c9f6bdc  2017-06-10T23:37:34.000+02:00   \n",
       "\n",
       "               estimated_time_utc_0  status     type  \\\n",
       "496   2017-06-09T18:25:47.000+02:00  closed   pickup   \n",
       "2228  2017-06-10T14:43:55.000+02:00  closed  dropoff   \n",
       "4519  2017-06-10T11:11:11.000+02:00  closed  dropoff   \n",
       "7007  2017-06-10T23:37:34.000+02:00  closed   pickup   \n",
       "\n",
       "           datetime_utc_berlin    actual_time_utc_berlin  \\\n",
       "496  2017-06-09 20:24:21+02:00 2017-06-09 20:24:21+02:00   \n",
       "2228 2017-06-10 16:44:11+02:00 2017-06-10 16:44:11+02:00   \n",
       "4519 2017-06-10 13:11:26+02:00 2017-06-10 13:11:26+02:00   \n",
       "7007 2017-06-11 01:42:15+02:00 2017-06-11 01:42:15+02:00   \n",
       "\n",
       "     committed_time_utc_berlin estimated_time_utc_berlin  \n",
       "496  2017-06-09 20:25:47+02:00 2017-06-09 20:25:47+02:00  \n",
       "2228 2017-06-10 16:42:14+02:00 2017-06-10 16:43:55+02:00  \n",
       "4519 2017-06-10 13:09:39+02:00 2017-06-10 13:11:11+02:00  \n",
       "7007 2017-06-11 01:37:34+02:00 2017-06-11 01:37:34+02:00  "
      ]
     },
     "execution_count": 11,
     "metadata": {},
     "output_type": "execute_result"
    }
   ],
   "source": [
    "pick_drop_data[(pick_drop_data[\"postal\"].isnull()) & (pick_drop_data[\"status\"]==\"closed\")]"
   ]
  },
  {
   "cell_type": "markdown",
   "metadata": {},
   "source": [
    "`actual_time_utc_berlin` should have missing values. This is because we only expect to have a non missing if the service was actually provided. In total we see that we have 2110 actual times. Note, however that we would be expecting all of these actual times to correspond to closed services. This is the case in 2026 cases where pickup and drop off services were provided. In 84 observations these actual times correspond to cancelled pickup services."
   ]
  },
  {
   "cell_type": "code",
   "execution_count": 12,
   "metadata": {},
   "outputs": [
    {
     "data": {
      "text/plain": [
       "2110"
      ]
     },
     "execution_count": 12,
     "metadata": {},
     "output_type": "execute_result"
    }
   ],
   "source": [
    "pick_drop_data['actual_time_utc_berlin'].notnull().sum()"
   ]
  },
  {
   "cell_type": "code",
   "execution_count": 13,
   "metadata": {},
   "outputs": [
    {
     "data": {
      "text/plain": [
       "2026"
      ]
     },
     "execution_count": 13,
     "metadata": {},
     "output_type": "execute_result"
    }
   ],
   "source": [
    "#Checking number of actual times with complete status\n",
    "pick_drop_data[(pick_drop_data['actual_time_utc_berlin'].notnull()) \n",
    "               & (pick_drop_data['status'] == \"closed\")].shape[0]"
   ]
  },
  {
   "cell_type": "code",
   "execution_count": 14,
   "metadata": {
    "scrolled": false
   },
   "outputs": [
    {
     "data": {
      "text/plain": [
       "84"
      ]
     },
     "execution_count": 14,
     "metadata": {},
     "output_type": "execute_result"
    }
   ],
   "source": [
    "#Checking number of actual times with cancelled status\n",
    "pick_drop_data[(pick_drop_data['actual_time_utc_berlin'].notnull()) \n",
    "               & (pick_drop_data['status'] == \"cancelled\")].shape[0]"
   ]
  },
  {
   "cell_type": "markdown",
   "metadata": {},
   "source": [
    "#### Checking that number of pick ups coincides with number of drop off"
   ]
  },
  {
   "cell_type": "code",
   "execution_count": 15,
   "metadata": {},
   "outputs": [
    {
     "data": {
      "text/plain": [
       "1014"
      ]
     },
     "execution_count": 15,
     "metadata": {},
     "output_type": "execute_result"
    }
   ],
   "source": [
    "len(pick_drop_data[(pick_drop_data['status'] == 'closed') & (pick_drop_data['type']=='pickup')])"
   ]
  },
  {
   "cell_type": "code",
   "execution_count": 16,
   "metadata": {},
   "outputs": [
    {
     "data": {
      "text/plain": [
       "1012"
      ]
     },
     "execution_count": 16,
     "metadata": {},
     "output_type": "execute_result"
    }
   ],
   "source": [
    "len(pick_drop_data[(pick_drop_data['status'] == 'closed') & (pick_drop_data['type']=='dropoff')])"
   ]
  },
  {
   "cell_type": "markdown",
   "metadata": {},
   "source": [
    "A simple look up of the number of closed rides with pickup and drop offs shows that there is a small difference between them. In what follows, I will find exactly for which booking id are there a pick up but not a drop off or viceversa."
   ]
  },
  {
   "cell_type": "code",
   "execution_count": 17,
   "metadata": {},
   "outputs": [
    {
     "data": {
      "text/html": [
       "<div>\n",
       "<style>\n",
       "    .dataframe thead tr:only-child th {\n",
       "        text-align: right;\n",
       "    }\n",
       "\n",
       "    .dataframe thead th {\n",
       "        text-align: left;\n",
       "    }\n",
       "\n",
       "    .dataframe tbody tr th {\n",
       "        vertical-align: top;\n",
       "    }\n",
       "</style>\n",
       "<table border=\"1\" class=\"dataframe\">\n",
       "  <thead>\n",
       "    <tr style=\"text-align: right;\">\n",
       "      <th></th>\n",
       "      <th>datetime_utc_0</th>\n",
       "      <th>actual_time_utc_0</th>\n",
       "      <th>postal</th>\n",
       "      <th>booking_id</th>\n",
       "      <th>committed_time_utc_0</th>\n",
       "      <th>estimated_time_utc_0</th>\n",
       "      <th>status</th>\n",
       "      <th>type</th>\n",
       "      <th>datetime_utc_berlin</th>\n",
       "      <th>actual_time_utc_berlin</th>\n",
       "      <th>committed_time_utc_berlin</th>\n",
       "      <th>estimated_time_utc_berlin</th>\n",
       "    </tr>\n",
       "  </thead>\n",
       "  <tbody>\n",
       "    <tr>\n",
       "      <th>7007</th>\n",
       "      <td>2017-06-10T23:42:15.000+02:00</td>\n",
       "      <td>2017-06-10T23:42:15.000+02:00</td>\n",
       "      <td>NaN</td>\n",
       "      <td>a7d87dda-91e9-456b-8a6a-eb0c2c9f6bdc</td>\n",
       "      <td>2017-06-10T23:37:34.000+02:00</td>\n",
       "      <td>2017-06-10T23:37:34.000+02:00</td>\n",
       "      <td>closed</td>\n",
       "      <td>pickup</td>\n",
       "      <td>2017-06-11 01:42:15+02:00</td>\n",
       "      <td>2017-06-11 01:42:15+02:00</td>\n",
       "      <td>2017-06-11 01:37:34+02:00</td>\n",
       "      <td>2017-06-11 01:37:34+02:00</td>\n",
       "    </tr>\n",
       "    <tr>\n",
       "      <th>7033</th>\n",
       "      <td>2017-06-10T23:53:17.000+02:00</td>\n",
       "      <td>2017-06-10T23:53:17.000+02:00</td>\n",
       "      <td>10559</td>\n",
       "      <td>7e199ca8-b04a-495d-bfd6-edd1984b415f</td>\n",
       "      <td>2017-06-10T23:51:24.000+02:00</td>\n",
       "      <td>2017-06-10T23:51:24.000+02:00</td>\n",
       "      <td>closed</td>\n",
       "      <td>pickup</td>\n",
       "      <td>2017-06-11 01:53:17+02:00</td>\n",
       "      <td>2017-06-11 01:53:17+02:00</td>\n",
       "      <td>2017-06-11 01:51:24+02:00</td>\n",
       "      <td>2017-06-11 01:51:24+02:00</td>\n",
       "    </tr>\n",
       "    <tr>\n",
       "      <th>8642</th>\n",
       "      <td>2017-06-10T23:48:05.000+02:00</td>\n",
       "      <td>2017-06-10T23:48:05.000+02:00</td>\n",
       "      <td>10969</td>\n",
       "      <td>183a2ba6-6c0f-4059-91f2-165e52c89ffb</td>\n",
       "      <td>2017-06-10T23:48:03.000+02:00</td>\n",
       "      <td>2017-06-10T23:48:09.000+02:00</td>\n",
       "      <td>closed</td>\n",
       "      <td>pickup</td>\n",
       "      <td>2017-06-11 01:48:05+02:00</td>\n",
       "      <td>2017-06-11 01:48:05+02:00</td>\n",
       "      <td>2017-06-11 01:48:03+02:00</td>\n",
       "      <td>2017-06-11 01:48:09+02:00</td>\n",
       "    </tr>\n",
       "    <tr>\n",
       "      <th>8650</th>\n",
       "      <td>2017-06-10T23:51:46.000+02:00</td>\n",
       "      <td>2017-06-10T23:51:46.000+02:00</td>\n",
       "      <td>10117</td>\n",
       "      <td>723130ac-08ce-4838-9def-1c0e49763f0f</td>\n",
       "      <td>2017-06-10T23:54:37.000+02:00</td>\n",
       "      <td>2017-06-10T23:54:00.000+02:00</td>\n",
       "      <td>closed</td>\n",
       "      <td>pickup</td>\n",
       "      <td>2017-06-11 01:51:46+02:00</td>\n",
       "      <td>2017-06-11 01:51:46+02:00</td>\n",
       "      <td>2017-06-11 01:54:37+02:00</td>\n",
       "      <td>2017-06-11 01:54:00+02:00</td>\n",
       "    </tr>\n",
       "    <tr>\n",
       "      <th>8658</th>\n",
       "      <td>2017-06-10T23:53:48.000+02:00</td>\n",
       "      <td>2017-06-10T23:53:48.000+02:00</td>\n",
       "      <td>12045</td>\n",
       "      <td>d755fc90-555c-44bb-96eb-4eec23e8297b</td>\n",
       "      <td>2017-06-10T23:52:32.000+02:00</td>\n",
       "      <td>2017-06-10T23:52:32.000+02:00</td>\n",
       "      <td>closed</td>\n",
       "      <td>pickup</td>\n",
       "      <td>2017-06-11 01:53:48+02:00</td>\n",
       "      <td>2017-06-11 01:53:48+02:00</td>\n",
       "      <td>2017-06-11 01:52:32+02:00</td>\n",
       "      <td>2017-06-11 01:52:32+02:00</td>\n",
       "    </tr>\n",
       "  </tbody>\n",
       "</table>\n",
       "</div>"
      ],
      "text/plain": [
       "                     datetime_utc_0              actual_time_utc_0 postal  \\\n",
       "7007  2017-06-10T23:42:15.000+02:00  2017-06-10T23:42:15.000+02:00    NaN   \n",
       "7033  2017-06-10T23:53:17.000+02:00  2017-06-10T23:53:17.000+02:00  10559   \n",
       "8642  2017-06-10T23:48:05.000+02:00  2017-06-10T23:48:05.000+02:00  10969   \n",
       "8650  2017-06-10T23:51:46.000+02:00  2017-06-10T23:51:46.000+02:00  10117   \n",
       "8658  2017-06-10T23:53:48.000+02:00  2017-06-10T23:53:48.000+02:00  12045   \n",
       "\n",
       "                                booking_id           committed_time_utc_0  \\\n",
       "7007  a7d87dda-91e9-456b-8a6a-eb0c2c9f6bdc  2017-06-10T23:37:34.000+02:00   \n",
       "7033  7e199ca8-b04a-495d-bfd6-edd1984b415f  2017-06-10T23:51:24.000+02:00   \n",
       "8642  183a2ba6-6c0f-4059-91f2-165e52c89ffb  2017-06-10T23:48:03.000+02:00   \n",
       "8650  723130ac-08ce-4838-9def-1c0e49763f0f  2017-06-10T23:54:37.000+02:00   \n",
       "8658  d755fc90-555c-44bb-96eb-4eec23e8297b  2017-06-10T23:52:32.000+02:00   \n",
       "\n",
       "               estimated_time_utc_0  status    type       datetime_utc_berlin  \\\n",
       "7007  2017-06-10T23:37:34.000+02:00  closed  pickup 2017-06-11 01:42:15+02:00   \n",
       "7033  2017-06-10T23:51:24.000+02:00  closed  pickup 2017-06-11 01:53:17+02:00   \n",
       "8642  2017-06-10T23:48:09.000+02:00  closed  pickup 2017-06-11 01:48:05+02:00   \n",
       "8650  2017-06-10T23:54:00.000+02:00  closed  pickup 2017-06-11 01:51:46+02:00   \n",
       "8658  2017-06-10T23:52:32.000+02:00  closed  pickup 2017-06-11 01:53:48+02:00   \n",
       "\n",
       "        actual_time_utc_berlin committed_time_utc_berlin  \\\n",
       "7007 2017-06-11 01:42:15+02:00 2017-06-11 01:37:34+02:00   \n",
       "7033 2017-06-11 01:53:17+02:00 2017-06-11 01:51:24+02:00   \n",
       "8642 2017-06-11 01:48:05+02:00 2017-06-11 01:48:03+02:00   \n",
       "8650 2017-06-11 01:51:46+02:00 2017-06-11 01:54:37+02:00   \n",
       "8658 2017-06-11 01:53:48+02:00 2017-06-11 01:52:32+02:00   \n",
       "\n",
       "     estimated_time_utc_berlin  \n",
       "7007 2017-06-11 01:37:34+02:00  \n",
       "7033 2017-06-11 01:51:24+02:00  \n",
       "8642 2017-06-11 01:48:09+02:00  \n",
       "8650 2017-06-11 01:54:00+02:00  \n",
       "8658 2017-06-11 01:52:32+02:00  "
      ]
     },
     "execution_count": 17,
     "metadata": {},
     "output_type": "execute_result"
    }
   ],
   "source": [
    "#Pick ups without drop offs\n",
    "\n",
    "#Generate list of all the drop off booking id's\n",
    "book_id_dropoff = list(pick_drop_data[(pick_drop_data['status'] == 'closed') & (pick_drop_data['type']=='dropoff') ]['booking_id'])\n",
    "\n",
    "#Check which ones are missing\n",
    "pick_drop_data[(pick_drop_data['status'] == 'closed') & (pick_drop_data['type']=='pickup') \n",
    "          & ~(pick_drop_data['booking_id'].isin(book_id_dropoff))]"
   ]
  },
  {
   "cell_type": "code",
   "execution_count": 18,
   "metadata": {},
   "outputs": [
    {
     "data": {
      "text/html": [
       "<div>\n",
       "<style>\n",
       "    .dataframe thead tr:only-child th {\n",
       "        text-align: right;\n",
       "    }\n",
       "\n",
       "    .dataframe thead th {\n",
       "        text-align: left;\n",
       "    }\n",
       "\n",
       "    .dataframe tbody tr th {\n",
       "        vertical-align: top;\n",
       "    }\n",
       "</style>\n",
       "<table border=\"1\" class=\"dataframe\">\n",
       "  <thead>\n",
       "    <tr style=\"text-align: right;\">\n",
       "      <th></th>\n",
       "      <th>datetime_utc_0</th>\n",
       "      <th>actual_time_utc_0</th>\n",
       "      <th>postal</th>\n",
       "      <th>booking_id</th>\n",
       "      <th>committed_time_utc_0</th>\n",
       "      <th>estimated_time_utc_0</th>\n",
       "      <th>status</th>\n",
       "      <th>type</th>\n",
       "      <th>datetime_utc_berlin</th>\n",
       "      <th>actual_time_utc_berlin</th>\n",
       "      <th>committed_time_utc_berlin</th>\n",
       "      <th>estimated_time_utc_berlin</th>\n",
       "    </tr>\n",
       "  </thead>\n",
       "  <tbody>\n",
       "    <tr>\n",
       "      <th>7057</th>\n",
       "      <td>2017-06-11T00:14:08.000+02:00</td>\n",
       "      <td>2017-06-11T00:14:08.000+02:00</td>\n",
       "      <td>10243</td>\n",
       "      <td>efdf2025-84d6-4336-a0af-c853156694e3</td>\n",
       "      <td>2017-06-11T00:15:12.000+02:00</td>\n",
       "      <td>2017-06-11T00:15:12.000+02:00</td>\n",
       "      <td>closed</td>\n",
       "      <td>dropoff</td>\n",
       "      <td>2017-06-11 02:14:08+02:00</td>\n",
       "      <td>2017-06-11 02:14:08+02:00</td>\n",
       "      <td>2017-06-11 02:15:12+02:00</td>\n",
       "      <td>2017-06-11 02:15:12+02:00</td>\n",
       "    </tr>\n",
       "    <tr>\n",
       "      <th>8679</th>\n",
       "      <td>2017-06-11T00:15:26.000+02:00</td>\n",
       "      <td>2017-06-11T00:15:26.000+02:00</td>\n",
       "      <td>10967</td>\n",
       "      <td>bad30cdb-0434-43ff-be0f-c1f4bd7143d4</td>\n",
       "      <td>2017-06-11T00:23:09.000+02:00</td>\n",
       "      <td>2017-06-11T00:23:09.000+02:00</td>\n",
       "      <td>closed</td>\n",
       "      <td>dropoff</td>\n",
       "      <td>2017-06-11 02:15:26+02:00</td>\n",
       "      <td>2017-06-11 02:15:26+02:00</td>\n",
       "      <td>2017-06-11 02:23:09+02:00</td>\n",
       "      <td>2017-06-11 02:23:09+02:00</td>\n",
       "    </tr>\n",
       "    <tr>\n",
       "      <th>8681</th>\n",
       "      <td>2017-06-11T00:19:03.000+02:00</td>\n",
       "      <td>2017-06-11T00:19:03.000+02:00</td>\n",
       "      <td>10437</td>\n",
       "      <td>9899b627-c082-4945-a549-d4119792c9c6</td>\n",
       "      <td>2017-06-11T00:19:07.000+02:00</td>\n",
       "      <td>2017-06-11T00:19:07.000+02:00</td>\n",
       "      <td>closed</td>\n",
       "      <td>dropoff</td>\n",
       "      <td>2017-06-11 02:19:03+02:00</td>\n",
       "      <td>2017-06-11 02:19:03+02:00</td>\n",
       "      <td>2017-06-11 02:19:07+02:00</td>\n",
       "      <td>2017-06-11 02:19:07+02:00</td>\n",
       "    </tr>\n",
       "  </tbody>\n",
       "</table>\n",
       "</div>"
      ],
      "text/plain": [
       "                     datetime_utc_0              actual_time_utc_0 postal  \\\n",
       "7057  2017-06-11T00:14:08.000+02:00  2017-06-11T00:14:08.000+02:00  10243   \n",
       "8679  2017-06-11T00:15:26.000+02:00  2017-06-11T00:15:26.000+02:00  10967   \n",
       "8681  2017-06-11T00:19:03.000+02:00  2017-06-11T00:19:03.000+02:00  10437   \n",
       "\n",
       "                                booking_id           committed_time_utc_0  \\\n",
       "7057  efdf2025-84d6-4336-a0af-c853156694e3  2017-06-11T00:15:12.000+02:00   \n",
       "8679  bad30cdb-0434-43ff-be0f-c1f4bd7143d4  2017-06-11T00:23:09.000+02:00   \n",
       "8681  9899b627-c082-4945-a549-d4119792c9c6  2017-06-11T00:19:07.000+02:00   \n",
       "\n",
       "               estimated_time_utc_0  status     type  \\\n",
       "7057  2017-06-11T00:15:12.000+02:00  closed  dropoff   \n",
       "8679  2017-06-11T00:23:09.000+02:00  closed  dropoff   \n",
       "8681  2017-06-11T00:19:07.000+02:00  closed  dropoff   \n",
       "\n",
       "           datetime_utc_berlin    actual_time_utc_berlin  \\\n",
       "7057 2017-06-11 02:14:08+02:00 2017-06-11 02:14:08+02:00   \n",
       "8679 2017-06-11 02:15:26+02:00 2017-06-11 02:15:26+02:00   \n",
       "8681 2017-06-11 02:19:03+02:00 2017-06-11 02:19:03+02:00   \n",
       "\n",
       "     committed_time_utc_berlin estimated_time_utc_berlin  \n",
       "7057 2017-06-11 02:15:12+02:00 2017-06-11 02:15:12+02:00  \n",
       "8679 2017-06-11 02:23:09+02:00 2017-06-11 02:23:09+02:00  \n",
       "8681 2017-06-11 02:19:07+02:00 2017-06-11 02:19:07+02:00  "
      ]
     },
     "execution_count": 18,
     "metadata": {},
     "output_type": "execute_result"
    }
   ],
   "source": [
    "#Drop offs without pickups\n",
    "\n",
    "#Generate list of all the drop off booking id's\n",
    "book_id_pickup = list(pick_drop_data[(pick_drop_data['status'] == 'closed') & (pick_drop_data['type']=='pickup') ]['booking_id'])\n",
    "\n",
    "#Check which ones are missing\n",
    "pick_drop_data[(pick_drop_data['status'] == 'closed') & (pick_drop_data['type']=='dropoff') \n",
    "          & ~(pick_drop_data['booking_id'].isin(book_id_pickup))]"
   ]
  },
  {
   "cell_type": "code",
   "execution_count": 19,
   "metadata": {
    "collapsed": true
   },
   "outputs": [],
   "source": [
    "def group_per_date(df, grouping_period, date_col, other_grouping, dict_op):\n",
    "    \"\"\"\n",
    "    df: pandas data frame.\n",
    "    grouping_pediod: (str) a date period grouping e(e.g. 1h: hourly, 1d:daily).\n",
    "    date_col: (str) column in date set with date time object.\n",
    "    other_grouping: (str) other columns with grouping criteria.\n",
    "    dict_op: dictionary that includes {'column_name': agreggation operation}.\n",
    "\n",
    "    \n",
    "    return: data frame grouped in given period\n",
    "    \"\"\"\n",
    "    \n",
    "    return df.groupby([pd.Grouper(freq=grouping_period, key=date_col), other_grouping]).agg(dict_op).reset_index()\n",
    "\n",
    "\n"
   ]
  },
  {
   "cell_type": "markdown",
   "metadata": {},
   "source": [
    "## Analizing offer / demand\n",
    "\n",
    "A good way to determine the demand of the services is to check the number of times the users requested a service. We can check this per day and hour. On the other side, we also want to check how many of these requests lead to actual service (offer). This analysis will show us how much of the shuttle requests are actually served by ally. I divide my analysis in daily and day and hour spans. This way we can observe exactly which days and exactly at what hours do we have activity peaks and how ally deals with them.\n",
    "\n",
    "Note that a first problem we have to deal with when grouping is when to count a request. Allygator shuttle services runs through the night, till the other day (2 a.m). As in the data sets we have observations that are repeated, we might be overestimating the demand if we count a request double. \n",
    "\n",
    "For example, we will be counting double if we count as a separate request one made at 23:59 on 09.06.17 and the observation from the same requests that continues being open at 00:01 10.06.17. As a rule, we will say that this request belongs to the day in which it was made 09.06.17. The same counts for when the service is provided. If a service is requested just before midnight and it was provided the other day, I will count this as completed in the day it was requested. This treatment makes sure we are treating our data in a consistent way.\n",
    "\n",
    "For this purpose, to measure the number of requests we will take the first observation of the request. Then we will take all of those request that were actually fulfilled (where `status` is `closed`) and will analyze these variables together.\n"
   ]
  },
  {
   "cell_type": "markdown",
   "metadata": {},
   "source": [
    "### Number of requests per day and fulfilled requests"
   ]
  },
  {
   "cell_type": "code",
   "execution_count": 20,
   "metadata": {
    "scrolled": false
   },
   "outputs": [],
   "source": [
    "#Taking first observation of pickup per booking\n",
    "first_request = pick_drop_data.sort_values(by=[\"datetime_utc_berlin\", \"type\"], \n",
    "                                           ascending=[True, False]).groupby('booking_id').agg(lambda x: x.iloc[0]).reset_index()"
   ]
  },
  {
   "cell_type": "code",
   "execution_count": 21,
   "metadata": {},
   "outputs": [],
   "source": [
    "#Getting first element of each booking \n",
    "#(we are interesting in obtaining how many passengers the service was requested for)\n",
    "#Taking first observation of pickup per booking\n",
    "pass_count_booking = bookings_data.sort_values(by=[\"booking_created_at_utc_berlin\", \"event\"], \n",
    "                                           ascending=[True, True]).groupby('booking_id').agg(lambda x: x.iloc[0]).reset_index()"
   ]
  },
  {
   "cell_type": "code",
   "execution_count": 23,
   "metadata": {},
   "outputs": [],
   "source": [
    "#Getting pick up and drop off data that are closed - services actually provided\n",
    "pick_up_closed = pick_drop_data[(pick_drop_data['status'] == 'closed') & (pick_drop_data['type']=='pickup')]\n",
    "drop_closed = pick_drop_data[(pick_drop_data['status'] == 'closed') & (pick_drop_data['type']=='drop')]"
   ]
  },
  {
   "cell_type": "code",
   "execution_count": 24,
   "metadata": {},
   "outputs": [],
   "source": [
    "#Merging data with first pickup\n",
    "## Merging with closed requests\n",
    "## Note that as an extra step (not shown) we make sure that the same cases without a match in this merge \n",
    "## are the same as the ones that did not have a match when doing the merge with request_per_day data frame\n",
    "request_pickup_closed = pd.merge(first_request, pick_up_closed, how=\"outer\", \n",
    "         indicator=True, on=\"booking_id\",\n",
    "         suffixes = [\"_req\", \"_pick_closed\"])\n",
    "request_pickup_closed = request_pickup_closed.rename(columns = {'_merge': 'first_merge'})\n",
    "pass_count_pick_closed = pd.merge(pass_count_booking, request_pickup_closed, \n",
    "                                  on=\"booking_id\", how=\"outer\", indicator=True)"
   ]
  },
  {
   "cell_type": "code",
   "execution_count": 26,
   "metadata": {},
   "outputs": [],
   "source": [
    "#Grouping pick up per day\n",
    "#pick_up_per_day = group_per_date(pass_count_pick_closed[pass_count_pick_closed[\"first_merge\"]==\"both\"], \"1d\", \"datetime_utc_berlin_req\", {\"booking_id\":\"count\"})\n",
    "data_per_day = group_per_date(pass_count_pick_closed, \"1d\", \"datetime_utc_berlin_req\", \"first_merge\",{\"booking_id\":\"count\", \"passenger_count\": np.sum})\n",
    "pivoted_per_day = data_per_day.pivot(index='datetime_utc_berlin_req', columns='first_merge')\n",
    "## Getting rid off multilevel column\n",
    "pivoted_per_day.columns = ['_'.join(col) for col in pivoted_per_day.columns]\n"
   ]
  },
  {
   "cell_type": "code",
   "execution_count": 75,
   "metadata": {},
   "outputs": [],
   "source": [
    "def get_total_pct(df):\n",
    "    \"\"\"\n",
    "    df: data frame that is produced after pivoting and contains\n",
    "        following columns: passenger_count_left_only, passenger_count_both, \n",
    "        booking_id_left_only, booking_id_both, passenger_count_both, total_passenger,\n",
    "        booking_id_both, total_booking.\n",
    "    \"\"\"\n",
    "    try:\n",
    "        df[\"total_passenger\"] = df[\"passenger_count_left_only\"] + df[\"passenger_count_both\"]\n",
    "        df[\"total_booking\"] = df[\"booking_id_left_only\"] + df[\"booking_id_both\"]\n",
    "        df[\"pct_pass_served\"] = df[\"passenger_count_both\"] / df[\"total_passenger\"]\n",
    "        df[\"pct_serv_served\"] = df[\"booking_id_both\"] / df[\"total_booking\"]\n",
    "    except KeyError:\n",
    "        print(\"Data frame does not contain appropriate columns\")"
   ]
  },
  {
   "cell_type": "code",
   "execution_count": 77,
   "metadata": {},
   "outputs": [],
   "source": [
    "#Operations on data obtained\n",
    "#pivoted_per_day[\"total_passenger\"] = pivoted_per_day[\"passenger_count_left_only\"] + pivoted_per_day[\"passenger_count_both\"]\n",
    "#pivoted_per_day[\"total_booking\"] = pivoted_per_day[\"booking_id_left_only\"] + pivoted_per_day[\"booking_id_both\"]\n",
    "#pivoted_per_day[\"pct_pass_served\"] = pivoted_per_day[\"passenger_count_both\"] / pivoted_per_day[\"total_passenger\"]\n",
    "#pivoted_per_day[\"pct_serv_served\"] = pivoted_per_day[\"booking_id_both\"] / pivoted_per_day[\"total_booking\"]\n",
    "get_total_pct(pivoted_per_day)\n",
    "#getting labels for graph\n",
    "pivoted_per_day[\"date\"] = pivoted_per_day.index.map(lambda x: x.strftime('%a %b %Y'))"
   ]
  },
  {
   "cell_type": "code",
   "execution_count": 52,
   "metadata": {},
   "outputs": [
    {
     "data": {
      "text/plain": [
       "Index(['passenger_count_left_only', 'passenger_count_both',\n",
       "       'booking_id_left_only', 'booking_id_both', 'total_passenger',\n",
       "       'total_booking', 'pct_pag_served', 'pct_serv_served', 'date',\n",
       "       'pct_pass_served'],\n",
       "      dtype='object')"
      ]
     },
     "execution_count": 52,
     "metadata": {},
     "output_type": "execute_result"
    }
   ],
   "source": [
    "pivoted_per_day.columns"
   ]
  },
  {
   "cell_type": "code",
   "execution_count": null,
   "metadata": {
    "collapsed": true
   },
   "outputs": [],
   "source": [
    "def plot_vbar_chart(df, total_numbers, served_booking, pct_serv, x_range, plot_w, plot_h, color_total, color_served, bar_width=0.4\n",
    "                   title):\n",
    "    \"\"\"\n",
    "    df: data frame.\n",
    "    total_number_req: (str) variable with totals.\n",
    "    served_booking: (str) variable that contains serviced requests/passengers.\n",
    "    pct_serv: (str) variable that contains bookings that were served.\n",
    "    x_range: (list) with dates to plot on x axis.\n",
    "    plot_w: (int) plot width.\n",
    "    plot_h: (int) pot height.\n",
    "    color_total: color for total bar.\n",
    "    color_served: color for served bar.\n",
    "    width: (float) width of bar.\n",
    "    title: (str) title of plot.\n",
    "    \"\"\"\n",
    "    \n",
    "    \n",
    "    source = ColumnDataSource(df)\n",
    "    hover = HoverTool(tooltips=[\n",
    "        (\"number of requests\", \"@\" + total_numbers),\n",
    "        (\"number of completed\", \"@\" + served_bookings),\n",
    "        (\"pct. completed\", \"@\" pct_serv + \"{(0.00%)}\")\n",
    "    ])\n",
    "    plot_day_services = figure(plot_width=400, plot_height=400, x_range=list(pivoted_per_day[\"date\"]),\n",
    "          x_axis_label=\"Date\", y_axis_label=\"Count\", tools=[hover_1])\n",
    "    "
   ]
  },
  {
   "cell_type": "code",
   "execution_count": 66,
   "metadata": {},
   "outputs": [
    {
     "data": {
      "text/html": [
       "\n",
       "\n",
       "    <div class=\"bk-root\">\n",
       "        <div class=\"bk-plotdiv\" id=\"b9b47bcd-756c-4d22-a0d0-8a9a20434c77\"></div>\n",
       "    </div>\n",
       "<script type=\"text/javascript\">\n",
       "  \n",
       "  (function(global) {\n",
       "    function now() {\n",
       "      return new Date();\n",
       "    }\n",
       "  \n",
       "    var force = false;\n",
       "  \n",
       "    if (typeof (window._bokeh_onload_callbacks) === \"undefined\" || force === true) {\n",
       "      window._bokeh_onload_callbacks = [];\n",
       "      window._bokeh_is_loading = undefined;\n",
       "    }\n",
       "  \n",
       "  \n",
       "    \n",
       "    if (typeof (window._bokeh_timeout) === \"undefined\" || force === true) {\n",
       "      window._bokeh_timeout = Date.now() + 0;\n",
       "      window._bokeh_failed_load = false;\n",
       "    }\n",
       "  \n",
       "    var NB_LOAD_WARNING = {'data': {'text/html':\n",
       "       \"<div style='background-color: #fdd'>\\n\"+\n",
       "       \"<p>\\n\"+\n",
       "       \"BokehJS does not appear to have successfully loaded. If loading BokehJS from CDN, this \\n\"+\n",
       "       \"may be due to a slow or bad network connection. Possible fixes:\\n\"+\n",
       "       \"</p>\\n\"+\n",
       "       \"<ul>\\n\"+\n",
       "       \"<li>re-rerun `output_notebook()` to attempt to load from CDN again, or</li>\\n\"+\n",
       "       \"<li>use INLINE resources instead, as so:</li>\\n\"+\n",
       "       \"</ul>\\n\"+\n",
       "       \"<code>\\n\"+\n",
       "       \"from bokeh.resources import INLINE\\n\"+\n",
       "       \"output_notebook(resources=INLINE)\\n\"+\n",
       "       \"</code>\\n\"+\n",
       "       \"</div>\"}};\n",
       "  \n",
       "    function display_loaded() {\n",
       "      if (window.Bokeh !== undefined) {\n",
       "        var el = document.getElementById(\"b9b47bcd-756c-4d22-a0d0-8a9a20434c77\");\n",
       "        el.textContent = \"BokehJS \" + Bokeh.version + \" successfully loaded.\";\n",
       "      } else if (Date.now() < window._bokeh_timeout) {\n",
       "        setTimeout(display_loaded, 100)\n",
       "      }\n",
       "    }\n",
       "  \n",
       "    function run_callbacks() {\n",
       "      try {\n",
       "        window._bokeh_onload_callbacks.forEach(function(callback) { callback() });\n",
       "      }\n",
       "      finally {\n",
       "        delete window._bokeh_onload_callbacks\n",
       "      }\n",
       "      console.info(\"Bokeh: all callbacks have finished\");\n",
       "    }\n",
       "  \n",
       "    function load_libs(js_urls, callback) {\n",
       "      window._bokeh_onload_callbacks.push(callback);\n",
       "      if (window._bokeh_is_loading > 0) {\n",
       "        console.log(\"Bokeh: BokehJS is being loaded, scheduling callback at\", now());\n",
       "        return null;\n",
       "      }\n",
       "      if (js_urls == null || js_urls.length === 0) {\n",
       "        run_callbacks();\n",
       "        return null;\n",
       "      }\n",
       "      console.log(\"Bokeh: BokehJS not loaded, scheduling load and callback at\", now());\n",
       "      window._bokeh_is_loading = js_urls.length;\n",
       "      for (var i = 0; i < js_urls.length; i++) {\n",
       "        var url = js_urls[i];\n",
       "        var s = document.createElement('script');\n",
       "        s.src = url;\n",
       "        s.async = false;\n",
       "        s.onreadystatechange = s.onload = function() {\n",
       "          window._bokeh_is_loading--;\n",
       "          if (window._bokeh_is_loading === 0) {\n",
       "            console.log(\"Bokeh: all BokehJS libraries loaded\");\n",
       "            run_callbacks()\n",
       "          }\n",
       "        };\n",
       "        s.onerror = function() {\n",
       "          console.warn(\"failed to load library \" + url);\n",
       "        };\n",
       "        console.log(\"Bokeh: injecting script tag for BokehJS library: \", url);\n",
       "        document.getElementsByTagName(\"head\")[0].appendChild(s);\n",
       "      }\n",
       "    };var element = document.getElementById(\"b9b47bcd-756c-4d22-a0d0-8a9a20434c77\");\n",
       "    if (element == null) {\n",
       "      console.log(\"Bokeh: ERROR: autoload.js configured with elementid 'b9b47bcd-756c-4d22-a0d0-8a9a20434c77' but no matching script tag was found. \")\n",
       "      return false;\n",
       "    }\n",
       "  \n",
       "    var js_urls = [];\n",
       "  \n",
       "    var inline_js = [\n",
       "      function(Bokeh) {\n",
       "        (function() {\n",
       "          var fn = function() {\n",
       "            var docs_json = {\"776fa840-8f2e-4282-9ae0-71d1c524ade3\":{\"roots\":{\"references\":[{\"attributes\":{\"callback\":null},\"id\":\"c2dbb542-063d-4a7a-b5e0-6193ed67dde4\",\"type\":\"DataRange1d\"},{\"attributes\":{},\"id\":\"28e4c059-4651-4887-ae54-31b7e0daf63f\",\"type\":\"ToolEvents\"},{\"attributes\":{\"dimension\":1,\"plot\":{\"id\":\"75546aac-beb5-4ca6-9620-dc1f9450ecdd\",\"subtype\":\"Figure\",\"type\":\"Plot\"},\"ticker\":{\"id\":\"e1de3431-209b-47e0-abb5-87907738b747\",\"type\":\"BasicTicker\"}},\"id\":\"f35cf7e3-306e-449d-875e-f204e4515648\",\"type\":\"Grid\"},{\"attributes\":{\"fill_alpha\":{\"value\":0.1},\"fill_color\":{\"value\":\"#1f77b4\"},\"line_alpha\":{\"value\":0.1},\"line_color\":{\"value\":\"#1f77b4\"},\"top\":{\"field\":\"booking_id_both\"},\"width\":{\"value\":0.4},\"x\":{\"field\":\"date\"}},\"id\":\"28de5a23-d42d-41ce-a20a-f3ba05fef8b7\",\"type\":\"VBar\"},{\"attributes\":{\"fill_alpha\":{\"value\":0.1},\"fill_color\":{\"value\":\"#1f77b4\"},\"line_alpha\":{\"value\":0.1},\"line_color\":{\"value\":\"#1f77b4\"},\"top\":{\"field\":\"passenger_count_both\"},\"width\":{\"value\":0.4},\"x\":{\"field\":\"date\"}},\"id\":\"8aa4135d-4f12-496f-9a40-c96de2d1bf39\",\"type\":\"VBar\"},{\"attributes\":{},\"id\":\"d2948495-a809-450a-9470-205fba87302e\",\"type\":\"BasicTickFormatter\"},{\"attributes\":{\"children\":[{\"id\":\"6f85fc42-e3af-4e87-a479-a45e0f99bf03\",\"subtype\":\"Figure\",\"type\":\"Plot\"},{\"id\":\"75546aac-beb5-4ca6-9620-dc1f9450ecdd\",\"subtype\":\"Figure\",\"type\":\"Plot\"}]},\"id\":\"ed218895-27f0-4878-8eb1-33ddc464fd19\",\"type\":\"Row\"},{\"attributes\":{\"callback\":null,\"factors\":[\"Fri Jun 2017\",\"Sat Jun 2017\",\"Sun Jun 2017\"]},\"id\":\"5fdb4d80-e6ac-44f4-bdce-cf494cdb80c2\",\"type\":\"FactorRange\"},{\"attributes\":{},\"id\":\"03eb1414-58dd-46be-95c6-b57e80e5988a\",\"type\":\"LinearScale\"},{\"attributes\":{},\"id\":\"0bd6bbfd-cfbe-4f8b-900c-145c2497693d\",\"type\":\"BasicTickFormatter\"},{\"attributes\":{\"plot\":{\"id\":\"75546aac-beb5-4ca6-9620-dc1f9450ecdd\",\"subtype\":\"Figure\",\"type\":\"Plot\"},\"ticker\":{\"id\":\"7ead47d8-5fb8-4e89-8983-79987ae4e7a2\",\"type\":\"CategoricalTicker\"},\"visible\":false},\"id\":\"be5e65e8-237e-462a-bb02-bd120c57ce36\",\"type\":\"Grid\"},{\"attributes\":{\"bottom\":{\"field\":\"booking_id_both\"},\"fill_color\":{\"value\":\"#7CDFD1\"},\"line_color\":{\"value\":\"#7CDFD1\"},\"top\":{\"field\":\"total_booking\"},\"width\":{\"value\":0.4},\"x\":{\"field\":\"date\"}},\"id\":\"d244b76f-5f3b-4ed0-80f5-9ca1da6b8489\",\"type\":\"VBar\"},{\"attributes\":{\"bottom\":{\"field\":\"passenger_count_both\"},\"fill_color\":{\"value\":\"#7CDFD1\"},\"line_color\":{\"value\":\"#7CDFD1\"},\"top\":{\"field\":\"total_passenger\"},\"width\":{\"value\":0.4},\"x\":{\"field\":\"date\"}},\"id\":\"fca86460-a82a-4a82-b108-2a18307c3d4b\",\"type\":\"VBar\"},{\"attributes\":{\"plot\":{\"id\":\"6f85fc42-e3af-4e87-a479-a45e0f99bf03\",\"subtype\":\"Figure\",\"type\":\"Plot\"},\"ticker\":{\"id\":\"fd815ba7-e31e-4514-a654-69873c30114d\",\"type\":\"CategoricalTicker\"},\"visible\":false},\"id\":\"912368eb-878c-48e3-9b7c-a9c52c046ec5\",\"type\":\"Grid\"},{\"attributes\":{\"callback\":null},\"id\":\"0d982886-f079-45c9-a419-34534b7d8bc3\",\"type\":\"DataRange1d\"},{\"attributes\":{\"label\":{\"value\":\"served\"},\"renderers\":[{\"id\":\"44784c05-71bb-409b-bccd-92778aa2d4da\",\"type\":\"GlyphRenderer\"}]},\"id\":\"ee423a43-da8c-4316-ab30-6bd46f9efacc\",\"type\":\"LegendItem\"},{\"attributes\":{\"data_source\":{\"id\":\"59f39f55-b665-44fa-91e5-35eb93d3b2e9\",\"type\":\"ColumnDataSource\"},\"glyph\":{\"id\":\"203c6a04-e4ba-48e2-a21b-46a1f04163cd\",\"type\":\"VBar\"},\"hover_glyph\":null,\"muted_glyph\":null,\"nonselection_glyph\":{\"id\":\"8aa4135d-4f12-496f-9a40-c96de2d1bf39\",\"type\":\"VBar\"},\"selection_glyph\":null},\"id\":\"44784c05-71bb-409b-bccd-92778aa2d4da\",\"type\":\"GlyphRenderer\"},{\"attributes\":{},\"id\":\"a0bf09f7-3f8a-4442-8476-de3c5f1d7654\",\"type\":\"ToolEvents\"},{\"attributes\":{},\"id\":\"f6033807-0f91-496f-9199-f3eeca7c1ce2\",\"type\":\"CategoricalScale\"},{\"attributes\":{\"label\":{\"value\":\"non served\"},\"renderers\":[{\"id\":\"74bba252-6bf2-41a6-a049-395a3d039001\",\"type\":\"GlyphRenderer\"}]},\"id\":\"ffe49ae6-3bcd-45a0-b152-4742ba55df00\",\"type\":\"LegendItem\"},{\"attributes\":{\"callback\":null,\"plot\":{\"id\":\"6f85fc42-e3af-4e87-a479-a45e0f99bf03\",\"subtype\":\"Figure\",\"type\":\"Plot\"},\"tooltips\":[[\"number of requests\",\"@total_booking\"],[\"number of completed\",\"@booking_id_both\"],[\"pct. completed\",\"@pct_serv_served{(0.00%)}\"]]},\"id\":\"7d1f8144-121f-4f33-9832-b6cb5ebac1e4\",\"type\":\"HoverTool\"},{\"attributes\":{},\"id\":\"e3bb0bfa-87b4-483c-be82-4352593057c7\",\"type\":\"CategoricalTickFormatter\"},{\"attributes\":{},\"id\":\"76a5c08c-baef-41c7-b4ac-9b8913ef4118\",\"type\":\"CategoricalTickFormatter\"},{\"attributes\":{},\"id\":\"fd815ba7-e31e-4514-a654-69873c30114d\",\"type\":\"CategoricalTicker\"},{\"attributes\":{\"active_drag\":\"auto\",\"active_inspect\":\"auto\",\"active_scroll\":\"auto\",\"active_tap\":\"auto\",\"tools\":[{\"id\":\"7d1f8144-121f-4f33-9832-b6cb5ebac1e4\",\"type\":\"HoverTool\"}]},\"id\":\"776350b8-7431-4a53-a739-d107303c835d\",\"type\":\"Toolbar\"},{\"attributes\":{\"axis_label\":\"Date\",\"formatter\":{\"id\":\"76a5c08c-baef-41c7-b4ac-9b8913ef4118\",\"type\":\"CategoricalTickFormatter\"},\"plot\":{\"id\":\"75546aac-beb5-4ca6-9620-dc1f9450ecdd\",\"subtype\":\"Figure\",\"type\":\"Plot\"},\"ticker\":{\"id\":\"7ead47d8-5fb8-4e89-8983-79987ae4e7a2\",\"type\":\"CategoricalTicker\"}},\"id\":\"81047ea8-73b9-403f-8edf-dbd0d6040d28\",\"type\":\"CategoricalAxis\"},{\"attributes\":{\"plot\":null,\"text\":\"\"},\"id\":\"4d56ba45-e6e3-43dc-a6d2-83f324f5e739\",\"type\":\"Title\"},{\"attributes\":{\"active_drag\":\"auto\",\"active_inspect\":\"auto\",\"active_scroll\":\"auto\",\"active_tap\":\"auto\",\"tools\":[{\"id\":\"6533914f-4250-493e-ad7e-e1ed9d0cc1f1\",\"type\":\"HoverTool\"}]},\"id\":\"1435e1bb-ddaf-43f7-9ccd-b425be2f7e36\",\"type\":\"Toolbar\"},{\"attributes\":{\"data_source\":{\"id\":\"59f39f55-b665-44fa-91e5-35eb93d3b2e9\",\"type\":\"ColumnDataSource\"},\"glyph\":{\"id\":\"d244b76f-5f3b-4ed0-80f5-9ca1da6b8489\",\"type\":\"VBar\"},\"hover_glyph\":null,\"muted_glyph\":null,\"nonselection_glyph\":{\"id\":\"5c70465c-5dfe-4c73-a587-ae8d942bc140\",\"type\":\"VBar\"},\"selection_glyph\":null},\"id\":\"906dd4aa-652b-4b5f-a5a5-e4c15e12ba6c\",\"type\":\"GlyphRenderer\"},{\"attributes\":{\"fill_color\":{\"value\":\"#44999E\"},\"line_color\":{\"value\":\"#44999E\"},\"top\":{\"field\":\"booking_id_both\"},\"width\":{\"value\":0.4},\"x\":{\"field\":\"date\"}},\"id\":\"534bd337-5463-42a5-b7f9-b894e43beddc\",\"type\":\"VBar\"},{\"attributes\":{\"bottom\":{\"field\":\"passenger_count_both\"},\"fill_alpha\":{\"value\":0.1},\"fill_color\":{\"value\":\"#1f77b4\"},\"line_alpha\":{\"value\":0.1},\"line_color\":{\"value\":\"#1f77b4\"},\"top\":{\"field\":\"total_passenger\"},\"width\":{\"value\":0.4},\"x\":{\"field\":\"date\"}},\"id\":\"1f838fc5-861f-4e72-bbe2-9ad7179a1a51\",\"type\":\"VBar\"},{\"attributes\":{},\"id\":\"e1de3431-209b-47e0-abb5-87907738b747\",\"type\":\"BasicTicker\"},{\"attributes\":{\"align\":\"center\",\"plot\":{\"id\":\"75546aac-beb5-4ca6-9620-dc1f9450ecdd\",\"subtype\":\"Figure\",\"type\":\"Plot\"},\"text\":\"Total passenger requests vs total transported\",\"text_font_size\":{\"value\":\"12pt\"}},\"id\":\"de66259a-11ba-4e4a-a55f-d0c644acea98\",\"type\":\"Title\"},{\"attributes\":{},\"id\":\"d7625dea-aaf9-43c4-ae3a-d8e164dfcb64\",\"type\":\"CategoricalScale\"},{\"attributes\":{\"callback\":null,\"column_names\":[\"booking_id_left_only\",\"passenger_count_left_only\",\"pct_pag_served\",\"pct_pass_served\",\"datetime_utc_berlin_req\",\"booking_id_both\",\"date\",\"passenger_count_both\",\"pct_serv_served\",\"total_booking\",\"total_passenger\"],\"data\":{\"booking_id_both\":{\"__ndarray__\":\"AAAAAADga0AAAAAAAFB+QAAAAAAAIHNA\",\"dtype\":\"float64\",\"shape\":[3]},\"booking_id_left_only\":{\"__ndarray__\":\"AAAAAACAXEAAAAAAAABqQAAAAAAAoGRA\",\"dtype\":\"float64\",\"shape\":[3]},\"date\":[\"Fri Jun 2017\",\"Sat Jun 2017\",\"Sun Jun 2017\"],\"datetime_utc_berlin_req\":{\"__ndarray__\":\"AACwipvIdUIAAHDw7ch1QgAAMFZAyXVC\",\"dtype\":\"float64\",\"shape\":[3]},\"passenger_count_both\":{\"__ndarray__\":\"AAAAAABQdkAAAAAAAACJQAAAAAAAQIBA\",\"dtype\":\"float64\",\"shape\":[3]},\"passenger_count_left_only\":{\"__ndarray__\":\"AAAAAACAZkAAAAAAACB1QAAAAAAAcHNA\",\"dtype\":\"float64\",\"shape\":[3]},\"pct_pag_served\":{\"__ndarray__\":\"2324BRRG5T8ermUO4H7mPwVRx0cpBuQ/\",\"dtype\":\"float64\",\"shape\":[3]},\"pct_pass_served\":{\"__ndarray__\":\"2324BRRG5T8ermUO4H7mPwVRx0cpBuQ/\",\"dtype\":\"float64\",\"shape\":[3]},\"pct_serv_served\":{\"__ndarray__\":\"S41mqdEs5T/flNnHN2XmP8VzzeowyuQ/\",\"dtype\":\"float64\",\"shape\":[3]},\"total_booking\":{\"__ndarray__\":\"AAAAAAAQdUAAAAAAAKiFQAAAAAAAcH1A\",\"dtype\":\"float64\",\"shape\":[3]},\"total_passenger\":{\"__ndarray__\":\"AAAAAADIgEAAAAAAAMiRQAAAAAAA+IlA\",\"dtype\":\"float64\",\"shape\":[3]}}},\"id\":\"59f39f55-b665-44fa-91e5-35eb93d3b2e9\",\"type\":\"ColumnDataSource\"},{\"attributes\":{},\"id\":\"ee187b83-deca-42f1-af25-02d8a883b48a\",\"type\":\"LinearScale\"},{\"attributes\":{\"callback\":null,\"factors\":[\"Fri Jun 2017\",\"Sat Jun 2017\",\"Sun Jun 2017\"]},\"id\":\"8affa938-e033-4b9f-a604-becbfcabac8e\",\"type\":\"FactorRange\"},{\"attributes\":{\"bottom\":{\"field\":\"booking_id_both\"},\"fill_alpha\":{\"value\":0.1},\"fill_color\":{\"value\":\"#1f77b4\"},\"line_alpha\":{\"value\":0.1},\"line_color\":{\"value\":\"#1f77b4\"},\"top\":{\"field\":\"total_booking\"},\"width\":{\"value\":0.4},\"x\":{\"field\":\"date\"}},\"id\":\"5c70465c-5dfe-4c73-a587-ae8d942bc140\",\"type\":\"VBar\"},{\"attributes\":{},\"id\":\"dc2ee788-dcf9-4f9b-a288-8f286d35bcaa\",\"type\":\"BasicTicker\"},{\"attributes\":{\"data_source\":{\"id\":\"59f39f55-b665-44fa-91e5-35eb93d3b2e9\",\"type\":\"ColumnDataSource\"},\"glyph\":{\"id\":\"fca86460-a82a-4a82-b108-2a18307c3d4b\",\"type\":\"VBar\"},\"hover_glyph\":null,\"muted_glyph\":null,\"nonselection_glyph\":{\"id\":\"1f838fc5-861f-4e72-bbe2-9ad7179a1a51\",\"type\":\"VBar\"},\"selection_glyph\":null},\"id\":\"74bba252-6bf2-41a6-a049-395a3d039001\",\"type\":\"GlyphRenderer\"},{\"attributes\":{\"data_source\":{\"id\":\"59f39f55-b665-44fa-91e5-35eb93d3b2e9\",\"type\":\"ColumnDataSource\"},\"glyph\":{\"id\":\"534bd337-5463-42a5-b7f9-b894e43beddc\",\"type\":\"VBar\"},\"hover_glyph\":null,\"muted_glyph\":null,\"nonselection_glyph\":{\"id\":\"28de5a23-d42d-41ce-a20a-f3ba05fef8b7\",\"type\":\"VBar\"},\"selection_glyph\":null},\"id\":\"ba592dd1-aa85-4614-93c2-f14db3db8eef\",\"type\":\"GlyphRenderer\"},{\"attributes\":{\"dimension\":1,\"plot\":{\"id\":\"6f85fc42-e3af-4e87-a479-a45e0f99bf03\",\"subtype\":\"Figure\",\"type\":\"Plot\"},\"ticker\":{\"id\":\"dc2ee788-dcf9-4f9b-a288-8f286d35bcaa\",\"type\":\"BasicTicker\"}},\"id\":\"3bb340bb-e968-4ba4-ba13-cfc2f44c7089\",\"type\":\"Grid\"},{\"attributes\":{\"axis_label\":\"Count\",\"formatter\":{\"id\":\"0bd6bbfd-cfbe-4f8b-900c-145c2497693d\",\"type\":\"BasicTickFormatter\"},\"plot\":{\"id\":\"6f85fc42-e3af-4e87-a479-a45e0f99bf03\",\"subtype\":\"Figure\",\"type\":\"Plot\"},\"ticker\":{\"id\":\"dc2ee788-dcf9-4f9b-a288-8f286d35bcaa\",\"type\":\"BasicTicker\"}},\"id\":\"99b5cd43-c0fd-4457-b5e6-4f26cbf23d3e\",\"type\":\"LinearAxis\"},{\"attributes\":{\"plot\":null,\"text\":\"\"},\"id\":\"f64f7822-0cba-4b42-b8b9-d45482e23d92\",\"type\":\"Title\"},{\"attributes\":{\"axis_label\":\"Date\",\"formatter\":{\"id\":\"e3bb0bfa-87b4-483c-be82-4352593057c7\",\"type\":\"CategoricalTickFormatter\"},\"plot\":{\"id\":\"6f85fc42-e3af-4e87-a479-a45e0f99bf03\",\"subtype\":\"Figure\",\"type\":\"Plot\"},\"ticker\":{\"id\":\"fd815ba7-e31e-4514-a654-69873c30114d\",\"type\":\"CategoricalTicker\"}},\"id\":\"671c0123-1062-493c-a59c-c95b472d614c\",\"type\":\"CategoricalAxis\"},{\"attributes\":{\"align\":\"center\",\"plot\":{\"id\":\"6f85fc42-e3af-4e87-a479-a45e0f99bf03\",\"subtype\":\"Figure\",\"type\":\"Plot\"},\"text\":\"Number of requests per day vs. completed\",\"text_font_size\":{\"value\":\"12pt\"}},\"id\":\"4d354098-76b4-48fd-9cc0-2424bb15bcf1\",\"type\":\"Title\"},{\"attributes\":{\"fill_color\":{\"value\":\"#44999E\"},\"line_color\":{\"value\":\"#44999E\"},\"top\":{\"field\":\"passenger_count_both\"},\"width\":{\"value\":0.4},\"x\":{\"field\":\"date\"}},\"id\":\"203c6a04-e4ba-48e2-a21b-46a1f04163cd\",\"type\":\"VBar\"},{\"attributes\":{},\"id\":\"7ead47d8-5fb8-4e89-8983-79987ae4e7a2\",\"type\":\"CategoricalTicker\"},{\"attributes\":{\"callback\":null,\"plot\":{\"id\":\"75546aac-beb5-4ca6-9620-dc1f9450ecdd\",\"subtype\":\"Figure\",\"type\":\"Plot\"},\"tooltips\":[[\"number of passenger requests\",\"@total_passenger\"],[\"number of passengers transported\",\"@passenger_count_both\"],[\"pct. completed\",\"@pct_pass_served{(0.00%)}\"]]},\"id\":\"6533914f-4250-493e-ad7e-e1ed9d0cc1f1\",\"type\":\"HoverTool\"},{\"attributes\":{\"above\":[{\"id\":\"4d354098-76b4-48fd-9cc0-2424bb15bcf1\",\"type\":\"Title\"}],\"below\":[{\"id\":\"671c0123-1062-493c-a59c-c95b472d614c\",\"type\":\"CategoricalAxis\"}],\"left\":[{\"id\":\"99b5cd43-c0fd-4457-b5e6-4f26cbf23d3e\",\"type\":\"LinearAxis\"}],\"plot_height\":400,\"plot_width\":400,\"renderers\":[{\"id\":\"671c0123-1062-493c-a59c-c95b472d614c\",\"type\":\"CategoricalAxis\"},{\"id\":\"912368eb-878c-48e3-9b7c-a9c52c046ec5\",\"type\":\"Grid\"},{\"id\":\"99b5cd43-c0fd-4457-b5e6-4f26cbf23d3e\",\"type\":\"LinearAxis\"},{\"id\":\"3bb340bb-e968-4ba4-ba13-cfc2f44c7089\",\"type\":\"Grid\"},{\"id\":\"906dd4aa-652b-4b5f-a5a5-e4c15e12ba6c\",\"type\":\"GlyphRenderer\"},{\"id\":\"ba592dd1-aa85-4614-93c2-f14db3db8eef\",\"type\":\"GlyphRenderer\"},{\"id\":\"4d354098-76b4-48fd-9cc0-2424bb15bcf1\",\"type\":\"Title\"}],\"title\":{\"id\":\"f64f7822-0cba-4b42-b8b9-d45482e23d92\",\"type\":\"Title\"},\"tool_events\":{\"id\":\"a0bf09f7-3f8a-4442-8476-de3c5f1d7654\",\"type\":\"ToolEvents\"},\"toolbar\":{\"id\":\"776350b8-7431-4a53-a739-d107303c835d\",\"type\":\"Toolbar\"},\"x_range\":{\"id\":\"5fdb4d80-e6ac-44f4-bdce-cf494cdb80c2\",\"type\":\"FactorRange\"},\"x_scale\":{\"id\":\"d7625dea-aaf9-43c4-ae3a-d8e164dfcb64\",\"type\":\"CategoricalScale\"},\"y_range\":{\"id\":\"0d982886-f079-45c9-a419-34534b7d8bc3\",\"type\":\"DataRange1d\"},\"y_scale\":{\"id\":\"ee187b83-deca-42f1-af25-02d8a883b48a\",\"type\":\"LinearScale\"}},\"id\":\"6f85fc42-e3af-4e87-a479-a45e0f99bf03\",\"subtype\":\"Figure\",\"type\":\"Plot\"},{\"attributes\":{\"above\":[{\"id\":\"de66259a-11ba-4e4a-a55f-d0c644acea98\",\"type\":\"Title\"}],\"below\":[{\"id\":\"81047ea8-73b9-403f-8edf-dbd0d6040d28\",\"type\":\"CategoricalAxis\"}],\"left\":[{\"id\":\"7890076e-d4a2-418f-89ef-64b6b4bf5a7b\",\"type\":\"LinearAxis\"}],\"plot_height\":400,\"plot_width\":400,\"renderers\":[{\"id\":\"81047ea8-73b9-403f-8edf-dbd0d6040d28\",\"type\":\"CategoricalAxis\"},{\"id\":\"be5e65e8-237e-462a-bb02-bd120c57ce36\",\"type\":\"Grid\"},{\"id\":\"7890076e-d4a2-418f-89ef-64b6b4bf5a7b\",\"type\":\"LinearAxis\"},{\"id\":\"f35cf7e3-306e-449d-875e-f204e4515648\",\"type\":\"Grid\"},{\"id\":\"808dc8fe-7d08-4be0-899c-2c7673e8a5bb\",\"type\":\"Legend\"},{\"id\":\"74bba252-6bf2-41a6-a049-395a3d039001\",\"type\":\"GlyphRenderer\"},{\"id\":\"44784c05-71bb-409b-bccd-92778aa2d4da\",\"type\":\"GlyphRenderer\"},{\"id\":\"de66259a-11ba-4e4a-a55f-d0c644acea98\",\"type\":\"Title\"}],\"title\":{\"id\":\"4d56ba45-e6e3-43dc-a6d2-83f324f5e739\",\"type\":\"Title\"},\"tool_events\":{\"id\":\"28e4c059-4651-4887-ae54-31b7e0daf63f\",\"type\":\"ToolEvents\"},\"toolbar\":{\"id\":\"1435e1bb-ddaf-43f7-9ccd-b425be2f7e36\",\"type\":\"Toolbar\"},\"x_range\":{\"id\":\"8affa938-e033-4b9f-a604-becbfcabac8e\",\"type\":\"FactorRange\"},\"x_scale\":{\"id\":\"f6033807-0f91-496f-9199-f3eeca7c1ce2\",\"type\":\"CategoricalScale\"},\"y_range\":{\"id\":\"c2dbb542-063d-4a7a-b5e0-6193ed67dde4\",\"type\":\"DataRange1d\"},\"y_scale\":{\"id\":\"03eb1414-58dd-46be-95c6-b57e80e5988a\",\"type\":\"LinearScale\"}},\"id\":\"75546aac-beb5-4ca6-9620-dc1f9450ecdd\",\"subtype\":\"Figure\",\"type\":\"Plot\"},{\"attributes\":{\"items\":[{\"id\":\"ffe49ae6-3bcd-45a0-b152-4742ba55df00\",\"type\":\"LegendItem\"},{\"id\":\"ee423a43-da8c-4316-ab30-6bd46f9efacc\",\"type\":\"LegendItem\"}],\"plot\":{\"id\":\"75546aac-beb5-4ca6-9620-dc1f9450ecdd\",\"subtype\":\"Figure\",\"type\":\"Plot\"}},\"id\":\"808dc8fe-7d08-4be0-899c-2c7673e8a5bb\",\"type\":\"Legend\"},{\"attributes\":{\"axis_label\":\"Count\",\"formatter\":{\"id\":\"d2948495-a809-450a-9470-205fba87302e\",\"type\":\"BasicTickFormatter\"},\"plot\":{\"id\":\"75546aac-beb5-4ca6-9620-dc1f9450ecdd\",\"subtype\":\"Figure\",\"type\":\"Plot\"},\"ticker\":{\"id\":\"e1de3431-209b-47e0-abb5-87907738b747\",\"type\":\"BasicTicker\"}},\"id\":\"7890076e-d4a2-418f-89ef-64b6b4bf5a7b\",\"type\":\"LinearAxis\"}],\"root_ids\":[\"ed218895-27f0-4878-8eb1-33ddc464fd19\"]},\"title\":\"Bokeh Application\",\"version\":\"0.12.6\"}};\n",
       "            var render_items = [{\"docid\":\"776fa840-8f2e-4282-9ae0-71d1c524ade3\",\"elementid\":\"b9b47bcd-756c-4d22-a0d0-8a9a20434c77\",\"modelid\":\"ed218895-27f0-4878-8eb1-33ddc464fd19\"}];\n",
       "            \n",
       "            Bokeh.embed.embed_items(docs_json, render_items);\n",
       "          };\n",
       "          if (document.readyState != \"loading\") fn();\n",
       "          else document.addEventListener(\"DOMContentLoaded\", fn);\n",
       "        })();\n",
       "      },\n",
       "      function(Bokeh) {\n",
       "      }\n",
       "    ];\n",
       "  \n",
       "    function run_inline_js() {\n",
       "      \n",
       "      if ((window.Bokeh !== undefined) || (force === true)) {\n",
       "        for (var i = 0; i < inline_js.length; i++) {\n",
       "          inline_js[i](window.Bokeh);\n",
       "        }if (force === true) {\n",
       "          display_loaded();\n",
       "        }} else if (Date.now() < window._bokeh_timeout) {\n",
       "        setTimeout(run_inline_js, 100);\n",
       "      } else if (!window._bokeh_failed_load) {\n",
       "        console.log(\"Bokeh: BokehJS failed to load within specified timeout.\");\n",
       "        window._bokeh_failed_load = true;\n",
       "      } else if (force !== true) {\n",
       "        var cell = $(document.getElementById(\"b9b47bcd-756c-4d22-a0d0-8a9a20434c77\")).parents('.cell').data().cell;\n",
       "        cell.output_area.append_execute_result(NB_LOAD_WARNING)\n",
       "      }\n",
       "  \n",
       "    }\n",
       "  \n",
       "    if (window._bokeh_is_loading === 0) {\n",
       "      console.log(\"Bokeh: BokehJS loaded, going straight to plotting\");\n",
       "      run_inline_js();\n",
       "    } else {\n",
       "      load_libs(js_urls, function() {\n",
       "        console.log(\"Bokeh: BokehJS plotting callback run at\", now());\n",
       "        run_inline_js();\n",
       "      });\n",
       "    }\n",
       "  }(this));\n",
       "</script>"
      ]
     },
     "metadata": {},
     "output_type": "display_data"
    }
   ],
   "source": [
    "#Plotting daily demand vs satisfied demand\n",
    "source = ColumnDataSource(pivoted_per_day)\n",
    "hover_1 = HoverTool(tooltips=[\n",
    "    (\"number of requests\", \"@total_booking\"),\n",
    "    (\"number of completed\", \"@booking_id_both\"),\n",
    "    (\"pct. completed\", \"@pct_serv_served{(0.00%)}\")\n",
    "])\n",
    "plot_day_services = figure(plot_width=400, plot_height=400, x_range=list(pivoted_per_day[\"date\"]),\n",
    "          x_axis_label=\"Date\", y_axis_label=\"Count\", tools=[hover_1])\n",
    "plot_day_services.vbar(x=\"date\", width=0.4, bottom='booking_id_both', top='total_booking',\n",
    "                  color=\"#7CDFD1\", source=source)\n",
    "plot_day_services.vbar(x=\"date\", width=0.4, top='booking_id_both', \n",
    "       color=\"#44999E\", source=source)\n",
    "plot_day_services.add_layout(Title(text=\"Number of requests per day vs. completed\", align=\"center\", text_font_size=\"12pt\"), \n",
    "             \"above\")\n",
    "plot_day_services.xgrid.visible = False\n",
    "\n",
    "#Plotting number of passengers\n",
    "\n",
    "hover_2 = HoverTool(tooltips=[\n",
    "    (\"number of passenger requests\", \"@total_passenger\"),\n",
    "    (\"number of passengers transported\", \"@passenger_count_both\"),\n",
    "    (\"pct. completed\", \"@pct_pass_served{(0.00%)}\")\n",
    "])\n",
    "plot_day_num_passengers = figure(plot_width=400, plot_height=400, x_range=list(pivoted_per_day[\"date\"]),\n",
    "          x_axis_label=\"Date\", y_axis_label=\"Count\", tools=[hover_2])\n",
    "plot_day_num_passengers.vbar(x=\"date\", width=0.4, bottom='passenger_count_both', top='total_passenger',\n",
    "                  color=\"#7CDFD1\", legend=\"non served\", source=source)\n",
    "plot_day_num_passengers.vbar(x=\"date\", width=0.4, top='passenger_count_both', \n",
    "       color=\"#44999E\", legend=\"served\", source=source)\n",
    "plot_day_num_passengers.add_layout(Title(text=\"Total passenger requests vs total transported\", \n",
    "                                         align=\"center\", text_font_size=\"12pt\"), \"above\")\n",
    "plot_day_num_passengers.xgrid.visible = False\n",
    "show(row(plot_day_services, plot_day_num_passengers))\n",
    "\n",
    "\n"
   ]
  },
  {
   "cell_type": "markdown",
   "metadata": {},
   "source": [
    "#### Comment on the graph above!!!"
   ]
  },
  {
   "cell_type": "markdown",
   "metadata": {},
   "source": [
    "### Number of requests vs requests fulfilled per hour and day"
   ]
  },
  {
   "cell_type": "code",
   "execution_count": 72,
   "metadata": {},
   "outputs": [],
   "source": [
    "data_per_hour =  group_per_date(pass_count_pick_closed, \"1h\", \"datetime_utc_berlin_req\", \"first_merge\",{\"booking_id\":\"count\", \"passenger_count\": np.sum})\n",
    "data_per_hour = data_per_hour[~(data_per_hour['booking_id'] == 0)]\n",
    "pivoted_per_hour = data_per_hour.pivot(index='datetime_utc_berlin_req', columns='first_merge')\n",
    "## Getting rid off multilevel column\n",
    "pivoted_per_hour.columns = ['_'.join(col) for col in pivoted_per_hour.columns]\n",
    "## Creating extra calculation columns\n",
    "get_total_pct(pivoted_per_hour)"
   ]
  },
  {
   "cell_type": "code",
   "execution_count": 80,
   "metadata": {},
   "outputs": [],
   "source": [
    "pivoted_per_hour[\"date_hour\"] = pivoted_per_hour.index.map(lambda x: x.strftime('%H H %a'))"
   ]
  },
  {
   "cell_type": "code",
   "execution_count": 390,
   "metadata": {},
   "outputs": [
    {
     "data": {
      "text/html": [
       "\n",
       "\n",
       "    <div class=\"bk-root\">\n",
       "        <div class=\"bk-plotdiv\" id=\"a2928f92-64ad-4fba-8788-3f81e2ee7890\"></div>\n",
       "    </div>\n",
       "<script type=\"text/javascript\">\n",
       "  \n",
       "  (function(global) {\n",
       "    function now() {\n",
       "      return new Date();\n",
       "    }\n",
       "  \n",
       "    var force = false;\n",
       "  \n",
       "    if (typeof (window._bokeh_onload_callbacks) === \"undefined\" || force === true) {\n",
       "      window._bokeh_onload_callbacks = [];\n",
       "      window._bokeh_is_loading = undefined;\n",
       "    }\n",
       "  \n",
       "  \n",
       "    \n",
       "    if (typeof (window._bokeh_timeout) === \"undefined\" || force === true) {\n",
       "      window._bokeh_timeout = Date.now() + 0;\n",
       "      window._bokeh_failed_load = false;\n",
       "    }\n",
       "  \n",
       "    var NB_LOAD_WARNING = {'data': {'text/html':\n",
       "       \"<div style='background-color: #fdd'>\\n\"+\n",
       "       \"<p>\\n\"+\n",
       "       \"BokehJS does not appear to have successfully loaded. If loading BokehJS from CDN, this \\n\"+\n",
       "       \"may be due to a slow or bad network connection. Possible fixes:\\n\"+\n",
       "       \"</p>\\n\"+\n",
       "       \"<ul>\\n\"+\n",
       "       \"<li>re-rerun `output_notebook()` to attempt to load from CDN again, or</li>\\n\"+\n",
       "       \"<li>use INLINE resources instead, as so:</li>\\n\"+\n",
       "       \"</ul>\\n\"+\n",
       "       \"<code>\\n\"+\n",
       "       \"from bokeh.resources import INLINE\\n\"+\n",
       "       \"output_notebook(resources=INLINE)\\n\"+\n",
       "       \"</code>\\n\"+\n",
       "       \"</div>\"}};\n",
       "  \n",
       "    function display_loaded() {\n",
       "      if (window.Bokeh !== undefined) {\n",
       "        var el = document.getElementById(\"a2928f92-64ad-4fba-8788-3f81e2ee7890\");\n",
       "        el.textContent = \"BokehJS \" + Bokeh.version + \" successfully loaded.\";\n",
       "      } else if (Date.now() < window._bokeh_timeout) {\n",
       "        setTimeout(display_loaded, 100)\n",
       "      }\n",
       "    }\n",
       "  \n",
       "    function run_callbacks() {\n",
       "      try {\n",
       "        window._bokeh_onload_callbacks.forEach(function(callback) { callback() });\n",
       "      }\n",
       "      finally {\n",
       "        delete window._bokeh_onload_callbacks\n",
       "      }\n",
       "      console.info(\"Bokeh: all callbacks have finished\");\n",
       "    }\n",
       "  \n",
       "    function load_libs(js_urls, callback) {\n",
       "      window._bokeh_onload_callbacks.push(callback);\n",
       "      if (window._bokeh_is_loading > 0) {\n",
       "        console.log(\"Bokeh: BokehJS is being loaded, scheduling callback at\", now());\n",
       "        return null;\n",
       "      }\n",
       "      if (js_urls == null || js_urls.length === 0) {\n",
       "        run_callbacks();\n",
       "        return null;\n",
       "      }\n",
       "      console.log(\"Bokeh: BokehJS not loaded, scheduling load and callback at\", now());\n",
       "      window._bokeh_is_loading = js_urls.length;\n",
       "      for (var i = 0; i < js_urls.length; i++) {\n",
       "        var url = js_urls[i];\n",
       "        var s = document.createElement('script');\n",
       "        s.src = url;\n",
       "        s.async = false;\n",
       "        s.onreadystatechange = s.onload = function() {\n",
       "          window._bokeh_is_loading--;\n",
       "          if (window._bokeh_is_loading === 0) {\n",
       "            console.log(\"Bokeh: all BokehJS libraries loaded\");\n",
       "            run_callbacks()\n",
       "          }\n",
       "        };\n",
       "        s.onerror = function() {\n",
       "          console.warn(\"failed to load library \" + url);\n",
       "        };\n",
       "        console.log(\"Bokeh: injecting script tag for BokehJS library: \", url);\n",
       "        document.getElementsByTagName(\"head\")[0].appendChild(s);\n",
       "      }\n",
       "    };var element = document.getElementById(\"a2928f92-64ad-4fba-8788-3f81e2ee7890\");\n",
       "    if (element == null) {\n",
       "      console.log(\"Bokeh: ERROR: autoload.js configured with elementid 'a2928f92-64ad-4fba-8788-3f81e2ee7890' but no matching script tag was found. \")\n",
       "      return false;\n",
       "    }\n",
       "  \n",
       "    var js_urls = [];\n",
       "  \n",
       "    var inline_js = [\n",
       "      function(Bokeh) {\n",
       "        (function() {\n",
       "          var fn = function() {\n",
       "            var docs_json = {\"88d45bd3-e3af-4ba0-bdb3-6248b8f9cbe1\":{\"roots\":{\"references\":[{\"attributes\":{\"callback\":null,\"column_names\":[\"date_hour_req\",\"booking_id_req\",\"booking_id_pick\",\"pct_completed\",\"datetime_utc_berlin\",\"datetime_utc_berlin_req\",\"date_hour_pick\",\"index\"],\"data\":{\"booking_id_pick\":[43,42,28,43,32,35,44,39,21,19,22,23,29,26,27,17,39,42,32,37,34,34,33,36,34,30,24,30,24,26,34,35],\"booking_id_req\":[72,66,46,53,51,49,60,70,35,34,38,40,38,38,37,23,47,53,51,46,40,43,50,56,49,37,42,43,52,35,58,49],\"date_hour_pick\":[\"18 H Fri\",\"19 H Fri\",\"20 H Fri\",\"21 H Fri\",\"22 H Fri\",\"23 H Fri\",\"00 H Sat\",\"01 H Sat\",\"10 H Sat\",\"11 H Sat\",\"12 H Sat\",\"13 H Sat\",\"14 H Sat\",\"15 H Sat\",\"16 H Sat\",\"17 H Sat\",\"18 H Sat\",\"19 H Sat\",\"20 H Sat\",\"21 H Sat\",\"22 H Sat\",\"23 H Sat\",\"00 H Sun\",\"01 H Sun\",\"10 H Sun\",\"11 H Sun\",\"12 H Sun\",\"13 H Sun\",\"14 H Sun\",\"15 H Sun\",\"16 H Sun\",\"17 H Sun\"],\"date_hour_req\":[\"18 H Fri\",\"19 H Fri\",\"20 H Fri\",\"21 H Fri\",\"22 H Fri\",\"23 H Fri\",\"00 H Sat\",\"01 H Sat\",\"10 H Sat\",\"11 H Sat\",\"12 H Sat\",\"13 H Sat\",\"14 H Sat\",\"15 H Sat\",\"16 H Sat\",\"17 H Sat\",\"18 H Sat\",\"19 H Sat\",\"20 H Sat\",\"21 H Sat\",\"22 H Sat\",\"23 H Sat\",\"00 H Sun\",\"01 H Sun\",\"10 H Sun\",\"11 H Sun\",\"12 H Sun\",\"13 H Sun\",\"14 H Sun\",\"15 H Sun\",\"16 H Sun\",\"17 H Sun\"],\"datetime_utc_berlin\":{\"__ndarray__\":\"AAAAV9nIdUIAAOjF3Mh1QgAA0DTgyHVCAAC4o+PIdUIAAKAS58h1QgAAiIHqyHVCAABw8O3IdUIAAFhf8ch1QgAAgEUQyXVCAABotBPJdUIAAFAjF8l1QgAAOJIayXVCAAAgAR7JdUIAAAhwIcl1QgAA8N4kyXVCAADYTSjJdUIAAMC8K8l1QgAAqCsvyXVCAACQmjLJdUIAAHgJNsl1QgAAYHg5yXVCAABI5zzJdUIAADBWQMl1QgAAGMVDyXVCAABAq2LJdUIAACgaZsl1QgAAEIlpyXVCAAD492zJdUIAAOBmcMl1QgAAyNVzyXVCAACwRHfJdUIAAJizesl1Qg==\",\"dtype\":\"float64\",\"shape\":[32]},\"datetime_utc_berlin_req\":{\"__ndarray__\":\"AAAAV9nIdUIAAOjF3Mh1QgAA0DTgyHVCAAC4o+PIdUIAAKAS58h1QgAAiIHqyHVCAABw8O3IdUIAAFhf8ch1QgAAgEUQyXVCAABotBPJdUIAAFAjF8l1QgAAOJIayXVCAAAgAR7JdUIAAAhwIcl1QgAA8N4kyXVCAADYTSjJdUIAAMC8K8l1QgAAqCsvyXVCAACQmjLJdUIAAHgJNsl1QgAAYHg5yXVCAABI5zzJdUIAADBWQMl1QgAAGMVDyXVCAABAq2LJdUIAACgaZsl1QgAAEIlpyXVCAAD492zJdUIAAOBmcMl1QgAAyNVzyXVCAACwRHfJdUIAAJizesl1Qg==\",\"dtype\":\"float64\",\"shape\":[32]},\"index\":[0,1,2,3,4,5,6,7,8,9,10,11,12,13,14,15,16,17,18,19,20,21,22,23,24,25,26,27,28,29,30,31],\"pct_completed\":{\"__ndarray__\":\"x3Ecx3Ec4z9ddNFFF13kPzi96U1veuM/RGqC8Vb26T8UFBQUFBTkP7dt27Zt2+Y/d3d3d3d35z9CHdRBHdThPzMzMzMzM+M/4uHh4eHh4T9sKK+hvIbiP2ZmZmZmZuI/vYbyGspr6D9RXkN5DeXlP591gynyWec/etOb3vSm5z/qOxv1nY3qP34OqQnGW+k/FBQUFBQU5D+c3vSmN73pPzMzMzMzM+s/U9aUNWVN6T8fhetRuB7lPyVJkiRJkuQ/jfWhsT405j8jn3WDKfLpP5IkSZIkSeI/lTVlTVlT5j+e2Imd2IndP1h8xVd8xec/TyMs9zTC4j+3bdu2bdvmPw==\",\"dtype\":\"float64\",\"shape\":[32]}}},\"id\":\"e47bfae0-84bd-4ffc-8c34-23a5717bfaa4\",\"type\":\"ColumnDataSource\"},{\"attributes\":{\"align\":\"center\",\"plot\":{\"id\":\"c5e2a609-c406-44d6-860e-148e91b21259\",\"subtype\":\"Figure\",\"type\":\"Plot\"},\"text\":\"Number of requests within hour day\",\"text_font_size\":{\"value\":\"12pt\"}},\"id\":\"8cf241bb-973f-47de-b189-029c30defe0e\",\"type\":\"Title\"},{\"attributes\":{},\"id\":\"c7d7ed08-28da-4e22-b12f-78843fa67576\",\"type\":\"BasicTickFormatter\"},{\"attributes\":{\"data_source\":{\"id\":\"e47bfae0-84bd-4ffc-8c34-23a5717bfaa4\",\"type\":\"ColumnDataSource\"},\"glyph\":{\"id\":\"e65f68a1-c620-45c9-949f-2839c29a666d\",\"type\":\"VBar\"},\"hover_glyph\":null,\"muted_glyph\":null,\"nonselection_glyph\":{\"id\":\"30500720-cfa4-401f-b1f3-0d4c52be9b77\",\"type\":\"VBar\"},\"selection_glyph\":null},\"id\":\"a9bdd6a5-4e76-4fca-a645-d8c60a72b4c8\",\"type\":\"GlyphRenderer\"},{\"attributes\":{},\"id\":\"a3fae71e-06ae-4b82-b5df-723a575e64d4\",\"type\":\"CategoricalTicker\"},{\"attributes\":{\"above\":[{\"id\":\"8cf241bb-973f-47de-b189-029c30defe0e\",\"type\":\"Title\"}],\"below\":[{\"id\":\"0b6c96e6-f0db-4590-b28a-2c1eb95699b8\",\"type\":\"CategoricalAxis\"}],\"left\":[{\"id\":\"3293670f-460f-4da9-8ba3-4e5f0fbb40ec\",\"type\":\"LinearAxis\"}],\"plot_height\":400,\"plot_width\":800,\"renderers\":[{\"id\":\"0b6c96e6-f0db-4590-b28a-2c1eb95699b8\",\"type\":\"CategoricalAxis\"},{\"id\":\"9ba21a2a-7051-430f-95cd-6f2e7ffad41a\",\"type\":\"Grid\"},{\"id\":\"3293670f-460f-4da9-8ba3-4e5f0fbb40ec\",\"type\":\"LinearAxis\"},{\"id\":\"4ad18f0d-c90b-4ed3-baa6-ba78b42608c9\",\"type\":\"Grid\"},{\"id\":\"50d2d290-4fa9-441b-968e-e25f88b3d889\",\"type\":\"Legend\"},{\"id\":\"a9bdd6a5-4e76-4fca-a645-d8c60a72b4c8\",\"type\":\"GlyphRenderer\"},{\"id\":\"65fce5e1-b296-4d55-8b62-e4a329cbc8cb\",\"type\":\"GlyphRenderer\"},{\"id\":\"8cf241bb-973f-47de-b189-029c30defe0e\",\"type\":\"Title\"}],\"title\":{\"id\":\"5b2fc92d-ff7f-410c-a333-c7c98276cd6e\",\"type\":\"Title\"},\"tool_events\":{\"id\":\"3848e84c-03b3-4bb0-a3dc-7b24625c8d12\",\"type\":\"ToolEvents\"},\"toolbar\":{\"id\":\"572c4d9e-ffd7-40de-895f-b530b137b5f5\",\"type\":\"Toolbar\"},\"x_range\":{\"id\":\"793a88aa-2e93-4285-9d5d-db6f9871330e\",\"type\":\"FactorRange\"},\"x_scale\":{\"id\":\"55246a1b-3794-4ea1-8c9f-6e42a679b9f4\",\"type\":\"CategoricalScale\"},\"y_range\":{\"id\":\"240ec247-951f-46fd-aaaf-1695016b0471\",\"type\":\"DataRange1d\"},\"y_scale\":{\"id\":\"7521a871-01e8-4b8e-88e8-ca543967d098\",\"type\":\"LinearScale\"}},\"id\":\"c5e2a609-c406-44d6-860e-148e91b21259\",\"subtype\":\"Figure\",\"type\":\"Plot\"},{\"attributes\":{\"callback\":null,\"plot\":{\"id\":\"c5e2a609-c406-44d6-860e-148e91b21259\",\"subtype\":\"Figure\",\"type\":\"Plot\"},\"tooltips\":[[\"number of requests\",\"@booking_id_req\"],[\"number of completed\",\"@booking_id_pick\"],[\"pct. completed\",\"@pct_completed{(0.00%)}\"]]},\"id\":\"653de8a1-94c8-47d4-932b-a3755e3e6f52\",\"type\":\"HoverTool\"},{\"attributes\":{},\"id\":\"55246a1b-3794-4ea1-8c9f-6e42a679b9f4\",\"type\":\"CategoricalScale\"},{\"attributes\":{\"label\":{\"value\":\"unserved requests\"},\"renderers\":[{\"id\":\"a9bdd6a5-4e76-4fca-a645-d8c60a72b4c8\",\"type\":\"GlyphRenderer\"}]},\"id\":\"44fa575c-4c27-407c-b270-723518fcb68e\",\"type\":\"LegendItem\"},{\"attributes\":{\"plot\":{\"id\":\"c5e2a609-c406-44d6-860e-148e91b21259\",\"subtype\":\"Figure\",\"type\":\"Plot\"},\"ticker\":{\"id\":\"a3fae71e-06ae-4b82-b5df-723a575e64d4\",\"type\":\"CategoricalTicker\"},\"visible\":false},\"id\":\"9ba21a2a-7051-430f-95cd-6f2e7ffad41a\",\"type\":\"Grid\"},{\"attributes\":{\"axis_label\":\"Date\",\"formatter\":{\"id\":\"fa4fe7f9-0bab-407d-a421-6383aeaf3989\",\"type\":\"CategoricalTickFormatter\"},\"major_label_orientation\":0.7853981633974483,\"plot\":{\"id\":\"c5e2a609-c406-44d6-860e-148e91b21259\",\"subtype\":\"Figure\",\"type\":\"Plot\"},\"ticker\":{\"id\":\"a3fae71e-06ae-4b82-b5df-723a575e64d4\",\"type\":\"CategoricalTicker\"}},\"id\":\"0b6c96e6-f0db-4590-b28a-2c1eb95699b8\",\"type\":\"CategoricalAxis\"},{\"attributes\":{\"plot\":null,\"text\":\"\"},\"id\":\"5b2fc92d-ff7f-410c-a333-c7c98276cd6e\",\"type\":\"Title\"},{\"attributes\":{},\"id\":\"3848e84c-03b3-4bb0-a3dc-7b24625c8d12\",\"type\":\"ToolEvents\"},{\"attributes\":{\"label\":{\"value\":\"served requests\"},\"renderers\":[{\"id\":\"65fce5e1-b296-4d55-8b62-e4a329cbc8cb\",\"type\":\"GlyphRenderer\"}]},\"id\":\"11f7eeb5-707b-469a-8749-d30d8b2faf6b\",\"type\":\"LegendItem\"},{\"attributes\":{},\"id\":\"7521a871-01e8-4b8e-88e8-ca543967d098\",\"type\":\"LinearScale\"},{\"attributes\":{},\"id\":\"0412a7ab-e908-46e2-b1ab-4f985a1df7fa\",\"type\":\"BasicTicker\"},{\"attributes\":{\"items\":[{\"id\":\"44fa575c-4c27-407c-b270-723518fcb68e\",\"type\":\"LegendItem\"},{\"id\":\"11f7eeb5-707b-469a-8749-d30d8b2faf6b\",\"type\":\"LegendItem\"}],\"plot\":{\"id\":\"c5e2a609-c406-44d6-860e-148e91b21259\",\"subtype\":\"Figure\",\"type\":\"Plot\"}},\"id\":\"50d2d290-4fa9-441b-968e-e25f88b3d889\",\"type\":\"Legend\"},{\"attributes\":{\"bottom\":{\"field\":\"booking_id_pick\"},\"fill_color\":{\"value\":\"#31D5BF\"},\"line_color\":{\"value\":\"#31D5BF\"},\"top\":{\"field\":\"booking_id_req\"},\"width\":{\"value\":0.7},\"x\":{\"field\":\"date_hour_req\"}},\"id\":\"e65f68a1-c620-45c9-949f-2839c29a666d\",\"type\":\"VBar\"},{\"attributes\":{\"callback\":null,\"factors\":[\"18 H Fri\",\"19 H Fri\",\"20 H Fri\",\"21 H Fri\",\"22 H Fri\",\"23 H Fri\",\"00 H Sat\",\"01 H Sat\",\"10 H Sat\",\"11 H Sat\",\"12 H Sat\",\"13 H Sat\",\"14 H Sat\",\"15 H Sat\",\"16 H Sat\",\"17 H Sat\",\"18 H Sat\",\"19 H Sat\",\"20 H Sat\",\"21 H Sat\",\"22 H Sat\",\"23 H Sat\",\"00 H Sun\",\"01 H Sun\",\"10 H Sun\",\"11 H Sun\",\"12 H Sun\",\"13 H Sun\",\"14 H Sun\",\"15 H Sun\",\"16 H Sun\",\"17 H Sun\"]},\"id\":\"793a88aa-2e93-4285-9d5d-db6f9871330e\",\"type\":\"FactorRange\"},{\"attributes\":{\"data_source\":{\"id\":\"e47bfae0-84bd-4ffc-8c34-23a5717bfaa4\",\"type\":\"ColumnDataSource\"},\"glyph\":{\"id\":\"d3434c5b-8dcf-4eea-94f4-7fb422519be4\",\"type\":\"VBar\"},\"hover_glyph\":null,\"muted_glyph\":null,\"nonselection_glyph\":{\"id\":\"b6cd33b2-c8c8-4c41-a23e-8fd0a3a5b810\",\"type\":\"VBar\"},\"selection_glyph\":null},\"id\":\"65fce5e1-b296-4d55-8b62-e4a329cbc8cb\",\"type\":\"GlyphRenderer\"},{\"attributes\":{\"dimension\":1,\"plot\":{\"id\":\"c5e2a609-c406-44d6-860e-148e91b21259\",\"subtype\":\"Figure\",\"type\":\"Plot\"},\"ticker\":{\"id\":\"0412a7ab-e908-46e2-b1ab-4f985a1df7fa\",\"type\":\"BasicTicker\"}},\"id\":\"4ad18f0d-c90b-4ed3-baa6-ba78b42608c9\",\"type\":\"Grid\"},{\"attributes\":{\"bottom\":{\"field\":\"booking_id_pick\"},\"fill_alpha\":{\"value\":0.1},\"fill_color\":{\"value\":\"#1f77b4\"},\"line_alpha\":{\"value\":0.1},\"line_color\":{\"value\":\"#1f77b4\"},\"top\":{\"field\":\"booking_id_req\"},\"width\":{\"value\":0.7},\"x\":{\"field\":\"date_hour_req\"}},\"id\":\"30500720-cfa4-401f-b1f3-0d4c52be9b77\",\"type\":\"VBar\"},{\"attributes\":{\"callback\":null},\"id\":\"240ec247-951f-46fd-aaaf-1695016b0471\",\"type\":\"DataRange1d\"},{\"attributes\":{\"axis_label\":\"Count\",\"formatter\":{\"id\":\"c7d7ed08-28da-4e22-b12f-78843fa67576\",\"type\":\"BasicTickFormatter\"},\"plot\":{\"id\":\"c5e2a609-c406-44d6-860e-148e91b21259\",\"subtype\":\"Figure\",\"type\":\"Plot\"},\"ticker\":{\"id\":\"0412a7ab-e908-46e2-b1ab-4f985a1df7fa\",\"type\":\"BasicTicker\"}},\"id\":\"3293670f-460f-4da9-8ba3-4e5f0fbb40ec\",\"type\":\"LinearAxis\"},{\"attributes\":{\"fill_alpha\":{\"value\":0.1},\"fill_color\":{\"value\":\"#1f77b4\"},\"line_alpha\":{\"value\":0.1},\"line_color\":{\"value\":\"#1f77b4\"},\"top\":{\"field\":\"booking_id_pick\"},\"width\":{\"value\":0.7},\"x\":{\"field\":\"date_hour_pick\"}},\"id\":\"b6cd33b2-c8c8-4c41-a23e-8fd0a3a5b810\",\"type\":\"VBar\"},{\"attributes\":{\"fill_color\":{\"value\":\"#44999E\"},\"line_color\":{\"value\":\"#44999E\"},\"top\":{\"field\":\"booking_id_pick\"},\"width\":{\"value\":0.7},\"x\":{\"field\":\"date_hour_pick\"}},\"id\":\"d3434c5b-8dcf-4eea-94f4-7fb422519be4\",\"type\":\"VBar\"},{\"attributes\":{},\"id\":\"fa4fe7f9-0bab-407d-a421-6383aeaf3989\",\"type\":\"CategoricalTickFormatter\"},{\"attributes\":{\"active_drag\":\"auto\",\"active_inspect\":\"auto\",\"active_scroll\":\"auto\",\"active_tap\":\"auto\",\"tools\":[{\"id\":\"653de8a1-94c8-47d4-932b-a3755e3e6f52\",\"type\":\"HoverTool\"}]},\"id\":\"572c4d9e-ffd7-40de-895f-b530b137b5f5\",\"type\":\"Toolbar\"}],\"root_ids\":[\"c5e2a609-c406-44d6-860e-148e91b21259\"]},\"title\":\"Bokeh Application\",\"version\":\"0.12.6\"}};\n",
       "            var render_items = [{\"docid\":\"88d45bd3-e3af-4ba0-bdb3-6248b8f9cbe1\",\"elementid\":\"a2928f92-64ad-4fba-8788-3f81e2ee7890\",\"modelid\":\"c5e2a609-c406-44d6-860e-148e91b21259\"}];\n",
       "            \n",
       "            Bokeh.embed.embed_items(docs_json, render_items);\n",
       "          };\n",
       "          if (document.readyState != \"loading\") fn();\n",
       "          else document.addEventListener(\"DOMContentLoaded\", fn);\n",
       "        })();\n",
       "      },\n",
       "      function(Bokeh) {\n",
       "      }\n",
       "    ];\n",
       "  \n",
       "    function run_inline_js() {\n",
       "      \n",
       "      if ((window.Bokeh !== undefined) || (force === true)) {\n",
       "        for (var i = 0; i < inline_js.length; i++) {\n",
       "          inline_js[i](window.Bokeh);\n",
       "        }if (force === true) {\n",
       "          display_loaded();\n",
       "        }} else if (Date.now() < window._bokeh_timeout) {\n",
       "        setTimeout(run_inline_js, 100);\n",
       "      } else if (!window._bokeh_failed_load) {\n",
       "        console.log(\"Bokeh: BokehJS failed to load within specified timeout.\");\n",
       "        window._bokeh_failed_load = true;\n",
       "      } else if (force !== true) {\n",
       "        var cell = $(document.getElementById(\"a2928f92-64ad-4fba-8788-3f81e2ee7890\")).parents('.cell').data().cell;\n",
       "        cell.output_area.append_execute_result(NB_LOAD_WARNING)\n",
       "      }\n",
       "  \n",
       "    }\n",
       "  \n",
       "    if (window._bokeh_is_loading === 0) {\n",
       "      console.log(\"Bokeh: BokehJS loaded, going straight to plotting\");\n",
       "      run_inline_js();\n",
       "    } else {\n",
       "      load_libs(js_urls, function() {\n",
       "        console.log(\"Bokeh: BokehJS plotting callback run at\", now());\n",
       "        run_inline_js();\n",
       "      });\n",
       "    }\n",
       "  }(this));\n",
       "</script>"
      ]
     },
     "metadata": {},
     "output_type": "display_data"
    }
   ],
   "source": [
    "#Plotting the number of requests within an hour / day\n",
    "source = ColumnDataSource(pivoted_per_hour)\n",
    "hover = HoverTool(tooltips=[\n",
    "    (\"number of requests\", \"@booking_id_req\"),\n",
    "    (\"number of completed\", \"@booking_id_pick\"),\n",
    "    (\"pct. completed\", \"@pct_completed{(0.00%)}\")\n",
    "])\n",
    "line_fig = figure(plot_width=800, plot_height=400, x_range=list(req_pick_hour_day[\"date_hour_req\"]),\n",
    "          x_axis_label=\"Date\", y_axis_label=\"Count\", tools = [hover])\n",
    "line_fig.vbar(x=\"date_hour_req\", bottom=\"booking_id_pick\", top=\"booking_id_req\", width=0.7, \n",
    "              legend=\"unserved requests\",color= \"#31D5BF\", source = source)\n",
    "line_fig.vbar(x=\"date_hour_pick\", top=\"booking_id_pick\", width=0.7,\n",
    "              legend=\"served requests\", color=\"#44999E\", source= source)\n",
    "line_fig.add_layout(Title(text=\"Number of requests within hour day\", align=\"center\", text_font_size=\"12pt\"), \"above\")\n",
    "line_fig.xaxis.major_label_orientation = pi/4\n",
    "line_fig.xgrid.visible = False\n",
    "show(line_fig)\n",
    "\n"
   ]
  },
  {
   "cell_type": "markdown",
   "metadata": {},
   "source": [
    "### Analyzing satisfied demand - rides\n",
    "\n",
    "Not all the requests of allygator are completed. Sometimes because of different circumstances (e.g. waiting times) users cancel their requests. Here I want to understand how many of the requests previously studied are actually served by the shuttle service.\n",
    "\n",
    "** Note that I can also use the other data set to obtain the total number of passengers that use the ride. **"
   ]
  },
  {
   "cell_type": "markdown",
   "metadata": {},
   "source": [
    "### Analyzing demand - amount of passengers that used the service"
   ]
  },
  {
   "cell_type": "code",
   "execution_count": null,
   "metadata": {
    "collapsed": true
   },
   "outputs": [],
   "source": []
  }
 ],
 "metadata": {
  "kernelspec": {
   "display_name": "Python 3",
   "language": "python",
   "name": "python3"
  },
  "language_info": {
   "codemirror_mode": {
    "name": "ipython",
    "version": 3
   },
   "file_extension": ".py",
   "mimetype": "text/x-python",
   "name": "python",
   "nbconvert_exporter": "python",
   "pygments_lexer": "ipython3",
   "version": "3.5.4"
  }
 },
 "nbformat": 4,
 "nbformat_minor": 2
}
