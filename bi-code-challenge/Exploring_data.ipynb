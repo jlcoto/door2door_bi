{
 "cells": [
  {
   "cell_type": "code",
   "execution_count": 160,
   "metadata": {},
   "outputs": [],
   "source": [
    "import pandas as pd\n",
    "import numpy as np\n",
    "from bokeh.plotting import figure, output_file, show\n",
    "from bokeh.io import output_notebook\n",
    "from bokeh.models import Title\n",
    "from math import pi"
   ]
  },
  {
   "cell_type": "code",
   "execution_count": 26,
   "metadata": {},
   "outputs": [],
   "source": [
    "#Reading in data\n",
    "\n",
    "pick_drop_data = pd.read_csv('data/pickup_dropoff.csv', dtype={\"postal\": str})"
   ]
  },
  {
   "cell_type": "code",
   "execution_count": 27,
   "metadata": {},
   "outputs": [
    {
     "data": {
      "text/plain": [
       "datetime_utc_0          object\n",
       "actual_time_utc_0       object\n",
       "postal                  object\n",
       "booking_id              object\n",
       "committed_time_utc_0    object\n",
       "estimated_time_utc_0    object\n",
       "status                  object\n",
       "type                    object\n",
       "dtype: object"
      ]
     },
     "execution_count": 27,
     "metadata": {},
     "output_type": "execute_result"
    }
   ],
   "source": [
    "#Checking types of the data \n",
    "pick_drop_data.dtypes"
   ]
  },
  {
   "cell_type": "code",
   "execution_count": 28,
   "metadata": {
    "collapsed": true
   },
   "outputs": [],
   "source": [
    "#Chosing columns with dates and creating new columns for berlin dates\n",
    "localize_dates = [\"datetime_utc_0\", \"actual_time_utc_0\", \"committed_time_utc_0\", \"estimated_time_utc_0\"]\n",
    "berlin_dates = [date.replace('0', 'berlin') for date in localize_dates]"
   ]
  },
  {
   "cell_type": "code",
   "execution_count": 29,
   "metadata": {
    "collapsed": true
   },
   "outputs": [],
   "source": [
    "def berlin_time(df, time_columns_names):\n",
    "    \"\"\"\n",
    "    Given a dataset and time columns converts data from utc 0 to Berlin time.\n",
    "    df: pandas data frame\n",
    "    time_columns_names: columns that contain time to be converted.\n",
    "    \n",
    "    returns: data frame with columns with time converted.\n",
    "    \"\"\"\n",
    "    #Replace to it can be localize to utc 0\n",
    "    data_date = df[time_columns_names].apply(lambda x: x.str.replace('\\+\\d\\d:\\d\\d', \"\"))\n",
    "    data_date = data_date.apply(lambda x: pd.to_datetime(x).dt.tz_localize('UTC').dt.tz_convert('Europe/Berlin'))\n",
    "    return data_date\n",
    "    \n",
    "    \n",
    "    "
   ]
  },
  {
   "cell_type": "code",
   "execution_count": 30,
   "metadata": {},
   "outputs": [],
   "source": [
    "pick_drop_data[berlin_dates] = berlin_time(pick_drop_data, localize_dates)"
   ]
  },
  {
   "cell_type": "code",
   "execution_count": 31,
   "metadata": {},
   "outputs": [
    {
     "data": {
      "text/plain": [
       "datetime_utc_0                                      object\n",
       "actual_time_utc_0                                   object\n",
       "postal                                              object\n",
       "booking_id                                          object\n",
       "committed_time_utc_0                                object\n",
       "estimated_time_utc_0                                object\n",
       "status                                              object\n",
       "type                                                object\n",
       "datetime_utc_berlin          datetime64[ns, Europe/Berlin]\n",
       "actual_time_utc_berlin       datetime64[ns, Europe/Berlin]\n",
       "committed_time_utc_berlin    datetime64[ns, Europe/Berlin]\n",
       "estimated_time_utc_berlin    datetime64[ns, Europe/Berlin]\n",
       "dtype: object"
      ]
     },
     "execution_count": 31,
     "metadata": {},
     "output_type": "execute_result"
    }
   ],
   "source": [
    "pick_drop_data.dtypes"
   ]
  },
  {
   "cell_type": "markdown",
   "metadata": {},
   "source": [
    "## Data validation"
   ]
  },
  {
   "cell_type": "markdown",
   "metadata": {},
   "source": [
    "#### Checking nulls in data set"
   ]
  },
  {
   "cell_type": "code",
   "execution_count": 38,
   "metadata": {},
   "outputs": [
    {
     "data": {
      "text/plain": [
       "datetime_utc_berlin           True\n",
       "committed_time_utc_berlin     True\n",
       "estimated_time_utc_berlin     True\n",
       "status                        True\n",
       "type                          True\n",
       "booking_id                    True\n",
       "postal                       False\n",
       "dtype: bool"
      ]
     },
     "execution_count": 38,
     "metadata": {},
     "output_type": "execute_result"
    }
   ],
   "source": [
    "#Checking if nulls in columns that should be complete\n",
    "pick_drop_data[[\"datetime_utc_berlin\", \n",
    "                \"committed_time_utc_berlin\", \n",
    "                \"estimated_time_utc_berlin\", \n",
    "                \"status\", \"type\", \"booking_id\", \"postal\"]].notnull().all()"
   ]
  },
  {
   "cell_type": "markdown",
   "metadata": {},
   "source": [
    "According to what it is observed, there are certain cases (30 in total) where the postal code is not recorded in the data set. As shown below, these records also include services that were provided (i.e. where transactions where closed)."
   ]
  },
  {
   "cell_type": "code",
   "execution_count": 46,
   "metadata": {},
   "outputs": [
    {
     "data": {
      "text/html": [
       "<div>\n",
       "<style>\n",
       "    .dataframe thead tr:only-child th {\n",
       "        text-align: right;\n",
       "    }\n",
       "\n",
       "    .dataframe thead th {\n",
       "        text-align: left;\n",
       "    }\n",
       "\n",
       "    .dataframe tbody tr th {\n",
       "        vertical-align: top;\n",
       "    }\n",
       "</style>\n",
       "<table border=\"1\" class=\"dataframe\">\n",
       "  <thead>\n",
       "    <tr style=\"text-align: right;\">\n",
       "      <th></th>\n",
       "      <th>datetime_utc_0</th>\n",
       "      <th>actual_time_utc_0</th>\n",
       "      <th>postal</th>\n",
       "      <th>booking_id</th>\n",
       "      <th>committed_time_utc_0</th>\n",
       "      <th>estimated_time_utc_0</th>\n",
       "      <th>status</th>\n",
       "      <th>type</th>\n",
       "      <th>datetime_utc_berlin</th>\n",
       "      <th>actual_time_utc_berlin</th>\n",
       "      <th>committed_time_utc_berlin</th>\n",
       "      <th>estimated_time_utc_berlin</th>\n",
       "    </tr>\n",
       "  </thead>\n",
       "  <tbody>\n",
       "    <tr>\n",
       "      <th>496</th>\n",
       "      <td>2017-06-09T18:24:21.000+02:00</td>\n",
       "      <td>2017-06-09T18:24:21.000+02:00</td>\n",
       "      <td>NaN</td>\n",
       "      <td>d0bc9130-4b97-40db-a18a-d8ac85e14188</td>\n",
       "      <td>2017-06-09T18:25:47.000+02:00</td>\n",
       "      <td>2017-06-09T18:25:47.000+02:00</td>\n",
       "      <td>closed</td>\n",
       "      <td>pickup</td>\n",
       "      <td>2017-06-09 20:24:21+02:00</td>\n",
       "      <td>2017-06-09 20:24:21+02:00</td>\n",
       "      <td>2017-06-09 20:25:47+02:00</td>\n",
       "      <td>2017-06-09 20:25:47+02:00</td>\n",
       "    </tr>\n",
       "    <tr>\n",
       "      <th>2228</th>\n",
       "      <td>2017-06-10T14:44:11.000+02:00</td>\n",
       "      <td>2017-06-10T14:44:11.000+02:00</td>\n",
       "      <td>NaN</td>\n",
       "      <td>dbb7e1e0-e2ae-42c9-9d57-5bea8885b4a7</td>\n",
       "      <td>2017-06-10T14:42:14.000+02:00</td>\n",
       "      <td>2017-06-10T14:43:55.000+02:00</td>\n",
       "      <td>closed</td>\n",
       "      <td>dropoff</td>\n",
       "      <td>2017-06-10 16:44:11+02:00</td>\n",
       "      <td>2017-06-10 16:44:11+02:00</td>\n",
       "      <td>2017-06-10 16:42:14+02:00</td>\n",
       "      <td>2017-06-10 16:43:55+02:00</td>\n",
       "    </tr>\n",
       "    <tr>\n",
       "      <th>4519</th>\n",
       "      <td>2017-06-10T11:11:26.000+02:00</td>\n",
       "      <td>2017-06-10T11:11:26.000+02:00</td>\n",
       "      <td>NaN</td>\n",
       "      <td>2935b385-008d-4ba0-97fc-4dda5b49147b</td>\n",
       "      <td>2017-06-10T11:09:39.000+02:00</td>\n",
       "      <td>2017-06-10T11:11:11.000+02:00</td>\n",
       "      <td>closed</td>\n",
       "      <td>dropoff</td>\n",
       "      <td>2017-06-10 13:11:26+02:00</td>\n",
       "      <td>2017-06-10 13:11:26+02:00</td>\n",
       "      <td>2017-06-10 13:09:39+02:00</td>\n",
       "      <td>2017-06-10 13:11:11+02:00</td>\n",
       "    </tr>\n",
       "    <tr>\n",
       "      <th>7007</th>\n",
       "      <td>2017-06-10T23:42:15.000+02:00</td>\n",
       "      <td>2017-06-10T23:42:15.000+02:00</td>\n",
       "      <td>NaN</td>\n",
       "      <td>a7d87dda-91e9-456b-8a6a-eb0c2c9f6bdc</td>\n",
       "      <td>2017-06-10T23:37:34.000+02:00</td>\n",
       "      <td>2017-06-10T23:37:34.000+02:00</td>\n",
       "      <td>closed</td>\n",
       "      <td>pickup</td>\n",
       "      <td>2017-06-11 01:42:15+02:00</td>\n",
       "      <td>2017-06-11 01:42:15+02:00</td>\n",
       "      <td>2017-06-11 01:37:34+02:00</td>\n",
       "      <td>2017-06-11 01:37:34+02:00</td>\n",
       "    </tr>\n",
       "  </tbody>\n",
       "</table>\n",
       "</div>"
      ],
      "text/plain": [
       "                     datetime_utc_0              actual_time_utc_0 postal  \\\n",
       "496   2017-06-09T18:24:21.000+02:00  2017-06-09T18:24:21.000+02:00    NaN   \n",
       "2228  2017-06-10T14:44:11.000+02:00  2017-06-10T14:44:11.000+02:00    NaN   \n",
       "4519  2017-06-10T11:11:26.000+02:00  2017-06-10T11:11:26.000+02:00    NaN   \n",
       "7007  2017-06-10T23:42:15.000+02:00  2017-06-10T23:42:15.000+02:00    NaN   \n",
       "\n",
       "                                booking_id           committed_time_utc_0  \\\n",
       "496   d0bc9130-4b97-40db-a18a-d8ac85e14188  2017-06-09T18:25:47.000+02:00   \n",
       "2228  dbb7e1e0-e2ae-42c9-9d57-5bea8885b4a7  2017-06-10T14:42:14.000+02:00   \n",
       "4519  2935b385-008d-4ba0-97fc-4dda5b49147b  2017-06-10T11:09:39.000+02:00   \n",
       "7007  a7d87dda-91e9-456b-8a6a-eb0c2c9f6bdc  2017-06-10T23:37:34.000+02:00   \n",
       "\n",
       "               estimated_time_utc_0  status     type  \\\n",
       "496   2017-06-09T18:25:47.000+02:00  closed   pickup   \n",
       "2228  2017-06-10T14:43:55.000+02:00  closed  dropoff   \n",
       "4519  2017-06-10T11:11:11.000+02:00  closed  dropoff   \n",
       "7007  2017-06-10T23:37:34.000+02:00  closed   pickup   \n",
       "\n",
       "           datetime_utc_berlin    actual_time_utc_berlin  \\\n",
       "496  2017-06-09 20:24:21+02:00 2017-06-09 20:24:21+02:00   \n",
       "2228 2017-06-10 16:44:11+02:00 2017-06-10 16:44:11+02:00   \n",
       "4519 2017-06-10 13:11:26+02:00 2017-06-10 13:11:26+02:00   \n",
       "7007 2017-06-11 01:42:15+02:00 2017-06-11 01:42:15+02:00   \n",
       "\n",
       "     committed_time_utc_berlin estimated_time_utc_berlin  \n",
       "496  2017-06-09 20:25:47+02:00 2017-06-09 20:25:47+02:00  \n",
       "2228 2017-06-10 16:42:14+02:00 2017-06-10 16:43:55+02:00  \n",
       "4519 2017-06-10 13:09:39+02:00 2017-06-10 13:11:11+02:00  \n",
       "7007 2017-06-11 01:37:34+02:00 2017-06-11 01:37:34+02:00  "
      ]
     },
     "execution_count": 46,
     "metadata": {},
     "output_type": "execute_result"
    }
   ],
   "source": [
    "pick_drop_data[(pick_drop_data[\"postal\"].isnull()) & (pick_drop_data[\"status\"]==\"closed\")]"
   ]
  },
  {
   "cell_type": "markdown",
   "metadata": {},
   "source": [
    "`actual_time_utc_berlin` should have missing values. This is because we only expect to have a non missing if the service was actually provided. In total we see that we have 2110 actual times. Note, however that we would be expecting all of these actual times to correspond to closed services. This is the case in 2026 cases where pickup and drop off services were provided. In 84 observations these actual times correspond to cancelled pickup services."
   ]
  },
  {
   "cell_type": "code",
   "execution_count": 58,
   "metadata": {},
   "outputs": [
    {
     "data": {
      "text/plain": [
       "2110"
      ]
     },
     "execution_count": 58,
     "metadata": {},
     "output_type": "execute_result"
    }
   ],
   "source": [
    "pick_drop_data['actual_time_utc_berlin'].notnull().sum()"
   ]
  },
  {
   "cell_type": "code",
   "execution_count": 64,
   "metadata": {},
   "outputs": [
    {
     "data": {
      "text/plain": [
       "2026"
      ]
     },
     "execution_count": 64,
     "metadata": {},
     "output_type": "execute_result"
    }
   ],
   "source": [
    "#Checking number of actual times with complete status\n",
    "pick_drop_data[(pick_drop_data['actual_time_utc_berlin'].notnull()) \n",
    "               & (pick_drop_data['status'] == \"closed\")].shape[0]"
   ]
  },
  {
   "cell_type": "code",
   "execution_count": 65,
   "metadata": {
    "scrolled": false
   },
   "outputs": [
    {
     "data": {
      "text/plain": [
       "84"
      ]
     },
     "execution_count": 65,
     "metadata": {},
     "output_type": "execute_result"
    }
   ],
   "source": [
    "#Checking number of actual times with cancelled status\n",
    "pick_drop_data[(pick_drop_data['actual_time_utc_berlin'].notnull()) \n",
    "               & (pick_drop_data['status'] == \"cancelled\")].shape[0]"
   ]
  },
  {
   "cell_type": "markdown",
   "metadata": {},
   "source": [
    "#### Checking that number of pick ups coincides with number of drop off"
   ]
  },
  {
   "cell_type": "code",
   "execution_count": 241,
   "metadata": {},
   "outputs": [
    {
     "data": {
      "text/plain": [
       "1014"
      ]
     },
     "execution_count": 241,
     "metadata": {},
     "output_type": "execute_result"
    }
   ],
   "source": [
    "len(pick_drop_data[(pick_drop_data['status'] == 'closed') & (pick_drop_data['type']=='pickup')])"
   ]
  },
  {
   "cell_type": "code",
   "execution_count": 242,
   "metadata": {},
   "outputs": [
    {
     "data": {
      "text/plain": [
       "1012"
      ]
     },
     "execution_count": 242,
     "metadata": {},
     "output_type": "execute_result"
    }
   ],
   "source": [
    "len(pick_drop_data[(pick_drop_data['status'] == 'closed') & (pick_drop_data['type']=='dropoff')])"
   ]
  },
  {
   "cell_type": "markdown",
   "metadata": {},
   "source": [
    "A simple look up of the number of closed rides with pickup and drop offs shows that there is a small difference between them. In what follows, I will find exactly for which booking id are there a pick up but not a drop off or viceversa."
   ]
  },
  {
   "cell_type": "code",
   "execution_count": 243,
   "metadata": {},
   "outputs": [
    {
     "data": {
      "text/html": [
       "<div>\n",
       "<style>\n",
       "    .dataframe thead tr:only-child th {\n",
       "        text-align: right;\n",
       "    }\n",
       "\n",
       "    .dataframe thead th {\n",
       "        text-align: left;\n",
       "    }\n",
       "\n",
       "    .dataframe tbody tr th {\n",
       "        vertical-align: top;\n",
       "    }\n",
       "</style>\n",
       "<table border=\"1\" class=\"dataframe\">\n",
       "  <thead>\n",
       "    <tr style=\"text-align: right;\">\n",
       "      <th></th>\n",
       "      <th>datetime_utc_0</th>\n",
       "      <th>actual_time_utc_0</th>\n",
       "      <th>postal</th>\n",
       "      <th>booking_id</th>\n",
       "      <th>committed_time_utc_0</th>\n",
       "      <th>estimated_time_utc_0</th>\n",
       "      <th>status</th>\n",
       "      <th>type</th>\n",
       "      <th>datetime_utc_berlin</th>\n",
       "      <th>actual_time_utc_berlin</th>\n",
       "      <th>committed_time_utc_berlin</th>\n",
       "      <th>estimated_time_utc_berlin</th>\n",
       "    </tr>\n",
       "  </thead>\n",
       "  <tbody>\n",
       "    <tr>\n",
       "      <th>7007</th>\n",
       "      <td>2017-06-10T23:42:15.000+02:00</td>\n",
       "      <td>2017-06-10T23:42:15.000+02:00</td>\n",
       "      <td>NaN</td>\n",
       "      <td>a7d87dda-91e9-456b-8a6a-eb0c2c9f6bdc</td>\n",
       "      <td>2017-06-10T23:37:34.000+02:00</td>\n",
       "      <td>2017-06-10T23:37:34.000+02:00</td>\n",
       "      <td>closed</td>\n",
       "      <td>pickup</td>\n",
       "      <td>2017-06-11 01:42:15+02:00</td>\n",
       "      <td>2017-06-11 01:42:15+02:00</td>\n",
       "      <td>2017-06-11 01:37:34+02:00</td>\n",
       "      <td>2017-06-11 01:37:34+02:00</td>\n",
       "    </tr>\n",
       "    <tr>\n",
       "      <th>7033</th>\n",
       "      <td>2017-06-10T23:53:17.000+02:00</td>\n",
       "      <td>2017-06-10T23:53:17.000+02:00</td>\n",
       "      <td>10559</td>\n",
       "      <td>7e199ca8-b04a-495d-bfd6-edd1984b415f</td>\n",
       "      <td>2017-06-10T23:51:24.000+02:00</td>\n",
       "      <td>2017-06-10T23:51:24.000+02:00</td>\n",
       "      <td>closed</td>\n",
       "      <td>pickup</td>\n",
       "      <td>2017-06-11 01:53:17+02:00</td>\n",
       "      <td>2017-06-11 01:53:17+02:00</td>\n",
       "      <td>2017-06-11 01:51:24+02:00</td>\n",
       "      <td>2017-06-11 01:51:24+02:00</td>\n",
       "    </tr>\n",
       "    <tr>\n",
       "      <th>8642</th>\n",
       "      <td>2017-06-10T23:48:05.000+02:00</td>\n",
       "      <td>2017-06-10T23:48:05.000+02:00</td>\n",
       "      <td>10969</td>\n",
       "      <td>183a2ba6-6c0f-4059-91f2-165e52c89ffb</td>\n",
       "      <td>2017-06-10T23:48:03.000+02:00</td>\n",
       "      <td>2017-06-10T23:48:09.000+02:00</td>\n",
       "      <td>closed</td>\n",
       "      <td>pickup</td>\n",
       "      <td>2017-06-11 01:48:05+02:00</td>\n",
       "      <td>2017-06-11 01:48:05+02:00</td>\n",
       "      <td>2017-06-11 01:48:03+02:00</td>\n",
       "      <td>2017-06-11 01:48:09+02:00</td>\n",
       "    </tr>\n",
       "    <tr>\n",
       "      <th>8650</th>\n",
       "      <td>2017-06-10T23:51:46.000+02:00</td>\n",
       "      <td>2017-06-10T23:51:46.000+02:00</td>\n",
       "      <td>10117</td>\n",
       "      <td>723130ac-08ce-4838-9def-1c0e49763f0f</td>\n",
       "      <td>2017-06-10T23:54:37.000+02:00</td>\n",
       "      <td>2017-06-10T23:54:00.000+02:00</td>\n",
       "      <td>closed</td>\n",
       "      <td>pickup</td>\n",
       "      <td>2017-06-11 01:51:46+02:00</td>\n",
       "      <td>2017-06-11 01:51:46+02:00</td>\n",
       "      <td>2017-06-11 01:54:37+02:00</td>\n",
       "      <td>2017-06-11 01:54:00+02:00</td>\n",
       "    </tr>\n",
       "    <tr>\n",
       "      <th>8658</th>\n",
       "      <td>2017-06-10T23:53:48.000+02:00</td>\n",
       "      <td>2017-06-10T23:53:48.000+02:00</td>\n",
       "      <td>12045</td>\n",
       "      <td>d755fc90-555c-44bb-96eb-4eec23e8297b</td>\n",
       "      <td>2017-06-10T23:52:32.000+02:00</td>\n",
       "      <td>2017-06-10T23:52:32.000+02:00</td>\n",
       "      <td>closed</td>\n",
       "      <td>pickup</td>\n",
       "      <td>2017-06-11 01:53:48+02:00</td>\n",
       "      <td>2017-06-11 01:53:48+02:00</td>\n",
       "      <td>2017-06-11 01:52:32+02:00</td>\n",
       "      <td>2017-06-11 01:52:32+02:00</td>\n",
       "    </tr>\n",
       "  </tbody>\n",
       "</table>\n",
       "</div>"
      ],
      "text/plain": [
       "                     datetime_utc_0              actual_time_utc_0 postal  \\\n",
       "7007  2017-06-10T23:42:15.000+02:00  2017-06-10T23:42:15.000+02:00    NaN   \n",
       "7033  2017-06-10T23:53:17.000+02:00  2017-06-10T23:53:17.000+02:00  10559   \n",
       "8642  2017-06-10T23:48:05.000+02:00  2017-06-10T23:48:05.000+02:00  10969   \n",
       "8650  2017-06-10T23:51:46.000+02:00  2017-06-10T23:51:46.000+02:00  10117   \n",
       "8658  2017-06-10T23:53:48.000+02:00  2017-06-10T23:53:48.000+02:00  12045   \n",
       "\n",
       "                                booking_id           committed_time_utc_0  \\\n",
       "7007  a7d87dda-91e9-456b-8a6a-eb0c2c9f6bdc  2017-06-10T23:37:34.000+02:00   \n",
       "7033  7e199ca8-b04a-495d-bfd6-edd1984b415f  2017-06-10T23:51:24.000+02:00   \n",
       "8642  183a2ba6-6c0f-4059-91f2-165e52c89ffb  2017-06-10T23:48:03.000+02:00   \n",
       "8650  723130ac-08ce-4838-9def-1c0e49763f0f  2017-06-10T23:54:37.000+02:00   \n",
       "8658  d755fc90-555c-44bb-96eb-4eec23e8297b  2017-06-10T23:52:32.000+02:00   \n",
       "\n",
       "               estimated_time_utc_0  status    type       datetime_utc_berlin  \\\n",
       "7007  2017-06-10T23:37:34.000+02:00  closed  pickup 2017-06-11 01:42:15+02:00   \n",
       "7033  2017-06-10T23:51:24.000+02:00  closed  pickup 2017-06-11 01:53:17+02:00   \n",
       "8642  2017-06-10T23:48:09.000+02:00  closed  pickup 2017-06-11 01:48:05+02:00   \n",
       "8650  2017-06-10T23:54:00.000+02:00  closed  pickup 2017-06-11 01:51:46+02:00   \n",
       "8658  2017-06-10T23:52:32.000+02:00  closed  pickup 2017-06-11 01:53:48+02:00   \n",
       "\n",
       "        actual_time_utc_berlin committed_time_utc_berlin  \\\n",
       "7007 2017-06-11 01:42:15+02:00 2017-06-11 01:37:34+02:00   \n",
       "7033 2017-06-11 01:53:17+02:00 2017-06-11 01:51:24+02:00   \n",
       "8642 2017-06-11 01:48:05+02:00 2017-06-11 01:48:03+02:00   \n",
       "8650 2017-06-11 01:51:46+02:00 2017-06-11 01:54:37+02:00   \n",
       "8658 2017-06-11 01:53:48+02:00 2017-06-11 01:52:32+02:00   \n",
       "\n",
       "     estimated_time_utc_berlin  \n",
       "7007 2017-06-11 01:37:34+02:00  \n",
       "7033 2017-06-11 01:51:24+02:00  \n",
       "8642 2017-06-11 01:48:09+02:00  \n",
       "8650 2017-06-11 01:54:00+02:00  \n",
       "8658 2017-06-11 01:52:32+02:00  "
      ]
     },
     "execution_count": 243,
     "metadata": {},
     "output_type": "execute_result"
    }
   ],
   "source": [
    "#Pick ups without drop offs\n",
    "\n",
    "#Generate list of all the drop off booking id's\n",
    "book_id_dropoff = list(pick_drop_data[(pick_drop_data['status'] == 'closed') & (pick_drop_data['type']=='dropoff') ]['booking_id'])\n",
    "\n",
    "#Check which ones are missing\n",
    "pick_drop_data[(pick_drop_data['status'] == 'closed') & (pick_drop_data['type']=='pickup') \n",
    "          & ~(pick_drop_data['booking_id'].isin(book_id_dropoff))]"
   ]
  },
  {
   "cell_type": "code",
   "execution_count": 244,
   "metadata": {},
   "outputs": [
    {
     "data": {
      "text/html": [
       "<div>\n",
       "<style>\n",
       "    .dataframe thead tr:only-child th {\n",
       "        text-align: right;\n",
       "    }\n",
       "\n",
       "    .dataframe thead th {\n",
       "        text-align: left;\n",
       "    }\n",
       "\n",
       "    .dataframe tbody tr th {\n",
       "        vertical-align: top;\n",
       "    }\n",
       "</style>\n",
       "<table border=\"1\" class=\"dataframe\">\n",
       "  <thead>\n",
       "    <tr style=\"text-align: right;\">\n",
       "      <th></th>\n",
       "      <th>datetime_utc_0</th>\n",
       "      <th>actual_time_utc_0</th>\n",
       "      <th>postal</th>\n",
       "      <th>booking_id</th>\n",
       "      <th>committed_time_utc_0</th>\n",
       "      <th>estimated_time_utc_0</th>\n",
       "      <th>status</th>\n",
       "      <th>type</th>\n",
       "      <th>datetime_utc_berlin</th>\n",
       "      <th>actual_time_utc_berlin</th>\n",
       "      <th>committed_time_utc_berlin</th>\n",
       "      <th>estimated_time_utc_berlin</th>\n",
       "    </tr>\n",
       "  </thead>\n",
       "  <tbody>\n",
       "    <tr>\n",
       "      <th>7057</th>\n",
       "      <td>2017-06-11T00:14:08.000+02:00</td>\n",
       "      <td>2017-06-11T00:14:08.000+02:00</td>\n",
       "      <td>10243</td>\n",
       "      <td>efdf2025-84d6-4336-a0af-c853156694e3</td>\n",
       "      <td>2017-06-11T00:15:12.000+02:00</td>\n",
       "      <td>2017-06-11T00:15:12.000+02:00</td>\n",
       "      <td>closed</td>\n",
       "      <td>dropoff</td>\n",
       "      <td>2017-06-11 02:14:08+02:00</td>\n",
       "      <td>2017-06-11 02:14:08+02:00</td>\n",
       "      <td>2017-06-11 02:15:12+02:00</td>\n",
       "      <td>2017-06-11 02:15:12+02:00</td>\n",
       "    </tr>\n",
       "    <tr>\n",
       "      <th>8679</th>\n",
       "      <td>2017-06-11T00:15:26.000+02:00</td>\n",
       "      <td>2017-06-11T00:15:26.000+02:00</td>\n",
       "      <td>10967</td>\n",
       "      <td>bad30cdb-0434-43ff-be0f-c1f4bd7143d4</td>\n",
       "      <td>2017-06-11T00:23:09.000+02:00</td>\n",
       "      <td>2017-06-11T00:23:09.000+02:00</td>\n",
       "      <td>closed</td>\n",
       "      <td>dropoff</td>\n",
       "      <td>2017-06-11 02:15:26+02:00</td>\n",
       "      <td>2017-06-11 02:15:26+02:00</td>\n",
       "      <td>2017-06-11 02:23:09+02:00</td>\n",
       "      <td>2017-06-11 02:23:09+02:00</td>\n",
       "    </tr>\n",
       "    <tr>\n",
       "      <th>8681</th>\n",
       "      <td>2017-06-11T00:19:03.000+02:00</td>\n",
       "      <td>2017-06-11T00:19:03.000+02:00</td>\n",
       "      <td>10437</td>\n",
       "      <td>9899b627-c082-4945-a549-d4119792c9c6</td>\n",
       "      <td>2017-06-11T00:19:07.000+02:00</td>\n",
       "      <td>2017-06-11T00:19:07.000+02:00</td>\n",
       "      <td>closed</td>\n",
       "      <td>dropoff</td>\n",
       "      <td>2017-06-11 02:19:03+02:00</td>\n",
       "      <td>2017-06-11 02:19:03+02:00</td>\n",
       "      <td>2017-06-11 02:19:07+02:00</td>\n",
       "      <td>2017-06-11 02:19:07+02:00</td>\n",
       "    </tr>\n",
       "  </tbody>\n",
       "</table>\n",
       "</div>"
      ],
      "text/plain": [
       "                     datetime_utc_0              actual_time_utc_0 postal  \\\n",
       "7057  2017-06-11T00:14:08.000+02:00  2017-06-11T00:14:08.000+02:00  10243   \n",
       "8679  2017-06-11T00:15:26.000+02:00  2017-06-11T00:15:26.000+02:00  10967   \n",
       "8681  2017-06-11T00:19:03.000+02:00  2017-06-11T00:19:03.000+02:00  10437   \n",
       "\n",
       "                                booking_id           committed_time_utc_0  \\\n",
       "7057  efdf2025-84d6-4336-a0af-c853156694e3  2017-06-11T00:15:12.000+02:00   \n",
       "8679  bad30cdb-0434-43ff-be0f-c1f4bd7143d4  2017-06-11T00:23:09.000+02:00   \n",
       "8681  9899b627-c082-4945-a549-d4119792c9c6  2017-06-11T00:19:07.000+02:00   \n",
       "\n",
       "               estimated_time_utc_0  status     type  \\\n",
       "7057  2017-06-11T00:15:12.000+02:00  closed  dropoff   \n",
       "8679  2017-06-11T00:23:09.000+02:00  closed  dropoff   \n",
       "8681  2017-06-11T00:19:07.000+02:00  closed  dropoff   \n",
       "\n",
       "           datetime_utc_berlin    actual_time_utc_berlin  \\\n",
       "7057 2017-06-11 02:14:08+02:00 2017-06-11 02:14:08+02:00   \n",
       "8679 2017-06-11 02:15:26+02:00 2017-06-11 02:15:26+02:00   \n",
       "8681 2017-06-11 02:19:03+02:00 2017-06-11 02:19:03+02:00   \n",
       "\n",
       "     committed_time_utc_berlin estimated_time_utc_berlin  \n",
       "7057 2017-06-11 02:15:12+02:00 2017-06-11 02:15:12+02:00  \n",
       "8679 2017-06-11 02:23:09+02:00 2017-06-11 02:23:09+02:00  \n",
       "8681 2017-06-11 02:19:07+02:00 2017-06-11 02:19:07+02:00  "
      ]
     },
     "execution_count": 244,
     "metadata": {},
     "output_type": "execute_result"
    }
   ],
   "source": [
    "#Drop offs without pickups\n",
    "\n",
    "#Generate list of all the drop off booking id's\n",
    "book_id_pickup = list(pick_drop_data[(pick_drop_data['status'] == 'closed') & (pick_drop_data['type']=='pickup') ]['booking_id'])\n",
    "\n",
    "#Check which ones are missing\n",
    "pick_drop_data[(pick_drop_data['status'] == 'closed') & (pick_drop_data['type']=='dropoff') \n",
    "          & ~(pick_drop_data['booking_id'].isin(book_id_pickup))]"
   ]
  },
  {
   "cell_type": "markdown",
   "metadata": {},
   "source": [
    "## Analizing the demand\n",
    "\n",
    "A good way to determine the demand of the services is to check the number of times the users requested a service. We can check this per day and hour.\n",
    "\n",
    "Note that a first problem we have to deal with when grouping is when to count a request. Allygator shuttle services runs through the night, till the other day (2 a.m). As in the data sets we have observations that are repeated, we might be overestimating the demand if we count a request double. \n",
    "\n",
    "For example, we will be counting double if we count as a separate request one made at 23:59 on 09.06.17 and the observation from the same requests that continues being open at 00:01 10.06.17. As a rule, we will say that this request belongs to the day in which it was made 09.06.17.\n",
    "\n",
    "For this purpose, to measure the number of requests we will take the first observation of the request. \n"
   ]
  },
  {
   "cell_type": "code",
   "execution_count": 274,
   "metadata": {
    "scrolled": false
   },
   "outputs": [],
   "source": [
    "first_request = pick_drop_data.sort_values(by=[\"datetime_utc_berlin\", \"type\"], \n",
    "                                           ascending=[True, False]).groupby('booking_id').agg(lambda x: x.iloc[0]).reset_index()"
   ]
  },
  {
   "cell_type": "code",
   "execution_count": 277,
   "metadata": {},
   "outputs": [
    {
     "data": {
      "text/plain": [
       "Index(['booking_id', 'datetime_utc_0', 'actual_time_utc_0', 'postal',\n",
       "       'committed_time_utc_0', 'estimated_time_utc_0', 'status', 'type',\n",
       "       'datetime_utc_berlin', 'actual_time_utc_berlin',\n",
       "       'committed_time_utc_berlin', 'estimated_time_utc_berlin'],\n",
       "      dtype='object')"
      ]
     },
     "execution_count": 277,
     "metadata": {},
     "output_type": "execute_result"
    }
   ],
   "source": [
    "first_request.columns"
   ]
  },
  {
   "cell_type": "code",
   "execution_count": 275,
   "metadata": {
    "collapsed": true
   },
   "outputs": [],
   "source": [
    "def group_per_date(df, grouping_period, date_col, agg_col, stat):\n",
    "    \"\"\"\n",
    "    df: pandas data frame.\n",
    "    grouping_pediod: (str) a date period grouping e(e.g. 1h: hourly, 1d:daily).\n",
    "    date_col: (str) column in date set with date time object.\n",
    "    agg_key: (str) column to be aggregated on\n",
    "    stat: (str) numpy operation (np.sum) this is the type of aggregation to be performed.\n",
    "    \n",
    "    return: data frame grouped in given period\n",
    "    \"\"\"\n",
    "    \n",
    "    return df.groupby(pd.Grouper(freq=grouping_period, key=date_col)).agg({agg_col:stat}).reset_index()\n",
    "\n",
    "\n"
   ]
  },
  {
   "cell_type": "code",
   "execution_count": 288,
   "metadata": {},
   "outputs": [],
   "source": [
    "request_per_day = group_per_date(first_request, \"1d\", \"datetime_utc_berlin\", \"booking_id\", \"count\")"
   ]
  },
  {
   "cell_type": "code",
   "execution_count": 289,
   "metadata": {},
   "outputs": [],
   "source": [
    "#Getting labels for the graph\n",
    "request_per_day[\"date\"] = request_per_day['datetime_utc_berlin'].apply(lambda x: x.strftime('%a %b %Y'))"
   ]
  },
  {
   "cell_type": "code",
   "execution_count": 290,
   "metadata": {},
   "outputs": [
    {
     "data": {
      "text/html": [
       "\n",
       "\n",
       "    <div class=\"bk-root\">\n",
       "        <div class=\"bk-plotdiv\" id=\"3301d3d2-34e6-4ef4-bd1e-445473e79f50\"></div>\n",
       "    </div>\n",
       "<script type=\"text/javascript\">\n",
       "  \n",
       "  (function(global) {\n",
       "    function now() {\n",
       "      return new Date();\n",
       "    }\n",
       "  \n",
       "    var force = false;\n",
       "  \n",
       "    if (typeof (window._bokeh_onload_callbacks) === \"undefined\" || force === true) {\n",
       "      window._bokeh_onload_callbacks = [];\n",
       "      window._bokeh_is_loading = undefined;\n",
       "    }\n",
       "  \n",
       "  \n",
       "    \n",
       "    if (typeof (window._bokeh_timeout) === \"undefined\" || force === true) {\n",
       "      window._bokeh_timeout = Date.now() + 0;\n",
       "      window._bokeh_failed_load = false;\n",
       "    }\n",
       "  \n",
       "    var NB_LOAD_WARNING = {'data': {'text/html':\n",
       "       \"<div style='background-color: #fdd'>\\n\"+\n",
       "       \"<p>\\n\"+\n",
       "       \"BokehJS does not appear to have successfully loaded. If loading BokehJS from CDN, this \\n\"+\n",
       "       \"may be due to a slow or bad network connection. Possible fixes:\\n\"+\n",
       "       \"</p>\\n\"+\n",
       "       \"<ul>\\n\"+\n",
       "       \"<li>re-rerun `output_notebook()` to attempt to load from CDN again, or</li>\\n\"+\n",
       "       \"<li>use INLINE resources instead, as so:</li>\\n\"+\n",
       "       \"</ul>\\n\"+\n",
       "       \"<code>\\n\"+\n",
       "       \"from bokeh.resources import INLINE\\n\"+\n",
       "       \"output_notebook(resources=INLINE)\\n\"+\n",
       "       \"</code>\\n\"+\n",
       "       \"</div>\"}};\n",
       "  \n",
       "    function display_loaded() {\n",
       "      if (window.Bokeh !== undefined) {\n",
       "        var el = document.getElementById(\"3301d3d2-34e6-4ef4-bd1e-445473e79f50\");\n",
       "        el.textContent = \"BokehJS \" + Bokeh.version + \" successfully loaded.\";\n",
       "      } else if (Date.now() < window._bokeh_timeout) {\n",
       "        setTimeout(display_loaded, 100)\n",
       "      }\n",
       "    }\n",
       "  \n",
       "    function run_callbacks() {\n",
       "      try {\n",
       "        window._bokeh_onload_callbacks.forEach(function(callback) { callback() });\n",
       "      }\n",
       "      finally {\n",
       "        delete window._bokeh_onload_callbacks\n",
       "      }\n",
       "      console.info(\"Bokeh: all callbacks have finished\");\n",
       "    }\n",
       "  \n",
       "    function load_libs(js_urls, callback) {\n",
       "      window._bokeh_onload_callbacks.push(callback);\n",
       "      if (window._bokeh_is_loading > 0) {\n",
       "        console.log(\"Bokeh: BokehJS is being loaded, scheduling callback at\", now());\n",
       "        return null;\n",
       "      }\n",
       "      if (js_urls == null || js_urls.length === 0) {\n",
       "        run_callbacks();\n",
       "        return null;\n",
       "      }\n",
       "      console.log(\"Bokeh: BokehJS not loaded, scheduling load and callback at\", now());\n",
       "      window._bokeh_is_loading = js_urls.length;\n",
       "      for (var i = 0; i < js_urls.length; i++) {\n",
       "        var url = js_urls[i];\n",
       "        var s = document.createElement('script');\n",
       "        s.src = url;\n",
       "        s.async = false;\n",
       "        s.onreadystatechange = s.onload = function() {\n",
       "          window._bokeh_is_loading--;\n",
       "          if (window._bokeh_is_loading === 0) {\n",
       "            console.log(\"Bokeh: all BokehJS libraries loaded\");\n",
       "            run_callbacks()\n",
       "          }\n",
       "        };\n",
       "        s.onerror = function() {\n",
       "          console.warn(\"failed to load library \" + url);\n",
       "        };\n",
       "        console.log(\"Bokeh: injecting script tag for BokehJS library: \", url);\n",
       "        document.getElementsByTagName(\"head\")[0].appendChild(s);\n",
       "      }\n",
       "    };var element = document.getElementById(\"3301d3d2-34e6-4ef4-bd1e-445473e79f50\");\n",
       "    if (element == null) {\n",
       "      console.log(\"Bokeh: ERROR: autoload.js configured with elementid '3301d3d2-34e6-4ef4-bd1e-445473e79f50' but no matching script tag was found. \")\n",
       "      return false;\n",
       "    }\n",
       "  \n",
       "    var js_urls = [];\n",
       "  \n",
       "    var inline_js = [\n",
       "      function(Bokeh) {\n",
       "        (function() {\n",
       "          var fn = function() {\n",
       "            var docs_json = {\"61d17178-64ef-49f6-b692-a89ed7080099\":{\"roots\":{\"references\":[{\"attributes\":{},\"id\":\"084e3a4c-cb0b-422a-9555-5af5c03aa0a4\",\"type\":\"BasicTickFormatter\"},{\"attributes\":{\"axis_label\":\"Date\",\"formatter\":{\"id\":\"f8b30d4a-4ef0-40c0-a74f-ec311be5457c\",\"type\":\"CategoricalTickFormatter\"},\"plot\":{\"id\":\"50ddb188-25ae-4562-b1d1-c6bcebdf96b0\",\"subtype\":\"Figure\",\"type\":\"Plot\"},\"ticker\":{\"id\":\"09037d60-fd00-493a-aec3-c23e263f7bb3\",\"type\":\"CategoricalTicker\"}},\"id\":\"653caf08-2c93-49ae-8794-0bf818dfe20d\",\"type\":\"CategoricalAxis\"},{\"attributes\":{\"align\":\"center\",\"plot\":{\"id\":\"50ddb188-25ae-4562-b1d1-c6bcebdf96b0\",\"subtype\":\"Figure\",\"type\":\"Plot\"},\"text\":\"Number of requests per day\",\"text_font_size\":{\"value\":\"12pt\"}},\"id\":\"149eed4b-cd67-493b-9562-e36a54ee1e4c\",\"type\":\"Title\"},{\"attributes\":{\"bottom_units\":\"screen\",\"fill_alpha\":{\"value\":0.5},\"fill_color\":{\"value\":\"lightgrey\"},\"left_units\":\"screen\",\"level\":\"overlay\",\"line_alpha\":{\"value\":1.0},\"line_color\":{\"value\":\"black\"},\"line_dash\":[4,4],\"line_width\":{\"value\":2},\"plot\":null,\"render_mode\":\"css\",\"right_units\":\"screen\",\"top_units\":\"screen\"},\"id\":\"6276d0a8-e972-40f6-b823-34155b10e2ea\",\"type\":\"BoxAnnotation\"},{\"attributes\":{\"plot\":null,\"text\":\"\"},\"id\":\"38381370-0dca-48cf-a0fe-1d0bf394a151\",\"type\":\"Title\"},{\"attributes\":{\"plot\":{\"id\":\"50ddb188-25ae-4562-b1d1-c6bcebdf96b0\",\"subtype\":\"Figure\",\"type\":\"Plot\"}},\"id\":\"e5d88f59-88bf-4776-9bd1-da283269f72a\",\"type\":\"PanTool\"},{\"attributes\":{\"fill_color\":{\"value\":\"#1f77b4\"},\"line_color\":{\"value\":\"#1f77b4\"},\"top\":{\"field\":\"top\"},\"width\":{\"value\":0.4},\"x\":{\"field\":\"x\"}},\"id\":\"3d725a54-5531-4a9c-8ea3-d7462bd81273\",\"type\":\"VBar\"},{\"attributes\":{\"axis_label\":\"Count\",\"formatter\":{\"id\":\"084e3a4c-cb0b-422a-9555-5af5c03aa0a4\",\"type\":\"BasicTickFormatter\"},\"plot\":{\"id\":\"50ddb188-25ae-4562-b1d1-c6bcebdf96b0\",\"subtype\":\"Figure\",\"type\":\"Plot\"},\"ticker\":{\"id\":\"e72d0db1-93c7-4ad2-8c28-f31a2d229d71\",\"type\":\"BasicTicker\"}},\"id\":\"8034819f-3920-4f04-8ec9-b42e1dab9720\",\"type\":\"LinearAxis\"},{\"attributes\":{\"callback\":null,\"factors\":[\"Fri Jun 2017\",\"Sat Jun 2017\",\"Sun Jun 2017\"]},\"id\":\"23996042-c961-4e76-8fb3-1622e85d5ca9\",\"type\":\"FactorRange\"},{\"attributes\":{\"data_source\":{\"id\":\"376dc811-b7f0-4bdb-a6c0-22dc21623ab1\",\"type\":\"ColumnDataSource\"},\"glyph\":{\"id\":\"3d725a54-5531-4a9c-8ea3-d7462bd81273\",\"type\":\"VBar\"},\"hover_glyph\":null,\"muted_glyph\":null,\"nonselection_glyph\":{\"id\":\"fc27e720-9969-4fdc-8830-9317bcf50e4a\",\"type\":\"VBar\"},\"selection_glyph\":null},\"id\":\"5c814d19-2dd0-4a83-a70e-953de41bb2f2\",\"type\":\"GlyphRenderer\"},{\"attributes\":{\"above\":[{\"id\":\"149eed4b-cd67-493b-9562-e36a54ee1e4c\",\"type\":\"Title\"}],\"below\":[{\"id\":\"653caf08-2c93-49ae-8794-0bf818dfe20d\",\"type\":\"CategoricalAxis\"}],\"left\":[{\"id\":\"8034819f-3920-4f04-8ec9-b42e1dab9720\",\"type\":\"LinearAxis\"}],\"plot_height\":400,\"plot_width\":400,\"renderers\":[{\"id\":\"653caf08-2c93-49ae-8794-0bf818dfe20d\",\"type\":\"CategoricalAxis\"},{\"id\":\"d9d4856b-7a79-4679-8db9-8e3ca134a4d5\",\"type\":\"Grid\"},{\"id\":\"8034819f-3920-4f04-8ec9-b42e1dab9720\",\"type\":\"LinearAxis\"},{\"id\":\"3abbef83-2b90-406d-a434-7963f3b2f347\",\"type\":\"Grid\"},{\"id\":\"6276d0a8-e972-40f6-b823-34155b10e2ea\",\"type\":\"BoxAnnotation\"},{\"id\":\"5c814d19-2dd0-4a83-a70e-953de41bb2f2\",\"type\":\"GlyphRenderer\"},{\"id\":\"149eed4b-cd67-493b-9562-e36a54ee1e4c\",\"type\":\"Title\"}],\"title\":{\"id\":\"38381370-0dca-48cf-a0fe-1d0bf394a151\",\"type\":\"Title\"},\"tool_events\":{\"id\":\"a7160a07-42df-4d92-bf55-b87286f44390\",\"type\":\"ToolEvents\"},\"toolbar\":{\"id\":\"29908278-7cf7-46fc-bf3e-52518d9feb7f\",\"type\":\"Toolbar\"},\"x_range\":{\"id\":\"23996042-c961-4e76-8fb3-1622e85d5ca9\",\"type\":\"FactorRange\"},\"x_scale\":{\"id\":\"92d1f301-0df0-427b-bcc9-5b28419e36ba\",\"type\":\"CategoricalScale\"},\"y_range\":{\"id\":\"7561c174-8f1b-4296-a445-0f062da9965a\",\"type\":\"DataRange1d\"},\"y_scale\":{\"id\":\"2ba0e6b1-7ccf-408d-865d-9c5ea0b5015e\",\"type\":\"LinearScale\"}},\"id\":\"50ddb188-25ae-4562-b1d1-c6bcebdf96b0\",\"subtype\":\"Figure\",\"type\":\"Plot\"},{\"attributes\":{\"callback\":null,\"column_names\":[\"top\",\"x\"],\"data\":{\"top\":[337,693,471],\"x\":[\"Fri Jun 2017\",\"Sat Jun 2017\",\"Sun Jun 2017\"]}},\"id\":\"376dc811-b7f0-4bdb-a6c0-22dc21623ab1\",\"type\":\"ColumnDataSource\"},{\"attributes\":{\"fill_alpha\":{\"value\":0.1},\"fill_color\":{\"value\":\"#1f77b4\"},\"line_alpha\":{\"value\":0.1},\"line_color\":{\"value\":\"#1f77b4\"},\"top\":{\"field\":\"top\"},\"width\":{\"value\":0.4},\"x\":{\"field\":\"x\"}},\"id\":\"fc27e720-9969-4fdc-8830-9317bcf50e4a\",\"type\":\"VBar\"},{\"attributes\":{\"plot\":{\"id\":\"50ddb188-25ae-4562-b1d1-c6bcebdf96b0\",\"subtype\":\"Figure\",\"type\":\"Plot\"}},\"id\":\"76de7bf9-64c8-46a0-babe-e8e1417231aa\",\"type\":\"WheelZoomTool\"},{\"attributes\":{},\"id\":\"e72d0db1-93c7-4ad2-8c28-f31a2d229d71\",\"type\":\"BasicTicker\"},{\"attributes\":{},\"id\":\"09037d60-fd00-493a-aec3-c23e263f7bb3\",\"type\":\"CategoricalTicker\"},{\"attributes\":{},\"id\":\"92d1f301-0df0-427b-bcc9-5b28419e36ba\",\"type\":\"CategoricalScale\"},{\"attributes\":{\"plot\":{\"id\":\"50ddb188-25ae-4562-b1d1-c6bcebdf96b0\",\"subtype\":\"Figure\",\"type\":\"Plot\"}},\"id\":\"ad4662b5-0847-41ef-baff-8de91afd6d1b\",\"type\":\"HelpTool\"},{\"attributes\":{},\"id\":\"a7160a07-42df-4d92-bf55-b87286f44390\",\"type\":\"ToolEvents\"},{\"attributes\":{},\"id\":\"f8b30d4a-4ef0-40c0-a74f-ec311be5457c\",\"type\":\"CategoricalTickFormatter\"},{\"attributes\":{\"plot\":{\"id\":\"50ddb188-25ae-4562-b1d1-c6bcebdf96b0\",\"subtype\":\"Figure\",\"type\":\"Plot\"},\"ticker\":{\"id\":\"09037d60-fd00-493a-aec3-c23e263f7bb3\",\"type\":\"CategoricalTicker\"}},\"id\":\"d9d4856b-7a79-4679-8db9-8e3ca134a4d5\",\"type\":\"Grid\"},{\"attributes\":{\"active_drag\":\"auto\",\"active_inspect\":\"auto\",\"active_scroll\":\"auto\",\"active_tap\":\"auto\",\"tools\":[{\"id\":\"e5d88f59-88bf-4776-9bd1-da283269f72a\",\"type\":\"PanTool\"},{\"id\":\"76de7bf9-64c8-46a0-babe-e8e1417231aa\",\"type\":\"WheelZoomTool\"},{\"id\":\"c72c9174-0cae-446c-8ae4-4d97ed8c7c5f\",\"type\":\"BoxZoomTool\"},{\"id\":\"d2b39e1b-5ce9-492b-a4f6-06cd9f455edd\",\"type\":\"SaveTool\"},{\"id\":\"3408543a-30de-4a0f-ae27-1e1d1fc912c8\",\"type\":\"ResetTool\"},{\"id\":\"ad4662b5-0847-41ef-baff-8de91afd6d1b\",\"type\":\"HelpTool\"}]},\"id\":\"29908278-7cf7-46fc-bf3e-52518d9feb7f\",\"type\":\"Toolbar\"},{\"attributes\":{\"plot\":{\"id\":\"50ddb188-25ae-4562-b1d1-c6bcebdf96b0\",\"subtype\":\"Figure\",\"type\":\"Plot\"}},\"id\":\"d2b39e1b-5ce9-492b-a4f6-06cd9f455edd\",\"type\":\"SaveTool\"},{\"attributes\":{\"plot\":{\"id\":\"50ddb188-25ae-4562-b1d1-c6bcebdf96b0\",\"subtype\":\"Figure\",\"type\":\"Plot\"}},\"id\":\"3408543a-30de-4a0f-ae27-1e1d1fc912c8\",\"type\":\"ResetTool\"},{\"attributes\":{},\"id\":\"2ba0e6b1-7ccf-408d-865d-9c5ea0b5015e\",\"type\":\"LinearScale\"},{\"attributes\":{\"overlay\":{\"id\":\"6276d0a8-e972-40f6-b823-34155b10e2ea\",\"type\":\"BoxAnnotation\"},\"plot\":{\"id\":\"50ddb188-25ae-4562-b1d1-c6bcebdf96b0\",\"subtype\":\"Figure\",\"type\":\"Plot\"}},\"id\":\"c72c9174-0cae-446c-8ae4-4d97ed8c7c5f\",\"type\":\"BoxZoomTool\"},{\"attributes\":{\"dimension\":1,\"plot\":{\"id\":\"50ddb188-25ae-4562-b1d1-c6bcebdf96b0\",\"subtype\":\"Figure\",\"type\":\"Plot\"},\"ticker\":{\"id\":\"e72d0db1-93c7-4ad2-8c28-f31a2d229d71\",\"type\":\"BasicTicker\"}},\"id\":\"3abbef83-2b90-406d-a434-7963f3b2f347\",\"type\":\"Grid\"},{\"attributes\":{\"callback\":null},\"id\":\"7561c174-8f1b-4296-a445-0f062da9965a\",\"type\":\"DataRange1d\"}],\"root_ids\":[\"50ddb188-25ae-4562-b1d1-c6bcebdf96b0\"]},\"title\":\"Bokeh Application\",\"version\":\"0.12.6\"}};\n",
       "            var render_items = [{\"docid\":\"61d17178-64ef-49f6-b692-a89ed7080099\",\"elementid\":\"3301d3d2-34e6-4ef4-bd1e-445473e79f50\",\"modelid\":\"50ddb188-25ae-4562-b1d1-c6bcebdf96b0\"}];\n",
       "            \n",
       "            Bokeh.embed.embed_items(docs_json, render_items);\n",
       "          };\n",
       "          if (document.readyState != \"loading\") fn();\n",
       "          else document.addEventListener(\"DOMContentLoaded\", fn);\n",
       "        })();\n",
       "      },\n",
       "      function(Bokeh) {\n",
       "      }\n",
       "    ];\n",
       "  \n",
       "    function run_inline_js() {\n",
       "      \n",
       "      if ((window.Bokeh !== undefined) || (force === true)) {\n",
       "        for (var i = 0; i < inline_js.length; i++) {\n",
       "          inline_js[i](window.Bokeh);\n",
       "        }if (force === true) {\n",
       "          display_loaded();\n",
       "        }} else if (Date.now() < window._bokeh_timeout) {\n",
       "        setTimeout(run_inline_js, 100);\n",
       "      } else if (!window._bokeh_failed_load) {\n",
       "        console.log(\"Bokeh: BokehJS failed to load within specified timeout.\");\n",
       "        window._bokeh_failed_load = true;\n",
       "      } else if (force !== true) {\n",
       "        var cell = $(document.getElementById(\"3301d3d2-34e6-4ef4-bd1e-445473e79f50\")).parents('.cell').data().cell;\n",
       "        cell.output_area.append_execute_result(NB_LOAD_WARNING)\n",
       "      }\n",
       "  \n",
       "    }\n",
       "  \n",
       "    if (window._bokeh_is_loading === 0) {\n",
       "      console.log(\"Bokeh: BokehJS loaded, going straight to plotting\");\n",
       "      run_inline_js();\n",
       "    } else {\n",
       "      load_libs(js_urls, function() {\n",
       "        console.log(\"Bokeh: BokehJS plotting callback run at\", now());\n",
       "        run_inline_js();\n",
       "      });\n",
       "    }\n",
       "  }(this));\n",
       "</script>"
      ]
     },
     "metadata": {},
     "output_type": "display_data"
    }
   ],
   "source": [
    "p = figure(plot_width=400, plot_height=400, x_range=list(request_per_day[\"date\"]),\n",
    "          x_axis_label=\"Date\", y_axis_label=\"Count\")\n",
    "p.vbar(x=request_per_day[\"date\"], width=0.4, top=request_per_day['booking_id'])\n",
    "p.add_layout(Title(text=\"Number of requests per day\", align=\"center\", text_font_size=\"12pt\"), \"above\")\n",
    "show(p)"
   ]
  },
  {
   "cell_type": "code",
   "execution_count": 295,
   "metadata": {},
   "outputs": [],
   "source": [
    "requests_day_hour = group_per_date(first_request, \"1h\", \"datetime_utc_berlin\", \"booking_id\", \"count\")"
   ]
  },
  {
   "cell_type": "code",
   "execution_count": 296,
   "metadata": {},
   "outputs": [],
   "source": [
    "#Excluding 0's autogenerated\n",
    "requests_day_hour = requests_day_hour[~(requests_day_hour['booking_id'] == 0)]\n",
    "requests_day_hour[\"date_hour\"] = requests_day_hour['datetime_utc_berlin'].apply(lambda x: x.strftime('%H H %a'))"
   ]
  },
  {
   "cell_type": "code",
   "execution_count": 297,
   "metadata": {},
   "outputs": [
    {
     "data": {
      "text/html": [
       "\n",
       "\n",
       "    <div class=\"bk-root\">\n",
       "        <div class=\"bk-plotdiv\" id=\"6829dbdb-8d95-4595-851b-a9d02e77ae6a\"></div>\n",
       "    </div>\n",
       "<script type=\"text/javascript\">\n",
       "  \n",
       "  (function(global) {\n",
       "    function now() {\n",
       "      return new Date();\n",
       "    }\n",
       "  \n",
       "    var force = false;\n",
       "  \n",
       "    if (typeof (window._bokeh_onload_callbacks) === \"undefined\" || force === true) {\n",
       "      window._bokeh_onload_callbacks = [];\n",
       "      window._bokeh_is_loading = undefined;\n",
       "    }\n",
       "  \n",
       "  \n",
       "    \n",
       "    if (typeof (window._bokeh_timeout) === \"undefined\" || force === true) {\n",
       "      window._bokeh_timeout = Date.now() + 0;\n",
       "      window._bokeh_failed_load = false;\n",
       "    }\n",
       "  \n",
       "    var NB_LOAD_WARNING = {'data': {'text/html':\n",
       "       \"<div style='background-color: #fdd'>\\n\"+\n",
       "       \"<p>\\n\"+\n",
       "       \"BokehJS does not appear to have successfully loaded. If loading BokehJS from CDN, this \\n\"+\n",
       "       \"may be due to a slow or bad network connection. Possible fixes:\\n\"+\n",
       "       \"</p>\\n\"+\n",
       "       \"<ul>\\n\"+\n",
       "       \"<li>re-rerun `output_notebook()` to attempt to load from CDN again, or</li>\\n\"+\n",
       "       \"<li>use INLINE resources instead, as so:</li>\\n\"+\n",
       "       \"</ul>\\n\"+\n",
       "       \"<code>\\n\"+\n",
       "       \"from bokeh.resources import INLINE\\n\"+\n",
       "       \"output_notebook(resources=INLINE)\\n\"+\n",
       "       \"</code>\\n\"+\n",
       "       \"</div>\"}};\n",
       "  \n",
       "    function display_loaded() {\n",
       "      if (window.Bokeh !== undefined) {\n",
       "        var el = document.getElementById(\"6829dbdb-8d95-4595-851b-a9d02e77ae6a\");\n",
       "        el.textContent = \"BokehJS \" + Bokeh.version + \" successfully loaded.\";\n",
       "      } else if (Date.now() < window._bokeh_timeout) {\n",
       "        setTimeout(display_loaded, 100)\n",
       "      }\n",
       "    }\n",
       "  \n",
       "    function run_callbacks() {\n",
       "      try {\n",
       "        window._bokeh_onload_callbacks.forEach(function(callback) { callback() });\n",
       "      }\n",
       "      finally {\n",
       "        delete window._bokeh_onload_callbacks\n",
       "      }\n",
       "      console.info(\"Bokeh: all callbacks have finished\");\n",
       "    }\n",
       "  \n",
       "    function load_libs(js_urls, callback) {\n",
       "      window._bokeh_onload_callbacks.push(callback);\n",
       "      if (window._bokeh_is_loading > 0) {\n",
       "        console.log(\"Bokeh: BokehJS is being loaded, scheduling callback at\", now());\n",
       "        return null;\n",
       "      }\n",
       "      if (js_urls == null || js_urls.length === 0) {\n",
       "        run_callbacks();\n",
       "        return null;\n",
       "      }\n",
       "      console.log(\"Bokeh: BokehJS not loaded, scheduling load and callback at\", now());\n",
       "      window._bokeh_is_loading = js_urls.length;\n",
       "      for (var i = 0; i < js_urls.length; i++) {\n",
       "        var url = js_urls[i];\n",
       "        var s = document.createElement('script');\n",
       "        s.src = url;\n",
       "        s.async = false;\n",
       "        s.onreadystatechange = s.onload = function() {\n",
       "          window._bokeh_is_loading--;\n",
       "          if (window._bokeh_is_loading === 0) {\n",
       "            console.log(\"Bokeh: all BokehJS libraries loaded\");\n",
       "            run_callbacks()\n",
       "          }\n",
       "        };\n",
       "        s.onerror = function() {\n",
       "          console.warn(\"failed to load library \" + url);\n",
       "        };\n",
       "        console.log(\"Bokeh: injecting script tag for BokehJS library: \", url);\n",
       "        document.getElementsByTagName(\"head\")[0].appendChild(s);\n",
       "      }\n",
       "    };var element = document.getElementById(\"6829dbdb-8d95-4595-851b-a9d02e77ae6a\");\n",
       "    if (element == null) {\n",
       "      console.log(\"Bokeh: ERROR: autoload.js configured with elementid '6829dbdb-8d95-4595-851b-a9d02e77ae6a' but no matching script tag was found. \")\n",
       "      return false;\n",
       "    }\n",
       "  \n",
       "    var js_urls = [];\n",
       "  \n",
       "    var inline_js = [\n",
       "      function(Bokeh) {\n",
       "        (function() {\n",
       "          var fn = function() {\n",
       "            var docs_json = {\"23e194a5-21b1-46a2-80c9-8b5d608e14fb\":{\"roots\":{\"references\":[{\"attributes\":{\"line_color\":{\"value\":\"#1f77b4\"},\"x\":{\"field\":\"x\"},\"y\":{\"field\":\"y\"}},\"id\":\"36409b31-0269-4e33-b4de-4a2614f78914\",\"type\":\"Line\"},{\"attributes\":{\"axis_label\":\"Count\",\"formatter\":{\"id\":\"d1ae0cb3-f638-45e3-9890-a832ac693ffe\",\"type\":\"BasicTickFormatter\"},\"plot\":{\"id\":\"228c8ae1-6b36-4bdf-a1da-8cf7c6b470f4\",\"subtype\":\"Figure\",\"type\":\"Plot\"},\"ticker\":{\"id\":\"080719fc-fecb-4f96-b837-8ff7bf85c820\",\"type\":\"BasicTicker\"}},\"id\":\"3152991c-3f98-429d-bf4e-55903403660a\",\"type\":\"LinearAxis\"},{\"attributes\":{},\"id\":\"6daaf2f0-d37c-4505-a40b-1ff3703e4041\",\"type\":\"LinearScale\"},{\"attributes\":{\"above\":[{\"id\":\"c02657af-aaed-4e78-9ee4-893307b6e8b5\",\"type\":\"Title\"}],\"below\":[{\"id\":\"4626d08c-d4c8-48ec-83bf-b33f082a1bcf\",\"type\":\"CategoricalAxis\"}],\"left\":[{\"id\":\"3152991c-3f98-429d-bf4e-55903403660a\",\"type\":\"LinearAxis\"}],\"renderers\":[{\"id\":\"4626d08c-d4c8-48ec-83bf-b33f082a1bcf\",\"type\":\"CategoricalAxis\"},{\"id\":\"3376aaf9-9aaa-4bbe-891d-f02ce027936e\",\"type\":\"Grid\"},{\"id\":\"3152991c-3f98-429d-bf4e-55903403660a\",\"type\":\"LinearAxis\"},{\"id\":\"7da2a442-a67e-485d-a43f-7189db8ac111\",\"type\":\"Grid\"},{\"id\":\"64d75662-d640-4ce9-83e3-24713b9641bb\",\"type\":\"BoxAnnotation\"},{\"id\":\"b72e5f43-7798-4596-810a-183618e7e580\",\"type\":\"GlyphRenderer\"},{\"id\":\"4f5d3cdb-407c-4565-8589-6a6f717b6fe6\",\"type\":\"GlyphRenderer\"},{\"id\":\"c02657af-aaed-4e78-9ee4-893307b6e8b5\",\"type\":\"Title\"}],\"title\":{\"id\":\"198bdcd3-e41e-4748-b4c9-271235141cae\",\"type\":\"Title\"},\"tool_events\":{\"id\":\"7e18fb23-227e-4cd5-966c-1912d399bb67\",\"type\":\"ToolEvents\"},\"toolbar\":{\"id\":\"debac4ca-1a5b-4585-b2b8-490d88111efd\",\"type\":\"Toolbar\"},\"x_range\":{\"id\":\"04d0b632-0168-43d4-9daa-49947a87ccfc\",\"type\":\"FactorRange\"},\"x_scale\":{\"id\":\"b2987bc3-4cbe-42ad-b457-8aa2378f6b89\",\"type\":\"CategoricalScale\"},\"y_range\":{\"id\":\"74ef38a6-2991-4022-b994-22ed876f8bd1\",\"type\":\"DataRange1d\"},\"y_scale\":{\"id\":\"6daaf2f0-d37c-4505-a40b-1ff3703e4041\",\"type\":\"LinearScale\"}},\"id\":\"228c8ae1-6b36-4bdf-a1da-8cf7c6b470f4\",\"subtype\":\"Figure\",\"type\":\"Plot\"},{\"attributes\":{\"axis_label\":\"Date\",\"formatter\":{\"id\":\"d4ca2ce9-d691-4c46-9b00-53033eb39445\",\"type\":\"CategoricalTickFormatter\"},\"major_label_orientation\":0.7853981633974483,\"plot\":{\"id\":\"228c8ae1-6b36-4bdf-a1da-8cf7c6b470f4\",\"subtype\":\"Figure\",\"type\":\"Plot\"},\"ticker\":{\"id\":\"1a42531d-865f-4c59-b11a-951de3102731\",\"type\":\"CategoricalTicker\"}},\"id\":\"4626d08c-d4c8-48ec-83bf-b33f082a1bcf\",\"type\":\"CategoricalAxis\"},{\"attributes\":{},\"id\":\"d1ae0cb3-f638-45e3-9890-a832ac693ffe\",\"type\":\"BasicTickFormatter\"},{\"attributes\":{\"dimension\":1,\"plot\":{\"id\":\"228c8ae1-6b36-4bdf-a1da-8cf7c6b470f4\",\"subtype\":\"Figure\",\"type\":\"Plot\"},\"ticker\":{\"id\":\"080719fc-fecb-4f96-b837-8ff7bf85c820\",\"type\":\"BasicTicker\"}},\"id\":\"7da2a442-a67e-485d-a43f-7189db8ac111\",\"type\":\"Grid\"},{\"attributes\":{},\"id\":\"1a42531d-865f-4c59-b11a-951de3102731\",\"type\":\"CategoricalTicker\"},{\"attributes\":{\"bottom_units\":\"screen\",\"fill_alpha\":{\"value\":0.5},\"fill_color\":{\"value\":\"lightgrey\"},\"left_units\":\"screen\",\"level\":\"overlay\",\"line_alpha\":{\"value\":1.0},\"line_color\":{\"value\":\"black\"},\"line_dash\":[4,4],\"line_width\":{\"value\":2},\"plot\":null,\"render_mode\":\"css\",\"right_units\":\"screen\",\"top_units\":\"screen\"},\"id\":\"64d75662-d640-4ce9-83e3-24713b9641bb\",\"type\":\"BoxAnnotation\"},{\"attributes\":{\"callback\":null,\"column_names\":[\"y\",\"x\"],\"data\":{\"x\":[\"18 H Fri\",\"19 H Fri\",\"20 H Fri\",\"21 H Fri\",\"22 H Fri\",\"23 H Fri\",\"00 H Sat\",\"01 H Sat\",\"10 H Sat\",\"11 H Sat\",\"12 H Sat\",\"13 H Sat\",\"14 H Sat\",\"15 H Sat\",\"16 H Sat\",\"17 H Sat\",\"18 H Sat\",\"19 H Sat\",\"20 H Sat\",\"21 H Sat\",\"22 H Sat\",\"23 H Sat\",\"00 H Sun\",\"01 H Sun\",\"10 H Sun\",\"11 H Sun\",\"12 H Sun\",\"13 H Sun\",\"14 H Sun\",\"15 H Sun\",\"16 H Sun\",\"17 H Sun\"],\"y\":[72,66,46,53,51,49,60,70,35,34,38,40,38,38,37,23,47,53,51,46,40,43,50,56,49,37,42,43,52,35,58,49]}},\"id\":\"69f1779f-f364-4add-8479-857a1f664f2d\",\"type\":\"ColumnDataSource\"},{\"attributes\":{\"align\":\"center\",\"plot\":{\"id\":\"228c8ae1-6b36-4bdf-a1da-8cf7c6b470f4\",\"subtype\":\"Figure\",\"type\":\"Plot\"},\"text\":\"Number of requests within hour day\",\"text_font_size\":{\"value\":\"12pt\"}},\"id\":\"c02657af-aaed-4e78-9ee4-893307b6e8b5\",\"type\":\"Title\"},{\"attributes\":{\"fill_color\":{\"value\":\"#1f77b4\"},\"line_color\":{\"value\":\"#1f77b4\"},\"x\":{\"field\":\"x\"},\"y\":{\"field\":\"y\"}},\"id\":\"f9b37250-983f-475f-aa17-f0d730607015\",\"type\":\"Circle\"},{\"attributes\":{\"data_source\":{\"id\":\"69f1779f-f364-4add-8479-857a1f664f2d\",\"type\":\"ColumnDataSource\"},\"glyph\":{\"id\":\"36409b31-0269-4e33-b4de-4a2614f78914\",\"type\":\"Line\"},\"hover_glyph\":null,\"muted_glyph\":null,\"nonselection_glyph\":{\"id\":\"28bb7482-0eb1-417a-9038-899436190604\",\"type\":\"Line\"},\"selection_glyph\":null},\"id\":\"b72e5f43-7798-4596-810a-183618e7e580\",\"type\":\"GlyphRenderer\"},{\"attributes\":{\"plot\":{\"id\":\"228c8ae1-6b36-4bdf-a1da-8cf7c6b470f4\",\"subtype\":\"Figure\",\"type\":\"Plot\"},\"ticker\":{\"id\":\"1a42531d-865f-4c59-b11a-951de3102731\",\"type\":\"CategoricalTicker\"}},\"id\":\"3376aaf9-9aaa-4bbe-891d-f02ce027936e\",\"type\":\"Grid\"},{\"attributes\":{\"plot\":{\"id\":\"228c8ae1-6b36-4bdf-a1da-8cf7c6b470f4\",\"subtype\":\"Figure\",\"type\":\"Plot\"}},\"id\":\"5a4cfecf-76c6-4f88-869e-49af7a078100\",\"type\":\"WheelZoomTool\"},{\"attributes\":{},\"id\":\"d4ca2ce9-d691-4c46-9b00-53033eb39445\",\"type\":\"CategoricalTickFormatter\"},{\"attributes\":{\"overlay\":{\"id\":\"64d75662-d640-4ce9-83e3-24713b9641bb\",\"type\":\"BoxAnnotation\"},\"plot\":{\"id\":\"228c8ae1-6b36-4bdf-a1da-8cf7c6b470f4\",\"subtype\":\"Figure\",\"type\":\"Plot\"}},\"id\":\"a2f78bd2-3966-40c1-9fb8-0db1a1f6a291\",\"type\":\"BoxZoomTool\"},{\"attributes\":{},\"id\":\"b2987bc3-4cbe-42ad-b457-8aa2378f6b89\",\"type\":\"CategoricalScale\"},{\"attributes\":{},\"id\":\"7e18fb23-227e-4cd5-966c-1912d399bb67\",\"type\":\"ToolEvents\"},{\"attributes\":{\"plot\":{\"id\":\"228c8ae1-6b36-4bdf-a1da-8cf7c6b470f4\",\"subtype\":\"Figure\",\"type\":\"Plot\"}},\"id\":\"e6fbf3b3-c83b-4ca1-9c48-2de4e5c8d3c5\",\"type\":\"SaveTool\"},{\"attributes\":{\"line_alpha\":{\"value\":0.1},\"line_color\":{\"value\":\"#1f77b4\"},\"x\":{\"field\":\"x\"},\"y\":{\"field\":\"y\"}},\"id\":\"28bb7482-0eb1-417a-9038-899436190604\",\"type\":\"Line\"},{\"attributes\":{\"plot\":{\"id\":\"228c8ae1-6b36-4bdf-a1da-8cf7c6b470f4\",\"subtype\":\"Figure\",\"type\":\"Plot\"}},\"id\":\"2cfe25b2-50f4-479c-8a7d-5a7319f7565d\",\"type\":\"ResetTool\"},{\"attributes\":{\"active_drag\":\"auto\",\"active_inspect\":\"auto\",\"active_scroll\":\"auto\",\"active_tap\":\"auto\",\"tools\":[{\"id\":\"ca8c76a8-27b5-4406-86c9-6d0e50644ecf\",\"type\":\"PanTool\"},{\"id\":\"5a4cfecf-76c6-4f88-869e-49af7a078100\",\"type\":\"WheelZoomTool\"},{\"id\":\"a2f78bd2-3966-40c1-9fb8-0db1a1f6a291\",\"type\":\"BoxZoomTool\"},{\"id\":\"e6fbf3b3-c83b-4ca1-9c48-2de4e5c8d3c5\",\"type\":\"SaveTool\"},{\"id\":\"2cfe25b2-50f4-479c-8a7d-5a7319f7565d\",\"type\":\"ResetTool\"},{\"id\":\"855365fe-8f22-4767-99ed-9e323aeb9804\",\"type\":\"HelpTool\"}]},\"id\":\"debac4ca-1a5b-4585-b2b8-490d88111efd\",\"type\":\"Toolbar\"},{\"attributes\":{\"callback\":null,\"column_names\":[\"y\",\"x\"],\"data\":{\"x\":[\"18 H Fri\",\"19 H Fri\",\"20 H Fri\",\"21 H Fri\",\"22 H Fri\",\"23 H Fri\",\"00 H Sat\",\"01 H Sat\",\"10 H Sat\",\"11 H Sat\",\"12 H Sat\",\"13 H Sat\",\"14 H Sat\",\"15 H Sat\",\"16 H Sat\",\"17 H Sat\",\"18 H Sat\",\"19 H Sat\",\"20 H Sat\",\"21 H Sat\",\"22 H Sat\",\"23 H Sat\",\"00 H Sun\",\"01 H Sun\",\"10 H Sun\",\"11 H Sun\",\"12 H Sun\",\"13 H Sun\",\"14 H Sun\",\"15 H Sun\",\"16 H Sun\",\"17 H Sun\"],\"y\":[72,66,46,53,51,49,60,70,35,34,38,40,38,38,37,23,47,53,51,46,40,43,50,56,49,37,42,43,52,35,58,49]}},\"id\":\"c50b61c3-afdc-4a61-9194-61a117f0c4a9\",\"type\":\"ColumnDataSource\"},{\"attributes\":{\"plot\":{\"id\":\"228c8ae1-6b36-4bdf-a1da-8cf7c6b470f4\",\"subtype\":\"Figure\",\"type\":\"Plot\"}},\"id\":\"ca8c76a8-27b5-4406-86c9-6d0e50644ecf\",\"type\":\"PanTool\"},{\"attributes\":{\"fill_alpha\":{\"value\":0.1},\"fill_color\":{\"value\":\"#1f77b4\"},\"line_alpha\":{\"value\":0.1},\"line_color\":{\"value\":\"#1f77b4\"},\"x\":{\"field\":\"x\"},\"y\":{\"field\":\"y\"}},\"id\":\"addfcca9-068a-4cc3-aa84-60ae4f9fc01a\",\"type\":\"Circle\"},{\"attributes\":{\"callback\":null},\"id\":\"74ef38a6-2991-4022-b994-22ed876f8bd1\",\"type\":\"DataRange1d\"},{\"attributes\":{\"data_source\":{\"id\":\"c50b61c3-afdc-4a61-9194-61a117f0c4a9\",\"type\":\"ColumnDataSource\"},\"glyph\":{\"id\":\"f9b37250-983f-475f-aa17-f0d730607015\",\"type\":\"Circle\"},\"hover_glyph\":null,\"muted_glyph\":null,\"nonselection_glyph\":{\"id\":\"addfcca9-068a-4cc3-aa84-60ae4f9fc01a\",\"type\":\"Circle\"},\"selection_glyph\":null},\"id\":\"4f5d3cdb-407c-4565-8589-6a6f717b6fe6\",\"type\":\"GlyphRenderer\"},{\"attributes\":{\"plot\":{\"id\":\"228c8ae1-6b36-4bdf-a1da-8cf7c6b470f4\",\"subtype\":\"Figure\",\"type\":\"Plot\"}},\"id\":\"855365fe-8f22-4767-99ed-9e323aeb9804\",\"type\":\"HelpTool\"},{\"attributes\":{\"plot\":null,\"text\":\"\"},\"id\":\"198bdcd3-e41e-4748-b4c9-271235141cae\",\"type\":\"Title\"},{\"attributes\":{},\"id\":\"080719fc-fecb-4f96-b837-8ff7bf85c820\",\"type\":\"BasicTicker\"},{\"attributes\":{\"callback\":null,\"factors\":[\"18 H Fri\",\"19 H Fri\",\"20 H Fri\",\"21 H Fri\",\"22 H Fri\",\"23 H Fri\",\"00 H Sat\",\"01 H Sat\",\"10 H Sat\",\"11 H Sat\",\"12 H Sat\",\"13 H Sat\",\"14 H Sat\",\"15 H Sat\",\"16 H Sat\",\"17 H Sat\",\"18 H Sat\",\"19 H Sat\",\"20 H Sat\",\"21 H Sat\",\"22 H Sat\",\"23 H Sat\",\"00 H Sun\",\"01 H Sun\",\"10 H Sun\",\"11 H Sun\",\"12 H Sun\",\"13 H Sun\",\"14 H Sun\",\"15 H Sun\",\"16 H Sun\",\"17 H Sun\"]},\"id\":\"04d0b632-0168-43d4-9daa-49947a87ccfc\",\"type\":\"FactorRange\"}],\"root_ids\":[\"228c8ae1-6b36-4bdf-a1da-8cf7c6b470f4\"]},\"title\":\"Bokeh Application\",\"version\":\"0.12.6\"}};\n",
       "            var render_items = [{\"docid\":\"23e194a5-21b1-46a2-80c9-8b5d608e14fb\",\"elementid\":\"6829dbdb-8d95-4595-851b-a9d02e77ae6a\",\"modelid\":\"228c8ae1-6b36-4bdf-a1da-8cf7c6b470f4\"}];\n",
       "            \n",
       "            Bokeh.embed.embed_items(docs_json, render_items);\n",
       "          };\n",
       "          if (document.readyState != \"loading\") fn();\n",
       "          else document.addEventListener(\"DOMContentLoaded\", fn);\n",
       "        })();\n",
       "      },\n",
       "      function(Bokeh) {\n",
       "      }\n",
       "    ];\n",
       "  \n",
       "    function run_inline_js() {\n",
       "      \n",
       "      if ((window.Bokeh !== undefined) || (force === true)) {\n",
       "        for (var i = 0; i < inline_js.length; i++) {\n",
       "          inline_js[i](window.Bokeh);\n",
       "        }if (force === true) {\n",
       "          display_loaded();\n",
       "        }} else if (Date.now() < window._bokeh_timeout) {\n",
       "        setTimeout(run_inline_js, 100);\n",
       "      } else if (!window._bokeh_failed_load) {\n",
       "        console.log(\"Bokeh: BokehJS failed to load within specified timeout.\");\n",
       "        window._bokeh_failed_load = true;\n",
       "      } else if (force !== true) {\n",
       "        var cell = $(document.getElementById(\"6829dbdb-8d95-4595-851b-a9d02e77ae6a\")).parents('.cell').data().cell;\n",
       "        cell.output_area.append_execute_result(NB_LOAD_WARNING)\n",
       "      }\n",
       "  \n",
       "    }\n",
       "  \n",
       "    if (window._bokeh_is_loading === 0) {\n",
       "      console.log(\"Bokeh: BokehJS loaded, going straight to plotting\");\n",
       "      run_inline_js();\n",
       "    } else {\n",
       "      load_libs(js_urls, function() {\n",
       "        console.log(\"Bokeh: BokehJS plotting callback run at\", now());\n",
       "        run_inline_js();\n",
       "      });\n",
       "    }\n",
       "  }(this));\n",
       "</script>"
      ]
     },
     "metadata": {},
     "output_type": "display_data"
    }
   ],
   "source": [
    "#Plotting the number of requests within an hour / day\n",
    "line_fig = figure(plot_width=600, plot_height=600, x_range=list(requests_day_hour[\"date_hour\"]),\n",
    "          x_axis_label=\"Date\", y_axis_label=\"Count\")\n",
    "line_fig.line(requests_day_hour[\"date_hour\"], requests_day_hour[\"booking_id\"])\n",
    "line_fig.circle(requests_day_hour[\"date_hour\"], requests_day_hour[\"booking_id\"])\n",
    "line_fig.add_layout(Title(text=\"Number of requests within hour day\", align=\"center\", text_font_size=\"12pt\"), \"above\")\n",
    "line_fig.xaxis.major_label_orientation = pi/4\n",
    "show(line_fig)"
   ]
  },
  {
   "cell_type": "markdown",
   "metadata": {},
   "source": [
    "### Analyzing satisfied demand - rides\n",
    "\n",
    "Not all the requests of allygator are completed. Sometimes because of different circumstances (e.g. waiting times) users cancel their requests. Here I want to understand how many of the requests previously studied are actually served by the shuttle service.\n",
    "\n",
    "** Note that I can also use the other data set to obtain the total number of passengers that use the ride. **"
   ]
  },
  {
   "cell_type": "code",
   "execution_count": 265,
   "metadata": {},
   "outputs": [],
   "source": [
    "pick_up_closed = pick_drop_data[(pick_drop_data['status'] == 'closed') & (pick_drop_data['type']=='pickup')]\n",
    "drop_closed = pick_drop_data[(pick_drop_data['status'] == 'closed') & (pick_drop_data['type']=='drop')]"
   ]
  },
  {
   "cell_type": "code",
   "execution_count": 258,
   "metadata": {},
   "outputs": [],
   "source": [
    "request_pickup_closed = pd.merge(first_request, pick_up_closed, how=\"outer\", \n",
    "         indicator=True, on=\"booking_id\",\n",
    "         suffixes = [\"_req\", \"_pick_closed\"])"
   ]
  },
  {
   "cell_type": "code",
   "execution_count": 285,
   "metadata": {},
   "outputs": [],
   "source": [
    "pick_up_per_day = group_per_date(request_pickup_closed[request_pickup_closed[\"_merge\"]==\"both\"], \"1d\", \"datetime_utc_berlin_req\", \"booking_id\", \"count\")"
   ]
  },
  {
   "cell_type": "code",
   "execution_count": 293,
   "metadata": {},
   "outputs": [
    {
     "data": {
      "text/html": [
       "\n",
       "\n",
       "    <div class=\"bk-root\">\n",
       "        <div class=\"bk-plotdiv\" id=\"c39deb06-9b6a-4aee-8140-9d499349dc5b\"></div>\n",
       "    </div>\n",
       "<script type=\"text/javascript\">\n",
       "  \n",
       "  (function(global) {\n",
       "    function now() {\n",
       "      return new Date();\n",
       "    }\n",
       "  \n",
       "    var force = false;\n",
       "  \n",
       "    if (typeof (window._bokeh_onload_callbacks) === \"undefined\" || force === true) {\n",
       "      window._bokeh_onload_callbacks = [];\n",
       "      window._bokeh_is_loading = undefined;\n",
       "    }\n",
       "  \n",
       "  \n",
       "    \n",
       "    if (typeof (window._bokeh_timeout) === \"undefined\" || force === true) {\n",
       "      window._bokeh_timeout = Date.now() + 0;\n",
       "      window._bokeh_failed_load = false;\n",
       "    }\n",
       "  \n",
       "    var NB_LOAD_WARNING = {'data': {'text/html':\n",
       "       \"<div style='background-color: #fdd'>\\n\"+\n",
       "       \"<p>\\n\"+\n",
       "       \"BokehJS does not appear to have successfully loaded. If loading BokehJS from CDN, this \\n\"+\n",
       "       \"may be due to a slow or bad network connection. Possible fixes:\\n\"+\n",
       "       \"</p>\\n\"+\n",
       "       \"<ul>\\n\"+\n",
       "       \"<li>re-rerun `output_notebook()` to attempt to load from CDN again, or</li>\\n\"+\n",
       "       \"<li>use INLINE resources instead, as so:</li>\\n\"+\n",
       "       \"</ul>\\n\"+\n",
       "       \"<code>\\n\"+\n",
       "       \"from bokeh.resources import INLINE\\n\"+\n",
       "       \"output_notebook(resources=INLINE)\\n\"+\n",
       "       \"</code>\\n\"+\n",
       "       \"</div>\"}};\n",
       "  \n",
       "    function display_loaded() {\n",
       "      if (window.Bokeh !== undefined) {\n",
       "        var el = document.getElementById(\"c39deb06-9b6a-4aee-8140-9d499349dc5b\");\n",
       "        el.textContent = \"BokehJS \" + Bokeh.version + \" successfully loaded.\";\n",
       "      } else if (Date.now() < window._bokeh_timeout) {\n",
       "        setTimeout(display_loaded, 100)\n",
       "      }\n",
       "    }\n",
       "  \n",
       "    function run_callbacks() {\n",
       "      try {\n",
       "        window._bokeh_onload_callbacks.forEach(function(callback) { callback() });\n",
       "      }\n",
       "      finally {\n",
       "        delete window._bokeh_onload_callbacks\n",
       "      }\n",
       "      console.info(\"Bokeh: all callbacks have finished\");\n",
       "    }\n",
       "  \n",
       "    function load_libs(js_urls, callback) {\n",
       "      window._bokeh_onload_callbacks.push(callback);\n",
       "      if (window._bokeh_is_loading > 0) {\n",
       "        console.log(\"Bokeh: BokehJS is being loaded, scheduling callback at\", now());\n",
       "        return null;\n",
       "      }\n",
       "      if (js_urls == null || js_urls.length === 0) {\n",
       "        run_callbacks();\n",
       "        return null;\n",
       "      }\n",
       "      console.log(\"Bokeh: BokehJS not loaded, scheduling load and callback at\", now());\n",
       "      window._bokeh_is_loading = js_urls.length;\n",
       "      for (var i = 0; i < js_urls.length; i++) {\n",
       "        var url = js_urls[i];\n",
       "        var s = document.createElement('script');\n",
       "        s.src = url;\n",
       "        s.async = false;\n",
       "        s.onreadystatechange = s.onload = function() {\n",
       "          window._bokeh_is_loading--;\n",
       "          if (window._bokeh_is_loading === 0) {\n",
       "            console.log(\"Bokeh: all BokehJS libraries loaded\");\n",
       "            run_callbacks()\n",
       "          }\n",
       "        };\n",
       "        s.onerror = function() {\n",
       "          console.warn(\"failed to load library \" + url);\n",
       "        };\n",
       "        console.log(\"Bokeh: injecting script tag for BokehJS library: \", url);\n",
       "        document.getElementsByTagName(\"head\")[0].appendChild(s);\n",
       "      }\n",
       "    };var element = document.getElementById(\"c39deb06-9b6a-4aee-8140-9d499349dc5b\");\n",
       "    if (element == null) {\n",
       "      console.log(\"Bokeh: ERROR: autoload.js configured with elementid 'c39deb06-9b6a-4aee-8140-9d499349dc5b' but no matching script tag was found. \")\n",
       "      return false;\n",
       "    }\n",
       "  \n",
       "    var js_urls = [];\n",
       "  \n",
       "    var inline_js = [\n",
       "      function(Bokeh) {\n",
       "        (function() {\n",
       "          var fn = function() {\n",
       "            var docs_json = {\"7795c3cf-2a5d-46e1-87de-5b3e23ad27ba\":{\"roots\":{\"references\":[{\"attributes\":{\"fill_color\":{\"value\":\"#1f77b4\"},\"line_color\":{\"value\":\"#1f77b4\"},\"top\":{\"field\":\"top\"},\"width\":{\"value\":0.4},\"x\":{\"field\":\"x\"}},\"id\":\"06724d86-cf55-4baf-a971-b219f31ce1f0\",\"type\":\"VBar\"},{\"attributes\":{},\"id\":\"084e3a4c-cb0b-422a-9555-5af5c03aa0a4\",\"type\":\"BasicTickFormatter\"},{\"attributes\":{\"axis_label\":\"Date\",\"formatter\":{\"id\":\"f8b30d4a-4ef0-40c0-a74f-ec311be5457c\",\"type\":\"CategoricalTickFormatter\"},\"plot\":{\"id\":\"50ddb188-25ae-4562-b1d1-c6bcebdf96b0\",\"subtype\":\"Figure\",\"type\":\"Plot\"},\"ticker\":{\"id\":\"09037d60-fd00-493a-aec3-c23e263f7bb3\",\"type\":\"CategoricalTicker\"}},\"id\":\"653caf08-2c93-49ae-8794-0bf818dfe20d\",\"type\":\"CategoricalAxis\"},{\"attributes\":{\"fill_alpha\":{\"value\":0.1},\"fill_color\":{\"value\":\"#1f77b4\"},\"line_alpha\":{\"value\":0.1},\"line_color\":{\"value\":\"#1f77b4\"},\"top\":{\"field\":\"top\"},\"width\":{\"value\":0.4},\"x\":{\"field\":\"x\"}},\"id\":\"c226a512-a975-4a77-8718-32c17560d18a\",\"type\":\"VBar\"},{\"attributes\":{\"align\":\"center\",\"plot\":{\"id\":\"50ddb188-25ae-4562-b1d1-c6bcebdf96b0\",\"subtype\":\"Figure\",\"type\":\"Plot\"},\"text\":\"Number of requests per day\",\"text_font_size\":{\"value\":\"12pt\"}},\"id\":\"149eed4b-cd67-493b-9562-e36a54ee1e4c\",\"type\":\"Title\"},{\"attributes\":{\"plot\":{\"id\":\"50ddb188-25ae-4562-b1d1-c6bcebdf96b0\",\"subtype\":\"Figure\",\"type\":\"Plot\"}},\"id\":\"ad4662b5-0847-41ef-baff-8de91afd6d1b\",\"type\":\"HelpTool\"},{\"attributes\":{\"bottom_units\":\"screen\",\"fill_alpha\":{\"value\":0.5},\"fill_color\":{\"value\":\"lightgrey\"},\"left_units\":\"screen\",\"level\":\"overlay\",\"line_alpha\":{\"value\":1.0},\"line_color\":{\"value\":\"black\"},\"line_dash\":[4,4],\"line_width\":{\"value\":2},\"plot\":null,\"render_mode\":\"css\",\"right_units\":\"screen\",\"top_units\":\"screen\"},\"id\":\"6276d0a8-e972-40f6-b823-34155b10e2ea\",\"type\":\"BoxAnnotation\"},{\"attributes\":{\"plot\":null,\"text\":\"\"},\"id\":\"38381370-0dca-48cf-a0fe-1d0bf394a151\",\"type\":\"Title\"},{\"attributes\":{},\"id\":\"92d1f301-0df0-427b-bcc9-5b28419e36ba\",\"type\":\"CategoricalScale\"},{\"attributes\":{\"overlay\":{\"id\":\"6276d0a8-e972-40f6-b823-34155b10e2ea\",\"type\":\"BoxAnnotation\"},\"plot\":{\"id\":\"50ddb188-25ae-4562-b1d1-c6bcebdf96b0\",\"subtype\":\"Figure\",\"type\":\"Plot\"}},\"id\":\"c72c9174-0cae-446c-8ae4-4d97ed8c7c5f\",\"type\":\"BoxZoomTool\"},{\"attributes\":{\"fill_color\":{\"value\":\"#1f77b4\"},\"line_color\":{\"value\":\"#1f77b4\"},\"top\":{\"field\":\"top\"},\"width\":{\"value\":0.4},\"x\":{\"field\":\"x\"}},\"id\":\"3d725a54-5531-4a9c-8ea3-d7462bd81273\",\"type\":\"VBar\"},{\"attributes\":{\"axis_label\":\"Count\",\"formatter\":{\"id\":\"084e3a4c-cb0b-422a-9555-5af5c03aa0a4\",\"type\":\"BasicTickFormatter\"},\"plot\":{\"id\":\"50ddb188-25ae-4562-b1d1-c6bcebdf96b0\",\"subtype\":\"Figure\",\"type\":\"Plot\"},\"ticker\":{\"id\":\"e72d0db1-93c7-4ad2-8c28-f31a2d229d71\",\"type\":\"BasicTicker\"}},\"id\":\"8034819f-3920-4f04-8ec9-b42e1dab9720\",\"type\":\"LinearAxis\"},{\"attributes\":{\"plot\":{\"id\":\"50ddb188-25ae-4562-b1d1-c6bcebdf96b0\",\"subtype\":\"Figure\",\"type\":\"Plot\"}},\"id\":\"d2b39e1b-5ce9-492b-a4f6-06cd9f455edd\",\"type\":\"SaveTool\"},{\"attributes\":{},\"id\":\"2ba0e6b1-7ccf-408d-865d-9c5ea0b5015e\",\"type\":\"LinearScale\"},{\"attributes\":{\"above\":[{\"id\":\"149eed4b-cd67-493b-9562-e36a54ee1e4c\",\"type\":\"Title\"}],\"below\":[{\"id\":\"653caf08-2c93-49ae-8794-0bf818dfe20d\",\"type\":\"CategoricalAxis\"}],\"left\":[{\"id\":\"8034819f-3920-4f04-8ec9-b42e1dab9720\",\"type\":\"LinearAxis\"}],\"plot_height\":400,\"plot_width\":400,\"renderers\":[{\"id\":\"653caf08-2c93-49ae-8794-0bf818dfe20d\",\"type\":\"CategoricalAxis\"},{\"id\":\"d9d4856b-7a79-4679-8db9-8e3ca134a4d5\",\"type\":\"Grid\"},{\"id\":\"8034819f-3920-4f04-8ec9-b42e1dab9720\",\"type\":\"LinearAxis\"},{\"id\":\"3abbef83-2b90-406d-a434-7963f3b2f347\",\"type\":\"Grid\"},{\"id\":\"6276d0a8-e972-40f6-b823-34155b10e2ea\",\"type\":\"BoxAnnotation\"},{\"id\":\"5c814d19-2dd0-4a83-a70e-953de41bb2f2\",\"type\":\"GlyphRenderer\"},{\"id\":\"149eed4b-cd67-493b-9562-e36a54ee1e4c\",\"type\":\"Title\"},{\"id\":\"c34ee07b-60b7-4045-8996-59da371fb5cb\",\"type\":\"GlyphRenderer\"},{\"id\":\"29684b4c-fddb-45d1-8088-c3757abb6001\",\"type\":\"GlyphRenderer\"},{\"id\":\"39b6877c-0943-435a-8386-b1707396b94a\",\"type\":\"GlyphRenderer\"}],\"title\":{\"id\":\"38381370-0dca-48cf-a0fe-1d0bf394a151\",\"type\":\"Title\"},\"tool_events\":{\"id\":\"a7160a07-42df-4d92-bf55-b87286f44390\",\"type\":\"ToolEvents\"},\"toolbar\":{\"id\":\"29908278-7cf7-46fc-bf3e-52518d9feb7f\",\"type\":\"Toolbar\"},\"x_range\":{\"id\":\"23996042-c961-4e76-8fb3-1622e85d5ca9\",\"type\":\"FactorRange\"},\"x_scale\":{\"id\":\"92d1f301-0df0-427b-bcc9-5b28419e36ba\",\"type\":\"CategoricalScale\"},\"y_range\":{\"id\":\"7561c174-8f1b-4296-a445-0f062da9965a\",\"type\":\"DataRange1d\"},\"y_scale\":{\"id\":\"2ba0e6b1-7ccf-408d-865d-9c5ea0b5015e\",\"type\":\"LinearScale\"}},\"id\":\"50ddb188-25ae-4562-b1d1-c6bcebdf96b0\",\"subtype\":\"Figure\",\"type\":\"Plot\"},{\"attributes\":{\"fill_alpha\":{\"value\":0.1},\"fill_color\":{\"value\":\"#1f77b4\"},\"line_alpha\":{\"value\":0.1},\"line_color\":{\"value\":\"#1f77b4\"},\"top\":{\"field\":\"top\"},\"width\":{\"value\":0.4},\"x\":{\"field\":\"x\"}},\"id\":\"fc27e720-9969-4fdc-8830-9317bcf50e4a\",\"type\":\"VBar\"},{\"attributes\":{\"data_source\":{\"id\":\"50b98e79-15bd-4bea-82a9-f0637513557c\",\"type\":\"ColumnDataSource\"},\"glyph\":{\"id\":\"67d9d356-ea5f-412b-a5da-787f2e05be58\",\"type\":\"VBar\"},\"hover_glyph\":null,\"muted_glyph\":null,\"nonselection_glyph\":{\"id\":\"1b9b829d-fe5c-44a6-bb33-b3ec1d5dcd74\",\"type\":\"VBar\"},\"selection_glyph\":null},\"id\":\"c34ee07b-60b7-4045-8996-59da371fb5cb\",\"type\":\"GlyphRenderer\"},{\"attributes\":{\"plot\":{\"id\":\"50ddb188-25ae-4562-b1d1-c6bcebdf96b0\",\"subtype\":\"Figure\",\"type\":\"Plot\"}},\"id\":\"76de7bf9-64c8-46a0-babe-e8e1417231aa\",\"type\":\"WheelZoomTool\"},{\"attributes\":{\"plot\":{\"id\":\"50ddb188-25ae-4562-b1d1-c6bcebdf96b0\",\"subtype\":\"Figure\",\"type\":\"Plot\"}},\"id\":\"e5d88f59-88bf-4776-9bd1-da283269f72a\",\"type\":\"PanTool\"},{\"attributes\":{},\"id\":\"e72d0db1-93c7-4ad2-8c28-f31a2d229d71\",\"type\":\"BasicTicker\"},{\"attributes\":{},\"id\":\"09037d60-fd00-493a-aec3-c23e263f7bb3\",\"type\":\"CategoricalTicker\"},{\"attributes\":{\"data_source\":{\"id\":\"ea387239-d0a9-4e01-9d9d-08c855ed2bcb\",\"type\":\"ColumnDataSource\"},\"glyph\":{\"id\":\"06724d86-cf55-4baf-a971-b219f31ce1f0\",\"type\":\"VBar\"},\"hover_glyph\":null,\"muted_glyph\":null,\"nonselection_glyph\":{\"id\":\"9241667c-487e-4beb-b32e-833a84ee67a2\",\"type\":\"VBar\"},\"selection_glyph\":null},\"id\":\"29684b4c-fddb-45d1-8088-c3757abb6001\",\"type\":\"GlyphRenderer\"},{\"attributes\":{\"fill_color\":{\"value\":\"firebrick\"},\"line_color\":{\"value\":\"firebrick\"},\"top\":{\"field\":\"top\"},\"width\":{\"value\":0.4},\"x\":{\"field\":\"x\"}},\"id\":\"c2929ee1-cb99-4b16-82ec-b38d4b71762b\",\"type\":\"VBar\"},{\"attributes\":{\"plot\":{\"id\":\"50ddb188-25ae-4562-b1d1-c6bcebdf96b0\",\"subtype\":\"Figure\",\"type\":\"Plot\"}},\"id\":\"3408543a-30de-4a0f-ae27-1e1d1fc912c8\",\"type\":\"ResetTool\"},{\"attributes\":{\"data_source\":{\"id\":\"8bdbcc58-80c5-45d7-82ae-29065d0f47dd\",\"type\":\"ColumnDataSource\"},\"glyph\":{\"id\":\"c2929ee1-cb99-4b16-82ec-b38d4b71762b\",\"type\":\"VBar\"},\"hover_glyph\":null,\"muted_glyph\":null,\"nonselection_glyph\":{\"id\":\"c226a512-a975-4a77-8718-32c17560d18a\",\"type\":\"VBar\"},\"selection_glyph\":null},\"id\":\"39b6877c-0943-435a-8386-b1707396b94a\",\"type\":\"GlyphRenderer\"},{\"attributes\":{\"fill_alpha\":{\"value\":0.1},\"fill_color\":{\"value\":\"#1f77b4\"},\"line_alpha\":{\"value\":0.1},\"line_color\":{\"value\":\"#1f77b4\"},\"top\":{\"field\":\"top\"},\"width\":{\"value\":0.4},\"x\":{\"field\":\"x\"}},\"id\":\"9241667c-487e-4beb-b32e-833a84ee67a2\",\"type\":\"VBar\"},{\"attributes\":{},\"id\":\"a7160a07-42df-4d92-bf55-b87286f44390\",\"type\":\"ToolEvents\"},{\"attributes\":{\"fill_color\":{\"value\":\"#1f77b4\"},\"line_color\":{\"value\":\"#1f77b4\"},\"top\":{\"field\":\"top\"},\"width\":{\"value\":0.4},\"x\":{\"field\":\"x\"}},\"id\":\"67d9d356-ea5f-412b-a5da-787f2e05be58\",\"type\":\"VBar\"},{\"attributes\":{\"fill_alpha\":{\"value\":0.1},\"fill_color\":{\"value\":\"#1f77b4\"},\"line_alpha\":{\"value\":0.1},\"line_color\":{\"value\":\"#1f77b4\"},\"top\":{\"field\":\"top\"},\"width\":{\"value\":0.4},\"x\":{\"field\":\"x\"}},\"id\":\"1b9b829d-fe5c-44a6-bb33-b3ec1d5dcd74\",\"type\":\"VBar\"},{\"attributes\":{},\"id\":\"f8b30d4a-4ef0-40c0-a74f-ec311be5457c\",\"type\":\"CategoricalTickFormatter\"},{\"attributes\":{\"callback\":null,\"column_names\":[\"top\",\"x\"],\"data\":{\"top\":[223,485,306],\"x\":[\"Fri Jun 2017\",\"Sat Jun 2017\",\"Sun Jun 2017\"]}},\"id\":\"50b98e79-15bd-4bea-82a9-f0637513557c\",\"type\":\"ColumnDataSource\"},{\"attributes\":{\"callback\":null,\"column_names\":[\"top\",\"x\"],\"data\":{\"top\":[223,485,306],\"x\":[\"Fri Jun 2017\",\"Sat Jun 2017\",\"Sun Jun 2017\"]}},\"id\":\"ea387239-d0a9-4e01-9d9d-08c855ed2bcb\",\"type\":\"ColumnDataSource\"},{\"attributes\":{\"plot\":{\"id\":\"50ddb188-25ae-4562-b1d1-c6bcebdf96b0\",\"subtype\":\"Figure\",\"type\":\"Plot\"},\"ticker\":{\"id\":\"09037d60-fd00-493a-aec3-c23e263f7bb3\",\"type\":\"CategoricalTicker\"}},\"id\":\"d9d4856b-7a79-4679-8db9-8e3ca134a4d5\",\"type\":\"Grid\"},{\"attributes\":{\"callback\":null,\"column_names\":[\"top\",\"x\"],\"data\":{\"top\":[223,485,306],\"x\":[\"Fri Jun 2017\",\"Sat Jun 2017\",\"Sun Jun 2017\"]}},\"id\":\"8bdbcc58-80c5-45d7-82ae-29065d0f47dd\",\"type\":\"ColumnDataSource\"},{\"attributes\":{\"active_drag\":\"auto\",\"active_inspect\":\"auto\",\"active_scroll\":\"auto\",\"active_tap\":\"auto\",\"tools\":[{\"id\":\"e5d88f59-88bf-4776-9bd1-da283269f72a\",\"type\":\"PanTool\"},{\"id\":\"76de7bf9-64c8-46a0-babe-e8e1417231aa\",\"type\":\"WheelZoomTool\"},{\"id\":\"c72c9174-0cae-446c-8ae4-4d97ed8c7c5f\",\"type\":\"BoxZoomTool\"},{\"id\":\"d2b39e1b-5ce9-492b-a4f6-06cd9f455edd\",\"type\":\"SaveTool\"},{\"id\":\"3408543a-30de-4a0f-ae27-1e1d1fc912c8\",\"type\":\"ResetTool\"},{\"id\":\"ad4662b5-0847-41ef-baff-8de91afd6d1b\",\"type\":\"HelpTool\"}]},\"id\":\"29908278-7cf7-46fc-bf3e-52518d9feb7f\",\"type\":\"Toolbar\"},{\"attributes\":{\"callback\":null,\"factors\":[\"Fri Jun 2017\",\"Sat Jun 2017\",\"Sun Jun 2017\"]},\"id\":\"23996042-c961-4e76-8fb3-1622e85d5ca9\",\"type\":\"FactorRange\"},{\"attributes\":{\"callback\":null,\"column_names\":[\"top\",\"x\"],\"data\":{\"top\":[337,693,471],\"x\":[\"Fri Jun 2017\",\"Sat Jun 2017\",\"Sun Jun 2017\"]}},\"id\":\"376dc811-b7f0-4bdb-a6c0-22dc21623ab1\",\"type\":\"ColumnDataSource\"},{\"attributes\":{\"data_source\":{\"id\":\"376dc811-b7f0-4bdb-a6c0-22dc21623ab1\",\"type\":\"ColumnDataSource\"},\"glyph\":{\"id\":\"3d725a54-5531-4a9c-8ea3-d7462bd81273\",\"type\":\"VBar\"},\"hover_glyph\":null,\"muted_glyph\":null,\"nonselection_glyph\":{\"id\":\"fc27e720-9969-4fdc-8830-9317bcf50e4a\",\"type\":\"VBar\"},\"selection_glyph\":null},\"id\":\"5c814d19-2dd0-4a83-a70e-953de41bb2f2\",\"type\":\"GlyphRenderer\"},{\"attributes\":{\"dimension\":1,\"plot\":{\"id\":\"50ddb188-25ae-4562-b1d1-c6bcebdf96b0\",\"subtype\":\"Figure\",\"type\":\"Plot\"},\"ticker\":{\"id\":\"e72d0db1-93c7-4ad2-8c28-f31a2d229d71\",\"type\":\"BasicTicker\"}},\"id\":\"3abbef83-2b90-406d-a434-7963f3b2f347\",\"type\":\"Grid\"},{\"attributes\":{\"callback\":null},\"id\":\"7561c174-8f1b-4296-a445-0f062da9965a\",\"type\":\"DataRange1d\"}],\"root_ids\":[\"50ddb188-25ae-4562-b1d1-c6bcebdf96b0\"]},\"title\":\"Bokeh Application\",\"version\":\"0.12.6\"}};\n",
       "            var render_items = [{\"docid\":\"7795c3cf-2a5d-46e1-87de-5b3e23ad27ba\",\"elementid\":\"c39deb06-9b6a-4aee-8140-9d499349dc5b\",\"modelid\":\"50ddb188-25ae-4562-b1d1-c6bcebdf96b0\"}];\n",
       "            \n",
       "            Bokeh.embed.embed_items(docs_json, render_items);\n",
       "          };\n",
       "          if (document.readyState != \"loading\") fn();\n",
       "          else document.addEventListener(\"DOMContentLoaded\", fn);\n",
       "        })();\n",
       "      },\n",
       "      function(Bokeh) {\n",
       "      }\n",
       "    ];\n",
       "  \n",
       "    function run_inline_js() {\n",
       "      \n",
       "      if ((window.Bokeh !== undefined) || (force === true)) {\n",
       "        for (var i = 0; i < inline_js.length; i++) {\n",
       "          inline_js[i](window.Bokeh);\n",
       "        }if (force === true) {\n",
       "          display_loaded();\n",
       "        }} else if (Date.now() < window._bokeh_timeout) {\n",
       "        setTimeout(run_inline_js, 100);\n",
       "      } else if (!window._bokeh_failed_load) {\n",
       "        console.log(\"Bokeh: BokehJS failed to load within specified timeout.\");\n",
       "        window._bokeh_failed_load = true;\n",
       "      } else if (force !== true) {\n",
       "        var cell = $(document.getElementById(\"c39deb06-9b6a-4aee-8140-9d499349dc5b\")).parents('.cell').data().cell;\n",
       "        cell.output_area.append_execute_result(NB_LOAD_WARNING)\n",
       "      }\n",
       "  \n",
       "    }\n",
       "  \n",
       "    if (window._bokeh_is_loading === 0) {\n",
       "      console.log(\"Bokeh: BokehJS loaded, going straight to plotting\");\n",
       "      run_inline_js();\n",
       "    } else {\n",
       "      load_libs(js_urls, function() {\n",
       "        console.log(\"Bokeh: BokehJS plotting callback run at\", now());\n",
       "        run_inline_js();\n",
       "      });\n",
       "    }\n",
       "  }(this));\n",
       "</script>"
      ]
     },
     "metadata": {},
     "output_type": "display_data"
    }
   ],
   "source": [
    "p.vbar(x=request_per_day[\"date\"], width=0.4, top=pick_up_per_day['booking_id'], color=\"firebrick\")\n",
    "show(p)"
   ]
  },
  {
   "cell_type": "code",
   "execution_count": null,
   "metadata": {
    "collapsed": true
   },
   "outputs": [],
   "source": []
  }
 ],
 "metadata": {
  "kernelspec": {
   "display_name": "Python 3",
   "language": "python",
   "name": "python3"
  },
  "language_info": {
   "codemirror_mode": {
    "name": "ipython",
    "version": 3
   },
   "file_extension": ".py",
   "mimetype": "text/x-python",
   "name": "python",
   "nbconvert_exporter": "python",
   "pygments_lexer": "ipython3",
   "version": "3.5.4"
  }
 },
 "nbformat": 4,
 "nbformat_minor": 2
}
