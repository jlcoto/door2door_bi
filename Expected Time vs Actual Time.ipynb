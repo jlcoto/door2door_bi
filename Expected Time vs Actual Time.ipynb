{
 "cells": [
  {
   "cell_type": "code",
   "execution_count": 59,
   "metadata": {},
   "outputs": [
    {
     "data": {
      "text/html": [
       "\n",
       "    <div class=\"bk-root\">\n",
       "        <a href=\"http://bokeh.pydata.org\" target=\"_blank\" class=\"bk-logo bk-logo-small bk-logo-notebook\"></a>\n",
       "        <span id=\"3daea055-488e-4e32-9d95-4b4ef550bb70\">Loading BokehJS ...</span>\n",
       "    </div>"
      ]
     },
     "metadata": {},
     "output_type": "display_data"
    },
    {
     "data": {
      "application/javascript": [
       "\n",
       "(function(global) {\n",
       "  function now() {\n",
       "    return new Date();\n",
       "  }\n",
       "\n",
       "  var force = true;\n",
       "\n",
       "  if (typeof (window._bokeh_onload_callbacks) === \"undefined\" || force === true) {\n",
       "    window._bokeh_onload_callbacks = [];\n",
       "    window._bokeh_is_loading = undefined;\n",
       "  }\n",
       "\n",
       "\n",
       "  \n",
       "  if (typeof (window._bokeh_timeout) === \"undefined\" || force === true) {\n",
       "    window._bokeh_timeout = Date.now() + 5000;\n",
       "    window._bokeh_failed_load = false;\n",
       "  }\n",
       "\n",
       "  var NB_LOAD_WARNING = {'data': {'text/html':\n",
       "     \"<div style='background-color: #fdd'>\\n\"+\n",
       "     \"<p>\\n\"+\n",
       "     \"BokehJS does not appear to have successfully loaded. If loading BokehJS from CDN, this \\n\"+\n",
       "     \"may be due to a slow or bad network connection. Possible fixes:\\n\"+\n",
       "     \"</p>\\n\"+\n",
       "     \"<ul>\\n\"+\n",
       "     \"<li>re-rerun `output_notebook()` to attempt to load from CDN again, or</li>\\n\"+\n",
       "     \"<li>use INLINE resources instead, as so:</li>\\n\"+\n",
       "     \"</ul>\\n\"+\n",
       "     \"<code>\\n\"+\n",
       "     \"from bokeh.resources import INLINE\\n\"+\n",
       "     \"output_notebook(resources=INLINE)\\n\"+\n",
       "     \"</code>\\n\"+\n",
       "     \"</div>\"}};\n",
       "\n",
       "  function display_loaded() {\n",
       "    if (window.Bokeh !== undefined) {\n",
       "      var el = document.getElementById(\"3daea055-488e-4e32-9d95-4b4ef550bb70\");\n",
       "      el.textContent = \"BokehJS \" + Bokeh.version + \" successfully loaded.\";\n",
       "    } else if (Date.now() < window._bokeh_timeout) {\n",
       "      setTimeout(display_loaded, 100)\n",
       "    }\n",
       "  }\n",
       "\n",
       "  function run_callbacks() {\n",
       "    try {\n",
       "      window._bokeh_onload_callbacks.forEach(function(callback) { callback() });\n",
       "    }\n",
       "    finally {\n",
       "      delete window._bokeh_onload_callbacks\n",
       "    }\n",
       "    console.info(\"Bokeh: all callbacks have finished\");\n",
       "  }\n",
       "\n",
       "  function load_libs(js_urls, callback) {\n",
       "    window._bokeh_onload_callbacks.push(callback);\n",
       "    if (window._bokeh_is_loading > 0) {\n",
       "      console.log(\"Bokeh: BokehJS is being loaded, scheduling callback at\", now());\n",
       "      return null;\n",
       "    }\n",
       "    if (js_urls == null || js_urls.length === 0) {\n",
       "      run_callbacks();\n",
       "      return null;\n",
       "    }\n",
       "    console.log(\"Bokeh: BokehJS not loaded, scheduling load and callback at\", now());\n",
       "    window._bokeh_is_loading = js_urls.length;\n",
       "    for (var i = 0; i < js_urls.length; i++) {\n",
       "      var url = js_urls[i];\n",
       "      var s = document.createElement('script');\n",
       "      s.src = url;\n",
       "      s.async = false;\n",
       "      s.onreadystatechange = s.onload = function() {\n",
       "        window._bokeh_is_loading--;\n",
       "        if (window._bokeh_is_loading === 0) {\n",
       "          console.log(\"Bokeh: all BokehJS libraries loaded\");\n",
       "          run_callbacks()\n",
       "        }\n",
       "      };\n",
       "      s.onerror = function() {\n",
       "        console.warn(\"failed to load library \" + url);\n",
       "      };\n",
       "      console.log(\"Bokeh: injecting script tag for BokehJS library: \", url);\n",
       "      document.getElementsByTagName(\"head\")[0].appendChild(s);\n",
       "    }\n",
       "  };var element = document.getElementById(\"3daea055-488e-4e32-9d95-4b4ef550bb70\");\n",
       "  if (element == null) {\n",
       "    console.log(\"Bokeh: ERROR: autoload.js configured with elementid '3daea055-488e-4e32-9d95-4b4ef550bb70' but no matching script tag was found. \")\n",
       "    return false;\n",
       "  }\n",
       "\n",
       "  var js_urls = [\"https://cdn.pydata.org/bokeh/release/bokeh-0.12.6.min.js\", \"https://cdn.pydata.org/bokeh/release/bokeh-widgets-0.12.6.min.js\"];\n",
       "\n",
       "  var inline_js = [\n",
       "    function(Bokeh) {\n",
       "      Bokeh.set_log_level(\"info\");\n",
       "    },\n",
       "    \n",
       "    function(Bokeh) {\n",
       "      \n",
       "    },\n",
       "    \n",
       "    function(Bokeh) {\n",
       "      \n",
       "      document.getElementById(\"3daea055-488e-4e32-9d95-4b4ef550bb70\").textContent = \"BokehJS is loading...\";\n",
       "    },\n",
       "    function(Bokeh) {\n",
       "      console.log(\"Bokeh: injecting CSS: https://cdn.pydata.org/bokeh/release/bokeh-0.12.6.min.css\");\n",
       "      Bokeh.embed.inject_css(\"https://cdn.pydata.org/bokeh/release/bokeh-0.12.6.min.css\");\n",
       "      console.log(\"Bokeh: injecting CSS: https://cdn.pydata.org/bokeh/release/bokeh-widgets-0.12.6.min.css\");\n",
       "      Bokeh.embed.inject_css(\"https://cdn.pydata.org/bokeh/release/bokeh-widgets-0.12.6.min.css\");\n",
       "    }\n",
       "  ];\n",
       "\n",
       "  function run_inline_js() {\n",
       "    \n",
       "    if ((window.Bokeh !== undefined) || (force === true)) {\n",
       "      for (var i = 0; i < inline_js.length; i++) {\n",
       "        inline_js[i](window.Bokeh);\n",
       "      }if (force === true) {\n",
       "        display_loaded();\n",
       "      }} else if (Date.now() < window._bokeh_timeout) {\n",
       "      setTimeout(run_inline_js, 100);\n",
       "    } else if (!window._bokeh_failed_load) {\n",
       "      console.log(\"Bokeh: BokehJS failed to load within specified timeout.\");\n",
       "      window._bokeh_failed_load = true;\n",
       "    } else if (force !== true) {\n",
       "      var cell = $(document.getElementById(\"3daea055-488e-4e32-9d95-4b4ef550bb70\")).parents('.cell').data().cell;\n",
       "      cell.output_area.append_execute_result(NB_LOAD_WARNING)\n",
       "    }\n",
       "\n",
       "  }\n",
       "\n",
       "  if (window._bokeh_is_loading === 0) {\n",
       "    console.log(\"Bokeh: BokehJS loaded, going straight to plotting\");\n",
       "    run_inline_js();\n",
       "  } else {\n",
       "    load_libs(js_urls, function() {\n",
       "      console.log(\"Bokeh: BokehJS plotting callback run at\", now());\n",
       "      run_inline_js();\n",
       "    });\n",
       "  }\n",
       "}(this));"
      ]
     },
     "metadata": {},
     "output_type": "display_data"
    }
   ],
   "source": [
    "import datetime\n",
    "import numpy as np\n",
    "import pandas as pd\n",
    "import matplotlib.pyplot as plt\n",
    "import seaborn as sns\n",
    "from bokeh.plotting import figure, output_file, show, ColumnDataSource\n",
    "from bokeh.io import output_notebook, export_svgs\n",
    "from bokeh.models import Title, HoverTool, Legend, LinearColorMapper, ColorBar, BasicTicker, Range1d, Label, Div\n",
    "from bokeh.layouts import row, column, gridplot\n",
    "from math import pi\n",
    "output_notebook()\n",
    "%matplotlib inline"
   ]
  },
  {
   "cell_type": "markdown",
   "metadata": {},
   "source": [
    "# Expected Time vs. Actual Time\n",
    "\n",
    "In this notebook we will respond the question on how to measure and to report the expected time vs. actual time differences. In particular, we will propose an indicator that is clear and simple enought to capture the differences between these two measures."
   ]
  },
  {
   "cell_type": "code",
   "execution_count": 2,
   "metadata": {},
   "outputs": [],
   "source": [
    "pick_drop = pd.read_pickle('data/pick_drop_data')\n",
    "booking_data = pd.read_pickle('data/bookings_data')"
   ]
  },
  {
   "cell_type": "code",
   "execution_count": 3,
   "metadata": {},
   "outputs": [
    {
     "data": {
      "text/plain": [
       "2110"
      ]
     },
     "execution_count": 3,
     "metadata": {},
     "output_type": "execute_result"
    }
   ],
   "source": [
    "pick_drop[\"actual_time_utc_berlin\"].notnull().sum()"
   ]
  },
  {
   "cell_type": "code",
   "execution_count": 4,
   "metadata": {},
   "outputs": [
    {
     "data": {
      "text/plain": [
       "1098"
      ]
     },
     "execution_count": 4,
     "metadata": {},
     "output_type": "execute_result"
    }
   ],
   "source": [
    "((pick_drop[\"actual_time_utc_berlin\"].notnull()) &  (pick_drop[\"type\"] == \"pickup\")).sum()"
   ]
  },
  {
   "cell_type": "code",
   "execution_count": 5,
   "metadata": {},
   "outputs": [
    {
     "data": {
      "text/plain": [
       "1012"
      ]
     },
     "execution_count": 5,
     "metadata": {},
     "output_type": "execute_result"
    }
   ],
   "source": [
    "((pick_drop[\"actual_time_utc_berlin\"].notnull()) &  (pick_drop[\"type\"] == \"dropoff\")).sum()"
   ]
  },
  {
   "cell_type": "markdown",
   "metadata": {},
   "source": [
    "Checking our data, we notice that there are a total of 2110 observations in our `pick_drop` data set that have an actual time of pick up. Note that this can be further divided in pick ups and drops offs. \n",
    "\n",
    "A first thing we notice here is that there are more pick ups than closed services. In our exploratory analysis we saw that we had 1014 closed pick up services and 1012 closed drop off services. What could explain this difference?\n",
    "\n",
    "In what follows, we show that the difference is related to the cases when the driver itself has cancelled the service. To prove this, we get first the cases of the `pick_drop` data set where there exist a pick up, an actual time and the service was cancelled. We compare the `booking_id` with that of the `booking_data` for the cases where the driver decided to cancel the service. We notice that there are no differences at all, meaning that the cancel pick ups with actual time corresponds to cases where driver cancelled the service."
   ]
  },
  {
   "cell_type": "code",
   "execution_count": 6,
   "metadata": {},
   "outputs": [
    {
     "data": {
      "text/plain": [
       "set()"
      ]
     },
     "execution_count": 6,
     "metadata": {},
     "output_type": "execute_result"
    }
   ],
   "source": [
    "bookings_pick_up_canceled = pick_drop[pick_drop[\"actual_time_utc_berlin\"].notnull() &  \n",
    "                                      (pick_drop[\"type\"] == \"pickup\") & \n",
    "                                      (pick_drop[\"status\"] == \"cancelled\")]\n",
    "bookings_driver_cancelled = booking_data[booking_data['cancelled_by'] == 'driver']\n",
    "set(bookings_pick_up_canceled['booking_id']).difference(set(bookings_driver_cancelled['booking_id']))"
   ]
  },
  {
   "cell_type": "markdown",
   "metadata": {},
   "source": [
    "### Should cancelled pick ups be part of the analysis?\n",
    "\n",
    "While this might be a point for discussion, we think that cancelled pick ups should not be part of the expected time vs. actual time analysis. We believe that the cancelled pick ups by the driver might have other motivations (user was never in the place, user forgot to cancel service, etc) than waiting. \n",
    "\n",
    "In this sense, the actual vs. expected time analysis wants to deal with how the difference affect the service experience. If there was no service to the user to begin with and no waiting time, it is difficult to see how this has affected the quality of the service. We decide, therefore, to exclude these points from our analysis."
   ]
  },
  {
   "cell_type": "code",
   "execution_count": 7,
   "metadata": {},
   "outputs": [],
   "source": [
    "exp_act_time = pick_drop[(pick_drop[\"actual_time_utc_berlin\"].notnull()) \n",
    "          & ~(pick_drop[\"status\"] == \"cancelled\")].reset_index()"
   ]
  },
  {
   "cell_type": "code",
   "execution_count": 8,
   "metadata": {},
   "outputs": [],
   "source": [
    "#Finding time differences\n",
    "def diff(row,t1,t2):\n",
    "    \"\"\"\n",
    "    t1: Timestamp object.\n",
    "    t2: Timestamp oject.\n",
    "    \"\"\"\n",
    "    d = row[t1]-row[t2]\n",
    "    diff_seconds = d.total_seconds()\n",
    "    return diff_seconds"
   ]
  },
  {
   "cell_type": "code",
   "execution_count": 9,
   "metadata": {},
   "outputs": [],
   "source": [
    "exp_act_time.loc[:,\"time_diff\"] = exp_act_time.apply(diff, t1='actual_time_utc_berlin', \n",
    "                                                     t2='estimated_time_utc_berlin', axis=1)"
   ]
  },
  {
   "cell_type": "code",
   "execution_count": 10,
   "metadata": {},
   "outputs": [],
   "source": [
    "def print_stats(df, column):\n",
    "    total_hours_diff = df[column].sum() / (60*60)\n",
    "    avg_total_hours_diff = df[column].sum() / len(exp_act_time)\n",
    "    sd_total_hours_diff = df[column].std()\n",
    "    print(\"Total difference (hours): {:.3f}\".format(total_hours_diff))\n",
    "    print(\"Average (seconds): {:.3f}\".format(avg_total_hours_diff))\n",
    "    print(\"Standard deviation (seconds): {:.3f}\".format(sd_total_hours_diff))\n",
    "\n"
   ]
  },
  {
   "cell_type": "code",
   "execution_count": 11,
   "metadata": {},
   "outputs": [
    {
     "name": "stdout",
     "output_type": "stream",
     "text": [
      "Total difference (hours): 31.382\n",
      "Average (seconds): 55.762\n",
      "Standard deviation (seconds): 254.066\n"
     ]
    }
   ],
   "source": [
    "print_stats(exp_act_time,\"time_diff\")"
   ]
  },
  {
   "cell_type": "code",
   "execution_count": 12,
   "metadata": {
    "collapsed": true
   },
   "outputs": [],
   "source": [
    "#Passing time difference to minutes\n",
    "exp_act_time[\"time_diff_min\"] = exp_act_time[\"time_diff\"]/60"
   ]
  },
  {
   "cell_type": "code",
   "execution_count": 13,
   "metadata": {},
   "outputs": [
    {
     "data": {
      "image/png": "[encoded data removed]",
      "text/plain": [
       "<matplotlib.figure.Figure at 0x114e13898>"
      ]
     },
     "metadata": {},
     "output_type": "display_data"
    }
   ],
   "source": [
    "#Plotting distribution of expected vs. actual difference\n",
    "fig, ax = plt.subplots(figsize=(10,5))\n",
    "sns.distplot(exp_act_time[\"time_diff_min\"], kde=False, ax=ax)\n",
    "ax.set_xlabel(\"Time difference\")\n",
    "ax.set_ylabel(\"Counts minutes\")\n",
    "ax.set_title(\"Distribution of difference \\n Actual Time Expected Time (minutes)\")\n",
    "ax.axvline(0, color=\"#44999E\", linestyle='--');"
   ]
  },
  {
   "cell_type": "markdown",
   "metadata": {},
   "source": [
    "Looking at the distribution of total seconds difference between actual time and expected time, we see that this has a somewhat of a bell shape. Note, however, that the distribution tends to be shifted towards the positive values. This explains why the total sum is positive (31 hours difference in total approx). \n",
    "\n",
    "As an additional, there are some outliers worth mentioning. For example, the case with the highest difference between both values is almost an hour: 58 minutes, 53 seconds.\n",
    "\n",
    "The average difference between both measures is not bad. In total we have that approximately there is a 55 second differences. However, the standard deviation tells us that this distribution is quite spread. Therefore, it is important to understand well the cases when there is a mismatch between actual and expected time."
   ]
  },
  {
   "cell_type": "code",
   "execution_count": 14,
   "metadata": {
    "collapsed": true
   },
   "outputs": [],
   "source": [
    "def get_thresholds_groups(df, column):\n",
    "    df[\"time_thresholds\"] = pd.cut(df[column], [-100,-7,-3,0,3,7,100])\n",
    "    #Check that cut do not generate empty cells (so every observation is within a category)\n",
    "    if df[\"time_thresholds\"].isnull().sum() == 0:\n",
    "        group_threshold = df.groupby(\"time_thresholds\")['booking_id'].aggregate(lambda x: len(x) / len(df)).reset_index()\n",
    "        group_threshold = group_threshold.rename(columns={\"booking_id\": \"pct\"})\n",
    "        colors = [\"#E43216\", \"#E4E02C\", \"#459E0F\"]\n",
    "        colors.extend(colors[::-1])\n",
    "        group_threshold[\"colors\"] = colors\n",
    "        return group_threshold\n",
    "\n",
    "def get_region_threshold_groups(df, column):\n",
    "    colors_dict = {\"#E43216\":\"red\", \"#E4E02C\":\"yellow\", \"#459E0F\":\"green\"}\n",
    "    region_group = df.groupby(column).agg({'pct': np.sum}).reset_index()\n",
    "    region_group[\"thresholds\"] = region_group[\"colors\"].map(lambda x: colors_dict[x])\n",
    "    region_group[\"thresholds\"] = pd.Categorical(region_group[\"thresholds\"], [\"green\", \"yellow\", \"red\"])\n",
    "    #Getting extra index for easier plotting \n",
    "    region_group = region_group.sort_values(by=\"thresholds\").reset_index()\n",
    "    region_group[\"thresholds\"] = region_group[\"thresholds\"].astype(object)\n",
    "    return region_group"
   ]
  },
  {
   "cell_type": "code",
   "execution_count": 15,
   "metadata": {
    "collapsed": true
   },
   "outputs": [],
   "source": [
    "def plot_horizontal_time_thresholds(df, plot_w, plot_h, pct_column, colors_column, title):\n",
    "    \n",
    "    p = figure(plot_width=plot_w, plot_height=plot_h)\n",
    "\n",
    "    #Cases where actual time less than expected time\n",
    "    perct_neg_acc = 0\n",
    "    for i in list(range(0,3))[::-1]:\n",
    "        p.hbar(y=1, height=0.3, left=-df[pct_column][i] + perct_neg_acc,\n",
    "           right=perct_neg_acc, color=df[colors_column][i] )\n",
    "        p.line(x=[perct_neg_acc, perct_neg_acc], y=[0.5, 1.5], line_width=2, color=\"#AAB2A5\", line_dash=\"dashed\")\n",
    "        perct_neg_acc -= df[pct_column][i]\n",
    "    \n",
    "    #Cases where expected time less than actual time    \n",
    "    perc_pos_acc = 0\n",
    "    for i in list(range(3,6)):\n",
    "        p.hbar(y=1, height=0.3, left=perc_pos_acc,\n",
    "           right = df[pct_column][i] + perc_pos_acc, color=df[colors_column][i])\n",
    "        p.line(x=[perc_pos_acc, perc_pos_acc], y=[0.5, 1.5], line_width=2, color=\"#AAB2A5\", line_dash=\"dashed\")\n",
    "        perc_pos_acc += df[pct_column][i]\n",
    "        \n",
    "    p.y_range = Range1d(0, 2)\n",
    "    p.add_layout(Title(text=title, align=\"center\", text_font_size=\"10pt\"), \n",
    "             \"above\")\n",
    "    p.xgrid.grid_line_color = None\n",
    "    p.ygrid.grid_line_color = None\n",
    "    p.yaxis.visible = False\n",
    "    return p"
   ]
  },
  {
   "cell_type": "code",
   "execution_count": 16,
   "metadata": {
    "collapsed": true
   },
   "outputs": [],
   "source": [
    "def plot_total_pct_thresholds(df, plot_w, plot_h, index_col,  pct_column, color_column, title):\n",
    "\n",
    "    source = ColumnDataSource(df)    \n",
    "    hover = HoverTool(tooltips=[\n",
    "        (\"pct\", \"@\"+ pct_column +\"{(0.00%)}\")\n",
    "    ])\n",
    "\n",
    "    total_perc = figure(plot_width=plot_w, plot_height=plot_h, tools=[hover])\n",
    "    total_perc.add_layout(Title(text=title, align=\"center\", text_font_size=\"10pt\"), \n",
    "             \"above\")\n",
    "\n",
    "    total_perc.vbar(x=index_col, top=pct_column, color=color_column, source= source, width=0.6)\n",
    "    \n",
    "    return total_perc"
   ]
  },
  {
   "cell_type": "code",
   "execution_count": 17,
   "metadata": {},
   "outputs": [],
   "source": [
    "group_threshold = get_thresholds_groups(exp_act_time, \"time_diff_min\")\n",
    "region_group = get_region_threshold_groups(group_threshold, \"colors\")"
   ]
  },
  {
   "cell_type": "code",
   "execution_count": 51,
   "metadata": {},
   "outputs": [
    {
     "data": {
      "text/html": [
       "\n",
       "\n",
       "    <div class=\"bk-root\">\n",
       "        <div class=\"bk-plotdiv\" id=\"2c105393-c389-4c18-bbdc-4aa5f34050d9\"></div>\n",
       "    </div>\n",
       "<script type=\"text/javascript\">\n",
       "  \n",
       "  (function(global) {\n",
       "    function now() {\n",
       "      return new Date();\n",
       "    }\n",
       "  \n",
       "    var force = false;\n",
       "  \n",
       "    if (typeof (window._bokeh_onload_callbacks) === \"undefined\" || force === true) {\n",
       "      window._bokeh_onload_callbacks = [];\n",
       "      window._bokeh_is_loading = undefined;\n",
       "    }\n",
       "  \n",
       "  \n",
       "    \n",
       "    if (typeof (window._bokeh_timeout) === \"undefined\" || force === true) {\n",
       "      window._bokeh_timeout = Date.now() + 0;\n",
       "      window._bokeh_failed_load = false;\n",
       "    }\n",
       "  \n",
       "    var NB_LOAD_WARNING = {'data': {'text/html':\n",
       "       \"<div style='background-color: #fdd'>\\n\"+\n",
       "       \"<p>\\n\"+\n",
       "       \"BokehJS does not appear to have successfully loaded. If loading BokehJS from CDN, this \\n\"+\n",
       "       \"may be due to a slow or bad network connection. Possible fixes:\\n\"+\n",
       "       \"</p>\\n\"+\n",
       "       \"<ul>\\n\"+\n",
       "       \"<li>re-rerun `output_notebook()` to attempt to load from CDN again, or</li>\\n\"+\n",
       "       \"<li>use INLINE resources instead, as so:</li>\\n\"+\n",
       "       \"</ul>\\n\"+\n",
       "       \"<code>\\n\"+\n",
       "       \"from bokeh.resources import INLINE\\n\"+\n",
       "       \"output_notebook(resources=INLINE)\\n\"+\n",
       "       \"</code>\\n\"+\n",
       "       \"</div>\"}};\n",
       "  \n",
       "    function display_loaded() {\n",
       "      if (window.Bokeh !== undefined) {\n",
       "        var el = document.getElementById(\"2c105393-c389-4c18-bbdc-4aa5f34050d9\");\n",
       "        el.textContent = \"BokehJS \" + Bokeh.version + \" successfully loaded.\";\n",
       "      } else if (Date.now() < window._bokeh_timeout) {\n",
       "        setTimeout(display_loaded, 100)\n",
       "      }\n",
       "    }\n",
       "  \n",
       "    function run_callbacks() {\n",
       "      try {\n",
       "        window._bokeh_onload_callbacks.forEach(function(callback) { callback() });\n",
       "      }\n",
       "      finally {\n",
       "        delete window._bokeh_onload_callbacks\n",
       "      }\n",
       "      console.info(\"Bokeh: all callbacks have finished\");\n",
       "    }\n",
       "  \n",
       "    function load_libs(js_urls, callback) {\n",
       "      window._bokeh_onload_callbacks.push(callback);\n",
       "      if (window._bokeh_is_loading > 0) {\n",
       "        console.log(\"Bokeh: BokehJS is being loaded, scheduling callback at\", now());\n",
       "        return null;\n",
       "      }\n",
       "      if (js_urls == null || js_urls.length === 0) {\n",
       "        run_callbacks();\n",
       "        return null;\n",
       "      }\n",
       "      console.log(\"Bokeh: BokehJS not loaded, scheduling load and callback at\", now());\n",
       "      window._bokeh_is_loading = js_urls.length;\n",
       "      for (var i = 0; i < js_urls.length; i++) {\n",
       "        var url = js_urls[i];\n",
       "        var s = document.createElement('script');\n",
       "        s.src = url;\n",
       "        s.async = false;\n",
       "        s.onreadystatechange = s.onload = function() {\n",
       "          window._bokeh_is_loading--;\n",
       "          if (window._bokeh_is_loading === 0) {\n",
       "            console.log(\"Bokeh: all BokehJS libraries loaded\");\n",
       "            run_callbacks()\n",
       "          }\n",
       "        };\n",
       "        s.onerror = function() {\n",
       "          console.warn(\"failed to load library \" + url);\n",
       "        };\n",
       "        console.log(\"Bokeh: injecting script tag for BokehJS library: \", url);\n",
       "        document.getElementsByTagName(\"head\")[0].appendChild(s);\n",
       "      }\n",
       "    };var element = document.getElementById(\"2c105393-c389-4c18-bbdc-4aa5f34050d9\");\n",
       "    if (element == null) {\n",
       "      console.log(\"Bokeh: ERROR: autoload.js configured with elementid '2c105393-c389-4c18-bbdc-4aa5f34050d9' but no matching script tag was found. \")\n",
       "      return false;\n",
       "    }\n",
       "  \n",
       "    var js_urls = [];\n",
       "  \n",
       "    var inline_js = [\n",
       "      function(Bokeh) {\n",
       "        (function() {\n",
       "          var fn = function() {\n",
       "            var docs_json = {\"a443759e-2e18-4aac-849b-d1697b651ee7\":{\"roots\":{\"references\":[{\"attributes\":{\"callback\":null,\"plot\":{\"id\":\"43bdba38-8223-48e1-9be4-9d13ffb0fdb9\",\"subtype\":\"Figure\",\"type\":\"Plot\"},\"tooltips\":[[\"pct\",\"@pct{(0.00%)}\"]]},\"id\":\"b03130d4-3e8d-4129-b6a1-cf66e3dc3a4a\",\"type\":\"HoverTool\"},{\"attributes\":{\"bottom_units\":\"screen\",\"fill_alpha\":{\"value\":0.5},\"fill_color\":{\"value\":\"lightgrey\"},\"left_units\":\"screen\",\"level\":\"overlay\",\"line_alpha\":{\"value\":1.0},\"line_color\":{\"value\":\"black\"},\"line_dash\":[4,4],\"line_width\":{\"value\":2},\"plot\":null,\"render_mode\":\"css\",\"right_units\":\"screen\",\"top_units\":\"screen\"},\"id\":\"c652d53c-13c6-4995-a400-3c68146c9bca\",\"type\":\"BoxAnnotation\"},{\"attributes\":{\"data_source\":{\"id\":\"8acb076b-9b14-4ad0-b833-5eb45932a537\",\"type\":\"ColumnDataSource\"},\"glyph\":{\"id\":\"aafff5c7-f44c-45f7-a919-2286a61efe6b\",\"type\":\"Line\"},\"hover_glyph\":null,\"muted_glyph\":null,\"nonselection_glyph\":{\"id\":\"480da30c-df06-4df1-9005-de4be6e2f733\",\"type\":\"Line\"},\"selection_glyph\":null},\"id\":\"fe4ae2a9-70c7-4877-86f9-5fd9972b2bb1\",\"type\":\"GlyphRenderer\"},{\"attributes\":{\"data_source\":{\"id\":\"697c8dd5-807d-4e29-9f89-525cdcdac3ea\",\"type\":\"ColumnDataSource\"},\"glyph\":{\"id\":\"9a8870a2-16f6-49c9-8a9a-b083d52024ad\",\"type\":\"HBar\"},\"hover_glyph\":null,\"muted_glyph\":null,\"nonselection_glyph\":{\"id\":\"eb5c9b09-d676-4309-9266-1d04edc7feef\",\"type\":\"HBar\"},\"selection_glyph\":null},\"id\":\"8d5aa2f9-a0cc-4712-8673-4180feb06bdb\",\"type\":\"GlyphRenderer\"},{\"attributes\":{\"callback\":null,\"data\":{}},\"id\":\"940cba07-2e61-4e11-8408-15d7145b7339\",\"type\":\"ColumnDataSource\"},{\"attributes\":{\"callback\":null,\"end\":2},\"id\":\"4b2bf15c-ab26-4539-bde3-40ba8d635b7e\",\"type\":\"Range1d\"},{\"attributes\":{\"callback\":null},\"id\":\"7fe79f97-9d09-418d-a9db-469c903e4fac\",\"type\":\"DataRange1d\"},{\"attributes\":{\"plot\":{\"id\":\"2f6e886c-1706-493f-bf0c-02ce4bce1ca3\",\"subtype\":\"Figure\",\"type\":\"Plot\"}},\"id\":\"696d4d32-ef30-41c9-8adb-f405b8c009fb\",\"type\":\"PanTool\"},{\"attributes\":{\"fill_color\":{\"field\":\"colors\"},\"line_color\":{\"field\":\"colors\"},\"top\":{\"field\":\"pct\"},\"width\":{\"value\":0.6},\"x\":{\"field\":\"index\"}},\"id\":\"4e2103b8-f230-4a2e-a351-2be791b3bd35\",\"type\":\"VBar\"},{\"attributes\":{\"line_alpha\":{\"value\":0.1},\"line_color\":{\"value\":\"#1f77b4\"},\"line_dash\":[6],\"line_width\":{\"value\":2},\"x\":{\"field\":\"x\"},\"y\":{\"field\":\"y\"}},\"id\":\"b9964a6d-0eff-4c4c-a822-8f67cae881a0\",\"type\":\"Line\"},{\"attributes\":{},\"id\":\"f69510a0-d5df-4173-b958-5d2a59cd36a5\",\"type\":\"BasicTickFormatter\"},{\"attributes\":{\"line_alpha\":{\"value\":0.1},\"line_color\":{\"value\":\"#1f77b4\"},\"line_dash\":[6],\"line_width\":{\"value\":2},\"x\":{\"field\":\"x\"},\"y\":{\"field\":\"y\"}},\"id\":\"0e325649-5c01-4e8f-82f3-582a4d3c51fc\",\"type\":\"Line\"},{\"attributes\":{\"fill_alpha\":{\"value\":0.1},\"fill_color\":{\"value\":\"#1f77b4\"},\"height\":{\"value\":0.3},\"left\":{\"value\":-0.3677196446199408},\"line_alpha\":{\"value\":0.1},\"line_color\":{\"value\":\"#1f77b4\"},\"right\":{\"value\":0},\"y\":{\"value\":1}},\"id\":\"9e8593c7-be99-441e-8deb-56185b1b1f42\",\"type\":\"HBar\"},{\"attributes\":{},\"id\":\"525c2056-aef4-4743-966f-48153ad8f757\",\"type\":\"BasicTicker\"},{\"attributes\":{},\"id\":\"d7161640-c2af-465f-bb7e-365f16998def\",\"type\":\"LinearScale\"},{\"attributes\":{\"children\":[{\"id\":\"a8135799-38ce-428a-8cdb-ff30bbd20965\",\"type\":\"Div\"}]},\"id\":\"fa6a5aa0-07c7-4d03-92ec-900b6d0a5756\",\"type\":\"WidgetBox\"},{\"attributes\":{\"formatter\":{\"id\":\"f69510a0-d5df-4173-b958-5d2a59cd36a5\",\"type\":\"BasicTickFormatter\"},\"plot\":{\"id\":\"43bdba38-8223-48e1-9be4-9d13ffb0fdb9\",\"subtype\":\"Figure\",\"type\":\"Plot\"},\"ticker\":{\"id\":\"525c2056-aef4-4743-966f-48153ad8f757\",\"type\":\"BasicTicker\"}},\"id\":\"eb460878-87c2-4197-b82c-019da43f33a4\",\"type\":\"LinearAxis\"},{\"attributes\":{\"fill_color\":{\"value\":\"#E43216\"},\"height\":{\"value\":0.3},\"left\":{\"value\":-0.4378084896347483},\"line_color\":{\"value\":\"#E43216\"},\"right\":{\"value\":-0.430898321816387},\"y\":{\"value\":1}},\"id\":\"15041533-6d81-403d-be27-96bdcce246c9\",\"type\":\"HBar\"},{\"attributes\":{\"data_source\":{\"id\":\"8f48ad11-7b38-46a4-925d-7b8124898a3e\",\"type\":\"ColumnDataSource\"},\"glyph\":{\"id\":\"4e2103b8-f230-4a2e-a351-2be791b3bd35\",\"type\":\"VBar\"},\"hover_glyph\":null,\"muted_glyph\":null,\"nonselection_glyph\":{\"id\":\"14ba717a-210c-473a-8288-73e068b03aef\",\"type\":\"VBar\"},\"selection_glyph\":null},\"id\":\"f1526ec6-ba68-468c-a155-c21eb4bb6127\",\"type\":\"GlyphRenderer\"},{\"attributes\":{\"data_source\":{\"id\":\"e8017cda-98e3-4cc8-b239-56981b11de3c\",\"type\":\"ColumnDataSource\"},\"glyph\":{\"id\":\"15041533-6d81-403d-be27-96bdcce246c9\",\"type\":\"HBar\"},\"hover_glyph\":null,\"muted_glyph\":null,\"nonselection_glyph\":{\"id\":\"0a487db9-6850-4ea1-aca0-1b0f97f6b3e9\",\"type\":\"HBar\"},\"selection_glyph\":null},\"id\":\"0a2ad605-98a3-4ca6-a505-c953cb18c4c3\",\"type\":\"GlyphRenderer\"},{\"attributes\":{\"data_source\":{\"id\":\"398e0e06-933c-4c24-bb61-11f6c9b4f096\",\"type\":\"ColumnDataSource\"},\"glyph\":{\"id\":\"9e725e48-1021-42d2-a09d-ffa35b2ec3a2\",\"type\":\"Line\"},\"hover_glyph\":null,\"muted_glyph\":null,\"nonselection_glyph\":{\"id\":\"8996b1de-0f6a-4acc-b482-83b1789259ba\",\"type\":\"Line\"},\"selection_glyph\":null},\"id\":\"232026f9-08ef-4088-ae88-744c4903471f\",\"type\":\"GlyphRenderer\"},{\"attributes\":{\"fill_alpha\":{\"value\":0.1},\"fill_color\":{\"value\":\"#1f77b4\"},\"line_alpha\":{\"value\":0.1},\"line_color\":{\"value\":\"#1f77b4\"},\"top\":{\"field\":\"pct\"},\"width\":{\"value\":0.6},\"x\":{\"field\":\"index\"}},\"id\":\"14ba717a-210c-473a-8288-73e068b03aef\",\"type\":\"VBar\"},{\"attributes\":{\"formatter\":{\"id\":\"41155f90-bae7-4da0-bce7-e2dae54c3ddc\",\"type\":\"BasicTickFormatter\"},\"plot\":{\"id\":\"43bdba38-8223-48e1-9be4-9d13ffb0fdb9\",\"subtype\":\"Figure\",\"type\":\"Plot\"},\"ticker\":{\"id\":\"5196ba7c-7a72-4428-9196-ef6ec69906fe\",\"type\":\"BasicTicker\"}},\"id\":\"58080f69-1622-46cb-b439-3aeb92f0df56\",\"type\":\"LinearAxis\"},{\"attributes\":{\"data_source\":{\"id\":\"2dd9c86b-ccf8-4787-8d8d-879e4910bf3c\",\"type\":\"ColumnDataSource\"},\"glyph\":{\"id\":\"bfae30e4-396b-447f-8b6f-47d5ff664fc8\",\"type\":\"Line\"},\"hover_glyph\":null,\"muted_glyph\":null,\"nonselection_glyph\":{\"id\":\"b9964a6d-0eff-4c4c-a822-8f67cae881a0\",\"type\":\"Line\"},\"selection_glyph\":null},\"id\":\"df15c5f5-9456-4197-8552-5fd9253b5ffe\",\"type\":\"GlyphRenderer\"},{\"attributes\":{\"callback\":null,\"column_names\":[\"y\",\"x\"],\"data\":{\"x\":[0,0],\"y\":[0.5,1.5]}},\"id\":\"398e0e06-933c-4c24-bb61-11f6c9b4f096\",\"type\":\"ColumnDataSource\"},{\"attributes\":{},\"id\":\"b89784fe-ca07-400c-a4df-8648dce5d2ec\",\"type\":\"BasicTickFormatter\"},{\"attributes\":{\"align\":\"center\",\"plot\":{\"id\":\"2f6e886c-1706-493f-bf0c-02ce4bce1ca3\",\"subtype\":\"Figure\",\"type\":\"Plot\"},\"text\":\"Rush/delays within time thresholds\"},\"id\":\"972b6674-3ab2-4f38-8d05-0f26518b98dc\",\"type\":\"Title\"},{\"attributes\":{},\"id\":\"742efc18-e127-4e5b-8537-679a07cd38e4\",\"type\":\"LinearScale\"},{\"attributes\":{\"line_color\":{\"value\":\"#AAB2A5\"},\"line_dash\":[6],\"line_width\":{\"value\":2},\"x\":{\"field\":\"x\"},\"y\":{\"field\":\"y\"}},\"id\":\"3bc28e2e-bcb5-4db2-8f82-41f2e90f2a2c\",\"type\":\"Line\"},{\"attributes\":{},\"id\":\"8b2bd1a6-25d3-4b8a-84ed-08c4ff9d23ea\",\"type\":\"LinearScale\"},{\"attributes\":{\"fill_color\":{\"value\":\"#459E0F\"},\"height\":{\"value\":0.3},\"left\":{\"value\":-0.3677196446199408},\"line_color\":{\"value\":\"#459E0F\"},\"right\":{\"value\":0},\"y\":{\"value\":1}},\"id\":\"15af5fd3-c607-46a0-a84d-246b65dbfece\",\"type\":\"HBar\"},{\"attributes\":{\"callback\":null,\"column_names\":[\"pct\",\"index\",\"thresholds\",\"colors\"],\"data\":{\"colors\":[\"#459E0F\",\"#E4E02C\",\"#E43216\"],\"index\":[0,1,2],\"pct\":{\"__ndarray__\":\"oCI7/ooy6D+hOrgrJ7HHP4jrbG2zEq4/\",\"dtype\":\"float64\",\"shape\":[3]},\"thresholds\":[\"green\",\"yellow\",\"red\"]}},\"id\":\"8f48ad11-7b38-46a4-925d-7b8124898a3e\",\"type\":\"ColumnDataSource\"},{\"attributes\":{\"data_source\":{\"id\":\"541b0f7b-f3c8-4539-9e05-90496c0a8a88\",\"type\":\"ColumnDataSource\"},\"glyph\":{\"id\":\"7c8d11fc-ab6d-4f1c-83c1-1b91a62db7a8\",\"type\":\"Line\"},\"hover_glyph\":null,\"muted_glyph\":null,\"nonselection_glyph\":{\"id\":\"0e325649-5c01-4e8f-82f3-582a4d3c51fc\",\"type\":\"Line\"},\"selection_glyph\":null},\"id\":\"16110e50-16fd-406a-bdea-fd3e49defb92\",\"type\":\"GlyphRenderer\"},{\"attributes\":{\"plot\":{\"id\":\"2f6e886c-1706-493f-bf0c-02ce4bce1ca3\",\"subtype\":\"Figure\",\"type\":\"Plot\"}},\"id\":\"93c14788-8f9f-48d9-8163-4f38bf20c304\",\"type\":\"HelpTool\"},{\"attributes\":{\"callback\":null,\"data\":{}},\"id\":\"697c8dd5-807d-4e29-9f89-525cdcdac3ea\",\"type\":\"ColumnDataSource\"},{\"attributes\":{\"plot\":{\"id\":\"2f6e886c-1706-493f-bf0c-02ce4bce1ca3\",\"subtype\":\"Figure\",\"type\":\"Plot\"}},\"id\":\"fab0b940-ab52-4df1-bca4-5932ca46466e\",\"type\":\"SaveTool\"},{\"attributes\":{\"line_color\":{\"value\":\"#AAB2A5\"},\"line_dash\":[6],\"line_width\":{\"value\":2},\"x\":{\"field\":\"x\"},\"y\":{\"field\":\"y\"}},\"id\":\"7c8d11fc-ab6d-4f1c-83c1-1b91a62db7a8\",\"type\":\"Line\"},{\"attributes\":{\"fill_alpha\":{\"value\":0.1},\"fill_color\":{\"value\":\"#1f77b4\"},\"height\":{\"value\":0.3},\"left\":{\"value\":-0.430898321816387},\"line_alpha\":{\"value\":0.1},\"line_color\":{\"value\":\"#1f77b4\"},\"right\":{\"value\":-0.3677196446199408},\"y\":{\"value\":1}},\"id\":\"03cf89dd-8a18-4d95-a845-959456efbb37\",\"type\":\"HBar\"},{\"attributes\":{\"callback\":null},\"id\":\"ea7c6f5a-0e8f-4a5a-b977-93055682b52d\",\"type\":\"DataRange1d\"},{\"attributes\":{},\"id\":\"512035f0-18e1-4ea5-9e62-bb2d8f5dc8dc\",\"type\":\"ToolEvents\"},{\"attributes\":{\"fill_alpha\":{\"value\":0.1},\"fill_color\":{\"value\":\"#1f77b4\"},\"height\":{\"value\":0.3},\"left\":{\"value\":-0.4378084896347483},\"line_alpha\":{\"value\":0.1},\"line_color\":{\"value\":\"#1f77b4\"},\"right\":{\"value\":-0.430898321816387},\"y\":{\"value\":1}},\"id\":\"0a487db9-6850-4ea1-aca0-1b0f97f6b3e9\",\"type\":\"HBar\"},{\"attributes\":{\"overlay\":{\"id\":\"c652d53c-13c6-4995-a400-3c68146c9bca\",\"type\":\"BoxAnnotation\"},\"plot\":{\"id\":\"2f6e886c-1706-493f-bf0c-02ce4bce1ca3\",\"subtype\":\"Figure\",\"type\":\"Plot\"}},\"id\":\"0c398792-d575-4d55-888c-646c4f793d1b\",\"type\":\"BoxZoomTool\"},{\"attributes\":{},\"id\":\"5196ba7c-7a72-4428-9196-ef6ec69906fe\",\"type\":\"BasicTicker\"},{\"attributes\":{\"plot\":{\"id\":\"2f6e886c-1706-493f-bf0c-02ce4bce1ca3\",\"subtype\":\"Figure\",\"type\":\"Plot\"}},\"id\":\"4b556660-6f82-46c7-8818-abdac8451b8c\",\"type\":\"ResetTool\"},{\"attributes\":{\"text\":\"<h1 style='margin-left:200px;margin-right:-400px;margin-bottom:18px;font-size:20px;                color:#7D7575'> Time thresholds for pick ups and drop offs </h1>\"},\"id\":\"a8135799-38ce-428a-8cdb-ff30bbd20965\",\"type\":\"Div\"},{\"attributes\":{},\"id\":\"fb28073c-3bd7-4f3c-9ed9-9f4afe0f3205\",\"type\":\"BasicTicker\"},{\"attributes\":{\"grid_line_color\":{\"value\":null},\"plot\":{\"id\":\"2f6e886c-1706-493f-bf0c-02ce4bce1ca3\",\"subtype\":\"Figure\",\"type\":\"Plot\"},\"ticker\":{\"id\":\"8c0488e2-f977-4da5-9818-00fccc8ae4de\",\"type\":\"BasicTicker\"}},\"id\":\"14494ef2-e945-40af-a764-c7497ae8ab9c\",\"type\":\"Grid\"},{\"attributes\":{\"align\":\"center\",\"plot\":{\"id\":\"43bdba38-8223-48e1-9be4-9d13ffb0fdb9\",\"subtype\":\"Figure\",\"type\":\"Plot\"},\"text\":\"Total percentage within thresholds\"},\"id\":\"607baba0-020b-4905-9421-029558b485a6\",\"type\":\"Title\"},{\"attributes\":{\"plot\":null,\"text\":\"\"},\"id\":\"79bc0610-1e80-497c-be2b-87b77421dc23\",\"type\":\"Title\"},{\"attributes\":{\"children\":[{\"id\":\"fa6a5aa0-07c7-4d03-92ec-900b6d0a5756\",\"type\":\"WidgetBox\"},{\"id\":\"e8f09b7d-f3ed-484e-9ee6-4b61d4a960a5\",\"type\":\"Row\"}]},\"id\":\"12324712-8d23-4e7b-b82a-8716ecc4f7aa\",\"type\":\"Column\"},{\"attributes\":{\"line_alpha\":{\"value\":0.1},\"line_color\":{\"value\":\"#1f77b4\"},\"line_dash\":[6],\"line_width\":{\"value\":2},\"x\":{\"field\":\"x\"},\"y\":{\"field\":\"y\"}},\"id\":\"ff54bf7d-68c7-4e1b-9448-cbff82e145a7\",\"type\":\"Line\"},{\"attributes\":{},\"id\":\"41155f90-bae7-4da0-bce7-e2dae54c3ddc\",\"type\":\"BasicTickFormatter\"},{\"attributes\":{\"line_alpha\":{\"value\":0.1},\"line_color\":{\"value\":\"#1f77b4\"},\"line_dash\":[6],\"line_width\":{\"value\":2},\"x\":{\"field\":\"x\"},\"y\":{\"field\":\"y\"}},\"id\":\"480da30c-df06-4df1-9005-de4be6e2f733\",\"type\":\"Line\"},{\"attributes\":{},\"id\":\"8c0488e2-f977-4da5-9818-00fccc8ae4de\",\"type\":\"BasicTicker\"},{\"attributes\":{\"fill_color\":{\"value\":\"#459E0F\"},\"height\":{\"value\":0.3},\"line_color\":{\"value\":\"#459E0F\"},\"right\":{\"value\":0.3884501480750247},\"y\":{\"value\":1}},\"id\":\"15c7e30e-6e35-4a7f-b5de-1edf75575a0b\",\"type\":\"HBar\"},{\"attributes\":{\"line_color\":{\"value\":\"#AAB2A5\"},\"line_dash\":[6],\"line_width\":{\"value\":2},\"x\":{\"field\":\"x\"},\"y\":{\"field\":\"y\"}},\"id\":\"aafff5c7-f44c-45f7-a919-2286a61efe6b\",\"type\":\"Line\"},{\"attributes\":{\"fill_color\":{\"value\":\"#E4E02C\"},\"height\":{\"value\":0.3},\"left\":{\"value\":0.3884501480750247},\"line_color\":{\"value\":\"#E4E02C\"},\"right\":{\"value\":0.510365251727542},\"y\":{\"value\":1}},\"id\":\"9a8870a2-16f6-49c9-8a9a-b083d52024ad\",\"type\":\"HBar\"},{\"attributes\":{\"callback\":null,\"column_names\":[\"y\",\"x\"],\"data\":{\"x\":[0.510365251727542,0.510365251727542],\"y\":[0.5,1.5]}},\"id\":\"8acb076b-9b14-4ad0-b833-5eb45932a537\",\"type\":\"ColumnDataSource\"},{\"attributes\":{\"callback\":null,\"column_names\":[\"y\",\"x\"],\"data\":{\"x\":[0.3884501480750247,0.3884501480750247],\"y\":[0.5,1.5]}},\"id\":\"541b0f7b-f3c8-4539-9e05-90496c0a8a88\",\"type\":\"ColumnDataSource\"},{\"attributes\":{\"data_source\":{\"id\":\"7426a16e-857f-4426-b93a-008c46d3d796\",\"type\":\"ColumnDataSource\"},\"glyph\":{\"id\":\"3bc28e2e-bcb5-4db2-8f82-41f2e90f2a2c\",\"type\":\"Line\"},\"hover_glyph\":null,\"muted_glyph\":null,\"nonselection_glyph\":{\"id\":\"fe79f4ed-de88-4c6d-ab1f-d383e17309d5\",\"type\":\"Line\"},\"selection_glyph\":null},\"id\":\"7f071af1-9d87-4ae8-87f9-955b04dd46dd\",\"type\":\"GlyphRenderer\"},{\"attributes\":{},\"id\":\"8cf456b6-4846-4666-a602-b527d8f00131\",\"type\":\"ToolEvents\"},{\"attributes\":{\"line_alpha\":{\"value\":0.1},\"line_color\":{\"value\":\"#1f77b4\"},\"line_dash\":[6],\"line_width\":{\"value\":2},\"x\":{\"field\":\"x\"},\"y\":{\"field\":\"y\"}},\"id\":\"8996b1de-0f6a-4acc-b482-83b1789259ba\",\"type\":\"Line\"},{\"attributes\":{\"callback\":null,\"data\":{}},\"id\":\"e8017cda-98e3-4cc8-b239-56981b11de3c\",\"type\":\"ColumnDataSource\"},{\"attributes\":{\"data_source\":{\"id\":\"940cba07-2e61-4e11-8408-15d7145b7339\",\"type\":\"ColumnDataSource\"},\"glyph\":{\"id\":\"15af5fd3-c607-46a0-a84d-246b65dbfece\",\"type\":\"HBar\"},\"hover_glyph\":null,\"muted_glyph\":null,\"nonselection_glyph\":{\"id\":\"9e8593c7-be99-441e-8deb-56185b1b1f42\",\"type\":\"HBar\"},\"selection_glyph\":null},\"id\":\"565a60d2-e475-48d1-9ca8-a87406609a7d\",\"type\":\"GlyphRenderer\"},{\"attributes\":{\"active_drag\":\"auto\",\"active_inspect\":\"auto\",\"active_scroll\":\"auto\",\"active_tap\":\"auto\",\"tools\":[{\"id\":\"696d4d32-ef30-41c9-8adb-f405b8c009fb\",\"type\":\"PanTool\"},{\"id\":\"98548e03-0de8-4d7a-b03a-3239a324ed7f\",\"type\":\"WheelZoomTool\"},{\"id\":\"0c398792-d575-4d55-888c-646c4f793d1b\",\"type\":\"BoxZoomTool\"},{\"id\":\"fab0b940-ab52-4df1-bca4-5932ca46466e\",\"type\":\"SaveTool\"},{\"id\":\"4b556660-6f82-46c7-8818-abdac8451b8c\",\"type\":\"ResetTool\"},{\"id\":\"93c14788-8f9f-48d9-8163-4f38bf20c304\",\"type\":\"HelpTool\"}]},\"id\":\"f6cb5895-3644-4704-84f1-502b74083f5c\",\"type\":\"Toolbar\"},{\"attributes\":{\"fill_color\":{\"value\":\"#E43216\"},\"height\":{\"value\":0.3},\"left\":{\"value\":0.510365251727542},\"line_color\":{\"value\":\"#E43216\"},\"right\":{\"value\":0.5621915103652517},\"y\":{\"value\":1}},\"id\":\"cd528bdf-e8a8-423a-b858-b6eb67f5239f\",\"type\":\"HBar\"},{\"attributes\":{\"above\":[{\"id\":\"607baba0-020b-4905-9421-029558b485a6\",\"type\":\"Title\"}],\"below\":[{\"id\":\"eb460878-87c2-4197-b82c-019da43f33a4\",\"type\":\"LinearAxis\"}],\"left\":[{\"id\":\"58080f69-1622-46cb-b439-3aeb92f0df56\",\"type\":\"LinearAxis\"}],\"plot_height\":400,\"plot_width\":400,\"renderers\":[{\"id\":\"eb460878-87c2-4197-b82c-019da43f33a4\",\"type\":\"LinearAxis\"},{\"id\":\"ff08bab0-df62-4885-a842-be365bc2ccdb\",\"type\":\"Grid\"},{\"id\":\"58080f69-1622-46cb-b439-3aeb92f0df56\",\"type\":\"LinearAxis\"},{\"id\":\"3ada2b8c-4688-429a-a7c8-6f8b2de1e3e0\",\"type\":\"Grid\"},{\"id\":\"607baba0-020b-4905-9421-029558b485a6\",\"type\":\"Title\"},{\"id\":\"f1526ec6-ba68-468c-a155-c21eb4bb6127\",\"type\":\"GlyphRenderer\"}],\"title\":{\"id\":\"53b8fe54-a8ee-438e-8915-9f8010d87d40\",\"type\":\"Title\"},\"tool_events\":{\"id\":\"512035f0-18e1-4ea5-9e62-bb2d8f5dc8dc\",\"type\":\"ToolEvents\"},\"toolbar\":{\"id\":\"2fd5786a-d910-44af-b70b-248049a5dfab\",\"type\":\"Toolbar\"},\"x_range\":{\"id\":\"066e1bea-1f44-425d-881b-800f076e49d1\",\"type\":\"DataRange1d\"},\"x_scale\":{\"id\":\"8b2bd1a6-25d3-4b8a-84ed-08c4ff9d23ea\",\"type\":\"LinearScale\"},\"y_range\":{\"id\":\"7fe79f97-9d09-418d-a9db-469c903e4fac\",\"type\":\"DataRange1d\"},\"y_scale\":{\"id\":\"742efc18-e127-4e5b-8537-679a07cd38e4\",\"type\":\"LinearScale\"}},\"id\":\"43bdba38-8223-48e1-9be4-9d13ffb0fdb9\",\"subtype\":\"Figure\",\"type\":\"Plot\"},{\"attributes\":{\"above\":[{\"id\":\"972b6674-3ab2-4f38-8d05-0f26518b98dc\",\"type\":\"Title\"}],\"below\":[{\"id\":\"0f053d3b-7536-4a34-afee-335433b0a106\",\"type\":\"LinearAxis\"}],\"left\":[{\"id\":\"cf28fe1f-5d07-42e5-bc24-f539bbed1894\",\"type\":\"LinearAxis\"}],\"plot_height\":400,\"plot_width\":400,\"renderers\":[{\"id\":\"0f053d3b-7536-4a34-afee-335433b0a106\",\"type\":\"LinearAxis\"},{\"id\":\"14494ef2-e945-40af-a764-c7497ae8ab9c\",\"type\":\"Grid\"},{\"id\":\"cf28fe1f-5d07-42e5-bc24-f539bbed1894\",\"type\":\"LinearAxis\"},{\"id\":\"61c6e0c6-81b6-4d81-b909-7849bc7739a7\",\"type\":\"Grid\"},{\"id\":\"c652d53c-13c6-4995-a400-3c68146c9bca\",\"type\":\"BoxAnnotation\"},{\"id\":\"565a60d2-e475-48d1-9ca8-a87406609a7d\",\"type\":\"GlyphRenderer\"},{\"id\":\"7f071af1-9d87-4ae8-87f9-955b04dd46dd\",\"type\":\"GlyphRenderer\"},{\"id\":\"45099544-a0af-45bc-91ad-2ed6509645dc\",\"type\":\"GlyphRenderer\"},{\"id\":\"df15c5f5-9456-4197-8552-5fd9253b5ffe\",\"type\":\"GlyphRenderer\"},{\"id\":\"0a2ad605-98a3-4ca6-a505-c953cb18c4c3\",\"type\":\"GlyphRenderer\"},{\"id\":\"6ee340d8-bb3a-408f-9b62-dfd1a5e4bdcb\",\"type\":\"GlyphRenderer\"},{\"id\":\"065c92dd-0ae3-4c34-9487-43c55b02b828\",\"type\":\"GlyphRenderer\"},{\"id\":\"232026f9-08ef-4088-ae88-744c4903471f\",\"type\":\"GlyphRenderer\"},{\"id\":\"8d5aa2f9-a0cc-4712-8673-4180feb06bdb\",\"type\":\"GlyphRenderer\"},{\"id\":\"16110e50-16fd-406a-bdea-fd3e49defb92\",\"type\":\"GlyphRenderer\"},{\"id\":\"63d331ca-0537-408d-ad3a-8dea9c5c883b\",\"type\":\"GlyphRenderer\"},{\"id\":\"fe4ae2a9-70c7-4877-86f9-5fd9972b2bb1\",\"type\":\"GlyphRenderer\"},{\"id\":\"972b6674-3ab2-4f38-8d05-0f26518b98dc\",\"type\":\"Title\"}],\"title\":{\"id\":\"79bc0610-1e80-497c-be2b-87b77421dc23\",\"type\":\"Title\"},\"tool_events\":{\"id\":\"8cf456b6-4846-4666-a602-b527d8f00131\",\"type\":\"ToolEvents\"},\"toolbar\":{\"id\":\"f6cb5895-3644-4704-84f1-502b74083f5c\",\"type\":\"Toolbar\"},\"x_range\":{\"id\":\"ea7c6f5a-0e8f-4a5a-b977-93055682b52d\",\"type\":\"DataRange1d\"},\"x_scale\":{\"id\":\"d7161640-c2af-465f-bb7e-365f16998def\",\"type\":\"LinearScale\"},\"y_range\":{\"id\":\"4b2bf15c-ab26-4539-bde3-40ba8d635b7e\",\"type\":\"Range1d\"},\"y_scale\":{\"id\":\"c2747592-6492-4fcd-bf77-21e4d77548fa\",\"type\":\"LinearScale\"}},\"id\":\"2f6e886c-1706-493f-bf0c-02ce4bce1ca3\",\"subtype\":\"Figure\",\"type\":\"Plot\"},{\"attributes\":{\"callback\":null,\"column_names\":[\"y\",\"x\"],\"data\":{\"x\":[-0.430898321816387,-0.430898321816387],\"y\":[0.5,1.5]}},\"id\":\"c3660389-5afe-45e2-b609-c6794ea3c315\",\"type\":\"ColumnDataSource\"},{\"attributes\":{\"formatter\":{\"id\":\"b89784fe-ca07-400c-a4df-8648dce5d2ec\",\"type\":\"BasicTickFormatter\"},\"plot\":{\"id\":\"2f6e886c-1706-493f-bf0c-02ce4bce1ca3\",\"subtype\":\"Figure\",\"type\":\"Plot\"},\"ticker\":{\"id\":\"fb28073c-3bd7-4f3c-9ed9-9f4afe0f3205\",\"type\":\"BasicTicker\"},\"visible\":false},\"id\":\"cf28fe1f-5d07-42e5-bc24-f539bbed1894\",\"type\":\"LinearAxis\"},{\"attributes\":{\"callback\":null,\"data\":{}},\"id\":\"1401353a-db37-4d22-b2e3-2ac034e738ed\",\"type\":\"ColumnDataSource\"},{\"attributes\":{\"fill_alpha\":{\"value\":0.1},\"fill_color\":{\"value\":\"#1f77b4\"},\"height\":{\"value\":0.3},\"left\":{\"value\":0.3884501480750247},\"line_alpha\":{\"value\":0.1},\"line_color\":{\"value\":\"#1f77b4\"},\"right\":{\"value\":0.510365251727542},\"y\":{\"value\":1}},\"id\":\"eb5c9b09-d676-4309-9266-1d04edc7feef\",\"type\":\"HBar\"},{\"attributes\":{\"dimension\":1,\"grid_line_color\":{\"value\":null},\"plot\":{\"id\":\"2f6e886c-1706-493f-bf0c-02ce4bce1ca3\",\"subtype\":\"Figure\",\"type\":\"Plot\"},\"ticker\":{\"id\":\"fb28073c-3bd7-4f3c-9ed9-9f4afe0f3205\",\"type\":\"BasicTicker\"}},\"id\":\"61c6e0c6-81b6-4d81-b909-7849bc7739a7\",\"type\":\"Grid\"},{\"attributes\":{\"fill_alpha\":{\"value\":0.1},\"fill_color\":{\"value\":\"#1f77b4\"},\"height\":{\"value\":0.3},\"left\":{\"value\":0.510365251727542},\"line_alpha\":{\"value\":0.1},\"line_color\":{\"value\":\"#1f77b4\"},\"right\":{\"value\":0.5621915103652517},\"y\":{\"value\":1}},\"id\":\"f11b9f42-5b5b-4805-be46-698dd48b39d3\",\"type\":\"HBar\"},{\"attributes\":{\"data_source\":{\"id\":\"c3660389-5afe-45e2-b609-c6794ea3c315\",\"type\":\"ColumnDataSource\"},\"glyph\":{\"id\":\"4227deec-c5e5-4502-b80b-7a18c03cc294\",\"type\":\"Line\"},\"hover_glyph\":null,\"muted_glyph\":null,\"nonselection_glyph\":{\"id\":\"ff54bf7d-68c7-4e1b-9448-cbff82e145a7\",\"type\":\"Line\"},\"selection_glyph\":null},\"id\":\"6ee340d8-bb3a-408f-9b62-dfd1a5e4bdcb\",\"type\":\"GlyphRenderer\"},{\"attributes\":{\"callback\":null,\"data\":{}},\"id\":\"b5298c45-752a-41c4-a336-fc8f1f6a3def\",\"type\":\"ColumnDataSource\"},{\"attributes\":{\"data_source\":{\"id\":\"1401353a-db37-4d22-b2e3-2ac034e738ed\",\"type\":\"ColumnDataSource\"},\"glyph\":{\"id\":\"15c7e30e-6e35-4a7f-b5de-1edf75575a0b\",\"type\":\"HBar\"},\"hover_glyph\":null,\"muted_glyph\":null,\"nonselection_glyph\":{\"id\":\"dabbe902-0200-4a23-9638-2f3a106d7746\",\"type\":\"HBar\"},\"selection_glyph\":null},\"id\":\"065c92dd-0ae3-4c34-9487-43c55b02b828\",\"type\":\"GlyphRenderer\"},{\"attributes\":{\"line_color\":{\"value\":\"#AAB2A5\"},\"line_dash\":[6],\"line_width\":{\"value\":2},\"x\":{\"field\":\"x\"},\"y\":{\"field\":\"y\"}},\"id\":\"bfae30e4-396b-447f-8b6f-47d5ff664fc8\",\"type\":\"Line\"},{\"attributes\":{\"dimension\":1,\"plot\":{\"id\":\"43bdba38-8223-48e1-9be4-9d13ffb0fdb9\",\"subtype\":\"Figure\",\"type\":\"Plot\"},\"ticker\":{\"id\":\"5196ba7c-7a72-4428-9196-ef6ec69906fe\",\"type\":\"BasicTicker\"}},\"id\":\"3ada2b8c-4688-429a-a7c8-6f8b2de1e3e0\",\"type\":\"Grid\"},{\"attributes\":{},\"id\":\"b87382f8-147d-45a4-88f9-5397ed10e58f\",\"type\":\"BasicTickFormatter\"},{\"attributes\":{\"data_source\":{\"id\":\"b5298c45-752a-41c4-a336-fc8f1f6a3def\",\"type\":\"ColumnDataSource\"},\"glyph\":{\"id\":\"cd528bdf-e8a8-423a-b858-b6eb67f5239f\",\"type\":\"HBar\"},\"hover_glyph\":null,\"muted_glyph\":null,\"nonselection_glyph\":{\"id\":\"f11b9f42-5b5b-4805-be46-698dd48b39d3\",\"type\":\"HBar\"},\"selection_glyph\":null},\"id\":\"63d331ca-0537-408d-ad3a-8dea9c5c883b\",\"type\":\"GlyphRenderer\"},{\"attributes\":{\"callback\":null,\"column_names\":[\"y\",\"x\"],\"data\":{\"x\":[0,0],\"y\":[0.5,1.5]}},\"id\":\"7426a16e-857f-4426-b93a-008c46d3d796\",\"type\":\"ColumnDataSource\"},{\"attributes\":{\"plot\":{\"id\":\"43bdba38-8223-48e1-9be4-9d13ffb0fdb9\",\"subtype\":\"Figure\",\"type\":\"Plot\"},\"ticker\":{\"id\":\"525c2056-aef4-4743-966f-48153ad8f757\",\"type\":\"BasicTicker\"}},\"id\":\"ff08bab0-df62-4885-a842-be365bc2ccdb\",\"type\":\"Grid\"},{\"attributes\":{\"plot\":{\"id\":\"2f6e886c-1706-493f-bf0c-02ce4bce1ca3\",\"subtype\":\"Figure\",\"type\":\"Plot\"}},\"id\":\"98548e03-0de8-4d7a-b03a-3239a324ed7f\",\"type\":\"WheelZoomTool\"},{\"attributes\":{\"formatter\":{\"id\":\"b87382f8-147d-45a4-88f9-5397ed10e58f\",\"type\":\"BasicTickFormatter\"},\"plot\":{\"id\":\"2f6e886c-1706-493f-bf0c-02ce4bce1ca3\",\"subtype\":\"Figure\",\"type\":\"Plot\"},\"ticker\":{\"id\":\"8c0488e2-f977-4da5-9818-00fccc8ae4de\",\"type\":\"BasicTicker\"}},\"id\":\"0f053d3b-7536-4a34-afee-335433b0a106\",\"type\":\"LinearAxis\"},{\"attributes\":{\"children\":[{\"id\":\"2f6e886c-1706-493f-bf0c-02ce4bce1ca3\",\"subtype\":\"Figure\",\"type\":\"Plot\"},{\"id\":\"43bdba38-8223-48e1-9be4-9d13ffb0fdb9\",\"subtype\":\"Figure\",\"type\":\"Plot\"}]},\"id\":\"e8f09b7d-f3ed-484e-9ee6-4b61d4a960a5\",\"type\":\"Row\"},{\"attributes\":{\"callback\":null,\"column_names\":[\"y\",\"x\"],\"data\":{\"x\":[-0.3677196446199408,-0.3677196446199408],\"y\":[0.5,1.5]}},\"id\":\"2dd9c86b-ccf8-4787-8d8d-879e4910bf3c\",\"type\":\"ColumnDataSource\"},{\"attributes\":{\"callback\":null},\"id\":\"066e1bea-1f44-425d-881b-800f076e49d1\",\"type\":\"DataRange1d\"},{\"attributes\":{\"plot\":null,\"text\":\"\"},\"id\":\"53b8fe54-a8ee-438e-8915-9f8010d87d40\",\"type\":\"Title\"},{\"attributes\":{\"callback\":null,\"data\":{}},\"id\":\"8e778528-17f3-42bf-9889-9b9e6f25bff0\",\"type\":\"ColumnDataSource\"},{\"attributes\":{\"fill_alpha\":{\"value\":0.1},\"fill_color\":{\"value\":\"#1f77b4\"},\"height\":{\"value\":0.3},\"line_alpha\":{\"value\":0.1},\"line_color\":{\"value\":\"#1f77b4\"},\"right\":{\"value\":0.3884501480750247},\"y\":{\"value\":1}},\"id\":\"dabbe902-0200-4a23-9638-2f3a106d7746\",\"type\":\"HBar\"},{\"attributes\":{\"line_color\":{\"value\":\"#AAB2A5\"},\"line_dash\":[6],\"line_width\":{\"value\":2},\"x\":{\"field\":\"x\"},\"y\":{\"field\":\"y\"}},\"id\":\"9e725e48-1021-42d2-a09d-ffa35b2ec3a2\",\"type\":\"Line\"},{\"attributes\":{\"active_drag\":\"auto\",\"active_inspect\":\"auto\",\"active_scroll\":\"auto\",\"active_tap\":\"auto\",\"tools\":[{\"id\":\"b03130d4-3e8d-4129-b6a1-cf66e3dc3a4a\",\"type\":\"HoverTool\"}]},\"id\":\"2fd5786a-d910-44af-b70b-248049a5dfab\",\"type\":\"Toolbar\"},{\"attributes\":{\"line_color\":{\"value\":\"#AAB2A5\"},\"line_dash\":[6],\"line_width\":{\"value\":2},\"x\":{\"field\":\"x\"},\"y\":{\"field\":\"y\"}},\"id\":\"4227deec-c5e5-4502-b80b-7a18c03cc294\",\"type\":\"Line\"},{\"attributes\":{\"line_alpha\":{\"value\":0.1},\"line_color\":{\"value\":\"#1f77b4\"},\"line_dash\":[6],\"line_width\":{\"value\":2},\"x\":{\"field\":\"x\"},\"y\":{\"field\":\"y\"}},\"id\":\"fe79f4ed-de88-4c6d-ab1f-d383e17309d5\",\"type\":\"Line\"},{\"attributes\":{},\"id\":\"c2747592-6492-4fcd-bf77-21e4d77548fa\",\"type\":\"LinearScale\"},{\"attributes\":{\"data_source\":{\"id\":\"8e778528-17f3-42bf-9889-9b9e6f25bff0\",\"type\":\"ColumnDataSource\"},\"glyph\":{\"id\":\"9b5e952e-aa28-4784-be06-197aa6213287\",\"type\":\"HBar\"},\"hover_glyph\":null,\"muted_glyph\":null,\"nonselection_glyph\":{\"id\":\"03cf89dd-8a18-4d95-a845-959456efbb37\",\"type\":\"HBar\"},\"selection_glyph\":null},\"id\":\"45099544-a0af-45bc-91ad-2ed6509645dc\",\"type\":\"GlyphRenderer\"},{\"attributes\":{\"fill_color\":{\"value\":\"#E4E02C\"},\"height\":{\"value\":0.3},\"left\":{\"value\":-0.430898321816387},\"line_color\":{\"value\":\"#E4E02C\"},\"right\":{\"value\":-0.3677196446199408},\"y\":{\"value\":1}},\"id\":\"9b5e952e-aa28-4784-be06-197aa6213287\",\"type\":\"HBar\"}],\"root_ids\":[\"12324712-8d23-4e7b-b82a-8716ecc4f7aa\"]},\"title\":\"Bokeh Application\",\"version\":\"0.12.6\"}};\n",
       "            var render_items = [{\"docid\":\"a443759e-2e18-4aac-849b-d1697b651ee7\",\"elementid\":\"2c105393-c389-4c18-bbdc-4aa5f34050d9\",\"modelid\":\"12324712-8d23-4e7b-b82a-8716ecc4f7aa\"}];\n",
       "            \n",
       "            Bokeh.embed.embed_items(docs_json, render_items);\n",
       "          };\n",
       "          if (document.readyState != \"loading\") fn();\n",
       "          else document.addEventListener(\"DOMContentLoaded\", fn);\n",
       "        })();\n",
       "      },\n",
       "      function(Bokeh) {\n",
       "      }\n",
       "    ];\n",
       "  \n",
       "    function run_inline_js() {\n",
       "      \n",
       "      if ((window.Bokeh !== undefined) || (force === true)) {\n",
       "        for (var i = 0; i < inline_js.length; i++) {\n",
       "          inline_js[i](window.Bokeh);\n",
       "        }if (force === true) {\n",
       "          display_loaded();\n",
       "        }} else if (Date.now() < window._bokeh_timeout) {\n",
       "        setTimeout(run_inline_js, 100);\n",
       "      } else if (!window._bokeh_failed_load) {\n",
       "        console.log(\"Bokeh: BokehJS failed to load within specified timeout.\");\n",
       "        window._bokeh_failed_load = true;\n",
       "      } else if (force !== true) {\n",
       "        var cell = $(document.getElementById(\"2c105393-c389-4c18-bbdc-4aa5f34050d9\")).parents('.cell').data().cell;\n",
       "        cell.output_area.append_execute_result(NB_LOAD_WARNING)\n",
       "      }\n",
       "  \n",
       "    }\n",
       "  \n",
       "    if (window._bokeh_is_loading === 0) {\n",
       "      console.log(\"Bokeh: BokehJS loaded, going straight to plotting\");\n",
       "      run_inline_js();\n",
       "    } else {\n",
       "      load_libs(js_urls, function() {\n",
       "        console.log(\"Bokeh: BokehJS plotting callback run at\", now());\n",
       "        run_inline_js();\n",
       "      });\n",
       "    }\n",
       "  }(this));\n",
       "</script>"
      ]
     },
     "metadata": {},
     "output_type": "display_data"
    }
   ],
   "source": [
    "time_threshold = plot_horizontal_time_thresholds(group_threshold, 400, 400, 'pct', 'colors', \"Rush/delays within time thresholds\")\n",
    "within_thresholds = plot_total_pct_thresholds(region_group, 400, 400, \"index\", \"pct\", \"colors\", \"Total percentage within thresholds\")\n",
    "show(column(Div(text=\"<h1 style='margin-left:200px;margin-right:-400px;margin-bottom:18px;font-size:20px;\\\n",
    "                color:#7D7575'> Time thresholds for pick ups and drop offs </h1>\"), row(time_threshold, within_thresholds)))\n"
   ]
  },
  {
   "cell_type": "markdown",
   "metadata": {},
   "source": [
    "### Differences in pick ups / drop offs\n",
    "\n",
    "Here we analyze the differences between pick ups and drop off. Evidently, there is a difference between actual time when we talk about pick ups and drop offs. Particularly, if the difference is significance for pick up it might be that the service will never be provided (e.g. could lead to cancellations).\n",
    "\n",
    "To enter in this level of analysis we will calculate the differences for pick ups and drop offs respectively.\n"
   ]
  },
  {
   "cell_type": "code",
   "execution_count": 19,
   "metadata": {},
   "outputs": [],
   "source": [
    "exp_act_time_pick_up = exp_act_time[exp_act_time[\"type\"]==\"pickup\"].reset_index()\n",
    "exp_act_time_drop_off = exp_act_time[exp_act_time[\"type\"]==\"dropoff\"].reset_index()"
   ]
  },
  {
   "cell_type": "code",
   "execution_count": 20,
   "metadata": {},
   "outputs": [
    {
     "data": {
      "image/png": "[encoded data removed]",
      "text/plain": [
       "<matplotlib.figure.Figure at 0x11842d0b8>"
      ]
     },
     "metadata": {},
     "output_type": "display_data"
    }
   ],
   "source": [
    "fig, ax = plt.subplots(2, figsize=(10,7))\n",
    "sns.distplot(exp_act_time_pick_up[\"time_diff_min\"], kde=False, ax=ax[0])\n",
    "sns.distplot(exp_act_time_drop_off[\"time_diff_min\"], kde=False, ax=ax[1])\n",
    "ax[0].set_title(\"Distribution of difference - pick ups \\n Actual Time Expected Time (minutes)\")\n",
    "ax[1].set_title(\"Distribution of difference - drop off \\n Actual Time Expected Time (minutes)\")\n",
    "for ax in ax.flatten():\n",
    "    ax.set_ylabel(\"Counts minutes\")\n",
    "    ax.set_ylabel(\"Counts minutes\")\n",
    "    ax.set_xlabel(\"Time difference\")\n",
    "    ax.axvline(0, color=\"#44999E\", linestyle='--')\n",
    "fig.tight_layout() "
   ]
  },
  {
   "cell_type": "code",
   "execution_count": 21,
   "metadata": {},
   "outputs": [
    {
     "name": "stdout",
     "output_type": "stream",
     "text": [
      "Statistics for Pick ups\n",
      "Total difference (hours): 18.453\n",
      "Average (seconds): 32.789\n",
      "Standard deviation (seconds): 208.060\n"
     ]
    }
   ],
   "source": [
    "print(\"Statistics for Pick ups\")\n",
    "print_stats(exp_act_time_pick_up,\"time_diff\")"
   ]
  },
  {
   "cell_type": "code",
   "execution_count": 22,
   "metadata": {},
   "outputs": [
    {
     "name": "stdout",
     "output_type": "stream",
     "text": [
      "Statistics for Drop offs\n",
      "Total difference (hours): 12.929\n",
      "Average (seconds): 22.973\n",
      "Standard deviation (seconds): 292.788\n"
     ]
    }
   ],
   "source": [
    "print(\"Statistics for Drop offs\")\n",
    "print_stats(exp_act_time_drop_off,\"time_diff\")"
   ]
  },
  {
   "cell_type": "markdown",
   "metadata": {},
   "source": [
    "Checking the distributions, we can see that the differences between actual and expected time for pick ups are more spread than that of drop off time. Also, while drop off tend to be more centered at 0, the pick up is more shifted towards positive values.\n",
    "\n",
    "These differences are also clear when we see at the statistics: the differences in averages for both distribution is almost 10 seconds. The standard deviation for the drop off is a bit higher, presumably this could be due to the higher number of extreme values in this distribution."
   ]
  },
  {
   "cell_type": "code",
   "execution_count": 23,
   "metadata": {},
   "outputs": [],
   "source": [
    "threshold_pick_up =  get_thresholds_groups(exp_act_time_pick_up, \"time_diff_min\")\n",
    "within_thresh_pick_up = get_region_threshold_groups(threshold_pick_up, \"colors\")\n",
    "threshold_drop_off = get_thresholds_groups(exp_act_time_drop_off, \"time_diff_min\")\n",
    "within_thresh_drop_off = get_region_threshold_groups(threshold_drop_off, \"colors\")"
   ]
  },
  {
   "cell_type": "code",
   "execution_count": 24,
   "metadata": {},
   "outputs": [
    {
     "data": {
      "text/html": [
       "\n",
       "\n",
       "    <div class=\"bk-root\">\n",
       "        <div class=\"bk-plotdiv\" id=\"f456d043-d2b3-4bac-b08b-b3f6572444bb\"></div>\n",
       "    </div>\n",
       "<script type=\"text/javascript\">\n",
       "  \n",
       "  (function(global) {\n",
       "    function now() {\n",
       "      return new Date();\n",
       "    }\n",
       "  \n",
       "    var force = false;\n",
       "  \n",
       "    if (typeof (window._bokeh_onload_callbacks) === \"undefined\" || force === true) {\n",
       "      window._bokeh_onload_callbacks = [];\n",
       "      window._bokeh_is_loading = undefined;\n",
       "    }\n",
       "  \n",
       "  \n",
       "    \n",
       "    if (typeof (window._bokeh_timeout) === \"undefined\" || force === true) {\n",
       "      window._bokeh_timeout = Date.now() + 0;\n",
       "      window._bokeh_failed_load = false;\n",
       "    }\n",
       "  \n",
       "    var NB_LOAD_WARNING = {'data': {'text/html':\n",
       "       \"<div style='background-color: #fdd'>\\n\"+\n",
       "       \"<p>\\n\"+\n",
       "       \"BokehJS does not appear to have successfully loaded. If loading BokehJS from CDN, this \\n\"+\n",
       "       \"may be due to a slow or bad network connection. Possible fixes:\\n\"+\n",
       "       \"</p>\\n\"+\n",
       "       \"<ul>\\n\"+\n",
       "       \"<li>re-rerun `output_notebook()` to attempt to load from CDN again, or</li>\\n\"+\n",
       "       \"<li>use INLINE resources instead, as so:</li>\\n\"+\n",
       "       \"</ul>\\n\"+\n",
       "       \"<code>\\n\"+\n",
       "       \"from bokeh.resources import INLINE\\n\"+\n",
       "       \"output_notebook(resources=INLINE)\\n\"+\n",
       "       \"</code>\\n\"+\n",
       "       \"</div>\"}};\n",
       "  \n",
       "    function display_loaded() {\n",
       "      if (window.Bokeh !== undefined) {\n",
       "        var el = document.getElementById(\"f456d043-d2b3-4bac-b08b-b3f6572444bb\");\n",
       "        el.textContent = \"BokehJS \" + Bokeh.version + \" successfully loaded.\";\n",
       "      } else if (Date.now() < window._bokeh_timeout) {\n",
       "        setTimeout(display_loaded, 100)\n",
       "      }\n",
       "    }\n",
       "  \n",
       "    function run_callbacks() {\n",
       "      try {\n",
       "        window._bokeh_onload_callbacks.forEach(function(callback) { callback() });\n",
       "      }\n",
       "      finally {\n",
       "        delete window._bokeh_onload_callbacks\n",
       "      }\n",
       "      console.info(\"Bokeh: all callbacks have finished\");\n",
       "    }\n",
       "  \n",
       "    function load_libs(js_urls, callback) {\n",
       "      window._bokeh_onload_callbacks.push(callback);\n",
       "      if (window._bokeh_is_loading > 0) {\n",
       "        console.log(\"Bokeh: BokehJS is being loaded, scheduling callback at\", now());\n",
       "        return null;\n",
       "      }\n",
       "      if (js_urls == null || js_urls.length === 0) {\n",
       "        run_callbacks();\n",
       "        return null;\n",
       "      }\n",
       "      console.log(\"Bokeh: BokehJS not loaded, scheduling load and callback at\", now());\n",
       "      window._bokeh_is_loading = js_urls.length;\n",
       "      for (var i = 0; i < js_urls.length; i++) {\n",
       "        var url = js_urls[i];\n",
       "        var s = document.createElement('script');\n",
       "        s.src = url;\n",
       "        s.async = false;\n",
       "        s.onreadystatechange = s.onload = function() {\n",
       "          window._bokeh_is_loading--;\n",
       "          if (window._bokeh_is_loading === 0) {\n",
       "            console.log(\"Bokeh: all BokehJS libraries loaded\");\n",
       "            run_callbacks()\n",
       "          }\n",
       "        };\n",
       "        s.onerror = function() {\n",
       "          console.warn(\"failed to load library \" + url);\n",
       "        };\n",
       "        console.log(\"Bokeh: injecting script tag for BokehJS library: \", url);\n",
       "        document.getElementsByTagName(\"head\")[0].appendChild(s);\n",
       "      }\n",
       "    };var element = document.getElementById(\"f456d043-d2b3-4bac-b08b-b3f6572444bb\");\n",
       "    if (element == null) {\n",
       "      console.log(\"Bokeh: ERROR: autoload.js configured with elementid 'f456d043-d2b3-4bac-b08b-b3f6572444bb' but no matching script tag was found. \")\n",
       "      return false;\n",
       "    }\n",
       "  \n",
       "    var js_urls = [];\n",
       "  \n",
       "    var inline_js = [\n",
       "      function(Bokeh) {\n",
       "        (function() {\n",
       "          var fn = function() {\n",
       "            var docs_json = {\"68aa9453-ac4c-4fdc-8c49-1f4156549324\":{\"roots\":{\"references\":[{\"attributes\":{\"callback\":null,\"data\":{}},\"id\":\"81371c8a-eb6e-48ee-8960-cb8dcab54ca3\",\"type\":\"ColumnDataSource\"},{\"attributes\":{\"plot\":null,\"text\":\"\"},\"id\":\"813c9e04-7d12-45c2-905c-559eaa9004bd\",\"type\":\"Title\"},{\"attributes\":{\"children\":[{\"id\":\"4dcffc64-5324-49f4-b98f-301c336128a0\",\"type\":\"Row\"},{\"id\":\"626f8432-2060-4ad0-a15d-70da6afb8f08\",\"type\":\"Row\"}]},\"id\":\"f4bfd5de-99aa-40c2-bdfe-5cd81637ee3e\",\"type\":\"Column\"},{\"attributes\":{\"fill_color\":{\"value\":\"#E4E02C\"},\"height\":{\"value\":0.3},\"left\":{\"value\":-0.3865877712031558},\"line_color\":{\"value\":\"#E4E02C\"},\"right\":{\"value\":-0.3264299802761341},\"y\":{\"value\":1}},\"id\":\"d5f79b23-648a-43fa-a850-56b4d7223e34\",\"type\":\"HBar\"},{\"attributes\":{\"fill_alpha\":{\"value\":0.1},\"fill_color\":{\"value\":\"#1f77b4\"},\"height\":{\"value\":0.3},\"line_alpha\":{\"value\":0.1},\"line_color\":{\"value\":\"#1f77b4\"},\"right\":{\"value\":0.41913214990138065},\"y\":{\"value\":1}},\"id\":\"2018200e-4837-4de5-82bb-f0b4f96d510f\",\"type\":\"HBar\"},{\"attributes\":{\"align\":\"center\",\"plot\":{\"id\":\"04b0bd3b-8b6b-4936-a02e-a0a99d0d6564\",\"subtype\":\"Figure\",\"type\":\"Plot\"},\"text\":\"Rush/delays within time thresholds drop off\"},\"id\":\"f5ce7a92-6037-497a-9d10-45e7c29557d9\",\"type\":\"Title\"},{\"attributes\":{\"formatter\":{\"id\":\"56b13d6d-f812-4ce3-84c7-59dec3d214df\",\"type\":\"BasicTickFormatter\"},\"plot\":{\"id\":\"eb6df19c-c17b-41c4-aaa6-2ac3c1288205\",\"subtype\":\"Figure\",\"type\":\"Plot\"},\"ticker\":{\"id\":\"0bec4f59-5467-45af-ba2a-1f5932033a50\",\"type\":\"BasicTicker\"}},\"id\":\"51cdab57-ae51-4c2c-a823-43acec65ba5e\",\"type\":\"LinearAxis\"},{\"attributes\":{\"callback\":null,\"column_names\":[\"y\",\"x\"],\"data\":{\"x\":[0.41913214990138065,0.41913214990138065],\"y\":[0.5,1.5]}},\"id\":\"b5fd0d0f-ad4a-47c0-a353-f38004cbe719\",\"type\":\"ColumnDataSource\"},{\"attributes\":{\"fill_alpha\":{\"value\":0.1},\"fill_color\":{\"value\":\"#1f77b4\"},\"height\":{\"value\":0.3},\"line_alpha\":{\"value\":0.1},\"line_color\":{\"value\":\"#1f77b4\"},\"right\":{\"value\":0.3577075098814229},\"y\":{\"value\":1}},\"id\":\"a7a6052a-3632-43dd-8c70-f9aa0750a29b\",\"type\":\"HBar\"},{\"attributes\":{\"data_source\":{\"id\":\"b5fd0d0f-ad4a-47c0-a353-f38004cbe719\",\"type\":\"ColumnDataSource\"},\"glyph\":{\"id\":\"35ebed7c-24e6-4280-8e48-d356a445c216\",\"type\":\"Line\"},\"hover_glyph\":null,\"muted_glyph\":null,\"nonselection_glyph\":{\"id\":\"7e5b31a9-543b-40a4-8bd8-669341f9be0f\",\"type\":\"Line\"},\"selection_glyph\":null},\"id\":\"e36266f8-adbc-4ef3-8df2-c525e3b97d15\",\"type\":\"GlyphRenderer\"},{\"attributes\":{},\"id\":\"56b13d6d-f812-4ce3-84c7-59dec3d214df\",\"type\":\"BasicTickFormatter\"},{\"attributes\":{\"above\":[{\"id\":\"440a4e7b-1743-42b9-8226-532abd995ccf\",\"type\":\"Title\"}],\"below\":[{\"id\":\"7644e8d5-4792-4df0-846e-95b58b54665a\",\"type\":\"LinearAxis\"}],\"left\":[{\"id\":\"d4f1586c-8ad6-4a09-81ad-580152839792\",\"type\":\"LinearAxis\"}],\"plot_height\":300,\"plot_width\":400,\"renderers\":[{\"id\":\"7644e8d5-4792-4df0-846e-95b58b54665a\",\"type\":\"LinearAxis\"},{\"id\":\"8314ed34-d85e-4c4b-a4db-2290c18c5ee8\",\"type\":\"Grid\"},{\"id\":\"d4f1586c-8ad6-4a09-81ad-580152839792\",\"type\":\"LinearAxis\"},{\"id\":\"86ea860b-7fee-4dea-aaef-74be4ca17ab5\",\"type\":\"Grid\"},{\"id\":\"48d7c12b-fe3f-4459-ad01-9ac1f06b3d4d\",\"type\":\"BoxAnnotation\"},{\"id\":\"e621518e-e015-400e-a276-73b03b864cb5\",\"type\":\"GlyphRenderer\"},{\"id\":\"f38583b0-aef6-43dd-b4c9-22e46c53560b\",\"type\":\"GlyphRenderer\"},{\"id\":\"e318b891-1b8b-4955-abef-3cdaa7d39734\",\"type\":\"GlyphRenderer\"},{\"id\":\"b8dcbd14-75ee-4229-8d9f-2901d71ec7c1\",\"type\":\"GlyphRenderer\"},{\"id\":\"09706971-1d59-4a3a-abb2-121819172148\",\"type\":\"GlyphRenderer\"},{\"id\":\"5a77be23-3359-4f63-8c58-7af54fe6fca4\",\"type\":\"GlyphRenderer\"},{\"id\":\"eecdbcc0-9791-4f42-b51e-9513793f5dfe\",\"type\":\"GlyphRenderer\"},{\"id\":\"59e52601-df1f-404f-841f-e4b5ef643f37\",\"type\":\"GlyphRenderer\"},{\"id\":\"578f23ce-647d-4814-911a-5aa38b6e0e80\",\"type\":\"GlyphRenderer\"},{\"id\":\"e36266f8-adbc-4ef3-8df2-c525e3b97d15\",\"type\":\"GlyphRenderer\"},{\"id\":\"2fe53d8a-e34e-4aa9-8503-d1f2c45223aa\",\"type\":\"GlyphRenderer\"},{\"id\":\"f4660311-7fac-492f-8065-b7c100caf474\",\"type\":\"GlyphRenderer\"},{\"id\":\"440a4e7b-1743-42b9-8226-532abd995ccf\",\"type\":\"Title\"}],\"title\":{\"id\":\"813c9e04-7d12-45c2-905c-559eaa9004bd\",\"type\":\"Title\"},\"tool_events\":{\"id\":\"ef8366f4-1cd9-489b-97b8-320727e2cd52\",\"type\":\"ToolEvents\"},\"toolbar\":{\"id\":\"0055fb36-a7e6-480c-9751-a501159ce8cf\",\"type\":\"Toolbar\"},\"x_range\":{\"id\":\"c5ee21b3-3b14-4ad0-a117-cdd03b6c5cbe\",\"type\":\"DataRange1d\"},\"x_scale\":{\"id\":\"b7cddd75-ed7e-4932-b049-0e8a90b08e8b\",\"type\":\"LinearScale\"},\"y_range\":{\"id\":\"dc6dd91e-fb6d-41c6-8543-edf5558c5cfe\",\"type\":\"Range1d\"},\"y_scale\":{\"id\":\"a09d5c5d-da55-4960-a1d4-8209db346b85\",\"type\":\"LinearScale\"}},\"id\":\"50fc8fef-4524-4a11-96d4-d18f50df5e6b\",\"subtype\":\"Figure\",\"type\":\"Plot\"},{\"attributes\":{\"callback\":null,\"data\":{}},\"id\":\"8e732605-5a29-4722-a320-2d6865a22abc\",\"type\":\"ColumnDataSource\"},{\"attributes\":{\"formatter\":{\"id\":\"fac539f1-0bea-4bfb-b9f7-1c05d1705a46\",\"type\":\"BasicTickFormatter\"},\"plot\":{\"id\":\"50fc8fef-4524-4a11-96d4-d18f50df5e6b\",\"subtype\":\"Figure\",\"type\":\"Plot\"},\"ticker\":{\"id\":\"4dbafb45-1865-4d4f-9efe-7c928127367c\",\"type\":\"BasicTicker\"},\"visible\":false},\"id\":\"d4f1586c-8ad6-4a09-81ad-580152839792\",\"type\":\"LinearAxis\"},{\"attributes\":{\"callback\":null,\"data\":{}},\"id\":\"c501f112-f0ee-4109-a5be-e00e709e98b6\",\"type\":\"ColumnDataSource\"},{\"attributes\":{\"callback\":null},\"id\":\"7a989265-0b01-41bc-8da8-f8dc2d584a13\",\"type\":\"DataRange1d\"},{\"attributes\":{\"fill_color\":{\"value\":\"#E43216\"},\"height\":{\"value\":0.3},\"left\":{\"value\":-0.388560157790927},\"line_color\":{\"value\":\"#E43216\"},\"right\":{\"value\":-0.3865877712031558},\"y\":{\"value\":1}},\"id\":\"025edd1d-0eb4-4479-9d8b-4710f97837f2\",\"type\":\"HBar\"},{\"attributes\":{\"dimension\":1,\"plot\":{\"id\":\"9d0d4452-756f-4cc9-b627-46498bf3c4b0\",\"subtype\":\"Figure\",\"type\":\"Plot\"},\"ticker\":{\"id\":\"aead258e-9999-4dc2-b693-d82da64b687d\",\"type\":\"BasicTicker\"}},\"id\":\"e965ba96-4ec5-476e-aeba-4f4080628032\",\"type\":\"Grid\"},{\"attributes\":{},\"id\":\"fb277b51-9c62-40fb-9fdc-a3479afbf22e\",\"type\":\"BasicTicker\"},{\"attributes\":{\"line_alpha\":{\"value\":0.1},\"line_color\":{\"value\":\"#1f77b4\"},\"line_dash\":[6],\"line_width\":{\"value\":2},\"x\":{\"field\":\"x\"},\"y\":{\"field\":\"y\"}},\"id\":\"012bd915-5639-4904-8f0a-cfaafbe293dc\",\"type\":\"Line\"},{\"attributes\":{\"fill_alpha\":{\"value\":0.1},\"fill_color\":{\"value\":\"#1f77b4\"},\"height\":{\"value\":0.3},\"left\":{\"value\":-0.47529644268774707},\"line_alpha\":{\"value\":0.1},\"line_color\":{\"value\":\"#1f77b4\"},\"right\":{\"value\":-0.4090909090909091},\"y\":{\"value\":1}},\"id\":\"ec00e981-006a-439d-9ee9-b8636b8222d6\",\"type\":\"HBar\"},{\"attributes\":{\"plot\":{\"id\":\"04b0bd3b-8b6b-4936-a02e-a0a99d0d6564\",\"subtype\":\"Figure\",\"type\":\"Plot\"}},\"id\":\"bbcc2f11-048a-4d27-a70a-d87bdaa7b09e\",\"type\":\"SaveTool\"},{\"attributes\":{\"grid_line_color\":{\"value\":null},\"plot\":{\"id\":\"04b0bd3b-8b6b-4936-a02e-a0a99d0d6564\",\"subtype\":\"Figure\",\"type\":\"Plot\"},\"ticker\":{\"id\":\"ccaa1d38-fef8-4bfe-846d-f7b32c4e9850\",\"type\":\"BasicTicker\"}},\"id\":\"40694c15-348f-4f41-b351-d091e86805c4\",\"type\":\"Grid\"},{\"attributes\":{},\"id\":\"33fa6316-d6c8-4ebd-abd2-e89b3b6bb4b3\",\"type\":\"BasicTickFormatter\"},{\"attributes\":{\"data_source\":{\"id\":\"e9c74882-dd67-4725-b983-e2a36dbe8f17\",\"type\":\"ColumnDataSource\"},\"glyph\":{\"id\":\"45944206-9f89-4247-a46f-3275d4167a83\",\"type\":\"HBar\"},\"hover_glyph\":null,\"muted_glyph\":null,\"nonselection_glyph\":{\"id\":\"66682de7-ef08-43c1-afc3-37d5c6a5e984\",\"type\":\"HBar\"},\"selection_glyph\":null},\"id\":\"2fe53d8a-e34e-4aa9-8503-d1f2c45223aa\",\"type\":\"GlyphRenderer\"},{\"attributes\":{\"fill_alpha\":{\"value\":0.1},\"fill_color\":{\"value\":\"#1f77b4\"},\"height\":{\"value\":0.3},\"left\":{\"value\":0.41913214990138065},\"line_alpha\":{\"value\":0.1},\"line_color\":{\"value\":\"#1f77b4\"},\"right\":{\"value\":0.5641025641025641},\"y\":{\"value\":1}},\"id\":\"0e7431fa-e751-4d57-b87d-0fab24b4f3cd\",\"type\":\"HBar\"},{\"attributes\":{\"overlay\":{\"id\":\"48d7c12b-fe3f-4459-ad01-9ac1f06b3d4d\",\"type\":\"BoxAnnotation\"},\"plot\":{\"id\":\"50fc8fef-4524-4a11-96d4-d18f50df5e6b\",\"subtype\":\"Figure\",\"type\":\"Plot\"}},\"id\":\"3d759118-0dd7-408a-9bc0-6fface91bb5d\",\"type\":\"BoxZoomTool\"},{\"attributes\":{\"callback\":null,\"column_names\":[\"y\",\"x\"],\"data\":{\"x\":[-0.3264299802761341,-0.3264299802761341],\"y\":[0.5,1.5]}},\"id\":\"5e99f833-5e86-4681-ae75-2753f1860503\",\"type\":\"ColumnDataSource\"},{\"attributes\":{\"data_source\":{\"id\":\"5cdc8b5e-c37f-40c8-a008-9c34175b16ae\",\"type\":\"ColumnDataSource\"},\"glyph\":{\"id\":\"7b7a7975-409f-43a6-bd85-9d9e114744cc\",\"type\":\"Line\"},\"hover_glyph\":null,\"muted_glyph\":null,\"nonselection_glyph\":{\"id\":\"99c7b145-7a8d-4265-956a-34894de788c6\",\"type\":\"Line\"},\"selection_glyph\":null},\"id\":\"13ce22a3-fcc8-4d48-ba64-0489ce9e8e6d\",\"type\":\"GlyphRenderer\"},{\"attributes\":{\"callback\":null},\"id\":\"04e89a74-bc13-4052-9a91-5ccbb8cc70fc\",\"type\":\"DataRange1d\"},{\"attributes\":{},\"id\":\"3a8d8835-0c44-45fe-8e4d-190437143e0e\",\"type\":\"LinearScale\"},{\"attributes\":{\"plot\":null,\"text\":\"\"},\"id\":\"1f4a9f62-2aca-4704-abf7-f7e0959b8606\",\"type\":\"Title\"},{\"attributes\":{\"dimension\":1,\"plot\":{\"id\":\"eb6df19c-c17b-41c4-aaa6-2ac3c1288205\",\"subtype\":\"Figure\",\"type\":\"Plot\"},\"ticker\":{\"id\":\"0bec4f59-5467-45af-ba2a-1f5932033a50\",\"type\":\"BasicTicker\"}},\"id\":\"9c85325b-3752-4840-9d53-469ae5c935db\",\"type\":\"Grid\"},{\"attributes\":{\"callback\":null,\"column_names\":[\"y\",\"x\"],\"data\":{\"x\":[-0.4090909090909091,-0.4090909090909091],\"y\":[0.5,1.5]}},\"id\":\"5cdc8b5e-c37f-40c8-a008-9c34175b16ae\",\"type\":\"ColumnDataSource\"},{\"attributes\":{\"callback\":null,\"column_names\":[\"y\",\"x\"],\"data\":{\"x\":[0,0],\"y\":[0.5,1.5]}},\"id\":\"b66f1dc0-efd8-4d75-b79d-9fcc2636d8ff\",\"type\":\"ColumnDataSource\"},{\"attributes\":{\"callback\":null,\"data\":{}},\"id\":\"c97cccb4-614f-4e04-89da-debce08bd6da\",\"type\":\"ColumnDataSource\"},{\"attributes\":{\"callback\":null,\"plot\":{\"id\":\"9d0d4452-756f-4cc9-b627-46498bf3c4b0\",\"subtype\":\"Figure\",\"type\":\"Plot\"},\"tooltips\":[[\"pct\",\"@pct{(0.00%)}\"]]},\"id\":\"4015b270-bc9f-408c-ac9e-2bd599434f1c\",\"type\":\"HoverTool\"},{\"attributes\":{\"data_source\":{\"id\":\"e6a772b6-30f7-40e1-895a-dcdd4ba80d6c\",\"type\":\"ColumnDataSource\"},\"glyph\":{\"id\":\"99c172bd-ba7e-4497-bbc0-11204a0e441f\",\"type\":\"Line\"},\"hover_glyph\":null,\"muted_glyph\":null,\"nonselection_glyph\":{\"id\":\"61317906-7055-455b-a65c-274f8cd4c1d4\",\"type\":\"Line\"},\"selection_glyph\":null},\"id\":\"f38583b0-aef6-43dd-b4c9-22e46c53560b\",\"type\":\"GlyphRenderer\"},{\"attributes\":{},\"id\":\"377b9a43-b2cd-4c3a-a807-394f4cc543e8\",\"type\":\"BasicTickFormatter\"},{\"attributes\":{\"line_color\":{\"value\":\"#AAB2A5\"},\"line_dash\":[6],\"line_width\":{\"value\":2},\"x\":{\"field\":\"x\"},\"y\":{\"field\":\"y\"}},\"id\":\"cfcf550b-30e8-4081-bf73-b70d11067b5c\",\"type\":\"Line\"},{\"attributes\":{},\"id\":\"092df21d-d604-47cf-abcf-4447e1c5b683\",\"type\":\"BasicTicker\"},{\"attributes\":{\"fill_alpha\":{\"value\":0.1},\"fill_color\":{\"value\":\"#1f77b4\"},\"height\":{\"value\":0.3},\"left\":{\"value\":0.3577075098814229},\"line_alpha\":{\"value\":0.1},\"line_color\":{\"value\":\"#1f77b4\"},\"right\":{\"value\":0.45652173913043476},\"y\":{\"value\":1}},\"id\":\"fad4795e-56da-4ffd-8927-90cc7f936332\",\"type\":\"HBar\"},{\"attributes\":{\"callback\":null,\"column_names\":[\"y\",\"x\"],\"data\":{\"x\":[0,0],\"y\":[0.5,1.5]}},\"id\":\"a27a8c93-92d6-4a43-be62-9db815d88e28\",\"type\":\"ColumnDataSource\"},{\"attributes\":{\"line_color\":{\"value\":\"#AAB2A5\"},\"line_dash\":[6],\"line_width\":{\"value\":2},\"x\":{\"field\":\"x\"},\"y\":{\"field\":\"y\"}},\"id\":\"dab68d73-7bb2-4031-8c7c-44e0442715ff\",\"type\":\"Line\"},{\"attributes\":{\"line_color\":{\"value\":\"#AAB2A5\"},\"line_dash\":[6],\"line_width\":{\"value\":2},\"x\":{\"field\":\"x\"},\"y\":{\"field\":\"y\"}},\"id\":\"7b7a7975-409f-43a6-bd85-9d9e114744cc\",\"type\":\"Line\"},{\"attributes\":{\"grid_line_color\":{\"value\":null},\"plot\":{\"id\":\"50fc8fef-4524-4a11-96d4-d18f50df5e6b\",\"subtype\":\"Figure\",\"type\":\"Plot\"},\"ticker\":{\"id\":\"514224c9-ecaf-4589-b45d-780d699f7e7d\",\"type\":\"BasicTicker\"}},\"id\":\"8314ed34-d85e-4c4b-a4db-2290c18c5ee8\",\"type\":\"Grid\"},{\"attributes\":{\"formatter\":{\"id\":\"6e4e5cd1-7866-49fa-b19c-ffb6b847f256\",\"type\":\"BasicTickFormatter\"},\"plot\":{\"id\":\"04b0bd3b-8b6b-4936-a02e-a0a99d0d6564\",\"subtype\":\"Figure\",\"type\":\"Plot\"},\"ticker\":{\"id\":\"cd5a0326-8d14-4bf4-b705-ada08a42c4ae\",\"type\":\"BasicTicker\"},\"visible\":false},\"id\":\"f225786c-3c34-4cd0-b6ad-ca58263e8e5a\",\"type\":\"LinearAxis\"},{\"attributes\":{\"callback\":null,\"plot\":{\"id\":\"eb6df19c-c17b-41c4-aaa6-2ac3c1288205\",\"subtype\":\"Figure\",\"type\":\"Plot\"},\"tooltips\":[[\"pct\",\"@pct{(0.00%)}\"]]},\"id\":\"530e2577-dd4f-42ec-8a97-9d26295b6b7f\",\"type\":\"HoverTool\"},{\"attributes\":{\"plot\":{\"id\":\"04b0bd3b-8b6b-4936-a02e-a0a99d0d6564\",\"subtype\":\"Figure\",\"type\":\"Plot\"}},\"id\":\"e295bf6d-c687-4479-889e-3fa063694825\",\"type\":\"PanTool\"},{\"attributes\":{\"fill_alpha\":{\"value\":0.1},\"fill_color\":{\"value\":\"#1f77b4\"},\"line_alpha\":{\"value\":0.1},\"line_color\":{\"value\":\"#1f77b4\"},\"top\":{\"field\":\"pct\"},\"width\":{\"value\":0.6},\"x\":{\"field\":\"index\"}},\"id\":\"d4fa70d3-e314-4edd-9d91-2bfcc4e4862b\",\"type\":\"VBar\"},{\"attributes\":{\"fill_color\":{\"value\":\"#E43216\"},\"height\":{\"value\":0.3},\"left\":{\"value\":0.5641025641025641},\"line_color\":{\"value\":\"#E43216\"},\"right\":{\"value\":0.611439842209073},\"y\":{\"value\":1}},\"id\":\"45944206-9f89-4247-a46f-3275d4167a83\",\"type\":\"HBar\"},{\"attributes\":{\"fill_color\":{\"value\":\"#E4E02C\"},\"height\":{\"value\":0.3},\"left\":{\"value\":-0.47529644268774707},\"line_color\":{\"value\":\"#E4E02C\"},\"right\":{\"value\":-0.4090909090909091},\"y\":{\"value\":1}},\"id\":\"dbbef56c-1393-4159-80b0-a6203fdbd3a5\",\"type\":\"HBar\"},{\"attributes\":{\"data_source\":{\"id\":\"9ac0db79-8a3b-42af-a2ed-580283dbbb8d\",\"type\":\"ColumnDataSource\"},\"glyph\":{\"id\":\"dab68d73-7bb2-4031-8c7c-44e0442715ff\",\"type\":\"Line\"},\"hover_glyph\":null,\"muted_glyph\":null,\"nonselection_glyph\":{\"id\":\"8ed38b23-e3f8-406e-8ecc-fb9ec0fa2c93\",\"type\":\"Line\"},\"selection_glyph\":null},\"id\":\"5a77be23-3359-4f63-8c58-7af54fe6fca4\",\"type\":\"GlyphRenderer\"},{\"attributes\":{\"align\":\"center\",\"plot\":{\"id\":\"eb6df19c-c17b-41c4-aaa6-2ac3c1288205\",\"subtype\":\"Figure\",\"type\":\"Plot\"},\"text\":\"Total percentage within thresholds drop off\"},\"id\":\"1559542c-9ec7-428d-91f6-574935d9ef41\",\"type\":\"Title\"},{\"attributes\":{\"data_source\":{\"id\":\"8e732605-5a29-4722-a320-2d6865a22abc\",\"type\":\"ColumnDataSource\"},\"glyph\":{\"id\":\"df5be6b8-bb80-4239-afd7-b236021f1d54\",\"type\":\"HBar\"},\"hover_glyph\":null,\"muted_glyph\":null,\"nonselection_glyph\":{\"id\":\"2018200e-4837-4de5-82bb-f0b4f96d510f\",\"type\":\"HBar\"},\"selection_glyph\":null},\"id\":\"eecdbcc0-9791-4f42-b51e-9513793f5dfe\",\"type\":\"GlyphRenderer\"},{\"attributes\":{\"data_source\":{\"id\":\"a27a8c93-92d6-4a43-be62-9db815d88e28\",\"type\":\"ColumnDataSource\"},\"glyph\":{\"id\":\"bec08799-22b2-4d57-aabc-c66fa80d596e\",\"type\":\"Line\"},\"hover_glyph\":null,\"muted_glyph\":null,\"nonselection_glyph\":{\"id\":\"153ae417-57c2-4a69-a433-3c22488ee4e0\",\"type\":\"Line\"},\"selection_glyph\":null},\"id\":\"59e52601-df1f-404f-841f-e4b5ef643f37\",\"type\":\"GlyphRenderer\"},{\"attributes\":{\"data_source\":{\"id\":\"b6acf1e0-9aa2-46c2-b19e-1f4830b67f39\",\"type\":\"ColumnDataSource\"},\"glyph\":{\"id\":\"dacbced3-1713-4104-8ea4-a4875df89919\",\"type\":\"VBar\"},\"hover_glyph\":null,\"muted_glyph\":null,\"nonselection_glyph\":{\"id\":\"89c25d53-c583-45b8-ab68-da7ba74c7f6c\",\"type\":\"VBar\"},\"selection_glyph\":null},\"id\":\"644ceae8-c35a-4a80-bcea-9814af552268\",\"type\":\"GlyphRenderer\"},{\"attributes\":{\"line_alpha\":{\"value\":0.1},\"line_color\":{\"value\":\"#1f77b4\"},\"line_dash\":[6],\"line_width\":{\"value\":2},\"x\":{\"field\":\"x\"},\"y\":{\"field\":\"y\"}},\"id\":\"7e5b31a9-543b-40a4-8bd8-669341f9be0f\",\"type\":\"Line\"},{\"attributes\":{\"callback\":null,\"column_names\":[\"y\",\"x\"],\"data\":{\"x\":[-0.47529644268774707,-0.47529644268774707],\"y\":[0.5,1.5]}},\"id\":\"9106fb8e-864b-46b9-b286-c6cbb6a7433c\",\"type\":\"ColumnDataSource\"},{\"attributes\":{\"callback\":null,\"end\":2},\"id\":\"4f065a18-06bc-4c40-bbe1-94b717248a58\",\"type\":\"Range1d\"},{\"attributes\":{\"line_color\":{\"value\":\"#AAB2A5\"},\"line_dash\":[6],\"line_width\":{\"value\":2},\"x\":{\"field\":\"x\"},\"y\":{\"field\":\"y\"}},\"id\":\"35ebed7c-24e6-4280-8e48-d356a445c216\",\"type\":\"Line\"},{\"attributes\":{\"text\":\"<h1 style='margin-left:200px;margin-right:-400px;margin-bottom:18px;font-size:20px;                color:#7D7575'> Time thresholds for pick ups / drop offs </h1>\"},\"id\":\"18c718d5-5b5f-414a-9e12-d1cb122cb53a\",\"type\":\"Div\"},{\"attributes\":{\"above\":[{\"id\":\"1dc20726-4005-4ffd-b857-3ba98696b486\",\"type\":\"Title\"}],\"below\":[{\"id\":\"2e46addc-946b-4b58-a3d9-e759713d7a6d\",\"type\":\"LinearAxis\"}],\"left\":[{\"id\":\"820318da-bd18-458e-b9bc-b98341326cd1\",\"type\":\"LinearAxis\"}],\"plot_height\":300,\"plot_width\":400,\"renderers\":[{\"id\":\"2e46addc-946b-4b58-a3d9-e759713d7a6d\",\"type\":\"LinearAxis\"},{\"id\":\"af25a708-0576-4a3b-bb0c-a56cc6de901b\",\"type\":\"Grid\"},{\"id\":\"820318da-bd18-458e-b9bc-b98341326cd1\",\"type\":\"LinearAxis\"},{\"id\":\"e965ba96-4ec5-476e-aeba-4f4080628032\",\"type\":\"Grid\"},{\"id\":\"1dc20726-4005-4ffd-b857-3ba98696b486\",\"type\":\"Title\"},{\"id\":\"644ceae8-c35a-4a80-bcea-9814af552268\",\"type\":\"GlyphRenderer\"}],\"title\":{\"id\":\"c46d12ae-3e60-4b71-97cf-ad4a37360dc1\",\"type\":\"Title\"},\"tool_events\":{\"id\":\"5e8a327f-0add-4d29-8dbd-9dadfb21d4bd\",\"type\":\"ToolEvents\"},\"toolbar\":{\"id\":\"4bc8cdf8-8c05-4481-bbd4-0b8c04229512\",\"type\":\"Toolbar\"},\"x_range\":{\"id\":\"309bda3a-a504-4f27-9960-88b763e18a5e\",\"type\":\"DataRange1d\"},\"x_scale\":{\"id\":\"3a8d8835-0c44-45fe-8e4d-190437143e0e\",\"type\":\"LinearScale\"},\"y_range\":{\"id\":\"7a989265-0b01-41bc-8da8-f8dc2d584a13\",\"type\":\"DataRange1d\"},\"y_scale\":{\"id\":\"5f93656c-65df-418d-b599-7a77a9061f39\",\"type\":\"LinearScale\"}},\"id\":\"9d0d4452-756f-4cc9-b627-46498bf3c4b0\",\"subtype\":\"Figure\",\"type\":\"Plot\"},{\"attributes\":{\"data_source\":{\"id\":\"9c140289-435c-4ecd-9b2b-11d04fe2515f\",\"type\":\"ColumnDataSource\"},\"glyph\":{\"id\":\"ec56a4ff-ff74-40dc-8402-3e3100a1e5db\",\"type\":\"HBar\"},\"hover_glyph\":null,\"muted_glyph\":null,\"nonselection_glyph\":{\"id\":\"186e9c24-5d06-4bfe-b3d0-07ab352f3582\",\"type\":\"HBar\"},\"selection_glyph\":null},\"id\":\"f8a22b06-64c5-4395-bef6-133be5e7c011\",\"type\":\"GlyphRenderer\"},{\"attributes\":{\"data_source\":{\"id\":\"b4df4e9b-04f9-4065-87f4-11d3503fa0d8\",\"type\":\"ColumnDataSource\"},\"glyph\":{\"id\":\"3aedbddb-38cd-4df5-b905-02459d46cc89\",\"type\":\"Line\"},\"hover_glyph\":null,\"muted_glyph\":null,\"nonselection_glyph\":{\"id\":\"aed717df-3770-4a50-896e-4c400d9dcb23\",\"type\":\"Line\"},\"selection_glyph\":null},\"id\":\"0c10e36f-db9a-410c-bd86-7e4e129c6471\",\"type\":\"GlyphRenderer\"},{\"attributes\":{\"formatter\":{\"id\":\"90c18885-beb3-45fc-9923-9d17a6923b4a\",\"type\":\"BasicTickFormatter\"},\"plot\":{\"id\":\"eb6df19c-c17b-41c4-aaa6-2ac3c1288205\",\"subtype\":\"Figure\",\"type\":\"Plot\"},\"ticker\":{\"id\":\"fb277b51-9c62-40fb-9fdc-a3479afbf22e\",\"type\":\"BasicTicker\"}},\"id\":\"29b4e3df-37f2-4874-8a29-aaa292f6b946\",\"type\":\"LinearAxis\"},{\"attributes\":{\"callback\":null,\"data\":{}},\"id\":\"c3cf7e17-257c-4e43-bf1b-44f52e3854be\",\"type\":\"ColumnDataSource\"},{\"attributes\":{\"fill_alpha\":{\"value\":0.1},\"fill_color\":{\"value\":\"#1f77b4\"},\"height\":{\"value\":0.3},\"left\":{\"value\":-0.4090909090909091},\"line_alpha\":{\"value\":0.1},\"line_color\":{\"value\":\"#1f77b4\"},\"right\":{\"value\":0},\"y\":{\"value\":1}},\"id\":\"186e9c24-5d06-4bfe-b3d0-07ab352f3582\",\"type\":\"HBar\"},{\"attributes\":{\"formatter\":{\"id\":\"33fa6316-d6c8-4ebd-abd2-e89b3b6bb4b3\",\"type\":\"BasicTickFormatter\"},\"plot\":{\"id\":\"9d0d4452-756f-4cc9-b627-46498bf3c4b0\",\"subtype\":\"Figure\",\"type\":\"Plot\"},\"ticker\":{\"id\":\"092df21d-d604-47cf-abcf-4447e1c5b683\",\"type\":\"BasicTicker\"}},\"id\":\"2e46addc-946b-4b58-a3d9-e759713d7a6d\",\"type\":\"LinearAxis\"},{\"attributes\":{\"plot\":{\"id\":\"50fc8fef-4524-4a11-96d4-d18f50df5e6b\",\"subtype\":\"Figure\",\"type\":\"Plot\"}},\"id\":\"4c5f41b5-b820-4063-ae61-ecc59f3db515\",\"type\":\"ResetTool\"},{\"attributes\":{\"callback\":null,\"data\":{}},\"id\":\"7faa7570-b242-401d-92c3-7234db1a0372\",\"type\":\"ColumnDataSource\"},{\"attributes\":{\"line_alpha\":{\"value\":0.1},\"line_color\":{\"value\":\"#1f77b4\"},\"line_dash\":[6],\"line_width\":{\"value\":2},\"x\":{\"field\":\"x\"},\"y\":{\"field\":\"y\"}},\"id\":\"aed717df-3770-4a50-896e-4c400d9dcb23\",\"type\":\"Line\"},{\"attributes\":{\"callback\":null,\"column_names\":[\"y\",\"x\"],\"data\":{\"x\":[0.45652173913043476,0.45652173913043476],\"y\":[0.5,1.5]}},\"id\":\"792825dc-9db1-4114-b192-db3469851554\",\"type\":\"ColumnDataSource\"},{\"attributes\":{\"fill_color\":{\"field\":\"colors\"},\"line_color\":{\"field\":\"colors\"},\"top\":{\"field\":\"pct\"},\"width\":{\"value\":0.6},\"x\":{\"field\":\"index\"}},\"id\":\"dacbced3-1713-4104-8ea4-a4875df89919\",\"type\":\"VBar\"},{\"attributes\":{\"callback\":null,\"column_names\":[\"pct\",\"index\",\"thresholds\",\"colors\"],\"data\":{\"colors\":[\"#459E0F\",\"#E4E02C\",\"#E43216\"],\"index\":[0,1,2],\"pct\":{\"__ndarray__\":\"4vPHHKXb5z8apEEapEHKP3wxesodP6k/\",\"dtype\":\"float64\",\"shape\":[3]},\"thresholds\":[\"green\",\"yellow\",\"red\"]}},\"id\":\"b6acf1e0-9aa2-46c2-b19e-1f4830b67f39\",\"type\":\"ColumnDataSource\"},{\"attributes\":{\"fill_color\":{\"value\":\"#459E0F\"},\"height\":{\"value\":0.3},\"left\":{\"value\":-0.3264299802761341},\"line_color\":{\"value\":\"#459E0F\"},\"right\":{\"value\":0},\"y\":{\"value\":1}},\"id\":\"47fde433-6e82-443b-b7cc-4e352da524f0\",\"type\":\"HBar\"},{\"attributes\":{\"fill_color\":{\"value\":\"#459E0F\"},\"height\":{\"value\":0.3},\"line_color\":{\"value\":\"#459E0F\"},\"right\":{\"value\":0.3577075098814229},\"y\":{\"value\":1}},\"id\":\"f83842a7-fb3a-4bfc-842c-94e39f25b791\",\"type\":\"HBar\"},{\"attributes\":{\"line_alpha\":{\"value\":0.1},\"line_color\":{\"value\":\"#1f77b4\"},\"line_dash\":[6],\"line_width\":{\"value\":2},\"x\":{\"field\":\"x\"},\"y\":{\"field\":\"y\"}},\"id\":\"61317906-7055-455b-a65c-274f8cd4c1d4\",\"type\":\"Line\"},{\"attributes\":{\"line_color\":{\"value\":\"#AAB2A5\"},\"line_dash\":[6],\"line_width\":{\"value\":2},\"x\":{\"field\":\"x\"},\"y\":{\"field\":\"y\"}},\"id\":\"a97f25bc-b06e-4f99-aaf3-b1a0007ce821\",\"type\":\"Line\"},{\"attributes\":{\"fill_alpha\":{\"value\":0.1},\"fill_color\":{\"value\":\"#1f77b4\"},\"line_alpha\":{\"value\":0.1},\"line_color\":{\"value\":\"#1f77b4\"},\"top\":{\"field\":\"pct\"},\"width\":{\"value\":0.6},\"x\":{\"field\":\"index\"}},\"id\":\"89c25d53-c583-45b8-ab68-da7ba74c7f6c\",\"type\":\"VBar\"},{\"attributes\":{},\"id\":\"f7f2d758-e496-4350-9ac6-6d7d4d40c746\",\"type\":\"LinearScale\"},{\"attributes\":{},\"id\":\"cd5a0326-8d14-4bf4-b705-ada08a42c4ae\",\"type\":\"BasicTicker\"},{\"attributes\":{\"line_alpha\":{\"value\":0.1},\"line_color\":{\"value\":\"#1f77b4\"},\"line_dash\":[6],\"line_width\":{\"value\":2},\"x\":{\"field\":\"x\"},\"y\":{\"field\":\"y\"}},\"id\":\"95a9993d-ac98-4836-bd4a-2fc4c86e4380\",\"type\":\"Line\"},{\"attributes\":{\"callback\":null},\"id\":\"c5ee21b3-3b14-4ad0-a117-cdd03b6c5cbe\",\"type\":\"DataRange1d\"},{\"attributes\":{\"plot\":{\"id\":\"50fc8fef-4524-4a11-96d4-d18f50df5e6b\",\"subtype\":\"Figure\",\"type\":\"Plot\"}},\"id\":\"39568920-29a3-4a3e-80e7-f05c699f963b\",\"type\":\"HelpTool\"},{\"attributes\":{\"above\":[{\"id\":\"f5ce7a92-6037-497a-9d10-45e7c29557d9\",\"type\":\"Title\"}],\"below\":[{\"id\":\"ab824756-e66e-4333-8b44-b3613cd79353\",\"type\":\"LinearAxis\"}],\"left\":[{\"id\":\"f225786c-3c34-4cd0-b6ad-ca58263e8e5a\",\"type\":\"LinearAxis\"}],\"plot_height\":300,\"plot_width\":400,\"renderers\":[{\"id\":\"ab824756-e66e-4333-8b44-b3613cd79353\",\"type\":\"LinearAxis\"},{\"id\":\"40694c15-348f-4f41-b351-d091e86805c4\",\"type\":\"Grid\"},{\"id\":\"f225786c-3c34-4cd0-b6ad-ca58263e8e5a\",\"type\":\"LinearAxis\"},{\"id\":\"c0e4a93a-dbae-4600-b5fe-d7a4178b8b9c\",\"type\":\"Grid\"},{\"id\":\"928f15e9-0d9a-482c-9b00-21a50d8d74aa\",\"type\":\"BoxAnnotation\"},{\"id\":\"f8a22b06-64c5-4395-bef6-133be5e7c011\",\"type\":\"GlyphRenderer\"},{\"id\":\"0c10e36f-db9a-410c-bd86-7e4e129c6471\",\"type\":\"GlyphRenderer\"},{\"id\":\"56bd0e71-8d7b-4494-a06f-c2bac36f8706\",\"type\":\"GlyphRenderer\"},{\"id\":\"13ce22a3-fcc8-4d48-ba64-0489ce9e8e6d\",\"type\":\"GlyphRenderer\"},{\"id\":\"97b297c9-52ab-4554-8d5d-12fb5f125d4c\",\"type\":\"GlyphRenderer\"},{\"id\":\"90e22fec-4164-4be2-ae0e-61d2d98c5422\",\"type\":\"GlyphRenderer\"},{\"id\":\"512bb33c-a89a-4b1f-a5af-e4ed7c719260\",\"type\":\"GlyphRenderer\"},{\"id\":\"1cefe082-d41e-4a84-ab5c-c8a928015f0c\",\"type\":\"GlyphRenderer\"},{\"id\":\"943d405a-c216-42b3-b479-538ee1b2cb07\",\"type\":\"GlyphRenderer\"},{\"id\":\"d315b0a0-1690-4d2d-bafb-958fab0fd801\",\"type\":\"GlyphRenderer\"},{\"id\":\"a0c0d12e-fa87-4b99-87fa-7f60e981bdae\",\"type\":\"GlyphRenderer\"},{\"id\":\"9833e185-b7b3-4232-9779-8d32ddf00a4a\",\"type\":\"GlyphRenderer\"},{\"id\":\"f5ce7a92-6037-497a-9d10-45e7c29557d9\",\"type\":\"Title\"}],\"title\":{\"id\":\"d3b1898c-fa84-4769-a31a-56ceec5cc5e5\",\"type\":\"Title\"},\"tool_events\":{\"id\":\"26b9f030-f74c-4df8-91de-3767e70bcc8d\",\"type\":\"ToolEvents\"},\"toolbar\":{\"id\":\"d119cb9c-4a1e-4556-82ae-25ba9d60278e\",\"type\":\"Toolbar\"},\"x_range\":{\"id\":\"c5ee21b3-3b14-4ad0-a117-cdd03b6c5cbe\",\"type\":\"DataRange1d\"},\"x_scale\":{\"id\":\"f7f2d758-e496-4350-9ac6-6d7d4d40c746\",\"type\":\"LinearScale\"},\"y_range\":{\"id\":\"4f065a18-06bc-4c40-bbe1-94b717248a58\",\"type\":\"Range1d\"},\"y_scale\":{\"id\":\"0200b9b2-baa9-4881-adca-2c469611cde4\",\"type\":\"LinearScale\"}},\"id\":\"04b0bd3b-8b6b-4936-a02e-a0a99d0d6564\",\"subtype\":\"Figure\",\"type\":\"Plot\"},{\"attributes\":{\"plot\":null,\"text\":\"\"},\"id\":\"c46d12ae-3e60-4b71-97cf-ad4a37360dc1\",\"type\":\"Title\"},{\"attributes\":{},\"id\":\"0bec4f59-5467-45af-ba2a-1f5932033a50\",\"type\":\"BasicTicker\"},{\"attributes\":{\"callback\":null},\"id\":\"309bda3a-a504-4f27-9960-88b763e18a5e\",\"type\":\"DataRange1d\"},{\"attributes\":{\"children\":[{\"id\":\"18c718d5-5b5f-414a-9e12-d1cb122cb53a\",\"type\":\"Div\"}]},\"id\":\"c0d9a959-1798-45cc-966b-a60efe378c86\",\"type\":\"WidgetBox\"},{\"attributes\":{\"formatter\":{\"id\":\"00b5c65b-3cc0-447c-8dea-fbab76590d00\",\"type\":\"BasicTickFormatter\"},\"plot\":{\"id\":\"9d0d4452-756f-4cc9-b627-46498bf3c4b0\",\"subtype\":\"Figure\",\"type\":\"Plot\"},\"ticker\":{\"id\":\"aead258e-9999-4dc2-b693-d82da64b687d\",\"type\":\"BasicTicker\"}},\"id\":\"820318da-bd18-458e-b9bc-b98341326cd1\",\"type\":\"LinearAxis\"},{\"attributes\":{\"data_source\":{\"id\":\"282372c7-d7a2-47d9-bce2-79a178bba5d0\",\"type\":\"ColumnDataSource\"},\"glyph\":{\"id\":\"6bed3a8e-def1-478f-a1f2-f0e3580eb00a\",\"type\":\"HBar\"},\"hover_glyph\":null,\"muted_glyph\":null,\"nonselection_glyph\":{\"id\":\"daba7ec4-a207-432e-9d50-ec91c4301f2d\",\"type\":\"HBar\"},\"selection_glyph\":null},\"id\":\"a0c0d12e-fa87-4b99-87fa-7f60e981bdae\",\"type\":\"GlyphRenderer\"},{\"attributes\":{},\"id\":\"b7cddd75-ed7e-4932-b049-0e8a90b08e8b\",\"type\":\"LinearScale\"},{\"attributes\":{\"callback\":null,\"data\":{}},\"id\":\"45c9470f-268f-4793-82bd-3c44339ac7d5\",\"type\":\"ColumnDataSource\"},{\"attributes\":{\"line_alpha\":{\"value\":0.1},\"line_color\":{\"value\":\"#1f77b4\"},\"line_dash\":[6],\"line_width\":{\"value\":2},\"x\":{\"field\":\"x\"},\"y\":{\"field\":\"y\"}},\"id\":\"3798506b-b530-42a7-a4be-668a22bb8268\",\"type\":\"Line\"},{\"attributes\":{},\"id\":\"4dbafb45-1865-4d4f-9efe-7c928127367c\",\"type\":\"BasicTicker\"},{\"attributes\":{\"callback\":null,\"data\":{}},\"id\":\"4bff24e3-c957-4bc0-bd4a-3f910cc44ba4\",\"type\":\"ColumnDataSource\"},{\"attributes\":{\"callback\":null},\"id\":\"fe652eaf-702f-4fbb-b885-ab2066b0f609\",\"type\":\"DataRange1d\"},{\"attributes\":{\"data_source\":{\"id\":\"c501f112-f0ee-4109-a5be-e00e709e98b6\",\"type\":\"ColumnDataSource\"},\"glyph\":{\"id\":\"47fde433-6e82-443b-b7cc-4e352da524f0\",\"type\":\"HBar\"},\"hover_glyph\":null,\"muted_glyph\":null,\"nonselection_glyph\":{\"id\":\"cc0d2bdf-2d6f-4580-8695-131265e7bb91\",\"type\":\"HBar\"},\"selection_glyph\":null},\"id\":\"e621518e-e015-400e-a276-73b03b864cb5\",\"type\":\"GlyphRenderer\"},{\"attributes\":{\"active_drag\":\"auto\",\"active_inspect\":\"auto\",\"active_scroll\":\"auto\",\"active_tap\":\"auto\",\"tools\":[{\"id\":\"a241d5a1-8953-4a6e-b882-a41c8a245d9f\",\"type\":\"PanTool\"},{\"id\":\"58a47e1b-5888-4e84-b150-0a6fbb3d8e57\",\"type\":\"WheelZoomTool\"},{\"id\":\"3d759118-0dd7-408a-9bc0-6fface91bb5d\",\"type\":\"BoxZoomTool\"},{\"id\":\"28ede966-0b57-447c-bc8b-68d5c2e7e022\",\"type\":\"SaveTool\"},{\"id\":\"4c5f41b5-b820-4063-ae61-ecc59f3db515\",\"type\":\"ResetTool\"},{\"id\":\"39568920-29a3-4a3e-80e7-f05c699f963b\",\"type\":\"HelpTool\"}]},\"id\":\"0055fb36-a7e6-480c-9751-a501159ce8cf\",\"type\":\"Toolbar\"},{\"attributes\":{\"data_source\":{\"id\":\"c97cccb4-614f-4e04-89da-debce08bd6da\",\"type\":\"ColumnDataSource\"},\"glyph\":{\"id\":\"dbbef56c-1393-4159-80b0-a6203fdbd3a5\",\"type\":\"HBar\"},\"hover_glyph\":null,\"muted_glyph\":null,\"nonselection_glyph\":{\"id\":\"ec00e981-006a-439d-9ee9-b8636b8222d6\",\"type\":\"HBar\"},\"selection_glyph\":null},\"id\":\"56bd0e71-8d7b-4494-a06f-c2bac36f8706\",\"type\":\"GlyphRenderer\"},{\"attributes\":{\"above\":[{\"id\":\"1559542c-9ec7-428d-91f6-574935d9ef41\",\"type\":\"Title\"}],\"below\":[{\"id\":\"29b4e3df-37f2-4874-8a29-aaa292f6b946\",\"type\":\"LinearAxis\"}],\"left\":[{\"id\":\"51cdab57-ae51-4c2c-a823-43acec65ba5e\",\"type\":\"LinearAxis\"}],\"plot_height\":300,\"plot_width\":400,\"renderers\":[{\"id\":\"29b4e3df-37f2-4874-8a29-aaa292f6b946\",\"type\":\"LinearAxis\"},{\"id\":\"0c8b7ccc-293a-4a7d-b061-3a20e7d2af8f\",\"type\":\"Grid\"},{\"id\":\"51cdab57-ae51-4c2c-a823-43acec65ba5e\",\"type\":\"LinearAxis\"},{\"id\":\"9c85325b-3752-4840-9d53-469ae5c935db\",\"type\":\"Grid\"},{\"id\":\"1559542c-9ec7-428d-91f6-574935d9ef41\",\"type\":\"Title\"},{\"id\":\"dcd58fb7-bbb3-40ee-b01a-1a3b37174172\",\"type\":\"GlyphRenderer\"}],\"title\":{\"id\":\"1f4a9f62-2aca-4704-abf7-f7e0959b8606\",\"type\":\"Title\"},\"tool_events\":{\"id\":\"973284e4-bcaa-424b-94fc-611d4df2158f\",\"type\":\"ToolEvents\"},\"toolbar\":{\"id\":\"a7ba5185-3459-46d6-bb59-c97efe68587b\",\"type\":\"Toolbar\"},\"x_range\":{\"id\":\"fe652eaf-702f-4fbb-b885-ab2066b0f609\",\"type\":\"DataRange1d\"},\"x_scale\":{\"id\":\"be3086be-3ddc-42a2-a8b8-38457978e652\",\"type\":\"LinearScale\"},\"y_range\":{\"id\":\"04e89a74-bc13-4052-9a91-5ccbb8cc70fc\",\"type\":\"DataRange1d\"},\"y_scale\":{\"id\":\"3714738a-662f-4365-8e5f-ebee15967430\",\"type\":\"LinearScale\"}},\"id\":\"eb6df19c-c17b-41c4-aaa6-2ac3c1288205\",\"subtype\":\"Figure\",\"type\":\"Plot\"},{\"attributes\":{\"plot\":{\"id\":\"50fc8fef-4524-4a11-96d4-d18f50df5e6b\",\"subtype\":\"Figure\",\"type\":\"Plot\"}},\"id\":\"28ede966-0b57-447c-bc8b-68d5c2e7e022\",\"type\":\"SaveTool\"},{\"attributes\":{\"fill_alpha\":{\"value\":0.1},\"fill_color\":{\"value\":\"#1f77b4\"},\"height\":{\"value\":0.3},\"left\":{\"value\":0.5641025641025641},\"line_alpha\":{\"value\":0.1},\"line_color\":{\"value\":\"#1f77b4\"},\"right\":{\"value\":0.611439842209073},\"y\":{\"value\":1}},\"id\":\"66682de7-ef08-43c1-afc3-37d5c6a5e984\",\"type\":\"HBar\"},{\"attributes\":{\"fill_alpha\":{\"value\":0.1},\"fill_color\":{\"value\":\"#1f77b4\"},\"height\":{\"value\":0.3},\"left\":{\"value\":-0.3865877712031558},\"line_alpha\":{\"value\":0.1},\"line_color\":{\"value\":\"#1f77b4\"},\"right\":{\"value\":-0.3264299802761341},\"y\":{\"value\":1}},\"id\":\"23c1f6e3-fa88-4cb7-a349-333206024277\",\"type\":\"HBar\"},{\"attributes\":{\"line_alpha\":{\"value\":0.1},\"line_color\":{\"value\":\"#1f77b4\"},\"line_dash\":[6],\"line_width\":{\"value\":2},\"x\":{\"field\":\"x\"},\"y\":{\"field\":\"y\"}},\"id\":\"cbc19db0-8c53-4774-bafd-7b04044824b7\",\"type\":\"Line\"},{\"attributes\":{},\"id\":\"5f93656c-65df-418d-b599-7a77a9061f39\",\"type\":\"LinearScale\"},{\"attributes\":{},\"id\":\"3714738a-662f-4365-8e5f-ebee15967430\",\"type\":\"LinearScale\"},{\"attributes\":{\"active_drag\":\"auto\",\"active_inspect\":\"auto\",\"active_scroll\":\"auto\",\"active_tap\":\"auto\",\"tools\":[{\"id\":\"530e2577-dd4f-42ec-8a97-9d26295b6b7f\",\"type\":\"HoverTool\"}]},\"id\":\"a7ba5185-3459-46d6-bb59-c97efe68587b\",\"type\":\"Toolbar\"},{\"attributes\":{},\"id\":\"00b5c65b-3cc0-447c-8dea-fbab76590d00\",\"type\":\"BasicTickFormatter\"},{\"attributes\":{\"data_source\":{\"id\":\"b66f1dc0-efd8-4d75-b79d-9fcc2636d8ff\",\"type\":\"ColumnDataSource\"},\"glyph\":{\"id\":\"cfcf550b-30e8-4081-bf73-b70d11067b5c\",\"type\":\"Line\"},\"hover_glyph\":null,\"muted_glyph\":null,\"nonselection_glyph\":{\"id\":\"cbc19db0-8c53-4774-bafd-7b04044824b7\",\"type\":\"Line\"},\"selection_glyph\":null},\"id\":\"1cefe082-d41e-4a84-ab5c-c8a928015f0c\",\"type\":\"GlyphRenderer\"},{\"attributes\":{\"align\":\"center\",\"plot\":{\"id\":\"9d0d4452-756f-4cc9-b627-46498bf3c4b0\",\"subtype\":\"Figure\",\"type\":\"Plot\"},\"text\":\"Total percentage within thresholds pick up\"},\"id\":\"1dc20726-4005-4ffd-b857-3ba98696b486\",\"type\":\"Title\"},{\"attributes\":{\"children\":[{\"id\":\"50fc8fef-4524-4a11-96d4-d18f50df5e6b\",\"subtype\":\"Figure\",\"type\":\"Plot\"},{\"id\":\"9d0d4452-756f-4cc9-b627-46498bf3c4b0\",\"subtype\":\"Figure\",\"type\":\"Plot\"}]},\"id\":\"4dcffc64-5324-49f4-b98f-301c336128a0\",\"type\":\"Row\"},{\"attributes\":{\"plot\":{\"id\":\"50fc8fef-4524-4a11-96d4-d18f50df5e6b\",\"subtype\":\"Figure\",\"type\":\"Plot\"}},\"id\":\"a241d5a1-8953-4a6e-b882-a41c8a245d9f\",\"type\":\"PanTool\"},{\"attributes\":{\"line_color\":{\"value\":\"#AAB2A5\"},\"line_dash\":[6],\"line_width\":{\"value\":2},\"x\":{\"field\":\"x\"},\"y\":{\"field\":\"y\"}},\"id\":\"bec08799-22b2-4d57-aabc-c66fa80d596e\",\"type\":\"Line\"},{\"attributes\":{\"plot\":{\"id\":\"04b0bd3b-8b6b-4936-a02e-a0a99d0d6564\",\"subtype\":\"Figure\",\"type\":\"Plot\"}},\"id\":\"79eb6acc-38ab-426e-a07f-d99a823eb6c5\",\"type\":\"HelpTool\"},{\"attributes\":{\"line_color\":{\"value\":\"#AAB2A5\"},\"line_dash\":[6],\"line_width\":{\"value\":2},\"x\":{\"field\":\"x\"},\"y\":{\"field\":\"y\"}},\"id\":\"4b89f7f4-61d0-4d50-b92b-f3967c6136bc\",\"type\":\"Line\"},{\"attributes\":{\"line_alpha\":{\"value\":0.1},\"line_color\":{\"value\":\"#1f77b4\"},\"line_dash\":[6],\"line_width\":{\"value\":2},\"x\":{\"field\":\"x\"},\"y\":{\"field\":\"y\"}},\"id\":\"99c7b145-7a8d-4265-956a-34894de788c6\",\"type\":\"Line\"},{\"attributes\":{\"dimension\":1,\"grid_line_color\":{\"value\":null},\"plot\":{\"id\":\"50fc8fef-4524-4a11-96d4-d18f50df5e6b\",\"subtype\":\"Figure\",\"type\":\"Plot\"},\"ticker\":{\"id\":\"4dbafb45-1865-4d4f-9efe-7c928127367c\",\"type\":\"BasicTicker\"}},\"id\":\"86ea860b-7fee-4dea-aaef-74be4ca17ab5\",\"type\":\"Grid\"},{\"attributes\":{},\"id\":\"90c18885-beb3-45fc-9923-9d17a6923b4a\",\"type\":\"BasicTickFormatter\"},{\"attributes\":{\"data_source\":{\"id\":\"81371c8a-eb6e-48ee-8960-cb8dcab54ca3\",\"type\":\"ColumnDataSource\"},\"glyph\":{\"id\":\"f923be62-d2a2-46ac-a925-af823631b216\",\"type\":\"HBar\"},\"hover_glyph\":null,\"muted_glyph\":null,\"nonselection_glyph\":{\"id\":\"766e0182-d005-4adb-8df9-32debfaaff9f\",\"type\":\"HBar\"},\"selection_glyph\":null},\"id\":\"97b297c9-52ab-4554-8d5d-12fb5f125d4c\",\"type\":\"GlyphRenderer\"},{\"attributes\":{\"line_alpha\":{\"value\":0.1},\"line_color\":{\"value\":\"#1f77b4\"},\"line_dash\":[6],\"line_width\":{\"value\":2},\"x\":{\"field\":\"x\"},\"y\":{\"field\":\"y\"}},\"id\":\"586e9cbe-8130-4bb2-908f-c59a72b85176\",\"type\":\"Line\"},{\"attributes\":{\"fill_color\":{\"field\":\"colors\"},\"line_color\":{\"field\":\"colors\"},\"top\":{\"field\":\"pct\"},\"width\":{\"value\":0.6},\"x\":{\"field\":\"index\"}},\"id\":\"22551542-054e-4d6f-b4e2-96057279a9bf\",\"type\":\"VBar\"},{\"attributes\":{\"callback\":null,\"data\":{}},\"id\":\"e9c74882-dd67-4725-b983-e2a36dbe8f17\",\"type\":\"ColumnDataSource\"},{\"attributes\":{},\"id\":\"a09d5c5d-da55-4960-a1d4-8209db346b85\",\"type\":\"LinearScale\"},{\"attributes\":{\"data_source\":{\"id\":\"0798b6af-6deb-4572-b740-e3448d2957b7\",\"type\":\"ColumnDataSource\"},\"glyph\":{\"id\":\"5c4f7ed8-ab30-4316-90f2-a66ff9252072\",\"type\":\"Line\"},\"hover_glyph\":null,\"muted_glyph\":null,\"nonselection_glyph\":{\"id\":\"012bd915-5639-4904-8f0a-cfaafbe293dc\",\"type\":\"Line\"},\"selection_glyph\":null},\"id\":\"f4660311-7fac-492f-8065-b7c100caf474\",\"type\":\"GlyphRenderer\"},{\"attributes\":{\"line_color\":{\"value\":\"#AAB2A5\"},\"line_dash\":[6],\"line_width\":{\"value\":2},\"x\":{\"field\":\"x\"},\"y\":{\"field\":\"y\"}},\"id\":\"5c4f7ed8-ab30-4316-90f2-a66ff9252072\",\"type\":\"Line\"},{\"attributes\":{\"line_color\":{\"value\":\"#AAB2A5\"},\"line_dash\":[6],\"line_width\":{\"value\":2},\"x\":{\"field\":\"x\"},\"y\":{\"field\":\"y\"}},\"id\":\"3aedbddb-38cd-4df5-b905-02459d46cc89\",\"type\":\"Line\"},{\"attributes\":{\"fill_alpha\":{\"value\":0.1},\"fill_color\":{\"value\":\"#1f77b4\"},\"height\":{\"value\":0.3},\"left\":{\"value\":-0.3264299802761341},\"line_alpha\":{\"value\":0.1},\"line_color\":{\"value\":\"#1f77b4\"},\"right\":{\"value\":0},\"y\":{\"value\":1}},\"id\":\"cc0d2bdf-2d6f-4580-8695-131265e7bb91\",\"type\":\"HBar\"},{\"attributes\":{},\"id\":\"aead258e-9999-4dc2-b693-d82da64b687d\",\"type\":\"BasicTicker\"},{\"attributes\":{\"children\":[{\"id\":\"c0d9a959-1798-45cc-966b-a60efe378c86\",\"type\":\"WidgetBox\"},{\"id\":\"f4bfd5de-99aa-40c2-bdfe-5cd81637ee3e\",\"type\":\"Column\"}]},\"id\":\"d50301c6-cfbe-4e6d-aa49-754b97835b5b\",\"type\":\"Column\"},{\"attributes\":{\"data_source\":{\"id\":\"cff3d86b-0849-43e7-8f6c-9987d7623509\",\"type\":\"ColumnDataSource\"},\"glyph\":{\"id\":\"45dc6adb-2448-4741-886d-9bd2c935f412\",\"type\":\"Line\"},\"hover_glyph\":null,\"muted_glyph\":null,\"nonselection_glyph\":{\"id\":\"3798506b-b530-42a7-a4be-668a22bb8268\",\"type\":\"Line\"},\"selection_glyph\":null},\"id\":\"d315b0a0-1690-4d2d-bafb-958fab0fd801\",\"type\":\"GlyphRenderer\"},{\"attributes\":{\"fill_color\":{\"value\":\"#E4E02C\"},\"height\":{\"value\":0.3},\"left\":{\"value\":0.3577075098814229},\"line_color\":{\"value\":\"#E4E02C\"},\"right\":{\"value\":0.45652173913043476},\"y\":{\"value\":1}},\"id\":\"398ceb80-e130-461d-a3e5-06cd39279153\",\"type\":\"HBar\"},{\"attributes\":{\"fill_alpha\":{\"value\":0.1},\"fill_color\":{\"value\":\"#1f77b4\"},\"height\":{\"value\":0.3},\"left\":{\"value\":0.45652173913043476},\"line_alpha\":{\"value\":0.1},\"line_color\":{\"value\":\"#1f77b4\"},\"right\":{\"value\":0.5128458498023715},\"y\":{\"value\":1}},\"id\":\"daba7ec4-a207-432e-9d50-ec91c4301f2d\",\"type\":\"HBar\"},{\"attributes\":{\"fill_alpha\":{\"value\":0.1},\"fill_color\":{\"value\":\"#1f77b4\"},\"height\":{\"value\":0.3},\"left\":{\"value\":-0.4871541501976285},\"line_alpha\":{\"value\":0.1},\"line_color\":{\"value\":\"#1f77b4\"},\"right\":{\"value\":-0.47529644268774707},\"y\":{\"value\":1}},\"id\":\"766e0182-d005-4adb-8df9-32debfaaff9f\",\"type\":\"HBar\"},{\"attributes\":{\"data_source\":{\"id\":\"45c9470f-268f-4793-82bd-3c44339ac7d5\",\"type\":\"ColumnDataSource\"},\"glyph\":{\"id\":\"d5f79b23-648a-43fa-a850-56b4d7223e34\",\"type\":\"HBar\"},\"hover_glyph\":null,\"muted_glyph\":null,\"nonselection_glyph\":{\"id\":\"23c1f6e3-fa88-4cb7-a349-333206024277\",\"type\":\"HBar\"},\"selection_glyph\":null},\"id\":\"e318b891-1b8b-4955-abef-3cdaa7d39734\",\"type\":\"GlyphRenderer\"},{\"attributes\":{\"line_alpha\":{\"value\":0.1},\"line_color\":{\"value\":\"#1f77b4\"},\"line_dash\":[6],\"line_width\":{\"value\":2},\"x\":{\"field\":\"x\"},\"y\":{\"field\":\"y\"}},\"id\":\"153ae417-57c2-4a69-a433-3c22488ee4e0\",\"type\":\"Line\"},{\"attributes\":{\"active_drag\":\"auto\",\"active_inspect\":\"auto\",\"active_scroll\":\"auto\",\"active_tap\":\"auto\",\"tools\":[{\"id\":\"e295bf6d-c687-4479-889e-3fa063694825\",\"type\":\"PanTool\"},{\"id\":\"c0590c3f-5d94-4db3-8e1c-0a93c73c2e9c\",\"type\":\"WheelZoomTool\"},{\"id\":\"ec044b69-fd58-4017-bb79-1b16a61acbd6\",\"type\":\"BoxZoomTool\"},{\"id\":\"bbcc2f11-048a-4d27-a70a-d87bdaa7b09e\",\"type\":\"SaveTool\"},{\"id\":\"643d117a-2e68-4a50-adab-44c08b6c1e6b\",\"type\":\"ResetTool\"},{\"id\":\"79eb6acc-38ab-426e-a07f-d99a823eb6c5\",\"type\":\"HelpTool\"}]},\"id\":\"d119cb9c-4a1e-4556-82ae-25ba9d60278e\",\"type\":\"Toolbar\"},{\"attributes\":{},\"id\":\"973284e4-bcaa-424b-94fc-611d4df2158f\",\"type\":\"ToolEvents\"},{\"attributes\":{\"overlay\":{\"id\":\"928f15e9-0d9a-482c-9b00-21a50d8d74aa\",\"type\":\"BoxAnnotation\"},\"plot\":{\"id\":\"04b0bd3b-8b6b-4936-a02e-a0a99d0d6564\",\"subtype\":\"Figure\",\"type\":\"Plot\"}},\"id\":\"ec044b69-fd58-4017-bb79-1b16a61acbd6\",\"type\":\"BoxZoomTool\"},{\"attributes\":{\"data_source\":{\"id\":\"56fe45ca-e728-4b2b-ad8b-c8e751baff62\",\"type\":\"ColumnDataSource\"},\"glyph\":{\"id\":\"22551542-054e-4d6f-b4e2-96057279a9bf\",\"type\":\"VBar\"},\"hover_glyph\":null,\"muted_glyph\":null,\"nonselection_glyph\":{\"id\":\"d4fa70d3-e314-4edd-9d91-2bfcc4e4862b\",\"type\":\"VBar\"},\"selection_glyph\":null},\"id\":\"dcd58fb7-bbb3-40ee-b01a-1a3b37174172\",\"type\":\"GlyphRenderer\"},{\"attributes\":{\"callback\":null,\"column_names\":[\"pct\",\"index\",\"thresholds\",\"colors\"],\"data\":{\"colors\":[\"#459E0F\",\"#E4E02C\",\"#E43216\"],\"index\":[0,1,2],\"pct\":{\"__ndarray__\":\"oIqD1pyJ6D/G7E4aXh/FP3TRRRdddLE/\",\"dtype\":\"float64\",\"shape\":[3]},\"thresholds\":[\"green\",\"yellow\",\"red\"]}},\"id\":\"56fe45ca-e728-4b2b-ad8b-c8e751baff62\",\"type\":\"ColumnDataSource\"},{\"attributes\":{\"callback\":null,\"column_names\":[\"y\",\"x\"],\"data\":{\"x\":[0.3577075098814229,0.3577075098814229],\"y\":[0.5,1.5]}},\"id\":\"cff3d86b-0849-43e7-8f6c-9987d7623509\",\"type\":\"ColumnDataSource\"},{\"attributes\":{\"callback\":null,\"data\":{}},\"id\":\"90a08f56-b09c-4eba-9bc8-b38229f8f24f\",\"type\":\"ColumnDataSource\"},{\"attributes\":{\"data_source\":{\"id\":\"c3cf7e17-257c-4e43-bf1b-44f52e3854be\",\"type\":\"ColumnDataSource\"},\"glyph\":{\"id\":\"398ceb80-e130-461d-a3e5-06cd39279153\",\"type\":\"HBar\"},\"hover_glyph\":null,\"muted_glyph\":null,\"nonselection_glyph\":{\"id\":\"fad4795e-56da-4ffd-8927-90cc7f936332\",\"type\":\"HBar\"},\"selection_glyph\":null},\"id\":\"943d405a-c216-42b3-b479-538ee1b2cb07\",\"type\":\"GlyphRenderer\"},{\"attributes\":{},\"id\":\"26b9f030-f74c-4df8-91de-3767e70bcc8d\",\"type\":\"ToolEvents\"},{\"attributes\":{\"plot\":{\"id\":\"eb6df19c-c17b-41c4-aaa6-2ac3c1288205\",\"subtype\":\"Figure\",\"type\":\"Plot\"},\"ticker\":{\"id\":\"fb277b51-9c62-40fb-9fdc-a3479afbf22e\",\"type\":\"BasicTicker\"}},\"id\":\"0c8b7ccc-293a-4a7d-b061-3a20e7d2af8f\",\"type\":\"Grid\"},{\"attributes\":{\"line_color\":{\"value\":\"#AAB2A5\"},\"line_dash\":[6],\"line_width\":{\"value\":2},\"x\":{\"field\":\"x\"},\"y\":{\"field\":\"y\"}},\"id\":\"6554a3e3-06a3-44ed-b48d-a8e58d9c95e5\",\"type\":\"Line\"},{\"attributes\":{},\"id\":\"514224c9-ecaf-4589-b45d-780d699f7e7d\",\"type\":\"BasicTicker\"},{\"attributes\":{\"plot\":{\"id\":\"50fc8fef-4524-4a11-96d4-d18f50df5e6b\",\"subtype\":\"Figure\",\"type\":\"Plot\"}},\"id\":\"58a47e1b-5888-4e84-b150-0a6fbb3d8e57\",\"type\":\"WheelZoomTool\"},{\"attributes\":{\"line_alpha\":{\"value\":0.1},\"line_color\":{\"value\":\"#1f77b4\"},\"line_dash\":[6],\"line_width\":{\"value\":2},\"x\":{\"field\":\"x\"},\"y\":{\"field\":\"y\"}},\"id\":\"8ed38b23-e3f8-406e-8ecc-fb9ec0fa2c93\",\"type\":\"Line\"},{\"attributes\":{\"data_source\":{\"id\":\"5e99f833-5e86-4681-ae75-2753f1860503\",\"type\":\"ColumnDataSource\"},\"glyph\":{\"id\":\"4b89f7f4-61d0-4d50-b92b-f3967c6136bc\",\"type\":\"Line\"},\"hover_glyph\":null,\"muted_glyph\":null,\"nonselection_glyph\":{\"id\":\"95a9993d-ac98-4836-bd4a-2fc4c86e4380\",\"type\":\"Line\"},\"selection_glyph\":null},\"id\":\"b8dcbd14-75ee-4229-8d9f-2901d71ec7c1\",\"type\":\"GlyphRenderer\"},{\"attributes\":{\"callback\":null,\"end\":2},\"id\":\"dc6dd91e-fb6d-41c6-8543-edf5558c5cfe\",\"type\":\"Range1d\"},{\"attributes\":{\"data_source\":{\"id\":\"9106fb8e-864b-46b9-b286-c6cbb6a7433c\",\"type\":\"ColumnDataSource\"},\"glyph\":{\"id\":\"6554a3e3-06a3-44ed-b48d-a8e58d9c95e5\",\"type\":\"Line\"},\"hover_glyph\":null,\"muted_glyph\":null,\"nonselection_glyph\":{\"id\":\"8033b55a-9cf6-4a99-8d80-ba8865b5e746\",\"type\":\"Line\"},\"selection_glyph\":null},\"id\":\"90e22fec-4164-4be2-ae0e-61d2d98c5422\",\"type\":\"GlyphRenderer\"},{\"attributes\":{\"fill_alpha\":{\"value\":0.1},\"fill_color\":{\"value\":\"#1f77b4\"},\"height\":{\"value\":0.3},\"left\":{\"value\":-0.388560157790927},\"line_alpha\":{\"value\":0.1},\"line_color\":{\"value\":\"#1f77b4\"},\"right\":{\"value\":-0.3865877712031558},\"y\":{\"value\":1}},\"id\":\"43bb7234-3e38-48e9-92a7-175974d44ca6\",\"type\":\"HBar\"},{\"attributes\":{\"line_color\":{\"value\":\"#AAB2A5\"},\"line_dash\":[6],\"line_width\":{\"value\":2},\"x\":{\"field\":\"x\"},\"y\":{\"field\":\"y\"}},\"id\":\"45dc6adb-2448-4741-886d-9bd2c935f412\",\"type\":\"Line\"},{\"attributes\":{\"fill_color\":{\"value\":\"#E4E02C\"},\"height\":{\"value\":0.3},\"left\":{\"value\":0.41913214990138065},\"line_color\":{\"value\":\"#E4E02C\"},\"right\":{\"value\":0.5641025641025641},\"y\":{\"value\":1}},\"id\":\"5399e937-a0cb-4b53-8b12-7cd52287d459\",\"type\":\"HBar\"},{\"attributes\":{\"data_source\":{\"id\":\"4bff24e3-c957-4bc0-bd4a-3f910cc44ba4\",\"type\":\"ColumnDataSource\"},\"glyph\":{\"id\":\"f83842a7-fb3a-4bfc-842c-94e39f25b791\",\"type\":\"HBar\"},\"hover_glyph\":null,\"muted_glyph\":null,\"nonselection_glyph\":{\"id\":\"a7a6052a-3632-43dd-8c70-f9aa0750a29b\",\"type\":\"HBar\"},\"selection_glyph\":null},\"id\":\"512bb33c-a89a-4b1f-a5af-e4ed7c719260\",\"type\":\"GlyphRenderer\"},{\"attributes\":{\"plot\":null,\"text\":\"\"},\"id\":\"d3b1898c-fa84-4769-a31a-56ceec5cc5e5\",\"type\":\"Title\"},{\"attributes\":{\"fill_color\":{\"value\":\"#E43216\"},\"height\":{\"value\":0.3},\"left\":{\"value\":0.45652173913043476},\"line_color\":{\"value\":\"#E43216\"},\"right\":{\"value\":0.5128458498023715},\"y\":{\"value\":1}},\"id\":\"6bed3a8e-def1-478f-a1f2-f0e3580eb00a\",\"type\":\"HBar\"},{\"attributes\":{},\"id\":\"6e4e5cd1-7866-49fa-b19c-ffb6b847f256\",\"type\":\"BasicTickFormatter\"},{\"attributes\":{\"fill_color\":{\"value\":\"#E43216\"},\"height\":{\"value\":0.3},\"left\":{\"value\":-0.4871541501976285},\"line_color\":{\"value\":\"#E43216\"},\"right\":{\"value\":-0.47529644268774707},\"y\":{\"value\":1}},\"id\":\"f923be62-d2a2-46ac-a925-af823631b216\",\"type\":\"HBar\"},{\"attributes\":{},\"id\":\"5e8a327f-0add-4d29-8dbd-9dadfb21d4bd\",\"type\":\"ToolEvents\"},{\"attributes\":{},\"id\":\"0200b9b2-baa9-4881-adca-2c469611cde4\",\"type\":\"LinearScale\"},{\"attributes\":{\"callback\":null,\"data\":{}},\"id\":\"282372c7-d7a2-47d9-bce2-79a178bba5d0\",\"type\":\"ColumnDataSource\"},{\"attributes\":{\"bottom_units\":\"screen\",\"fill_alpha\":{\"value\":0.5},\"fill_color\":{\"value\":\"lightgrey\"},\"left_units\":\"screen\",\"level\":\"overlay\",\"line_alpha\":{\"value\":1.0},\"line_color\":{\"value\":\"black\"},\"line_dash\":[4,4],\"line_width\":{\"value\":2},\"plot\":null,\"render_mode\":\"css\",\"right_units\":\"screen\",\"top_units\":\"screen\"},\"id\":\"48d7c12b-fe3f-4459-ad01-9ac1f06b3d4d\",\"type\":\"BoxAnnotation\"},{\"attributes\":{\"formatter\":{\"id\":\"377b9a43-b2cd-4c3a-a807-394f4cc543e8\",\"type\":\"BasicTickFormatter\"},\"plot\":{\"id\":\"50fc8fef-4524-4a11-96d4-d18f50df5e6b\",\"subtype\":\"Figure\",\"type\":\"Plot\"},\"ticker\":{\"id\":\"514224c9-ecaf-4589-b45d-780d699f7e7d\",\"type\":\"BasicTicker\"}},\"id\":\"7644e8d5-4792-4df0-846e-95b58b54665a\",\"type\":\"LinearAxis\"},{\"attributes\":{\"plot\":{\"id\":\"9d0d4452-756f-4cc9-b627-46498bf3c4b0\",\"subtype\":\"Figure\",\"type\":\"Plot\"},\"ticker\":{\"id\":\"092df21d-d604-47cf-abcf-4447e1c5b683\",\"type\":\"BasicTicker\"}},\"id\":\"af25a708-0576-4a3b-bb0c-a56cc6de901b\",\"type\":\"Grid\"},{\"attributes\":{\"line_alpha\":{\"value\":0.1},\"line_color\":{\"value\":\"#1f77b4\"},\"line_dash\":[6],\"line_width\":{\"value\":2},\"x\":{\"field\":\"x\"},\"y\":{\"field\":\"y\"}},\"id\":\"8033b55a-9cf6-4a99-8d80-ba8865b5e746\",\"type\":\"Line\"},{\"attributes\":{\"data_source\":{\"id\":\"7faa7570-b242-401d-92c3-7234db1a0372\",\"type\":\"ColumnDataSource\"},\"glyph\":{\"id\":\"025edd1d-0eb4-4479-9d8b-4710f97837f2\",\"type\":\"HBar\"},\"hover_glyph\":null,\"muted_glyph\":null,\"nonselection_glyph\":{\"id\":\"43bb7234-3e38-48e9-92a7-175974d44ca6\",\"type\":\"HBar\"},\"selection_glyph\":null},\"id\":\"09706971-1d59-4a3a-abb2-121819172148\",\"type\":\"GlyphRenderer\"},{\"attributes\":{\"active_drag\":\"auto\",\"active_inspect\":\"auto\",\"active_scroll\":\"auto\",\"active_tap\":\"auto\",\"tools\":[{\"id\":\"4015b270-bc9f-408c-ac9e-2bd599434f1c\",\"type\":\"HoverTool\"}]},\"id\":\"4bc8cdf8-8c05-4481-bbd4-0b8c04229512\",\"type\":\"Toolbar\"},{\"attributes\":{\"callback\":null,\"column_names\":[\"y\",\"x\"],\"data\":{\"x\":[0,0],\"y\":[0.5,1.5]}},\"id\":\"b4df4e9b-04f9-4065-87f4-11d3503fa0d8\",\"type\":\"ColumnDataSource\"},{\"attributes\":{},\"id\":\"fac539f1-0bea-4bfb-b9f7-1c05d1705a46\",\"type\":\"BasicTickFormatter\"},{\"attributes\":{\"callback\":null,\"data\":{}},\"id\":\"9c140289-435c-4ecd-9b2b-11d04fe2515f\",\"type\":\"ColumnDataSource\"},{\"attributes\":{\"children\":[{\"id\":\"04b0bd3b-8b6b-4936-a02e-a0a99d0d6564\",\"subtype\":\"Figure\",\"type\":\"Plot\"},{\"id\":\"eb6df19c-c17b-41c4-aaa6-2ac3c1288205\",\"subtype\":\"Figure\",\"type\":\"Plot\"}]},\"id\":\"626f8432-2060-4ad0-a15d-70da6afb8f08\",\"type\":\"Row\"},{\"attributes\":{\"callback\":null,\"column_names\":[\"y\",\"x\"],\"data\":{\"x\":[0,0],\"y\":[0.5,1.5]}},\"id\":\"e6a772b6-30f7-40e1-895a-dcdd4ba80d6c\",\"type\":\"ColumnDataSource\"},{\"attributes\":{\"dimension\":1,\"grid_line_color\":{\"value\":null},\"plot\":{\"id\":\"04b0bd3b-8b6b-4936-a02e-a0a99d0d6564\",\"subtype\":\"Figure\",\"type\":\"Plot\"},\"ticker\":{\"id\":\"cd5a0326-8d14-4bf4-b705-ada08a42c4ae\",\"type\":\"BasicTicker\"}},\"id\":\"c0e4a93a-dbae-4600-b5fe-d7a4178b8b9c\",\"type\":\"Grid\"},{\"attributes\":{},\"id\":\"f630b245-3206-4eac-bad6-32dc9b111ebe\",\"type\":\"BasicTickFormatter\"},{\"attributes\":{\"line_color\":{\"value\":\"#AAB2A5\"},\"line_dash\":[6],\"line_width\":{\"value\":2},\"x\":{\"field\":\"x\"},\"y\":{\"field\":\"y\"}},\"id\":\"99c172bd-ba7e-4497-bbc0-11204a0e441f\",\"type\":\"Line\"},{\"attributes\":{\"callback\":null,\"column_names\":[\"y\",\"x\"],\"data\":{\"x\":[0.5641025641025641,0.5641025641025641],\"y\":[0.5,1.5]}},\"id\":\"0798b6af-6deb-4572-b740-e3448d2957b7\",\"type\":\"ColumnDataSource\"},{\"attributes\":{\"bottom_units\":\"screen\",\"fill_alpha\":{\"value\":0.5},\"fill_color\":{\"value\":\"lightgrey\"},\"left_units\":\"screen\",\"level\":\"overlay\",\"line_alpha\":{\"value\":1.0},\"line_color\":{\"value\":\"black\"},\"line_dash\":[4,4],\"line_width\":{\"value\":2},\"plot\":null,\"render_mode\":\"css\",\"right_units\":\"screen\",\"top_units\":\"screen\"},\"id\":\"928f15e9-0d9a-482c-9b00-21a50d8d74aa\",\"type\":\"BoxAnnotation\"},{\"attributes\":{},\"id\":\"ef8366f4-1cd9-489b-97b8-320727e2cd52\",\"type\":\"ToolEvents\"},{\"attributes\":{\"data_source\":{\"id\":\"90a08f56-b09c-4eba-9bc8-b38229f8f24f\",\"type\":\"ColumnDataSource\"},\"glyph\":{\"id\":\"5399e937-a0cb-4b53-8b12-7cd52287d459\",\"type\":\"HBar\"},\"hover_glyph\":null,\"muted_glyph\":null,\"nonselection_glyph\":{\"id\":\"0e7431fa-e751-4d57-b87d-0fab24b4f3cd\",\"type\":\"HBar\"},\"selection_glyph\":null},\"id\":\"578f23ce-647d-4814-911a-5aa38b6e0e80\",\"type\":\"GlyphRenderer\"},{\"attributes\":{\"plot\":{\"id\":\"04b0bd3b-8b6b-4936-a02e-a0a99d0d6564\",\"subtype\":\"Figure\",\"type\":\"Plot\"}},\"id\":\"643d117a-2e68-4a50-adab-44c08b6c1e6b\",\"type\":\"ResetTool\"},{\"attributes\":{\"align\":\"center\",\"plot\":{\"id\":\"50fc8fef-4524-4a11-96d4-d18f50df5e6b\",\"subtype\":\"Figure\",\"type\":\"Plot\"},\"text\":\"Rush/delays within time thresholds pick up\"},\"id\":\"440a4e7b-1743-42b9-8226-532abd995ccf\",\"type\":\"Title\"},{\"attributes\":{\"fill_color\":{\"value\":\"#459E0F\"},\"height\":{\"value\":0.3},\"line_color\":{\"value\":\"#459E0F\"},\"right\":{\"value\":0.41913214990138065},\"y\":{\"value\":1}},\"id\":\"df5be6b8-bb80-4239-afd7-b236021f1d54\",\"type\":\"HBar\"},{\"attributes\":{},\"id\":\"ccaa1d38-fef8-4bfe-846d-f7b32c4e9850\",\"type\":\"BasicTicker\"},{\"attributes\":{\"callback\":null,\"column_names\":[\"y\",\"x\"],\"data\":{\"x\":[-0.3865877712031558,-0.3865877712031558],\"y\":[0.5,1.5]}},\"id\":\"9ac0db79-8a3b-42af-a2ed-580283dbbb8d\",\"type\":\"ColumnDataSource\"},{\"attributes\":{\"fill_color\":{\"value\":\"#459E0F\"},\"height\":{\"value\":0.3},\"left\":{\"value\":-0.4090909090909091},\"line_color\":{\"value\":\"#459E0F\"},\"right\":{\"value\":0},\"y\":{\"value\":1}},\"id\":\"ec56a4ff-ff74-40dc-8402-3e3100a1e5db\",\"type\":\"HBar\"},{\"attributes\":{\"data_source\":{\"id\":\"792825dc-9db1-4114-b192-db3469851554\",\"type\":\"ColumnDataSource\"},\"glyph\":{\"id\":\"a97f25bc-b06e-4f99-aaf3-b1a0007ce821\",\"type\":\"Line\"},\"hover_glyph\":null,\"muted_glyph\":null,\"nonselection_glyph\":{\"id\":\"586e9cbe-8130-4bb2-908f-c59a72b85176\",\"type\":\"Line\"},\"selection_glyph\":null},\"id\":\"9833e185-b7b3-4232-9779-8d32ddf00a4a\",\"type\":\"GlyphRenderer\"},{\"attributes\":{\"plot\":{\"id\":\"04b0bd3b-8b6b-4936-a02e-a0a99d0d6564\",\"subtype\":\"Figure\",\"type\":\"Plot\"}},\"id\":\"c0590c3f-5d94-4db3-8e1c-0a93c73c2e9c\",\"type\":\"WheelZoomTool\"},{\"attributes\":{\"formatter\":{\"id\":\"f630b245-3206-4eac-bad6-32dc9b111ebe\",\"type\":\"BasicTickFormatter\"},\"plot\":{\"id\":\"04b0bd3b-8b6b-4936-a02e-a0a99d0d6564\",\"subtype\":\"Figure\",\"type\":\"Plot\"},\"ticker\":{\"id\":\"ccaa1d38-fef8-4bfe-846d-f7b32c4e9850\",\"type\":\"BasicTicker\"}},\"id\":\"ab824756-e66e-4333-8b44-b3613cd79353\",\"type\":\"LinearAxis\"},{\"attributes\":{},\"id\":\"be3086be-3ddc-42a2-a8b8-38457978e652\",\"type\":\"LinearScale\"}],\"root_ids\":[\"d50301c6-cfbe-4e6d-aa49-754b97835b5b\"]},\"title\":\"Bokeh Application\",\"version\":\"0.12.6\"}};\n",
       "            var render_items = [{\"docid\":\"68aa9453-ac4c-4fdc-8c49-1f4156549324\",\"elementid\":\"f456d043-d2b3-4bac-b08b-b3f6572444bb\",\"modelid\":\"d50301c6-cfbe-4e6d-aa49-754b97835b5b\"}];\n",
       "            \n",
       "            Bokeh.embed.embed_items(docs_json, render_items);\n",
       "          };\n",
       "          if (document.readyState != \"loading\") fn();\n",
       "          else document.addEventListener(\"DOMContentLoaded\", fn);\n",
       "        })();\n",
       "      },\n",
       "      function(Bokeh) {\n",
       "      }\n",
       "    ];\n",
       "  \n",
       "    function run_inline_js() {\n",
       "      \n",
       "      if ((window.Bokeh !== undefined) || (force === true)) {\n",
       "        for (var i = 0; i < inline_js.length; i++) {\n",
       "          inline_js[i](window.Bokeh);\n",
       "        }if (force === true) {\n",
       "          display_loaded();\n",
       "        }} else if (Date.now() < window._bokeh_timeout) {\n",
       "        setTimeout(run_inline_js, 100);\n",
       "      } else if (!window._bokeh_failed_load) {\n",
       "        console.log(\"Bokeh: BokehJS failed to load within specified timeout.\");\n",
       "        window._bokeh_failed_load = true;\n",
       "      } else if (force !== true) {\n",
       "        var cell = $(document.getElementById(\"f456d043-d2b3-4bac-b08b-b3f6572444bb\")).parents('.cell').data().cell;\n",
       "        cell.output_area.append_execute_result(NB_LOAD_WARNING)\n",
       "      }\n",
       "  \n",
       "    }\n",
       "  \n",
       "    if (window._bokeh_is_loading === 0) {\n",
       "      console.log(\"Bokeh: BokehJS loaded, going straight to plotting\");\n",
       "      run_inline_js();\n",
       "    } else {\n",
       "      load_libs(js_urls, function() {\n",
       "        console.log(\"Bokeh: BokehJS plotting callback run at\", now());\n",
       "        run_inline_js();\n",
       "      });\n",
       "    }\n",
       "  }(this));\n",
       "</script>"
      ]
     },
     "metadata": {},
     "output_type": "display_data"
    }
   ],
   "source": [
    "#Using plotting functions\n",
    "time_threshold_pick_up_plot = plot_horizontal_time_thresholds(threshold_pick_up, 400, 300, 'pct', 'colors', \n",
    "                                                 \"Rush/delays within time thresholds pick up\")\n",
    "within_thresholds_pick_up_plot = plot_total_pct_thresholds(within_thresh_pick_up, 400, 300, \"index\", \"pct\", \"colors\", \n",
    "                                              \"Total percentage within thresholds pick up\")\n",
    "time_threshold_drop_off_plot = plot_horizontal_time_thresholds(threshold_drop_off, 400, 300, 'pct', 'colors', \n",
    "                                                 \"Rush/delays within time thresholds drop off\")\n",
    "time_threshold_drop_off_plot.x_range = time_threshold_pick_up_plot.x_range\n",
    "within_thresholds_drop_off_plot = plot_total_pct_thresholds(within_thresh_drop_off, 400, 300, \"index\", \"pct\", \"colors\", \n",
    "                                              \"Total percentage within thresholds drop off\")\n",
    "threshold_pick_up_plots = row(time_threshold_pick_up_plot, within_thresholds_pick_up_plot)\n",
    "threshold_drop_off_plots = row(time_threshold_drop_off_plot, within_thresholds_drop_off_plot)\n",
    "\n",
    "show(column(Div(text=\"<h1 style='margin-left:200px;margin-right:-400px;margin-bottom:18px;font-size:20px;\\\n",
    "                color:#7D7575'> Time thresholds for pick ups / drop offs </h1>\"),\n",
    "            column(threshold_pick_up_plots, threshold_drop_off_plots)))\n"
   ]
  },
  {
   "cell_type": "markdown",
   "metadata": {},
   "source": [
    "As observed in the previous plots, most of the ally shuttle pick ups and drop off occur within the 3 minute threshold. Note, still, that there is 20.5% pick ups that occur in the \"yellow\" area. From this, there approximately 14.5% happen because the pick up is delayed. This gives the company wiggle room to improve on. \n",
    "\n",
    "However, all in all, given the last update, the company seems to be doing well and mostly in the 3 minute zone. \n",
    "\n",
    "Note, however, that our analysis so far has been restricted to the last update of expected time shown to the user. There are reasons to believe that the closer the update to the actual pick up or drop off time, chances are that the differences between expected and actual time will not be significant. \n",
    "\n",
    "In what follows we will perform a more stringent analysis. We will determine what is the actual difference between first expected time shown to the user when he/she first booked a ride and the actual time ally shuttle showed up. There are important reasons to believe that customer experience changes when from the start they are given reliable waiting times. If the expected time changes drastically each update, this can affect service quality."
   ]
  },
  {
   "cell_type": "markdown",
   "metadata": {},
   "source": [
    "### First expected time vs. actual time \n",
    "\n",
    "In what follows we will perform the analysis of expected time when booking vs. actual time. This differences will show us how good is ally shuttle at keeping the first expected time it promises to the customers. The better these first expected times are calculated, the better the service will be. Also, from the operations point, it would lead to better scheduling and planning. "
   ]
  },
  {
   "cell_type": "code",
   "execution_count": 25,
   "metadata": {},
   "outputs": [],
   "source": [
    "first_pick_up = pick_drop.sort_values(by=[\"datetime_utc_berlin\", \"type\"], \n",
    "                                           ascending=[True, False]).groupby('booking_id').agg(lambda x: x.iloc[0]).reset_index()\n",
    "first_drop = pick_drop.sort_values(by=[ \"type\", \"datetime_utc_berlin\"], \n",
    "                                           ascending=[True, True]).groupby('booking_id').agg(lambda x: x.iloc[0]).reset_index()"
   ]
  },
  {
   "cell_type": "code",
   "execution_count": 26,
   "metadata": {},
   "outputs": [],
   "source": [
    "first_pick_up_drop_long = pd.concat([first_pick_up, first_drop], ignore_index=True)"
   ]
  },
  {
   "cell_type": "code",
   "execution_count": 27,
   "metadata": {},
   "outputs": [],
   "source": [
    "est_act_time_first = pd.merge(first_pick_up_drop_long, exp_act_time[['actual_time_utc_berlin', 'estimated_time_utc_berlin', 'type', 'status', 'booking_id']], \n",
    "        on=[\"type\", \"booking_id\"], suffixes=[\"_first\", \"_actual\"])"
   ]
  },
  {
   "cell_type": "markdown",
   "metadata": {},
   "source": [
    "### Differences between first estimated time and last estimated time\n",
    "\n",
    "Before looking at the difference between first estimated time and aactual time of the service, it is important to see if there are actually differences between the estimated times shown to the user. This will gives us an indication of how stable these estimated times actually are and what are the magnitude of their variation."
   ]
  },
  {
   "cell_type": "code",
   "execution_count": 28,
   "metadata": {},
   "outputs": [],
   "source": [
    "est_act_time_first.loc[:,\"time_diff_first_last_est\"] = est_act_time_first.apply(diff, t1='estimated_time_utc_berlin_actual', t2='estimated_time_utc_berlin_first', axis=1)\n",
    "est_act_time_first[\"time_diff_first_last_est_min\"] = est_act_time_first[\"time_diff_first_last_est\"] / 60.0"
   ]
  },
  {
   "cell_type": "code",
   "execution_count": 29,
   "metadata": {},
   "outputs": [
    {
     "name": "stdout",
     "output_type": "stream",
     "text": [
      "Total difference (hours): 21.273\n",
      "Average (seconds): 37.800\n",
      "Standard deviation (seconds): 188.112\n"
     ]
    }
   ],
   "source": [
    "print_stats(est_act_time_first,\"time_diff_first_last_est\")"
   ]
  },
  {
   "cell_type": "code",
   "execution_count": 30,
   "metadata": {},
   "outputs": [
    {
     "data": {
      "image/png": "[encoded data removed]",
      "text/plain": [
       "<matplotlib.figure.Figure at 0x114fc36a0>"
      ]
     },
     "metadata": {},
     "output_type": "display_data"
    }
   ],
   "source": [
    "#Plotting distribution of firs expected vs. last expected\n",
    "fig, ax = plt.subplots(figsize=(10,5))\n",
    "sns.distplot(est_act_time_first[\"time_diff_first_last_est_min\"], kde=False, ax=ax)\n",
    "ax.set_xlabel(\"Time difference\")\n",
    "ax.set_ylabel(\"Counts minutes\")\n",
    "ax.set_title(\"Distribution of difference \\n First and Last Expected time (minutes)\")\n",
    "ax.axvline(0, color=\"#44999E\", linestyle='--');"
   ]
  },
  {
   "cell_type": "markdown",
   "metadata": {},
   "source": [
    "The distribution plotted above shows that most of the distribution falls in the zero region. This means that, while there are differences due to updates in expected times, in general, there is a good quantity where there are no differences (meaning no updates) between first shown expected time and last expected time. In approximately 55% of the cases there is no difference between these two times. For the rest of the cases, we can see that cases above and below follow closely the same distribution. The only differences is that cases where the differences between these two times are positive (i.e., last expected time later than first expected time) shows more extreme values (maximum value 41 minutes difference)."
   ]
  },
  {
   "cell_type": "markdown",
   "metadata": {},
   "source": [
    "### Diferences between first estimated time and actual time of service"
   ]
  },
  {
   "cell_type": "code",
   "execution_count": 31,
   "metadata": {
    "collapsed": true
   },
   "outputs": [],
   "source": [
    "est_act_time_first.loc[:,\"time_diff_first_est_act\"] = est_act_time_first.apply(diff, t1='actual_time_utc_berlin_actual', t2='estimated_time_utc_berlin_first', axis=1)\n",
    "est_act_time_first[\"time_diff_first_est_act_min\"] = est_act_time_first[\"time_diff_first_est_act\"] / 60.0\n"
   ]
  },
  {
   "cell_type": "code",
   "execution_count": 32,
   "metadata": {},
   "outputs": [
    {
     "name": "stdout",
     "output_type": "stream",
     "text": [
      "Differences between Actual time and Last Expected Time\n",
      "Total difference (hours): 31.382\n",
      "Average (seconds): 55.762\n",
      "Standard deviation (seconds): 254.066\n",
      "============================================================\n",
      "Differences between Actual time and First Expected Time\n",
      "Total difference (hours): 52.655\n",
      "Average (seconds): 93.562\n",
      "Standard deviation (seconds): 323.879\n"
     ]
    }
   ],
   "source": [
    "print(\"Differences between Actual time and Last Expected Time\")\n",
    "print_stats(exp_act_time,\"time_diff\")\n",
    "print(\"=\"*60)\n",
    "print(\"Differences between Actual time and First Expected Time\")\n",
    "print_stats(est_act_time_first,\"time_diff_first_est_act\")"
   ]
  },
  {
   "cell_type": "markdown",
   "metadata": {},
   "source": [
    "For the sake of comparison, we have printed above the statistics of our previous analysis where we only compared last expected time vs. actual time. As it is possible to see, when taking the first expected time the user sees, the differences become larger. We can see almost a 20 hour difference between the total time. Also, the average increases approximately in 67% and the standard deviation also becomes wider.\n",
    "\n",
    "In order to get a better picture of these results, we will plot the distribution of the differences."
   ]
  },
  {
   "cell_type": "code",
   "execution_count": 33,
   "metadata": {},
   "outputs": [
    {
     "data": {
      "image/png": "[encoded data removed]",
      "text/plain": [
       "<matplotlib.figure.Figure at 0x114e60198>"
      ]
     },
     "metadata": {},
     "output_type": "display_data"
    }
   ],
   "source": [
    "#Plotting distribution of firs expected vs. last expected\n",
    "fig, ax = plt.subplots(figsize=(10,5))\n",
    "sns.distplot(est_act_time_first[\"time_diff_first_est_act_min\"], kde=False, ax=ax)\n",
    "ax.set_xlabel(\"Time difference\")\n",
    "ax.set_ylabel(\"Counts minutes\")\n",
    "ax.set_title(\"Distribution of difference \\n First and Actual time (minutes)\")\n",
    "ax.axvline(0, color=\"#44999E\", linestyle='--');"
   ]
  },
  {
   "cell_type": "markdown",
   "metadata": {},
   "source": [
    "In comparison to the last expected time, when considering the differences between first expected time and actual time we can see that the distribution gets wider. In particular, there is more density in values over the 10 minutes mark as before. "
   ]
  },
  {
   "cell_type": "code",
   "execution_count": 34,
   "metadata": {},
   "outputs": [],
   "source": [
    "threshold_est_act_time_first =  get_thresholds_groups(est_act_time_first, \"time_diff_first_est_act_min\")\n",
    "within_threshold_est_act_time_first  = get_region_threshold_groups(threshold_est_act_time_first, \"colors\")"
   ]
  },
  {
   "cell_type": "code",
   "execution_count": 35,
   "metadata": {},
   "outputs": [
    {
     "data": {
      "text/html": [
       "\n",
       "\n",
       "    <div class=\"bk-root\">\n",
       "        <div class=\"bk-plotdiv\" id=\"159e8b26-3db6-445c-ad5d-424b441606aa\"></div>\n",
       "    </div>\n",
       "<script type=\"text/javascript\">\n",
       "  \n",
       "  (function(global) {\n",
       "    function now() {\n",
       "      return new Date();\n",
       "    }\n",
       "  \n",
       "    var force = false;\n",
       "  \n",
       "    if (typeof (window._bokeh_onload_callbacks) === \"undefined\" || force === true) {\n",
       "      window._bokeh_onload_callbacks = [];\n",
       "      window._bokeh_is_loading = undefined;\n",
       "    }\n",
       "  \n",
       "  \n",
       "    \n",
       "    if (typeof (window._bokeh_timeout) === \"undefined\" || force === true) {\n",
       "      window._bokeh_timeout = Date.now() + 0;\n",
       "      window._bokeh_failed_load = false;\n",
       "    }\n",
       "  \n",
       "    var NB_LOAD_WARNING = {'data': {'text/html':\n",
       "       \"<div style='background-color: #fdd'>\\n\"+\n",
       "       \"<p>\\n\"+\n",
       "       \"BokehJS does not appear to have successfully loaded. If loading BokehJS from CDN, this \\n\"+\n",
       "       \"may be due to a slow or bad network connection. Possible fixes:\\n\"+\n",
       "       \"</p>\\n\"+\n",
       "       \"<ul>\\n\"+\n",
       "       \"<li>re-rerun `output_notebook()` to attempt to load from CDN again, or</li>\\n\"+\n",
       "       \"<li>use INLINE resources instead, as so:</li>\\n\"+\n",
       "       \"</ul>\\n\"+\n",
       "       \"<code>\\n\"+\n",
       "       \"from bokeh.resources import INLINE\\n\"+\n",
       "       \"output_notebook(resources=INLINE)\\n\"+\n",
       "       \"</code>\\n\"+\n",
       "       \"</div>\"}};\n",
       "  \n",
       "    function display_loaded() {\n",
       "      if (window.Bokeh !== undefined) {\n",
       "        var el = document.getElementById(\"159e8b26-3db6-445c-ad5d-424b441606aa\");\n",
       "        el.textContent = \"BokehJS \" + Bokeh.version + \" successfully loaded.\";\n",
       "      } else if (Date.now() < window._bokeh_timeout) {\n",
       "        setTimeout(display_loaded, 100)\n",
       "      }\n",
       "    }\n",
       "  \n",
       "    function run_callbacks() {\n",
       "      try {\n",
       "        window._bokeh_onload_callbacks.forEach(function(callback) { callback() });\n",
       "      }\n",
       "      finally {\n",
       "        delete window._bokeh_onload_callbacks\n",
       "      }\n",
       "      console.info(\"Bokeh: all callbacks have finished\");\n",
       "    }\n",
       "  \n",
       "    function load_libs(js_urls, callback) {\n",
       "      window._bokeh_onload_callbacks.push(callback);\n",
       "      if (window._bokeh_is_loading > 0) {\n",
       "        console.log(\"Bokeh: BokehJS is being loaded, scheduling callback at\", now());\n",
       "        return null;\n",
       "      }\n",
       "      if (js_urls == null || js_urls.length === 0) {\n",
       "        run_callbacks();\n",
       "        return null;\n",
       "      }\n",
       "      console.log(\"Bokeh: BokehJS not loaded, scheduling load and callback at\", now());\n",
       "      window._bokeh_is_loading = js_urls.length;\n",
       "      for (var i = 0; i < js_urls.length; i++) {\n",
       "        var url = js_urls[i];\n",
       "        var s = document.createElement('script');\n",
       "        s.src = url;\n",
       "        s.async = false;\n",
       "        s.onreadystatechange = s.onload = function() {\n",
       "          window._bokeh_is_loading--;\n",
       "          if (window._bokeh_is_loading === 0) {\n",
       "            console.log(\"Bokeh: all BokehJS libraries loaded\");\n",
       "            run_callbacks()\n",
       "          }\n",
       "        };\n",
       "        s.onerror = function() {\n",
       "          console.warn(\"failed to load library \" + url);\n",
       "        };\n",
       "        console.log(\"Bokeh: injecting script tag for BokehJS library: \", url);\n",
       "        document.getElementsByTagName(\"head\")[0].appendChild(s);\n",
       "      }\n",
       "    };var element = document.getElementById(\"159e8b26-3db6-445c-ad5d-424b441606aa\");\n",
       "    if (element == null) {\n",
       "      console.log(\"Bokeh: ERROR: autoload.js configured with elementid '159e8b26-3db6-445c-ad5d-424b441606aa' but no matching script tag was found. \")\n",
       "      return false;\n",
       "    }\n",
       "  \n",
       "    var js_urls = [];\n",
       "  \n",
       "    var inline_js = [\n",
       "      function(Bokeh) {\n",
       "        (function() {\n",
       "          var fn = function() {\n",
       "            var docs_json = {\"c1145a0e-f83a-4cf5-907c-b1885381a2a4\":{\"roots\":{\"references\":[{\"attributes\":{\"data_source\":{\"id\":\"cd6488ff-e933-4139-8bae-320307e6a3de\",\"type\":\"ColumnDataSource\"},\"glyph\":{\"id\":\"fb29f690-8b75-44f0-a859-37a861d16cf2\",\"type\":\"Line\"},\"hover_glyph\":null,\"muted_glyph\":null,\"nonselection_glyph\":{\"id\":\"e978e716-347c-40bd-96fc-c6d2f4a45938\",\"type\":\"Line\"},\"selection_glyph\":null},\"id\":\"452afc25-1dc4-4350-9a63-34f2d7e416c9\",\"type\":\"GlyphRenderer\"},{\"attributes\":{\"callback\":null,\"column_names\":[\"pct\",\"index\",\"thresholds\",\"colors\"],\"data\":{\"colors\":[\"#459E0F\",\"#E4E02C\",\"#E43216\"],\"index\":[0,1,2],\"pct\":{\"__ndarray__\":\"8D8XlB4L5D88iklJpvbQP5DXHzpyzLs/\",\"dtype\":\"float64\",\"shape\":[3]},\"thresholds\":[\"green\",\"yellow\",\"red\"]}},\"id\":\"c75a8f43-3e01-4797-b7b5-a38d2276fee7\",\"type\":\"ColumnDataSource\"},{\"attributes\":{\"data_source\":{\"id\":\"e3253789-bd86-46d8-894a-dc46b1cd182e\",\"type\":\"ColumnDataSource\"},\"glyph\":{\"id\":\"41200029-4256-4eb5-8759-612f1c15e18f\",\"type\":\"Line\"},\"hover_glyph\":null,\"muted_glyph\":null,\"nonselection_glyph\":{\"id\":\"75171331-b58b-4d29-84e2-ef4eed1d22b3\",\"type\":\"Line\"},\"selection_glyph\":null},\"id\":\"932cb221-3323-4311-be1c-88c33d8bcf95\",\"type\":\"GlyphRenderer\"},{\"attributes\":{\"align\":\"center\",\"plot\":{\"id\":\"4da63253-bd3d-431e-94f3-ca510c89999f\",\"subtype\":\"Figure\",\"type\":\"Plot\"},\"text\":\"Rush/delays within time thresholds\"},\"id\":\"ebeb8cb9-e4be-414f-95b4-35ed46f9f8b1\",\"type\":\"Title\"},{\"attributes\":{\"text\":\"<h1 style='margin-left:150px;margin-right:-450px;margin-bottom:18px;font-size:20px;                color:#7D7575'> Time thresholds for differences between expected times </h1>\"},\"id\":\"56fca9f1-436a-44b1-a140-5103a91b54c7\",\"type\":\"Div\"},{\"attributes\":{\"fill_alpha\":{\"value\":0.1},\"fill_color\":{\"value\":\"#1f77b4\"},\"line_alpha\":{\"value\":0.1},\"line_color\":{\"value\":\"#1f77b4\"},\"top\":{\"field\":\"pct\"},\"width\":{\"value\":0.6},\"x\":{\"field\":\"index\"}},\"id\":\"29030a91-92b7-4c6c-b3c8-458990e97dd2\",\"type\":\"VBar\"},{\"attributes\":{\"active_drag\":\"auto\",\"active_inspect\":\"auto\",\"active_scroll\":\"auto\",\"active_tap\":\"auto\",\"tools\":[{\"id\":\"de7e12c9-7782-4e40-bc14-59d209135d03\",\"type\":\"PanTool\"},{\"id\":\"bc176234-9760-4176-a8b2-5f30477d93e9\",\"type\":\"WheelZoomTool\"},{\"id\":\"0a3d8543-7915-427c-98c1-b105f0185be6\",\"type\":\"BoxZoomTool\"},{\"id\":\"eff9d1d7-de6a-41e9-aea7-c8aae3a0ea1d\",\"type\":\"SaveTool\"},{\"id\":\"de304187-68f2-4e96-a2d5-426f576dc612\",\"type\":\"ResetTool\"},{\"id\":\"85ed78e4-f80a-4e0d-931c-9e6bf5d41c49\",\"type\":\"HelpTool\"}]},\"id\":\"78b10280-3e86-4c1f-8eae-d700e616b412\",\"type\":\"Toolbar\"},{\"attributes\":{\"overlay\":{\"id\":\"465a7fc1-98cf-4821-ab40-54c4d501a6c6\",\"type\":\"BoxAnnotation\"},\"plot\":{\"id\":\"4da63253-bd3d-431e-94f3-ca510c89999f\",\"subtype\":\"Figure\",\"type\":\"Plot\"}},\"id\":\"0a3d8543-7915-427c-98c1-b105f0185be6\",\"type\":\"BoxZoomTool\"},{\"attributes\":{\"bottom_units\":\"screen\",\"fill_alpha\":{\"value\":0.5},\"fill_color\":{\"value\":\"lightgrey\"},\"left_units\":\"screen\",\"level\":\"overlay\",\"line_alpha\":{\"value\":1.0},\"line_color\":{\"value\":\"black\"},\"line_dash\":[4,4],\"line_width\":{\"value\":2},\"plot\":null,\"render_mode\":\"css\",\"right_units\":\"screen\",\"top_units\":\"screen\"},\"id\":\"465a7fc1-98cf-4821-ab40-54c4d501a6c6\",\"type\":\"BoxAnnotation\"},{\"attributes\":{},\"id\":\"c9e2d477-dec6-4287-a3b9-e9d7f0af15c2\",\"type\":\"BasicTickFormatter\"},{\"attributes\":{\"dimension\":1,\"plot\":{\"id\":\"150bd196-fbd3-4b77-acab-8fe7059bd72d\",\"subtype\":\"Figure\",\"type\":\"Plot\"},\"ticker\":{\"id\":\"7dab551e-79ec-45e7-b6ee-ff3ea8752e48\",\"type\":\"BasicTicker\"}},\"id\":\"55e34548-cfff-4be4-b68c-32572d5d7920\",\"type\":\"Grid\"},{\"attributes\":{\"plot\":{\"id\":\"4da63253-bd3d-431e-94f3-ca510c89999f\",\"subtype\":\"Figure\",\"type\":\"Plot\"}},\"id\":\"de7e12c9-7782-4e40-bc14-59d209135d03\",\"type\":\"PanTool\"},{\"attributes\":{\"fill_alpha\":{\"value\":0.1},\"fill_color\":{\"value\":\"#1f77b4\"},\"height\":{\"value\":0.3},\"left\":{\"value\":0.491609081934847},\"line_alpha\":{\"value\":0.1},\"line_color\":{\"value\":\"#1f77b4\"},\"right\":{\"value\":0.587857847976308},\"y\":{\"value\":1}},\"id\":\"0e0ab184-bf19-49be-8072-f5a2a52695b6\",\"type\":\"HBar\"},{\"attributes\":{},\"id\":\"933cf81b-e94d-49ca-a9fb-144d65256faa\",\"type\":\"ToolEvents\"},{\"attributes\":{\"fill_color\":{\"field\":\"colors\"},\"line_color\":{\"field\":\"colors\"},\"top\":{\"field\":\"pct\"},\"width\":{\"value\":0.6},\"x\":{\"field\":\"index\"}},\"id\":\"427ca741-2f04-4756-9043-3a3a1ad81585\",\"type\":\"VBar\"},{\"attributes\":{\"fill_alpha\":{\"value\":0.1},\"fill_color\":{\"value\":\"#1f77b4\"},\"height\":{\"value\":0.3},\"left\":{\"value\":0.324284304047384},\"line_alpha\":{\"value\":0.1},\"line_color\":{\"value\":\"#1f77b4\"},\"right\":{\"value\":0.491609081934847},\"y\":{\"value\":1}},\"id\":\"03f1784c-dfb2-4d9e-8feb-ec03c431d70a\",\"type\":\"HBar\"},{\"attributes\":{\"formatter\":{\"id\":\"c9e2d477-dec6-4287-a3b9-e9d7f0af15c2\",\"type\":\"BasicTickFormatter\"},\"plot\":{\"id\":\"150bd196-fbd3-4b77-acab-8fe7059bd72d\",\"subtype\":\"Figure\",\"type\":\"Plot\"},\"ticker\":{\"id\":\"75d592f5-1d14-44be-87f7-987e03a70b32\",\"type\":\"BasicTicker\"}},\"id\":\"90a2c0c1-6357-4988-bbb8-0f08e9c44111\",\"type\":\"LinearAxis\"},{\"attributes\":{\"children\":[{\"id\":\"56fca9f1-436a-44b1-a140-5103a91b54c7\",\"type\":\"Div\"}]},\"id\":\"5c29e65c-7f03-48af-998f-80f2adf3212f\",\"type\":\"WidgetBox\"},{\"attributes\":{\"data_source\":{\"id\":\"747eb787-0760-4ae6-8d1e-cf9944951176\",\"type\":\"ColumnDataSource\"},\"glyph\":{\"id\":\"af855a5a-82b2-4660-89e6-deaf5c46ff57\",\"type\":\"HBar\"},\"hover_glyph\":null,\"muted_glyph\":null,\"nonselection_glyph\":{\"id\":\"f76a2165-e8ac-4ec0-9cd2-54aa9bab434a\",\"type\":\"HBar\"},\"selection_glyph\":null},\"id\":\"9596637e-d620-49be-b26c-46cba4f72184\",\"type\":\"GlyphRenderer\"},{\"attributes\":{\"callback\":null,\"column_names\":[\"y\",\"x\"],\"data\":{\"x\":[0.491609081934847,0.491609081934847],\"y\":[0.5,1.5]}},\"id\":\"60a6cb93-423b-42e9-8f42-ca3bc92f285a\",\"type\":\"ColumnDataSource\"},{\"attributes\":{\"callback\":null,\"data\":{}},\"id\":\"d02189e9-123e-492f-b113-a4ce1f90b8e1\",\"type\":\"ColumnDataSource\"},{\"attributes\":{\"callback\":null,\"data\":{}},\"id\":\"a7f56a7c-d1c7-4be8-8217-2ed793275148\",\"type\":\"ColumnDataSource\"},{\"attributes\":{\"children\":[{\"id\":\"5c29e65c-7f03-48af-998f-80f2adf3212f\",\"type\":\"WidgetBox\"},{\"id\":\"96d0596d-7935-4862-a79c-c45337a20fda\",\"type\":\"Row\"}]},\"id\":\"ecd1b38d-cca5-414e-9369-76046ed49fc7\",\"type\":\"Column\"},{\"attributes\":{\"above\":[{\"id\":\"ebeb8cb9-e4be-414f-95b4-35ed46f9f8b1\",\"type\":\"Title\"}],\"below\":[{\"id\":\"a34e68b1-daba-482f-8697-8d7bdb84406b\",\"type\":\"LinearAxis\"}],\"left\":[{\"id\":\"48323d7f-c3b8-4268-a5e9-fcd576910026\",\"type\":\"LinearAxis\"}],\"plot_height\":400,\"plot_width\":400,\"renderers\":[{\"id\":\"a34e68b1-daba-482f-8697-8d7bdb84406b\",\"type\":\"LinearAxis\"},{\"id\":\"5bc48ce9-a206-4cb7-b3e8-231538c65da7\",\"type\":\"Grid\"},{\"id\":\"48323d7f-c3b8-4268-a5e9-fcd576910026\",\"type\":\"LinearAxis\"},{\"id\":\"f08be614-6bb9-413a-a1bf-d526fcaaffe0\",\"type\":\"Grid\"},{\"id\":\"465a7fc1-98cf-4821-ab40-54c4d501a6c6\",\"type\":\"BoxAnnotation\"},{\"id\":\"263051e7-5d1a-46de-97eb-e26654be50c1\",\"type\":\"GlyphRenderer\"},{\"id\":\"3d496559-9d29-4c8f-a107-ea3529d3ad69\",\"type\":\"GlyphRenderer\"},{\"id\":\"7a0a59fe-9a1e-4a32-ab45-a5a6fbb74a0b\",\"type\":\"GlyphRenderer\"},{\"id\":\"452afc25-1dc4-4350-9a63-34f2d7e416c9\",\"type\":\"GlyphRenderer\"},{\"id\":\"9596637e-d620-49be-b26c-46cba4f72184\",\"type\":\"GlyphRenderer\"},{\"id\":\"932cb221-3323-4311-be1c-88c33d8bcf95\",\"type\":\"GlyphRenderer\"},{\"id\":\"8fdb84aa-4289-4f85-a7a3-6d16847ab589\",\"type\":\"GlyphRenderer\"},{\"id\":\"b47977d1-5454-4989-aaa5-4e46521a35b3\",\"type\":\"GlyphRenderer\"},{\"id\":\"2744e9f4-32f9-4746-b638-de2062dda479\",\"type\":\"GlyphRenderer\"},{\"id\":\"bf772461-078c-481a-be49-8a37b6906ec5\",\"type\":\"GlyphRenderer\"},{\"id\":\"6c0fab92-1907-4eec-8007-ba3149ae8d5a\",\"type\":\"GlyphRenderer\"},{\"id\":\"4521c110-d00d-4590-b490-fe7c3a8f07ce\",\"type\":\"GlyphRenderer\"},{\"id\":\"ebeb8cb9-e4be-414f-95b4-35ed46f9f8b1\",\"type\":\"Title\"}],\"title\":{\"id\":\"b982024b-0e15-473b-bbd8-8a0e92576f07\",\"type\":\"Title\"},\"tool_events\":{\"id\":\"933cf81b-e94d-49ca-a9fb-144d65256faa\",\"type\":\"ToolEvents\"},\"toolbar\":{\"id\":\"78b10280-3e86-4c1f-8eae-d700e616b412\",\"type\":\"Toolbar\"},\"x_range\":{\"id\":\"a87a73ff-dfaa-4ab4-88e1-0a6e67042e57\",\"type\":\"DataRange1d\"},\"x_scale\":{\"id\":\"eca0adbb-ccb3-4453-a900-61c03ac4f55a\",\"type\":\"LinearScale\"},\"y_range\":{\"id\":\"a493d1ca-d465-4591-a3e6-c56ca87fba33\",\"type\":\"Range1d\"},\"y_scale\":{\"id\":\"abd717c3-6c6e-4b60-8465-583fd6a2f634\",\"type\":\"LinearScale\"}},\"id\":\"4da63253-bd3d-431e-94f3-ca510c89999f\",\"subtype\":\"Figure\",\"type\":\"Plot\"},{\"attributes\":{\"above\":[{\"id\":\"c0bda389-5a53-4ef5-b323-37fd5dcf9165\",\"type\":\"Title\"}],\"below\":[{\"id\":\"90a2c0c1-6357-4988-bbb8-0f08e9c44111\",\"type\":\"LinearAxis\"}],\"left\":[{\"id\":\"2666fbe7-5628-4b7a-9d51-7512409816e7\",\"type\":\"LinearAxis\"}],\"plot_height\":400,\"plot_width\":400,\"renderers\":[{\"id\":\"90a2c0c1-6357-4988-bbb8-0f08e9c44111\",\"type\":\"LinearAxis\"},{\"id\":\"e5fd2c31-74a0-4b5a-adbf-1defaaf048e0\",\"type\":\"Grid\"},{\"id\":\"2666fbe7-5628-4b7a-9d51-7512409816e7\",\"type\":\"LinearAxis\"},{\"id\":\"55e34548-cfff-4be4-b68c-32572d5d7920\",\"type\":\"Grid\"},{\"id\":\"c0bda389-5a53-4ef5-b323-37fd5dcf9165\",\"type\":\"Title\"},{\"id\":\"cb02de45-1a3c-4924-b339-893498f6aaf0\",\"type\":\"GlyphRenderer\"}],\"title\":{\"id\":\"4bcdf427-2917-4ae9-8a52-08cba99c6e6c\",\"type\":\"Title\"},\"tool_events\":{\"id\":\"9c571218-e74e-4dd5-9ee3-8c7cf613797c\",\"type\":\"ToolEvents\"},\"toolbar\":{\"id\":\"132a7920-07e3-4a45-a1f0-0864747af6ec\",\"type\":\"Toolbar\"},\"x_range\":{\"id\":\"3bbea377-6b1c-4cc7-aa26-4b3ee30a3c8d\",\"type\":\"DataRange1d\"},\"x_scale\":{\"id\":\"2f9a6c19-aa96-4007-8f0f-3cce421d4a59\",\"type\":\"LinearScale\"},\"y_range\":{\"id\":\"8a38925e-8388-4f4a-b3c0-22df81a7bb91\",\"type\":\"DataRange1d\"},\"y_scale\":{\"id\":\"161cd134-e08c-4605-aaf0-0c00c2c6815e\",\"type\":\"LinearScale\"}},\"id\":\"150bd196-fbd3-4b77-acab-8fe7059bd72d\",\"subtype\":\"Figure\",\"type\":\"Plot\"},{\"attributes\":{},\"id\":\"049009ec-2af9-4641-beb9-f661944505fd\",\"type\":\"BasicTickFormatter\"},{\"attributes\":{\"plot\":null,\"text\":\"\"},\"id\":\"4bcdf427-2917-4ae9-8a52-08cba99c6e6c\",\"type\":\"Title\"},{\"attributes\":{\"data_source\":{\"id\":\"93d5cc4c-e6f5-4d37-9fac-68aa74b0f8ba\",\"type\":\"ColumnDataSource\"},\"glyph\":{\"id\":\"24e9508d-f24e-47a5-9677-7e4ca236bcdf\",\"type\":\"HBar\"},\"hover_glyph\":null,\"muted_glyph\":null,\"nonselection_glyph\":{\"id\":\"03f1784c-dfb2-4d9e-8feb-ec03c431d70a\",\"type\":\"HBar\"},\"selection_glyph\":null},\"id\":\"2744e9f4-32f9-4746-b638-de2062dda479\",\"type\":\"GlyphRenderer\"},{\"attributes\":{\"data_source\":{\"id\":\"60a6cb93-423b-42e9-8f42-ca3bc92f285a\",\"type\":\"ColumnDataSource\"},\"glyph\":{\"id\":\"5d71b4c8-0818-4ccd-a2cf-c75ff13d03e0\",\"type\":\"Line\"},\"hover_glyph\":null,\"muted_glyph\":null,\"nonselection_glyph\":{\"id\":\"5ba86a4a-1c03-44f3-8024-e8511a4b4dd1\",\"type\":\"Line\"},\"selection_glyph\":null},\"id\":\"4521c110-d00d-4590-b490-fe7c3a8f07ce\",\"type\":\"GlyphRenderer\"},{\"attributes\":{\"callback\":null,\"column_names\":[\"y\",\"x\"],\"data\":{\"x\":[0,0],\"y\":[0.5,1.5]}},\"id\":\"396e6de1-4396-4a17-baaf-cf84cdf6404d\",\"type\":\"ColumnDataSource\"},{\"attributes\":{\"line_color\":{\"value\":\"#AAB2A5\"},\"line_dash\":[6],\"line_width\":{\"value\":2},\"x\":{\"field\":\"x\"},\"y\":{\"field\":\"y\"}},\"id\":\"c2105a8b-665e-4016-a00a-2419d60511d0\",\"type\":\"Line\"},{\"attributes\":{\"dimension\":1,\"grid_line_color\":{\"value\":null},\"plot\":{\"id\":\"4da63253-bd3d-431e-94f3-ca510c89999f\",\"subtype\":\"Figure\",\"type\":\"Plot\"},\"ticker\":{\"id\":\"f7c8a924-3a75-43c5-a5a4-24eeb3175796\",\"type\":\"BasicTicker\"}},\"id\":\"f08be614-6bb9-413a-a1bf-d526fcaaffe0\",\"type\":\"Grid\"},{\"attributes\":{\"callback\":null,\"end\":2},\"id\":\"a493d1ca-d465-4591-a3e6-c56ca87fba33\",\"type\":\"Range1d\"},{\"attributes\":{\"callback\":null},\"id\":\"a87a73ff-dfaa-4ab4-88e1-0a6e67042e57\",\"type\":\"DataRange1d\"},{\"attributes\":{\"callback\":null,\"column_names\":[\"y\",\"x\"],\"data\":{\"x\":[0.324284304047384,0.324284304047384],\"y\":[0.5,1.5]}},\"id\":\"6113c85d-4592-41f0-8f5e-d65f2690c6ee\",\"type\":\"ColumnDataSource\"},{\"attributes\":{\"active_drag\":\"auto\",\"active_inspect\":\"auto\",\"active_scroll\":\"auto\",\"active_tap\":\"auto\",\"tools\":[{\"id\":\"b6c0ed04-36cb-43d2-a1b1-5ebc0ec6e9b6\",\"type\":\"HoverTool\"}]},\"id\":\"132a7920-07e3-4a45-a1f0-0864747af6ec\",\"type\":\"Toolbar\"},{\"attributes\":{\"data_source\":{\"id\":\"f85ff33f-60a9-483b-9092-2c580efee866\",\"type\":\"ColumnDataSource\"},\"glyph\":{\"id\":\"56d4bba9-13bd-46b6-81c5-cf19e804100a\",\"type\":\"HBar\"},\"hover_glyph\":null,\"muted_glyph\":null,\"nonselection_glyph\":{\"id\":\"88cd2d69-9e3e-492a-9510-b4fd5b3b0c75\",\"type\":\"HBar\"},\"selection_glyph\":null},\"id\":\"263051e7-5d1a-46de-97eb-e26654be50c1\",\"type\":\"GlyphRenderer\"},{\"attributes\":{},\"id\":\"7dab551e-79ec-45e7-b6ee-ff3ea8752e48\",\"type\":\"BasicTicker\"},{\"attributes\":{\"data_source\":{\"id\":\"50f2819a-4221-40e7-ae19-49cf314ab557\",\"type\":\"ColumnDataSource\"},\"glyph\":{\"id\":\"89d9aab9-133e-47b4-ba99-a4bdb39b648c\",\"type\":\"Line\"},\"hover_glyph\":null,\"muted_glyph\":null,\"nonselection_glyph\":{\"id\":\"8e8e8bbb-a6cb-45a4-98ec-9638d9fe444d\",\"type\":\"Line\"},\"selection_glyph\":null},\"id\":\"b47977d1-5454-4989-aaa5-4e46521a35b3\",\"type\":\"GlyphRenderer\"},{\"attributes\":{\"callback\":null,\"plot\":{\"id\":\"150bd196-fbd3-4b77-acab-8fe7059bd72d\",\"subtype\":\"Figure\",\"type\":\"Plot\"},\"tooltips\":[[\"pct\",\"@pct{(0.00%)}\"]]},\"id\":\"b6c0ed04-36cb-43d2-a1b1-5ebc0ec6e9b6\",\"type\":\"HoverTool\"},{\"attributes\":{\"line_color\":{\"value\":\"#AAB2A5\"},\"line_dash\":[6],\"line_width\":{\"value\":2},\"x\":{\"field\":\"x\"},\"y\":{\"field\":\"y\"}},\"id\":\"fb29f690-8b75-44f0-a859-37a861d16cf2\",\"type\":\"Line\"},{\"attributes\":{},\"id\":\"257815d1-c63b-4c5b-8d41-73464c15903d\",\"type\":\"BasicTickFormatter\"},{\"attributes\":{\"plot\":null,\"text\":\"\"},\"id\":\"b982024b-0e15-473b-bbd8-8a0e92576f07\",\"type\":\"Title\"},{\"attributes\":{},\"id\":\"abd717c3-6c6e-4b60-8465-583fd6a2f634\",\"type\":\"LinearScale\"},{\"attributes\":{\"plot\":{\"id\":\"4da63253-bd3d-431e-94f3-ca510c89999f\",\"subtype\":\"Figure\",\"type\":\"Plot\"}},\"id\":\"de304187-68f2-4e96-a2d5-426f576dc612\",\"type\":\"ResetTool\"},{\"attributes\":{\"callback\":null,\"data\":{}},\"id\":\"93d5cc4c-e6f5-4d37-9fac-68aa74b0f8ba\",\"type\":\"ColumnDataSource\"},{\"attributes\":{\"fill_color\":{\"value\":\"#E4E02C\"},\"height\":{\"value\":0.3},\"left\":{\"value\":0.324284304047384},\"line_color\":{\"value\":\"#E4E02C\"},\"right\":{\"value\":0.491609081934847},\"y\":{\"value\":1}},\"id\":\"24e9508d-f24e-47a5-9677-7e4ca236bcdf\",\"type\":\"HBar\"},{\"attributes\":{\"fill_alpha\":{\"value\":0.1},\"fill_color\":{\"value\":\"#1f77b4\"},\"height\":{\"value\":0.3},\"left\":{\"value\":-0.3020730503455084},\"line_alpha\":{\"value\":0.1},\"line_color\":{\"value\":\"#1f77b4\"},\"right\":{\"value\":0},\"y\":{\"value\":1}},\"id\":\"88cd2d69-9e3e-492a-9510-b4fd5b3b0c75\",\"type\":\"HBar\"},{\"attributes\":{\"fill_color\":{\"value\":\"#459E0F\"},\"height\":{\"value\":0.3},\"line_color\":{\"value\":\"#459E0F\"},\"right\":{\"value\":0.324284304047384},\"y\":{\"value\":1}},\"id\":\"668d0d5f-dc66-4803-96a7-289690aeb3e1\",\"type\":\"HBar\"},{\"attributes\":{\"plot\":{\"id\":\"4da63253-bd3d-431e-94f3-ca510c89999f\",\"subtype\":\"Figure\",\"type\":\"Plot\"}},\"id\":\"eff9d1d7-de6a-41e9-aea7-c8aae3a0ea1d\",\"type\":\"SaveTool\"},{\"attributes\":{\"plot\":{\"id\":\"4da63253-bd3d-431e-94f3-ca510c89999f\",\"subtype\":\"Figure\",\"type\":\"Plot\"}},\"id\":\"85ed78e4-f80a-4e0d-931c-9e6bf5d41c49\",\"type\":\"HelpTool\"},{\"attributes\":{\"fill_alpha\":{\"value\":0.1},\"fill_color\":{\"value\":\"#1f77b4\"},\"height\":{\"value\":0.3},\"left\":{\"value\":-0.3998025666337611},\"line_alpha\":{\"value\":0.1},\"line_color\":{\"value\":\"#1f77b4\"},\"right\":{\"value\":-0.3020730503455084},\"y\":{\"value\":1}},\"id\":\"aab9e93e-671a-4862-8430-6eaa3da066a6\",\"type\":\"HBar\"},{\"attributes\":{\"line_alpha\":{\"value\":0.1},\"line_color\":{\"value\":\"#1f77b4\"},\"line_dash\":[6],\"line_width\":{\"value\":2},\"x\":{\"field\":\"x\"},\"y\":{\"field\":\"y\"}},\"id\":\"e978e716-347c-40bd-96fc-c6d2f4a45938\",\"type\":\"Line\"},{\"attributes\":{\"fill_color\":{\"value\":\"#459E0F\"},\"height\":{\"value\":0.3},\"left\":{\"value\":-0.3020730503455084},\"line_color\":{\"value\":\"#459E0F\"},\"right\":{\"value\":0},\"y\":{\"value\":1}},\"id\":\"56d4bba9-13bd-46b6-81c5-cf19e804100a\",\"type\":\"HBar\"},{\"attributes\":{\"fill_color\":{\"value\":\"#E43216\"},\"height\":{\"value\":0.3},\"left\":{\"value\":0.491609081934847},\"line_color\":{\"value\":\"#E43216\"},\"right\":{\"value\":0.587857847976308},\"y\":{\"value\":1}},\"id\":\"73a5f0fe-c528-4d2a-8d3f-db926040d748\",\"type\":\"HBar\"},{\"attributes\":{\"plot\":{\"id\":\"4da63253-bd3d-431e-94f3-ca510c89999f\",\"subtype\":\"Figure\",\"type\":\"Plot\"}},\"id\":\"bc176234-9760-4176-a8b2-5f30477d93e9\",\"type\":\"WheelZoomTool\"},{\"attributes\":{\"line_alpha\":{\"value\":0.1},\"line_color\":{\"value\":\"#1f77b4\"},\"line_dash\":[6],\"line_width\":{\"value\":2},\"x\":{\"field\":\"x\"},\"y\":{\"field\":\"y\"}},\"id\":\"5ba86a4a-1c03-44f3-8024-e8511a4b4dd1\",\"type\":\"Line\"},{\"attributes\":{\"fill_alpha\":{\"value\":0.1},\"fill_color\":{\"value\":\"#1f77b4\"},\"height\":{\"value\":0.3},\"left\":{\"value\":-0.41214215202369203},\"line_alpha\":{\"value\":0.1},\"line_color\":{\"value\":\"#1f77b4\"},\"right\":{\"value\":-0.3998025666337611},\"y\":{\"value\":1}},\"id\":\"f76a2165-e8ac-4ec0-9cd2-54aa9bab434a\",\"type\":\"HBar\"},{\"attributes\":{\"align\":\"center\",\"plot\":{\"id\":\"150bd196-fbd3-4b77-acab-8fe7059bd72d\",\"subtype\":\"Figure\",\"type\":\"Plot\"},\"text\":\"Total percentage within thresholds\"},\"id\":\"c0bda389-5a53-4ef5-b323-37fd5dcf9165\",\"type\":\"Title\"},{\"attributes\":{\"callback\":null,\"column_names\":[\"y\",\"x\"],\"data\":{\"x\":[0,0],\"y\":[0.5,1.5]}},\"id\":\"50f2819a-4221-40e7-ae19-49cf314ab557\",\"type\":\"ColumnDataSource\"},{\"attributes\":{\"fill_color\":{\"value\":\"#E43216\"},\"height\":{\"value\":0.3},\"left\":{\"value\":-0.41214215202369203},\"line_color\":{\"value\":\"#E43216\"},\"right\":{\"value\":-0.3998025666337611},\"y\":{\"value\":1}},\"id\":\"af855a5a-82b2-4660-89e6-deaf5c46ff57\",\"type\":\"HBar\"},{\"attributes\":{\"formatter\":{\"id\":\"257815d1-c63b-4c5b-8d41-73464c15903d\",\"type\":\"BasicTickFormatter\"},\"plot\":{\"id\":\"4da63253-bd3d-431e-94f3-ca510c89999f\",\"subtype\":\"Figure\",\"type\":\"Plot\"},\"ticker\":{\"id\":\"f7c8a924-3a75-43c5-a5a4-24eeb3175796\",\"type\":\"BasicTicker\"},\"visible\":false},\"id\":\"48323d7f-c3b8-4268-a5e9-fcd576910026\",\"type\":\"LinearAxis\"},{\"attributes\":{\"callback\":null,\"column_names\":[\"y\",\"x\"],\"data\":{\"x\":[-0.3998025666337611,-0.3998025666337611],\"y\":[0.5,1.5]}},\"id\":\"e3253789-bd86-46d8-894a-dc46b1cd182e\",\"type\":\"ColumnDataSource\"},{\"attributes\":{\"data_source\":{\"id\":\"d02189e9-123e-492f-b113-a4ce1f90b8e1\",\"type\":\"ColumnDataSource\"},\"glyph\":{\"id\":\"668d0d5f-dc66-4803-96a7-289690aeb3e1\",\"type\":\"HBar\"},\"hover_glyph\":null,\"muted_glyph\":null,\"nonselection_glyph\":{\"id\":\"fd4e6a5a-56ad-4b51-895f-c79d2ae0031c\",\"type\":\"HBar\"},\"selection_glyph\":null},\"id\":\"8fdb84aa-4289-4f85-a7a3-6d16847ab589\",\"type\":\"GlyphRenderer\"},{\"attributes\":{\"data_source\":{\"id\":\"a7f56a7c-d1c7-4be8-8217-2ed793275148\",\"type\":\"ColumnDataSource\"},\"glyph\":{\"id\":\"96b96f57-2702-495c-bcec-07a3028e90ce\",\"type\":\"HBar\"},\"hover_glyph\":null,\"muted_glyph\":null,\"nonselection_glyph\":{\"id\":\"aab9e93e-671a-4862-8430-6eaa3da066a6\",\"type\":\"HBar\"},\"selection_glyph\":null},\"id\":\"7a0a59fe-9a1e-4a32-ab45-a5a6fbb74a0b\",\"type\":\"GlyphRenderer\"},{\"attributes\":{\"callback\":null,\"column_names\":[\"y\",\"x\"],\"data\":{\"x\":[-0.3020730503455084,-0.3020730503455084],\"y\":[0.5,1.5]}},\"id\":\"cd6488ff-e933-4139-8bae-320307e6a3de\",\"type\":\"ColumnDataSource\"},{\"attributes\":{\"line_color\":{\"value\":\"#AAB2A5\"},\"line_dash\":[6],\"line_width\":{\"value\":2},\"x\":{\"field\":\"x\"},\"y\":{\"field\":\"y\"}},\"id\":\"06eb70a9-7fa1-41c5-a9d1-6a5447f76aff\",\"type\":\"Line\"},{\"attributes\":{\"formatter\":{\"id\":\"2450c930-4fc9-402a-bffe-5f77349764a3\",\"type\":\"BasicTickFormatter\"},\"plot\":{\"id\":\"4da63253-bd3d-431e-94f3-ca510c89999f\",\"subtype\":\"Figure\",\"type\":\"Plot\"},\"ticker\":{\"id\":\"f6aaff60-0f69-42a7-97b1-73f610ae1955\",\"type\":\"BasicTicker\"}},\"id\":\"a34e68b1-daba-482f-8697-8d7bdb84406b\",\"type\":\"LinearAxis\"},{\"attributes\":{\"callback\":null},\"id\":\"3bbea377-6b1c-4cc7-aa26-4b3ee30a3c8d\",\"type\":\"DataRange1d\"},{\"attributes\":{\"callback\":null,\"data\":{}},\"id\":\"a76b35d2-89d6-47f3-9bd5-de69d212d35a\",\"type\":\"ColumnDataSource\"},{\"attributes\":{\"line_alpha\":{\"value\":0.1},\"line_color\":{\"value\":\"#1f77b4\"},\"line_dash\":[6],\"line_width\":{\"value\":2},\"x\":{\"field\":\"x\"},\"y\":{\"field\":\"y\"}},\"id\":\"da9cabe6-277e-4544-83e6-2f77d1d62949\",\"type\":\"Line\"},{\"attributes\":{\"data_source\":{\"id\":\"a76b35d2-89d6-47f3-9bd5-de69d212d35a\",\"type\":\"ColumnDataSource\"},\"glyph\":{\"id\":\"73a5f0fe-c528-4d2a-8d3f-db926040d748\",\"type\":\"HBar\"},\"hover_glyph\":null,\"muted_glyph\":null,\"nonselection_glyph\":{\"id\":\"0e0ab184-bf19-49be-8072-f5a2a52695b6\",\"type\":\"HBar\"},\"selection_glyph\":null},\"id\":\"6c0fab92-1907-4eec-8007-ba3149ae8d5a\",\"type\":\"GlyphRenderer\"},{\"attributes\":{},\"id\":\"2f9a6c19-aa96-4007-8f0f-3cce421d4a59\",\"type\":\"LinearScale\"},{\"attributes\":{},\"id\":\"161cd134-e08c-4605-aaf0-0c00c2c6815e\",\"type\":\"LinearScale\"},{\"attributes\":{\"line_alpha\":{\"value\":0.1},\"line_color\":{\"value\":\"#1f77b4\"},\"line_dash\":[6],\"line_width\":{\"value\":2},\"x\":{\"field\":\"x\"},\"y\":{\"field\":\"y\"}},\"id\":\"8e8e8bbb-a6cb-45a4-98ec-9638d9fe444d\",\"type\":\"Line\"},{\"attributes\":{\"data_source\":{\"id\":\"6113c85d-4592-41f0-8f5e-d65f2690c6ee\",\"type\":\"ColumnDataSource\"},\"glyph\":{\"id\":\"06eb70a9-7fa1-41c5-a9d1-6a5447f76aff\",\"type\":\"Line\"},\"hover_glyph\":null,\"muted_glyph\":null,\"nonselection_glyph\":{\"id\":\"48cbb24d-98c7-4803-8c79-0708db2e13b6\",\"type\":\"Line\"},\"selection_glyph\":null},\"id\":\"bf772461-078c-481a-be49-8a37b6906ec5\",\"type\":\"GlyphRenderer\"},{\"attributes\":{},\"id\":\"f7c8a924-3a75-43c5-a5a4-24eeb3175796\",\"type\":\"BasicTicker\"},{\"attributes\":{\"data_source\":{\"id\":\"c75a8f43-3e01-4797-b7b5-a38d2276fee7\",\"type\":\"ColumnDataSource\"},\"glyph\":{\"id\":\"427ca741-2f04-4756-9043-3a3a1ad81585\",\"type\":\"VBar\"},\"hover_glyph\":null,\"muted_glyph\":null,\"nonselection_glyph\":{\"id\":\"29030a91-92b7-4c6c-b3c8-458990e97dd2\",\"type\":\"VBar\"},\"selection_glyph\":null},\"id\":\"cb02de45-1a3c-4924-b339-893498f6aaf0\",\"type\":\"GlyphRenderer\"},{\"attributes\":{\"line_alpha\":{\"value\":0.1},\"line_color\":{\"value\":\"#1f77b4\"},\"line_dash\":[6],\"line_width\":{\"value\":2},\"x\":{\"field\":\"x\"},\"y\":{\"field\":\"y\"}},\"id\":\"75171331-b58b-4d29-84e2-ef4eed1d22b3\",\"type\":\"Line\"},{\"attributes\":{},\"id\":\"75d592f5-1d14-44be-87f7-987e03a70b32\",\"type\":\"BasicTicker\"},{\"attributes\":{\"line_color\":{\"value\":\"#AAB2A5\"},\"line_dash\":[6],\"line_width\":{\"value\":2},\"x\":{\"field\":\"x\"},\"y\":{\"field\":\"y\"}},\"id\":\"41200029-4256-4eb5-8759-612f1c15e18f\",\"type\":\"Line\"},{\"attributes\":{\"formatter\":{\"id\":\"049009ec-2af9-4641-beb9-f661944505fd\",\"type\":\"BasicTickFormatter\"},\"plot\":{\"id\":\"150bd196-fbd3-4b77-acab-8fe7059bd72d\",\"subtype\":\"Figure\",\"type\":\"Plot\"},\"ticker\":{\"id\":\"7dab551e-79ec-45e7-b6ee-ff3ea8752e48\",\"type\":\"BasicTicker\"}},\"id\":\"2666fbe7-5628-4b7a-9d51-7512409816e7\",\"type\":\"LinearAxis\"},{\"attributes\":{\"line_color\":{\"value\":\"#AAB2A5\"},\"line_dash\":[6],\"line_width\":{\"value\":2},\"x\":{\"field\":\"x\"},\"y\":{\"field\":\"y\"}},\"id\":\"89d9aab9-133e-47b4-ba99-a4bdb39b648c\",\"type\":\"Line\"},{\"attributes\":{},\"id\":\"2450c930-4fc9-402a-bffe-5f77349764a3\",\"type\":\"BasicTickFormatter\"},{\"attributes\":{\"fill_color\":{\"value\":\"#E4E02C\"},\"height\":{\"value\":0.3},\"left\":{\"value\":-0.3998025666337611},\"line_color\":{\"value\":\"#E4E02C\"},\"right\":{\"value\":-0.3020730503455084},\"y\":{\"value\":1}},\"id\":\"96b96f57-2702-495c-bcec-07a3028e90ce\",\"type\":\"HBar\"},{\"attributes\":{\"plot\":{\"id\":\"150bd196-fbd3-4b77-acab-8fe7059bd72d\",\"subtype\":\"Figure\",\"type\":\"Plot\"},\"ticker\":{\"id\":\"75d592f5-1d14-44be-87f7-987e03a70b32\",\"type\":\"BasicTicker\"}},\"id\":\"e5fd2c31-74a0-4b5a-adbf-1defaaf048e0\",\"type\":\"Grid\"},{\"attributes\":{\"callback\":null},\"id\":\"8a38925e-8388-4f4a-b3c0-22df81a7bb91\",\"type\":\"DataRange1d\"},{\"attributes\":{\"grid_line_color\":{\"value\":null},\"plot\":{\"id\":\"4da63253-bd3d-431e-94f3-ca510c89999f\",\"subtype\":\"Figure\",\"type\":\"Plot\"},\"ticker\":{\"id\":\"f6aaff60-0f69-42a7-97b1-73f610ae1955\",\"type\":\"BasicTicker\"}},\"id\":\"5bc48ce9-a206-4cb7-b3e8-231538c65da7\",\"type\":\"Grid\"},{\"attributes\":{\"line_alpha\":{\"value\":0.1},\"line_color\":{\"value\":\"#1f77b4\"},\"line_dash\":[6],\"line_width\":{\"value\":2},\"x\":{\"field\":\"x\"},\"y\":{\"field\":\"y\"}},\"id\":\"48cbb24d-98c7-4803-8c79-0708db2e13b6\",\"type\":\"Line\"},{\"attributes\":{\"line_color\":{\"value\":\"#AAB2A5\"},\"line_dash\":[6],\"line_width\":{\"value\":2},\"x\":{\"field\":\"x\"},\"y\":{\"field\":\"y\"}},\"id\":\"5d71b4c8-0818-4ccd-a2cf-c75ff13d03e0\",\"type\":\"Line\"},{\"attributes\":{},\"id\":\"f6aaff60-0f69-42a7-97b1-73f610ae1955\",\"type\":\"BasicTicker\"},{\"attributes\":{},\"id\":\"9c571218-e74e-4dd5-9ee3-8c7cf613797c\",\"type\":\"ToolEvents\"},{\"attributes\":{\"callback\":null,\"data\":{}},\"id\":\"f85ff33f-60a9-483b-9092-2c580efee866\",\"type\":\"ColumnDataSource\"},{\"attributes\":{\"fill_alpha\":{\"value\":0.1},\"fill_color\":{\"value\":\"#1f77b4\"},\"height\":{\"value\":0.3},\"line_alpha\":{\"value\":0.1},\"line_color\":{\"value\":\"#1f77b4\"},\"right\":{\"value\":0.324284304047384},\"y\":{\"value\":1}},\"id\":\"fd4e6a5a-56ad-4b51-895f-c79d2ae0031c\",\"type\":\"HBar\"},{\"attributes\":{},\"id\":\"eca0adbb-ccb3-4453-a900-61c03ac4f55a\",\"type\":\"LinearScale\"},{\"attributes\":{\"children\":[{\"id\":\"4da63253-bd3d-431e-94f3-ca510c89999f\",\"subtype\":\"Figure\",\"type\":\"Plot\"},{\"id\":\"150bd196-fbd3-4b77-acab-8fe7059bd72d\",\"subtype\":\"Figure\",\"type\":\"Plot\"}]},\"id\":\"96d0596d-7935-4862-a79c-c45337a20fda\",\"type\":\"Row\"},{\"attributes\":{\"data_source\":{\"id\":\"396e6de1-4396-4a17-baaf-cf84cdf6404d\",\"type\":\"ColumnDataSource\"},\"glyph\":{\"id\":\"c2105a8b-665e-4016-a00a-2419d60511d0\",\"type\":\"Line\"},\"hover_glyph\":null,\"muted_glyph\":null,\"nonselection_glyph\":{\"id\":\"da9cabe6-277e-4544-83e6-2f77d1d62949\",\"type\":\"Line\"},\"selection_glyph\":null},\"id\":\"3d496559-9d29-4c8f-a107-ea3529d3ad69\",\"type\":\"GlyphRenderer\"},{\"attributes\":{\"callback\":null,\"data\":{}},\"id\":\"747eb787-0760-4ae6-8d1e-cf9944951176\",\"type\":\"ColumnDataSource\"}],\"root_ids\":[\"ecd1b38d-cca5-414e-9369-76046ed49fc7\"]},\"title\":\"Bokeh Application\",\"version\":\"0.12.6\"}};\n",
       "            var render_items = [{\"docid\":\"c1145a0e-f83a-4cf5-907c-b1885381a2a4\",\"elementid\":\"159e8b26-3db6-445c-ad5d-424b441606aa\",\"modelid\":\"ecd1b38d-cca5-414e-9369-76046ed49fc7\"}];\n",
       "            \n",
       "            Bokeh.embed.embed_items(docs_json, render_items);\n",
       "          };\n",
       "          if (document.readyState != \"loading\") fn();\n",
       "          else document.addEventListener(\"DOMContentLoaded\", fn);\n",
       "        })();\n",
       "      },\n",
       "      function(Bokeh) {\n",
       "      }\n",
       "    ];\n",
       "  \n",
       "    function run_inline_js() {\n",
       "      \n",
       "      if ((window.Bokeh !== undefined) || (force === true)) {\n",
       "        for (var i = 0; i < inline_js.length; i++) {\n",
       "          inline_js[i](window.Bokeh);\n",
       "        }if (force === true) {\n",
       "          display_loaded();\n",
       "        }} else if (Date.now() < window._bokeh_timeout) {\n",
       "        setTimeout(run_inline_js, 100);\n",
       "      } else if (!window._bokeh_failed_load) {\n",
       "        console.log(\"Bokeh: BokehJS failed to load within specified timeout.\");\n",
       "        window._bokeh_failed_load = true;\n",
       "      } else if (force !== true) {\n",
       "        var cell = $(document.getElementById(\"159e8b26-3db6-445c-ad5d-424b441606aa\")).parents('.cell').data().cell;\n",
       "        cell.output_area.append_execute_result(NB_LOAD_WARNING)\n",
       "      }\n",
       "  \n",
       "    }\n",
       "  \n",
       "    if (window._bokeh_is_loading === 0) {\n",
       "      console.log(\"Bokeh: BokehJS loaded, going straight to plotting\");\n",
       "      run_inline_js();\n",
       "    } else {\n",
       "      load_libs(js_urls, function() {\n",
       "        console.log(\"Bokeh: BokehJS plotting callback run at\", now());\n",
       "        run_inline_js();\n",
       "      });\n",
       "    }\n",
       "  }(this));\n",
       "</script>"
      ]
     },
     "metadata": {},
     "output_type": "display_data"
    }
   ],
   "source": [
    "time_threshold_est_act_time_first = plot_horizontal_time_thresholds(threshold_est_act_time_first, 400, 400, 'pct', 'colors', \n",
    "                                                                \"Rush/delays within time thresholds\")\n",
    "within_thresholds_est_act_time_first = plot_total_pct_thresholds(within_threshold_est_act_time_first, 400, 400, \"index\", \"pct\", \"colors\", \"Total percentage within thresholds\")\n",
    "show(column(Div(text=\"<h1 style='margin-left:150px;margin-right:-450px;margin-bottom:18px;font-size:20px;\\\n",
    "                color:#7D7575'> Time thresholds for differences between expected times </h1>\"), row(time_threshold_est_act_time_first, within_thresholds_est_act_time_first)))"
   ]
  },
  {
   "cell_type": "markdown",
   "metadata": {},
   "source": [
    "In comparison to the differences with last expected time, when taking first expected time and actual service delivery we notice that the differences are more significant. Note that the green region (difference within 3 minutes) captures now 62.6% of services. Services in the yellow region (between 3-7 minutes) and red region (more than 7 minutes) grow. The red region, in particular, almost doubles. \n",
    "\n",
    "This shows that there is still space for improvement in terms of first expected time shown to the user. In particular, it will be important to reduce the cases in the red area because this can have an important effect on user's experience.\n",
    "\n",
    "In what follows we perform the same analysis but separately for pick ups and drop offs."
   ]
  },
  {
   "cell_type": "markdown",
   "metadata": {},
   "source": [
    "### Differences in pick up / drop off first expected time vs. actual time"
   ]
  },
  {
   "cell_type": "code",
   "execution_count": 36,
   "metadata": {},
   "outputs": [],
   "source": [
    "est_act_time_first_pick_up =  (est_act_time_first[est_act_time_first[\"type\"] == \"pickup\"]).reset_index()\n",
    "est_act_time_first_drop_off =  (est_act_time_first[est_act_time_first[\"type\"] == \"dropoff\"]).reset_index()"
   ]
  },
  {
   "cell_type": "code",
   "execution_count": 37,
   "metadata": {},
   "outputs": [],
   "source": [
    "#Calculating time differences for pick ups\n",
    "est_act_time_first_pick_up.loc[:,\"time_diff_first_est_act\"] = est_act_time_first_pick_up.apply(diff, t1='actual_time_utc_berlin_actual', t2='estimated_time_utc_berlin_first', axis=1)\n",
    "est_act_time_first_pick_up[\"time_diff_first_est_act_min\"] = est_act_time_first_pick_up[\"time_diff_first_est_act\"] / 60.0"
   ]
  },
  {
   "cell_type": "code",
   "execution_count": 38,
   "metadata": {},
   "outputs": [
    {
     "name": "stdout",
     "output_type": "stream",
     "text": [
      "Stats for difference between first expected time and actual pick up time\n",
      "\n",
      "Total difference (hours): 21.228\n",
      "Average (seconds): 37.720\n",
      "Standard deviation (seconds): 231.877\n"
     ]
    }
   ],
   "source": [
    "print(\"Stats for difference between first expected time and actual pick up time\\n\")\n",
    "print_stats(est_act_time_first_pick_up,\"time_diff_first_est_act\")"
   ]
  },
  {
   "cell_type": "code",
   "execution_count": 39,
   "metadata": {
    "collapsed": true
   },
   "outputs": [],
   "source": [
    "#Calculating time differences for drop offs\n",
    "est_act_time_first_drop_off.loc[:,\"time_diff_first_est_act\"] = est_act_time_first_drop_off.apply(diff, t1='actual_time_utc_berlin_actual', t2='estimated_time_utc_berlin_first', axis=1)\n",
    "est_act_time_first_drop_off[\"time_diff_first_est_act_min\"] = est_act_time_first_drop_off[\"time_diff_first_est_act\"] / 60.0"
   ]
  },
  {
   "cell_type": "code",
   "execution_count": 40,
   "metadata": {},
   "outputs": [
    {
     "name": "stdout",
     "output_type": "stream",
     "text": [
      "Stats for difference between first expected time and actual drop off time\n",
      "\n",
      "Total difference (hours): 31.427\n",
      "Average (seconds): 55.843\n",
      "Standard deviation (seconds): 394.421\n"
     ]
    }
   ],
   "source": [
    "print(\"Stats for difference between first expected time and actual drop off time\\n\")\n",
    "print_stats(est_act_time_first_drop_off,\"time_diff_first_est_act\")"
   ]
  },
  {
   "cell_type": "code",
   "execution_count": 41,
   "metadata": {},
   "outputs": [
    {
     "data": {
      "image/png": "[encoded data removed]",
      "text/plain": [
       "<matplotlib.figure.Figure at 0x1185f4fd0>"
      ]
     },
     "metadata": {},
     "output_type": "display_data"
    }
   ],
   "source": [
    "fig, ax = plt.subplots(2, figsize=(10,7))\n",
    "sns.distplot(est_act_time_first_pick_up[\"time_diff_first_est_act_min\"], kde=False, ax=ax[0])\n",
    "sns.distplot(est_act_time_first_drop_off[\"time_diff_first_est_act_min\"], kde=False, ax=ax[1])\n",
    "ax[0].set_title(\"Distribution of difference - pick ups \\n Actual Time First Expected Time (minutes)\")\n",
    "ax[1].set_title(\"Distribution of difference - drop off \\n Actual Time First Expected Time (minutes)\")\n",
    "for ax in ax.flatten():\n",
    "    ax.set_ylabel(\"Counts minutes\")\n",
    "    ax.set_ylabel(\"Counts minutes\")\n",
    "    ax.set_xlabel(\"Time difference\")\n",
    "    ax.axvline(0, color=\"#44999E\", linestyle='--')\n",
    "fig.tight_layout() "
   ]
  },
  {
   "cell_type": "markdown",
   "metadata": {},
   "source": [
    "Looking at the distributions and the statistics for pick ups and drop offs one can notice that the differences for actual time vs. first expected time are bigger for the drop off than pick ups. This is straightforward to understand. As drop off are farther ahead in the future, it is more difficult to predict than pick ups. Still doing better at predicting pick ups and drop offs would give the service reliability in terms of the expected time users need to wait for the complete service (pick up and drop off) to be conducted."
   ]
  },
  {
   "cell_type": "code",
   "execution_count": 42,
   "metadata": {
    "collapsed": true
   },
   "outputs": [],
   "source": [
    "#Using plotting functions\n",
    "threshold_first_pick_up =  get_thresholds_groups(est_act_time_first_pick_up, \"time_diff_first_est_act_min\")\n",
    "within_thresh_first_pick_up = get_region_threshold_groups(threshold_first_pick_up, \"colors\")\n",
    "threshold_first_drop_off = get_thresholds_groups(est_act_time_first_drop_off, \"time_diff_first_est_act_min\")\n",
    "within_thresh_first_drop_off = get_region_threshold_groups(threshold_first_drop_off, \"colors\")"
   ]
  },
  {
   "cell_type": "code",
   "execution_count": 43,
   "metadata": {},
   "outputs": [
    {
     "data": {
      "text/html": [
       "\n",
       "\n",
       "    <div class=\"bk-root\">\n",
       "        <div class=\"bk-plotdiv\" id=\"20906479-b0dc-4f8b-a3af-272e8514abd8\"></div>\n",
       "    </div>\n",
       "<script type=\"text/javascript\">\n",
       "  \n",
       "  (function(global) {\n",
       "    function now() {\n",
       "      return new Date();\n",
       "    }\n",
       "  \n",
       "    var force = false;\n",
       "  \n",
       "    if (typeof (window._bokeh_onload_callbacks) === \"undefined\" || force === true) {\n",
       "      window._bokeh_onload_callbacks = [];\n",
       "      window._bokeh_is_loading = undefined;\n",
       "    }\n",
       "  \n",
       "  \n",
       "    \n",
       "    if (typeof (window._bokeh_timeout) === \"undefined\" || force === true) {\n",
       "      window._bokeh_timeout = Date.now() + 0;\n",
       "      window._bokeh_failed_load = false;\n",
       "    }\n",
       "  \n",
       "    var NB_LOAD_WARNING = {'data': {'text/html':\n",
       "       \"<div style='background-color: #fdd'>\\n\"+\n",
       "       \"<p>\\n\"+\n",
       "       \"BokehJS does not appear to have successfully loaded. If loading BokehJS from CDN, this \\n\"+\n",
       "       \"may be due to a slow or bad network connection. Possible fixes:\\n\"+\n",
       "       \"</p>\\n\"+\n",
       "       \"<ul>\\n\"+\n",
       "       \"<li>re-rerun `output_notebook()` to attempt to load from CDN again, or</li>\\n\"+\n",
       "       \"<li>use INLINE resources instead, as so:</li>\\n\"+\n",
       "       \"</ul>\\n\"+\n",
       "       \"<code>\\n\"+\n",
       "       \"from bokeh.resources import INLINE\\n\"+\n",
       "       \"output_notebook(resources=INLINE)\\n\"+\n",
       "       \"</code>\\n\"+\n",
       "       \"</div>\"}};\n",
       "  \n",
       "    function display_loaded() {\n",
       "      if (window.Bokeh !== undefined) {\n",
       "        var el = document.getElementById(\"20906479-b0dc-4f8b-a3af-272e8514abd8\");\n",
       "        el.textContent = \"BokehJS \" + Bokeh.version + \" successfully loaded.\";\n",
       "      } else if (Date.now() < window._bokeh_timeout) {\n",
       "        setTimeout(display_loaded, 100)\n",
       "      }\n",
       "    }\n",
       "  \n",
       "    function run_callbacks() {\n",
       "      try {\n",
       "        window._bokeh_onload_callbacks.forEach(function(callback) { callback() });\n",
       "      }\n",
       "      finally {\n",
       "        delete window._bokeh_onload_callbacks\n",
       "      }\n",
       "      console.info(\"Bokeh: all callbacks have finished\");\n",
       "    }\n",
       "  \n",
       "    function load_libs(js_urls, callback) {\n",
       "      window._bokeh_onload_callbacks.push(callback);\n",
       "      if (window._bokeh_is_loading > 0) {\n",
       "        console.log(\"Bokeh: BokehJS is being loaded, scheduling callback at\", now());\n",
       "        return null;\n",
       "      }\n",
       "      if (js_urls == null || js_urls.length === 0) {\n",
       "        run_callbacks();\n",
       "        return null;\n",
       "      }\n",
       "      console.log(\"Bokeh: BokehJS not loaded, scheduling load and callback at\", now());\n",
       "      window._bokeh_is_loading = js_urls.length;\n",
       "      for (var i = 0; i < js_urls.length; i++) {\n",
       "        var url = js_urls[i];\n",
       "        var s = document.createElement('script');\n",
       "        s.src = url;\n",
       "        s.async = false;\n",
       "        s.onreadystatechange = s.onload = function() {\n",
       "          window._bokeh_is_loading--;\n",
       "          if (window._bokeh_is_loading === 0) {\n",
       "            console.log(\"Bokeh: all BokehJS libraries loaded\");\n",
       "            run_callbacks()\n",
       "          }\n",
       "        };\n",
       "        s.onerror = function() {\n",
       "          console.warn(\"failed to load library \" + url);\n",
       "        };\n",
       "        console.log(\"Bokeh: injecting script tag for BokehJS library: \", url);\n",
       "        document.getElementsByTagName(\"head\")[0].appendChild(s);\n",
       "      }\n",
       "    };var element = document.getElementById(\"20906479-b0dc-4f8b-a3af-272e8514abd8\");\n",
       "    if (element == null) {\n",
       "      console.log(\"Bokeh: ERROR: autoload.js configured with elementid '20906479-b0dc-4f8b-a3af-272e8514abd8' but no matching script tag was found. \")\n",
       "      return false;\n",
       "    }\n",
       "  \n",
       "    var js_urls = [];\n",
       "  \n",
       "    var inline_js = [\n",
       "      function(Bokeh) {\n",
       "        (function() {\n",
       "          var fn = function() {\n",
       "            var docs_json = {\"967edc5e-e288-43d0-9eaf-a749155525cb\":{\"roots\":{\"references\":[{\"attributes\":{\"data_source\":{\"id\":\"a0b14151-5453-4736-897e-93c4df9582dc\",\"type\":\"ColumnDataSource\"},\"glyph\":{\"id\":\"45d03545-bfa0-4bfe-b490-8baf316773dc\",\"type\":\"Line\"},\"hover_glyph\":null,\"muted_glyph\":null,\"nonselection_glyph\":{\"id\":\"bda48125-c49c-4787-bd23-d8df7f93ca9b\",\"type\":\"Line\"},\"selection_glyph\":null},\"id\":\"d8e2cefa-9cd1-42b4-96f2-09f7381976e7\",\"type\":\"GlyphRenderer\"},{\"attributes\":{\"plot\":{\"id\":\"63feae53-c29b-4ced-a4fe-06bcb94a60b9\",\"subtype\":\"Figure\",\"type\":\"Plot\"}},\"id\":\"c2fd2478-5910-4128-acff-0929914a94d9\",\"type\":\"SaveTool\"},{\"attributes\":{},\"id\":\"7f933c34-89bb-4e67-ba65-1918b074258a\",\"type\":\"LinearScale\"},{\"attributes\":{\"line_alpha\":{\"value\":0.1},\"line_color\":{\"value\":\"#1f77b4\"},\"line_dash\":[6],\"line_width\":{\"value\":2},\"x\":{\"field\":\"x\"},\"y\":{\"field\":\"y\"}},\"id\":\"72e528a7-b282-4561-8f0f-ac3d595f4535\",\"type\":\"Line\"},{\"attributes\":{\"line_alpha\":{\"value\":0.1},\"line_color\":{\"value\":\"#1f77b4\"},\"line_dash\":[6],\"line_width\":{\"value\":2},\"x\":{\"field\":\"x\"},\"y\":{\"field\":\"y\"}},\"id\":\"043877f1-79cf-41e7-81b6-ead15b0cf915\",\"type\":\"Line\"},{\"attributes\":{\"fill_alpha\":{\"value\":0.1},\"fill_color\":{\"value\":\"#1f77b4\"},\"line_alpha\":{\"value\":0.1},\"line_color\":{\"value\":\"#1f77b4\"},\"top\":{\"field\":\"pct\"},\"width\":{\"value\":0.6},\"x\":{\"field\":\"index\"}},\"id\":\"0deae1c0-a2d9-4311-8b9e-038ba0b4e9dc\",\"type\":\"VBar\"},{\"attributes\":{\"data_source\":{\"id\":\"330ef6fa-312a-4405-bb91-3bd42dfcf3db\",\"type\":\"ColumnDataSource\"},\"glyph\":{\"id\":\"e6d07dbf-8f6f-45c1-a93b-8af24e7c29ad\",\"type\":\"HBar\"},\"hover_glyph\":null,\"muted_glyph\":null,\"nonselection_glyph\":{\"id\":\"6fa3ef07-2d9a-48d2-9a22-b7a13a6671d6\",\"type\":\"HBar\"},\"selection_glyph\":null},\"id\":\"5a4ad2b9-dcfc-435f-b2c3-28d9ce538f75\",\"type\":\"GlyphRenderer\"},{\"attributes\":{\"active_drag\":\"auto\",\"active_inspect\":\"auto\",\"active_scroll\":\"auto\",\"active_tap\":\"auto\",\"tools\":[{\"id\":\"4e84c10f-5af6-408e-a37d-d973b7dce2f3\",\"type\":\"PanTool\"},{\"id\":\"fabc07de-09ca-4a25-8d15-1cadf57d2804\",\"type\":\"WheelZoomTool\"},{\"id\":\"1f016d74-2f7c-459f-8457-4378ac0e3d35\",\"type\":\"BoxZoomTool\"},{\"id\":\"29236513-f05f-452f-8daa-a6331de9b610\",\"type\":\"SaveTool\"},{\"id\":\"d8136ba5-1d05-4d74-b1b6-88c47d886588\",\"type\":\"ResetTool\"},{\"id\":\"b7b353ad-44cc-407c-b09f-2f66f33cceba\",\"type\":\"HelpTool\"}]},\"id\":\"884f7eae-68ce-4962-a06e-dc3363bcf0c3\",\"type\":\"Toolbar\"},{\"attributes\":{\"formatter\":{\"id\":\"ac73c016-993b-4b89-9a6b-99b3b3a72990\",\"type\":\"BasicTickFormatter\"},\"plot\":{\"id\":\"ef83d5c7-cacf-43e0-88c7-96cab6fe0604\",\"subtype\":\"Figure\",\"type\":\"Plot\"},\"ticker\":{\"id\":\"72b96f66-5897-498e-a457-a2c2ed5ed91f\",\"type\":\"BasicTicker\"}},\"id\":\"6c9352cc-5399-49ba-8bf4-50c23e7e2753\",\"type\":\"LinearAxis\"},{\"attributes\":{\"callback\":null,\"end\":2},\"id\":\"c3bc99ee-70a1-425f-9759-a2b1eee733ae\",\"type\":\"Range1d\"},{\"attributes\":{\"dimension\":1,\"plot\":{\"id\":\"ef83d5c7-cacf-43e0-88c7-96cab6fe0604\",\"subtype\":\"Figure\",\"type\":\"Plot\"},\"ticker\":{\"id\":\"42d7ff57-aaf7-4568-b480-be5804089855\",\"type\":\"BasicTicker\"}},\"id\":\"91b71956-f202-4492-9db6-09df2c64330a\",\"type\":\"Grid\"},{\"attributes\":{\"data_source\":{\"id\":\"5e5eeba2-f952-4148-99be-781baa4a5fc8\",\"type\":\"ColumnDataSource\"},\"glyph\":{\"id\":\"c491a9e6-ab78-44a8-bf77-e7983e3445db\",\"type\":\"Line\"},\"hover_glyph\":null,\"muted_glyph\":null,\"nonselection_glyph\":{\"id\":\"72e528a7-b282-4561-8f0f-ac3d595f4535\",\"type\":\"Line\"},\"selection_glyph\":null},\"id\":\"9a416521-5cae-4fd1-9696-f4d3999051c6\",\"type\":\"GlyphRenderer\"},{\"attributes\":{\"data_source\":{\"id\":\"8b76059d-cc96-4ef5-a672-3f69f3090d32\",\"type\":\"ColumnDataSource\"},\"glyph\":{\"id\":\"cba2a683-5c21-406e-9c45-3a14e0a50023\",\"type\":\"HBar\"},\"hover_glyph\":null,\"muted_glyph\":null,\"nonselection_glyph\":{\"id\":\"4f08584a-57e0-4a8e-a9cf-ab147c2ed00d\",\"type\":\"HBar\"},\"selection_glyph\":null},\"id\":\"2e8303cb-9c7a-45fd-a8aa-2f4ddc4025bd\",\"type\":\"GlyphRenderer\"},{\"attributes\":{\"callback\":null,\"data\":{}},\"id\":\"7431805d-054e-4b96-b7eb-b98996f04220\",\"type\":\"ColumnDataSource\"},{\"attributes\":{\"data_source\":{\"id\":\"98be1184-daf6-4104-b395-0e73478899e5\",\"type\":\"ColumnDataSource\"},\"glyph\":{\"id\":\"06772c23-3859-48cb-a010-3cd9bcfe2a61\",\"type\":\"HBar\"},\"hover_glyph\":null,\"muted_glyph\":null,\"nonselection_glyph\":{\"id\":\"c3e562dd-fed6-4429-9a51-da1551e1bb06\",\"type\":\"HBar\"},\"selection_glyph\":null},\"id\":\"5c1beabe-5a95-4a24-bc96-c9c7f4073b7a\",\"type\":\"GlyphRenderer\"},{\"attributes\":{\"line_color\":{\"value\":\"#AAB2A5\"},\"line_dash\":[6],\"line_width\":{\"value\":2},\"x\":{\"field\":\"x\"},\"y\":{\"field\":\"y\"}},\"id\":\"d93693c1-213f-4ad1-a545-da6a3e83e5b4\",\"type\":\"Line\"},{\"attributes\":{\"fill_color\":{\"field\":\"colors\"},\"line_color\":{\"field\":\"colors\"},\"top\":{\"field\":\"pct\"},\"width\":{\"value\":0.6},\"x\":{\"field\":\"index\"}},\"id\":\"592ba0de-90c6-4235-9811-c6a953dff6d0\",\"type\":\"VBar\"},{\"attributes\":{},\"id\":\"e36d88b1-044a-4f15-9c00-4acef3063043\",\"type\":\"BasicTickFormatter\"},{\"attributes\":{},\"id\":\"3d16d184-2e75-4947-aadd-dc0b8024b1cd\",\"type\":\"LinearScale\"},{\"attributes\":{\"plot\":null,\"text\":\"\"},\"id\":\"63afd93a-3aeb-4acb-a239-0581a541ac4d\",\"type\":\"Title\"},{\"attributes\":{},\"id\":\"1d28a541-25a1-4f22-80cc-559b3049906a\",\"type\":\"BasicTicker\"},{\"attributes\":{\"data_source\":{\"id\":\"577b25fd-5bed-4921-bc6f-7a6b5635f0e7\",\"type\":\"ColumnDataSource\"},\"glyph\":{\"id\":\"ef3c056b-4ed9-4f46-9108-3e20d00c35da\",\"type\":\"HBar\"},\"hover_glyph\":null,\"muted_glyph\":null,\"nonselection_glyph\":{\"id\":\"ae75d9bc-8341-4960-a508-c848b65fe37d\",\"type\":\"HBar\"},\"selection_glyph\":null},\"id\":\"89644750-3c98-46e8-89a7-7603f2d70c34\",\"type\":\"GlyphRenderer\"},{\"attributes\":{\"callback\":null,\"column_names\":[\"pct\",\"index\",\"thresholds\",\"colors\"],\"data\":{\"colors\":[\"#459E0F\",\"#E4E02C\",\"#E43216\"],\"index\":[0,1,2],\"pct\":{\"__ndarray__\":\"4vVRGwkD4T9SGwkDAavTP9bxpYzZncQ/\",\"dtype\":\"float64\",\"shape\":[3]},\"thresholds\":[\"green\",\"yellow\",\"red\"]}},\"id\":\"dedd7390-8d4e-4db3-8308-d91a86ee51ae\",\"type\":\"ColumnDataSource\"},{\"attributes\":{\"above\":[{\"id\":\"a1900188-815f-470b-a6e3-80dbce2e384b\",\"type\":\"Title\"}],\"below\":[{\"id\":\"aeeef94b-114f-4585-8fae-4024c5eafbbd\",\"type\":\"LinearAxis\"}],\"left\":[{\"id\":\"f517933b-f517-4c4d-8258-1f229e0cd51e\",\"type\":\"LinearAxis\"}],\"plot_height\":300,\"plot_width\":400,\"renderers\":[{\"id\":\"aeeef94b-114f-4585-8fae-4024c5eafbbd\",\"type\":\"LinearAxis\"},{\"id\":\"8ccea5ab-c0bc-488a-8ea1-e427747eca1c\",\"type\":\"Grid\"},{\"id\":\"f517933b-f517-4c4d-8258-1f229e0cd51e\",\"type\":\"LinearAxis\"},{\"id\":\"4d44b44a-0702-47cd-8920-92fdeb2810a9\",\"type\":\"Grid\"},{\"id\":\"a1900188-815f-470b-a6e3-80dbce2e384b\",\"type\":\"Title\"},{\"id\":\"b7103f5a-526f-430b-b61a-f56a2aef3c2d\",\"type\":\"GlyphRenderer\"}],\"title\":{\"id\":\"765254ab-ecb3-4f94-b15a-ed95785ec733\",\"type\":\"Title\"},\"tool_events\":{\"id\":\"409c9b9c-a4fd-44c3-a4fb-f55141738efd\",\"type\":\"ToolEvents\"},\"toolbar\":{\"id\":\"250d0f78-3370-4273-b54c-ee161c4e8c75\",\"type\":\"Toolbar\"},\"x_range\":{\"id\":\"8f295104-6629-4a2a-8454-3983c5476510\",\"type\":\"DataRange1d\"},\"x_scale\":{\"id\":\"1081cecb-1136-4a8c-b882-d636dd322d78\",\"type\":\"LinearScale\"},\"y_range\":{\"id\":\"e836fe80-ce87-4e9c-aee3-bede4f023e31\",\"type\":\"DataRange1d\"},\"y_scale\":{\"id\":\"3d16d184-2e75-4947-aadd-dc0b8024b1cd\",\"type\":\"LinearScale\"}},\"id\":\"bb725057-cc2e-4017-8d98-c2512ee1932b\",\"subtype\":\"Figure\",\"type\":\"Plot\"},{\"attributes\":{\"callback\":null,\"end\":2},\"id\":\"ecec120b-fc67-4b1f-a703-6230ff4f2a9f\",\"type\":\"Range1d\"},{\"attributes\":{\"line_alpha\":{\"value\":0.1},\"line_color\":{\"value\":\"#1f77b4\"},\"line_dash\":[6],\"line_width\":{\"value\":2},\"x\":{\"field\":\"x\"},\"y\":{\"field\":\"y\"}},\"id\":\"31c5e801-0806-492e-ba82-cb2748c31a65\",\"type\":\"Line\"},{\"attributes\":{\"line_alpha\":{\"value\":0.1},\"line_color\":{\"value\":\"#1f77b4\"},\"line_dash\":[6],\"line_width\":{\"value\":2},\"x\":{\"field\":\"x\"},\"y\":{\"field\":\"y\"}},\"id\":\"ae7bf6f8-da10-46b6-a0f6-e43201f04a9f\",\"type\":\"Line\"},{\"attributes\":{\"formatter\":{\"id\":\"60cb6637-f86c-460d-b0fc-2e6251891616\",\"type\":\"BasicTickFormatter\"},\"plot\":{\"id\":\"63feae53-c29b-4ced-a4fe-06bcb94a60b9\",\"subtype\":\"Figure\",\"type\":\"Plot\"},\"ticker\":{\"id\":\"1d28a541-25a1-4f22-80cc-559b3049906a\",\"type\":\"BasicTicker\"}},\"id\":\"d9a7166e-d203-4682-9d8c-7df0795c8c31\",\"type\":\"LinearAxis\"},{\"attributes\":{\"callback\":null,\"column_names\":[\"y\",\"x\"],\"data\":{\"x\":[0.554240631163708,0.554240631163708],\"y\":[0.5,1.5]}},\"id\":\"4218002e-bf15-4f8a-a5aa-1494d48eacf4\",\"type\":\"ColumnDataSource\"},{\"attributes\":{},\"id\":\"a8ffd936-9eee-41cc-8486-e7832be40e33\",\"type\":\"LinearScale\"},{\"attributes\":{\"data_source\":{\"id\":\"18716236-63b8-4cda-bc09-7c23971b2e52\",\"type\":\"ColumnDataSource\"},\"glyph\":{\"id\":\"70cf6fd4-1845-49df-aa47-18adb039760b\",\"type\":\"HBar\"},\"hover_glyph\":null,\"muted_glyph\":null,\"nonselection_glyph\":{\"id\":\"bab133e7-72d1-4b14-8aed-2a7b0c9fe299\",\"type\":\"HBar\"},\"selection_glyph\":null},\"id\":\"ec3e9470-1e07-42e6-ae62-caec73d70c3a\",\"type\":\"GlyphRenderer\"},{\"attributes\":{\"children\":[{\"id\":\"8a53c74f-3171-48ba-ae06-fe33c5de6ce9\",\"type\":\"Row\"},{\"id\":\"d31e9e4e-fb3d-405b-b3c6-1db081d6567a\",\"type\":\"Row\"}]},\"id\":\"6b30b693-e900-4200-be39-9e53daf931be\",\"type\":\"Column\"},{\"attributes\":{\"callback\":null,\"data\":{}},\"id\":\"5aedf2dd-e34f-4a69-9c7c-6455eb4ffd7f\",\"type\":\"ColumnDataSource\"},{\"attributes\":{\"active_drag\":\"auto\",\"active_inspect\":\"auto\",\"active_scroll\":\"auto\",\"active_tap\":\"auto\",\"tools\":[{\"id\":\"e9b4570d-9ac1-4650-b261-50f0fc4a2c92\",\"type\":\"PanTool\"},{\"id\":\"092e9ecc-61d1-4f68-a738-ef2381bf8ecc\",\"type\":\"WheelZoomTool\"},{\"id\":\"f6f157c3-e03f-4e17-8a0e-0bbf61c4ad2c\",\"type\":\"BoxZoomTool\"},{\"id\":\"c2fd2478-5910-4128-acff-0929914a94d9\",\"type\":\"SaveTool\"},{\"id\":\"1d47cd3d-016e-49e9-99cb-eb16d5aa4670\",\"type\":\"ResetTool\"},{\"id\":\"c7631bbb-3360-41b6-a1da-194cc1230a58\",\"type\":\"HelpTool\"}]},\"id\":\"67f5e468-8aab-4604-9edc-d3b6e1c20455\",\"type\":\"Toolbar\"},{\"attributes\":{\"data_source\":{\"id\":\"bbc57a8c-282c-41ae-9c3c-a2b03643a236\",\"type\":\"ColumnDataSource\"},\"glyph\":{\"id\":\"876befb7-a07a-43fb-b1a1-1cbbfdcfb965\",\"type\":\"Line\"},\"hover_glyph\":null,\"muted_glyph\":null,\"nonselection_glyph\":{\"id\":\"b8540b0a-1bb2-49f3-aad1-8ede8f2c5a17\",\"type\":\"Line\"},\"selection_glyph\":null},\"id\":\"e10436c5-8bea-46e7-918f-90be528acdc2\",\"type\":\"GlyphRenderer\"},{\"attributes\":{\"fill_color\":{\"field\":\"colors\"},\"line_color\":{\"field\":\"colors\"},\"top\":{\"field\":\"pct\"},\"width\":{\"value\":0.6},\"x\":{\"field\":\"index\"}},\"id\":\"94d521fc-2fdd-4c0c-aec7-377f54a4729c\",\"type\":\"VBar\"},{\"attributes\":{\"data_source\":{\"id\":\"7431805d-054e-4b96-b7eb-b98996f04220\",\"type\":\"ColumnDataSource\"},\"glyph\":{\"id\":\"c900d7b8-b8a5-48a5-8a05-f9c621a3f900\",\"type\":\"HBar\"},\"hover_glyph\":null,\"muted_glyph\":null,\"nonselection_glyph\":{\"id\":\"cee81aed-0e80-4b86-be55-add7ad411fef\",\"type\":\"HBar\"},\"selection_glyph\":null},\"id\":\"558d95d9-e857-4214-a4df-b8a4c58b395e\",\"type\":\"GlyphRenderer\"},{\"attributes\":{\"callback\":null,\"data\":{}},\"id\":\"1ea12736-846a-4aeb-bb98-4b9acb9c315d\",\"type\":\"ColumnDataSource\"},{\"attributes\":{\"fill_alpha\":{\"value\":0.1},\"fill_color\":{\"value\":\"#1f77b4\"},\"height\":{\"value\":0.3},\"left\":{\"value\":-0.41007905138339923},\"line_alpha\":{\"value\":0.1},\"line_color\":{\"value\":\"#1f77b4\"},\"right\":{\"value\":-0.2766798418972332},\"y\":{\"value\":1}},\"id\":\"4f08584a-57e0-4a8e-a9cf-ab147c2ed00d\",\"type\":\"HBar\"},{\"attributes\":{},\"id\":\"72b96f66-5897-498e-a457-a2c2ed5ed91f\",\"type\":\"BasicTicker\"},{\"attributes\":{\"callback\":null,\"plot\":{\"id\":\"bb725057-cc2e-4017-8d98-c2512ee1932b\",\"subtype\":\"Figure\",\"type\":\"Plot\"},\"tooltips\":[[\"pct\",\"@pct{(0.00%)}\"]]},\"id\":\"b393676d-d3d9-48c9-9c2f-be74f6eec856\",\"type\":\"HoverTool\"},{\"attributes\":{\"callback\":null},\"id\":\"e836fe80-ce87-4e9c-aee3-bede4f023e31\",\"type\":\"DataRange1d\"},{\"attributes\":{\"plot\":{\"id\":\"63feae53-c29b-4ced-a4fe-06bcb94a60b9\",\"subtype\":\"Figure\",\"type\":\"Plot\"}},\"id\":\"e9b4570d-9ac1-4650-b261-50f0fc4a2c92\",\"type\":\"PanTool\"},{\"attributes\":{\"callback\":null,\"column_names\":[\"y\",\"x\"],\"data\":{\"x\":[0.39349112426035504,0.39349112426035504],\"y\":[0.5,1.5]}},\"id\":\"bbc57a8c-282c-41ae-9c3c-a2b03643a236\",\"type\":\"ColumnDataSource\"},{\"attributes\":{\"plot\":null,\"text\":\"\"},\"id\":\"a21e843d-40af-4b77-b981-4ded92fee7c0\",\"type\":\"Title\"},{\"attributes\":{\"callback\":null,\"column_names\":[\"y\",\"x\"],\"data\":{\"x\":[-0.32741617357001973,-0.32741617357001973],\"y\":[0.5,1.5]}},\"id\":\"c70cee33-cd36-43e6-9982-cc85d50eaffb\",\"type\":\"ColumnDataSource\"},{\"attributes\":{\"data_source\":{\"id\":\"939311a6-94c1-4d83-8f0c-5c7984c73d4b\",\"type\":\"ColumnDataSource\"},\"glyph\":{\"id\":\"d93693c1-213f-4ad1-a545-da6a3e83e5b4\",\"type\":\"Line\"},\"hover_glyph\":null,\"muted_glyph\":null,\"nonselection_glyph\":{\"id\":\"b37b4c1d-5887-4048-9e20-26fd2634b6de\",\"type\":\"Line\"},\"selection_glyph\":null},\"id\":\"f7a2048c-3687-422b-a623-2f8cad2c50fb\",\"type\":\"GlyphRenderer\"},{\"attributes\":{\"line_color\":{\"value\":\"#AAB2A5\"},\"line_dash\":[6],\"line_width\":{\"value\":2},\"x\":{\"field\":\"x\"},\"y\":{\"field\":\"y\"}},\"id\":\"ac1fd029-d44e-4a1a-80fd-b00729534410\",\"type\":\"Line\"},{\"attributes\":{\"fill_alpha\":{\"value\":0.1},\"fill_color\":{\"value\":\"#1f77b4\"},\"height\":{\"value\":0.3},\"left\":{\"value\":0.2549407114624506},\"line_alpha\":{\"value\":0.1},\"line_color\":{\"value\":\"#1f77b4\"},\"right\":{\"value\":0.4288537549407115},\"y\":{\"value\":1}},\"id\":\"6fa3ef07-2d9a-48d2-9a22-b7a13a6671d6\",\"type\":\"HBar\"},{\"attributes\":{\"callback\":null,\"data\":{}},\"id\":\"330ef6fa-312a-4405-bb91-3bd42dfcf3db\",\"type\":\"ColumnDataSource\"},{\"attributes\":{\"callback\":null,\"data\":{}},\"id\":\"577b25fd-5bed-4921-bc6f-7a6b5635f0e7\",\"type\":\"ColumnDataSource\"},{\"attributes\":{\"data_source\":{\"id\":\"ca80b153-c1e2-4c15-af7d-fcee5e59b102\",\"type\":\"ColumnDataSource\"},\"glyph\":{\"id\":\"9b233617-4010-4adc-8f65-2aea6603f457\",\"type\":\"HBar\"},\"hover_glyph\":null,\"muted_glyph\":null,\"nonselection_glyph\":{\"id\":\"e574354f-65fb-4e03-ad56-e09df74c7c69\",\"type\":\"HBar\"},\"selection_glyph\":null},\"id\":\"b9e31804-57bb-4996-b307-ea537c132ead\",\"type\":\"GlyphRenderer\"},{\"attributes\":{\"fill_color\":{\"value\":\"#E43216\"},\"height\":{\"value\":0.3},\"left\":{\"value\":-0.3915187376725838},\"line_color\":{\"value\":\"#E43216\"},\"right\":{\"value\":-0.3895463510848126},\"y\":{\"value\":1}},\"id\":\"714eceea-2b0b-4389-90e8-f9ba44499397\",\"type\":\"HBar\"},{\"attributes\":{\"fill_color\":{\"value\":\"#459E0F\"},\"height\":{\"value\":0.3},\"left\":{\"value\":-0.2766798418972332},\"line_color\":{\"value\":\"#459E0F\"},\"right\":{\"value\":0},\"y\":{\"value\":1}},\"id\":\"9b233617-4010-4adc-8f65-2aea6603f457\",\"type\":\"HBar\"},{\"attributes\":{\"data_source\":{\"id\":\"e66b5882-46bb-4a36-87f9-12082a3d76e1\",\"type\":\"ColumnDataSource\"},\"glyph\":{\"id\":\"f8854b8c-d1e9-4a77-a9d5-4c2cd3d13b99\",\"type\":\"Line\"},\"hover_glyph\":null,\"muted_glyph\":null,\"nonselection_glyph\":{\"id\":\"ec15f622-8807-41fd-8f03-1ca61d4d8d84\",\"type\":\"Line\"},\"selection_glyph\":null},\"id\":\"aa6bdd1e-bcff-4b9a-a1e0-1ecba7236290\",\"type\":\"GlyphRenderer\"},{\"attributes\":{},\"id\":\"409c9b9c-a4fd-44c3-a4fb-f55141738efd\",\"type\":\"ToolEvents\"},{\"attributes\":{\"plot\":null,\"text\":\"\"},\"id\":\"765254ab-ecb3-4f94-b15a-ed95785ec733\",\"type\":\"Title\"},{\"attributes\":{\"plot\":{\"id\":\"adb45a2c-023e-4c2a-a81d-36d602939abf\",\"subtype\":\"Figure\",\"type\":\"Plot\"}},\"id\":\"4e84c10f-5af6-408e-a37d-d973b7dce2f3\",\"type\":\"PanTool\"},{\"attributes\":{\"line_color\":{\"value\":\"#AAB2A5\"},\"line_dash\":[6],\"line_width\":{\"value\":2},\"x\":{\"field\":\"x\"},\"y\":{\"field\":\"y\"}},\"id\":\"c754af66-2140-4e54-9ac8-9e4a062ebfa1\",\"type\":\"Line\"},{\"attributes\":{\"plot\":{\"id\":\"ef83d5c7-cacf-43e0-88c7-96cab6fe0604\",\"subtype\":\"Figure\",\"type\":\"Plot\"},\"ticker\":{\"id\":\"72b96f66-5897-498e-a457-a2c2ed5ed91f\",\"type\":\"BasicTicker\"}},\"id\":\"384e075a-1c40-4c55-9f2a-3944ee08b09b\",\"type\":\"Grid\"},{\"attributes\":{\"data_source\":{\"id\":\"4218002e-bf15-4f8a-a5aa-1494d48eacf4\",\"type\":\"ColumnDataSource\"},\"glyph\":{\"id\":\"9a5717c3-ae90-42bd-a53a-3e332572c0e0\",\"type\":\"Line\"},\"hover_glyph\":null,\"muted_glyph\":null,\"nonselection_glyph\":{\"id\":\"eb863bc9-7832-41c2-be82-2875d92ac352\",\"type\":\"Line\"},\"selection_glyph\":null},\"id\":\"375e01e9-a2c8-447b-8779-dfcec8fc038f\",\"type\":\"GlyphRenderer\"},{\"attributes\":{\"dimension\":1,\"grid_line_color\":{\"value\":null},\"plot\":{\"id\":\"63feae53-c29b-4ced-a4fe-06bcb94a60b9\",\"subtype\":\"Figure\",\"type\":\"Plot\"},\"ticker\":{\"id\":\"4c5a474a-9e66-443a-94c9-bbaff6f274f9\",\"type\":\"BasicTicker\"}},\"id\":\"d2ca0b57-f24e-4c33-8f7e-71c0d43281eb\",\"type\":\"Grid\"},{\"attributes\":{\"line_color\":{\"value\":\"#AAB2A5\"},\"line_dash\":[6],\"line_width\":{\"value\":2},\"x\":{\"field\":\"x\"},\"y\":{\"field\":\"y\"}},\"id\":\"9a5717c3-ae90-42bd-a53a-3e332572c0e0\",\"type\":\"Line\"},{\"attributes\":{\"fill_alpha\":{\"value\":0.1},\"fill_color\":{\"value\":\"#1f77b4\"},\"height\":{\"value\":0.3},\"left\":{\"value\":-0.43280632411067194},\"line_alpha\":{\"value\":0.1},\"line_color\":{\"value\":\"#1f77b4\"},\"right\":{\"value\":-0.41007905138339923},\"y\":{\"value\":1}},\"id\":\"0470832f-4390-490d-a4ef-49c35facf285\",\"type\":\"HBar\"},{\"attributes\":{},\"id\":\"6c30f4ce-fe69-49f2-9a9c-4f95205df7d8\",\"type\":\"ToolEvents\"},{\"attributes\":{\"callback\":null,\"column_names\":[\"y\",\"x\"],\"data\":{\"x\":[0,0],\"y\":[0.5,1.5]}},\"id\":\"5e5eeba2-f952-4148-99be-781baa4a5fc8\",\"type\":\"ColumnDataSource\"},{\"attributes\":{\"fill_color\":{\"value\":\"#E4E02C\"},\"height\":{\"value\":0.3},\"left\":{\"value\":0.2549407114624506},\"line_color\":{\"value\":\"#E4E02C\"},\"right\":{\"value\":0.4288537549407115},\"y\":{\"value\":1}},\"id\":\"e6d07dbf-8f6f-45c1-a93b-8af24e7c29ad\",\"type\":\"HBar\"},{\"attributes\":{\"callback\":null,\"column_names\":[\"y\",\"x\"],\"data\":{\"x\":[0,0],\"y\":[0.5,1.5]}},\"id\":\"3c561392-68ac-4097-bcaf-f135eb095042\",\"type\":\"ColumnDataSource\"},{\"attributes\":{\"line_color\":{\"value\":\"#AAB2A5\"},\"line_dash\":[6],\"line_width\":{\"value\":2},\"x\":{\"field\":\"x\"},\"y\":{\"field\":\"y\"}},\"id\":\"c491a9e6-ab78-44a8-bf77-e7983e3445db\",\"type\":\"Line\"},{\"attributes\":{\"callback\":null,\"data\":{}},\"id\":\"8b76059d-cc96-4ef5-a672-3f69f3090d32\",\"type\":\"ColumnDataSource\"},{\"attributes\":{\"callback\":null,\"data\":{}},\"id\":\"5a760ee1-c621-4987-ad03-79e8aae89976\",\"type\":\"ColumnDataSource\"},{\"attributes\":{\"line_alpha\":{\"value\":0.1},\"line_color\":{\"value\":\"#1f77b4\"},\"line_dash\":[6],\"line_width\":{\"value\":2},\"x\":{\"field\":\"x\"},\"y\":{\"field\":\"y\"}},\"id\":\"bda48125-c49c-4787-bd23-d8df7f93ca9b\",\"type\":\"Line\"},{\"attributes\":{\"data_source\":{\"id\":\"aad57c41-93c3-45eb-8f04-e52729718e79\",\"type\":\"ColumnDataSource\"},\"glyph\":{\"id\":\"9f0cf191-7d50-4c83-bc1d-c6613dedbed4\",\"type\":\"HBar\"},\"hover_glyph\":null,\"muted_glyph\":null,\"nonselection_glyph\":{\"id\":\"41ef31c7-2b92-423e-8e7f-6a226d24df50\",\"type\":\"HBar\"},\"selection_glyph\":null},\"id\":\"a52c9dfa-f4c8-48bf-9dce-7ed535b75afc\",\"type\":\"GlyphRenderer\"},{\"attributes\":{\"data_source\":{\"id\":\"5aedf2dd-e34f-4a69-9c7c-6455eb4ffd7f\",\"type\":\"ColumnDataSource\"},\"glyph\":{\"id\":\"c0873d57-8613-40ee-8e22-f516e4064512\",\"type\":\"HBar\"},\"hover_glyph\":null,\"muted_glyph\":null,\"nonselection_glyph\":{\"id\":\"322e81da-d06a-408b-a27b-e262383a33df\",\"type\":\"HBar\"},\"selection_glyph\":null},\"id\":\"dca3652d-6084-4c2a-b158-8c4cb4ff1b34\",\"type\":\"GlyphRenderer\"},{\"attributes\":{\"formatter\":{\"id\":\"d0dec8e4-a06b-4565-9c07-68064163d83b\",\"type\":\"BasicTickFormatter\"},\"plot\":{\"id\":\"bb725057-cc2e-4017-8d98-c2512ee1932b\",\"subtype\":\"Figure\",\"type\":\"Plot\"},\"ticker\":{\"id\":\"2e7d3ca1-430c-4184-b6f9-a8f8618c57a4\",\"type\":\"BasicTicker\"}},\"id\":\"f517933b-f517-4c4d-8258-1f229e0cd51e\",\"type\":\"LinearAxis\"},{\"attributes\":{\"plot\":{\"id\":\"adb45a2c-023e-4c2a-a81d-36d602939abf\",\"subtype\":\"Figure\",\"type\":\"Plot\"}},\"id\":\"fabc07de-09ca-4a25-8d15-1cadf57d2804\",\"type\":\"WheelZoomTool\"},{\"attributes\":{},\"id\":\"b3c3b127-af65-4258-977c-08e068c9a7ca\",\"type\":\"ToolEvents\"},{\"attributes\":{\"line_alpha\":{\"value\":0.1},\"line_color\":{\"value\":\"#1f77b4\"},\"line_dash\":[6],\"line_width\":{\"value\":2},\"x\":{\"field\":\"x\"},\"y\":{\"field\":\"y\"}},\"id\":\"b8540b0a-1bb2-49f3-aad1-8ede8f2c5a17\",\"type\":\"Line\"},{\"attributes\":{\"callback\":null},\"id\":\"8f295104-6629-4a2a-8454-3983c5476510\",\"type\":\"DataRange1d\"},{\"attributes\":{\"grid_line_color\":{\"value\":null},\"plot\":{\"id\":\"63feae53-c29b-4ced-a4fe-06bcb94a60b9\",\"subtype\":\"Figure\",\"type\":\"Plot\"},\"ticker\":{\"id\":\"1d28a541-25a1-4f22-80cc-559b3049906a\",\"type\":\"BasicTicker\"}},\"id\":\"b229318e-569c-40d4-afd1-4ec8b2740ad7\",\"type\":\"Grid\"},{\"attributes\":{\"data_source\":{\"id\":\"1ea12736-846a-4aeb-bb98-4b9acb9c315d\",\"type\":\"ColumnDataSource\"},\"glyph\":{\"id\":\"714eceea-2b0b-4389-90e8-f9ba44499397\",\"type\":\"HBar\"},\"hover_glyph\":null,\"muted_glyph\":null,\"nonselection_glyph\":{\"id\":\"c19764c3-36a9-43fb-92c2-f8320d6df6fd\",\"type\":\"HBar\"},\"selection_glyph\":null},\"id\":\"33e32fdb-c074-4d82-83d4-49b14ffb8d19\",\"type\":\"GlyphRenderer\"},{\"attributes\":{\"bottom_units\":\"screen\",\"fill_alpha\":{\"value\":0.5},\"fill_color\":{\"value\":\"lightgrey\"},\"left_units\":\"screen\",\"level\":\"overlay\",\"line_alpha\":{\"value\":1.0},\"line_color\":{\"value\":\"black\"},\"line_dash\":[4,4],\"line_width\":{\"value\":2},\"plot\":null,\"render_mode\":\"css\",\"right_units\":\"screen\",\"top_units\":\"screen\"},\"id\":\"eb25763d-0a3d-44e1-9c78-1f7f61aba1c3\",\"type\":\"BoxAnnotation\"},{\"attributes\":{\"fill_alpha\":{\"value\":0.1},\"fill_color\":{\"value\":\"#1f77b4\"},\"height\":{\"value\":0.3},\"left\":{\"value\":0.39349112426035504},\"line_alpha\":{\"value\":0.1},\"line_color\":{\"value\":\"#1f77b4\"},\"right\":{\"value\":0.554240631163708},\"y\":{\"value\":1}},\"id\":\"41ef31c7-2b92-423e-8e7f-6a226d24df50\",\"type\":\"HBar\"},{\"attributes\":{\"children\":[{\"id\":\"7087494b-fcff-4c8f-8d81-234f4637aaef\",\"type\":\"Div\"}]},\"id\":\"4d8128a4-5747-48ea-8811-b6a9bc36476d\",\"type\":\"WidgetBox\"},{\"attributes\":{\"dimension\":1,\"grid_line_color\":{\"value\":null},\"plot\":{\"id\":\"adb45a2c-023e-4c2a-a81d-36d602939abf\",\"subtype\":\"Figure\",\"type\":\"Plot\"},\"ticker\":{\"id\":\"d87f8bf3-e1ba-493b-b776-7fd556845bf8\",\"type\":\"BasicTicker\"}},\"id\":\"ec3cac74-a5a6-4937-abdf-93e9c014e9ab\",\"type\":\"Grid\"},{\"attributes\":{\"grid_line_color\":{\"value\":null},\"plot\":{\"id\":\"adb45a2c-023e-4c2a-a81d-36d602939abf\",\"subtype\":\"Figure\",\"type\":\"Plot\"},\"ticker\":{\"id\":\"e405e8e8-df7d-4f65-8d3a-4824e85f030c\",\"type\":\"BasicTicker\"}},\"id\":\"620d4e5f-548b-4b81-9ba1-7fc68a943fc1\",\"type\":\"Grid\"},{\"attributes\":{\"plot\":{\"id\":\"adb45a2c-023e-4c2a-a81d-36d602939abf\",\"subtype\":\"Figure\",\"type\":\"Plot\"}},\"id\":\"d8136ba5-1d05-4d74-b1b6-88c47d886588\",\"type\":\"ResetTool\"},{\"attributes\":{\"plot\":{\"id\":\"adb45a2c-023e-4c2a-a81d-36d602939abf\",\"subtype\":\"Figure\",\"type\":\"Plot\"}},\"id\":\"b7b353ad-44cc-407c-b09f-2f66f33cceba\",\"type\":\"HelpTool\"},{\"attributes\":{\"fill_alpha\":{\"value\":0.1},\"fill_color\":{\"value\":\"#1f77b4\"},\"height\":{\"value\":0.3},\"left\":{\"value\":-0.2766798418972332},\"line_alpha\":{\"value\":0.1},\"line_color\":{\"value\":\"#1f77b4\"},\"right\":{\"value\":0},\"y\":{\"value\":1}},\"id\":\"e574354f-65fb-4e03-ad56-e09df74c7c69\",\"type\":\"HBar\"},{\"attributes\":{\"plot\":{\"id\":\"63feae53-c29b-4ced-a4fe-06bcb94a60b9\",\"subtype\":\"Figure\",\"type\":\"Plot\"}},\"id\":\"c7631bbb-3360-41b6-a1da-194cc1230a58\",\"type\":\"HelpTool\"},{\"attributes\":{\"dimension\":1,\"plot\":{\"id\":\"bb725057-cc2e-4017-8d98-c2512ee1932b\",\"subtype\":\"Figure\",\"type\":\"Plot\"},\"ticker\":{\"id\":\"2e7d3ca1-430c-4184-b6f9-a8f8618c57a4\",\"type\":\"BasicTicker\"}},\"id\":\"4d44b44a-0702-47cd-8920-92fdeb2810a9\",\"type\":\"Grid\"},{\"attributes\":{\"data_source\":{\"id\":\"d1fe9838-cbe9-41ca-a687-0d8e8c64248a\",\"type\":\"ColumnDataSource\"},\"glyph\":{\"id\":\"f311b3a8-9b03-477f-b6b1-67a21edd76ab\",\"type\":\"Line\"},\"hover_glyph\":null,\"muted_glyph\":null,\"nonselection_glyph\":{\"id\":\"ae7bf6f8-da10-46b6-a0f6-e43201f04a9f\",\"type\":\"Line\"},\"selection_glyph\":null},\"id\":\"5a9f62d3-8d8d-4621-a870-2f1c55882c79\",\"type\":\"GlyphRenderer\"},{\"attributes\":{\"plot\":null,\"text\":\"\"},\"id\":\"48f4adef-d753-4d81-b0e6-4a4abcc6de1f\",\"type\":\"Title\"},{\"attributes\":{\"fill_color\":{\"value\":\"#E43216\"},\"height\":{\"value\":0.3},\"left\":{\"value\":0.4288537549407115},\"line_color\":{\"value\":\"#E43216\"},\"right\":{\"value\":0.5671936758893281},\"y\":{\"value\":1}},\"id\":\"c0873d57-8613-40ee-8e22-f516e4064512\",\"type\":\"HBar\"},{\"attributes\":{\"data_source\":{\"id\":\"33615329-30c1-4173-9812-b33c263e4292\",\"type\":\"ColumnDataSource\"},\"glyph\":{\"id\":\"4d583439-4bee-47c6-b58b-a6521e512d0c\",\"type\":\"Line\"},\"hover_glyph\":null,\"muted_glyph\":null,\"nonselection_glyph\":{\"id\":\"043877f1-79cf-41e7-81b6-ead15b0cf915\",\"type\":\"Line\"},\"selection_glyph\":null},\"id\":\"09304c14-757b-450f-a4d8-74c318778dc8\",\"type\":\"GlyphRenderer\"},{\"attributes\":{\"active_drag\":\"auto\",\"active_inspect\":\"auto\",\"active_scroll\":\"auto\",\"active_tap\":\"auto\",\"tools\":[{\"id\":\"f49bb8c3-1136-4c56-b584-ff77aa1f5a35\",\"type\":\"HoverTool\"}]},\"id\":\"bcd79e5f-20ff-45d1-9de7-bf34722ca628\",\"type\":\"Toolbar\"},{\"attributes\":{\"formatter\":{\"id\":\"5eebf7c5-4bbd-4324-aac2-45d311eb86dc\",\"type\":\"BasicTickFormatter\"},\"plot\":{\"id\":\"63feae53-c29b-4ced-a4fe-06bcb94a60b9\",\"subtype\":\"Figure\",\"type\":\"Plot\"},\"ticker\":{\"id\":\"4c5a474a-9e66-443a-94c9-bbaff6f274f9\",\"type\":\"BasicTicker\"},\"visible\":false},\"id\":\"2e82507a-5944-4a35-b73f-502eccbde93d\",\"type\":\"LinearAxis\"},{\"attributes\":{\"align\":\"center\",\"plot\":{\"id\":\"63feae53-c29b-4ced-a4fe-06bcb94a60b9\",\"subtype\":\"Figure\",\"type\":\"Plot\"},\"text\":\"Rush/delays within time thresholds pick up\"},\"id\":\"8d6340a6-b961-4184-b6fb-a148cca139e8\",\"type\":\"Title\"},{\"attributes\":{},\"id\":\"cdb24a27-7b5a-4bf4-9c3f-010c78cbc28b\",\"type\":\"BasicTicker\"},{\"attributes\":{\"fill_color\":{\"value\":\"#E4E02C\"},\"height\":{\"value\":0.3},\"left\":{\"value\":-0.3895463510848126},\"line_color\":{\"value\":\"#E4E02C\"},\"right\":{\"value\":-0.32741617357001973},\"y\":{\"value\":1}},\"id\":\"c900d7b8-b8a5-48a5-8a05-f9c621a3f900\",\"type\":\"HBar\"},{\"attributes\":{},\"id\":\"cbbfb854-47e4-4d07-96dd-ba3aa32b2d26\",\"type\":\"LinearScale\"},{\"attributes\":{\"line_alpha\":{\"value\":0.1},\"line_color\":{\"value\":\"#1f77b4\"},\"line_dash\":[6],\"line_width\":{\"value\":2},\"x\":{\"field\":\"x\"},\"y\":{\"field\":\"y\"}},\"id\":\"ec15f622-8807-41fd-8f03-1ca61d4d8d84\",\"type\":\"Line\"},{\"attributes\":{\"line_color\":{\"value\":\"#AAB2A5\"},\"line_dash\":[6],\"line_width\":{\"value\":2},\"x\":{\"field\":\"x\"},\"y\":{\"field\":\"y\"}},\"id\":\"f8854b8c-d1e9-4a77-a9d5-4c2cd3d13b99\",\"type\":\"Line\"},{\"attributes\":{\"callback\":null,\"column_names\":[\"y\",\"x\"],\"data\":{\"x\":[-0.2766798418972332,-0.2766798418972332],\"y\":[0.5,1.5]}},\"id\":\"939311a6-94c1-4d83-8f0c-5c7984c73d4b\",\"type\":\"ColumnDataSource\"},{\"attributes\":{},\"id\":\"0bf800d9-85e7-4c9f-b4eb-3d4796443748\",\"type\":\"LinearScale\"},{\"attributes\":{},\"id\":\"4c5a474a-9e66-443a-94c9-bbaff6f274f9\",\"type\":\"BasicTicker\"},{\"attributes\":{\"children\":[{\"id\":\"4d8128a4-5747-48ea-8811-b6a9bc36476d\",\"type\":\"WidgetBox\"},{\"id\":\"6b30b693-e900-4200-be39-9e53daf931be\",\"type\":\"Column\"}]},\"id\":\"a9d32f12-4afb-4256-9625-9ecabecf7143\",\"type\":\"Column\"},{\"attributes\":{\"formatter\":{\"id\":\"e36d88b1-044a-4f15-9c00-4acef3063043\",\"type\":\"BasicTickFormatter\"},\"plot\":{\"id\":\"bb725057-cc2e-4017-8d98-c2512ee1932b\",\"subtype\":\"Figure\",\"type\":\"Plot\"},\"ticker\":{\"id\":\"cdb24a27-7b5a-4bf4-9c3f-010c78cbc28b\",\"type\":\"BasicTicker\"}},\"id\":\"aeeef94b-114f-4585-8fae-4024c5eafbbd\",\"type\":\"LinearAxis\"},{\"attributes\":{\"line_alpha\":{\"value\":0.1},\"line_color\":{\"value\":\"#1f77b4\"},\"line_dash\":[6],\"line_width\":{\"value\":2},\"x\":{\"field\":\"x\"},\"y\":{\"field\":\"y\"}},\"id\":\"eb863bc9-7832-41c2-be82-2875d92ac352\",\"type\":\"Line\"},{\"attributes\":{\"line_alpha\":{\"value\":0.1},\"line_color\":{\"value\":\"#1f77b4\"},\"line_dash\":[6],\"line_width\":{\"value\":2},\"x\":{\"field\":\"x\"},\"y\":{\"field\":\"y\"}},\"id\":\"eac24326-3710-4f69-8a8c-b6f7063d513c\",\"type\":\"Line\"},{\"attributes\":{\"formatter\":{\"id\":\"d86c2c24-3730-4da1-9064-4e402b26ab28\",\"type\":\"BasicTickFormatter\"},\"plot\":{\"id\":\"ef83d5c7-cacf-43e0-88c7-96cab6fe0604\",\"subtype\":\"Figure\",\"type\":\"Plot\"},\"ticker\":{\"id\":\"42d7ff57-aaf7-4568-b480-be5804089855\",\"type\":\"BasicTicker\"}},\"id\":\"70635080-4738-4324-8b28-1e315af53cc6\",\"type\":\"LinearAxis\"},{\"attributes\":{\"callback\":null},\"id\":\"1b157933-2f44-42b2-8476-1261994b0240\",\"type\":\"DataRange1d\"},{\"attributes\":{\"overlay\":{\"id\":\"cd886e5d-2d1b-4393-981b-411c236495df\",\"type\":\"BoxAnnotation\"},\"plot\":{\"id\":\"63feae53-c29b-4ced-a4fe-06bcb94a60b9\",\"subtype\":\"Figure\",\"type\":\"Plot\"}},\"id\":\"f6f157c3-e03f-4e17-8a0e-0bbf61c4ad2c\",\"type\":\"BoxZoomTool\"},{\"attributes\":{\"formatter\":{\"id\":\"d9a08ad4-4288-4726-bf8c-2df875c8303e\",\"type\":\"BasicTickFormatter\"},\"plot\":{\"id\":\"adb45a2c-023e-4c2a-a81d-36d602939abf\",\"subtype\":\"Figure\",\"type\":\"Plot\"},\"ticker\":{\"id\":\"d87f8bf3-e1ba-493b-b776-7fd556845bf8\",\"type\":\"BasicTicker\"},\"visible\":false},\"id\":\"264e9b15-ee37-45ea-987c-b4d63e2afb30\",\"type\":\"LinearAxis\"},{\"attributes\":{\"line_color\":{\"value\":\"#AAB2A5\"},\"line_dash\":[6],\"line_width\":{\"value\":2},\"x\":{\"field\":\"x\"},\"y\":{\"field\":\"y\"}},\"id\":\"45d03545-bfa0-4bfe-b490-8baf316773dc\",\"type\":\"Line\"},{\"attributes\":{\"data_source\":{\"id\":\"3c561392-68ac-4097-bcaf-f135eb095042\",\"type\":\"ColumnDataSource\"},\"glyph\":{\"id\":\"ac1fd029-d44e-4a1a-80fd-b00729534410\",\"type\":\"Line\"},\"hover_glyph\":null,\"muted_glyph\":null,\"nonselection_glyph\":{\"id\":\"eac24326-3710-4f69-8a8c-b6f7063d513c\",\"type\":\"Line\"},\"selection_glyph\":null},\"id\":\"9040101c-ae31-4b70-b194-005894aa2549\",\"type\":\"GlyphRenderer\"},{\"attributes\":{\"fill_color\":{\"value\":\"#459E0F\"},\"height\":{\"value\":0.3},\"line_color\":{\"value\":\"#459E0F\"},\"right\":{\"value\":0.39349112426035504},\"y\":{\"value\":1}},\"id\":\"70cf6fd4-1845-49df-aa47-18adb039760b\",\"type\":\"HBar\"},{\"attributes\":{\"callback\":null,\"column_names\":[\"y\",\"x\"],\"data\":{\"x\":[-0.3895463510848126,-0.3895463510848126],\"y\":[0.5,1.5]}},\"id\":\"d1fe9838-cbe9-41ca-a687-0d8e8c64248a\",\"type\":\"ColumnDataSource\"},{\"attributes\":{},\"id\":\"60cb6637-f86c-460d-b0fc-2e6251891616\",\"type\":\"BasicTickFormatter\"},{\"attributes\":{\"plot\":{\"id\":\"adb45a2c-023e-4c2a-a81d-36d602939abf\",\"subtype\":\"Figure\",\"type\":\"Plot\"}},\"id\":\"29236513-f05f-452f-8daa-a6331de9b610\",\"type\":\"SaveTool\"},{\"attributes\":{\"above\":[{\"id\":\"8d6340a6-b961-4184-b6fb-a148cca139e8\",\"type\":\"Title\"}],\"below\":[{\"id\":\"d9a7166e-d203-4682-9d8c-7df0795c8c31\",\"type\":\"LinearAxis\"}],\"left\":[{\"id\":\"2e82507a-5944-4a35-b73f-502eccbde93d\",\"type\":\"LinearAxis\"}],\"plot_height\":300,\"plot_width\":400,\"renderers\":[{\"id\":\"d9a7166e-d203-4682-9d8c-7df0795c8c31\",\"type\":\"LinearAxis\"},{\"id\":\"b229318e-569c-40d4-afd1-4ec8b2740ad7\",\"type\":\"Grid\"},{\"id\":\"2e82507a-5944-4a35-b73f-502eccbde93d\",\"type\":\"LinearAxis\"},{\"id\":\"d2ca0b57-f24e-4c33-8f7e-71c0d43281eb\",\"type\":\"Grid\"},{\"id\":\"cd886e5d-2d1b-4393-981b-411c236495df\",\"type\":\"BoxAnnotation\"},{\"id\":\"35bf09ae-e5dd-4e97-ba3d-ab2eebcef31c\",\"type\":\"GlyphRenderer\"},{\"id\":\"9a416521-5cae-4fd1-9696-f4d3999051c6\",\"type\":\"GlyphRenderer\"},{\"id\":\"558d95d9-e857-4214-a4df-b8a4c58b395e\",\"type\":\"GlyphRenderer\"},{\"id\":\"fb47cfcb-f6a8-4e3c-9c39-221547d51d9a\",\"type\":\"GlyphRenderer\"},{\"id\":\"33e32fdb-c074-4d82-83d4-49b14ffb8d19\",\"type\":\"GlyphRenderer\"},{\"id\":\"5a9f62d3-8d8d-4621-a870-2f1c55882c79\",\"type\":\"GlyphRenderer\"},{\"id\":\"ec3e9470-1e07-42e6-ae62-caec73d70c3a\",\"type\":\"GlyphRenderer\"},{\"id\":\"aa6bdd1e-bcff-4b9a-a1e0-1ecba7236290\",\"type\":\"GlyphRenderer\"},{\"id\":\"a52c9dfa-f4c8-48bf-9dce-7ed535b75afc\",\"type\":\"GlyphRenderer\"},{\"id\":\"e10436c5-8bea-46e7-918f-90be528acdc2\",\"type\":\"GlyphRenderer\"},{\"id\":\"89644750-3c98-46e8-89a7-7603f2d70c34\",\"type\":\"GlyphRenderer\"},{\"id\":\"375e01e9-a2c8-447b-8779-dfcec8fc038f\",\"type\":\"GlyphRenderer\"},{\"id\":\"8d6340a6-b961-4184-b6fb-a148cca139e8\",\"type\":\"Title\"}],\"title\":{\"id\":\"63afd93a-3aeb-4acb-a239-0581a541ac4d\",\"type\":\"Title\"},\"tool_events\":{\"id\":\"b3c3b127-af65-4258-977c-08e068c9a7ca\",\"type\":\"ToolEvents\"},\"toolbar\":{\"id\":\"67f5e468-8aab-4604-9edc-d3b6e1c20455\",\"type\":\"Toolbar\"},\"x_range\":{\"id\":\"045261f3-4129-4a54-943f-29eb49e0d0b7\",\"type\":\"DataRange1d\"},\"x_scale\":{\"id\":\"0bf800d9-85e7-4c9f-b4eb-3d4796443748\",\"type\":\"LinearScale\"},\"y_range\":{\"id\":\"ecec120b-fc67-4b1f-a703-6230ff4f2a9f\",\"type\":\"Range1d\"},\"y_scale\":{\"id\":\"7f933c34-89bb-4e67-ba65-1918b074258a\",\"type\":\"LinearScale\"}},\"id\":\"63feae53-c29b-4ced-a4fe-06bcb94a60b9\",\"subtype\":\"Figure\",\"type\":\"Plot\"},{\"attributes\":{\"fill_alpha\":{\"value\":0.1},\"fill_color\":{\"value\":\"#1f77b4\"},\"height\":{\"value\":0.3},\"line_alpha\":{\"value\":0.1},\"line_color\":{\"value\":\"#1f77b4\"},\"right\":{\"value\":0.2549407114624506},\"y\":{\"value\":1}},\"id\":\"c3e562dd-fed6-4429-9a51-da1551e1bb06\",\"type\":\"HBar\"},{\"attributes\":{\"align\":\"center\",\"plot\":{\"id\":\"adb45a2c-023e-4c2a-a81d-36d602939abf\",\"subtype\":\"Figure\",\"type\":\"Plot\"},\"text\":\"Rush/delays within time thresholds drop off\"},\"id\":\"13d353db-a49f-419f-bbf9-0eb020195978\",\"type\":\"Title\"},{\"attributes\":{\"data_source\":{\"id\":\"315108b9-615d-4262-b90e-b75a2a1bfde3\",\"type\":\"ColumnDataSource\"},\"glyph\":{\"id\":\"94d521fc-2fdd-4c0c-aec7-377f54a4729c\",\"type\":\"VBar\"},\"hover_glyph\":null,\"muted_glyph\":null,\"nonselection_glyph\":{\"id\":\"d91d959a-91cf-430f-beb0-766f139980e9\",\"type\":\"VBar\"},\"selection_glyph\":null},\"id\":\"b7103f5a-526f-430b-b61a-f56a2aef3c2d\",\"type\":\"GlyphRenderer\"},{\"attributes\":{\"fill_color\":{\"value\":\"#E43216\"},\"height\":{\"value\":0.3},\"left\":{\"value\":-0.43280632411067194},\"line_color\":{\"value\":\"#E43216\"},\"right\":{\"value\":-0.41007905138339923},\"y\":{\"value\":1}},\"id\":\"7e63ae26-99ea-4b36-aa04-09b96724caaa\",\"type\":\"HBar\"},{\"attributes\":{},\"id\":\"d9a08ad4-4288-4726-bf8c-2df875c8303e\",\"type\":\"BasicTickFormatter\"},{\"attributes\":{\"overlay\":{\"id\":\"eb25763d-0a3d-44e1-9c78-1f7f61aba1c3\",\"type\":\"BoxAnnotation\"},\"plot\":{\"id\":\"adb45a2c-023e-4c2a-a81d-36d602939abf\",\"subtype\":\"Figure\",\"type\":\"Plot\"}},\"id\":\"1f016d74-2f7c-459f-8457-4378ac0e3d35\",\"type\":\"BoxZoomTool\"},{\"attributes\":{},\"id\":\"e405e8e8-df7d-4f65-8d3a-4824e85f030c\",\"type\":\"BasicTicker\"},{\"attributes\":{\"callback\":null,\"column_names\":[\"y\",\"x\"],\"data\":{\"x\":[-0.41007905138339923,-0.41007905138339923],\"y\":[0.5,1.5]}},\"id\":\"83a82056-1658-4401-9d9a-49448ca348bb\",\"type\":\"ColumnDataSource\"},{\"attributes\":{\"callback\":null,\"data\":{}},\"id\":\"98be1184-daf6-4104-b395-0e73478899e5\",\"type\":\"ColumnDataSource\"},{\"attributes\":{\"children\":[{\"id\":\"adb45a2c-023e-4c2a-a81d-36d602939abf\",\"subtype\":\"Figure\",\"type\":\"Plot\"},{\"id\":\"ef83d5c7-cacf-43e0-88c7-96cab6fe0604\",\"subtype\":\"Figure\",\"type\":\"Plot\"}]},\"id\":\"d31e9e4e-fb3d-405b-b3c6-1db081d6567a\",\"type\":\"Row\"},{\"attributes\":{\"fill_alpha\":{\"value\":0.1},\"fill_color\":{\"value\":\"#1f77b4\"},\"height\":{\"value\":0.3},\"line_alpha\":{\"value\":0.1},\"line_color\":{\"value\":\"#1f77b4\"},\"right\":{\"value\":0.39349112426035504},\"y\":{\"value\":1}},\"id\":\"bab133e7-72d1-4b14-8aed-2a7b0c9fe299\",\"type\":\"HBar\"},{\"attributes\":{\"fill_alpha\":{\"value\":0.1},\"fill_color\":{\"value\":\"#1f77b4\"},\"height\":{\"value\":0.3},\"left\":{\"value\":-0.32741617357001973},\"line_alpha\":{\"value\":0.1},\"line_color\":{\"value\":\"#1f77b4\"},\"right\":{\"value\":0},\"y\":{\"value\":1}},\"id\":\"dd9afa11-514c-4295-8b1b-986bdfa5c0d7\",\"type\":\"HBar\"},{\"attributes\":{},\"id\":\"1081cecb-1136-4a8c-b882-d636dd322d78\",\"type\":\"LinearScale\"},{\"attributes\":{\"callback\":null,\"data\":{}},\"id\":\"18716236-63b8-4cda-bc09-7c23971b2e52\",\"type\":\"ColumnDataSource\"},{\"attributes\":{\"callback\":null,\"column_names\":[\"y\",\"x\"],\"data\":{\"x\":[0.2549407114624506,0.2549407114624506],\"y\":[0.5,1.5]}},\"id\":\"a0b14151-5453-4736-897e-93c4df9582dc\",\"type\":\"ColumnDataSource\"},{\"attributes\":{},\"id\":\"d0dec8e4-a06b-4565-9c07-68064163d83b\",\"type\":\"BasicTickFormatter\"},{\"attributes\":{\"callback\":null},\"id\":\"045261f3-4129-4a54-943f-29eb49e0d0b7\",\"type\":\"DataRange1d\"},{\"attributes\":{\"line_alpha\":{\"value\":0.1},\"line_color\":{\"value\":\"#1f77b4\"},\"line_dash\":[6],\"line_width\":{\"value\":2},\"x\":{\"field\":\"x\"},\"y\":{\"field\":\"y\"}},\"id\":\"5e2cbc93-36d4-4375-9137-e4f847f6e18f\",\"type\":\"Line\"},{\"attributes\":{\"children\":[{\"id\":\"63feae53-c29b-4ced-a4fe-06bcb94a60b9\",\"subtype\":\"Figure\",\"type\":\"Plot\"},{\"id\":\"bb725057-cc2e-4017-8d98-c2512ee1932b\",\"subtype\":\"Figure\",\"type\":\"Plot\"}]},\"id\":\"8a53c74f-3171-48ba-ae06-fe33c5de6ce9\",\"type\":\"Row\"},{\"attributes\":{\"align\":\"center\",\"plot\":{\"id\":\"ef83d5c7-cacf-43e0-88c7-96cab6fe0604\",\"subtype\":\"Figure\",\"type\":\"Plot\"},\"text\":\"Total percentage within thresholds drop off\"},\"id\":\"f66499fc-e537-4f2a-adff-1b2f6bee2a5d\",\"type\":\"Title\"},{\"attributes\":{\"active_drag\":\"auto\",\"active_inspect\":\"auto\",\"active_scroll\":\"auto\",\"active_tap\":\"auto\",\"tools\":[{\"id\":\"b393676d-d3d9-48c9-9c2f-be74f6eec856\",\"type\":\"HoverTool\"}]},\"id\":\"250d0f78-3370-4273-b54c-ee161c4e8c75\",\"type\":\"Toolbar\"},{\"attributes\":{\"align\":\"center\",\"plot\":{\"id\":\"bb725057-cc2e-4017-8d98-c2512ee1932b\",\"subtype\":\"Figure\",\"type\":\"Plot\"},\"text\":\"Total percentage within thresholds pick up\"},\"id\":\"a1900188-815f-470b-a6e3-80dbce2e384b\",\"type\":\"Title\"},{\"attributes\":{\"plot\":{\"id\":\"bb725057-cc2e-4017-8d98-c2512ee1932b\",\"subtype\":\"Figure\",\"type\":\"Plot\"},\"ticker\":{\"id\":\"cdb24a27-7b5a-4bf4-9c3f-010c78cbc28b\",\"type\":\"BasicTicker\"}},\"id\":\"8ccea5ab-c0bc-488a-8ea1-e427747eca1c\",\"type\":\"Grid\"},{\"attributes\":{\"fill_alpha\":{\"value\":0.1},\"fill_color\":{\"value\":\"#1f77b4\"},\"height\":{\"value\":0.3},\"left\":{\"value\":0.4288537549407115},\"line_alpha\":{\"value\":0.1},\"line_color\":{\"value\":\"#1f77b4\"},\"right\":{\"value\":0.5671936758893281},\"y\":{\"value\":1}},\"id\":\"322e81da-d06a-408b-a27b-e262383a33df\",\"type\":\"HBar\"},{\"attributes\":{\"callback\":null,\"data\":{}},\"id\":\"ca80b153-c1e2-4c15-af7d-fcee5e59b102\",\"type\":\"ColumnDataSource\"},{\"attributes\":{\"data_source\":{\"id\":\"3e203b23-b511-4cb0-a7cd-39dcc569acbb\",\"type\":\"ColumnDataSource\"},\"glyph\":{\"id\":\"bf883eee-2b0c-4a54-aa9a-e655cdfd71da\",\"type\":\"Line\"},\"hover_glyph\":null,\"muted_glyph\":null,\"nonselection_glyph\":{\"id\":\"31c5e801-0806-492e-ba82-cb2748c31a65\",\"type\":\"Line\"},\"selection_glyph\":null},\"id\":\"67cd20b7-28dd-4d9b-aae7-0377134e1b8a\",\"type\":\"GlyphRenderer\"},{\"attributes\":{\"line_color\":{\"value\":\"#AAB2A5\"},\"line_dash\":[6],\"line_width\":{\"value\":2},\"x\":{\"field\":\"x\"},\"y\":{\"field\":\"y\"}},\"id\":\"bf883eee-2b0c-4a54-aa9a-e655cdfd71da\",\"type\":\"Line\"},{\"attributes\":{\"above\":[{\"id\":\"f66499fc-e537-4f2a-adff-1b2f6bee2a5d\",\"type\":\"Title\"}],\"below\":[{\"id\":\"6c9352cc-5399-49ba-8bf4-50c23e7e2753\",\"type\":\"LinearAxis\"}],\"left\":[{\"id\":\"70635080-4738-4324-8b28-1e315af53cc6\",\"type\":\"LinearAxis\"}],\"plot_height\":300,\"plot_width\":400,\"renderers\":[{\"id\":\"6c9352cc-5399-49ba-8bf4-50c23e7e2753\",\"type\":\"LinearAxis\"},{\"id\":\"384e075a-1c40-4c55-9f2a-3944ee08b09b\",\"type\":\"Grid\"},{\"id\":\"70635080-4738-4324-8b28-1e315af53cc6\",\"type\":\"LinearAxis\"},{\"id\":\"91b71956-f202-4492-9db6-09df2c64330a\",\"type\":\"Grid\"},{\"id\":\"f66499fc-e537-4f2a-adff-1b2f6bee2a5d\",\"type\":\"Title\"},{\"id\":\"0bdf62ad-4509-475e-95a4-5c36fd9b572d\",\"type\":\"GlyphRenderer\"}],\"title\":{\"id\":\"48f4adef-d753-4d81-b0e6-4a4abcc6de1f\",\"type\":\"Title\"},\"tool_events\":{\"id\":\"81324c7b-e82e-4447-805f-efd8b9710a4c\",\"type\":\"ToolEvents\"},\"toolbar\":{\"id\":\"bcd79e5f-20ff-45d1-9de7-bf34722ca628\",\"type\":\"Toolbar\"},\"x_range\":{\"id\":\"1b157933-2f44-42b2-8476-1261994b0240\",\"type\":\"DataRange1d\"},\"x_scale\":{\"id\":\"8023e760-dd9c-40c3-9238-3fff6cc2d1d3\",\"type\":\"LinearScale\"},\"y_range\":{\"id\":\"2d82133f-f423-4248-a088-3a72548c9688\",\"type\":\"DataRange1d\"},\"y_scale\":{\"id\":\"a8ffd936-9eee-41cc-8486-e7832be40e33\",\"type\":\"LinearScale\"}},\"id\":\"ef83d5c7-cacf-43e0-88c7-96cab6fe0604\",\"subtype\":\"Figure\",\"type\":\"Plot\"},{\"attributes\":{\"callback\":null},\"id\":\"2d82133f-f423-4248-a088-3a72548c9688\",\"type\":\"DataRange1d\"},{\"attributes\":{},\"id\":\"a3690a74-c0ab-43e7-b97e-ef1e7e5c7e66\",\"type\":\"LinearScale\"},{\"attributes\":{\"data_source\":{\"id\":\"dedd7390-8d4e-4db3-8308-d91a86ee51ae\",\"type\":\"ColumnDataSource\"},\"glyph\":{\"id\":\"592ba0de-90c6-4235-9811-c6a953dff6d0\",\"type\":\"VBar\"},\"hover_glyph\":null,\"muted_glyph\":null,\"nonselection_glyph\":{\"id\":\"0deae1c0-a2d9-4311-8b9e-038ba0b4e9dc\",\"type\":\"VBar\"},\"selection_glyph\":null},\"id\":\"0bdf62ad-4509-475e-95a4-5c36fd9b572d\",\"type\":\"GlyphRenderer\"},{\"attributes\":{\"fill_color\":{\"value\":\"#459E0F\"},\"height\":{\"value\":0.3},\"line_color\":{\"value\":\"#459E0F\"},\"right\":{\"value\":0.2549407114624506},\"y\":{\"value\":1}},\"id\":\"06772c23-3859-48cb-a010-3cd9bcfe2a61\",\"type\":\"HBar\"},{\"attributes\":{\"fill_color\":{\"value\":\"#459E0F\"},\"height\":{\"value\":0.3},\"left\":{\"value\":-0.32741617357001973},\"line_color\":{\"value\":\"#459E0F\"},\"right\":{\"value\":0},\"y\":{\"value\":1}},\"id\":\"e6566166-32de-4642-965d-8e7007d57bba\",\"type\":\"HBar\"},{\"attributes\":{\"fill_alpha\":{\"value\":0.1},\"fill_color\":{\"value\":\"#1f77b4\"},\"line_alpha\":{\"value\":0.1},\"line_color\":{\"value\":\"#1f77b4\"},\"top\":{\"field\":\"pct\"},\"width\":{\"value\":0.6},\"x\":{\"field\":\"index\"}},\"id\":\"d91d959a-91cf-430f-beb0-766f139980e9\",\"type\":\"VBar\"},{\"attributes\":{\"callback\":null,\"column_names\":[\"y\",\"x\"],\"data\":{\"x\":[0.4288537549407115,0.4288537549407115],\"y\":[0.5,1.5]}},\"id\":\"3e203b23-b511-4cb0-a7cd-39dcc569acbb\",\"type\":\"ColumnDataSource\"},{\"attributes\":{\"data_source\":{\"id\":\"c70cee33-cd36-43e6-9982-cc85d50eaffb\",\"type\":\"ColumnDataSource\"},\"glyph\":{\"id\":\"c754af66-2140-4e54-9ac8-9e4a062ebfa1\",\"type\":\"Line\"},\"hover_glyph\":null,\"muted_glyph\":null,\"nonselection_glyph\":{\"id\":\"a182cca3-41ef-4820-8e0b-fa86f0c13fbb\",\"type\":\"Line\"},\"selection_glyph\":null},\"id\":\"fb47cfcb-f6a8-4e3c-9c39-221547d51d9a\",\"type\":\"GlyphRenderer\"},{\"attributes\":{\"data_source\":{\"id\":\"5a760ee1-c621-4987-ad03-79e8aae89976\",\"type\":\"ColumnDataSource\"},\"glyph\":{\"id\":\"7e63ae26-99ea-4b36-aa04-09b96724caaa\",\"type\":\"HBar\"},\"hover_glyph\":null,\"muted_glyph\":null,\"nonselection_glyph\":{\"id\":\"0470832f-4390-490d-a4ef-49c35facf285\",\"type\":\"HBar\"},\"selection_glyph\":null},\"id\":\"47678b92-30d6-4b56-924f-c6b01981ce5b\",\"type\":\"GlyphRenderer\"},{\"attributes\":{\"fill_color\":{\"value\":\"#E4E02C\"},\"height\":{\"value\":0.3},\"left\":{\"value\":0.39349112426035504},\"line_color\":{\"value\":\"#E4E02C\"},\"right\":{\"value\":0.554240631163708},\"y\":{\"value\":1}},\"id\":\"9f0cf191-7d50-4c83-bc1d-c6613dedbed4\",\"type\":\"HBar\"},{\"attributes\":{\"line_color\":{\"value\":\"#AAB2A5\"},\"line_dash\":[6],\"line_width\":{\"value\":2},\"x\":{\"field\":\"x\"},\"y\":{\"field\":\"y\"}},\"id\":\"f311b3a8-9b03-477f-b6b1-67a21edd76ab\",\"type\":\"Line\"},{\"attributes\":{\"data_source\":{\"id\":\"83a82056-1658-4401-9d9a-49448ca348bb\",\"type\":\"ColumnDataSource\"},\"glyph\":{\"id\":\"f08d7a55-085c-4f0f-b02a-0ca539bce28e\",\"type\":\"Line\"},\"hover_glyph\":null,\"muted_glyph\":null,\"nonselection_glyph\":{\"id\":\"5e2cbc93-36d4-4375-9137-e4f847f6e18f\",\"type\":\"Line\"},\"selection_glyph\":null},\"id\":\"8a1e43ab-17c4-4ac0-a886-57cbc26d1940\",\"type\":\"GlyphRenderer\"},{\"attributes\":{\"bottom_units\":\"screen\",\"fill_alpha\":{\"value\":0.5},\"fill_color\":{\"value\":\"lightgrey\"},\"left_units\":\"screen\",\"level\":\"overlay\",\"line_alpha\":{\"value\":1.0},\"line_color\":{\"value\":\"black\"},\"line_dash\":[4,4],\"line_width\":{\"value\":2},\"plot\":null,\"render_mode\":\"css\",\"right_units\":\"screen\",\"top_units\":\"screen\"},\"id\":\"cd886e5d-2d1b-4393-981b-411c236495df\",\"type\":\"BoxAnnotation\"},{\"attributes\":{},\"id\":\"81324c7b-e82e-4447-805f-efd8b9710a4c\",\"type\":\"ToolEvents\"},{\"attributes\":{\"fill_alpha\":{\"value\":0.1},\"fill_color\":{\"value\":\"#1f77b4\"},\"height\":{\"value\":0.3},\"left\":{\"value\":0.554240631163708},\"line_alpha\":{\"value\":0.1},\"line_color\":{\"value\":\"#1f77b4\"},\"right\":{\"value\":0.6084812623274161},\"y\":{\"value\":1}},\"id\":\"ae75d9bc-8341-4960-a508-c848b65fe37d\",\"type\":\"HBar\"},{\"attributes\":{\"line_color\":{\"value\":\"#AAB2A5\"},\"line_dash\":[6],\"line_width\":{\"value\":2},\"x\":{\"field\":\"x\"},\"y\":{\"field\":\"y\"}},\"id\":\"4d583439-4bee-47c6-b58b-a6521e512d0c\",\"type\":\"Line\"},{\"attributes\":{\"fill_color\":{\"value\":\"#E43216\"},\"height\":{\"value\":0.3},\"left\":{\"value\":0.554240631163708},\"line_color\":{\"value\":\"#E43216\"},\"right\":{\"value\":0.6084812623274161},\"y\":{\"value\":1}},\"id\":\"ef3c056b-4ed9-4f46-9108-3e20d00c35da\",\"type\":\"HBar\"},{\"attributes\":{\"above\":[{\"id\":\"13d353db-a49f-419f-bbf9-0eb020195978\",\"type\":\"Title\"}],\"below\":[{\"id\":\"66a7e300-1893-4e5d-b318-e7236d7a8126\",\"type\":\"LinearAxis\"}],\"left\":[{\"id\":\"264e9b15-ee37-45ea-987c-b4d63e2afb30\",\"type\":\"LinearAxis\"}],\"plot_height\":300,\"plot_width\":400,\"renderers\":[{\"id\":\"66a7e300-1893-4e5d-b318-e7236d7a8126\",\"type\":\"LinearAxis\"},{\"id\":\"620d4e5f-548b-4b81-9ba1-7fc68a943fc1\",\"type\":\"Grid\"},{\"id\":\"264e9b15-ee37-45ea-987c-b4d63e2afb30\",\"type\":\"LinearAxis\"},{\"id\":\"ec3cac74-a5a6-4937-abdf-93e9c014e9ab\",\"type\":\"Grid\"},{\"id\":\"eb25763d-0a3d-44e1-9c78-1f7f61aba1c3\",\"type\":\"BoxAnnotation\"},{\"id\":\"b9e31804-57bb-4996-b307-ea537c132ead\",\"type\":\"GlyphRenderer\"},{\"id\":\"09304c14-757b-450f-a4d8-74c318778dc8\",\"type\":\"GlyphRenderer\"},{\"id\":\"2e8303cb-9c7a-45fd-a8aa-2f4ddc4025bd\",\"type\":\"GlyphRenderer\"},{\"id\":\"f7a2048c-3687-422b-a623-2f8cad2c50fb\",\"type\":\"GlyphRenderer\"},{\"id\":\"47678b92-30d6-4b56-924f-c6b01981ce5b\",\"type\":\"GlyphRenderer\"},{\"id\":\"8a1e43ab-17c4-4ac0-a886-57cbc26d1940\",\"type\":\"GlyphRenderer\"},{\"id\":\"5c1beabe-5a95-4a24-bc96-c9c7f4073b7a\",\"type\":\"GlyphRenderer\"},{\"id\":\"9040101c-ae31-4b70-b194-005894aa2549\",\"type\":\"GlyphRenderer\"},{\"id\":\"5a4ad2b9-dcfc-435f-b2c3-28d9ce538f75\",\"type\":\"GlyphRenderer\"},{\"id\":\"d8e2cefa-9cd1-42b4-96f2-09f7381976e7\",\"type\":\"GlyphRenderer\"},{\"id\":\"dca3652d-6084-4c2a-b158-8c4cb4ff1b34\",\"type\":\"GlyphRenderer\"},{\"id\":\"67cd20b7-28dd-4d9b-aae7-0377134e1b8a\",\"type\":\"GlyphRenderer\"},{\"id\":\"13d353db-a49f-419f-bbf9-0eb020195978\",\"type\":\"Title\"}],\"title\":{\"id\":\"a21e843d-40af-4b77-b981-4ded92fee7c0\",\"type\":\"Title\"},\"tool_events\":{\"id\":\"6c30f4ce-fe69-49f2-9a9c-4f95205df7d8\",\"type\":\"ToolEvents\"},\"toolbar\":{\"id\":\"884f7eae-68ce-4962-a06e-dc3363bcf0c3\",\"type\":\"Toolbar\"},\"x_range\":{\"id\":\"045261f3-4129-4a54-943f-29eb49e0d0b7\",\"type\":\"DataRange1d\"},\"x_scale\":{\"id\":\"a3690a74-c0ab-43e7-b97e-ef1e7e5c7e66\",\"type\":\"LinearScale\"},\"y_range\":{\"id\":\"c3bc99ee-70a1-425f-9759-a2b1eee733ae\",\"type\":\"Range1d\"},\"y_scale\":{\"id\":\"cbbfb854-47e4-4d07-96dd-ba3aa32b2d26\",\"type\":\"LinearScale\"}},\"id\":\"adb45a2c-023e-4c2a-a81d-36d602939abf\",\"subtype\":\"Figure\",\"type\":\"Plot\"},{\"attributes\":{\"text\":\"<h1 style='margin-left:150px;margin-right:-500px;margin-bottom:18px;font-size:20px;                color:#7D7575'> Time thresholds for pick ups / drop offs (first expected time)</h1>\"},\"id\":\"7087494b-fcff-4c8f-8d81-234f4637aaef\",\"type\":\"Div\"},{\"attributes\":{\"data_source\":{\"id\":\"b4bed52f-f3c7-4a4b-b835-9242d9c4c374\",\"type\":\"ColumnDataSource\"},\"glyph\":{\"id\":\"e6566166-32de-4642-965d-8e7007d57bba\",\"type\":\"HBar\"},\"hover_glyph\":null,\"muted_glyph\":null,\"nonselection_glyph\":{\"id\":\"dd9afa11-514c-4295-8b1b-986bdfa5c0d7\",\"type\":\"HBar\"},\"selection_glyph\":null},\"id\":\"35bf09ae-e5dd-4e97-ba3d-ab2eebcef31c\",\"type\":\"GlyphRenderer\"},{\"attributes\":{},\"id\":\"d87f8bf3-e1ba-493b-b776-7fd556845bf8\",\"type\":\"BasicTicker\"},{\"attributes\":{\"line_color\":{\"value\":\"#AAB2A5\"},\"line_dash\":[6],\"line_width\":{\"value\":2},\"x\":{\"field\":\"x\"},\"y\":{\"field\":\"y\"}},\"id\":\"876befb7-a07a-43fb-b1a1-1cbbfdcfb965\",\"type\":\"Line\"},{\"attributes\":{\"callback\":null,\"column_names\":[\"y\",\"x\"],\"data\":{\"x\":[0,0],\"y\":[0.5,1.5]}},\"id\":\"e66b5882-46bb-4a36-87f9-12082a3d76e1\",\"type\":\"ColumnDataSource\"},{\"attributes\":{\"line_color\":{\"value\":\"#AAB2A5\"},\"line_dash\":[6],\"line_width\":{\"value\":2},\"x\":{\"field\":\"x\"},\"y\":{\"field\":\"y\"}},\"id\":\"f08d7a55-085c-4f0f-b02a-0ca539bce28e\",\"type\":\"Line\"},{\"attributes\":{},\"id\":\"8023e760-dd9c-40c3-9238-3fff6cc2d1d3\",\"type\":\"LinearScale\"},{\"attributes\":{},\"id\":\"42d7ff57-aaf7-4568-b480-be5804089855\",\"type\":\"BasicTicker\"},{\"attributes\":{\"line_alpha\":{\"value\":0.1},\"line_color\":{\"value\":\"#1f77b4\"},\"line_dash\":[6],\"line_width\":{\"value\":2},\"x\":{\"field\":\"x\"},\"y\":{\"field\":\"y\"}},\"id\":\"b37b4c1d-5887-4048-9e20-26fd2634b6de\",\"type\":\"Line\"},{\"attributes\":{\"callback\":null,\"data\":{}},\"id\":\"aad57c41-93c3-45eb-8f04-e52729718e79\",\"type\":\"ColumnDataSource\"},{\"attributes\":{},\"id\":\"2e7d3ca1-430c-4184-b6f9-a8f8618c57a4\",\"type\":\"BasicTicker\"},{\"attributes\":{\"formatter\":{\"id\":\"59889b94-d4d1-45e7-96ec-e56ddab37f39\",\"type\":\"BasicTickFormatter\"},\"plot\":{\"id\":\"adb45a2c-023e-4c2a-a81d-36d602939abf\",\"subtype\":\"Figure\",\"type\":\"Plot\"},\"ticker\":{\"id\":\"e405e8e8-df7d-4f65-8d3a-4824e85f030c\",\"type\":\"BasicTicker\"}},\"id\":\"66a7e300-1893-4e5d-b318-e7236d7a8126\",\"type\":\"LinearAxis\"},{\"attributes\":{\"fill_alpha\":{\"value\":0.1},\"fill_color\":{\"value\":\"#1f77b4\"},\"height\":{\"value\":0.3},\"left\":{\"value\":-0.3895463510848126},\"line_alpha\":{\"value\":0.1},\"line_color\":{\"value\":\"#1f77b4\"},\"right\":{\"value\":-0.32741617357001973},\"y\":{\"value\":1}},\"id\":\"cee81aed-0e80-4b86-be55-add7ad411fef\",\"type\":\"HBar\"},{\"attributes\":{},\"id\":\"d86c2c24-3730-4da1-9064-4e402b26ab28\",\"type\":\"BasicTickFormatter\"},{\"attributes\":{},\"id\":\"59889b94-d4d1-45e7-96ec-e56ddab37f39\",\"type\":\"BasicTickFormatter\"},{\"attributes\":{\"plot\":{\"id\":\"63feae53-c29b-4ced-a4fe-06bcb94a60b9\",\"subtype\":\"Figure\",\"type\":\"Plot\"}},\"id\":\"092e9ecc-61d1-4f68-a738-ef2381bf8ecc\",\"type\":\"WheelZoomTool\"},{\"attributes\":{\"fill_color\":{\"value\":\"#E4E02C\"},\"height\":{\"value\":0.3},\"left\":{\"value\":-0.41007905138339923},\"line_color\":{\"value\":\"#E4E02C\"},\"right\":{\"value\":-0.2766798418972332},\"y\":{\"value\":1}},\"id\":\"cba2a683-5c21-406e-9c45-3a14e0a50023\",\"type\":\"HBar\"},{\"attributes\":{},\"id\":\"ac73c016-993b-4b89-9a6b-99b3b3a72990\",\"type\":\"BasicTickFormatter\"},{\"attributes\":{\"callback\":null,\"plot\":{\"id\":\"ef83d5c7-cacf-43e0-88c7-96cab6fe0604\",\"subtype\":\"Figure\",\"type\":\"Plot\"},\"tooltips\":[[\"pct\",\"@pct{(0.00%)}\"]]},\"id\":\"f49bb8c3-1136-4c56-b584-ff77aa1f5a35\",\"type\":\"HoverTool\"},{\"attributes\":{\"callback\":null,\"column_names\":[\"pct\",\"index\",\"thresholds\",\"colors\"],\"data\":{\"colors\":[\"#459E0F\",\"#E4E02C\",\"#E43216\"],\"index\":[0,1,2],\"pct\":{\"__ndarray__\":\"ViJ0LqwR5z/+ZcJNUofMP6dCtOHzx6w/\",\"dtype\":\"float64\",\"shape\":[3]},\"thresholds\":[\"green\",\"yellow\",\"red\"]}},\"id\":\"315108b9-615d-4262-b90e-b75a2a1bfde3\",\"type\":\"ColumnDataSource\"},{\"attributes\":{\"callback\":null,\"data\":{}},\"id\":\"b4bed52f-f3c7-4a4b-b835-9242d9c4c374\",\"type\":\"ColumnDataSource\"},{\"attributes\":{},\"id\":\"5eebf7c5-4bbd-4324-aac2-45d311eb86dc\",\"type\":\"BasicTickFormatter\"},{\"attributes\":{\"line_alpha\":{\"value\":0.1},\"line_color\":{\"value\":\"#1f77b4\"},\"line_dash\":[6],\"line_width\":{\"value\":2},\"x\":{\"field\":\"x\"},\"y\":{\"field\":\"y\"}},\"id\":\"a182cca3-41ef-4820-8e0b-fa86f0c13fbb\",\"type\":\"Line\"},{\"attributes\":{\"callback\":null,\"column_names\":[\"y\",\"x\"],\"data\":{\"x\":[0,0],\"y\":[0.5,1.5]}},\"id\":\"33615329-30c1-4173-9812-b33c263e4292\",\"type\":\"ColumnDataSource\"},{\"attributes\":{\"fill_alpha\":{\"value\":0.1},\"fill_color\":{\"value\":\"#1f77b4\"},\"height\":{\"value\":0.3},\"left\":{\"value\":-0.3915187376725838},\"line_alpha\":{\"value\":0.1},\"line_color\":{\"value\":\"#1f77b4\"},\"right\":{\"value\":-0.3895463510848126},\"y\":{\"value\":1}},\"id\":\"c19764c3-36a9-43fb-92c2-f8320d6df6fd\",\"type\":\"HBar\"},{\"attributes\":{\"plot\":{\"id\":\"63feae53-c29b-4ced-a4fe-06bcb94a60b9\",\"subtype\":\"Figure\",\"type\":\"Plot\"}},\"id\":\"1d47cd3d-016e-49e9-99cb-eb16d5aa4670\",\"type\":\"ResetTool\"}],\"root_ids\":[\"a9d32f12-4afb-4256-9625-9ecabecf7143\"]},\"title\":\"Bokeh Application\",\"version\":\"0.12.6\"}};\n",
       "            var render_items = [{\"docid\":\"967edc5e-e288-43d0-9eaf-a749155525cb\",\"elementid\":\"20906479-b0dc-4f8b-a3af-272e8514abd8\",\"modelid\":\"a9d32f12-4afb-4256-9625-9ecabecf7143\"}];\n",
       "            \n",
       "            Bokeh.embed.embed_items(docs_json, render_items);\n",
       "          };\n",
       "          if (document.readyState != \"loading\") fn();\n",
       "          else document.addEventListener(\"DOMContentLoaded\", fn);\n",
       "        })();\n",
       "      },\n",
       "      function(Bokeh) {\n",
       "      }\n",
       "    ];\n",
       "  \n",
       "    function run_inline_js() {\n",
       "      \n",
       "      if ((window.Bokeh !== undefined) || (force === true)) {\n",
       "        for (var i = 0; i < inline_js.length; i++) {\n",
       "          inline_js[i](window.Bokeh);\n",
       "        }if (force === true) {\n",
       "          display_loaded();\n",
       "        }} else if (Date.now() < window._bokeh_timeout) {\n",
       "        setTimeout(run_inline_js, 100);\n",
       "      } else if (!window._bokeh_failed_load) {\n",
       "        console.log(\"Bokeh: BokehJS failed to load within specified timeout.\");\n",
       "        window._bokeh_failed_load = true;\n",
       "      } else if (force !== true) {\n",
       "        var cell = $(document.getElementById(\"20906479-b0dc-4f8b-a3af-272e8514abd8\")).parents('.cell').data().cell;\n",
       "        cell.output_area.append_execute_result(NB_LOAD_WARNING)\n",
       "      }\n",
       "  \n",
       "    }\n",
       "  \n",
       "    if (window._bokeh_is_loading === 0) {\n",
       "      console.log(\"Bokeh: BokehJS loaded, going straight to plotting\");\n",
       "      run_inline_js();\n",
       "    } else {\n",
       "      load_libs(js_urls, function() {\n",
       "        console.log(\"Bokeh: BokehJS plotting callback run at\", now());\n",
       "        run_inline_js();\n",
       "      });\n",
       "    }\n",
       "  }(this));\n",
       "</script>"
      ]
     },
     "metadata": {},
     "output_type": "display_data"
    }
   ],
   "source": [
    "#Using plotting functions\n",
    "time_threshold_first_pick_up_plot = plot_horizontal_time_thresholds(threshold_first_pick_up, 400, 300, 'pct', 'colors', \n",
    "                                                 \"Rush/delays within time thresholds pick up\")\n",
    "within_thresholds_first_pick_up_plot = plot_total_pct_thresholds(within_thresh_first_pick_up, 400, 300, \"index\", \"pct\", \"colors\", \n",
    "                                              \"Total percentage within thresholds pick up\")\n",
    "time_threshold_first_drop_off_plot = plot_horizontal_time_thresholds(threshold_first_drop_off, 400, 300, 'pct', 'colors', \n",
    "                                                 \"Rush/delays within time thresholds drop off\")\n",
    "time_threshold_first_drop_off_plot.x_range = time_threshold_first_pick_up_plot.x_range\n",
    "within_thresholds_first_drop_off_plot = plot_total_pct_thresholds(within_thresh_first_drop_off, 400, 300, \"index\", \"pct\", \"colors\", \n",
    "                                              \"Total percentage within thresholds drop off\")\n",
    "threshold_first_pick_up_plots = row(time_threshold_first_pick_up_plot, within_thresholds_first_pick_up_plot)\n",
    "threshold_first_drop_off_plots = row(time_threshold_first_drop_off_plot, within_thresholds_first_drop_off_plot)\n",
    "\n",
    "show(column(Div(text=\"<h1 style='margin-left:150px;margin-right:-500px;margin-bottom:18px;font-size:20px;\\\n",
    "                color:#7D7575'> Time thresholds for pick ups / drop offs (first expected time)</h1>\"),\n",
    "            column(threshold_first_pick_up_plots, threshold_first_drop_off_plots)))"
   ]
  },
  {
   "cell_type": "markdown",
   "metadata": {},
   "source": [
    "As already noticed in the distribution plots, first estimated times do worst for the drop offs. The regions within the pick ups are within our previous averages. However, in the drop offs we can see that barely more than 50% are within the 3 minutes of the first estimated time. Rides between 3-7 minutes make up approximately 30% of the total drop offs. "
   ]
  },
  {
   "cell_type": "markdown",
   "metadata": {},
   "source": [
    "## Differences between expected and actual time within hour/day\n",
    "\n",
    "Here we will try to determine if there are specific hour/days for which the difference between expected and actual times are more relevant. As we saw that the differences are more pronunciated for the first expected time shown to the user, we will use this data set that will show us the upper bound of differences. The analysis for the last expected time should be easy to reproduce, if requested."
   ]
  },
  {
   "cell_type": "code",
   "execution_count": 44,
   "metadata": {},
   "outputs": [],
   "source": [
    "colors_dict = {\"0\":\"red\", \"5\":\"red\", \"1\":\"yellow\", \"4\":\"yellow\",  \"2\":\"green\", \"3\":\"green\"}\n",
    "est_act_time_first[\"cat_codes\"] = est_act_time_first[\"time_thresholds\"].cat.codes.astype(str)\n",
    "est_act_time_first[\"thresh_cat\"] = est_act_time_first[\"cat_codes\"].map(lambda x: colors_dict[x])\n",
    "est_act_time_first\n",
    "hour_est_act_time_first = est_act_time_first.groupby([pd.Grouper(freq='1h', key='datetime_utc_berlin'), \"thresh_cat\"]).agg(\n",
    "    {'booking_id': \"count\"}).reset_index()\n",
    "hour_est_act_time_first = hour_est_act_time_first.rename(columns={\"booking_id\":\"count\"})\n",
    "hour_est_act_time_first[\"total\"] = hour_est_act_time_first.groupby([pd.Grouper(freq='1h', key='datetime_utc_berlin')])[\"count\"].transform(lambda x: x.sum())"
   ]
  },
  {
   "cell_type": "code",
   "execution_count": 45,
   "metadata": {},
   "outputs": [],
   "source": [
    "hour_est_act_time_first[\"pct\"] = hour_est_act_time_first[\"count\"] / hour_est_act_time_first[\"total\"]"
   ]
  },
  {
   "cell_type": "code",
   "execution_count": 46,
   "metadata": {
    "collapsed": true
   },
   "outputs": [],
   "source": [
    "#Pivoting for plotting purposes\n",
    "hour_est_act_time_first = hour_est_act_time_first.pivot(index='datetime_utc_berlin', columns='thresh_cat')\n",
    "hour_est_act_time_first.columns = ['_'.join(col) for col in hour_est_act_time_first.columns]"
   ]
  },
  {
   "cell_type": "code",
   "execution_count": 47,
   "metadata": {},
   "outputs": [],
   "source": [
    "#Preparing and generating column for plotting\n",
    "hour_est_act_time_first[\"date\"] = hour_est_act_time_first.index.map(lambda x: x.strftime('%H H %a'))\n",
    "hour_est_act_time_first[\"pct_yellow_plot\"] = hour_est_act_time_first[\"pct_green\"] +hour_est_act_time_first[\"pct_yellow\"]\n",
    "hour_est_act_time_first[\"pct_red_plot\"] = hour_est_act_time_first[\"pct_yellow_plot\"] +hour_est_act_time_first[\"pct_red\"]"
   ]
  },
  {
   "cell_type": "code",
   "execution_count": 48,
   "metadata": {},
   "outputs": [
    {
     "data": {
      "text/html": [
       "\n",
       "\n",
       "    <div class=\"bk-root\">\n",
       "        <div class=\"bk-plotdiv\" id=\"a3b2e82b-9076-4957-b152-cf54289f5cf0\"></div>\n",
       "    </div>\n",
       "<script type=\"text/javascript\">\n",
       "  \n",
       "  (function(global) {\n",
       "    function now() {\n",
       "      return new Date();\n",
       "    }\n",
       "  \n",
       "    var force = false;\n",
       "  \n",
       "    if (typeof (window._bokeh_onload_callbacks) === \"undefined\" || force === true) {\n",
       "      window._bokeh_onload_callbacks = [];\n",
       "      window._bokeh_is_loading = undefined;\n",
       "    }\n",
       "  \n",
       "  \n",
       "    \n",
       "    if (typeof (window._bokeh_timeout) === \"undefined\" || force === true) {\n",
       "      window._bokeh_timeout = Date.now() + 0;\n",
       "      window._bokeh_failed_load = false;\n",
       "    }\n",
       "  \n",
       "    var NB_LOAD_WARNING = {'data': {'text/html':\n",
       "       \"<div style='background-color: #fdd'>\\n\"+\n",
       "       \"<p>\\n\"+\n",
       "       \"BokehJS does not appear to have successfully loaded. If loading BokehJS from CDN, this \\n\"+\n",
       "       \"may be due to a slow or bad network connection. Possible fixes:\\n\"+\n",
       "       \"</p>\\n\"+\n",
       "       \"<ul>\\n\"+\n",
       "       \"<li>re-rerun `output_notebook()` to attempt to load from CDN again, or</li>\\n\"+\n",
       "       \"<li>use INLINE resources instead, as so:</li>\\n\"+\n",
       "       \"</ul>\\n\"+\n",
       "       \"<code>\\n\"+\n",
       "       \"from bokeh.resources import INLINE\\n\"+\n",
       "       \"output_notebook(resources=INLINE)\\n\"+\n",
       "       \"</code>\\n\"+\n",
       "       \"</div>\"}};\n",
       "  \n",
       "    function display_loaded() {\n",
       "      if (window.Bokeh !== undefined) {\n",
       "        var el = document.getElementById(\"a3b2e82b-9076-4957-b152-cf54289f5cf0\");\n",
       "        el.textContent = \"BokehJS \" + Bokeh.version + \" successfully loaded.\";\n",
       "      } else if (Date.now() < window._bokeh_timeout) {\n",
       "        setTimeout(display_loaded, 100)\n",
       "      }\n",
       "    }\n",
       "  \n",
       "    function run_callbacks() {\n",
       "      try {\n",
       "        window._bokeh_onload_callbacks.forEach(function(callback) { callback() });\n",
       "      }\n",
       "      finally {\n",
       "        delete window._bokeh_onload_callbacks\n",
       "      }\n",
       "      console.info(\"Bokeh: all callbacks have finished\");\n",
       "    }\n",
       "  \n",
       "    function load_libs(js_urls, callback) {\n",
       "      window._bokeh_onload_callbacks.push(callback);\n",
       "      if (window._bokeh_is_loading > 0) {\n",
       "        console.log(\"Bokeh: BokehJS is being loaded, scheduling callback at\", now());\n",
       "        return null;\n",
       "      }\n",
       "      if (js_urls == null || js_urls.length === 0) {\n",
       "        run_callbacks();\n",
       "        return null;\n",
       "      }\n",
       "      console.log(\"Bokeh: BokehJS not loaded, scheduling load and callback at\", now());\n",
       "      window._bokeh_is_loading = js_urls.length;\n",
       "      for (var i = 0; i < js_urls.length; i++) {\n",
       "        var url = js_urls[i];\n",
       "        var s = document.createElement('script');\n",
       "        s.src = url;\n",
       "        s.async = false;\n",
       "        s.onreadystatechange = s.onload = function() {\n",
       "          window._bokeh_is_loading--;\n",
       "          if (window._bokeh_is_loading === 0) {\n",
       "            console.log(\"Bokeh: all BokehJS libraries loaded\");\n",
       "            run_callbacks()\n",
       "          }\n",
       "        };\n",
       "        s.onerror = function() {\n",
       "          console.warn(\"failed to load library \" + url);\n",
       "        };\n",
       "        console.log(\"Bokeh: injecting script tag for BokehJS library: \", url);\n",
       "        document.getElementsByTagName(\"head\")[0].appendChild(s);\n",
       "      }\n",
       "    };var element = document.getElementById(\"a3b2e82b-9076-4957-b152-cf54289f5cf0\");\n",
       "    if (element == null) {\n",
       "      console.log(\"Bokeh: ERROR: autoload.js configured with elementid 'a3b2e82b-9076-4957-b152-cf54289f5cf0' but no matching script tag was found. \")\n",
       "      return false;\n",
       "    }\n",
       "  \n",
       "    var js_urls = [];\n",
       "  \n",
       "    var inline_js = [\n",
       "      function(Bokeh) {\n",
       "        (function() {\n",
       "          var fn = function() {\n",
       "            var docs_json = {\"6dce6652-c201-444d-8db4-83c10b220ed7\":{\"roots\":{\"references\":[{\"attributes\":{},\"id\":\"8c871ed5-f3ed-49e4-91b6-7d46c4cf2c14\",\"type\":\"LinearScale\"},{\"attributes\":{},\"id\":\"db750998-d428-457e-bada-0a7a4522c4a1\",\"type\":\"ToolEvents\"},{\"attributes\":{\"bottom\":{\"field\":\"pct_yellow_plot\"},\"fill_color\":{\"value\":\"#E43216\"},\"line_color\":{\"value\":\"#E43216\"},\"top\":{\"field\":\"pct_red_plot\"},\"width\":{\"value\":0.7},\"x\":{\"field\":\"date\"}},\"id\":\"a44de519-e1f9-4dd8-876e-c6f2e3c75cce\",\"type\":\"VBar\"},{\"attributes\":{\"above\":[{\"id\":\"8492081f-33ba-46fc-a607-a7259e81d778\",\"type\":\"Title\"}],\"below\":[{\"id\":\"de040156-e795-41e0-8001-14dc059a9ddf\",\"type\":\"CategoricalAxis\"}],\"left\":[{\"id\":\"6fff2605-d8c8-46a8-b3d6-b7556b6b672d\",\"type\":\"LinearAxis\"}],\"plot_height\":400,\"plot_width\":800,\"renderers\":[{\"id\":\"de040156-e795-41e0-8001-14dc059a9ddf\",\"type\":\"CategoricalAxis\"},{\"id\":\"6e004a43-52d8-4a43-ad34-61702e619ce4\",\"type\":\"Grid\"},{\"id\":\"6fff2605-d8c8-46a8-b3d6-b7556b6b672d\",\"type\":\"LinearAxis\"},{\"id\":\"18130b1b-d586-4ee6-aaf0-900a48a83ed2\",\"type\":\"Grid\"},{\"id\":\"cdae6ed8-e559-4919-834f-7eec6ae64f29\",\"type\":\"GlyphRenderer\"},{\"id\":\"bca1bd59-edb4-4c87-b98a-85da56b6db0c\",\"type\":\"GlyphRenderer\"},{\"id\":\"953d164a-975d-4a50-a414-95fae59f7343\",\"type\":\"GlyphRenderer\"},{\"id\":\"8492081f-33ba-46fc-a607-a7259e81d778\",\"type\":\"Title\"}],\"title\":{\"id\":\"900c9770-4224-4f74-b959-2b79dd5f9e80\",\"type\":\"Title\"},\"tool_events\":{\"id\":\"db750998-d428-457e-bada-0a7a4522c4a1\",\"type\":\"ToolEvents\"},\"toolbar\":{\"id\":\"62c94374-435a-41f6-bf66-6744a8dd9128\",\"type\":\"Toolbar\"},\"x_range\":{\"id\":\"37d9c627-3dc5-443e-86f0-3a5314a2f1c7\",\"type\":\"FactorRange\"},\"x_scale\":{\"id\":\"2e27e73f-c7d8-4f88-82e0-f38c57fe85ea\",\"type\":\"CategoricalScale\"},\"y_range\":{\"id\":\"441ab8c5-e4f1-4451-950b-f90ed79195a3\",\"type\":\"DataRange1d\"},\"y_scale\":{\"id\":\"8c871ed5-f3ed-49e4-91b6-7d46c4cf2c14\",\"type\":\"LinearScale\"}},\"id\":\"b934c338-991a-4387-99fa-3543fd27b245\",\"subtype\":\"Figure\",\"type\":\"Plot\"},{\"attributes\":{\"bottom\":{\"field\":\"pct_green\"},\"fill_alpha\":{\"value\":0.1},\"fill_color\":{\"value\":\"#1f77b4\"},\"line_alpha\":{\"value\":0.1},\"line_color\":{\"value\":\"#1f77b4\"},\"top\":{\"field\":\"pct_yellow_plot\"},\"width\":{\"value\":0.7},\"x\":{\"field\":\"date\"}},\"id\":\"a1e6d413-4156-427d-a15d-9eed89d55667\",\"type\":\"VBar\"},{\"attributes\":{\"data_source\":{\"id\":\"d6d6318c-3cd1-48aa-bfc6-889f3149e4dc\",\"type\":\"ColumnDataSource\"},\"glyph\":{\"id\":\"a44de519-e1f9-4dd8-876e-c6f2e3c75cce\",\"type\":\"VBar\"},\"hover_glyph\":null,\"muted_glyph\":null,\"nonselection_glyph\":{\"id\":\"68ffbaf5-136d-4c93-912f-9a346698c286\",\"type\":\"VBar\"},\"selection_glyph\":null},\"id\":\"953d164a-975d-4a50-a414-95fae59f7343\",\"type\":\"GlyphRenderer\"},{\"attributes\":{\"callback\":null},\"id\":\"441ab8c5-e4f1-4451-950b-f90ed79195a3\",\"type\":\"DataRange1d\"},{\"attributes\":{\"data_source\":{\"id\":\"d6d6318c-3cd1-48aa-bfc6-889f3149e4dc\",\"type\":\"ColumnDataSource\"},\"glyph\":{\"id\":\"250978f9-2e95-476c-b35a-ba9d2d790bf1\",\"type\":\"VBar\"},\"hover_glyph\":null,\"muted_glyph\":null,\"nonselection_glyph\":{\"id\":\"a1e6d413-4156-427d-a15d-9eed89d55667\",\"type\":\"VBar\"},\"selection_glyph\":null},\"id\":\"bca1bd59-edb4-4c87-b98a-85da56b6db0c\",\"type\":\"GlyphRenderer\"},{\"attributes\":{\"axis_label\":\"Percentage\",\"formatter\":{\"id\":\"645e6750-896e-4083-9b6a-26957c54a95e\",\"type\":\"BasicTickFormatter\"},\"plot\":{\"id\":\"b934c338-991a-4387-99fa-3543fd27b245\",\"subtype\":\"Figure\",\"type\":\"Plot\"},\"ticker\":{\"id\":\"4b655955-b012-44f2-bb9f-f70bfd72c652\",\"type\":\"BasicTicker\"}},\"id\":\"6fff2605-d8c8-46a8-b3d6-b7556b6b672d\",\"type\":\"LinearAxis\"},{\"attributes\":{\"fill_color\":{\"value\":\"#459E0F\"},\"line_color\":{\"value\":\"#459E0F\"},\"top\":{\"field\":\"pct_green\"},\"width\":{\"value\":0.7},\"x\":{\"field\":\"date\"}},\"id\":\"80b3dbc1-0d69-43df-9284-afd8a90d86a5\",\"type\":\"VBar\"},{\"attributes\":{},\"id\":\"90e65e62-feab-42f9-8c26-5cae9f5d0572\",\"type\":\"CategoricalTicker\"},{\"attributes\":{\"bottom\":{\"field\":\"pct_green\"},\"fill_color\":{\"value\":\"#E4E02C\"},\"line_color\":{\"value\":\"#E4E02C\"},\"top\":{\"field\":\"pct_yellow_plot\"},\"width\":{\"value\":0.7},\"x\":{\"field\":\"date\"}},\"id\":\"250978f9-2e95-476c-b35a-ba9d2d790bf1\",\"type\":\"VBar\"},{\"attributes\":{\"active_drag\":\"auto\",\"active_inspect\":\"auto\",\"active_scroll\":\"auto\",\"active_tap\":\"auto\",\"tools\":[{\"id\":\"944c1ce5-67bf-48fd-b12d-d46b640b7c2c\",\"type\":\"HoverTool\"}]},\"id\":\"62c94374-435a-41f6-bf66-6744a8dd9128\",\"type\":\"Toolbar\"},{\"attributes\":{\"plot\":null,\"text\":\"\"},\"id\":\"900c9770-4224-4f74-b959-2b79dd5f9e80\",\"type\":\"Title\"},{\"attributes\":{\"plot\":{\"id\":\"b934c338-991a-4387-99fa-3543fd27b245\",\"subtype\":\"Figure\",\"type\":\"Plot\"},\"ticker\":{\"id\":\"90e65e62-feab-42f9-8c26-5cae9f5d0572\",\"type\":\"CategoricalTicker\"},\"visible\":false},\"id\":\"6e004a43-52d8-4a43-ad34-61702e619ce4\",\"type\":\"Grid\"},{\"attributes\":{\"fill_alpha\":{\"value\":0.1},\"fill_color\":{\"value\":\"#1f77b4\"},\"line_alpha\":{\"value\":0.1},\"line_color\":{\"value\":\"#1f77b4\"},\"top\":{\"field\":\"pct_green\"},\"width\":{\"value\":0.7},\"x\":{\"field\":\"date\"}},\"id\":\"67c659ee-e004-447c-8072-0ba54925fe88\",\"type\":\"VBar\"},{\"attributes\":{\"bottom\":{\"field\":\"pct_yellow_plot\"},\"fill_alpha\":{\"value\":0.1},\"fill_color\":{\"value\":\"#1f77b4\"},\"line_alpha\":{\"value\":0.1},\"line_color\":{\"value\":\"#1f77b4\"},\"top\":{\"field\":\"pct_red_plot\"},\"width\":{\"value\":0.7},\"x\":{\"field\":\"date\"}},\"id\":\"68ffbaf5-136d-4c93-912f-9a346698c286\",\"type\":\"VBar\"},{\"attributes\":{\"dimension\":1,\"plot\":{\"id\":\"b934c338-991a-4387-99fa-3543fd27b245\",\"subtype\":\"Figure\",\"type\":\"Plot\"},\"ticker\":{\"id\":\"4b655955-b012-44f2-bb9f-f70bfd72c652\",\"type\":\"BasicTicker\"},\"visible\":false},\"id\":\"18130b1b-d586-4ee6-aaf0-900a48a83ed2\",\"type\":\"Grid\"},{\"attributes\":{\"callback\":null,\"plot\":{\"id\":\"b934c338-991a-4387-99fa-3543fd27b245\",\"subtype\":\"Figure\",\"type\":\"Plot\"},\"tooltips\":[[\"pct. green\",\"@pct_green{(0.00%)}\"],[\"pct. yellow\",\"@pct_yellow{(0.00%)}\"],[\"pct. red\",\"@pct_red{(0.00%)}\"]]},\"id\":\"944c1ce5-67bf-48fd-b12d-d46b640b7c2c\",\"type\":\"HoverTool\"},{\"attributes\":{\"callback\":null,\"factors\":[\"18 H Fri\",\"19 H Fri\",\"20 H Fri\",\"21 H Fri\",\"22 H Fri\",\"23 H Fri\",\"00 H Sat\",\"01 H Sat\",\"10 H Sat\",\"11 H Sat\",\"12 H Sat\",\"13 H Sat\",\"14 H Sat\",\"15 H Sat\",\"16 H Sat\",\"17 H Sat\",\"18 H Sat\",\"19 H Sat\",\"20 H Sat\",\"21 H Sat\",\"22 H Sat\",\"23 H Sat\",\"00 H Sun\",\"01 H Sun\",\"10 H Sun\",\"11 H Sun\",\"12 H Sun\",\"13 H Sun\",\"14 H Sun\",\"15 H Sun\",\"16 H Sun\",\"17 H Sun\"]},\"id\":\"37d9c627-3dc5-443e-86f0-3a5314a2f1c7\",\"type\":\"FactorRange\"},{\"attributes\":{},\"id\":\"2e27e73f-c7d8-4f88-82e0-f38c57fe85ea\",\"type\":\"CategoricalScale\"},{\"attributes\":{\"callback\":null,\"column_names\":[\"date\",\"pct_yellow_plot\",\"total_green\",\"pct_red_plot\",\"datetime_utc_berlin\",\"count_yellow\",\"total_red\",\"total_yellow\",\"pct_red\",\"count_red\",\"pct_yellow\",\"pct_green\",\"count_green\"],\"data\":{\"count_green\":{\"__ndarray__\":\"AAAAAAAAREAAAAAAAABIQAAAAAAAAEJAAAAAAACAQkAAAAAAAABFQAAAAAAAgElAAAAAAACATkAAAAAAAABNQAAAAAAAADhAAAAAAAAAOkAAAAAAAAA9QAAAAAAAADlAAAAAAAAAOkAAAAAAAAA7QAAAAAAAADxAAAAAAAAAOkAAAAAAAABJQAAAAAAAAE5AAAAAAAAAQkAAAAAAAIBJQAAAAAAAgEFAAAAAAACASUAAAAAAAABEQAAAAAAAgEVAAAAAAAAATEAAAAAAAIBGQAAAAAAAADlAAAAAAAAAQkAAAAAAAAA7QAAAAAAAgEBAAAAAAACAR0AAAAAAAABJQA==\",\"dtype\":\"float64\",\"shape\":[32]},\"count_red\":{\"__ndarray__\":\"AAAAAAAALEAAAAAAAAAqQAAAAAAAABRAAAAAAAAAJkAAAAAAAAAcQAAAAAAAABRAAAAAAAAAIkAAAAAAAAAUQAAAAAAAABxAAAAAAAAACEAAAAAAAAAUQAAAAAAAACJAAAAAAAAALEAAAAAAAAAoQAAAAAAAABxAAAAAAAAA+H8AAAAAAAAUQAAAAAAAABRAAAAAAAAAEEAAAAAAAAAQQAAAAAAAACBAAAAAAAAAGEAAAAAAAAAUQAAAAAAAAChAAAAAAAAAFEAAAAAAAAAcQAAAAAAAAChAAAAAAAAAFEAAAAAAAAAiQAAAAAAAAAhAAAAAAAAACEAAAAAAAADwPw==\",\"dtype\":\"float64\",\"shape\":[32]},\"count_yellow\":{\"__ndarray__\":\"AAAAAAAAQEAAAAAAAAA3QAAAAAAAAC5AAAAAAAAAQ0AAAAAAAAAuQAAAAAAAACxAAAAAAAAAMkAAAAAAAAAuQAAAAAAAACZAAAAAAAAAIkAAAAAAAAAkQAAAAAAAAChAAAAAAAAAMkAAAAAAAAAqQAAAAAAAADNAAAAAAAAAIEAAAAAAAAA3QAAAAAAAADNAAAAAAAAAOEAAAAAAAAAzQAAAAAAAADlAAAAAAAAAJkAAAAAAAAA1QAAAAAAAAC5AAAAAAAAAHEAAAAAAAAAgQAAAAAAAACZAAAAAAAAAM0AAAAAAAAAoQAAAAAAAADBAAAAAAAAAMkAAAAAAAAAzQA==\",\"dtype\":\"float64\",\"shape\":[32]},\"date\":[\"18 H Fri\",\"19 H Fri\",\"20 H Fri\",\"21 H Fri\",\"22 H Fri\",\"23 H Fri\",\"00 H Sat\",\"01 H Sat\",\"10 H Sat\",\"11 H Sat\",\"12 H Sat\",\"13 H Sat\",\"14 H Sat\",\"15 H Sat\",\"16 H Sat\",\"17 H Sat\",\"18 H Sat\",\"19 H Sat\",\"20 H Sat\",\"21 H Sat\",\"22 H Sat\",\"23 H Sat\",\"00 H Sun\",\"01 H Sun\",\"10 H Sun\",\"11 H Sun\",\"12 H Sun\",\"13 H Sun\",\"14 H Sun\",\"15 H Sun\",\"16 H Sun\",\"17 H Sun\"],\"datetime_utc_berlin\":{\"__ndarray__\":\"AAAAV9nIdUIAAOjF3Mh1QgAA0DTgyHVCAAC4o+PIdUIAAKAS58h1QgAAiIHqyHVCAABw8O3IdUIAAFhf8ch1QgAAgEUQyXVCAABotBPJdUIAAFAjF8l1QgAAOJIayXVCAAAgAR7JdUIAAAhwIcl1QgAA8N4kyXVCAADYTSjJdUIAAMC8K8l1QgAAqCsvyXVCAACQmjLJdUIAAHgJNsl1QgAAYHg5yXVCAABI5zzJdUIAADBWQMl1QgAAGMVDyXVCAABAq2LJdUIAACgaZsl1QgAAEIlpyXVCAAD492zJdUIAAOBmcMl1QgAAyNVzyXVCAACwRHfJdUIAAJizesl1Qg==\",\"dtype\":\"float64\",\"shape\":[32]},\"pct_green\":{\"__ndarray__\":\"cUfcEXfE3T+SJEmSJEniPyVJkiRJkuQ/4o64I+6I2z8AAAAAAADlPwd1UAd1UOc/L7rooosu5j+4fMu3fMvnP5IkSZIkSeI/UV5DeQ3l5T8XXXTRRRflPxaykIUsZOE/1AjLPY2w3D/ZiZ3YiZ3gP3sJ7SW0l+A/eHh4eHh46D81SIM0SIPkP7dt27Zt2+Y/AAAAAAAA4j/dYIp81g3mP3h4eHh4eOA/AAAAAAAA6D9lk0022WTjP4Q6qIM6qOM/WlpaWlpa6j8AAAAAAADoP6uqqqqqquA/MzMzMzMz4z8AAAAAAADiP+zETuzETuQ/Hh4eHh4e5j+3bdu2bdvmPw==\",\"dtype\":\"float64\",\"shape\":[32]},\"pct_red\":{\"__ndarray__\":\"NmVNWVPWxD/0PM/zPM/DP7dt27Zt27Y/GPQFfUFfwD8AAAAAAAC8P5IkSZIkSbI/L7rooosuuj+QBmmQBmmwP1VVVVVVVcU/XkN5DeU1tD8XXXTRRRe9P5GFLGQhC8k/R1juaYTlzj+e2Imd2InNP3sJ7SW0l8A/AAAAAAAA+H+QBmmQBmmwP57neZ7nea4/AAAAAAAAsD/QusEU+ayrPx4eHh4eHr4/l5aWlpaWtj9lk0022WSzPxZf8RVf8cU/09LS0tLSsj/e3d3d3d29PwAAAAAAANA/VVVVVVVVtT8AAAAAAADIP57YiZ3Yia0/l5aWlpaWpj8d1EEd1EGNPw==\",\"dtype\":\"float64\",\"shape\":[32]},\"pct_red_plot\":{\"__ndarray__\":\"AAAAAAAA8D8AAAAAAADwPwAAAAAAAPA/AAAAAAAA8D8AAAAAAADwPwAAAAAAAPA/AAAAAAAA8D8AAAAAAADwP////////+8/AAAAAAAA8D8AAAAAAADwPwAAAAAAAPA/AAAAAAAA8D8AAAAAAADwPwAAAAAAAPA/AAAAAAAA+H8AAAAAAADwPwAAAAAAAPA/AAAAAAAA8D/////////vPwAAAAAAAPA/AAAAAAAA8D8AAAAAAADwPwAAAAAAAPA/////////7z8AAAAAAADwPwAAAAAAAPA/AAAAAAAA8D8AAAAAAADwPwAAAAAAAPA/////////7z8AAAAAAADwPw==\",\"dtype\":\"float64\",\"shape\":[32]},\"pct_yellow\":{\"__ndarray__\":\"9AV9QV/Q1z9iGIZhGIbRP0mSJEmSJNE/EnfEHXFH3D8AAAAAAADOP5qZmZmZmck/L7rooosuyj/ZiZ3YiZ3IPzEMwzAMw9A/DeU1lNdQzj8XXXTRRRfNPwtZyEIWstA/Ccs9jbDc0z8AAAAAAADQP0xoL6G9hNY/Hh4eHh4ezj/zLd/yLd/SPz3P8zzP88w/AAAAAAAA2D/rBlPks27QP4iHh4eHh9c/tbS0tLS0xD9ddNFFF13UP9u2bdu2bcs/WlpaWlpauj8RERERERHBP1VVVVVVVc0/RERERERE1D8AAAAAAADQPxQ7sRM7sdM/8fDw8PDw0D/xFV/xFV/RPw==\",\"dtype\":\"float64\",\"shape\":[32]},\"pct_yellow_plot\":{\"__ndarray__\":\"sqasKWvK6j/DMAzDMAzrP0qSJEmSJO0/+oK+oC/o6z8AAAAAAIDsP27btm3btu0/u+iiiy667D8u3/It3/LtP6qqqqqqquo/lNdQXkN57T9ddNFFF13sP5ze9KY3vek/7mmE5Z5G6D/ZiZ3YiZ3oP6G9hPYS2us/AAAAAAAA8D8u3/It3/LtP4ZhGIZhGO4/AAAAAAAA7j9S5LNuMEXuPzw8PDw8POw/LS0tLS0t7T+UTTbZZJPtPzuogzqog+o/paWlpaWl7T9ERERERETsPwAAAAAAAOg/VVVVVVVV7T8AAAAAAADqP3ZiJ3ZiJ+4/lpaWlpaW7j+w+Iqv+IrvPw==\",\"dtype\":\"float64\",\"shape\":[32]},\"total_green\":{\"__ndarray__\":\"AAAAAACAVUAAAAAAAABVQAAAAAAAAExAAAAAAACAVUAAAAAAAABQQAAAAAAAgFFAAAAAAAAAVkAAAAAAAIBTQAAAAAAAAEVAAAAAAAAAQ0AAAAAAAABGQAAAAAAAAEdAAAAAAAAATUAAAAAAAABKQAAAAAAAAEtAAAAAAAAAQUAAAAAAAIBTQAAAAAAAAFVAAAAAAAAAUEAAAAAAAIBSQAAAAAAAAFFAAAAAAAAAUUAAAAAAAIBQQAAAAAAAgFFAAAAAAAAAUUAAAAAAAABOQAAAAAAAAEhAAAAAAAAATkAAAAAAAABIQAAAAAAAAEpAAAAAAAAAUUAAAAAAAIBRQA==\",\"dtype\":\"float64\",\"shape\":[32]},\"total_red\":{\"__ndarray__\":\"AAAAAACAVUAAAAAAAABVQAAAAAAAAExAAAAAAACAVUAAAAAAAABQQAAAAAAAgFFAAAAAAAAAVkAAAAAAAIBTQAAAAAAAAEVAAAAAAAAAQ0AAAAAAAABGQAAAAAAAAEdAAAAAAAAATUAAAAAAAABKQAAAAAAAAEtAAAAAAAAA+H8AAAAAAIBTQAAAAAAAAFVAAAAAAAAAUEAAAAAAAIBSQAAAAAAAAFFAAAAAAAAAUUAAAAAAAIBQQAAAAAAAgFFAAAAAAAAAUUAAAAAAAABOQAAAAAAAAEhAAAAAAAAATkAAAAAAAABIQAAAAAAAAEpAAAAAAAAAUUAAAAAAAIBRQA==\",\"dtype\":\"float64\",\"shape\":[32]},\"total_yellow\":{\"__ndarray__\":\"AAAAAACAVUAAAAAAAABVQAAAAAAAAExAAAAAAACAVUAAAAAAAABQQAAAAAAAgFFAAAAAAAAAVkAAAAAAAIBTQAAAAAAAAEVAAAAAAAAAQ0AAAAAAAABGQAAAAAAAAEdAAAAAAAAATUAAAAAAAABKQAAAAAAAAEtAAAAAAAAAQUAAAAAAAIBTQAAAAAAAAFVAAAAAAAAAUEAAAAAAAIBSQAAAAAAAAFFAAAAAAAAAUUAAAAAAAIBQQAAAAAAAgFFAAAAAAAAAUUAAAAAAAABOQAAAAAAAAEhAAAAAAAAATkAAAAAAAABIQAAAAAAAAEpAAAAAAAAAUUAAAAAAAIBRQA==\",\"dtype\":\"float64\",\"shape\":[32]}}},\"id\":\"d6d6318c-3cd1-48aa-bfc6-889f3149e4dc\",\"type\":\"ColumnDataSource\"},{\"attributes\":{\"axis_label\":\"Dates\",\"formatter\":{\"id\":\"73eff9ac-73d4-43fd-a200-04e89b45670a\",\"type\":\"CategoricalTickFormatter\"},\"major_label_orientation\":0.7853981633974483,\"plot\":{\"id\":\"b934c338-991a-4387-99fa-3543fd27b245\",\"subtype\":\"Figure\",\"type\":\"Plot\"},\"ticker\":{\"id\":\"90e65e62-feab-42f9-8c26-5cae9f5d0572\",\"type\":\"CategoricalTicker\"}},\"id\":\"de040156-e795-41e0-8001-14dc059a9ddf\",\"type\":\"CategoricalAxis\"},{\"attributes\":{},\"id\":\"73eff9ac-73d4-43fd-a200-04e89b45670a\",\"type\":\"CategoricalTickFormatter\"},{\"attributes\":{\"align\":\"center\",\"plot\":{\"id\":\"b934c338-991a-4387-99fa-3543fd27b245\",\"subtype\":\"Figure\",\"type\":\"Plot\"},\"text\":\"Thresholds per hour/day\",\"text_font_size\":{\"value\":\"12pt\"}},\"id\":\"8492081f-33ba-46fc-a607-a7259e81d778\",\"type\":\"Title\"},{\"attributes\":{\"data_source\":{\"id\":\"d6d6318c-3cd1-48aa-bfc6-889f3149e4dc\",\"type\":\"ColumnDataSource\"},\"glyph\":{\"id\":\"80b3dbc1-0d69-43df-9284-afd8a90d86a5\",\"type\":\"VBar\"},\"hover_glyph\":null,\"muted_glyph\":null,\"nonselection_glyph\":{\"id\":\"67c659ee-e004-447c-8072-0ba54925fe88\",\"type\":\"VBar\"},\"selection_glyph\":null},\"id\":\"cdae6ed8-e559-4919-834f-7eec6ae64f29\",\"type\":\"GlyphRenderer\"},{\"attributes\":{},\"id\":\"4b655955-b012-44f2-bb9f-f70bfd72c652\",\"type\":\"BasicTicker\"},{\"attributes\":{},\"id\":\"645e6750-896e-4083-9b6a-26957c54a95e\",\"type\":\"BasicTickFormatter\"}],\"root_ids\":[\"b934c338-991a-4387-99fa-3543fd27b245\"]},\"title\":\"Bokeh Application\",\"version\":\"0.12.6\"}};\n",
       "            var render_items = [{\"docid\":\"6dce6652-c201-444d-8db4-83c10b220ed7\",\"elementid\":\"a3b2e82b-9076-4957-b152-cf54289f5cf0\",\"modelid\":\"b934c338-991a-4387-99fa-3543fd27b245\"}];\n",
       "            \n",
       "            Bokeh.embed.embed_items(docs_json, render_items);\n",
       "          };\n",
       "          if (document.readyState != \"loading\") fn();\n",
       "          else document.addEventListener(\"DOMContentLoaded\", fn);\n",
       "        })();\n",
       "      },\n",
       "      function(Bokeh) {\n",
       "      }\n",
       "    ];\n",
       "  \n",
       "    function run_inline_js() {\n",
       "      \n",
       "      if ((window.Bokeh !== undefined) || (force === true)) {\n",
       "        for (var i = 0; i < inline_js.length; i++) {\n",
       "          inline_js[i](window.Bokeh);\n",
       "        }if (force === true) {\n",
       "          display_loaded();\n",
       "        }} else if (Date.now() < window._bokeh_timeout) {\n",
       "        setTimeout(run_inline_js, 100);\n",
       "      } else if (!window._bokeh_failed_load) {\n",
       "        console.log(\"Bokeh: BokehJS failed to load within specified timeout.\");\n",
       "        window._bokeh_failed_load = true;\n",
       "      } else if (force !== true) {\n",
       "        var cell = $(document.getElementById(\"a3b2e82b-9076-4957-b152-cf54289f5cf0\")).parents('.cell').data().cell;\n",
       "        cell.output_area.append_execute_result(NB_LOAD_WARNING)\n",
       "      }\n",
       "  \n",
       "    }\n",
       "  \n",
       "    if (window._bokeh_is_loading === 0) {\n",
       "      console.log(\"Bokeh: BokehJS loaded, going straight to plotting\");\n",
       "      run_inline_js();\n",
       "    } else {\n",
       "      load_libs(js_urls, function() {\n",
       "        console.log(\"Bokeh: BokehJS plotting callback run at\", now());\n",
       "        run_inline_js();\n",
       "      });\n",
       "    }\n",
       "  }(this));\n",
       "</script>"
      ]
     },
     "metadata": {},
     "output_type": "display_data"
    }
   ],
   "source": [
    "#Plotting hour day thresholds\n",
    "source = ColumnDataSource(hour_est_act_time_first)\n",
    "hover = HoverTool(tooltips=[\n",
    "    (\"pct. green\", \"@pct_green{(0.00%)}\"),\n",
    "    (\"pct. yellow\", \"@pct_yellow{(0.00%)}\"),\n",
    "    (\"pct. red\", \"@pct_red{(0.00%)}\"),\n",
    "    ])\n",
    "p = figure(plot_width=800, plot_height=400, x_range=list(hour_est_act_time_first[\"date\"]) ,x_axis_label=\"Dates\", \n",
    "        y_axis_label=\"Percentage\", tools=[hover])\n",
    "#Plotting green first\n",
    "p.vbar(x='date', width=0.7, top='pct_green', \n",
    "           color=\"#459E0F\", source=source)\n",
    "p.vbar(x='date', width=0.7, bottom='pct_green', top=\"pct_yellow_plot\",\n",
    "           color=\"#E4E02C\", source=source)\n",
    "p.vbar(x='date', width=0.7, bottom=\"pct_yellow_plot\", top=\"pct_red_plot\",\n",
    "           color=\"#E43216\", source=source)\n",
    "p.add_layout(Title(text=\"Thresholds per hour/day\", align=\"center\", text_font_size=\"12pt\"), \n",
    "             \"above\")\n",
    "p.xgrid.visible = False\n",
    "p.ygrid.visible = False\n",
    "p.xaxis.major_label_orientation = pi/4\n",
    "show(p)"
   ]
  },
  {
   "cell_type": "markdown",
   "metadata": {},
   "source": [
    "In terms of days and hours we can see that there are certain times where ally incurs in more delays. For example, on Friday, at initial hours, when the demand was very high, we can observe that the yellow and red regions are bigger than the green region. \n",
    "\n",
    "Interestingly, we can also observe this trend in low peak turns. See for example Saturday at 14 hours. Even though this was a relatively low peak moment (see Exploratory analysis), we can see that ally still incurs in some delays. There might be different reasons why this might be the case. For example, perhaps the routes requested at that hour were farther away or, perhaps, there was a traffic jam that delayed all services. This can be a task for further analysis."
   ]
  },
  {
   "cell_type": "markdown",
   "metadata": {},
   "source": [
    "# Conclusions "
   ]
  },
  {
   "cell_type": "markdown",
   "metadata": {},
   "source": [
    "In this analysis we check the differences between expected and actual times in the allygator shuttle service provided by door2door. In particular, we offered a way of clearly communicating and understanding the differences between these two measures both quantitatively and visually.\n",
    "\n",
    "Our indicator is inspired on a traffic light. We indicate three thresholds for actual pick ups and drop off times: within +/- 3 minutes of expected time (green light), +/- 3-7 minutes (yellow area) and >< 7 min (red light). The thresholds have been chosen based on author's customer experience. An improve upon this point could be to use actual consumer data to get thresholds based on their behavior.\n",
    "\n",
    "We separated the analysis in two measures of differences. First, we measure the differences between last expected time reported to the user and actual time of service. According to our analysis, two thirds of the services are in the green area, in other words, they take place within 3 minutes of expected time. This conclusions, in general, hold when analyzing drop offs and pick ups separately, although we could observe that the yellow area grows to 20% for the pick ups.\n",
    "\n",
    "As a next step we perform the same analysis but for the first expected time reported to the user when he/she request a ride. The logic behind this analysis is that user's experience with service may deteriorate if first expected time reported widely differs from actual time. Our analysis showed that while the difference do tend to be bigger than for the updated expected time, in general pick ups where still high in the green region. Drop offs do present more difference. In that case a bit more over 50% are caried out within 3 minutes. This gives considerable improving space for estimating and reporting the first drop off expectation.\n",
    "\n",
    "Finally, we conducted the same analysis but for hour/days of the service. As it was expected, times where the demand is higher is also related to more differences in expected vs. actual time. However, we have also spotted some low peak hours where differences between times are also considerable. This demands further analysis.\n",
    "\n",
    "\n"
   ]
  },
  {
   "cell_type": "code",
   "execution_count": null,
   "metadata": {
    "collapsed": true
   },
   "outputs": [],
   "source": []
  }
 ],
 "metadata": {
  "kernelspec": {
   "display_name": "Python 3",
   "language": "python",
   "name": "python3"
  },
  "language_info": {
   "codemirror_mode": {
    "name": "ipython",
    "version": 3
   },
   "file_extension": ".py",
   "mimetype": "text/x-python",
   "name": "python",
   "nbconvert_exporter": "python",
   "pygments_lexer": "ipython3",
   "version": "3.5.4"
  }
 },
 "nbformat": 4,
 "nbformat_minor": 2
}
