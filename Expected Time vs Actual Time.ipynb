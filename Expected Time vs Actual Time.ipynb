{
 "cells": [
  {
   "cell_type": "code",
   "execution_count": 1,
   "metadata": {},
   "outputs": [
    {
     "data": {
      "text/html": [
       "\n",
       "    <div class=\"bk-root\">\n",
       "        <a href=\"http://bokeh.pydata.org\" target=\"_blank\" class=\"bk-logo bk-logo-small bk-logo-notebook\"></a>\n",
       "        <span id=\"1a1ae957-e651-46de-aed6-0c7df4152a5e\">Loading BokehJS ...</span>\n",
       "    </div>"
      ]
     },
     "metadata": {},
     "output_type": "display_data"
    },
    {
     "data": {
      "application/javascript": [
       "\n",
       "(function(global) {\n",
       "  function now() {\n",
       "    return new Date();\n",
       "  }\n",
       "\n",
       "  var force = true;\n",
       "\n",
       "  if (typeof (window._bokeh_onload_callbacks) === \"undefined\" || force === true) {\n",
       "    window._bokeh_onload_callbacks = [];\n",
       "    window._bokeh_is_loading = undefined;\n",
       "  }\n",
       "\n",
       "\n",
       "  \n",
       "  if (typeof (window._bokeh_timeout) === \"undefined\" || force === true) {\n",
       "    window._bokeh_timeout = Date.now() + 5000;\n",
       "    window._bokeh_failed_load = false;\n",
       "  }\n",
       "\n",
       "  var NB_LOAD_WARNING = {'data': {'text/html':\n",
       "     \"<div style='background-color: #fdd'>\\n\"+\n",
       "     \"<p>\\n\"+\n",
       "     \"BokehJS does not appear to have successfully loaded. If loading BokehJS from CDN, this \\n\"+\n",
       "     \"may be due to a slow or bad network connection. Possible fixes:\\n\"+\n",
       "     \"</p>\\n\"+\n",
       "     \"<ul>\\n\"+\n",
       "     \"<li>re-rerun `output_notebook()` to attempt to load from CDN again, or</li>\\n\"+\n",
       "     \"<li>use INLINE resources instead, as so:</li>\\n\"+\n",
       "     \"</ul>\\n\"+\n",
       "     \"<code>\\n\"+\n",
       "     \"from bokeh.resources import INLINE\\n\"+\n",
       "     \"output_notebook(resources=INLINE)\\n\"+\n",
       "     \"</code>\\n\"+\n",
       "     \"</div>\"}};\n",
       "\n",
       "  function display_loaded() {\n",
       "    if (window.Bokeh !== undefined) {\n",
       "      var el = document.getElementById(\"1a1ae957-e651-46de-aed6-0c7df4152a5e\");\n",
       "      el.textContent = \"BokehJS \" + Bokeh.version + \" successfully loaded.\";\n",
       "    } else if (Date.now() < window._bokeh_timeout) {\n",
       "      setTimeout(display_loaded, 100)\n",
       "    }\n",
       "  }\n",
       "\n",
       "  function run_callbacks() {\n",
       "    try {\n",
       "      window._bokeh_onload_callbacks.forEach(function(callback) { callback() });\n",
       "    }\n",
       "    finally {\n",
       "      delete window._bokeh_onload_callbacks\n",
       "    }\n",
       "    console.info(\"Bokeh: all callbacks have finished\");\n",
       "  }\n",
       "\n",
       "  function load_libs(js_urls, callback) {\n",
       "    window._bokeh_onload_callbacks.push(callback);\n",
       "    if (window._bokeh_is_loading > 0) {\n",
       "      console.log(\"Bokeh: BokehJS is being loaded, scheduling callback at\", now());\n",
       "      return null;\n",
       "    }\n",
       "    if (js_urls == null || js_urls.length === 0) {\n",
       "      run_callbacks();\n",
       "      return null;\n",
       "    }\n",
       "    console.log(\"Bokeh: BokehJS not loaded, scheduling load and callback at\", now());\n",
       "    window._bokeh_is_loading = js_urls.length;\n",
       "    for (var i = 0; i < js_urls.length; i++) {\n",
       "      var url = js_urls[i];\n",
       "      var s = document.createElement('script');\n",
       "      s.src = url;\n",
       "      s.async = false;\n",
       "      s.onreadystatechange = s.onload = function() {\n",
       "        window._bokeh_is_loading--;\n",
       "        if (window._bokeh_is_loading === 0) {\n",
       "          console.log(\"Bokeh: all BokehJS libraries loaded\");\n",
       "          run_callbacks()\n",
       "        }\n",
       "      };\n",
       "      s.onerror = function() {\n",
       "        console.warn(\"failed to load library \" + url);\n",
       "      };\n",
       "      console.log(\"Bokeh: injecting script tag for BokehJS library: \", url);\n",
       "      document.getElementsByTagName(\"head\")[0].appendChild(s);\n",
       "    }\n",
       "  };var element = document.getElementById(\"1a1ae957-e651-46de-aed6-0c7df4152a5e\");\n",
       "  if (element == null) {\n",
       "    console.log(\"Bokeh: ERROR: autoload.js configured with elementid '1a1ae957-e651-46de-aed6-0c7df4152a5e' but no matching script tag was found. \")\n",
       "    return false;\n",
       "  }\n",
       "\n",
       "  var js_urls = [\"https://cdn.pydata.org/bokeh/release/bokeh-0.12.6.min.js\", \"https://cdn.pydata.org/bokeh/release/bokeh-widgets-0.12.6.min.js\"];\n",
       "\n",
       "  var inline_js = [\n",
       "    function(Bokeh) {\n",
       "      Bokeh.set_log_level(\"info\");\n",
       "    },\n",
       "    \n",
       "    function(Bokeh) {\n",
       "      \n",
       "    },\n",
       "    \n",
       "    function(Bokeh) {\n",
       "      \n",
       "      document.getElementById(\"1a1ae957-e651-46de-aed6-0c7df4152a5e\").textContent = \"BokehJS is loading...\";\n",
       "    },\n",
       "    function(Bokeh) {\n",
       "      console.log(\"Bokeh: injecting CSS: https://cdn.pydata.org/bokeh/release/bokeh-0.12.6.min.css\");\n",
       "      Bokeh.embed.inject_css(\"https://cdn.pydata.org/bokeh/release/bokeh-0.12.6.min.css\");\n",
       "      console.log(\"Bokeh: injecting CSS: https://cdn.pydata.org/bokeh/release/bokeh-widgets-0.12.6.min.css\");\n",
       "      Bokeh.embed.inject_css(\"https://cdn.pydata.org/bokeh/release/bokeh-widgets-0.12.6.min.css\");\n",
       "    }\n",
       "  ];\n",
       "\n",
       "  function run_inline_js() {\n",
       "    \n",
       "    if ((window.Bokeh !== undefined) || (force === true)) {\n",
       "      for (var i = 0; i < inline_js.length; i++) {\n",
       "        inline_js[i](window.Bokeh);\n",
       "      }if (force === true) {\n",
       "        display_loaded();\n",
       "      }} else if (Date.now() < window._bokeh_timeout) {\n",
       "      setTimeout(run_inline_js, 100);\n",
       "    } else if (!window._bokeh_failed_load) {\n",
       "      console.log(\"Bokeh: BokehJS failed to load within specified timeout.\");\n",
       "      window._bokeh_failed_load = true;\n",
       "    } else if (force !== true) {\n",
       "      var cell = $(document.getElementById(\"1a1ae957-e651-46de-aed6-0c7df4152a5e\")).parents('.cell').data().cell;\n",
       "      cell.output_area.append_execute_result(NB_LOAD_WARNING)\n",
       "    }\n",
       "\n",
       "  }\n",
       "\n",
       "  if (window._bokeh_is_loading === 0) {\n",
       "    console.log(\"Bokeh: BokehJS loaded, going straight to plotting\");\n",
       "    run_inline_js();\n",
       "  } else {\n",
       "    load_libs(js_urls, function() {\n",
       "      console.log(\"Bokeh: BokehJS plotting callback run at\", now());\n",
       "      run_inline_js();\n",
       "    });\n",
       "  }\n",
       "}(this));"
      ]
     },
     "metadata": {},
     "output_type": "display_data"
    }
   ],
   "source": [
    "import datetime\n",
    "import numpy as np\n",
    "import pandas as pd\n",
    "import matplotlib.pyplot as plt\n",
    "import seaborn as sns\n",
    "from bokeh.plotting import figure, show, ColumnDataSource\n",
    "from bokeh.io import output_notebook, export_svgs\n",
    "from bokeh.models import Title, HoverTool, Legend, LinearColorMapper, ColorBar, BasicTicker, Range1d, Label, Div\n",
    "from bokeh.layouts import row, column, gridplot\n",
    "from math import pi\n",
    "output_notebook()\n",
    "%matplotlib inline"
   ]
  },
  {
   "cell_type": "markdown",
   "metadata": {},
   "source": [
    "# Expected Time vs. Actual Time\n",
    "\n",
    "In this notebook, we will respond the question on how to measure and to report the expected time vs. actual time differences. In particular, we will propose an indicator that is clear and simple enought to capture the differences between these two measures."
   ]
  },
  {
   "cell_type": "code",
   "execution_count": 2,
   "metadata": {
    "collapsed": true
   },
   "outputs": [],
   "source": [
    "pick_drop = pd.read_pickle('data/pick_drop_data')\n",
    "booking_data = pd.read_pickle('data/bookings_data')"
   ]
  },
  {
   "cell_type": "code",
   "execution_count": 3,
   "metadata": {},
   "outputs": [
    {
     "data": {
      "text/plain": [
       "2110"
      ]
     },
     "execution_count": 3,
     "metadata": {},
     "output_type": "execute_result"
    }
   ],
   "source": [
    "pick_drop[\"actual_time_utc_berlin\"].notnull().sum()"
   ]
  },
  {
   "cell_type": "code",
   "execution_count": 4,
   "metadata": {},
   "outputs": [
    {
     "data": {
      "text/plain": [
       "1098"
      ]
     },
     "execution_count": 4,
     "metadata": {},
     "output_type": "execute_result"
    }
   ],
   "source": [
    "((pick_drop[\"actual_time_utc_berlin\"].notnull()) &  (pick_drop[\"type\"] == \"pickup\")).sum()"
   ]
  },
  {
   "cell_type": "code",
   "execution_count": 5,
   "metadata": {},
   "outputs": [
    {
     "data": {
      "text/plain": [
       "1012"
      ]
     },
     "execution_count": 5,
     "metadata": {},
     "output_type": "execute_result"
    }
   ],
   "source": [
    "((pick_drop[\"actual_time_utc_berlin\"].notnull()) &  (pick_drop[\"type\"] == \"dropoff\")).sum()"
   ]
  },
  {
   "cell_type": "markdown",
   "metadata": {},
   "source": [
    "Checking our data, we noticed that there are a total of 2110 observations in our `pick_drop` data set that have an actual time of pick up. Note that this can be further divided in pick ups and drops offs. \n",
    "\n",
    "As we noticed in the data validation part of our analysis, there were some cases where services actually counted with an actual time of service stamp, however they were classified as cancelled. Here, we notice that those cases are related to when the driver has cancelled the service. We show that in what follows."
   ]
  },
  {
   "cell_type": "code",
   "execution_count": 6,
   "metadata": {},
   "outputs": [
    {
     "data": {
      "text/plain": [
       "set()"
      ]
     },
     "execution_count": 6,
     "metadata": {},
     "output_type": "execute_result"
    }
   ],
   "source": [
    "#Get pick ups cancelled where there is an actual time of service\n",
    "bookings_pick_up_canceled = pick_drop[pick_drop[\"actual_time_utc_berlin\"].notnull() &  \n",
    "                                      (pick_drop[\"type\"] == \"pickup\") & \n",
    "                                      (pick_drop[\"status\"] == \"cancelled\")]\n",
    "#Get all bookings cancelled by driver\n",
    "bookings_driver_cancelled = booking_data[booking_data['cancelled_by'] == 'driver']\n",
    "#See if there is a difference - NO difference.\n",
    "set(bookings_pick_up_canceled['booking_id']).difference(set(bookings_driver_cancelled['booking_id']))"
   ]
  },
  {
   "cell_type": "markdown",
   "metadata": {},
   "source": [
    "### Should cancelled pick ups be part of the analysis?\n",
    "\n",
    "While this might be a point for discussion, we think that cancelled pick ups by the driver should not be part of the expected time vs. actual time analysis. We believe that the cancelled pick ups by the driver might have other motivations (user was never in the place, user forgot to cancel service, etc) than waiting. \n",
    "\n",
    "In this sense, the actual vs. expected time analysis wants to deal with how the difference affect the service experience. If there was no service to the user to begin with and no waiting time, it is difficult to see how this has affected the quality of the service. We decide, therefore, to exclude these points from our analysis."
   ]
  },
  {
   "cell_type": "code",
   "execution_count": 7,
   "metadata": {
    "collapsed": true
   },
   "outputs": [],
   "source": [
    "exp_act_time = pick_drop[(pick_drop[\"actual_time_utc_berlin\"].notnull()) \n",
    "          & ~(pick_drop[\"status\"] == \"cancelled\")].reset_index()"
   ]
  },
  {
   "cell_type": "code",
   "execution_count": 8,
   "metadata": {
    "collapsed": true
   },
   "outputs": [],
   "source": [
    "#Finding time differences\n",
    "def diff(row,t1,t2):\n",
    "    \"\"\"\n",
    "    t1: Timestamp object.\n",
    "    t2: Timestamp oject.\n",
    "    \"\"\"\n",
    "    d = row[t1]-row[t2]\n",
    "    diff_seconds = d.total_seconds()\n",
    "    return diff_seconds"
   ]
  },
  {
   "cell_type": "code",
   "execution_count": 9,
   "metadata": {
    "collapsed": true
   },
   "outputs": [],
   "source": [
    "exp_act_time.loc[:,\"time_diff\"] = exp_act_time.apply(diff, t1='actual_time_utc_berlin', \n",
    "                                                     t2='estimated_time_utc_berlin', axis=1)"
   ]
  },
  {
   "cell_type": "code",
   "execution_count": 10,
   "metadata": {
    "collapsed": true
   },
   "outputs": [],
   "source": [
    "def print_stats(df, column):\n",
    "    \"\"\"\n",
    "    df: pandas dataframe object.\n",
    "    column: (str) column name belonging to dataframe.\n",
    "    \"\"\"\n",
    "    total_hours_diff = df[column].sum() / (60*60)\n",
    "    avg_total_hours_diff = df[column].sum() / len(exp_act_time)\n",
    "    sd_total_hours_diff = df[column].std()\n",
    "    print(\"Total difference (hours): {:.3f}\".format(total_hours_diff))\n",
    "    print(\"Average (seconds): {:.3f}\".format(avg_total_hours_diff))\n",
    "    print(\"Standard deviation (seconds): {:.3f}\".format(sd_total_hours_diff))\n"
   ]
  },
  {
   "cell_type": "code",
   "execution_count": 11,
   "metadata": {},
   "outputs": [
    {
     "name": "stdout",
     "output_type": "stream",
     "text": [
      "Total difference (hours): 31.382\n",
      "Average (seconds): 55.762\n",
      "Standard deviation (seconds): 254.066\n"
     ]
    }
   ],
   "source": [
    "print_stats(exp_act_time,\"time_diff\")"
   ]
  },
  {
   "cell_type": "code",
   "execution_count": 12,
   "metadata": {
    "collapsed": true
   },
   "outputs": [],
   "source": [
    "#Passing time difference to minutes\n",
    "exp_act_time[\"time_diff_min\"] = exp_act_time[\"time_diff\"]/60"
   ]
  },
  {
   "cell_type": "code",
   "execution_count": 13,
   "metadata": {},
   "outputs": [
    {
     "data": {
      "image/png": "[encoded data removed]",
      "text/plain": [
       "<matplotlib.figure.Figure at 0x117bf6be0>"
      ]
     },
     "metadata": {},
     "output_type": "display_data"
    }
   ],
   "source": [
    "#Plotting distribution of expected vs. actual difference\n",
    "fig, ax = plt.subplots(figsize=(10,5))\n",
    "sns.distplot(exp_act_time[\"time_diff_min\"], kde=False, ax=ax)\n",
    "ax.set_xlabel(\"Time difference\")\n",
    "ax.set_ylabel(\"Counts minutes\")\n",
    "ax.set_title(\"Distribution of difference \\n Actual Time Expected Time (minutes)\")\n",
    "ax.axvline(0, color=\"#44999E\", linestyle='--');"
   ]
  },
  {
   "cell_type": "markdown",
   "metadata": {},
   "source": [
    "Looking at the distribution of total seconds difference between actual time and expected time, we see that this has roughly the form of a bell shape. Note, however, that the distribution tends to be shifted towards the positive values. This explains why the total sum is positive (31 hours difference in total approx). \n",
    "\n",
    "As an additional, there are some outliers worth mentioning. For example, the case with the highest difference between both values is almost an hour: 58 minutes, 53 seconds.\n",
    "\n",
    "The average difference between both measures is not bad. In total we have that approximately there is a 55 second differences. However, the standard deviation tells us that this distribution is quite spread. Therefore, it is important to understand well the cases when there is a mismatch between actual and expected time."
   ]
  },
  {
   "cell_type": "code",
   "execution_count": 14,
   "metadata": {
    "collapsed": true
   },
   "outputs": [],
   "source": [
    "def get_thresholds_groups(df, column):\n",
    "    \"\"\"Creates columns needed in a dataset given the appropriate column\"\"\"\n",
    "    df[\"time_thresholds\"] = pd.cut(df[column], [-100,-7,-3,0,3,7,100])\n",
    "    #Check that cut do not generate empty cells (so every observation is within a category)\n",
    "    if df[\"time_thresholds\"].isnull().sum() == 0:\n",
    "        group_threshold = df.groupby(\"time_thresholds\")['booking_id'].aggregate(lambda x: len(x) / len(df)).reset_index()\n",
    "        group_threshold = group_threshold.rename(columns={\"booking_id\": \"pct\"})\n",
    "        colors = [\"#E43216\", \"#E4E02C\", \"#459E0F\"]\n",
    "        colors.extend(colors[::-1])\n",
    "        group_threshold[\"colors\"] = colors\n",
    "        return group_threshold\n",
    "\n",
    "def get_region_threshold_groups(df, column):\n",
    "    colors_dict = {\"#E43216\":\"red\", \"#E4E02C\":\"yellow\", \"#459E0F\":\"green\"}\n",
    "    region_group = df.groupby(column).agg({'pct': np.sum}).reset_index()\n",
    "    region_group[\"thresholds\"] = region_group[\"colors\"].map(lambda x: colors_dict[x])\n",
    "    region_group[\"thresholds\"] = pd.Categorical(region_group[\"thresholds\"], [\"green\", \"yellow\", \"red\"])\n",
    "    #Getting extra index for easier plotting \n",
    "    region_group = region_group.sort_values(by=\"thresholds\").reset_index()\n",
    "    region_group[\"thresholds\"] = region_group[\"thresholds\"].astype(object)\n",
    "    return region_group"
   ]
  },
  {
   "cell_type": "code",
   "execution_count": 15,
   "metadata": {
    "collapsed": true
   },
   "outputs": [],
   "source": [
    "def plot_horizontal_time_thresholds(df, plot_w, plot_h, pct_column, colors_column, title):\n",
    "    \"\"\"\n",
    "    df: pandas dataframe.\n",
    "    plot_w: (int) plot width\n",
    "    plot_h: (int) plot height\n",
    "    pct_col: (str) column that includes percentages\n",
    "    colors_column: (str) color column for different categories\n",
    "    title: (str) title of plot\n",
    "    \"\"\"\n",
    "    p = figure(plot_width=plot_w, plot_height=plot_h)\n",
    "\n",
    "    #Cases where actual time less than expected time\n",
    "    perct_neg_acc = 0\n",
    "    for i in list(range(0,3))[::-1]:\n",
    "        p.hbar(y=1, height=0.3, left=-df[pct_column][i] + perct_neg_acc,\n",
    "           right=perct_neg_acc, color=df[colors_column][i] )\n",
    "        p.line(x=[perct_neg_acc, perct_neg_acc], y=[0.5, 1.5], line_width=2, color=\"#AAB2A5\", line_dash=\"dashed\")\n",
    "        perct_neg_acc -= df[pct_column][i]\n",
    "    \n",
    "    #Cases where expected time less than actual time    \n",
    "    perc_pos_acc = 0\n",
    "    for i in list(range(3,6)):\n",
    "        p.hbar(y=1, height=0.3, left=perc_pos_acc,\n",
    "           right = df[pct_column][i] + perc_pos_acc, color=df[colors_column][i])\n",
    "        p.line(x=[perc_pos_acc, perc_pos_acc], y=[0.5, 1.5], line_width=2, color=\"#AAB2A5\", line_dash=\"dashed\")\n",
    "        perc_pos_acc += df[pct_column][i]\n",
    "        \n",
    "    p.y_range = Range1d(0, 2)\n",
    "    p.add_layout(Title(text=title, align=\"center\", text_font_size=\"10pt\"), \n",
    "             \"above\")\n",
    "    p.xgrid.grid_line_color = None\n",
    "    p.ygrid.grid_line_color = None\n",
    "    p.yaxis.visible = False\n",
    "    return p"
   ]
  },
  {
   "cell_type": "code",
   "execution_count": 16,
   "metadata": {
    "collapsed": true
   },
   "outputs": [],
   "source": [
    "def plot_total_pct_thresholds(df, plot_w, plot_h, index_col,  pct_column, color_column, title):\n",
    "    \"\"\"\n",
    "    df: pandas dataframe.\n",
    "    plot_w: (int) plot width\n",
    "    plot_h: (int) plot height\n",
    "    index_col: (str) column that contains index of dataset\n",
    "    pct_col: (str) column that includes percentages\n",
    "    color_column: (str) color column for different categories\n",
    "    title: (str) title of plot\n",
    "    \"\"\"\n",
    "    \n",
    "    source = ColumnDataSource(df)    \n",
    "    hover = HoverTool(tooltips=[\n",
    "        (\"pct\", \"@\"+ pct_column +\"{(0.00%)}\")\n",
    "    ])\n",
    "\n",
    "    total_perc = figure(plot_width=plot_w, plot_height=plot_h, tools=[hover])\n",
    "    total_perc.add_layout(Title(text=title, align=\"center\", text_font_size=\"10pt\"), \n",
    "             \"above\")\n",
    "\n",
    "    total_perc.vbar(x=index_col, top=pct_column, color=color_column, source= source, width=0.6)\n",
    "    \n",
    "    return total_perc"
   ]
  },
  {
   "cell_type": "code",
   "execution_count": 17,
   "metadata": {
    "collapsed": true
   },
   "outputs": [],
   "source": [
    "group_threshold = get_thresholds_groups(exp_act_time, \"time_diff_min\")\n",
    "region_group = get_region_threshold_groups(group_threshold, \"colors\")"
   ]
  },
  {
   "cell_type": "code",
   "execution_count": 18,
   "metadata": {},
   "outputs": [
    {
     "data": {
      "text/html": [
       "\n",
       "\n",
       "    <div class=\"bk-root\">\n",
       "        <div class=\"bk-plotdiv\" id=\"18e45e61-bdfc-4635-bf0c-52c6c0f33d9e\"></div>\n",
       "    </div>\n",
       "<script type=\"text/javascript\">\n",
       "  \n",
       "  (function(global) {\n",
       "    function now() {\n",
       "      return new Date();\n",
       "    }\n",
       "  \n",
       "    var force = false;\n",
       "  \n",
       "    if (typeof (window._bokeh_onload_callbacks) === \"undefined\" || force === true) {\n",
       "      window._bokeh_onload_callbacks = [];\n",
       "      window._bokeh_is_loading = undefined;\n",
       "    }\n",
       "  \n",
       "  \n",
       "    \n",
       "    if (typeof (window._bokeh_timeout) === \"undefined\" || force === true) {\n",
       "      window._bokeh_timeout = Date.now() + 0;\n",
       "      window._bokeh_failed_load = false;\n",
       "    }\n",
       "  \n",
       "    var NB_LOAD_WARNING = {'data': {'text/html':\n",
       "       \"<div style='background-color: #fdd'>\\n\"+\n",
       "       \"<p>\\n\"+\n",
       "       \"BokehJS does not appear to have successfully loaded. If loading BokehJS from CDN, this \\n\"+\n",
       "       \"may be due to a slow or bad network connection. Possible fixes:\\n\"+\n",
       "       \"</p>\\n\"+\n",
       "       \"<ul>\\n\"+\n",
       "       \"<li>re-rerun `output_notebook()` to attempt to load from CDN again, or</li>\\n\"+\n",
       "       \"<li>use INLINE resources instead, as so:</li>\\n\"+\n",
       "       \"</ul>\\n\"+\n",
       "       \"<code>\\n\"+\n",
       "       \"from bokeh.resources import INLINE\\n\"+\n",
       "       \"output_notebook(resources=INLINE)\\n\"+\n",
       "       \"</code>\\n\"+\n",
       "       \"</div>\"}};\n",
       "  \n",
       "    function display_loaded() {\n",
       "      if (window.Bokeh !== undefined) {\n",
       "        var el = document.getElementById(\"18e45e61-bdfc-4635-bf0c-52c6c0f33d9e\");\n",
       "        el.textContent = \"BokehJS \" + Bokeh.version + \" successfully loaded.\";\n",
       "      } else if (Date.now() < window._bokeh_timeout) {\n",
       "        setTimeout(display_loaded, 100)\n",
       "      }\n",
       "    }\n",
       "  \n",
       "    function run_callbacks() {\n",
       "      try {\n",
       "        window._bokeh_onload_callbacks.forEach(function(callback) { callback() });\n",
       "      }\n",
       "      finally {\n",
       "        delete window._bokeh_onload_callbacks\n",
       "      }\n",
       "      console.info(\"Bokeh: all callbacks have finished\");\n",
       "    }\n",
       "  \n",
       "    function load_libs(js_urls, callback) {\n",
       "      window._bokeh_onload_callbacks.push(callback);\n",
       "      if (window._bokeh_is_loading > 0) {\n",
       "        console.log(\"Bokeh: BokehJS is being loaded, scheduling callback at\", now());\n",
       "        return null;\n",
       "      }\n",
       "      if (js_urls == null || js_urls.length === 0) {\n",
       "        run_callbacks();\n",
       "        return null;\n",
       "      }\n",
       "      console.log(\"Bokeh: BokehJS not loaded, scheduling load and callback at\", now());\n",
       "      window._bokeh_is_loading = js_urls.length;\n",
       "      for (var i = 0; i < js_urls.length; i++) {\n",
       "        var url = js_urls[i];\n",
       "        var s = document.createElement('script');\n",
       "        s.src = url;\n",
       "        s.async = false;\n",
       "        s.onreadystatechange = s.onload = function() {\n",
       "          window._bokeh_is_loading--;\n",
       "          if (window._bokeh_is_loading === 0) {\n",
       "            console.log(\"Bokeh: all BokehJS libraries loaded\");\n",
       "            run_callbacks()\n",
       "          }\n",
       "        };\n",
       "        s.onerror = function() {\n",
       "          console.warn(\"failed to load library \" + url);\n",
       "        };\n",
       "        console.log(\"Bokeh: injecting script tag for BokehJS library: \", url);\n",
       "        document.getElementsByTagName(\"head\")[0].appendChild(s);\n",
       "      }\n",
       "    };var element = document.getElementById(\"18e45e61-bdfc-4635-bf0c-52c6c0f33d9e\");\n",
       "    if (element == null) {\n",
       "      console.log(\"Bokeh: ERROR: autoload.js configured with elementid '18e45e61-bdfc-4635-bf0c-52c6c0f33d9e' but no matching script tag was found. \")\n",
       "      return false;\n",
       "    }\n",
       "  \n",
       "    var js_urls = [];\n",
       "  \n",
       "    var inline_js = [\n",
       "      function(Bokeh) {\n",
       "        (function() {\n",
       "          var fn = function() {\n",
       "            var docs_json = {\"83fde773-4385-488c-9910-a66dbe6f6d5a\":{\"roots\":{\"references\":[{\"attributes\":{\"plot\":{\"id\":\"0e3f785e-207a-4f84-9994-0af10e80dd86\",\"subtype\":\"Figure\",\"type\":\"Plot\"},\"ticker\":{\"id\":\"a99b73ed-f7d0-431a-94f9-9b278bfc41dc\",\"type\":\"BasicTicker\"}},\"id\":\"07b993a1-b20c-4c22-92a2-961305efb4f3\",\"type\":\"Grid\"},{\"attributes\":{\"fill_color\":{\"value\":\"#459E0F\"},\"height\":{\"value\":0.3},\"line_color\":{\"value\":\"#459E0F\"},\"right\":{\"value\":0.3884501480750247},\"y\":{\"value\":1}},\"id\":\"dec59f17-20b1-4240-bf65-104d3f51ca47\",\"type\":\"HBar\"},{\"attributes\":{\"callback\":null,\"end\":2},\"id\":\"52b33f55-5bc8-4969-927a-296f811f2a33\",\"type\":\"Range1d\"},{\"attributes\":{\"callback\":null},\"id\":\"829806ce-a1dc-4c4c-b7a6-823a455cbb9f\",\"type\":\"DataRange1d\"},{\"attributes\":{\"callback\":null},\"id\":\"fa3b7ecf-0809-4c66-8814-ec56b78ec73d\",\"type\":\"DataRange1d\"},{\"attributes\":{\"dimension\":1,\"plot\":{\"id\":\"0e3f785e-207a-4f84-9994-0af10e80dd86\",\"subtype\":\"Figure\",\"type\":\"Plot\"},\"ticker\":{\"id\":\"4615a410-2e44-420c-81a0-5fb5a206fdcc\",\"type\":\"BasicTicker\"}},\"id\":\"cdbbc28b-e4db-48d3-8b79-169fae1169d1\",\"type\":\"Grid\"},{\"attributes\":{\"line_color\":{\"value\":\"#AAB2A5\"},\"line_dash\":[6],\"line_width\":{\"value\":2},\"x\":{\"field\":\"x\"},\"y\":{\"field\":\"y\"}},\"id\":\"ae9028e5-314e-4a48-86b5-56ef4430465d\",\"type\":\"Line\"},{\"attributes\":{\"data_source\":{\"id\":\"d852c38e-bee5-4fe4-90b6-fbfeaea854f3\",\"type\":\"ColumnDataSource\"},\"glyph\":{\"id\":\"cee21401-ee40-4439-8816-1ab0792ac56c\",\"type\":\"HBar\"},\"hover_glyph\":null,\"muted_glyph\":null,\"nonselection_glyph\":{\"id\":\"5e33b0ac-274b-47ab-a3b7-a71ef0b9cf5c\",\"type\":\"HBar\"},\"selection_glyph\":null},\"id\":\"c0c5c304-7fd5-4a0f-8253-bc33c92e4ebb\",\"type\":\"GlyphRenderer\"},{\"attributes\":{\"fill_alpha\":{\"value\":0.1},\"fill_color\":{\"value\":\"#1f77b4\"},\"height\":{\"value\":0.3},\"left\":{\"value\":-0.3677196446199408},\"line_alpha\":{\"value\":0.1},\"line_color\":{\"value\":\"#1f77b4\"},\"right\":{\"value\":0},\"y\":{\"value\":1}},\"id\":\"3db559f6-7609-489a-b77d-9643ebafb920\",\"type\":\"HBar\"},{\"attributes\":{\"data_source\":{\"id\":\"ef170f3e-d904-4412-90c7-00d8a6b00167\",\"type\":\"ColumnDataSource\"},\"glyph\":{\"id\":\"83986dd2-1e7e-43bf-9460-750c7e37ff9a\",\"type\":\"VBar\"},\"hover_glyph\":null,\"muted_glyph\":null,\"nonselection_glyph\":{\"id\":\"b0a3872a-7895-4316-9246-d1d28e911033\",\"type\":\"VBar\"},\"selection_glyph\":null},\"id\":\"2b437b77-b753-4900-9f85-39e5c9329ed5\",\"type\":\"GlyphRenderer\"},{\"attributes\":{\"line_color\":{\"value\":\"#AAB2A5\"},\"line_dash\":[6],\"line_width\":{\"value\":2},\"x\":{\"field\":\"x\"},\"y\":{\"field\":\"y\"}},\"id\":\"59d47771-f11f-41e7-ad47-14be4c94a0f5\",\"type\":\"Line\"},{\"attributes\":{\"data_source\":{\"id\":\"c5d4b65e-7292-468b-99c9-6a95b6baab83\",\"type\":\"ColumnDataSource\"},\"glyph\":{\"id\":\"88eb0197-b906-4677-abb7-50af15860927\",\"type\":\"HBar\"},\"hover_glyph\":null,\"muted_glyph\":null,\"nonselection_glyph\":{\"id\":\"3db559f6-7609-489a-b77d-9643ebafb920\",\"type\":\"HBar\"},\"selection_glyph\":null},\"id\":\"0c8ff32d-89c1-4776-9226-aba83e99191a\",\"type\":\"GlyphRenderer\"},{\"attributes\":{\"fill_alpha\":{\"value\":0.1},\"fill_color\":{\"value\":\"#1f77b4\"},\"height\":{\"value\":0.3},\"left\":{\"value\":-0.4378084896347483},\"line_alpha\":{\"value\":0.1},\"line_color\":{\"value\":\"#1f77b4\"},\"right\":{\"value\":-0.430898321816387},\"y\":{\"value\":1}},\"id\":\"c2d2e851-3af4-4e7d-ae10-9c1e0ea92e01\",\"type\":\"HBar\"},{\"attributes\":{\"data_source\":{\"id\":\"1c257625-8d2f-4800-862c-fb280846b763\",\"type\":\"ColumnDataSource\"},\"glyph\":{\"id\":\"2c9a22ac-bed8-481b-a5b0-6fe7914abbe8\",\"type\":\"Line\"},\"hover_glyph\":null,\"muted_glyph\":null,\"nonselection_glyph\":{\"id\":\"49fb7601-22aa-408f-8204-ab28d41c90b8\",\"type\":\"Line\"},\"selection_glyph\":null},\"id\":\"6c33448c-f6fb-4e04-9337-d673c6b679e1\",\"type\":\"GlyphRenderer\"},{\"attributes\":{\"line_color\":{\"value\":\"#AAB2A5\"},\"line_dash\":[6],\"line_width\":{\"value\":2},\"x\":{\"field\":\"x\"},\"y\":{\"field\":\"y\"}},\"id\":\"2c9a22ac-bed8-481b-a5b0-6fe7914abbe8\",\"type\":\"Line\"},{\"attributes\":{\"fill_color\":{\"value\":\"#E43216\"},\"height\":{\"value\":0.3},\"left\":{\"value\":0.510365251727542},\"line_color\":{\"value\":\"#E43216\"},\"right\":{\"value\":0.5621915103652517},\"y\":{\"value\":1}},\"id\":\"3a10a4a4-5bc8-4915-ba4e-e502f77ef7c5\",\"type\":\"HBar\"},{\"attributes\":{},\"id\":\"23faee75-39e2-4871-818f-152714cedb60\",\"type\":\"ToolEvents\"},{\"attributes\":{\"overlay\":{\"id\":\"dee5e455-37c3-4077-a913-2ced5b3bf765\",\"type\":\"BoxAnnotation\"},\"plot\":{\"id\":\"40e0e3dd-807b-4e44-b685-65272f6f51f5\",\"subtype\":\"Figure\",\"type\":\"Plot\"}},\"id\":\"fbae15d9-a6f1-4df2-8304-aba16a4f67d2\",\"type\":\"BoxZoomTool\"},{\"attributes\":{\"fill_color\":{\"value\":\"#E4E02C\"},\"height\":{\"value\":0.3},\"left\":{\"value\":-0.430898321816387},\"line_color\":{\"value\":\"#E4E02C\"},\"right\":{\"value\":-0.3677196446199408},\"y\":{\"value\":1}},\"id\":\"d76ba631-5fbc-4bec-a18b-8a69fc29282c\",\"type\":\"HBar\"},{\"attributes\":{\"line_alpha\":{\"value\":0.1},\"line_color\":{\"value\":\"#1f77b4\"},\"line_dash\":[6],\"line_width\":{\"value\":2},\"x\":{\"field\":\"x\"},\"y\":{\"field\":\"y\"}},\"id\":\"f0c81b93-2a43-4b92-aaba-22754ee707df\",\"type\":\"Line\"},{\"attributes\":{},\"id\":\"c597455c-32cc-406f-ae3d-486abb0eb38e\",\"type\":\"BasicTickFormatter\"},{\"attributes\":{\"data_source\":{\"id\":\"ace4a145-b7c5-43ea-b270-6768887a9531\",\"type\":\"ColumnDataSource\"},\"glyph\":{\"id\":\"c85096c2-511a-41d3-bcf5-6f47a2461ab0\",\"type\":\"HBar\"},\"hover_glyph\":null,\"muted_glyph\":null,\"nonselection_glyph\":{\"id\":\"c2d2e851-3af4-4e7d-ae10-9c1e0ea92e01\",\"type\":\"HBar\"},\"selection_glyph\":null},\"id\":\"c2db45f1-1cb2-4811-96d4-0ccd252d4eaf\",\"type\":\"GlyphRenderer\"},{\"attributes\":{\"fill_color\":{\"field\":\"colors\"},\"line_color\":{\"field\":\"colors\"},\"top\":{\"field\":\"pct\"},\"width\":{\"value\":0.6},\"x\":{\"field\":\"index\"}},\"id\":\"83986dd2-1e7e-43bf-9460-750c7e37ff9a\",\"type\":\"VBar\"},{\"attributes\":{\"fill_color\":{\"value\":\"#459E0F\"},\"height\":{\"value\":0.3},\"left\":{\"value\":-0.3677196446199408},\"line_color\":{\"value\":\"#459E0F\"},\"right\":{\"value\":0},\"y\":{\"value\":1}},\"id\":\"88eb0197-b906-4677-abb7-50af15860927\",\"type\":\"HBar\"},{\"attributes\":{},\"id\":\"db10bca3-828c-4f13-aa87-67325f495c8a\",\"type\":\"LinearScale\"},{\"attributes\":{\"data_source\":{\"id\":\"4a7d46f3-5fde-4fb2-b326-a994a0419cc3\",\"type\":\"ColumnDataSource\"},\"glyph\":{\"id\":\"59d47771-f11f-41e7-ad47-14be4c94a0f5\",\"type\":\"Line\"},\"hover_glyph\":null,\"muted_glyph\":null,\"nonselection_glyph\":{\"id\":\"c09149e8-1463-450a-8031-19121e1ee45d\",\"type\":\"Line\"},\"selection_glyph\":null},\"id\":\"f8df44b4-5642-499e-be9e-470712fd2110\",\"type\":\"GlyphRenderer\"},{\"attributes\":{\"callback\":null,\"plot\":{\"id\":\"0e3f785e-207a-4f84-9994-0af10e80dd86\",\"subtype\":\"Figure\",\"type\":\"Plot\"},\"tooltips\":[[\"pct\",\"@pct{(0.00%)}\"]]},\"id\":\"fa71dd51-2c76-4cf4-9e18-56275b21cd63\",\"type\":\"HoverTool\"},{\"attributes\":{},\"id\":\"4615a410-2e44-420c-81a0-5fb5a206fdcc\",\"type\":\"BasicTicker\"},{\"attributes\":{\"callback\":null,\"data\":{}},\"id\":\"a641fce3-55db-4272-98c1-610567ed9188\",\"type\":\"ColumnDataSource\"},{\"attributes\":{\"above\":[{\"id\":\"d92243d9-ba77-4d76-aa4c-96da2ea8996d\",\"type\":\"Title\"}],\"below\":[{\"id\":\"3754f34c-58dc-4437-b3d0-776272c036f2\",\"type\":\"LinearAxis\"}],\"left\":[{\"id\":\"376d9bca-ef5e-4bb4-ad1f-8ee4d46062de\",\"type\":\"LinearAxis\"}],\"plot_height\":400,\"plot_width\":400,\"renderers\":[{\"id\":\"3754f34c-58dc-4437-b3d0-776272c036f2\",\"type\":\"LinearAxis\"},{\"id\":\"7302e009-2bd5-46f0-ab6e-b195dba59023\",\"type\":\"Grid\"},{\"id\":\"376d9bca-ef5e-4bb4-ad1f-8ee4d46062de\",\"type\":\"LinearAxis\"},{\"id\":\"09de1157-4bc8-4183-aa31-6f41d81bfe03\",\"type\":\"Grid\"},{\"id\":\"dee5e455-37c3-4077-a913-2ced5b3bf765\",\"type\":\"BoxAnnotation\"},{\"id\":\"0c8ff32d-89c1-4776-9226-aba83e99191a\",\"type\":\"GlyphRenderer\"},{\"id\":\"db1bdadd-fc03-42b0-b544-5c98a5c8ee9a\",\"type\":\"GlyphRenderer\"},{\"id\":\"0a7a6728-ec79-41cb-891d-2f7bb83f8024\",\"type\":\"GlyphRenderer\"},{\"id\":\"c1e911e1-d8ca-4d7c-84a5-3c056c6c9f14\",\"type\":\"GlyphRenderer\"},{\"id\":\"c2db45f1-1cb2-4811-96d4-0ccd252d4eaf\",\"type\":\"GlyphRenderer\"},{\"id\":\"6c33448c-f6fb-4e04-9337-d673c6b679e1\",\"type\":\"GlyphRenderer\"},{\"id\":\"2ef34d5b-0cf7-4b0d-abb8-d864408643d4\",\"type\":\"GlyphRenderer\"},{\"id\":\"d022009d-134b-4056-8d66-162ec4d20ba4\",\"type\":\"GlyphRenderer\"},{\"id\":\"c0c5c304-7fd5-4a0f-8253-bc33c92e4ebb\",\"type\":\"GlyphRenderer\"},{\"id\":\"f8df44b4-5642-499e-be9e-470712fd2110\",\"type\":\"GlyphRenderer\"},{\"id\":\"4b9bbf13-45de-4fb1-afc2-f800c35f4c9c\",\"type\":\"GlyphRenderer\"},{\"id\":\"6ff856ae-439e-4053-aaf3-8563cca38b31\",\"type\":\"GlyphRenderer\"},{\"id\":\"d92243d9-ba77-4d76-aa4c-96da2ea8996d\",\"type\":\"Title\"}],\"title\":{\"id\":\"a06286e0-2ec7-4f68-b6f4-c4fa9a2b3685\",\"type\":\"Title\"},\"tool_events\":{\"id\":\"23faee75-39e2-4871-818f-152714cedb60\",\"type\":\"ToolEvents\"},\"toolbar\":{\"id\":\"7ca34c4f-a5ea-48c6-8dbd-59eb9b2e6b26\",\"type\":\"Toolbar\"},\"x_range\":{\"id\":\"b93be740-ae51-4578-8691-cca8d1e075e0\",\"type\":\"DataRange1d\"},\"x_scale\":{\"id\":\"01f771af-0557-4e54-9bc8-578be2fad96d\",\"type\":\"LinearScale\"},\"y_range\":{\"id\":\"52b33f55-5bc8-4969-927a-296f811f2a33\",\"type\":\"Range1d\"},\"y_scale\":{\"id\":\"75007fa2-4c7d-48ad-aaa9-56de04c7903d\",\"type\":\"LinearScale\"}},\"id\":\"40e0e3dd-807b-4e44-b685-65272f6f51f5\",\"subtype\":\"Figure\",\"type\":\"Plot\"},{\"attributes\":{\"children\":[{\"id\":\"3ae03d66-4bc1-40cc-a43b-c0582e2daca5\",\"type\":\"Div\"}]},\"id\":\"bd4dcc2b-65d2-4e53-99d5-fed8760a4e5b\",\"type\":\"WidgetBox\"},{\"attributes\":{\"line_alpha\":{\"value\":0.1},\"line_color\":{\"value\":\"#1f77b4\"},\"line_dash\":[6],\"line_width\":{\"value\":2},\"x\":{\"field\":\"x\"},\"y\":{\"field\":\"y\"}},\"id\":\"49fb7601-22aa-408f-8204-ab28d41c90b8\",\"type\":\"Line\"},{\"attributes\":{},\"id\":\"6f9b4cbe-8bfa-4748-9f38-30eee2d390c8\",\"type\":\"BasicTicker\"},{\"attributes\":{\"active_drag\":\"auto\",\"active_inspect\":\"auto\",\"active_scroll\":\"auto\",\"active_tap\":\"auto\",\"tools\":[{\"id\":\"fa71dd51-2c76-4cf4-9e18-56275b21cd63\",\"type\":\"HoverTool\"}]},\"id\":\"2e50a600-992f-4d1c-8bf3-0f2b9d0f3436\",\"type\":\"Toolbar\"},{\"attributes\":{},\"id\":\"25757a87-4c4c-4c08-ace8-1dfe57832da4\",\"type\":\"BasicTickFormatter\"},{\"attributes\":{\"data_source\":{\"id\":\"fab23104-b651-4cba-b1b6-4fc713c6f206\",\"type\":\"ColumnDataSource\"},\"glyph\":{\"id\":\"dec59f17-20b1-4240-bf65-104d3f51ca47\",\"type\":\"HBar\"},\"hover_glyph\":null,\"muted_glyph\":null,\"nonselection_glyph\":{\"id\":\"e76f7c53-772f-44fd-8d5f-5bd57f9c5c78\",\"type\":\"HBar\"},\"selection_glyph\":null},\"id\":\"2ef34d5b-0cf7-4b0d-abb8-d864408643d4\",\"type\":\"GlyphRenderer\"},{\"attributes\":{\"plot\":null,\"text\":\"\"},\"id\":\"a06286e0-2ec7-4f68-b6f4-c4fa9a2b3685\",\"type\":\"Title\"},{\"attributes\":{\"formatter\":{\"id\":\"25757a87-4c4c-4c08-ace8-1dfe57832da4\",\"type\":\"BasicTickFormatter\"},\"plot\":{\"id\":\"40e0e3dd-807b-4e44-b685-65272f6f51f5\",\"subtype\":\"Figure\",\"type\":\"Plot\"},\"ticker\":{\"id\":\"6f9b4cbe-8bfa-4748-9f38-30eee2d390c8\",\"type\":\"BasicTicker\"},\"visible\":false},\"id\":\"376d9bca-ef5e-4bb4-ad1f-8ee4d46062de\",\"type\":\"LinearAxis\"},{\"attributes\":{\"align\":\"center\",\"plot\":{\"id\":\"0e3f785e-207a-4f84-9994-0af10e80dd86\",\"subtype\":\"Figure\",\"type\":\"Plot\"},\"text\":\"Total percentage within thresholds\"},\"id\":\"bf2493cf-a7f5-469b-b092-f88816a59176\",\"type\":\"Title\"},{\"attributes\":{\"align\":\"center\",\"plot\":{\"id\":\"40e0e3dd-807b-4e44-b685-65272f6f51f5\",\"subtype\":\"Figure\",\"type\":\"Plot\"},\"text\":\"Rush/delays within time thresholds\"},\"id\":\"d92243d9-ba77-4d76-aa4c-96da2ea8996d\",\"type\":\"Title\"},{\"attributes\":{\"fill_alpha\":{\"value\":0.1},\"fill_color\":{\"value\":\"#1f77b4\"},\"height\":{\"value\":0.3},\"line_alpha\":{\"value\":0.1},\"line_color\":{\"value\":\"#1f77b4\"},\"right\":{\"value\":0.3884501480750247},\"y\":{\"value\":1}},\"id\":\"e76f7c53-772f-44fd-8d5f-5bd57f9c5c78\",\"type\":\"HBar\"},{\"attributes\":{\"data_source\":{\"id\":\"9852e560-ac3c-4a51-b6e9-a8b2074366af\",\"type\":\"ColumnDataSource\"},\"glyph\":{\"id\":\"34a9182b-4180-485a-b8bb-d8e6cc338d3e\",\"type\":\"Line\"},\"hover_glyph\":null,\"muted_glyph\":null,\"nonselection_glyph\":{\"id\":\"503cbf67-7e34-4f8f-bb6f-3968c051e259\",\"type\":\"Line\"},\"selection_glyph\":null},\"id\":\"c1e911e1-d8ca-4d7c-84a5-3c056c6c9f14\",\"type\":\"GlyphRenderer\"},{\"attributes\":{\"callback\":null,\"data\":{}},\"id\":\"d852c38e-bee5-4fe4-90b6-fbfeaea854f3\",\"type\":\"ColumnDataSource\"},{\"attributes\":{},\"id\":\"dcf3647f-33c3-4651-a78f-335bfc103d16\",\"type\":\"BasicTickFormatter\"},{\"attributes\":{\"grid_line_color\":{\"value\":null},\"plot\":{\"id\":\"40e0e3dd-807b-4e44-b685-65272f6f51f5\",\"subtype\":\"Figure\",\"type\":\"Plot\"},\"ticker\":{\"id\":\"f78482b5-a12a-49e8-8bae-674234ddc887\",\"type\":\"BasicTicker\"}},\"id\":\"7302e009-2bd5-46f0-ab6e-b195dba59023\",\"type\":\"Grid\"},{\"attributes\":{},\"id\":\"01f771af-0557-4e54-9bc8-578be2fad96d\",\"type\":\"LinearScale\"},{\"attributes\":{\"line_color\":{\"value\":\"#AAB2A5\"},\"line_dash\":[6],\"line_width\":{\"value\":2},\"x\":{\"field\":\"x\"},\"y\":{\"field\":\"y\"}},\"id\":\"6a7e0998-1593-4b8c-832b-b20d7c60b695\",\"type\":\"Line\"},{\"attributes\":{\"line_alpha\":{\"value\":0.1},\"line_color\":{\"value\":\"#1f77b4\"},\"line_dash\":[6],\"line_width\":{\"value\":2},\"x\":{\"field\":\"x\"},\"y\":{\"field\":\"y\"}},\"id\":\"481e0b1a-1388-46c9-a709-4c0f850ffc62\",\"type\":\"Line\"},{\"attributes\":{\"plot\":{\"id\":\"40e0e3dd-807b-4e44-b685-65272f6f51f5\",\"subtype\":\"Figure\",\"type\":\"Plot\"}},\"id\":\"263001b8-0119-402c-898a-db7ded213b5b\",\"type\":\"WheelZoomTool\"},{\"attributes\":{\"line_alpha\":{\"value\":0.1},\"line_color\":{\"value\":\"#1f77b4\"},\"line_dash\":[6],\"line_width\":{\"value\":2},\"x\":{\"field\":\"x\"},\"y\":{\"field\":\"y\"}},\"id\":\"503cbf67-7e34-4f8f-bb6f-3968c051e259\",\"type\":\"Line\"},{\"attributes\":{\"fill_alpha\":{\"value\":0.1},\"fill_color\":{\"value\":\"#1f77b4\"},\"line_alpha\":{\"value\":0.1},\"line_color\":{\"value\":\"#1f77b4\"},\"top\":{\"field\":\"pct\"},\"width\":{\"value\":0.6},\"x\":{\"field\":\"index\"}},\"id\":\"b0a3872a-7895-4316-9246-d1d28e911033\",\"type\":\"VBar\"},{\"attributes\":{\"data_source\":{\"id\":\"031fa19c-1274-4e32-823e-e6124c0fcb78\",\"type\":\"ColumnDataSource\"},\"glyph\":{\"id\":\"6a7e0998-1593-4b8c-832b-b20d7c60b695\",\"type\":\"Line\"},\"hover_glyph\":null,\"muted_glyph\":null,\"nonselection_glyph\":{\"id\":\"481e0b1a-1388-46c9-a709-4c0f850ffc62\",\"type\":\"Line\"},\"selection_glyph\":null},\"id\":\"d022009d-134b-4056-8d66-162ec4d20ba4\",\"type\":\"GlyphRenderer\"},{\"attributes\":{\"children\":[{\"id\":\"bd4dcc2b-65d2-4e53-99d5-fed8760a4e5b\",\"type\":\"WidgetBox\"},{\"id\":\"d755a65c-25ea-4863-92ae-a693d2635e54\",\"type\":\"Row\"}]},\"id\":\"a35f1ff0-b3b8-4382-b2db-7fe19e502fda\",\"type\":\"Column\"},{\"attributes\":{\"data_source\":{\"id\":\"97a29d8a-198a-4028-a7dd-0349f706b040\",\"type\":\"ColumnDataSource\"},\"glyph\":{\"id\":\"ae9028e5-314e-4a48-86b5-56ef4430465d\",\"type\":\"Line\"},\"hover_glyph\":null,\"muted_glyph\":null,\"nonselection_glyph\":{\"id\":\"f0c81b93-2a43-4b92-aaba-22754ee707df\",\"type\":\"Line\"},\"selection_glyph\":null},\"id\":\"6ff856ae-439e-4053-aaf3-8563cca38b31\",\"type\":\"GlyphRenderer\"},{\"attributes\":{\"callback\":null,\"data\":{}},\"id\":\"c5d4b65e-7292-468b-99c9-6a95b6baab83\",\"type\":\"ColumnDataSource\"},{\"attributes\":{\"line_color\":{\"value\":\"#AAB2A5\"},\"line_dash\":[6],\"line_width\":{\"value\":2},\"x\":{\"field\":\"x\"},\"y\":{\"field\":\"y\"}},\"id\":\"3a816588-fbf5-496f-9654-04b01e73e25f\",\"type\":\"Line\"},{\"attributes\":{\"children\":[{\"id\":\"40e0e3dd-807b-4e44-b685-65272f6f51f5\",\"subtype\":\"Figure\",\"type\":\"Plot\"},{\"id\":\"0e3f785e-207a-4f84-9994-0af10e80dd86\",\"subtype\":\"Figure\",\"type\":\"Plot\"}]},\"id\":\"d755a65c-25ea-4863-92ae-a693d2635e54\",\"type\":\"Row\"},{\"attributes\":{\"formatter\":{\"id\":\"22911d2e-4026-4f1c-ae76-a82368ba356d\",\"type\":\"BasicTickFormatter\"},\"plot\":{\"id\":\"0e3f785e-207a-4f84-9994-0af10e80dd86\",\"subtype\":\"Figure\",\"type\":\"Plot\"},\"ticker\":{\"id\":\"4615a410-2e44-420c-81a0-5fb5a206fdcc\",\"type\":\"BasicTicker\"}},\"id\":\"e2a74853-a0ec-426f-8f28-d4081e1c8414\",\"type\":\"LinearAxis\"},{\"attributes\":{\"callback\":null,\"column_names\":[\"x\",\"y\"],\"data\":{\"x\":[0.3884501480750247,0.3884501480750247],\"y\":[0.5,1.5]}},\"id\":\"4a7d46f3-5fde-4fb2-b326-a994a0419cc3\",\"type\":\"ColumnDataSource\"},{\"attributes\":{\"callback\":null,\"data\":{}},\"id\":\"ace4a145-b7c5-43ea-b270-6768887a9531\",\"type\":\"ColumnDataSource\"},{\"attributes\":{\"plot\":{\"id\":\"40e0e3dd-807b-4e44-b685-65272f6f51f5\",\"subtype\":\"Figure\",\"type\":\"Plot\"}},\"id\":\"a252dd77-6914-48b3-828b-7edbd19ec9b8\",\"type\":\"ResetTool\"},{\"attributes\":{},\"id\":\"f78482b5-a12a-49e8-8bae-674234ddc887\",\"type\":\"BasicTicker\"},{\"attributes\":{\"line_color\":{\"value\":\"#AAB2A5\"},\"line_dash\":[6],\"line_width\":{\"value\":2},\"x\":{\"field\":\"x\"},\"y\":{\"field\":\"y\"}},\"id\":\"34a9182b-4180-485a-b8bb-d8e6cc338d3e\",\"type\":\"Line\"},{\"attributes\":{\"formatter\":{\"id\":\"dcf3647f-33c3-4651-a78f-335bfc103d16\",\"type\":\"BasicTickFormatter\"},\"plot\":{\"id\":\"0e3f785e-207a-4f84-9994-0af10e80dd86\",\"subtype\":\"Figure\",\"type\":\"Plot\"},\"ticker\":{\"id\":\"a99b73ed-f7d0-431a-94f9-9b278bfc41dc\",\"type\":\"BasicTicker\"}},\"id\":\"a923c75e-0654-4c5c-a2b0-3fda267f762c\",\"type\":\"LinearAxis\"},{\"attributes\":{\"formatter\":{\"id\":\"c597455c-32cc-406f-ae3d-486abb0eb38e\",\"type\":\"BasicTickFormatter\"},\"plot\":{\"id\":\"40e0e3dd-807b-4e44-b685-65272f6f51f5\",\"subtype\":\"Figure\",\"type\":\"Plot\"},\"ticker\":{\"id\":\"f78482b5-a12a-49e8-8bae-674234ddc887\",\"type\":\"BasicTicker\"}},\"id\":\"3754f34c-58dc-4437-b3d0-776272c036f2\",\"type\":\"LinearAxis\"},{\"attributes\":{},\"id\":\"a99b73ed-f7d0-431a-94f9-9b278bfc41dc\",\"type\":\"BasicTicker\"},{\"attributes\":{\"callback\":null,\"data\":{}},\"id\":\"19da22a7-7e68-41e7-87f2-133e57136f39\",\"type\":\"ColumnDataSource\"},{\"attributes\":{},\"id\":\"75007fa2-4c7d-48ad-aaa9-56de04c7903d\",\"type\":\"LinearScale\"},{\"attributes\":{\"line_alpha\":{\"value\":0.1},\"line_color\":{\"value\":\"#1f77b4\"},\"line_dash\":[6],\"line_width\":{\"value\":2},\"x\":{\"field\":\"x\"},\"y\":{\"field\":\"y\"}},\"id\":\"c09149e8-1463-450a-8031-19121e1ee45d\",\"type\":\"Line\"},{\"attributes\":{\"plot\":{\"id\":\"40e0e3dd-807b-4e44-b685-65272f6f51f5\",\"subtype\":\"Figure\",\"type\":\"Plot\"}},\"id\":\"18e6fafa-5f4a-43ad-bbdf-e93a783ed83e\",\"type\":\"PanTool\"},{\"attributes\":{},\"id\":\"22911d2e-4026-4f1c-ae76-a82368ba356d\",\"type\":\"BasicTickFormatter\"},{\"attributes\":{\"bottom_units\":\"screen\",\"fill_alpha\":{\"value\":0.5},\"fill_color\":{\"value\":\"lightgrey\"},\"left_units\":\"screen\",\"level\":\"overlay\",\"line_alpha\":{\"value\":1.0},\"line_color\":{\"value\":\"black\"},\"line_dash\":[4,4],\"line_width\":{\"value\":2},\"plot\":null,\"render_mode\":\"css\",\"right_units\":\"screen\",\"top_units\":\"screen\"},\"id\":\"dee5e455-37c3-4077-a913-2ced5b3bf765\",\"type\":\"BoxAnnotation\"},{\"attributes\":{\"callback\":null,\"column_names\":[\"x\",\"y\"],\"data\":{\"x\":[0.510365251727542,0.510365251727542],\"y\":[0.5,1.5]}},\"id\":\"97a29d8a-198a-4028-a7dd-0349f706b040\",\"type\":\"ColumnDataSource\"},{\"attributes\":{\"data_source\":{\"id\":\"19da22a7-7e68-41e7-87f2-133e57136f39\",\"type\":\"ColumnDataSource\"},\"glyph\":{\"id\":\"3a10a4a4-5bc8-4915-ba4e-e502f77ef7c5\",\"type\":\"HBar\"},\"hover_glyph\":null,\"muted_glyph\":null,\"nonselection_glyph\":{\"id\":\"862a0620-6fa5-4539-86e4-bae04555d862\",\"type\":\"HBar\"},\"selection_glyph\":null},\"id\":\"4b9bbf13-45de-4fb1-afc2-f800c35f4c9c\",\"type\":\"GlyphRenderer\"},{\"attributes\":{\"callback\":null,\"column_names\":[\"x\",\"y\"],\"data\":{\"x\":[0,0],\"y\":[0.5,1.5]}},\"id\":\"031fa19c-1274-4e32-823e-e6124c0fcb78\",\"type\":\"ColumnDataSource\"},{\"attributes\":{\"active_drag\":\"auto\",\"active_inspect\":\"auto\",\"active_scroll\":\"auto\",\"active_tap\":\"auto\",\"tools\":[{\"id\":\"18e6fafa-5f4a-43ad-bbdf-e93a783ed83e\",\"type\":\"PanTool\"},{\"id\":\"263001b8-0119-402c-898a-db7ded213b5b\",\"type\":\"WheelZoomTool\"},{\"id\":\"fbae15d9-a6f1-4df2-8304-aba16a4f67d2\",\"type\":\"BoxZoomTool\"},{\"id\":\"315af129-29e4-43b4-a2e2-38f3796fff28\",\"type\":\"SaveTool\"},{\"id\":\"a252dd77-6914-48b3-828b-7edbd19ec9b8\",\"type\":\"ResetTool\"},{\"id\":\"a88c1242-a085-4c73-b879-8c82d7c74c8d\",\"type\":\"HelpTool\"}]},\"id\":\"7ca34c4f-a5ea-48c6-8dbd-59eb9b2e6b26\",\"type\":\"Toolbar\"},{\"attributes\":{\"text\":\"<h1 style='margin-left:200px;margin-right:-400px;margin-bottom:18px;font-size:20px;                color:#7D7575'> Time thresholds for pick ups and drop offs </h1>\"},\"id\":\"3ae03d66-4bc1-40cc-a43b-c0582e2daca5\",\"type\":\"Div\"},{\"attributes\":{\"fill_color\":{\"value\":\"#E4E02C\"},\"height\":{\"value\":0.3},\"left\":{\"value\":0.3884501480750247},\"line_color\":{\"value\":\"#E4E02C\"},\"right\":{\"value\":0.510365251727542},\"y\":{\"value\":1}},\"id\":\"cee21401-ee40-4439-8816-1ab0792ac56c\",\"type\":\"HBar\"},{\"attributes\":{\"fill_alpha\":{\"value\":0.1},\"fill_color\":{\"value\":\"#1f77b4\"},\"height\":{\"value\":0.3},\"left\":{\"value\":-0.430898321816387},\"line_alpha\":{\"value\":0.1},\"line_color\":{\"value\":\"#1f77b4\"},\"right\":{\"value\":-0.3677196446199408},\"y\":{\"value\":1}},\"id\":\"26408731-3ce7-4caa-8ab8-c4f87b6471da\",\"type\":\"HBar\"},{\"attributes\":{\"callback\":null,\"column_names\":[\"x\",\"y\"],\"data\":{\"x\":[-0.430898321816387,-0.430898321816387],\"y\":[0.5,1.5]}},\"id\":\"1c257625-8d2f-4800-862c-fb280846b763\",\"type\":\"ColumnDataSource\"},{\"attributes\":{\"fill_alpha\":{\"value\":0.1},\"fill_color\":{\"value\":\"#1f77b4\"},\"height\":{\"value\":0.3},\"left\":{\"value\":0.510365251727542},\"line_alpha\":{\"value\":0.1},\"line_color\":{\"value\":\"#1f77b4\"},\"right\":{\"value\":0.5621915103652517},\"y\":{\"value\":1}},\"id\":\"862a0620-6fa5-4539-86e4-bae04555d862\",\"type\":\"HBar\"},{\"attributes\":{},\"id\":\"ddd6259d-0e0c-4cca-9939-7820ca4939dc\",\"type\":\"ToolEvents\"},{\"attributes\":{},\"id\":\"540e71d7-0561-42b3-b34e-370c535ded06\",\"type\":\"LinearScale\"},{\"attributes\":{\"line_alpha\":{\"value\":0.1},\"line_color\":{\"value\":\"#1f77b4\"},\"line_dash\":[6],\"line_width\":{\"value\":2},\"x\":{\"field\":\"x\"},\"y\":{\"field\":\"y\"}},\"id\":\"3434a73d-c2b9-4c54-a04d-0d5c4abb082a\",\"type\":\"Line\"},{\"attributes\":{\"plot\":{\"id\":\"40e0e3dd-807b-4e44-b685-65272f6f51f5\",\"subtype\":\"Figure\",\"type\":\"Plot\"}},\"id\":\"315af129-29e4-43b4-a2e2-38f3796fff28\",\"type\":\"SaveTool\"},{\"attributes\":{\"data_source\":{\"id\":\"b36e7daa-184e-4874-9a6e-7142d432d0e4\",\"type\":\"ColumnDataSource\"},\"glyph\":{\"id\":\"3a816588-fbf5-496f-9654-04b01e73e25f\",\"type\":\"Line\"},\"hover_glyph\":null,\"muted_glyph\":null,\"nonselection_glyph\":{\"id\":\"3434a73d-c2b9-4c54-a04d-0d5c4abb082a\",\"type\":\"Line\"},\"selection_glyph\":null},\"id\":\"db1bdadd-fc03-42b0-b544-5c98a5c8ee9a\",\"type\":\"GlyphRenderer\"},{\"attributes\":{\"plot\":{\"id\":\"40e0e3dd-807b-4e44-b685-65272f6f51f5\",\"subtype\":\"Figure\",\"type\":\"Plot\"}},\"id\":\"a88c1242-a085-4c73-b879-8c82d7c74c8d\",\"type\":\"HelpTool\"},{\"attributes\":{\"callback\":null,\"column_names\":[\"x\",\"y\"],\"data\":{\"x\":[-0.3677196446199408,-0.3677196446199408],\"y\":[0.5,1.5]}},\"id\":\"9852e560-ac3c-4a51-b6e9-a8b2074366af\",\"type\":\"ColumnDataSource\"},{\"attributes\":{\"callback\":null,\"column_names\":[\"x\",\"y\"],\"data\":{\"x\":[0,0],\"y\":[0.5,1.5]}},\"id\":\"b36e7daa-184e-4874-9a6e-7142d432d0e4\",\"type\":\"ColumnDataSource\"},{\"attributes\":{\"fill_color\":{\"value\":\"#E43216\"},\"height\":{\"value\":0.3},\"left\":{\"value\":-0.4378084896347483},\"line_color\":{\"value\":\"#E43216\"},\"right\":{\"value\":-0.430898321816387},\"y\":{\"value\":1}},\"id\":\"c85096c2-511a-41d3-bcf5-6f47a2461ab0\",\"type\":\"HBar\"},{\"attributes\":{\"data_source\":{\"id\":\"a641fce3-55db-4272-98c1-610567ed9188\",\"type\":\"ColumnDataSource\"},\"glyph\":{\"id\":\"d76ba631-5fbc-4bec-a18b-8a69fc29282c\",\"type\":\"HBar\"},\"hover_glyph\":null,\"muted_glyph\":null,\"nonselection_glyph\":{\"id\":\"26408731-3ce7-4caa-8ab8-c4f87b6471da\",\"type\":\"HBar\"},\"selection_glyph\":null},\"id\":\"0a7a6728-ec79-41cb-891d-2f7bb83f8024\",\"type\":\"GlyphRenderer\"},{\"attributes\":{\"callback\":null},\"id\":\"b93be740-ae51-4578-8691-cca8d1e075e0\",\"type\":\"DataRange1d\"},{\"attributes\":{\"above\":[{\"id\":\"bf2493cf-a7f5-469b-b092-f88816a59176\",\"type\":\"Title\"}],\"below\":[{\"id\":\"a923c75e-0654-4c5c-a2b0-3fda267f762c\",\"type\":\"LinearAxis\"}],\"left\":[{\"id\":\"e2a74853-a0ec-426f-8f28-d4081e1c8414\",\"type\":\"LinearAxis\"}],\"plot_height\":400,\"plot_width\":400,\"renderers\":[{\"id\":\"a923c75e-0654-4c5c-a2b0-3fda267f762c\",\"type\":\"LinearAxis\"},{\"id\":\"07b993a1-b20c-4c22-92a2-961305efb4f3\",\"type\":\"Grid\"},{\"id\":\"e2a74853-a0ec-426f-8f28-d4081e1c8414\",\"type\":\"LinearAxis\"},{\"id\":\"cdbbc28b-e4db-48d3-8b79-169fae1169d1\",\"type\":\"Grid\"},{\"id\":\"bf2493cf-a7f5-469b-b092-f88816a59176\",\"type\":\"Title\"},{\"id\":\"2b437b77-b753-4900-9f85-39e5c9329ed5\",\"type\":\"GlyphRenderer\"}],\"title\":{\"id\":\"e1fdbc0d-7449-4889-a265-34415e5e21e5\",\"type\":\"Title\"},\"tool_events\":{\"id\":\"ddd6259d-0e0c-4cca-9939-7820ca4939dc\",\"type\":\"ToolEvents\"},\"toolbar\":{\"id\":\"2e50a600-992f-4d1c-8bf3-0f2b9d0f3436\",\"type\":\"Toolbar\"},\"x_range\":{\"id\":\"fa3b7ecf-0809-4c66-8814-ec56b78ec73d\",\"type\":\"DataRange1d\"},\"x_scale\":{\"id\":\"540e71d7-0561-42b3-b34e-370c535ded06\",\"type\":\"LinearScale\"},\"y_range\":{\"id\":\"829806ce-a1dc-4c4c-b7a6-823a455cbb9f\",\"type\":\"DataRange1d\"},\"y_scale\":{\"id\":\"db10bca3-828c-4f13-aa87-67325f495c8a\",\"type\":\"LinearScale\"}},\"id\":\"0e3f785e-207a-4f84-9994-0af10e80dd86\",\"subtype\":\"Figure\",\"type\":\"Plot\"},{\"attributes\":{\"fill_alpha\":{\"value\":0.1},\"fill_color\":{\"value\":\"#1f77b4\"},\"height\":{\"value\":0.3},\"left\":{\"value\":0.3884501480750247},\"line_alpha\":{\"value\":0.1},\"line_color\":{\"value\":\"#1f77b4\"},\"right\":{\"value\":0.510365251727542},\"y\":{\"value\":1}},\"id\":\"5e33b0ac-274b-47ab-a3b7-a71ef0b9cf5c\",\"type\":\"HBar\"},{\"attributes\":{\"dimension\":1,\"grid_line_color\":{\"value\":null},\"plot\":{\"id\":\"40e0e3dd-807b-4e44-b685-65272f6f51f5\",\"subtype\":\"Figure\",\"type\":\"Plot\"},\"ticker\":{\"id\":\"6f9b4cbe-8bfa-4748-9f38-30eee2d390c8\",\"type\":\"BasicTicker\"}},\"id\":\"09de1157-4bc8-4183-aa31-6f41d81bfe03\",\"type\":\"Grid\"},{\"attributes\":{\"plot\":null,\"text\":\"\"},\"id\":\"e1fdbc0d-7449-4889-a265-34415e5e21e5\",\"type\":\"Title\"},{\"attributes\":{\"callback\":null,\"column_names\":[\"pct\",\"colors\",\"index\",\"thresholds\"],\"data\":{\"colors\":[\"#459E0F\",\"#E4E02C\",\"#E43216\"],\"index\":[0,1,2],\"pct\":{\"__ndarray__\":\"oCI7/ooy6D+hOrgrJ7HHP4jrbG2zEq4/\",\"dtype\":\"float64\",\"shape\":[3]},\"thresholds\":[\"green\",\"yellow\",\"red\"]}},\"id\":\"ef170f3e-d904-4412-90c7-00d8a6b00167\",\"type\":\"ColumnDataSource\"},{\"attributes\":{\"callback\":null,\"data\":{}},\"id\":\"fab23104-b651-4cba-b1b6-4fc713c6f206\",\"type\":\"ColumnDataSource\"}],\"root_ids\":[\"a35f1ff0-b3b8-4382-b2db-7fe19e502fda\"]},\"title\":\"Bokeh Application\",\"version\":\"0.12.6\"}};\n",
       "            var render_items = [{\"docid\":\"83fde773-4385-488c-9910-a66dbe6f6d5a\",\"elementid\":\"18e45e61-bdfc-4635-bf0c-52c6c0f33d9e\",\"modelid\":\"a35f1ff0-b3b8-4382-b2db-7fe19e502fda\"}];\n",
       "            \n",
       "            Bokeh.embed.embed_items(docs_json, render_items);\n",
       "          };\n",
       "          if (document.readyState != \"loading\") fn();\n",
       "          else document.addEventListener(\"DOMContentLoaded\", fn);\n",
       "        })();\n",
       "      },\n",
       "      function(Bokeh) {\n",
       "      }\n",
       "    ];\n",
       "  \n",
       "    function run_inline_js() {\n",
       "      \n",
       "      if ((window.Bokeh !== undefined) || (force === true)) {\n",
       "        for (var i = 0; i < inline_js.length; i++) {\n",
       "          inline_js[i](window.Bokeh);\n",
       "        }if (force === true) {\n",
       "          display_loaded();\n",
       "        }} else if (Date.now() < window._bokeh_timeout) {\n",
       "        setTimeout(run_inline_js, 100);\n",
       "      } else if (!window._bokeh_failed_load) {\n",
       "        console.log(\"Bokeh: BokehJS failed to load within specified timeout.\");\n",
       "        window._bokeh_failed_load = true;\n",
       "      } else if (force !== true) {\n",
       "        var cell = $(document.getElementById(\"18e45e61-bdfc-4635-bf0c-52c6c0f33d9e\")).parents('.cell').data().cell;\n",
       "        cell.output_area.append_execute_result(NB_LOAD_WARNING)\n",
       "      }\n",
       "  \n",
       "    }\n",
       "  \n",
       "    if (window._bokeh_is_loading === 0) {\n",
       "      console.log(\"Bokeh: BokehJS loaded, going straight to plotting\");\n",
       "      run_inline_js();\n",
       "    } else {\n",
       "      load_libs(js_urls, function() {\n",
       "        console.log(\"Bokeh: BokehJS plotting callback run at\", now());\n",
       "        run_inline_js();\n",
       "      });\n",
       "    }\n",
       "  }(this));\n",
       "</script>"
      ]
     },
     "metadata": {},
     "output_type": "display_data"
    }
   ],
   "source": [
    "time_threshold = plot_horizontal_time_thresholds(group_threshold, 400, 400, 'pct', 'colors', \"Rush/delays within time thresholds\")\n",
    "within_thresholds = plot_total_pct_thresholds(region_group, 400, 400, \"index\", \"pct\", \"colors\", \"Total percentage within thresholds\")\n",
    "show(column(Div(text=\"<h1 style='margin-left:200px;margin-right:-400px;margin-bottom:18px;font-size:20px;\\\n",
    "                color:#7D7575'> Time thresholds for pick ups and drop offs </h1>\"), row(time_threshold, within_thresholds)))\n"
   ]
  },
  {
   "cell_type": "markdown",
   "metadata": {},
   "source": [
    "### Differences in pick ups / drop offs\n",
    "\n",
    "Here we analyze the differences between pick ups and drop offs. Evidently, there is a difference between actual time when we talk about pick ups and drop offs. Particularly, if the difference is significance for pick ups it might be that the service will never be provided (e.g. could lead to cancellations).\n",
    "\n",
    "To enter in this level of analysis, we will calculate the differences for pick ups and drop offs separately."
   ]
  },
  {
   "cell_type": "code",
   "execution_count": 19,
   "metadata": {
    "collapsed": true
   },
   "outputs": [],
   "source": [
    "exp_act_time_pick_up = exp_act_time[exp_act_time[\"type\"]==\"pickup\"].reset_index()\n",
    "exp_act_time_drop_off = exp_act_time[exp_act_time[\"type\"]==\"dropoff\"].reset_index()"
   ]
  },
  {
   "cell_type": "code",
   "execution_count": 20,
   "metadata": {},
   "outputs": [
    {
     "data": {
      "image/png": "[encoded data removed]",
      "text/plain": [
       "<matplotlib.figure.Figure at 0x11b2316d8>"
      ]
     },
     "metadata": {},
     "output_type": "display_data"
    }
   ],
   "source": [
    "fig, ax = plt.subplots(2, figsize=(10,7))\n",
    "sns.distplot(exp_act_time_pick_up[\"time_diff_min\"], kde=False, ax=ax[0])\n",
    "sns.distplot(exp_act_time_drop_off[\"time_diff_min\"], kde=False, ax=ax[1])\n",
    "ax[0].set_title(\"Distribution of difference - pick ups \\n Actual Time Expected Time (minutes)\")\n",
    "ax[1].set_title(\"Distribution of difference - drop offs \\n Actual Time Expected Time (minutes)\")\n",
    "for ax in ax.flatten():\n",
    "    ax.set_ylabel(\"Counts minutes\")\n",
    "    ax.set_ylabel(\"Counts minutes\")\n",
    "    ax.set_xlabel(\"Time difference\")\n",
    "    ax.axvline(0, color=\"#44999E\", linestyle='--')\n",
    "fig.tight_layout() "
   ]
  },
  {
   "cell_type": "code",
   "execution_count": 21,
   "metadata": {},
   "outputs": [
    {
     "name": "stdout",
     "output_type": "stream",
     "text": [
      "Statistics for Pick ups\n",
      "Total difference (hours): 18.453\n",
      "Average (seconds): 32.789\n",
      "Standard deviation (seconds): 208.060\n"
     ]
    }
   ],
   "source": [
    "print(\"Statistics for Pick ups\")\n",
    "print_stats(exp_act_time_pick_up,\"time_diff\")"
   ]
  },
  {
   "cell_type": "code",
   "execution_count": 22,
   "metadata": {},
   "outputs": [
    {
     "name": "stdout",
     "output_type": "stream",
     "text": [
      "Statistics for Drop offs\n",
      "Total difference (hours): 12.929\n",
      "Average (seconds): 22.973\n",
      "Standard deviation (seconds): 292.788\n"
     ]
    }
   ],
   "source": [
    "print(\"Statistics for Drop offs\")\n",
    "print_stats(exp_act_time_drop_off,\"time_diff\")"
   ]
  },
  {
   "cell_type": "markdown",
   "metadata": {},
   "source": [
    "Checking the distributions, we see that the differences between actual and expected time for pick ups are more spread than that of drop off time. Also, while drop offs tend to be more centered at 0, pick ups are more shifted towards positive values.\n",
    "\n",
    "These differences are also clear when we check the statistics: the differences in averages for both distribution is almost 10 seconds. The standard deviation for the drop off is a bit higher, presumably this could be due to the higher number of extreme values in this distribution."
   ]
  },
  {
   "cell_type": "code",
   "execution_count": 23,
   "metadata": {
    "collapsed": true
   },
   "outputs": [],
   "source": [
    "threshold_pick_up =  get_thresholds_groups(exp_act_time_pick_up, \"time_diff_min\")\n",
    "within_thresh_pick_up = get_region_threshold_groups(threshold_pick_up, \"colors\")\n",
    "threshold_drop_off = get_thresholds_groups(exp_act_time_drop_off, \"time_diff_min\")\n",
    "within_thresh_drop_off = get_region_threshold_groups(threshold_drop_off, \"colors\")"
   ]
  },
  {
   "cell_type": "code",
   "execution_count": 24,
   "metadata": {},
   "outputs": [
    {
     "data": {
      "text/html": [
       "\n",
       "\n",
       "    <div class=\"bk-root\">\n",
       "        <div class=\"bk-plotdiv\" id=\"42a7ca7c-f9ce-49ea-9b68-82d9d87d49e6\"></div>\n",
       "    </div>\n",
       "<script type=\"text/javascript\">\n",
       "  \n",
       "  (function(global) {\n",
       "    function now() {\n",
       "      return new Date();\n",
       "    }\n",
       "  \n",
       "    var force = false;\n",
       "  \n",
       "    if (typeof (window._bokeh_onload_callbacks) === \"undefined\" || force === true) {\n",
       "      window._bokeh_onload_callbacks = [];\n",
       "      window._bokeh_is_loading = undefined;\n",
       "    }\n",
       "  \n",
       "  \n",
       "    \n",
       "    if (typeof (window._bokeh_timeout) === \"undefined\" || force === true) {\n",
       "      window._bokeh_timeout = Date.now() + 0;\n",
       "      window._bokeh_failed_load = false;\n",
       "    }\n",
       "  \n",
       "    var NB_LOAD_WARNING = {'data': {'text/html':\n",
       "       \"<div style='background-color: #fdd'>\\n\"+\n",
       "       \"<p>\\n\"+\n",
       "       \"BokehJS does not appear to have successfully loaded. If loading BokehJS from CDN, this \\n\"+\n",
       "       \"may be due to a slow or bad network connection. Possible fixes:\\n\"+\n",
       "       \"</p>\\n\"+\n",
       "       \"<ul>\\n\"+\n",
       "       \"<li>re-rerun `output_notebook()` to attempt to load from CDN again, or</li>\\n\"+\n",
       "       \"<li>use INLINE resources instead, as so:</li>\\n\"+\n",
       "       \"</ul>\\n\"+\n",
       "       \"<code>\\n\"+\n",
       "       \"from bokeh.resources import INLINE\\n\"+\n",
       "       \"output_notebook(resources=INLINE)\\n\"+\n",
       "       \"</code>\\n\"+\n",
       "       \"</div>\"}};\n",
       "  \n",
       "    function display_loaded() {\n",
       "      if (window.Bokeh !== undefined) {\n",
       "        var el = document.getElementById(\"42a7ca7c-f9ce-49ea-9b68-82d9d87d49e6\");\n",
       "        el.textContent = \"BokehJS \" + Bokeh.version + \" successfully loaded.\";\n",
       "      } else if (Date.now() < window._bokeh_timeout) {\n",
       "        setTimeout(display_loaded, 100)\n",
       "      }\n",
       "    }\n",
       "  \n",
       "    function run_callbacks() {\n",
       "      try {\n",
       "        window._bokeh_onload_callbacks.forEach(function(callback) { callback() });\n",
       "      }\n",
       "      finally {\n",
       "        delete window._bokeh_onload_callbacks\n",
       "      }\n",
       "      console.info(\"Bokeh: all callbacks have finished\");\n",
       "    }\n",
       "  \n",
       "    function load_libs(js_urls, callback) {\n",
       "      window._bokeh_onload_callbacks.push(callback);\n",
       "      if (window._bokeh_is_loading > 0) {\n",
       "        console.log(\"Bokeh: BokehJS is being loaded, scheduling callback at\", now());\n",
       "        return null;\n",
       "      }\n",
       "      if (js_urls == null || js_urls.length === 0) {\n",
       "        run_callbacks();\n",
       "        return null;\n",
       "      }\n",
       "      console.log(\"Bokeh: BokehJS not loaded, scheduling load and callback at\", now());\n",
       "      window._bokeh_is_loading = js_urls.length;\n",
       "      for (var i = 0; i < js_urls.length; i++) {\n",
       "        var url = js_urls[i];\n",
       "        var s = document.createElement('script');\n",
       "        s.src = url;\n",
       "        s.async = false;\n",
       "        s.onreadystatechange = s.onload = function() {\n",
       "          window._bokeh_is_loading--;\n",
       "          if (window._bokeh_is_loading === 0) {\n",
       "            console.log(\"Bokeh: all BokehJS libraries loaded\");\n",
       "            run_callbacks()\n",
       "          }\n",
       "        };\n",
       "        s.onerror = function() {\n",
       "          console.warn(\"failed to load library \" + url);\n",
       "        };\n",
       "        console.log(\"Bokeh: injecting script tag for BokehJS library: \", url);\n",
       "        document.getElementsByTagName(\"head\")[0].appendChild(s);\n",
       "      }\n",
       "    };var element = document.getElementById(\"42a7ca7c-f9ce-49ea-9b68-82d9d87d49e6\");\n",
       "    if (element == null) {\n",
       "      console.log(\"Bokeh: ERROR: autoload.js configured with elementid '42a7ca7c-f9ce-49ea-9b68-82d9d87d49e6' but no matching script tag was found. \")\n",
       "      return false;\n",
       "    }\n",
       "  \n",
       "    var js_urls = [];\n",
       "  \n",
       "    var inline_js = [\n",
       "      function(Bokeh) {\n",
       "        (function() {\n",
       "          var fn = function() {\n",
       "            var docs_json = {\"b684c869-a8e1-4e37-9bc8-cda53d93a216\":{\"roots\":{\"references\":[{\"attributes\":{},\"id\":\"138f4c1d-bfca-4c5b-8464-6299f1a84321\",\"type\":\"LinearScale\"},{\"attributes\":{\"plot\":{\"id\":\"dca7b7f0-44aa-47ac-af24-a234fb39f7f2\",\"subtype\":\"Figure\",\"type\":\"Plot\"}},\"id\":\"b36c4ccb-3b8d-4e0d-83d6-6792370e0a12\",\"type\":\"ResetTool\"},{\"attributes\":{\"callback\":null,\"plot\":{\"id\":\"03b71f13-a961-45fb-8a03-14e111e6a794\",\"subtype\":\"Figure\",\"type\":\"Plot\"},\"tooltips\":[[\"pct\",\"@pct{(0.00%)}\"]]},\"id\":\"5d9e540e-9c94-48e1-ae62-592e0517edd9\",\"type\":\"HoverTool\"},{\"attributes\":{\"callback\":null,\"column_names\":[\"x\",\"y\"],\"data\":{\"x\":[0,0],\"y\":[0.5,1.5]}},\"id\":\"bcea247b-2c27-4213-9f1f-0e9f7ba89756\",\"type\":\"ColumnDataSource\"},{\"attributes\":{\"fill_alpha\":{\"value\":0.1},\"fill_color\":{\"value\":\"#1f77b4\"},\"height\":{\"value\":0.3},\"left\":{\"value\":-0.4090909090909091},\"line_alpha\":{\"value\":0.1},\"line_color\":{\"value\":\"#1f77b4\"},\"right\":{\"value\":0},\"y\":{\"value\":1}},\"id\":\"8dd03380-2705-4c06-a188-00dac9dbe062\",\"type\":\"HBar\"},{\"attributes\":{\"data_source\":{\"id\":\"e5d358eb-d857-4989-9f05-4fa49a0d9048\",\"type\":\"ColumnDataSource\"},\"glyph\":{\"id\":\"cd7480e2-2b79-4a44-a645-22c35036a45d\",\"type\":\"HBar\"},\"hover_glyph\":null,\"muted_glyph\":null,\"nonselection_glyph\":{\"id\":\"c4a0cbeb-11f0-46ad-a23d-7899a29b135e\",\"type\":\"HBar\"},\"selection_glyph\":null},\"id\":\"3ed6232d-072e-4cca-a0d9-f434e07bfc55\",\"type\":\"GlyphRenderer\"},{\"attributes\":{},\"id\":\"c34d5a7d-db5e-47b5-b803-fdd3d2f77d6d\",\"type\":\"BasicTickFormatter\"},{\"attributes\":{\"plot\":{\"id\":\"ce7ab7bc-f435-4100-84eb-4049c853302c\",\"subtype\":\"Figure\",\"type\":\"Plot\"}},\"id\":\"019a992e-fec2-4139-9d19-5a954c2292af\",\"type\":\"WheelZoomTool\"},{\"attributes\":{\"plot\":{\"id\":\"d94df9e2-66d1-4a66-bc25-ce791a2b080d\",\"subtype\":\"Figure\",\"type\":\"Plot\"},\"ticker\":{\"id\":\"0d80d68d-70e2-4628-bca7-cce475200182\",\"type\":\"BasicTicker\"}},\"id\":\"19017c3a-5a47-4e77-9f73-213ceb3aec76\",\"type\":\"Grid\"},{\"attributes\":{\"fill_color\":{\"value\":\"#E4E02C\"},\"height\":{\"value\":0.3},\"left\":{\"value\":0.41913214990138065},\"line_color\":{\"value\":\"#E4E02C\"},\"right\":{\"value\":0.5641025641025641},\"y\":{\"value\":1}},\"id\":\"11d4a16c-b92e-4df9-b816-c0cae612249d\",\"type\":\"HBar\"},{\"attributes\":{},\"id\":\"2942bb98-325d-48dc-be79-29eea2e10340\",\"type\":\"LinearScale\"},{\"attributes\":{},\"id\":\"3df60935-9f66-4506-9420-9c0deec32026\",\"type\":\"BasicTicker\"},{\"attributes\":{\"line_alpha\":{\"value\":0.1},\"line_color\":{\"value\":\"#1f77b4\"},\"line_dash\":[6],\"line_width\":{\"value\":2},\"x\":{\"field\":\"x\"},\"y\":{\"field\":\"y\"}},\"id\":\"32f7f40b-03a7-4fc9-b2a8-15441e21fc0a\",\"type\":\"Line\"},{\"attributes\":{},\"id\":\"68591249-3523-47f2-8bba-7cd2efdba7bc\",\"type\":\"ToolEvents\"},{\"attributes\":{},\"id\":\"0494cab8-5ec9-4c94-9f84-cb520092a9ff\",\"type\":\"LinearScale\"},{\"attributes\":{\"data_source\":{\"id\":\"bf11dfaa-12ee-4b76-88a3-9ee33f8a990d\",\"type\":\"ColumnDataSource\"},\"glyph\":{\"id\":\"5c2be628-d198-4496-9632-77c19a0e08e4\",\"type\":\"Line\"},\"hover_glyph\":null,\"muted_glyph\":null,\"nonselection_glyph\":{\"id\":\"9ae379a4-bfea-4e73-801a-d2fcfca3a09a\",\"type\":\"Line\"},\"selection_glyph\":null},\"id\":\"8704e19a-a12e-462a-8464-c0f4633a7553\",\"type\":\"GlyphRenderer\"},{\"attributes\":{},\"id\":\"6d59cb1e-ff8f-465f-87be-e2b36689ce3c\",\"type\":\"BasicTicker\"},{\"attributes\":{\"line_color\":{\"value\":\"#AAB2A5\"},\"line_dash\":[6],\"line_width\":{\"value\":2},\"x\":{\"field\":\"x\"},\"y\":{\"field\":\"y\"}},\"id\":\"f4035272-b97a-4c15-bbcb-7fad88d27e6a\",\"type\":\"Line\"},{\"attributes\":{\"callback\":null,\"data\":{}},\"id\":\"e2938160-db59-4c7f-bd77-4c3fa2732eb8\",\"type\":\"ColumnDataSource\"},{\"attributes\":{\"callback\":null,\"column_names\":[\"x\",\"y\"],\"data\":{\"x\":[0.5641025641025641,0.5641025641025641],\"y\":[0.5,1.5]}},\"id\":\"bf11dfaa-12ee-4b76-88a3-9ee33f8a990d\",\"type\":\"ColumnDataSource\"},{\"attributes\":{\"data_source\":{\"id\":\"f1e280eb-8663-4676-8716-bd861416601e\",\"type\":\"ColumnDataSource\"},\"glyph\":{\"id\":\"cf3a634b-b193-4413-853d-dfc0b6181478\",\"type\":\"Line\"},\"hover_glyph\":null,\"muted_glyph\":null,\"nonselection_glyph\":{\"id\":\"20edbae4-4d58-4848-a99f-a4434e61f260\",\"type\":\"Line\"},\"selection_glyph\":null},\"id\":\"5be1ebcb-695a-43c3-94b5-752014747d1b\",\"type\":\"GlyphRenderer\"},{\"attributes\":{\"callback\":null,\"end\":2},\"id\":\"67c77032-a537-4bfc-8550-ba4c8480106d\",\"type\":\"Range1d\"},{\"attributes\":{\"data_source\":{\"id\":\"c515ceb8-aefb-459d-9200-2b4298b11bd0\",\"type\":\"ColumnDataSource\"},\"glyph\":{\"id\":\"deb6092d-987a-46ea-8ac9-af01dfe6b8a3\",\"type\":\"Line\"},\"hover_glyph\":null,\"muted_glyph\":null,\"nonselection_glyph\":{\"id\":\"b66c0378-f7cb-4da4-9c59-22cee39295a5\",\"type\":\"Line\"},\"selection_glyph\":null},\"id\":\"b455f470-42ab-455f-a321-4bdd0c077457\",\"type\":\"GlyphRenderer\"},{\"attributes\":{\"plot\":{\"id\":\"ce7ab7bc-f435-4100-84eb-4049c853302c\",\"subtype\":\"Figure\",\"type\":\"Plot\"}},\"id\":\"aac47174-ad45-466d-9743-1dd0e2c0872b\",\"type\":\"PanTool\"},{\"attributes\":{\"fill_alpha\":{\"value\":0.1},\"fill_color\":{\"value\":\"#1f77b4\"},\"height\":{\"value\":0.3},\"left\":{\"value\":-0.4871541501976285},\"line_alpha\":{\"value\":0.1},\"line_color\":{\"value\":\"#1f77b4\"},\"right\":{\"value\":-0.47529644268774707},\"y\":{\"value\":1}},\"id\":\"ddd6c2e2-feb5-4b79-a1e1-ff6596d8ae9f\",\"type\":\"HBar\"},{\"attributes\":{\"plot\":null,\"text\":\"\"},\"id\":\"878876bc-adc2-4879-b1fe-e2478c3216c7\",\"type\":\"Title\"},{\"attributes\":{\"fill_color\":{\"value\":\"#E43216\"},\"height\":{\"value\":0.3},\"left\":{\"value\":0.45652173913043476},\"line_color\":{\"value\":\"#E43216\"},\"right\":{\"value\":0.5128458498023715},\"y\":{\"value\":1}},\"id\":\"183b5764-57ed-48b3-a67a-a2a9ade25eb0\",\"type\":\"HBar\"},{\"attributes\":{\"plot\":{\"id\":\"ce7ab7bc-f435-4100-84eb-4049c853302c\",\"subtype\":\"Figure\",\"type\":\"Plot\"}},\"id\":\"999ddda0-6fcb-4d1c-b036-b73d81fbfd2a\",\"type\":\"ResetTool\"},{\"attributes\":{\"line_alpha\":{\"value\":0.1},\"line_color\":{\"value\":\"#1f77b4\"},\"line_dash\":[6],\"line_width\":{\"value\":2},\"x\":{\"field\":\"x\"},\"y\":{\"field\":\"y\"}},\"id\":\"20edbae4-4d58-4848-a99f-a4434e61f260\",\"type\":\"Line\"},{\"attributes\":{\"line_alpha\":{\"value\":0.1},\"line_color\":{\"value\":\"#1f77b4\"},\"line_dash\":[6],\"line_width\":{\"value\":2},\"x\":{\"field\":\"x\"},\"y\":{\"field\":\"y\"}},\"id\":\"53ac3aa7-6a11-43c0-966e-10ea9cb01949\",\"type\":\"Line\"},{\"attributes\":{\"plot\":null,\"text\":\"\"},\"id\":\"c08dba63-ca2b-4633-b3e5-1336964ecb77\",\"type\":\"Title\"},{\"attributes\":{\"formatter\":{\"id\":\"54b0f264-9710-40a1-96a9-bf8af21ad438\",\"type\":\"BasicTickFormatter\"},\"plot\":{\"id\":\"d94df9e2-66d1-4a66-bc25-ce791a2b080d\",\"subtype\":\"Figure\",\"type\":\"Plot\"},\"ticker\":{\"id\":\"0d80d68d-70e2-4628-bca7-cce475200182\",\"type\":\"BasicTicker\"}},\"id\":\"d381b0bd-aa3e-42f3-9d13-ed0ead13de3c\",\"type\":\"LinearAxis\"},{\"attributes\":{},\"id\":\"ce608cb6-95c3-4083-92bd-1b517347eb6c\",\"type\":\"BasicTicker\"},{\"attributes\":{\"data_source\":{\"id\":\"8c421d1b-bce8-4952-b3bf-47ad2690f3a3\",\"type\":\"ColumnDataSource\"},\"glyph\":{\"id\":\"cbcf193d-a444-4d01-a7a0-285af90bab3f\",\"type\":\"VBar\"},\"hover_glyph\":null,\"muted_glyph\":null,\"nonselection_glyph\":{\"id\":\"6b1450cc-1dbf-4a0e-8410-05424ac555a6\",\"type\":\"VBar\"},\"selection_glyph\":null},\"id\":\"69770db5-4393-4ab0-a682-95022b369510\",\"type\":\"GlyphRenderer\"},{\"attributes\":{\"align\":\"center\",\"plot\":{\"id\":\"ce7ab7bc-f435-4100-84eb-4049c853302c\",\"subtype\":\"Figure\",\"type\":\"Plot\"},\"text\":\"Rush/delays within time thresholds drop off\"},\"id\":\"33903b82-5ab7-41da-9227-bf469211cd38\",\"type\":\"Title\"},{\"attributes\":{\"line_color\":{\"value\":\"#AAB2A5\"},\"line_dash\":[6],\"line_width\":{\"value\":2},\"x\":{\"field\":\"x\"},\"y\":{\"field\":\"y\"}},\"id\":\"133e257c-200c-4fcd-b702-810fa483260d\",\"type\":\"Line\"},{\"attributes\":{\"line_alpha\":{\"value\":0.1},\"line_color\":{\"value\":\"#1f77b4\"},\"line_dash\":[6],\"line_width\":{\"value\":2},\"x\":{\"field\":\"x\"},\"y\":{\"field\":\"y\"}},\"id\":\"9ae379a4-bfea-4e73-801a-d2fcfca3a09a\",\"type\":\"Line\"},{\"attributes\":{\"above\":[{\"id\":\"745b4904-2278-4ff1-a8e7-bf037dc8662c\",\"type\":\"Title\"}],\"below\":[{\"id\":\"d381b0bd-aa3e-42f3-9d13-ed0ead13de3c\",\"type\":\"LinearAxis\"}],\"left\":[{\"id\":\"1fb266d8-fa5c-4af5-a8cf-c8f5c7ab88ed\",\"type\":\"LinearAxis\"}],\"plot_height\":300,\"plot_width\":400,\"renderers\":[{\"id\":\"d381b0bd-aa3e-42f3-9d13-ed0ead13de3c\",\"type\":\"LinearAxis\"},{\"id\":\"19017c3a-5a47-4e77-9f73-213ceb3aec76\",\"type\":\"Grid\"},{\"id\":\"1fb266d8-fa5c-4af5-a8cf-c8f5c7ab88ed\",\"type\":\"LinearAxis\"},{\"id\":\"fb1d97a9-acbf-4119-b059-6346c960ee0e\",\"type\":\"Grid\"},{\"id\":\"745b4904-2278-4ff1-a8e7-bf037dc8662c\",\"type\":\"Title\"},{\"id\":\"4bf3f3ec-93b6-40ea-bf17-8691741af43f\",\"type\":\"GlyphRenderer\"}],\"title\":{\"id\":\"c08dba63-ca2b-4633-b3e5-1336964ecb77\",\"type\":\"Title\"},\"tool_events\":{\"id\":\"e7714eb5-2e57-41b5-a873-e08b294397ff\",\"type\":\"ToolEvents\"},\"toolbar\":{\"id\":\"c089201e-c947-4c61-a10b-a55020226f8d\",\"type\":\"Toolbar\"},\"x_range\":{\"id\":\"b27ca14f-9635-4943-b9b8-c6e07ba92717\",\"type\":\"DataRange1d\"},\"x_scale\":{\"id\":\"5f4e8aa0-8e15-483f-913d-afd442439023\",\"type\":\"LinearScale\"},\"y_range\":{\"id\":\"fcff3930-fd2c-476c-a098-6a9a9669f591\",\"type\":\"DataRange1d\"},\"y_scale\":{\"id\":\"662fa9f6-d4c5-4eed-9a3a-08e0ab790ce4\",\"type\":\"LinearScale\"}},\"id\":\"d94df9e2-66d1-4a66-bc25-ce791a2b080d\",\"subtype\":\"Figure\",\"type\":\"Plot\"},{\"attributes\":{},\"id\":\"e7714eb5-2e57-41b5-a873-e08b294397ff\",\"type\":\"ToolEvents\"},{\"attributes\":{\"line_alpha\":{\"value\":0.1},\"line_color\":{\"value\":\"#1f77b4\"},\"line_dash\":[6],\"line_width\":{\"value\":2},\"x\":{\"field\":\"x\"},\"y\":{\"field\":\"y\"}},\"id\":\"3cf365cf-763f-4360-b27c-684ff0c4a4e6\",\"type\":\"Line\"},{\"attributes\":{\"callback\":null,\"column_names\":[\"x\",\"y\"],\"data\":{\"x\":[0.45652173913043476,0.45652173913043476],\"y\":[0.5,1.5]}},\"id\":\"c515ceb8-aefb-459d-9200-2b4298b11bd0\",\"type\":\"ColumnDataSource\"},{\"attributes\":{\"data_source\":{\"id\":\"89b8646e-a1eb-4946-aaa3-6560068b6fac\",\"type\":\"ColumnDataSource\"},\"glyph\":{\"id\":\"646c1b3a-4334-4478-809d-91c80dfa5df1\",\"type\":\"HBar\"},\"hover_glyph\":null,\"muted_glyph\":null,\"nonselection_glyph\":{\"id\":\"4c6f6758-3392-4d7f-b003-5fb90fcfe125\",\"type\":\"HBar\"},\"selection_glyph\":null},\"id\":\"ff2686df-9b1a-49dd-91b1-f3e82b8903a6\",\"type\":\"GlyphRenderer\"},{\"attributes\":{\"fill_color\":{\"value\":\"#E4E02C\"},\"height\":{\"value\":0.3},\"left\":{\"value\":0.3577075098814229},\"line_color\":{\"value\":\"#E4E02C\"},\"right\":{\"value\":0.45652173913043476},\"y\":{\"value\":1}},\"id\":\"f02fec3c-baf3-4aae-94b9-5224b64e74d3\",\"type\":\"HBar\"},{\"attributes\":{\"data_source\":{\"id\":\"1463b6e7-eb1e-4e1d-8c41-3aa4e626f346\",\"type\":\"ColumnDataSource\"},\"glyph\":{\"id\":\"af5ef4e7-ccb3-4001-b91f-105673ff4397\",\"type\":\"HBar\"},\"hover_glyph\":null,\"muted_glyph\":null,\"nonselection_glyph\":{\"id\":\"ab72806d-3c3f-4d1b-a3d8-62eeaa1a9166\",\"type\":\"HBar\"},\"selection_glyph\":null},\"id\":\"bd9d4b4e-75e7-45e7-b846-9b6cab5a61cf\",\"type\":\"GlyphRenderer\"},{\"attributes\":{},\"id\":\"5f4e8aa0-8e15-483f-913d-afd442439023\",\"type\":\"LinearScale\"},{\"attributes\":{\"fill_alpha\":{\"value\":0.1},\"fill_color\":{\"value\":\"#1f77b4\"},\"height\":{\"value\":0.3},\"line_alpha\":{\"value\":0.1},\"line_color\":{\"value\":\"#1f77b4\"},\"right\":{\"value\":0.3577075098814229},\"y\":{\"value\":1}},\"id\":\"712692e9-06cd-45f5-8339-c0fd2b19a652\",\"type\":\"HBar\"},{\"attributes\":{\"data_source\":{\"id\":\"219546ee-cc50-4dfa-bab8-7a2fc14e3e0c\",\"type\":\"ColumnDataSource\"},\"glyph\":{\"id\":\"f02fec3c-baf3-4aae-94b9-5224b64e74d3\",\"type\":\"HBar\"},\"hover_glyph\":null,\"muted_glyph\":null,\"nonselection_glyph\":{\"id\":\"91b29a24-b3e5-41b2-8440-f76f71412a7b\",\"type\":\"HBar\"},\"selection_glyph\":null},\"id\":\"1d49bfe5-b876-43d4-a36a-71920aa9305b\",\"type\":\"GlyphRenderer\"},{\"attributes\":{\"callback\":null},\"id\":\"9b53f2bf-3513-4171-83e2-fd2345601dd7\",\"type\":\"DataRange1d\"},{\"attributes\":{\"fill_alpha\":{\"value\":0.1},\"fill_color\":{\"value\":\"#1f77b4\"},\"height\":{\"value\":0.3},\"left\":{\"value\":-0.3865877712031558},\"line_alpha\":{\"value\":0.1},\"line_color\":{\"value\":\"#1f77b4\"},\"right\":{\"value\":-0.3264299802761341},\"y\":{\"value\":1}},\"id\":\"e97d0d86-3c53-4882-b543-5243f9a3fcef\",\"type\":\"HBar\"},{\"attributes\":{\"line_color\":{\"value\":\"#AAB2A5\"},\"line_dash\":[6],\"line_width\":{\"value\":2},\"x\":{\"field\":\"x\"},\"y\":{\"field\":\"y\"}},\"id\":\"354c5356-c2a1-4a3f-9927-e6400b489ea7\",\"type\":\"Line\"},{\"attributes\":{\"align\":\"center\",\"plot\":{\"id\":\"d94df9e2-66d1-4a66-bc25-ce791a2b080d\",\"subtype\":\"Figure\",\"type\":\"Plot\"},\"text\":\"Total percentage within thresholds pick up\"},\"id\":\"745b4904-2278-4ff1-a8e7-bf037dc8662c\",\"type\":\"Title\"},{\"attributes\":{\"fill_color\":{\"value\":\"#E43216\"},\"height\":{\"value\":0.3},\"left\":{\"value\":0.5641025641025641},\"line_color\":{\"value\":\"#E43216\"},\"right\":{\"value\":0.611439842209073},\"y\":{\"value\":1}},\"id\":\"76484f09-a0fe-4844-8b12-ab53ef36dbfc\",\"type\":\"HBar\"},{\"attributes\":{\"fill_alpha\":{\"value\":0.1},\"fill_color\":{\"value\":\"#1f77b4\"},\"height\":{\"value\":0.3},\"left\":{\"value\":0.3577075098814229},\"line_alpha\":{\"value\":0.1},\"line_color\":{\"value\":\"#1f77b4\"},\"right\":{\"value\":0.45652173913043476},\"y\":{\"value\":1}},\"id\":\"91b29a24-b3e5-41b2-8440-f76f71412a7b\",\"type\":\"HBar\"},{\"attributes\":{},\"id\":\"61e2e00c-1a5f-447b-87bf-fdf06a6ce306\",\"type\":\"BasicTicker\"},{\"attributes\":{\"data_source\":{\"id\":\"c5245f07-ead9-4be1-b11c-f4624285f6f8\",\"type\":\"ColumnDataSource\"},\"glyph\":{\"id\":\"34c864e2-28c8-49cd-9156-d012c7309add\",\"type\":\"Line\"},\"hover_glyph\":null,\"muted_glyph\":null,\"nonselection_glyph\":{\"id\":\"b50cd764-2aed-40f6-b83f-2adc79fdadc9\",\"type\":\"Line\"},\"selection_glyph\":null},\"id\":\"c7bd7907-2228-4243-8ddd-12e8d5ed7587\",\"type\":\"GlyphRenderer\"},{\"attributes\":{\"callback\":null,\"column_names\":[\"pct\",\"colors\",\"index\",\"thresholds\"],\"data\":{\"colors\":[\"#459E0F\",\"#E4E02C\",\"#E43216\"],\"index\":[0,1,2],\"pct\":{\"__ndarray__\":\"oIqD1pyJ6D/G7E4aXh/FP3TRRRdddLE/\",\"dtype\":\"float64\",\"shape\":[3]},\"thresholds\":[\"green\",\"yellow\",\"red\"]}},\"id\":\"8c421d1b-bce8-4952-b3bf-47ad2690f3a3\",\"type\":\"ColumnDataSource\"},{\"attributes\":{\"fill_alpha\":{\"value\":0.1},\"fill_color\":{\"value\":\"#1f77b4\"},\"line_alpha\":{\"value\":0.1},\"line_color\":{\"value\":\"#1f77b4\"},\"top\":{\"field\":\"pct\"},\"width\":{\"value\":0.6},\"x\":{\"field\":\"index\"}},\"id\":\"6b1450cc-1dbf-4a0e-8410-05424ac555a6\",\"type\":\"VBar\"},{\"attributes\":{\"dimension\":1,\"grid_line_color\":{\"value\":null},\"plot\":{\"id\":\"dca7b7f0-44aa-47ac-af24-a234fb39f7f2\",\"subtype\":\"Figure\",\"type\":\"Plot\"},\"ticker\":{\"id\":\"61e2e00c-1a5f-447b-87bf-fdf06a6ce306\",\"type\":\"BasicTicker\"}},\"id\":\"79746763-9424-4ea7-a918-a45b319d9161\",\"type\":\"Grid\"},{\"attributes\":{\"callback\":null,\"data\":{}},\"id\":\"2d139a22-f6ed-465a-b04b-c204bf388049\",\"type\":\"ColumnDataSource\"},{\"attributes\":{\"data_source\":{\"id\":\"e1e067fb-708d-4539-87fe-62db1dba04d9\",\"type\":\"ColumnDataSource\"},\"glyph\":{\"id\":\"ef7eed38-80cc-49ac-995f-e94114119a29\",\"type\":\"Line\"},\"hover_glyph\":null,\"muted_glyph\":null,\"nonselection_glyph\":{\"id\":\"994f32da-b4df-4111-bb3b-a70829f0dd78\",\"type\":\"Line\"},\"selection_glyph\":null},\"id\":\"b8a77174-6e2b-4fd2-8ac1-0e117a5039e8\",\"type\":\"GlyphRenderer\"},{\"attributes\":{\"data_source\":{\"id\":\"5d72c19f-4589-4083-b0c1-ebe91555fac9\",\"type\":\"ColumnDataSource\"},\"glyph\":{\"id\":\"64b94141-8251-4a5d-9935-d3f643afb1cd\",\"type\":\"HBar\"},\"hover_glyph\":null,\"muted_glyph\":null,\"nonselection_glyph\":{\"id\":\"ddd6c2e2-feb5-4b79-a1e1-ff6596d8ae9f\",\"type\":\"HBar\"},\"selection_glyph\":null},\"id\":\"b3ae3125-e5ad-4676-9186-6fd459621739\",\"type\":\"GlyphRenderer\"},{\"attributes\":{\"line_alpha\":{\"value\":0.1},\"line_color\":{\"value\":\"#1f77b4\"},\"line_dash\":[6],\"line_width\":{\"value\":2},\"x\":{\"field\":\"x\"},\"y\":{\"field\":\"y\"}},\"id\":\"e7f92908-fb10-4f8b-b166-be46db1c4558\",\"type\":\"Line\"},{\"attributes\":{\"formatter\":{\"id\":\"4839d25c-9d5c-4924-ad34-868d7fa9210d\",\"type\":\"BasicTickFormatter\"},\"plot\":{\"id\":\"03b71f13-a961-45fb-8a03-14e111e6a794\",\"subtype\":\"Figure\",\"type\":\"Plot\"},\"ticker\":{\"id\":\"c8607748-7f1a-4490-9e2e-9eabb2a8c412\",\"type\":\"BasicTicker\"}},\"id\":\"13334595-3d3d-4faa-982f-b4bb52268473\",\"type\":\"LinearAxis\"},{\"attributes\":{\"line_color\":{\"value\":\"#AAB2A5\"},\"line_dash\":[6],\"line_width\":{\"value\":2},\"x\":{\"field\":\"x\"},\"y\":{\"field\":\"y\"}},\"id\":\"34c864e2-28c8-49cd-9156-d012c7309add\",\"type\":\"Line\"},{\"attributes\":{\"data_source\":{\"id\":\"bcf72e46-d642-4786-86c6-4bb25a2f3a0c\",\"type\":\"ColumnDataSource\"},\"glyph\":{\"id\":\"2b51c1bc-5fc6-4971-9374-d6112b4b4b77\",\"type\":\"HBar\"},\"hover_glyph\":null,\"muted_glyph\":null,\"nonselection_glyph\":{\"id\":\"8dd03380-2705-4c06-a188-00dac9dbe062\",\"type\":\"HBar\"},\"selection_glyph\":null},\"id\":\"b491f24e-6df3-4700-897c-1685adcee994\",\"type\":\"GlyphRenderer\"},{\"attributes\":{\"above\":[{\"id\":\"33903b82-5ab7-41da-9227-bf469211cd38\",\"type\":\"Title\"}],\"below\":[{\"id\":\"6d648cd4-37ff-4ec6-bf68-164f7326005e\",\"type\":\"LinearAxis\"}],\"left\":[{\"id\":\"6b2b66f4-d9ef-488d-9c2c-accb12ece0e0\",\"type\":\"LinearAxis\"}],\"plot_height\":300,\"plot_width\":400,\"renderers\":[{\"id\":\"6d648cd4-37ff-4ec6-bf68-164f7326005e\",\"type\":\"LinearAxis\"},{\"id\":\"5fc9be33-7f8c-4fb1-8f85-442692acd3c3\",\"type\":\"Grid\"},{\"id\":\"6b2b66f4-d9ef-488d-9c2c-accb12ece0e0\",\"type\":\"LinearAxis\"},{\"id\":\"37b6957f-62d1-4338-bac5-97d42c29145a\",\"type\":\"Grid\"},{\"id\":\"cdd340c1-0cc4-4985-9b07-5d8ea1635946\",\"type\":\"BoxAnnotation\"},{\"id\":\"b491f24e-6df3-4700-897c-1685adcee994\",\"type\":\"GlyphRenderer\"},{\"id\":\"b3660f05-2bde-41e5-9645-be82b63a879a\",\"type\":\"GlyphRenderer\"},{\"id\":\"4afd83d3-6369-4499-9ca3-160a61eebc0d\",\"type\":\"GlyphRenderer\"},{\"id\":\"1299c6c6-34f2-40b9-b018-3207e973920e\",\"type\":\"GlyphRenderer\"},{\"id\":\"b3ae3125-e5ad-4676-9186-6fd459621739\",\"type\":\"GlyphRenderer\"},{\"id\":\"c7bd7907-2228-4243-8ddd-12e8d5ed7587\",\"type\":\"GlyphRenderer\"},{\"id\":\"22d0d366-3859-42a4-bd30-c3df358fb24e\",\"type\":\"GlyphRenderer\"},{\"id\":\"7bbec2d6-03cb-4191-b043-0f1f117fee4c\",\"type\":\"GlyphRenderer\"},{\"id\":\"1d49bfe5-b876-43d4-a36a-71920aa9305b\",\"type\":\"GlyphRenderer\"},{\"id\":\"16949db9-518c-4d63-842e-497271ff6d3d\",\"type\":\"GlyphRenderer\"},{\"id\":\"427c7718-cfc3-48b9-a788-43d24186b039\",\"type\":\"GlyphRenderer\"},{\"id\":\"b455f470-42ab-455f-a321-4bdd0c077457\",\"type\":\"GlyphRenderer\"},{\"id\":\"33903b82-5ab7-41da-9227-bf469211cd38\",\"type\":\"Title\"}],\"title\":{\"id\":\"878876bc-adc2-4879-b1fe-e2478c3216c7\",\"type\":\"Title\"},\"tool_events\":{\"id\":\"65939679-b2b2-4050-b200-efa2e38b7153\",\"type\":\"ToolEvents\"},\"toolbar\":{\"id\":\"4da335a1-e261-438d-a257-9212bd7eee70\",\"type\":\"Toolbar\"},\"x_range\":{\"id\":\"1d47c583-6cbb-4462-a33a-46631d4cde74\",\"type\":\"DataRange1d\"},\"x_scale\":{\"id\":\"0494cab8-5ec9-4c94-9f84-cb520092a9ff\",\"type\":\"LinearScale\"},\"y_range\":{\"id\":\"ce2a9f1d-215d-439f-afb4-c1b2c8e9eede\",\"type\":\"Range1d\"},\"y_scale\":{\"id\":\"a36e186c-510d-4e02-8159-46be2434c7f8\",\"type\":\"LinearScale\"}},\"id\":\"ce7ab7bc-f435-4100-84eb-4049c853302c\",\"subtype\":\"Figure\",\"type\":\"Plot\"},{\"attributes\":{\"callback\":null,\"column_names\":[\"x\",\"y\"],\"data\":{\"x\":[-0.3865877712031558,-0.3865877712031558],\"y\":[0.5,1.5]}},\"id\":\"b8b67a95-442d-457c-bc51-e314f529ab23\",\"type\":\"ColumnDataSource\"},{\"attributes\":{\"data_source\":{\"id\":\"3930c5b0-4d78-4cc7-9067-db26f3431680\",\"type\":\"ColumnDataSource\"},\"glyph\":{\"id\":\"fd9c42f8-f847-4c4e-96ec-1e47090719d3\",\"type\":\"HBar\"},\"hover_glyph\":null,\"muted_glyph\":null,\"nonselection_glyph\":{\"id\":\"e97d0d86-3c53-4882-b543-5243f9a3fcef\",\"type\":\"HBar\"},\"selection_glyph\":null},\"id\":\"7c7341cd-54bb-4b74-b454-d22b8e14fe5e\",\"type\":\"GlyphRenderer\"},{\"attributes\":{\"text\":\"<h1 style='margin-left:200px;margin-right:-400px;margin-bottom:18px;font-size:20px;                color:#7D7575'> Time thresholds for pick ups / drop offs </h1>\"},\"id\":\"d54b764c-5c55-42da-a553-9273e32ebeb4\",\"type\":\"Div\"},{\"attributes\":{\"line_color\":{\"value\":\"#AAB2A5\"},\"line_dash\":[6],\"line_width\":{\"value\":2},\"x\":{\"field\":\"x\"},\"y\":{\"field\":\"y\"}},\"id\":\"358b6d1e-b75d-4299-9f81-135b25119123\",\"type\":\"Line\"},{\"attributes\":{\"line_alpha\":{\"value\":0.1},\"line_color\":{\"value\":\"#1f77b4\"},\"line_dash\":[6],\"line_width\":{\"value\":2},\"x\":{\"field\":\"x\"},\"y\":{\"field\":\"y\"}},\"id\":\"b50cd764-2aed-40f6-b83f-2adc79fdadc9\",\"type\":\"Line\"},{\"attributes\":{\"formatter\":{\"id\":\"a3d9e88b-bcb9-4166-b9e6-83b229101809\",\"type\":\"BasicTickFormatter\"},\"plot\":{\"id\":\"03b71f13-a961-45fb-8a03-14e111e6a794\",\"subtype\":\"Figure\",\"type\":\"Plot\"},\"ticker\":{\"id\":\"ce608cb6-95c3-4083-92bd-1b517347eb6c\",\"type\":\"BasicTicker\"}},\"id\":\"43627124-3e2a-4d20-90e7-a4ff96d3f2cb\",\"type\":\"LinearAxis\"},{\"attributes\":{\"fill_color\":{\"value\":\"#459E0F\"},\"height\":{\"value\":0.3},\"line_color\":{\"value\":\"#459E0F\"},\"right\":{\"value\":0.3577075098814229},\"y\":{\"value\":1}},\"id\":\"a7101a49-f390-455b-9e1a-496926718ba0\",\"type\":\"HBar\"},{\"attributes\":{},\"id\":\"771bf584-b9cd-47e9-9857-027bbaf90a8a\",\"type\":\"LinearScale\"},{\"attributes\":{\"line_color\":{\"value\":\"#AAB2A5\"},\"line_dash\":[6],\"line_width\":{\"value\":2},\"x\":{\"field\":\"x\"},\"y\":{\"field\":\"y\"}},\"id\":\"deb6092d-987a-46ea-8ac9-af01dfe6b8a3\",\"type\":\"Line\"},{\"attributes\":{\"fill_alpha\":{\"value\":0.1},\"fill_color\":{\"value\":\"#1f77b4\"},\"height\":{\"value\":0.3},\"left\":{\"value\":-0.388560157790927},\"line_alpha\":{\"value\":0.1},\"line_color\":{\"value\":\"#1f77b4\"},\"right\":{\"value\":-0.3865877712031558},\"y\":{\"value\":1}},\"id\":\"4c6f6758-3392-4d7f-b003-5fb90fcfe125\",\"type\":\"HBar\"},{\"attributes\":{\"fill_color\":{\"value\":\"#E4E02C\"},\"height\":{\"value\":0.3},\"left\":{\"value\":-0.3865877712031558},\"line_color\":{\"value\":\"#E4E02C\"},\"right\":{\"value\":-0.3264299802761341},\"y\":{\"value\":1}},\"id\":\"fd9c42f8-f847-4c4e-96ec-1e47090719d3\",\"type\":\"HBar\"},{\"attributes\":{\"callback\":null,\"column_names\":[\"x\",\"y\"],\"data\":{\"x\":[-0.47529644268774707,-0.47529644268774707],\"y\":[0.5,1.5]}},\"id\":\"c5245f07-ead9-4be1-b11c-f4624285f6f8\",\"type\":\"ColumnDataSource\"},{\"attributes\":{\"fill_color\":{\"value\":\"#E4E02C\"},\"height\":{\"value\":0.3},\"left\":{\"value\":-0.47529644268774707},\"line_color\":{\"value\":\"#E4E02C\"},\"right\":{\"value\":-0.4090909090909091},\"y\":{\"value\":1}},\"id\":\"7812cc40-ad36-4efb-858d-9cbf263fe3b8\",\"type\":\"HBar\"},{\"attributes\":{},\"id\":\"1f17d12c-3e8a-417a-bc01-e1e1ad9cfe84\",\"type\":\"LinearScale\"},{\"attributes\":{\"callback\":null,\"column_names\":[\"pct\",\"colors\",\"index\",\"thresholds\"],\"data\":{\"colors\":[\"#459E0F\",\"#E4E02C\",\"#E43216\"],\"index\":[0,1,2],\"pct\":{\"__ndarray__\":\"4vPHHKXb5z8apEEapEHKP3wxesodP6k/\",\"dtype\":\"float64\",\"shape\":[3]},\"thresholds\":[\"green\",\"yellow\",\"red\"]}},\"id\":\"89d52f52-9d66-48aa-a629-85789f482872\",\"type\":\"ColumnDataSource\"},{\"attributes\":{\"fill_color\":{\"value\":\"#E43216\"},\"height\":{\"value\":0.3},\"left\":{\"value\":-0.388560157790927},\"line_color\":{\"value\":\"#E43216\"},\"right\":{\"value\":-0.3865877712031558},\"y\":{\"value\":1}},\"id\":\"646c1b3a-4334-4478-809d-91c80dfa5df1\",\"type\":\"HBar\"},{\"attributes\":{\"fill_alpha\":{\"value\":0.1},\"fill_color\":{\"value\":\"#1f77b4\"},\"height\":{\"value\":0.3},\"left\":{\"value\":-0.47529644268774707},\"line_alpha\":{\"value\":0.1},\"line_color\":{\"value\":\"#1f77b4\"},\"right\":{\"value\":-0.4090909090909091},\"y\":{\"value\":1}},\"id\":\"13b03b20-e031-4926-b1a4-4c26d73bfcc2\",\"type\":\"HBar\"},{\"attributes\":{\"fill_color\":{\"value\":\"#459E0F\"},\"height\":{\"value\":0.3},\"left\":{\"value\":-0.3264299802761341},\"line_color\":{\"value\":\"#459E0F\"},\"right\":{\"value\":0},\"y\":{\"value\":1}},\"id\":\"af5ef4e7-ccb3-4001-b91f-105673ff4397\",\"type\":\"HBar\"},{\"attributes\":{\"dimension\":1,\"plot\":{\"id\":\"d94df9e2-66d1-4a66-bc25-ce791a2b080d\",\"subtype\":\"Figure\",\"type\":\"Plot\"},\"ticker\":{\"id\":\"1e440bd8-0766-4238-868f-1f01a6abb439\",\"type\":\"BasicTicker\"}},\"id\":\"fb1d97a9-acbf-4119-b059-6346c960ee0e\",\"type\":\"Grid\"},{\"attributes\":{\"bottom_units\":\"screen\",\"fill_alpha\":{\"value\":0.5},\"fill_color\":{\"value\":\"lightgrey\"},\"left_units\":\"screen\",\"level\":\"overlay\",\"line_alpha\":{\"value\":1.0},\"line_color\":{\"value\":\"black\"},\"line_dash\":[4,4],\"line_width\":{\"value\":2},\"plot\":null,\"render_mode\":\"css\",\"right_units\":\"screen\",\"top_units\":\"screen\"},\"id\":\"115c2d5b-82e8-4792-8035-bd3543baf83b\",\"type\":\"BoxAnnotation\"},{\"attributes\":{\"callback\":null,\"column_names\":[\"x\",\"y\"],\"data\":{\"x\":[0,0],\"y\":[0.5,1.5]}},\"id\":\"e1e067fb-708d-4539-87fe-62db1dba04d9\",\"type\":\"ColumnDataSource\"},{\"attributes\":{},\"id\":\"54b0f264-9710-40a1-96a9-bf8af21ad438\",\"type\":\"BasicTickFormatter\"},{\"attributes\":{\"data_source\":{\"id\":\"f15acd05-0d27-48e1-a1cd-a3a8fcb5538b\",\"type\":\"ColumnDataSource\"},\"glyph\":{\"id\":\"c2778bbd-57a2-420d-afdc-ea8dcb8d315c\",\"type\":\"Line\"},\"hover_glyph\":null,\"muted_glyph\":null,\"nonselection_glyph\":{\"id\":\"84ebf4be-bb51-4666-886b-529510c3c0ea\",\"type\":\"Line\"},\"selection_glyph\":null},\"id\":\"19106af9-5aa3-4eea-81f2-a7bfa158e50b\",\"type\":\"GlyphRenderer\"},{\"attributes\":{\"callback\":null,\"data\":{}},\"id\":\"5d72c19f-4589-4083-b0c1-ebe91555fac9\",\"type\":\"ColumnDataSource\"},{\"attributes\":{\"formatter\":{\"id\":\"643dd174-23a4-48cd-8e39-8e1050fe83b2\",\"type\":\"BasicTickFormatter\"},\"plot\":{\"id\":\"d94df9e2-66d1-4a66-bc25-ce791a2b080d\",\"subtype\":\"Figure\",\"type\":\"Plot\"},\"ticker\":{\"id\":\"1e440bd8-0766-4238-868f-1f01a6abb439\",\"type\":\"BasicTicker\"}},\"id\":\"1fb266d8-fa5c-4af5-a8cf-c8f5c7ab88ed\",\"type\":\"LinearAxis\"},{\"attributes\":{},\"id\":\"c6aab113-629d-4ed9-b480-66fa62d53203\",\"type\":\"BasicTickFormatter\"},{\"attributes\":{},\"id\":\"65939679-b2b2-4050-b200-efa2e38b7153\",\"type\":\"ToolEvents\"},{\"attributes\":{\"plot\":{\"id\":\"dca7b7f0-44aa-47ac-af24-a234fb39f7f2\",\"subtype\":\"Figure\",\"type\":\"Plot\"}},\"id\":\"8eb863cb-75b6-4e86-b9f8-9062b7e67bd0\",\"type\":\"WheelZoomTool\"},{\"attributes\":{\"formatter\":{\"id\":\"c34d5a7d-db5e-47b5-b803-fdd3d2f77d6d\",\"type\":\"BasicTickFormatter\"},\"plot\":{\"id\":\"ce7ab7bc-f435-4100-84eb-4049c853302c\",\"subtype\":\"Figure\",\"type\":\"Plot\"},\"ticker\":{\"id\":\"3df60935-9f66-4506-9420-9c0deec32026\",\"type\":\"BasicTicker\"}},\"id\":\"6d648cd4-37ff-4ec6-bf68-164f7326005e\",\"type\":\"LinearAxis\"},{\"attributes\":{\"active_drag\":\"auto\",\"active_inspect\":\"auto\",\"active_scroll\":\"auto\",\"active_tap\":\"auto\",\"tools\":[{\"id\":\"5d9e540e-9c94-48e1-ae62-592e0517edd9\",\"type\":\"HoverTool\"}]},\"id\":\"a9a6e1ba-c75f-4929-b13a-da53884c5115\",\"type\":\"Toolbar\"},{\"attributes\":{\"children\":[{\"id\":\"d54b764c-5c55-42da-a553-9273e32ebeb4\",\"type\":\"Div\"}]},\"id\":\"314f365d-21bb-42e6-a07c-ea8c2a2d052d\",\"type\":\"WidgetBox\"},{\"attributes\":{\"data_source\":{\"id\":\"2d139a22-f6ed-465a-b04b-c204bf388049\",\"type\":\"ColumnDataSource\"},\"glyph\":{\"id\":\"183b5764-57ed-48b3-a67a-a2a9ade25eb0\",\"type\":\"HBar\"},\"hover_glyph\":null,\"muted_glyph\":null,\"nonselection_glyph\":{\"id\":\"123f9949-1580-4b48-a74c-4492a5634892\",\"type\":\"HBar\"},\"selection_glyph\":null},\"id\":\"427c7718-cfc3-48b9-a788-43d24186b039\",\"type\":\"GlyphRenderer\"},{\"attributes\":{\"grid_line_color\":{\"value\":null},\"plot\":{\"id\":\"dca7b7f0-44aa-47ac-af24-a234fb39f7f2\",\"subtype\":\"Figure\",\"type\":\"Plot\"},\"ticker\":{\"id\":\"8b083641-78b6-4b83-88ec-37c356f0a2a7\",\"type\":\"BasicTicker\"}},\"id\":\"9f6cac04-d7ba-43c2-bc9f-9155a0af3389\",\"type\":\"Grid\"},{\"attributes\":{\"align\":\"center\",\"plot\":{\"id\":\"03b71f13-a961-45fb-8a03-14e111e6a794\",\"subtype\":\"Figure\",\"type\":\"Plot\"},\"text\":\"Total percentage within thresholds drop off\"},\"id\":\"95f4ba63-ced8-4ce5-a240-4f39d7ec01eb\",\"type\":\"Title\"},{\"attributes\":{\"callback\":null},\"id\":\"fcff3930-fd2c-476c-a098-6a9a9669f591\",\"type\":\"DataRange1d\"},{\"attributes\":{\"fill_color\":{\"value\":\"#E43216\"},\"height\":{\"value\":0.3},\"left\":{\"value\":-0.4871541501976285},\"line_color\":{\"value\":\"#E43216\"},\"right\":{\"value\":-0.47529644268774707},\"y\":{\"value\":1}},\"id\":\"64b94141-8251-4a5d-9935-d3f643afb1cd\",\"type\":\"HBar\"},{\"attributes\":{\"plot\":{\"id\":\"ce7ab7bc-f435-4100-84eb-4049c853302c\",\"subtype\":\"Figure\",\"type\":\"Plot\"}},\"id\":\"550576c4-5f92-45b4-b750-55d81e827bbb\",\"type\":\"HelpTool\"},{\"attributes\":{\"line_color\":{\"value\":\"#AAB2A5\"},\"line_dash\":[6],\"line_width\":{\"value\":2},\"x\":{\"field\":\"x\"},\"y\":{\"field\":\"y\"}},\"id\":\"2db8b079-fe44-44bb-b48b-9f959133642e\",\"type\":\"Line\"},{\"attributes\":{\"callback\":null},\"id\":\"46c3cd14-0f34-4449-91d0-5677f874071e\",\"type\":\"DataRange1d\"},{\"attributes\":{\"children\":[{\"id\":\"dca7b7f0-44aa-47ac-af24-a234fb39f7f2\",\"subtype\":\"Figure\",\"type\":\"Plot\"},{\"id\":\"d94df9e2-66d1-4a66-bc25-ce791a2b080d\",\"subtype\":\"Figure\",\"type\":\"Plot\"}]},\"id\":\"9eb189a0-71b2-4609-9c11-9f0561e95688\",\"type\":\"Row\"},{\"attributes\":{\"children\":[{\"id\":\"314f365d-21bb-42e6-a07c-ea8c2a2d052d\",\"type\":\"WidgetBox\"},{\"id\":\"6a6e5a80-7d5e-4d1a-b3b8-78e38badc439\",\"type\":\"Column\"}]},\"id\":\"d7a73ecc-00af-467c-a84e-b395fe1cdaea\",\"type\":\"Column\"},{\"attributes\":{\"overlay\":{\"id\":\"cdd340c1-0cc4-4985-9b07-5d8ea1635946\",\"type\":\"BoxAnnotation\"},\"plot\":{\"id\":\"ce7ab7bc-f435-4100-84eb-4049c853302c\",\"subtype\":\"Figure\",\"type\":\"Plot\"}},\"id\":\"a6db1b76-d939-47d4-b999-6dd7867074d0\",\"type\":\"BoxZoomTool\"},{\"attributes\":{\"plot\":{\"id\":\"ce7ab7bc-f435-4100-84eb-4049c853302c\",\"subtype\":\"Figure\",\"type\":\"Plot\"}},\"id\":\"ce1357d0-d867-4536-a376-38e114f85033\",\"type\":\"SaveTool\"},{\"attributes\":{\"callback\":null,\"data\":{}},\"id\":\"bcf72e46-d642-4786-86c6-4bb25a2f3a0c\",\"type\":\"ColumnDataSource\"},{\"attributes\":{\"data_source\":{\"id\":\"99bf4360-4a7e-48c0-9aef-4c6c7ac870db\",\"type\":\"ColumnDataSource\"},\"glyph\":{\"id\":\"a7101a49-f390-455b-9e1a-496926718ba0\",\"type\":\"HBar\"},\"hover_glyph\":null,\"muted_glyph\":null,\"nonselection_glyph\":{\"id\":\"712692e9-06cd-45f5-8339-c0fd2b19a652\",\"type\":\"HBar\"},\"selection_glyph\":null},\"id\":\"22d0d366-3859-42a4-bd30-c3df358fb24e\",\"type\":\"GlyphRenderer\"},{\"attributes\":{\"above\":[{\"id\":\"62d777b9-40a2-4b2b-9d80-435bcdd8ae74\",\"type\":\"Title\"}],\"below\":[{\"id\":\"69569c84-ac0c-4fd5-a1d5-2da25d789387\",\"type\":\"LinearAxis\"}],\"left\":[{\"id\":\"4b9cea54-e983-4412-9bcc-f1777078ce6a\",\"type\":\"LinearAxis\"}],\"plot_height\":300,\"plot_width\":400,\"renderers\":[{\"id\":\"69569c84-ac0c-4fd5-a1d5-2da25d789387\",\"type\":\"LinearAxis\"},{\"id\":\"9f6cac04-d7ba-43c2-bc9f-9155a0af3389\",\"type\":\"Grid\"},{\"id\":\"4b9cea54-e983-4412-9bcc-f1777078ce6a\",\"type\":\"LinearAxis\"},{\"id\":\"79746763-9424-4ea7-a918-a45b319d9161\",\"type\":\"Grid\"},{\"id\":\"115c2d5b-82e8-4792-8035-bd3543baf83b\",\"type\":\"BoxAnnotation\"},{\"id\":\"bd9d4b4e-75e7-45e7-b846-9b6cab5a61cf\",\"type\":\"GlyphRenderer\"},{\"id\":\"19106af9-5aa3-4eea-81f2-a7bfa158e50b\",\"type\":\"GlyphRenderer\"},{\"id\":\"7c7341cd-54bb-4b74-b454-d22b8e14fe5e\",\"type\":\"GlyphRenderer\"},{\"id\":\"eb5d0748-841c-4fdc-b33a-25e256196049\",\"type\":\"GlyphRenderer\"},{\"id\":\"ff2686df-9b1a-49dd-91b1-f3e82b8903a6\",\"type\":\"GlyphRenderer\"},{\"id\":\"863cf2ad-9969-48f7-9d15-d20718dd849f\",\"type\":\"GlyphRenderer\"},{\"id\":\"3ed6232d-072e-4cca-a0d9-f434e07bfc55\",\"type\":\"GlyphRenderer\"},{\"id\":\"b8a77174-6e2b-4fd2-8ac1-0e117a5039e8\",\"type\":\"GlyphRenderer\"},{\"id\":\"dfeef30e-4f09-4240-8636-e34875359105\",\"type\":\"GlyphRenderer\"},{\"id\":\"5be1ebcb-695a-43c3-94b5-752014747d1b\",\"type\":\"GlyphRenderer\"},{\"id\":\"d744ea1c-87f8-405a-b36e-4dbef7017f5c\",\"type\":\"GlyphRenderer\"},{\"id\":\"8704e19a-a12e-462a-8464-c0f4633a7553\",\"type\":\"GlyphRenderer\"},{\"id\":\"62d777b9-40a2-4b2b-9d80-435bcdd8ae74\",\"type\":\"Title\"}],\"title\":{\"id\":\"5c40d5f2-2fa6-4c7b-844f-3a24cc49b85b\",\"type\":\"Title\"},\"tool_events\":{\"id\":\"8154704f-1fdb-4e37-844c-f0ea5f922cd4\",\"type\":\"ToolEvents\"},\"toolbar\":{\"id\":\"81fdc76c-1afd-4a76-aeb6-f0ec4600ed26\",\"type\":\"Toolbar\"},\"x_range\":{\"id\":\"1d47c583-6cbb-4462-a33a-46631d4cde74\",\"type\":\"DataRange1d\"},\"x_scale\":{\"id\":\"2942bb98-325d-48dc-be79-29eea2e10340\",\"type\":\"LinearScale\"},\"y_range\":{\"id\":\"67c77032-a537-4bfc-8550-ba4c8480106d\",\"type\":\"Range1d\"},\"y_scale\":{\"id\":\"1f17d12c-3e8a-417a-bc01-e1e1ad9cfe84\",\"type\":\"LinearScale\"}},\"id\":\"dca7b7f0-44aa-47ac-af24-a234fb39f7f2\",\"subtype\":\"Figure\",\"type\":\"Plot\"},{\"attributes\":{\"callback\":null},\"id\":\"b27ca14f-9635-4943-b9b8-c6e07ba92717\",\"type\":\"DataRange1d\"},{\"attributes\":{\"plot\":{\"id\":\"dca7b7f0-44aa-47ac-af24-a234fb39f7f2\",\"subtype\":\"Figure\",\"type\":\"Plot\"}},\"id\":\"fab520f4-fff6-4182-9af5-67dc80b98ad6\",\"type\":\"HelpTool\"},{\"attributes\":{\"callback\":null,\"column_names\":[\"x\",\"y\"],\"data\":{\"x\":[-0.4090909090909091,-0.4090909090909091],\"y\":[0.5,1.5]}},\"id\":\"6b368036-bad7-4a91-9ea2-a6a1de07bceb\",\"type\":\"ColumnDataSource\"},{\"attributes\":{\"plot\":null,\"text\":\"\"},\"id\":\"5c40d5f2-2fa6-4c7b-844f-3a24cc49b85b\",\"type\":\"Title\"},{\"attributes\":{\"callback\":null,\"column_names\":[\"x\",\"y\"],\"data\":{\"x\":[0,0],\"y\":[0.5,1.5]}},\"id\":\"f15acd05-0d27-48e1-a1cd-a3a8fcb5538b\",\"type\":\"ColumnDataSource\"},{\"attributes\":{\"callback\":null,\"data\":{}},\"id\":\"219546ee-cc50-4dfa-bab8-7a2fc14e3e0c\",\"type\":\"ColumnDataSource\"},{\"attributes\":{\"plot\":{\"id\":\"03b71f13-a961-45fb-8a03-14e111e6a794\",\"subtype\":\"Figure\",\"type\":\"Plot\"},\"ticker\":{\"id\":\"c8607748-7f1a-4490-9e2e-9eabb2a8c412\",\"type\":\"BasicTicker\"}},\"id\":\"f948a2a0-37d7-4e1f-a832-7d33c12c67ed\",\"type\":\"Grid\"},{\"attributes\":{\"callback\":null,\"data\":{}},\"id\":\"99bf4360-4a7e-48c0-9aef-4c6c7ac870db\",\"type\":\"ColumnDataSource\"},{\"attributes\":{\"fill_color\":{\"field\":\"colors\"},\"line_color\":{\"field\":\"colors\"},\"top\":{\"field\":\"pct\"},\"width\":{\"value\":0.6},\"x\":{\"field\":\"index\"}},\"id\":\"cbcf193d-a444-4d01-a7a0-285af90bab3f\",\"type\":\"VBar\"},{\"attributes\":{\"callback\":null,\"data\":{}},\"id\":\"1463b6e7-eb1e-4e1d-8c41-3aa4e626f346\",\"type\":\"ColumnDataSource\"},{\"attributes\":{},\"id\":\"2705fc8f-8079-4c6d-a5b2-5349dcb0efea\",\"type\":\"BasicTickFormatter\"},{\"attributes\":{\"line_color\":{\"value\":\"#AAB2A5\"},\"line_dash\":[6],\"line_width\":{\"value\":2},\"x\":{\"field\":\"x\"},\"y\":{\"field\":\"y\"}},\"id\":\"06a18b38-43de-4c71-8766-23b277929b28\",\"type\":\"Line\"},{\"attributes\":{\"line_color\":{\"value\":\"#AAB2A5\"},\"line_dash\":[6],\"line_width\":{\"value\":2},\"x\":{\"field\":\"x\"},\"y\":{\"field\":\"y\"}},\"id\":\"cf3a634b-b193-4413-853d-dfc0b6181478\",\"type\":\"Line\"},{\"attributes\":{\"line_color\":{\"value\":\"#AAB2A5\"},\"line_dash\":[6],\"line_width\":{\"value\":2},\"x\":{\"field\":\"x\"},\"y\":{\"field\":\"y\"}},\"id\":\"c2778bbd-57a2-420d-afdc-ea8dcb8d315c\",\"type\":\"Line\"},{\"attributes\":{\"data_source\":{\"id\":\"89d52f52-9d66-48aa-a629-85789f482872\",\"type\":\"ColumnDataSource\"},\"glyph\":{\"id\":\"343f2581-4e91-4bc5-a408-c88916ff99c5\",\"type\":\"VBar\"},\"hover_glyph\":null,\"muted_glyph\":null,\"nonselection_glyph\":{\"id\":\"2b3acc4c-4c3b-4167-a43a-c792ee3d7870\",\"type\":\"VBar\"},\"selection_glyph\":null},\"id\":\"4bf3f3ec-93b6-40ea-bf17-8691741af43f\",\"type\":\"GlyphRenderer\"},{\"attributes\":{\"plot\":{\"id\":\"dca7b7f0-44aa-47ac-af24-a234fb39f7f2\",\"subtype\":\"Figure\",\"type\":\"Plot\"}},\"id\":\"7beadd55-fd72-451f-b885-4fafffeca8fe\",\"type\":\"SaveTool\"},{\"attributes\":{},\"id\":\"a3d9e88b-bcb9-4166-b9e6-83b229101809\",\"type\":\"BasicTickFormatter\"},{\"attributes\":{\"data_source\":{\"id\":\"e2938160-db59-4c7f-bd77-4c3fa2732eb8\",\"type\":\"ColumnDataSource\"},\"glyph\":{\"id\":\"76484f09-a0fe-4844-8b12-ab53ef36dbfc\",\"type\":\"HBar\"},\"hover_glyph\":null,\"muted_glyph\":null,\"nonselection_glyph\":{\"id\":\"7fc391e4-2e86-4a36-8603-c725d343dafe\",\"type\":\"HBar\"},\"selection_glyph\":null},\"id\":\"d744ea1c-87f8-405a-b36e-4dbef7017f5c\",\"type\":\"GlyphRenderer\"},{\"attributes\":{\"grid_line_color\":{\"value\":null},\"plot\":{\"id\":\"ce7ab7bc-f435-4100-84eb-4049c853302c\",\"subtype\":\"Figure\",\"type\":\"Plot\"},\"ticker\":{\"id\":\"3df60935-9f66-4506-9420-9c0deec32026\",\"type\":\"BasicTicker\"}},\"id\":\"5fc9be33-7f8c-4fb1-8f85-442692acd3c3\",\"type\":\"Grid\"},{\"attributes\":{\"fill_alpha\":{\"value\":0.1},\"fill_color\":{\"value\":\"#1f77b4\"},\"height\":{\"value\":0.3},\"left\":{\"value\":0.5641025641025641},\"line_alpha\":{\"value\":0.1},\"line_color\":{\"value\":\"#1f77b4\"},\"right\":{\"value\":0.611439842209073},\"y\":{\"value\":1}},\"id\":\"7fc391e4-2e86-4a36-8603-c725d343dafe\",\"type\":\"HBar\"},{\"attributes\":{\"overlay\":{\"id\":\"115c2d5b-82e8-4792-8035-bd3543baf83b\",\"type\":\"BoxAnnotation\"},\"plot\":{\"id\":\"dca7b7f0-44aa-47ac-af24-a234fb39f7f2\",\"subtype\":\"Figure\",\"type\":\"Plot\"}},\"id\":\"0916eb1e-c347-4774-90eb-1caeb2050a03\",\"type\":\"BoxZoomTool\"},{\"attributes\":{\"data_source\":{\"id\":\"8aef5d2d-3d54-449f-a6ef-b8b99a4e8b1f\",\"type\":\"ColumnDataSource\"},\"glyph\":{\"id\":\"06a18b38-43de-4c71-8766-23b277929b28\",\"type\":\"Line\"},\"hover_glyph\":null,\"muted_glyph\":null,\"nonselection_glyph\":{\"id\":\"53ac3aa7-6a11-43c0-966e-10ea9cb01949\",\"type\":\"Line\"},\"selection_glyph\":null},\"id\":\"eb5d0748-841c-4fdc-b33a-25e256196049\",\"type\":\"GlyphRenderer\"},{\"attributes\":{\"data_source\":{\"id\":\"6e3055fa-38a6-4394-8b5c-a59d6544a7b2\",\"type\":\"ColumnDataSource\"},\"glyph\":{\"id\":\"11d4a16c-b92e-4df9-b816-c0cae612249d\",\"type\":\"HBar\"},\"hover_glyph\":null,\"muted_glyph\":null,\"nonselection_glyph\":{\"id\":\"c5818cd1-3175-45e7-b7c9-15e9f2e49621\",\"type\":\"HBar\"},\"selection_glyph\":null},\"id\":\"dfeef30e-4f09-4240-8636-e34875359105\",\"type\":\"GlyphRenderer\"},{\"attributes\":{\"fill_alpha\":{\"value\":0.1},\"fill_color\":{\"value\":\"#1f77b4\"},\"height\":{\"value\":0.3},\"left\":{\"value\":-0.3264299802761341},\"line_alpha\":{\"value\":0.1},\"line_color\":{\"value\":\"#1f77b4\"},\"right\":{\"value\":0},\"y\":{\"value\":1}},\"id\":\"ab72806d-3c3f-4d1b-a3d8-62eeaa1a9166\",\"type\":\"HBar\"},{\"attributes\":{\"callback\":null,\"plot\":{\"id\":\"d94df9e2-66d1-4a66-bc25-ce791a2b080d\",\"subtype\":\"Figure\",\"type\":\"Plot\"},\"tooltips\":[[\"pct\",\"@pct{(0.00%)}\"]]},\"id\":\"ef2aeaf9-4bfa-45be-97b2-565ead6aefda\",\"type\":\"HoverTool\"},{\"attributes\":{\"line_alpha\":{\"value\":0.1},\"line_color\":{\"value\":\"#1f77b4\"},\"line_dash\":[6],\"line_width\":{\"value\":2},\"x\":{\"field\":\"x\"},\"y\":{\"field\":\"y\"}},\"id\":\"b66c0378-f7cb-4da4-9c59-22cee39295a5\",\"type\":\"Line\"},{\"attributes\":{},\"id\":\"c8607748-7f1a-4490-9e2e-9eabb2a8c412\",\"type\":\"BasicTicker\"},{\"attributes\":{\"line_alpha\":{\"value\":0.1},\"line_color\":{\"value\":\"#1f77b4\"},\"line_dash\":[6],\"line_width\":{\"value\":2},\"x\":{\"field\":\"x\"},\"y\":{\"field\":\"y\"}},\"id\":\"37fc7cd1-0ae8-4a26-a9a2-6233a9914631\",\"type\":\"Line\"},{\"attributes\":{\"data_source\":{\"id\":\"ecc32fef-8573-4cbc-aff8-beb553142649\",\"type\":\"ColumnDataSource\"},\"glyph\":{\"id\":\"7812cc40-ad36-4efb-858d-9cbf263fe3b8\",\"type\":\"HBar\"},\"hover_glyph\":null,\"muted_glyph\":null,\"nonselection_glyph\":{\"id\":\"13b03b20-e031-4926-b1a4-4c26d73bfcc2\",\"type\":\"HBar\"},\"selection_glyph\":null},\"id\":\"4afd83d3-6369-4499-9ca3-160a61eebc0d\",\"type\":\"GlyphRenderer\"},{\"attributes\":{\"callback\":null,\"data\":{}},\"id\":\"ecc32fef-8573-4cbc-aff8-beb553142649\",\"type\":\"ColumnDataSource\"},{\"attributes\":{\"line_alpha\":{\"value\":0.1},\"line_color\":{\"value\":\"#1f77b4\"},\"line_dash\":[6],\"line_width\":{\"value\":2},\"x\":{\"field\":\"x\"},\"y\":{\"field\":\"y\"}},\"id\":\"994f32da-b4df-4111-bb3b-a70829f0dd78\",\"type\":\"Line\"},{\"attributes\":{\"plot\":{\"id\":\"dca7b7f0-44aa-47ac-af24-a234fb39f7f2\",\"subtype\":\"Figure\",\"type\":\"Plot\"}},\"id\":\"e5e9908d-2d8c-4034-b8fc-c630132f5244\",\"type\":\"PanTool\"},{\"attributes\":{\"fill_alpha\":{\"value\":0.1},\"fill_color\":{\"value\":\"#1f77b4\"},\"line_alpha\":{\"value\":0.1},\"line_color\":{\"value\":\"#1f77b4\"},\"top\":{\"field\":\"pct\"},\"width\":{\"value\":0.6},\"x\":{\"field\":\"index\"}},\"id\":\"2b3acc4c-4c3b-4167-a43a-c792ee3d7870\",\"type\":\"VBar\"},{\"attributes\":{\"callback\":null,\"column_names\":[\"x\",\"y\"],\"data\":{\"x\":[-0.3264299802761341,-0.3264299802761341],\"y\":[0.5,1.5]}},\"id\":\"8aef5d2d-3d54-449f-a6ef-b8b99a4e8b1f\",\"type\":\"ColumnDataSource\"},{\"attributes\":{\"active_drag\":\"auto\",\"active_inspect\":\"auto\",\"active_scroll\":\"auto\",\"active_tap\":\"auto\",\"tools\":[{\"id\":\"aac47174-ad45-466d-9743-1dd0e2c0872b\",\"type\":\"PanTool\"},{\"id\":\"019a992e-fec2-4139-9d19-5a954c2292af\",\"type\":\"WheelZoomTool\"},{\"id\":\"a6db1b76-d939-47d4-b999-6dd7867074d0\",\"type\":\"BoxZoomTool\"},{\"id\":\"ce1357d0-d867-4536-a376-38e114f85033\",\"type\":\"SaveTool\"},{\"id\":\"999ddda0-6fcb-4d1c-b036-b73d81fbfd2a\",\"type\":\"ResetTool\"},{\"id\":\"550576c4-5f92-45b4-b750-55d81e827bbb\",\"type\":\"HelpTool\"}]},\"id\":\"4da335a1-e261-438d-a257-9212bd7eee70\",\"type\":\"Toolbar\"},{\"attributes\":{\"line_alpha\":{\"value\":0.1},\"line_color\":{\"value\":\"#1f77b4\"},\"line_dash\":[6],\"line_width\":{\"value\":2},\"x\":{\"field\":\"x\"},\"y\":{\"field\":\"y\"}},\"id\":\"212e44b1-f352-47f4-a9c6-24c3b04d027b\",\"type\":\"Line\"},{\"attributes\":{\"formatter\":{\"id\":\"c6aab113-629d-4ed9-b480-66fa62d53203\",\"type\":\"BasicTickFormatter\"},\"plot\":{\"id\":\"dca7b7f0-44aa-47ac-af24-a234fb39f7f2\",\"subtype\":\"Figure\",\"type\":\"Plot\"},\"ticker\":{\"id\":\"8b083641-78b6-4b83-88ec-37c356f0a2a7\",\"type\":\"BasicTicker\"}},\"id\":\"69569c84-ac0c-4fd5-a1d5-2da25d789387\",\"type\":\"LinearAxis\"},{\"attributes\":{\"plot\":null,\"text\":\"\"},\"id\":\"e2a94770-e9ee-4ac1-a197-58c2bbbcd6f8\",\"type\":\"Title\"},{\"attributes\":{\"fill_alpha\":{\"value\":0.1},\"fill_color\":{\"value\":\"#1f77b4\"},\"height\":{\"value\":0.3},\"line_alpha\":{\"value\":0.1},\"line_color\":{\"value\":\"#1f77b4\"},\"right\":{\"value\":0.41913214990138065},\"y\":{\"value\":1}},\"id\":\"c4a0cbeb-11f0-46ad-a23d-7899a29b135e\",\"type\":\"HBar\"},{\"attributes\":{\"formatter\":{\"id\":\"2705fc8f-8079-4c6d-a5b2-5349dcb0efea\",\"type\":\"BasicTickFormatter\"},\"plot\":{\"id\":\"dca7b7f0-44aa-47ac-af24-a234fb39f7f2\",\"subtype\":\"Figure\",\"type\":\"Plot\"},\"ticker\":{\"id\":\"61e2e00c-1a5f-447b-87bf-fdf06a6ce306\",\"type\":\"BasicTicker\"},\"visible\":false},\"id\":\"4b9cea54-e983-4412-9bcc-f1777078ce6a\",\"type\":\"LinearAxis\"},{\"attributes\":{\"line_color\":{\"value\":\"#AAB2A5\"},\"line_dash\":[6],\"line_width\":{\"value\":2},\"x\":{\"field\":\"x\"},\"y\":{\"field\":\"y\"}},\"id\":\"ef7eed38-80cc-49ac-995f-e94114119a29\",\"type\":\"Line\"},{\"attributes\":{},\"id\":\"8b083641-78b6-4b83-88ec-37c356f0a2a7\",\"type\":\"BasicTicker\"},{\"attributes\":{\"callback\":null,\"column_names\":[\"x\",\"y\"],\"data\":{\"x\":[0.3577075098814229,0.3577075098814229],\"y\":[0.5,1.5]}},\"id\":\"bd995ac0-0cd4-4e95-8726-fe7490c8f283\",\"type\":\"ColumnDataSource\"},{\"attributes\":{\"bottom_units\":\"screen\",\"fill_alpha\":{\"value\":0.5},\"fill_color\":{\"value\":\"lightgrey\"},\"left_units\":\"screen\",\"level\":\"overlay\",\"line_alpha\":{\"value\":1.0},\"line_color\":{\"value\":\"black\"},\"line_dash\":[4,4],\"line_width\":{\"value\":2},\"plot\":null,\"render_mode\":\"css\",\"right_units\":\"screen\",\"top_units\":\"screen\"},\"id\":\"cdd340c1-0cc4-4985-9b07-5d8ea1635946\",\"type\":\"BoxAnnotation\"},{\"attributes\":{\"children\":[{\"id\":\"ce7ab7bc-f435-4100-84eb-4049c853302c\",\"subtype\":\"Figure\",\"type\":\"Plot\"},{\"id\":\"03b71f13-a961-45fb-8a03-14e111e6a794\",\"subtype\":\"Figure\",\"type\":\"Plot\"}]},\"id\":\"d890a9d2-492c-4f9e-a268-4c9aa69feead\",\"type\":\"Row\"},{\"attributes\":{},\"id\":\"3e6976fa-8430-4048-8b59-df5e731f20c9\",\"type\":\"BasicTickFormatter\"},{\"attributes\":{\"callback\":null,\"column_names\":[\"x\",\"y\"],\"data\":{\"x\":[0,0],\"y\":[0.5,1.5]}},\"id\":\"83e329e7-917e-42de-bab3-c50c8a1e24e9\",\"type\":\"ColumnDataSource\"},{\"attributes\":{\"line_color\":{\"value\":\"#AAB2A5\"},\"line_dash\":[6],\"line_width\":{\"value\":2},\"x\":{\"field\":\"x\"},\"y\":{\"field\":\"y\"}},\"id\":\"5c2be628-d198-4496-9632-77c19a0e08e4\",\"type\":\"Line\"},{\"attributes\":{\"callback\":null,\"data\":{}},\"id\":\"6e3055fa-38a6-4394-8b5c-a59d6544a7b2\",\"type\":\"ColumnDataSource\"},{\"attributes\":{},\"id\":\"8154704f-1fdb-4e37-844c-f0ea5f922cd4\",\"type\":\"ToolEvents\"},{\"attributes\":{},\"id\":\"0d80d68d-70e2-4628-bca7-cce475200182\",\"type\":\"BasicTicker\"},{\"attributes\":{\"formatter\":{\"id\":\"3e6976fa-8430-4048-8b59-df5e731f20c9\",\"type\":\"BasicTickFormatter\"},\"plot\":{\"id\":\"ce7ab7bc-f435-4100-84eb-4049c853302c\",\"subtype\":\"Figure\",\"type\":\"Plot\"},\"ticker\":{\"id\":\"6d59cb1e-ff8f-465f-87be-e2b36689ce3c\",\"type\":\"BasicTicker\"},\"visible\":false},\"id\":\"6b2b66f4-d9ef-488d-9c2c-accb12ece0e0\",\"type\":\"LinearAxis\"},{\"attributes\":{\"callback\":null,\"end\":2},\"id\":\"ce2a9f1d-215d-439f-afb4-c1b2c8e9eede\",\"type\":\"Range1d\"},{\"attributes\":{\"line_alpha\":{\"value\":0.1},\"line_color\":{\"value\":\"#1f77b4\"},\"line_dash\":[6],\"line_width\":{\"value\":2},\"x\":{\"field\":\"x\"},\"y\":{\"field\":\"y\"}},\"id\":\"84ebf4be-bb51-4666-886b-529510c3c0ea\",\"type\":\"Line\"},{\"attributes\":{\"data_source\":{\"id\":\"83e329e7-917e-42de-bab3-c50c8a1e24e9\",\"type\":\"ColumnDataSource\"},\"glyph\":{\"id\":\"354c5356-c2a1-4a3f-9927-e6400b489ea7\",\"type\":\"Line\"},\"hover_glyph\":null,\"muted_glyph\":null,\"nonselection_glyph\":{\"id\":\"e7f92908-fb10-4f8b-b166-be46db1c4558\",\"type\":\"Line\"},\"selection_glyph\":null},\"id\":\"b3660f05-2bde-41e5-9645-be82b63a879a\",\"type\":\"GlyphRenderer\"},{\"attributes\":{\"data_source\":{\"id\":\"bd995ac0-0cd4-4e95-8726-fe7490c8f283\",\"type\":\"ColumnDataSource\"},\"glyph\":{\"id\":\"358b6d1e-b75d-4299-9f81-135b25119123\",\"type\":\"Line\"},\"hover_glyph\":null,\"muted_glyph\":null,\"nonselection_glyph\":{\"id\":\"32f7f40b-03a7-4fc9-b2a8-15441e21fc0a\",\"type\":\"Line\"},\"selection_glyph\":null},\"id\":\"16949db9-518c-4d63-842e-497271ff6d3d\",\"type\":\"GlyphRenderer\"},{\"attributes\":{},\"id\":\"1e440bd8-0766-4238-868f-1f01a6abb439\",\"type\":\"BasicTicker\"},{\"attributes\":{\"callback\":null,\"data\":{}},\"id\":\"e5d358eb-d857-4989-9f05-4fa49a0d9048\",\"type\":\"ColumnDataSource\"},{\"attributes\":{\"callback\":null,\"data\":{}},\"id\":\"3930c5b0-4d78-4cc7-9067-db26f3431680\",\"type\":\"ColumnDataSource\"},{\"attributes\":{\"above\":[{\"id\":\"95f4ba63-ced8-4ce5-a240-4f39d7ec01eb\",\"type\":\"Title\"}],\"below\":[{\"id\":\"13334595-3d3d-4faa-982f-b4bb52268473\",\"type\":\"LinearAxis\"}],\"left\":[{\"id\":\"43627124-3e2a-4d20-90e7-a4ff96d3f2cb\",\"type\":\"LinearAxis\"}],\"plot_height\":300,\"plot_width\":400,\"renderers\":[{\"id\":\"13334595-3d3d-4faa-982f-b4bb52268473\",\"type\":\"LinearAxis\"},{\"id\":\"f948a2a0-37d7-4e1f-a832-7d33c12c67ed\",\"type\":\"Grid\"},{\"id\":\"43627124-3e2a-4d20-90e7-a4ff96d3f2cb\",\"type\":\"LinearAxis\"},{\"id\":\"85105d98-dee1-41a1-81dd-3272d39e02a4\",\"type\":\"Grid\"},{\"id\":\"95f4ba63-ced8-4ce5-a240-4f39d7ec01eb\",\"type\":\"Title\"},{\"id\":\"69770db5-4393-4ab0-a682-95022b369510\",\"type\":\"GlyphRenderer\"}],\"title\":{\"id\":\"e2a94770-e9ee-4ac1-a197-58c2bbbcd6f8\",\"type\":\"Title\"},\"tool_events\":{\"id\":\"68591249-3523-47f2-8bba-7cd2efdba7bc\",\"type\":\"ToolEvents\"},\"toolbar\":{\"id\":\"a9a6e1ba-c75f-4929-b13a-da53884c5115\",\"type\":\"Toolbar\"},\"x_range\":{\"id\":\"9b53f2bf-3513-4171-83e2-fd2345601dd7\",\"type\":\"DataRange1d\"},\"x_scale\":{\"id\":\"138f4c1d-bfca-4c5b-8464-6299f1a84321\",\"type\":\"LinearScale\"},\"y_range\":{\"id\":\"46c3cd14-0f34-4449-91d0-5677f874071e\",\"type\":\"DataRange1d\"},\"y_scale\":{\"id\":\"771bf584-b9cd-47e9-9857-027bbaf90a8a\",\"type\":\"LinearScale\"}},\"id\":\"03b71f13-a961-45fb-8a03-14e111e6a794\",\"subtype\":\"Figure\",\"type\":\"Plot\"},{\"attributes\":{\"callback\":null,\"column_names\":[\"x\",\"y\"],\"data\":{\"x\":[0.41913214990138065,0.41913214990138065],\"y\":[0.5,1.5]}},\"id\":\"f1e280eb-8663-4676-8716-bd861416601e\",\"type\":\"ColumnDataSource\"},{\"attributes\":{\"data_source\":{\"id\":\"bcea247b-2c27-4213-9f1f-0e9f7ba89756\",\"type\":\"ColumnDataSource\"},\"glyph\":{\"id\":\"133e257c-200c-4fcd-b702-810fa483260d\",\"type\":\"Line\"},\"hover_glyph\":null,\"muted_glyph\":null,\"nonselection_glyph\":{\"id\":\"3cf365cf-763f-4360-b27c-684ff0c4a4e6\",\"type\":\"Line\"},\"selection_glyph\":null},\"id\":\"7bbec2d6-03cb-4191-b043-0f1f117fee4c\",\"type\":\"GlyphRenderer\"},{\"attributes\":{\"data_source\":{\"id\":\"b8b67a95-442d-457c-bc51-e314f529ab23\",\"type\":\"ColumnDataSource\"},\"glyph\":{\"id\":\"f4035272-b97a-4c15-bbcb-7fad88d27e6a\",\"type\":\"Line\"},\"hover_glyph\":null,\"muted_glyph\":null,\"nonselection_glyph\":{\"id\":\"37fc7cd1-0ae8-4a26-a9a2-6233a9914631\",\"type\":\"Line\"},\"selection_glyph\":null},\"id\":\"863cf2ad-9969-48f7-9d15-d20718dd849f\",\"type\":\"GlyphRenderer\"},{\"attributes\":{\"active_drag\":\"auto\",\"active_inspect\":\"auto\",\"active_scroll\":\"auto\",\"active_tap\":\"auto\",\"tools\":[{\"id\":\"ef2aeaf9-4bfa-45be-97b2-565ead6aefda\",\"type\":\"HoverTool\"}]},\"id\":\"c089201e-c947-4c61-a10b-a55020226f8d\",\"type\":\"Toolbar\"},{\"attributes\":{\"callback\":null},\"id\":\"1d47c583-6cbb-4462-a33a-46631d4cde74\",\"type\":\"DataRange1d\"},{\"attributes\":{\"fill_color\":{\"value\":\"#459E0F\"},\"height\":{\"value\":0.3},\"line_color\":{\"value\":\"#459E0F\"},\"right\":{\"value\":0.41913214990138065},\"y\":{\"value\":1}},\"id\":\"cd7480e2-2b79-4a44-a645-22c35036a45d\",\"type\":\"HBar\"},{\"attributes\":{\"align\":\"center\",\"plot\":{\"id\":\"dca7b7f0-44aa-47ac-af24-a234fb39f7f2\",\"subtype\":\"Figure\",\"type\":\"Plot\"},\"text\":\"Rush/delays within time thresholds pick up\"},\"id\":\"62d777b9-40a2-4b2b-9d80-435bcdd8ae74\",\"type\":\"Title\"},{\"attributes\":{},\"id\":\"4839d25c-9d5c-4924-ad34-868d7fa9210d\",\"type\":\"BasicTickFormatter\"},{\"attributes\":{\"children\":[{\"id\":\"9eb189a0-71b2-4609-9c11-9f0561e95688\",\"type\":\"Row\"},{\"id\":\"d890a9d2-492c-4f9e-a268-4c9aa69feead\",\"type\":\"Row\"}]},\"id\":\"6a6e5a80-7d5e-4d1a-b3b8-78e38badc439\",\"type\":\"Column\"},{\"attributes\":{\"dimension\":1,\"plot\":{\"id\":\"03b71f13-a961-45fb-8a03-14e111e6a794\",\"subtype\":\"Figure\",\"type\":\"Plot\"},\"ticker\":{\"id\":\"ce608cb6-95c3-4083-92bd-1b517347eb6c\",\"type\":\"BasicTicker\"}},\"id\":\"85105d98-dee1-41a1-81dd-3272d39e02a4\",\"type\":\"Grid\"},{\"attributes\":{\"data_source\":{\"id\":\"6b368036-bad7-4a91-9ea2-a6a1de07bceb\",\"type\":\"ColumnDataSource\"},\"glyph\":{\"id\":\"2db8b079-fe44-44bb-b48b-9f959133642e\",\"type\":\"Line\"},\"hover_glyph\":null,\"muted_glyph\":null,\"nonselection_glyph\":{\"id\":\"212e44b1-f352-47f4-a9c6-24c3b04d027b\",\"type\":\"Line\"},\"selection_glyph\":null},\"id\":\"1299c6c6-34f2-40b9-b018-3207e973920e\",\"type\":\"GlyphRenderer\"},{\"attributes\":{\"dimension\":1,\"grid_line_color\":{\"value\":null},\"plot\":{\"id\":\"ce7ab7bc-f435-4100-84eb-4049c853302c\",\"subtype\":\"Figure\",\"type\":\"Plot\"},\"ticker\":{\"id\":\"6d59cb1e-ff8f-465f-87be-e2b36689ce3c\",\"type\":\"BasicTicker\"}},\"id\":\"37b6957f-62d1-4338-bac5-97d42c29145a\",\"type\":\"Grid\"},{\"attributes\":{\"fill_alpha\":{\"value\":0.1},\"fill_color\":{\"value\":\"#1f77b4\"},\"height\":{\"value\":0.3},\"left\":{\"value\":0.45652173913043476},\"line_alpha\":{\"value\":0.1},\"line_color\":{\"value\":\"#1f77b4\"},\"right\":{\"value\":0.5128458498023715},\"y\":{\"value\":1}},\"id\":\"123f9949-1580-4b48-a74c-4492a5634892\",\"type\":\"HBar\"},{\"attributes\":{},\"id\":\"a36e186c-510d-4e02-8159-46be2434c7f8\",\"type\":\"LinearScale\"},{\"attributes\":{\"active_drag\":\"auto\",\"active_inspect\":\"auto\",\"active_scroll\":\"auto\",\"active_tap\":\"auto\",\"tools\":[{\"id\":\"e5e9908d-2d8c-4034-b8fc-c630132f5244\",\"type\":\"PanTool\"},{\"id\":\"8eb863cb-75b6-4e86-b9f8-9062b7e67bd0\",\"type\":\"WheelZoomTool\"},{\"id\":\"0916eb1e-c347-4774-90eb-1caeb2050a03\",\"type\":\"BoxZoomTool\"},{\"id\":\"7beadd55-fd72-451f-b885-4fafffeca8fe\",\"type\":\"SaveTool\"},{\"id\":\"b36c4ccb-3b8d-4e0d-83d6-6792370e0a12\",\"type\":\"ResetTool\"},{\"id\":\"fab520f4-fff6-4182-9af5-67dc80b98ad6\",\"type\":\"HelpTool\"}]},\"id\":\"81fdc76c-1afd-4a76-aeb6-f0ec4600ed26\",\"type\":\"Toolbar\"},{\"attributes\":{},\"id\":\"662fa9f6-d4c5-4eed-9a3a-08e0ab790ce4\",\"type\":\"LinearScale\"},{\"attributes\":{},\"id\":\"643dd174-23a4-48cd-8e39-8e1050fe83b2\",\"type\":\"BasicTickFormatter\"},{\"attributes\":{\"fill_color\":{\"field\":\"colors\"},\"line_color\":{\"field\":\"colors\"},\"top\":{\"field\":\"pct\"},\"width\":{\"value\":0.6},\"x\":{\"field\":\"index\"}},\"id\":\"343f2581-4e91-4bc5-a408-c88916ff99c5\",\"type\":\"VBar\"},{\"attributes\":{\"fill_color\":{\"value\":\"#459E0F\"},\"height\":{\"value\":0.3},\"left\":{\"value\":-0.4090909090909091},\"line_color\":{\"value\":\"#459E0F\"},\"right\":{\"value\":0},\"y\":{\"value\":1}},\"id\":\"2b51c1bc-5fc6-4971-9374-d6112b4b4b77\",\"type\":\"HBar\"},{\"attributes\":{\"callback\":null,\"data\":{}},\"id\":\"89b8646e-a1eb-4946-aaa3-6560068b6fac\",\"type\":\"ColumnDataSource\"},{\"attributes\":{\"fill_alpha\":{\"value\":0.1},\"fill_color\":{\"value\":\"#1f77b4\"},\"height\":{\"value\":0.3},\"left\":{\"value\":0.41913214990138065},\"line_alpha\":{\"value\":0.1},\"line_color\":{\"value\":\"#1f77b4\"},\"right\":{\"value\":0.5641025641025641},\"y\":{\"value\":1}},\"id\":\"c5818cd1-3175-45e7-b7c9-15e9f2e49621\",\"type\":\"HBar\"}],\"root_ids\":[\"d7a73ecc-00af-467c-a84e-b395fe1cdaea\"]},\"title\":\"Bokeh Application\",\"version\":\"0.12.6\"}};\n",
       "            var render_items = [{\"docid\":\"b684c869-a8e1-4e37-9bc8-cda53d93a216\",\"elementid\":\"42a7ca7c-f9ce-49ea-9b68-82d9d87d49e6\",\"modelid\":\"d7a73ecc-00af-467c-a84e-b395fe1cdaea\"}];\n",
       "            \n",
       "            Bokeh.embed.embed_items(docs_json, render_items);\n",
       "          };\n",
       "          if (document.readyState != \"loading\") fn();\n",
       "          else document.addEventListener(\"DOMContentLoaded\", fn);\n",
       "        })();\n",
       "      },\n",
       "      function(Bokeh) {\n",
       "      }\n",
       "    ];\n",
       "  \n",
       "    function run_inline_js() {\n",
       "      \n",
       "      if ((window.Bokeh !== undefined) || (force === true)) {\n",
       "        for (var i = 0; i < inline_js.length; i++) {\n",
       "          inline_js[i](window.Bokeh);\n",
       "        }if (force === true) {\n",
       "          display_loaded();\n",
       "        }} else if (Date.now() < window._bokeh_timeout) {\n",
       "        setTimeout(run_inline_js, 100);\n",
       "      } else if (!window._bokeh_failed_load) {\n",
       "        console.log(\"Bokeh: BokehJS failed to load within specified timeout.\");\n",
       "        window._bokeh_failed_load = true;\n",
       "      } else if (force !== true) {\n",
       "        var cell = $(document.getElementById(\"42a7ca7c-f9ce-49ea-9b68-82d9d87d49e6\")).parents('.cell').data().cell;\n",
       "        cell.output_area.append_execute_result(NB_LOAD_WARNING)\n",
       "      }\n",
       "  \n",
       "    }\n",
       "  \n",
       "    if (window._bokeh_is_loading === 0) {\n",
       "      console.log(\"Bokeh: BokehJS loaded, going straight to plotting\");\n",
       "      run_inline_js();\n",
       "    } else {\n",
       "      load_libs(js_urls, function() {\n",
       "        console.log(\"Bokeh: BokehJS plotting callback run at\", now());\n",
       "        run_inline_js();\n",
       "      });\n",
       "    }\n",
       "  }(this));\n",
       "</script>"
      ]
     },
     "metadata": {},
     "output_type": "display_data"
    }
   ],
   "source": [
    "#Using plotting functions\n",
    "time_threshold_pick_up_plot = plot_horizontal_time_thresholds(threshold_pick_up, 400, 300, 'pct', 'colors', \n",
    "                                                 \"Rush/delays within time thresholds pick up\")\n",
    "within_thresholds_pick_up_plot = plot_total_pct_thresholds(within_thresh_pick_up, 400, 300, \"index\", \"pct\", \"colors\", \n",
    "                                              \"Total percentage within thresholds pick up\")\n",
    "time_threshold_drop_off_plot = plot_horizontal_time_thresholds(threshold_drop_off, 400, 300, 'pct', 'colors', \n",
    "                                                 \"Rush/delays within time thresholds drop off\")\n",
    "time_threshold_drop_off_plot.x_range = time_threshold_pick_up_plot.x_range\n",
    "within_thresholds_drop_off_plot = plot_total_pct_thresholds(within_thresh_drop_off, 400, 300, \"index\", \"pct\", \"colors\", \n",
    "                                              \"Total percentage within thresholds drop off\")\n",
    "threshold_pick_up_plots = row(time_threshold_pick_up_plot, within_thresholds_pick_up_plot)\n",
    "threshold_drop_off_plots = row(time_threshold_drop_off_plot, within_thresholds_drop_off_plot)\n",
    "\n",
    "show(column(Div(text=\"<h1 style='margin-left:200px;margin-right:-400px;margin-bottom:18px;font-size:20px;\\\n",
    "                color:#7D7575'> Time thresholds for pick ups / drop offs </h1>\"),\n",
    "            column(threshold_pick_up_plots, threshold_drop_off_plots)))\n"
   ]
  },
  {
   "cell_type": "markdown",
   "metadata": {},
   "source": [
    "As observed in the previous plots, most of the ally shuttle pick ups and drop off occur within the 3 minute threshold. Note, still, that there is 20.5% pick ups that occur in the \"yellow\" area. From these, approximately 14.5% happen because the pick up is delayed. This gives the company wiggle room to improve on. \n",
    "\n",
    "However, all in all, given the last update, the company seems to be doing well and mostly in the 3 minute zone. \n",
    "\n",
    "Note, however, that our analysis so far has been restricted to the last update of expected time shown to the user. There are reasons to believe that the closer the update to the actual pick up or drop off time, chances are that the differences between expected and actual time will not be significant. \n",
    "\n",
    "In what follows we will perform a more stringent analysis. We will determine what is the actual difference between first expected time shown to the user when he/she first booked a ride and the actual time ally shuttle showed up. There are important reasons to believe that customer experience changes when from the start they are given reliable waiting times. If the expected time changes drastically each update, this can affect service quality."
   ]
  },
  {
   "cell_type": "markdown",
   "metadata": {},
   "source": [
    "### First expected time vs. actual time \n",
    "\n",
    "In what follows we will perform the analysis of expected time when booking vs. actual time. This differences will show us how good is ally shuttle at keeping the first expected time it promises to their users. The better these first expected times are calculated, the better the service will be. Also, from the operations point, it would lead to better scheduling and planning. "
   ]
  },
  {
   "cell_type": "code",
   "execution_count": 25,
   "metadata": {},
   "outputs": [],
   "source": [
    "first_pick_up = pick_drop.sort_values(by=[\"datetime_utc_berlin\", \"type\"], \n",
    "                                           ascending=[True, False]).groupby('booking_id').agg(lambda x: x.iloc[0]).reset_index()\n",
    "first_drop = pick_drop.sort_values(by=[ \"type\", \"datetime_utc_berlin\"], \n",
    "                                           ascending=[True, True]).groupby('booking_id').agg(lambda x: x.iloc[0]).reset_index()"
   ]
  },
  {
   "cell_type": "code",
   "execution_count": 26,
   "metadata": {},
   "outputs": [],
   "source": [
    "first_pick_up_drop_long = pd.concat([first_pick_up, first_drop], ignore_index=True)"
   ]
  },
  {
   "cell_type": "code",
   "execution_count": 27,
   "metadata": {
    "collapsed": true
   },
   "outputs": [],
   "source": [
    "est_act_time_first = pd.merge(first_pick_up_drop_long, exp_act_time[['actual_time_utc_berlin', 'estimated_time_utc_berlin', 'type', 'status', 'booking_id']], \n",
    "        on=[\"type\", \"booking_id\"], suffixes=[\"_first\", \"_actual\"])"
   ]
  },
  {
   "cell_type": "markdown",
   "metadata": {},
   "source": [
    "### Differences between first estimated time and last estimated time\n",
    "\n",
    "Before looking at the difference between first estimated time and actual time of the service, it is important to see if there are actually differences between the estimated times shown to the user. This will gives us an indication of how stable these estimated times actually are and what are the magnitude of their variation."
   ]
  },
  {
   "cell_type": "code",
   "execution_count": 28,
   "metadata": {
    "collapsed": true
   },
   "outputs": [],
   "source": [
    "est_act_time_first.loc[:,\"time_diff_first_last_est\"] = est_act_time_first.apply(diff, t1='estimated_time_utc_berlin_actual', t2='estimated_time_utc_berlin_first', axis=1)\n",
    "est_act_time_first[\"time_diff_first_last_est_min\"] = est_act_time_first[\"time_diff_first_last_est\"] / 60.0"
   ]
  },
  {
   "cell_type": "code",
   "execution_count": 29,
   "metadata": {},
   "outputs": [
    {
     "name": "stdout",
     "output_type": "stream",
     "text": [
      "Total difference (hours): 21.273\n",
      "Average (seconds): 37.800\n",
      "Standard deviation (seconds): 188.112\n"
     ]
    }
   ],
   "source": [
    "print_stats(est_act_time_first,\"time_diff_first_last_est\")"
   ]
  },
  {
   "cell_type": "code",
   "execution_count": 30,
   "metadata": {},
   "outputs": [
    {
     "data": {
      "image/png": "[encoded data removed]",
      "text/plain": [
       "<matplotlib.figure.Figure at 0x117c4bd30>"
      ]
     },
     "metadata": {},
     "output_type": "display_data"
    }
   ],
   "source": [
    "#Plotting distribution of firs expected vs. last expected\n",
    "fig, ax = plt.subplots(figsize=(10,5))\n",
    "sns.distplot(est_act_time_first[\"time_diff_first_last_est_min\"], kde=False, ax=ax)\n",
    "ax.set_xlabel(\"Time difference\")\n",
    "ax.set_ylabel(\"Counts minutes\")\n",
    "ax.set_title(\"Distribution of difference \\n First and Last Expected time (minutes)\")\n",
    "ax.axvline(0, color=\"#44999E\", linestyle='--');"
   ]
  },
  {
   "cell_type": "markdown",
   "metadata": {},
   "source": [
    "The distribution plotted above shows that most values fall in the zero region. This means that, while there are differences due to updates in expected times, in general, there is a good quantity where there are no differences (meaning no updates) between first shown expected time and last expected time. In approximately 55% of the cases there is no difference between these two times. For the rest of the cases, we can see that cases above and below follow closely the same distribution. The only differences is that cases where the differences between these two times are positive (i.e., last expected time later than first expected time) shows more extreme values (maximum value 41 minutes difference)."
   ]
  },
  {
   "cell_type": "markdown",
   "metadata": {},
   "source": [
    "### Diferences between first estimated time and actual time of service"
   ]
  },
  {
   "cell_type": "code",
   "execution_count": 31,
   "metadata": {
    "collapsed": true
   },
   "outputs": [],
   "source": [
    "est_act_time_first.loc[:,\"time_diff_first_est_act\"] = est_act_time_first.apply(diff, t1='actual_time_utc_berlin_actual', t2='estimated_time_utc_berlin_first', axis=1)\n",
    "est_act_time_first[\"time_diff_first_est_act_min\"] = est_act_time_first[\"time_diff_first_est_act\"] / 60.0\n"
   ]
  },
  {
   "cell_type": "code",
   "execution_count": 32,
   "metadata": {},
   "outputs": [
    {
     "name": "stdout",
     "output_type": "stream",
     "text": [
      "Differences between Actual time and Last Expected Time\n",
      "Total difference (hours): 31.382\n",
      "Average (seconds): 55.762\n",
      "Standard deviation (seconds): 254.066\n",
      "============================================================\n",
      "Differences between Actual time and First Expected Time\n",
      "Total difference (hours): 52.655\n",
      "Average (seconds): 93.562\n",
      "Standard deviation (seconds): 323.879\n"
     ]
    }
   ],
   "source": [
    "print(\"Differences between Actual time and Last Expected Time\")\n",
    "print_stats(exp_act_time,\"time_diff\")\n",
    "print(\"=\"*60)\n",
    "print(\"Differences between Actual time and First Expected Time\")\n",
    "print_stats(est_act_time_first,\"time_diff_first_est_act\")"
   ]
  },
  {
   "cell_type": "markdown",
   "metadata": {},
   "source": [
    "For the sake of comparison, we have printed above the statistics of our previous analysis where we only compared last expected time vs. actual time. As it is possible to see, when taking the first expected time the user sees, the differences become larger. We can see almost a 20 hour difference between the total time. Also, the average increases approximately in 67% and the standard deviation also becomes wider.\n",
    "\n",
    "In order to get a better picture of these results, we will plot the distribution of the differences."
   ]
  },
  {
   "cell_type": "code",
   "execution_count": 33,
   "metadata": {},
   "outputs": [
    {
     "data": {
      "image/png": "[encoded data removed]",
      "text/plain": [
       "<matplotlib.figure.Figure at 0x117b2e3c8>"
      ]
     },
     "metadata": {},
     "output_type": "display_data"
    }
   ],
   "source": [
    "#Plotting distribution of firs expected vs. last expected\n",
    "fig, ax = plt.subplots(figsize=(10,5))\n",
    "sns.distplot(est_act_time_first[\"time_diff_first_est_act_min\"], kde=False, ax=ax)\n",
    "ax.set_xlabel(\"Time difference\")\n",
    "ax.set_ylabel(\"Counts minutes\")\n",
    "ax.set_title(\"Distribution of difference \\n First and Actual time (minutes)\")\n",
    "ax.axvline(0, color=\"#44999E\", linestyle='--');"
   ]
  },
  {
   "cell_type": "markdown",
   "metadata": {},
   "source": [
    "In comparison to the last expected time, when considering the differences between first expected time and actual time we can see that the distribution gets wider. In particular, there is more density in values over the 10 minutes mark as before. "
   ]
  },
  {
   "cell_type": "code",
   "execution_count": 34,
   "metadata": {
    "collapsed": true
   },
   "outputs": [],
   "source": [
    "threshold_est_act_time_first =  get_thresholds_groups(est_act_time_first, \"time_diff_first_est_act_min\")\n",
    "within_threshold_est_act_time_first  = get_region_threshold_groups(threshold_est_act_time_first, \"colors\")"
   ]
  },
  {
   "cell_type": "code",
   "execution_count": 35,
   "metadata": {},
   "outputs": [
    {
     "data": {
      "text/html": [
       "\n",
       "\n",
       "    <div class=\"bk-root\">\n",
       "        <div class=\"bk-plotdiv\" id=\"6b0eda91-8d5c-4b41-a761-087751f1fbe0\"></div>\n",
       "    </div>\n",
       "<script type=\"text/javascript\">\n",
       "  \n",
       "  (function(global) {\n",
       "    function now() {\n",
       "      return new Date();\n",
       "    }\n",
       "  \n",
       "    var force = false;\n",
       "  \n",
       "    if (typeof (window._bokeh_onload_callbacks) === \"undefined\" || force === true) {\n",
       "      window._bokeh_onload_callbacks = [];\n",
       "      window._bokeh_is_loading = undefined;\n",
       "    }\n",
       "  \n",
       "  \n",
       "    \n",
       "    if (typeof (window._bokeh_timeout) === \"undefined\" || force === true) {\n",
       "      window._bokeh_timeout = Date.now() + 0;\n",
       "      window._bokeh_failed_load = false;\n",
       "    }\n",
       "  \n",
       "    var NB_LOAD_WARNING = {'data': {'text/html':\n",
       "       \"<div style='background-color: #fdd'>\\n\"+\n",
       "       \"<p>\\n\"+\n",
       "       \"BokehJS does not appear to have successfully loaded. If loading BokehJS from CDN, this \\n\"+\n",
       "       \"may be due to a slow or bad network connection. Possible fixes:\\n\"+\n",
       "       \"</p>\\n\"+\n",
       "       \"<ul>\\n\"+\n",
       "       \"<li>re-rerun `output_notebook()` to attempt to load from CDN again, or</li>\\n\"+\n",
       "       \"<li>use INLINE resources instead, as so:</li>\\n\"+\n",
       "       \"</ul>\\n\"+\n",
       "       \"<code>\\n\"+\n",
       "       \"from bokeh.resources import INLINE\\n\"+\n",
       "       \"output_notebook(resources=INLINE)\\n\"+\n",
       "       \"</code>\\n\"+\n",
       "       \"</div>\"}};\n",
       "  \n",
       "    function display_loaded() {\n",
       "      if (window.Bokeh !== undefined) {\n",
       "        var el = document.getElementById(\"6b0eda91-8d5c-4b41-a761-087751f1fbe0\");\n",
       "        el.textContent = \"BokehJS \" + Bokeh.version + \" successfully loaded.\";\n",
       "      } else if (Date.now() < window._bokeh_timeout) {\n",
       "        setTimeout(display_loaded, 100)\n",
       "      }\n",
       "    }\n",
       "  \n",
       "    function run_callbacks() {\n",
       "      try {\n",
       "        window._bokeh_onload_callbacks.forEach(function(callback) { callback() });\n",
       "      }\n",
       "      finally {\n",
       "        delete window._bokeh_onload_callbacks\n",
       "      }\n",
       "      console.info(\"Bokeh: all callbacks have finished\");\n",
       "    }\n",
       "  \n",
       "    function load_libs(js_urls, callback) {\n",
       "      window._bokeh_onload_callbacks.push(callback);\n",
       "      if (window._bokeh_is_loading > 0) {\n",
       "        console.log(\"Bokeh: BokehJS is being loaded, scheduling callback at\", now());\n",
       "        return null;\n",
       "      }\n",
       "      if (js_urls == null || js_urls.length === 0) {\n",
       "        run_callbacks();\n",
       "        return null;\n",
       "      }\n",
       "      console.log(\"Bokeh: BokehJS not loaded, scheduling load and callback at\", now());\n",
       "      window._bokeh_is_loading = js_urls.length;\n",
       "      for (var i = 0; i < js_urls.length; i++) {\n",
       "        var url = js_urls[i];\n",
       "        var s = document.createElement('script');\n",
       "        s.src = url;\n",
       "        s.async = false;\n",
       "        s.onreadystatechange = s.onload = function() {\n",
       "          window._bokeh_is_loading--;\n",
       "          if (window._bokeh_is_loading === 0) {\n",
       "            console.log(\"Bokeh: all BokehJS libraries loaded\");\n",
       "            run_callbacks()\n",
       "          }\n",
       "        };\n",
       "        s.onerror = function() {\n",
       "          console.warn(\"failed to load library \" + url);\n",
       "        };\n",
       "        console.log(\"Bokeh: injecting script tag for BokehJS library: \", url);\n",
       "        document.getElementsByTagName(\"head\")[0].appendChild(s);\n",
       "      }\n",
       "    };var element = document.getElementById(\"6b0eda91-8d5c-4b41-a761-087751f1fbe0\");\n",
       "    if (element == null) {\n",
       "      console.log(\"Bokeh: ERROR: autoload.js configured with elementid '6b0eda91-8d5c-4b41-a761-087751f1fbe0' but no matching script tag was found. \")\n",
       "      return false;\n",
       "    }\n",
       "  \n",
       "    var js_urls = [];\n",
       "  \n",
       "    var inline_js = [\n",
       "      function(Bokeh) {\n",
       "        (function() {\n",
       "          var fn = function() {\n",
       "            var docs_json = {\"98467254-4b47-4d89-b355-6e31e1126694\":{\"roots\":{\"references\":[{\"attributes\":{\"data_source\":{\"id\":\"973d7b16-6976-4118-9a9e-5a57912800ee\",\"type\":\"ColumnDataSource\"},\"glyph\":{\"id\":\"06ae1a62-479b-41e0-b076-029cf7eea44a\",\"type\":\"Line\"},\"hover_glyph\":null,\"muted_glyph\":null,\"nonselection_glyph\":{\"id\":\"8f63d555-6281-4a6c-9157-1122eb587dcf\",\"type\":\"Line\"},\"selection_glyph\":null},\"id\":\"da37618d-9346-405a-95c2-3b6b5cc7bb82\",\"type\":\"GlyphRenderer\"},{\"attributes\":{\"data_source\":{\"id\":\"595dd75b-1b33-4724-9c1b-8b200cbb6df8\",\"type\":\"ColumnDataSource\"},\"glyph\":{\"id\":\"11e9d29b-ff87-452d-9834-94792cb85250\",\"type\":\"HBar\"},\"hover_glyph\":null,\"muted_glyph\":null,\"nonselection_glyph\":{\"id\":\"53d9d7fb-b0e3-4791-a63f-32994bb94d3e\",\"type\":\"HBar\"},\"selection_glyph\":null},\"id\":\"f19ffff1-5349-445c-b5cc-9b4e509cd004\",\"type\":\"GlyphRenderer\"},{\"attributes\":{},\"id\":\"f49ada6a-721b-47fb-8e59-d6d8de39c1d4\",\"type\":\"BasicTicker\"},{\"attributes\":{\"plot\":{\"id\":\"fe3f4f0f-e0d9-4743-aa01-c422dc590ce5\",\"subtype\":\"Figure\",\"type\":\"Plot\"}},\"id\":\"6407f310-2388-4103-ad9f-a2578b0b2523\",\"type\":\"HelpTool\"},{\"attributes\":{\"fill_color\":{\"value\":\"#E43216\"},\"height\":{\"value\":0.3},\"left\":{\"value\":-0.41214215202369203},\"line_color\":{\"value\":\"#E43216\"},\"right\":{\"value\":-0.3998025666337611},\"y\":{\"value\":1}},\"id\":\"94c6849e-cf16-4466-866a-94f41cd50dc7\",\"type\":\"HBar\"},{\"attributes\":{\"callback\":null},\"id\":\"76ac90a7-9cb4-4563-936f-35245fb49b56\",\"type\":\"DataRange1d\"},{\"attributes\":{\"fill_color\":{\"field\":\"colors\"},\"line_color\":{\"field\":\"colors\"},\"top\":{\"field\":\"pct\"},\"width\":{\"value\":0.6},\"x\":{\"field\":\"index\"}},\"id\":\"4c0c994e-9ba8-44c7-84de-f439fc66da81\",\"type\":\"VBar\"},{\"attributes\":{\"data_source\":{\"id\":\"0dc11c66-a5bb-405a-907c-8b3305a11f38\",\"type\":\"ColumnDataSource\"},\"glyph\":{\"id\":\"6f19c79c-2606-4e39-86f6-010f3f89aedc\",\"type\":\"Line\"},\"hover_glyph\":null,\"muted_glyph\":null,\"nonselection_glyph\":{\"id\":\"1a6d5a95-1fd8-40ee-8b75-110cdaaf0f85\",\"type\":\"Line\"},\"selection_glyph\":null},\"id\":\"288ee1bc-63b9-4ca7-99f0-9134346841ab\",\"type\":\"GlyphRenderer\"},{\"attributes\":{\"children\":[{\"id\":\"0b0c33af-b0e3-4b5f-99bd-e5f60f19f297\",\"type\":\"WidgetBox\"},{\"id\":\"c5237671-9f6d-4c6c-9fc1-614f8fdd6b5c\",\"type\":\"Row\"}]},\"id\":\"55250fcc-503e-4971-a049-0f5c8f9e9c9d\",\"type\":\"Column\"},{\"attributes\":{\"plot\":{\"id\":\"fe3f4f0f-e0d9-4743-aa01-c422dc590ce5\",\"subtype\":\"Figure\",\"type\":\"Plot\"}},\"id\":\"e1884e02-9d22-4ef5-be01-53b5c4ffb48c\",\"type\":\"WheelZoomTool\"},{\"attributes\":{\"text\":\"<h1 style='margin-left:150px;margin-right:-450px;margin-bottom:18px;font-size:20px;                color:#7D7575'> Time thresholds for differences between expected times </h1>\"},\"id\":\"974626a8-5205-455d-89e9-b5021309f253\",\"type\":\"Div\"},{\"attributes\":{\"plot\":null,\"text\":\"\"},\"id\":\"ed659c4e-6ddc-49d8-a8f0-1a44aae633b2\",\"type\":\"Title\"},{\"attributes\":{\"callback\":null,\"data\":{}},\"id\":\"49a85847-bac3-45e2-9ada-5481f53741d7\",\"type\":\"ColumnDataSource\"},{\"attributes\":{\"line_alpha\":{\"value\":0.1},\"line_color\":{\"value\":\"#1f77b4\"},\"line_dash\":[6],\"line_width\":{\"value\":2},\"x\":{\"field\":\"x\"},\"y\":{\"field\":\"y\"}},\"id\":\"8f63d555-6281-4a6c-9157-1122eb587dcf\",\"type\":\"Line\"},{\"attributes\":{},\"id\":\"300206f0-7a25-4e52-9efc-004b6053c56c\",\"type\":\"BasicTicker\"},{\"attributes\":{\"bottom_units\":\"screen\",\"fill_alpha\":{\"value\":0.5},\"fill_color\":{\"value\":\"lightgrey\"},\"left_units\":\"screen\",\"level\":\"overlay\",\"line_alpha\":{\"value\":1.0},\"line_color\":{\"value\":\"black\"},\"line_dash\":[4,4],\"line_width\":{\"value\":2},\"plot\":null,\"render_mode\":\"css\",\"right_units\":\"screen\",\"top_units\":\"screen\"},\"id\":\"ead3350d-8cd5-4357-9d6c-8a6ea9e151ac\",\"type\":\"BoxAnnotation\"},{\"attributes\":{\"overlay\":{\"id\":\"ead3350d-8cd5-4357-9d6c-8a6ea9e151ac\",\"type\":\"BoxAnnotation\"},\"plot\":{\"id\":\"fe3f4f0f-e0d9-4743-aa01-c422dc590ce5\",\"subtype\":\"Figure\",\"type\":\"Plot\"}},\"id\":\"eff097e1-ad38-4b74-98c5-af863711df18\",\"type\":\"BoxZoomTool\"},{\"attributes\":{\"active_drag\":\"auto\",\"active_inspect\":\"auto\",\"active_scroll\":\"auto\",\"active_tap\":\"auto\",\"tools\":[{\"id\":\"f12aa81f-912f-4eeb-b86c-3e15b3638eb2\",\"type\":\"HoverTool\"}]},\"id\":\"217f5720-3404-420a-b455-a773a296e655\",\"type\":\"Toolbar\"},{\"attributes\":{\"line_color\":{\"value\":\"#AAB2A5\"},\"line_dash\":[6],\"line_width\":{\"value\":2},\"x\":{\"field\":\"x\"},\"y\":{\"field\":\"y\"}},\"id\":\"1b836231-3afd-4c8b-a3ec-67650009e63e\",\"type\":\"Line\"},{\"attributes\":{\"children\":[{\"id\":\"974626a8-5205-455d-89e9-b5021309f253\",\"type\":\"Div\"}]},\"id\":\"0b0c33af-b0e3-4b5f-99bd-e5f60f19f297\",\"type\":\"WidgetBox\"},{\"attributes\":{\"fill_alpha\":{\"value\":0.1},\"fill_color\":{\"value\":\"#1f77b4\"},\"line_alpha\":{\"value\":0.1},\"line_color\":{\"value\":\"#1f77b4\"},\"top\":{\"field\":\"pct\"},\"width\":{\"value\":0.6},\"x\":{\"field\":\"index\"}},\"id\":\"23576844-1cd7-4402-a5cf-8a64c33099da\",\"type\":\"VBar\"},{\"attributes\":{\"children\":[{\"id\":\"fe3f4f0f-e0d9-4743-aa01-c422dc590ce5\",\"subtype\":\"Figure\",\"type\":\"Plot\"},{\"id\":\"7b995da9-dccc-4d6c-98d2-8fb1cff763e4\",\"subtype\":\"Figure\",\"type\":\"Plot\"}]},\"id\":\"c5237671-9f6d-4c6c-9fc1-614f8fdd6b5c\",\"type\":\"Row\"},{\"attributes\":{\"above\":[{\"id\":\"8bc36438-2093-4919-abe1-0c143368de89\",\"type\":\"Title\"}],\"below\":[{\"id\":\"72efad25-9c4e-42c8-b010-65a6abedac2c\",\"type\":\"LinearAxis\"}],\"left\":[{\"id\":\"c118f4da-f5ca-445e-b5cd-310720897276\",\"type\":\"LinearAxis\"}],\"plot_height\":400,\"plot_width\":400,\"renderers\":[{\"id\":\"72efad25-9c4e-42c8-b010-65a6abedac2c\",\"type\":\"LinearAxis\"},{\"id\":\"285d89f1-25d7-4c8b-a210-c18c77d7e6f9\",\"type\":\"Grid\"},{\"id\":\"c118f4da-f5ca-445e-b5cd-310720897276\",\"type\":\"LinearAxis\"},{\"id\":\"a9c6c823-d1af-4cb1-980b-c3a59d852f86\",\"type\":\"Grid\"},{\"id\":\"8bc36438-2093-4919-abe1-0c143368de89\",\"type\":\"Title\"},{\"id\":\"8b155648-d7c4-47ac-aa81-45e9dce8d537\",\"type\":\"GlyphRenderer\"}],\"title\":{\"id\":\"ed659c4e-6ddc-49d8-a8f0-1a44aae633b2\",\"type\":\"Title\"},\"tool_events\":{\"id\":\"9fa7cdc5-6414-49d1-831d-52bf91b9fbdc\",\"type\":\"ToolEvents\"},\"toolbar\":{\"id\":\"217f5720-3404-420a-b455-a773a296e655\",\"type\":\"Toolbar\"},\"x_range\":{\"id\":\"76ac90a7-9cb4-4563-936f-35245fb49b56\",\"type\":\"DataRange1d\"},\"x_scale\":{\"id\":\"1b581aa6-1526-4e16-949f-a47bba1397b2\",\"type\":\"LinearScale\"},\"y_range\":{\"id\":\"ec8ab6b0-9afb-4f3f-a616-72e3a51390af\",\"type\":\"DataRange1d\"},\"y_scale\":{\"id\":\"ab13a8b0-ccb8-4b5d-bbe6-09ace8a0afdb\",\"type\":\"LinearScale\"}},\"id\":\"7b995da9-dccc-4d6c-98d2-8fb1cff763e4\",\"subtype\":\"Figure\",\"type\":\"Plot\"},{\"attributes\":{\"fill_alpha\":{\"value\":0.1},\"fill_color\":{\"value\":\"#1f77b4\"},\"height\":{\"value\":0.3},\"line_alpha\":{\"value\":0.1},\"line_color\":{\"value\":\"#1f77b4\"},\"right\":{\"value\":0.324284304047384},\"y\":{\"value\":1}},\"id\":\"53d9d7fb-b0e3-4791-a63f-32994bb94d3e\",\"type\":\"HBar\"},{\"attributes\":{\"data_source\":{\"id\":\"e5343dff-b4ef-4797-a2d2-f0428df73a53\",\"type\":\"ColumnDataSource\"},\"glyph\":{\"id\":\"1c802592-f76b-431e-a7e6-05484c75e701\",\"type\":\"Line\"},\"hover_glyph\":null,\"muted_glyph\":null,\"nonselection_glyph\":{\"id\":\"35df3524-cbe2-4ecc-bbae-39a13464c78b\",\"type\":\"Line\"},\"selection_glyph\":null},\"id\":\"93f7d83c-7219-456f-a071-edf4edc4e784\",\"type\":\"GlyphRenderer\"},{\"attributes\":{\"callback\":null,\"column_names\":[\"x\",\"y\"],\"data\":{\"x\":[-0.3020730503455084,-0.3020730503455084],\"y\":[0.5,1.5]}},\"id\":\"0dc11c66-a5bb-405a-907c-8b3305a11f38\",\"type\":\"ColumnDataSource\"},{\"attributes\":{\"line_alpha\":{\"value\":0.1},\"line_color\":{\"value\":\"#1f77b4\"},\"line_dash\":[6],\"line_width\":{\"value\":2},\"x\":{\"field\":\"x\"},\"y\":{\"field\":\"y\"}},\"id\":\"06fc081f-9eff-4a11-8e4e-c5bf699ebe54\",\"type\":\"Line\"},{\"attributes\":{\"data_source\":{\"id\":\"54b2621a-e509-47ca-88db-e4576c096bd1\",\"type\":\"ColumnDataSource\"},\"glyph\":{\"id\":\"ff60f94b-5591-475b-9e7f-1158bdf9e588\",\"type\":\"HBar\"},\"hover_glyph\":null,\"muted_glyph\":null,\"nonselection_glyph\":{\"id\":\"bbc7673b-7a9f-4654-9b10-53caa91eb70b\",\"type\":\"HBar\"},\"selection_glyph\":null},\"id\":\"9792ada1-4d01-40d2-ac73-fc15082d38b9\",\"type\":\"GlyphRenderer\"},{\"attributes\":{},\"id\":\"9fa7cdc5-6414-49d1-831d-52bf91b9fbdc\",\"type\":\"ToolEvents\"},{\"attributes\":{\"align\":\"center\",\"plot\":{\"id\":\"7b995da9-dccc-4d6c-98d2-8fb1cff763e4\",\"subtype\":\"Figure\",\"type\":\"Plot\"},\"text\":\"Total percentage within thresholds\"},\"id\":\"8bc36438-2093-4919-abe1-0c143368de89\",\"type\":\"Title\"},{\"attributes\":{\"data_source\":{\"id\":\"9bee5e4c-17e0-470b-a470-1e19adb1edba\",\"type\":\"ColumnDataSource\"},\"glyph\":{\"id\":\"1b836231-3afd-4c8b-a3ec-67650009e63e\",\"type\":\"Line\"},\"hover_glyph\":null,\"muted_glyph\":null,\"nonselection_glyph\":{\"id\":\"e4055a62-2ef9-4db7-a0df-a9183741196f\",\"type\":\"Line\"},\"selection_glyph\":null},\"id\":\"f5193f38-db97-43e2-9f06-0d45a1f240db\",\"type\":\"GlyphRenderer\"},{\"attributes\":{\"fill_alpha\":{\"value\":0.1},\"fill_color\":{\"value\":\"#1f77b4\"},\"height\":{\"value\":0.3},\"left\":{\"value\":-0.41214215202369203},\"line_alpha\":{\"value\":0.1},\"line_color\":{\"value\":\"#1f77b4\"},\"right\":{\"value\":-0.3998025666337611},\"y\":{\"value\":1}},\"id\":\"34afd168-f618-4d5e-8f47-053ced0f9ebf\",\"type\":\"HBar\"},{\"attributes\":{\"callback\":null,\"column_names\":[\"pct\",\"colors\",\"index\",\"thresholds\"],\"data\":{\"colors\":[\"#459E0F\",\"#E4E02C\",\"#E43216\"],\"index\":[0,1,2],\"pct\":{\"__ndarray__\":\"8D8XlB4L5D88iklJpvbQP5DXHzpyzLs/\",\"dtype\":\"float64\",\"shape\":[3]},\"thresholds\":[\"green\",\"yellow\",\"red\"]}},\"id\":\"f7d63e03-232e-47da-b6a4-524bcdee5c85\",\"type\":\"ColumnDataSource\"},{\"attributes\":{\"fill_color\":{\"value\":\"#459E0F\"},\"height\":{\"value\":0.3},\"line_color\":{\"value\":\"#459E0F\"},\"right\":{\"value\":0.324284304047384},\"y\":{\"value\":1}},\"id\":\"11e9d29b-ff87-452d-9834-94792cb85250\",\"type\":\"HBar\"},{\"attributes\":{\"line_color\":{\"value\":\"#AAB2A5\"},\"line_dash\":[6],\"line_width\":{\"value\":2},\"x\":{\"field\":\"x\"},\"y\":{\"field\":\"y\"}},\"id\":\"1c802592-f76b-431e-a7e6-05484c75e701\",\"type\":\"Line\"},{\"attributes\":{\"fill_alpha\":{\"value\":0.1},\"fill_color\":{\"value\":\"#1f77b4\"},\"height\":{\"value\":0.3},\"left\":{\"value\":0.324284304047384},\"line_alpha\":{\"value\":0.1},\"line_color\":{\"value\":\"#1f77b4\"},\"right\":{\"value\":0.491609081934847},\"y\":{\"value\":1}},\"id\":\"68976f1d-2947-4a3c-bc0c-344cab08fcb5\",\"type\":\"HBar\"},{\"attributes\":{\"callback\":null,\"plot\":{\"id\":\"7b995da9-dccc-4d6c-98d2-8fb1cff763e4\",\"subtype\":\"Figure\",\"type\":\"Plot\"},\"tooltips\":[[\"pct\",\"@pct{(0.00%)}\"]]},\"id\":\"f12aa81f-912f-4eeb-b86c-3e15b3638eb2\",\"type\":\"HoverTool\"},{\"attributes\":{},\"id\":\"1bfd1dcd-f3b0-4dc5-b067-2f0cf625a288\",\"type\":\"BasicTickFormatter\"},{\"attributes\":{\"plot\":{\"id\":\"7b995da9-dccc-4d6c-98d2-8fb1cff763e4\",\"subtype\":\"Figure\",\"type\":\"Plot\"},\"ticker\":{\"id\":\"300206f0-7a25-4e52-9efc-004b6053c56c\",\"type\":\"BasicTicker\"}},\"id\":\"285d89f1-25d7-4c8b-a210-c18c77d7e6f9\",\"type\":\"Grid\"},{\"attributes\":{\"plot\":null,\"text\":\"\"},\"id\":\"d4125bda-5156-4e01-990c-897d319e686f\",\"type\":\"Title\"},{\"attributes\":{\"callback\":null,\"data\":{}},\"id\":\"f3c64f31-b2b9-442a-9fb1-eb6c8e6bd153\",\"type\":\"ColumnDataSource\"},{\"attributes\":{\"formatter\":{\"id\":\"73b79b01-6607-48b8-b7f8-824048e38fe9\",\"type\":\"BasicTickFormatter\"},\"plot\":{\"id\":\"7b995da9-dccc-4d6c-98d2-8fb1cff763e4\",\"subtype\":\"Figure\",\"type\":\"Plot\"},\"ticker\":{\"id\":\"300206f0-7a25-4e52-9efc-004b6053c56c\",\"type\":\"BasicTicker\"}},\"id\":\"72efad25-9c4e-42c8-b010-65a6abedac2c\",\"type\":\"LinearAxis\"},{\"attributes\":{\"plot\":{\"id\":\"fe3f4f0f-e0d9-4743-aa01-c422dc590ce5\",\"subtype\":\"Figure\",\"type\":\"Plot\"}},\"id\":\"aced2962-201c-4d0b-88d1-ee384bb59b62\",\"type\":\"PanTool\"},{\"attributes\":{\"dimension\":1,\"plot\":{\"id\":\"7b995da9-dccc-4d6c-98d2-8fb1cff763e4\",\"subtype\":\"Figure\",\"type\":\"Plot\"},\"ticker\":{\"id\":\"59bde086-0876-43c3-ab68-7792a9b7581b\",\"type\":\"BasicTicker\"}},\"id\":\"a9c6c823-d1af-4cb1-980b-c3a59d852f86\",\"type\":\"Grid\"},{\"attributes\":{\"callback\":null,\"column_names\":[\"x\",\"y\"],\"data\":{\"x\":[0,0],\"y\":[0.5,1.5]}},\"id\":\"e5343dff-b4ef-4797-a2d2-f0428df73a53\",\"type\":\"ColumnDataSource\"},{\"attributes\":{},\"id\":\"b0d50197-2c9f-483d-bb13-028de4529311\",\"type\":\"ToolEvents\"},{\"attributes\":{\"callback\":null,\"column_names\":[\"x\",\"y\"],\"data\":{\"x\":[0.491609081934847,0.491609081934847],\"y\":[0.5,1.5]}},\"id\":\"2f79dd2a-90e2-4750-85f7-46fb85ed59a7\",\"type\":\"ColumnDataSource\"},{\"attributes\":{\"fill_color\":{\"value\":\"#459E0F\"},\"height\":{\"value\":0.3},\"left\":{\"value\":-0.3020730503455084},\"line_color\":{\"value\":\"#459E0F\"},\"right\":{\"value\":0},\"y\":{\"value\":1}},\"id\":\"70ac6519-5e0f-4476-a351-0d1c8bbd4486\",\"type\":\"HBar\"},{\"attributes\":{\"fill_color\":{\"value\":\"#E4E02C\"},\"height\":{\"value\":0.3},\"left\":{\"value\":0.324284304047384},\"line_color\":{\"value\":\"#E4E02C\"},\"right\":{\"value\":0.491609081934847},\"y\":{\"value\":1}},\"id\":\"4351b21d-7995-43c8-a4d8-ebd48c3d9936\",\"type\":\"HBar\"},{\"attributes\":{\"align\":\"center\",\"plot\":{\"id\":\"fe3f4f0f-e0d9-4743-aa01-c422dc590ce5\",\"subtype\":\"Figure\",\"type\":\"Plot\"},\"text\":\"Rush/delays within time thresholds\"},\"id\":\"45b5c6c6-f8b2-4058-99bb-4b17f9db724c\",\"type\":\"Title\"},{\"attributes\":{\"callback\":null,\"end\":2},\"id\":\"bb3de119-8eda-453b-ae35-add9a98780a7\",\"type\":\"Range1d\"},{\"attributes\":{\"callback\":null,\"data\":{}},\"id\":\"969c30f1-d005-4a1c-bfcc-cdb9fea4ec76\",\"type\":\"ColumnDataSource\"},{\"attributes\":{\"line_alpha\":{\"value\":0.1},\"line_color\":{\"value\":\"#1f77b4\"},\"line_dash\":[6],\"line_width\":{\"value\":2},\"x\":{\"field\":\"x\"},\"y\":{\"field\":\"y\"}},\"id\":\"1a6d5a95-1fd8-40ee-8b75-110cdaaf0f85\",\"type\":\"Line\"},{\"attributes\":{},\"id\":\"46094a46-1a23-4ed0-8e2f-1fca6ec5065d\",\"type\":\"BasicTickFormatter\"},{\"attributes\":{},\"id\":\"6c742bec-b535-4769-9404-579190824b8c\",\"type\":\"LinearScale\"},{\"attributes\":{\"callback\":null,\"column_names\":[\"x\",\"y\"],\"data\":{\"x\":[0,0],\"y\":[0.5,1.5]}},\"id\":\"f7f439bf-a545-4f42-b221-17c2451aaa6e\",\"type\":\"ColumnDataSource\"},{\"attributes\":{\"callback\":null,\"column_names\":[\"x\",\"y\"],\"data\":{\"x\":[-0.3998025666337611,-0.3998025666337611],\"y\":[0.5,1.5]}},\"id\":\"9bee5e4c-17e0-470b-a470-1e19adb1edba\",\"type\":\"ColumnDataSource\"},{\"attributes\":{\"formatter\":{\"id\":\"1bfd1dcd-f3b0-4dc5-b067-2f0cf625a288\",\"type\":\"BasicTickFormatter\"},\"plot\":{\"id\":\"fe3f4f0f-e0d9-4743-aa01-c422dc590ce5\",\"subtype\":\"Figure\",\"type\":\"Plot\"},\"ticker\":{\"id\":\"f49ada6a-721b-47fb-8e59-d6d8de39c1d4\",\"type\":\"BasicTicker\"},\"visible\":false},\"id\":\"7bf0dfba-1288-4ec8-a2a9-a8c53c98a39b\",\"type\":\"LinearAxis\"},{\"attributes\":{\"formatter\":{\"id\":\"ed440b07-1cc2-445e-9cfc-e2324c515526\",\"type\":\"BasicTickFormatter\"},\"plot\":{\"id\":\"fe3f4f0f-e0d9-4743-aa01-c422dc590ce5\",\"subtype\":\"Figure\",\"type\":\"Plot\"},\"ticker\":{\"id\":\"a86712c3-2f41-458e-b094-cffd51c42589\",\"type\":\"BasicTicker\"}},\"id\":\"81042dd9-87eb-4d5f-b099-0bd998070a9e\",\"type\":\"LinearAxis\"},{\"attributes\":{\"dimension\":1,\"grid_line_color\":{\"value\":null},\"plot\":{\"id\":\"fe3f4f0f-e0d9-4743-aa01-c422dc590ce5\",\"subtype\":\"Figure\",\"type\":\"Plot\"},\"ticker\":{\"id\":\"f49ada6a-721b-47fb-8e59-d6d8de39c1d4\",\"type\":\"BasicTicker\"}},\"id\":\"c371d743-e60c-440f-a1a6-1375052b441c\",\"type\":\"Grid\"},{\"attributes\":{\"above\":[{\"id\":\"45b5c6c6-f8b2-4058-99bb-4b17f9db724c\",\"type\":\"Title\"}],\"below\":[{\"id\":\"81042dd9-87eb-4d5f-b099-0bd998070a9e\",\"type\":\"LinearAxis\"}],\"left\":[{\"id\":\"7bf0dfba-1288-4ec8-a2a9-a8c53c98a39b\",\"type\":\"LinearAxis\"}],\"plot_height\":400,\"plot_width\":400,\"renderers\":[{\"id\":\"81042dd9-87eb-4d5f-b099-0bd998070a9e\",\"type\":\"LinearAxis\"},{\"id\":\"0ab00d2f-9228-46a9-903d-a750f2d28c18\",\"type\":\"Grid\"},{\"id\":\"7bf0dfba-1288-4ec8-a2a9-a8c53c98a39b\",\"type\":\"LinearAxis\"},{\"id\":\"c371d743-e60c-440f-a1a6-1375052b441c\",\"type\":\"Grid\"},{\"id\":\"ead3350d-8cd5-4357-9d6c-8a6ea9e151ac\",\"type\":\"BoxAnnotation\"},{\"id\":\"ae86193b-dd20-4081-8593-6c712f364027\",\"type\":\"GlyphRenderer\"},{\"id\":\"8efc7acb-696b-4fca-9376-06424cf0fee3\",\"type\":\"GlyphRenderer\"},{\"id\":\"9792ada1-4d01-40d2-ac73-fc15082d38b9\",\"type\":\"GlyphRenderer\"},{\"id\":\"288ee1bc-63b9-4ca7-99f0-9134346841ab\",\"type\":\"GlyphRenderer\"},{\"id\":\"f2c7f4b4-be1b-4188-8d9f-6c0cb0136ade\",\"type\":\"GlyphRenderer\"},{\"id\":\"f5193f38-db97-43e2-9f06-0d45a1f240db\",\"type\":\"GlyphRenderer\"},{\"id\":\"f19ffff1-5349-445c-b5cc-9b4e509cd004\",\"type\":\"GlyphRenderer\"},{\"id\":\"93f7d83c-7219-456f-a071-edf4edc4e784\",\"type\":\"GlyphRenderer\"},{\"id\":\"71a167c0-3583-40fe-984e-2674c8fadf4b\",\"type\":\"GlyphRenderer\"},{\"id\":\"da37618d-9346-405a-95c2-3b6b5cc7bb82\",\"type\":\"GlyphRenderer\"},{\"id\":\"2544f3b0-eea3-403b-9d26-909185f9ef63\",\"type\":\"GlyphRenderer\"},{\"id\":\"386f9dc8-61eb-4d7b-9ba8-b6605ce975c2\",\"type\":\"GlyphRenderer\"},{\"id\":\"45b5c6c6-f8b2-4058-99bb-4b17f9db724c\",\"type\":\"Title\"}],\"title\":{\"id\":\"d4125bda-5156-4e01-990c-897d319e686f\",\"type\":\"Title\"},\"tool_events\":{\"id\":\"b0d50197-2c9f-483d-bb13-028de4529311\",\"type\":\"ToolEvents\"},\"toolbar\":{\"id\":\"5b11d172-c974-4370-ad7f-eeac9234b6cd\",\"type\":\"Toolbar\"},\"x_range\":{\"id\":\"f5f9ba59-d18d-45ae-9e91-261462356b5d\",\"type\":\"DataRange1d\"},\"x_scale\":{\"id\":\"3540b9a2-d338-49a7-8f00-b5df6b22b538\",\"type\":\"LinearScale\"},\"y_range\":{\"id\":\"bb3de119-8eda-453b-ae35-add9a98780a7\",\"type\":\"Range1d\"},\"y_scale\":{\"id\":\"6c742bec-b535-4769-9404-579190824b8c\",\"type\":\"LinearScale\"}},\"id\":\"fe3f4f0f-e0d9-4743-aa01-c422dc590ce5\",\"subtype\":\"Figure\",\"type\":\"Plot\"},{\"attributes\":{\"line_color\":{\"value\":\"#AAB2A5\"},\"line_dash\":[6],\"line_width\":{\"value\":2},\"x\":{\"field\":\"x\"},\"y\":{\"field\":\"y\"}},\"id\":\"ae50538d-cdd9-4e65-82e3-c5a1108ab7aa\",\"type\":\"Line\"},{\"attributes\":{\"line_alpha\":{\"value\":0.1},\"line_color\":{\"value\":\"#1f77b4\"},\"line_dash\":[6],\"line_width\":{\"value\":2},\"x\":{\"field\":\"x\"},\"y\":{\"field\":\"y\"}},\"id\":\"54a7ae61-efa5-4732-97e7-54a2710ad3fc\",\"type\":\"Line\"},{\"attributes\":{\"callback\":null,\"column_names\":[\"x\",\"y\"],\"data\":{\"x\":[0.324284304047384,0.324284304047384],\"y\":[0.5,1.5]}},\"id\":\"973d7b16-6976-4118-9a9e-5a57912800ee\",\"type\":\"ColumnDataSource\"},{\"attributes\":{\"formatter\":{\"id\":\"46094a46-1a23-4ed0-8e2f-1fca6ec5065d\",\"type\":\"BasicTickFormatter\"},\"plot\":{\"id\":\"7b995da9-dccc-4d6c-98d2-8fb1cff763e4\",\"subtype\":\"Figure\",\"type\":\"Plot\"},\"ticker\":{\"id\":\"59bde086-0876-43c3-ab68-7792a9b7581b\",\"type\":\"BasicTicker\"}},\"id\":\"c118f4da-f5ca-445e-b5cd-310720897276\",\"type\":\"LinearAxis\"},{\"attributes\":{},\"id\":\"73b79b01-6607-48b8-b7f8-824048e38fe9\",\"type\":\"BasicTickFormatter\"},{\"attributes\":{},\"id\":\"ed440b07-1cc2-445e-9cfc-e2324c515526\",\"type\":\"BasicTickFormatter\"},{\"attributes\":{},\"id\":\"59bde086-0876-43c3-ab68-7792a9b7581b\",\"type\":\"BasicTicker\"},{\"attributes\":{\"callback\":null,\"data\":{}},\"id\":\"bca599ae-1cdd-4ed9-a2be-64f3aedb8fcf\",\"type\":\"ColumnDataSource\"},{\"attributes\":{\"data_source\":{\"id\":\"2f79dd2a-90e2-4750-85f7-46fb85ed59a7\",\"type\":\"ColumnDataSource\"},\"glyph\":{\"id\":\"09a09a7a-b0e3-4318-9dbb-cfc7f0185d56\",\"type\":\"Line\"},\"hover_glyph\":null,\"muted_glyph\":null,\"nonselection_glyph\":{\"id\":\"54a7ae61-efa5-4732-97e7-54a2710ad3fc\",\"type\":\"Line\"},\"selection_glyph\":null},\"id\":\"386f9dc8-61eb-4d7b-9ba8-b6605ce975c2\",\"type\":\"GlyphRenderer\"},{\"attributes\":{\"grid_line_color\":{\"value\":null},\"plot\":{\"id\":\"fe3f4f0f-e0d9-4743-aa01-c422dc590ce5\",\"subtype\":\"Figure\",\"type\":\"Plot\"},\"ticker\":{\"id\":\"a86712c3-2f41-458e-b094-cffd51c42589\",\"type\":\"BasicTicker\"}},\"id\":\"0ab00d2f-9228-46a9-903d-a750f2d28c18\",\"type\":\"Grid\"},{\"attributes\":{\"callback\":null,\"data\":{}},\"id\":\"595dd75b-1b33-4724-9c1b-8b200cbb6df8\",\"type\":\"ColumnDataSource\"},{\"attributes\":{\"line_alpha\":{\"value\":0.1},\"line_color\":{\"value\":\"#1f77b4\"},\"line_dash\":[6],\"line_width\":{\"value\":2},\"x\":{\"field\":\"x\"},\"y\":{\"field\":\"y\"}},\"id\":\"35df3524-cbe2-4ecc-bbae-39a13464c78b\",\"type\":\"Line\"},{\"attributes\":{},\"id\":\"a86712c3-2f41-458e-b094-cffd51c42589\",\"type\":\"BasicTicker\"},{\"attributes\":{\"data_source\":{\"id\":\"f7d63e03-232e-47da-b6a4-524bcdee5c85\",\"type\":\"ColumnDataSource\"},\"glyph\":{\"id\":\"4c0c994e-9ba8-44c7-84de-f439fc66da81\",\"type\":\"VBar\"},\"hover_glyph\":null,\"muted_glyph\":null,\"nonselection_glyph\":{\"id\":\"23576844-1cd7-4402-a5cf-8a64c33099da\",\"type\":\"VBar\"},\"selection_glyph\":null},\"id\":\"8b155648-d7c4-47ac-aa81-45e9dce8d537\",\"type\":\"GlyphRenderer\"},{\"attributes\":{\"fill_color\":{\"value\":\"#E4E02C\"},\"height\":{\"value\":0.3},\"left\":{\"value\":-0.3998025666337611},\"line_color\":{\"value\":\"#E4E02C\"},\"right\":{\"value\":-0.3020730503455084},\"y\":{\"value\":1}},\"id\":\"ff60f94b-5591-475b-9e7f-1158bdf9e588\",\"type\":\"HBar\"},{\"attributes\":{\"fill_alpha\":{\"value\":0.1},\"fill_color\":{\"value\":\"#1f77b4\"},\"height\":{\"value\":0.3},\"left\":{\"value\":-0.3020730503455084},\"line_alpha\":{\"value\":0.1},\"line_color\":{\"value\":\"#1f77b4\"},\"right\":{\"value\":0},\"y\":{\"value\":1}},\"id\":\"c9c4d25c-8ba5-4a6c-9388-b052195b7298\",\"type\":\"HBar\"},{\"attributes\":{\"data_source\":{\"id\":\"969c30f1-d005-4a1c-bfcc-cdb9fea4ec76\",\"type\":\"ColumnDataSource\"},\"glyph\":{\"id\":\"70ac6519-5e0f-4476-a351-0d1c8bbd4486\",\"type\":\"HBar\"},\"hover_glyph\":null,\"muted_glyph\":null,\"nonselection_glyph\":{\"id\":\"c9c4d25c-8ba5-4a6c-9388-b052195b7298\",\"type\":\"HBar\"},\"selection_glyph\":null},\"id\":\"ae86193b-dd20-4081-8593-6c712f364027\",\"type\":\"GlyphRenderer\"},{\"attributes\":{\"data_source\":{\"id\":\"bca599ae-1cdd-4ed9-a2be-64f3aedb8fcf\",\"type\":\"ColumnDataSource\"},\"glyph\":{\"id\":\"0efafd42-00c2-4c29-a0c5-297fb139d9e1\",\"type\":\"HBar\"},\"hover_glyph\":null,\"muted_glyph\":null,\"nonselection_glyph\":{\"id\":\"c5328f6c-2df6-402f-9fc1-abdf9d569068\",\"type\":\"HBar\"},\"selection_glyph\":null},\"id\":\"2544f3b0-eea3-403b-9d26-909185f9ef63\",\"type\":\"GlyphRenderer\"},{\"attributes\":{\"fill_color\":{\"value\":\"#E43216\"},\"height\":{\"value\":0.3},\"left\":{\"value\":0.491609081934847},\"line_color\":{\"value\":\"#E43216\"},\"right\":{\"value\":0.587857847976308},\"y\":{\"value\":1}},\"id\":\"0efafd42-00c2-4c29-a0c5-297fb139d9e1\",\"type\":\"HBar\"},{\"attributes\":{\"line_color\":{\"value\":\"#AAB2A5\"},\"line_dash\":[6],\"line_width\":{\"value\":2},\"x\":{\"field\":\"x\"},\"y\":{\"field\":\"y\"}},\"id\":\"06ae1a62-479b-41e0-b076-029cf7eea44a\",\"type\":\"Line\"},{\"attributes\":{\"line_color\":{\"value\":\"#AAB2A5\"},\"line_dash\":[6],\"line_width\":{\"value\":2},\"x\":{\"field\":\"x\"},\"y\":{\"field\":\"y\"}},\"id\":\"09a09a7a-b0e3-4318-9dbb-cfc7f0185d56\",\"type\":\"Line\"},{\"attributes\":{},\"id\":\"3540b9a2-d338-49a7-8f00-b5df6b22b538\",\"type\":\"LinearScale\"},{\"attributes\":{},\"id\":\"ab13a8b0-ccb8-4b5d-bbe6-09ace8a0afdb\",\"type\":\"LinearScale\"},{\"attributes\":{\"callback\":null},\"id\":\"ec8ab6b0-9afb-4f3f-a616-72e3a51390af\",\"type\":\"DataRange1d\"},{\"attributes\":{\"data_source\":{\"id\":\"49a85847-bac3-45e2-9ada-5481f53741d7\",\"type\":\"ColumnDataSource\"},\"glyph\":{\"id\":\"94c6849e-cf16-4466-866a-94f41cd50dc7\",\"type\":\"HBar\"},\"hover_glyph\":null,\"muted_glyph\":null,\"nonselection_glyph\":{\"id\":\"34afd168-f618-4d5e-8f47-053ced0f9ebf\",\"type\":\"HBar\"},\"selection_glyph\":null},\"id\":\"f2c7f4b4-be1b-4188-8d9f-6c0cb0136ade\",\"type\":\"GlyphRenderer\"},{\"attributes\":{\"line_alpha\":{\"value\":0.1},\"line_color\":{\"value\":\"#1f77b4\"},\"line_dash\":[6],\"line_width\":{\"value\":2},\"x\":{\"field\":\"x\"},\"y\":{\"field\":\"y\"}},\"id\":\"e4055a62-2ef9-4db7-a0df-a9183741196f\",\"type\":\"Line\"},{\"attributes\":{\"fill_alpha\":{\"value\":0.1},\"fill_color\":{\"value\":\"#1f77b4\"},\"height\":{\"value\":0.3},\"left\":{\"value\":0.491609081934847},\"line_alpha\":{\"value\":0.1},\"line_color\":{\"value\":\"#1f77b4\"},\"right\":{\"value\":0.587857847976308},\"y\":{\"value\":1}},\"id\":\"c5328f6c-2df6-402f-9fc1-abdf9d569068\",\"type\":\"HBar\"},{\"attributes\":{\"fill_alpha\":{\"value\":0.1},\"fill_color\":{\"value\":\"#1f77b4\"},\"height\":{\"value\":0.3},\"left\":{\"value\":-0.3998025666337611},\"line_alpha\":{\"value\":0.1},\"line_color\":{\"value\":\"#1f77b4\"},\"right\":{\"value\":-0.3020730503455084},\"y\":{\"value\":1}},\"id\":\"bbc7673b-7a9f-4654-9b10-53caa91eb70b\",\"type\":\"HBar\"},{\"attributes\":{\"plot\":{\"id\":\"fe3f4f0f-e0d9-4743-aa01-c422dc590ce5\",\"subtype\":\"Figure\",\"type\":\"Plot\"}},\"id\":\"dc64b426-ada6-48d9-8ffb-cdce542752f6\",\"type\":\"ResetTool\"},{\"attributes\":{\"plot\":{\"id\":\"fe3f4f0f-e0d9-4743-aa01-c422dc590ce5\",\"subtype\":\"Figure\",\"type\":\"Plot\"}},\"id\":\"c8cf7fa6-202d-4f8e-a507-268a6a1b7a74\",\"type\":\"SaveTool\"},{\"attributes\":{\"data_source\":{\"id\":\"f7f439bf-a545-4f42-b221-17c2451aaa6e\",\"type\":\"ColumnDataSource\"},\"glyph\":{\"id\":\"ae50538d-cdd9-4e65-82e3-c5a1108ab7aa\",\"type\":\"Line\"},\"hover_glyph\":null,\"muted_glyph\":null,\"nonselection_glyph\":{\"id\":\"06fc081f-9eff-4a11-8e4e-c5bf699ebe54\",\"type\":\"Line\"},\"selection_glyph\":null},\"id\":\"8efc7acb-696b-4fca-9376-06424cf0fee3\",\"type\":\"GlyphRenderer\"},{\"attributes\":{\"data_source\":{\"id\":\"f3c64f31-b2b9-442a-9fb1-eb6c8e6bd153\",\"type\":\"ColumnDataSource\"},\"glyph\":{\"id\":\"4351b21d-7995-43c8-a4d8-ebd48c3d9936\",\"type\":\"HBar\"},\"hover_glyph\":null,\"muted_glyph\":null,\"nonselection_glyph\":{\"id\":\"68976f1d-2947-4a3c-bc0c-344cab08fcb5\",\"type\":\"HBar\"},\"selection_glyph\":null},\"id\":\"71a167c0-3583-40fe-984e-2674c8fadf4b\",\"type\":\"GlyphRenderer\"},{\"attributes\":{\"active_drag\":\"auto\",\"active_inspect\":\"auto\",\"active_scroll\":\"auto\",\"active_tap\":\"auto\",\"tools\":[{\"id\":\"aced2962-201c-4d0b-88d1-ee384bb59b62\",\"type\":\"PanTool\"},{\"id\":\"e1884e02-9d22-4ef5-be01-53b5c4ffb48c\",\"type\":\"WheelZoomTool\"},{\"id\":\"eff097e1-ad38-4b74-98c5-af863711df18\",\"type\":\"BoxZoomTool\"},{\"id\":\"c8cf7fa6-202d-4f8e-a507-268a6a1b7a74\",\"type\":\"SaveTool\"},{\"id\":\"dc64b426-ada6-48d9-8ffb-cdce542752f6\",\"type\":\"ResetTool\"},{\"id\":\"6407f310-2388-4103-ad9f-a2578b0b2523\",\"type\":\"HelpTool\"}]},\"id\":\"5b11d172-c974-4370-ad7f-eeac9234b6cd\",\"type\":\"Toolbar\"},{\"attributes\":{},\"id\":\"1b581aa6-1526-4e16-949f-a47bba1397b2\",\"type\":\"LinearScale\"},{\"attributes\":{\"callback\":null},\"id\":\"f5f9ba59-d18d-45ae-9e91-261462356b5d\",\"type\":\"DataRange1d\"},{\"attributes\":{\"line_color\":{\"value\":\"#AAB2A5\"},\"line_dash\":[6],\"line_width\":{\"value\":2},\"x\":{\"field\":\"x\"},\"y\":{\"field\":\"y\"}},\"id\":\"6f19c79c-2606-4e39-86f6-010f3f89aedc\",\"type\":\"Line\"},{\"attributes\":{\"callback\":null,\"data\":{}},\"id\":\"54b2621a-e509-47ca-88db-e4576c096bd1\",\"type\":\"ColumnDataSource\"}],\"root_ids\":[\"55250fcc-503e-4971-a049-0f5c8f9e9c9d\"]},\"title\":\"Bokeh Application\",\"version\":\"0.12.6\"}};\n",
       "            var render_items = [{\"docid\":\"98467254-4b47-4d89-b355-6e31e1126694\",\"elementid\":\"6b0eda91-8d5c-4b41-a761-087751f1fbe0\",\"modelid\":\"55250fcc-503e-4971-a049-0f5c8f9e9c9d\"}];\n",
       "            \n",
       "            Bokeh.embed.embed_items(docs_json, render_items);\n",
       "          };\n",
       "          if (document.readyState != \"loading\") fn();\n",
       "          else document.addEventListener(\"DOMContentLoaded\", fn);\n",
       "        })();\n",
       "      },\n",
       "      function(Bokeh) {\n",
       "      }\n",
       "    ];\n",
       "  \n",
       "    function run_inline_js() {\n",
       "      \n",
       "      if ((window.Bokeh !== undefined) || (force === true)) {\n",
       "        for (var i = 0; i < inline_js.length; i++) {\n",
       "          inline_js[i](window.Bokeh);\n",
       "        }if (force === true) {\n",
       "          display_loaded();\n",
       "        }} else if (Date.now() < window._bokeh_timeout) {\n",
       "        setTimeout(run_inline_js, 100);\n",
       "      } else if (!window._bokeh_failed_load) {\n",
       "        console.log(\"Bokeh: BokehJS failed to load within specified timeout.\");\n",
       "        window._bokeh_failed_load = true;\n",
       "      } else if (force !== true) {\n",
       "        var cell = $(document.getElementById(\"6b0eda91-8d5c-4b41-a761-087751f1fbe0\")).parents('.cell').data().cell;\n",
       "        cell.output_area.append_execute_result(NB_LOAD_WARNING)\n",
       "      }\n",
       "  \n",
       "    }\n",
       "  \n",
       "    if (window._bokeh_is_loading === 0) {\n",
       "      console.log(\"Bokeh: BokehJS loaded, going straight to plotting\");\n",
       "      run_inline_js();\n",
       "    } else {\n",
       "      load_libs(js_urls, function() {\n",
       "        console.log(\"Bokeh: BokehJS plotting callback run at\", now());\n",
       "        run_inline_js();\n",
       "      });\n",
       "    }\n",
       "  }(this));\n",
       "</script>"
      ]
     },
     "metadata": {},
     "output_type": "display_data"
    }
   ],
   "source": [
    "time_threshold_est_act_time_first = plot_horizontal_time_thresholds(threshold_est_act_time_first, 400, 400, 'pct', 'colors', \n",
    "                                                                \"Rush/delays within time thresholds\")\n",
    "within_thresholds_est_act_time_first = plot_total_pct_thresholds(within_threshold_est_act_time_first, 400, 400, \"index\", \"pct\", \"colors\", \"Total percentage within thresholds\")\n",
    "show(column(Div(text=\"<h1 style='margin-left:150px;margin-right:-450px;margin-bottom:18px;font-size:20px;\\\n",
    "                color:#7D7575'> Time thresholds for differences between expected times </h1>\"), row(time_threshold_est_act_time_first, within_thresholds_est_act_time_first)))"
   ]
  },
  {
   "cell_type": "markdown",
   "metadata": {},
   "source": [
    "In comparison to the differences with last expected time, when taking first expected time and actual service delivery we notice that the differences are more significant. Note that the green region (difference within 3 minutes) captures now 62.6% of services. Services in the yellow region (between 3-7 minutes) and red region (more than 7 minutes) grow. The red region, in particular, almost doubles. \n",
    "\n",
    "This shows that there is still space for improvement in terms of first expected time shown to the user. In particular, it will be important to reduce the cases in the red area because this can have an important effect on user's experience.\n",
    "\n",
    "In what follows we perform the same analysis but separately for pick ups and drop offs."
   ]
  },
  {
   "cell_type": "markdown",
   "metadata": {},
   "source": [
    "### Differences in pick up / drop off first expected time vs. actual time"
   ]
  },
  {
   "cell_type": "code",
   "execution_count": 36,
   "metadata": {},
   "outputs": [],
   "source": [
    "est_act_time_first_pick_up =  (est_act_time_first[est_act_time_first[\"type\"] == \"pickup\"]).reset_index()\n",
    "est_act_time_first_drop_off =  (est_act_time_first[est_act_time_first[\"type\"] == \"dropoff\"]).reset_index()"
   ]
  },
  {
   "cell_type": "code",
   "execution_count": 37,
   "metadata": {
    "collapsed": true
   },
   "outputs": [],
   "source": [
    "#Calculating time differences for pick ups\n",
    "est_act_time_first_pick_up.loc[:,\"time_diff_first_est_act\"] = est_act_time_first_pick_up.apply(diff, t1='actual_time_utc_berlin_actual', t2='estimated_time_utc_berlin_first', axis=1)\n",
    "est_act_time_first_pick_up[\"time_diff_first_est_act_min\"] = est_act_time_first_pick_up[\"time_diff_first_est_act\"] / 60.0"
   ]
  },
  {
   "cell_type": "code",
   "execution_count": 38,
   "metadata": {},
   "outputs": [
    {
     "name": "stdout",
     "output_type": "stream",
     "text": [
      "Stats for difference between first expected time and actual pick up time\n",
      "\n",
      "Total difference (hours): 21.228\n",
      "Average (seconds): 37.720\n",
      "Standard deviation (seconds): 231.877\n"
     ]
    }
   ],
   "source": [
    "print(\"Stats for difference between first expected time and actual pick up time\\n\")\n",
    "print_stats(est_act_time_first_pick_up,\"time_diff_first_est_act\")"
   ]
  },
  {
   "cell_type": "code",
   "execution_count": 39,
   "metadata": {
    "collapsed": true
   },
   "outputs": [],
   "source": [
    "#Calculating time differences for drop offs\n",
    "est_act_time_first_drop_off.loc[:,\"time_diff_first_est_act\"] = est_act_time_first_drop_off.apply(diff, t1='actual_time_utc_berlin_actual', t2='estimated_time_utc_berlin_first', axis=1)\n",
    "est_act_time_first_drop_off[\"time_diff_first_est_act_min\"] = est_act_time_first_drop_off[\"time_diff_first_est_act\"] / 60.0"
   ]
  },
  {
   "cell_type": "code",
   "execution_count": 40,
   "metadata": {},
   "outputs": [
    {
     "name": "stdout",
     "output_type": "stream",
     "text": [
      "Stats for difference between first expected time and actual drop off time\n",
      "\n",
      "Total difference (hours): 31.427\n",
      "Average (seconds): 55.843\n",
      "Standard deviation (seconds): 394.421\n"
     ]
    }
   ],
   "source": [
    "print(\"Stats for difference between first expected time and actual drop off time\\n\")\n",
    "print_stats(est_act_time_first_drop_off,\"time_diff_first_est_act\")"
   ]
  },
  {
   "cell_type": "code",
   "execution_count": 41,
   "metadata": {},
   "outputs": [
    {
     "data": {
      "image/png": "[encoded data removed]",
      "text/plain": [
       "<matplotlib.figure.Figure at 0x11b3fccc0>"
      ]
     },
     "metadata": {},
     "output_type": "display_data"
    }
   ],
   "source": [
    "fig, ax = plt.subplots(2, figsize=(10,7))\n",
    "sns.distplot(est_act_time_first_pick_up[\"time_diff_first_est_act_min\"], kde=False, ax=ax[0])\n",
    "sns.distplot(est_act_time_first_drop_off[\"time_diff_first_est_act_min\"], kde=False, ax=ax[1])\n",
    "ax[0].set_title(\"Distribution of difference - pick ups \\n Actual Time First Expected Time (minutes)\")\n",
    "ax[1].set_title(\"Distribution of difference - drop off \\n Actual Time First Expected Time (minutes)\")\n",
    "for ax in ax.flatten():\n",
    "    ax.set_ylabel(\"Counts minutes\")\n",
    "    ax.set_ylabel(\"Counts minutes\")\n",
    "    ax.set_xlabel(\"Time difference\")\n",
    "    ax.axvline(0, color=\"#44999E\", linestyle='--')\n",
    "fig.tight_layout() "
   ]
  },
  {
   "cell_type": "markdown",
   "metadata": {},
   "source": [
    "Looking at the distributions and the statistics for pick ups and drop offs one can notice that the differences for actual time vs. first expected time are bigger for the drop off than pick ups. This is straightforward to understand. As drop off are farther ahead in the future, it is more difficult to predict than pick ups. Still doing better at predicting pick ups and drop offs would give the service reliability in terms of the expected time users need to wait for the complete service (pick up and drop off) to be conducted."
   ]
  },
  {
   "cell_type": "code",
   "execution_count": 42,
   "metadata": {
    "collapsed": true
   },
   "outputs": [],
   "source": [
    "#Using plotting functions\n",
    "threshold_first_pick_up =  get_thresholds_groups(est_act_time_first_pick_up, \"time_diff_first_est_act_min\")\n",
    "within_thresh_first_pick_up = get_region_threshold_groups(threshold_first_pick_up, \"colors\")\n",
    "threshold_first_drop_off = get_thresholds_groups(est_act_time_first_drop_off, \"time_diff_first_est_act_min\")\n",
    "within_thresh_first_drop_off = get_region_threshold_groups(threshold_first_drop_off, \"colors\")"
   ]
  },
  {
   "cell_type": "code",
   "execution_count": 43,
   "metadata": {},
   "outputs": [
    {
     "data": {
      "text/html": [
       "\n",
       "\n",
       "    <div class=\"bk-root\">\n",
       "        <div class=\"bk-plotdiv\" id=\"3a83e06d-5f87-4ede-9a90-f8161cd23bd4\"></div>\n",
       "    </div>\n",
       "<script type=\"text/javascript\">\n",
       "  \n",
       "  (function(global) {\n",
       "    function now() {\n",
       "      return new Date();\n",
       "    }\n",
       "  \n",
       "    var force = false;\n",
       "  \n",
       "    if (typeof (window._bokeh_onload_callbacks) === \"undefined\" || force === true) {\n",
       "      window._bokeh_onload_callbacks = [];\n",
       "      window._bokeh_is_loading = undefined;\n",
       "    }\n",
       "  \n",
       "  \n",
       "    \n",
       "    if (typeof (window._bokeh_timeout) === \"undefined\" || force === true) {\n",
       "      window._bokeh_timeout = Date.now() + 0;\n",
       "      window._bokeh_failed_load = false;\n",
       "    }\n",
       "  \n",
       "    var NB_LOAD_WARNING = {'data': {'text/html':\n",
       "       \"<div style='background-color: #fdd'>\\n\"+\n",
       "       \"<p>\\n\"+\n",
       "       \"BokehJS does not appear to have successfully loaded. If loading BokehJS from CDN, this \\n\"+\n",
       "       \"may be due to a slow or bad network connection. Possible fixes:\\n\"+\n",
       "       \"</p>\\n\"+\n",
       "       \"<ul>\\n\"+\n",
       "       \"<li>re-rerun `output_notebook()` to attempt to load from CDN again, or</li>\\n\"+\n",
       "       \"<li>use INLINE resources instead, as so:</li>\\n\"+\n",
       "       \"</ul>\\n\"+\n",
       "       \"<code>\\n\"+\n",
       "       \"from bokeh.resources import INLINE\\n\"+\n",
       "       \"output_notebook(resources=INLINE)\\n\"+\n",
       "       \"</code>\\n\"+\n",
       "       \"</div>\"}};\n",
       "  \n",
       "    function display_loaded() {\n",
       "      if (window.Bokeh !== undefined) {\n",
       "        var el = document.getElementById(\"3a83e06d-5f87-4ede-9a90-f8161cd23bd4\");\n",
       "        el.textContent = \"BokehJS \" + Bokeh.version + \" successfully loaded.\";\n",
       "      } else if (Date.now() < window._bokeh_timeout) {\n",
       "        setTimeout(display_loaded, 100)\n",
       "      }\n",
       "    }\n",
       "  \n",
       "    function run_callbacks() {\n",
       "      try {\n",
       "        window._bokeh_onload_callbacks.forEach(function(callback) { callback() });\n",
       "      }\n",
       "      finally {\n",
       "        delete window._bokeh_onload_callbacks\n",
       "      }\n",
       "      console.info(\"Bokeh: all callbacks have finished\");\n",
       "    }\n",
       "  \n",
       "    function load_libs(js_urls, callback) {\n",
       "      window._bokeh_onload_callbacks.push(callback);\n",
       "      if (window._bokeh_is_loading > 0) {\n",
       "        console.log(\"Bokeh: BokehJS is being loaded, scheduling callback at\", now());\n",
       "        return null;\n",
       "      }\n",
       "      if (js_urls == null || js_urls.length === 0) {\n",
       "        run_callbacks();\n",
       "        return null;\n",
       "      }\n",
       "      console.log(\"Bokeh: BokehJS not loaded, scheduling load and callback at\", now());\n",
       "      window._bokeh_is_loading = js_urls.length;\n",
       "      for (var i = 0; i < js_urls.length; i++) {\n",
       "        var url = js_urls[i];\n",
       "        var s = document.createElement('script');\n",
       "        s.src = url;\n",
       "        s.async = false;\n",
       "        s.onreadystatechange = s.onload = function() {\n",
       "          window._bokeh_is_loading--;\n",
       "          if (window._bokeh_is_loading === 0) {\n",
       "            console.log(\"Bokeh: all BokehJS libraries loaded\");\n",
       "            run_callbacks()\n",
       "          }\n",
       "        };\n",
       "        s.onerror = function() {\n",
       "          console.warn(\"failed to load library \" + url);\n",
       "        };\n",
       "        console.log(\"Bokeh: injecting script tag for BokehJS library: \", url);\n",
       "        document.getElementsByTagName(\"head\")[0].appendChild(s);\n",
       "      }\n",
       "    };var element = document.getElementById(\"3a83e06d-5f87-4ede-9a90-f8161cd23bd4\");\n",
       "    if (element == null) {\n",
       "      console.log(\"Bokeh: ERROR: autoload.js configured with elementid '3a83e06d-5f87-4ede-9a90-f8161cd23bd4' but no matching script tag was found. \")\n",
       "      return false;\n",
       "    }\n",
       "  \n",
       "    var js_urls = [];\n",
       "  \n",
       "    var inline_js = [\n",
       "      function(Bokeh) {\n",
       "        (function() {\n",
       "          var fn = function() {\n",
       "            var docs_json = {\"c4f47130-96a2-446a-a956-6ccc481476b0\":{\"roots\":{\"references\":[{\"attributes\":{},\"id\":\"8847b487-f26c-4e40-bbf3-75c66c4d7658\",\"type\":\"LinearScale\"},{\"attributes\":{\"plot\":{\"id\":\"099d2421-72e5-4074-96b1-4ecb76676c37\",\"subtype\":\"Figure\",\"type\":\"Plot\"}},\"id\":\"0265aaf2-6db0-4700-a66d-76e265250308\",\"type\":\"WheelZoomTool\"},{\"attributes\":{\"plot\":{\"id\":\"099d2421-72e5-4074-96b1-4ecb76676c37\",\"subtype\":\"Figure\",\"type\":\"Plot\"}},\"id\":\"30037292-83a0-482b-b39d-72da574dd3c3\",\"type\":\"SaveTool\"},{\"attributes\":{\"line_color\":{\"value\":\"#AAB2A5\"},\"line_dash\":[6],\"line_width\":{\"value\":2},\"x\":{\"field\":\"x\"},\"y\":{\"field\":\"y\"}},\"id\":\"5e948b8d-2be3-40a8-806d-a16486391bfa\",\"type\":\"Line\"},{\"attributes\":{\"fill_alpha\":{\"value\":0.1},\"fill_color\":{\"value\":\"#1f77b4\"},\"line_alpha\":{\"value\":0.1},\"line_color\":{\"value\":\"#1f77b4\"},\"top\":{\"field\":\"pct\"},\"width\":{\"value\":0.6},\"x\":{\"field\":\"index\"}},\"id\":\"a1447d71-8590-41ed-a385-aa74cfd700fb\",\"type\":\"VBar\"},{\"attributes\":{\"callback\":null,\"data\":{}},\"id\":\"6b9b14fd-5272-44fb-b8d4-8a99beb59d14\",\"type\":\"ColumnDataSource\"},{\"attributes\":{\"callback\":null,\"plot\":{\"id\":\"f28a609d-de7a-4499-9314-c1013a5b4347\",\"subtype\":\"Figure\",\"type\":\"Plot\"},\"tooltips\":[[\"pct\",\"@pct{(0.00%)}\"]]},\"id\":\"2432b7a0-b029-47c5-bf56-ab4b3722a4c5\",\"type\":\"HoverTool\"},{\"attributes\":{\"fill_alpha\":{\"value\":0.1},\"fill_color\":{\"value\":\"#1f77b4\"},\"height\":{\"value\":0.3},\"left\":{\"value\":0.4288537549407115},\"line_alpha\":{\"value\":0.1},\"line_color\":{\"value\":\"#1f77b4\"},\"right\":{\"value\":0.5671936758893281},\"y\":{\"value\":1}},\"id\":\"e79a50c3-959e-49e8-aae1-0414aae5aed5\",\"type\":\"HBar\"},{\"attributes\":{\"data_source\":{\"id\":\"98fb0774-f149-4e29-af35-aef73fe14256\",\"type\":\"ColumnDataSource\"},\"glyph\":{\"id\":\"775f608e-fd27-40a1-b2bc-fac144e22a94\",\"type\":\"Line\"},\"hover_glyph\":null,\"muted_glyph\":null,\"nonselection_glyph\":{\"id\":\"9e43e324-c71a-4367-b053-4c31ce80ebe3\",\"type\":\"Line\"},\"selection_glyph\":null},\"id\":\"c4a4c0d8-d589-4e4a-81c9-927d0b610ea9\",\"type\":\"GlyphRenderer\"},{\"attributes\":{\"fill_color\":{\"value\":\"#E4E02C\"},\"height\":{\"value\":0.3},\"left\":{\"value\":0.2549407114624506},\"line_color\":{\"value\":\"#E4E02C\"},\"right\":{\"value\":0.4288537549407115},\"y\":{\"value\":1}},\"id\":\"7bd4733c-d5c4-48dc-be7e-f0b37b7d0714\",\"type\":\"HBar\"},{\"attributes\":{},\"id\":\"027c2814-03f1-4138-87ea-23fe378fa9dc\",\"type\":\"BasicTicker\"},{\"attributes\":{\"plot\":{\"id\":\"099d2421-72e5-4074-96b1-4ecb76676c37\",\"subtype\":\"Figure\",\"type\":\"Plot\"}},\"id\":\"5840d73e-ed86-4fae-8d09-5aab911c2aac\",\"type\":\"ResetTool\"},{\"attributes\":{\"text\":\"<h1 style='margin-left:150px;margin-right:-500px;margin-bottom:18px;font-size:20px;                color:#7D7575'> Time thresholds for pick ups / drop offs (first expected time)</h1>\"},\"id\":\"cb171755-e71b-4e2e-9b44-73db49854d7f\",\"type\":\"Div\"},{\"attributes\":{\"dimension\":1,\"plot\":{\"id\":\"fb79a330-d65f-48d9-bfd8-e8ab4776bab7\",\"subtype\":\"Figure\",\"type\":\"Plot\"},\"ticker\":{\"id\":\"027c2814-03f1-4138-87ea-23fe378fa9dc\",\"type\":\"BasicTicker\"}},\"id\":\"22ea8e8a-9f05-4cc9-8913-1504b1dda71e\",\"type\":\"Grid\"},{\"attributes\":{\"fill_alpha\":{\"value\":0.1},\"fill_color\":{\"value\":\"#1f77b4\"},\"height\":{\"value\":0.3},\"left\":{\"value\":-0.2766798418972332},\"line_alpha\":{\"value\":0.1},\"line_color\":{\"value\":\"#1f77b4\"},\"right\":{\"value\":0},\"y\":{\"value\":1}},\"id\":\"bbae0e00-62c2-49ed-b774-de87da5a9ef6\",\"type\":\"HBar\"},{\"attributes\":{\"callback\":null,\"end\":2},\"id\":\"b51b262a-7fa2-4f17-b594-0653b0afd0e9\",\"type\":\"Range1d\"},{\"attributes\":{\"callback\":null,\"data\":{}},\"id\":\"c45f084f-e853-4852-b16e-85081abfe5f2\",\"type\":\"ColumnDataSource\"},{\"attributes\":{},\"id\":\"9e1adf08-06b5-4cfe-8ddc-ff797bf5e5de\",\"type\":\"BasicTickFormatter\"},{\"attributes\":{\"plot\":null,\"text\":\"\"},\"id\":\"b03746fc-3c0d-4320-86f1-83a353fec0aa\",\"type\":\"Title\"},{\"attributes\":{\"data_source\":{\"id\":\"a8980b4a-0192-4a29-8710-2bfeb4492948\",\"type\":\"ColumnDataSource\"},\"glyph\":{\"id\":\"8bd67f35-ce17-4610-bacd-e37c6a404bd4\",\"type\":\"HBar\"},\"hover_glyph\":null,\"muted_glyph\":null,\"nonselection_glyph\":{\"id\":\"6f47dcc5-576a-4a2b-b3b6-92f041e17b2a\",\"type\":\"HBar\"},\"selection_glyph\":null},\"id\":\"1fc6cc85-6bea-4aec-a873-789ca1652bf1\",\"type\":\"GlyphRenderer\"},{\"attributes\":{\"plot\":{\"id\":\"099d2421-72e5-4074-96b1-4ecb76676c37\",\"subtype\":\"Figure\",\"type\":\"Plot\"}},\"id\":\"e0de662a-83f4-45fd-aea3-449d3ac211ea\",\"type\":\"HelpTool\"},{\"attributes\":{\"data_source\":{\"id\":\"14dfb02f-d233-4cba-8c51-a5bbc453830a\",\"type\":\"ColumnDataSource\"},\"glyph\":{\"id\":\"6b67b693-c031-4d1c-abe5-7aa66504ac3c\",\"type\":\"VBar\"},\"hover_glyph\":null,\"muted_glyph\":null,\"nonselection_glyph\":{\"id\":\"a1447d71-8590-41ed-a385-aa74cfd700fb\",\"type\":\"VBar\"},\"selection_glyph\":null},\"id\":\"311cdea9-ec00-433e-8f7e-602dfa860939\",\"type\":\"GlyphRenderer\"},{\"attributes\":{\"fill_alpha\":{\"value\":0.1},\"fill_color\":{\"value\":\"#1f77b4\"},\"height\":{\"value\":0.3},\"left\":{\"value\":-0.43280632411067194},\"line_alpha\":{\"value\":0.1},\"line_color\":{\"value\":\"#1f77b4\"},\"right\":{\"value\":-0.41007905138339923},\"y\":{\"value\":1}},\"id\":\"4d299910-006f-40c8-a456-bed90d005bbd\",\"type\":\"HBar\"},{\"attributes\":{\"line_color\":{\"value\":\"#AAB2A5\"},\"line_dash\":[6],\"line_width\":{\"value\":2},\"x\":{\"field\":\"x\"},\"y\":{\"field\":\"y\"}},\"id\":\"a6734b78-1300-431b-bb75-bf5753accb9f\",\"type\":\"Line\"},{\"attributes\":{\"children\":[{\"id\":\"9a7a5f1a-fda9-4f88-836d-676f9c5fa359\",\"type\":\"WidgetBox\"},{\"id\":\"b44cb0be-ac3c-415e-beec-a7313daf6f3e\",\"type\":\"Column\"}]},\"id\":\"087df5af-ada5-4538-96b3-6f50ffcf7afe\",\"type\":\"Column\"},{\"attributes\":{\"callback\":null,\"data\":{}},\"id\":\"b9cb8ec0-38c6-4990-8440-9e419a384cb6\",\"type\":\"ColumnDataSource\"},{\"attributes\":{\"active_drag\":\"auto\",\"active_inspect\":\"auto\",\"active_scroll\":\"auto\",\"active_tap\":\"auto\",\"tools\":[{\"id\":\"44e229a5-f676-424e-81f6-1576afdc5927\",\"type\":\"HoverTool\"}]},\"id\":\"482786be-9e03-4866-86a2-ecf80f1e01d9\",\"type\":\"Toolbar\"},{\"attributes\":{\"overlay\":{\"id\":\"da433476-ccba-448a-b821-5facb4330de5\",\"type\":\"BoxAnnotation\"},\"plot\":{\"id\":\"fc610a69-cca0-4d1b-9b4b-45b62b36bf5e\",\"subtype\":\"Figure\",\"type\":\"Plot\"}},\"id\":\"1a307325-3249-4383-9ea3-bd548d5fd528\",\"type\":\"BoxZoomTool\"},{\"attributes\":{\"fill_color\":{\"value\":\"#459E0F\"},\"height\":{\"value\":0.3},\"line_color\":{\"value\":\"#459E0F\"},\"right\":{\"value\":0.39349112426035504},\"y\":{\"value\":1}},\"id\":\"f46d4e8e-e573-45c5-b920-c8c3f682ccd6\",\"type\":\"HBar\"},{\"attributes\":{},\"id\":\"6ddfab34-f476-4b27-9b55-b9b3cf662ed4\",\"type\":\"LinearScale\"},{\"attributes\":{\"line_color\":{\"value\":\"#AAB2A5\"},\"line_dash\":[6],\"line_width\":{\"value\":2},\"x\":{\"field\":\"x\"},\"y\":{\"field\":\"y\"}},\"id\":\"9e090f96-aa51-41ae-beaa-074555e61f4b\",\"type\":\"Line\"},{\"attributes\":{\"dimension\":1,\"grid_line_color\":{\"value\":null},\"plot\":{\"id\":\"099d2421-72e5-4074-96b1-4ecb76676c37\",\"subtype\":\"Figure\",\"type\":\"Plot\"},\"ticker\":{\"id\":\"7faa29a6-1ff0-4cd4-9f4d-1eb749b58d12\",\"type\":\"BasicTicker\"}},\"id\":\"61b349ad-4920-4c75-b5fe-d5441c5b17af\",\"type\":\"Grid\"},{\"attributes\":{\"line_color\":{\"value\":\"#AAB2A5\"},\"line_dash\":[6],\"line_width\":{\"value\":2},\"x\":{\"field\":\"x\"},\"y\":{\"field\":\"y\"}},\"id\":\"16b40ee9-f57e-4c95-932d-458ee058e8b5\",\"type\":\"Line\"},{\"attributes\":{},\"id\":\"1cffa15b-db71-4b96-91ff-ef2865c6d883\",\"type\":\"BasicTicker\"},{\"attributes\":{\"callback\":null,\"data\":{}},\"id\":\"87a95ea3-132a-4f86-8d50-d0ccad3604b9\",\"type\":\"ColumnDataSource\"},{\"attributes\":{\"align\":\"center\",\"plot\":{\"id\":\"fb79a330-d65f-48d9-bfd8-e8ab4776bab7\",\"subtype\":\"Figure\",\"type\":\"Plot\"},\"text\":\"Total percentage within thresholds pick up\"},\"id\":\"4506926c-876c-42f8-81f6-7794c1a11b93\",\"type\":\"Title\"},{\"attributes\":{\"callback\":null,\"column_names\":[\"x\",\"y\"],\"data\":{\"x\":[-0.32741617357001973,-0.32741617357001973],\"y\":[0.5,1.5]}},\"id\":\"3eec4f47-9ce8-4479-a8ad-47dae3ebf72a\",\"type\":\"ColumnDataSource\"},{\"attributes\":{\"formatter\":{\"id\":\"4cda67e3-d80e-4e48-9e75-a65b4fa673d3\",\"type\":\"BasicTickFormatter\"},\"plot\":{\"id\":\"099d2421-72e5-4074-96b1-4ecb76676c37\",\"subtype\":\"Figure\",\"type\":\"Plot\"},\"ticker\":{\"id\":\"7faa29a6-1ff0-4cd4-9f4d-1eb749b58d12\",\"type\":\"BasicTicker\"},\"visible\":false},\"id\":\"5a70f5a0-55b8-470e-b14a-e79542524c39\",\"type\":\"LinearAxis\"},{\"attributes\":{\"line_color\":{\"value\":\"#AAB2A5\"},\"line_dash\":[6],\"line_width\":{\"value\":2},\"x\":{\"field\":\"x\"},\"y\":{\"field\":\"y\"}},\"id\":\"d66aa981-f4ef-4706-83ee-c3b4f9be88df\",\"type\":\"Line\"},{\"attributes\":{\"line_color\":{\"value\":\"#AAB2A5\"},\"line_dash\":[6],\"line_width\":{\"value\":2},\"x\":{\"field\":\"x\"},\"y\":{\"field\":\"y\"}},\"id\":\"699533e0-b26c-41d9-8668-8707919936cc\",\"type\":\"Line\"},{\"attributes\":{\"callback\":null,\"column_names\":[\"x\",\"y\"],\"data\":{\"x\":[0,0],\"y\":[0.5,1.5]}},\"id\":\"38a537ce-6966-400c-975f-36bfa41b3c0d\",\"type\":\"ColumnDataSource\"},{\"attributes\":{\"data_source\":{\"id\":\"b562c961-3d0e-4ddf-9deb-6d67cdf2186b\",\"type\":\"ColumnDataSource\"},\"glyph\":{\"id\":\"6babcee0-bbb6-4c71-bd33-24d823d99a48\",\"type\":\"Line\"},\"hover_glyph\":null,\"muted_glyph\":null,\"nonselection_glyph\":{\"id\":\"8a6948fc-be88-40a5-958b-7048a4159787\",\"type\":\"Line\"},\"selection_glyph\":null},\"id\":\"8b92ca08-736b-46a4-bd4b-7b1fc7cb424f\",\"type\":\"GlyphRenderer\"},{\"attributes\":{\"data_source\":{\"id\":\"a283a4e4-d598-4f36-ada5-3abc8e85cbdb\",\"type\":\"ColumnDataSource\"},\"glyph\":{\"id\":\"7bd4733c-d5c4-48dc-be7e-f0b37b7d0714\",\"type\":\"HBar\"},\"hover_glyph\":null,\"muted_glyph\":null,\"nonselection_glyph\":{\"id\":\"9e5c0c14-4fa2-4461-9499-2154f3ec68c2\",\"type\":\"HBar\"},\"selection_glyph\":null},\"id\":\"f6550cf9-137f-4c71-b1c1-9999c960fc3b\",\"type\":\"GlyphRenderer\"},{\"attributes\":{\"data_source\":{\"id\":\"17b0eed8-cfbb-4ef9-9bce-8ab175ea126c\",\"type\":\"ColumnDataSource\"},\"glyph\":{\"id\":\"3277e6c8-253e-4e8b-a216-1b7663218ba7\",\"type\":\"HBar\"},\"hover_glyph\":null,\"muted_glyph\":null,\"nonselection_glyph\":{\"id\":\"fba35f03-934f-413f-ae6d-adc5b8118429\",\"type\":\"HBar\"},\"selection_glyph\":null},\"id\":\"6911905a-a2ab-4361-b067-049c6f59783c\",\"type\":\"GlyphRenderer\"},{\"attributes\":{\"fill_alpha\":{\"value\":0.1},\"fill_color\":{\"value\":\"#1f77b4\"},\"height\":{\"value\":0.3},\"left\":{\"value\":0.39349112426035504},\"line_alpha\":{\"value\":0.1},\"line_color\":{\"value\":\"#1f77b4\"},\"right\":{\"value\":0.554240631163708},\"y\":{\"value\":1}},\"id\":\"58083949-a29f-4b64-8fe6-ccd2c0936d68\",\"type\":\"HBar\"},{\"attributes\":{\"line_alpha\":{\"value\":0.1},\"line_color\":{\"value\":\"#1f77b4\"},\"line_dash\":[6],\"line_width\":{\"value\":2},\"x\":{\"field\":\"x\"},\"y\":{\"field\":\"y\"}},\"id\":\"ca6a20e8-ec69-4479-b552-1e861bcd4cad\",\"type\":\"Line\"},{\"attributes\":{\"callback\":null,\"data\":{}},\"id\":\"f71e21f8-d16e-4f71-b75c-e0820488634e\",\"type\":\"ColumnDataSource\"},{\"attributes\":{\"dimension\":1,\"plot\":{\"id\":\"f28a609d-de7a-4499-9314-c1013a5b4347\",\"subtype\":\"Figure\",\"type\":\"Plot\"},\"ticker\":{\"id\":\"5e1a0a01-e912-4d09-afa5-59b0326a207e\",\"type\":\"BasicTicker\"}},\"id\":\"e4a4348a-7ee2-41eb-be30-db7477a76406\",\"type\":\"Grid\"},{\"attributes\":{},\"id\":\"7b611a8e-b4d8-44d3-8366-9a8af01b3a9d\",\"type\":\"BasicTickFormatter\"},{\"attributes\":{\"data_source\":{\"id\":\"86ceeec2-a54e-4cff-b57c-0bd17c8c38e7\",\"type\":\"ColumnDataSource\"},\"glyph\":{\"id\":\"c63b537b-617e-4266-a42a-39f7f5720b40\",\"type\":\"Line\"},\"hover_glyph\":null,\"muted_glyph\":null,\"nonselection_glyph\":{\"id\":\"208efe97-9700-4dc3-95ba-fc005d654a98\",\"type\":\"Line\"},\"selection_glyph\":null},\"id\":\"a824837e-7a46-467d-b2c2-c586a503cc1d\",\"type\":\"GlyphRenderer\"},{\"attributes\":{\"line_alpha\":{\"value\":0.1},\"line_color\":{\"value\":\"#1f77b4\"},\"line_dash\":[6],\"line_width\":{\"value\":2},\"x\":{\"field\":\"x\"},\"y\":{\"field\":\"y\"}},\"id\":\"a0bd51bc-5e61-49d8-8545-9cd045f9b183\",\"type\":\"Line\"},{\"attributes\":{\"plot\":{\"id\":\"fc610a69-cca0-4d1b-9b4b-45b62b36bf5e\",\"subtype\":\"Figure\",\"type\":\"Plot\"}},\"id\":\"050964a9-0b3f-440b-9a1d-95ee4e928fa0\",\"type\":\"WheelZoomTool\"},{\"attributes\":{\"callback\":null},\"id\":\"5e3f3bbc-845c-479a-9b1d-f5dc67bcc3f9\",\"type\":\"DataRange1d\"},{\"attributes\":{\"data_source\":{\"id\":\"6b9b14fd-5272-44fb-b8d4-8a99beb59d14\",\"type\":\"ColumnDataSource\"},\"glyph\":{\"id\":\"480995f6-4c0b-4c08-b999-f51b93330c14\",\"type\":\"HBar\"},\"hover_glyph\":null,\"muted_glyph\":null,\"nonselection_glyph\":{\"id\":\"5db356d6-28a6-4e1b-989f-244fd37115ed\",\"type\":\"HBar\"},\"selection_glyph\":null},\"id\":\"0de6f619-4cd9-4bf5-9b06-1e468d9b6ede\",\"type\":\"GlyphRenderer\"},{\"attributes\":{\"line_color\":{\"value\":\"#AAB2A5\"},\"line_dash\":[6],\"line_width\":{\"value\":2},\"x\":{\"field\":\"x\"},\"y\":{\"field\":\"y\"}},\"id\":\"6babcee0-bbb6-4c71-bd33-24d823d99a48\",\"type\":\"Line\"},{\"attributes\":{\"data_source\":{\"id\":\"95a67b08-0862-4ade-8fcf-4eca0017965a\",\"type\":\"ColumnDataSource\"},\"glyph\":{\"id\":\"6a0f53b6-8f27-4a46-a17e-17f3ef331a73\",\"type\":\"HBar\"},\"hover_glyph\":null,\"muted_glyph\":null,\"nonselection_glyph\":{\"id\":\"58083949-a29f-4b64-8fe6-ccd2c0936d68\",\"type\":\"HBar\"},\"selection_glyph\":null},\"id\":\"a28bb8c7-b797-49c4-be3e-633cf2ae1159\",\"type\":\"GlyphRenderer\"},{\"attributes\":{\"data_source\":{\"id\":\"42fd6477-e29e-4b68-8416-8ea636ffd2b1\",\"type\":\"ColumnDataSource\"},\"glyph\":{\"id\":\"ddb8cef8-9da2-4240-acb7-f16e864c9159\",\"type\":\"VBar\"},\"hover_glyph\":null,\"muted_glyph\":null,\"nonselection_glyph\":{\"id\":\"6a2793e2-9dc1-4113-8f08-c4ba82b11fe4\",\"type\":\"VBar\"},\"selection_glyph\":null},\"id\":\"8a64d49b-523b-4ea3-9e0d-b1ecd54283d1\",\"type\":\"GlyphRenderer\"},{\"attributes\":{\"plot\":{\"id\":\"fc610a69-cca0-4d1b-9b4b-45b62b36bf5e\",\"subtype\":\"Figure\",\"type\":\"Plot\"}},\"id\":\"f51fb29a-903c-49f9-9e37-684fe68f77d1\",\"type\":\"SaveTool\"},{\"attributes\":{\"line_alpha\":{\"value\":0.1},\"line_color\":{\"value\":\"#1f77b4\"},\"line_dash\":[6],\"line_width\":{\"value\":2},\"x\":{\"field\":\"x\"},\"y\":{\"field\":\"y\"}},\"id\":\"1658604f-235d-4f83-b803-86c39e620772\",\"type\":\"Line\"},{\"attributes\":{\"callback\":null,\"data\":{}},\"id\":\"a283a4e4-d598-4f36-ada5-3abc8e85cbdb\",\"type\":\"ColumnDataSource\"},{\"attributes\":{\"plot\":{\"id\":\"fc610a69-cca0-4d1b-9b4b-45b62b36bf5e\",\"subtype\":\"Figure\",\"type\":\"Plot\"}},\"id\":\"dc734309-10f9-4109-9ce8-ab53b6bcbb12\",\"type\":\"PanTool\"},{\"attributes\":{\"callback\":null,\"column_names\":[\"x\",\"y\"],\"data\":{\"x\":[0.2549407114624506,0.2549407114624506],\"y\":[0.5,1.5]}},\"id\":\"af438ea8-38bf-4993-ba75-6b9630909ab7\",\"type\":\"ColumnDataSource\"},{\"attributes\":{\"callback\":null},\"id\":\"c529dccc-db6e-4aa9-8d64-e03ca2371be0\",\"type\":\"DataRange1d\"},{\"attributes\":{\"line_color\":{\"value\":\"#AAB2A5\"},\"line_dash\":[6],\"line_width\":{\"value\":2},\"x\":{\"field\":\"x\"},\"y\":{\"field\":\"y\"}},\"id\":\"07ca1ea6-2fd2-4c06-8881-e9a682bae7c8\",\"type\":\"Line\"},{\"attributes\":{\"fill_color\":{\"value\":\"#E4E02C\"},\"height\":{\"value\":0.3},\"left\":{\"value\":-0.41007905138339923},\"line_color\":{\"value\":\"#E4E02C\"},\"right\":{\"value\":-0.2766798418972332},\"y\":{\"value\":1}},\"id\":\"3277e6c8-253e-4e8b-a216-1b7663218ba7\",\"type\":\"HBar\"},{\"attributes\":{},\"id\":\"e157f9d0-6815-45c4-a3d7-f0fc4b9f0627\",\"type\":\"LinearScale\"},{\"attributes\":{\"children\":[{\"id\":\"099d2421-72e5-4074-96b1-4ecb76676c37\",\"subtype\":\"Figure\",\"type\":\"Plot\"},{\"id\":\"f28a609d-de7a-4499-9314-c1013a5b4347\",\"subtype\":\"Figure\",\"type\":\"Plot\"}]},\"id\":\"2a2110be-d370-4db0-b35b-e46ed648edbd\",\"type\":\"Row\"},{\"attributes\":{\"plot\":null,\"text\":\"\"},\"id\":\"4d3c83ac-3a52-4369-80b4-282a99059b70\",\"type\":\"Title\"},{\"attributes\":{\"bottom_units\":\"screen\",\"fill_alpha\":{\"value\":0.5},\"fill_color\":{\"value\":\"lightgrey\"},\"left_units\":\"screen\",\"level\":\"overlay\",\"line_alpha\":{\"value\":1.0},\"line_color\":{\"value\":\"black\"},\"line_dash\":[4,4],\"line_width\":{\"value\":2},\"plot\":null,\"render_mode\":\"css\",\"right_units\":\"screen\",\"top_units\":\"screen\"},\"id\":\"722f857d-1137-4353-af4b-cd0d0b74162a\",\"type\":\"BoxAnnotation\"},{\"attributes\":{\"fill_color\":{\"value\":\"#459E0F\"},\"height\":{\"value\":0.3},\"line_color\":{\"value\":\"#459E0F\"},\"right\":{\"value\":0.2549407114624506},\"y\":{\"value\":1}},\"id\":\"480995f6-4c0b-4c08-b999-f51b93330c14\",\"type\":\"HBar\"},{\"attributes\":{\"active_drag\":\"auto\",\"active_inspect\":\"auto\",\"active_scroll\":\"auto\",\"active_tap\":\"auto\",\"tools\":[{\"id\":\"f8464034-33ef-41a2-923b-9416e3fc2abc\",\"type\":\"PanTool\"},{\"id\":\"0265aaf2-6db0-4700-a66d-76e265250308\",\"type\":\"WheelZoomTool\"},{\"id\":\"ba056646-704f-484c-b97d-a64be1e752b1\",\"type\":\"BoxZoomTool\"},{\"id\":\"30037292-83a0-482b-b39d-72da574dd3c3\",\"type\":\"SaveTool\"},{\"id\":\"5840d73e-ed86-4fae-8d09-5aab911c2aac\",\"type\":\"ResetTool\"},{\"id\":\"e0de662a-83f4-45fd-aea3-449d3ac211ea\",\"type\":\"HelpTool\"}]},\"id\":\"b38e6854-9082-4396-b9f1-768ae8aeb8a6\",\"type\":\"Toolbar\"},{\"attributes\":{\"dimension\":1,\"grid_line_color\":{\"value\":null},\"plot\":{\"id\":\"fc610a69-cca0-4d1b-9b4b-45b62b36bf5e\",\"subtype\":\"Figure\",\"type\":\"Plot\"},\"ticker\":{\"id\":\"d636c195-9edf-471c-b49c-c6d2a83fcc18\",\"type\":\"BasicTicker\"}},\"id\":\"32717acb-82f3-4f06-860f-3213717c9be4\",\"type\":\"Grid\"},{\"attributes\":{\"callback\":null},\"id\":\"f86a8a8f-b554-402b-831a-f25067639fa3\",\"type\":\"DataRange1d\"},{\"attributes\":{\"callback\":null,\"data\":{}},\"id\":\"95a67b08-0862-4ade-8fcf-4eca0017965a\",\"type\":\"ColumnDataSource\"},{\"attributes\":{},\"id\":\"658c009a-8a64-4862-b62a-5e351aa53406\",\"type\":\"BasicTickFormatter\"},{\"attributes\":{\"data_source\":{\"id\":\"c45f084f-e853-4852-b16e-85081abfe5f2\",\"type\":\"ColumnDataSource\"},\"glyph\":{\"id\":\"f46d4e8e-e573-45c5-b920-c8c3f682ccd6\",\"type\":\"HBar\"},\"hover_glyph\":null,\"muted_glyph\":null,\"nonselection_glyph\":{\"id\":\"c44b8ca1-4288-4e12-b141-32096dcd3165\",\"type\":\"HBar\"},\"selection_glyph\":null},\"id\":\"3050ea62-32c1-43ac-acf9-29fcd1484ef7\",\"type\":\"GlyphRenderer\"},{\"attributes\":{\"line_alpha\":{\"value\":0.1},\"line_color\":{\"value\":\"#1f77b4\"},\"line_dash\":[6],\"line_width\":{\"value\":2},\"x\":{\"field\":\"x\"},\"y\":{\"field\":\"y\"}},\"id\":\"5e4901ee-4354-4d40-a1a0-b0e4d1b8c968\",\"type\":\"Line\"},{\"attributes\":{\"callback\":null,\"end\":2},\"id\":\"2ff7e687-059c-44ec-875e-ab6f48ed2d22\",\"type\":\"Range1d\"},{\"attributes\":{\"data_source\":{\"id\":\"05047bde-2824-4fd3-b830-52d007d97da4\",\"type\":\"ColumnDataSource\"},\"glyph\":{\"id\":\"16b40ee9-f57e-4c95-932d-458ee058e8b5\",\"type\":\"Line\"},\"hover_glyph\":null,\"muted_glyph\":null,\"nonselection_glyph\":{\"id\":\"5e4901ee-4354-4d40-a1a0-b0e4d1b8c968\",\"type\":\"Line\"},\"selection_glyph\":null},\"id\":\"835cdc6c-696f-42dd-9148-58e612adba0d\",\"type\":\"GlyphRenderer\"},{\"attributes\":{\"data_source\":{\"id\":\"69f7c310-7a8f-4c12-b38b-4c37181b0261\",\"type\":\"ColumnDataSource\"},\"glyph\":{\"id\":\"9e090f96-aa51-41ae-beaa-074555e61f4b\",\"type\":\"Line\"},\"hover_glyph\":null,\"muted_glyph\":null,\"nonselection_glyph\":{\"id\":\"7e52ede0-4ab2-4560-947d-5b719058e2f1\",\"type\":\"Line\"},\"selection_glyph\":null},\"id\":\"01a12400-08c7-487b-9a1b-9f4c865f440d\",\"type\":\"GlyphRenderer\"},{\"attributes\":{},\"id\":\"94b035bd-0979-4110-b9da-cda42253ad14\",\"type\":\"LinearScale\"},{\"attributes\":{\"data_source\":{\"id\":\"af438ea8-38bf-4993-ba75-6b9630909ab7\",\"type\":\"ColumnDataSource\"},\"glyph\":{\"id\":\"0055af1e-13c0-41e4-98e2-65a56d96bf17\",\"type\":\"Line\"},\"hover_glyph\":null,\"muted_glyph\":null,\"nonselection_glyph\":{\"id\":\"2422a981-e167-4524-a5db-8647f6a600e1\",\"type\":\"Line\"},\"selection_glyph\":null},\"id\":\"9c136cb4-9020-4215-9e99-3a36c04637e2\",\"type\":\"GlyphRenderer\"},{\"attributes\":{\"fill_color\":{\"value\":\"#459E0F\"},\"height\":{\"value\":0.3},\"left\":{\"value\":-0.32741617357001973},\"line_color\":{\"value\":\"#459E0F\"},\"right\":{\"value\":0},\"y\":{\"value\":1}},\"id\":\"cdc45557-0d2c-4709-b6c2-1c5b3889a499\",\"type\":\"HBar\"},{\"attributes\":{\"callback\":null,\"plot\":{\"id\":\"fb79a330-d65f-48d9-bfd8-e8ab4776bab7\",\"subtype\":\"Figure\",\"type\":\"Plot\"},\"tooltips\":[[\"pct\",\"@pct{(0.00%)}\"]]},\"id\":\"44e229a5-f676-424e-81f6-1576afdc5927\",\"type\":\"HoverTool\"},{\"attributes\":{},\"id\":\"feb78b49-28e6-434a-b440-57747c3bbdd1\",\"type\":\"ToolEvents\"},{\"attributes\":{},\"id\":\"4a10d4b1-42c4-473b-9aeb-f5f67b0bfe88\",\"type\":\"BasicTicker\"},{\"attributes\":{\"children\":[{\"id\":\"fc610a69-cca0-4d1b-9b4b-45b62b36bf5e\",\"subtype\":\"Figure\",\"type\":\"Plot\"},{\"id\":\"fb79a330-d65f-48d9-bfd8-e8ab4776bab7\",\"subtype\":\"Figure\",\"type\":\"Plot\"}]},\"id\":\"27f218bc-53fb-4bd0-bea0-805f7516a7fd\",\"type\":\"Row\"},{\"attributes\":{\"fill_alpha\":{\"value\":0.1},\"fill_color\":{\"value\":\"#1f77b4\"},\"height\":{\"value\":0.3},\"left\":{\"value\":0.2549407114624506},\"line_alpha\":{\"value\":0.1},\"line_color\":{\"value\":\"#1f77b4\"},\"right\":{\"value\":0.4288537549407115},\"y\":{\"value\":1}},\"id\":\"9e5c0c14-4fa2-4461-9499-2154f3ec68c2\",\"type\":\"HBar\"},{\"attributes\":{\"active_drag\":\"auto\",\"active_inspect\":\"auto\",\"active_scroll\":\"auto\",\"active_tap\":\"auto\",\"tools\":[{\"id\":\"2432b7a0-b029-47c5-bf56-ab4b3722a4c5\",\"type\":\"HoverTool\"}]},\"id\":\"cb91c94e-cb02-4b4e-831a-43283368450a\",\"type\":\"Toolbar\"},{\"attributes\":{},\"id\":\"bf95383d-c95d-4111-815b-4f6a8613e78c\",\"type\":\"LinearScale\"},{\"attributes\":{\"callback\":null,\"column_names\":[\"x\",\"y\"],\"data\":{\"x\":[0,0],\"y\":[0.5,1.5]}},\"id\":\"b2c0d1af-1e10-4a80-b762-cae911f4b07e\",\"type\":\"ColumnDataSource\"},{\"attributes\":{\"fill_alpha\":{\"value\":0.1},\"fill_color\":{\"value\":\"#1f77b4\"},\"height\":{\"value\":0.3},\"left\":{\"value\":-0.3895463510848126},\"line_alpha\":{\"value\":0.1},\"line_color\":{\"value\":\"#1f77b4\"},\"right\":{\"value\":-0.32741617357001973},\"y\":{\"value\":1}},\"id\":\"6f47dcc5-576a-4a2b-b3b6-92f041e17b2a\",\"type\":\"HBar\"},{\"attributes\":{\"data_source\":{\"id\":\"38a537ce-6966-400c-975f-36bfa41b3c0d\",\"type\":\"ColumnDataSource\"},\"glyph\":{\"id\":\"07ca1ea6-2fd2-4c06-8881-e9a682bae7c8\",\"type\":\"Line\"},\"hover_glyph\":null,\"muted_glyph\":null,\"nonselection_glyph\":{\"id\":\"a0bd51bc-5e61-49d8-8545-9cd045f9b183\",\"type\":\"Line\"},\"selection_glyph\":null},\"id\":\"27496d81-1f77-4436-af60-47601f795d0e\",\"type\":\"GlyphRenderer\"},{\"attributes\":{},\"id\":\"4cda67e3-d80e-4e48-9e75-a65b4fa673d3\",\"type\":\"BasicTickFormatter\"},{\"attributes\":{\"line_alpha\":{\"value\":0.1},\"line_color\":{\"value\":\"#1f77b4\"},\"line_dash\":[6],\"line_width\":{\"value\":2},\"x\":{\"field\":\"x\"},\"y\":{\"field\":\"y\"}},\"id\":\"2329a561-5641-49ea-bfe8-45635370481f\",\"type\":\"Line\"},{\"attributes\":{\"data_source\":{\"id\":\"f71e21f8-d16e-4f71-b75c-e0820488634e\",\"type\":\"ColumnDataSource\"},\"glyph\":{\"id\":\"c4c1306c-da68-454d-aab5-03767203bebb\",\"type\":\"HBar\"},\"hover_glyph\":null,\"muted_glyph\":null,\"nonselection_glyph\":{\"id\":\"bbae0e00-62c2-49ed-b774-de87da5a9ef6\",\"type\":\"HBar\"},\"selection_glyph\":null},\"id\":\"5e2b5148-b9e4-4dab-96ed-78733d7df68f\",\"type\":\"GlyphRenderer\"},{\"attributes\":{\"plot\":{\"id\":\"fc610a69-cca0-4d1b-9b4b-45b62b36bf5e\",\"subtype\":\"Figure\",\"type\":\"Plot\"}},\"id\":\"d8bc2b58-7aac-46b3-8c3e-11ed613104cf\",\"type\":\"ResetTool\"},{\"attributes\":{\"fill_alpha\":{\"value\":0.1},\"fill_color\":{\"value\":\"#1f77b4\"},\"height\":{\"value\":0.3},\"left\":{\"value\":-0.41007905138339923},\"line_alpha\":{\"value\":0.1},\"line_color\":{\"value\":\"#1f77b4\"},\"right\":{\"value\":-0.2766798418972332},\"y\":{\"value\":1}},\"id\":\"fba35f03-934f-413f-ae6d-adc5b8118429\",\"type\":\"HBar\"},{\"attributes\":{\"fill_color\":{\"value\":\"#E43216\"},\"height\":{\"value\":0.3},\"left\":{\"value\":-0.43280632411067194},\"line_color\":{\"value\":\"#E43216\"},\"right\":{\"value\":-0.41007905138339923},\"y\":{\"value\":1}},\"id\":\"40a90b0c-b029-43ae-a60e-13baa90d8ec7\",\"type\":\"HBar\"},{\"attributes\":{\"data_source\":{\"id\":\"87a95ea3-132a-4f86-8d50-d0ccad3604b9\",\"type\":\"ColumnDataSource\"},\"glyph\":{\"id\":\"cdc45557-0d2c-4709-b6c2-1c5b3889a499\",\"type\":\"HBar\"},\"hover_glyph\":null,\"muted_glyph\":null,\"nonselection_glyph\":{\"id\":\"f8ce89d1-7bac-42df-9fb7-fc2c0ac4b2e6\",\"type\":\"HBar\"},\"selection_glyph\":null},\"id\":\"4a775628-16b4-49c8-8227-248305914ca4\",\"type\":\"GlyphRenderer\"},{\"attributes\":{\"data_source\":{\"id\":\"b2c0d1af-1e10-4a80-b762-cae911f4b07e\",\"type\":\"ColumnDataSource\"},\"glyph\":{\"id\":\"a6734b78-1300-431b-bb75-bf5753accb9f\",\"type\":\"Line\"},\"hover_glyph\":null,\"muted_glyph\":null,\"nonselection_glyph\":{\"id\":\"2329a561-5641-49ea-bfe8-45635370481f\",\"type\":\"Line\"},\"selection_glyph\":null},\"id\":\"d8ae4f4a-bc74-495a-9f17-3939afda7654\",\"type\":\"GlyphRenderer\"},{\"attributes\":{\"callback\":null,\"column_names\":[\"x\",\"y\"],\"data\":{\"x\":[0,0],\"y\":[0.5,1.5]}},\"id\":\"b562c961-3d0e-4ddf-9deb-6d67cdf2186b\",\"type\":\"ColumnDataSource\"},{\"attributes\":{\"callback\":null,\"column_names\":[\"x\",\"y\"],\"data\":{\"x\":[0.4288537549407115,0.4288537549407115],\"y\":[0.5,1.5]}},\"id\":\"cbbf18ad-8aa4-46bd-b0a6-4d410711ae1e\",\"type\":\"ColumnDataSource\"},{\"attributes\":{\"callback\":null},\"id\":\"6f524aaf-8f97-4db1-a53a-7ac38ddede08\",\"type\":\"DataRange1d\"},{\"attributes\":{\"data_source\":{\"id\":\"a6709366-5175-45c4-8fa9-6005b49f181a\",\"type\":\"ColumnDataSource\"},\"glyph\":{\"id\":\"5e948b8d-2be3-40a8-806d-a16486391bfa\",\"type\":\"Line\"},\"hover_glyph\":null,\"muted_glyph\":null,\"nonselection_glyph\":{\"id\":\"ca6a20e8-ec69-4479-b552-1e861bcd4cad\",\"type\":\"Line\"},\"selection_glyph\":null},\"id\":\"dd6b9e57-9a10-4e62-bbc3-66c2f9804ca0\",\"type\":\"GlyphRenderer\"},{\"attributes\":{\"plot\":{\"id\":\"099d2421-72e5-4074-96b1-4ecb76676c37\",\"subtype\":\"Figure\",\"type\":\"Plot\"}},\"id\":\"f8464034-33ef-41a2-923b-9416e3fc2abc\",\"type\":\"PanTool\"},{\"attributes\":{\"callback\":null,\"data\":{}},\"id\":\"17b0eed8-cfbb-4ef9-9bce-8ab175ea126c\",\"type\":\"ColumnDataSource\"},{\"attributes\":{\"formatter\":{\"id\":\"71261cb7-2224-487a-9857-996123330748\",\"type\":\"BasicTickFormatter\"},\"plot\":{\"id\":\"fb79a330-d65f-48d9-bfd8-e8ab4776bab7\",\"subtype\":\"Figure\",\"type\":\"Plot\"},\"ticker\":{\"id\":\"027c2814-03f1-4138-87ea-23fe378fa9dc\",\"type\":\"BasicTicker\"}},\"id\":\"8e9d334a-2443-4868-9df3-fbc3958bf0a1\",\"type\":\"LinearAxis\"},{\"attributes\":{\"fill_color\":{\"value\":\"#E43216\"},\"height\":{\"value\":0.3},\"left\":{\"value\":0.4288537549407115},\"line_color\":{\"value\":\"#E43216\"},\"right\":{\"value\":0.5671936758893281},\"y\":{\"value\":1}},\"id\":\"86cf3dcb-5d58-440f-ba53-a994077e303a\",\"type\":\"HBar\"},{\"attributes\":{\"line_alpha\":{\"value\":0.1},\"line_color\":{\"value\":\"#1f77b4\"},\"line_dash\":[6],\"line_width\":{\"value\":2},\"x\":{\"field\":\"x\"},\"y\":{\"field\":\"y\"}},\"id\":\"5c938151-3152-46b1-bd36-23eafd686547\",\"type\":\"Line\"},{\"attributes\":{\"line_color\":{\"value\":\"#AAB2A5\"},\"line_dash\":[6],\"line_width\":{\"value\":2},\"x\":{\"field\":\"x\"},\"y\":{\"field\":\"y\"}},\"id\":\"775f608e-fd27-40a1-b2bc-fac144e22a94\",\"type\":\"Line\"},{\"attributes\":{},\"id\":\"9aeb0f41-f213-4510-a97f-c6e96810ab7c\",\"type\":\"ToolEvents\"},{\"attributes\":{\"plot\":{\"id\":\"fc610a69-cca0-4d1b-9b4b-45b62b36bf5e\",\"subtype\":\"Figure\",\"type\":\"Plot\"}},\"id\":\"3cbf5abd-c95e-43c9-b79d-dc749b1844c4\",\"type\":\"HelpTool\"},{\"attributes\":{\"line_alpha\":{\"value\":0.1},\"line_color\":{\"value\":\"#1f77b4\"},\"line_dash\":[6],\"line_width\":{\"value\":2},\"x\":{\"field\":\"x\"},\"y\":{\"field\":\"y\"}},\"id\":\"2422a981-e167-4524-a5db-8647f6a600e1\",\"type\":\"Line\"},{\"attributes\":{\"plot\":{\"id\":\"f28a609d-de7a-4499-9314-c1013a5b4347\",\"subtype\":\"Figure\",\"type\":\"Plot\"},\"ticker\":{\"id\":\"4a10d4b1-42c4-473b-9aeb-f5f67b0bfe88\",\"type\":\"BasicTicker\"}},\"id\":\"4c92865e-c7d2-4368-87db-a650727377ec\",\"type\":\"Grid\"},{\"attributes\":{\"callback\":null,\"column_names\":[\"pct\",\"colors\",\"index\",\"thresholds\"],\"data\":{\"colors\":[\"#459E0F\",\"#E4E02C\",\"#E43216\"],\"index\":[0,1,2],\"pct\":{\"__ndarray__\":\"ViJ0LqwR5z/+ZcJNUofMP6dCtOHzx6w/\",\"dtype\":\"float64\",\"shape\":[3]},\"thresholds\":[\"green\",\"yellow\",\"red\"]}},\"id\":\"42fd6477-e29e-4b68-8416-8ea636ffd2b1\",\"type\":\"ColumnDataSource\"},{\"attributes\":{\"formatter\":{\"id\":\"7b611a8e-b4d8-44d3-8366-9a8af01b3a9d\",\"type\":\"BasicTickFormatter\"},\"plot\":{\"id\":\"fb79a330-d65f-48d9-bfd8-e8ab4776bab7\",\"subtype\":\"Figure\",\"type\":\"Plot\"},\"ticker\":{\"id\":\"f9539b61-066a-443d-831c-7d475ae312ea\",\"type\":\"BasicTicker\"}},\"id\":\"dcb0f0c4-075f-4592-aae7-98ce29ddde9f\",\"type\":\"LinearAxis\"},{\"attributes\":{\"above\":[{\"id\":\"aef3f7d1-1adf-418f-bb45-74be19f63879\",\"type\":\"Title\"}],\"below\":[{\"id\":\"2377272e-5bc8-4749-9a59-fe3913457945\",\"type\":\"LinearAxis\"}],\"left\":[{\"id\":\"e4ef301f-7852-497c-9f87-189d1c78d80b\",\"type\":\"LinearAxis\"}],\"plot_height\":300,\"plot_width\":400,\"renderers\":[{\"id\":\"2377272e-5bc8-4749-9a59-fe3913457945\",\"type\":\"LinearAxis\"},{\"id\":\"4c92865e-c7d2-4368-87db-a650727377ec\",\"type\":\"Grid\"},{\"id\":\"e4ef301f-7852-497c-9f87-189d1c78d80b\",\"type\":\"LinearAxis\"},{\"id\":\"e4a4348a-7ee2-41eb-be30-db7477a76406\",\"type\":\"Grid\"},{\"id\":\"aef3f7d1-1adf-418f-bb45-74be19f63879\",\"type\":\"Title\"},{\"id\":\"311cdea9-ec00-433e-8f7e-602dfa860939\",\"type\":\"GlyphRenderer\"}],\"title\":{\"id\":\"b03746fc-3c0d-4320-86f1-83a353fec0aa\",\"type\":\"Title\"},\"tool_events\":{\"id\":\"feb78b49-28e6-434a-b440-57747c3bbdd1\",\"type\":\"ToolEvents\"},\"toolbar\":{\"id\":\"cb91c94e-cb02-4b4e-831a-43283368450a\",\"type\":\"Toolbar\"},\"x_range\":{\"id\":\"5e3f3bbc-845c-479a-9b1d-f5dc67bcc3f9\",\"type\":\"DataRange1d\"},\"x_scale\":{\"id\":\"8847b487-f26c-4e40-bbf3-75c66c4d7658\",\"type\":\"LinearScale\"},\"y_range\":{\"id\":\"c529dccc-db6e-4aa9-8d64-e03ca2371be0\",\"type\":\"DataRange1d\"},\"y_scale\":{\"id\":\"1fa447d6-f2ba-4ef4-9ee3-66e56dea1f02\",\"type\":\"LinearScale\"}},\"id\":\"f28a609d-de7a-4499-9314-c1013a5b4347\",\"subtype\":\"Figure\",\"type\":\"Plot\"},{\"attributes\":{\"fill_alpha\":{\"value\":0.1},\"fill_color\":{\"value\":\"#1f77b4\"},\"height\":{\"value\":0.3},\"left\":{\"value\":-0.32741617357001973},\"line_alpha\":{\"value\":0.1},\"line_color\":{\"value\":\"#1f77b4\"},\"right\":{\"value\":0},\"y\":{\"value\":1}},\"id\":\"f8ce89d1-7bac-42df-9fb7-fc2c0ac4b2e6\",\"type\":\"HBar\"},{\"attributes\":{\"fill_color\":{\"value\":\"#E43216\"},\"height\":{\"value\":0.3},\"left\":{\"value\":0.554240631163708},\"line_color\":{\"value\":\"#E43216\"},\"right\":{\"value\":0.6084812623274161},\"y\":{\"value\":1}},\"id\":\"0fe5730d-7af8-4657-8f7f-c35154696e10\",\"type\":\"HBar\"},{\"attributes\":{\"line_alpha\":{\"value\":0.1},\"line_color\":{\"value\":\"#1f77b4\"},\"line_dash\":[6],\"line_width\":{\"value\":2},\"x\":{\"field\":\"x\"},\"y\":{\"field\":\"y\"}},\"id\":\"7e52ede0-4ab2-4560-947d-5b719058e2f1\",\"type\":\"Line\"},{\"attributes\":{\"callback\":null,\"column_names\":[\"x\",\"y\"],\"data\":{\"x\":[-0.41007905138339923,-0.41007905138339923],\"y\":[0.5,1.5]}},\"id\":\"05047bde-2824-4fd3-b830-52d007d97da4\",\"type\":\"ColumnDataSource\"},{\"attributes\":{\"plot\":{\"id\":\"fb79a330-d65f-48d9-bfd8-e8ab4776bab7\",\"subtype\":\"Figure\",\"type\":\"Plot\"},\"ticker\":{\"id\":\"f9539b61-066a-443d-831c-7d475ae312ea\",\"type\":\"BasicTicker\"}},\"id\":\"9205bd96-740d-4d7f-9e4d-e018c5835303\",\"type\":\"Grid\"},{\"attributes\":{\"line_alpha\":{\"value\":0.1},\"line_color\":{\"value\":\"#1f77b4\"},\"line_dash\":[6],\"line_width\":{\"value\":2},\"x\":{\"field\":\"x\"},\"y\":{\"field\":\"y\"}},\"id\":\"208efe97-9700-4dc3-95ba-fc005d654a98\",\"type\":\"Line\"},{\"attributes\":{},\"id\":\"26c781a0-8d8d-4515-b28d-afdbfd4459d8\",\"type\":\"BasicTickFormatter\"},{\"attributes\":{\"above\":[{\"id\":\"9890a6b4-ae41-4259-af56-e9d44f7d5862\",\"type\":\"Title\"}],\"below\":[{\"id\":\"f11e877d-1118-4245-877b-36f19bacae06\",\"type\":\"LinearAxis\"}],\"left\":[{\"id\":\"5a70f5a0-55b8-470e-b14a-e79542524c39\",\"type\":\"LinearAxis\"}],\"plot_height\":300,\"plot_width\":400,\"renderers\":[{\"id\":\"f11e877d-1118-4245-877b-36f19bacae06\",\"type\":\"LinearAxis\"},{\"id\":\"81451205-e071-42b5-962d-ec286e11ded3\",\"type\":\"Grid\"},{\"id\":\"5a70f5a0-55b8-470e-b14a-e79542524c39\",\"type\":\"LinearAxis\"},{\"id\":\"61b349ad-4920-4c75-b5fe-d5441c5b17af\",\"type\":\"Grid\"},{\"id\":\"722f857d-1137-4353-af4b-cd0d0b74162a\",\"type\":\"BoxAnnotation\"},{\"id\":\"5e2b5148-b9e4-4dab-96ed-78733d7df68f\",\"type\":\"GlyphRenderer\"},{\"id\":\"dd6b9e57-9a10-4e62-bbc3-66c2f9804ca0\",\"type\":\"GlyphRenderer\"},{\"id\":\"6911905a-a2ab-4361-b067-049c6f59783c\",\"type\":\"GlyphRenderer\"},{\"id\":\"a824837e-7a46-467d-b2c2-c586a503cc1d\",\"type\":\"GlyphRenderer\"},{\"id\":\"c2ee94ee-afc0-4c8b-b3bb-d07ca0674c7a\",\"type\":\"GlyphRenderer\"},{\"id\":\"835cdc6c-696f-42dd-9148-58e612adba0d\",\"type\":\"GlyphRenderer\"},{\"id\":\"0de6f619-4cd9-4bf5-9b06-1e468d9b6ede\",\"type\":\"GlyphRenderer\"},{\"id\":\"d8ae4f4a-bc74-495a-9f17-3939afda7654\",\"type\":\"GlyphRenderer\"},{\"id\":\"f6550cf9-137f-4c71-b1c1-9999c960fc3b\",\"type\":\"GlyphRenderer\"},{\"id\":\"9c136cb4-9020-4215-9e99-3a36c04637e2\",\"type\":\"GlyphRenderer\"},{\"id\":\"90c013aa-467a-4b17-9cfa-9e511ae7a74c\",\"type\":\"GlyphRenderer\"},{\"id\":\"b10b8a55-4818-41b7-92eb-4bdd5b22952e\",\"type\":\"GlyphRenderer\"},{\"id\":\"9890a6b4-ae41-4259-af56-e9d44f7d5862\",\"type\":\"Title\"}],\"title\":{\"id\":\"caa55a87-8784-4a23-b06e-07acd7dfa61e\",\"type\":\"Title\"},\"tool_events\":{\"id\":\"1be5a72c-dc29-4496-831a-c0c7a62edf1b\",\"type\":\"ToolEvents\"},\"toolbar\":{\"id\":\"b38e6854-9082-4396-b9f1-768ae8aeb8a6\",\"type\":\"Toolbar\"},\"x_range\":{\"id\":\"6f524aaf-8f97-4db1-a53a-7ac38ddede08\",\"type\":\"DataRange1d\"},\"x_scale\":{\"id\":\"6ddfab34-f476-4b27-9b55-b9b3cf662ed4\",\"type\":\"LinearScale\"},\"y_range\":{\"id\":\"2ff7e687-059c-44ec-875e-ab6f48ed2d22\",\"type\":\"Range1d\"},\"y_scale\":{\"id\":\"94b035bd-0979-4110-b9da-cda42253ad14\",\"type\":\"LinearScale\"}},\"id\":\"099d2421-72e5-4074-96b1-4ecb76676c37\",\"subtype\":\"Figure\",\"type\":\"Plot\"},{\"attributes\":{\"data_source\":{\"id\":\"0aea7d1a-f1f5-4d32-973d-f6fb3630fbf1\",\"type\":\"ColumnDataSource\"},\"glyph\":{\"id\":\"2c0b052c-a00b-40bd-8164-085b80cad726\",\"type\":\"HBar\"},\"hover_glyph\":null,\"muted_glyph\":null,\"nonselection_glyph\":{\"id\":\"5eb34f18-1342-45e1-921e-4cf6533c410a\",\"type\":\"HBar\"},\"selection_glyph\":null},\"id\":\"649fd5af-889f-4991-b72b-9a9013cae078\",\"type\":\"GlyphRenderer\"},{\"attributes\":{\"active_drag\":\"auto\",\"active_inspect\":\"auto\",\"active_scroll\":\"auto\",\"active_tap\":\"auto\",\"tools\":[{\"id\":\"dc734309-10f9-4109-9ce8-ab53b6bcbb12\",\"type\":\"PanTool\"},{\"id\":\"050964a9-0b3f-440b-9a1d-95ee4e928fa0\",\"type\":\"WheelZoomTool\"},{\"id\":\"1a307325-3249-4383-9ea3-bd548d5fd528\",\"type\":\"BoxZoomTool\"},{\"id\":\"f51fb29a-903c-49f9-9e37-684fe68f77d1\",\"type\":\"SaveTool\"},{\"id\":\"d8bc2b58-7aac-46b3-8c3e-11ed613104cf\",\"type\":\"ResetTool\"},{\"id\":\"3cbf5abd-c95e-43c9-b79d-dc749b1844c4\",\"type\":\"HelpTool\"}]},\"id\":\"c579b3a7-2447-447d-b4ab-b9674689ae65\",\"type\":\"Toolbar\"},{\"attributes\":{},\"id\":\"5e1a0a01-e912-4d09-afa5-59b0326a207e\",\"type\":\"BasicTicker\"},{\"attributes\":{\"callback\":null,\"data\":{}},\"id\":\"a8980b4a-0192-4a29-8710-2bfeb4492948\",\"type\":\"ColumnDataSource\"},{\"attributes\":{\"data_source\":{\"id\":\"07b95312-cf70-4b33-824b-0b9cb34cb830\",\"type\":\"ColumnDataSource\"},\"glyph\":{\"id\":\"86cf3dcb-5d58-440f-ba53-a994077e303a\",\"type\":\"HBar\"},\"hover_glyph\":null,\"muted_glyph\":null,\"nonselection_glyph\":{\"id\":\"e79a50c3-959e-49e8-aae1-0414aae5aed5\",\"type\":\"HBar\"},\"selection_glyph\":null},\"id\":\"90c013aa-467a-4b17-9cfa-9e511ae7a74c\",\"type\":\"GlyphRenderer\"},{\"attributes\":{\"line_alpha\":{\"value\":0.1},\"line_color\":{\"value\":\"#1f77b4\"},\"line_dash\":[6],\"line_width\":{\"value\":2},\"x\":{\"field\":\"x\"},\"y\":{\"field\":\"y\"}},\"id\":\"510e3fcb-bcc8-451d-b1c2-3eb038ef18bb\",\"type\":\"Line\"},{\"attributes\":{\"plot\":null,\"text\":\"\"},\"id\":\"0051c869-ff88-4c68-af16-e9b013adf7c6\",\"type\":\"Title\"},{\"attributes\":{\"formatter\":{\"id\":\"795ff9cc-22fe-4e05-b617-93a3ecd169e8\",\"type\":\"BasicTickFormatter\"},\"plot\":{\"id\":\"f28a609d-de7a-4499-9314-c1013a5b4347\",\"subtype\":\"Figure\",\"type\":\"Plot\"},\"ticker\":{\"id\":\"5e1a0a01-e912-4d09-afa5-59b0326a207e\",\"type\":\"BasicTicker\"}},\"id\":\"e4ef301f-7852-497c-9f87-189d1c78d80b\",\"type\":\"LinearAxis\"},{\"attributes\":{\"grid_line_color\":{\"value\":null},\"plot\":{\"id\":\"099d2421-72e5-4074-96b1-4ecb76676c37\",\"subtype\":\"Figure\",\"type\":\"Plot\"},\"ticker\":{\"id\":\"da8d9f3d-ee3f-44da-8f20-af138f9b6aa4\",\"type\":\"BasicTicker\"}},\"id\":\"81451205-e071-42b5-962d-ec286e11ded3\",\"type\":\"Grid\"},{\"attributes\":{\"overlay\":{\"id\":\"722f857d-1137-4353-af4b-cd0d0b74162a\",\"type\":\"BoxAnnotation\"},\"plot\":{\"id\":\"099d2421-72e5-4074-96b1-4ecb76676c37\",\"subtype\":\"Figure\",\"type\":\"Plot\"}},\"id\":\"ba056646-704f-484c-b97d-a64be1e752b1\",\"type\":\"BoxZoomTool\"},{\"attributes\":{\"grid_line_color\":{\"value\":null},\"plot\":{\"id\":\"fc610a69-cca0-4d1b-9b4b-45b62b36bf5e\",\"subtype\":\"Figure\",\"type\":\"Plot\"},\"ticker\":{\"id\":\"1cffa15b-db71-4b96-91ff-ef2865c6d883\",\"type\":\"BasicTicker\"}},\"id\":\"5b351108-82b7-4223-9418-21f2460eef6f\",\"type\":\"Grid\"},{\"attributes\":{},\"id\":\"71261cb7-2224-487a-9857-996123330748\",\"type\":\"BasicTickFormatter\"},{\"attributes\":{\"callback\":null,\"column_names\":[\"x\",\"y\"],\"data\":{\"x\":[-0.3895463510848126,-0.3895463510848126],\"y\":[0.5,1.5]}},\"id\":\"98fb0774-f149-4e29-af35-aef73fe14256\",\"type\":\"ColumnDataSource\"},{\"attributes\":{},\"id\":\"1fa447d6-f2ba-4ef4-9ee3-66e56dea1f02\",\"type\":\"LinearScale\"},{\"attributes\":{},\"id\":\"d636c195-9edf-471c-b49c-c6d2a83fcc18\",\"type\":\"BasicTicker\"},{\"attributes\":{\"callback\":null},\"id\":\"3284f9d0-d035-416b-a644-4b474ffa4807\",\"type\":\"DataRange1d\"},{\"attributes\":{\"fill_alpha\":{\"value\":0.1},\"fill_color\":{\"value\":\"#1f77b4\"},\"height\":{\"value\":0.3},\"left\":{\"value\":-0.3915187376725838},\"line_alpha\":{\"value\":0.1},\"line_color\":{\"value\":\"#1f77b4\"},\"right\":{\"value\":-0.3895463510848126},\"y\":{\"value\":1}},\"id\":\"5eb34f18-1342-45e1-921e-4cf6533c410a\",\"type\":\"HBar\"},{\"attributes\":{\"align\":\"center\",\"plot\":{\"id\":\"f28a609d-de7a-4499-9314-c1013a5b4347\",\"subtype\":\"Figure\",\"type\":\"Plot\"},\"text\":\"Total percentage within thresholds drop off\"},\"id\":\"aef3f7d1-1adf-418f-bb45-74be19f63879\",\"type\":\"Title\"},{\"attributes\":{\"data_source\":{\"id\":\"92337340-f509-42c7-9090-744540d614ad\",\"type\":\"ColumnDataSource\"},\"glyph\":{\"id\":\"40a90b0c-b029-43ae-a60e-13baa90d8ec7\",\"type\":\"HBar\"},\"hover_glyph\":null,\"muted_glyph\":null,\"nonselection_glyph\":{\"id\":\"4d299910-006f-40c8-a456-bed90d005bbd\",\"type\":\"HBar\"},\"selection_glyph\":null},\"id\":\"c2ee94ee-afc0-4c8b-b3bb-d07ca0674c7a\",\"type\":\"GlyphRenderer\"},{\"attributes\":{\"callback\":null,\"column_names\":[\"pct\",\"colors\",\"index\",\"thresholds\"],\"data\":{\"colors\":[\"#459E0F\",\"#E4E02C\",\"#E43216\"],\"index\":[0,1,2],\"pct\":{\"__ndarray__\":\"4vVRGwkD4T9SGwkDAavTP9bxpYzZncQ/\",\"dtype\":\"float64\",\"shape\":[3]},\"thresholds\":[\"green\",\"yellow\",\"red\"]}},\"id\":\"14dfb02f-d233-4cba-8c51-a5bbc453830a\",\"type\":\"ColumnDataSource\"},{\"attributes\":{\"line_color\":{\"value\":\"#AAB2A5\"},\"line_dash\":[6],\"line_width\":{\"value\":2},\"x\":{\"field\":\"x\"},\"y\":{\"field\":\"y\"}},\"id\":\"e043d497-2358-4b02-9141-cd918b2f95da\",\"type\":\"Line\"},{\"attributes\":{\"line_alpha\":{\"value\":0.1},\"line_color\":{\"value\":\"#1f77b4\"},\"line_dash\":[6],\"line_width\":{\"value\":2},\"x\":{\"field\":\"x\"},\"y\":{\"field\":\"y\"}},\"id\":\"9e43e324-c71a-4367-b053-4c31ce80ebe3\",\"type\":\"Line\"},{\"attributes\":{\"fill_alpha\":{\"value\":0.1},\"fill_color\":{\"value\":\"#1f77b4\"},\"height\":{\"value\":0.3},\"left\":{\"value\":0.554240631163708},\"line_alpha\":{\"value\":0.1},\"line_color\":{\"value\":\"#1f77b4\"},\"right\":{\"value\":0.6084812623274161},\"y\":{\"value\":1}},\"id\":\"5152d06b-adf1-41de-bc03-442d608f4c77\",\"type\":\"HBar\"},{\"attributes\":{\"callback\":null,\"data\":{}},\"id\":\"92337340-f509-42c7-9090-744540d614ad\",\"type\":\"ColumnDataSource\"},{\"attributes\":{\"children\":[{\"id\":\"cb171755-e71b-4e2e-9b44-73db49854d7f\",\"type\":\"Div\"}]},\"id\":\"9a7a5f1a-fda9-4f88-836d-676f9c5fa359\",\"type\":\"WidgetBox\"},{\"attributes\":{\"fill_color\":{\"value\":\"#E4E02C\"},\"height\":{\"value\":0.3},\"left\":{\"value\":0.39349112426035504},\"line_color\":{\"value\":\"#E4E02C\"},\"right\":{\"value\":0.554240631163708},\"y\":{\"value\":1}},\"id\":\"6a0f53b6-8f27-4a46-a17e-17f3ef331a73\",\"type\":\"HBar\"},{\"attributes\":{},\"id\":\"e3d98493-7e2f-4972-85d7-a4324507ccd8\",\"type\":\"ToolEvents\"},{\"attributes\":{\"fill_color\":{\"value\":\"#E4E02C\"},\"height\":{\"value\":0.3},\"left\":{\"value\":-0.3895463510848126},\"line_color\":{\"value\":\"#E4E02C\"},\"right\":{\"value\":-0.32741617357001973},\"y\":{\"value\":1}},\"id\":\"8bd67f35-ce17-4610-bacd-e37c6a404bd4\",\"type\":\"HBar\"},{\"attributes\":{\"callback\":null,\"column_names\":[\"x\",\"y\"],\"data\":{\"x\":[0.554240631163708,0.554240631163708],\"y\":[0.5,1.5]}},\"id\":\"0147e476-3167-49a4-952b-9f49f5c40659\",\"type\":\"ColumnDataSource\"},{\"attributes\":{\"formatter\":{\"id\":\"26c781a0-8d8d-4515-b28d-afdbfd4459d8\",\"type\":\"BasicTickFormatter\"},\"plot\":{\"id\":\"099d2421-72e5-4074-96b1-4ecb76676c37\",\"subtype\":\"Figure\",\"type\":\"Plot\"},\"ticker\":{\"id\":\"da8d9f3d-ee3f-44da-8f20-af138f9b6aa4\",\"type\":\"BasicTicker\"}},\"id\":\"f11e877d-1118-4245-877b-36f19bacae06\",\"type\":\"LinearAxis\"},{\"attributes\":{\"above\":[{\"id\":\"4506926c-876c-42f8-81f6-7794c1a11b93\",\"type\":\"Title\"}],\"below\":[{\"id\":\"dcb0f0c4-075f-4592-aae7-98ce29ddde9f\",\"type\":\"LinearAxis\"}],\"left\":[{\"id\":\"8e9d334a-2443-4868-9df3-fbc3958bf0a1\",\"type\":\"LinearAxis\"}],\"plot_height\":300,\"plot_width\":400,\"renderers\":[{\"id\":\"dcb0f0c4-075f-4592-aae7-98ce29ddde9f\",\"type\":\"LinearAxis\"},{\"id\":\"9205bd96-740d-4d7f-9e4d-e018c5835303\",\"type\":\"Grid\"},{\"id\":\"8e9d334a-2443-4868-9df3-fbc3958bf0a1\",\"type\":\"LinearAxis\"},{\"id\":\"22ea8e8a-9f05-4cc9-8913-1504b1dda71e\",\"type\":\"Grid\"},{\"id\":\"4506926c-876c-42f8-81f6-7794c1a11b93\",\"type\":\"Title\"},{\"id\":\"8a64d49b-523b-4ea3-9e0d-b1ecd54283d1\",\"type\":\"GlyphRenderer\"}],\"title\":{\"id\":\"4d3c83ac-3a52-4369-80b4-282a99059b70\",\"type\":\"Title\"},\"tool_events\":{\"id\":\"9aeb0f41-f213-4510-a97f-c6e96810ab7c\",\"type\":\"ToolEvents\"},\"toolbar\":{\"id\":\"482786be-9e03-4866-86a2-ecf80f1e01d9\",\"type\":\"Toolbar\"},\"x_range\":{\"id\":\"f86a8a8f-b554-402b-831a-f25067639fa3\",\"type\":\"DataRange1d\"},\"x_scale\":{\"id\":\"bf95383d-c95d-4111-815b-4f6a8613e78c\",\"type\":\"LinearScale\"},\"y_range\":{\"id\":\"3284f9d0-d035-416b-a644-4b474ffa4807\",\"type\":\"DataRange1d\"},\"y_scale\":{\"id\":\"e157f9d0-6815-45c4-a3d7-f0fc4b9f0627\",\"type\":\"LinearScale\"}},\"id\":\"fb79a330-d65f-48d9-bfd8-e8ab4776bab7\",\"subtype\":\"Figure\",\"type\":\"Plot\"},{\"attributes\":{\"callback\":null,\"data\":{}},\"id\":\"07b95312-cf70-4b33-824b-0b9cb34cb830\",\"type\":\"ColumnDataSource\"},{\"attributes\":{\"plot\":null,\"text\":\"\"},\"id\":\"caa55a87-8784-4a23-b06e-07acd7dfa61e\",\"type\":\"Title\"},{\"attributes\":{\"formatter\":{\"id\":\"966fbb24-ef31-4de8-8292-3e19856a1788\",\"type\":\"BasicTickFormatter\"},\"plot\":{\"id\":\"f28a609d-de7a-4499-9314-c1013a5b4347\",\"subtype\":\"Figure\",\"type\":\"Plot\"},\"ticker\":{\"id\":\"4a10d4b1-42c4-473b-9aeb-f5f67b0bfe88\",\"type\":\"BasicTicker\"}},\"id\":\"2377272e-5bc8-4749-9a59-fe3913457945\",\"type\":\"LinearAxis\"},{\"attributes\":{\"data_source\":{\"id\":\"0147e476-3167-49a4-952b-9f49f5c40659\",\"type\":\"ColumnDataSource\"},\"glyph\":{\"id\":\"699533e0-b26c-41d9-8668-8707919936cc\",\"type\":\"Line\"},\"hover_glyph\":null,\"muted_glyph\":null,\"nonselection_glyph\":{\"id\":\"510e3fcb-bcc8-451d-b1c2-3eb038ef18bb\",\"type\":\"Line\"},\"selection_glyph\":null},\"id\":\"c7473e25-f1c1-4df0-aa4a-a23021039c87\",\"type\":\"GlyphRenderer\"},{\"attributes\":{\"fill_alpha\":{\"value\":0.1},\"fill_color\":{\"value\":\"#1f77b4\"},\"height\":{\"value\":0.3},\"line_alpha\":{\"value\":0.1},\"line_color\":{\"value\":\"#1f77b4\"},\"right\":{\"value\":0.2549407114624506},\"y\":{\"value\":1}},\"id\":\"5db356d6-28a6-4e1b-989f-244fd37115ed\",\"type\":\"HBar\"},{\"attributes\":{\"formatter\":{\"id\":\"9e1adf08-06b5-4cfe-8ddc-ff797bf5e5de\",\"type\":\"BasicTickFormatter\"},\"plot\":{\"id\":\"fc610a69-cca0-4d1b-9b4b-45b62b36bf5e\",\"subtype\":\"Figure\",\"type\":\"Plot\"},\"ticker\":{\"id\":\"d636c195-9edf-471c-b49c-c6d2a83fcc18\",\"type\":\"BasicTicker\"},\"visible\":false},\"id\":\"74bb6090-0f84-4b3d-b6fa-92ca86bfdd3e\",\"type\":\"LinearAxis\"},{\"attributes\":{\"callback\":null,\"column_names\":[\"x\",\"y\"],\"data\":{\"x\":[0.39349112426035504,0.39349112426035504],\"y\":[0.5,1.5]}},\"id\":\"69f7c310-7a8f-4c12-b38b-4c37181b0261\",\"type\":\"ColumnDataSource\"},{\"attributes\":{\"fill_alpha\":{\"value\":0.1},\"fill_color\":{\"value\":\"#1f77b4\"},\"line_alpha\":{\"value\":0.1},\"line_color\":{\"value\":\"#1f77b4\"},\"top\":{\"field\":\"pct\"},\"width\":{\"value\":0.6},\"x\":{\"field\":\"index\"}},\"id\":\"6a2793e2-9dc1-4113-8f08-c4ba82b11fe4\",\"type\":\"VBar\"},{\"attributes\":{},\"id\":\"966fbb24-ef31-4de8-8292-3e19856a1788\",\"type\":\"BasicTickFormatter\"},{\"attributes\":{},\"id\":\"1be5a72c-dc29-4496-831a-c0c7a62edf1b\",\"type\":\"ToolEvents\"},{\"attributes\":{\"data_source\":{\"id\":\"cbbf18ad-8aa4-46bd-b0a6-4d410711ae1e\",\"type\":\"ColumnDataSource\"},\"glyph\":{\"id\":\"d66aa981-f4ef-4706-83ee-c3b4f9be88df\",\"type\":\"Line\"},\"hover_glyph\":null,\"muted_glyph\":null,\"nonselection_glyph\":{\"id\":\"5c938151-3152-46b1-bd36-23eafd686547\",\"type\":\"Line\"},\"selection_glyph\":null},\"id\":\"b10b8a55-4818-41b7-92eb-4bdd5b22952e\",\"type\":\"GlyphRenderer\"},{\"attributes\":{\"callback\":null,\"column_names\":[\"x\",\"y\"],\"data\":{\"x\":[-0.2766798418972332,-0.2766798418972332],\"y\":[0.5,1.5]}},\"id\":\"86ceeec2-a54e-4cff-b57c-0bd17c8c38e7\",\"type\":\"ColumnDataSource\"},{\"attributes\":{\"fill_color\":{\"value\":\"#459E0F\"},\"height\":{\"value\":0.3},\"left\":{\"value\":-0.2766798418972332},\"line_color\":{\"value\":\"#459E0F\"},\"right\":{\"value\":0},\"y\":{\"value\":1}},\"id\":\"c4c1306c-da68-454d-aab5-03767203bebb\",\"type\":\"HBar\"},{\"attributes\":{\"fill_color\":{\"field\":\"colors\"},\"line_color\":{\"field\":\"colors\"},\"top\":{\"field\":\"pct\"},\"width\":{\"value\":0.6},\"x\":{\"field\":\"index\"}},\"id\":\"6b67b693-c031-4d1c-abe5-7aa66504ac3c\",\"type\":\"VBar\"},{\"attributes\":{\"align\":\"center\",\"plot\":{\"id\":\"099d2421-72e5-4074-96b1-4ecb76676c37\",\"subtype\":\"Figure\",\"type\":\"Plot\"},\"text\":\"Rush/delays within time thresholds drop off\"},\"id\":\"9890a6b4-ae41-4259-af56-e9d44f7d5862\",\"type\":\"Title\"},{\"attributes\":{\"formatter\":{\"id\":\"658c009a-8a64-4862-b62a-5e351aa53406\",\"type\":\"BasicTickFormatter\"},\"plot\":{\"id\":\"fc610a69-cca0-4d1b-9b4b-45b62b36bf5e\",\"subtype\":\"Figure\",\"type\":\"Plot\"},\"ticker\":{\"id\":\"1cffa15b-db71-4b96-91ff-ef2865c6d883\",\"type\":\"BasicTicker\"}},\"id\":\"48ac980b-00ad-4f7f-a1b0-56c819616903\",\"type\":\"LinearAxis\"},{\"attributes\":{\"fill_alpha\":{\"value\":0.1},\"fill_color\":{\"value\":\"#1f77b4\"},\"height\":{\"value\":0.3},\"line_alpha\":{\"value\":0.1},\"line_color\":{\"value\":\"#1f77b4\"},\"right\":{\"value\":0.39349112426035504},\"y\":{\"value\":1}},\"id\":\"c44b8ca1-4288-4e12-b141-32096dcd3165\",\"type\":\"HBar\"},{\"attributes\":{\"data_source\":{\"id\":\"3eec4f47-9ce8-4479-a8ad-47dae3ebf72a\",\"type\":\"ColumnDataSource\"},\"glyph\":{\"id\":\"e043d497-2358-4b02-9141-cd918b2f95da\",\"type\":\"Line\"},\"hover_glyph\":null,\"muted_glyph\":null,\"nonselection_glyph\":{\"id\":\"1658604f-235d-4f83-b803-86c39e620772\",\"type\":\"Line\"},\"selection_glyph\":null},\"id\":\"f75ae103-7f2e-4ca4-ad23-bb7880a2d6a9\",\"type\":\"GlyphRenderer\"},{\"attributes\":{\"fill_color\":{\"field\":\"colors\"},\"line_color\":{\"field\":\"colors\"},\"top\":{\"field\":\"pct\"},\"width\":{\"value\":0.6},\"x\":{\"field\":\"index\"}},\"id\":\"ddb8cef8-9da2-4240-acb7-f16e864c9159\",\"type\":\"VBar\"},{\"attributes\":{\"callback\":null,\"data\":{}},\"id\":\"0aea7d1a-f1f5-4d32-973d-f6fb3630fbf1\",\"type\":\"ColumnDataSource\"},{\"attributes\":{\"data_source\":{\"id\":\"b9cb8ec0-38c6-4990-8440-9e419a384cb6\",\"type\":\"ColumnDataSource\"},\"glyph\":{\"id\":\"0fe5730d-7af8-4657-8f7f-c35154696e10\",\"type\":\"HBar\"},\"hover_glyph\":null,\"muted_glyph\":null,\"nonselection_glyph\":{\"id\":\"5152d06b-adf1-41de-bc03-442d608f4c77\",\"type\":\"HBar\"},\"selection_glyph\":null},\"id\":\"312a0f37-f259-4db8-acad-fdbff53e8b90\",\"type\":\"GlyphRenderer\"},{\"attributes\":{},\"id\":\"da8d9f3d-ee3f-44da-8f20-af138f9b6aa4\",\"type\":\"BasicTicker\"},{\"attributes\":{\"line_color\":{\"value\":\"#AAB2A5\"},\"line_dash\":[6],\"line_width\":{\"value\":2},\"x\":{\"field\":\"x\"},\"y\":{\"field\":\"y\"}},\"id\":\"c63b537b-617e-4266-a42a-39f7f5720b40\",\"type\":\"Line\"},{\"attributes\":{},\"id\":\"f9539b61-066a-443d-831c-7d475ae312ea\",\"type\":\"BasicTicker\"},{\"attributes\":{},\"id\":\"686b4fc0-43cb-47f7-a2ff-28f6dac32f48\",\"type\":\"LinearScale\"},{\"attributes\":{\"align\":\"center\",\"plot\":{\"id\":\"fc610a69-cca0-4d1b-9b4b-45b62b36bf5e\",\"subtype\":\"Figure\",\"type\":\"Plot\"},\"text\":\"Rush/delays within time thresholds pick up\"},\"id\":\"f44412e4-0e37-43df-9c7c-58a0c90101b9\",\"type\":\"Title\"},{\"attributes\":{\"callback\":null,\"column_names\":[\"x\",\"y\"],\"data\":{\"x\":[0,0],\"y\":[0.5,1.5]}},\"id\":\"a6709366-5175-45c4-8fa9-6005b49f181a\",\"type\":\"ColumnDataSource\"},{\"attributes\":{\"line_color\":{\"value\":\"#AAB2A5\"},\"line_dash\":[6],\"line_width\":{\"value\":2},\"x\":{\"field\":\"x\"},\"y\":{\"field\":\"y\"}},\"id\":\"0055af1e-13c0-41e4-98e2-65a56d96bf17\",\"type\":\"Line\"},{\"attributes\":{\"children\":[{\"id\":\"27f218bc-53fb-4bd0-bea0-805f7516a7fd\",\"type\":\"Row\"},{\"id\":\"2a2110be-d370-4db0-b35b-e46ed648edbd\",\"type\":\"Row\"}]},\"id\":\"b44cb0be-ac3c-415e-beec-a7313daf6f3e\",\"type\":\"Column\"},{\"attributes\":{\"above\":[{\"id\":\"f44412e4-0e37-43df-9c7c-58a0c90101b9\",\"type\":\"Title\"}],\"below\":[{\"id\":\"48ac980b-00ad-4f7f-a1b0-56c819616903\",\"type\":\"LinearAxis\"}],\"left\":[{\"id\":\"74bb6090-0f84-4b3d-b6fa-92ca86bfdd3e\",\"type\":\"LinearAxis\"}],\"plot_height\":300,\"plot_width\":400,\"renderers\":[{\"id\":\"48ac980b-00ad-4f7f-a1b0-56c819616903\",\"type\":\"LinearAxis\"},{\"id\":\"5b351108-82b7-4223-9418-21f2460eef6f\",\"type\":\"Grid\"},{\"id\":\"74bb6090-0f84-4b3d-b6fa-92ca86bfdd3e\",\"type\":\"LinearAxis\"},{\"id\":\"32717acb-82f3-4f06-860f-3213717c9be4\",\"type\":\"Grid\"},{\"id\":\"da433476-ccba-448a-b821-5facb4330de5\",\"type\":\"BoxAnnotation\"},{\"id\":\"4a775628-16b4-49c8-8227-248305914ca4\",\"type\":\"GlyphRenderer\"},{\"id\":\"27496d81-1f77-4436-af60-47601f795d0e\",\"type\":\"GlyphRenderer\"},{\"id\":\"1fc6cc85-6bea-4aec-a873-789ca1652bf1\",\"type\":\"GlyphRenderer\"},{\"id\":\"f75ae103-7f2e-4ca4-ad23-bb7880a2d6a9\",\"type\":\"GlyphRenderer\"},{\"id\":\"649fd5af-889f-4991-b72b-9a9013cae078\",\"type\":\"GlyphRenderer\"},{\"id\":\"c4a4c0d8-d589-4e4a-81c9-927d0b610ea9\",\"type\":\"GlyphRenderer\"},{\"id\":\"3050ea62-32c1-43ac-acf9-29fcd1484ef7\",\"type\":\"GlyphRenderer\"},{\"id\":\"8b92ca08-736b-46a4-bd4b-7b1fc7cb424f\",\"type\":\"GlyphRenderer\"},{\"id\":\"a28bb8c7-b797-49c4-be3e-633cf2ae1159\",\"type\":\"GlyphRenderer\"},{\"id\":\"01a12400-08c7-487b-9a1b-9f4c865f440d\",\"type\":\"GlyphRenderer\"},{\"id\":\"312a0f37-f259-4db8-acad-fdbff53e8b90\",\"type\":\"GlyphRenderer\"},{\"id\":\"c7473e25-f1c1-4df0-aa4a-a23021039c87\",\"type\":\"GlyphRenderer\"},{\"id\":\"f44412e4-0e37-43df-9c7c-58a0c90101b9\",\"type\":\"Title\"}],\"title\":{\"id\":\"0051c869-ff88-4c68-af16-e9b013adf7c6\",\"type\":\"Title\"},\"tool_events\":{\"id\":\"e3d98493-7e2f-4972-85d7-a4324507ccd8\",\"type\":\"ToolEvents\"},\"toolbar\":{\"id\":\"c579b3a7-2447-447d-b4ab-b9674689ae65\",\"type\":\"Toolbar\"},\"x_range\":{\"id\":\"6f524aaf-8f97-4db1-a53a-7ac38ddede08\",\"type\":\"DataRange1d\"},\"x_scale\":{\"id\":\"686b4fc0-43cb-47f7-a2ff-28f6dac32f48\",\"type\":\"LinearScale\"},\"y_range\":{\"id\":\"b51b262a-7fa2-4f17-b594-0653b0afd0e9\",\"type\":\"Range1d\"},\"y_scale\":{\"id\":\"645ed30e-aa60-4359-89b2-2190c2d3bcc5\",\"type\":\"LinearScale\"}},\"id\":\"fc610a69-cca0-4d1b-9b4b-45b62b36bf5e\",\"subtype\":\"Figure\",\"type\":\"Plot\"},{\"attributes\":{\"line_alpha\":{\"value\":0.1},\"line_color\":{\"value\":\"#1f77b4\"},\"line_dash\":[6],\"line_width\":{\"value\":2},\"x\":{\"field\":\"x\"},\"y\":{\"field\":\"y\"}},\"id\":\"8a6948fc-be88-40a5-958b-7048a4159787\",\"type\":\"Line\"},{\"attributes\":{\"fill_color\":{\"value\":\"#E43216\"},\"height\":{\"value\":0.3},\"left\":{\"value\":-0.3915187376725838},\"line_color\":{\"value\":\"#E43216\"},\"right\":{\"value\":-0.3895463510848126},\"y\":{\"value\":1}},\"id\":\"2c0b052c-a00b-40bd-8164-085b80cad726\",\"type\":\"HBar\"},{\"attributes\":{\"bottom_units\":\"screen\",\"fill_alpha\":{\"value\":0.5},\"fill_color\":{\"value\":\"lightgrey\"},\"left_units\":\"screen\",\"level\":\"overlay\",\"line_alpha\":{\"value\":1.0},\"line_color\":{\"value\":\"black\"},\"line_dash\":[4,4],\"line_width\":{\"value\":2},\"plot\":null,\"render_mode\":\"css\",\"right_units\":\"screen\",\"top_units\":\"screen\"},\"id\":\"da433476-ccba-448a-b821-5facb4330de5\",\"type\":\"BoxAnnotation\"},{\"attributes\":{},\"id\":\"645ed30e-aa60-4359-89b2-2190c2d3bcc5\",\"type\":\"LinearScale\"},{\"attributes\":{},\"id\":\"795ff9cc-22fe-4e05-b617-93a3ecd169e8\",\"type\":\"BasicTickFormatter\"},{\"attributes\":{},\"id\":\"7faa29a6-1ff0-4cd4-9f4d-1eb749b58d12\",\"type\":\"BasicTicker\"}],\"root_ids\":[\"087df5af-ada5-4538-96b3-6f50ffcf7afe\"]},\"title\":\"Bokeh Application\",\"version\":\"0.12.6\"}};\n",
       "            var render_items = [{\"docid\":\"c4f47130-96a2-446a-a956-6ccc481476b0\",\"elementid\":\"3a83e06d-5f87-4ede-9a90-f8161cd23bd4\",\"modelid\":\"087df5af-ada5-4538-96b3-6f50ffcf7afe\"}];\n",
       "            \n",
       "            Bokeh.embed.embed_items(docs_json, render_items);\n",
       "          };\n",
       "          if (document.readyState != \"loading\") fn();\n",
       "          else document.addEventListener(\"DOMContentLoaded\", fn);\n",
       "        })();\n",
       "      },\n",
       "      function(Bokeh) {\n",
       "      }\n",
       "    ];\n",
       "  \n",
       "    function run_inline_js() {\n",
       "      \n",
       "      if ((window.Bokeh !== undefined) || (force === true)) {\n",
       "        for (var i = 0; i < inline_js.length; i++) {\n",
       "          inline_js[i](window.Bokeh);\n",
       "        }if (force === true) {\n",
       "          display_loaded();\n",
       "        }} else if (Date.now() < window._bokeh_timeout) {\n",
       "        setTimeout(run_inline_js, 100);\n",
       "      } else if (!window._bokeh_failed_load) {\n",
       "        console.log(\"Bokeh: BokehJS failed to load within specified timeout.\");\n",
       "        window._bokeh_failed_load = true;\n",
       "      } else if (force !== true) {\n",
       "        var cell = $(document.getElementById(\"3a83e06d-5f87-4ede-9a90-f8161cd23bd4\")).parents('.cell').data().cell;\n",
       "        cell.output_area.append_execute_result(NB_LOAD_WARNING)\n",
       "      }\n",
       "  \n",
       "    }\n",
       "  \n",
       "    if (window._bokeh_is_loading === 0) {\n",
       "      console.log(\"Bokeh: BokehJS loaded, going straight to plotting\");\n",
       "      run_inline_js();\n",
       "    } else {\n",
       "      load_libs(js_urls, function() {\n",
       "        console.log(\"Bokeh: BokehJS plotting callback run at\", now());\n",
       "        run_inline_js();\n",
       "      });\n",
       "    }\n",
       "  }(this));\n",
       "</script>"
      ]
     },
     "metadata": {},
     "output_type": "display_data"
    }
   ],
   "source": [
    "#Using plotting functions\n",
    "time_threshold_first_pick_up_plot = plot_horizontal_time_thresholds(threshold_first_pick_up, 400, 300, 'pct', 'colors', \n",
    "                                                 \"Rush/delays within time thresholds pick up\")\n",
    "within_thresholds_first_pick_up_plot = plot_total_pct_thresholds(within_thresh_first_pick_up, 400, 300, \"index\", \"pct\", \"colors\", \n",
    "                                              \"Total percentage within thresholds pick up\")\n",
    "time_threshold_first_drop_off_plot = plot_horizontal_time_thresholds(threshold_first_drop_off, 400, 300, 'pct', 'colors', \n",
    "                                                 \"Rush/delays within time thresholds drop off\")\n",
    "time_threshold_first_drop_off_plot.x_range = time_threshold_first_pick_up_plot.x_range\n",
    "within_thresholds_first_drop_off_plot = plot_total_pct_thresholds(within_thresh_first_drop_off, 400, 300, \"index\", \"pct\", \"colors\", \n",
    "                                              \"Total percentage within thresholds drop off\")\n",
    "threshold_first_pick_up_plots = row(time_threshold_first_pick_up_plot, within_thresholds_first_pick_up_plot)\n",
    "threshold_first_drop_off_plots = row(time_threshold_first_drop_off_plot, within_thresholds_first_drop_off_plot)\n",
    "\n",
    "show(column(Div(text=\"<h1 style='margin-left:150px;margin-right:-500px;margin-bottom:18px;font-size:20px;\\\n",
    "                color:#7D7575'> Time thresholds for pick ups / drop offs (first expected time)</h1>\"),\n",
    "            column(threshold_first_pick_up_plots, threshold_first_drop_off_plots)))"
   ]
  },
  {
   "cell_type": "markdown",
   "metadata": {},
   "source": [
    "As already noticed in the distribution plots, first estimated times do worst for the drop offs. The regions within the pick ups are within our previous averages. However, in the drop offs we can see that barely more than 50% are within the 3 minutes of the first estimated time. Rides between 3-7 minutes make up approximately 30% of the total drop offs. "
   ]
  },
  {
   "cell_type": "markdown",
   "metadata": {},
   "source": [
    "## Differences between expected and actual time within hour/day\n",
    "\n",
    "Here we will try to determine if there are specific hour/days for which the difference between expected and actual times are more relevant. As we saw that the differences are more pronunciated for the first expected time shown to the user, we will use this data set that will show us the upper bound of differences. The analysis for the last expected time should be easy to reproduce, if requested."
   ]
  },
  {
   "cell_type": "code",
   "execution_count": 44,
   "metadata": {},
   "outputs": [],
   "source": [
    "#Traduce categories to different colors\n",
    "colors_dict = {\"0\":\"red\", \"5\":\"red\", \"1\":\"yellow\", \"4\":\"yellow\",  \"2\":\"green\", \"3\":\"green\"}\n",
    "est_act_time_first[\"cat_codes\"] = est_act_time_first[\"time_thresholds\"].cat.codes.astype(str)\n",
    "est_act_time_first[\"thresh_cat\"] = est_act_time_first[\"cat_codes\"].map(lambda x: colors_dict[x])\n",
    "est_act_time_first\n",
    "#Perform grouping for hour categories\n",
    "hour_est_act_time_first = est_act_time_first.groupby([pd.Grouper(freq='1h', key='datetime_utc_berlin'), \"thresh_cat\"]).agg(\n",
    "    {'booking_id': \"count\"}).reset_index()\n",
    "hour_est_act_time_first = hour_est_act_time_first.rename(columns={\"booking_id\":\"count\"})\n",
    "hour_est_act_time_first[\"total\"] = hour_est_act_time_first.groupby([pd.Grouper(freq='1h', key='datetime_utc_berlin')])[\"count\"].transform(lambda x: x.sum())"
   ]
  },
  {
   "cell_type": "code",
   "execution_count": 45,
   "metadata": {
    "collapsed": true
   },
   "outputs": [],
   "source": [
    "#Get percentages\n",
    "hour_est_act_time_first[\"pct\"] = hour_est_act_time_first[\"count\"] / hour_est_act_time_first[\"total\"]"
   ]
  },
  {
   "cell_type": "code",
   "execution_count": 46,
   "metadata": {
    "collapsed": true
   },
   "outputs": [],
   "source": [
    "#Pivoting for plotting purposes\n",
    "hour_est_act_time_first = hour_est_act_time_first.pivot(index='datetime_utc_berlin', columns='thresh_cat')\n",
    "hour_est_act_time_first.columns = ['_'.join(col) for col in hour_est_act_time_first.columns]"
   ]
  },
  {
   "cell_type": "code",
   "execution_count": 47,
   "metadata": {
    "collapsed": true
   },
   "outputs": [],
   "source": [
    "#Preparing and generating column for plotting\n",
    "hour_est_act_time_first[\"date\"] = hour_est_act_time_first.index.map(lambda x: x.strftime('%H H %a'))\n",
    "hour_est_act_time_first[\"pct_yellow_plot\"] = hour_est_act_time_first[\"pct_green\"] +hour_est_act_time_first[\"pct_yellow\"]\n",
    "hour_est_act_time_first[\"pct_red_plot\"] = hour_est_act_time_first[\"pct_yellow_plot\"] +hour_est_act_time_first[\"pct_red\"]"
   ]
  },
  {
   "cell_type": "code",
   "execution_count": 48,
   "metadata": {
    "scrolled": false
   },
   "outputs": [
    {
     "data": {
      "text/html": [
       "\n",
       "\n",
       "    <div class=\"bk-root\">\n",
       "        <div class=\"bk-plotdiv\" id=\"f2a03606-4f3f-4327-81b1-f1f320cf5edd\"></div>\n",
       "    </div>\n",
       "<script type=\"text/javascript\">\n",
       "  \n",
       "  (function(global) {\n",
       "    function now() {\n",
       "      return new Date();\n",
       "    }\n",
       "  \n",
       "    var force = false;\n",
       "  \n",
       "    if (typeof (window._bokeh_onload_callbacks) === \"undefined\" || force === true) {\n",
       "      window._bokeh_onload_callbacks = [];\n",
       "      window._bokeh_is_loading = undefined;\n",
       "    }\n",
       "  \n",
       "  \n",
       "    \n",
       "    if (typeof (window._bokeh_timeout) === \"undefined\" || force === true) {\n",
       "      window._bokeh_timeout = Date.now() + 0;\n",
       "      window._bokeh_failed_load = false;\n",
       "    }\n",
       "  \n",
       "    var NB_LOAD_WARNING = {'data': {'text/html':\n",
       "       \"<div style='background-color: #fdd'>\\n\"+\n",
       "       \"<p>\\n\"+\n",
       "       \"BokehJS does not appear to have successfully loaded. If loading BokehJS from CDN, this \\n\"+\n",
       "       \"may be due to a slow or bad network connection. Possible fixes:\\n\"+\n",
       "       \"</p>\\n\"+\n",
       "       \"<ul>\\n\"+\n",
       "       \"<li>re-rerun `output_notebook()` to attempt to load from CDN again, or</li>\\n\"+\n",
       "       \"<li>use INLINE resources instead, as so:</li>\\n\"+\n",
       "       \"</ul>\\n\"+\n",
       "       \"<code>\\n\"+\n",
       "       \"from bokeh.resources import INLINE\\n\"+\n",
       "       \"output_notebook(resources=INLINE)\\n\"+\n",
       "       \"</code>\\n\"+\n",
       "       \"</div>\"}};\n",
       "  \n",
       "    function display_loaded() {\n",
       "      if (window.Bokeh !== undefined) {\n",
       "        var el = document.getElementById(\"f2a03606-4f3f-4327-81b1-f1f320cf5edd\");\n",
       "        el.textContent = \"BokehJS \" + Bokeh.version + \" successfully loaded.\";\n",
       "      } else if (Date.now() < window._bokeh_timeout) {\n",
       "        setTimeout(display_loaded, 100)\n",
       "      }\n",
       "    }\n",
       "  \n",
       "    function run_callbacks() {\n",
       "      try {\n",
       "        window._bokeh_onload_callbacks.forEach(function(callback) { callback() });\n",
       "      }\n",
       "      finally {\n",
       "        delete window._bokeh_onload_callbacks\n",
       "      }\n",
       "      console.info(\"Bokeh: all callbacks have finished\");\n",
       "    }\n",
       "  \n",
       "    function load_libs(js_urls, callback) {\n",
       "      window._bokeh_onload_callbacks.push(callback);\n",
       "      if (window._bokeh_is_loading > 0) {\n",
       "        console.log(\"Bokeh: BokehJS is being loaded, scheduling callback at\", now());\n",
       "        return null;\n",
       "      }\n",
       "      if (js_urls == null || js_urls.length === 0) {\n",
       "        run_callbacks();\n",
       "        return null;\n",
       "      }\n",
       "      console.log(\"Bokeh: BokehJS not loaded, scheduling load and callback at\", now());\n",
       "      window._bokeh_is_loading = js_urls.length;\n",
       "      for (var i = 0; i < js_urls.length; i++) {\n",
       "        var url = js_urls[i];\n",
       "        var s = document.createElement('script');\n",
       "        s.src = url;\n",
       "        s.async = false;\n",
       "        s.onreadystatechange = s.onload = function() {\n",
       "          window._bokeh_is_loading--;\n",
       "          if (window._bokeh_is_loading === 0) {\n",
       "            console.log(\"Bokeh: all BokehJS libraries loaded\");\n",
       "            run_callbacks()\n",
       "          }\n",
       "        };\n",
       "        s.onerror = function() {\n",
       "          console.warn(\"failed to load library \" + url);\n",
       "        };\n",
       "        console.log(\"Bokeh: injecting script tag for BokehJS library: \", url);\n",
       "        document.getElementsByTagName(\"head\")[0].appendChild(s);\n",
       "      }\n",
       "    };var element = document.getElementById(\"f2a03606-4f3f-4327-81b1-f1f320cf5edd\");\n",
       "    if (element == null) {\n",
       "      console.log(\"Bokeh: ERROR: autoload.js configured with elementid 'f2a03606-4f3f-4327-81b1-f1f320cf5edd' but no matching script tag was found. \")\n",
       "      return false;\n",
       "    }\n",
       "  \n",
       "    var js_urls = [];\n",
       "  \n",
       "    var inline_js = [\n",
       "      function(Bokeh) {\n",
       "        (function() {\n",
       "          var fn = function() {\n",
       "            var docs_json = {\"c9e47d9b-bc93-4ddc-93c1-892955e4edd4\":{\"roots\":{\"references\":[{\"attributes\":{\"callback\":null},\"id\":\"53bd64fe-1142-4475-9125-b014aed65f0d\",\"type\":\"DataRange1d\"},{\"attributes\":{},\"id\":\"3a11ec47-6a24-4365-85ba-1e70a635b89d\",\"type\":\"CategoricalTicker\"},{\"attributes\":{\"callback\":null,\"column_names\":[\"total_red\",\"pct_yellow\",\"pct_red\",\"pct_yellow_plot\",\"count_red\",\"pct_red_plot\",\"pct_green\",\"total_yellow\",\"datetime_utc_berlin\",\"total_green\",\"count_green\",\"count_yellow\",\"date\"],\"data\":{\"count_green\":{\"__ndarray__\":\"AAAAAAAAREAAAAAAAABIQAAAAAAAAEJAAAAAAACAQkAAAAAAAABFQAAAAAAAgElAAAAAAACATkAAAAAAAABNQAAAAAAAADhAAAAAAAAAOkAAAAAAAAA9QAAAAAAAADlAAAAAAAAAOkAAAAAAAAA7QAAAAAAAADxAAAAAAAAAOkAAAAAAAABJQAAAAAAAAE5AAAAAAAAAQkAAAAAAAIBJQAAAAAAAgEFAAAAAAACASUAAAAAAAABEQAAAAAAAgEVAAAAAAAAATEAAAAAAAIBGQAAAAAAAADlAAAAAAAAAQkAAAAAAAAA7QAAAAAAAgEBAAAAAAACAR0AAAAAAAABJQA==\",\"dtype\":\"float64\",\"shape\":[32]},\"count_red\":{\"__ndarray__\":\"AAAAAAAALEAAAAAAAAAqQAAAAAAAABRAAAAAAAAAJkAAAAAAAAAcQAAAAAAAABRAAAAAAAAAIkAAAAAAAAAUQAAAAAAAABxAAAAAAAAACEAAAAAAAAAUQAAAAAAAACJAAAAAAAAALEAAAAAAAAAoQAAAAAAAABxAAAAAAAAA+H8AAAAAAAAUQAAAAAAAABRAAAAAAAAAEEAAAAAAAAAQQAAAAAAAACBAAAAAAAAAGEAAAAAAAAAUQAAAAAAAAChAAAAAAAAAFEAAAAAAAAAcQAAAAAAAAChAAAAAAAAAFEAAAAAAAAAiQAAAAAAAAAhAAAAAAAAACEAAAAAAAADwPw==\",\"dtype\":\"float64\",\"shape\":[32]},\"count_yellow\":{\"__ndarray__\":\"AAAAAAAAQEAAAAAAAAA3QAAAAAAAAC5AAAAAAAAAQ0AAAAAAAAAuQAAAAAAAACxAAAAAAAAAMkAAAAAAAAAuQAAAAAAAACZAAAAAAAAAIkAAAAAAAAAkQAAAAAAAAChAAAAAAAAAMkAAAAAAAAAqQAAAAAAAADNAAAAAAAAAIEAAAAAAAAA3QAAAAAAAADNAAAAAAAAAOEAAAAAAAAAzQAAAAAAAADlAAAAAAAAAJkAAAAAAAAA1QAAAAAAAAC5AAAAAAAAAHEAAAAAAAAAgQAAAAAAAACZAAAAAAAAAM0AAAAAAAAAoQAAAAAAAADBAAAAAAAAAMkAAAAAAAAAzQA==\",\"dtype\":\"float64\",\"shape\":[32]},\"date\":[\"18 H Fri\",\"19 H Fri\",\"20 H Fri\",\"21 H Fri\",\"22 H Fri\",\"23 H Fri\",\"00 H Sat\",\"01 H Sat\",\"10 H Sat\",\"11 H Sat\",\"12 H Sat\",\"13 H Sat\",\"14 H Sat\",\"15 H Sat\",\"16 H Sat\",\"17 H Sat\",\"18 H Sat\",\"19 H Sat\",\"20 H Sat\",\"21 H Sat\",\"22 H Sat\",\"23 H Sat\",\"00 H Sun\",\"01 H Sun\",\"10 H Sun\",\"11 H Sun\",\"12 H Sun\",\"13 H Sun\",\"14 H Sun\",\"15 H Sun\",\"16 H Sun\",\"17 H Sun\"],\"datetime_utc_berlin\":{\"__ndarray__\":\"AAAAV9nIdUIAAOjF3Mh1QgAA0DTgyHVCAAC4o+PIdUIAAKAS58h1QgAAiIHqyHVCAABw8O3IdUIAAFhf8ch1QgAAgEUQyXVCAABotBPJdUIAAFAjF8l1QgAAOJIayXVCAAAgAR7JdUIAAAhwIcl1QgAA8N4kyXVCAADYTSjJdUIAAMC8K8l1QgAAqCsvyXVCAACQmjLJdUIAAHgJNsl1QgAAYHg5yXVCAABI5zzJdUIAADBWQMl1QgAAGMVDyXVCAABAq2LJdUIAACgaZsl1QgAAEIlpyXVCAAD492zJdUIAAOBmcMl1QgAAyNVzyXVCAACwRHfJdUIAAJizesl1Qg==\",\"dtype\":\"float64\",\"shape\":[32]},\"pct_green\":{\"__ndarray__\":\"cUfcEXfE3T+SJEmSJEniPyVJkiRJkuQ/4o64I+6I2z8AAAAAAADlPwd1UAd1UOc/L7rooosu5j+4fMu3fMvnP5IkSZIkSeI/UV5DeQ3l5T8XXXTRRRflPxaykIUsZOE/1AjLPY2w3D/ZiZ3YiZ3gP3sJ7SW0l+A/eHh4eHh46D81SIM0SIPkP7dt27Zt2+Y/AAAAAAAA4j/dYIp81g3mP3h4eHh4eOA/AAAAAAAA6D9lk0022WTjP4Q6qIM6qOM/WlpaWlpa6j8AAAAAAADoP6uqqqqqquA/MzMzMzMz4z8AAAAAAADiP+zETuzETuQ/Hh4eHh4e5j+3bdu2bdvmPw==\",\"dtype\":\"float64\",\"shape\":[32]},\"pct_red\":{\"__ndarray__\":\"NmVNWVPWxD/0PM/zPM/DP7dt27Zt27Y/GPQFfUFfwD8AAAAAAAC8P5IkSZIkSbI/L7rooosuuj+QBmmQBmmwP1VVVVVVVcU/XkN5DeU1tD8XXXTRRRe9P5GFLGQhC8k/R1juaYTlzj+e2Imd2InNP3sJ7SW0l8A/AAAAAAAA+H+QBmmQBmmwP57neZ7nea4/AAAAAAAAsD/QusEU+ayrPx4eHh4eHr4/l5aWlpaWtj9lk0022WSzPxZf8RVf8cU/09LS0tLSsj/e3d3d3d29PwAAAAAAANA/VVVVVVVVtT8AAAAAAADIP57YiZ3Yia0/l5aWlpaWpj8d1EEd1EGNPw==\",\"dtype\":\"float64\",\"shape\":[32]},\"pct_red_plot\":{\"__ndarray__\":\"AAAAAAAA8D8AAAAAAADwPwAAAAAAAPA/AAAAAAAA8D8AAAAAAADwPwAAAAAAAPA/AAAAAAAA8D8AAAAAAADwP////////+8/AAAAAAAA8D8AAAAAAADwPwAAAAAAAPA/AAAAAAAA8D8AAAAAAADwPwAAAAAAAPA/AAAAAAAA+H8AAAAAAADwPwAAAAAAAPA/AAAAAAAA8D/////////vPwAAAAAAAPA/AAAAAAAA8D8AAAAAAADwPwAAAAAAAPA/////////7z8AAAAAAADwPwAAAAAAAPA/AAAAAAAA8D8AAAAAAADwPwAAAAAAAPA/////////7z8AAAAAAADwPw==\",\"dtype\":\"float64\",\"shape\":[32]},\"pct_yellow\":{\"__ndarray__\":\"9AV9QV/Q1z9iGIZhGIbRP0mSJEmSJNE/EnfEHXFH3D8AAAAAAADOP5qZmZmZmck/L7rooosuyj/ZiZ3YiZ3IPzEMwzAMw9A/DeU1lNdQzj8XXXTRRRfNPwtZyEIWstA/Ccs9jbDc0z8AAAAAAADQP0xoL6G9hNY/Hh4eHh4ezj/zLd/yLd/SPz3P8zzP88w/AAAAAAAA2D/rBlPks27QP4iHh4eHh9c/tbS0tLS0xD9ddNFFF13UP9u2bdu2bcs/WlpaWlpauj8RERERERHBP1VVVVVVVc0/RERERERE1D8AAAAAAADQPxQ7sRM7sdM/8fDw8PDw0D/xFV/xFV/RPw==\",\"dtype\":\"float64\",\"shape\":[32]},\"pct_yellow_plot\":{\"__ndarray__\":\"sqasKWvK6j/DMAzDMAzrP0qSJEmSJO0/+oK+oC/o6z8AAAAAAIDsP27btm3btu0/u+iiiy667D8u3/It3/LtP6qqqqqqquo/lNdQXkN57T9ddNFFF13sP5ze9KY3vek/7mmE5Z5G6D/ZiZ3YiZ3oP6G9hPYS2us/AAAAAAAA8D8u3/It3/LtP4ZhGIZhGO4/AAAAAAAA7j9S5LNuMEXuPzw8PDw8POw/LS0tLS0t7T+UTTbZZJPtPzuogzqog+o/paWlpaWl7T9ERERERETsPwAAAAAAAOg/VVVVVVVV7T8AAAAAAADqP3ZiJ3ZiJ+4/lpaWlpaW7j+w+Iqv+IrvPw==\",\"dtype\":\"float64\",\"shape\":[32]},\"total_green\":{\"__ndarray__\":\"AAAAAACAVUAAAAAAAABVQAAAAAAAAExAAAAAAACAVUAAAAAAAABQQAAAAAAAgFFAAAAAAAAAVkAAAAAAAIBTQAAAAAAAAEVAAAAAAAAAQ0AAAAAAAABGQAAAAAAAAEdAAAAAAAAATUAAAAAAAABKQAAAAAAAAEtAAAAAAAAAQUAAAAAAAIBTQAAAAAAAAFVAAAAAAAAAUEAAAAAAAIBSQAAAAAAAAFFAAAAAAAAAUUAAAAAAAIBQQAAAAAAAgFFAAAAAAAAAUUAAAAAAAABOQAAAAAAAAEhAAAAAAAAATkAAAAAAAABIQAAAAAAAAEpAAAAAAAAAUUAAAAAAAIBRQA==\",\"dtype\":\"float64\",\"shape\":[32]},\"total_red\":{\"__ndarray__\":\"AAAAAACAVUAAAAAAAABVQAAAAAAAAExAAAAAAACAVUAAAAAAAABQQAAAAAAAgFFAAAAAAAAAVkAAAAAAAIBTQAAAAAAAAEVAAAAAAAAAQ0AAAAAAAABGQAAAAAAAAEdAAAAAAAAATUAAAAAAAABKQAAAAAAAAEtAAAAAAAAA+H8AAAAAAIBTQAAAAAAAAFVAAAAAAAAAUEAAAAAAAIBSQAAAAAAAAFFAAAAAAAAAUUAAAAAAAIBQQAAAAAAAgFFAAAAAAAAAUUAAAAAAAABOQAAAAAAAAEhAAAAAAAAATkAAAAAAAABIQAAAAAAAAEpAAAAAAAAAUUAAAAAAAIBRQA==\",\"dtype\":\"float64\",\"shape\":[32]},\"total_yellow\":{\"__ndarray__\":\"AAAAAACAVUAAAAAAAABVQAAAAAAAAExAAAAAAACAVUAAAAAAAABQQAAAAAAAgFFAAAAAAAAAVkAAAAAAAIBTQAAAAAAAAEVAAAAAAAAAQ0AAAAAAAABGQAAAAAAAAEdAAAAAAAAATUAAAAAAAABKQAAAAAAAAEtAAAAAAAAAQUAAAAAAAIBTQAAAAAAAAFVAAAAAAAAAUEAAAAAAAIBSQAAAAAAAAFFAAAAAAAAAUUAAAAAAAIBQQAAAAAAAgFFAAAAAAAAAUUAAAAAAAABOQAAAAAAAAEhAAAAAAAAATkAAAAAAAABIQAAAAAAAAEpAAAAAAAAAUUAAAAAAAIBRQA==\",\"dtype\":\"float64\",\"shape\":[32]}}},\"id\":\"2c786072-db87-4b51-b944-3c98d8e49988\",\"type\":\"ColumnDataSource\"},{\"attributes\":{\"data_source\":{\"id\":\"2c786072-db87-4b51-b944-3c98d8e49988\",\"type\":\"ColumnDataSource\"},\"glyph\":{\"id\":\"c1ee6029-6708-4e78-8123-35b56f4fe211\",\"type\":\"VBar\"},\"hover_glyph\":null,\"muted_glyph\":null,\"nonselection_glyph\":{\"id\":\"ba9f2a11-4166-479e-95d6-683954331f57\",\"type\":\"VBar\"},\"selection_glyph\":null},\"id\":\"e8bd3e6f-8b93-4e26-b6fc-c1aca06f8eab\",\"type\":\"GlyphRenderer\"},{\"attributes\":{\"callback\":null,\"plot\":{\"id\":\"f40c2514-bcc5-475c-9356-284d37ce0bdf\",\"subtype\":\"Figure\",\"type\":\"Plot\"},\"tooltips\":[[\"pct. green\",\"@pct_green{(0.00%)}\"],[\"pct. yellow\",\"@pct_yellow{(0.00%)}\"],[\"pct. red\",\"@pct_red{(0.00%)}\"]]},\"id\":\"99bb321d-9f6c-4ff5-ad0d-1006d010978d\",\"type\":\"HoverTool\"},{\"attributes\":{\"active_drag\":\"auto\",\"active_inspect\":\"auto\",\"active_scroll\":\"auto\",\"active_tap\":\"auto\",\"tools\":[{\"id\":\"99bb321d-9f6c-4ff5-ad0d-1006d010978d\",\"type\":\"HoverTool\"}]},\"id\":\"da7bdfb6-b339-42c5-b39e-d1795d4403b8\",\"type\":\"Toolbar\"},{\"attributes\":{\"bottom\":{\"field\":\"pct_green\"},\"fill_color\":{\"value\":\"#E4E02C\"},\"line_color\":{\"value\":\"#E4E02C\"},\"top\":{\"field\":\"pct_yellow_plot\"},\"width\":{\"value\":0.7},\"x\":{\"field\":\"date\"}},\"id\":\"421b4f6e-cc7d-42ad-bb22-7e1b7652bed6\",\"type\":\"VBar\"},{\"attributes\":{\"fill_alpha\":{\"value\":0.1},\"fill_color\":{\"value\":\"#1f77b4\"},\"line_alpha\":{\"value\":0.1},\"line_color\":{\"value\":\"#1f77b4\"},\"top\":{\"field\":\"pct_green\"},\"width\":{\"value\":0.7},\"x\":{\"field\":\"date\"}},\"id\":\"ba9f2a11-4166-479e-95d6-683954331f57\",\"type\":\"VBar\"},{\"attributes\":{\"bottom\":{\"field\":\"pct_green\"},\"fill_alpha\":{\"value\":0.1},\"fill_color\":{\"value\":\"#1f77b4\"},\"line_alpha\":{\"value\":0.1},\"line_color\":{\"value\":\"#1f77b4\"},\"top\":{\"field\":\"pct_yellow_plot\"},\"width\":{\"value\":0.7},\"x\":{\"field\":\"date\"}},\"id\":\"4a3a66a7-4dd2-447b-af0c-1dca2f37089c\",\"type\":\"VBar\"},{\"attributes\":{\"callback\":null,\"factors\":[\"18 H Fri\",\"19 H Fri\",\"20 H Fri\",\"21 H Fri\",\"22 H Fri\",\"23 H Fri\",\"00 H Sat\",\"01 H Sat\",\"10 H Sat\",\"11 H Sat\",\"12 H Sat\",\"13 H Sat\",\"14 H Sat\",\"15 H Sat\",\"16 H Sat\",\"17 H Sat\",\"18 H Sat\",\"19 H Sat\",\"20 H Sat\",\"21 H Sat\",\"22 H Sat\",\"23 H Sat\",\"00 H Sun\",\"01 H Sun\",\"10 H Sun\",\"11 H Sun\",\"12 H Sun\",\"13 H Sun\",\"14 H Sun\",\"15 H Sun\",\"16 H Sun\",\"17 H Sun\"]},\"id\":\"ae421ee1-8d06-4a9f-b532-b987183c2c57\",\"type\":\"FactorRange\"},{\"attributes\":{},\"id\":\"52291c9a-e5f3-4d14-8128-1097be20fc54\",\"type\":\"CategoricalScale\"},{\"attributes\":{\"data_source\":{\"id\":\"2c786072-db87-4b51-b944-3c98d8e49988\",\"type\":\"ColumnDataSource\"},\"glyph\":{\"id\":\"9bde9b91-cbf4-428e-9812-81a304efc9a1\",\"type\":\"VBar\"},\"hover_glyph\":null,\"muted_glyph\":null,\"nonselection_glyph\":{\"id\":\"412ba588-aa04-438e-ad16-dfb1bc53700d\",\"type\":\"VBar\"},\"selection_glyph\":null},\"id\":\"12269a82-ab8e-40ce-bec8-924e079f1295\",\"type\":\"GlyphRenderer\"},{\"attributes\":{},\"id\":\"0dd50f05-f1d1-4cf5-9dac-441667f29b60\",\"type\":\"LinearScale\"},{\"attributes\":{},\"id\":\"cc4287f3-105c-4f95-9305-b13bc130292d\",\"type\":\"BasicTickFormatter\"},{\"attributes\":{\"bottom\":{\"field\":\"pct_yellow_plot\"},\"fill_color\":{\"value\":\"#E43216\"},\"line_color\":{\"value\":\"#E43216\"},\"top\":{\"field\":\"pct_red_plot\"},\"width\":{\"value\":0.7},\"x\":{\"field\":\"date\"}},\"id\":\"9bde9b91-cbf4-428e-9812-81a304efc9a1\",\"type\":\"VBar\"},{\"attributes\":{\"plot\":null,\"text\":\"\"},\"id\":\"1779d3c0-9ebe-46ed-92ab-21e804a1ca1f\",\"type\":\"Title\"},{\"attributes\":{},\"id\":\"473df3ca-315c-46c2-a7b0-31e934070aa0\",\"type\":\"ToolEvents\"},{\"attributes\":{\"align\":\"center\",\"plot\":{\"id\":\"f40c2514-bcc5-475c-9356-284d37ce0bdf\",\"subtype\":\"Figure\",\"type\":\"Plot\"},\"text\":\"Thresholds per hour/day\",\"text_font_size\":{\"value\":\"12pt\"}},\"id\":\"cf3ce139-9ab9-4520-9100-41d0067e4304\",\"type\":\"Title\"},{\"attributes\":{\"plot\":{\"id\":\"f40c2514-bcc5-475c-9356-284d37ce0bdf\",\"subtype\":\"Figure\",\"type\":\"Plot\"},\"ticker\":{\"id\":\"3a11ec47-6a24-4365-85ba-1e70a635b89d\",\"type\":\"CategoricalTicker\"},\"visible\":false},\"id\":\"c9182a24-813e-4e1f-848b-eb8c9096386a\",\"type\":\"Grid\"},{\"attributes\":{},\"id\":\"4a3bfc2f-c09b-4e34-868b-d8d7ffe7cb59\",\"type\":\"CategoricalTickFormatter\"},{\"attributes\":{\"bottom\":{\"field\":\"pct_yellow_plot\"},\"fill_alpha\":{\"value\":0.1},\"fill_color\":{\"value\":\"#1f77b4\"},\"line_alpha\":{\"value\":0.1},\"line_color\":{\"value\":\"#1f77b4\"},\"top\":{\"field\":\"pct_red_plot\"},\"width\":{\"value\":0.7},\"x\":{\"field\":\"date\"}},\"id\":\"412ba588-aa04-438e-ad16-dfb1bc53700d\",\"type\":\"VBar\"},{\"attributes\":{},\"id\":\"9f971969-1436-40fc-aadb-eab6367c6532\",\"type\":\"BasicTicker\"},{\"attributes\":{\"axis_label\":\"Dates\",\"formatter\":{\"id\":\"4a3bfc2f-c09b-4e34-868b-d8d7ffe7cb59\",\"type\":\"CategoricalTickFormatter\"},\"major_label_orientation\":0.7853981633974483,\"plot\":{\"id\":\"f40c2514-bcc5-475c-9356-284d37ce0bdf\",\"subtype\":\"Figure\",\"type\":\"Plot\"},\"ticker\":{\"id\":\"3a11ec47-6a24-4365-85ba-1e70a635b89d\",\"type\":\"CategoricalTicker\"}},\"id\":\"e691df25-1d5c-42b7-a24e-c8e6091214b3\",\"type\":\"CategoricalAxis\"},{\"attributes\":{\"axis_label\":\"Percentage\",\"formatter\":{\"id\":\"cc4287f3-105c-4f95-9305-b13bc130292d\",\"type\":\"BasicTickFormatter\"},\"plot\":{\"id\":\"f40c2514-bcc5-475c-9356-284d37ce0bdf\",\"subtype\":\"Figure\",\"type\":\"Plot\"},\"ticker\":{\"id\":\"9f971969-1436-40fc-aadb-eab6367c6532\",\"type\":\"BasicTicker\"}},\"id\":\"31726829-fcf1-4475-86db-c7d6893504f0\",\"type\":\"LinearAxis\"},{\"attributes\":{\"dimension\":1,\"plot\":{\"id\":\"f40c2514-bcc5-475c-9356-284d37ce0bdf\",\"subtype\":\"Figure\",\"type\":\"Plot\"},\"ticker\":{\"id\":\"9f971969-1436-40fc-aadb-eab6367c6532\",\"type\":\"BasicTicker\"},\"visible\":false},\"id\":\"7d018259-ba16-42bd-a310-46668eedd21e\",\"type\":\"Grid\"},{\"attributes\":{\"data_source\":{\"id\":\"2c786072-db87-4b51-b944-3c98d8e49988\",\"type\":\"ColumnDataSource\"},\"glyph\":{\"id\":\"421b4f6e-cc7d-42ad-bb22-7e1b7652bed6\",\"type\":\"VBar\"},\"hover_glyph\":null,\"muted_glyph\":null,\"nonselection_glyph\":{\"id\":\"4a3a66a7-4dd2-447b-af0c-1dca2f37089c\",\"type\":\"VBar\"},\"selection_glyph\":null},\"id\":\"96db4a1e-f69c-46d9-8da9-5db16c58697f\",\"type\":\"GlyphRenderer\"},{\"attributes\":{\"fill_color\":{\"value\":\"#459E0F\"},\"line_color\":{\"value\":\"#459E0F\"},\"top\":{\"field\":\"pct_green\"},\"width\":{\"value\":0.7},\"x\":{\"field\":\"date\"}},\"id\":\"c1ee6029-6708-4e78-8123-35b56f4fe211\",\"type\":\"VBar\"},{\"attributes\":{\"above\":[{\"id\":\"cf3ce139-9ab9-4520-9100-41d0067e4304\",\"type\":\"Title\"}],\"below\":[{\"id\":\"e691df25-1d5c-42b7-a24e-c8e6091214b3\",\"type\":\"CategoricalAxis\"}],\"left\":[{\"id\":\"31726829-fcf1-4475-86db-c7d6893504f0\",\"type\":\"LinearAxis\"}],\"plot_height\":400,\"plot_width\":800,\"renderers\":[{\"id\":\"e691df25-1d5c-42b7-a24e-c8e6091214b3\",\"type\":\"CategoricalAxis\"},{\"id\":\"c9182a24-813e-4e1f-848b-eb8c9096386a\",\"type\":\"Grid\"},{\"id\":\"31726829-fcf1-4475-86db-c7d6893504f0\",\"type\":\"LinearAxis\"},{\"id\":\"7d018259-ba16-42bd-a310-46668eedd21e\",\"type\":\"Grid\"},{\"id\":\"e8bd3e6f-8b93-4e26-b6fc-c1aca06f8eab\",\"type\":\"GlyphRenderer\"},{\"id\":\"96db4a1e-f69c-46d9-8da9-5db16c58697f\",\"type\":\"GlyphRenderer\"},{\"id\":\"12269a82-ab8e-40ce-bec8-924e079f1295\",\"type\":\"GlyphRenderer\"},{\"id\":\"cf3ce139-9ab9-4520-9100-41d0067e4304\",\"type\":\"Title\"}],\"title\":{\"id\":\"1779d3c0-9ebe-46ed-92ab-21e804a1ca1f\",\"type\":\"Title\"},\"tool_events\":{\"id\":\"473df3ca-315c-46c2-a7b0-31e934070aa0\",\"type\":\"ToolEvents\"},\"toolbar\":{\"id\":\"da7bdfb6-b339-42c5-b39e-d1795d4403b8\",\"type\":\"Toolbar\"},\"x_range\":{\"id\":\"ae421ee1-8d06-4a9f-b532-b987183c2c57\",\"type\":\"FactorRange\"},\"x_scale\":{\"id\":\"52291c9a-e5f3-4d14-8128-1097be20fc54\",\"type\":\"CategoricalScale\"},\"y_range\":{\"id\":\"53bd64fe-1142-4475-9125-b014aed65f0d\",\"type\":\"DataRange1d\"},\"y_scale\":{\"id\":\"0dd50f05-f1d1-4cf5-9dac-441667f29b60\",\"type\":\"LinearScale\"}},\"id\":\"f40c2514-bcc5-475c-9356-284d37ce0bdf\",\"subtype\":\"Figure\",\"type\":\"Plot\"}],\"root_ids\":[\"f40c2514-bcc5-475c-9356-284d37ce0bdf\"]},\"title\":\"Bokeh Application\",\"version\":\"0.12.6\"}};\n",
       "            var render_items = [{\"docid\":\"c9e47d9b-bc93-4ddc-93c1-892955e4edd4\",\"elementid\":\"f2a03606-4f3f-4327-81b1-f1f320cf5edd\",\"modelid\":\"f40c2514-bcc5-475c-9356-284d37ce0bdf\"}];\n",
       "            \n",
       "            Bokeh.embed.embed_items(docs_json, render_items);\n",
       "          };\n",
       "          if (document.readyState != \"loading\") fn();\n",
       "          else document.addEventListener(\"DOMContentLoaded\", fn);\n",
       "        })();\n",
       "      },\n",
       "      function(Bokeh) {\n",
       "      }\n",
       "    ];\n",
       "  \n",
       "    function run_inline_js() {\n",
       "      \n",
       "      if ((window.Bokeh !== undefined) || (force === true)) {\n",
       "        for (var i = 0; i < inline_js.length; i++) {\n",
       "          inline_js[i](window.Bokeh);\n",
       "        }if (force === true) {\n",
       "          display_loaded();\n",
       "        }} else if (Date.now() < window._bokeh_timeout) {\n",
       "        setTimeout(run_inline_js, 100);\n",
       "      } else if (!window._bokeh_failed_load) {\n",
       "        console.log(\"Bokeh: BokehJS failed to load within specified timeout.\");\n",
       "        window._bokeh_failed_load = true;\n",
       "      } else if (force !== true) {\n",
       "        var cell = $(document.getElementById(\"f2a03606-4f3f-4327-81b1-f1f320cf5edd\")).parents('.cell').data().cell;\n",
       "        cell.output_area.append_execute_result(NB_LOAD_WARNING)\n",
       "      }\n",
       "  \n",
       "    }\n",
       "  \n",
       "    if (window._bokeh_is_loading === 0) {\n",
       "      console.log(\"Bokeh: BokehJS loaded, going straight to plotting\");\n",
       "      run_inline_js();\n",
       "    } else {\n",
       "      load_libs(js_urls, function() {\n",
       "        console.log(\"Bokeh: BokehJS plotting callback run at\", now());\n",
       "        run_inline_js();\n",
       "      });\n",
       "    }\n",
       "  }(this));\n",
       "</script>"
      ]
     },
     "metadata": {},
     "output_type": "display_data"
    }
   ],
   "source": [
    "#Plotting hour day thresholds\n",
    "source = ColumnDataSource(hour_est_act_time_first)\n",
    "hover = HoverTool(tooltips=[\n",
    "    (\"pct. green\", \"@pct_green{(0.00%)}\"),\n",
    "    (\"pct. yellow\", \"@pct_yellow{(0.00%)}\"),\n",
    "    (\"pct. red\", \"@pct_red{(0.00%)}\"),\n",
    "    ])\n",
    "p = figure(plot_width=800, plot_height=400, x_range=list(hour_est_act_time_first[\"date\"]) ,x_axis_label=\"Dates\", \n",
    "        y_axis_label=\"Percentage\", tools=[hover])\n",
    "#Plotting green first\n",
    "p.vbar(x='date', width=0.7, top='pct_green', \n",
    "           color=\"#459E0F\", source=source)\n",
    "p.vbar(x='date', width=0.7, bottom='pct_green', top=\"pct_yellow_plot\",\n",
    "           color=\"#E4E02C\", source=source)\n",
    "p.vbar(x='date', width=0.7, bottom=\"pct_yellow_plot\", top=\"pct_red_plot\",\n",
    "           color=\"#E43216\", source=source)\n",
    "p.add_layout(Title(text=\"Thresholds per hour/day\", align=\"center\", text_font_size=\"12pt\"), \n",
    "             \"above\")\n",
    "p.xgrid.visible = False\n",
    "p.ygrid.visible = False\n",
    "p.xaxis.major_label_orientation = pi/4\n",
    "show(p)"
   ]
  },
  {
   "cell_type": "markdown",
   "metadata": {},
   "source": [
    "In terms of days and hours we can see that there are certain times where ally incurs in more delays. For example, on Friday, at initial hours, when the demand was very high, we can observe that the yellow and red regions are bigger than the green region. \n",
    "\n",
    "Interestingly, we can also observe this trend in low peak turns. See for example Saturday at 14 hours. Even though this was a relatively low peak moment (see Exploratory analysis), we can see that ally still incurs in some delays. There might be different reasons why this might be the case. For example, perhaps the routes requested at that hour were farther away or, perhaps, there was a traffic jam that delayed all services. This can be a task for further analysis."
   ]
  },
  {
   "cell_type": "markdown",
   "metadata": {},
   "source": [
    "# Conclusions "
   ]
  },
  {
   "cell_type": "markdown",
   "metadata": {},
   "source": [
    "In this analysis we checked the differences between expected and actual times in the allygator shuttle service provided by door2door. In particular, we offered a way of clearly communicating and understanding the differences between these two measures both quantitatively and visually.\n",
    "\n",
    "Our indicator is inspired on a traffic light. We indicate three thresholds for actual pick ups and drop off times: within +/- 3 minutes of expected time (green light), +/- 3-7 minutes (yellow light) and >< 7 min (red light). The thresholds have been chosen based on author's user experience. An improve upon this point could be to use actual consumer data to get thresholds based on their behavior.\n",
    "\n",
    "We separated the analysis in two measures of differences. First, we measured the differences between last expected time reported to the user and actual time of service. According to our analysis, two thirds of the services are in the green area, in other words, they take place within 3 minutes of expected time. These conclusions, in general, hold when analyzing drop offs and pick ups separately, although we could observe that the yellow area grows to 20% for the pick ups.\n",
    "\n",
    "As a next step we performed the same analysis but for the first expected time reported to the user when he/she request a ride. The logic behind this analysis is that user's experience with service may deteriorate if first expected time reported widely differs from actual time. Our analysis showed that while the difference do tend to be bigger than for the updated expected time, in general pick ups where still high in the green region. Drop offs do present more difference. In that case a bit more over 50% are caried out within 3 minutes. This gives considerable improving space for estimating and reporting the first drop off expectation.\n",
    "\n",
    "Finally, we conducted the same analysis but for hour/days of the service. As it was expected, times where the demand is higher is also related to more differences in expected vs. actual time. However, we have also spotted some low peak hours where differences between times are also considerable. This demands further analysis.\n",
    "\n",
    "\n"
   ]
  },
  {
   "cell_type": "code",
   "execution_count": null,
   "metadata": {
    "collapsed": true
   },
   "outputs": [],
   "source": []
  }
 ],
 "metadata": {
  "kernelspec": {
   "display_name": "Python 3",
   "language": "python",
   "name": "python3"
  },
  "language_info": {
   "codemirror_mode": {
    "name": "ipython",
    "version": 3
   },
   "file_extension": ".py",
   "mimetype": "text/x-python",
   "name": "python",
   "nbconvert_exporter": "python",
   "pygments_lexer": "ipython3",
   "version": "3.5.4"
  }
 },
 "nbformat": 4,
 "nbformat_minor": 2
}
